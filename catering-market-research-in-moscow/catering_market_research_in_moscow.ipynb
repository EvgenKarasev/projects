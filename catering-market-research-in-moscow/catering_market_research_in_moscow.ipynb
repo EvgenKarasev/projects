{
 "cells": [
  {
   "cell_type": "markdown",
   "id": "a3c00cfd",
   "metadata": {},
   "source": [
    "# Рынок заведений общественного питания Москвы"
   ]
  },
  {
   "cell_type": "markdown",
   "id": "5bc5db22",
   "metadata": {},
   "source": [
    "## Описание проекта"
   ]
  },
  {
   "cell_type": "markdown",
   "id": "6bd45251",
   "metadata": {},
   "source": [
    "Вы решили открыть небольшое кафе в Москве. Оно оригинальное — гостей должны обслуживать роботы. Проект многообещающий, но дорогой. Вместе с партнёрами вы решились обратиться к инвесторам. Их интересует текущее положение дел на рынке — сможете ли вы снискать популярность на долгое время, когда все зеваки насмотрятся на роботов-официантов?\n",
    "\n",
    "Вы — гуру аналитики, и партнёры просят вас подготовить исследование рынка. У вас есть открытые данные о заведениях общественного питания в Москве."
   ]
  },
  {
   "cell_type": "markdown",
   "id": "fcd7918c",
   "metadata": {
    "toc": true
   },
   "source": [
    "<h1>Содержание:<span class=\"tocSkip\"></span></h1>\n",
    "<div class=\"toc\"><ul class=\"toc-item\"><li><span><a href=\"#Описание-проекта\" data-toc-modified-id=\"Описание-проекта-1\"><span class=\"toc-item-num\">1&nbsp;&nbsp;</span>Описание проекта</a></span></li><li><span><a href=\"#Основная-информация-и-предобработка-данных\" data-toc-modified-id=\"Основная-информация-и-предобработка-данных-2\"><span class=\"toc-item-num\">2&nbsp;&nbsp;</span>Основная информация и предобработка данных</a></span><ul class=\"toc-item\"><li><span><a href=\"#Предобработка-данных\" data-toc-modified-id=\"Предобработка-данных-2.1\"><span class=\"toc-item-num\">2.1&nbsp;&nbsp;</span>Предобработка данных</a></span></li><li><span><a href=\"#Вывод\" data-toc-modified-id=\"Вывод-2.2\"><span class=\"toc-item-num\">2.2&nbsp;&nbsp;</span>Вывод</a></span></li></ul></li><li><span><a href=\"#Анализ-данных\" data-toc-modified-id=\"Анализ-данных-3\"><span class=\"toc-item-num\">3&nbsp;&nbsp;</span>Анализ данных</a></span><ul class=\"toc-item\"><li><span><a href=\"#Исследование-соотношения-видов-объектов-общественного-питания-по-количеству\" data-toc-modified-id=\"Исследование-соотношения-видов-объектов-общественного-питания-по-количеству-3.1\"><span class=\"toc-item-num\">3.1&nbsp;&nbsp;</span>Исследование соотношения видов объектов общественного питания по количеству</a></span></li><li><span><a href=\"#Исследование-соотношения-сетевых-и-несетевых-заведений-по-количеству\" data-toc-modified-id=\"Исследование-соотношения-сетевых-и-несетевых-заведений-по-количеству-3.2\"><span class=\"toc-item-num\">3.2&nbsp;&nbsp;</span>Исследование соотношения сетевых и несетевых заведений по количеству</a></span></li><li><span><a href=\"#Для-какого-вида-объекта-общественного-питания-характерно-сетевое-распространение?\" data-toc-modified-id=\"Для-какого-вида-объекта-общественного-питания-характерно-сетевое-распространение?-3.3\"><span class=\"toc-item-num\">3.3&nbsp;&nbsp;</span>Для какого вида объекта общественного питания характерно сетевое распространение?</a></span></li><li><span><a href=\"#Что-характерно-для-сетевых-заведений?\" data-toc-modified-id=\"Что-характерно-для-сетевых-заведений?-3.4\"><span class=\"toc-item-num\">3.4&nbsp;&nbsp;</span>Что характерно для сетевых заведений?</a></span></li><li><span><a href=\"#Среднее-количество-посадочных-мест-для-каждого-вида-объекта-ОП\" data-toc-modified-id=\"Среднее-количество-посадочных-мест-для-каждого-вида-объекта-ОП-3.5\"><span class=\"toc-item-num\">3.5&nbsp;&nbsp;</span>Среднее количество посадочных мест для каждого вида объекта ОП</a></span></li><li><span><a href=\"#Информация-об-улицах\" data-toc-modified-id=\"Информация-об-улицах-3.6\"><span class=\"toc-item-num\">3.6&nbsp;&nbsp;</span>Информация об улицах</a></span></li><li><span><a href=\"#ТОП---10-улиц-по-количеству-объектов-ОП\" data-toc-modified-id=\"ТОП---10-улиц-по-количеству-объектов-ОП-3.7\"><span class=\"toc-item-num\">3.7&nbsp;&nbsp;</span>ТОП - 10 улиц по количеству объектов ОП</a></span></li><li><span><a href=\"#Улицы-с-одним-объектом-ОП\" data-toc-modified-id=\"Улицы-с-одним-объектом-ОП-3.8\"><span class=\"toc-item-num\">3.8&nbsp;&nbsp;</span>Улицы с одним объектом ОП</a></span></li><li><span><a href=\"#Распределение-количества-посадочных-мест-для-улиц-с-большим-количеством-объектов-ОП\" data-toc-modified-id=\"Распределение-количества-посадочных-мест-для-улиц-с-большим-количеством-объектов-ОП-3.9\"><span class=\"toc-item-num\">3.9&nbsp;&nbsp;</span>Распределение количества посадочных мест для улиц с большим количеством объектов ОП</a></span></li><li><span><a href=\"#Вывод\" data-toc-modified-id=\"Вывод-3.10\"><span class=\"toc-item-num\">3.10&nbsp;&nbsp;</span>Вывод</a></span></li></ul></li><li><span><a href=\"#Презентация\" data-toc-modified-id=\"Презентация-4\"><span class=\"toc-item-num\">4&nbsp;&nbsp;</span>Презентация</a></span></li></ul></div>"
   ]
  },
  {
   "cell_type": "markdown",
   "id": "9df6699c",
   "metadata": {},
   "source": [
    "## Основная информация и предобработка данных"
   ]
  },
  {
   "cell_type": "markdown",
   "id": "af4922a0",
   "metadata": {},
   "source": [
    "Импортируем необходимые библиотеки"
   ]
  },
  {
   "cell_type": "code",
   "execution_count": 1,
   "id": "2d5837e3",
   "metadata": {},
   "outputs": [],
   "source": [
    "import pandas as pd\n",
    "import re\n",
    "import matplotlib as mpl\n",
    "import matplotlib.pyplot as plt\n",
    "import seaborn as sns\n",
    "import numpy as np"
   ]
  },
  {
   "cell_type": "markdown",
   "id": "014cabc5",
   "metadata": {},
   "source": [
    "Сохраним данные в датафрейм df"
   ]
  },
  {
   "cell_type": "code",
   "execution_count": 2,
   "id": "1a58adc3",
   "metadata": {},
   "outputs": [],
   "source": [
    "try:\n",
    "    df = pd.read_csv('rest_data.csv', sep=',')\n",
    "except:\n",
    "    df = pd.read_csv('/datasets/rest_data.csv', sep=',')"
   ]
  },
  {
   "cell_type": "markdown",
   "id": "00d4da8a",
   "metadata": {},
   "source": [
    "Выведим данные, первые 5 строк"
   ]
  },
  {
   "cell_type": "code",
   "execution_count": 3,
   "id": "317c62bd",
   "metadata": {
    "scrolled": true
   },
   "outputs": [
    {
     "data": {
      "text/html": [
       "<div>\n",
       "<style scoped>\n",
       "    .dataframe tbody tr th:only-of-type {\n",
       "        vertical-align: middle;\n",
       "    }\n",
       "\n",
       "    .dataframe tbody tr th {\n",
       "        vertical-align: top;\n",
       "    }\n",
       "\n",
       "    .dataframe thead th {\n",
       "        text-align: right;\n",
       "    }\n",
       "</style>\n",
       "<table border=\"1\" class=\"dataframe\">\n",
       "  <thead>\n",
       "    <tr style=\"text-align: right;\">\n",
       "      <th></th>\n",
       "      <th>id</th>\n",
       "      <th>object_name</th>\n",
       "      <th>chain</th>\n",
       "      <th>object_type</th>\n",
       "      <th>address</th>\n",
       "      <th>number</th>\n",
       "    </tr>\n",
       "  </thead>\n",
       "  <tbody>\n",
       "    <tr>\n",
       "      <th>0</th>\n",
       "      <td>151635</td>\n",
       "      <td>СМЕТАНА</td>\n",
       "      <td>нет</td>\n",
       "      <td>кафе</td>\n",
       "      <td>город Москва, улица Егора Абакумова, дом 9</td>\n",
       "      <td>48</td>\n",
       "    </tr>\n",
       "    <tr>\n",
       "      <th>1</th>\n",
       "      <td>77874</td>\n",
       "      <td>Родник</td>\n",
       "      <td>нет</td>\n",
       "      <td>кафе</td>\n",
       "      <td>город Москва, улица Талалихина, дом 2/1, корпус 1</td>\n",
       "      <td>35</td>\n",
       "    </tr>\n",
       "    <tr>\n",
       "      <th>2</th>\n",
       "      <td>24309</td>\n",
       "      <td>Кафе «Академия»</td>\n",
       "      <td>нет</td>\n",
       "      <td>кафе</td>\n",
       "      <td>город Москва, Абельмановская улица, дом 6</td>\n",
       "      <td>95</td>\n",
       "    </tr>\n",
       "    <tr>\n",
       "      <th>3</th>\n",
       "      <td>21894</td>\n",
       "      <td>ПИЦЦЕТОРИЯ</td>\n",
       "      <td>да</td>\n",
       "      <td>кафе</td>\n",
       "      <td>город Москва, Абрамцевская улица, дом 1</td>\n",
       "      <td>40</td>\n",
       "    </tr>\n",
       "    <tr>\n",
       "      <th>4</th>\n",
       "      <td>119365</td>\n",
       "      <td>Кафе «Вишневая метель»</td>\n",
       "      <td>нет</td>\n",
       "      <td>кафе</td>\n",
       "      <td>город Москва, Абрамцевская улица, дом 9, корпус 1</td>\n",
       "      <td>50</td>\n",
       "    </tr>\n",
       "  </tbody>\n",
       "</table>\n",
       "</div>"
      ],
      "text/plain": [
       "       id             object_name chain object_type  \\\n",
       "0  151635                 СМЕТАНА   нет        кафе   \n",
       "1   77874                  Родник   нет        кафе   \n",
       "2   24309         Кафе «Академия»   нет        кафе   \n",
       "3   21894              ПИЦЦЕТОРИЯ    да        кафе   \n",
       "4  119365  Кафе «Вишневая метель»   нет        кафе   \n",
       "\n",
       "                                             address  number  \n",
       "0         город Москва, улица Егора Абакумова, дом 9      48  \n",
       "1  город Москва, улица Талалихина, дом 2/1, корпус 1      35  \n",
       "2          город Москва, Абельмановская улица, дом 6      95  \n",
       "3            город Москва, Абрамцевская улица, дом 1      40  \n",
       "4  город Москва, Абрамцевская улица, дом 9, корпус 1      50  "
      ]
     },
     "execution_count": 3,
     "metadata": {},
     "output_type": "execute_result"
    }
   ],
   "source": [
    "df.head()"
   ]
  },
  {
   "cell_type": "markdown",
   "id": "a877476d",
   "metadata": {},
   "source": [
    "А также общую информацию по датафрейму"
   ]
  },
  {
   "cell_type": "code",
   "execution_count": 4,
   "id": "e3448cd8",
   "metadata": {
    "scrolled": true
   },
   "outputs": [
    {
     "name": "stdout",
     "output_type": "stream",
     "text": [
      "<class 'pandas.core.frame.DataFrame'>\n",
      "RangeIndex: 15366 entries, 0 to 15365\n",
      "Data columns (total 6 columns):\n",
      " #   Column       Non-Null Count  Dtype \n",
      "---  ------       --------------  ----- \n",
      " 0   id           15366 non-null  int64 \n",
      " 1   object_name  15366 non-null  object\n",
      " 2   chain        15366 non-null  object\n",
      " 3   object_type  15366 non-null  object\n",
      " 4   address      15366 non-null  object\n",
      " 5   number       15366 non-null  int64 \n",
      "dtypes: int64(2), object(4)\n",
      "memory usage: 720.4+ KB\n"
     ]
    }
   ],
   "source": [
    "df.info()"
   ]
  },
  {
   "cell_type": "markdown",
   "id": "782d9c3b",
   "metadata": {},
   "source": [
    "### Предобработка данных"
   ]
  },
  {
   "cell_type": "markdown",
   "id": "4171583f",
   "metadata": {},
   "source": [
    "Заменим тип данных в колонке с int на object"
   ]
  },
  {
   "cell_type": "code",
   "execution_count": 5,
   "id": "8c10172d",
   "metadata": {},
   "outputs": [],
   "source": [
    "df['id'] = df['id'].astype('object')"
   ]
  },
  {
   "cell_type": "markdown",
   "id": "f1b2762a",
   "metadata": {},
   "source": [
    "Проверим фрейм на пропущенные значения"
   ]
  },
  {
   "cell_type": "code",
   "execution_count": 6,
   "id": "80843cb8",
   "metadata": {},
   "outputs": [
    {
     "data": {
      "text/plain": [
       "id             0\n",
       "object_name    0\n",
       "chain          0\n",
       "object_type    0\n",
       "address        0\n",
       "number         0\n",
       "dtype: int64"
      ]
     },
     "execution_count": 6,
     "metadata": {},
     "output_type": "execute_result"
    }
   ],
   "source": [
    "df.isna().sum()"
   ]
  },
  {
   "cell_type": "markdown",
   "id": "a19c3874",
   "metadata": {},
   "source": [
    "Пропущенные значения отсутствуют"
   ]
  },
  {
   "cell_type": "markdown",
   "id": "069961bd",
   "metadata": {},
   "source": [
    "Проверим датафрейм на дубликаты"
   ]
  },
  {
   "cell_type": "code",
   "execution_count": 7,
   "id": "814caa50",
   "metadata": {},
   "outputs": [
    {
     "data": {
      "text/plain": [
       "15366"
      ]
     },
     "execution_count": 7,
     "metadata": {},
     "output_type": "execute_result"
    }
   ],
   "source": [
    "df.duplicated().count()"
   ]
  },
  {
   "cell_type": "markdown",
   "id": "355be131",
   "metadata": {},
   "source": [
    "Дубликаты не обнаружены"
   ]
  },
  {
   "cell_type": "markdown",
   "id": "3257505f",
   "metadata": {},
   "source": [
    "Сократим название типа объекта \"предприятие быстрого обслуживания\" на \"пп быстрого обслуживания\", а также 'магазин (отдел кулинарии)' на 'м-н (отд-л кулинарии)"
   ]
  },
  {
   "cell_type": "code",
   "execution_count": 8,
   "id": "84360d15",
   "metadata": {},
   "outputs": [],
   "source": [
    "df = df.replace({'предприятие быстрого обслуживания': 'пп быстр. обслужив.', 'магазин (отдел кулинарии)': 'м-н (отд-л кулинарии)'})"
   ]
  },
  {
   "cell_type": "markdown",
   "id": "9624271b",
   "metadata": {},
   "source": [
    "Проверим на \"аномальность\" числовые столбцы. \n",
    "\n",
    "По столбцу `id` проверим есть ли отрицательные значения методом min()."
   ]
  },
  {
   "cell_type": "code",
   "execution_count": 9,
   "id": "fd1a8d59",
   "metadata": {},
   "outputs": [
    {
     "data": {
      "text/plain": [
       "838"
      ]
     },
     "execution_count": 9,
     "metadata": {},
     "output_type": "execute_result"
    }
   ],
   "source": [
    "df['id'].min()"
   ]
  },
  {
   "cell_type": "markdown",
   "id": "5680d247",
   "metadata": {},
   "source": [
    "По столбцу `id` все в порядке.\n",
    "\n",
    "По столбцу `number` выведим основные показатели методом describe()"
   ]
  },
  {
   "cell_type": "code",
   "execution_count": 10,
   "id": "46cd7a36",
   "metadata": {},
   "outputs": [
    {
     "data": {
      "text/plain": [
       "count    15366.000000\n",
       "mean        59.547182\n",
       "std         74.736833\n",
       "min          0.000000\n",
       "25%         12.000000\n",
       "50%         40.000000\n",
       "75%         80.000000\n",
       "max       1700.000000\n",
       "Name: number, dtype: float64"
      ]
     },
     "execution_count": 10,
     "metadata": {},
     "output_type": "execute_result"
    }
   ],
   "source": [
    "df['number'].describe()"
   ]
  },
  {
   "cell_type": "markdown",
   "id": "c6022fa8",
   "metadata": {},
   "source": [
    "В целом можно сказать, что все в порядке, однако смущает показатель максимума в 1700 посадочных мест, конечно вполне возможно, что есть подобные комплексы, но это скорее всего как исключение и является выбросами. Учтем эти данные в дальнейшем."
   ]
  },
  {
   "cell_type": "markdown",
   "id": "4da6aad6",
   "metadata": {},
   "source": [
    "Как видим, в данных датафрейма в столбце с названиями заведений у нас прослеживается разный регистр в написании. Одноако в данном проекте у нас нет задачи оперировать с названиями объектов, в отчетах и выводах названий заведений также не будет, поэтому оставим данные значения в исходном виде."
   ]
  },
  {
   "cell_type": "markdown",
   "id": "9426f23d",
   "metadata": {},
   "source": [
    "### Вывод"
   ]
  },
  {
   "cell_type": "markdown",
   "id": "fc4d0f47",
   "metadata": {},
   "source": [
    "Мы успешно подгрузили данные. Заменили тип данных, проверили на пропуски, проверили на дубликаты. Сократили названия ряда объектов общественного питания. Проверили на \"аномальность\" показатели цифровых столбцов."
   ]
  },
  {
   "cell_type": "markdown",
   "id": "4e52612a",
   "metadata": {},
   "source": [
    "## Анализ данных"
   ]
  },
  {
   "cell_type": "markdown",
   "id": "e46dc21c",
   "metadata": {},
   "source": [
    "Проведем анализ данных согласно выданному заданию."
   ]
  },
  {
   "cell_type": "markdown",
   "id": "2dbf40ac",
   "metadata": {},
   "source": [
    "### Исследование соотношения видов объектов общественного питания по количеству"
   ]
  },
  {
   "cell_type": "markdown",
   "id": "92144ca9",
   "metadata": {},
   "source": [
    "Исследуем соотношение видов объектов общественного питания по количеству.\n",
    "\n",
    "Для этого сгруппируем данные и сохраним их в датафрейм `object_type_count`, сразу отсортируем данные по убыванию количества заведений."
   ]
  },
  {
   "cell_type": "code",
   "execution_count": 11,
   "id": "aa867310",
   "metadata": {},
   "outputs": [
    {
     "data": {
      "text/html": [
       "<div>\n",
       "<style scoped>\n",
       "    .dataframe tbody tr th:only-of-type {\n",
       "        vertical-align: middle;\n",
       "    }\n",
       "\n",
       "    .dataframe tbody tr th {\n",
       "        vertical-align: top;\n",
       "    }\n",
       "\n",
       "    .dataframe thead th {\n",
       "        text-align: right;\n",
       "    }\n",
       "</style>\n",
       "<table border=\"1\" class=\"dataframe\">\n",
       "  <thead>\n",
       "    <tr style=\"text-align: right;\">\n",
       "      <th></th>\n",
       "      <th>object_type</th>\n",
       "      <th>count</th>\n",
       "    </tr>\n",
       "  </thead>\n",
       "  <tbody>\n",
       "    <tr>\n",
       "      <th>3</th>\n",
       "      <td>кафе</td>\n",
       "      <td>6099</td>\n",
       "    </tr>\n",
       "    <tr>\n",
       "      <th>8</th>\n",
       "      <td>столовая</td>\n",
       "      <td>2587</td>\n",
       "    </tr>\n",
       "    <tr>\n",
       "      <th>7</th>\n",
       "      <td>ресторан</td>\n",
       "      <td>2285</td>\n",
       "    </tr>\n",
       "    <tr>\n",
       "      <th>6</th>\n",
       "      <td>пп быстр. обслужив.</td>\n",
       "      <td>1923</td>\n",
       "    </tr>\n",
       "    <tr>\n",
       "      <th>0</th>\n",
       "      <td>бар</td>\n",
       "      <td>856</td>\n",
       "    </tr>\n",
       "    <tr>\n",
       "      <th>1</th>\n",
       "      <td>буфет</td>\n",
       "      <td>585</td>\n",
       "    </tr>\n",
       "    <tr>\n",
       "      <th>4</th>\n",
       "      <td>кафетерий</td>\n",
       "      <td>398</td>\n",
       "    </tr>\n",
       "    <tr>\n",
       "      <th>2</th>\n",
       "      <td>закусочная</td>\n",
       "      <td>360</td>\n",
       "    </tr>\n",
       "    <tr>\n",
       "      <th>5</th>\n",
       "      <td>м-н (отд-л кулинарии)</td>\n",
       "      <td>273</td>\n",
       "    </tr>\n",
       "  </tbody>\n",
       "</table>\n",
       "</div>"
      ],
      "text/plain": [
       "             object_type  count\n",
       "3                   кафе   6099\n",
       "8               столовая   2587\n",
       "7               ресторан   2285\n",
       "6    пп быстр. обслужив.   1923\n",
       "0                    бар    856\n",
       "1                  буфет    585\n",
       "4              кафетерий    398\n",
       "2             закусочная    360\n",
       "5  м-н (отд-л кулинарии)    273"
      ]
     },
     "execution_count": 11,
     "metadata": {},
     "output_type": "execute_result"
    }
   ],
   "source": [
    "object_type_count = df.groupby('object_type', as_index=False)['id'].count().sort_values(by='id', ascending=False)\n",
    "\n",
    "#переименнуем столбцы\n",
    "object_type_count.columns = ['object_type', 'count']\n",
    "\n",
    "#выведим полученный результат\n",
    "object_type_count"
   ]
  },
  {
   "cell_type": "markdown",
   "id": "5df28963",
   "metadata": {},
   "source": [
    "Создадим функцию для формирования графиков. "
   ]
  },
  {
   "cell_type": "code",
   "execution_count": 12,
   "id": "f084e7ce",
   "metadata": {},
   "outputs": [],
   "source": [
    "def barplot_df(data, suptitle, figsize=(15, 6), hue=None, x='object_type', y='count', xlabel='Вид объекта', ylabel='Количество объектов, шт.'):\n",
    "    \n",
    "    plt.figure(figsize=figsize)\n",
    "\n",
    "    plots = sns.barplot(x=x, y=y, hue=hue, data=data)\n",
    "\n",
    "    for bar in plots.patches:\n",
    "\n",
    "        plots.annotate(format(bar.get_height(), '.0f'),\n",
    "                   (bar.get_x() + bar.get_width() / 2,\n",
    "                    bar.get_height()), ha='center', va='center',\n",
    "                   size=15, xytext=(0, 8),\n",
    "                   textcoords='offset points')\n",
    "\n",
    "    plt.suptitle(suptitle.upper())\n",
    "    plt.xlabel(xlabel.upper())\n",
    "    plt.ylabel(ylabel.upper())\n",
    "    locs, labels = plt.xticks()\n",
    "    plt.setp(labels, rotation=45)\n",
    "    plt.show()"
   ]
  },
  {
   "cell_type": "markdown",
   "id": "f4d54a1a",
   "metadata": {},
   "source": [
    "Сформируем график соотношения видов объектов общественного питания по количеству."
   ]
  },
  {
   "cell_type": "code",
   "execution_count": 13,
   "id": "eaea551a",
   "metadata": {},
   "outputs": [
    {
     "data": {
      "image/png": "[encoded data removed]",
      "text/plain": [
       "<Figure size 1080x432 with 1 Axes>"
      ]
     },
     "metadata": {
      "needs_background": "light"
     },
     "output_type": "display_data"
    }
   ],
   "source": [
    "barplot_df(object_type_count, 'Cоотношения видов объектов общественного питания по количеству')"
   ]
  },
  {
   "cell_type": "markdown",
   "id": "c884c9c2",
   "metadata": {},
   "source": [
    "Самой многочисленной группой объекта общественного питания является тип \"Кафе\" с 6099 заведениями. За ней в относительно равных долях следуют \"столовая\", \"ресторан\", \"предприятия быстрого обслуживания\" с показателями от 1923 до 2587 заведений. Самыми малочисленными являются \"отделы кулинарии в магазинах\", \"закусочные\", \"кафетерии\" с 273, 360, 398 заведениями соответственно."
   ]
  },
  {
   "cell_type": "markdown",
   "id": "d45762c9",
   "metadata": {},
   "source": [
    "Создадим функцию для формирования графика вида \"пирог\"."
   ]
  },
  {
   "cell_type": "code",
   "execution_count": 14,
   "id": "8372ec06",
   "metadata": {},
   "outputs": [],
   "source": [
    "def graf_pie(data, suptitle, labels, explode=(0.2, 0.2, 0.2, 0.2, 0.3, 0.3, 0.4, 0.5, 0.6), count='count'):\n",
    "    fig, ax = plt.subplots()\n",
    "     \n",
    "    ax.pie(data[count], explode=explode, labels=labels, autopct='%1.1f%%',\n",
    "            shadow=True, startangle=90)\n",
    "    ax.axis('equal')\n",
    "    plt.suptitle(suptitle.upper())\n",
    "    fig.set_figheight(8)\n",
    "    fig.set_figwidth(10)\n",
    "    plt.show()"
   ]
  },
  {
   "cell_type": "markdown",
   "id": "136fac26",
   "metadata": {},
   "source": [
    "Также для наглядности, сформируем график \"пирог\" соотношения видов объектов общественного питания по долям"
   ]
  },
  {
   "cell_type": "code",
   "execution_count": 15,
   "id": "6d88f728",
   "metadata": {},
   "outputs": [
    {
     "data": {
      "image/png": "[encoded data removed]",
      "text/plain": [
       "<Figure size 720x576 with 1 Axes>"
      ]
     },
     "metadata": {},
     "output_type": "display_data"
    }
   ],
   "source": [
    "graf_pie(object_type_count, 'Cоотношения видов объектов общественного питания по долям', labels=[x.capitalize() for x in object_type_count['object_type']])"
   ]
  },
  {
   "cell_type": "markdown",
   "id": "4a74c881",
   "metadata": {},
   "source": [
    "Доля самой многочисленной группы объектов общественного питания \"Кафе\" составляет 39,7%. За ней следуют \"столовая\", \"ресторан\", \"предприятия быстрого обслуживания\" с 16.8%, 14.9%, 12.5% соответственно. Самые малочисленные \"отделы кулинарии в магазинах\", \"закусочные\", \"кафетерии\" с 1.8%, 2.3%, 2.6% соответственно."
   ]
  },
  {
   "cell_type": "markdown",
   "id": "e3fd072f",
   "metadata": {},
   "source": [
    "### Исследование соотношения сетевых и несетевых заведений по количеству"
   ]
  },
  {
   "cell_type": "markdown",
   "id": "4e5f9f6d",
   "metadata": {},
   "source": [
    "Проведем исследование соотношения сетевых и несетевых заведений по количеству.\n",
    "\n",
    "Сгруппируем данные по видам на сетевые и несетевые, отсортируем по убыванию количества объектов общественного питания, установим названия колонок, сохраним в датафрейм `chain_count`."
   ]
  },
  {
   "cell_type": "code",
   "execution_count": 16,
   "id": "5bffe622",
   "metadata": {},
   "outputs": [
    {
     "data": {
      "text/html": [
       "<div>\n",
       "<style scoped>\n",
       "    .dataframe tbody tr th:only-of-type {\n",
       "        vertical-align: middle;\n",
       "    }\n",
       "\n",
       "    .dataframe tbody tr th {\n",
       "        vertical-align: top;\n",
       "    }\n",
       "\n",
       "    .dataframe thead th {\n",
       "        text-align: right;\n",
       "    }\n",
       "</style>\n",
       "<table border=\"1\" class=\"dataframe\">\n",
       "  <thead>\n",
       "    <tr style=\"text-align: right;\">\n",
       "      <th></th>\n",
       "      <th>chain</th>\n",
       "      <th>count</th>\n",
       "    </tr>\n",
       "  </thead>\n",
       "  <tbody>\n",
       "    <tr>\n",
       "      <th>1</th>\n",
       "      <td>Несетевой</td>\n",
       "      <td>12398</td>\n",
       "    </tr>\n",
       "    <tr>\n",
       "      <th>0</th>\n",
       "      <td>Сетевой</td>\n",
       "      <td>2968</td>\n",
       "    </tr>\n",
       "  </tbody>\n",
       "</table>\n",
       "</div>"
      ],
      "text/plain": [
       "       chain  count\n",
       "1  Несетевой  12398\n",
       "0    Сетевой   2968"
      ]
     },
     "execution_count": 16,
     "metadata": {},
     "output_type": "execute_result"
    }
   ],
   "source": [
    "chain_count = df.groupby('chain', as_index=False)['id'].count().sort_values(by='id', ascending=False).replace({'нет': 'Несетевой', 'да': 'Сетевой'}).rename(columns={'id': 'count'})\n",
    "\n",
    "#выведим полученный результат\n",
    "chain_count"
   ]
  },
  {
   "cell_type": "markdown",
   "id": "4d1ed54b",
   "metadata": {},
   "source": [
    "Построим график соотношения сетевых и несетевых заведений по количеству"
   ]
  },
  {
   "cell_type": "code",
   "execution_count": 17,
   "id": "fd59c992",
   "metadata": {},
   "outputs": [
    {
     "data": {
      "image/png": "[encoded data removed]",
      "text/plain": [
       "<Figure size 720x360 with 1 Axes>"
      ]
     },
     "metadata": {
      "needs_background": "light"
     },
     "output_type": "display_data"
    }
   ],
   "source": [
    "barplot_df(chain_count, 'Cоотношения сетевых и несетевых заведений по количеству', x='chain', figsize=(10, 5), )"
   ]
  },
  {
   "cell_type": "markdown",
   "id": "a8c0310c",
   "metadata": {},
   "source": [
    "Из графика видим, что несетевых ООП больше чем в 4 раза. Несетевых 12398, а сетевых 2968."
   ]
  },
  {
   "cell_type": "markdown",
   "id": "ebcbf639",
   "metadata": {},
   "source": [
    "Построим график вида \"пирог\" для визуализации соотношения сетевых и несетевых заведений по долям"
   ]
  },
  {
   "cell_type": "code",
   "execution_count": 18,
   "id": "38a53ad8",
   "metadata": {},
   "outputs": [
    {
     "data": {
      "image/png": "[encoded data removed]",
      "text/plain": [
       "<Figure size 720x576 with 1 Axes>"
      ]
     },
     "metadata": {},
     "output_type": "display_data"
    }
   ],
   "source": [
    "graf_pie(chain_count, 'Cоотношения сетевых и несетевых заведений по долям', chain_count['chain'], explode = (0.1, 0.1))"
   ]
  },
  {
   "cell_type": "markdown",
   "id": "86410f01",
   "metadata": {},
   "source": [
    "Из графика видим, что несетевые ООП занимаю 80,7% рынка общепита, тогда как сетевые 19,3%"
   ]
  },
  {
   "cell_type": "markdown",
   "id": "74377425",
   "metadata": {},
   "source": [
    "###  Для какого вида объекта общественного питания характерно сетевое распространение?"
   ]
  },
  {
   "cell_type": "markdown",
   "id": "ae20e06b",
   "metadata": {},
   "source": [
    "Проведем анализ и выясним для какого вида объекта общественного питания характерно сетевое распространение?\n",
    "\n",
    "Сгруппируем данные по типам ООП и по видам ООП, установим нужные нам назвения колонок, сохраним данные в датафрейм `chain_type_count`."
   ]
  },
  {
   "cell_type": "code",
   "execution_count": 19,
   "id": "009293b9",
   "metadata": {
    "scrolled": false
   },
   "outputs": [
    {
     "data": {
      "text/html": [
       "<div>\n",
       "<style scoped>\n",
       "    .dataframe tbody tr th:only-of-type {\n",
       "        vertical-align: middle;\n",
       "    }\n",
       "\n",
       "    .dataframe tbody tr th {\n",
       "        vertical-align: top;\n",
       "    }\n",
       "\n",
       "    .dataframe thead th {\n",
       "        text-align: right;\n",
       "    }\n",
       "</style>\n",
       "<table border=\"1\" class=\"dataframe\">\n",
       "  <thead>\n",
       "    <tr style=\"text-align: right;\">\n",
       "      <th></th>\n",
       "      <th>object_type</th>\n",
       "      <th>chain</th>\n",
       "      <th>count</th>\n",
       "    </tr>\n",
       "  </thead>\n",
       "  <tbody>\n",
       "    <tr>\n",
       "      <th>7</th>\n",
       "      <td>кафе</td>\n",
       "      <td>Несетевой</td>\n",
       "      <td>4703</td>\n",
       "    </tr>\n",
       "    <tr>\n",
       "      <th>17</th>\n",
       "      <td>столовая</td>\n",
       "      <td>Несетевой</td>\n",
       "      <td>2584</td>\n",
       "    </tr>\n",
       "    <tr>\n",
       "      <th>15</th>\n",
       "      <td>ресторан</td>\n",
       "      <td>Несетевой</td>\n",
       "      <td>1741</td>\n",
       "    </tr>\n",
       "    <tr>\n",
       "      <th>6</th>\n",
       "      <td>кафе</td>\n",
       "      <td>Сетевой</td>\n",
       "      <td>1396</td>\n",
       "    </tr>\n",
       "    <tr>\n",
       "      <th>13</th>\n",
       "      <td>пп быстр. обслужив.</td>\n",
       "      <td>Несетевой</td>\n",
       "      <td>1132</td>\n",
       "    </tr>\n",
       "    <tr>\n",
       "      <th>1</th>\n",
       "      <td>бар</td>\n",
       "      <td>Несетевой</td>\n",
       "      <td>819</td>\n",
       "    </tr>\n",
       "    <tr>\n",
       "      <th>12</th>\n",
       "      <td>пп быстр. обслужив.</td>\n",
       "      <td>Сетевой</td>\n",
       "      <td>791</td>\n",
       "    </tr>\n",
       "    <tr>\n",
       "      <th>3</th>\n",
       "      <td>буфет</td>\n",
       "      <td>Несетевой</td>\n",
       "      <td>574</td>\n",
       "    </tr>\n",
       "    <tr>\n",
       "      <th>14</th>\n",
       "      <td>ресторан</td>\n",
       "      <td>Сетевой</td>\n",
       "      <td>544</td>\n",
       "    </tr>\n",
       "    <tr>\n",
       "      <th>9</th>\n",
       "      <td>кафетерий</td>\n",
       "      <td>Несетевой</td>\n",
       "      <td>346</td>\n",
       "    </tr>\n",
       "    <tr>\n",
       "      <th>5</th>\n",
       "      <td>закусочная</td>\n",
       "      <td>Несетевой</td>\n",
       "      <td>304</td>\n",
       "    </tr>\n",
       "    <tr>\n",
       "      <th>11</th>\n",
       "      <td>м-н (отд-л кулинарии)</td>\n",
       "      <td>Несетевой</td>\n",
       "      <td>195</td>\n",
       "    </tr>\n",
       "    <tr>\n",
       "      <th>10</th>\n",
       "      <td>м-н (отд-л кулинарии)</td>\n",
       "      <td>Сетевой</td>\n",
       "      <td>78</td>\n",
       "    </tr>\n",
       "    <tr>\n",
       "      <th>4</th>\n",
       "      <td>закусочная</td>\n",
       "      <td>Сетевой</td>\n",
       "      <td>56</td>\n",
       "    </tr>\n",
       "    <tr>\n",
       "      <th>8</th>\n",
       "      <td>кафетерий</td>\n",
       "      <td>Сетевой</td>\n",
       "      <td>52</td>\n",
       "    </tr>\n",
       "    <tr>\n",
       "      <th>0</th>\n",
       "      <td>бар</td>\n",
       "      <td>Сетевой</td>\n",
       "      <td>37</td>\n",
       "    </tr>\n",
       "    <tr>\n",
       "      <th>2</th>\n",
       "      <td>буфет</td>\n",
       "      <td>Сетевой</td>\n",
       "      <td>11</td>\n",
       "    </tr>\n",
       "    <tr>\n",
       "      <th>16</th>\n",
       "      <td>столовая</td>\n",
       "      <td>Сетевой</td>\n",
       "      <td>3</td>\n",
       "    </tr>\n",
       "  </tbody>\n",
       "</table>\n",
       "</div>"
      ],
      "text/plain": [
       "              object_type      chain  count\n",
       "7                    кафе  Несетевой   4703\n",
       "17               столовая  Несетевой   2584\n",
       "15               ресторан  Несетевой   1741\n",
       "6                    кафе    Сетевой   1396\n",
       "13    пп быстр. обслужив.  Несетевой   1132\n",
       "1                     бар  Несетевой    819\n",
       "12    пп быстр. обслужив.    Сетевой    791\n",
       "3                   буфет  Несетевой    574\n",
       "14               ресторан    Сетевой    544\n",
       "9               кафетерий  Несетевой    346\n",
       "5              закусочная  Несетевой    304\n",
       "11  м-н (отд-л кулинарии)  Несетевой    195\n",
       "10  м-н (отд-л кулинарии)    Сетевой     78\n",
       "4              закусочная    Сетевой     56\n",
       "8               кафетерий    Сетевой     52\n",
       "0                     бар    Сетевой     37\n",
       "2                   буфет    Сетевой     11\n",
       "16               столовая    Сетевой      3"
      ]
     },
     "execution_count": 19,
     "metadata": {},
     "output_type": "execute_result"
    }
   ],
   "source": [
    "chain_type_count = df.pivot_table(index=['object_type', 'chain'], values='id', aggfunc='count').reset_index().replace({'нет': 'Несетевой', 'да': 'Сетевой'}).rename(columns={'id': 'count'})\n",
    "\n",
    "#выведим полученный результат, предварительно отсортировав по количеству заведений по убыванию\n",
    "chain_type_count.sort_values(by='count', ascending=False)"
   ]
  },
  {
   "cell_type": "markdown",
   "id": "75a562d2",
   "metadata": {},
   "source": [
    "Как видим, из фрейма в первую тройку лидеров по количеству видов ООП, сетевые заведения не входят."
   ]
  },
  {
   "cell_type": "markdown",
   "id": "407f4c89",
   "metadata": {},
   "source": [
    "Построим график соотношения сетевых и несетевых ООП друг к другу и в общем по количеству"
   ]
  },
  {
   "cell_type": "code",
   "execution_count": 20,
   "id": "45aa28fe",
   "metadata": {},
   "outputs": [
    {
     "data": {
      "image/png": "[encoded data removed]",
      "text/plain": [
       "<Figure size 1080x432 with 1 Axes>"
      ]
     },
     "metadata": {
      "needs_background": "light"
     },
     "output_type": "display_data"
    }
   ],
   "source": [
    "barplot_df(chain_type_count, 'Cоотношения сетевых и несетевых ООП друг к другу и в общем по количеству', hue='chain')"
   ]
  },
  {
   "cell_type": "markdown",
   "id": "ef275899",
   "metadata": {},
   "source": [
    "В большинстве случаев, наблюдается значительный отрыв, кроме таких видов, как \"пп быстр. обслужив.\", \"м-н (отд-л кулинарии)\""
   ]
  },
  {
   "cell_type": "markdown",
   "id": "19809b38",
   "metadata": {},
   "source": [
    "Для того, чтобы определить какие виды ООП характерны для сетевых оргазаций, выделим отдельный датафрейм `chain_type_count_yes`, отсортируем по убыванию количества заведений."
   ]
  },
  {
   "cell_type": "code",
   "execution_count": 21,
   "id": "7ad45f20",
   "metadata": {},
   "outputs": [
    {
     "data": {
      "text/html": [
       "<div>\n",
       "<style scoped>\n",
       "    .dataframe tbody tr th:only-of-type {\n",
       "        vertical-align: middle;\n",
       "    }\n",
       "\n",
       "    .dataframe tbody tr th {\n",
       "        vertical-align: top;\n",
       "    }\n",
       "\n",
       "    .dataframe thead th {\n",
       "        text-align: right;\n",
       "    }\n",
       "</style>\n",
       "<table border=\"1\" class=\"dataframe\">\n",
       "  <thead>\n",
       "    <tr style=\"text-align: right;\">\n",
       "      <th></th>\n",
       "      <th>object_type</th>\n",
       "      <th>count</th>\n",
       "    </tr>\n",
       "  </thead>\n",
       "  <tbody>\n",
       "    <tr>\n",
       "      <th>6</th>\n",
       "      <td>кафе</td>\n",
       "      <td>1396</td>\n",
       "    </tr>\n",
       "    <tr>\n",
       "      <th>12</th>\n",
       "      <td>пп быстр. обслужив.</td>\n",
       "      <td>791</td>\n",
       "    </tr>\n",
       "    <tr>\n",
       "      <th>14</th>\n",
       "      <td>ресторан</td>\n",
       "      <td>544</td>\n",
       "    </tr>\n",
       "    <tr>\n",
       "      <th>10</th>\n",
       "      <td>м-н (отд-л кулинарии)</td>\n",
       "      <td>78</td>\n",
       "    </tr>\n",
       "    <tr>\n",
       "      <th>4</th>\n",
       "      <td>закусочная</td>\n",
       "      <td>56</td>\n",
       "    </tr>\n",
       "    <tr>\n",
       "      <th>8</th>\n",
       "      <td>кафетерий</td>\n",
       "      <td>52</td>\n",
       "    </tr>\n",
       "    <tr>\n",
       "      <th>0</th>\n",
       "      <td>бар</td>\n",
       "      <td>37</td>\n",
       "    </tr>\n",
       "    <tr>\n",
       "      <th>2</th>\n",
       "      <td>буфет</td>\n",
       "      <td>11</td>\n",
       "    </tr>\n",
       "    <tr>\n",
       "      <th>16</th>\n",
       "      <td>столовая</td>\n",
       "      <td>3</td>\n",
       "    </tr>\n",
       "  </tbody>\n",
       "</table>\n",
       "</div>"
      ],
      "text/plain": [
       "              object_type  count\n",
       "6                    кафе   1396\n",
       "12    пп быстр. обслужив.    791\n",
       "14               ресторан    544\n",
       "10  м-н (отд-л кулинарии)     78\n",
       "4              закусочная     56\n",
       "8               кафетерий     52\n",
       "0                     бар     37\n",
       "2                   буфет     11\n",
       "16               столовая      3"
      ]
     },
     "execution_count": 21,
     "metadata": {},
     "output_type": "execute_result"
    }
   ],
   "source": [
    "chain_type_count_yes = chain_type_count.query('chain == \"Сетевой\"').sort_values(by='count', ascending=False)[['object_type', 'count']]\n",
    "\n",
    "#выведим полученный результат\n",
    "chain_type_count_yes"
   ]
  },
  {
   "cell_type": "markdown",
   "id": "f908a173",
   "metadata": {},
   "source": [
    "Построим график соотношения видов ООП по количеству в сетевых организация"
   ]
  },
  {
   "cell_type": "code",
   "execution_count": 22,
   "id": "aa3549dd",
   "metadata": {},
   "outputs": [
    {
     "data": {
      "image/png": "[encoded data removed]",
      "text/plain": [
       "<Figure size 1080x432 with 1 Axes>"
      ]
     },
     "metadata": {
      "needs_background": "light"
     },
     "output_type": "display_data"
    }
   ],
   "source": [
    "barplot_df(chain_type_count_yes, 'Cоотношения видов объектов общественного питания по количеству в сетевых организациях')"
   ]
  },
  {
   "cell_type": "markdown",
   "id": "c02727d8",
   "metadata": {},
   "source": [
    "Из графика видим, что выделяются 3 основных вида ООП - 'Кафе', 'ПП быстрого обслуживания', 'Рестораны' с количеством 1396, 791, 544 шт. соответственно. Аутсайдерами по количеству заведений являются - 'Столовая', 'Буфет', 'Бар' с количеством 3, 11, 37 соответственно."
   ]
  },
  {
   "cell_type": "markdown",
   "id": "1f166393",
   "metadata": {},
   "source": [
    "Построим график в виде \"пирога\" чтобы уведели доли каждого ООП"
   ]
  },
  {
   "cell_type": "code",
   "execution_count": 23,
   "id": "91785a5c",
   "metadata": {},
   "outputs": [
    {
     "data": {
      "image/png": "[encoded data removed]",
      "text/plain": [
       "<Figure size 720x576 with 1 Axes>"
      ]
     },
     "metadata": {},
     "output_type": "display_data"
    }
   ],
   "source": [
    "graf_pie(chain_type_count_yes, 'Cоотношения видов объектов общественного питания по долям в сетевых организация', labels=[x.capitalize() for x in chain_type_count_yes['object_type']], explode = (0.2, 0.2, 0.2, 0.2, 0.3, 0.35, 0.4, 0.5, 0.6))"
   ]
  },
  {
   "cell_type": "markdown",
   "id": "e78689da",
   "metadata": {},
   "source": [
    "92% рынка сетевых организаций по количеству ООП занимают 'Кафе', 'ПП быстрого обслуживания', 'Рестораны' с долями 47%, 26.7%, 18.3% соответственно."
   ]
  },
  {
   "cell_type": "markdown",
   "id": "03920152",
   "metadata": {},
   "source": [
    "Расчитаем долю ООП сетевых заведений в общем объеме.\n",
    "\n",
    "Для этого в данные датафрейма `chain_type_count_yes` добавим столбец с общими сгрупированными данными по ООП и вычислим долю по каждому виду объекта. Сохраним в новом датафрейм `type_group_share`"
   ]
  },
  {
   "cell_type": "code",
   "execution_count": 24,
   "id": "f53e6fe5",
   "metadata": {},
   "outputs": [
    {
     "data": {
      "text/html": [
       "<div>\n",
       "<style scoped>\n",
       "    .dataframe tbody tr th:only-of-type {\n",
       "        vertical-align: middle;\n",
       "    }\n",
       "\n",
       "    .dataframe tbody tr th {\n",
       "        vertical-align: top;\n",
       "    }\n",
       "\n",
       "    .dataframe thead th {\n",
       "        text-align: right;\n",
       "    }\n",
       "</style>\n",
       "<table border=\"1\" class=\"dataframe\">\n",
       "  <thead>\n",
       "    <tr style=\"text-align: right;\">\n",
       "      <th></th>\n",
       "      <th>object_type</th>\n",
       "      <th>count</th>\n",
       "      <th>count_total</th>\n",
       "    </tr>\n",
       "  </thead>\n",
       "  <tbody>\n",
       "    <tr>\n",
       "      <th>0</th>\n",
       "      <td>кафе</td>\n",
       "      <td>1396</td>\n",
       "      <td>6099</td>\n",
       "    </tr>\n",
       "    <tr>\n",
       "      <th>1</th>\n",
       "      <td>пп быстр. обслужив.</td>\n",
       "      <td>791</td>\n",
       "      <td>1923</td>\n",
       "    </tr>\n",
       "    <tr>\n",
       "      <th>2</th>\n",
       "      <td>ресторан</td>\n",
       "      <td>544</td>\n",
       "      <td>2285</td>\n",
       "    </tr>\n",
       "    <tr>\n",
       "      <th>3</th>\n",
       "      <td>м-н (отд-л кулинарии)</td>\n",
       "      <td>78</td>\n",
       "      <td>273</td>\n",
       "    </tr>\n",
       "    <tr>\n",
       "      <th>4</th>\n",
       "      <td>закусочная</td>\n",
       "      <td>56</td>\n",
       "      <td>360</td>\n",
       "    </tr>\n",
       "    <tr>\n",
       "      <th>5</th>\n",
       "      <td>кафетерий</td>\n",
       "      <td>52</td>\n",
       "      <td>398</td>\n",
       "    </tr>\n",
       "    <tr>\n",
       "      <th>6</th>\n",
       "      <td>бар</td>\n",
       "      <td>37</td>\n",
       "      <td>856</td>\n",
       "    </tr>\n",
       "    <tr>\n",
       "      <th>7</th>\n",
       "      <td>буфет</td>\n",
       "      <td>11</td>\n",
       "      <td>585</td>\n",
       "    </tr>\n",
       "    <tr>\n",
       "      <th>8</th>\n",
       "      <td>столовая</td>\n",
       "      <td>3</td>\n",
       "      <td>2587</td>\n",
       "    </tr>\n",
       "  </tbody>\n",
       "</table>\n",
       "</div>"
      ],
      "text/plain": [
       "             object_type  count  count_total\n",
       "0                   кафе   1396         6099\n",
       "1    пп быстр. обслужив.    791         1923\n",
       "2               ресторан    544         2285\n",
       "3  м-н (отд-л кулинарии)     78          273\n",
       "4             закусочная     56          360\n",
       "5              кафетерий     52          398\n",
       "6                    бар     37          856\n",
       "7                  буфет     11          585\n",
       "8               столовая      3         2587"
      ]
     },
     "execution_count": 24,
     "metadata": {},
     "output_type": "execute_result"
    }
   ],
   "source": [
    "type_group_share = chain_type_count_yes.merge(df.groupby('object_type', as_index=False)['id'].count().rename(columns={'id': 'count_total'}), on='object_type')\n",
    "\n",
    "#выведим полученный результат\n",
    "type_group_share"
   ]
  },
  {
   "cell_type": "markdown",
   "id": "1891e5a1",
   "metadata": {},
   "source": [
    "Вычислим долю сетевых заведений в общей массе"
   ]
  },
  {
   "cell_type": "code",
   "execution_count": 25,
   "id": "dcba7830",
   "metadata": {},
   "outputs": [
    {
     "data": {
      "text/html": [
       "<div>\n",
       "<style scoped>\n",
       "    .dataframe tbody tr th:only-of-type {\n",
       "        vertical-align: middle;\n",
       "    }\n",
       "\n",
       "    .dataframe tbody tr th {\n",
       "        vertical-align: top;\n",
       "    }\n",
       "\n",
       "    .dataframe thead th {\n",
       "        text-align: right;\n",
       "    }\n",
       "</style>\n",
       "<table border=\"1\" class=\"dataframe\">\n",
       "  <thead>\n",
       "    <tr style=\"text-align: right;\">\n",
       "      <th></th>\n",
       "      <th>object_type</th>\n",
       "      <th>count</th>\n",
       "      <th>count_total</th>\n",
       "      <th>share_%</th>\n",
       "    </tr>\n",
       "  </thead>\n",
       "  <tbody>\n",
       "    <tr>\n",
       "      <th>1</th>\n",
       "      <td>пп быстр. обслужив.</td>\n",
       "      <td>791</td>\n",
       "      <td>1923</td>\n",
       "      <td>41.1</td>\n",
       "    </tr>\n",
       "    <tr>\n",
       "      <th>3</th>\n",
       "      <td>м-н (отд-л кулинарии)</td>\n",
       "      <td>78</td>\n",
       "      <td>273</td>\n",
       "      <td>28.6</td>\n",
       "    </tr>\n",
       "    <tr>\n",
       "      <th>2</th>\n",
       "      <td>ресторан</td>\n",
       "      <td>544</td>\n",
       "      <td>2285</td>\n",
       "      <td>23.8</td>\n",
       "    </tr>\n",
       "    <tr>\n",
       "      <th>0</th>\n",
       "      <td>кафе</td>\n",
       "      <td>1396</td>\n",
       "      <td>6099</td>\n",
       "      <td>22.9</td>\n",
       "    </tr>\n",
       "    <tr>\n",
       "      <th>4</th>\n",
       "      <td>закусочная</td>\n",
       "      <td>56</td>\n",
       "      <td>360</td>\n",
       "      <td>15.6</td>\n",
       "    </tr>\n",
       "    <tr>\n",
       "      <th>5</th>\n",
       "      <td>кафетерий</td>\n",
       "      <td>52</td>\n",
       "      <td>398</td>\n",
       "      <td>13.1</td>\n",
       "    </tr>\n",
       "    <tr>\n",
       "      <th>6</th>\n",
       "      <td>бар</td>\n",
       "      <td>37</td>\n",
       "      <td>856</td>\n",
       "      <td>4.3</td>\n",
       "    </tr>\n",
       "    <tr>\n",
       "      <th>7</th>\n",
       "      <td>буфет</td>\n",
       "      <td>11</td>\n",
       "      <td>585</td>\n",
       "      <td>1.9</td>\n",
       "    </tr>\n",
       "    <tr>\n",
       "      <th>8</th>\n",
       "      <td>столовая</td>\n",
       "      <td>3</td>\n",
       "      <td>2587</td>\n",
       "      <td>0.1</td>\n",
       "    </tr>\n",
       "  </tbody>\n",
       "</table>\n",
       "</div>"
      ],
      "text/plain": [
       "             object_type  count  count_total  share_%\n",
       "1    пп быстр. обслужив.    791         1923     41.1\n",
       "3  м-н (отд-л кулинарии)     78          273     28.6\n",
       "2               ресторан    544         2285     23.8\n",
       "0                   кафе   1396         6099     22.9\n",
       "4             закусочная     56          360     15.6\n",
       "5              кафетерий     52          398     13.1\n",
       "6                    бар     37          856      4.3\n",
       "7                  буфет     11          585      1.9\n",
       "8               столовая      3         2587      0.1"
      ]
     },
     "execution_count": 25,
     "metadata": {},
     "output_type": "execute_result"
    }
   ],
   "source": [
    "type_group_share['share_%'] = round(type_group_share['count'] / type_group_share['count_total'] * 100, 1)\n",
    "\n",
    "#Сгруппируем по доле в порядке убывания\n",
    "type_group_share = type_group_share.sort_values(by='share_%', ascending=False)\n",
    "\n",
    "#Выведим полученный результат\n",
    "type_group_share"
   ]
  },
  {
   "cell_type": "markdown",
   "id": "1d1ed421",
   "metadata": {},
   "source": [
    "Построим график по соотношению видов ООП по доле сетевых организациях в общей массе."
   ]
  },
  {
   "cell_type": "code",
   "execution_count": 26,
   "id": "9fb7e5b5",
   "metadata": {},
   "outputs": [
    {
     "data": {
      "image/png": "[encoded data removed]",
      "text/plain": [
       "<Figure size 1080x432 with 1 Axes>"
      ]
     },
     "metadata": {
      "needs_background": "light"
     },
     "output_type": "display_data"
    }
   ],
   "source": [
    "barplot_df(type_group_share, 'Cоотношения видов ООП по доле сетевых организациях в общей массе по видам', y='share_%', ylabel='Доля в общей массе, %')"
   ]
  },
  {
   "cell_type": "markdown",
   "id": "78c80e4d",
   "metadata": {},
   "source": [
    "Как видим из графика, \"ПП быстрого обслуживания\" является лидером по доле в общей массе по видам с 41%. Далее идут \"м-н (отдел кулинарии)\", \"Ресторан\" и \"Кафе\" с 29, 24 и 23 процентами соответственно."
   ]
  },
  {
   "cell_type": "markdown",
   "id": "2dd90475",
   "metadata": {},
   "source": [
    "### Что характерно для сетевых заведений?"
   ]
  },
  {
   "cell_type": "markdown",
   "id": "e2544326",
   "metadata": {},
   "source": [
    "Определим, что характерно для сетевых заведений: много заведений с небольшим числом посадочных мест в каждом или мало заведений с большим количеством посадочных мест?\n",
    "\n",
    "Выделим датафрейм с сетевыми организациями и сохраним его в `df_chain_yes`."
   ]
  },
  {
   "cell_type": "code",
   "execution_count": 27,
   "id": "fb970e5a",
   "metadata": {},
   "outputs": [],
   "source": [
    "df_chain_yes = df.query('chain == \"да\"')"
   ]
  },
  {
   "cell_type": "markdown",
   "id": "fb148ac3",
   "metadata": {},
   "source": [
    "Выведим основные данные (среднюю, медиану, мин, мах) из списка всех посадочных мест."
   ]
  },
  {
   "cell_type": "code",
   "execution_count": 28,
   "id": "f9fbc133",
   "metadata": {},
   "outputs": [
    {
     "data": {
      "text/plain": [
       "count    2968.000000\n",
       "mean       52.919811\n",
       "std        57.140644\n",
       "min         0.000000\n",
       "25%        15.000000\n",
       "50%        40.000000\n",
       "75%        72.000000\n",
       "max       580.000000\n",
       "Name: number, dtype: float64"
      ]
     },
     "execution_count": 28,
     "metadata": {},
     "output_type": "execute_result"
    }
   ],
   "source": [
    "df_chain_yes['number'].describe()"
   ]
  },
  {
   "cell_type": "markdown",
   "id": "629ef5ef",
   "metadata": {},
   "source": [
    "Среднее значение (52) значительно выше медианы(40), возможно есть выбросы."
   ]
  },
  {
   "cell_type": "markdown",
   "id": "1297aee1",
   "metadata": {},
   "source": [
    "Построим гистограмму по посадочным местам среди сетевых организаций"
   ]
  },
  {
   "cell_type": "code",
   "execution_count": 29,
   "id": "b7807bb7",
   "metadata": {},
   "outputs": [
    {
     "data": {
      "image/png": "[encoded data removed]",
      "text/plain": [
       "<Figure size 1080x504 with 1 Axes>"
      ]
     },
     "metadata": {
      "needs_background": "light"
     },
     "output_type": "display_data"
    }
   ],
   "source": [
    "plt.figure(figsize=(15, 6))\n",
    "df_chain_yes['number'].hist(bins=60, figsize=(15, 7), grid=True, range=(0, df_chain_yes['number'].max()))\n",
    "plt.suptitle('Гистограмма отношения количества посадочных мест к количеству заведений'.upper())\n",
    "plt.xlabel('Посадочные места, мест'.upper())\n",
    "plt.ylabel('Количество заведений, шт.'.upper())\n",
    "plt.show()"
   ]
  },
  {
   "cell_type": "markdown",
   "id": "59df23f2",
   "metadata": {},
   "source": [
    "Значительно много заведений которые близки к значениям посадоных мест равному 0. Проверим сколько таких.\n",
    "Также явно проявляются заведения с количеством посадочных мест до 50"
   ]
  },
  {
   "cell_type": "code",
   "execution_count": 30,
   "id": "4d4e1334",
   "metadata": {
    "scrolled": true
   },
   "outputs": [
    {
     "name": "stdout",
     "output_type": "stream",
     "text": [
      "Предприятий общепита с 0 посадочных мест - 268\n"
     ]
    }
   ],
   "source": [
    "print(f\"Предприятий общепита с 0 посадочных мест - {df_chain_yes[df_chain_yes['number'] == 0]['number'].count()}\")"
   ]
  },
  {
   "cell_type": "markdown",
   "id": "71df5846",
   "metadata": {},
   "source": [
    "Вероятнее всего, там где указанно 0 посадочных мест, это заведения где отсутсвуют посадочные места."
   ]
  },
  {
   "cell_type": "markdown",
   "id": "d3f188c4",
   "metadata": {},
   "source": [
    "Построим \"ящик с усами\""
   ]
  },
  {
   "cell_type": "code",
   "execution_count": 31,
   "id": "0e4a4d08",
   "metadata": {},
   "outputs": [
    {
     "data": {
      "image/png": "[encoded data removed]",
      "text/plain": [
       "<Figure size 432x504 with 1 Axes>"
      ]
     },
     "metadata": {
      "needs_background": "light"
     },
     "output_type": "display_data"
    }
   ],
   "source": [
    "df_chain_yes['number'].plot(figsize=(6, 7), kind='box', grid=True);"
   ]
  },
  {
   "cell_type": "markdown",
   "id": "2f10ca2b",
   "metadata": {},
   "source": [
    "Действительно есть выбросы."
   ]
  },
  {
   "cell_type": "markdown",
   "id": "561d127c",
   "metadata": {},
   "source": [
    "Оределим 95 и 99 перцентили."
   ]
  },
  {
   "cell_type": "code",
   "execution_count": 32,
   "id": "dd9e2d25",
   "metadata": {},
   "outputs": [
    {
     "name": "stdout",
     "output_type": "stream",
     "text": [
      "[158.65 275.33]\n"
     ]
    }
   ],
   "source": [
    "print(np.percentile(df_chain_yes['number'], [95, 99])) "
   ]
  },
  {
   "cell_type": "markdown",
   "id": "773b6b7a",
   "metadata": {},
   "source": [
    "В сетевых объектах 95% заведений сконцентрированно с посадочными местами до 160. "
   ]
  },
  {
   "cell_type": "markdown",
   "id": "bf0e4e5a",
   "metadata": {},
   "source": [
    "Исключим из данных по сетевым объектам все, что выше 160."
   ]
  },
  {
   "cell_type": "code",
   "execution_count": 33,
   "id": "dace7c14",
   "metadata": {},
   "outputs": [],
   "source": [
    "df_chain_yes_95 = df_chain_yes.query('number < 160')"
   ]
  },
  {
   "cell_type": "markdown",
   "id": "1c1c8059",
   "metadata": {},
   "source": [
    "Выведим основные данные (среднюю, медиану, мин, мах) из списка всех посадочных мест с учетом выбросов."
   ]
  },
  {
   "cell_type": "code",
   "execution_count": 34,
   "id": "ee547358",
   "metadata": {
    "scrolled": false
   },
   "outputs": [
    {
     "data": {
      "text/plain": [
       "count    2821.000000\n",
       "mean       43.674229\n",
       "std        37.414203\n",
       "min         0.000000\n",
       "25%        14.000000\n",
       "50%        36.000000\n",
       "75%        64.000000\n",
       "max       159.000000\n",
       "Name: number, dtype: float64"
      ]
     },
     "execution_count": 34,
     "metadata": {},
     "output_type": "execute_result"
    }
   ],
   "source": [
    "df_chain_yes_95['number'].describe()"
   ]
  },
  {
   "cell_type": "markdown",
   "id": "3eab9802",
   "metadata": {},
   "source": [
    "Построим гистограмму по датафрейму с сетевыми оргазинациями."
   ]
  },
  {
   "cell_type": "code",
   "execution_count": 35,
   "id": "d864314c",
   "metadata": {},
   "outputs": [
    {
     "data": {
      "image/png": "[encoded data removed]",
      "text/plain": [
       "<Figure size 1080x504 with 1 Axes>"
      ]
     },
     "metadata": {
      "needs_background": "light"
     },
     "output_type": "display_data"
    }
   ],
   "source": [
    "plt.figure(figsize=(15, 6))\n",
    "df_chain_yes_95['number'].hist(bins=30, figsize=(15, 7), grid=True, range=(0, df_chain_yes_95['number'].max()));\n",
    "plt.suptitle('Гистограмма отношения количества посадочных мест к количеству заведений без выбросов'.upper())\n",
    "plt.xlabel('Посадочные места, мест'.upper())\n",
    "plt.ylabel('Количество заведений, шт.'.upper())\n",
    "plt.show()"
   ]
  },
  {
   "cell_type": "markdown",
   "id": "68ee3b83",
   "metadata": {},
   "source": [
    "Посчитаем количество заведений ООП находящихся до средней величины и долю"
   ]
  },
  {
   "cell_type": "code",
   "execution_count": 36,
   "id": "0fa44110",
   "metadata": {},
   "outputs": [
    {
     "name": "stdout",
     "output_type": "stream",
     "text": [
      "До средней величины посадочных мест находится 1628 заведений ООП, что составляет 57.7% от всех сетевых заведений\n"
     ]
    }
   ],
   "source": [
    "print(f\"До средней величины посадочных мест находится {df_chain_yes_95[df_chain_yes_95['number'] < df_chain_yes_95['number'].mean()]['number'].count()} заведений ООП, что составляет {round(df_chain_yes_95[df_chain_yes_95['number'] < df_chain_yes_95['number'].mean()]['number'].count() / df_chain_yes_95['number'].count() * 100, 1)}% от всех сетевых заведений\")"
   ]
  },
  {
   "cell_type": "markdown",
   "id": "b8080ea0",
   "metadata": {},
   "source": [
    "Из графика видим, что большая часть (57,7%) сетевых заведений имеет количество посадочных мест ниже среднего.\n",
    "\n",
    "Из этого можно сделать вывод, отвечая на поставленный вопрос по заданию, что \"много заведений с небольшим числом посадочных мест в каждом\"."
   ]
  },
  {
   "cell_type": "markdown",
   "id": "2fbaaea1",
   "metadata": {},
   "source": [
    "### Среднее количество посадочных мест для каждого вида объекта ОП"
   ]
  },
  {
   "cell_type": "markdown",
   "id": "3d7019e3",
   "metadata": {},
   "source": [
    "Определим какой вид ООП предоставляет в среднем самое большое количество посадочных мест? \n",
    "\n",
    "Сгруппируем данные по виду ООП, выведим среднее количество посадочных мест, отсортируем по убыванию количества посадочных мест, сохраним в датафрейм `object_type_number`"
   ]
  },
  {
   "cell_type": "code",
   "execution_count": 37,
   "id": "e22c4951",
   "metadata": {},
   "outputs": [
    {
     "data": {
      "text/html": [
       "<div>\n",
       "<style scoped>\n",
       "    .dataframe tbody tr th:only-of-type {\n",
       "        vertical-align: middle;\n",
       "    }\n",
       "\n",
       "    .dataframe tbody tr th {\n",
       "        vertical-align: top;\n",
       "    }\n",
       "\n",
       "    .dataframe thead th {\n",
       "        text-align: right;\n",
       "    }\n",
       "</style>\n",
       "<table border=\"1\" class=\"dataframe\">\n",
       "  <thead>\n",
       "    <tr style=\"text-align: right;\">\n",
       "      <th></th>\n",
       "      <th>object_type</th>\n",
       "      <th>number</th>\n",
       "    </tr>\n",
       "  </thead>\n",
       "  <tbody>\n",
       "    <tr>\n",
       "      <th>8</th>\n",
       "      <td>столовая</td>\n",
       "      <td>130.246618</td>\n",
       "    </tr>\n",
       "    <tr>\n",
       "      <th>7</th>\n",
       "      <td>ресторан</td>\n",
       "      <td>96.834136</td>\n",
       "    </tr>\n",
       "    <tr>\n",
       "      <th>1</th>\n",
       "      <td>буфет</td>\n",
       "      <td>51.129915</td>\n",
       "    </tr>\n",
       "    <tr>\n",
       "      <th>0</th>\n",
       "      <td>бар</td>\n",
       "      <td>43.494159</td>\n",
       "    </tr>\n",
       "    <tr>\n",
       "      <th>3</th>\n",
       "      <td>кафе</td>\n",
       "      <td>39.716019</td>\n",
       "    </tr>\n",
       "    <tr>\n",
       "      <th>6</th>\n",
       "      <td>пп быстр. обслужив.</td>\n",
       "      <td>20.552262</td>\n",
       "    </tr>\n",
       "    <tr>\n",
       "      <th>4</th>\n",
       "      <td>кафетерий</td>\n",
       "      <td>9.123116</td>\n",
       "    </tr>\n",
       "    <tr>\n",
       "      <th>2</th>\n",
       "      <td>закусочная</td>\n",
       "      <td>7.608333</td>\n",
       "    </tr>\n",
       "    <tr>\n",
       "      <th>5</th>\n",
       "      <td>м-н (отд-л кулинарии)</td>\n",
       "      <td>5.589744</td>\n",
       "    </tr>\n",
       "  </tbody>\n",
       "</table>\n",
       "</div>"
      ],
      "text/plain": [
       "             object_type      number\n",
       "8               столовая  130.246618\n",
       "7               ресторан   96.834136\n",
       "1                  буфет   51.129915\n",
       "0                    бар   43.494159\n",
       "3                   кафе   39.716019\n",
       "6    пп быстр. обслужив.   20.552262\n",
       "4              кафетерий    9.123116\n",
       "2             закусочная    7.608333\n",
       "5  м-н (отд-л кулинарии)    5.589744"
      ]
     },
     "execution_count": 37,
     "metadata": {},
     "output_type": "execute_result"
    }
   ],
   "source": [
    "object_type_number = df.groupby('object_type', as_index=False)['number'].mean().sort_values(by='number', ascending=False)\n",
    "\n",
    "#выведим полученный результат\n",
    "object_type_number"
   ]
  },
  {
   "cell_type": "markdown",
   "id": "c4df8ebc",
   "metadata": {},
   "source": [
    "Построим график по отношению среднего количества посадочных мест к видам ООП"
   ]
  },
  {
   "cell_type": "code",
   "execution_count": 38,
   "id": "fc8c037e",
   "metadata": {},
   "outputs": [
    {
     "data": {
      "image/png": "[encoded data removed]",
      "text/plain": [
       "<Figure size 1080x432 with 1 Axes>"
      ]
     },
     "metadata": {
      "needs_background": "light"
     },
     "output_type": "display_data"
    }
   ],
   "source": [
    "barplot_df(object_type_number, 'Отношение среднего количества посадочных мест к видам ООП', y='number', ylabel='Среднее количество посадочных мест')"
   ]
  },
  {
   "cell_type": "markdown",
   "id": "1c805a15",
   "metadata": {},
   "source": [
    "Явно выделяются два вида ООП - 'Столовая', 'Ресторан' со средним количеством посадочных мест 130, 97 соответственно. Аутсайдерами по среднему количеству посадочных мест являются 'Кафетерий', 'Закусочная', 'М-н(отдел кулинария)'."
   ]
  },
  {
   "cell_type": "markdown",
   "id": "141b06c6",
   "metadata": {},
   "source": [
    "### Информация об улицах"
   ]
  },
  {
   "cell_type": "markdown",
   "id": "b7639e1b",
   "metadata": {},
   "source": [
    "Выделим улицы в отдельную колонку двумя способами: изначально с помощью регулярных выражений, а далее остатки перебрем из базы данных всех улиц Москвы.\n",
    "\n",
    "Воспользуемся методом регулярных выражений."
   ]
  },
  {
   "cell_type": "code",
   "execution_count": 39,
   "id": "60a70a37",
   "metadata": {},
   "outputs": [],
   "source": [
    "view_streets = ['улица','ул','переулок','шоссе','проспект','площадь','проезд',\n",
    "         'село','аллея','бульвар','набережная','тупик','линия', \n",
    "                'микрорайон', 'Зеленоград', 'территория', 'километр', 'квартал']\n",
    "\n",
    "str_pat = r\".*,\\s*\\b([^,]*?(?:{})\\b[^,]*)[,$]+\".format(\"|\".join(view_streets))\n",
    "\n",
    "df['street'] = df[\"address\"].str.extract(str_pat, flags=re.I)"
   ]
  },
  {
   "cell_type": "markdown",
   "id": "e9c9d434",
   "metadata": {},
   "source": [
    "Стоит отдельно отметить, что в список обозначений улиц мы добавили значения - \"микрорайон\", \"Зеленоград\", \"территория\", \"километр\", \"квартал\""
   ]
  },
  {
   "cell_type": "markdown",
   "id": "3f18559a",
   "metadata": {},
   "source": [
    "Посчитаем сколько осталось пропущенных значений:"
   ]
  },
  {
   "cell_type": "code",
   "execution_count": 40,
   "id": "d13696c4",
   "metadata": {},
   "outputs": [
    {
     "name": "stdout",
     "output_type": "stream",
     "text": [
      "Осталось пропущенными - 179 значений\n"
     ]
    }
   ],
   "source": [
    "print(f\"Осталось пропущенными - {df['street'].isna().sum()} значений\")"
   ]
  },
  {
   "cell_type": "markdown",
   "id": "93ea65e2",
   "metadata": {},
   "source": [
    "Далее из внешнего источника скачаем базу с улицами г.Москва.\n",
    "\n",
    "Сохраним базу улиц в датафрейм `dfsr`"
   ]
  },
  {
   "cell_type": "code",
   "execution_count": 41,
   "id": "8bcd94c1",
   "metadata": {},
   "outputs": [],
   "source": [
    "dfsr = pd.read_csv('https://questhint.ru/wp-content/uploads/2022/04/mosgaz-streets.csv')"
   ]
  },
  {
   "cell_type": "markdown",
   "id": "0a5f2a8d",
   "metadata": {},
   "source": [
    "Выведим первые 5 строк датафрейма"
   ]
  },
  {
   "cell_type": "code",
   "execution_count": 42,
   "id": "205e8138",
   "metadata": {},
   "outputs": [
    {
     "data": {
      "text/html": [
       "<div>\n",
       "<style scoped>\n",
       "    .dataframe tbody tr th:only-of-type {\n",
       "        vertical-align: middle;\n",
       "    }\n",
       "\n",
       "    .dataframe tbody tr th {\n",
       "        vertical-align: top;\n",
       "    }\n",
       "\n",
       "    .dataframe thead th {\n",
       "        text-align: right;\n",
       "    }\n",
       "</style>\n",
       "<table border=\"1\" class=\"dataframe\">\n",
       "  <thead>\n",
       "    <tr style=\"text-align: right;\">\n",
       "      <th></th>\n",
       "      <th>street</th>\n",
       "      <th>areaid</th>\n",
       "      <th>okrug</th>\n",
       "      <th>area</th>\n",
       "    </tr>\n",
       "  </thead>\n",
       "  <tbody>\n",
       "    <tr>\n",
       "      <th>0</th>\n",
       "      <td>Выставочный переулок</td>\n",
       "      <td>17</td>\n",
       "      <td>ЦАО</td>\n",
       "      <td>Пресненский район</td>\n",
       "    </tr>\n",
       "    <tr>\n",
       "      <th>1</th>\n",
       "      <td>улица Гашека</td>\n",
       "      <td>17</td>\n",
       "      <td>ЦАО</td>\n",
       "      <td>Пресненский район</td>\n",
       "    </tr>\n",
       "    <tr>\n",
       "      <th>2</th>\n",
       "      <td>Большая Никитская улица</td>\n",
       "      <td>17</td>\n",
       "      <td>ЦАО</td>\n",
       "      <td>Пресненский район</td>\n",
       "    </tr>\n",
       "    <tr>\n",
       "      <th>3</th>\n",
       "      <td>Глубокий переулок</td>\n",
       "      <td>17</td>\n",
       "      <td>ЦАО</td>\n",
       "      <td>Пресненский район</td>\n",
       "    </tr>\n",
       "    <tr>\n",
       "      <th>4</th>\n",
       "      <td>Большой Гнездниковский переулок</td>\n",
       "      <td>17</td>\n",
       "      <td>ЦАО</td>\n",
       "      <td>Пресненский район</td>\n",
       "    </tr>\n",
       "  </tbody>\n",
       "</table>\n",
       "</div>"
      ],
      "text/plain": [
       "                            street  areaid okrug               area\n",
       "0             Выставочный переулок      17   ЦАО  Пресненский район\n",
       "1                     улица Гашека      17   ЦАО  Пресненский район\n",
       "2          Большая Никитская улица      17   ЦАО  Пресненский район\n",
       "3                Глубокий переулок      17   ЦАО  Пресненский район\n",
       "4  Большой Гнездниковский переулок      17   ЦАО  Пресненский район"
      ]
     },
     "execution_count": 42,
     "metadata": {},
     "output_type": "execute_result"
    }
   ],
   "source": [
    "dfsr = dfsr.rename(columns={'streetname': 'street'})\n",
    "dfsr.head()"
   ]
  },
  {
   "cell_type": "markdown",
   "id": "3260be15",
   "metadata": {},
   "source": [
    "С помощью цикла переберем базу улиц с пропущенными данными и заполним недостающие."
   ]
  },
  {
   "cell_type": "code",
   "execution_count": 43,
   "id": "fbdf4907",
   "metadata": {},
   "outputs": [],
   "source": [
    "for j in df[df['street'].isna()].index:\n",
    "    for i in range(0, len(dfsr)):\n",
    "        if dfsr.loc[i, 'street'] in df.loc[j, 'address']:\n",
    "            df.loc[j, 'street'] = dfsr.loc[i, 'street']"
   ]
  },
  {
   "cell_type": "markdown",
   "id": "4f4877a7",
   "metadata": {},
   "source": [
    "Посчитаем сколько осталось пропущенных значений:"
   ]
  },
  {
   "cell_type": "code",
   "execution_count": 44,
   "id": "1f5df572",
   "metadata": {},
   "outputs": [
    {
     "name": "stdout",
     "output_type": "stream",
     "text": [
      "Осталось пропущенными - 111 значений\n"
     ]
    }
   ],
   "source": [
    "print(f\"Осталось пропущенными - {df['street'].isna().sum()} значений\")"
   ]
  },
  {
   "cell_type": "markdown",
   "id": "d1edcaa6",
   "metadata": {},
   "source": [
    "Осталось совсем немного, менее 1%, поэтому оставшиеся пустые улицы, заполним значением \"Другие\""
   ]
  },
  {
   "cell_type": "code",
   "execution_count": 45,
   "id": "6809b0d3",
   "metadata": {},
   "outputs": [],
   "source": [
    "df['street'] = df['street'].fillna('Другие')"
   ]
  },
  {
   "cell_type": "markdown",
   "id": "c53d98ca",
   "metadata": {},
   "source": [
    "### ТОП - 10 улиц по количеству объектов ОП"
   ]
  },
  {
   "cell_type": "markdown",
   "id": "7d6f6cfe",
   "metadata": {},
   "source": [
    "Сформируем ТОП-10 улиц с самым большим количеством заведений общественного питания. \n",
    "\n",
    "Для этого сгруппируем данные."
   ]
  },
  {
   "cell_type": "code",
   "execution_count": 46,
   "id": "03f7131f",
   "metadata": {},
   "outputs": [
    {
     "data": {
      "text/html": [
       "<div>\n",
       "<style scoped>\n",
       "    .dataframe tbody tr th:only-of-type {\n",
       "        vertical-align: middle;\n",
       "    }\n",
       "\n",
       "    .dataframe tbody tr th {\n",
       "        vertical-align: top;\n",
       "    }\n",
       "\n",
       "    .dataframe thead th {\n",
       "        text-align: right;\n",
       "    }\n",
       "</style>\n",
       "<table border=\"1\" class=\"dataframe\">\n",
       "  <thead>\n",
       "    <tr style=\"text-align: right;\">\n",
       "      <th></th>\n",
       "      <th>street</th>\n",
       "      <th>count</th>\n",
       "    </tr>\n",
       "  </thead>\n",
       "  <tbody>\n",
       "    <tr>\n",
       "      <th>1470</th>\n",
       "      <td>проспект Мира</td>\n",
       "      <td>204</td>\n",
       "    </tr>\n",
       "    <tr>\n",
       "      <th>1052</th>\n",
       "      <td>Профсоюзная улица</td>\n",
       "      <td>183</td>\n",
       "    </tr>\n",
       "    <tr>\n",
       "      <th>725</th>\n",
       "      <td>Ленинградский проспект</td>\n",
       "      <td>173</td>\n",
       "    </tr>\n",
       "    <tr>\n",
       "      <th>1035</th>\n",
       "      <td>Пресненская набережная</td>\n",
       "      <td>167</td>\n",
       "    </tr>\n",
       "    <tr>\n",
       "      <th>438</th>\n",
       "      <td>Варшавское шоссе</td>\n",
       "      <td>162</td>\n",
       "    </tr>\n",
       "    <tr>\n",
       "      <th>728</th>\n",
       "      <td>Ленинский проспект</td>\n",
       "      <td>148</td>\n",
       "    </tr>\n",
       "    <tr>\n",
       "      <th>1466</th>\n",
       "      <td>проспект Вернадского</td>\n",
       "      <td>132</td>\n",
       "    </tr>\n",
       "    <tr>\n",
       "      <th>1410</th>\n",
       "      <td>город Зеленоград</td>\n",
       "      <td>129</td>\n",
       "    </tr>\n",
       "    <tr>\n",
       "      <th>715</th>\n",
       "      <td>Кутузовский проспект</td>\n",
       "      <td>114</td>\n",
       "    </tr>\n",
       "    <tr>\n",
       "      <th>639</th>\n",
       "      <td>Каширское шоссе</td>\n",
       "      <td>112</td>\n",
       "    </tr>\n",
       "  </tbody>\n",
       "</table>\n",
       "</div>"
      ],
      "text/plain": [
       "                      street  count\n",
       "1470           проспект Мира    204\n",
       "1052       Профсоюзная улица    183\n",
       "725   Ленинградский проспект    173\n",
       "1035  Пресненская набережная    167\n",
       "438         Варшавское шоссе    162\n",
       "728       Ленинский проспект    148\n",
       "1466    проспект Вернадского    132\n",
       "1410        город Зеленоград    129\n",
       "715     Кутузовский проспект    114\n",
       "639          Каширское шоссе    112"
      ]
     },
     "execution_count": 46,
     "metadata": {},
     "output_type": "execute_result"
    }
   ],
   "source": [
    "df_street_count = df.groupby('street', as_index=False)['id'].count().rename(columns={'id': 'count'}).sort_values(by='count', ascending=False)\n",
    "\n",
    "#выведим полученный результат из ТОП-10 улиц с большим количеством заведений\n",
    "df_street_count.head(10)"
   ]
  },
  {
   "cell_type": "markdown",
   "id": "969ae472",
   "metadata": {},
   "source": [
    "Создадим график в котором разместим ТОП-10 улиц с самым большим количеством заведений общественного питания."
   ]
  },
  {
   "cell_type": "code",
   "execution_count": 47,
   "id": "38ca2266",
   "metadata": {},
   "outputs": [
    {
     "data": {
      "image/png": "[encoded data removed]",
      "text/plain": [
       "<Figure size 1080x432 with 1 Axes>"
      ]
     },
     "metadata": {
      "needs_background": "light"
     },
     "output_type": "display_data"
    }
   ],
   "source": [
    "barplot_df(df_street_count.head(10), 'ТОП-10 улиц г.Москва по количеству объектов общественного питания', x='street', ylabel='Улица')"
   ]
  },
  {
   "cell_type": "markdown",
   "id": "513129ef",
   "metadata": {},
   "source": [
    "Тройка лидеров по количеству ООП являются проспект Мира, Профсоюзная улица, Ленинградский проспект."
   ]
  },
  {
   "cell_type": "markdown",
   "id": "56cbc3e3",
   "metadata": {},
   "source": [
    "Для того, чтобы выяснить по каким районам проходят улицы из ТОП-10, присоедим данные с районами к общему датафрейму."
   ]
  },
  {
   "cell_type": "code",
   "execution_count": 48,
   "id": "205a278f",
   "metadata": {},
   "outputs": [],
   "source": [
    "dfr = df.merge(dfsr[['street', 'okrug', 'area']], on='street', how='left')"
   ]
  },
  {
   "cell_type": "markdown",
   "id": "3de94fcd",
   "metadata": {},
   "source": [
    "Список районов в которых находится ТОП-10 улиц с самым большим количеством заведений общественного питания"
   ]
  },
  {
   "cell_type": "code",
   "execution_count": 49,
   "id": "07889b53",
   "metadata": {},
   "outputs": [
    {
     "name": "stdout",
     "output_type": "stream",
     "text": [
      "Район Чертаново Центральное\n",
      "Район Чертаново Северное\n",
      "Район Чертаново Южное\n",
      "Донской район\n",
      "Район Нагатино-Садовники\n",
      "Нагорный район\n",
      "Район Северное Бутово\n",
      "Район Южное Бутово\n",
      "Район Проспект Вернадского\n",
      "Район Раменки\n",
      "Район Тропарево-Никулино\n",
      "Район Гагаринский\n",
      "Ломоносовский район\n",
      "Район Дорогомилово\n",
      "Район Фили-Давыдково\n",
      "Район Москворечье-Сабурово\n",
      "Район Орехово-Борисово Южное\n",
      "Район Орехово-Борисово Северное\n",
      "Район Аэропорт\n",
      "Район Беговой\n",
      "Хорошевский район\n",
      "Район Сокол\n",
      "Обручевский район\n",
      "Район Теплый Стан\n",
      "Район Якиманка\n",
      "Алексеевский район\n",
      "Ярославский Район\n",
      "Район Марьина роща\n",
      "Останкинский район\n",
      "Район Ростокино\n",
      "Район Свиблово\n",
      "Мещанский район\n",
      "Академический район\n",
      "Район Черемушки\n",
      "Район Ясенево\n",
      "Район Коньково\n",
      "Район Крюково\n",
      "Район Матушкино-Савелки\n",
      "Панфиловский район\n",
      "Пресненский район\n"
     ]
    }
   ],
   "source": [
    "for i in list(dfr[dfr['street'].isin(list(df_street_count.head(10)['street']))]['area'].unique()):\n",
    "    print(i)"
   ]
  },
  {
   "cell_type": "markdown",
   "id": "bd68e64d",
   "metadata": {},
   "source": [
    "Кол-во вышеперечисленных районов г.Москва:"
   ]
  },
  {
   "cell_type": "code",
   "execution_count": 50,
   "id": "92cb3f0a",
   "metadata": {
    "scrolled": true
   },
   "outputs": [
    {
     "name": "stdout",
     "output_type": "stream",
     "text": [
      "Кол-во вышеперечисленных районов г.Москва - 40 районов из 123 всего по Москве\n"
     ]
    }
   ],
   "source": [
    "print(f\"Кол-во вышеперечисленных районов г.Москва - {dfr[dfr['street'].isin(list(df_street_count.head(10)['street']))]['area'].nunique()} районов из {int(dfsr[['area']].nunique())} всего по Москве\")"
   ]
  },
  {
   "cell_type": "markdown",
   "id": "d556b175",
   "metadata": {},
   "source": [
    "Получилось в 4 раза больше районов чем ТОП-10 улиц, это связано с тем, что улицы проходя по нескольким районам."
   ]
  },
  {
   "cell_type": "markdown",
   "id": "b9e72166",
   "metadata": {},
   "source": [
    "### Улицы с одним объектом ОП"
   ]
  },
  {
   "cell_type": "markdown",
   "id": "98bb9652",
   "metadata": {},
   "source": [
    "Выведим кол-во улиц на которых размещен только 1 объект общественного питания:"
   ]
  },
  {
   "cell_type": "code",
   "execution_count": 51,
   "id": "7eab78de",
   "metadata": {},
   "outputs": [
    {
     "name": "stdout",
     "output_type": "stream",
     "text": [
      "Количество улиц на которых размещен только 1 объект общественного питания - 577 улиц\n"
     ]
    }
   ],
   "source": [
    "print(f\"Количество улиц на которых размещен только 1 объект общественного питания - {df_street_count[df_street_count['count'] == 1]['street'].count()} улиц\")"
   ]
  },
  {
   "cell_type": "markdown",
   "id": "4dc23412",
   "metadata": {},
   "source": [
    "Выведим весь список районов в которых располагаются улицы в которых размещенно только 1 заведение общественного питания:"
   ]
  },
  {
   "cell_type": "code",
   "execution_count": 52,
   "id": "2a67248e",
   "metadata": {},
   "outputs": [
    {
     "name": "stdout",
     "output_type": "stream",
     "text": [
      "Район Арбат\n",
      "Район Сокольники\n",
      "Район Аэропорт\n",
      "Район Хорошево-Мневники\n",
      "Район Ростокино\n",
      "Мещанский район\n",
      "Район Беговой\n",
      "Район Хамовники\n",
      "Тверской район\n",
      "Район Марьина роща\n",
      "Можайский Район\n",
      "Район Богородское\n",
      "Район Преображенское\n",
      "Район Дорогомилово\n",
      "Район Соколиная Гора\n",
      "Басманный район\n",
      "Район Кунцево\n",
      "Район Лефортово\n",
      "Савеловский район\n",
      "Донской район\n",
      "Район Котловка\n",
      "Район Замоскворечье\n",
      "Район Гольяново\n",
      "Район Фили-Давыдково\n",
      "Нижегородский район\n",
      "Район Раменки\n",
      "Район Люблино\n",
      "Район Свиблово\n",
      "Таганский район\n",
      "Красносельский район\n",
      "Район Южное Бутово\n",
      "Район Якиманка\n",
      "Рязанский район\n",
      "Район Покровское-Стрешнево\n",
      "nan\n",
      "Район Внуково\n",
      "Район Царицыно\n",
      "Головинский район\n",
      "Лосиноостровский район\n",
      "Останкинский район\n",
      "Район Коптево\n",
      "Пресненский район\n",
      "Район Косино-Ухтомский\n",
      "Район Ивановское\n",
      "Бутырский район\n",
      "Район Метрогородок\n",
      "Район Щукино\n",
      "Район Чертаново Южное\n",
      "Район Ясенево\n",
      "Район Зюзино\n",
      "Алтуфьевский район\n",
      "Тимирязевский Район\n",
      "Дмитровский район\n",
      "Бескудниковский Район\n",
      "Район Сокол\n",
      "Район Левобережный\n",
      "Молжаниновский район\n",
      "Район Солнцево\n",
      "Нагорный район\n",
      "Район Южное Тушино\n",
      "Район Измайлово\n",
      "Район Северное Измайлово\n",
      "Район Восточное Измайлово\n",
      "Хорошевский район\n",
      "Район Матушкино-Савелки\n",
      "Панфиловский район\n",
      "Даниловский район\n",
      "Район Новогиреево\n",
      "Район Перово\n",
      "Южнопортовый Район\n",
      "Бабушкинский район\n",
      "Ярославский Район\n",
      "Алексеевский район\n",
      "Район Выхино-Жулебино\n",
      "Район Текстильщики\n",
      "Район Марьино\n",
      "Район Печатники\n",
      "Район Северное Бутово\n",
      "Войковский Район\n",
      "Район Южное Медведково\n",
      "Район Северное Медведково\n",
      "Район Отрадное\n",
      "Район Восточный\n",
      "Район Кузьминки\n",
      "Район Черемушки\n",
      "Район Коньково\n",
      "Обручевский район\n",
      "Район Митино\n",
      "Район Куркино\n",
      "Район Строгино\n",
      "Район Крюково\n",
      "Район Бирюлево Восточное\n",
      "Район Москворечье-Сабурово\n",
      "Район Ново-Переделкино\n",
      "Район Северный\n",
      "Район Лианозово\n",
      "Район Очаково-Матвеевское\n",
      "Район Западное Дегунино\n",
      "Район Марфино\n",
      "Район Гагаринский\n",
      "Район Чертаново Северное\n",
      "Район Филевский Парк\n"
     ]
    }
   ],
   "source": [
    "for i in list(dfr[dfr['street'].isin(list(df_street_count[df_street_count['count'] == 1]['street']))]['area'].unique()):\n",
    "    print(i)"
   ]
  },
  {
   "cell_type": "code",
   "execution_count": 53,
   "id": "f195617b",
   "metadata": {},
   "outputs": [
    {
     "name": "stdout",
     "output_type": "stream",
     "text": [
      "Кол-во вышеперечисленных районов г.Москва - 101 районов из 123 всего по Москве\n"
     ]
    }
   ],
   "source": [
    "print(f\"Кол-во вышеперечисленных районов г.Москва - {dfr[dfr['street'].isin(list(df_street_count[df_street_count['count'] == 1]['street']))]['area'].nunique()} районов из {int(dfsr[['area']].nunique())} всего по Москве\")"
   ]
  },
  {
   "cell_type": "markdown",
   "id": "49b77589",
   "metadata": {},
   "source": [
    "Количество улиц на которых размещен только 1 объект общественного питания - 577 улиц.\n",
    "\n",
    "В список районов, в которых находится улицы с 1м заведением общественного питания вошел 101 район."
   ]
  },
  {
   "cell_type": "markdown",
   "id": "41f368de",
   "metadata": {},
   "source": [
    "### Распределение количества посадочных мест для улиц с большим количеством объектов ОП"
   ]
  },
  {
   "cell_type": "markdown",
   "id": "ab95bcca",
   "metadata": {},
   "source": [
    "Исследуем распределение количества посадочных мест для улиц с большим количеством объектов общественного питания. Найдем закономерности.\n",
    "\n",
    "Исследуем данные по ТОП-50 улиц и по ТОП-10.\n",
    "\n",
    "Создадим датафрейм из ТОП-50 улиц "
   ]
  },
  {
   "cell_type": "code",
   "execution_count": 54,
   "id": "1cade662",
   "metadata": {
    "scrolled": false
   },
   "outputs": [],
   "source": [
    "df_street_50 = df[df['street'].isin(list(df_street_count.head(50)['street']))]"
   ]
  },
  {
   "cell_type": "markdown",
   "id": "197bf5b6",
   "metadata": {},
   "source": [
    "Построим гистограмму по ТОП-50 улицам, отношению количества посадочных мест к количеству заведений, с ограничением в 400 мест"
   ]
  },
  {
   "cell_type": "code",
   "execution_count": 55,
   "id": "a3650097",
   "metadata": {},
   "outputs": [
    {
     "data": {
      "image/png": "[encoded data removed]",
      "text/plain": [
       "<Figure size 1080x504 with 1 Axes>"
      ]
     },
     "metadata": {
      "needs_background": "light"
     },
     "output_type": "display_data"
    }
   ],
   "source": [
    "plt.figure(figsize=(15, 6))\n",
    "df_street_50['number'].hist(bins=100, figsize=(15, 7), grid=True, range=(0, 400));\n",
    "plt.suptitle('Гистограмма отношения количества посадочных мест к количеству заведений по ТОП-50 улицам'.upper())\n",
    "plt.xlabel('Посадочные места, мест'.upper())\n",
    "plt.ylabel('Количество заведений, шт.'.upper())\n",
    "plt.show()"
   ]
  },
  {
   "cell_type": "markdown",
   "id": "b627aba8",
   "metadata": {},
   "source": [
    "Сгруппируем данные для выявления закономерности"
   ]
  },
  {
   "cell_type": "code",
   "execution_count": 56,
   "id": "6a022e15",
   "metadata": {},
   "outputs": [],
   "source": [
    "df_street_group_50 = df_street_50.groupby('number', as_index=False)['id'].count().rename(columns={'id': 'count'})"
   ]
  },
  {
   "cell_type": "markdown",
   "id": "cfbe1119",
   "metadata": {},
   "source": [
    "Выведим ТОП-10 по отношению количества заведений ОП к количеству посадочных мест"
   ]
  },
  {
   "cell_type": "code",
   "execution_count": 57,
   "id": "8fe59bb7",
   "metadata": {},
   "outputs": [
    {
     "data": {
      "text/html": [
       "<div>\n",
       "<style scoped>\n",
       "    .dataframe tbody tr th:only-of-type {\n",
       "        vertical-align: middle;\n",
       "    }\n",
       "\n",
       "    .dataframe tbody tr th {\n",
       "        vertical-align: top;\n",
       "    }\n",
       "\n",
       "    .dataframe thead th {\n",
       "        text-align: right;\n",
       "    }\n",
       "</style>\n",
       "<table border=\"1\" class=\"dataframe\">\n",
       "  <thead>\n",
       "    <tr style=\"text-align: right;\">\n",
       "      <th></th>\n",
       "      <th>number</th>\n",
       "      <th>count</th>\n",
       "    </tr>\n",
       "  </thead>\n",
       "  <tbody>\n",
       "    <tr>\n",
       "      <th>0</th>\n",
       "      <td>0</td>\n",
       "      <td>544</td>\n",
       "    </tr>\n",
       "    <tr>\n",
       "      <th>10</th>\n",
       "      <td>10</td>\n",
       "      <td>251</td>\n",
       "    </tr>\n",
       "    <tr>\n",
       "      <th>20</th>\n",
       "      <td>20</td>\n",
       "      <td>248</td>\n",
       "    </tr>\n",
       "    <tr>\n",
       "      <th>39</th>\n",
       "      <td>40</td>\n",
       "      <td>222</td>\n",
       "    </tr>\n",
       "    <tr>\n",
       "      <th>29</th>\n",
       "      <td>30</td>\n",
       "      <td>185</td>\n",
       "    </tr>\n",
       "    <tr>\n",
       "      <th>49</th>\n",
       "      <td>50</td>\n",
       "      <td>155</td>\n",
       "    </tr>\n",
       "    <tr>\n",
       "      <th>59</th>\n",
       "      <td>60</td>\n",
       "      <td>128</td>\n",
       "    </tr>\n",
       "    <tr>\n",
       "      <th>79</th>\n",
       "      <td>80</td>\n",
       "      <td>112</td>\n",
       "    </tr>\n",
       "    <tr>\n",
       "      <th>15</th>\n",
       "      <td>15</td>\n",
       "      <td>112</td>\n",
       "    </tr>\n",
       "    <tr>\n",
       "      <th>25</th>\n",
       "      <td>25</td>\n",
       "      <td>100</td>\n",
       "    </tr>\n",
       "  </tbody>\n",
       "</table>\n",
       "</div>"
      ],
      "text/plain": [
       "    number  count\n",
       "0        0    544\n",
       "10      10    251\n",
       "20      20    248\n",
       "39      40    222\n",
       "29      30    185\n",
       "49      50    155\n",
       "59      60    128\n",
       "79      80    112\n",
       "15      15    112\n",
       "25      25    100"
      ]
     },
     "execution_count": 57,
     "metadata": {},
     "output_type": "execute_result"
    }
   ],
   "source": [
    "df_street_group_50.sort_values(by='count', ascending=False).head(10)"
   ]
  },
  {
   "cell_type": "markdown",
   "id": "de8b0ce1",
   "metadata": {},
   "source": [
    "Видим, что ТОП-10 в основе своей составляют заведения с округленными до десяток посадочных мест, тройка лидеров 0, 10, 20 посадочных мест."
   ]
  },
  {
   "cell_type": "markdown",
   "id": "dff49db9",
   "metadata": {},
   "source": [
    "Далее изучим закономерности по ТОП-10 улиц, будет ли подобная закономерность?\n",
    "\n",
    "Создадим датафрейм, сгруппируем, как и в прошлых расчетах."
   ]
  },
  {
   "cell_type": "code",
   "execution_count": 58,
   "id": "d53ce802",
   "metadata": {},
   "outputs": [],
   "source": [
    "df_street_10 = df[df['street'].isin(list(df_street_count.head(10)['street']))]\n",
    "\n",
    "df_street_group_10 = df_street_10.groupby('number', as_index=False)['id'].count().rename(columns={'id': 'count'})"
   ]
  },
  {
   "cell_type": "markdown",
   "id": "74aa64da",
   "metadata": {},
   "source": [
    "Построим гистограмму по полученным данным"
   ]
  },
  {
   "cell_type": "code",
   "execution_count": 59,
   "id": "ce5a5fcb",
   "metadata": {},
   "outputs": [
    {
     "data": {
      "image/png": "[encoded data removed]",
      "text/plain": [
       "<Figure size 1080x504 with 1 Axes>"
      ]
     },
     "metadata": {
      "needs_background": "light"
     },
     "output_type": "display_data"
    }
   ],
   "source": [
    "plt.figure(figsize=(15, 6))\n",
    "df_street_10['number'].hist(bins=100, figsize=(15, 7), grid=True, range=(0, 400));\n",
    "plt.suptitle('Гистограмма отношения количества посадочных мест к количеству заведений по ТОП-10 улицам'.upper())\n",
    "plt.xlabel('Посадочные места, мест'.upper())\n",
    "plt.ylabel('Количество заведений, шт.'.upper())\n",
    "plt.show()"
   ]
  },
  {
   "cell_type": "markdown",
   "id": "e0164786",
   "metadata": {},
   "source": [
    "Наблюдаются подобные всплески, как и по ТОП-50"
   ]
  },
  {
   "cell_type": "markdown",
   "id": "0ebd29b8",
   "metadata": {},
   "source": [
    "Сформируем ТОП-10 значений количества заведений ОП по количеству посадочных мест"
   ]
  },
  {
   "cell_type": "code",
   "execution_count": 60,
   "id": "15804ea3",
   "metadata": {
    "scrolled": true
   },
   "outputs": [
    {
     "data": {
      "text/html": [
       "<div>\n",
       "<style scoped>\n",
       "    .dataframe tbody tr th:only-of-type {\n",
       "        vertical-align: middle;\n",
       "    }\n",
       "\n",
       "    .dataframe tbody tr th {\n",
       "        vertical-align: top;\n",
       "    }\n",
       "\n",
       "    .dataframe thead th {\n",
       "        text-align: right;\n",
       "    }\n",
       "</style>\n",
       "<table border=\"1\" class=\"dataframe\">\n",
       "  <thead>\n",
       "    <tr style=\"text-align: right;\">\n",
       "      <th></th>\n",
       "      <th>number</th>\n",
       "      <th>count</th>\n",
       "    </tr>\n",
       "  </thead>\n",
       "  <tbody>\n",
       "    <tr>\n",
       "      <th>0</th>\n",
       "      <td>0</td>\n",
       "      <td>143</td>\n",
       "    </tr>\n",
       "    <tr>\n",
       "      <th>39</th>\n",
       "      <td>40</td>\n",
       "      <td>93</td>\n",
       "    </tr>\n",
       "    <tr>\n",
       "      <th>20</th>\n",
       "      <td>20</td>\n",
       "      <td>83</td>\n",
       "    </tr>\n",
       "    <tr>\n",
       "      <th>29</th>\n",
       "      <td>30</td>\n",
       "      <td>63</td>\n",
       "    </tr>\n",
       "    <tr>\n",
       "      <th>49</th>\n",
       "      <td>50</td>\n",
       "      <td>60</td>\n",
       "    </tr>\n",
       "    <tr>\n",
       "      <th>57</th>\n",
       "      <td>60</td>\n",
       "      <td>58</td>\n",
       "    </tr>\n",
       "    <tr>\n",
       "      <th>10</th>\n",
       "      <td>10</td>\n",
       "      <td>54</td>\n",
       "    </tr>\n",
       "    <tr>\n",
       "      <th>87</th>\n",
       "      <td>100</td>\n",
       "      <td>47</td>\n",
       "    </tr>\n",
       "    <tr>\n",
       "      <th>70</th>\n",
       "      <td>80</td>\n",
       "      <td>45</td>\n",
       "    </tr>\n",
       "    <tr>\n",
       "      <th>15</th>\n",
       "      <td>15</td>\n",
       "      <td>35</td>\n",
       "    </tr>\n",
       "  </tbody>\n",
       "</table>\n",
       "</div>"
      ],
      "text/plain": [
       "    number  count\n",
       "0        0    143\n",
       "39      40     93\n",
       "20      20     83\n",
       "29      30     63\n",
       "49      50     60\n",
       "57      60     58\n",
       "10      10     54\n",
       "87     100     47\n",
       "70      80     45\n",
       "15      15     35"
      ]
     },
     "execution_count": 60,
     "metadata": {},
     "output_type": "execute_result"
    }
   ],
   "source": [
    "df_street_group_10.sort_values(by='count', ascending=False).head(10)"
   ]
  },
  {
   "cell_type": "markdown",
   "id": "a2dc4cfa",
   "metadata": {},
   "source": [
    "Похожая ситуация, однако в тройку вошли заведения с 0, 40 и 20 посадочными местами, а заведения с 10 посадочными местами спустилось на 7 место, не так оно ходовое в ТОП-10 улицах."
   ]
  },
  {
   "cell_type": "markdown",
   "id": "544ffa0c",
   "metadata": {},
   "source": [
    "### Вывод"
   ]
  },
  {
   "cell_type": "markdown",
   "id": "ecb57d62",
   "metadata": {},
   "source": [
    "Мы успешно провели работу по исследованию рынка заведений общественного питания Москвы.\n",
    "Провели подготовительную работу, исследования, построили все необходимые графики, гистрограммы, таблицы.\n",
    "\n",
    "На основе исследования можно сделать следующие выводы:\n",
    "\n",
    "- Самым популярным видом заведения является «Кафе», далее идут «Столовая», «Ресторан», «Предприятия быстрого обслуживания»\n",
    "- Несетевых заведений в 4 раза больше, чем сетевых - 12398 против 2968 шт. Несетевые занимают 80% рынка.\n",
    "- 92% рынка сетевых организаций по количеству ООП занимают 'Кафе', 'ПП быстрого обслуживания', 'Рестораны' с долями 47%, 26.7%, 18.3% соответственно.\n",
    "- Большая часть (57,7%) сетевых заведений имеет количество посадочных мест ниже среднего до 43 мест.\n",
    "- По среднему количеству посадочных мест явно выделяются два вида ООП - 'Столовая', 'Ресторан' со средним количеством посадочных мест в 130 и 97 соответственно. Лидеры по популярности «Кафе» и «Пп быстрого обслуживания» - 40 и 21 посадочное место.\n",
    "- Количество улиц, на которых размещен только 1 объект общественного питания,  составляет 577 улиц. Они располагаются в 101 районе Москвы.\n",
    "- Самыми популярными по количеству посадочных мест, являются с заведения с 0, 40 и 20 посадочными местами.\n",
    "\n",
    "Рекомендации. Стоит обратить внимание на:\n",
    "- популярные виды заведений, такие как – кафе, столовая, ресторан, предприятия быстрого обслуживания\n",
    "- количество посадочных мест - 40, 20 или беспосадочные заведения.\n",
    "- на улицы и районы в которых мало ООП"
   ]
  },
  {
   "cell_type": "markdown",
   "id": "110f3867",
   "metadata": {},
   "source": [
    "## Презентация"
   ]
  },
  {
   "cell_type": "markdown",
   "id": "d7fb3547",
   "metadata": {},
   "source": [
    "Презентация: <https://disk.yandex.ru/i/DVrAt8ceTy_yyg> "
   ]
  }
 ],
 "metadata": {
  "ExecuteTimeLog": [
   {
    "duration": 9523,
    "start_time": "2022-05-06T16:18:43.717Z"
   },
   {
    "duration": 239,
    "start_time": "2022-05-06T16:18:53.294Z"
   },
   {
    "duration": 71,
    "start_time": "2022-05-06T16:18:53.535Z"
   },
   {
    "duration": 16,
    "start_time": "2022-05-06T16:18:53.608Z"
   },
   {
    "duration": 5,
    "start_time": "2022-05-06T16:18:53.627Z"
   },
   {
    "duration": 73,
    "start_time": "2022-05-06T16:18:53.633Z"
   },
   {
    "duration": 29,
    "start_time": "2022-05-06T16:18:53.708Z"
   },
   {
    "duration": 31,
    "start_time": "2022-05-06T16:18:53.794Z"
   },
   {
    "duration": 76,
    "start_time": "2022-05-06T16:18:53.826Z"
   },
   {
    "duration": 8,
    "start_time": "2022-05-06T16:18:53.905Z"
   },
   {
    "duration": 582,
    "start_time": "2022-05-06T16:18:53.916Z"
   },
   {
    "duration": 10,
    "start_time": "2022-05-06T16:18:54.500Z"
   },
   {
    "duration": 509,
    "start_time": "2022-05-06T16:18:54.512Z"
   },
   {
    "duration": 13,
    "start_time": "2022-05-06T16:18:55.025Z"
   },
   {
    "duration": 407,
    "start_time": "2022-05-06T16:18:55.092Z"
   },
   {
    "duration": 335,
    "start_time": "2022-05-06T16:18:55.501Z"
   },
   {
    "duration": 81,
    "start_time": "2022-05-06T16:18:55.839Z"
   },
   {
    "duration": 828,
    "start_time": "2022-05-06T16:18:55.921Z"
   },
   {
    "duration": 14,
    "start_time": "2022-05-06T16:18:56.751Z"
   },
   {
    "duration": 251,
    "start_time": "2022-05-06T16:18:56.766Z"
   },
   {
    "duration": 212,
    "start_time": "2022-05-06T16:18:57.019Z"
   },
   {
    "duration": 5,
    "start_time": "2022-05-06T16:18:57.233Z"
   },
   {
    "duration": 9,
    "start_time": "2022-05-06T16:18:57.240Z"
   },
   {
    "duration": 331,
    "start_time": "2022-05-06T16:18:57.251Z"
   },
   {
    "duration": 12,
    "start_time": "2022-05-06T16:18:57.583Z"
   },
   {
    "duration": 118,
    "start_time": "2022-05-06T16:18:57.597Z"
   },
   {
    "duration": 4,
    "start_time": "2022-05-06T16:18:57.717Z"
   },
   {
    "duration": 7,
    "start_time": "2022-05-06T16:18:57.722Z"
   },
   {
    "duration": 9,
    "start_time": "2022-05-06T16:18:57.730Z"
   },
   {
    "duration": 240,
    "start_time": "2022-05-06T16:18:57.741Z"
   },
   {
    "duration": 16,
    "start_time": "2022-05-06T16:18:57.983Z"
   },
   {
    "duration": 18,
    "start_time": "2022-05-06T16:18:58.002Z"
   },
   {
    "duration": 245,
    "start_time": "2022-05-06T16:18:58.022Z"
   },
   {
    "duration": 184,
    "start_time": "2022-05-06T16:18:58.269Z"
   },
   {
    "duration": 5,
    "start_time": "2022-05-06T16:18:58.455Z"
   },
   {
    "duration": 171,
    "start_time": "2022-05-06T16:18:58.461Z"
   },
   {
    "duration": 11,
    "start_time": "2022-05-06T16:18:58.634Z"
   },
   {
    "duration": 10107,
    "start_time": "2022-05-06T16:18:58.647Z"
   },
   {
    "duration": 4,
    "start_time": "2022-05-06T16:19:08.756Z"
   },
   {
    "duration": 7,
    "start_time": "2022-05-06T16:19:08.762Z"
   },
   {
    "duration": 37,
    "start_time": "2022-05-06T16:19:08.773Z"
   },
   {
    "duration": 269,
    "start_time": "2022-05-06T16:19:08.812Z"
   },
   {
    "duration": 27,
    "start_time": "2022-05-06T16:19:09.083Z"
   },
   {
    "duration": 21,
    "start_time": "2022-05-06T16:19:09.112Z"
   },
   {
    "duration": 13,
    "start_time": "2022-05-06T16:19:09.135Z"
   },
   {
    "duration": 5,
    "start_time": "2022-05-06T16:19:09.150Z"
   },
   {
    "duration": 51,
    "start_time": "2022-05-06T16:19:09.157Z"
   },
   {
    "duration": 12,
    "start_time": "2022-05-06T16:19:09.211Z"
   },
   {
    "duration": 6,
    "start_time": "2022-05-06T16:19:09.225Z"
   },
   {
    "duration": 306,
    "start_time": "2022-05-06T16:19:09.232Z"
   },
   {
    "duration": 6,
    "start_time": "2022-05-06T16:19:09.539Z"
   },
   {
    "duration": 14,
    "start_time": "2022-05-06T16:19:09.547Z"
   },
   {
    "duration": 9,
    "start_time": "2022-05-06T16:19:09.563Z"
   },
   {
    "duration": 322,
    "start_time": "2022-05-06T16:19:09.574Z"
   },
   {
    "duration": 10,
    "start_time": "2022-05-06T16:19:09.900Z"
   }
  ],
  "kernelspec": {
   "display_name": "Python 3",
   "language": "python",
   "name": "python3"
  },
  "language_info": {
   "codemirror_mode": {
    "name": "ipython",
    "version": 3
   },
   "file_extension": ".py",
   "mimetype": "text/x-python",
   "name": "python",
   "nbconvert_exporter": "python",
   "pygments_lexer": "ipython3",
   "version": "3.8.8"
  },
  "toc": {
   "base_numbering": 1,
   "nav_menu": {},
   "number_sections": true,
   "sideBar": true,
   "skip_h1_title": true,
   "title_cell": "Содержание:",
   "title_sidebar": "Contents",
   "toc_cell": true,
   "toc_position": {
    "height": "calc(100% - 180px)",
    "left": "10px",
    "top": "150px",
    "width": "177.771px"
   },
   "toc_section_display": true,
   "toc_window_display": true
  }
 },
 "nbformat": 4,
 "nbformat_minor": 5
}
