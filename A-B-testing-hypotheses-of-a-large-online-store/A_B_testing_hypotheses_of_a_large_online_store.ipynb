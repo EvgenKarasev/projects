{
 "cells": [
  {
   "cell_type": "markdown",
   "id": "3d90e393",
   "metadata": {},
   "source": [
    "# Проект \"Принятие решений в бизнесе\""
   ]
  },
  {
   "cell_type": "markdown",
   "id": "f7e2c7fa",
   "metadata": {
    "toc": true
   },
   "source": [
    "<h1>Содержание:<span class=\"tocSkip\"></span></h1>\n",
    "<div class=\"toc\"><ul class=\"toc-item\"><li><span><a href=\"#Описание-проекта\" data-toc-modified-id=\"Описание-проекта-1\"><span class=\"toc-item-num\">1&nbsp;&nbsp;</span>Описание проекта</a></span></li><li><span><a href=\"#Часть-1.-Приоритизация-гипотез.\" data-toc-modified-id=\"Часть-1.-Приоритизация-гипотез.-2\"><span class=\"toc-item-num\">2&nbsp;&nbsp;</span>Часть 1. Приоритизация гипотез.</a></span><ul class=\"toc-item\"><li><span><a href=\"#Основная-информация\" data-toc-modified-id=\"Основная-информация-2.1\"><span class=\"toc-item-num\">2.1&nbsp;&nbsp;</span>Основная информация</a></span><ul class=\"toc-item\"><li><span><a href=\"#Вывод\" data-toc-modified-id=\"Вывод-2.1.1\"><span class=\"toc-item-num\">2.1.1&nbsp;&nbsp;</span>Вывод</a></span></li></ul></li><li><span><a href=\"#Приоритезация-гипотез-с-помощью-фреймворка-ICE\" data-toc-modified-id=\"Приоритезация-гипотез-с-помощью-фреймворка-ICE-2.2\"><span class=\"toc-item-num\">2.2&nbsp;&nbsp;</span>Приоритезация гипотез с помощью фреймворка <code>ICE</code></a></span><ul class=\"toc-item\"><li><span><a href=\"#Вывод\" data-toc-modified-id=\"Вывод-2.2.1\"><span class=\"toc-item-num\">2.2.1&nbsp;&nbsp;</span>Вывод</a></span></li></ul></li><li><span><a href=\"#Приоритезация-гипотез-с-помощью-фреймворка-RICE\" data-toc-modified-id=\"Приоритезация-гипотез-с-помощью-фреймворка-RICE-2.3\"><span class=\"toc-item-num\">2.3&nbsp;&nbsp;</span>Приоритезация гипотез с помощью фреймворка <code>RICE</code></a></span><ul class=\"toc-item\"><li><span><a href=\"#Вывод\" data-toc-modified-id=\"Вывод-2.3.1\"><span class=\"toc-item-num\">2.3.1&nbsp;&nbsp;</span>Вывод</a></span></li></ul></li><li><span><a href=\"#Вывод\" data-toc-modified-id=\"Вывод-2.4\"><span class=\"toc-item-num\">2.4&nbsp;&nbsp;</span>Вывод</a></span></li></ul></li><li><span><a href=\"#Часть-2.-Анализ-A/B-теста.\" data-toc-modified-id=\"Часть-2.-Анализ-A/B-теста.-3\"><span class=\"toc-item-num\">3&nbsp;&nbsp;</span>Часть 2. Анализ A/B-теста.</a></span><ul class=\"toc-item\"><li><span><a href=\"#Основная-информация\" data-toc-modified-id=\"Основная-информация-3.1\"><span class=\"toc-item-num\">3.1&nbsp;&nbsp;</span>Основная информация</a></span><ul class=\"toc-item\"><li><span><a href=\"#Вывод\" data-toc-modified-id=\"Вывод-3.1.1\"><span class=\"toc-item-num\">3.1.1&nbsp;&nbsp;</span>Вывод</a></span></li></ul></li><li><span><a href=\"#Подготовка-данных\" data-toc-modified-id=\"Подготовка-данных-3.2\"><span class=\"toc-item-num\">3.2&nbsp;&nbsp;</span>Подготовка данных</a></span><ul class=\"toc-item\"><li><span><a href=\"#Вывод\" data-toc-modified-id=\"Вывод-3.2.1\"><span class=\"toc-item-num\">3.2.1&nbsp;&nbsp;</span>Вывод</a></span></li></ul></li><li><span><a href=\"#График-кумулятивной-выручки-по-группам\" data-toc-modified-id=\"График-кумулятивной-выручки-по-группам-3.3\"><span class=\"toc-item-num\">3.3&nbsp;&nbsp;</span>График кумулятивной выручки по группам</a></span><ul class=\"toc-item\"><li><span><a href=\"#Вывод\" data-toc-modified-id=\"Вывод-3.3.1\"><span class=\"toc-item-num\">3.3.1&nbsp;&nbsp;</span>Вывод</a></span></li></ul></li><li><span><a href=\"#График-кумулятивного-среднего-чека-по-группам.\" data-toc-modified-id=\"График-кумулятивного-среднего-чека-по-группам.-3.4\"><span class=\"toc-item-num\">3.4&nbsp;&nbsp;</span>График кумулятивного среднего чека по группам.</a></span><ul class=\"toc-item\"><li><span><a href=\"#Вывод\" data-toc-modified-id=\"Вывод-3.4.1\"><span class=\"toc-item-num\">3.4.1&nbsp;&nbsp;</span>Вывод</a></span></li></ul></li><li><span><a href=\"#График-относительного-изменения-кумулятивного-среднего-чека-группы-B-к-группе-A\" data-toc-modified-id=\"График-относительного-изменения-кумулятивного-среднего-чека-группы-B-к-группе-A-3.5\"><span class=\"toc-item-num\">3.5&nbsp;&nbsp;</span>График относительного изменения кумулятивного среднего чека группы B к группе A</a></span><ul class=\"toc-item\"><li><span><a href=\"#Вывод\" data-toc-modified-id=\"Вывод-3.5.1\"><span class=\"toc-item-num\">3.5.1&nbsp;&nbsp;</span>Вывод</a></span></li></ul></li><li><span><a href=\"#График-кумулятивной-конверсии-по-группам\" data-toc-modified-id=\"График-кумулятивной-конверсии-по-группам-3.6\"><span class=\"toc-item-num\">3.6&nbsp;&nbsp;</span>График кумулятивной конверсии по группам</a></span><ul class=\"toc-item\"><li><span><a href=\"#Вывод\" data-toc-modified-id=\"Вывод-3.6.1\"><span class=\"toc-item-num\">3.6.1&nbsp;&nbsp;</span>Вывод</a></span></li></ul></li><li><span><a href=\"#График-относительного-изменения-кумулятивной-конверсии-группы-B-к-группе-A\" data-toc-modified-id=\"График-относительного-изменения-кумулятивной-конверсии-группы-B-к-группе-A-3.7\"><span class=\"toc-item-num\">3.7&nbsp;&nbsp;</span>График относительного изменения кумулятивной конверсии группы B к группе A</a></span><ul class=\"toc-item\"><li><span><a href=\"#Вывод\" data-toc-modified-id=\"Вывод-3.7.1\"><span class=\"toc-item-num\">3.7.1&nbsp;&nbsp;</span>Вывод</a></span></li></ul></li><li><span><a href=\"#Точечный-график-количества-заказов-по-пользователям\" data-toc-modified-id=\"Точечный-график-количества-заказов-по-пользователям-3.8\"><span class=\"toc-item-num\">3.8&nbsp;&nbsp;</span>Точечный график количества заказов по пользователям</a></span><ul class=\"toc-item\"><li><span><a href=\"#Вывод\" data-toc-modified-id=\"Вывод-3.8.1\"><span class=\"toc-item-num\">3.8.1&nbsp;&nbsp;</span>Вывод</a></span></li></ul></li><li><span><a href=\"#95-й-и-99-й-перцентили-количества-заказов-на-пользователя\" data-toc-modified-id=\"95-й-и-99-й-перцентили-количества-заказов-на-пользователя-3.9\"><span class=\"toc-item-num\">3.9&nbsp;&nbsp;</span>95-й и 99-й перцентили количества заказов на пользователя</a></span><ul class=\"toc-item\"><li><span><a href=\"#Вывод\" data-toc-modified-id=\"Вывод-3.9.1\"><span class=\"toc-item-num\">3.9.1&nbsp;&nbsp;</span>Вывод</a></span></li></ul></li><li><span><a href=\"#Точечный-график-стоимостей-заказов\" data-toc-modified-id=\"Точечный-график-стоимостей-заказов-3.10\"><span class=\"toc-item-num\">3.10&nbsp;&nbsp;</span>Точечный график стоимостей заказов</a></span><ul class=\"toc-item\"><li><span><a href=\"#Вывод\" data-toc-modified-id=\"Вывод-3.10.1\"><span class=\"toc-item-num\">3.10.1&nbsp;&nbsp;</span>Вывод</a></span></li></ul></li><li><span><a href=\"#95-й-и-99-й-перцентили-стоимости-заказов\" data-toc-modified-id=\"95-й-и-99-й-перцентили-стоимости-заказов-3.11\"><span class=\"toc-item-num\">3.11&nbsp;&nbsp;</span>95-й и 99-й перцентили стоимости заказов</a></span><ul class=\"toc-item\"><li><span><a href=\"#Вывод\" data-toc-modified-id=\"Вывод-3.11.1\"><span class=\"toc-item-num\">3.11.1&nbsp;&nbsp;</span>Вывод</a></span></li></ul></li><li><span><a href=\"#Подготовка-данных-для-проверки-гипотез\" data-toc-modified-id=\"Подготовка-данных-для-проверки-гипотез-3.12\"><span class=\"toc-item-num\">3.12&nbsp;&nbsp;</span>Подготовка данных для проверки гипотез</a></span><ul class=\"toc-item\"><li><span><a href=\"#Вывод\" data-toc-modified-id=\"Вывод-3.12.1\"><span class=\"toc-item-num\">3.12.1&nbsp;&nbsp;</span>Вывод</a></span></li></ul></li><li><span><a href=\"#Статистическая-значимость-различий-в-конверсии-между-группами-по-«сырым»-данным\" data-toc-modified-id=\"Статистическая-значимость-различий-в-конверсии-между-группами-по-«сырым»-данным-3.13\"><span class=\"toc-item-num\">3.13&nbsp;&nbsp;</span>Статистическая значимость различий в конверсии между группами по «сырым» данным</a></span><ul class=\"toc-item\"><li><span><a href=\"#Вывод\" data-toc-modified-id=\"Вывод-3.13.1\"><span class=\"toc-item-num\">3.13.1&nbsp;&nbsp;</span>Вывод</a></span></li></ul></li><li><span><a href=\"#Статистическая-значимость-различий-в-среднем-чеке-заказа-между-группами-по-«сырым»-данным\" data-toc-modified-id=\"Статистическая-значимость-различий-в-среднем-чеке-заказа-между-группами-по-«сырым»-данным-3.14\"><span class=\"toc-item-num\">3.14&nbsp;&nbsp;</span>Статистическая значимость различий в среднем чеке заказа между группами по «сырым» данным</a></span><ul class=\"toc-item\"><li><span><a href=\"#Вывод\" data-toc-modified-id=\"Вывод-3.14.1\"><span class=\"toc-item-num\">3.14.1&nbsp;&nbsp;</span>Вывод</a></span></li></ul></li><li><span><a href=\"#Статистическая-значимость-различий-в-конверсии-между-группами-по-«очищенным»-данным\" data-toc-modified-id=\"Статистическая-значимость-различий-в-конверсии-между-группами-по-«очищенным»-данным-3.15\"><span class=\"toc-item-num\">3.15&nbsp;&nbsp;</span>Статистическая значимость различий в конверсии между группами по «очищенным» данным</a></span><ul class=\"toc-item\"><li><span><a href=\"#Вывод\" data-toc-modified-id=\"Вывод-3.15.1\"><span class=\"toc-item-num\">3.15.1&nbsp;&nbsp;</span>Вывод</a></span></li></ul></li><li><span><a href=\"#Статистическая-значимость-различий-в-среднем-чеке-заказа-между-группами-по-«очищенным»-данным\" data-toc-modified-id=\"Статистическая-значимость-различий-в-среднем-чеке-заказа-между-группами-по-«очищенным»-данным-3.16\"><span class=\"toc-item-num\">3.16&nbsp;&nbsp;</span>Статистическая значимость различий в среднем чеке заказа между группами по «очищенным» данным</a></span><ul class=\"toc-item\"><li><span><a href=\"#Вывод\" data-toc-modified-id=\"Вывод-3.16.1\"><span class=\"toc-item-num\">3.16.1&nbsp;&nbsp;</span>Вывод</a></span></li></ul></li><li><span><a href=\"#Решение-по-результатам-теста\" data-toc-modified-id=\"Решение-по-результатам-теста-3.17\"><span class=\"toc-item-num\">3.17&nbsp;&nbsp;</span>Решение по результатам теста</a></span></li></ul></li></ul></div>"
   ]
  },
  {
   "cell_type": "markdown",
   "id": "068978bf",
   "metadata": {},
   "source": [
    "## Описание проекта"
   ]
  },
  {
   "cell_type": "markdown",
   "id": "a6413b5e",
   "metadata": {},
   "source": [
    "Вы — аналитик крупного интернет-магазина. Вместе с отделом маркетинга вы подготовили список гипотез для увеличения выручки.\n",
    "\n",
    "Приоритизируйте гипотезы, запустите A/B-тест и проанализируйте результаты."
   ]
  },
  {
   "cell_type": "markdown",
   "id": "903734f4",
   "metadata": {},
   "source": [
    "## Часть 1. Приоритизация гипотез. "
   ]
  },
  {
   "cell_type": "markdown",
   "id": "f925c562",
   "metadata": {},
   "source": [
    "В файле даны список гипотез по увеличению выручки интернет-магазина с указанными параметрами Reach, Impact, Confidence, Effort. Необходимо провести приоритезацию."
   ]
  },
  {
   "cell_type": "markdown",
   "id": "efddcfbc",
   "metadata": {},
   "source": [
    "### Основная информация"
   ]
  },
  {
   "cell_type": "markdown",
   "id": "ca151bad",
   "metadata": {},
   "source": [
    "Импортируем необходимые библиотеки"
   ]
  },
  {
   "cell_type": "code",
   "execution_count": 1,
   "id": "168417ab",
   "metadata": {},
   "outputs": [],
   "source": [
    "import pandas as pd\n",
    "import datetime as dt\n",
    "import numpy as np\n",
    "import matplotlib.pyplot as plt\n",
    "from pandas.plotting import register_matplotlib_converters\n",
    "import warnings\n",
    "from scipy import stats as st\n",
    "\n",
    "\n",
    "pd.set_option('display.max_colwidth', 150)"
   ]
  },
  {
   "cell_type": "markdown",
   "id": "bc109325",
   "metadata": {},
   "source": [
    "Загрузим данные"
   ]
  },
  {
   "cell_type": "code",
   "execution_count": 2,
   "id": "51fa403a",
   "metadata": {},
   "outputs": [],
   "source": [
    "try:\n",
    "    df = pd.read_csv('/datasets/hypothesis.csv', sep=',')\n",
    "except:\n",
    "    df = pd.read_csv('hypothesis.csv', sep=',')"
   ]
  },
  {
   "cell_type": "markdown",
   "id": "95bdacdc",
   "metadata": {},
   "source": [
    "Выведим полученные данные"
   ]
  },
  {
   "cell_type": "code",
   "execution_count": 3,
   "id": "97acefe9",
   "metadata": {},
   "outputs": [
    {
     "data": {
      "text/html": [
       "<div>\n",
       "<style scoped>\n",
       "    .dataframe tbody tr th:only-of-type {\n",
       "        vertical-align: middle;\n",
       "    }\n",
       "\n",
       "    .dataframe tbody tr th {\n",
       "        vertical-align: top;\n",
       "    }\n",
       "\n",
       "    .dataframe thead th {\n",
       "        text-align: right;\n",
       "    }\n",
       "</style>\n",
       "<table border=\"1\" class=\"dataframe\">\n",
       "  <thead>\n",
       "    <tr style=\"text-align: right;\">\n",
       "      <th></th>\n",
       "      <th>Hypothesis</th>\n",
       "      <th>Reach</th>\n",
       "      <th>Impact</th>\n",
       "      <th>Confidence</th>\n",
       "      <th>Efforts</th>\n",
       "    </tr>\n",
       "  </thead>\n",
       "  <tbody>\n",
       "    <tr>\n",
       "      <th>0</th>\n",
       "      <td>Добавить два новых канала привлечения трафика, что позволит привлекать на 30% больше пользователей</td>\n",
       "      <td>3</td>\n",
       "      <td>10</td>\n",
       "      <td>8</td>\n",
       "      <td>6</td>\n",
       "    </tr>\n",
       "    <tr>\n",
       "      <th>1</th>\n",
       "      <td>Запустить собственную службу доставки, что сократит срок доставки заказов</td>\n",
       "      <td>2</td>\n",
       "      <td>5</td>\n",
       "      <td>4</td>\n",
       "      <td>10</td>\n",
       "    </tr>\n",
       "    <tr>\n",
       "      <th>2</th>\n",
       "      <td>Добавить блоки рекомендаций товаров на сайт интернет магазина, чтобы повысить конверсию и средний чек заказа</td>\n",
       "      <td>8</td>\n",
       "      <td>3</td>\n",
       "      <td>7</td>\n",
       "      <td>3</td>\n",
       "    </tr>\n",
       "    <tr>\n",
       "      <th>3</th>\n",
       "      <td>Изменить структура категорий, что увеличит конверсию, т.к. пользователи быстрее найдут нужный товар</td>\n",
       "      <td>8</td>\n",
       "      <td>3</td>\n",
       "      <td>3</td>\n",
       "      <td>8</td>\n",
       "    </tr>\n",
       "    <tr>\n",
       "      <th>4</th>\n",
       "      <td>Изменить цвет фона главной страницы, чтобы увеличить вовлеченность пользователей</td>\n",
       "      <td>3</td>\n",
       "      <td>1</td>\n",
       "      <td>1</td>\n",
       "      <td>1</td>\n",
       "    </tr>\n",
       "    <tr>\n",
       "      <th>5</th>\n",
       "      <td>Добавить страницу отзывов клиентов о магазине, что позволит увеличить количество заказов</td>\n",
       "      <td>3</td>\n",
       "      <td>2</td>\n",
       "      <td>2</td>\n",
       "      <td>3</td>\n",
       "    </tr>\n",
       "    <tr>\n",
       "      <th>6</th>\n",
       "      <td>Показать на главной странице баннеры с актуальными акциями и распродажами, чтобы увеличить конверсию</td>\n",
       "      <td>5</td>\n",
       "      <td>3</td>\n",
       "      <td>8</td>\n",
       "      <td>3</td>\n",
       "    </tr>\n",
       "    <tr>\n",
       "      <th>7</th>\n",
       "      <td>Добавить форму подписки на все основные страницы, чтобы собрать базу клиентов для email-рассылок</td>\n",
       "      <td>10</td>\n",
       "      <td>7</td>\n",
       "      <td>8</td>\n",
       "      <td>5</td>\n",
       "    </tr>\n",
       "    <tr>\n",
       "      <th>8</th>\n",
       "      <td>Запустить акцию, дающую скидку на товар в день рождения</td>\n",
       "      <td>1</td>\n",
       "      <td>9</td>\n",
       "      <td>9</td>\n",
       "      <td>5</td>\n",
       "    </tr>\n",
       "  </tbody>\n",
       "</table>\n",
       "</div>"
      ],
      "text/plain": [
       "                                                                                                     Hypothesis  \\\n",
       "0            Добавить два новых канала привлечения трафика, что позволит привлекать на 30% больше пользователей   \n",
       "1                                     Запустить собственную службу доставки, что сократит срок доставки заказов   \n",
       "2  Добавить блоки рекомендаций товаров на сайт интернет магазина, чтобы повысить конверсию и средний чек заказа   \n",
       "3           Изменить структура категорий, что увеличит конверсию, т.к. пользователи быстрее найдут нужный товар   \n",
       "4                              Изменить цвет фона главной страницы, чтобы увеличить вовлеченность пользователей   \n",
       "5                      Добавить страницу отзывов клиентов о магазине, что позволит увеличить количество заказов   \n",
       "6          Показать на главной странице баннеры с актуальными акциями и распродажами, чтобы увеличить конверсию   \n",
       "7              Добавить форму подписки на все основные страницы, чтобы собрать базу клиентов для email-рассылок   \n",
       "8                                                       Запустить акцию, дающую скидку на товар в день рождения   \n",
       "\n",
       "   Reach  Impact  Confidence  Efforts  \n",
       "0      3      10           8        6  \n",
       "1      2       5           4       10  \n",
       "2      8       3           7        3  \n",
       "3      8       3           3        8  \n",
       "4      3       1           1        1  \n",
       "5      3       2           2        3  \n",
       "6      5       3           8        3  \n",
       "7     10       7           8        5  \n",
       "8      1       9           9        5  "
      ]
     },
     "execution_count": 3,
     "metadata": {},
     "output_type": "execute_result"
    }
   ],
   "source": [
    "df"
   ]
  },
  {
   "cell_type": "markdown",
   "id": "e6cf6f8a",
   "metadata": {},
   "source": [
    "Приведем заголовки колонок в правильный вид"
   ]
  },
  {
   "cell_type": "code",
   "execution_count": 4,
   "id": "689efc78",
   "metadata": {},
   "outputs": [],
   "source": [
    "df.columns = df.columns.str.lower()"
   ]
  },
  {
   "cell_type": "markdown",
   "id": "64a705c9",
   "metadata": {},
   "source": [
    "Проверим результат"
   ]
  },
  {
   "cell_type": "code",
   "execution_count": 5,
   "id": "35ca7c55",
   "metadata": {},
   "outputs": [
    {
     "data": {
      "text/html": [
       "<div>\n",
       "<style scoped>\n",
       "    .dataframe tbody tr th:only-of-type {\n",
       "        vertical-align: middle;\n",
       "    }\n",
       "\n",
       "    .dataframe tbody tr th {\n",
       "        vertical-align: top;\n",
       "    }\n",
       "\n",
       "    .dataframe thead th {\n",
       "        text-align: right;\n",
       "    }\n",
       "</style>\n",
       "<table border=\"1\" class=\"dataframe\">\n",
       "  <thead>\n",
       "    <tr style=\"text-align: right;\">\n",
       "      <th></th>\n",
       "      <th>hypothesis</th>\n",
       "      <th>reach</th>\n",
       "      <th>impact</th>\n",
       "      <th>confidence</th>\n",
       "      <th>efforts</th>\n",
       "    </tr>\n",
       "  </thead>\n",
       "  <tbody>\n",
       "    <tr>\n",
       "      <th>0</th>\n",
       "      <td>Добавить два новых канала привлечения трафика, что позволит привлекать на 30% больше пользователей</td>\n",
       "      <td>3</td>\n",
       "      <td>10</td>\n",
       "      <td>8</td>\n",
       "      <td>6</td>\n",
       "    </tr>\n",
       "  </tbody>\n",
       "</table>\n",
       "</div>"
      ],
      "text/plain": [
       "                                                                                           hypothesis  \\\n",
       "0  Добавить два новых канала привлечения трафика, что позволит привлекать на 30% больше пользователей   \n",
       "\n",
       "   reach  impact  confidence  efforts  \n",
       "0      3      10           8        6  "
      ]
     },
     "execution_count": 5,
     "metadata": {},
     "output_type": "execute_result"
    }
   ],
   "source": [
    "df.head(1)"
   ]
  },
  {
   "cell_type": "markdown",
   "id": "01f6a759",
   "metadata": {},
   "source": [
    "#### Вывод"
   ]
  },
  {
   "cell_type": "markdown",
   "id": "580af888",
   "metadata": {},
   "source": [
    "Мы успешно загрузили данные с гипотезами. Всего их в базе 9 шт. У каждой гипотезы, уже посчитаны параметры `reach`, `impact`, `confidence`, `efforts`. Привели названия колонок к правильному написанию."
   ]
  },
  {
   "cell_type": "markdown",
   "id": "0d6b7857",
   "metadata": {},
   "source": [
    "### Приоритезация гипотез с помощью фреймворка `ICE`"
   ]
  },
  {
   "cell_type": "markdown",
   "id": "e3803726",
   "metadata": {},
   "source": [
    "Проведем приоритезацию полученных данных с гипотезами, посчитаем значения ICE и добавим данные в одноименную колонку."
   ]
  },
  {
   "cell_type": "code",
   "execution_count": 6,
   "id": "a8747661",
   "metadata": {},
   "outputs": [],
   "source": [
    "df['ICE'] = round((df['impact'] * df['confidence']) / df['efforts'], 1)"
   ]
  },
  {
   "cell_type": "markdown",
   "id": "35a8b529",
   "metadata": {},
   "source": [
    "Выведим полученый результат, достаточно, для информации, колонок с гипотезами `hypothesis` и значениями `ICE`, предварительно отсортируем по убыванию значений `ICE`."
   ]
  },
  {
   "cell_type": "code",
   "execution_count": 7,
   "id": "d5773aaf",
   "metadata": {},
   "outputs": [
    {
     "data": {
      "text/html": [
       "<div>\n",
       "<style scoped>\n",
       "    .dataframe tbody tr th:only-of-type {\n",
       "        vertical-align: middle;\n",
       "    }\n",
       "\n",
       "    .dataframe tbody tr th {\n",
       "        vertical-align: top;\n",
       "    }\n",
       "\n",
       "    .dataframe thead th {\n",
       "        text-align: right;\n",
       "    }\n",
       "</style>\n",
       "<table border=\"1\" class=\"dataframe\">\n",
       "  <thead>\n",
       "    <tr style=\"text-align: right;\">\n",
       "      <th></th>\n",
       "      <th>hypothesis</th>\n",
       "      <th>ICE</th>\n",
       "    </tr>\n",
       "  </thead>\n",
       "  <tbody>\n",
       "    <tr>\n",
       "      <th>8</th>\n",
       "      <td>Запустить акцию, дающую скидку на товар в день рождения</td>\n",
       "      <td>16.2</td>\n",
       "    </tr>\n",
       "    <tr>\n",
       "      <th>0</th>\n",
       "      <td>Добавить два новых канала привлечения трафика, что позволит привлекать на 30% больше пользователей</td>\n",
       "      <td>13.3</td>\n",
       "    </tr>\n",
       "    <tr>\n",
       "      <th>7</th>\n",
       "      <td>Добавить форму подписки на все основные страницы, чтобы собрать базу клиентов для email-рассылок</td>\n",
       "      <td>11.2</td>\n",
       "    </tr>\n",
       "    <tr>\n",
       "      <th>6</th>\n",
       "      <td>Показать на главной странице баннеры с актуальными акциями и распродажами, чтобы увеличить конверсию</td>\n",
       "      <td>8.0</td>\n",
       "    </tr>\n",
       "    <tr>\n",
       "      <th>2</th>\n",
       "      <td>Добавить блоки рекомендаций товаров на сайт интернет магазина, чтобы повысить конверсию и средний чек заказа</td>\n",
       "      <td>7.0</td>\n",
       "    </tr>\n",
       "    <tr>\n",
       "      <th>1</th>\n",
       "      <td>Запустить собственную службу доставки, что сократит срок доставки заказов</td>\n",
       "      <td>2.0</td>\n",
       "    </tr>\n",
       "    <tr>\n",
       "      <th>5</th>\n",
       "      <td>Добавить страницу отзывов клиентов о магазине, что позволит увеличить количество заказов</td>\n",
       "      <td>1.3</td>\n",
       "    </tr>\n",
       "    <tr>\n",
       "      <th>3</th>\n",
       "      <td>Изменить структура категорий, что увеличит конверсию, т.к. пользователи быстрее найдут нужный товар</td>\n",
       "      <td>1.1</td>\n",
       "    </tr>\n",
       "    <tr>\n",
       "      <th>4</th>\n",
       "      <td>Изменить цвет фона главной страницы, чтобы увеличить вовлеченность пользователей</td>\n",
       "      <td>1.0</td>\n",
       "    </tr>\n",
       "  </tbody>\n",
       "</table>\n",
       "</div>"
      ],
      "text/plain": [
       "                                                                                                     hypothesis  \\\n",
       "8                                                       Запустить акцию, дающую скидку на товар в день рождения   \n",
       "0            Добавить два новых канала привлечения трафика, что позволит привлекать на 30% больше пользователей   \n",
       "7              Добавить форму подписки на все основные страницы, чтобы собрать базу клиентов для email-рассылок   \n",
       "6          Показать на главной странице баннеры с актуальными акциями и распродажами, чтобы увеличить конверсию   \n",
       "2  Добавить блоки рекомендаций товаров на сайт интернет магазина, чтобы повысить конверсию и средний чек заказа   \n",
       "1                                     Запустить собственную службу доставки, что сократит срок доставки заказов   \n",
       "5                      Добавить страницу отзывов клиентов о магазине, что позволит увеличить количество заказов   \n",
       "3           Изменить структура категорий, что увеличит конверсию, т.к. пользователи быстрее найдут нужный товар   \n",
       "4                              Изменить цвет фона главной страницы, чтобы увеличить вовлеченность пользователей   \n",
       "\n",
       "    ICE  \n",
       "8  16.2  \n",
       "0  13.3  \n",
       "7  11.2  \n",
       "6   8.0  \n",
       "2   7.0  \n",
       "1   2.0  \n",
       "5   1.3  \n",
       "3   1.1  \n",
       "4   1.0  "
      ]
     },
     "execution_count": 7,
     "metadata": {},
     "output_type": "execute_result"
    }
   ],
   "source": [
    "df[['hypothesis', 'ICE']].sort_values(by='ICE', ascending=False)"
   ]
  },
  {
   "cell_type": "markdown",
   "id": "2a4d2d9a",
   "metadata": {},
   "source": [
    "#### Вывод"
   ]
  },
  {
   "cell_type": "markdown",
   "id": "09d55b2d",
   "metadata": {},
   "source": [
    "По методу приоритезации `ICE` наиболее перспективными гипотезами являются:\n",
    "\n",
    "8 - Запустить акцию, дающую скидку на товар в день...\t\n",
    "0 - Добавить два новых канала привлечения трафика,...\t\n",
    "7 - Добавить форму подписки на все основные страни...\t"
   ]
  },
  {
   "cell_type": "markdown",
   "id": "6dbbe82e",
   "metadata": {},
   "source": [
    "### Приоритезация гипотез с помощью фреймворка `RICE`"
   ]
  },
  {
   "cell_type": "markdown",
   "id": "c00f4a12",
   "metadata": {},
   "source": [
    "Проведем приоритезацию полученных данных с гипотезами, посчитаем значения RICE и добавим данные в одноименную колонку"
   ]
  },
  {
   "cell_type": "code",
   "execution_count": 8,
   "id": "3de27360",
   "metadata": {},
   "outputs": [],
   "source": [
    "df['RICE'] = round((df['reach'] * df['impact'] * df['confidence']) / df['efforts'], 1)"
   ]
  },
  {
   "cell_type": "markdown",
   "id": "4b3ce0ec",
   "metadata": {},
   "source": [
    "Выведим полученый результат, достаточно колонок с гипотезами hypothesis и значениями RICE, предварительно отсортируем по убыванию значений RICE."
   ]
  },
  {
   "cell_type": "code",
   "execution_count": 9,
   "id": "1f7df01d",
   "metadata": {},
   "outputs": [
    {
     "data": {
      "text/html": [
       "<div>\n",
       "<style scoped>\n",
       "    .dataframe tbody tr th:only-of-type {\n",
       "        vertical-align: middle;\n",
       "    }\n",
       "\n",
       "    .dataframe tbody tr th {\n",
       "        vertical-align: top;\n",
       "    }\n",
       "\n",
       "    .dataframe thead th {\n",
       "        text-align: right;\n",
       "    }\n",
       "</style>\n",
       "<table border=\"1\" class=\"dataframe\">\n",
       "  <thead>\n",
       "    <tr style=\"text-align: right;\">\n",
       "      <th></th>\n",
       "      <th>hypothesis</th>\n",
       "      <th>RICE</th>\n",
       "    </tr>\n",
       "  </thead>\n",
       "  <tbody>\n",
       "    <tr>\n",
       "      <th>7</th>\n",
       "      <td>Добавить форму подписки на все основные страницы, чтобы собрать базу клиентов для email-рассылок</td>\n",
       "      <td>112.0</td>\n",
       "    </tr>\n",
       "    <tr>\n",
       "      <th>2</th>\n",
       "      <td>Добавить блоки рекомендаций товаров на сайт интернет магазина, чтобы повысить конверсию и средний чек заказа</td>\n",
       "      <td>56.0</td>\n",
       "    </tr>\n",
       "    <tr>\n",
       "      <th>0</th>\n",
       "      <td>Добавить два новых канала привлечения трафика, что позволит привлекать на 30% больше пользователей</td>\n",
       "      <td>40.0</td>\n",
       "    </tr>\n",
       "    <tr>\n",
       "      <th>6</th>\n",
       "      <td>Показать на главной странице баннеры с актуальными акциями и распродажами, чтобы увеличить конверсию</td>\n",
       "      <td>40.0</td>\n",
       "    </tr>\n",
       "    <tr>\n",
       "      <th>8</th>\n",
       "      <td>Запустить акцию, дающую скидку на товар в день рождения</td>\n",
       "      <td>16.2</td>\n",
       "    </tr>\n",
       "    <tr>\n",
       "      <th>3</th>\n",
       "      <td>Изменить структура категорий, что увеличит конверсию, т.к. пользователи быстрее найдут нужный товар</td>\n",
       "      <td>9.0</td>\n",
       "    </tr>\n",
       "    <tr>\n",
       "      <th>1</th>\n",
       "      <td>Запустить собственную службу доставки, что сократит срок доставки заказов</td>\n",
       "      <td>4.0</td>\n",
       "    </tr>\n",
       "    <tr>\n",
       "      <th>5</th>\n",
       "      <td>Добавить страницу отзывов клиентов о магазине, что позволит увеличить количество заказов</td>\n",
       "      <td>4.0</td>\n",
       "    </tr>\n",
       "    <tr>\n",
       "      <th>4</th>\n",
       "      <td>Изменить цвет фона главной страницы, чтобы увеличить вовлеченность пользователей</td>\n",
       "      <td>3.0</td>\n",
       "    </tr>\n",
       "  </tbody>\n",
       "</table>\n",
       "</div>"
      ],
      "text/plain": [
       "                                                                                                     hypothesis  \\\n",
       "7              Добавить форму подписки на все основные страницы, чтобы собрать базу клиентов для email-рассылок   \n",
       "2  Добавить блоки рекомендаций товаров на сайт интернет магазина, чтобы повысить конверсию и средний чек заказа   \n",
       "0            Добавить два новых канала привлечения трафика, что позволит привлекать на 30% больше пользователей   \n",
       "6          Показать на главной странице баннеры с актуальными акциями и распродажами, чтобы увеличить конверсию   \n",
       "8                                                       Запустить акцию, дающую скидку на товар в день рождения   \n",
       "3           Изменить структура категорий, что увеличит конверсию, т.к. пользователи быстрее найдут нужный товар   \n",
       "1                                     Запустить собственную службу доставки, что сократит срок доставки заказов   \n",
       "5                      Добавить страницу отзывов клиентов о магазине, что позволит увеличить количество заказов   \n",
       "4                              Изменить цвет фона главной страницы, чтобы увеличить вовлеченность пользователей   \n",
       "\n",
       "    RICE  \n",
       "7  112.0  \n",
       "2   56.0  \n",
       "0   40.0  \n",
       "6   40.0  \n",
       "8   16.2  \n",
       "3    9.0  \n",
       "1    4.0  \n",
       "5    4.0  \n",
       "4    3.0  "
      ]
     },
     "execution_count": 9,
     "metadata": {},
     "output_type": "execute_result"
    }
   ],
   "source": [
    "df[['hypothesis', 'RICE']].sort_values(by='RICE', ascending=False)"
   ]
  },
  {
   "cell_type": "markdown",
   "id": "784ad0ed",
   "metadata": {},
   "source": [
    "#### Вывод"
   ]
  },
  {
   "cell_type": "markdown",
   "id": "3fcdc99a",
   "metadata": {},
   "source": [
    "По методу приоритезации `RICE` наиболее перспективными гипотезами являются:\n",
    "\n",
    "7 - Добавить форму подписки на все основные страни...\t\n",
    "2 - Добавить блоки рекомендаций товаров на сайт ин...\t\n",
    "0 - Добавить два новых канала привлечения трафика,...\t\n",
    "6 - Показать на главной странице баннеры с актуаль...\t"
   ]
  },
  {
   "cell_type": "markdown",
   "id": "e26c8de1",
   "metadata": {},
   "source": [
    "Выведим сравнительную таблицу показателей для наглядности"
   ]
  },
  {
   "cell_type": "code",
   "execution_count": 10,
   "id": "56f65a74",
   "metadata": {},
   "outputs": [
    {
     "data": {
      "text/html": [
       "<div>\n",
       "<style scoped>\n",
       "    .dataframe tbody tr th:only-of-type {\n",
       "        vertical-align: middle;\n",
       "    }\n",
       "\n",
       "    .dataframe tbody tr th {\n",
       "        vertical-align: top;\n",
       "    }\n",
       "\n",
       "    .dataframe thead th {\n",
       "        text-align: right;\n",
       "    }\n",
       "</style>\n",
       "<table border=\"1\" class=\"dataframe\">\n",
       "  <thead>\n",
       "    <tr style=\"text-align: right;\">\n",
       "      <th></th>\n",
       "      <th>hypothesis</th>\n",
       "      <th>ICE</th>\n",
       "      <th>RICE</th>\n",
       "    </tr>\n",
       "  </thead>\n",
       "  <tbody>\n",
       "    <tr>\n",
       "      <th>7</th>\n",
       "      <td>Добавить форму подписки на все основные страницы, чтобы собрать базу клиентов для email-рассылок</td>\n",
       "      <td>11.2</td>\n",
       "      <td>112.0</td>\n",
       "    </tr>\n",
       "    <tr>\n",
       "      <th>2</th>\n",
       "      <td>Добавить блоки рекомендаций товаров на сайт интернет магазина, чтобы повысить конверсию и средний чек заказа</td>\n",
       "      <td>7.0</td>\n",
       "      <td>56.0</td>\n",
       "    </tr>\n",
       "    <tr>\n",
       "      <th>0</th>\n",
       "      <td>Добавить два новых канала привлечения трафика, что позволит привлекать на 30% больше пользователей</td>\n",
       "      <td>13.3</td>\n",
       "      <td>40.0</td>\n",
       "    </tr>\n",
       "    <tr>\n",
       "      <th>6</th>\n",
       "      <td>Показать на главной странице баннеры с актуальными акциями и распродажами, чтобы увеличить конверсию</td>\n",
       "      <td>8.0</td>\n",
       "      <td>40.0</td>\n",
       "    </tr>\n",
       "    <tr>\n",
       "      <th>8</th>\n",
       "      <td>Запустить акцию, дающую скидку на товар в день рождения</td>\n",
       "      <td>16.2</td>\n",
       "      <td>16.2</td>\n",
       "    </tr>\n",
       "    <tr>\n",
       "      <th>3</th>\n",
       "      <td>Изменить структура категорий, что увеличит конверсию, т.к. пользователи быстрее найдут нужный товар</td>\n",
       "      <td>1.1</td>\n",
       "      <td>9.0</td>\n",
       "    </tr>\n",
       "    <tr>\n",
       "      <th>1</th>\n",
       "      <td>Запустить собственную службу доставки, что сократит срок доставки заказов</td>\n",
       "      <td>2.0</td>\n",
       "      <td>4.0</td>\n",
       "    </tr>\n",
       "    <tr>\n",
       "      <th>5</th>\n",
       "      <td>Добавить страницу отзывов клиентов о магазине, что позволит увеличить количество заказов</td>\n",
       "      <td>1.3</td>\n",
       "      <td>4.0</td>\n",
       "    </tr>\n",
       "    <tr>\n",
       "      <th>4</th>\n",
       "      <td>Изменить цвет фона главной страницы, чтобы увеличить вовлеченность пользователей</td>\n",
       "      <td>1.0</td>\n",
       "      <td>3.0</td>\n",
       "    </tr>\n",
       "  </tbody>\n",
       "</table>\n",
       "</div>"
      ],
      "text/plain": [
       "                                                                                                     hypothesis  \\\n",
       "7              Добавить форму подписки на все основные страницы, чтобы собрать базу клиентов для email-рассылок   \n",
       "2  Добавить блоки рекомендаций товаров на сайт интернет магазина, чтобы повысить конверсию и средний чек заказа   \n",
       "0            Добавить два новых канала привлечения трафика, что позволит привлекать на 30% больше пользователей   \n",
       "6          Показать на главной странице баннеры с актуальными акциями и распродажами, чтобы увеличить конверсию   \n",
       "8                                                       Запустить акцию, дающую скидку на товар в день рождения   \n",
       "3           Изменить структура категорий, что увеличит конверсию, т.к. пользователи быстрее найдут нужный товар   \n",
       "1                                     Запустить собственную службу доставки, что сократит срок доставки заказов   \n",
       "5                      Добавить страницу отзывов клиентов о магазине, что позволит увеличить количество заказов   \n",
       "4                              Изменить цвет фона главной страницы, чтобы увеличить вовлеченность пользователей   \n",
       "\n",
       "    ICE   RICE  \n",
       "7  11.2  112.0  \n",
       "2   7.0   56.0  \n",
       "0  13.3   40.0  \n",
       "6   8.0   40.0  \n",
       "8  16.2   16.2  \n",
       "3   1.1    9.0  \n",
       "1   2.0    4.0  \n",
       "5   1.3    4.0  \n",
       "4   1.0    3.0  "
      ]
     },
     "execution_count": 10,
     "metadata": {},
     "output_type": "execute_result"
    }
   ],
   "source": [
    "df[['hypothesis', 'ICE', 'RICE']].sort_values(by='RICE', ascending=False)"
   ]
  },
  {
   "cell_type": "markdown",
   "id": "af336549",
   "metadata": {},
   "source": [
    "### Вывод"
   ]
  },
  {
   "cell_type": "markdown",
   "id": "1bb9e6de",
   "metadata": {},
   "source": [
    "Мы видим, что при применение метода `RICE` набор приоритетных гипотез изменился. В RICE помимо 7 и 0 вошли 2 и 6, 8 оказалась на 5 месте. При этом 7 гипотеза ('Добавить форму подписки на все основные страни...') явно выбилась в лидеры. Это произошло из-за того, что значительно повлиял параметр Reach (\"Охват\"). 8 гипотеза попала на 5 место метода `RICE`, т.к. у нее параметр Reach принят за единицу, т.е. низкий параметр охвата.\n",
    "\n",
    "В первоочередном порядке предлагается рассмотреть гипотезы:\n",
    "\n",
    "7 - Добавить форму подписки на все основные страни...\t\n",
    "2 - Добавить блоки рекомендаций товаров на сайт ин...\t\n",
    "0 - Добавить два новых канала привлечения трафика,...\t\n",
    "6 - Показать на главной странице баннеры с актуаль...\t\n",
    "8 - Запустить акцию, дающую скидку на товар в день...\t"
   ]
  },
  {
   "cell_type": "markdown",
   "id": "ae30e1eb",
   "metadata": {},
   "source": [
    "## Часть 2. Анализ A/B-теста."
   ]
  },
  {
   "cell_type": "markdown",
   "id": "51bdd9be",
   "metadata": {},
   "source": [
    "На основе полученных результатов А/В тестирования, нам необходимо провести исследование."
   ]
  },
  {
   "cell_type": "markdown",
   "id": "4d73d8a2",
   "metadata": {},
   "source": [
    "### Основная информация"
   ]
  },
  {
   "cell_type": "markdown",
   "id": "1189bb79",
   "metadata": {},
   "source": [
    "Загрузим данные"
   ]
  },
  {
   "cell_type": "code",
   "execution_count": 11,
   "id": "8e4058b5",
   "metadata": {},
   "outputs": [],
   "source": [
    "try:\n",
    "    orders = pd.read_csv('/datasets/orders.csv', sep=',')\n",
    "    visitors = pd.read_csv('/datasets/visitors.csv', sep=',')\n",
    "except:\n",
    "    orders = pd.read_csv('orders.csv', sep=',')\n",
    "    visitors = pd.read_csv('visitors.csv', sep=',')"
   ]
  },
  {
   "cell_type": "markdown",
   "id": "a0784a42",
   "metadata": {},
   "source": [
    "Выведим по 5 строк каждого датафрейма"
   ]
  },
  {
   "cell_type": "code",
   "execution_count": 12,
   "id": "c39370e4",
   "metadata": {},
   "outputs": [
    {
     "data": {
      "text/html": [
       "<div>\n",
       "<style scoped>\n",
       "    .dataframe tbody tr th:only-of-type {\n",
       "        vertical-align: middle;\n",
       "    }\n",
       "\n",
       "    .dataframe tbody tr th {\n",
       "        vertical-align: top;\n",
       "    }\n",
       "\n",
       "    .dataframe thead th {\n",
       "        text-align: right;\n",
       "    }\n",
       "</style>\n",
       "<table border=\"1\" class=\"dataframe\">\n",
       "  <thead>\n",
       "    <tr style=\"text-align: right;\">\n",
       "      <th></th>\n",
       "      <th>transactionId</th>\n",
       "      <th>visitorId</th>\n",
       "      <th>date</th>\n",
       "      <th>revenue</th>\n",
       "      <th>group</th>\n",
       "    </tr>\n",
       "  </thead>\n",
       "  <tbody>\n",
       "    <tr>\n",
       "      <th>0</th>\n",
       "      <td>3667963787</td>\n",
       "      <td>3312258926</td>\n",
       "      <td>2019-08-15</td>\n",
       "      <td>1650</td>\n",
       "      <td>B</td>\n",
       "    </tr>\n",
       "    <tr>\n",
       "      <th>1</th>\n",
       "      <td>2804400009</td>\n",
       "      <td>3642806036</td>\n",
       "      <td>2019-08-15</td>\n",
       "      <td>730</td>\n",
       "      <td>B</td>\n",
       "    </tr>\n",
       "    <tr>\n",
       "      <th>2</th>\n",
       "      <td>2961555356</td>\n",
       "      <td>4069496402</td>\n",
       "      <td>2019-08-15</td>\n",
       "      <td>400</td>\n",
       "      <td>A</td>\n",
       "    </tr>\n",
       "    <tr>\n",
       "      <th>3</th>\n",
       "      <td>3797467345</td>\n",
       "      <td>1196621759</td>\n",
       "      <td>2019-08-15</td>\n",
       "      <td>9759</td>\n",
       "      <td>B</td>\n",
       "    </tr>\n",
       "    <tr>\n",
       "      <th>4</th>\n",
       "      <td>2282983706</td>\n",
       "      <td>2322279887</td>\n",
       "      <td>2019-08-15</td>\n",
       "      <td>2308</td>\n",
       "      <td>B</td>\n",
       "    </tr>\n",
       "  </tbody>\n",
       "</table>\n",
       "</div>"
      ],
      "text/plain": [
       "   transactionId   visitorId        date  revenue group\n",
       "0     3667963787  3312258926  2019-08-15     1650     B\n",
       "1     2804400009  3642806036  2019-08-15      730     B\n",
       "2     2961555356  4069496402  2019-08-15      400     A\n",
       "3     3797467345  1196621759  2019-08-15     9759     B\n",
       "4     2282983706  2322279887  2019-08-15     2308     B"
      ]
     },
     "execution_count": 12,
     "metadata": {},
     "output_type": "execute_result"
    }
   ],
   "source": [
    "orders.head()"
   ]
  },
  {
   "cell_type": "code",
   "execution_count": 13,
   "id": "81eb44e4",
   "metadata": {},
   "outputs": [
    {
     "data": {
      "text/html": [
       "<div>\n",
       "<style scoped>\n",
       "    .dataframe tbody tr th:only-of-type {\n",
       "        vertical-align: middle;\n",
       "    }\n",
       "\n",
       "    .dataframe tbody tr th {\n",
       "        vertical-align: top;\n",
       "    }\n",
       "\n",
       "    .dataframe thead th {\n",
       "        text-align: right;\n",
       "    }\n",
       "</style>\n",
       "<table border=\"1\" class=\"dataframe\">\n",
       "  <thead>\n",
       "    <tr style=\"text-align: right;\">\n",
       "      <th></th>\n",
       "      <th>date</th>\n",
       "      <th>group</th>\n",
       "      <th>visitors</th>\n",
       "    </tr>\n",
       "  </thead>\n",
       "  <tbody>\n",
       "    <tr>\n",
       "      <th>0</th>\n",
       "      <td>2019-08-01</td>\n",
       "      <td>A</td>\n",
       "      <td>719</td>\n",
       "    </tr>\n",
       "    <tr>\n",
       "      <th>1</th>\n",
       "      <td>2019-08-02</td>\n",
       "      <td>A</td>\n",
       "      <td>619</td>\n",
       "    </tr>\n",
       "    <tr>\n",
       "      <th>2</th>\n",
       "      <td>2019-08-03</td>\n",
       "      <td>A</td>\n",
       "      <td>507</td>\n",
       "    </tr>\n",
       "    <tr>\n",
       "      <th>3</th>\n",
       "      <td>2019-08-04</td>\n",
       "      <td>A</td>\n",
       "      <td>717</td>\n",
       "    </tr>\n",
       "    <tr>\n",
       "      <th>4</th>\n",
       "      <td>2019-08-05</td>\n",
       "      <td>A</td>\n",
       "      <td>756</td>\n",
       "    </tr>\n",
       "  </tbody>\n",
       "</table>\n",
       "</div>"
      ],
      "text/plain": [
       "         date group  visitors\n",
       "0  2019-08-01     A       719\n",
       "1  2019-08-02     A       619\n",
       "2  2019-08-03     A       507\n",
       "3  2019-08-04     A       717\n",
       "4  2019-08-05     A       756"
      ]
     },
     "execution_count": 13,
     "metadata": {},
     "output_type": "execute_result"
    }
   ],
   "source": [
    "visitors.head()"
   ]
  },
  {
   "cell_type": "markdown",
   "id": "7973de87",
   "metadata": {},
   "source": [
    "Выведим общую иформацию по датафреймам"
   ]
  },
  {
   "cell_type": "code",
   "execution_count": 14,
   "id": "93e58966",
   "metadata": {},
   "outputs": [
    {
     "name": "stdout",
     "output_type": "stream",
     "text": [
      "<class 'pandas.core.frame.DataFrame'>\n",
      "RangeIndex: 1197 entries, 0 to 1196\n",
      "Data columns (total 5 columns):\n",
      " #   Column         Non-Null Count  Dtype \n",
      "---  ------         --------------  ----- \n",
      " 0   transactionId  1197 non-null   int64 \n",
      " 1   visitorId      1197 non-null   int64 \n",
      " 2   date           1197 non-null   object\n",
      " 3   revenue        1197 non-null   int64 \n",
      " 4   group          1197 non-null   object\n",
      "dtypes: int64(3), object(2)\n",
      "memory usage: 46.9+ KB\n"
     ]
    }
   ],
   "source": [
    "orders.info()"
   ]
  },
  {
   "cell_type": "code",
   "execution_count": 15,
   "id": "cf93b7b6",
   "metadata": {},
   "outputs": [
    {
     "name": "stdout",
     "output_type": "stream",
     "text": [
      "<class 'pandas.core.frame.DataFrame'>\n",
      "RangeIndex: 62 entries, 0 to 61\n",
      "Data columns (total 3 columns):\n",
      " #   Column    Non-Null Count  Dtype \n",
      "---  ------    --------------  ----- \n",
      " 0   date      62 non-null     object\n",
      " 1   group     62 non-null     object\n",
      " 2   visitors  62 non-null     int64 \n",
      "dtypes: int64(1), object(2)\n",
      "memory usage: 1.6+ KB\n"
     ]
    }
   ],
   "source": [
    "visitors.info()"
   ]
  },
  {
   "cell_type": "markdown",
   "id": "8ec40090",
   "metadata": {},
   "source": [
    "Название колонок приведем в правильный вид"
   ]
  },
  {
   "cell_type": "code",
   "execution_count": 16,
   "id": "5208b001",
   "metadata": {},
   "outputs": [],
   "source": [
    "orders = orders.rename(columns={'transactionId': 'transaction_id', 'visitorId': 'visitor_id'})"
   ]
  },
  {
   "cell_type": "markdown",
   "id": "a171bf61",
   "metadata": {},
   "source": [
    "Изменим типы данных в датафреймах"
   ]
  },
  {
   "cell_type": "code",
   "execution_count": 17,
   "id": "359e26ba",
   "metadata": {},
   "outputs": [],
   "source": [
    "orders['transaction_id'] = orders['transaction_id'].astype('object')\n",
    "orders['visitor_id'] = orders['visitor_id'].astype('object')\n",
    "orders['date'] = orders['date'].map(lambda x: dt.datetime.strptime(x, '%Y-%m-%d'))\n",
    "visitors['date'] = visitors['date'].map(lambda x: dt.datetime.strptime(x, '%Y-%m-%d'))"
   ]
  },
  {
   "cell_type": "markdown",
   "id": "b79793d1",
   "metadata": {},
   "source": [
    "Проверим на пересечения в группах пользователей"
   ]
  },
  {
   "cell_type": "code",
   "execution_count": 18,
   "id": "bacd2e75",
   "metadata": {},
   "outputs": [
    {
     "name": "stdout",
     "output_type": "stream",
     "text": [
      "Количество пользователей с пересекающимися пользователями - 89\n"
     ]
    }
   ],
   "source": [
    "# создадим пустой списко в который будем сохранять пользователей которые есть в обоих группах\n",
    "list_dubl = []\n",
    "\n",
    "#путем перебора, выясним какие пользователи есть в обоих группах\n",
    "for visitor in list(orders[orders['group'] == 'A']['visitor_id']):\n",
    "    if visitor in list(orders[orders['group'] == 'B']['visitor_id']):\n",
    "        list_dubl.append(visitor)\n",
    "\n",
    "#посчитаем длину списка с пересекающимися пользователями  \n",
    "print(f'Количество пользователей с пересекающимися пользователями - {len(list_dubl)}')"
   ]
  },
  {
   "cell_type": "markdown",
   "id": "1392bf69",
   "metadata": {},
   "source": [
    "Уберем из дальнейших расчетов пользователей, которые есть в тестируемых группах"
   ]
  },
  {
   "cell_type": "code",
   "execution_count": 19,
   "id": "ad8fdb4f",
   "metadata": {},
   "outputs": [],
   "source": [
    "orders = orders.query('visitor_id not in @list_dubl')"
   ]
  },
  {
   "cell_type": "markdown",
   "id": "e15466a0",
   "metadata": {},
   "source": [
    "#### Вывод"
   ]
  },
  {
   "cell_type": "markdown",
   "id": "067b5296",
   "metadata": {},
   "source": [
    "Мы успешно загрузили данные. Всего 2 датафрейма. В orders 1197 строк, в visitors - 62 строки с данными. \n",
    "\n",
    "Поменяли названия ряда колонок. Привели колонки к нужному типу данных."
   ]
  },
  {
   "cell_type": "markdown",
   "id": "d2ecabba",
   "metadata": {},
   "source": [
    "### Подготовка данных"
   ]
  },
  {
   "cell_type": "markdown",
   "id": "bf197bf3",
   "metadata": {},
   "source": [
    "Создадим массив уникальных пар значений дат."
   ]
  },
  {
   "cell_type": "code",
   "execution_count": 20,
   "id": "9ea2aa8a",
   "metadata": {},
   "outputs": [],
   "source": [
    "dates_groups = orders[['date','group']].drop_duplicates() "
   ]
  },
  {
   "cell_type": "markdown",
   "id": "b2374997",
   "metadata": {},
   "source": [
    "Агрегируем значения. Вычислим максимальную дату, для группы рассчитаем максимум, найдём число уникальных ID заказов и пользователей, подсчитаем сумму средних чеков."
   ]
  },
  {
   "cell_type": "code",
   "execution_count": 21,
   "id": "41d79b0a",
   "metadata": {},
   "outputs": [],
   "source": [
    "orders_aggregated = (dates_groups.apply(lambda x: orders[np.logical_and(orders['date'] <= x['date'], \n",
    "                                                                       orders['group'] == x['group'])]\n",
    "       .agg({'date' : 'max', \n",
    "             'group' : 'max', \n",
    "             'transaction_id' : 'nunique', \n",
    "             'visitor_id' : 'nunique', \n",
    "             'revenue' : 'sum'}), axis=1).sort_values(by=['date','group']))"
   ]
  },
  {
   "cell_type": "code",
   "execution_count": 22,
   "id": "91a9bd75",
   "metadata": {
    "scrolled": true
   },
   "outputs": [
    {
     "data": {
      "text/html": [
       "<div>\n",
       "<style scoped>\n",
       "    .dataframe tbody tr th:only-of-type {\n",
       "        vertical-align: middle;\n",
       "    }\n",
       "\n",
       "    .dataframe tbody tr th {\n",
       "        vertical-align: top;\n",
       "    }\n",
       "\n",
       "    .dataframe thead th {\n",
       "        text-align: right;\n",
       "    }\n",
       "</style>\n",
       "<table border=\"1\" class=\"dataframe\">\n",
       "  <thead>\n",
       "    <tr style=\"text-align: right;\">\n",
       "      <th></th>\n",
       "      <th>date</th>\n",
       "      <th>group</th>\n",
       "      <th>transaction_id</th>\n",
       "      <th>visitor_id</th>\n",
       "      <th>revenue</th>\n",
       "    </tr>\n",
       "  </thead>\n",
       "  <tbody>\n",
       "    <tr>\n",
       "      <th>55</th>\n",
       "      <td>2019-08-01</td>\n",
       "      <td>A</td>\n",
       "      <td>23</td>\n",
       "      <td>19</td>\n",
       "      <td>142779</td>\n",
       "    </tr>\n",
       "    <tr>\n",
       "      <th>66</th>\n",
       "      <td>2019-08-01</td>\n",
       "      <td>B</td>\n",
       "      <td>17</td>\n",
       "      <td>17</td>\n",
       "      <td>59758</td>\n",
       "    </tr>\n",
       "    <tr>\n",
       "      <th>175</th>\n",
       "      <td>2019-08-02</td>\n",
       "      <td>A</td>\n",
       "      <td>42</td>\n",
       "      <td>36</td>\n",
       "      <td>234381</td>\n",
       "    </tr>\n",
       "    <tr>\n",
       "      <th>173</th>\n",
       "      <td>2019-08-02</td>\n",
       "      <td>B</td>\n",
       "      <td>40</td>\n",
       "      <td>39</td>\n",
       "      <td>221801</td>\n",
       "    </tr>\n",
       "    <tr>\n",
       "      <th>291</th>\n",
       "      <td>2019-08-03</td>\n",
       "      <td>A</td>\n",
       "      <td>66</td>\n",
       "      <td>60</td>\n",
       "      <td>346854</td>\n",
       "    </tr>\n",
       "  </tbody>\n",
       "</table>\n",
       "</div>"
      ],
      "text/plain": [
       "          date group  transaction_id  visitor_id  revenue\n",
       "55  2019-08-01     A              23          19   142779\n",
       "66  2019-08-01     B              17          17    59758\n",
       "175 2019-08-02     A              42          36   234381\n",
       "173 2019-08-02     B              40          39   221801\n",
       "291 2019-08-03     A              66          60   346854"
      ]
     },
     "execution_count": 22,
     "metadata": {},
     "output_type": "execute_result"
    }
   ],
   "source": [
    "orders_aggregated.head()"
   ]
  },
  {
   "cell_type": "markdown",
   "id": "e439b348",
   "metadata": {},
   "source": [
    "Аналогично получим агрегированные кумулятивные по дням данные о посетителях"
   ]
  },
  {
   "cell_type": "code",
   "execution_count": 23,
   "id": "cf1bc5af",
   "metadata": {},
   "outputs": [],
   "source": [
    "visitors_aggregated = (dates_groups.apply(lambda x: visitors[np.logical_and(visitors['date'] <= x['date'], \n",
    "                                         visitors['group'] == x['group'])]\n",
    "       .agg({'date' : 'max', \n",
    "             'group' : 'max', \n",
    "             'visitors' : 'sum'}), axis=1).sort_values(by=['date','group']))"
   ]
  },
  {
   "cell_type": "markdown",
   "id": "16566b8f",
   "metadata": {},
   "source": [
    "Далее объединим обе таблицы в одну и дадим понятные названия столбцам."
   ]
  },
  {
   "cell_type": "code",
   "execution_count": 24,
   "id": "6e12e283",
   "metadata": {},
   "outputs": [],
   "source": [
    "cumulative_data = orders_aggregated.merge(visitors_aggregated, left_on=['date', 'group'], right_on=['date', 'group'])\n",
    "cumulative_data.columns = ['date', 'group', 'orders', 'buyers', 'revenue', 'visitors']"
   ]
  },
  {
   "cell_type": "markdown",
   "id": "d05630b7",
   "metadata": {},
   "source": [
    "Выведим полученный результат из 6 строк"
   ]
  },
  {
   "cell_type": "code",
   "execution_count": 25,
   "id": "b557327d",
   "metadata": {
    "scrolled": false
   },
   "outputs": [
    {
     "data": {
      "text/html": [
       "<div>\n",
       "<style scoped>\n",
       "    .dataframe tbody tr th:only-of-type {\n",
       "        vertical-align: middle;\n",
       "    }\n",
       "\n",
       "    .dataframe tbody tr th {\n",
       "        vertical-align: top;\n",
       "    }\n",
       "\n",
       "    .dataframe thead th {\n",
       "        text-align: right;\n",
       "    }\n",
       "</style>\n",
       "<table border=\"1\" class=\"dataframe\">\n",
       "  <thead>\n",
       "    <tr style=\"text-align: right;\">\n",
       "      <th></th>\n",
       "      <th>date</th>\n",
       "      <th>group</th>\n",
       "      <th>orders</th>\n",
       "      <th>buyers</th>\n",
       "      <th>revenue</th>\n",
       "      <th>visitors</th>\n",
       "    </tr>\n",
       "  </thead>\n",
       "  <tbody>\n",
       "    <tr>\n",
       "      <th>0</th>\n",
       "      <td>2019-08-01</td>\n",
       "      <td>A</td>\n",
       "      <td>23</td>\n",
       "      <td>19</td>\n",
       "      <td>142779</td>\n",
       "      <td>719</td>\n",
       "    </tr>\n",
       "    <tr>\n",
       "      <th>1</th>\n",
       "      <td>2019-08-01</td>\n",
       "      <td>B</td>\n",
       "      <td>17</td>\n",
       "      <td>17</td>\n",
       "      <td>59758</td>\n",
       "      <td>713</td>\n",
       "    </tr>\n",
       "    <tr>\n",
       "      <th>2</th>\n",
       "      <td>2019-08-02</td>\n",
       "      <td>A</td>\n",
       "      <td>42</td>\n",
       "      <td>36</td>\n",
       "      <td>234381</td>\n",
       "      <td>1338</td>\n",
       "    </tr>\n",
       "    <tr>\n",
       "      <th>3</th>\n",
       "      <td>2019-08-02</td>\n",
       "      <td>B</td>\n",
       "      <td>40</td>\n",
       "      <td>39</td>\n",
       "      <td>221801</td>\n",
       "      <td>1294</td>\n",
       "    </tr>\n",
       "    <tr>\n",
       "      <th>4</th>\n",
       "      <td>2019-08-03</td>\n",
       "      <td>A</td>\n",
       "      <td>66</td>\n",
       "      <td>60</td>\n",
       "      <td>346854</td>\n",
       "      <td>1845</td>\n",
       "    </tr>\n",
       "    <tr>\n",
       "      <th>5</th>\n",
       "      <td>2019-08-03</td>\n",
       "      <td>B</td>\n",
       "      <td>54</td>\n",
       "      <td>53</td>\n",
       "      <td>288850</td>\n",
       "      <td>1803</td>\n",
       "    </tr>\n",
       "  </tbody>\n",
       "</table>\n",
       "</div>"
      ],
      "text/plain": [
       "        date group  orders  buyers  revenue  visitors\n",
       "0 2019-08-01     A      23      19   142779       719\n",
       "1 2019-08-01     B      17      17    59758       713\n",
       "2 2019-08-02     A      42      36   234381      1338\n",
       "3 2019-08-02     B      40      39   221801      1294\n",
       "4 2019-08-03     A      66      60   346854      1845\n",
       "5 2019-08-03     B      54      53   288850      1803"
      ]
     },
     "execution_count": 25,
     "metadata": {},
     "output_type": "execute_result"
    }
   ],
   "source": [
    "cumulative_data.head(6)"
   ]
  },
  {
   "cell_type": "markdown",
   "id": "e15dc16a",
   "metadata": {},
   "source": [
    "#### Вывод"
   ]
  },
  {
   "cell_type": "markdown",
   "id": "6b2c7751",
   "metadata": {},
   "source": [
    "Мы успешно подготовили данные, в частности таблицу с кумулятивными данными, для дальнейшего изучения."
   ]
  },
  {
   "cell_type": "markdown",
   "id": "83e9b8e7",
   "metadata": {},
   "source": [
    "### График кумулятивной выручки по группам"
   ]
  },
  {
   "cell_type": "markdown",
   "id": "d6b68d27",
   "metadata": {},
   "source": [
    "Построим графики кумулятивной выручки по группам A/B-тестирования\n",
    "\n",
    "Создадим датафрейм с кумулятивным количеством заказов и кумулятивной выручкой по дням в группе А"
   ]
  },
  {
   "cell_type": "code",
   "execution_count": 26,
   "id": "e6a986e5",
   "metadata": {},
   "outputs": [],
   "source": [
    "cumulative_revenue_a = cumulative_data[cumulative_data['group']=='A'][['date','revenue', 'orders']]"
   ]
  },
  {
   "cell_type": "markdown",
   "id": "9a9b8d89",
   "metadata": {},
   "source": [
    "Создадим датафрейм с кумулятивным количеством заказов и кумулятивной выручкой по дням в группе В"
   ]
  },
  {
   "cell_type": "code",
   "execution_count": 27,
   "id": "f180b3ef",
   "metadata": {},
   "outputs": [],
   "source": [
    "cumulative_revenue_b = cumulative_data[cumulative_data['group']=='B'][['date','revenue', 'orders']]"
   ]
  },
  {
   "cell_type": "markdown",
   "id": "297d48c9",
   "metadata": {},
   "source": [
    "Строим графики выручки по А и В"
   ]
  },
  {
   "cell_type": "code",
   "execution_count": 28,
   "id": "f332685a",
   "metadata": {},
   "outputs": [
    {
     "data": {
      "image/png": "[encoded data removed]",
      "text/plain": [
       "<Figure size 864x432 with 1 Axes>"
      ]
     },
     "metadata": {
      "needs_background": "light"
     },
     "output_type": "display_data"
    }
   ],
   "source": [
    "plt.figure(figsize=(12, 6));\n",
    "plt.plot(cumulative_revenue_a['date'], cumulative_revenue_a['revenue'], label='A');\n",
    "plt.plot(cumulative_revenue_b['date'], cumulative_revenue_b['revenue'], label='B');\n",
    "plt.title('График кумулятивной выручки по группам А и В')\n",
    "plt.xlabel('Даты проведения теста')\n",
    "plt.ylabel('Куммулятивная выручка')\n",
    "plt.grid(True)\n",
    "plt.legend();"
   ]
  },
  {
   "cell_type": "markdown",
   "id": "72486afb",
   "metadata": {},
   "source": [
    "#### Вывод"
   ]
  },
  {
   "cell_type": "markdown",
   "id": "54d34336",
   "metadata": {},
   "source": [
    "Выручка почти равномерно увеличивалась в течение первой половины теста, далее произошел резкий рост по группе B, и далее продолжили почти параллельно расти. Это может сигнализировать о всплесках числа заказов, либо о появлении очень дорогих заказов в выборке."
   ]
  },
  {
   "cell_type": "markdown",
   "id": "683f9727",
   "metadata": {},
   "source": [
    "### График кумулятивного среднего чека по группам. "
   ]
  },
  {
   "cell_type": "markdown",
   "id": "43d3c2e2",
   "metadata": {},
   "source": [
    "Построим графики кумулятивного среднего чека по группам. \n",
    "\n",
    "Для этого разделим кумулятивную выручку на кумулятивное число заказов."
   ]
  },
  {
   "cell_type": "code",
   "execution_count": 29,
   "id": "0bd77a6b",
   "metadata": {},
   "outputs": [
    {
     "data": {
      "image/png": "[encoded data removed]",
      "text/plain": [
       "<Figure size 864x432 with 1 Axes>"
      ]
     },
     "metadata": {
      "needs_background": "light"
     },
     "output_type": "display_data"
    }
   ],
   "source": [
    "plt.figure(figsize=(12, 6));\n",
    "plt.plot(cumulative_revenue_a['date'], cumulative_revenue_a['revenue']/cumulative_revenue_a['orders'], label='A');\n",
    "plt.plot(cumulative_revenue_b['date'], cumulative_revenue_b['revenue']/cumulative_revenue_b['orders'], label='B');\n",
    "plt.title('График кумулятивного среднего чека по группам А и В')\n",
    "plt.xlabel('Даты проведения теста')\n",
    "plt.ylabel('Куммулятивный средний чек')\n",
    "plt.grid(True)\n",
    "plt.legend();"
   ]
  },
  {
   "cell_type": "markdown",
   "id": "9843b978",
   "metadata": {},
   "source": [
    "#### Вывод"
   ]
  },
  {
   "cell_type": "markdown",
   "id": "7fbcdc87",
   "metadata": {},
   "source": [
    "Как видим, средний чек в группе А скачет до середины теста, далее стабилизировался, в группе В другая ситуация, до середины теста средний чек скачет, далее резко взлетает, а далее начал уменьшаться. Возможно, в группу B в половине теста попали крупные заказы (резкий всплеск на графике). Вероятно, группе В нужно больше данных, чтобы прийти к реальному среднему чеку и установиться на его уровне."
   ]
  },
  {
   "cell_type": "markdown",
   "id": "4f2c68fb",
   "metadata": {},
   "source": [
    "### График относительного изменения кумулятивного среднего чека группы B к группе A"
   ]
  },
  {
   "cell_type": "markdown",
   "id": "02a747d0",
   "metadata": {},
   "source": [
    "Построим график относительного различия для среднего чека.\n",
    "\n",
    "Для этого собирем данные в одном датафрейме"
   ]
  },
  {
   "cell_type": "code",
   "execution_count": 30,
   "id": "b659b6db",
   "metadata": {},
   "outputs": [],
   "source": [
    "merged_cumulative_revenue = cumulative_revenue_a.merge(cumulative_revenue_b, left_on='date', right_on='date', how='left', suffixes=['A', 'B'])"
   ]
  },
  {
   "cell_type": "markdown",
   "id": "bc43c17c",
   "metadata": {},
   "source": [
    "Поcтроим отношение средних чеков"
   ]
  },
  {
   "cell_type": "code",
   "execution_count": 31,
   "id": "fdd5f754",
   "metadata": {},
   "outputs": [
    {
     "data": {
      "image/png": "[encoded data removed]",
      "text/plain": [
       "<Figure size 864x432 with 1 Axes>"
      ]
     },
     "metadata": {
      "needs_background": "light"
     },
     "output_type": "display_data"
    }
   ],
   "source": [
    "plt.figure(figsize=(12, 6));\n",
    "plt.plot(merged_cumulative_revenue['date'], (merged_cumulative_revenue['revenueB']/merged_cumulative_revenue['ordersB'])/(merged_cumulative_revenue['revenueA']/merged_cumulative_revenue['ordersA'])-1);\n",
    "plt.title('График относительного изменения кумулятивного среднего чека группы В к А')\n",
    "plt.xlabel('Даты проведения теста')\n",
    "plt.ylabel('Изменение куммулятивного среднего чека')\n",
    "plt.grid(True)\n",
    "\n",
    "# добавим ось X\n",
    "plt.axhline(y=0, color='black', linestyle='--');"
   ]
  },
  {
   "cell_type": "markdown",
   "id": "622aee04",
   "metadata": {},
   "source": [
    "#### Вывод"
   ]
  },
  {
   "cell_type": "markdown",
   "id": "d096ff3f",
   "metadata": {},
   "source": [
    "В нескольких точках график различия между сегментами резко «скачет». Явно есть крупные заказы и выбросы."
   ]
  },
  {
   "cell_type": "markdown",
   "id": "e84d296b",
   "metadata": {},
   "source": [
    "### График кумулятивной конверсии по группам"
   ]
  },
  {
   "cell_type": "markdown",
   "id": "bdd1f483",
   "metadata": {},
   "source": [
    "Проанализируем график кумулятивной конверсии.\n",
    "\n",
    "Изначально посчитаем кумулятивную конверсию."
   ]
  },
  {
   "cell_type": "code",
   "execution_count": 32,
   "id": "4a8f4a63",
   "metadata": {},
   "outputs": [],
   "source": [
    "cumulative_data['conversion'] = cumulative_data['orders']/cumulative_data['visitors']"
   ]
  },
  {
   "cell_type": "markdown",
   "id": "74d77896",
   "metadata": {},
   "source": [
    "Разделим данные по группам"
   ]
  },
  {
   "cell_type": "code",
   "execution_count": 33,
   "id": "908cc798",
   "metadata": {},
   "outputs": [],
   "source": [
    "cumulative_data_a = cumulative_data[cumulative_data['group']=='A']\n",
    "cumulative_data_b = cumulative_data[cumulative_data['group']=='B']"
   ]
  },
  {
   "cell_type": "markdown",
   "id": "e35bb295",
   "metadata": {},
   "source": [
    "Построим графики"
   ]
  },
  {
   "cell_type": "code",
   "execution_count": 34,
   "id": "ffada6d9",
   "metadata": {},
   "outputs": [
    {
     "data": {
      "image/png": "[encoded data removed]",
      "text/plain": [
       "<Figure size 864x432 with 1 Axes>"
      ]
     },
     "metadata": {
      "needs_background": "light"
     },
     "output_type": "display_data"
    }
   ],
   "source": [
    "plt.figure(figsize=(12, 6));\n",
    "plt.plot(cumulative_data_a['date'], cumulative_data_a['conversion'], label='A');\n",
    "plt.plot(cumulative_data_b['date'], cumulative_data_b['conversion'], label='B');\n",
    "plt.title('График кумулятивной конверсии по группам А и В')\n",
    "plt.xlabel('Даты проведения теста')\n",
    "plt.ylabel('Куммулятивная конверсия')\n",
    "plt.grid(True)\n",
    "plt.legend();\n",
    "\n",
    "# зададим масштаб осей\n",
    "plt.axis([pd.to_datetime(cumulative_data['date']).min(), pd.to_datetime(cumulative_data['date']).max(), 0.025, 0.04]);"
   ]
  },
  {
   "cell_type": "markdown",
   "id": "1d4d27e1",
   "metadata": {},
   "source": [
    "#### Вывод"
   ]
  },
  {
   "cell_type": "markdown",
   "id": "fe2ebbc8",
   "metadata": {},
   "source": [
    "В начале теста, видно, что значения колебались, не было явного лидера, а начиная с 6-7 августа значения конверсии группы В выросли, а группы А снизились. И в положении когда группы В стала больше А, значения так и почти стабилизировались."
   ]
  },
  {
   "cell_type": "markdown",
   "id": "09c7f2f1",
   "metadata": {},
   "source": [
    "### График относительного изменения кумулятивной конверсии группы B к группе A"
   ]
  },
  {
   "cell_type": "markdown",
   "id": "d026b461",
   "metadata": {},
   "source": [
    "Построим график относительного различия кумулятивных конверсий группы В к группе А\n",
    "\n",
    "Для этого объединим в один датафрейм данные по комулятивной конверсии в группах"
   ]
  },
  {
   "cell_type": "code",
   "execution_count": 35,
   "id": "f5a0cb6a",
   "metadata": {},
   "outputs": [],
   "source": [
    "merged_cumulative_conversions = cumulative_data_a[['date','conversion']].merge(cumulative_data_b[['date','conversion']], left_on='date', right_on='date', how='left', suffixes=['A', 'B'])"
   ]
  },
  {
   "cell_type": "markdown",
   "id": "61af3361",
   "metadata": {},
   "source": [
    "Построим графики"
   ]
  },
  {
   "cell_type": "code",
   "execution_count": 36,
   "id": "c1de87d6",
   "metadata": {
    "scrolled": false
   },
   "outputs": [
    {
     "data": {
      "image/png": "[encoded data removed]",
      "text/plain": [
       "<Figure size 864x432 with 1 Axes>"
      ]
     },
     "metadata": {
      "needs_background": "light"
     },
     "output_type": "display_data"
    }
   ],
   "source": [
    "plt.figure(figsize=(12, 6));\n",
    "plt.plot(merged_cumulative_conversions['date'], merged_cumulative_conversions['conversionB']/merged_cumulative_conversions['conversionA']-1, label=\"Относительный прирост конверсии группы B относительно группы A\");\n",
    "plt.title('График отосительного изменения кумулятивной конверсии группы В к А')\n",
    "plt.xlabel('Даты проведения теста')\n",
    "plt.ylabel('Изменение куммулятивной конверсии')\n",
    "plt.legend();\n",
    "plt.grid(True)\n",
    "plt.axhline(y=0, color='black', linestyle='--');\n",
    "plt.axhline(y=0.1, color='grey', linestyle='--');\n",
    "plt.axis([pd.to_datetime(cumulative_data['date']).min(), pd.to_datetime(cumulative_data['date']).max(), -0.2, 0.3]);"
   ]
  },
  {
   "cell_type": "markdown",
   "id": "2a270c4d",
   "metadata": {},
   "source": [
    "#### Вывод"
   ]
  },
  {
   "cell_type": "markdown",
   "id": "88bcbefc",
   "metadata": {},
   "source": [
    "В начале теста были моменты, когда группа B немного проигрывала группе A, а затем значительно вырвалась вперёд, во второй половине теста, группа В слегка откатилась и стабилизировалась чуть выше уровня 0.1"
   ]
  },
  {
   "cell_type": "markdown",
   "id": "28718b9b",
   "metadata": {},
   "source": [
    "### Точечный график количества заказов по пользователям"
   ]
  },
  {
   "cell_type": "markdown",
   "id": "076ceef9",
   "metadata": {},
   "source": [
    "Посчитаем количество заказов по пользователям и сохраним в датафрейм `orders_by_users`"
   ]
  },
  {
   "cell_type": "code",
   "execution_count": 37,
   "id": "3d227e6d",
   "metadata": {},
   "outputs": [],
   "source": [
    "orders_by_users = (orders.groupby('visitor_id', as_index=False).agg({'transaction_id': 'nunique'}))\n",
    "\n",
    "orders_by_users.columns = ['user_id', 'orders']"
   ]
  },
  {
   "cell_type": "markdown",
   "id": "11d96684",
   "metadata": {},
   "source": [
    "Выведим результат, первые 10 результатов, предварительно отсортировав количество заказов по убыванию."
   ]
  },
  {
   "cell_type": "code",
   "execution_count": 38,
   "id": "7cbf2485",
   "metadata": {},
   "outputs": [
    {
     "data": {
      "text/html": [
       "<div>\n",
       "<style scoped>\n",
       "    .dataframe tbody tr th:only-of-type {\n",
       "        vertical-align: middle;\n",
       "    }\n",
       "\n",
       "    .dataframe tbody tr th {\n",
       "        vertical-align: top;\n",
       "    }\n",
       "\n",
       "    .dataframe thead th {\n",
       "        text-align: right;\n",
       "    }\n",
       "</style>\n",
       "<table border=\"1\" class=\"dataframe\">\n",
       "  <thead>\n",
       "    <tr style=\"text-align: right;\">\n",
       "      <th></th>\n",
       "      <th>user_id</th>\n",
       "      <th>orders</th>\n",
       "    </tr>\n",
       "  </thead>\n",
       "  <tbody>\n",
       "    <tr>\n",
       "      <th>908</th>\n",
       "      <td>3967698036</td>\n",
       "      <td>3</td>\n",
       "    </tr>\n",
       "    <tr>\n",
       "      <th>55</th>\n",
       "      <td>249864742</td>\n",
       "      <td>3</td>\n",
       "    </tr>\n",
       "    <tr>\n",
       "      <th>478</th>\n",
       "      <td>2108163459</td>\n",
       "      <td>3</td>\n",
       "    </tr>\n",
       "    <tr>\n",
       "      <th>687</th>\n",
       "      <td>2988190573</td>\n",
       "      <td>3</td>\n",
       "    </tr>\n",
       "    <tr>\n",
       "      <th>890</th>\n",
       "      <td>3908431265</td>\n",
       "      <td>3</td>\n",
       "    </tr>\n",
       "    <tr>\n",
       "      <th>138</th>\n",
       "      <td>611059232</td>\n",
       "      <td>3</td>\n",
       "    </tr>\n",
       "    <tr>\n",
       "      <th>632</th>\n",
       "      <td>2742574263</td>\n",
       "      <td>3</td>\n",
       "    </tr>\n",
       "    <tr>\n",
       "      <th>157</th>\n",
       "      <td>678354126</td>\n",
       "      <td>2</td>\n",
       "    </tr>\n",
       "    <tr>\n",
       "      <th>323</th>\n",
       "      <td>1404560065</td>\n",
       "      <td>2</td>\n",
       "    </tr>\n",
       "    <tr>\n",
       "      <th>452</th>\n",
       "      <td>1985475298</td>\n",
       "      <td>2</td>\n",
       "    </tr>\n",
       "  </tbody>\n",
       "</table>\n",
       "</div>"
      ],
      "text/plain": [
       "        user_id  orders\n",
       "908  3967698036       3\n",
       "55    249864742       3\n",
       "478  2108163459       3\n",
       "687  2988190573       3\n",
       "890  3908431265       3\n",
       "138   611059232       3\n",
       "632  2742574263       3\n",
       "157   678354126       2\n",
       "323  1404560065       2\n",
       "452  1985475298       2"
      ]
     },
     "execution_count": 38,
     "metadata": {},
     "output_type": "execute_result"
    }
   ],
   "source": [
    "orders_by_users.sort_values(by='orders', ascending=False).head(10)"
   ]
  },
  {
   "cell_type": "markdown",
   "id": "30ad5d2f",
   "metadata": {},
   "source": [
    "Построим точечную диаграмму количества заказов по пользователям"
   ]
  },
  {
   "cell_type": "code",
   "execution_count": 39,
   "id": "9983d94b",
   "metadata": {},
   "outputs": [
    {
     "data": {
      "image/png": "[encoded data removed]",
      "text/plain": [
       "<Figure size 864x432 with 1 Axes>"
      ]
     },
     "metadata": {
      "needs_background": "light"
     },
     "output_type": "display_data"
    }
   ],
   "source": [
    "plt.figure(figsize=(12, 6));\n",
    "x_values = pd.Series(range(0,len(orders_by_users)));\n",
    "plt.title('График количества заказов по пользователям')\n",
    "plt.xlabel('Пользователи')\n",
    "plt.ylabel('Количество заказов')\n",
    "plt.grid(True)\n",
    "plt.scatter(x_values, orders_by_users['orders']);"
   ]
  },
  {
   "cell_type": "markdown",
   "id": "9e2079f2",
   "metadata": {},
   "source": [
    "Построим гистрограмму распределения количества заказов по пользователям"
   ]
  },
  {
   "cell_type": "code",
   "execution_count": 40,
   "id": "824d08ab",
   "metadata": {},
   "outputs": [
    {
     "data": {
      "image/png": "[encoded data removed]",
      "text/plain": [
       "<Figure size 864x432 with 1 Axes>"
      ]
     },
     "metadata": {
      "needs_background": "light"
     },
     "output_type": "display_data"
    }
   ],
   "source": [
    "plt.figure(figsize=(12, 6));\n",
    "plt.hist(orders_by_users['orders']);\n",
    "plt.title('Гистограмма распределения количества заказов по пользователям')\n",
    "plt.xlabel('Количество заказов')\n",
    "plt.ylabel('Количество пользователей');\n",
    "plt.grid(True);"
   ]
  },
  {
   "cell_type": "markdown",
   "id": "d5d38c9f",
   "metadata": {},
   "source": [
    "#### Вывод"
   ]
  },
  {
   "cell_type": "markdown",
   "id": "16127c0a",
   "metadata": {},
   "source": [
    "Большинство покупателей заказывали только один раз. Однако доля пользователей с 2-3 заказами тоже значительна.\n",
    "\n",
    "Есть пользователи, которые совершали 5, 8, 9, 11 заказов. Значительно больше, чем обычный пользователь за неделю."
   ]
  },
  {
   "cell_type": "markdown",
   "id": "c7f1ee77",
   "metadata": {},
   "source": [
    "### 95-й и 99-й перцентили количества заказов на пользователя"
   ]
  },
  {
   "cell_type": "markdown",
   "id": "95cc0ef2",
   "metadata": {},
   "source": [
    "Посчитаем и выведим выборочные перцентили 95 и 99 количества заказов на одного пользователя"
   ]
  },
  {
   "cell_type": "code",
   "execution_count": 41,
   "id": "55d59f70",
   "metadata": {},
   "outputs": [
    {
     "name": "stdout",
     "output_type": "stream",
     "text": [
      "[1. 2.]\n"
     ]
    }
   ],
   "source": [
    "print(np.percentile(orders_by_users['orders'], [95, 99]))"
   ]
  },
  {
   "cell_type": "markdown",
   "id": "21e8de61",
   "metadata": {},
   "source": [
    "#### Вывод"
   ]
  },
  {
   "cell_type": "markdown",
   "id": "e10a19cd",
   "metadata": {},
   "source": [
    "Больше, чем 2 заказа оформляли не более 5% пользователей и не более 1% оформляли больше, чем 4 заказа.\n",
    "\n",
    "Вполне разумно будет выбрать 2 заказа (95 перцентиль) на одного пользователя за нижнюю границу числа заказов, и отсеять аномальных пользователей выше нее."
   ]
  },
  {
   "cell_type": "markdown",
   "id": "fc4a59a7",
   "metadata": {},
   "source": [
    "### Точечный график стоимостей заказов"
   ]
  },
  {
   "cell_type": "markdown",
   "id": "89e73087",
   "metadata": {},
   "source": [
    "Построим точечный график распределения стоимостей заказов"
   ]
  },
  {
   "cell_type": "code",
   "execution_count": 42,
   "id": "0f33f1f7",
   "metadata": {},
   "outputs": [
    {
     "data": {
      "image/png": "[encoded data removed]",
      "text/plain": [
       "<Figure size 1152x504 with 1 Axes>"
      ]
     },
     "metadata": {
      "needs_background": "light"
     },
     "output_type": "display_data"
    }
   ],
   "source": [
    "plt.figure(figsize=(16, 7));\n",
    "x_values = pd.Series(range(0,len(orders['revenue'])));\n",
    "plt.scatter(x_values, orders['revenue']);\n",
    "plt.title('Точечный график стоимостей заказов')\n",
    "plt.xlabel('Пользователи')\n",
    "plt.ylabel('Стоимость заказа');\n",
    "plt.grid(True);"
   ]
  },
  {
   "cell_type": "markdown",
   "id": "54dfcbed",
   "metadata": {},
   "source": [
    "Построим также гистограмму распределения стоимостей заказов"
   ]
  },
  {
   "cell_type": "code",
   "execution_count": 43,
   "id": "33dc70e3",
   "metadata": {},
   "outputs": [
    {
     "data": {
      "image/png": "[encoded data removed]",
      "text/plain": [
       "<Figure size 1152x504 with 1 Axes>"
      ]
     },
     "metadata": {
      "needs_background": "light"
     },
     "output_type": "display_data"
    }
   ],
   "source": [
    "plt.figure(figsize=(16, 7));\n",
    "plt.hist(orders['revenue']);\n",
    "plt.title('Гистограмма распределения стоимостей заказов')\n",
    "plt.xlabel('Стоимость заказов')\n",
    "plt.ylabel('Количество пользователей');\n",
    "plt.grid(True);"
   ]
  },
  {
   "cell_type": "markdown",
   "id": "1c836e43",
   "metadata": {},
   "source": [
    "#### Вывод"
   ]
  },
  {
   "cell_type": "markdown",
   "id": "af82ab80",
   "metadata": {},
   "source": [
    "Есть заказы, которые аномально высокие - более 30000 вплоть до 1,2 млн, хотя как видно основная часть заказов до 10000. Эти значения значительно могут искажать результаты тестирования."
   ]
  },
  {
   "cell_type": "markdown",
   "id": "af03381e",
   "metadata": {},
   "source": [
    "### 95-й и 99-й перцентили стоимости заказов"
   ]
  },
  {
   "cell_type": "markdown",
   "id": "9fb4eef2",
   "metadata": {},
   "source": [
    "Посчитаем и выведим выборочные перцентили 95 и 99 стоимости заказов"
   ]
  },
  {
   "cell_type": "code",
   "execution_count": 44,
   "id": "ecfc3ea3",
   "metadata": {
    "scrolled": true
   },
   "outputs": [
    {
     "name": "stdout",
     "output_type": "stream",
     "text": [
      "[26785. 53904.]\n"
     ]
    }
   ],
   "source": [
    "print(np.percentile(orders['revenue'], [95, 99]))"
   ]
  },
  {
   "cell_type": "markdown",
   "id": "931d5633",
   "metadata": {},
   "source": [
    "#### Вывод"
   ]
  },
  {
   "cell_type": "markdown",
   "id": "d594b08d",
   "metadata": {},
   "source": [
    "Исходя из расчетов, мы видим, что не более 5% заказов дороже 26 785 рублей и не более 1% дороже 53 904 рублей.\n",
    "\n",
    "Вполне разумно будет выбрать стоимость заказов в 53 904 (99 перцентиль) за нижнюю границу и отсеять аномальных пользователей сверх нее."
   ]
  },
  {
   "cell_type": "markdown",
   "id": "be1fae68",
   "metadata": {},
   "source": [
    "### Подготовка данных для проверки гипотез"
   ]
  },
  {
   "cell_type": "markdown",
   "id": "6a64f7bd",
   "metadata": {},
   "source": [
    "Подготовим данные для проверки гипотез"
   ]
  },
  {
   "cell_type": "markdown",
   "id": "a83f2c76",
   "metadata": {},
   "source": [
    "Выделим по группам ежедневное количество пользователей и сохраним в отдельные датафреймы"
   ]
  },
  {
   "cell_type": "code",
   "execution_count": 45,
   "id": "b8bde5ba",
   "metadata": {},
   "outputs": [],
   "source": [
    "visitors_a_daily = visitors[visitors['group'] == 'A'][['date', 'visitors']]\n",
    "visitors_b_daily = visitors[visitors['group'] == 'B'][['date', 'visitors']]\n",
    "\n",
    "#обозначим новые соответсвующие заголовки колонок в каждой группе\n",
    "visitors_a_daily.columns = ['date', 'visitors_per_date_a']\n",
    "visitors_b_daily.columns = ['date', 'visitors_per_date_b']"
   ]
  },
  {
   "cell_type": "markdown",
   "id": "a5f01b99",
   "metadata": {},
   "source": [
    "Агрегируем кумулятивное данные по количеству пользователей по дням по группам"
   ]
  },
  {
   "cell_type": "code",
   "execution_count": 46,
   "id": "5ceb8ebc",
   "metadata": {},
   "outputs": [],
   "source": [
    "visitors_a_cummulative = (visitors_a_daily\n",
    "                          .apply(lambda x: visitors_a_daily[visitors_a_daily['date'] <= x['date']]\n",
    "                                 .agg({'date': 'max', 'visitors_per_date_a': 'sum'}),axis=1,))\n",
    "\n",
    "visitors_b_cummulative = (visitors_b_daily\n",
    "                          .apply(lambda x: visitors_b_daily[visitors_b_daily['date'] <= x['date']]\n",
    "                                 .agg({'date': 'max', 'visitors_per_date_b': 'sum'}),axis=1,))\n",
    "\n",
    "#обозначим новые соответсвующие заголовки колонок в каждой группе\n",
    "visitors_a_cummulative.columns = ['date', 'visitors_cummulative_a']\n",
    "visitors_b_cummulative.columns = ['date', 'visitors_cummulative_b']"
   ]
  },
  {
   "cell_type": "markdown",
   "id": "06f77bd6",
   "metadata": {},
   "source": [
    "Выделим по группам ежедневные данные по количеству заказов и выручке, сохраним в отдельные датафреймы"
   ]
  },
  {
   "cell_type": "code",
   "execution_count": 47,
   "id": "570c6329",
   "metadata": {},
   "outputs": [],
   "source": [
    "orders_a_daily = (orders[orders['group'] == 'A'][['date', 'transaction_id', 'visitor_id', 'revenue']]\n",
    "                  .groupby('date', as_index=False)\n",
    "                  .agg({'transaction_id': pd.Series.nunique, 'revenue': 'sum'}))\n",
    "orders_b_daily = (orders[orders['group'] == 'B'][['date', 'transaction_id', 'visitor_id', 'revenue']]\n",
    "                  .groupby('date', as_index=False)\n",
    "                  .agg({'transaction_id': pd.Series.nunique, 'revenue': 'sum'}))\n",
    "\n",
    "#обозначим новые соответсвующие заголовки колонок в каждой группе\n",
    "orders_a_daily.columns = ['date', 'orders_per_date_a', 'revenue_per_date_a']\n",
    "orders_b_daily.columns = ['date', 'orders_per_date_b', 'revenue_per_date_b']"
   ]
  },
  {
   "cell_type": "markdown",
   "id": "cb1fc7d3",
   "metadata": {},
   "source": [
    "Агрегируем по группам ежедневные кумулятивные данные по количеству заказов и выручке, сохраним в отдельные датафреймы"
   ]
  },
  {
   "cell_type": "code",
   "execution_count": 48,
   "id": "48d40eb0",
   "metadata": {},
   "outputs": [],
   "source": [
    "orders_a_cummulative = (orders_a_daily\n",
    "                        .apply(lambda x: orders_a_daily[orders_a_daily['date'] <= x['date']]\n",
    "                               .agg({'date': 'max', \n",
    "                                     'orders_per_date_a': 'sum', \n",
    "                                     'revenue_per_date_a': 'sum'}), \n",
    "                               axis=1)\n",
    "                        .sort_values(by=['date']))\n",
    "orders_b_cummulative = (orders_b_daily\n",
    "                        .apply(lambda x: orders_b_daily[orders_b_daily['date'] <= x['date']]\n",
    "                               .agg({'date': 'max', \n",
    "                                     'orders_per_date_b': 'sum', \n",
    "                                     'revenue_per_date_b': 'sum'}), \n",
    "                               axis=1)\n",
    "                        .sort_values(by=['date']))\n",
    "\n",
    "#обозначим новые соответсвующие заголовки колонок в каждой группе\n",
    "orders_a_cummulative.columns = ['date','orders_cummulative_a','revenue_cummulative_a',]\n",
    "orders_b_cummulative.columns = ['date','orders_cummulative_b','revenue_cummulative_b',]"
   ]
  },
  {
   "cell_type": "markdown",
   "id": "49dfa3d4",
   "metadata": {},
   "source": [
    "Объединим все полученные данные в один датафрейм"
   ]
  },
  {
   "cell_type": "code",
   "execution_count": 49,
   "id": "2658daf4",
   "metadata": {},
   "outputs": [],
   "source": [
    "df = (\n",
    "    orders_a_daily.merge(\n",
    "        orders_b_daily, left_on='date', right_on='date', how='left'\n",
    "    )\n",
    "    .merge(orders_a_cummulative, left_on='date', right_on='date', how='left')\n",
    "    .merge(orders_b_cummulative, left_on='date', right_on='date', how='left')\n",
    "    .merge(visitors_a_daily, left_on='date', right_on='date', how='left')\n",
    "    .merge(visitors_b_daily, left_on='date', right_on='date', how='left')\n",
    "    .merge(visitors_a_cummulative, left_on='date', right_on='date', how='left')\n",
    "    .merge(visitors_b_cummulative, left_on='date', right_on='date', how='left')\n",
    ")"
   ]
  },
  {
   "cell_type": "markdown",
   "id": "4b578d39",
   "metadata": {},
   "source": [
    "Выведим полученные результат из 5 строк"
   ]
  },
  {
   "cell_type": "code",
   "execution_count": 50,
   "id": "420d20ac",
   "metadata": {},
   "outputs": [
    {
     "data": {
      "text/html": [
       "<div>\n",
       "<style scoped>\n",
       "    .dataframe tbody tr th:only-of-type {\n",
       "        vertical-align: middle;\n",
       "    }\n",
       "\n",
       "    .dataframe tbody tr th {\n",
       "        vertical-align: top;\n",
       "    }\n",
       "\n",
       "    .dataframe thead th {\n",
       "        text-align: right;\n",
       "    }\n",
       "</style>\n",
       "<table border=\"1\" class=\"dataframe\">\n",
       "  <thead>\n",
       "    <tr style=\"text-align: right;\">\n",
       "      <th></th>\n",
       "      <th>date</th>\n",
       "      <th>orders_per_date_a</th>\n",
       "      <th>revenue_per_date_a</th>\n",
       "      <th>orders_per_date_b</th>\n",
       "      <th>revenue_per_date_b</th>\n",
       "      <th>orders_cummulative_a</th>\n",
       "      <th>revenue_cummulative_a</th>\n",
       "      <th>orders_cummulative_b</th>\n",
       "      <th>revenue_cummulative_b</th>\n",
       "      <th>visitors_per_date_a</th>\n",
       "      <th>visitors_per_date_b</th>\n",
       "      <th>visitors_cummulative_a</th>\n",
       "      <th>visitors_cummulative_b</th>\n",
       "    </tr>\n",
       "  </thead>\n",
       "  <tbody>\n",
       "    <tr>\n",
       "      <th>0</th>\n",
       "      <td>2019-08-01</td>\n",
       "      <td>23</td>\n",
       "      <td>142779</td>\n",
       "      <td>17</td>\n",
       "      <td>59758</td>\n",
       "      <td>23</td>\n",
       "      <td>142779</td>\n",
       "      <td>17</td>\n",
       "      <td>59758</td>\n",
       "      <td>719</td>\n",
       "      <td>713</td>\n",
       "      <td>719</td>\n",
       "      <td>713</td>\n",
       "    </tr>\n",
       "    <tr>\n",
       "      <th>1</th>\n",
       "      <td>2019-08-02</td>\n",
       "      <td>19</td>\n",
       "      <td>91602</td>\n",
       "      <td>23</td>\n",
       "      <td>162043</td>\n",
       "      <td>42</td>\n",
       "      <td>234381</td>\n",
       "      <td>40</td>\n",
       "      <td>221801</td>\n",
       "      <td>619</td>\n",
       "      <td>581</td>\n",
       "      <td>1338</td>\n",
       "      <td>1294</td>\n",
       "    </tr>\n",
       "    <tr>\n",
       "      <th>2</th>\n",
       "      <td>2019-08-03</td>\n",
       "      <td>24</td>\n",
       "      <td>112473</td>\n",
       "      <td>14</td>\n",
       "      <td>67049</td>\n",
       "      <td>66</td>\n",
       "      <td>346854</td>\n",
       "      <td>54</td>\n",
       "      <td>288850</td>\n",
       "      <td>507</td>\n",
       "      <td>509</td>\n",
       "      <td>1845</td>\n",
       "      <td>1803</td>\n",
       "    </tr>\n",
       "    <tr>\n",
       "      <th>3</th>\n",
       "      <td>2019-08-04</td>\n",
       "      <td>11</td>\n",
       "      <td>41176</td>\n",
       "      <td>14</td>\n",
       "      <td>96890</td>\n",
       "      <td>77</td>\n",
       "      <td>388030</td>\n",
       "      <td>68</td>\n",
       "      <td>385740</td>\n",
       "      <td>717</td>\n",
       "      <td>770</td>\n",
       "      <td>2562</td>\n",
       "      <td>2573</td>\n",
       "    </tr>\n",
       "    <tr>\n",
       "      <th>4</th>\n",
       "      <td>2019-08-05</td>\n",
       "      <td>22</td>\n",
       "      <td>86383</td>\n",
       "      <td>21</td>\n",
       "      <td>89908</td>\n",
       "      <td>99</td>\n",
       "      <td>474413</td>\n",
       "      <td>89</td>\n",
       "      <td>475648</td>\n",
       "      <td>756</td>\n",
       "      <td>707</td>\n",
       "      <td>3318</td>\n",
       "      <td>3280</td>\n",
       "    </tr>\n",
       "  </tbody>\n",
       "</table>\n",
       "</div>"
      ],
      "text/plain": [
       "        date  orders_per_date_a  revenue_per_date_a  orders_per_date_b  \\\n",
       "0 2019-08-01                 23              142779                 17   \n",
       "1 2019-08-02                 19               91602                 23   \n",
       "2 2019-08-03                 24              112473                 14   \n",
       "3 2019-08-04                 11               41176                 14   \n",
       "4 2019-08-05                 22               86383                 21   \n",
       "\n",
       "   revenue_per_date_b  orders_cummulative_a  revenue_cummulative_a  \\\n",
       "0               59758                    23                 142779   \n",
       "1              162043                    42                 234381   \n",
       "2               67049                    66                 346854   \n",
       "3               96890                    77                 388030   \n",
       "4               89908                    99                 474413   \n",
       "\n",
       "   orders_cummulative_b  revenue_cummulative_b  visitors_per_date_a  \\\n",
       "0                    17                  59758                  719   \n",
       "1                    40                 221801                  619   \n",
       "2                    54                 288850                  507   \n",
       "3                    68                 385740                  717   \n",
       "4                    89                 475648                  756   \n",
       "\n",
       "   visitors_per_date_b  visitors_cummulative_a  visitors_cummulative_b  \n",
       "0                  713                     719                     713  \n",
       "1                  581                    1338                    1294  \n",
       "2                  509                    1845                    1803  \n",
       "3                  770                    2562                    2573  \n",
       "4                  707                    3318                    3280  "
      ]
     },
     "execution_count": 50,
     "metadata": {},
     "output_type": "execute_result"
    }
   ],
   "source": [
    "df.head()"
   ]
  },
  {
   "cell_type": "markdown",
   "id": "c69b631d",
   "metadata": {},
   "source": [
    "#### Вывод"
   ]
  },
  {
   "cell_type": "markdown",
   "id": "b5ebf0d5",
   "metadata": {},
   "source": [
    "Мы успешно подготовили данные для проверки гипотез. В итоге у нас вышел общий датафрейм `df` с нужными нам данными."
   ]
  },
  {
   "cell_type": "markdown",
   "id": "9fcf519f",
   "metadata": {},
   "source": [
    "### Статистическая значимость различий в конверсии между группами по «сырым» данным"
   ]
  },
  {
   "cell_type": "markdown",
   "id": "a038767f",
   "metadata": {},
   "source": [
    "Посчитаем статистическую значимость различий в конверсии между группами по «сырым» данным — без удаления аномальных пользователей."
   ]
  },
  {
   "cell_type": "markdown",
   "id": "6229ec65",
   "metadata": {},
   "source": [
    "Сформулируем гипотезы."
   ]
  },
  {
   "cell_type": "markdown",
   "id": "66d596e0",
   "metadata": {},
   "source": [
    "<p>Введем основную и альтернативные гипотезы:</p>\n",
    "\n",
    "$\\begin{equation*}\n",
    " \\begin{cases}\n",
    "   H_0 :\\text{Различий в конверсии между группами нет}\\\\\n",
    "   H_1 :\\text{Различия в конверсии между группами есть}\n",
    " \\end{cases}\n",
    "\\end{equation*}$\n",
    "\n",
    "Уровень значимости: $\\alpha = 0.05$"
   ]
  },
  {
   "cell_type": "markdown",
   "id": "c1f26855",
   "metadata": {},
   "source": [
    "Создадим датафреймы `orders_by_users_a` и `orders_by_users_b` со столбцами `user_id`, `orders`. В них для пользователей, которые заказывали хотя бы 1 раз, укажем число совершённых заказов."
   ]
  },
  {
   "cell_type": "code",
   "execution_count": 51,
   "id": "4d70a3ce",
   "metadata": {},
   "outputs": [],
   "source": [
    "orders_by_users_a = (\n",
    "    orders[orders['group'] == 'A']\n",
    "    .groupby('visitor_id', as_index=False)\n",
    "    .agg({'transaction_id': pd.Series.nunique})\n",
    ")\n",
    "orders_by_users_b = (\n",
    "    orders[orders['group'] == 'B']\n",
    "    .groupby('visitor_id', as_index=False)\n",
    "    .agg({'transaction_id': pd.Series.nunique})\n",
    ")\n",
    "\n",
    "#обозначим новые соответсвующие заголовки колонок в каждой группе\n",
    "orders_by_users_a.columns = ['visitor_id', 'orders']\n",
    "orders_by_users_b.columns = ['visitor_id', 'orders']"
   ]
  },
  {
   "cell_type": "markdown",
   "id": "d7b81994",
   "metadata": {},
   "source": [
    "Объявим переменные `sample_a` и `sample_b`, в которых пользователям из разных групп будет соответствовать количество заказов. Тем, кто ничего не заказал, будут соответствовать нули."
   ]
  },
  {
   "cell_type": "code",
   "execution_count": 52,
   "id": "8650c4cf",
   "metadata": {},
   "outputs": [],
   "source": [
    "sample_a = (pd.concat([orders_by_users_a['orders'], \n",
    "                       pd.Series(0, \n",
    "                                 index=np.arange(df['visitors_per_date_a'].sum() - len(orders_by_users_a['orders'])), \n",
    "                                 name='orders')], \n",
    "                      axis=0))\n",
    "\n",
    "sample_b = (pd.concat([orders_by_users_b['orders'], \n",
    "                       pd.Series(0, \n",
    "                                 index=np.arange(df['visitors_per_date_b'].sum() - len(orders_by_users_b['orders'])), \n",
    "                                 name='orders')], \n",
    "                      axis=0))"
   ]
  },
  {
   "cell_type": "markdown",
   "id": "8f981da2",
   "metadata": {},
   "source": [
    "Проверим гипотезу критерием Манна-Уитни, и выведим значение p-value при этом округлив до 3 знаков после точки. Также выведем относительный прирост конверсии группы B, также округлим значение до 3 знаков после точки.\n",
    "\n",
    "Если значение p-value будет меньше уровня значимости в 0.05 значит отвергнем нулевую гипотезу, иначе не получится отвергнуть нулевую гипотезу."
   ]
  },
  {
   "cell_type": "code",
   "execution_count": 53,
   "id": "133802a3",
   "metadata": {},
   "outputs": [
    {
     "name": "stdout",
     "output_type": "stream",
     "text": [
      "0.011\n",
      "0.160\n"
     ]
    }
   ],
   "source": [
    "print(\"{0:.3f}\".format(st.mannwhitneyu(sample_a, sample_b)[1]))\n",
    "\n",
    "print(\"{0:.3f}\".format(sample_b.mean() / sample_a.mean() - 1))"
   ]
  },
  {
   "cell_type": "markdown",
   "id": "c77a4898",
   "metadata": {},
   "source": [
    "#### Вывод"
   ]
  },
  {
   "cell_type": "markdown",
   "id": "60f6cf8f",
   "metadata": {},
   "source": [
    "Значение p-value = 0.011 получилось ниже уровня значимости в 0.05. Поэтому отвергаем нулевую гипотезу. Различия в конверсии между группами есть.\n",
    "\n",
    "По второму значению, мы видим, что есть значительный прирост конверсии группы В к А в 16%."
   ]
  },
  {
   "cell_type": "markdown",
   "id": "93e8540c",
   "metadata": {},
   "source": [
    "### Статистическая значимость различий в среднем чеке заказа между группами по «сырым» данным"
   ]
  },
  {
   "cell_type": "markdown",
   "id": "fa5c49c3",
   "metadata": {},
   "source": [
    "Проверим статистическую значимость различий в среднем чеке между группами по «сырым» данным."
   ]
  },
  {
   "cell_type": "markdown",
   "id": "6672854c",
   "metadata": {},
   "source": [
    "<p>Введем основную и альтернативные гипотезы:</p>\n",
    "\n",
    "$\\begin{equation*}\n",
    " \\begin{cases}\n",
    "   H_0 :\\text{Различий в среднем чеке между группами нет.}\\\\\n",
    "   H_1 :\\text{Различия в среднем чеке между группами есть.}\n",
    " \\end{cases}\n",
    "\\end{equation*}$\n",
    "\n",
    "Уровень значимости: $\\alpha = 0.05$"
   ]
  },
  {
   "cell_type": "markdown",
   "id": "8a7eab89",
   "metadata": {},
   "source": [
    "Для расчета, передадим критерию mannwhitneyu() данные о выручке с заказов. Выведим значение p-value при этом округлив до 3 знаков после точки."
   ]
  },
  {
   "cell_type": "code",
   "execution_count": 54,
   "id": "6fc8930c",
   "metadata": {},
   "outputs": [
    {
     "name": "stdout",
     "output_type": "stream",
     "text": [
      "0.829\n"
     ]
    }
   ],
   "source": [
    "print('{0:.3f}'.format(st.mannwhitneyu(orders[orders['group']=='A']['revenue'], orders[orders['group']=='B']['revenue'])[1]))"
   ]
  },
  {
   "cell_type": "markdown",
   "id": "22ef2ea9",
   "metadata": {},
   "source": [
    "Найдём относительные различия в среднем чеке между группами, при этом округлив значение до 3 знаков после точки."
   ]
  },
  {
   "cell_type": "code",
   "execution_count": 55,
   "id": "1669166a",
   "metadata": {},
   "outputs": [
    {
     "name": "stdout",
     "output_type": "stream",
     "text": [
      "0.287\n"
     ]
    }
   ],
   "source": [
    "print('{0:.3f}'.format(orders[orders['group']=='B']['revenue'].mean()/orders[orders['group']=='A']['revenue'].mean()-1))"
   ]
  },
  {
   "cell_type": "markdown",
   "id": "cb2a05c4",
   "metadata": {},
   "source": [
    "#### Вывод"
   ]
  },
  {
   "cell_type": "markdown",
   "id": "22d1713f",
   "metadata": {},
   "source": [
    "P-value значительно больше 0.05. Соответственно, причин отвергать нулевую гипотезу и считать, что в среднем чеке есть различия, нет. \n",
    "\n",
    "Стоит отметить, по второму расчитанному значению, средний чек группы B значительно выше среднего чека группы A."
   ]
  },
  {
   "cell_type": "markdown",
   "id": "a7364319",
   "metadata": {},
   "source": [
    "### Статистическая значимость различий в конверсии между группами по «очищенным» данным"
   ]
  },
  {
   "cell_type": "markdown",
   "id": "ad4bafc3",
   "metadata": {},
   "source": [
    "Посчитаем статистическую значимость различий в конверсии между группами по «очищенным» данным"
   ]
  },
  {
   "cell_type": "markdown",
   "id": "6dac8c8e",
   "metadata": {},
   "source": [
    "<p>Введем основную и альтернативные гипотезы:</p>\n",
    "\n",
    "$\\begin{equation*}\n",
    " \\begin{cases}\n",
    "   H_0 :\\text{Различий в конверсии по \"очищенным\" данным между группами нет}\\\\\n",
    "   H_1 :\\text{Различия в конверсии по \"очищенным\" данным между группами есть}\n",
    " \\end{cases}\n",
    "\\end{equation*}$\n",
    "\n",
    "Уровень значимости: $\\alpha = 0.05$"
   ]
  },
  {
   "cell_type": "markdown",
   "id": "898c5487",
   "metadata": {},
   "source": [
    "Изначально, прежде чем приступить к проверке гипотез, подготовим данные."
   ]
  },
  {
   "cell_type": "markdown",
   "id": "a39449c7",
   "metadata": {},
   "source": [
    "Примем за аномальных пользователей тех, кто совершил более 2 заказов или совершил заказ дороже 53 904 рублей. Так мы уберём 5% пользователей с наибольшим числом заказов и 1% пользователей с дорогими заказами.\n",
    "\n",
    "Сделаем срезы пользователей. Посмотрим какие аномальные пользователи и сколько их."
   ]
  },
  {
   "cell_type": "code",
   "execution_count": 56,
   "id": "d939a251",
   "metadata": {},
   "outputs": [
    {
     "name": "stdout",
     "output_type": "stream",
     "text": [
      "1099    148427295\n",
      "33      249864742\n",
      "36      366673373\n",
      "51      406208401\n",
      "67      522292794\n",
      "Name: visitor_id, dtype: object\n",
      "\n",
      "Всего в группе аномальных пользователей - 45\n"
     ]
    }
   ],
   "source": [
    "#срез пользователей совершивших более 2 заказов\n",
    "users_with_many_orders = pd.concat(\n",
    "    [\n",
    "        orders_by_users_a[orders_by_users_a['orders'] > int(np.percentile(orders_by_users['orders'], [95]))]['visitor_id'],\n",
    "        orders_by_users_b[orders_by_users_b['orders'] > int(np.percentile(orders_by_users['orders'], [95]))]['visitor_id'],\n",
    "    ],\n",
    "    axis=0,\n",
    ")\n",
    "\n",
    "#срез пользователей совершивших заказы дороже 28000\n",
    "users_with_expensive_orders = orders[orders['revenue'] > int(np.percentile(orders['revenue'], [99]))]['visitor_id']\n",
    "\n",
    "#объединим срезы в единой таблице\n",
    "abnormal_users = (\n",
    "    pd.concat([users_with_many_orders, users_with_expensive_orders], axis=0)\n",
    "    .drop_duplicates()\n",
    "    .sort_values()\n",
    ")\n",
    "\n",
    "#выведим первые пять пользователей из списка и общее количество аномальных пользователей\n",
    "print(abnormal_users.head(5))\n",
    "print()\n",
    "print(f'Всего в группе аномальных пользователей - {abnormal_users.shape[0]}') "
   ]
  },
  {
   "cell_type": "markdown",
   "id": "07671427",
   "metadata": {},
   "source": [
    "Посчитаем статистическую значимость различий в конверсии между группами теста по очищенным данным. Для этого подготовим выборки количества заказов по пользователям по группам теста."
   ]
  },
  {
   "cell_type": "code",
   "execution_count": 57,
   "id": "4ebc68dc",
   "metadata": {},
   "outputs": [],
   "source": [
    "sample_a_filtered = (pd.concat(\n",
    "    [orders_by_users_a[np.logical_not(orders_by_users_a['visitor_id'].isin(abnormal_users))]['orders'], \n",
    "     pd.Series(0, \n",
    "               index=np.arange(df['visitors_per_date_a'].sum() - len(orders_by_users_a['orders'])), \n",
    "               name='orders',),], \n",
    "    axis=0,))\n",
    "\n",
    "sample_b_filtered = (pd.concat(\n",
    "    [orders_by_users_b[np.logical_not(orders_by_users_b['visitor_id'].isin(abnormal_users))]['orders'], \n",
    "     pd.Series(0, \n",
    "               index=np.arange(df['visitors_per_date_b'].sum() - len(orders_by_users_b['orders'])), \n",
    "               name='orders',),], \n",
    "    axis=0,))"
   ]
  },
  {
   "cell_type": "markdown",
   "id": "955bf0f0",
   "metadata": {},
   "source": [
    "Применим статистический критерий Манна-Уитни к полученным выборкам. Также выведем относительный прирост конверсии группы B, также округлим значение до 3 знаков после точки."
   ]
  },
  {
   "cell_type": "code",
   "execution_count": 58,
   "id": "5f2764cf",
   "metadata": {},
   "outputs": [
    {
     "name": "stdout",
     "output_type": "stream",
     "text": [
      "0.008\n",
      "0.188\n"
     ]
    }
   ],
   "source": [
    "print('{0:.3f}'.format(st.mannwhitneyu(sample_a_filtered, sample_b_filtered)[1]))\n",
    "print('{0:.3f}'.format(sample_b_filtered.mean()/sample_a_filtered.mean()-1)) "
   ]
  },
  {
   "cell_type": "markdown",
   "id": "61cd7747",
   "metadata": {},
   "source": [
    "#### Вывод"
   ]
  },
  {
   "cell_type": "markdown",
   "id": "0d8e5f93",
   "metadata": {},
   "source": [
    "Результаты по конверсии практически не изменились. Значение p-value = 0.016 (по \"сырым\" - 0.011) получилось ниже уровня значимости в 0.05. Поэтому отвергаем нулевую гипотезу. Различия в конверсии по \"очищенным\" данным между группами есть.\n",
    "\n",
    "По второму значению, мы видим, что есть значительный прирост конверсии группы В к А на 17.4% (по \"сырым\" данным - 16%)."
   ]
  },
  {
   "cell_type": "markdown",
   "id": "f552b9e8",
   "metadata": {},
   "source": [
    "### Статистическая значимость различий в среднем чеке заказа между группами по «очищенным» данным"
   ]
  },
  {
   "cell_type": "markdown",
   "id": "1cf74a09",
   "metadata": {},
   "source": [
    "Посчитаем статистическая значимость различий в среднем чеке заказа между группами по «очищенным» данным"
   ]
  },
  {
   "cell_type": "markdown",
   "id": "7394978d",
   "metadata": {},
   "source": [
    "<p>Введем основную и альтернативные гипотезы:</p>\n",
    "\n",
    "$\\begin{equation*}\n",
    " \\begin{cases}\n",
    "   H_0 :\\text{Различий в среднем чеке по \"очищенным\" данным между группами нет.}\\\\\n",
    "   H_1 :\\text{Различия в среднем чеке по \"очищенным\" данным между группами есть.}\n",
    " \\end{cases}\n",
    "\\end{equation*}$\n",
    "\n",
    "Уровень значимости: $\\alpha = 0.05$"
   ]
  },
  {
   "cell_type": "code",
   "execution_count": 59,
   "id": "cfbf416d",
   "metadata": {},
   "outputs": [
    {
     "name": "stdout",
     "output_type": "stream",
     "text": [
      "0.969\n",
      "0.002\n"
     ]
    }
   ],
   "source": [
    "print(\n",
    "    '{0:.3f}'.format(\n",
    "        st.mannwhitneyu(\n",
    "            orders[np.logical_and(\n",
    "                    orders['group'] == 'A',\n",
    "                    np.logical_not(orders['visitor_id'].isin(abnormal_users)),)]['revenue'],\n",
    "            orders[np.logical_and(\n",
    "                    orders['group'] == 'B',\n",
    "                    np.logical_not(orders['visitor_id'].isin(abnormal_users)),)]['revenue'],)[1]))\n",
    "\n",
    "print(\n",
    "    \"{0:.3f}\".format(\n",
    "        orders[np.logical_and(\n",
    "                orders['group'] == 'B',\n",
    "                np.logical_not(orders['visitor_id'].isin(abnormal_users)),)]['revenue'].mean()\n",
    "        / orders[np.logical_and(\n",
    "                orders['group'] == 'A',\n",
    "                np.logical_not(orders['visitor_id'].isin(abnormal_users)),)]['revenue'].mean() - 1)) "
   ]
  },
  {
   "cell_type": "markdown",
   "id": "409d04ac",
   "metadata": {},
   "source": [
    "#### Вывод"
   ]
  },
  {
   "cell_type": "markdown",
   "id": "bbfc0986",
   "metadata": {},
   "source": [
    "P-value также как и по \"сырым\" данным и значительно больше 0.05, составляет 0.727 (по \"сырым\" данным - 0.829). Соответственно, причин отвергать нулевую гипотезу и считать, что в среднем чеке есть различия, нет. \n",
    "\n",
    "Однако стоит отметить, по второму расчитанному значению, есть значительные изменения средний чек группы B стал даже чуть-чуть ниже среднего чека группы A (в целом ровно). Соответственно аномальные значения значительно повлияли на резульататы теста."
   ]
  },
  {
   "cell_type": "markdown",
   "id": "210efa52",
   "metadata": {},
   "source": [
    "### Решение по результатам теста"
   ]
  },
  {
   "cell_type": "markdown",
   "id": "34f07251",
   "metadata": {},
   "source": [
    "Подведем итоги:\n",
    "\n",
    "- Есть статистически значимые различия по конверсии между группами, как по «сырым» данным, так по данным после фильтрации аномалий.\n",
    "- Есть значительный прирост конверсии группы В к А на 17.4% (по \"сырым\" данным - 16%).\n",
    "- Есть статистически значимые различия по среднему чеку между группами по «сырым», однако по данным после фильтрации аномалий различий нет, т.е. на средний чек повлияли аномальные пользователи."
   ]
  },
  {
   "cell_type": "markdown",
   "id": "92397d55",
   "metadata": {},
   "source": [
    "**Какие выводы по тесту можем сделать?**\n",
    "\n",
    "Исходя из обнаруженных фактов, тест следует остановить и признать его успешным. \n",
    "\n",
    "Как видим по итогам теста - **сегмент B лучше сегмента A**."
   ]
  }
 ],
 "metadata": {
  "ExecuteTimeLog": [
   {
    "duration": 1351,
    "start_time": "2022-04-20T06:53:01.469Z"
   },
   {
    "duration": 4,
    "start_time": "2022-04-20T06:53:03.915Z"
   },
   {
    "duration": 5,
    "start_time": "2022-04-20T06:53:09.598Z"
   },
   {
    "duration": 37,
    "start_time": "2022-04-20T06:53:09.605Z"
   },
   {
    "duration": 13,
    "start_time": "2022-04-20T06:53:09.644Z"
   },
   {
    "duration": 11,
    "start_time": "2022-04-20T06:53:09.659Z"
   },
   {
    "duration": 13,
    "start_time": "2022-04-20T06:53:09.672Z"
   },
   {
    "duration": 18,
    "start_time": "2022-04-20T06:53:09.686Z"
   },
   {
    "duration": 11,
    "start_time": "2022-04-20T06:53:09.706Z"
   },
   {
    "duration": 19,
    "start_time": "2022-04-20T06:53:09.718Z"
   },
   {
    "duration": 33,
    "start_time": "2022-04-20T06:53:09.739Z"
   },
   {
    "duration": 34,
    "start_time": "2022-04-20T06:53:09.774Z"
   },
   {
    "duration": 9,
    "start_time": "2022-04-20T06:53:09.812Z"
   },
   {
    "duration": 12,
    "start_time": "2022-04-20T06:53:09.823Z"
   },
   {
    "duration": 35,
    "start_time": "2022-04-20T06:53:09.837Z"
   },
   {
    "duration": 25,
    "start_time": "2022-04-20T06:53:09.874Z"
   },
   {
    "duration": 18,
    "start_time": "2022-04-20T06:53:09.901Z"
   },
   {
    "duration": 30,
    "start_time": "2022-04-20T06:53:09.921Z"
   },
   {
    "duration": 8,
    "start_time": "2022-04-20T06:53:09.953Z"
   },
   {
    "duration": 185,
    "start_time": "2022-04-20T06:53:09.963Z"
   },
   {
    "duration": 9,
    "start_time": "2022-04-20T06:53:10.150Z"
   },
   {
    "duration": 135,
    "start_time": "2022-04-20T06:53:10.161Z"
   },
   {
    "duration": 15,
    "start_time": "2022-04-20T06:53:10.298Z"
   },
   {
    "duration": 20,
    "start_time": "2022-04-20T06:53:10.314Z"
   },
   {
    "duration": 9,
    "start_time": "2022-04-20T06:53:10.335Z"
   },
   {
    "duration": 11,
    "start_time": "2022-04-20T06:53:10.346Z"
   },
   {
    "duration": 284,
    "start_time": "2022-04-20T06:53:10.358Z"
   },
   {
    "duration": 212,
    "start_time": "2022-04-20T06:53:10.644Z"
   },
   {
    "duration": 6,
    "start_time": "2022-04-20T06:53:10.857Z"
   },
   {
    "duration": 378,
    "start_time": "2022-04-20T06:53:10.865Z"
   },
   {
    "duration": 4,
    "start_time": "2022-04-20T06:53:11.247Z"
   },
   {
    "duration": 7,
    "start_time": "2022-04-20T06:53:11.254Z"
   },
   {
    "duration": 205,
    "start_time": "2022-04-20T06:53:11.262Z"
   },
   {
    "duration": 8,
    "start_time": "2022-04-20T06:53:11.468Z"
   },
   {
    "duration": 313,
    "start_time": "2022-04-20T06:53:11.478Z"
   },
   {
    "duration": 9,
    "start_time": "2022-04-20T06:53:11.793Z"
   },
   {
    "duration": 17,
    "start_time": "2022-04-20T06:53:11.803Z"
   },
   {
    "duration": 245,
    "start_time": "2022-04-20T06:53:11.821Z"
   },
   {
    "duration": 144,
    "start_time": "2022-04-20T06:53:12.068Z"
   },
   {
    "duration": 5,
    "start_time": "2022-04-20T06:53:12.213Z"
   },
   {
    "duration": 176,
    "start_time": "2022-04-20T06:53:12.219Z"
   },
   {
    "duration": 168,
    "start_time": "2022-04-20T06:53:12.397Z"
   },
   {
    "duration": 4,
    "start_time": "2022-04-20T06:53:12.567Z"
   },
   {
    "duration": 9,
    "start_time": "2022-04-20T06:53:12.572Z"
   },
   {
    "duration": 183,
    "start_time": "2022-04-20T06:53:12.582Z"
   },
   {
    "duration": 30,
    "start_time": "2022-04-20T06:53:12.767Z"
   },
   {
    "duration": 103,
    "start_time": "2022-04-20T06:53:12.798Z"
   },
   {
    "duration": 19,
    "start_time": "2022-04-20T06:53:12.903Z"
   },
   {
    "duration": 10,
    "start_time": "2022-04-20T06:53:12.923Z"
   },
   {
    "duration": 153,
    "start_time": "2022-04-20T06:53:12.955Z"
   },
   {
    "duration": 7,
    "start_time": "2022-04-20T06:53:13.109Z"
   },
   {
    "duration": 26,
    "start_time": "2022-04-20T06:53:13.117Z"
   },
   {
    "duration": 16,
    "start_time": "2022-04-20T06:53:13.144Z"
   },
   {
    "duration": 7,
    "start_time": "2022-04-20T06:53:13.162Z"
   },
   {
    "duration": 13,
    "start_time": "2022-04-20T06:53:13.171Z"
   },
   {
    "duration": 8,
    "start_time": "2022-04-20T06:53:13.186Z"
   },
   {
    "duration": 60,
    "start_time": "2022-04-20T06:53:13.196Z"
   },
   {
    "duration": 14,
    "start_time": "2022-04-20T06:53:13.257Z"
   },
   {
    "duration": 2251,
    "start_time": "2022-04-20T06:57:39.975Z"
   },
   {
    "duration": 4,
    "start_time": "2022-04-20T06:58:13.968Z"
   },
   {
    "duration": 18,
    "start_time": "2022-04-20T06:58:13.974Z"
   },
   {
    "duration": 9,
    "start_time": "2022-04-20T06:58:13.993Z"
   },
   {
    "duration": 5,
    "start_time": "2022-04-20T06:58:14.004Z"
   },
   {
    "duration": 10,
    "start_time": "2022-04-20T06:58:14.011Z"
   },
   {
    "duration": 10,
    "start_time": "2022-04-20T06:58:14.023Z"
   },
   {
    "duration": 21,
    "start_time": "2022-04-20T06:58:14.035Z"
   },
   {
    "duration": 5,
    "start_time": "2022-04-20T06:58:14.318Z"
   },
   {
    "duration": 12,
    "start_time": "2022-04-20T06:58:14.325Z"
   },
   {
    "duration": 26,
    "start_time": "2022-04-20T06:58:14.342Z"
   },
   {
    "duration": 9,
    "start_time": "2022-04-20T06:58:14.370Z"
   },
   {
    "duration": 8,
    "start_time": "2022-04-20T06:58:14.381Z"
   },
   {
    "duration": 11,
    "start_time": "2022-04-20T06:58:14.391Z"
   },
   {
    "duration": 11,
    "start_time": "2022-04-20T06:58:14.403Z"
   },
   {
    "duration": 7,
    "start_time": "2022-04-20T06:58:14.415Z"
   },
   {
    "duration": 44,
    "start_time": "2022-04-20T06:58:14.423Z"
   },
   {
    "duration": 9,
    "start_time": "2022-04-20T06:58:14.469Z"
   },
   {
    "duration": 203,
    "start_time": "2022-04-20T06:58:14.480Z"
   },
   {
    "duration": 8,
    "start_time": "2022-04-20T06:58:14.686Z"
   },
   {
    "duration": 134,
    "start_time": "2022-04-20T06:58:14.695Z"
   },
   {
    "duration": 9,
    "start_time": "2022-04-20T06:58:14.831Z"
   },
   {
    "duration": 19,
    "start_time": "2022-04-20T06:58:14.842Z"
   },
   {
    "duration": 8,
    "start_time": "2022-04-20T06:58:14.863Z"
   },
   {
    "duration": 7,
    "start_time": "2022-04-20T06:58:14.873Z"
   },
   {
    "duration": 215,
    "start_time": "2022-04-20T06:58:14.882Z"
   },
   {
    "duration": 216,
    "start_time": "2022-04-20T06:58:15.099Z"
   },
   {
    "duration": 7,
    "start_time": "2022-04-20T06:58:15.316Z"
   },
   {
    "duration": 338,
    "start_time": "2022-04-20T06:58:15.325Z"
   },
   {
    "duration": 5,
    "start_time": "2022-04-20T06:58:15.665Z"
   },
   {
    "duration": 14,
    "start_time": "2022-04-20T06:58:15.672Z"
   },
   {
    "duration": 197,
    "start_time": "2022-04-20T06:58:15.688Z"
   },
   {
    "duration": 8,
    "start_time": "2022-04-20T06:58:15.887Z"
   },
   {
    "duration": 282,
    "start_time": "2022-04-20T06:58:15.896Z"
   },
   {
    "duration": 8,
    "start_time": "2022-04-20T06:58:16.180Z"
   },
   {
    "duration": 11,
    "start_time": "2022-04-20T06:58:16.189Z"
   },
   {
    "duration": 158,
    "start_time": "2022-04-20T06:58:16.202Z"
   },
   {
    "duration": 148,
    "start_time": "2022-04-20T06:58:16.363Z"
   },
   {
    "duration": 5,
    "start_time": "2022-04-20T06:58:16.512Z"
   },
   {
    "duration": 189,
    "start_time": "2022-04-20T06:58:16.518Z"
   },
   {
    "duration": 180,
    "start_time": "2022-04-20T06:58:16.709Z"
   },
   {
    "duration": 4,
    "start_time": "2022-04-20T06:58:16.891Z"
   },
   {
    "duration": 12,
    "start_time": "2022-04-20T06:58:16.897Z"
   },
   {
    "duration": 107,
    "start_time": "2022-04-20T06:58:16.911Z"
   },
   {
    "duration": 36,
    "start_time": "2022-04-20T06:58:17.020Z"
   },
   {
    "duration": 116,
    "start_time": "2022-04-20T06:58:17.058Z"
   },
   {
    "duration": 23,
    "start_time": "2022-04-20T06:58:17.176Z"
   },
   {
    "duration": 10,
    "start_time": "2022-04-20T06:58:17.201Z"
   },
   {
    "duration": 366,
    "start_time": "2022-04-20T06:58:17.213Z"
   },
   {
    "duration": 9,
    "start_time": "2022-04-20T06:58:17.581Z"
   },
   {
    "duration": 79,
    "start_time": "2022-04-20T06:58:17.592Z"
   },
   {
    "duration": 9,
    "start_time": "2022-04-20T06:58:17.672Z"
   },
   {
    "duration": 8,
    "start_time": "2022-04-20T06:58:17.682Z"
   },
   {
    "duration": 64,
    "start_time": "2022-04-20T06:58:17.691Z"
   },
   {
    "duration": 10,
    "start_time": "2022-04-20T06:58:17.757Z"
   },
   {
    "duration": 30,
    "start_time": "2022-04-20T06:58:17.768Z"
   },
   {
    "duration": 67,
    "start_time": "2022-04-20T06:58:17.799Z"
   },
   {
    "duration": 2104,
    "start_time": "2022-04-20T06:59:22.117Z"
   },
   {
    "duration": 3,
    "start_time": "2022-04-20T06:59:33.474Z"
   },
   {
    "duration": 18,
    "start_time": "2022-04-20T06:59:33.479Z"
   },
   {
    "duration": 8,
    "start_time": "2022-04-20T06:59:33.498Z"
   },
   {
    "duration": 8,
    "start_time": "2022-04-20T06:59:33.508Z"
   },
   {
    "duration": 14,
    "start_time": "2022-04-20T06:59:33.517Z"
   },
   {
    "duration": 11,
    "start_time": "2022-04-20T06:59:33.532Z"
   },
   {
    "duration": 14,
    "start_time": "2022-04-20T06:59:33.545Z"
   },
   {
    "duration": 10,
    "start_time": "2022-04-20T06:59:33.561Z"
   },
   {
    "duration": 16,
    "start_time": "2022-04-20T06:59:33.574Z"
   },
   {
    "duration": 10,
    "start_time": "2022-04-20T07:01:36.393Z"
   },
   {
    "duration": 10,
    "start_time": "2022-04-20T07:02:38.907Z"
   },
   {
    "duration": 4,
    "start_time": "2022-04-20T07:19:27.673Z"
   },
   {
    "duration": 9,
    "start_time": "2022-04-20T07:20:12.648Z"
   },
   {
    "duration": 14,
    "start_time": "2022-04-20T07:20:20.939Z"
   },
   {
    "duration": 8,
    "start_time": "2022-04-20T07:20:29.275Z"
   },
   {
    "duration": 10,
    "start_time": "2022-04-20T07:20:38.878Z"
   },
   {
    "duration": 121,
    "start_time": "2022-04-20T07:21:48.377Z"
   },
   {
    "duration": 309,
    "start_time": "2022-04-20T07:22:48.983Z"
   },
   {
    "duration": 311,
    "start_time": "2022-04-20T07:23:00.044Z"
   },
   {
    "duration": 4,
    "start_time": "2022-04-20T08:10:19.457Z"
   },
   {
    "duration": 30,
    "start_time": "2022-04-20T09:49:35.460Z"
   },
   {
    "duration": 7,
    "start_time": "2022-04-20T09:49:46.288Z"
   },
   {
    "duration": 3,
    "start_time": "2022-04-20T09:50:04.287Z"
   },
   {
    "duration": 14,
    "start_time": "2022-04-20T09:50:04.293Z"
   },
   {
    "duration": 7,
    "start_time": "2022-04-20T09:50:04.309Z"
   },
   {
    "duration": 6,
    "start_time": "2022-04-20T09:50:04.318Z"
   },
   {
    "duration": 10,
    "start_time": "2022-04-20T09:50:04.326Z"
   },
   {
    "duration": 7,
    "start_time": "2022-04-20T09:50:04.337Z"
   },
   {
    "duration": 14,
    "start_time": "2022-04-20T09:50:04.346Z"
   },
   {
    "duration": 8,
    "start_time": "2022-04-20T09:50:04.361Z"
   },
   {
    "duration": 11,
    "start_time": "2022-04-20T09:50:04.371Z"
   },
   {
    "duration": 13,
    "start_time": "2022-04-20T09:50:04.383Z"
   },
   {
    "duration": 27,
    "start_time": "2022-04-20T09:50:04.398Z"
   },
   {
    "duration": 8,
    "start_time": "2022-04-20T09:50:04.426Z"
   },
   {
    "duration": 20,
    "start_time": "2022-04-20T09:50:04.435Z"
   },
   {
    "duration": 13,
    "start_time": "2022-04-20T09:50:04.457Z"
   },
   {
    "duration": 11,
    "start_time": "2022-04-20T09:50:04.471Z"
   },
   {
    "duration": 6,
    "start_time": "2022-04-20T09:50:04.484Z"
   },
   {
    "duration": 16,
    "start_time": "2022-04-20T09:50:04.491Z"
   },
   {
    "duration": 8,
    "start_time": "2022-04-20T09:50:04.508Z"
   },
   {
    "duration": 4,
    "start_time": "2022-04-20T09:50:04.520Z"
   },
   {
    "duration": 348,
    "start_time": "2022-04-20T09:50:04.525Z"
   },
   {
    "duration": 9,
    "start_time": "2022-04-20T09:50:04.875Z"
   },
   {
    "duration": 8,
    "start_time": "2022-04-20T09:50:04.886Z"
   },
   {
    "duration": 13,
    "start_time": "2022-04-20T09:50:04.895Z"
   },
   {
    "duration": 7,
    "start_time": "2022-04-20T09:50:04.909Z"
   },
   {
    "duration": 166,
    "start_time": "2022-04-20T09:50:04.918Z"
   },
   {
    "duration": 7,
    "start_time": "2022-04-20T09:50:05.086Z"
   },
   {
    "duration": 119,
    "start_time": "2022-04-20T09:50:05.095Z"
   },
   {
    "duration": 6,
    "start_time": "2022-04-20T09:50:05.216Z"
   },
   {
    "duration": 26,
    "start_time": "2022-04-20T09:50:05.223Z"
   },
   {
    "duration": 13,
    "start_time": "2022-04-20T09:50:05.250Z"
   },
   {
    "duration": 8,
    "start_time": "2022-04-20T09:50:05.264Z"
   },
   {
    "duration": 270,
    "start_time": "2022-04-20T09:50:05.273Z"
   },
   {
    "duration": 192,
    "start_time": "2022-04-20T09:50:05.545Z"
   },
   {
    "duration": 15,
    "start_time": "2022-04-20T09:50:05.739Z"
   },
   {
    "duration": 301,
    "start_time": "2022-04-20T09:50:05.756Z"
   },
   {
    "duration": 4,
    "start_time": "2022-04-20T09:50:06.059Z"
   },
   {
    "duration": 12,
    "start_time": "2022-04-20T09:50:06.065Z"
   },
   {
    "duration": 199,
    "start_time": "2022-04-20T09:50:06.079Z"
   },
   {
    "duration": 8,
    "start_time": "2022-04-20T09:50:06.279Z"
   },
   {
    "duration": 283,
    "start_time": "2022-04-20T09:50:06.289Z"
   },
   {
    "duration": 8,
    "start_time": "2022-04-20T09:50:06.574Z"
   },
   {
    "duration": 11,
    "start_time": "2022-04-20T09:50:06.584Z"
   },
   {
    "duration": 163,
    "start_time": "2022-04-20T09:50:06.597Z"
   },
   {
    "duration": 154,
    "start_time": "2022-04-20T09:50:06.761Z"
   },
   {
    "duration": 4,
    "start_time": "2022-04-20T09:50:06.917Z"
   },
   {
    "duration": 164,
    "start_time": "2022-04-20T09:50:06.922Z"
   },
   {
    "duration": 166,
    "start_time": "2022-04-20T09:50:07.088Z"
   },
   {
    "duration": 4,
    "start_time": "2022-04-20T09:50:07.258Z"
   },
   {
    "duration": 14,
    "start_time": "2022-04-20T09:50:07.263Z"
   },
   {
    "duration": 93,
    "start_time": "2022-04-20T09:50:07.278Z"
   },
   {
    "duration": 24,
    "start_time": "2022-04-20T09:50:07.372Z"
   },
   {
    "duration": 105,
    "start_time": "2022-04-20T09:50:07.398Z"
   },
   {
    "duration": 54,
    "start_time": "2022-04-20T09:50:07.505Z"
   },
   {
    "duration": 10,
    "start_time": "2022-04-20T09:50:07.561Z"
   },
   {
    "duration": 282,
    "start_time": "2022-04-20T09:50:07.573Z"
   },
   {
    "duration": 6,
    "start_time": "2022-04-20T09:50:07.857Z"
   },
   {
    "duration": 25,
    "start_time": "2022-04-20T09:50:07.864Z"
   },
   {
    "duration": 7,
    "start_time": "2022-04-20T09:50:07.891Z"
   },
   {
    "duration": 6,
    "start_time": "2022-04-20T09:50:07.955Z"
   },
   {
    "duration": 18,
    "start_time": "2022-04-20T09:50:07.963Z"
   },
   {
    "duration": 9,
    "start_time": "2022-04-20T09:50:07.983Z"
   },
   {
    "duration": 81,
    "start_time": "2022-04-20T09:50:07.994Z"
   },
   {
    "duration": 19,
    "start_time": "2022-04-20T09:50:08.077Z"
   },
   {
    "duration": 178,
    "start_time": "2022-04-20T09:52:26.369Z"
   },
   {
    "duration": 266,
    "start_time": "2022-04-20T09:52:31.845Z"
   },
   {
    "duration": 315,
    "start_time": "2022-04-20T09:53:22.615Z"
   },
   {
    "duration": 277,
    "start_time": "2022-04-20T09:53:35.993Z"
   },
   {
    "duration": 263,
    "start_time": "2022-04-20T09:53:50.176Z"
   },
   {
    "duration": 4,
    "start_time": "2022-04-20T09:54:00.548Z"
   },
   {
    "duration": 16,
    "start_time": "2022-04-20T09:54:00.557Z"
   },
   {
    "duration": 9,
    "start_time": "2022-04-20T09:54:00.575Z"
   },
   {
    "duration": 8,
    "start_time": "2022-04-20T09:54:00.586Z"
   },
   {
    "duration": 18,
    "start_time": "2022-04-20T09:54:00.596Z"
   },
   {
    "duration": 8,
    "start_time": "2022-04-20T09:54:00.616Z"
   },
   {
    "duration": 23,
    "start_time": "2022-04-20T09:54:00.626Z"
   },
   {
    "duration": 22,
    "start_time": "2022-04-20T09:54:00.651Z"
   },
   {
    "duration": 24,
    "start_time": "2022-04-20T09:54:00.675Z"
   },
   {
    "duration": 25,
    "start_time": "2022-04-20T09:54:00.700Z"
   },
   {
    "duration": 35,
    "start_time": "2022-04-20T09:54:00.727Z"
   },
   {
    "duration": 7,
    "start_time": "2022-04-20T09:54:00.764Z"
   },
   {
    "duration": 27,
    "start_time": "2022-04-20T09:54:00.774Z"
   },
   {
    "duration": 36,
    "start_time": "2022-04-20T09:54:00.803Z"
   },
   {
    "duration": 31,
    "start_time": "2022-04-20T09:54:00.841Z"
   },
   {
    "duration": 21,
    "start_time": "2022-04-20T09:54:00.874Z"
   },
   {
    "duration": 36,
    "start_time": "2022-04-20T09:54:00.896Z"
   },
   {
    "duration": 337,
    "start_time": "2022-04-20T09:54:00.934Z"
   },
   {
    "duration": 6,
    "start_time": "2022-04-20T09:54:01.272Z"
   },
   {
    "duration": 21,
    "start_time": "2022-04-20T09:54:01.280Z"
   },
   {
    "duration": 196,
    "start_time": "2022-04-20T09:54:01.303Z"
   },
   {
    "duration": 9,
    "start_time": "2022-04-20T09:54:01.501Z"
   },
   {
    "duration": 169,
    "start_time": "2022-04-20T09:54:01.511Z"
   },
   {
    "duration": 35,
    "start_time": "2022-04-20T09:54:01.682Z"
   },
   {
    "duration": 29,
    "start_time": "2022-04-20T09:54:01.719Z"
   },
   {
    "duration": 19,
    "start_time": "2022-04-20T09:54:01.750Z"
   },
   {
    "duration": 58,
    "start_time": "2022-04-20T09:54:01.771Z"
   },
   {
    "duration": 369,
    "start_time": "2022-04-20T09:54:01.831Z"
   },
   {
    "duration": 355,
    "start_time": "2022-04-20T09:54:02.202Z"
   },
   {
    "duration": 6,
    "start_time": "2022-04-20T09:54:02.559Z"
   },
   {
    "duration": 299,
    "start_time": "2022-04-20T09:54:02.567Z"
   },
   {
    "duration": 5,
    "start_time": "2022-04-20T09:54:02.868Z"
   },
   {
    "duration": 8,
    "start_time": "2022-04-20T09:54:02.874Z"
   },
   {
    "duration": 204,
    "start_time": "2022-04-20T09:54:02.887Z"
   },
   {
    "duration": 7,
    "start_time": "2022-04-20T09:54:03.093Z"
   },
   {
    "duration": 303,
    "start_time": "2022-04-20T09:54:03.102Z"
   },
   {
    "duration": 7,
    "start_time": "2022-04-20T09:54:03.407Z"
   },
   {
    "duration": 12,
    "start_time": "2022-04-20T09:54:03.416Z"
   },
   {
    "duration": 241,
    "start_time": "2022-04-20T09:54:03.429Z"
   },
   {
    "duration": 296,
    "start_time": "2022-04-20T09:54:03.672Z"
   },
   {
    "duration": 5,
    "start_time": "2022-04-20T09:54:03.970Z"
   },
   {
    "duration": 403,
    "start_time": "2022-04-20T09:54:03.977Z"
   },
   {
    "duration": 375,
    "start_time": "2022-04-20T09:54:04.382Z"
   },
   {
    "duration": 4,
    "start_time": "2022-04-20T09:54:04.759Z"
   },
   {
    "duration": 13,
    "start_time": "2022-04-20T09:54:04.765Z"
   },
   {
    "duration": 279,
    "start_time": "2022-04-20T09:54:04.781Z"
   },
   {
    "duration": 39,
    "start_time": "2022-04-20T09:54:05.062Z"
   },
   {
    "duration": 302,
    "start_time": "2022-04-20T09:54:05.155Z"
   },
   {
    "duration": 32,
    "start_time": "2022-04-20T09:54:05.460Z"
   },
   {
    "duration": 66,
    "start_time": "2022-04-20T09:54:05.494Z"
   },
   {
    "duration": 510,
    "start_time": "2022-04-20T09:54:05.562Z"
   },
   {
    "duration": 7,
    "start_time": "2022-04-20T09:54:06.074Z"
   },
   {
    "duration": 29,
    "start_time": "2022-04-20T09:54:06.083Z"
   },
   {
    "duration": 8,
    "start_time": "2022-04-20T09:54:06.114Z"
   },
   {
    "duration": 36,
    "start_time": "2022-04-20T09:54:06.123Z"
   },
   {
    "duration": 12,
    "start_time": "2022-04-20T09:54:06.161Z"
   },
   {
    "duration": 25,
    "start_time": "2022-04-20T09:54:06.175Z"
   },
   {
    "duration": 24,
    "start_time": "2022-04-20T09:54:06.201Z"
   },
   {
    "duration": 14,
    "start_time": "2022-04-20T09:54:06.227Z"
   },
   {
    "duration": 1247,
    "start_time": "2022-04-20T10:16:05.721Z"
   },
   {
    "duration": 12,
    "start_time": "2022-04-20T10:16:06.970Z"
   },
   {
    "duration": 13,
    "start_time": "2022-04-20T10:16:06.984Z"
   },
   {
    "duration": 3,
    "start_time": "2022-04-20T10:16:07.001Z"
   },
   {
    "duration": 17,
    "start_time": "2022-04-20T10:16:07.006Z"
   },
   {
    "duration": 31,
    "start_time": "2022-04-20T10:16:07.025Z"
   },
   {
    "duration": 12,
    "start_time": "2022-04-20T10:16:07.058Z"
   },
   {
    "duration": 11,
    "start_time": "2022-04-20T10:16:07.072Z"
   },
   {
    "duration": 13,
    "start_time": "2022-04-20T10:16:07.085Z"
   },
   {
    "duration": 21,
    "start_time": "2022-04-20T10:16:07.102Z"
   },
   {
    "duration": 31,
    "start_time": "2022-04-20T10:16:07.124Z"
   },
   {
    "duration": 8,
    "start_time": "2022-04-20T10:16:07.157Z"
   },
   {
    "duration": 14,
    "start_time": "2022-04-20T10:16:07.167Z"
   },
   {
    "duration": 21,
    "start_time": "2022-04-20T10:16:07.183Z"
   },
   {
    "duration": 18,
    "start_time": "2022-04-20T10:16:07.207Z"
   },
   {
    "duration": 28,
    "start_time": "2022-04-20T10:16:07.228Z"
   },
   {
    "duration": 33,
    "start_time": "2022-04-20T10:16:07.259Z"
   },
   {
    "duration": 554,
    "start_time": "2022-04-20T10:16:07.295Z"
   },
   {
    "duration": 6,
    "start_time": "2022-04-20T10:16:07.855Z"
   },
   {
    "duration": 14,
    "start_time": "2022-04-20T10:16:07.863Z"
   },
   {
    "duration": 174,
    "start_time": "2022-04-20T10:16:07.879Z"
   },
   {
    "duration": 8,
    "start_time": "2022-04-20T10:16:08.055Z"
   },
   {
    "duration": 136,
    "start_time": "2022-04-20T10:16:08.066Z"
   },
   {
    "duration": 19,
    "start_time": "2022-04-20T10:16:08.204Z"
   },
   {
    "duration": 22,
    "start_time": "2022-04-20T10:16:08.224Z"
   },
   {
    "duration": 12,
    "start_time": "2022-04-20T10:16:08.249Z"
   },
   {
    "duration": 20,
    "start_time": "2022-04-20T10:16:08.263Z"
   },
   {
    "duration": 275,
    "start_time": "2022-04-20T10:16:08.288Z"
   },
   {
    "duration": 213,
    "start_time": "2022-04-20T10:16:08.566Z"
   },
   {
    "duration": 7,
    "start_time": "2022-04-20T10:16:08.781Z"
   },
   {
    "duration": 276,
    "start_time": "2022-04-20T10:16:08.790Z"
   },
   {
    "duration": 5,
    "start_time": "2022-04-20T10:16:09.067Z"
   },
   {
    "duration": 15,
    "start_time": "2022-04-20T10:16:09.074Z"
   },
   {
    "duration": 346,
    "start_time": "2022-04-20T10:16:09.091Z"
   },
   {
    "duration": 16,
    "start_time": "2022-04-20T10:16:09.440Z"
   },
   {
    "duration": 321,
    "start_time": "2022-04-20T10:16:09.458Z"
   },
   {
    "duration": 8,
    "start_time": "2022-04-20T10:16:09.781Z"
   },
   {
    "duration": 11,
    "start_time": "2022-04-20T10:16:09.791Z"
   },
   {
    "duration": 182,
    "start_time": "2022-04-20T10:16:09.803Z"
   },
   {
    "duration": 178,
    "start_time": "2022-04-20T10:16:09.987Z"
   },
   {
    "duration": 5,
    "start_time": "2022-04-20T10:16:10.167Z"
   },
   {
    "duration": 179,
    "start_time": "2022-04-20T10:16:10.175Z"
   },
   {
    "duration": 538,
    "start_time": "2022-04-20T10:16:10.357Z"
   },
   {
    "duration": 61,
    "start_time": "2022-04-20T10:16:10.897Z"
   },
   {
    "duration": 44,
    "start_time": "2022-04-20T10:16:10.960Z"
   },
   {
    "duration": 190,
    "start_time": "2022-04-20T10:16:11.006Z"
   },
   {
    "duration": 83,
    "start_time": "2022-04-20T10:16:11.197Z"
   },
   {
    "duration": 216,
    "start_time": "2022-04-20T10:16:11.282Z"
   },
   {
    "duration": 20,
    "start_time": "2022-04-20T10:16:11.555Z"
   },
   {
    "duration": 29,
    "start_time": "2022-04-20T10:16:11.577Z"
   },
   {
    "duration": 561,
    "start_time": "2022-04-20T10:16:11.608Z"
   },
   {
    "duration": 9,
    "start_time": "2022-04-20T10:16:12.172Z"
   },
   {
    "duration": 96,
    "start_time": "2022-04-20T10:16:12.184Z"
   },
   {
    "duration": 11,
    "start_time": "2022-04-20T10:16:12.282Z"
   },
   {
    "duration": 65,
    "start_time": "2022-04-20T10:16:12.295Z"
   },
   {
    "duration": 42,
    "start_time": "2022-04-20T10:16:12.362Z"
   },
   {
    "duration": 25,
    "start_time": "2022-04-20T10:16:12.407Z"
   },
   {
    "duration": 43,
    "start_time": "2022-04-20T10:16:12.435Z"
   },
   {
    "duration": 17,
    "start_time": "2022-04-20T10:16:12.480Z"
   }
  ],
  "kernelspec": {
   "display_name": "Python 3",
   "language": "python",
   "name": "python3"
  },
  "language_info": {
   "codemirror_mode": {
    "name": "ipython",
    "version": 3
   },
   "file_extension": ".py",
   "mimetype": "text/x-python",
   "name": "python",
   "nbconvert_exporter": "python",
   "pygments_lexer": "ipython3",
   "version": "3.8.8"
  },
  "toc": {
   "base_numbering": 1,
   "nav_menu": {},
   "number_sections": true,
   "sideBar": true,
   "skip_h1_title": true,
   "title_cell": "Содержание:",
   "title_sidebar": "Contents",
   "toc_cell": true,
   "toc_position": {
    "height": "calc(100% - 180px)",
    "left": "10px",
    "top": "150px",
    "width": "164.988px"
   },
   "toc_section_display": true,
   "toc_window_display": true
  }
 },
 "nbformat": 4,
 "nbformat_minor": 5
}
