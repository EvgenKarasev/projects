{
 "cells": [
  {
   "cell_type": "markdown",
   "metadata": {},
   "source": [
    "# Исследование надёжности заёмщиков\n",
    "\n",
    "Заказчик — кредитный отдел банка. Нужно разобраться, влияет ли семейное положение и количество детей клиента на факт погашения кредита в срок. Входные данные от банка — статистика о платёжеспособности клиентов.\n",
    "\n",
    "Результаты исследования будут учтены при построении модели **кредитного скоринга** — специальной системы, которая оценивает способность потенциального заёмщика вернуть кредит банку."
   ]
  },
  {
   "cell_type": "markdown",
   "metadata": {},
   "source": [
    "## Шаг 1. Открытие файла с данными и изучение общей информации"
   ]
  },
  {
   "cell_type": "code",
   "execution_count": 1,
   "metadata": {},
   "outputs": [
    {
     "name": "stdout",
     "output_type": "stream",
     "text": [
      "<class 'pandas.core.frame.DataFrame'>\n",
      "RangeIndex: 21525 entries, 0 to 21524\n",
      "Data columns (total 12 columns):\n",
      " #   Column            Non-Null Count  Dtype  \n",
      "---  ------            --------------  -----  \n",
      " 0   children          21525 non-null  int64  \n",
      " 1   days_employed     19351 non-null  float64\n",
      " 2   dob_years         21525 non-null  int64  \n",
      " 3   education         21525 non-null  object \n",
      " 4   education_id      21525 non-null  int64  \n",
      " 5   family_status     21525 non-null  object \n",
      " 6   family_status_id  21525 non-null  int64  \n",
      " 7   gender            21525 non-null  object \n",
      " 8   income_type       21525 non-null  object \n",
      " 9   debt              21525 non-null  int64  \n",
      " 10  total_income      19351 non-null  float64\n",
      " 11  purpose           21525 non-null  object \n",
      "dtypes: float64(2), int64(5), object(5)\n",
      "memory usage: 2.0+ MB\n"
     ]
    }
   ],
   "source": [
    "import pandas as pd\n",
    "from pymystem3 import Mystem\n",
    "from collections import Counter\n",
    "\n",
    "\n",
    "df = pd.read_csv('/datasets/data.csv') #открываем файл csv и сохраняем в датасет data\n",
    "\n",
    "df.info() #выводим общую информацию и изучаем данные"
   ]
  },
  {
   "cell_type": "markdown",
   "metadata": {},
   "source": [
    "**Вывод**"
   ]
  },
  {
   "cell_type": "markdown",
   "metadata": {},
   "source": [
    "В предоставленном файле, мы видем, что кол-во строк в файле 21525. Однако не все столбцы заполнены в полном объеме(в колонках *days_employed* и *total_income* заполнено только 19351 строк), судя по всему есть пропущенные/незаполненые значения. \n",
    "\n",
    "Названия столбцов написаны согласно правилам Pep8."
   ]
  },
  {
   "cell_type": "markdown",
   "metadata": {},
   "source": [
    "Окрытие первых 5 строк данных, сразу показывает нам, что не все данные в столбцах записаны в единном стиле (например, в столбце *education* данные записаны, полностью малыми, так и полностью большими буквами, а также с большой буквы), так и на первый взгляд с ошибочными данными (например, в столбце *days_employed* в строке 4 данные сильно отклоняются от других 340266.072047, что это? 932 года человек работал при возрасте 53 года?).\n",
    "\n",
    "Непонятны записи в колонке *days_employed*, почему данные записаны в формате float (с плавающей точкой), если данные должны выражаться в днях, а в данных, есть цифры после запятой. Так же мы видим, что основные данные в данной колонке со знаком минус, что также не есть хорошо. Однако, вполне вероятно, что эти данные нам вовсе и не понадобятся для анализа.\n",
    "\n",
    "Есть вопросы к сотрудникам, кто подготовил эти данные. Однако в данный момент у нас нет возможности задать их. Следовательно, будем работать с теми данными, что есть, по ходу определим, что и какие данные нам нужны для достижения цели, поставленной задачи."
   ]
  },
  {
   "cell_type": "markdown",
   "metadata": {},
   "source": [
    "Исходя из задания, нам нужно разобраться, влияет ли семейное положение и количество детей клиента на факт погашения кредита в срок. \n",
    "\n",
    "Если действовать строго по задаче и условиям, то нам нужно проанализировать строго только влияние семейного положения и кол-ва детей. Однако стоит отметить, что другие данные, такие как пол человека, образование, тип занятости и уровень дохода, также напрямую могут повлиять на итоги по критериям семейное положение и количества детей. "
   ]
  },
  {
   "cell_type": "markdown",
   "metadata": {},
   "source": [
    "## Шаг 2. Предобработка данных"
   ]
  },
  {
   "cell_type": "markdown",
   "metadata": {},
   "source": [
    "В данном блоке мы проведем предобработку представленных нам данных.\n",
    "\n",
    "Стоит отметить, что не только то, что мы указали в предыдущем шаге вызывает сомнения.\n",
    "    \n",
    "Сомнительно, что данные в колонке *total_income*, а именно после запятой, слишком много цифр.\n",
    "\n",
    "Будем исправлять и корректировать по ходу предобработки данных."
   ]
  },
  {
   "cell_type": "markdown",
   "metadata": {},
   "source": [
    "### Обработка пропусков"
   ]
  },
  {
   "cell_type": "markdown",
   "metadata": {},
   "source": [
    "Выясним в каких столбцах у нас есть пропущенные значения."
   ]
  },
  {
   "cell_type": "code",
   "execution_count": 2,
   "metadata": {},
   "outputs": [
    {
     "data": {
      "text/plain": [
       "children               0\n",
       "days_employed       2174\n",
       "dob_years              0\n",
       "education              0\n",
       "education_id           0\n",
       "family_status          0\n",
       "family_status_id       0\n",
       "gender                 0\n",
       "income_type            0\n",
       "debt                   0\n",
       "total_income        2174\n",
       "purpose                0\n",
       "dtype: int64"
      ]
     },
     "execution_count": 2,
     "metadata": {},
     "output_type": "execute_result"
    }
   ],
   "source": [
    "df.isna().sum() #с помощью метода isna() определим, где у нас есть пропущенные значения"
   ]
  },
  {
   "cell_type": "markdown",
   "metadata": {},
   "source": [
    "Пропуски обнаружены в одном столбце *total_income* кол-во пропусков 2174. Это существенное кол-во и удалять строки будет неправильно, т.к. они могут значительно повлиять на результаты. Поэтому их нужно заполнить. Данный столбец относится к количественным данным."
   ]
  },
  {
   "cell_type": "code",
   "execution_count": 3,
   "metadata": {
    "scrolled": false
   },
   "outputs": [
    {
     "data": {
      "text/html": [
       "<div>\n",
       "<style scoped>\n",
       "    .dataframe tbody tr th:only-of-type {\n",
       "        vertical-align: middle;\n",
       "    }\n",
       "\n",
       "    .dataframe tbody tr th {\n",
       "        vertical-align: top;\n",
       "    }\n",
       "\n",
       "    .dataframe thead th {\n",
       "        text-align: right;\n",
       "    }\n",
       "</style>\n",
       "<table border=\"1\" class=\"dataframe\">\n",
       "  <thead>\n",
       "    <tr style=\"text-align: right;\">\n",
       "      <th></th>\n",
       "      <th>children</th>\n",
       "      <th>days_employed</th>\n",
       "      <th>dob_years</th>\n",
       "      <th>education</th>\n",
       "      <th>education_id</th>\n",
       "      <th>family_status</th>\n",
       "      <th>family_status_id</th>\n",
       "      <th>gender</th>\n",
       "      <th>income_type</th>\n",
       "      <th>debt</th>\n",
       "      <th>total_income</th>\n",
       "      <th>purpose</th>\n",
       "    </tr>\n",
       "  </thead>\n",
       "  <tbody>\n",
       "    <tr>\n",
       "      <th>21489</th>\n",
       "      <td>2</td>\n",
       "      <td>NaN</td>\n",
       "      <td>47</td>\n",
       "      <td>Среднее</td>\n",
       "      <td>1</td>\n",
       "      <td>женат / замужем</td>\n",
       "      <td>0</td>\n",
       "      <td>M</td>\n",
       "      <td>компаньон</td>\n",
       "      <td>0</td>\n",
       "      <td>NaN</td>\n",
       "      <td>сделка с автомобилем</td>\n",
       "    </tr>\n",
       "    <tr>\n",
       "      <th>21495</th>\n",
       "      <td>1</td>\n",
       "      <td>NaN</td>\n",
       "      <td>50</td>\n",
       "      <td>среднее</td>\n",
       "      <td>1</td>\n",
       "      <td>гражданский брак</td>\n",
       "      <td>1</td>\n",
       "      <td>F</td>\n",
       "      <td>сотрудник</td>\n",
       "      <td>0</td>\n",
       "      <td>NaN</td>\n",
       "      <td>свадьба</td>\n",
       "    </tr>\n",
       "    <tr>\n",
       "      <th>21497</th>\n",
       "      <td>0</td>\n",
       "      <td>NaN</td>\n",
       "      <td>48</td>\n",
       "      <td>ВЫСШЕЕ</td>\n",
       "      <td>0</td>\n",
       "      <td>женат / замужем</td>\n",
       "      <td>0</td>\n",
       "      <td>F</td>\n",
       "      <td>компаньон</td>\n",
       "      <td>0</td>\n",
       "      <td>NaN</td>\n",
       "      <td>строительство недвижимости</td>\n",
       "    </tr>\n",
       "    <tr>\n",
       "      <th>21502</th>\n",
       "      <td>1</td>\n",
       "      <td>NaN</td>\n",
       "      <td>42</td>\n",
       "      <td>среднее</td>\n",
       "      <td>1</td>\n",
       "      <td>женат / замужем</td>\n",
       "      <td>0</td>\n",
       "      <td>F</td>\n",
       "      <td>сотрудник</td>\n",
       "      <td>0</td>\n",
       "      <td>NaN</td>\n",
       "      <td>строительство жилой недвижимости</td>\n",
       "    </tr>\n",
       "    <tr>\n",
       "      <th>21510</th>\n",
       "      <td>2</td>\n",
       "      <td>NaN</td>\n",
       "      <td>28</td>\n",
       "      <td>среднее</td>\n",
       "      <td>1</td>\n",
       "      <td>женат / замужем</td>\n",
       "      <td>0</td>\n",
       "      <td>F</td>\n",
       "      <td>сотрудник</td>\n",
       "      <td>0</td>\n",
       "      <td>NaN</td>\n",
       "      <td>приобретение автомобиля</td>\n",
       "    </tr>\n",
       "  </tbody>\n",
       "</table>\n",
       "</div>"
      ],
      "text/plain": [
       "       children  days_employed  dob_years education  education_id  \\\n",
       "21489         2            NaN         47   Среднее             1   \n",
       "21495         1            NaN         50   среднее             1   \n",
       "21497         0            NaN         48    ВЫСШЕЕ             0   \n",
       "21502         1            NaN         42   среднее             1   \n",
       "21510         2            NaN         28   среднее             1   \n",
       "\n",
       "          family_status  family_status_id gender income_type  debt  \\\n",
       "21489   женат / замужем                 0      M   компаньон     0   \n",
       "21495  гражданский брак                 1      F   сотрудник     0   \n",
       "21497   женат / замужем                 0      F   компаньон     0   \n",
       "21502   женат / замужем                 0      F   сотрудник     0   \n",
       "21510   женат / замужем                 0      F   сотрудник     0   \n",
       "\n",
       "       total_income                           purpose  \n",
       "21489           NaN              сделка с автомобилем  \n",
       "21495           NaN                           свадьба  \n",
       "21497           NaN        строительство недвижимости  \n",
       "21502           NaN  строительство жилой недвижимости  \n",
       "21510           NaN           приобретение автомобиля  "
      ]
     },
     "execution_count": 3,
     "metadata": {},
     "output_type": "execute_result"
    }
   ],
   "source": [
    "#определим какими данными заполнены пропуски в столбце *total_income*, \n",
    "#путем сортировки по этому столбцу и выводу последних 5 строк\n",
    "df.sort_values(by='total_income').tail() "
   ]
  },
  {
   "cell_type": "markdown",
   "metadata": {},
   "source": [
    "Видим, что данные пропуски заполнены значениями NaN. Не видно особых категорийных привязок к данным пропускам, поэтому вполне вероятно, что это могло произойти из-за сбоев при выгрузки, либо неверного заполнения данных. В связи с этим нужно уведомить коллег об этом."
   ]
  },
  {
   "cell_type": "markdown",
   "metadata": {},
   "source": [
    "Заполнять пустые значения будем медианными значениями с использованием группировки по типу занятости. Т.к. не правильно будет выставлять средние по всем данным (т.к. разброс может быть в группах велик) и также не правильно будет указать 0 (т.к. это может значительно исказить значения в итоговых группировках). "
   ]
  },
  {
   "cell_type": "markdown",
   "metadata": {},
   "source": [
    "Для этого выведим уникальные значения типа занятости и расчитаем, медианные значение доходов по этим группам. Если они будут значительно отличаться, значит наша гипотеза будет верной, и этими значениями мы заполним пропуски."
   ]
  },
  {
   "cell_type": "code",
   "execution_count": 4,
   "metadata": {},
   "outputs": [],
   "source": [
    "#определим все уникальные значения данных типа занятости \n",
    "#и сохраним их в list_income_type для дальнейшего использования\n",
    "list_income_type = list(df['income_type'].unique())"
   ]
  },
  {
   "cell_type": "code",
   "execution_count": 5,
   "metadata": {},
   "outputs": [
    {
     "name": "stdout",
     "output_type": "stream",
     "text": [
      "Медианное значение по группе \"сотрудник\" - 142594\n",
      "Медианное значение по группе \"пенсионер\" - 118514\n",
      "Медианное значение по группе \"компаньон\" - 172358\n",
      "Медианное значение по группе \"госслужащий\" - 150448\n",
      "Медианное значение по группе \"безработный\" - 131340\n",
      "Медианное значение по группе \"предприниматель\" - 499163\n",
      "Медианное значение по группе \"студент\" - 98202\n",
      "Медианное значение по группе \"в декрете\" - 53829\n"
     ]
    }
   ],
   "source": [
    "#проверим действительно ли медианные значения в группах по типу занятости значительно отличаются\n",
    "for i in list_income_type:\n",
    "    print(f'Медианное значение по группе \"{i}\" - {round(df[df[\"income_type\"] == i][\"total_income\"].median())}')"
   ]
  },
  {
   "cell_type": "markdown",
   "metadata": {},
   "source": [
    "Из данных видно, что медианные значения в разных группах значительно отличаются друг от друга. Соответственно, наша гипотеза верна."
   ]
  },
  {
   "cell_type": "markdown",
   "metadata": {},
   "source": [
    "Применим полученные значения к пропускам"
   ]
  },
  {
   "cell_type": "code",
   "execution_count": 6,
   "metadata": {},
   "outputs": [],
   "source": [
    "#путем перебора значений подготовленных групп заменим значения на нужные нам\n",
    "for i in list_income_type:\n",
    "    df.loc[df['income_type'] == i, 'total_income'] = \\\n",
    "    df.loc[df['income_type'] == i, 'total_income'] \\\n",
    "    .fillna(df[df['income_type'] == i]['total_income'].median())"
   ]
  },
  {
   "cell_type": "code",
   "execution_count": 7,
   "metadata": {
    "scrolled": true
   },
   "outputs": [
    {
     "data": {
      "text/html": [
       "<div>\n",
       "<style scoped>\n",
       "    .dataframe tbody tr th:only-of-type {\n",
       "        vertical-align: middle;\n",
       "    }\n",
       "\n",
       "    .dataframe tbody tr th {\n",
       "        vertical-align: top;\n",
       "    }\n",
       "\n",
       "    .dataframe thead th {\n",
       "        text-align: right;\n",
       "    }\n",
       "</style>\n",
       "<table border=\"1\" class=\"dataframe\">\n",
       "  <thead>\n",
       "    <tr style=\"text-align: right;\">\n",
       "      <th></th>\n",
       "      <th>children</th>\n",
       "      <th>days_employed</th>\n",
       "      <th>dob_years</th>\n",
       "      <th>education</th>\n",
       "      <th>education_id</th>\n",
       "      <th>family_status</th>\n",
       "      <th>family_status_id</th>\n",
       "      <th>gender</th>\n",
       "      <th>income_type</th>\n",
       "      <th>debt</th>\n",
       "      <th>total_income</th>\n",
       "      <th>purpose</th>\n",
       "    </tr>\n",
       "  </thead>\n",
       "  <tbody>\n",
       "    <tr>\n",
       "      <th>0</th>\n",
       "      <td>1</td>\n",
       "      <td>-8437.673028</td>\n",
       "      <td>42</td>\n",
       "      <td>высшее</td>\n",
       "      <td>0</td>\n",
       "      <td>женат / замужем</td>\n",
       "      <td>0</td>\n",
       "      <td>F</td>\n",
       "      <td>сотрудник</td>\n",
       "      <td>0</td>\n",
       "      <td>253875.639453</td>\n",
       "      <td>покупка жилья</td>\n",
       "    </tr>\n",
       "    <tr>\n",
       "      <th>1</th>\n",
       "      <td>1</td>\n",
       "      <td>-4024.803754</td>\n",
       "      <td>36</td>\n",
       "      <td>среднее</td>\n",
       "      <td>1</td>\n",
       "      <td>женат / замужем</td>\n",
       "      <td>0</td>\n",
       "      <td>F</td>\n",
       "      <td>сотрудник</td>\n",
       "      <td>0</td>\n",
       "      <td>112080.014102</td>\n",
       "      <td>приобретение автомобиля</td>\n",
       "    </tr>\n",
       "    <tr>\n",
       "      <th>2</th>\n",
       "      <td>0</td>\n",
       "      <td>-5623.422610</td>\n",
       "      <td>33</td>\n",
       "      <td>Среднее</td>\n",
       "      <td>1</td>\n",
       "      <td>женат / замужем</td>\n",
       "      <td>0</td>\n",
       "      <td>M</td>\n",
       "      <td>сотрудник</td>\n",
       "      <td>0</td>\n",
       "      <td>145885.952297</td>\n",
       "      <td>покупка жилья</td>\n",
       "    </tr>\n",
       "    <tr>\n",
       "      <th>3</th>\n",
       "      <td>3</td>\n",
       "      <td>-4124.747207</td>\n",
       "      <td>32</td>\n",
       "      <td>среднее</td>\n",
       "      <td>1</td>\n",
       "      <td>женат / замужем</td>\n",
       "      <td>0</td>\n",
       "      <td>M</td>\n",
       "      <td>сотрудник</td>\n",
       "      <td>0</td>\n",
       "      <td>267628.550329</td>\n",
       "      <td>дополнительное образование</td>\n",
       "    </tr>\n",
       "    <tr>\n",
       "      <th>4</th>\n",
       "      <td>0</td>\n",
       "      <td>340266.072047</td>\n",
       "      <td>53</td>\n",
       "      <td>среднее</td>\n",
       "      <td>1</td>\n",
       "      <td>гражданский брак</td>\n",
       "      <td>1</td>\n",
       "      <td>F</td>\n",
       "      <td>пенсионер</td>\n",
       "      <td>0</td>\n",
       "      <td>158616.077870</td>\n",
       "      <td>сыграть свадьбу</td>\n",
       "    </tr>\n",
       "  </tbody>\n",
       "</table>\n",
       "</div>"
      ],
      "text/plain": [
       "   children  days_employed  dob_years education  education_id  \\\n",
       "0         1   -8437.673028         42    высшее             0   \n",
       "1         1   -4024.803754         36   среднее             1   \n",
       "2         0   -5623.422610         33   Среднее             1   \n",
       "3         3   -4124.747207         32   среднее             1   \n",
       "4         0  340266.072047         53   среднее             1   \n",
       "\n",
       "      family_status  family_status_id gender income_type  debt   total_income  \\\n",
       "0   женат / замужем                 0      F   сотрудник     0  253875.639453   \n",
       "1   женат / замужем                 0      F   сотрудник     0  112080.014102   \n",
       "2   женат / замужем                 0      M   сотрудник     0  145885.952297   \n",
       "3   женат / замужем                 0      M   сотрудник     0  267628.550329   \n",
       "4  гражданский брак                 1      F   пенсионер     0  158616.077870   \n",
       "\n",
       "                      purpose  \n",
       "0               покупка жилья  \n",
       "1     приобретение автомобиля  \n",
       "2               покупка жилья  \n",
       "3  дополнительное образование  \n",
       "4             сыграть свадьбу  "
      ]
     },
     "execution_count": 7,
     "metadata": {},
     "output_type": "execute_result"
    }
   ],
   "source": [
    "df.head()"
   ]
  },
  {
   "cell_type": "code",
   "execution_count": 8,
   "metadata": {},
   "outputs": [],
   "source": [
    "df['days_employed'] = df['days_employed'].abs()"
   ]
  },
  {
   "cell_type": "markdown",
   "metadata": {},
   "source": [
    "Будем считать, что человек в среднем работает с 20 лет. Кто-то раньше начинает, кто-то позже.\n",
    "Исходя из этого, вычислим рабочие дни так: возьмем возраст заемщика, вычтим 20 лет и умножим на кол-во рабочих дней в году (248 дней)."
   ]
  },
  {
   "cell_type": "code",
   "execution_count": 9,
   "metadata": {},
   "outputs": [],
   "source": [
    "df.loc[df['days_employed'].isna(), 'days_employed'] = (df.loc[df['days_employed'].isna(), 'dob_years'] - 20) * 248"
   ]
  },
  {
   "cell_type": "code",
   "execution_count": 10,
   "metadata": {
    "scrolled": true
   },
   "outputs": [
    {
     "data": {
      "text/plain": [
       "children            0\n",
       "days_employed       0\n",
       "dob_years           0\n",
       "education           0\n",
       "education_id        0\n",
       "family_status       0\n",
       "family_status_id    0\n",
       "gender              0\n",
       "income_type         0\n",
       "debt                0\n",
       "total_income        0\n",
       "purpose             0\n",
       "dtype: int64"
      ]
     },
     "execution_count": 10,
     "metadata": {},
     "output_type": "execute_result"
    }
   ],
   "source": [
    "#Проверим на наличие пустот после заполнения значениями\n",
    "df.isna().sum()"
   ]
  },
  {
   "cell_type": "markdown",
   "metadata": {},
   "source": [
    "Все прошло успешно. Пустых значений в нашем рабочем dataframe более нет."
   ]
  },
  {
   "cell_type": "markdown",
   "metadata": {},
   "source": [
    "**Вывод**"
   ]
  },
  {
   "cell_type": "markdown",
   "metadata": {},
   "source": [
    "Наша гипотеза подтвердилась, о том, что нам необходимо заменить пустые значения медианными значениями по группам. Мы успешно заполнили все пустоты."
   ]
  },
  {
   "cell_type": "markdown",
   "metadata": {},
   "source": [
    "### Замена типа данных"
   ]
  },
  {
   "cell_type": "markdown",
   "metadata": {},
   "source": [
    "В исследуемой таблице, в столбце *total_income* (доход в месяц) значения указана в float формате, значений после точки слишком много, они как не могу повлиять на наши расчеты. Поэтому приведем значение к формату int. Это создаст еще и положительные эффекты, в виде простоты оперирования данными, а также более низкой нагрузки на сервер."
   ]
  },
  {
   "cell_type": "markdown",
   "metadata": {},
   "source": [
    "Для изменения типа данных, применим метод astype()"
   ]
  },
  {
   "cell_type": "code",
   "execution_count": 11,
   "metadata": {
    "scrolled": true
   },
   "outputs": [],
   "source": [
    "#методом astype() заменим значения колонки total_income на тип int\n",
    "df['total_income'] = df['total_income'].astype('int') \n",
    "#методом astype() заменим значения колонки days_employed на тип int\n",
    "df['days_employed'] = df['days_employed'].astype('int') "
   ]
  },
  {
   "cell_type": "code",
   "execution_count": 12,
   "metadata": {
    "scrolled": false
   },
   "outputs": [
    {
     "data": {
      "text/html": [
       "<div>\n",
       "<style scoped>\n",
       "    .dataframe tbody tr th:only-of-type {\n",
       "        vertical-align: middle;\n",
       "    }\n",
       "\n",
       "    .dataframe tbody tr th {\n",
       "        vertical-align: top;\n",
       "    }\n",
       "\n",
       "    .dataframe thead th {\n",
       "        text-align: right;\n",
       "    }\n",
       "</style>\n",
       "<table border=\"1\" class=\"dataframe\">\n",
       "  <thead>\n",
       "    <tr style=\"text-align: right;\">\n",
       "      <th></th>\n",
       "      <th>children</th>\n",
       "      <th>days_employed</th>\n",
       "      <th>dob_years</th>\n",
       "      <th>education</th>\n",
       "      <th>education_id</th>\n",
       "      <th>family_status</th>\n",
       "      <th>family_status_id</th>\n",
       "      <th>gender</th>\n",
       "      <th>income_type</th>\n",
       "      <th>debt</th>\n",
       "      <th>total_income</th>\n",
       "      <th>purpose</th>\n",
       "    </tr>\n",
       "  </thead>\n",
       "  <tbody>\n",
       "    <tr>\n",
       "      <th>0</th>\n",
       "      <td>1</td>\n",
       "      <td>8437</td>\n",
       "      <td>42</td>\n",
       "      <td>высшее</td>\n",
       "      <td>0</td>\n",
       "      <td>женат / замужем</td>\n",
       "      <td>0</td>\n",
       "      <td>F</td>\n",
       "      <td>сотрудник</td>\n",
       "      <td>0</td>\n",
       "      <td>253875</td>\n",
       "      <td>покупка жилья</td>\n",
       "    </tr>\n",
       "    <tr>\n",
       "      <th>1</th>\n",
       "      <td>1</td>\n",
       "      <td>4024</td>\n",
       "      <td>36</td>\n",
       "      <td>среднее</td>\n",
       "      <td>1</td>\n",
       "      <td>женат / замужем</td>\n",
       "      <td>0</td>\n",
       "      <td>F</td>\n",
       "      <td>сотрудник</td>\n",
       "      <td>0</td>\n",
       "      <td>112080</td>\n",
       "      <td>приобретение автомобиля</td>\n",
       "    </tr>\n",
       "    <tr>\n",
       "      <th>2</th>\n",
       "      <td>0</td>\n",
       "      <td>5623</td>\n",
       "      <td>33</td>\n",
       "      <td>Среднее</td>\n",
       "      <td>1</td>\n",
       "      <td>женат / замужем</td>\n",
       "      <td>0</td>\n",
       "      <td>M</td>\n",
       "      <td>сотрудник</td>\n",
       "      <td>0</td>\n",
       "      <td>145885</td>\n",
       "      <td>покупка жилья</td>\n",
       "    </tr>\n",
       "    <tr>\n",
       "      <th>3</th>\n",
       "      <td>3</td>\n",
       "      <td>4124</td>\n",
       "      <td>32</td>\n",
       "      <td>среднее</td>\n",
       "      <td>1</td>\n",
       "      <td>женат / замужем</td>\n",
       "      <td>0</td>\n",
       "      <td>M</td>\n",
       "      <td>сотрудник</td>\n",
       "      <td>0</td>\n",
       "      <td>267628</td>\n",
       "      <td>дополнительное образование</td>\n",
       "    </tr>\n",
       "    <tr>\n",
       "      <th>4</th>\n",
       "      <td>0</td>\n",
       "      <td>340266</td>\n",
       "      <td>53</td>\n",
       "      <td>среднее</td>\n",
       "      <td>1</td>\n",
       "      <td>гражданский брак</td>\n",
       "      <td>1</td>\n",
       "      <td>F</td>\n",
       "      <td>пенсионер</td>\n",
       "      <td>0</td>\n",
       "      <td>158616</td>\n",
       "      <td>сыграть свадьбу</td>\n",
       "    </tr>\n",
       "  </tbody>\n",
       "</table>\n",
       "</div>"
      ],
      "text/plain": [
       "   children  days_employed  dob_years education  education_id  \\\n",
       "0         1           8437         42    высшее             0   \n",
       "1         1           4024         36   среднее             1   \n",
       "2         0           5623         33   Среднее             1   \n",
       "3         3           4124         32   среднее             1   \n",
       "4         0         340266         53   среднее             1   \n",
       "\n",
       "      family_status  family_status_id gender income_type  debt  total_income  \\\n",
       "0   женат / замужем                 0      F   сотрудник     0        253875   \n",
       "1   женат / замужем                 0      F   сотрудник     0        112080   \n",
       "2   женат / замужем                 0      M   сотрудник     0        145885   \n",
       "3   женат / замужем                 0      M   сотрудник     0        267628   \n",
       "4  гражданский брак                 1      F   пенсионер     0        158616   \n",
       "\n",
       "                      purpose  \n",
       "0               покупка жилья  \n",
       "1     приобретение автомобиля  \n",
       "2               покупка жилья  \n",
       "3  дополнительное образование  \n",
       "4             сыграть свадьбу  "
      ]
     },
     "execution_count": 12,
     "metadata": {},
     "output_type": "execute_result"
    }
   ],
   "source": [
    "df.head() #выведим первые 5 строк для проверки применения измениния типа"
   ]
  },
  {
   "cell_type": "code",
   "execution_count": 13,
   "metadata": {
    "scrolled": true
   },
   "outputs": [
    {
     "name": "stdout",
     "output_type": "stream",
     "text": [
      "<class 'pandas.core.frame.DataFrame'>\n",
      "RangeIndex: 21525 entries, 0 to 21524\n",
      "Data columns (total 12 columns):\n",
      " #   Column            Non-Null Count  Dtype \n",
      "---  ------            --------------  ----- \n",
      " 0   children          21525 non-null  int64 \n",
      " 1   days_employed     21525 non-null  int64 \n",
      " 2   dob_years         21525 non-null  int64 \n",
      " 3   education         21525 non-null  object\n",
      " 4   education_id      21525 non-null  int64 \n",
      " 5   family_status     21525 non-null  object\n",
      " 6   family_status_id  21525 non-null  int64 \n",
      " 7   gender            21525 non-null  object\n",
      " 8   income_type       21525 non-null  object\n",
      " 9   debt              21525 non-null  int64 \n",
      " 10  total_income      21525 non-null  int64 \n",
      " 11  purpose           21525 non-null  object\n",
      "dtypes: int64(7), object(5)\n",
      "memory usage: 2.0+ MB\n"
     ]
    }
   ],
   "source": [
    "df.info() #проверим, действительно ли значения обновились на типовом уровне"
   ]
  },
  {
   "cell_type": "markdown",
   "metadata": {},
   "source": [
    "**Вывод**"
   ]
  },
  {
   "cell_type": "markdown",
   "metadata": {},
   "source": [
    "Мы провели успешную замену значений в столбце *total_income* (доход в месяц) с типа float на тип данных int."
   ]
  },
  {
   "cell_type": "markdown",
   "metadata": {},
   "source": [
    "### Обработка дубликатов"
   ]
  },
  {
   "cell_type": "markdown",
   "metadata": {},
   "source": [
    "Изначально мы должны проверить если в нашем dataframe дубликаты. Это мы можем сделать с помощью метода duplicated()"
   ]
  },
  {
   "cell_type": "code",
   "execution_count": 14,
   "metadata": {},
   "outputs": [
    {
     "data": {
      "text/plain": [
       "54"
      ]
     },
     "execution_count": 14,
     "metadata": {},
     "output_type": "execute_result"
    }
   ],
   "source": [
    "df.duplicated().sum() #проверим наличие дубликатов в dataframe"
   ]
  },
  {
   "cell_type": "markdown",
   "metadata": {},
   "source": [
    "После проверки дубликатов стало 671. \n",
    "\n",
    "Так как ряд заполненной информации в столбцах записана не согласно инструкциям (а мы это уже видели при первичном изучении данных), ошибочно, приведем значения тех столбцов, где размещена текстовая информация к единому регистру."
   ]
  },
  {
   "cell_type": "markdown",
   "metadata": {},
   "source": [
    "Создадим list из столбцов со строковыми данными, чтобы перебрать его и перевести весь текст к нижнему регистру. Это позволит нам выявить дополнительные дубликаты с учетом ошибочного(не по инструкции) написания/заполнения текстовой информации и перезаписать значения."
   ]
  },
  {
   "cell_type": "code",
   "execution_count": 15,
   "metadata": {},
   "outputs": [],
   "source": [
    "#сформировали список столбцов\n",
    "list_columns = ['gender', 'family_status', 'income_type', 'education', 'purpose']\n",
    "\n",
    "#проходим по каждому столбцу из списка и приводим его текст к нижнему регистру\n",
    "for column in list_columns:\n",
    "    df[column] = df[column].str.lower()"
   ]
  },
  {
   "cell_type": "markdown",
   "metadata": {},
   "source": [
    "Проверим сколько стало дубликатов после приведения в порядок данных."
   ]
  },
  {
   "cell_type": "code",
   "execution_count": 16,
   "metadata": {},
   "outputs": [
    {
     "data": {
      "text/plain": [
       "71"
      ]
     },
     "execution_count": 16,
     "metadata": {},
     "output_type": "execute_result"
    }
   ],
   "source": [
    "df.duplicated().sum() #проверим дубликаты после приведения к нижнему регистру"
   ]
  },
  {
   "cell_type": "markdown",
   "metadata": {},
   "source": [
    "Видим, что действительно после приведения к нижнему регистру, кол-во дублей увеличилось почти на 100 шт."
   ]
  },
  {
   "cell_type": "markdown",
   "metadata": {},
   "source": [
    "Далее, удалим все дубликаты с помощью метода drop_duplicates()."
   ]
  },
  {
   "cell_type": "code",
   "execution_count": 17,
   "metadata": {},
   "outputs": [],
   "source": [
    "df = df.drop_duplicates().reset_index(drop=True) #Удаляем с использованием метода drop_duplicates() \n",
    "#и используем метод reset_index(drop=True) для того, чтобы не создавать столбец \n",
    "#со страрыми значениями индексов"
   ]
  },
  {
   "cell_type": "markdown",
   "metadata": {},
   "source": [
    "Проведем проверку после удаления дубликатов."
   ]
  },
  {
   "cell_type": "code",
   "execution_count": 18,
   "metadata": {},
   "outputs": [
    {
     "data": {
      "text/plain": [
       "0"
      ]
     },
     "execution_count": 18,
     "metadata": {},
     "output_type": "execute_result"
    }
   ],
   "source": [
    "df.duplicated().sum() #проверим наличие дубликатов, после применения метода удаления"
   ]
  },
  {
   "cell_type": "code",
   "execution_count": 19,
   "metadata": {},
   "outputs": [
    {
     "name": "stdout",
     "output_type": "stream",
     "text": [
      "<class 'pandas.core.frame.DataFrame'>\n",
      "RangeIndex: 21454 entries, 0 to 21453\n",
      "Data columns (total 12 columns):\n",
      " #   Column            Non-Null Count  Dtype \n",
      "---  ------            --------------  ----- \n",
      " 0   children          21454 non-null  int64 \n",
      " 1   days_employed     21454 non-null  int64 \n",
      " 2   dob_years         21454 non-null  int64 \n",
      " 3   education         21454 non-null  object\n",
      " 4   education_id      21454 non-null  int64 \n",
      " 5   family_status     21454 non-null  object\n",
      " 6   family_status_id  21454 non-null  int64 \n",
      " 7   gender            21454 non-null  object\n",
      " 8   income_type       21454 non-null  object\n",
      " 9   debt              21454 non-null  int64 \n",
      " 10  total_income      21454 non-null  int64 \n",
      " 11  purpose           21454 non-null  object\n",
      "dtypes: int64(7), object(5)\n",
      "memory usage: 2.0+ MB\n"
     ]
    }
   ],
   "source": [
    "df.info() #выведим общую информацию по данным"
   ]
  },
  {
   "cell_type": "markdown",
   "metadata": {},
   "source": [
    "Возраст и трудовой стаж, в дальнейшем не будем использовать в текущем варианте исследования, т.к. не видна связь, с тем как это может повлиять на главные критерии - семейное положение, кол-во детей и другие. Все остальные столбцы оставляем.\n",
    "\n",
    "Для осуществления задуманного и для удобства, мы выделим необходимые для нашей работы данные(столбцы) в отдельный dataframe и будем работать уже с ними."
   ]
  },
  {
   "cell_type": "code",
   "execution_count": 20,
   "metadata": {},
   "outputs": [
    {
     "data": {
      "text/html": [
       "<div>\n",
       "<style scoped>\n",
       "    .dataframe tbody tr th:only-of-type {\n",
       "        vertical-align: middle;\n",
       "    }\n",
       "\n",
       "    .dataframe tbody tr th {\n",
       "        vertical-align: top;\n",
       "    }\n",
       "\n",
       "    .dataframe thead th {\n",
       "        text-align: right;\n",
       "    }\n",
       "</style>\n",
       "<table border=\"1\" class=\"dataframe\">\n",
       "  <thead>\n",
       "    <tr style=\"text-align: right;\">\n",
       "      <th></th>\n",
       "      <th>gender</th>\n",
       "      <th>children</th>\n",
       "      <th>family_status</th>\n",
       "      <th>family_status_id</th>\n",
       "      <th>income_type</th>\n",
       "      <th>debt</th>\n",
       "      <th>education</th>\n",
       "      <th>education_id</th>\n",
       "      <th>total_income</th>\n",
       "      <th>purpose</th>\n",
       "    </tr>\n",
       "  </thead>\n",
       "  <tbody>\n",
       "    <tr>\n",
       "      <th>0</th>\n",
       "      <td>f</td>\n",
       "      <td>1</td>\n",
       "      <td>женат / замужем</td>\n",
       "      <td>0</td>\n",
       "      <td>сотрудник</td>\n",
       "      <td>0</td>\n",
       "      <td>высшее</td>\n",
       "      <td>0</td>\n",
       "      <td>253875</td>\n",
       "      <td>покупка жилья</td>\n",
       "    </tr>\n",
       "    <tr>\n",
       "      <th>1</th>\n",
       "      <td>f</td>\n",
       "      <td>1</td>\n",
       "      <td>женат / замужем</td>\n",
       "      <td>0</td>\n",
       "      <td>сотрудник</td>\n",
       "      <td>0</td>\n",
       "      <td>среднее</td>\n",
       "      <td>1</td>\n",
       "      <td>112080</td>\n",
       "      <td>приобретение автомобиля</td>\n",
       "    </tr>\n",
       "    <tr>\n",
       "      <th>2</th>\n",
       "      <td>m</td>\n",
       "      <td>0</td>\n",
       "      <td>женат / замужем</td>\n",
       "      <td>0</td>\n",
       "      <td>сотрудник</td>\n",
       "      <td>0</td>\n",
       "      <td>среднее</td>\n",
       "      <td>1</td>\n",
       "      <td>145885</td>\n",
       "      <td>покупка жилья</td>\n",
       "    </tr>\n",
       "    <tr>\n",
       "      <th>3</th>\n",
       "      <td>m</td>\n",
       "      <td>3</td>\n",
       "      <td>женат / замужем</td>\n",
       "      <td>0</td>\n",
       "      <td>сотрудник</td>\n",
       "      <td>0</td>\n",
       "      <td>среднее</td>\n",
       "      <td>1</td>\n",
       "      <td>267628</td>\n",
       "      <td>дополнительное образование</td>\n",
       "    </tr>\n",
       "    <tr>\n",
       "      <th>4</th>\n",
       "      <td>f</td>\n",
       "      <td>0</td>\n",
       "      <td>гражданский брак</td>\n",
       "      <td>1</td>\n",
       "      <td>пенсионер</td>\n",
       "      <td>0</td>\n",
       "      <td>среднее</td>\n",
       "      <td>1</td>\n",
       "      <td>158616</td>\n",
       "      <td>сыграть свадьбу</td>\n",
       "    </tr>\n",
       "  </tbody>\n",
       "</table>\n",
       "</div>"
      ],
      "text/plain": [
       "  gender  children     family_status  family_status_id income_type  debt  \\\n",
       "0      f         1   женат / замужем                 0   сотрудник     0   \n",
       "1      f         1   женат / замужем                 0   сотрудник     0   \n",
       "2      m         0   женат / замужем                 0   сотрудник     0   \n",
       "3      m         3   женат / замужем                 0   сотрудник     0   \n",
       "4      f         0  гражданский брак                 1   пенсионер     0   \n",
       "\n",
       "  education  education_id  total_income                     purpose  \n",
       "0    высшее             0        253875               покупка жилья  \n",
       "1   среднее             1        112080     приобретение автомобиля  \n",
       "2   среднее             1        145885               покупка жилья  \n",
       "3   среднее             1        267628  дополнительное образование  \n",
       "4   среднее             1        158616             сыграть свадьбу  "
      ]
     },
     "execution_count": 20,
     "metadata": {},
     "output_type": "execute_result"
    }
   ],
   "source": [
    "#выделяем необходимые нам для работы, данные в отдельный dataframe\n",
    "df = df[['gender', 'children', 'family_status', 'family_status_id', 'income_type', 'debt', 'education', 'education_id', 'total_income', 'purpose']].copy()\n",
    "df.head()#выведим первые 5 строк нового dataframe"
   ]
  },
  {
   "cell_type": "markdown",
   "metadata": {},
   "source": [
    "**Вывод**"
   ]
  },
  {
   "cell_type": "markdown",
   "metadata": {},
   "source": [
    "Все получилось на отлично. Дубликаты мы удалили, текстовые строки привели в порядок."
   ]
  },
  {
   "cell_type": "markdown",
   "metadata": {},
   "source": [
    "### Лемматизация"
   ]
  },
  {
   "cell_type": "markdown",
   "metadata": {},
   "source": [
    "Импортируем модуль Mystem библиотеки pymystem3 Запись внесем наверху в самую первую строку проекта, согласно рекомендациям Pep8"
   ]
  },
  {
   "cell_type": "code",
   "execution_count": 21,
   "metadata": {},
   "outputs": [
    {
     "data": {
      "text/html": [
       "<div>\n",
       "<style scoped>\n",
       "    .dataframe tbody tr th:only-of-type {\n",
       "        vertical-align: middle;\n",
       "    }\n",
       "\n",
       "    .dataframe tbody tr th {\n",
       "        vertical-align: top;\n",
       "    }\n",
       "\n",
       "    .dataframe thead th {\n",
       "        text-align: right;\n",
       "    }\n",
       "</style>\n",
       "<table border=\"1\" class=\"dataframe\">\n",
       "  <thead>\n",
       "    <tr style=\"text-align: right;\">\n",
       "      <th></th>\n",
       "      <th>gender</th>\n",
       "      <th>children</th>\n",
       "      <th>family_status</th>\n",
       "      <th>family_status_id</th>\n",
       "      <th>income_type</th>\n",
       "      <th>debt</th>\n",
       "      <th>education</th>\n",
       "      <th>education_id</th>\n",
       "      <th>total_income</th>\n",
       "      <th>purpose</th>\n",
       "      <th>purpose_lemma</th>\n",
       "    </tr>\n",
       "  </thead>\n",
       "  <tbody>\n",
       "    <tr>\n",
       "      <th>0</th>\n",
       "      <td>f</td>\n",
       "      <td>1</td>\n",
       "      <td>женат / замужем</td>\n",
       "      <td>0</td>\n",
       "      <td>сотрудник</td>\n",
       "      <td>0</td>\n",
       "      <td>высшее</td>\n",
       "      <td>0</td>\n",
       "      <td>253875</td>\n",
       "      <td>покупка жилья</td>\n",
       "      <td>покупка жилье</td>\n",
       "    </tr>\n",
       "    <tr>\n",
       "      <th>1</th>\n",
       "      <td>f</td>\n",
       "      <td>1</td>\n",
       "      <td>женат / замужем</td>\n",
       "      <td>0</td>\n",
       "      <td>сотрудник</td>\n",
       "      <td>0</td>\n",
       "      <td>среднее</td>\n",
       "      <td>1</td>\n",
       "      <td>112080</td>\n",
       "      <td>приобретение автомобиля</td>\n",
       "      <td>приобретение автомобиль</td>\n",
       "    </tr>\n",
       "    <tr>\n",
       "      <th>2</th>\n",
       "      <td>m</td>\n",
       "      <td>0</td>\n",
       "      <td>женат / замужем</td>\n",
       "      <td>0</td>\n",
       "      <td>сотрудник</td>\n",
       "      <td>0</td>\n",
       "      <td>среднее</td>\n",
       "      <td>1</td>\n",
       "      <td>145885</td>\n",
       "      <td>покупка жилья</td>\n",
       "      <td>покупка жилье</td>\n",
       "    </tr>\n",
       "    <tr>\n",
       "      <th>3</th>\n",
       "      <td>m</td>\n",
       "      <td>3</td>\n",
       "      <td>женат / замужем</td>\n",
       "      <td>0</td>\n",
       "      <td>сотрудник</td>\n",
       "      <td>0</td>\n",
       "      <td>среднее</td>\n",
       "      <td>1</td>\n",
       "      <td>267628</td>\n",
       "      <td>дополнительное образование</td>\n",
       "      <td>дополнительный образование</td>\n",
       "    </tr>\n",
       "    <tr>\n",
       "      <th>4</th>\n",
       "      <td>f</td>\n",
       "      <td>0</td>\n",
       "      <td>гражданский брак</td>\n",
       "      <td>1</td>\n",
       "      <td>пенсионер</td>\n",
       "      <td>0</td>\n",
       "      <td>среднее</td>\n",
       "      <td>1</td>\n",
       "      <td>158616</td>\n",
       "      <td>сыграть свадьбу</td>\n",
       "      <td>сыграть свадьба</td>\n",
       "    </tr>\n",
       "  </tbody>\n",
       "</table>\n",
       "</div>"
      ],
      "text/plain": [
       "  gender  children     family_status  family_status_id income_type  debt  \\\n",
       "0      f         1   женат / замужем                 0   сотрудник     0   \n",
       "1      f         1   женат / замужем                 0   сотрудник     0   \n",
       "2      m         0   женат / замужем                 0   сотрудник     0   \n",
       "3      m         3   женат / замужем                 0   сотрудник     0   \n",
       "4      f         0  гражданский брак                 1   пенсионер     0   \n",
       "\n",
       "  education  education_id  total_income                     purpose  \\\n",
       "0    высшее             0        253875               покупка жилья   \n",
       "1   среднее             1        112080     приобретение автомобиля   \n",
       "2   среднее             1        145885               покупка жилья   \n",
       "3   среднее             1        267628  дополнительное образование   \n",
       "4   среднее             1        158616             сыграть свадьбу   \n",
       "\n",
       "                purpose_lemma  \n",
       "0               покупка жилье  \n",
       "1     приобретение автомобиль  \n",
       "2               покупка жилье  \n",
       "3  дополнительный образование  \n",
       "4             сыграть свадьба  "
      ]
     },
     "metadata": {},
     "output_type": "display_data"
    }
   ],
   "source": [
    "m = Mystem() #сохраним функцию Mystem в переменную m\n",
    "\n",
    "def lemma(text): # пишем функцию для лемматизации текста ячейки\n",
    "    text_obr = m.lemmatize(text) # применим метод m.lemmatize к тексту и сохраним в text_obr\n",
    "    return ''.join(text_obr).replace('\\n', '') #\n",
    "\n",
    "df['purpose_lemma'] = df['purpose'].apply(lemma) #применим нашу функцию и запишем в отдельный столбец\n",
    "\n",
    "\n",
    "display(df.head()) #выведим получившийся dataframe"
   ]
  },
  {
   "cell_type": "markdown",
   "metadata": {},
   "source": [
    "**Вывод**"
   ]
  },
  {
   "cell_type": "markdown",
   "metadata": {},
   "source": [
    "Мы успешно провели лемматизацию. Создали отдельный столбец для лемматизированных данных. В дальнейшем мы сможем использовать эти данные для категоризации."
   ]
  },
  {
   "cell_type": "markdown",
   "metadata": {},
   "source": [
    "### Категоризация данных"
   ]
  },
  {
   "cell_type": "markdown",
   "metadata": {},
   "source": [
    "Последовательно выполним категоризацию данных по столбцам"
   ]
  },
  {
   "cell_type": "markdown",
   "metadata": {},
   "source": [
    "#### Категоризация данных по целям кредита"
   ]
  },
  {
   "cell_type": "markdown",
   "metadata": {},
   "source": [
    "Одним из методов для подсчета количества встречаемости значений, можем применить метод Counter. Так и сделаем, импортируем метод Counter из библиотеки collections. Запись внесем в первую строку проекта, согласно рекомендациям Pep8"
   ]
  },
  {
   "cell_type": "markdown",
   "metadata": {},
   "source": [
    "Применим метод Counter к списку значений столбца *purpose_lemma*, для того чтобы понять сколько и каких лемматизированных значений в столце."
   ]
  },
  {
   "cell_type": "code",
   "execution_count": 22,
   "metadata": {},
   "outputs": [
    {
     "name": "stdout",
     "output_type": "stream",
     "text": [
      "Counter({'автомобиль': 972, 'свадьба': 791, 'на проведение свадьба': 768, 'сыграть свадьба': 765, 'операция с недвижимость': 675, 'покупка коммерческий недвижимость': 661, 'операция с жилье': 652, 'покупка жилье для сдача': 651, 'операция с коммерческий недвижимость': 650, 'покупка жилье': 646, 'жилье': 646, 'покупка жилье для семья': 638, 'строительство собственный недвижимость': 635, 'недвижимость': 633, 'операция со свой недвижимость': 627, 'строительство жилой недвижимость': 624, 'покупка недвижимость': 621, 'покупка свой жилье': 620, 'строительство недвижимость': 619, 'ремонт жилье': 607, 'покупка жилой недвижимость': 606, 'на покупка свой автомобиль': 505, 'заниматься высокий образование': 496, 'сделка с подержанный автомобиль': 486, 'на покупка подержать автомобиль': 478, 'свой автомобиль': 478, 'на покупка автомобиль': 471, 'приобретение автомобиль': 461, 'дополнительный образование': 460, 'сделка с автомобиль': 455, 'высокий образование': 452, 'образование': 447, 'получение дополнительный образование': 446, 'получение образование': 442, 'профильный образование': 436, 'получение высокий образование': 426, 'заниматься образование': 408})\n"
     ]
    }
   ],
   "source": [
    "#используем метод Counter() выведим все значения столбца purpose_lemma с кол-во значений\n",
    "print(Counter(df['purpose_lemma']))  "
   ]
  },
  {
   "cell_type": "markdown",
   "metadata": {},
   "source": [
    "Как мы видим, из списка явно выделяются следующие общие составляющие: автомобиль, свадьба, недвижимость/жилье, образование. Каждый из них составляет свою смысловую группу. В связи с этим, мы можем сформировать/объединить в следующие группы/категории:\n",
    "1. На автомобиль\n",
    "2. На свадьбу\n",
    "3. На недвижимость\n",
    "4. На образование\n",
    "\n",
    "Категории получились краткие, и в тоже время понятные."
   ]
  },
  {
   "cell_type": "markdown",
   "metadata": {},
   "source": [
    "Чтобы применить данные категории, для этого напишем функцию по замене текущих данных на новые категории и применим к столбцу *purpose_lemma*."
   ]
  },
  {
   "cell_type": "code",
   "execution_count": 23,
   "metadata": {},
   "outputs": [],
   "source": [
    "#создадим функцию для замены значений в столбце purpose_lemma на созданные нами категории\n",
    "def purpose_group_change(row): \n",
    "    if 'автомобиль' in row['purpose_lemma']: #для этого применим условия\n",
    "        return 'на автомобиль' \n",
    "    elif 'свадьба' in row['purpose_lemma']:\n",
    "        return 'на свадьбу'\n",
    "    elif 'недвижимость' in row['purpose_lemma'] or 'жилье' in row['purpose_lemma']:\n",
    "        return 'на недвижимость'\n",
    "    else:\n",
    "        return 'на образование'"
   ]
  },
  {
   "cell_type": "code",
   "execution_count": 24,
   "metadata": {},
   "outputs": [],
   "source": [
    "#используя метод apply() применим нашу функцию purpose_group_change для столбца purpose_lemma\n",
    "df['purpose_lemma'] = df.apply(purpose_group_change, axis=1) "
   ]
  },
  {
   "cell_type": "code",
   "execution_count": 25,
   "metadata": {
    "scrolled": true
   },
   "outputs": [
    {
     "name": "stdout",
     "output_type": "stream",
     "text": [
      "Counter({'на недвижимость': 10811, 'на автомобиль': 4306, 'на образование': 4013, 'на свадьбу': 2324})\n"
     ]
    }
   ],
   "source": [
    "print(Counter(df['purpose_lemma'])) #выведим для проверки сформированные нами категории"
   ]
  },
  {
   "cell_type": "markdown",
   "metadata": {},
   "source": [
    "Мы успешно категоризировали данные о целях кредита."
   ]
  },
  {
   "cell_type": "markdown",
   "metadata": {},
   "source": [
    "#### Категоризация данных по наличию детей"
   ]
  },
  {
   "cell_type": "markdown",
   "metadata": {},
   "source": [
    "Проработаем столбец с данными наличия детей. Для начала посмотрим, какие обозначения содержит столбец и их количество."
   ]
  },
  {
   "cell_type": "code",
   "execution_count": 26,
   "metadata": {
    "scrolled": true
   },
   "outputs": [
    {
     "data": {
      "text/plain": [
       "children\n",
       "-1        47\n",
       " 0     14091\n",
       " 1      4808\n",
       " 2      2052\n",
       " 3       330\n",
       " 4        41\n",
       " 5         9\n",
       " 20       76\n",
       "Name: children, dtype: int64"
      ]
     },
     "execution_count": 26,
     "metadata": {},
     "output_type": "execute_result"
    }
   ],
   "source": [
    "#выведим уникальные значения по столбцу children с помощью методов groupby() и count()\n",
    "df.groupby('children')['children'].count()"
   ]
  },
  {
   "cell_type": "markdown",
   "metadata": {},
   "source": [
    "Мы видим что в столбце *children* есть не корректно заполненые значения -1 и 20. Можно предположить, что данные записи были введены не правильно при введении значений 1 (значение -1) и 2 (значение 20). Т.к. эти не корректные значения, составляют незначительную часть от предполагаемых групп, и существенно не исказят итоговые значения, скорректируем их и внесем в эти группы."
   ]
  },
  {
   "cell_type": "code",
   "execution_count": 27,
   "metadata": {},
   "outputs": [],
   "source": [
    "df['children'] = df['children'].replace(-1, 1) #заменим с помощью метода replace() -1 на 1\n",
    "df['children'] = df['children'].replace(20, 2) #заменим с помощью метода replace() 20 на 2"
   ]
  },
  {
   "cell_type": "code",
   "execution_count": 28,
   "metadata": {
    "scrolled": true
   },
   "outputs": [
    {
     "data": {
      "text/plain": [
       "count    21454.000000\n",
       "mean         0.480563\n",
       "std          0.756069\n",
       "min          0.000000\n",
       "25%          0.000000\n",
       "50%          0.000000\n",
       "75%          1.000000\n",
       "max          5.000000\n",
       "Name: children, dtype: float64"
      ]
     },
     "execution_count": 28,
     "metadata": {},
     "output_type": "execute_result"
    }
   ],
   "source": [
    "df['children'].describe()"
   ]
  },
  {
   "cell_type": "code",
   "execution_count": 29,
   "metadata": {},
   "outputs": [
    {
     "data": {
      "text/plain": [
       "0    14091\n",
       "1     4855\n",
       "2     2128\n",
       "3      330\n",
       "4       41\n",
       "5        9\n",
       "Name: children, dtype: int64"
      ]
     },
     "execution_count": 29,
     "metadata": {},
     "output_type": "execute_result"
    }
   ],
   "source": [
    "#для проверки, все ли правильно сделали, выведим уникальные значения по столбцу children \n",
    "#с помощью метода value_counts()\n",
    "df['children'].value_counts()"
   ]
  },
  {
   "cell_type": "markdown",
   "metadata": {},
   "source": [
    "В связи с тем, что значения с 1 и 2 детьми каждое само по себе значительно, а также в связи с тем, что это один из основных запросов заказчика на проверку, не будем объединять их в одну группу. \n",
    "\n",
    "Кредиторов с 3 и более детьми относительно не так много, по сравнению с другими, их объединим в одну группу. \n",
    "\n",
    "Создадим следующие категории:\n",
    "* 0 - без детей\n",
    "* 1 - с 1 ребенком\n",
    "* 2 - с 2 детьми\n",
    "* 3 и более - многодетные"
   ]
  },
  {
   "cell_type": "code",
   "execution_count": 30,
   "metadata": {},
   "outputs": [],
   "source": [
    "#создадим функцию для замены значений в столбце purpose_lemma на созданные нами категории\n",
    "def children_group_change(row): \n",
    "    if row['children'] == 0: #для этого применим условия\n",
    "        return 'без детей' \n",
    "    elif row['children'] == 1:\n",
    "        return 'с 1 ребенком'\n",
    "    elif row['children'] == 2:\n",
    "        return 'с 2 детьми'\n",
    "    else:\n",
    "        return 'многодетные'"
   ]
  },
  {
   "cell_type": "code",
   "execution_count": 31,
   "metadata": {},
   "outputs": [],
   "source": [
    "#применим функцию children_group_change по назначению\n",
    "df['children_group'] = df.apply(children_group_change, axis=1)"
   ]
  },
  {
   "cell_type": "markdown",
   "metadata": {},
   "source": [
    "Мы успешно категоризировали данные о наличие детей."
   ]
  },
  {
   "cell_type": "markdown",
   "metadata": {},
   "source": [
    "#### Категоризация данных по наличию долга"
   ]
  },
  {
   "cell_type": "markdown",
   "metadata": {},
   "source": [
    "В условиях задания, нам не были указанны, какие значения колонки *debt* что означают. Что означает значение 1, а что 0? Узнать у заказчиков мы не можем. \n",
    "\n",
    "Следовательно, будем исходить из логики и оптимизма, о том каких результатов будет меньше, это и будет означать **наличие долга**."
   ]
  },
  {
   "cell_type": "code",
   "execution_count": 32,
   "metadata": {},
   "outputs": [
    {
     "data": {
      "text/plain": [
       "0    19713\n",
       "1     1741\n",
       "Name: debt, dtype: int64"
      ]
     },
     "execution_count": 32,
     "metadata": {},
     "output_type": "execute_result"
    }
   ],
   "source": [
    "df['debt'].value_counts() #выведим кол-во значений 0 и 1 с помощью метода value_counts()"
   ]
  },
  {
   "cell_type": "markdown",
   "metadata": {},
   "source": [
    "Мы видим, что значений 0 - 19027, а 1 - 1728. Соответственно, 0 - примем за отсутствие долга, 1 - за наличие долга. Исходя из этого создадим две категории:\n",
    "* 1 - \"с просрочкой\"\n",
    "* 0 - \"без просрочек\"\n",
    "\n",
    "Напишем функцию для создания этих категорий."
   ]
  },
  {
   "cell_type": "code",
   "execution_count": 33,
   "metadata": {},
   "outputs": [],
   "source": [
    "def debt_group_change(row): #создадим функцию для замены значений в столбце purpose_lemma на созданные нами категории\n",
    "    if row['debt'] == 1: #для этого применим условия\n",
    "        return 'с просрочкой' \n",
    "    else:\n",
    "        return 'без просрочек'"
   ]
  },
  {
   "cell_type": "code",
   "execution_count": 34,
   "metadata": {},
   "outputs": [],
   "source": [
    "#применим функцию debt_group_change по назначению\n",
    "df['debt_group'] = df.apply(debt_group_change, axis=1)"
   ]
  },
  {
   "cell_type": "code",
   "execution_count": 35,
   "metadata": {},
   "outputs": [
    {
     "data": {
      "text/html": [
       "<div>\n",
       "<style scoped>\n",
       "    .dataframe tbody tr th:only-of-type {\n",
       "        vertical-align: middle;\n",
       "    }\n",
       "\n",
       "    .dataframe tbody tr th {\n",
       "        vertical-align: top;\n",
       "    }\n",
       "\n",
       "    .dataframe thead th {\n",
       "        text-align: right;\n",
       "    }\n",
       "</style>\n",
       "<table border=\"1\" class=\"dataframe\">\n",
       "  <thead>\n",
       "    <tr style=\"text-align: right;\">\n",
       "      <th></th>\n",
       "      <th>gender</th>\n",
       "      <th>children</th>\n",
       "      <th>family_status</th>\n",
       "      <th>family_status_id</th>\n",
       "      <th>income_type</th>\n",
       "      <th>debt</th>\n",
       "      <th>education</th>\n",
       "      <th>education_id</th>\n",
       "      <th>total_income</th>\n",
       "      <th>purpose</th>\n",
       "      <th>purpose_lemma</th>\n",
       "      <th>children_group</th>\n",
       "      <th>debt_group</th>\n",
       "    </tr>\n",
       "  </thead>\n",
       "  <tbody>\n",
       "    <tr>\n",
       "      <th>0</th>\n",
       "      <td>f</td>\n",
       "      <td>1</td>\n",
       "      <td>женат / замужем</td>\n",
       "      <td>0</td>\n",
       "      <td>сотрудник</td>\n",
       "      <td>0</td>\n",
       "      <td>высшее</td>\n",
       "      <td>0</td>\n",
       "      <td>253875</td>\n",
       "      <td>покупка жилья</td>\n",
       "      <td>на недвижимость</td>\n",
       "      <td>с 1 ребенком</td>\n",
       "      <td>без просрочек</td>\n",
       "    </tr>\n",
       "    <tr>\n",
       "      <th>1</th>\n",
       "      <td>f</td>\n",
       "      <td>1</td>\n",
       "      <td>женат / замужем</td>\n",
       "      <td>0</td>\n",
       "      <td>сотрудник</td>\n",
       "      <td>0</td>\n",
       "      <td>среднее</td>\n",
       "      <td>1</td>\n",
       "      <td>112080</td>\n",
       "      <td>приобретение автомобиля</td>\n",
       "      <td>на автомобиль</td>\n",
       "      <td>с 1 ребенком</td>\n",
       "      <td>без просрочек</td>\n",
       "    </tr>\n",
       "    <tr>\n",
       "      <th>2</th>\n",
       "      <td>m</td>\n",
       "      <td>0</td>\n",
       "      <td>женат / замужем</td>\n",
       "      <td>0</td>\n",
       "      <td>сотрудник</td>\n",
       "      <td>0</td>\n",
       "      <td>среднее</td>\n",
       "      <td>1</td>\n",
       "      <td>145885</td>\n",
       "      <td>покупка жилья</td>\n",
       "      <td>на недвижимость</td>\n",
       "      <td>без детей</td>\n",
       "      <td>без просрочек</td>\n",
       "    </tr>\n",
       "    <tr>\n",
       "      <th>3</th>\n",
       "      <td>m</td>\n",
       "      <td>3</td>\n",
       "      <td>женат / замужем</td>\n",
       "      <td>0</td>\n",
       "      <td>сотрудник</td>\n",
       "      <td>0</td>\n",
       "      <td>среднее</td>\n",
       "      <td>1</td>\n",
       "      <td>267628</td>\n",
       "      <td>дополнительное образование</td>\n",
       "      <td>на образование</td>\n",
       "      <td>многодетные</td>\n",
       "      <td>без просрочек</td>\n",
       "    </tr>\n",
       "    <tr>\n",
       "      <th>4</th>\n",
       "      <td>f</td>\n",
       "      <td>0</td>\n",
       "      <td>гражданский брак</td>\n",
       "      <td>1</td>\n",
       "      <td>пенсионер</td>\n",
       "      <td>0</td>\n",
       "      <td>среднее</td>\n",
       "      <td>1</td>\n",
       "      <td>158616</td>\n",
       "      <td>сыграть свадьбу</td>\n",
       "      <td>на свадьбу</td>\n",
       "      <td>без детей</td>\n",
       "      <td>без просрочек</td>\n",
       "    </tr>\n",
       "  </tbody>\n",
       "</table>\n",
       "</div>"
      ],
      "text/plain": [
       "  gender  children     family_status  family_status_id income_type  debt  \\\n",
       "0      f         1   женат / замужем                 0   сотрудник     0   \n",
       "1      f         1   женат / замужем                 0   сотрудник     0   \n",
       "2      m         0   женат / замужем                 0   сотрудник     0   \n",
       "3      m         3   женат / замужем                 0   сотрудник     0   \n",
       "4      f         0  гражданский брак                 1   пенсионер     0   \n",
       "\n",
       "  education  education_id  total_income                     purpose  \\\n",
       "0    высшее             0        253875               покупка жилья   \n",
       "1   среднее             1        112080     приобретение автомобиля   \n",
       "2   среднее             1        145885               покупка жилья   \n",
       "3   среднее             1        267628  дополнительное образование   \n",
       "4   среднее             1        158616             сыграть свадьбу   \n",
       "\n",
       "     purpose_lemma children_group     debt_group  \n",
       "0  на недвижимость   с 1 ребенком  без просрочек  \n",
       "1    на автомобиль   с 1 ребенком  без просрочек  \n",
       "2  на недвижимость      без детей  без просрочек  \n",
       "3   на образование    многодетные  без просрочек  \n",
       "4       на свадьбу      без детей  без просрочек  "
      ]
     },
     "execution_count": 35,
     "metadata": {},
     "output_type": "execute_result"
    }
   ],
   "source": [
    "df.head()"
   ]
  },
  {
   "cell_type": "markdown",
   "metadata": {},
   "source": [
    "Мы успешно категоризировали данные о наличие долга."
   ]
  },
  {
   "cell_type": "markdown",
   "metadata": {},
   "source": [
    "#### Категоризация данных по уровню дохода"
   ]
  },
  {
   "cell_type": "markdown",
   "metadata": {},
   "source": [
    "Для категоризации колонки с доходами *total_income* будем использовать квантили (0.25, 0.5(медиана), 0.75). На основе этого создадим следующие категории:\n",
    "* до 0.25 - низкие доходы\n",
    "* до 0.5(медианы) - средние доходы\n",
    "* до 0.75 - выше среднего доходы\n",
    "* свыше 0.75 - высокие доходы"
   ]
  },
  {
   "cell_type": "code",
   "execution_count": 36,
   "metadata": {},
   "outputs": [],
   "source": [
    "# #создадим функцию для замены значений в столбце purpose_lemma на созданные нами категории\n",
    "# def total_income_group_change(row): \n",
    "#     if row['total_income'] <= df['total_income'].quantile(0.25): #для этого применим условия\n",
    "#         return 'низкие доходы' \n",
    "#     elif row['total_income'] <= df['total_income'].quantile(0.50):\n",
    "#         return 'средние доходы'\n",
    "#     elif row['total_income'] <= df['total_income'].quantile(0.75):\n",
    "#         return 'выше среднего доходы'\n",
    "#     else:\n",
    "#         return 'высокие доходы'"
   ]
  },
  {
   "cell_type": "markdown",
   "metadata": {},
   "source": [
    "Применим к нашему dataframe созданные функции и создадим отдельный столбец"
   ]
  },
  {
   "cell_type": "code",
   "execution_count": 37,
   "metadata": {},
   "outputs": [],
   "source": [
    "#применим функцию total_income_group_change по назначению\n",
    "#df['total_income_group'] = df.apply(total_income_group_change, axis=1)\n",
    "df['total_income_group'] = pd.qcut(df['total_income'], 4, labels = ['низкие доходы', 'средние доходы', 'выше среднего доходы', 'высокие доходы'])"
   ]
  },
  {
   "cell_type": "code",
   "execution_count": 38,
   "metadata": {},
   "outputs": [
    {
     "data": {
      "text/html": [
       "<div>\n",
       "<style scoped>\n",
       "    .dataframe tbody tr th:only-of-type {\n",
       "        vertical-align: middle;\n",
       "    }\n",
       "\n",
       "    .dataframe tbody tr th {\n",
       "        vertical-align: top;\n",
       "    }\n",
       "\n",
       "    .dataframe thead th {\n",
       "        text-align: right;\n",
       "    }\n",
       "</style>\n",
       "<table border=\"1\" class=\"dataframe\">\n",
       "  <thead>\n",
       "    <tr style=\"text-align: right;\">\n",
       "      <th></th>\n",
       "      <th>gender</th>\n",
       "      <th>children</th>\n",
       "      <th>family_status</th>\n",
       "      <th>family_status_id</th>\n",
       "      <th>income_type</th>\n",
       "      <th>debt</th>\n",
       "      <th>education</th>\n",
       "      <th>education_id</th>\n",
       "      <th>total_income</th>\n",
       "      <th>purpose</th>\n",
       "      <th>purpose_lemma</th>\n",
       "      <th>children_group</th>\n",
       "      <th>debt_group</th>\n",
       "      <th>total_income_group</th>\n",
       "    </tr>\n",
       "  </thead>\n",
       "  <tbody>\n",
       "    <tr>\n",
       "      <th>0</th>\n",
       "      <td>f</td>\n",
       "      <td>1</td>\n",
       "      <td>женат / замужем</td>\n",
       "      <td>0</td>\n",
       "      <td>сотрудник</td>\n",
       "      <td>0</td>\n",
       "      <td>высшее</td>\n",
       "      <td>0</td>\n",
       "      <td>253875</td>\n",
       "      <td>покупка жилья</td>\n",
       "      <td>на недвижимость</td>\n",
       "      <td>с 1 ребенком</td>\n",
       "      <td>без просрочек</td>\n",
       "      <td>высокие доходы</td>\n",
       "    </tr>\n",
       "    <tr>\n",
       "      <th>1</th>\n",
       "      <td>f</td>\n",
       "      <td>1</td>\n",
       "      <td>женат / замужем</td>\n",
       "      <td>0</td>\n",
       "      <td>сотрудник</td>\n",
       "      <td>0</td>\n",
       "      <td>среднее</td>\n",
       "      <td>1</td>\n",
       "      <td>112080</td>\n",
       "      <td>приобретение автомобиля</td>\n",
       "      <td>на автомобиль</td>\n",
       "      <td>с 1 ребенком</td>\n",
       "      <td>без просрочек</td>\n",
       "      <td>средние доходы</td>\n",
       "    </tr>\n",
       "    <tr>\n",
       "      <th>2</th>\n",
       "      <td>m</td>\n",
       "      <td>0</td>\n",
       "      <td>женат / замужем</td>\n",
       "      <td>0</td>\n",
       "      <td>сотрудник</td>\n",
       "      <td>0</td>\n",
       "      <td>среднее</td>\n",
       "      <td>1</td>\n",
       "      <td>145885</td>\n",
       "      <td>покупка жилья</td>\n",
       "      <td>на недвижимость</td>\n",
       "      <td>без детей</td>\n",
       "      <td>без просрочек</td>\n",
       "      <td>выше среднего доходы</td>\n",
       "    </tr>\n",
       "    <tr>\n",
       "      <th>3</th>\n",
       "      <td>m</td>\n",
       "      <td>3</td>\n",
       "      <td>женат / замужем</td>\n",
       "      <td>0</td>\n",
       "      <td>сотрудник</td>\n",
       "      <td>0</td>\n",
       "      <td>среднее</td>\n",
       "      <td>1</td>\n",
       "      <td>267628</td>\n",
       "      <td>дополнительное образование</td>\n",
       "      <td>на образование</td>\n",
       "      <td>многодетные</td>\n",
       "      <td>без просрочек</td>\n",
       "      <td>высокие доходы</td>\n",
       "    </tr>\n",
       "    <tr>\n",
       "      <th>4</th>\n",
       "      <td>f</td>\n",
       "      <td>0</td>\n",
       "      <td>гражданский брак</td>\n",
       "      <td>1</td>\n",
       "      <td>пенсионер</td>\n",
       "      <td>0</td>\n",
       "      <td>среднее</td>\n",
       "      <td>1</td>\n",
       "      <td>158616</td>\n",
       "      <td>сыграть свадьбу</td>\n",
       "      <td>на свадьбу</td>\n",
       "      <td>без детей</td>\n",
       "      <td>без просрочек</td>\n",
       "      <td>выше среднего доходы</td>\n",
       "    </tr>\n",
       "  </tbody>\n",
       "</table>\n",
       "</div>"
      ],
      "text/plain": [
       "  gender  children     family_status  family_status_id income_type  debt  \\\n",
       "0      f         1   женат / замужем                 0   сотрудник     0   \n",
       "1      f         1   женат / замужем                 0   сотрудник     0   \n",
       "2      m         0   женат / замужем                 0   сотрудник     0   \n",
       "3      m         3   женат / замужем                 0   сотрудник     0   \n",
       "4      f         0  гражданский брак                 1   пенсионер     0   \n",
       "\n",
       "  education  education_id  total_income                     purpose  \\\n",
       "0    высшее             0        253875               покупка жилья   \n",
       "1   среднее             1        112080     приобретение автомобиля   \n",
       "2   среднее             1        145885               покупка жилья   \n",
       "3   среднее             1        267628  дополнительное образование   \n",
       "4   среднее             1        158616             сыграть свадьбу   \n",
       "\n",
       "     purpose_lemma children_group     debt_group    total_income_group  \n",
       "0  на недвижимость   с 1 ребенком  без просрочек        высокие доходы  \n",
       "1    на автомобиль   с 1 ребенком  без просрочек        средние доходы  \n",
       "2  на недвижимость      без детей  без просрочек  выше среднего доходы  \n",
       "3   на образование    многодетные  без просрочек        высокие доходы  \n",
       "4       на свадьбу      без детей  без просрочек  выше среднего доходы  "
      ]
     },
     "execution_count": 38,
     "metadata": {},
     "output_type": "execute_result"
    }
   ],
   "source": [
    "df.head()"
   ]
  },
  {
   "cell_type": "markdown",
   "metadata": {},
   "source": [
    "Мы успешно категоризировали данные по величине дохода."
   ]
  },
  {
   "cell_type": "markdown",
   "metadata": {},
   "source": [
    "#### Данные по половому признаку"
   ]
  },
  {
   "cell_type": "markdown",
   "metadata": {},
   "source": [
    "Проверим какие категории и сколько представлены в столбце gender"
   ]
  },
  {
   "cell_type": "code",
   "execution_count": 39,
   "metadata": {},
   "outputs": [
    {
     "data": {
      "text/plain": [
       "f      14174\n",
       "m       7279\n",
       "xna        1\n",
       "Name: gender, dtype: int64"
      ]
     },
     "execution_count": 39,
     "metadata": {},
     "output_type": "execute_result"
    }
   ],
   "source": [
    "df['gender'].value_counts() #посчитаем все значения по составу колонки используя метод value_counts()"
   ]
  },
  {
   "cell_type": "markdown",
   "metadata": {},
   "source": [
    "Возникла неожиданная запись zna. Данная запись могла возникнуть по разным причинам, или не правильно внесли данные при заполнении, либо клиент не позиционировал себя c традиционными записями. Т.к. такая запись только одна, то вполне мы можем ею пренебречь и удалить. Что и сделаем с использованием метода drop() по индексу строки под №10462"
   ]
  },
  {
   "cell_type": "code",
   "execution_count": 40,
   "metadata": {},
   "outputs": [
    {
     "data": {
      "text/html": [
       "<div>\n",
       "<style scoped>\n",
       "    .dataframe tbody tr th:only-of-type {\n",
       "        vertical-align: middle;\n",
       "    }\n",
       "\n",
       "    .dataframe tbody tr th {\n",
       "        vertical-align: top;\n",
       "    }\n",
       "\n",
       "    .dataframe thead th {\n",
       "        text-align: right;\n",
       "    }\n",
       "</style>\n",
       "<table border=\"1\" class=\"dataframe\">\n",
       "  <thead>\n",
       "    <tr style=\"text-align: right;\">\n",
       "      <th></th>\n",
       "      <th>gender</th>\n",
       "      <th>children</th>\n",
       "      <th>family_status</th>\n",
       "      <th>family_status_id</th>\n",
       "      <th>income_type</th>\n",
       "      <th>debt</th>\n",
       "      <th>education</th>\n",
       "      <th>education_id</th>\n",
       "      <th>total_income</th>\n",
       "      <th>purpose</th>\n",
       "      <th>purpose_lemma</th>\n",
       "      <th>children_group</th>\n",
       "      <th>debt_group</th>\n",
       "      <th>total_income_group</th>\n",
       "    </tr>\n",
       "  </thead>\n",
       "  <tbody>\n",
       "    <tr>\n",
       "      <th>10684</th>\n",
       "      <td>xna</td>\n",
       "      <td>0</td>\n",
       "      <td>гражданский брак</td>\n",
       "      <td>1</td>\n",
       "      <td>компаньон</td>\n",
       "      <td>0</td>\n",
       "      <td>неоконченное высшее</td>\n",
       "      <td>2</td>\n",
       "      <td>203905</td>\n",
       "      <td>покупка недвижимости</td>\n",
       "      <td>на недвижимость</td>\n",
       "      <td>без детей</td>\n",
       "      <td>без просрочек</td>\n",
       "      <td>высокие доходы</td>\n",
       "    </tr>\n",
       "  </tbody>\n",
       "</table>\n",
       "</div>"
      ],
      "text/plain": [
       "      gender  children     family_status  family_status_id income_type  debt  \\\n",
       "10684    xna         0  гражданский брак                 1   компаньон     0   \n",
       "\n",
       "                 education  education_id  total_income               purpose  \\\n",
       "10684  неоконченное высшее             2        203905  покупка недвижимости   \n",
       "\n",
       "         purpose_lemma children_group     debt_group total_income_group  \n",
       "10684  на недвижимость      без детей  без просрочек     высокие доходы  "
      ]
     },
     "metadata": {},
     "output_type": "display_data"
    }
   ],
   "source": [
    "#выявим по какому индексу расположен этот гендерный признак и какие данные под ним находятся\n",
    "d = df[df['gender'] == 'xna']\n",
    "display(d) #выведим на экран"
   ]
  },
  {
   "cell_type": "code",
   "execution_count": 41,
   "metadata": {},
   "outputs": [],
   "source": [
    "#удаляем данную запись с помощью метода drop() по индексу\n",
    "df = df.drop(index=10462, axis=0)"
   ]
  },
  {
   "cell_type": "code",
   "execution_count": 42,
   "metadata": {},
   "outputs": [
    {
     "data": {
      "text/plain": [
       "gender\n",
       "f      14173\n",
       "m       7279\n",
       "xna        1\n",
       "Name: gender, dtype: int64"
      ]
     },
     "execution_count": 42,
     "metadata": {},
     "output_type": "execute_result"
    }
   ],
   "source": [
    "df.groupby('gender')['gender'].count() #проверим удалилась ли у нас данная строка"
   ]
  },
  {
   "cell_type": "markdown",
   "metadata": {},
   "source": [
    "Мы успешно привели в порядок данные по половому признаку."
   ]
  },
  {
   "cell_type": "markdown",
   "metadata": {},
   "source": [
    "**Вывод**"
   ]
  },
  {
   "cell_type": "code",
   "execution_count": 43,
   "metadata": {},
   "outputs": [
    {
     "data": {
      "text/html": [
       "<div>\n",
       "<style scoped>\n",
       "    .dataframe tbody tr th:only-of-type {\n",
       "        vertical-align: middle;\n",
       "    }\n",
       "\n",
       "    .dataframe tbody tr th {\n",
       "        vertical-align: top;\n",
       "    }\n",
       "\n",
       "    .dataframe thead th {\n",
       "        text-align: right;\n",
       "    }\n",
       "</style>\n",
       "<table border=\"1\" class=\"dataframe\">\n",
       "  <thead>\n",
       "    <tr style=\"text-align: right;\">\n",
       "      <th></th>\n",
       "      <th>gender</th>\n",
       "      <th>children</th>\n",
       "      <th>family_status</th>\n",
       "      <th>family_status_id</th>\n",
       "      <th>income_type</th>\n",
       "      <th>debt</th>\n",
       "      <th>education</th>\n",
       "      <th>education_id</th>\n",
       "      <th>total_income</th>\n",
       "      <th>purpose</th>\n",
       "      <th>purpose_lemma</th>\n",
       "      <th>children_group</th>\n",
       "      <th>debt_group</th>\n",
       "      <th>total_income_group</th>\n",
       "    </tr>\n",
       "  </thead>\n",
       "  <tbody>\n",
       "    <tr>\n",
       "      <th>0</th>\n",
       "      <td>f</td>\n",
       "      <td>1</td>\n",
       "      <td>женат / замужем</td>\n",
       "      <td>0</td>\n",
       "      <td>сотрудник</td>\n",
       "      <td>0</td>\n",
       "      <td>высшее</td>\n",
       "      <td>0</td>\n",
       "      <td>253875</td>\n",
       "      <td>покупка жилья</td>\n",
       "      <td>на недвижимость</td>\n",
       "      <td>с 1 ребенком</td>\n",
       "      <td>без просрочек</td>\n",
       "      <td>высокие доходы</td>\n",
       "    </tr>\n",
       "    <tr>\n",
       "      <th>1</th>\n",
       "      <td>f</td>\n",
       "      <td>1</td>\n",
       "      <td>женат / замужем</td>\n",
       "      <td>0</td>\n",
       "      <td>сотрудник</td>\n",
       "      <td>0</td>\n",
       "      <td>среднее</td>\n",
       "      <td>1</td>\n",
       "      <td>112080</td>\n",
       "      <td>приобретение автомобиля</td>\n",
       "      <td>на автомобиль</td>\n",
       "      <td>с 1 ребенком</td>\n",
       "      <td>без просрочек</td>\n",
       "      <td>средние доходы</td>\n",
       "    </tr>\n",
       "    <tr>\n",
       "      <th>2</th>\n",
       "      <td>m</td>\n",
       "      <td>0</td>\n",
       "      <td>женат / замужем</td>\n",
       "      <td>0</td>\n",
       "      <td>сотрудник</td>\n",
       "      <td>0</td>\n",
       "      <td>среднее</td>\n",
       "      <td>1</td>\n",
       "      <td>145885</td>\n",
       "      <td>покупка жилья</td>\n",
       "      <td>на недвижимость</td>\n",
       "      <td>без детей</td>\n",
       "      <td>без просрочек</td>\n",
       "      <td>выше среднего доходы</td>\n",
       "    </tr>\n",
       "    <tr>\n",
       "      <th>3</th>\n",
       "      <td>m</td>\n",
       "      <td>3</td>\n",
       "      <td>женат / замужем</td>\n",
       "      <td>0</td>\n",
       "      <td>сотрудник</td>\n",
       "      <td>0</td>\n",
       "      <td>среднее</td>\n",
       "      <td>1</td>\n",
       "      <td>267628</td>\n",
       "      <td>дополнительное образование</td>\n",
       "      <td>на образование</td>\n",
       "      <td>многодетные</td>\n",
       "      <td>без просрочек</td>\n",
       "      <td>высокие доходы</td>\n",
       "    </tr>\n",
       "    <tr>\n",
       "      <th>4</th>\n",
       "      <td>f</td>\n",
       "      <td>0</td>\n",
       "      <td>гражданский брак</td>\n",
       "      <td>1</td>\n",
       "      <td>пенсионер</td>\n",
       "      <td>0</td>\n",
       "      <td>среднее</td>\n",
       "      <td>1</td>\n",
       "      <td>158616</td>\n",
       "      <td>сыграть свадьбу</td>\n",
       "      <td>на свадьбу</td>\n",
       "      <td>без детей</td>\n",
       "      <td>без просрочек</td>\n",
       "      <td>выше среднего доходы</td>\n",
       "    </tr>\n",
       "  </tbody>\n",
       "</table>\n",
       "</div>"
      ],
      "text/plain": [
       "  gender  children     family_status  family_status_id income_type  debt  \\\n",
       "0      f         1   женат / замужем                 0   сотрудник     0   \n",
       "1      f         1   женат / замужем                 0   сотрудник     0   \n",
       "2      m         0   женат / замужем                 0   сотрудник     0   \n",
       "3      m         3   женат / замужем                 0   сотрудник     0   \n",
       "4      f         0  гражданский брак                 1   пенсионер     0   \n",
       "\n",
       "  education  education_id  total_income                     purpose  \\\n",
       "0    высшее             0        253875               покупка жилья   \n",
       "1   среднее             1        112080     приобретение автомобиля   \n",
       "2   среднее             1        145885               покупка жилья   \n",
       "3   среднее             1        267628  дополнительное образование   \n",
       "4   среднее             1        158616             сыграть свадьбу   \n",
       "\n",
       "     purpose_lemma children_group     debt_group    total_income_group  \n",
       "0  на недвижимость   с 1 ребенком  без просрочек        высокие доходы  \n",
       "1    на автомобиль   с 1 ребенком  без просрочек        средние доходы  \n",
       "2  на недвижимость      без детей  без просрочек  выше среднего доходы  \n",
       "3   на образование    многодетные  без просрочек        высокие доходы  \n",
       "4       на свадьбу      без детей  без просрочек  выше среднего доходы  "
      ]
     },
     "execution_count": 43,
     "metadata": {},
     "output_type": "execute_result"
    }
   ],
   "source": [
    "#выведим первые 5 строк и посмотрим все ли добавились данные, те что мы хотели добавить\n",
    "df.head()"
   ]
  },
  {
   "cell_type": "markdown",
   "metadata": {},
   "source": [
    "Действительно, все впорядке. Все наши функции и категории успешно применились. Присутствуют в dataframe"
   ]
  },
  {
   "cell_type": "markdown",
   "metadata": {},
   "source": [
    "Мы успешно провели категоризацию по всем необходимым для работы столбцам. \n",
    "\n",
    "Проверили данные в них и привели их в порядок. \n",
    "\n",
    "Все в порядке, можем приступать к дальнейшей работе."
   ]
  },
  {
   "cell_type": "markdown",
   "metadata": {},
   "source": [
    "## Шаг 3. Ответы на вопросы"
   ]
  },
  {
   "cell_type": "markdown",
   "metadata": {
    "scrolled": true
   },
   "source": [
    "Прежде чем ответить на вопрос, влияют ли определенные признаки на возврат кредита в срок, нужно определиться, что будет \"отправной точкой\" выше которой мы будем считать есть ли зависимость или нет от определенных признаков, и в какую сторону - положительную или отрицательную. Этой \"точкой\" будет средний уровень просрочек платежа."
   ]
  },
  {
   "cell_type": "markdown",
   "metadata": {
    "scrolled": true
   },
   "source": [
    "Вычислим средний показатель просрочек, так называемую \"среднюю точку\", путем деления всех просрочек на общее количество займов."
   ]
  },
  {
   "cell_type": "code",
   "execution_count": 44,
   "metadata": {},
   "outputs": [],
   "source": [
    "avg_debt = df[df['debt'] == 1]['debt'].count() / df['debt'].count() * 100"
   ]
  },
  {
   "cell_type": "code",
   "execution_count": 45,
   "metadata": {},
   "outputs": [
    {
     "name": "stdout",
     "output_type": "stream",
     "text": [
      "Средний уровень просрочек платежа - 8.12%\n"
     ]
    }
   ],
   "source": [
    "print(f'Средний уровень просрочек платежа - {round(avg_debt,2)}%')"
   ]
  },
  {
   "cell_type": "markdown",
   "metadata": {},
   "source": [
    "При формировании выводов будем использовать/сравнивать с данным значением."
   ]
  },
  {
   "cell_type": "markdown",
   "metadata": {},
   "source": [
    "Также сформируем категории для обозначения ситуации по отклонениям от средней величины. Это нужно для того, чтобы мы и наши заказчики сразу видели те категории и комбинации, на которые стоит обратить самое пристальное влияние и к каким стремиться.\n",
    "Сформируем следующие категории:\n",
    "* превышение от среднего уровня просрочек в 2 и более раза - \"Критический случай!\"\n",
    "* превышение от среднего уровня просрочек на 50% и более до 2 раз - \"Особая проблемная ситуация!\"\n",
    "* превышение от среднего уровня просрочек от средней и до 50% - \"Проблемная ситуация! На заметку\"\n",
    "* положительное отклонение от среднего уровня от средней - \"Хорошая ситуация\"\n",
    "* значения в которых не было просрочек, либо только просрочки, обозначаются в таблицах, как NaN, следовательно - \"Крайние значения\"\n",
    "\n",
    "На \"Крайние значение\" стоит в любом случае (как в положительном, так и отрицатльном) обращать особое внимание.\n",
    "\n",
    "Для этого создадим функцию которая будет обозначать нам эти категории в таблице."
   ]
  },
  {
   "cell_type": "code",
   "execution_count": 46,
   "metadata": {},
   "outputs": [],
   "source": [
    "def category_special_case(data):\n",
    "    \"\"\"Функция категоризирует отклонения от среднего значения\"\"\"\n",
    "    \n",
    "    #в сводных таблицах, к необходимым ячейкам, можно обратиться через мультииндексы\n",
    "    for row in list(data.index): #перебераем комбинации вариантов\n",
    "        if data.loc[row, 'deviation'] <= -avg_debt: #категоризируем варианты с исользованием условий\n",
    "            data.loc[row, 'category_special_case'] = 'Критический случай!'\n",
    "        elif data.loc[row, 'deviation'] <= -avg_debt / 2:\n",
    "            data.loc[row, 'category_special_case'] = 'Особая проблемная ситуация!'\n",
    "        elif data.loc[row, 'deviation'] <= 0:\n",
    "            data.loc[row, 'category_special_case'] = 'Проблемная ситуация.'\n",
    "        elif data.loc[row, 'deviation'] > 0:\n",
    "            data.loc[row, 'category_special_case'] = 'Хорошая ситуация'\n",
    "        else:\n",
    "            data.loc[row, 'category_special_case'] = 'Крайние значения' \n",
    "        "
   ]
  },
  {
   "cell_type": "markdown",
   "metadata": {},
   "source": [
    "### Зависимости"
   ]
  },
  {
   "cell_type": "markdown",
   "metadata": {},
   "source": [
    "#### Зависимость с учетом наличия детей"
   ]
  },
  {
   "cell_type": "markdown",
   "metadata": {},
   "source": [
    "- Есть ли зависимость между наличием детей и возвратом кредита в срок?"
   ]
  },
  {
   "cell_type": "markdown",
   "metadata": {},
   "source": [
    "Сформируем сводную таблицу, в которой будут отражаться данные зависимости наличия просрочек от наличия детей."
   ]
  },
  {
   "cell_type": "code",
   "execution_count": 47,
   "metadata": {
    "scrolled": true
   },
   "outputs": [
    {
     "data": {
      "text/html": [
       "<div>\n",
       "<style scoped>\n",
       "    .dataframe tbody tr th:only-of-type {\n",
       "        vertical-align: middle;\n",
       "    }\n",
       "\n",
       "    .dataframe tbody tr th {\n",
       "        vertical-align: top;\n",
       "    }\n",
       "\n",
       "    .dataframe thead th {\n",
       "        text-align: right;\n",
       "    }\n",
       "</style>\n",
       "<table border=\"1\" class=\"dataframe\">\n",
       "  <thead>\n",
       "    <tr style=\"text-align: right;\">\n",
       "      <th>debt_group</th>\n",
       "      <th>без просрочек</th>\n",
       "      <th>с просрочкой</th>\n",
       "      <th>avg_debt_%</th>\n",
       "      <th>deviation</th>\n",
       "      <th>deviation_%</th>\n",
       "      <th>category_special_case</th>\n",
       "    </tr>\n",
       "    <tr>\n",
       "      <th>children_group</th>\n",
       "      <th></th>\n",
       "      <th></th>\n",
       "      <th></th>\n",
       "      <th></th>\n",
       "      <th></th>\n",
       "      <th></th>\n",
       "    </tr>\n",
       "  </thead>\n",
       "  <tbody>\n",
       "    <tr>\n",
       "      <th>с 2 детьми</th>\n",
       "      <td>1926</td>\n",
       "      <td>202</td>\n",
       "      <td>9.49</td>\n",
       "      <td>-1.37</td>\n",
       "      <td>-14.4</td>\n",
       "      <td>Проблемная ситуация.</td>\n",
       "    </tr>\n",
       "    <tr>\n",
       "      <th>с 1 ребенком</th>\n",
       "      <td>4410</td>\n",
       "      <td>445</td>\n",
       "      <td>9.17</td>\n",
       "      <td>-1.05</td>\n",
       "      <td>-11.5</td>\n",
       "      <td>Проблемная ситуация.</td>\n",
       "    </tr>\n",
       "    <tr>\n",
       "      <th>многодетные</th>\n",
       "      <td>349</td>\n",
       "      <td>31</td>\n",
       "      <td>8.16</td>\n",
       "      <td>-0.04</td>\n",
       "      <td>-0.5</td>\n",
       "      <td>Проблемная ситуация.</td>\n",
       "    </tr>\n",
       "    <tr>\n",
       "      <th>без детей</th>\n",
       "      <td>13027</td>\n",
       "      <td>1063</td>\n",
       "      <td>7.54</td>\n",
       "      <td>0.58</td>\n",
       "      <td>7.7</td>\n",
       "      <td>Хорошая ситуация</td>\n",
       "    </tr>\n",
       "  </tbody>\n",
       "</table>\n",
       "</div>"
      ],
      "text/plain": [
       "debt_group      без просрочек  с просрочкой  avg_debt_%  deviation  \\\n",
       "children_group                                                       \n",
       "с 2 детьми               1926           202        9.49      -1.37   \n",
       "с 1 ребенком             4410           445        9.17      -1.05   \n",
       "многодетные               349            31        8.16      -0.04   \n",
       "без детей               13027          1063        7.54       0.58   \n",
       "\n",
       "debt_group      deviation_% category_special_case  \n",
       "children_group                                     \n",
       "с 2 детьми            -14.4  Проблемная ситуация.  \n",
       "с 1 ребенком          -11.5  Проблемная ситуация.  \n",
       "многодетные            -0.5  Проблемная ситуация.  \n",
       "без детей               7.7      Хорошая ситуация  "
      ]
     },
     "metadata": {},
     "output_type": "display_data"
    }
   ],
   "source": [
    "#сформируем сводную таблицу\n",
    "data_pivot_children = pd.pivot_table(df, index = ['children_group'], \\\n",
    "                            columns = 'debt_group', values = 'debt', aggfunc = 'count')\n",
    "\n",
    "#добавим столбец относительной величины просрочек к общим кредитам\n",
    "data_pivot_children['avg_debt_%'] = round(data_pivot_children['с просрочкой'] \\\n",
    "            / (data_pivot_children['с просрочкой'] + data_pivot_children['без просрочек']) * 100, 2)\n",
    "\n",
    "#добавим столбец, в котором покажем с отклонениями от среднего показателия\n",
    "data_pivot_children['deviation'] = round(avg_debt - data_pivot_children['avg_debt_%'], 2)\n",
    "\n",
    "#добавим столбец, показывающий на сколько % отклонение от средней величины\n",
    "data_pivot_children['deviation_%'] = round(data_pivot_children['deviation'] / data_pivot_children['avg_debt_%'] * 100, 1)\n",
    "\n",
    "#применим функцию категоризации отклонений от среднего показателия\n",
    "category_special_case(data_pivot_children)\n",
    "\n",
    "#выведим таблицу на экран и одновременно отсортируем по столбцу отклонений от среднего\n",
    "display(data_pivot_children.sort_values('deviation', ascending=True))"
   ]
  },
  {
   "cell_type": "markdown",
   "metadata": {},
   "source": [
    "Как видим из таблицы, при применении только одного вида категории данных, а в данном случае это по наличию детей, отклонения от среднего значения в районе 12-13% в проблемную сторону и до 8% в положительную сторону.\n",
    "\n",
    "Сделаем комбинации с другими категориями и посмотрим - меняются ли отклонения, есть ли зависимости в комбинациях. Применим дополнительно к категории по наличию детей, по очереди следующие категории:\n",
    "* пол\n",
    "* семейный статус\n",
    "* рабочий статус\n",
    "* образование \n",
    "* цель кредита\n",
    "* уровень доходов"
   ]
  },
  {
   "cell_type": "markdown",
   "metadata": {},
   "source": [
    "Создадим функцию в которой будем перебирать данные вариации и выводить их на экран. В дальнейшем, она нам также пригодиться для других комбинаций-зависимостей."
   ]
  },
  {
   "cell_type": "code",
   "execution_count": 48,
   "metadata": {},
   "outputs": [],
   "source": [
    "def create_combination(main_group, lst):\n",
    "    '''Функция перебирает список дополнительных зависимостей lst и \n",
    "    комбинирует их с основной зависимостью main_group'''\n",
    "    \n",
    "    for addiction in lst:   #перебираем список дополнительных зависимостей/категорий\n",
    "        \n",
    "        #выводим обозначение комбинации\n",
    "        print(f'Зависимость категорий {main_group} и {addiction}:')\n",
    "        \n",
    "        #сформировываем сводную таблицу\n",
    "        data_pivot = pd.pivot_table(df, index = [main_group, addiction], \\\n",
    "                            columns = 'debt_group', values = 'debt', aggfunc = 'count')\n",
    "        \n",
    "        #добавляем столбец с относительными показателями просрочки платежа\n",
    "        data_pivot['avg_debt_%'] = round(data_pivot['с просрочкой'] \\\n",
    "            / (data_pivot['с просрочкой'] + data_pivot['без просрочек']) * 100, 2)\n",
    "\n",
    "        #добавляем столбец с отклонениями от средней величины\n",
    "        data_pivot['deviation'] = round(avg_debt - data_pivot['avg_debt_%'], 2)\n",
    "        \n",
    "        #добавим столбец, показывающий на сколько % отклонение от средней величины\n",
    "        data_pivot['deviation_%'] = round(data_pivot['deviation'] / data_pivot['avg_debt_%'] * 100, 1)\n",
    "\n",
    "        #применим функцию категоризации отклонений от среднего показателия\n",
    "        category_special_case(data_pivot)\n",
    "\n",
    "        #выводим сводную таблицу на экран\n",
    "        display(data_pivot.sort_values('deviation', ascending=True))"
   ]
  },
  {
   "cell_type": "code",
   "execution_count": 49,
   "metadata": {},
   "outputs": [],
   "source": [
    "#создаем лист из возможных дополнительных комбинаций\n",
    "list_addiction_with_children_group = ['gender', 'family_status', 'income_type', 'education', 'purpose_lemma', 'total_income_group']"
   ]
  },
  {
   "cell_type": "code",
   "execution_count": 50,
   "metadata": {
    "scrolled": false
   },
   "outputs": [
    {
     "name": "stdout",
     "output_type": "stream",
     "text": [
      "Зависимость категорий children_group и gender:\n"
     ]
    },
    {
     "data": {
      "text/html": [
       "<div>\n",
       "<style scoped>\n",
       "    .dataframe tbody tr th:only-of-type {\n",
       "        vertical-align: middle;\n",
       "    }\n",
       "\n",
       "    .dataframe tbody tr th {\n",
       "        vertical-align: top;\n",
       "    }\n",
       "\n",
       "    .dataframe thead th {\n",
       "        text-align: right;\n",
       "    }\n",
       "</style>\n",
       "<table border=\"1\" class=\"dataframe\">\n",
       "  <thead>\n",
       "    <tr style=\"text-align: right;\">\n",
       "      <th></th>\n",
       "      <th>debt_group</th>\n",
       "      <th>без просрочек</th>\n",
       "      <th>с просрочкой</th>\n",
       "      <th>avg_debt_%</th>\n",
       "      <th>deviation</th>\n",
       "      <th>deviation_%</th>\n",
       "      <th>category_special_case</th>\n",
       "    </tr>\n",
       "    <tr>\n",
       "      <th>children_group</th>\n",
       "      <th>gender</th>\n",
       "      <th></th>\n",
       "      <th></th>\n",
       "      <th></th>\n",
       "      <th></th>\n",
       "      <th></th>\n",
       "      <th></th>\n",
       "    </tr>\n",
       "  </thead>\n",
       "  <tbody>\n",
       "    <tr>\n",
       "      <th>с 1 ребенком</th>\n",
       "      <th>m</th>\n",
       "      <td>1536.0</td>\n",
       "      <td>199.0</td>\n",
       "      <td>11.47</td>\n",
       "      <td>-3.35</td>\n",
       "      <td>-29.2</td>\n",
       "      <td>Проблемная ситуация.</td>\n",
       "    </tr>\n",
       "    <tr>\n",
       "      <th>с 2 детьми</th>\n",
       "      <th>f</th>\n",
       "      <td>1165.0</td>\n",
       "      <td>138.0</td>\n",
       "      <td>10.59</td>\n",
       "      <td>-2.47</td>\n",
       "      <td>-23.3</td>\n",
       "      <td>Проблемная ситуация.</td>\n",
       "    </tr>\n",
       "    <tr>\n",
       "      <th>без детей</th>\n",
       "      <th>m</th>\n",
       "      <td>4099.0</td>\n",
       "      <td>471.0</td>\n",
       "      <td>10.31</td>\n",
       "      <td>-2.19</td>\n",
       "      <td>-21.2</td>\n",
       "      <td>Проблемная ситуация.</td>\n",
       "    </tr>\n",
       "    <tr>\n",
       "      <th>многодетные</th>\n",
       "      <th>m</th>\n",
       "      <td>136.0</td>\n",
       "      <td>13.0</td>\n",
       "      <td>8.72</td>\n",
       "      <td>-0.60</td>\n",
       "      <td>-6.9</td>\n",
       "      <td>Проблемная ситуация.</td>\n",
       "    </tr>\n",
       "    <tr>\n",
       "      <th>с 1 ребенком</th>\n",
       "      <th>f</th>\n",
       "      <td>2874.0</td>\n",
       "      <td>246.0</td>\n",
       "      <td>7.88</td>\n",
       "      <td>0.24</td>\n",
       "      <td>3.0</td>\n",
       "      <td>Хорошая ситуация</td>\n",
       "    </tr>\n",
       "    <tr>\n",
       "      <th>многодетные</th>\n",
       "      <th>f</th>\n",
       "      <td>213.0</td>\n",
       "      <td>18.0</td>\n",
       "      <td>7.79</td>\n",
       "      <td>0.33</td>\n",
       "      <td>4.2</td>\n",
       "      <td>Хорошая ситуация</td>\n",
       "    </tr>\n",
       "    <tr>\n",
       "      <th>с 2 детьми</th>\n",
       "      <th>m</th>\n",
       "      <td>761.0</td>\n",
       "      <td>64.0</td>\n",
       "      <td>7.76</td>\n",
       "      <td>0.36</td>\n",
       "      <td>4.6</td>\n",
       "      <td>Хорошая ситуация</td>\n",
       "    </tr>\n",
       "    <tr>\n",
       "      <th rowspan=\"2\" valign=\"top\">без детей</th>\n",
       "      <th>f</th>\n",
       "      <td>8927.0</td>\n",
       "      <td>592.0</td>\n",
       "      <td>6.22</td>\n",
       "      <td>1.90</td>\n",
       "      <td>30.5</td>\n",
       "      <td>Хорошая ситуация</td>\n",
       "    </tr>\n",
       "    <tr>\n",
       "      <th>xna</th>\n",
       "      <td>1.0</td>\n",
       "      <td>NaN</td>\n",
       "      <td>NaN</td>\n",
       "      <td>NaN</td>\n",
       "      <td>NaN</td>\n",
       "      <td>Крайние значения</td>\n",
       "    </tr>\n",
       "  </tbody>\n",
       "</table>\n",
       "</div>"
      ],
      "text/plain": [
       "debt_group             без просрочек  с просрочкой  avg_debt_%  deviation  \\\n",
       "children_group gender                                                       \n",
       "с 1 ребенком   m              1536.0         199.0       11.47      -3.35   \n",
       "с 2 детьми     f              1165.0         138.0       10.59      -2.47   \n",
       "без детей      m              4099.0         471.0       10.31      -2.19   \n",
       "многодетные    m               136.0          13.0        8.72      -0.60   \n",
       "с 1 ребенком   f              2874.0         246.0        7.88       0.24   \n",
       "многодетные    f               213.0          18.0        7.79       0.33   \n",
       "с 2 детьми     m               761.0          64.0        7.76       0.36   \n",
       "без детей      f              8927.0         592.0        6.22       1.90   \n",
       "               xna               1.0           NaN         NaN        NaN   \n",
       "\n",
       "debt_group             deviation_% category_special_case  \n",
       "children_group gender                                     \n",
       "с 1 ребенком   m             -29.2  Проблемная ситуация.  \n",
       "с 2 детьми     f             -23.3  Проблемная ситуация.  \n",
       "без детей      m             -21.2  Проблемная ситуация.  \n",
       "многодетные    m              -6.9  Проблемная ситуация.  \n",
       "с 1 ребенком   f               3.0      Хорошая ситуация  \n",
       "многодетные    f               4.2      Хорошая ситуация  \n",
       "с 2 детьми     m               4.6      Хорошая ситуация  \n",
       "без детей      f              30.5      Хорошая ситуация  \n",
       "               xna             NaN      Крайние значения  "
      ]
     },
     "metadata": {},
     "output_type": "display_data"
    },
    {
     "name": "stdout",
     "output_type": "stream",
     "text": [
      "Зависимость категорий children_group и family_status:\n"
     ]
    },
    {
     "data": {
      "text/html": [
       "<div>\n",
       "<style scoped>\n",
       "    .dataframe tbody tr th:only-of-type {\n",
       "        vertical-align: middle;\n",
       "    }\n",
       "\n",
       "    .dataframe tbody tr th {\n",
       "        vertical-align: top;\n",
       "    }\n",
       "\n",
       "    .dataframe thead th {\n",
       "        text-align: right;\n",
       "    }\n",
       "</style>\n",
       "<table border=\"1\" class=\"dataframe\">\n",
       "  <thead>\n",
       "    <tr style=\"text-align: right;\">\n",
       "      <th></th>\n",
       "      <th>debt_group</th>\n",
       "      <th>без просрочек</th>\n",
       "      <th>с просрочкой</th>\n",
       "      <th>avg_debt_%</th>\n",
       "      <th>deviation</th>\n",
       "      <th>deviation_%</th>\n",
       "      <th>category_special_case</th>\n",
       "    </tr>\n",
       "    <tr>\n",
       "      <th>children_group</th>\n",
       "      <th>family_status</th>\n",
       "      <th></th>\n",
       "      <th></th>\n",
       "      <th></th>\n",
       "      <th></th>\n",
       "      <th></th>\n",
       "      <th></th>\n",
       "    </tr>\n",
       "  </thead>\n",
       "  <tbody>\n",
       "    <tr>\n",
       "      <th>многодетные</th>\n",
       "      <th>не женат / не замужем</th>\n",
       "      <td>8.0</td>\n",
       "      <td>2.0</td>\n",
       "      <td>20.00</td>\n",
       "      <td>-11.88</td>\n",
       "      <td>-59.4</td>\n",
       "      <td>Критический случай!</td>\n",
       "    </tr>\n",
       "    <tr>\n",
       "      <th>с 2 детьми</th>\n",
       "      <th>вдовец / вдова</th>\n",
       "      <td>21.0</td>\n",
       "      <td>3.0</td>\n",
       "      <td>12.50</td>\n",
       "      <td>-4.38</td>\n",
       "      <td>-35.0</td>\n",
       "      <td>Особая проблемная ситуация!</td>\n",
       "    </tr>\n",
       "    <tr>\n",
       "      <th>многодетные</th>\n",
       "      <th>гражданский брак</th>\n",
       "      <td>58.0</td>\n",
       "      <td>8.0</td>\n",
       "      <td>12.12</td>\n",
       "      <td>-4.00</td>\n",
       "      <td>-33.0</td>\n",
       "      <td>Проблемная ситуация.</td>\n",
       "    </tr>\n",
       "    <tr>\n",
       "      <th>с 2 детьми</th>\n",
       "      <th>не женат / не замужем</th>\n",
       "      <td>74.0</td>\n",
       "      <td>10.0</td>\n",
       "      <td>11.90</td>\n",
       "      <td>-3.78</td>\n",
       "      <td>-31.8</td>\n",
       "      <td>Проблемная ситуация.</td>\n",
       "    </tr>\n",
       "    <tr>\n",
       "      <th rowspan=\"2\" valign=\"top\">с 1 ребенком</th>\n",
       "      <th>гражданский брак</th>\n",
       "      <td>882.0</td>\n",
       "      <td>118.0</td>\n",
       "      <td>11.80</td>\n",
       "      <td>-3.68</td>\n",
       "      <td>-31.2</td>\n",
       "      <td>Проблемная ситуация.</td>\n",
       "    </tr>\n",
       "    <tr>\n",
       "      <th>не женат / не замужем</th>\n",
       "      <td>402.0</td>\n",
       "      <td>52.0</td>\n",
       "      <td>11.45</td>\n",
       "      <td>-3.33</td>\n",
       "      <td>-29.1</td>\n",
       "      <td>Проблемная ситуация.</td>\n",
       "    </tr>\n",
       "    <tr>\n",
       "      <th rowspan=\"3\" valign=\"top\">с 2 детьми</th>\n",
       "      <th>в разводе</th>\n",
       "      <td>75.0</td>\n",
       "      <td>8.0</td>\n",
       "      <td>9.64</td>\n",
       "      <td>-1.52</td>\n",
       "      <td>-15.8</td>\n",
       "      <td>Проблемная ситуация.</td>\n",
       "    </tr>\n",
       "    <tr>\n",
       "      <th>женат / замужем</th>\n",
       "      <td>1434.0</td>\n",
       "      <td>148.0</td>\n",
       "      <td>9.36</td>\n",
       "      <td>-1.24</td>\n",
       "      <td>-13.2</td>\n",
       "      <td>Проблемная ситуация.</td>\n",
       "    </tr>\n",
       "    <tr>\n",
       "      <th>гражданский брак</th>\n",
       "      <td>322.0</td>\n",
       "      <td>33.0</td>\n",
       "      <td>9.30</td>\n",
       "      <td>-1.18</td>\n",
       "      <td>-12.7</td>\n",
       "      <td>Проблемная ситуация.</td>\n",
       "    </tr>\n",
       "    <tr>\n",
       "      <th>без детей</th>\n",
       "      <th>не женат / не замужем</th>\n",
       "      <td>2052.0</td>\n",
       "      <td>210.0</td>\n",
       "      <td>9.28</td>\n",
       "      <td>-1.16</td>\n",
       "      <td>-12.5</td>\n",
       "      <td>Проблемная ситуация.</td>\n",
       "    </tr>\n",
       "    <tr>\n",
       "      <th>с 1 ребенком</th>\n",
       "      <th>вдовец / вдова</th>\n",
       "      <td>74.0</td>\n",
       "      <td>7.0</td>\n",
       "      <td>8.64</td>\n",
       "      <td>-0.52</td>\n",
       "      <td>-6.0</td>\n",
       "      <td>Проблемная ситуация.</td>\n",
       "    </tr>\n",
       "    <tr>\n",
       "      <th>без детей</th>\n",
       "      <th>гражданский брак</th>\n",
       "      <td>2500.0</td>\n",
       "      <td>229.0</td>\n",
       "      <td>8.39</td>\n",
       "      <td>-0.27</td>\n",
       "      <td>-3.2</td>\n",
       "      <td>Проблемная ситуация.</td>\n",
       "    </tr>\n",
       "    <tr>\n",
       "      <th>многодетные</th>\n",
       "      <th>в разводе</th>\n",
       "      <td>11.0</td>\n",
       "      <td>1.0</td>\n",
       "      <td>8.33</td>\n",
       "      <td>-0.21</td>\n",
       "      <td>-2.5</td>\n",
       "      <td>Проблемная ситуация.</td>\n",
       "    </tr>\n",
       "    <tr>\n",
       "      <th>с 1 ребенком</th>\n",
       "      <th>женат / замужем</th>\n",
       "      <td>2757.0</td>\n",
       "      <td>247.0</td>\n",
       "      <td>8.22</td>\n",
       "      <td>-0.10</td>\n",
       "      <td>-1.2</td>\n",
       "      <td>Проблемная ситуация.</td>\n",
       "    </tr>\n",
       "    <tr>\n",
       "      <th>без детей</th>\n",
       "      <th>в разводе</th>\n",
       "      <td>729.0</td>\n",
       "      <td>55.0</td>\n",
       "      <td>7.02</td>\n",
       "      <td>1.10</td>\n",
       "      <td>15.7</td>\n",
       "      <td>Хорошая ситуация</td>\n",
       "    </tr>\n",
       "    <tr>\n",
       "      <th>многодетные</th>\n",
       "      <th>женат / замужем</th>\n",
       "      <td>265.0</td>\n",
       "      <td>20.0</td>\n",
       "      <td>7.02</td>\n",
       "      <td>1.10</td>\n",
       "      <td>15.7</td>\n",
       "      <td>Хорошая ситуация</td>\n",
       "    </tr>\n",
       "    <tr>\n",
       "      <th>без детей</th>\n",
       "      <th>женат / замужем</th>\n",
       "      <td>6952.0</td>\n",
       "      <td>516.0</td>\n",
       "      <td>6.91</td>\n",
       "      <td>1.21</td>\n",
       "      <td>17.5</td>\n",
       "      <td>Хорошая ситуация</td>\n",
       "    </tr>\n",
       "    <tr>\n",
       "      <th>с 1 ребенком</th>\n",
       "      <th>в разводе</th>\n",
       "      <td>295.0</td>\n",
       "      <td>21.0</td>\n",
       "      <td>6.65</td>\n",
       "      <td>1.47</td>\n",
       "      <td>22.1</td>\n",
       "      <td>Хорошая ситуация</td>\n",
       "    </tr>\n",
       "    <tr>\n",
       "      <th>без детей</th>\n",
       "      <th>вдовец / вдова</th>\n",
       "      <td>794.0</td>\n",
       "      <td>53.0</td>\n",
       "      <td>6.26</td>\n",
       "      <td>1.86</td>\n",
       "      <td>29.7</td>\n",
       "      <td>Хорошая ситуация</td>\n",
       "    </tr>\n",
       "    <tr>\n",
       "      <th>многодетные</th>\n",
       "      <th>вдовец / вдова</th>\n",
       "      <td>7.0</td>\n",
       "      <td>NaN</td>\n",
       "      <td>NaN</td>\n",
       "      <td>NaN</td>\n",
       "      <td>NaN</td>\n",
       "      <td>Крайние значения</td>\n",
       "    </tr>\n",
       "  </tbody>\n",
       "</table>\n",
       "</div>"
      ],
      "text/plain": [
       "debt_group                            без просрочек  с просрочкой  avg_debt_%  \\\n",
       "children_group family_status                                                    \n",
       "многодетные    не женат / не замужем            8.0           2.0       20.00   \n",
       "с 2 детьми     вдовец / вдова                  21.0           3.0       12.50   \n",
       "многодетные    гражданский брак                58.0           8.0       12.12   \n",
       "с 2 детьми     не женат / не замужем           74.0          10.0       11.90   \n",
       "с 1 ребенком   гражданский брак               882.0         118.0       11.80   \n",
       "               не женат / не замужем          402.0          52.0       11.45   \n",
       "с 2 детьми     в разводе                       75.0           8.0        9.64   \n",
       "               женат / замужем               1434.0         148.0        9.36   \n",
       "               гражданский брак               322.0          33.0        9.30   \n",
       "без детей      не женат / не замужем         2052.0         210.0        9.28   \n",
       "с 1 ребенком   вдовец / вдова                  74.0           7.0        8.64   \n",
       "без детей      гражданский брак              2500.0         229.0        8.39   \n",
       "многодетные    в разводе                       11.0           1.0        8.33   \n",
       "с 1 ребенком   женат / замужем               2757.0         247.0        8.22   \n",
       "без детей      в разводе                      729.0          55.0        7.02   \n",
       "многодетные    женат / замужем                265.0          20.0        7.02   \n",
       "без детей      женат / замужем               6952.0         516.0        6.91   \n",
       "с 1 ребенком   в разводе                      295.0          21.0        6.65   \n",
       "без детей      вдовец / вдова                 794.0          53.0        6.26   \n",
       "многодетные    вдовец / вдова                   7.0           NaN         NaN   \n",
       "\n",
       "debt_group                            deviation  deviation_%  \\\n",
       "children_group family_status                                   \n",
       "многодетные    не женат / не замужем     -11.88        -59.4   \n",
       "с 2 детьми     вдовец / вдова             -4.38        -35.0   \n",
       "многодетные    гражданский брак           -4.00        -33.0   \n",
       "с 2 детьми     не женат / не замужем      -3.78        -31.8   \n",
       "с 1 ребенком   гражданский брак           -3.68        -31.2   \n",
       "               не женат / не замужем      -3.33        -29.1   \n",
       "с 2 детьми     в разводе                  -1.52        -15.8   \n",
       "               женат / замужем            -1.24        -13.2   \n",
       "               гражданский брак           -1.18        -12.7   \n",
       "без детей      не женат / не замужем      -1.16        -12.5   \n",
       "с 1 ребенком   вдовец / вдова             -0.52         -6.0   \n",
       "без детей      гражданский брак           -0.27         -3.2   \n",
       "многодетные    в разводе                  -0.21         -2.5   \n",
       "с 1 ребенком   женат / замужем            -0.10         -1.2   \n",
       "без детей      в разводе                   1.10         15.7   \n",
       "многодетные    женат / замужем             1.10         15.7   \n",
       "без детей      женат / замужем             1.21         17.5   \n",
       "с 1 ребенком   в разводе                   1.47         22.1   \n",
       "без детей      вдовец / вдова              1.86         29.7   \n",
       "многодетные    вдовец / вдова               NaN          NaN   \n",
       "\n",
       "debt_group                                  category_special_case  \n",
       "children_group family_status                                       \n",
       "многодетные    не женат / не замужем          Критический случай!  \n",
       "с 2 детьми     вдовец / вдова         Особая проблемная ситуация!  \n",
       "многодетные    гражданский брак              Проблемная ситуация.  \n",
       "с 2 детьми     не женат / не замужем         Проблемная ситуация.  \n",
       "с 1 ребенком   гражданский брак              Проблемная ситуация.  \n",
       "               не женат / не замужем         Проблемная ситуация.  \n",
       "с 2 детьми     в разводе                     Проблемная ситуация.  \n",
       "               женат / замужем               Проблемная ситуация.  \n",
       "               гражданский брак              Проблемная ситуация.  \n",
       "без детей      не женат / не замужем         Проблемная ситуация.  \n",
       "с 1 ребенком   вдовец / вдова                Проблемная ситуация.  \n",
       "без детей      гражданский брак              Проблемная ситуация.  \n",
       "многодетные    в разводе                     Проблемная ситуация.  \n",
       "с 1 ребенком   женат / замужем               Проблемная ситуация.  \n",
       "без детей      в разводе                         Хорошая ситуация  \n",
       "многодетные    женат / замужем                   Хорошая ситуация  \n",
       "без детей      женат / замужем                   Хорошая ситуация  \n",
       "с 1 ребенком   в разводе                         Хорошая ситуация  \n",
       "без детей      вдовец / вдова                    Хорошая ситуация  \n",
       "многодетные    вдовец / вдова                    Крайние значения  "
      ]
     },
     "metadata": {},
     "output_type": "display_data"
    },
    {
     "name": "stdout",
     "output_type": "stream",
     "text": [
      "Зависимость категорий children_group и income_type:\n"
     ]
    },
    {
     "data": {
      "text/html": [
       "<div>\n",
       "<style scoped>\n",
       "    .dataframe tbody tr th:only-of-type {\n",
       "        vertical-align: middle;\n",
       "    }\n",
       "\n",
       "    .dataframe tbody tr th {\n",
       "        vertical-align: top;\n",
       "    }\n",
       "\n",
       "    .dataframe thead th {\n",
       "        text-align: right;\n",
       "    }\n",
       "</style>\n",
       "<table border=\"1\" class=\"dataframe\">\n",
       "  <thead>\n",
       "    <tr style=\"text-align: right;\">\n",
       "      <th></th>\n",
       "      <th>debt_group</th>\n",
       "      <th>без просрочек</th>\n",
       "      <th>с просрочкой</th>\n",
       "      <th>avg_debt_%</th>\n",
       "      <th>deviation</th>\n",
       "      <th>deviation_%</th>\n",
       "      <th>category_special_case</th>\n",
       "    </tr>\n",
       "    <tr>\n",
       "      <th>children_group</th>\n",
       "      <th>income_type</th>\n",
       "      <th></th>\n",
       "      <th></th>\n",
       "      <th></th>\n",
       "      <th></th>\n",
       "      <th></th>\n",
       "      <th></th>\n",
       "    </tr>\n",
       "  </thead>\n",
       "  <tbody>\n",
       "    <tr>\n",
       "      <th>многодетные</th>\n",
       "      <th>пенсионер</th>\n",
       "      <td>6.0</td>\n",
       "      <td>1.0</td>\n",
       "      <td>14.29</td>\n",
       "      <td>-6.17</td>\n",
       "      <td>-43.2</td>\n",
       "      <td>Особая проблемная ситуация!</td>\n",
       "    </tr>\n",
       "    <tr>\n",
       "      <th>с 2 детьми</th>\n",
       "      <th>сотрудник</th>\n",
       "      <td>1205.0</td>\n",
       "      <td>153.0</td>\n",
       "      <td>11.27</td>\n",
       "      <td>-3.15</td>\n",
       "      <td>-28.0</td>\n",
       "      <td>Проблемная ситуация.</td>\n",
       "    </tr>\n",
       "    <tr>\n",
       "      <th>с 1 ребенком</th>\n",
       "      <th>сотрудник</th>\n",
       "      <td>2601.0</td>\n",
       "      <td>305.0</td>\n",
       "      <td>10.50</td>\n",
       "      <td>-2.38</td>\n",
       "      <td>-22.7</td>\n",
       "      <td>Проблемная ситуация.</td>\n",
       "    </tr>\n",
       "    <tr>\n",
       "      <th>с 2 детьми</th>\n",
       "      <th>пенсионер</th>\n",
       "      <td>26.0</td>\n",
       "      <td>3.0</td>\n",
       "      <td>10.34</td>\n",
       "      <td>-2.22</td>\n",
       "      <td>-21.5</td>\n",
       "      <td>Проблемная ситуация.</td>\n",
       "    </tr>\n",
       "    <tr>\n",
       "      <th>многодетные</th>\n",
       "      <th>сотрудник</th>\n",
       "      <td>223.0</td>\n",
       "      <td>23.0</td>\n",
       "      <td>9.35</td>\n",
       "      <td>-1.23</td>\n",
       "      <td>-13.2</td>\n",
       "      <td>Проблемная ситуация.</td>\n",
       "    </tr>\n",
       "    <tr>\n",
       "      <th>без детей</th>\n",
       "      <th>сотрудник</th>\n",
       "      <td>5994.0</td>\n",
       "      <td>580.0</td>\n",
       "      <td>8.82</td>\n",
       "      <td>-0.70</td>\n",
       "      <td>-7.9</td>\n",
       "      <td>Проблемная ситуация.</td>\n",
       "    </tr>\n",
       "    <tr>\n",
       "      <th>с 1 ребенком</th>\n",
       "      <th>компаньон</th>\n",
       "      <td>1201.0</td>\n",
       "      <td>106.0</td>\n",
       "      <td>8.11</td>\n",
       "      <td>0.01</td>\n",
       "      <td>0.1</td>\n",
       "      <td>Хорошая ситуация</td>\n",
       "    </tr>\n",
       "    <tr>\n",
       "      <th>без детей</th>\n",
       "      <th>компаньон</th>\n",
       "      <td>2911.0</td>\n",
       "      <td>226.0</td>\n",
       "      <td>7.20</td>\n",
       "      <td>0.92</td>\n",
       "      <td>12.8</td>\n",
       "      <td>Хорошая ситуация</td>\n",
       "    </tr>\n",
       "    <tr>\n",
       "      <th>с 2 детьми</th>\n",
       "      <th>компаньон</th>\n",
       "      <td>512.0</td>\n",
       "      <td>39.0</td>\n",
       "      <td>7.08</td>\n",
       "      <td>1.04</td>\n",
       "      <td>14.7</td>\n",
       "      <td>Хорошая ситуация</td>\n",
       "    </tr>\n",
       "    <tr>\n",
       "      <th>без детей</th>\n",
       "      <th>госслужащий</th>\n",
       "      <td>806.0</td>\n",
       "      <td>59.0</td>\n",
       "      <td>6.82</td>\n",
       "      <td>1.30</td>\n",
       "      <td>19.1</td>\n",
       "      <td>Хорошая ситуация</td>\n",
       "    </tr>\n",
       "    <tr>\n",
       "      <th>многодетные</th>\n",
       "      <th>компаньон</th>\n",
       "      <td>78.0</td>\n",
       "      <td>5.0</td>\n",
       "      <td>6.02</td>\n",
       "      <td>2.10</td>\n",
       "      <td>34.9</td>\n",
       "      <td>Хорошая ситуация</td>\n",
       "    </tr>\n",
       "    <tr>\n",
       "      <th>без детей</th>\n",
       "      <th>пенсионер</th>\n",
       "      <td>3312.0</td>\n",
       "      <td>198.0</td>\n",
       "      <td>5.64</td>\n",
       "      <td>2.48</td>\n",
       "      <td>44.0</td>\n",
       "      <td>Хорошая ситуация</td>\n",
       "    </tr>\n",
       "    <tr>\n",
       "      <th rowspan=\"2\" valign=\"top\">с 1 ребенком</th>\n",
       "      <th>госслужащий</th>\n",
       "      <td>339.0</td>\n",
       "      <td>19.0</td>\n",
       "      <td>5.31</td>\n",
       "      <td>2.81</td>\n",
       "      <td>52.9</td>\n",
       "      <td>Хорошая ситуация</td>\n",
       "    </tr>\n",
       "    <tr>\n",
       "      <th>пенсионер</th>\n",
       "      <td>269.0</td>\n",
       "      <td>14.0</td>\n",
       "      <td>4.95</td>\n",
       "      <td>3.17</td>\n",
       "      <td>64.0</td>\n",
       "      <td>Хорошая ситуация</td>\n",
       "    </tr>\n",
       "    <tr>\n",
       "      <th>многодетные</th>\n",
       "      <th>госслужащий</th>\n",
       "      <td>42.0</td>\n",
       "      <td>2.0</td>\n",
       "      <td>4.55</td>\n",
       "      <td>3.57</td>\n",
       "      <td>78.5</td>\n",
       "      <td>Хорошая ситуация</td>\n",
       "    </tr>\n",
       "    <tr>\n",
       "      <th>с 2 детьми</th>\n",
       "      <th>госслужащий</th>\n",
       "      <td>183.0</td>\n",
       "      <td>6.0</td>\n",
       "      <td>3.17</td>\n",
       "      <td>4.95</td>\n",
       "      <td>156.2</td>\n",
       "      <td>Хорошая ситуация</td>\n",
       "    </tr>\n",
       "    <tr>\n",
       "      <th rowspan=\"3\" valign=\"top\">без детей</th>\n",
       "      <th>безработный</th>\n",
       "      <td>1.0</td>\n",
       "      <td>NaN</td>\n",
       "      <td>NaN</td>\n",
       "      <td>NaN</td>\n",
       "      <td>NaN</td>\n",
       "      <td>Крайние значения</td>\n",
       "    </tr>\n",
       "    <tr>\n",
       "      <th>предприниматель</th>\n",
       "      <td>2.0</td>\n",
       "      <td>NaN</td>\n",
       "      <td>NaN</td>\n",
       "      <td>NaN</td>\n",
       "      <td>NaN</td>\n",
       "      <td>Крайние значения</td>\n",
       "    </tr>\n",
       "    <tr>\n",
       "      <th>студент</th>\n",
       "      <td>1.0</td>\n",
       "      <td>NaN</td>\n",
       "      <td>NaN</td>\n",
       "      <td>NaN</td>\n",
       "      <td>NaN</td>\n",
       "      <td>Крайние значения</td>\n",
       "    </tr>\n",
       "    <tr>\n",
       "      <th>с 1 ребенком</th>\n",
       "      <th>безработный</th>\n",
       "      <td>NaN</td>\n",
       "      <td>1.0</td>\n",
       "      <td>NaN</td>\n",
       "      <td>NaN</td>\n",
       "      <td>NaN</td>\n",
       "      <td>Крайние значения</td>\n",
       "    </tr>\n",
       "    <tr>\n",
       "      <th>с 2 детьми</th>\n",
       "      <th>в декрете</th>\n",
       "      <td>NaN</td>\n",
       "      <td>1.0</td>\n",
       "      <td>NaN</td>\n",
       "      <td>NaN</td>\n",
       "      <td>NaN</td>\n",
       "      <td>Крайние значения</td>\n",
       "    </tr>\n",
       "  </tbody>\n",
       "</table>\n",
       "</div>"
      ],
      "text/plain": [
       "debt_group                      без просрочек  с просрочкой  avg_debt_%  \\\n",
       "children_group income_type                                                \n",
       "многодетные    пенсионер                  6.0           1.0       14.29   \n",
       "с 2 детьми     сотрудник               1205.0         153.0       11.27   \n",
       "с 1 ребенком   сотрудник               2601.0         305.0       10.50   \n",
       "с 2 детьми     пенсионер                 26.0           3.0       10.34   \n",
       "многодетные    сотрудник                223.0          23.0        9.35   \n",
       "без детей      сотрудник               5994.0         580.0        8.82   \n",
       "с 1 ребенком   компаньон               1201.0         106.0        8.11   \n",
       "без детей      компаньон               2911.0         226.0        7.20   \n",
       "с 2 детьми     компаньон                512.0          39.0        7.08   \n",
       "без детей      госслужащий              806.0          59.0        6.82   \n",
       "многодетные    компаньон                 78.0           5.0        6.02   \n",
       "без детей      пенсионер               3312.0         198.0        5.64   \n",
       "с 1 ребенком   госслужащий              339.0          19.0        5.31   \n",
       "               пенсионер                269.0          14.0        4.95   \n",
       "многодетные    госслужащий               42.0           2.0        4.55   \n",
       "с 2 детьми     госслужащий              183.0           6.0        3.17   \n",
       "без детей      безработный                1.0           NaN         NaN   \n",
       "               предприниматель            2.0           NaN         NaN   \n",
       "               студент                    1.0           NaN         NaN   \n",
       "с 1 ребенком   безработный                NaN           1.0         NaN   \n",
       "с 2 детьми     в декрете                  NaN           1.0         NaN   \n",
       "\n",
       "debt_group                      deviation  deviation_%  \\\n",
       "children_group income_type                               \n",
       "многодетные    пенсионер            -6.17        -43.2   \n",
       "с 2 детьми     сотрудник            -3.15        -28.0   \n",
       "с 1 ребенком   сотрудник            -2.38        -22.7   \n",
       "с 2 детьми     пенсионер            -2.22        -21.5   \n",
       "многодетные    сотрудник            -1.23        -13.2   \n",
       "без детей      сотрудник            -0.70         -7.9   \n",
       "с 1 ребенком   компаньон             0.01          0.1   \n",
       "без детей      компаньон             0.92         12.8   \n",
       "с 2 детьми     компаньон             1.04         14.7   \n",
       "без детей      госслужащий           1.30         19.1   \n",
       "многодетные    компаньон             2.10         34.9   \n",
       "без детей      пенсионер             2.48         44.0   \n",
       "с 1 ребенком   госслужащий           2.81         52.9   \n",
       "               пенсионер             3.17         64.0   \n",
       "многодетные    госслужащий           3.57         78.5   \n",
       "с 2 детьми     госслужащий           4.95        156.2   \n",
       "без детей      безработный            NaN          NaN   \n",
       "               предприниматель        NaN          NaN   \n",
       "               студент                NaN          NaN   \n",
       "с 1 ребенком   безработный            NaN          NaN   \n",
       "с 2 детьми     в декрете              NaN          NaN   \n",
       "\n",
       "debt_group                            category_special_case  \n",
       "children_group income_type                                   \n",
       "многодетные    пенсионер        Особая проблемная ситуация!  \n",
       "с 2 детьми     сотрудник               Проблемная ситуация.  \n",
       "с 1 ребенком   сотрудник               Проблемная ситуация.  \n",
       "с 2 детьми     пенсионер               Проблемная ситуация.  \n",
       "многодетные    сотрудник               Проблемная ситуация.  \n",
       "без детей      сотрудник               Проблемная ситуация.  \n",
       "с 1 ребенком   компаньон                   Хорошая ситуация  \n",
       "без детей      компаньон                   Хорошая ситуация  \n",
       "с 2 детьми     компаньон                   Хорошая ситуация  \n",
       "без детей      госслужащий                 Хорошая ситуация  \n",
       "многодетные    компаньон                   Хорошая ситуация  \n",
       "без детей      пенсионер                   Хорошая ситуация  \n",
       "с 1 ребенком   госслужащий                 Хорошая ситуация  \n",
       "               пенсионер                   Хорошая ситуация  \n",
       "многодетные    госслужащий                 Хорошая ситуация  \n",
       "с 2 детьми     госслужащий                 Хорошая ситуация  \n",
       "без детей      безработный                 Крайние значения  \n",
       "               предприниматель             Крайние значения  \n",
       "               студент                     Крайние значения  \n",
       "с 1 ребенком   безработный                 Крайние значения  \n",
       "с 2 детьми     в декрете                   Крайние значения  "
      ]
     },
     "metadata": {},
     "output_type": "display_data"
    },
    {
     "name": "stdout",
     "output_type": "stream",
     "text": [
      "Зависимость категорий children_group и education:\n"
     ]
    },
    {
     "data": {
      "text/html": [
       "<div>\n",
       "<style scoped>\n",
       "    .dataframe tbody tr th:only-of-type {\n",
       "        vertical-align: middle;\n",
       "    }\n",
       "\n",
       "    .dataframe tbody tr th {\n",
       "        vertical-align: top;\n",
       "    }\n",
       "\n",
       "    .dataframe thead th {\n",
       "        text-align: right;\n",
       "    }\n",
       "</style>\n",
       "<table border=\"1\" class=\"dataframe\">\n",
       "  <thead>\n",
       "    <tr style=\"text-align: right;\">\n",
       "      <th></th>\n",
       "      <th>debt_group</th>\n",
       "      <th>без просрочек</th>\n",
       "      <th>с просрочкой</th>\n",
       "      <th>avg_debt_%</th>\n",
       "      <th>deviation</th>\n",
       "      <th>deviation_%</th>\n",
       "      <th>category_special_case</th>\n",
       "    </tr>\n",
       "    <tr>\n",
       "      <th>children_group</th>\n",
       "      <th>education</th>\n",
       "      <th></th>\n",
       "      <th></th>\n",
       "      <th></th>\n",
       "      <th></th>\n",
       "      <th></th>\n",
       "      <th></th>\n",
       "    </tr>\n",
       "  </thead>\n",
       "  <tbody>\n",
       "    <tr>\n",
       "      <th>многодетные</th>\n",
       "      <th>неоконченное высшее</th>\n",
       "      <td>6.0</td>\n",
       "      <td>2.0</td>\n",
       "      <td>25.00</td>\n",
       "      <td>-16.88</td>\n",
       "      <td>-67.5</td>\n",
       "      <td>Критический случай!</td>\n",
       "    </tr>\n",
       "    <tr>\n",
       "      <th>с 2 детьми</th>\n",
       "      <th>начальное</th>\n",
       "      <td>19.0</td>\n",
       "      <td>6.0</td>\n",
       "      <td>24.00</td>\n",
       "      <td>-15.88</td>\n",
       "      <td>-66.2</td>\n",
       "      <td>Критический случай!</td>\n",
       "    </tr>\n",
       "    <tr>\n",
       "      <th>с 1 ребенком</th>\n",
       "      <th>начальное</th>\n",
       "      <td>50.0</td>\n",
       "      <td>10.0</td>\n",
       "      <td>16.67</td>\n",
       "      <td>-8.55</td>\n",
       "      <td>-51.3</td>\n",
       "      <td>Критический случай!</td>\n",
       "    </tr>\n",
       "    <tr>\n",
       "      <th>с 2 детьми</th>\n",
       "      <th>неоконченное высшее</th>\n",
       "      <td>65.0</td>\n",
       "      <td>9.0</td>\n",
       "      <td>12.16</td>\n",
       "      <td>-4.04</td>\n",
       "      <td>-33.2</td>\n",
       "      <td>Проблемная ситуация.</td>\n",
       "    </tr>\n",
       "    <tr>\n",
       "      <th>с 1 ребенком</th>\n",
       "      <th>неоконченное высшее</th>\n",
       "      <td>156.0</td>\n",
       "      <td>20.0</td>\n",
       "      <td>11.36</td>\n",
       "      <td>-3.24</td>\n",
       "      <td>-28.5</td>\n",
       "      <td>Проблемная ситуация.</td>\n",
       "    </tr>\n",
       "    <tr>\n",
       "      <th>с 2 детьми</th>\n",
       "      <th>среднее</th>\n",
       "      <td>1302.0</td>\n",
       "      <td>158.0</td>\n",
       "      <td>10.82</td>\n",
       "      <td>-2.70</td>\n",
       "      <td>-25.0</td>\n",
       "      <td>Проблемная ситуация.</td>\n",
       "    </tr>\n",
       "    <tr>\n",
       "      <th>с 1 ребенком</th>\n",
       "      <th>среднее</th>\n",
       "      <td>2945.0</td>\n",
       "      <td>343.0</td>\n",
       "      <td>10.43</td>\n",
       "      <td>-2.31</td>\n",
       "      <td>-22.1</td>\n",
       "      <td>Проблемная ситуация.</td>\n",
       "    </tr>\n",
       "    <tr>\n",
       "      <th>многодетные</th>\n",
       "      <th>среднее</th>\n",
       "      <td>246.0</td>\n",
       "      <td>25.0</td>\n",
       "      <td>9.23</td>\n",
       "      <td>-1.11</td>\n",
       "      <td>-12.0</td>\n",
       "      <td>Проблемная ситуация.</td>\n",
       "    </tr>\n",
       "    <tr>\n",
       "      <th rowspan=\"3\" valign=\"top\">без детей</th>\n",
       "      <th>среднее</th>\n",
       "      <td>9314.0</td>\n",
       "      <td>838.0</td>\n",
       "      <td>8.25</td>\n",
       "      <td>-0.13</td>\n",
       "      <td>-1.6</td>\n",
       "      <td>Проблемная ситуация.</td>\n",
       "    </tr>\n",
       "    <tr>\n",
       "      <th>начальное</th>\n",
       "      <td>174.0</td>\n",
       "      <td>15.0</td>\n",
       "      <td>7.94</td>\n",
       "      <td>0.18</td>\n",
       "      <td>2.3</td>\n",
       "      <td>Хорошая ситуация</td>\n",
       "    </tr>\n",
       "    <tr>\n",
       "      <th>неоконченное высшее</th>\n",
       "      <td>449.0</td>\n",
       "      <td>37.0</td>\n",
       "      <td>7.61</td>\n",
       "      <td>0.51</td>\n",
       "      <td>6.7</td>\n",
       "      <td>Хорошая ситуация</td>\n",
       "    </tr>\n",
       "    <tr>\n",
       "      <th>с 1 ребенком</th>\n",
       "      <th>высшее</th>\n",
       "      <td>1258.0</td>\n",
       "      <td>72.0</td>\n",
       "      <td>5.41</td>\n",
       "      <td>2.71</td>\n",
       "      <td>50.1</td>\n",
       "      <td>Хорошая ситуация</td>\n",
       "    </tr>\n",
       "    <tr>\n",
       "      <th>без детей</th>\n",
       "      <th>высшее</th>\n",
       "      <td>3086.0</td>\n",
       "      <td>173.0</td>\n",
       "      <td>5.31</td>\n",
       "      <td>2.81</td>\n",
       "      <td>52.9</td>\n",
       "      <td>Хорошая ситуация</td>\n",
       "    </tr>\n",
       "    <tr>\n",
       "      <th>с 2 детьми</th>\n",
       "      <th>высшее</th>\n",
       "      <td>540.0</td>\n",
       "      <td>29.0</td>\n",
       "      <td>5.10</td>\n",
       "      <td>3.02</td>\n",
       "      <td>59.2</td>\n",
       "      <td>Хорошая ситуация</td>\n",
       "    </tr>\n",
       "    <tr>\n",
       "      <th>многодетные</th>\n",
       "      <th>высшее</th>\n",
       "      <td>88.0</td>\n",
       "      <td>4.0</td>\n",
       "      <td>4.35</td>\n",
       "      <td>3.77</td>\n",
       "      <td>86.7</td>\n",
       "      <td>Хорошая ситуация</td>\n",
       "    </tr>\n",
       "    <tr>\n",
       "      <th>без детей</th>\n",
       "      <th>ученая степень</th>\n",
       "      <td>4.0</td>\n",
       "      <td>NaN</td>\n",
       "      <td>NaN</td>\n",
       "      <td>NaN</td>\n",
       "      <td>NaN</td>\n",
       "      <td>Крайние значения</td>\n",
       "    </tr>\n",
       "    <tr>\n",
       "      <th rowspan=\"2\" valign=\"top\">многодетные</th>\n",
       "      <th>начальное</th>\n",
       "      <td>8.0</td>\n",
       "      <td>NaN</td>\n",
       "      <td>NaN</td>\n",
       "      <td>NaN</td>\n",
       "      <td>NaN</td>\n",
       "      <td>Крайние значения</td>\n",
       "    </tr>\n",
       "    <tr>\n",
       "      <th>ученая степень</th>\n",
       "      <td>1.0</td>\n",
       "      <td>NaN</td>\n",
       "      <td>NaN</td>\n",
       "      <td>NaN</td>\n",
       "      <td>NaN</td>\n",
       "      <td>Крайние значения</td>\n",
       "    </tr>\n",
       "    <tr>\n",
       "      <th>с 1 ребенком</th>\n",
       "      <th>ученая степень</th>\n",
       "      <td>1.0</td>\n",
       "      <td>NaN</td>\n",
       "      <td>NaN</td>\n",
       "      <td>NaN</td>\n",
       "      <td>NaN</td>\n",
       "      <td>Крайние значения</td>\n",
       "    </tr>\n",
       "  </tbody>\n",
       "</table>\n",
       "</div>"
      ],
      "text/plain": [
       "debt_group                          без просрочек  с просрочкой  avg_debt_%  \\\n",
       "children_group education                                                      \n",
       "многодетные    неоконченное высшее            6.0           2.0       25.00   \n",
       "с 2 детьми     начальное                     19.0           6.0       24.00   \n",
       "с 1 ребенком   начальное                     50.0          10.0       16.67   \n",
       "с 2 детьми     неоконченное высшее           65.0           9.0       12.16   \n",
       "с 1 ребенком   неоконченное высшее          156.0          20.0       11.36   \n",
       "с 2 детьми     среднее                     1302.0         158.0       10.82   \n",
       "с 1 ребенком   среднее                     2945.0         343.0       10.43   \n",
       "многодетные    среднее                      246.0          25.0        9.23   \n",
       "без детей      среднее                     9314.0         838.0        8.25   \n",
       "               начальное                    174.0          15.0        7.94   \n",
       "               неоконченное высшее          449.0          37.0        7.61   \n",
       "с 1 ребенком   высшее                      1258.0          72.0        5.41   \n",
       "без детей      высшее                      3086.0         173.0        5.31   \n",
       "с 2 детьми     высшее                       540.0          29.0        5.10   \n",
       "многодетные    высшее                        88.0           4.0        4.35   \n",
       "без детей      ученая степень                 4.0           NaN         NaN   \n",
       "многодетные    начальное                      8.0           NaN         NaN   \n",
       "               ученая степень                 1.0           NaN         NaN   \n",
       "с 1 ребенком   ученая степень                 1.0           NaN         NaN   \n",
       "\n",
       "debt_group                          deviation  deviation_%  \\\n",
       "children_group education                                     \n",
       "многодетные    неоконченное высшее     -16.88        -67.5   \n",
       "с 2 детьми     начальное               -15.88        -66.2   \n",
       "с 1 ребенком   начальное                -8.55        -51.3   \n",
       "с 2 детьми     неоконченное высшее      -4.04        -33.2   \n",
       "с 1 ребенком   неоконченное высшее      -3.24        -28.5   \n",
       "с 2 детьми     среднее                  -2.70        -25.0   \n",
       "с 1 ребенком   среднее                  -2.31        -22.1   \n",
       "многодетные    среднее                  -1.11        -12.0   \n",
       "без детей      среднее                  -0.13         -1.6   \n",
       "               начальное                 0.18          2.3   \n",
       "               неоконченное высшее       0.51          6.7   \n",
       "с 1 ребенком   высшее                    2.71         50.1   \n",
       "без детей      высшее                    2.81         52.9   \n",
       "с 2 детьми     высшее                    3.02         59.2   \n",
       "многодетные    высшее                    3.77         86.7   \n",
       "без детей      ученая степень             NaN          NaN   \n",
       "многодетные    начальное                  NaN          NaN   \n",
       "               ученая степень             NaN          NaN   \n",
       "с 1 ребенком   ученая степень             NaN          NaN   \n",
       "\n",
       "debt_group                         category_special_case  \n",
       "children_group education                                  \n",
       "многодетные    неоконченное высшее   Критический случай!  \n",
       "с 2 детьми     начальное             Критический случай!  \n",
       "с 1 ребенком   начальное             Критический случай!  \n",
       "с 2 детьми     неоконченное высшее  Проблемная ситуация.  \n",
       "с 1 ребенком   неоконченное высшее  Проблемная ситуация.  \n",
       "с 2 детьми     среднее              Проблемная ситуация.  \n",
       "с 1 ребенком   среднее              Проблемная ситуация.  \n",
       "многодетные    среднее              Проблемная ситуация.  \n",
       "без детей      среднее              Проблемная ситуация.  \n",
       "               начальное                Хорошая ситуация  \n",
       "               неоконченное высшее      Хорошая ситуация  \n",
       "с 1 ребенком   высшее                   Хорошая ситуация  \n",
       "без детей      высшее                   Хорошая ситуация  \n",
       "с 2 детьми     высшее                   Хорошая ситуация  \n",
       "многодетные    высшее                   Хорошая ситуация  \n",
       "без детей      ученая степень           Крайние значения  \n",
       "многодетные    начальное                Крайние значения  \n",
       "               ученая степень           Крайние значения  \n",
       "с 1 ребенком   ученая степень           Крайние значения  "
      ]
     },
     "metadata": {},
     "output_type": "display_data"
    },
    {
     "name": "stdout",
     "output_type": "stream",
     "text": [
      "Зависимость категорий children_group и purpose_lemma:\n"
     ]
    },
    {
     "data": {
      "text/html": [
       "<div>\n",
       "<style scoped>\n",
       "    .dataframe tbody tr th:only-of-type {\n",
       "        vertical-align: middle;\n",
       "    }\n",
       "\n",
       "    .dataframe tbody tr th {\n",
       "        vertical-align: top;\n",
       "    }\n",
       "\n",
       "    .dataframe thead th {\n",
       "        text-align: right;\n",
       "    }\n",
       "</style>\n",
       "<table border=\"1\" class=\"dataframe\">\n",
       "  <thead>\n",
       "    <tr style=\"text-align: right;\">\n",
       "      <th></th>\n",
       "      <th>debt_group</th>\n",
       "      <th>без просрочек</th>\n",
       "      <th>с просрочкой</th>\n",
       "      <th>avg_debt_%</th>\n",
       "      <th>deviation</th>\n",
       "      <th>deviation_%</th>\n",
       "      <th>category_special_case</th>\n",
       "    </tr>\n",
       "    <tr>\n",
       "      <th>children_group</th>\n",
       "      <th>purpose_lemma</th>\n",
       "      <th></th>\n",
       "      <th></th>\n",
       "      <th></th>\n",
       "      <th></th>\n",
       "      <th></th>\n",
       "      <th></th>\n",
       "    </tr>\n",
       "  </thead>\n",
       "  <tbody>\n",
       "    <tr>\n",
       "      <th>многодетные</th>\n",
       "      <th>на свадьбу</th>\n",
       "      <td>31</td>\n",
       "      <td>5</td>\n",
       "      <td>13.89</td>\n",
       "      <td>-5.77</td>\n",
       "      <td>-41.5</td>\n",
       "      <td>Особая проблемная ситуация!</td>\n",
       "    </tr>\n",
       "    <tr>\n",
       "      <th rowspan=\"2\" valign=\"top\">с 2 детьми</th>\n",
       "      <th>на автомобиль</th>\n",
       "      <td>365</td>\n",
       "      <td>50</td>\n",
       "      <td>12.05</td>\n",
       "      <td>-3.93</td>\n",
       "      <td>-32.6</td>\n",
       "      <td>Проблемная ситуация.</td>\n",
       "    </tr>\n",
       "    <tr>\n",
       "      <th>на образование</th>\n",
       "      <td>371</td>\n",
       "      <td>47</td>\n",
       "      <td>11.24</td>\n",
       "      <td>-3.12</td>\n",
       "      <td>-27.8</td>\n",
       "      <td>Проблемная ситуация.</td>\n",
       "    </tr>\n",
       "    <tr>\n",
       "      <th rowspan=\"3\" valign=\"top\">с 1 ребенком</th>\n",
       "      <th>на автомобиль</th>\n",
       "      <td>870</td>\n",
       "      <td>104</td>\n",
       "      <td>10.68</td>\n",
       "      <td>-2.56</td>\n",
       "      <td>-24.0</td>\n",
       "      <td>Проблемная ситуация.</td>\n",
       "    </tr>\n",
       "    <tr>\n",
       "      <th>на образование</th>\n",
       "      <td>786</td>\n",
       "      <td>90</td>\n",
       "      <td>10.27</td>\n",
       "      <td>-2.15</td>\n",
       "      <td>-20.9</td>\n",
       "      <td>Проблемная ситуация.</td>\n",
       "    </tr>\n",
       "    <tr>\n",
       "      <th>на свадьбу</th>\n",
       "      <td>483</td>\n",
       "      <td>51</td>\n",
       "      <td>9.55</td>\n",
       "      <td>-1.43</td>\n",
       "      <td>-15.0</td>\n",
       "      <td>Проблемная ситуация.</td>\n",
       "    </tr>\n",
       "    <tr>\n",
       "      <th rowspan=\"2\" valign=\"top\">без детей</th>\n",
       "      <th>на образование</th>\n",
       "      <td>2413</td>\n",
       "      <td>229</td>\n",
       "      <td>8.67</td>\n",
       "      <td>-0.55</td>\n",
       "      <td>-6.3</td>\n",
       "      <td>Проблемная ситуация.</td>\n",
       "    </tr>\n",
       "    <tr>\n",
       "      <th>на автомобиль</th>\n",
       "      <td>2601</td>\n",
       "      <td>243</td>\n",
       "      <td>8.54</td>\n",
       "      <td>-0.42</td>\n",
       "      <td>-4.9</td>\n",
       "      <td>Проблемная ситуация.</td>\n",
       "    </tr>\n",
       "    <tr>\n",
       "      <th>с 2 детьми</th>\n",
       "      <th>на недвижимость</th>\n",
       "      <td>981</td>\n",
       "      <td>90</td>\n",
       "      <td>8.40</td>\n",
       "      <td>-0.28</td>\n",
       "      <td>-3.3</td>\n",
       "      <td>Проблемная ситуация.</td>\n",
       "    </tr>\n",
       "    <tr>\n",
       "      <th rowspan=\"2\" valign=\"top\">многодетные</th>\n",
       "      <th>на автомобиль</th>\n",
       "      <td>66</td>\n",
       "      <td>6</td>\n",
       "      <td>8.33</td>\n",
       "      <td>-0.21</td>\n",
       "      <td>-2.5</td>\n",
       "      <td>Проблемная ситуация.</td>\n",
       "    </tr>\n",
       "    <tr>\n",
       "      <th>на недвижимость</th>\n",
       "      <td>179</td>\n",
       "      <td>16</td>\n",
       "      <td>8.21</td>\n",
       "      <td>-0.09</td>\n",
       "      <td>-1.1</td>\n",
       "      <td>Проблемная ситуация.</td>\n",
       "    </tr>\n",
       "    <tr>\n",
       "      <th>с 1 ребенком</th>\n",
       "      <th>на недвижимость</th>\n",
       "      <td>2271</td>\n",
       "      <td>200</td>\n",
       "      <td>8.09</td>\n",
       "      <td>0.03</td>\n",
       "      <td>0.4</td>\n",
       "      <td>Хорошая ситуация</td>\n",
       "    </tr>\n",
       "    <tr>\n",
       "      <th rowspan=\"2\" valign=\"top\">без детей</th>\n",
       "      <th>на свадьбу</th>\n",
       "      <td>1415</td>\n",
       "      <td>115</td>\n",
       "      <td>7.52</td>\n",
       "      <td>0.60</td>\n",
       "      <td>8.0</td>\n",
       "      <td>Хорошая ситуация</td>\n",
       "    </tr>\n",
       "    <tr>\n",
       "      <th>на недвижимость</th>\n",
       "      <td>6598</td>\n",
       "      <td>476</td>\n",
       "      <td>6.73</td>\n",
       "      <td>1.39</td>\n",
       "      <td>20.7</td>\n",
       "      <td>Хорошая ситуация</td>\n",
       "    </tr>\n",
       "    <tr>\n",
       "      <th>с 2 детьми</th>\n",
       "      <th>на свадьбу</th>\n",
       "      <td>209</td>\n",
       "      <td>15</td>\n",
       "      <td>6.70</td>\n",
       "      <td>1.42</td>\n",
       "      <td>21.2</td>\n",
       "      <td>Хорошая ситуация</td>\n",
       "    </tr>\n",
       "    <tr>\n",
       "      <th>многодетные</th>\n",
       "      <th>на образование</th>\n",
       "      <td>73</td>\n",
       "      <td>4</td>\n",
       "      <td>5.19</td>\n",
       "      <td>2.93</td>\n",
       "      <td>56.5</td>\n",
       "      <td>Хорошая ситуация</td>\n",
       "    </tr>\n",
       "  </tbody>\n",
       "</table>\n",
       "</div>"
      ],
      "text/plain": [
       "debt_group                      без просрочек  с просрочкой  avg_debt_%  \\\n",
       "children_group purpose_lemma                                              \n",
       "многодетные    на свадьбу                  31             5       13.89   \n",
       "с 2 детьми     на автомобиль              365            50       12.05   \n",
       "               на образование             371            47       11.24   \n",
       "с 1 ребенком   на автомобиль              870           104       10.68   \n",
       "               на образование             786            90       10.27   \n",
       "               на свадьбу                 483            51        9.55   \n",
       "без детей      на образование            2413           229        8.67   \n",
       "               на автомобиль             2601           243        8.54   \n",
       "с 2 детьми     на недвижимость            981            90        8.40   \n",
       "многодетные    на автомобиль               66             6        8.33   \n",
       "               на недвижимость            179            16        8.21   \n",
       "с 1 ребенком   на недвижимость           2271           200        8.09   \n",
       "без детей      на свадьбу                1415           115        7.52   \n",
       "               на недвижимость           6598           476        6.73   \n",
       "с 2 детьми     на свадьбу                 209            15        6.70   \n",
       "многодетные    на образование              73             4        5.19   \n",
       "\n",
       "debt_group                      deviation  deviation_%  \\\n",
       "children_group purpose_lemma                             \n",
       "многодетные    на свадьбу           -5.77        -41.5   \n",
       "с 2 детьми     на автомобиль        -3.93        -32.6   \n",
       "               на образование       -3.12        -27.8   \n",
       "с 1 ребенком   на автомобиль        -2.56        -24.0   \n",
       "               на образование       -2.15        -20.9   \n",
       "               на свадьбу           -1.43        -15.0   \n",
       "без детей      на образование       -0.55         -6.3   \n",
       "               на автомобиль        -0.42         -4.9   \n",
       "с 2 детьми     на недвижимость      -0.28         -3.3   \n",
       "многодетные    на автомобиль        -0.21         -2.5   \n",
       "               на недвижимость      -0.09         -1.1   \n",
       "с 1 ребенком   на недвижимость       0.03          0.4   \n",
       "без детей      на свадьбу            0.60          8.0   \n",
       "               на недвижимость       1.39         20.7   \n",
       "с 2 детьми     на свадьбу            1.42         21.2   \n",
       "многодетные    на образование        2.93         56.5   \n",
       "\n",
       "debt_group                            category_special_case  \n",
       "children_group purpose_lemma                                 \n",
       "многодетные    на свадьбу       Особая проблемная ситуация!  \n",
       "с 2 детьми     на автомобиль           Проблемная ситуация.  \n",
       "               на образование          Проблемная ситуация.  \n",
       "с 1 ребенком   на автомобиль           Проблемная ситуация.  \n",
       "               на образование          Проблемная ситуация.  \n",
       "               на свадьбу              Проблемная ситуация.  \n",
       "без детей      на образование          Проблемная ситуация.  \n",
       "               на автомобиль           Проблемная ситуация.  \n",
       "с 2 детьми     на недвижимость         Проблемная ситуация.  \n",
       "многодетные    на автомобиль           Проблемная ситуация.  \n",
       "               на недвижимость         Проблемная ситуация.  \n",
       "с 1 ребенком   на недвижимость             Хорошая ситуация  \n",
       "без детей      на свадьбу                  Хорошая ситуация  \n",
       "               на недвижимость             Хорошая ситуация  \n",
       "с 2 детьми     на свадьбу                  Хорошая ситуация  \n",
       "многодетные    на образование              Хорошая ситуация  "
      ]
     },
     "metadata": {},
     "output_type": "display_data"
    },
    {
     "name": "stdout",
     "output_type": "stream",
     "text": [
      "Зависимость категорий children_group и total_income_group:\n"
     ]
    },
    {
     "data": {
      "text/html": [
       "<div>\n",
       "<style scoped>\n",
       "    .dataframe tbody tr th:only-of-type {\n",
       "        vertical-align: middle;\n",
       "    }\n",
       "\n",
       "    .dataframe tbody tr th {\n",
       "        vertical-align: top;\n",
       "    }\n",
       "\n",
       "    .dataframe thead th {\n",
       "        text-align: right;\n",
       "    }\n",
       "</style>\n",
       "<table border=\"1\" class=\"dataframe\">\n",
       "  <thead>\n",
       "    <tr style=\"text-align: right;\">\n",
       "      <th></th>\n",
       "      <th>debt_group</th>\n",
       "      <th>без просрочек</th>\n",
       "      <th>с просрочкой</th>\n",
       "      <th>avg_debt_%</th>\n",
       "      <th>deviation</th>\n",
       "      <th>deviation_%</th>\n",
       "      <th>category_special_case</th>\n",
       "    </tr>\n",
       "    <tr>\n",
       "      <th>children_group</th>\n",
       "      <th>total_income_group</th>\n",
       "      <th></th>\n",
       "      <th></th>\n",
       "      <th></th>\n",
       "      <th></th>\n",
       "      <th></th>\n",
       "      <th></th>\n",
       "    </tr>\n",
       "  </thead>\n",
       "  <tbody>\n",
       "    <tr>\n",
       "      <th>многодетные</th>\n",
       "      <th>низкие доходы</th>\n",
       "      <td>67</td>\n",
       "      <td>9</td>\n",
       "      <td>11.84</td>\n",
       "      <td>-3.72</td>\n",
       "      <td>-31.4</td>\n",
       "      <td>Проблемная ситуация.</td>\n",
       "    </tr>\n",
       "    <tr>\n",
       "      <th rowspan=\"2\" valign=\"top\">с 2 детьми</th>\n",
       "      <th>средние доходы</th>\n",
       "      <td>483</td>\n",
       "      <td>56</td>\n",
       "      <td>10.39</td>\n",
       "      <td>-2.27</td>\n",
       "      <td>-21.8</td>\n",
       "      <td>Проблемная ситуация.</td>\n",
       "    </tr>\n",
       "    <tr>\n",
       "      <th>выше среднего доходы</th>\n",
       "      <td>450</td>\n",
       "      <td>52</td>\n",
       "      <td>10.36</td>\n",
       "      <td>-2.24</td>\n",
       "      <td>-21.6</td>\n",
       "      <td>Проблемная ситуация.</td>\n",
       "    </tr>\n",
       "    <tr>\n",
       "      <th rowspan=\"3\" valign=\"top\">с 1 ребенком</th>\n",
       "      <th>средние доходы</th>\n",
       "      <td>1110</td>\n",
       "      <td>120</td>\n",
       "      <td>9.76</td>\n",
       "      <td>-1.64</td>\n",
       "      <td>-16.8</td>\n",
       "      <td>Проблемная ситуация.</td>\n",
       "    </tr>\n",
       "    <tr>\n",
       "      <th>выше среднего доходы</th>\n",
       "      <td>1131</td>\n",
       "      <td>121</td>\n",
       "      <td>9.66</td>\n",
       "      <td>-1.54</td>\n",
       "      <td>-15.9</td>\n",
       "      <td>Проблемная ситуация.</td>\n",
       "    </tr>\n",
       "    <tr>\n",
       "      <th>низкие доходы</th>\n",
       "      <td>1006</td>\n",
       "      <td>107</td>\n",
       "      <td>9.61</td>\n",
       "      <td>-1.49</td>\n",
       "      <td>-15.5</td>\n",
       "      <td>Проблемная ситуация.</td>\n",
       "    </tr>\n",
       "    <tr>\n",
       "      <th>с 2 детьми</th>\n",
       "      <th>низкие доходы</th>\n",
       "      <td>486</td>\n",
       "      <td>49</td>\n",
       "      <td>9.16</td>\n",
       "      <td>-1.04</td>\n",
       "      <td>-11.4</td>\n",
       "      <td>Проблемная ситуация.</td>\n",
       "    </tr>\n",
       "    <tr>\n",
       "      <th rowspan=\"2\" valign=\"top\">многодетные</th>\n",
       "      <th>выше среднего доходы</th>\n",
       "      <td>87</td>\n",
       "      <td>8</td>\n",
       "      <td>8.42</td>\n",
       "      <td>-0.30</td>\n",
       "      <td>-3.6</td>\n",
       "      <td>Проблемная ситуация.</td>\n",
       "    </tr>\n",
       "    <tr>\n",
       "      <th>средние доходы</th>\n",
       "      <td>98</td>\n",
       "      <td>9</td>\n",
       "      <td>8.41</td>\n",
       "      <td>-0.29</td>\n",
       "      <td>-3.4</td>\n",
       "      <td>Проблемная ситуация.</td>\n",
       "    </tr>\n",
       "    <tr>\n",
       "      <th>без детей</th>\n",
       "      <th>средние доходы</th>\n",
       "      <td>3305</td>\n",
       "      <td>298</td>\n",
       "      <td>8.27</td>\n",
       "      <td>-0.15</td>\n",
       "      <td>-1.8</td>\n",
       "      <td>Проблемная ситуация.</td>\n",
       "    </tr>\n",
       "    <tr>\n",
       "      <th>с 2 детьми</th>\n",
       "      <th>высокие доходы</th>\n",
       "      <td>507</td>\n",
       "      <td>45</td>\n",
       "      <td>8.15</td>\n",
       "      <td>-0.03</td>\n",
       "      <td>-0.4</td>\n",
       "      <td>Проблемная ситуация.</td>\n",
       "    </tr>\n",
       "    <tr>\n",
       "      <th>без детей</th>\n",
       "      <th>выше среднего доходы</th>\n",
       "      <td>3131</td>\n",
       "      <td>267</td>\n",
       "      <td>7.86</td>\n",
       "      <td>0.26</td>\n",
       "      <td>3.3</td>\n",
       "      <td>Хорошая ситуация</td>\n",
       "    </tr>\n",
       "    <tr>\n",
       "      <th>с 1 ребенком</th>\n",
       "      <th>высокие доходы</th>\n",
       "      <td>1163</td>\n",
       "      <td>97</td>\n",
       "      <td>7.70</td>\n",
       "      <td>0.42</td>\n",
       "      <td>5.5</td>\n",
       "      <td>Хорошая ситуация</td>\n",
       "    </tr>\n",
       "    <tr>\n",
       "      <th rowspan=\"2\" valign=\"top\">без детей</th>\n",
       "      <th>низкие доходы</th>\n",
       "      <td>3378</td>\n",
       "      <td>262</td>\n",
       "      <td>7.20</td>\n",
       "      <td>0.92</td>\n",
       "      <td>12.8</td>\n",
       "      <td>Хорошая ситуация</td>\n",
       "    </tr>\n",
       "    <tr>\n",
       "      <th>высокие доходы</th>\n",
       "      <td>3213</td>\n",
       "      <td>236</td>\n",
       "      <td>6.84</td>\n",
       "      <td>1.28</td>\n",
       "      <td>18.7</td>\n",
       "      <td>Хорошая ситуация</td>\n",
       "    </tr>\n",
       "    <tr>\n",
       "      <th>многодетные</th>\n",
       "      <th>высокие доходы</th>\n",
       "      <td>97</td>\n",
       "      <td>5</td>\n",
       "      <td>4.90</td>\n",
       "      <td>3.22</td>\n",
       "      <td>65.7</td>\n",
       "      <td>Хорошая ситуация</td>\n",
       "    </tr>\n",
       "  </tbody>\n",
       "</table>\n",
       "</div>"
      ],
      "text/plain": [
       "debt_group                           без просрочек  с просрочкой  avg_debt_%  \\\n",
       "children_group total_income_group                                              \n",
       "многодетные    низкие доходы                    67             9       11.84   \n",
       "с 2 детьми     средние доходы                  483            56       10.39   \n",
       "               выше среднего доходы            450            52       10.36   \n",
       "с 1 ребенком   средние доходы                 1110           120        9.76   \n",
       "               выше среднего доходы           1131           121        9.66   \n",
       "               низкие доходы                  1006           107        9.61   \n",
       "с 2 детьми     низкие доходы                   486            49        9.16   \n",
       "многодетные    выше среднего доходы             87             8        8.42   \n",
       "               средние доходы                   98             9        8.41   \n",
       "без детей      средние доходы                 3305           298        8.27   \n",
       "с 2 детьми     высокие доходы                  507            45        8.15   \n",
       "без детей      выше среднего доходы           3131           267        7.86   \n",
       "с 1 ребенком   высокие доходы                 1163            97        7.70   \n",
       "без детей      низкие доходы                  3378           262        7.20   \n",
       "               высокие доходы                 3213           236        6.84   \n",
       "многодетные    высокие доходы                   97             5        4.90   \n",
       "\n",
       "debt_group                           deviation  deviation_%  \\\n",
       "children_group total_income_group                             \n",
       "многодетные    низкие доходы             -3.72        -31.4   \n",
       "с 2 детьми     средние доходы            -2.27        -21.8   \n",
       "               выше среднего доходы      -2.24        -21.6   \n",
       "с 1 ребенком   средние доходы            -1.64        -16.8   \n",
       "               выше среднего доходы      -1.54        -15.9   \n",
       "               низкие доходы             -1.49        -15.5   \n",
       "с 2 детьми     низкие доходы             -1.04        -11.4   \n",
       "многодетные    выше среднего доходы      -0.30         -3.6   \n",
       "               средние доходы            -0.29         -3.4   \n",
       "без детей      средние доходы            -0.15         -1.8   \n",
       "с 2 детьми     высокие доходы            -0.03         -0.4   \n",
       "без детей      выше среднего доходы       0.26          3.3   \n",
       "с 1 ребенком   высокие доходы             0.42          5.5   \n",
       "без детей      низкие доходы              0.92         12.8   \n",
       "               высокие доходы             1.28         18.7   \n",
       "многодетные    высокие доходы             3.22         65.7   \n",
       "\n",
       "debt_group                          category_special_case  \n",
       "children_group total_income_group                          \n",
       "многодетные    низкие доходы         Проблемная ситуация.  \n",
       "с 2 детьми     средние доходы        Проблемная ситуация.  \n",
       "               выше среднего доходы  Проблемная ситуация.  \n",
       "с 1 ребенком   средние доходы        Проблемная ситуация.  \n",
       "               выше среднего доходы  Проблемная ситуация.  \n",
       "               низкие доходы         Проблемная ситуация.  \n",
       "с 2 детьми     низкие доходы         Проблемная ситуация.  \n",
       "многодетные    выше среднего доходы  Проблемная ситуация.  \n",
       "               средние доходы        Проблемная ситуация.  \n",
       "без детей      средние доходы        Проблемная ситуация.  \n",
       "с 2 детьми     высокие доходы        Проблемная ситуация.  \n",
       "без детей      выше среднего доходы      Хорошая ситуация  \n",
       "с 1 ребенком   высокие доходы            Хорошая ситуация  \n",
       "без детей      низкие доходы             Хорошая ситуация  \n",
       "               высокие доходы            Хорошая ситуация  \n",
       "многодетные    высокие доходы            Хорошая ситуация  "
      ]
     },
     "metadata": {},
     "output_type": "display_data"
    }
   ],
   "source": [
    "#применим функцию для  комбинации основной категории с одной дополнительной\n",
    "create_combination('children_group', list_addiction_with_children_group)"
   ]
  },
  {
   "cell_type": "markdown",
   "metadata": {},
   "source": [
    "Отметим, что при комбинациях категорий \"по наличию детей\" с \"семейным статусом\" и с \"образованием\" есть критические случаи. Особые проблемные ситуации в комбинациях с \"семейным статусом\", \"рабочим статусом\" и \"целью кредита\". \n",
    "\n",
    "Положительные крайние ситуации так же есть в комбинациях с \"семейным статусом\", \"рабочим статусом\" и \"образованием\""
   ]
  },
  {
   "cell_type": "markdown",
   "metadata": {},
   "source": [
    "!Стоит заметить, все значительные отклонения, так и крайние случаи, как в положительную, так и отрицательную сторону, построены на малой выборке."
   ]
  },
  {
   "cell_type": "markdown",
   "metadata": {},
   "source": [
    "Применение комбинаций из 2х параметров, показало свою успешность и эффективность. Для расширения поля исследований, создадим функцию с формированием сводных таблиц из 3 комбинаций - одна основная и 2 дополнительных."
   ]
  },
  {
   "cell_type": "code",
   "execution_count": 51,
   "metadata": {},
   "outputs": [],
   "source": [
    "def create_combination_twice(main_group, lst):\n",
    "    '''Функция перебирает список дополнительных зависимостей lst и комбинирует их с основной зависимостью main_group'''\n",
    "    \n",
    "    for addiction_first in lst[:round(len(lst)/2)]:#перебираем список дополнительных зависимостей/категорий\n",
    "        for addiction_second in lst[round(len(lst)/2):]:\n",
    "        \n",
    "            print(f'Зависимость категорий {main_group} с {addiction_first} и {addiction_second}:') #выводим обозначение комбинации\n",
    "        \n",
    "            #сформировываем сводную таблицу\n",
    "            data_pivot = pd.pivot_table(df, index = [main_group, addiction_first, addiction_second], \\\n",
    "                            columns = 'debt_group', values = 'debt', aggfunc = 'count')\n",
    "        \n",
    "            #добавляем столбец с относительными показателями просрочки платежа\n",
    "            data_pivot['avg_debt_%'] = round(data_pivot['с просрочкой'] \\\n",
    "                / (data_pivot['с просрочкой'] + data_pivot['без просрочек']) * 100, 2)\n",
    "\n",
    "            #добавляем столбец с отклонениями от средней величины\n",
    "            data_pivot['deviation'] = round(avg_debt - data_pivot['avg_debt_%'], 2)\n",
    "            \n",
    "            \n",
    "            #добавим столбец, показывающий на сколько % отклонение от средней величины\n",
    "            data_pivot['deviation_%'] = round(data_pivot['deviation'] / data_pivot['avg_debt_%'] * 100, 1)\n",
    "            \n",
    "            \n",
    "            #применим функцию категоризации отклонений от среднего показателия\n",
    "            category_special_case(data_pivot)\n",
    "            \n",
    "            #выводим сводную таблицу на экран\n",
    "            display(data_pivot.sort_values('deviation', ascending=True))"
   ]
  },
  {
   "cell_type": "code",
   "execution_count": 52,
   "metadata": {
    "scrolled": false
   },
   "outputs": [
    {
     "name": "stdout",
     "output_type": "stream",
     "text": [
      "Зависимость категорий children_group с gender и education:\n"
     ]
    },
    {
     "data": {
      "text/html": [
       "<div>\n",
       "<style scoped>\n",
       "    .dataframe tbody tr th:only-of-type {\n",
       "        vertical-align: middle;\n",
       "    }\n",
       "\n",
       "    .dataframe tbody tr th {\n",
       "        vertical-align: top;\n",
       "    }\n",
       "\n",
       "    .dataframe thead th {\n",
       "        text-align: right;\n",
       "    }\n",
       "</style>\n",
       "<table border=\"1\" class=\"dataframe\">\n",
       "  <thead>\n",
       "    <tr style=\"text-align: right;\">\n",
       "      <th></th>\n",
       "      <th></th>\n",
       "      <th>debt_group</th>\n",
       "      <th>без просрочек</th>\n",
       "      <th>с просрочкой</th>\n",
       "      <th>avg_debt_%</th>\n",
       "      <th>deviation</th>\n",
       "      <th>deviation_%</th>\n",
       "      <th>category_special_case</th>\n",
       "    </tr>\n",
       "    <tr>\n",
       "      <th>children_group</th>\n",
       "      <th>gender</th>\n",
       "      <th>education</th>\n",
       "      <th></th>\n",
       "      <th></th>\n",
       "      <th></th>\n",
       "      <th></th>\n",
       "      <th></th>\n",
       "      <th></th>\n",
       "    </tr>\n",
       "  </thead>\n",
       "  <tbody>\n",
       "    <tr>\n",
       "      <th>с 2 детьми</th>\n",
       "      <th>f</th>\n",
       "      <th>начальное</th>\n",
       "      <td>7.0</td>\n",
       "      <td>4.0</td>\n",
       "      <td>36.36</td>\n",
       "      <td>-28.24</td>\n",
       "      <td>-77.7</td>\n",
       "      <td>Критический случай!</td>\n",
       "    </tr>\n",
       "    <tr>\n",
       "      <th>многодетные</th>\n",
       "      <th>m</th>\n",
       "      <th>неоконченное высшее</th>\n",
       "      <td>2.0</td>\n",
       "      <td>1.0</td>\n",
       "      <td>33.33</td>\n",
       "      <td>-25.21</td>\n",
       "      <td>-75.6</td>\n",
       "      <td>Критический случай!</td>\n",
       "    </tr>\n",
       "    <tr>\n",
       "      <th>с 1 ребенком</th>\n",
       "      <th>m</th>\n",
       "      <th>начальное</th>\n",
       "      <td>23.0</td>\n",
       "      <td>6.0</td>\n",
       "      <td>20.69</td>\n",
       "      <td>-12.57</td>\n",
       "      <td>-60.8</td>\n",
       "      <td>Критический случай!</td>\n",
       "    </tr>\n",
       "    <tr>\n",
       "      <th>многодетные</th>\n",
       "      <th>f</th>\n",
       "      <th>неоконченное высшее</th>\n",
       "      <td>4.0</td>\n",
       "      <td>1.0</td>\n",
       "      <td>20.00</td>\n",
       "      <td>-11.88</td>\n",
       "      <td>-59.4</td>\n",
       "      <td>Критический случай!</td>\n",
       "    </tr>\n",
       "    <tr>\n",
       "      <th rowspan=\"2\" valign=\"top\">с 2 детьми</th>\n",
       "      <th>f</th>\n",
       "      <th>неоконченное высшее</th>\n",
       "      <td>37.0</td>\n",
       "      <td>7.0</td>\n",
       "      <td>15.91</td>\n",
       "      <td>-7.79</td>\n",
       "      <td>-49.0</td>\n",
       "      <td>Особая проблемная ситуация!</td>\n",
       "    </tr>\n",
       "    <tr>\n",
       "      <th>m</th>\n",
       "      <th>начальное</th>\n",
       "      <td>12.0</td>\n",
       "      <td>2.0</td>\n",
       "      <td>14.29</td>\n",
       "      <td>-6.17</td>\n",
       "      <td>-43.2</td>\n",
       "      <td>Особая проблемная ситуация!</td>\n",
       "    </tr>\n",
       "    <tr>\n",
       "      <th rowspan=\"2\" valign=\"top\">с 1 ребенком</th>\n",
       "      <th>m</th>\n",
       "      <th>среднее</th>\n",
       "      <td>1077.0</td>\n",
       "      <td>160.0</td>\n",
       "      <td>12.93</td>\n",
       "      <td>-4.81</td>\n",
       "      <td>-37.2</td>\n",
       "      <td>Особая проблемная ситуация!</td>\n",
       "    </tr>\n",
       "    <tr>\n",
       "      <th>f</th>\n",
       "      <th>начальное</th>\n",
       "      <td>27.0</td>\n",
       "      <td>4.0</td>\n",
       "      <td>12.90</td>\n",
       "      <td>-4.78</td>\n",
       "      <td>-37.1</td>\n",
       "      <td>Особая проблемная ситуация!</td>\n",
       "    </tr>\n",
       "    <tr>\n",
       "      <th>с 2 детьми</th>\n",
       "      <th>f</th>\n",
       "      <th>среднее</th>\n",
       "      <td>756.0</td>\n",
       "      <td>109.0</td>\n",
       "      <td>12.60</td>\n",
       "      <td>-4.48</td>\n",
       "      <td>-35.6</td>\n",
       "      <td>Особая проблемная ситуация!</td>\n",
       "    </tr>\n",
       "    <tr>\n",
       "      <th>с 1 ребенком</th>\n",
       "      <th>m</th>\n",
       "      <th>неоконченное высшее</th>\n",
       "      <td>52.0</td>\n",
       "      <td>7.0</td>\n",
       "      <td>11.86</td>\n",
       "      <td>-3.74</td>\n",
       "      <td>-31.5</td>\n",
       "      <td>Проблемная ситуация.</td>\n",
       "    </tr>\n",
       "    <tr>\n",
       "      <th>без детей</th>\n",
       "      <th>m</th>\n",
       "      <th>среднее</th>\n",
       "      <td>2849.0</td>\n",
       "      <td>374.0</td>\n",
       "      <td>11.60</td>\n",
       "      <td>-3.48</td>\n",
       "      <td>-30.0</td>\n",
       "      <td>Проблемная ситуация.</td>\n",
       "    </tr>\n",
       "    <tr>\n",
       "      <th>с 1 ребенком</th>\n",
       "      <th>f</th>\n",
       "      <th>неоконченное высшее</th>\n",
       "      <td>104.0</td>\n",
       "      <td>13.0</td>\n",
       "      <td>11.11</td>\n",
       "      <td>-2.99</td>\n",
       "      <td>-26.9</td>\n",
       "      <td>Проблемная ситуация.</td>\n",
       "    </tr>\n",
       "    <tr>\n",
       "      <th>многодетные</th>\n",
       "      <th>m</th>\n",
       "      <th>среднее</th>\n",
       "      <td>96.0</td>\n",
       "      <td>11.0</td>\n",
       "      <td>10.28</td>\n",
       "      <td>-2.16</td>\n",
       "      <td>-21.0</td>\n",
       "      <td>Проблемная ситуация.</td>\n",
       "    </tr>\n",
       "    <tr>\n",
       "      <th>без детей</th>\n",
       "      <th>m</th>\n",
       "      <th>начальное</th>\n",
       "      <td>64.0</td>\n",
       "      <td>7.0</td>\n",
       "      <td>9.86</td>\n",
       "      <td>-1.74</td>\n",
       "      <td>-17.6</td>\n",
       "      <td>Проблемная ситуация.</td>\n",
       "    </tr>\n",
       "    <tr>\n",
       "      <th>с 1 ребенком</th>\n",
       "      <th>f</th>\n",
       "      <th>среднее</th>\n",
       "      <td>1868.0</td>\n",
       "      <td>183.0</td>\n",
       "      <td>8.92</td>\n",
       "      <td>-0.80</td>\n",
       "      <td>-9.0</td>\n",
       "      <td>Проблемная ситуация.</td>\n",
       "    </tr>\n",
       "    <tr>\n",
       "      <th>без детей</th>\n",
       "      <th>m</th>\n",
       "      <th>неоконченное высшее</th>\n",
       "      <td>174.0</td>\n",
       "      <td>17.0</td>\n",
       "      <td>8.90</td>\n",
       "      <td>-0.78</td>\n",
       "      <td>-8.8</td>\n",
       "      <td>Проблемная ситуация.</td>\n",
       "    </tr>\n",
       "    <tr>\n",
       "      <th>многодетные</th>\n",
       "      <th>f</th>\n",
       "      <th>среднее</th>\n",
       "      <td>150.0</td>\n",
       "      <td>14.0</td>\n",
       "      <td>8.54</td>\n",
       "      <td>-0.42</td>\n",
       "      <td>-4.9</td>\n",
       "      <td>Проблемная ситуация.</td>\n",
       "    </tr>\n",
       "    <tr>\n",
       "      <th>с 2 детьми</th>\n",
       "      <th>m</th>\n",
       "      <th>среднее</th>\n",
       "      <td>546.0</td>\n",
       "      <td>49.0</td>\n",
       "      <td>8.24</td>\n",
       "      <td>-0.12</td>\n",
       "      <td>-1.5</td>\n",
       "      <td>Проблемная ситуация.</td>\n",
       "    </tr>\n",
       "    <tr>\n",
       "      <th rowspan=\"4\" valign=\"top\">без детей</th>\n",
       "      <th rowspan=\"2\" valign=\"top\">f</th>\n",
       "      <th>неоконченное высшее</th>\n",
       "      <td>274.0</td>\n",
       "      <td>20.0</td>\n",
       "      <td>6.80</td>\n",
       "      <td>1.32</td>\n",
       "      <td>19.4</td>\n",
       "      <td>Хорошая ситуация</td>\n",
       "    </tr>\n",
       "    <tr>\n",
       "      <th>начальное</th>\n",
       "      <td>110.0</td>\n",
       "      <td>8.0</td>\n",
       "      <td>6.78</td>\n",
       "      <td>1.34</td>\n",
       "      <td>19.8</td>\n",
       "      <td>Хорошая ситуация</td>\n",
       "    </tr>\n",
       "    <tr>\n",
       "      <th>m</th>\n",
       "      <th>высшее</th>\n",
       "      <td>1009.0</td>\n",
       "      <td>73.0</td>\n",
       "      <td>6.75</td>\n",
       "      <td>1.37</td>\n",
       "      <td>20.3</td>\n",
       "      <td>Хорошая ситуация</td>\n",
       "    </tr>\n",
       "    <tr>\n",
       "      <th>f</th>\n",
       "      <th>среднее</th>\n",
       "      <td>6465.0</td>\n",
       "      <td>464.0</td>\n",
       "      <td>6.70</td>\n",
       "      <td>1.42</td>\n",
       "      <td>21.2</td>\n",
       "      <td>Хорошая ситуация</td>\n",
       "    </tr>\n",
       "    <tr>\n",
       "      <th>с 2 детьми</th>\n",
       "      <th>m</th>\n",
       "      <th>неоконченное высшее</th>\n",
       "      <td>28.0</td>\n",
       "      <td>2.0</td>\n",
       "      <td>6.67</td>\n",
       "      <td>1.45</td>\n",
       "      <td>21.7</td>\n",
       "      <td>Хорошая ситуация</td>\n",
       "    </tr>\n",
       "    <tr>\n",
       "      <th>с 1 ребенком</th>\n",
       "      <th>m</th>\n",
       "      <th>высшее</th>\n",
       "      <td>383.0</td>\n",
       "      <td>26.0</td>\n",
       "      <td>6.36</td>\n",
       "      <td>1.76</td>\n",
       "      <td>27.7</td>\n",
       "      <td>Хорошая ситуация</td>\n",
       "    </tr>\n",
       "    <tr>\n",
       "      <th>с 2 детьми</th>\n",
       "      <th>m</th>\n",
       "      <th>высшее</th>\n",
       "      <td>175.0</td>\n",
       "      <td>11.0</td>\n",
       "      <td>5.91</td>\n",
       "      <td>2.21</td>\n",
       "      <td>37.4</td>\n",
       "      <td>Хорошая ситуация</td>\n",
       "    </tr>\n",
       "    <tr>\n",
       "      <th>многодетные</th>\n",
       "      <th>f</th>\n",
       "      <th>высшее</th>\n",
       "      <td>55.0</td>\n",
       "      <td>3.0</td>\n",
       "      <td>5.17</td>\n",
       "      <td>2.95</td>\n",
       "      <td>57.1</td>\n",
       "      <td>Хорошая ситуация</td>\n",
       "    </tr>\n",
       "    <tr>\n",
       "      <th>с 1 ребенком</th>\n",
       "      <th>f</th>\n",
       "      <th>высшее</th>\n",
       "      <td>875.0</td>\n",
       "      <td>46.0</td>\n",
       "      <td>4.99</td>\n",
       "      <td>3.13</td>\n",
       "      <td>62.7</td>\n",
       "      <td>Хорошая ситуация</td>\n",
       "    </tr>\n",
       "    <tr>\n",
       "      <th>с 2 детьми</th>\n",
       "      <th>f</th>\n",
       "      <th>высшее</th>\n",
       "      <td>365.0</td>\n",
       "      <td>18.0</td>\n",
       "      <td>4.70</td>\n",
       "      <td>3.42</td>\n",
       "      <td>72.8</td>\n",
       "      <td>Хорошая ситуация</td>\n",
       "    </tr>\n",
       "    <tr>\n",
       "      <th>без детей</th>\n",
       "      <th>f</th>\n",
       "      <th>высшее</th>\n",
       "      <td>2077.0</td>\n",
       "      <td>100.0</td>\n",
       "      <td>4.59</td>\n",
       "      <td>3.53</td>\n",
       "      <td>76.9</td>\n",
       "      <td>Хорошая ситуация</td>\n",
       "    </tr>\n",
       "    <tr>\n",
       "      <th>многодетные</th>\n",
       "      <th>m</th>\n",
       "      <th>высшее</th>\n",
       "      <td>33.0</td>\n",
       "      <td>1.0</td>\n",
       "      <td>2.94</td>\n",
       "      <td>5.18</td>\n",
       "      <td>176.2</td>\n",
       "      <td>Хорошая ситуация</td>\n",
       "    </tr>\n",
       "    <tr>\n",
       "      <th rowspan=\"3\" valign=\"top\">без детей</th>\n",
       "      <th>f</th>\n",
       "      <th>ученая степень</th>\n",
       "      <td>1.0</td>\n",
       "      <td>NaN</td>\n",
       "      <td>NaN</td>\n",
       "      <td>NaN</td>\n",
       "      <td>NaN</td>\n",
       "      <td>Крайние значения</td>\n",
       "    </tr>\n",
       "    <tr>\n",
       "      <th>m</th>\n",
       "      <th>ученая степень</th>\n",
       "      <td>3.0</td>\n",
       "      <td>NaN</td>\n",
       "      <td>NaN</td>\n",
       "      <td>NaN</td>\n",
       "      <td>NaN</td>\n",
       "      <td>Крайние значения</td>\n",
       "    </tr>\n",
       "    <tr>\n",
       "      <th>xna</th>\n",
       "      <th>неоконченное высшее</th>\n",
       "      <td>1.0</td>\n",
       "      <td>NaN</td>\n",
       "      <td>NaN</td>\n",
       "      <td>NaN</td>\n",
       "      <td>NaN</td>\n",
       "      <td>Крайние значения</td>\n",
       "    </tr>\n",
       "    <tr>\n",
       "      <th rowspan=\"3\" valign=\"top\">многодетные</th>\n",
       "      <th rowspan=\"2\" valign=\"top\">f</th>\n",
       "      <th>начальное</th>\n",
       "      <td>3.0</td>\n",
       "      <td>NaN</td>\n",
       "      <td>NaN</td>\n",
       "      <td>NaN</td>\n",
       "      <td>NaN</td>\n",
       "      <td>Крайние значения</td>\n",
       "    </tr>\n",
       "    <tr>\n",
       "      <th>ученая степень</th>\n",
       "      <td>1.0</td>\n",
       "      <td>NaN</td>\n",
       "      <td>NaN</td>\n",
       "      <td>NaN</td>\n",
       "      <td>NaN</td>\n",
       "      <td>Крайние значения</td>\n",
       "    </tr>\n",
       "    <tr>\n",
       "      <th>m</th>\n",
       "      <th>начальное</th>\n",
       "      <td>5.0</td>\n",
       "      <td>NaN</td>\n",
       "      <td>NaN</td>\n",
       "      <td>NaN</td>\n",
       "      <td>NaN</td>\n",
       "      <td>Крайние значения</td>\n",
       "    </tr>\n",
       "    <tr>\n",
       "      <th>с 1 ребенком</th>\n",
       "      <th>m</th>\n",
       "      <th>ученая степень</th>\n",
       "      <td>1.0</td>\n",
       "      <td>NaN</td>\n",
       "      <td>NaN</td>\n",
       "      <td>NaN</td>\n",
       "      <td>NaN</td>\n",
       "      <td>Крайние значения</td>\n",
       "    </tr>\n",
       "  </tbody>\n",
       "</table>\n",
       "</div>"
      ],
      "text/plain": [
       "debt_group                                 без просрочек  с просрочкой  \\\n",
       "children_group gender education                                          \n",
       "с 2 детьми     f      начальное                      7.0           4.0   \n",
       "многодетные    m      неоконченное высшее            2.0           1.0   \n",
       "с 1 ребенком   m      начальное                     23.0           6.0   \n",
       "многодетные    f      неоконченное высшее            4.0           1.0   \n",
       "с 2 детьми     f      неоконченное высшее           37.0           7.0   \n",
       "               m      начальное                     12.0           2.0   \n",
       "с 1 ребенком   m      среднее                     1077.0         160.0   \n",
       "               f      начальное                     27.0           4.0   \n",
       "с 2 детьми     f      среднее                      756.0         109.0   \n",
       "с 1 ребенком   m      неоконченное высшее           52.0           7.0   \n",
       "без детей      m      среднее                     2849.0         374.0   \n",
       "с 1 ребенком   f      неоконченное высшее          104.0          13.0   \n",
       "многодетные    m      среднее                       96.0          11.0   \n",
       "без детей      m      начальное                     64.0           7.0   \n",
       "с 1 ребенком   f      среднее                     1868.0         183.0   \n",
       "без детей      m      неоконченное высшее          174.0          17.0   \n",
       "многодетные    f      среднее                      150.0          14.0   \n",
       "с 2 детьми     m      среднее                      546.0          49.0   \n",
       "без детей      f      неоконченное высшее          274.0          20.0   \n",
       "                      начальное                    110.0           8.0   \n",
       "               m      высшее                      1009.0          73.0   \n",
       "               f      среднее                     6465.0         464.0   \n",
       "с 2 детьми     m      неоконченное высшее           28.0           2.0   \n",
       "с 1 ребенком   m      высшее                       383.0          26.0   \n",
       "с 2 детьми     m      высшее                       175.0          11.0   \n",
       "многодетные    f      высшее                        55.0           3.0   \n",
       "с 1 ребенком   f      высшее                       875.0          46.0   \n",
       "с 2 детьми     f      высшее                       365.0          18.0   \n",
       "без детей      f      высшее                      2077.0         100.0   \n",
       "многодетные    m      высшее                        33.0           1.0   \n",
       "без детей      f      ученая степень                 1.0           NaN   \n",
       "               m      ученая степень                 3.0           NaN   \n",
       "               xna    неоконченное высшее            1.0           NaN   \n",
       "многодетные    f      начальное                      3.0           NaN   \n",
       "                      ученая степень                 1.0           NaN   \n",
       "               m      начальное                      5.0           NaN   \n",
       "с 1 ребенком   m      ученая степень                 1.0           NaN   \n",
       "\n",
       "debt_group                                 avg_debt_%  deviation  deviation_%  \\\n",
       "children_group gender education                                                 \n",
       "с 2 детьми     f      начальное                 36.36     -28.24        -77.7   \n",
       "многодетные    m      неоконченное высшее       33.33     -25.21        -75.6   \n",
       "с 1 ребенком   m      начальное                 20.69     -12.57        -60.8   \n",
       "многодетные    f      неоконченное высшее       20.00     -11.88        -59.4   \n",
       "с 2 детьми     f      неоконченное высшее       15.91      -7.79        -49.0   \n",
       "               m      начальное                 14.29      -6.17        -43.2   \n",
       "с 1 ребенком   m      среднее                   12.93      -4.81        -37.2   \n",
       "               f      начальное                 12.90      -4.78        -37.1   \n",
       "с 2 детьми     f      среднее                   12.60      -4.48        -35.6   \n",
       "с 1 ребенком   m      неоконченное высшее       11.86      -3.74        -31.5   \n",
       "без детей      m      среднее                   11.60      -3.48        -30.0   \n",
       "с 1 ребенком   f      неоконченное высшее       11.11      -2.99        -26.9   \n",
       "многодетные    m      среднее                   10.28      -2.16        -21.0   \n",
       "без детей      m      начальное                  9.86      -1.74        -17.6   \n",
       "с 1 ребенком   f      среднее                    8.92      -0.80         -9.0   \n",
       "без детей      m      неоконченное высшее        8.90      -0.78         -8.8   \n",
       "многодетные    f      среднее                    8.54      -0.42         -4.9   \n",
       "с 2 детьми     m      среднее                    8.24      -0.12         -1.5   \n",
       "без детей      f      неоконченное высшее        6.80       1.32         19.4   \n",
       "                      начальное                  6.78       1.34         19.8   \n",
       "               m      высшее                     6.75       1.37         20.3   \n",
       "               f      среднее                    6.70       1.42         21.2   \n",
       "с 2 детьми     m      неоконченное высшее        6.67       1.45         21.7   \n",
       "с 1 ребенком   m      высшее                     6.36       1.76         27.7   \n",
       "с 2 детьми     m      высшее                     5.91       2.21         37.4   \n",
       "многодетные    f      высшее                     5.17       2.95         57.1   \n",
       "с 1 ребенком   f      высшее                     4.99       3.13         62.7   \n",
       "с 2 детьми     f      высшее                     4.70       3.42         72.8   \n",
       "без детей      f      высшее                     4.59       3.53         76.9   \n",
       "многодетные    m      высшее                     2.94       5.18        176.2   \n",
       "без детей      f      ученая степень              NaN        NaN          NaN   \n",
       "               m      ученая степень              NaN        NaN          NaN   \n",
       "               xna    неоконченное высшее         NaN        NaN          NaN   \n",
       "многодетные    f      начальное                   NaN        NaN          NaN   \n",
       "                      ученая степень              NaN        NaN          NaN   \n",
       "               m      начальное                   NaN        NaN          NaN   \n",
       "с 1 ребенком   m      ученая степень              NaN        NaN          NaN   \n",
       "\n",
       "debt_group                                       category_special_case  \n",
       "children_group gender education                                         \n",
       "с 2 детьми     f      начальное                    Критический случай!  \n",
       "многодетные    m      неоконченное высшее          Критический случай!  \n",
       "с 1 ребенком   m      начальное                    Критический случай!  \n",
       "многодетные    f      неоконченное высшее          Критический случай!  \n",
       "с 2 детьми     f      неоконченное высшее  Особая проблемная ситуация!  \n",
       "               m      начальное            Особая проблемная ситуация!  \n",
       "с 1 ребенком   m      среднее              Особая проблемная ситуация!  \n",
       "               f      начальное            Особая проблемная ситуация!  \n",
       "с 2 детьми     f      среднее              Особая проблемная ситуация!  \n",
       "с 1 ребенком   m      неоконченное высшее         Проблемная ситуация.  \n",
       "без детей      m      среднее                     Проблемная ситуация.  \n",
       "с 1 ребенком   f      неоконченное высшее         Проблемная ситуация.  \n",
       "многодетные    m      среднее                     Проблемная ситуация.  \n",
       "без детей      m      начальное                   Проблемная ситуация.  \n",
       "с 1 ребенком   f      среднее                     Проблемная ситуация.  \n",
       "без детей      m      неоконченное высшее         Проблемная ситуация.  \n",
       "многодетные    f      среднее                     Проблемная ситуация.  \n",
       "с 2 детьми     m      среднее                     Проблемная ситуация.  \n",
       "без детей      f      неоконченное высшее             Хорошая ситуация  \n",
       "                      начальное                       Хорошая ситуация  \n",
       "               m      высшее                          Хорошая ситуация  \n",
       "               f      среднее                         Хорошая ситуация  \n",
       "с 2 детьми     m      неоконченное высшее             Хорошая ситуация  \n",
       "с 1 ребенком   m      высшее                          Хорошая ситуация  \n",
       "с 2 детьми     m      высшее                          Хорошая ситуация  \n",
       "многодетные    f      высшее                          Хорошая ситуация  \n",
       "с 1 ребенком   f      высшее                          Хорошая ситуация  \n",
       "с 2 детьми     f      высшее                          Хорошая ситуация  \n",
       "без детей      f      высшее                          Хорошая ситуация  \n",
       "многодетные    m      высшее                          Хорошая ситуация  \n",
       "без детей      f      ученая степень                  Крайние значения  \n",
       "               m      ученая степень                  Крайние значения  \n",
       "               xna    неоконченное высшее             Крайние значения  \n",
       "многодетные    f      начальное                       Крайние значения  \n",
       "                      ученая степень                  Крайние значения  \n",
       "               m      начальное                       Крайние значения  \n",
       "с 1 ребенком   m      ученая степень                  Крайние значения  "
      ]
     },
     "metadata": {},
     "output_type": "display_data"
    },
    {
     "name": "stdout",
     "output_type": "stream",
     "text": [
      "Зависимость категорий children_group с gender и purpose_lemma:\n"
     ]
    },
    {
     "data": {
      "text/html": [
       "<div>\n",
       "<style scoped>\n",
       "    .dataframe tbody tr th:only-of-type {\n",
       "        vertical-align: middle;\n",
       "    }\n",
       "\n",
       "    .dataframe tbody tr th {\n",
       "        vertical-align: top;\n",
       "    }\n",
       "\n",
       "    .dataframe thead th {\n",
       "        text-align: right;\n",
       "    }\n",
       "</style>\n",
       "<table border=\"1\" class=\"dataframe\">\n",
       "  <thead>\n",
       "    <tr style=\"text-align: right;\">\n",
       "      <th></th>\n",
       "      <th></th>\n",
       "      <th>debt_group</th>\n",
       "      <th>без просрочек</th>\n",
       "      <th>с просрочкой</th>\n",
       "      <th>avg_debt_%</th>\n",
       "      <th>deviation</th>\n",
       "      <th>deviation_%</th>\n",
       "      <th>category_special_case</th>\n",
       "    </tr>\n",
       "    <tr>\n",
       "      <th>children_group</th>\n",
       "      <th>gender</th>\n",
       "      <th>purpose_lemma</th>\n",
       "      <th></th>\n",
       "      <th></th>\n",
       "      <th></th>\n",
       "      <th></th>\n",
       "      <th></th>\n",
       "      <th></th>\n",
       "    </tr>\n",
       "  </thead>\n",
       "  <tbody>\n",
       "    <tr>\n",
       "      <th>многодетные</th>\n",
       "      <th>f</th>\n",
       "      <th>на свадьбу</th>\n",
       "      <td>17.0</td>\n",
       "      <td>4.0</td>\n",
       "      <td>19.05</td>\n",
       "      <td>-10.93</td>\n",
       "      <td>-57.4</td>\n",
       "      <td>Критический случай!</td>\n",
       "    </tr>\n",
       "    <tr>\n",
       "      <th>с 2 детьми</th>\n",
       "      <th>f</th>\n",
       "      <th>на автомобиль</th>\n",
       "      <td>215.0</td>\n",
       "      <td>34.0</td>\n",
       "      <td>13.65</td>\n",
       "      <td>-5.53</td>\n",
       "      <td>-40.5</td>\n",
       "      <td>Особая проблемная ситуация!</td>\n",
       "    </tr>\n",
       "    <tr>\n",
       "      <th rowspan=\"2\" valign=\"top\">с 1 ребенком</th>\n",
       "      <th rowspan=\"2\" valign=\"top\">m</th>\n",
       "      <th>на образование</th>\n",
       "      <td>256.0</td>\n",
       "      <td>38.0</td>\n",
       "      <td>12.93</td>\n",
       "      <td>-4.81</td>\n",
       "      <td>-37.2</td>\n",
       "      <td>Особая проблемная ситуация!</td>\n",
       "    </tr>\n",
       "    <tr>\n",
       "      <th>на свадьбу</th>\n",
       "      <td>177.0</td>\n",
       "      <td>26.0</td>\n",
       "      <td>12.81</td>\n",
       "      <td>-4.69</td>\n",
       "      <td>-36.6</td>\n",
       "      <td>Особая проблемная ситуация!</td>\n",
       "    </tr>\n",
       "    <tr>\n",
       "      <th>без детей</th>\n",
       "      <th>m</th>\n",
       "      <th>на образование</th>\n",
       "      <td>743.0</td>\n",
       "      <td>108.0</td>\n",
       "      <td>12.69</td>\n",
       "      <td>-4.57</td>\n",
       "      <td>-36.0</td>\n",
       "      <td>Особая проблемная ситуация!</td>\n",
       "    </tr>\n",
       "    <tr>\n",
       "      <th>с 1 ребенком</th>\n",
       "      <th>m</th>\n",
       "      <th>на автомобиль</th>\n",
       "      <td>311.0</td>\n",
       "      <td>45.0</td>\n",
       "      <td>12.64</td>\n",
       "      <td>-4.52</td>\n",
       "      <td>-35.8</td>\n",
       "      <td>Особая проблемная ситуация!</td>\n",
       "    </tr>\n",
       "    <tr>\n",
       "      <th>с 2 детьми</th>\n",
       "      <th>f</th>\n",
       "      <th>на образование</th>\n",
       "      <td>219.0</td>\n",
       "      <td>31.0</td>\n",
       "      <td>12.40</td>\n",
       "      <td>-4.28</td>\n",
       "      <td>-34.5</td>\n",
       "      <td>Особая проблемная ситуация!</td>\n",
       "    </tr>\n",
       "    <tr>\n",
       "      <th>многодетные</th>\n",
       "      <th>m</th>\n",
       "      <th>на автомобиль</th>\n",
       "      <td>22.0</td>\n",
       "      <td>3.0</td>\n",
       "      <td>12.00</td>\n",
       "      <td>-3.88</td>\n",
       "      <td>-32.3</td>\n",
       "      <td>Проблемная ситуация.</td>\n",
       "    </tr>\n",
       "    <tr>\n",
       "      <th>без детей</th>\n",
       "      <th>m</th>\n",
       "      <th>на автомобиль</th>\n",
       "      <td>795.0</td>\n",
       "      <td>104.0</td>\n",
       "      <td>11.57</td>\n",
       "      <td>-3.45</td>\n",
       "      <td>-29.8</td>\n",
       "      <td>Проблемная ситуация.</td>\n",
       "    </tr>\n",
       "    <tr>\n",
       "      <th>многодетные</th>\n",
       "      <th>m</th>\n",
       "      <th>на недвижимость</th>\n",
       "      <td>68.0</td>\n",
       "      <td>8.0</td>\n",
       "      <td>10.53</td>\n",
       "      <td>-2.41</td>\n",
       "      <td>-22.9</td>\n",
       "      <td>Проблемная ситуация.</td>\n",
       "    </tr>\n",
       "    <tr>\n",
       "      <th>с 1 ребенком</th>\n",
       "      <th>m</th>\n",
       "      <th>на недвижимость</th>\n",
       "      <td>792.0</td>\n",
       "      <td>90.0</td>\n",
       "      <td>10.20</td>\n",
       "      <td>-2.08</td>\n",
       "      <td>-20.4</td>\n",
       "      <td>Проблемная ситуация.</td>\n",
       "    </tr>\n",
       "    <tr>\n",
       "      <th>без детей</th>\n",
       "      <th>m</th>\n",
       "      <th>на свадьбу</th>\n",
       "      <td>424.0</td>\n",
       "      <td>47.0</td>\n",
       "      <td>9.98</td>\n",
       "      <td>-1.86</td>\n",
       "      <td>-18.6</td>\n",
       "      <td>Проблемная ситуация.</td>\n",
       "    </tr>\n",
       "    <tr>\n",
       "      <th>с 2 детьми</th>\n",
       "      <th>m</th>\n",
       "      <th>на автомобиль</th>\n",
       "      <td>150.0</td>\n",
       "      <td>16.0</td>\n",
       "      <td>9.64</td>\n",
       "      <td>-1.52</td>\n",
       "      <td>-15.8</td>\n",
       "      <td>Проблемная ситуация.</td>\n",
       "    </tr>\n",
       "    <tr>\n",
       "      <th>с 1 ребенком</th>\n",
       "      <th>f</th>\n",
       "      <th>на автомобиль</th>\n",
       "      <td>559.0</td>\n",
       "      <td>59.0</td>\n",
       "      <td>9.55</td>\n",
       "      <td>-1.43</td>\n",
       "      <td>-15.0</td>\n",
       "      <td>Проблемная ситуация.</td>\n",
       "    </tr>\n",
       "    <tr>\n",
       "      <th rowspan=\"2\" valign=\"top\">с 2 детьми</th>\n",
       "      <th>m</th>\n",
       "      <th>на образование</th>\n",
       "      <td>152.0</td>\n",
       "      <td>16.0</td>\n",
       "      <td>9.52</td>\n",
       "      <td>-1.40</td>\n",
       "      <td>-14.7</td>\n",
       "      <td>Проблемная ситуация.</td>\n",
       "    </tr>\n",
       "    <tr>\n",
       "      <th>f</th>\n",
       "      <th>на недвижимость</th>\n",
       "      <td>591.0</td>\n",
       "      <td>62.0</td>\n",
       "      <td>9.49</td>\n",
       "      <td>-1.37</td>\n",
       "      <td>-14.4</td>\n",
       "      <td>Проблемная ситуация.</td>\n",
       "    </tr>\n",
       "    <tr>\n",
       "      <th>без детей</th>\n",
       "      <th>m</th>\n",
       "      <th>на недвижимость</th>\n",
       "      <td>2137.0</td>\n",
       "      <td>212.0</td>\n",
       "      <td>9.03</td>\n",
       "      <td>-0.91</td>\n",
       "      <td>-10.1</td>\n",
       "      <td>Проблемная ситуация.</td>\n",
       "    </tr>\n",
       "    <tr>\n",
       "      <th rowspan=\"2\" valign=\"top\">с 1 ребенком</th>\n",
       "      <th rowspan=\"2\" valign=\"top\">f</th>\n",
       "      <th>на образование</th>\n",
       "      <td>530.0</td>\n",
       "      <td>52.0</td>\n",
       "      <td>8.93</td>\n",
       "      <td>-0.81</td>\n",
       "      <td>-9.1</td>\n",
       "      <td>Проблемная ситуация.</td>\n",
       "    </tr>\n",
       "    <tr>\n",
       "      <th>на свадьбу</th>\n",
       "      <td>306.0</td>\n",
       "      <td>25.0</td>\n",
       "      <td>7.55</td>\n",
       "      <td>0.57</td>\n",
       "      <td>7.5</td>\n",
       "      <td>Хорошая ситуация</td>\n",
       "    </tr>\n",
       "    <tr>\n",
       "      <th>с 2 детьми</th>\n",
       "      <th>f</th>\n",
       "      <th>на свадьбу</th>\n",
       "      <td>140.0</td>\n",
       "      <td>11.0</td>\n",
       "      <td>7.28</td>\n",
       "      <td>0.84</td>\n",
       "      <td>11.5</td>\n",
       "      <td>Хорошая ситуация</td>\n",
       "    </tr>\n",
       "    <tr>\n",
       "      <th>без детей</th>\n",
       "      <th>f</th>\n",
       "      <th>на автомобиль</th>\n",
       "      <td>1806.0</td>\n",
       "      <td>139.0</td>\n",
       "      <td>7.15</td>\n",
       "      <td>0.97</td>\n",
       "      <td>13.6</td>\n",
       "      <td>Хорошая ситуация</td>\n",
       "    </tr>\n",
       "    <tr>\n",
       "      <th>с 1 ребенком</th>\n",
       "      <th>f</th>\n",
       "      <th>на недвижимость</th>\n",
       "      <td>1479.0</td>\n",
       "      <td>110.0</td>\n",
       "      <td>6.92</td>\n",
       "      <td>1.20</td>\n",
       "      <td>17.3</td>\n",
       "      <td>Хорошая ситуация</td>\n",
       "    </tr>\n",
       "    <tr>\n",
       "      <th>многодетные</th>\n",
       "      <th>f</th>\n",
       "      <th>на образование</th>\n",
       "      <td>41.0</td>\n",
       "      <td>3.0</td>\n",
       "      <td>6.82</td>\n",
       "      <td>1.30</td>\n",
       "      <td>19.1</td>\n",
       "      <td>Хорошая ситуация</td>\n",
       "    </tr>\n",
       "    <tr>\n",
       "      <th>без детей</th>\n",
       "      <th>f</th>\n",
       "      <th>на образование</th>\n",
       "      <td>1670.0</td>\n",
       "      <td>121.0</td>\n",
       "      <td>6.76</td>\n",
       "      <td>1.36</td>\n",
       "      <td>20.1</td>\n",
       "      <td>Хорошая ситуация</td>\n",
       "    </tr>\n",
       "    <tr>\n",
       "      <th>многодетные</th>\n",
       "      <th>f</th>\n",
       "      <th>на недвижимость</th>\n",
       "      <td>111.0</td>\n",
       "      <td>8.0</td>\n",
       "      <td>6.72</td>\n",
       "      <td>1.40</td>\n",
       "      <td>20.8</td>\n",
       "      <td>Хорошая ситуация</td>\n",
       "    </tr>\n",
       "    <tr>\n",
       "      <th>с 2 детьми</th>\n",
       "      <th>m</th>\n",
       "      <th>на недвижимость</th>\n",
       "      <td>390.0</td>\n",
       "      <td>28.0</td>\n",
       "      <td>6.70</td>\n",
       "      <td>1.42</td>\n",
       "      <td>21.2</td>\n",
       "      <td>Хорошая ситуация</td>\n",
       "    </tr>\n",
       "    <tr>\n",
       "      <th>многодетные</th>\n",
       "      <th>m</th>\n",
       "      <th>на свадьбу</th>\n",
       "      <td>14.0</td>\n",
       "      <td>1.0</td>\n",
       "      <td>6.67</td>\n",
       "      <td>1.45</td>\n",
       "      <td>21.7</td>\n",
       "      <td>Хорошая ситуация</td>\n",
       "    </tr>\n",
       "    <tr>\n",
       "      <th>без детей</th>\n",
       "      <th>f</th>\n",
       "      <th>на свадьбу</th>\n",
       "      <td>991.0</td>\n",
       "      <td>68.0</td>\n",
       "      <td>6.42</td>\n",
       "      <td>1.70</td>\n",
       "      <td>26.5</td>\n",
       "      <td>Хорошая ситуация</td>\n",
       "    </tr>\n",
       "    <tr>\n",
       "      <th>многодетные</th>\n",
       "      <th>f</th>\n",
       "      <th>на автомобиль</th>\n",
       "      <td>44.0</td>\n",
       "      <td>3.0</td>\n",
       "      <td>6.38</td>\n",
       "      <td>1.74</td>\n",
       "      <td>27.3</td>\n",
       "      <td>Хорошая ситуация</td>\n",
       "    </tr>\n",
       "    <tr>\n",
       "      <th>без детей</th>\n",
       "      <th>f</th>\n",
       "      <th>на недвижимость</th>\n",
       "      <td>4460.0</td>\n",
       "      <td>264.0</td>\n",
       "      <td>5.59</td>\n",
       "      <td>2.53</td>\n",
       "      <td>45.3</td>\n",
       "      <td>Хорошая ситуация</td>\n",
       "    </tr>\n",
       "    <tr>\n",
       "      <th>с 2 детьми</th>\n",
       "      <th>m</th>\n",
       "      <th>на свадьбу</th>\n",
       "      <td>69.0</td>\n",
       "      <td>4.0</td>\n",
       "      <td>5.48</td>\n",
       "      <td>2.64</td>\n",
       "      <td>48.2</td>\n",
       "      <td>Хорошая ситуация</td>\n",
       "    </tr>\n",
       "    <tr>\n",
       "      <th>многодетные</th>\n",
       "      <th>m</th>\n",
       "      <th>на образование</th>\n",
       "      <td>32.0</td>\n",
       "      <td>1.0</td>\n",
       "      <td>3.03</td>\n",
       "      <td>5.09</td>\n",
       "      <td>168.0</td>\n",
       "      <td>Хорошая ситуация</td>\n",
       "    </tr>\n",
       "    <tr>\n",
       "      <th>без детей</th>\n",
       "      <th>xna</th>\n",
       "      <th>на недвижимость</th>\n",
       "      <td>1.0</td>\n",
       "      <td>NaN</td>\n",
       "      <td>NaN</td>\n",
       "      <td>NaN</td>\n",
       "      <td>NaN</td>\n",
       "      <td>Крайние значения</td>\n",
       "    </tr>\n",
       "  </tbody>\n",
       "</table>\n",
       "</div>"
      ],
      "text/plain": [
       "debt_group                             без просрочек  с просрочкой  \\\n",
       "children_group gender purpose_lemma                                  \n",
       "многодетные    f      на свадьбу                17.0           4.0   \n",
       "с 2 детьми     f      на автомобиль            215.0          34.0   \n",
       "с 1 ребенком   m      на образование           256.0          38.0   \n",
       "                      на свадьбу               177.0          26.0   \n",
       "без детей      m      на образование           743.0         108.0   \n",
       "с 1 ребенком   m      на автомобиль            311.0          45.0   \n",
       "с 2 детьми     f      на образование           219.0          31.0   \n",
       "многодетные    m      на автомобиль             22.0           3.0   \n",
       "без детей      m      на автомобиль            795.0         104.0   \n",
       "многодетные    m      на недвижимость           68.0           8.0   \n",
       "с 1 ребенком   m      на недвижимость          792.0          90.0   \n",
       "без детей      m      на свадьбу               424.0          47.0   \n",
       "с 2 детьми     m      на автомобиль            150.0          16.0   \n",
       "с 1 ребенком   f      на автомобиль            559.0          59.0   \n",
       "с 2 детьми     m      на образование           152.0          16.0   \n",
       "               f      на недвижимость          591.0          62.0   \n",
       "без детей      m      на недвижимость         2137.0         212.0   \n",
       "с 1 ребенком   f      на образование           530.0          52.0   \n",
       "                      на свадьбу               306.0          25.0   \n",
       "с 2 детьми     f      на свадьбу               140.0          11.0   \n",
       "без детей      f      на автомобиль           1806.0         139.0   \n",
       "с 1 ребенком   f      на недвижимость         1479.0         110.0   \n",
       "многодетные    f      на образование            41.0           3.0   \n",
       "без детей      f      на образование          1670.0         121.0   \n",
       "многодетные    f      на недвижимость          111.0           8.0   \n",
       "с 2 детьми     m      на недвижимость          390.0          28.0   \n",
       "многодетные    m      на свадьбу                14.0           1.0   \n",
       "без детей      f      на свадьбу               991.0          68.0   \n",
       "многодетные    f      на автомобиль             44.0           3.0   \n",
       "без детей      f      на недвижимость         4460.0         264.0   \n",
       "с 2 детьми     m      на свадьбу                69.0           4.0   \n",
       "многодетные    m      на образование            32.0           1.0   \n",
       "без детей      xna    на недвижимость            1.0           NaN   \n",
       "\n",
       "debt_group                             avg_debt_%  deviation  deviation_%  \\\n",
       "children_group gender purpose_lemma                                         \n",
       "многодетные    f      на свадьбу            19.05     -10.93        -57.4   \n",
       "с 2 детьми     f      на автомобиль         13.65      -5.53        -40.5   \n",
       "с 1 ребенком   m      на образование        12.93      -4.81        -37.2   \n",
       "                      на свадьбу            12.81      -4.69        -36.6   \n",
       "без детей      m      на образование        12.69      -4.57        -36.0   \n",
       "с 1 ребенком   m      на автомобиль         12.64      -4.52        -35.8   \n",
       "с 2 детьми     f      на образование        12.40      -4.28        -34.5   \n",
       "многодетные    m      на автомобиль         12.00      -3.88        -32.3   \n",
       "без детей      m      на автомобиль         11.57      -3.45        -29.8   \n",
       "многодетные    m      на недвижимость       10.53      -2.41        -22.9   \n",
       "с 1 ребенком   m      на недвижимость       10.20      -2.08        -20.4   \n",
       "без детей      m      на свадьбу             9.98      -1.86        -18.6   \n",
       "с 2 детьми     m      на автомобиль          9.64      -1.52        -15.8   \n",
       "с 1 ребенком   f      на автомобиль          9.55      -1.43        -15.0   \n",
       "с 2 детьми     m      на образование         9.52      -1.40        -14.7   \n",
       "               f      на недвижимость        9.49      -1.37        -14.4   \n",
       "без детей      m      на недвижимость        9.03      -0.91        -10.1   \n",
       "с 1 ребенком   f      на образование         8.93      -0.81         -9.1   \n",
       "                      на свадьбу             7.55       0.57          7.5   \n",
       "с 2 детьми     f      на свадьбу             7.28       0.84         11.5   \n",
       "без детей      f      на автомобиль          7.15       0.97         13.6   \n",
       "с 1 ребенком   f      на недвижимость        6.92       1.20         17.3   \n",
       "многодетные    f      на образование         6.82       1.30         19.1   \n",
       "без детей      f      на образование         6.76       1.36         20.1   \n",
       "многодетные    f      на недвижимость        6.72       1.40         20.8   \n",
       "с 2 детьми     m      на недвижимость        6.70       1.42         21.2   \n",
       "многодетные    m      на свадьбу             6.67       1.45         21.7   \n",
       "без детей      f      на свадьбу             6.42       1.70         26.5   \n",
       "многодетные    f      на автомобиль          6.38       1.74         27.3   \n",
       "без детей      f      на недвижимость        5.59       2.53         45.3   \n",
       "с 2 детьми     m      на свадьбу             5.48       2.64         48.2   \n",
       "многодетные    m      на образование         3.03       5.09        168.0   \n",
       "без детей      xna    на недвижимость         NaN        NaN          NaN   \n",
       "\n",
       "debt_group                                   category_special_case  \n",
       "children_group gender purpose_lemma                                 \n",
       "многодетные    f      на свадьбу               Критический случай!  \n",
       "с 2 детьми     f      на автомобиль    Особая проблемная ситуация!  \n",
       "с 1 ребенком   m      на образование   Особая проблемная ситуация!  \n",
       "                      на свадьбу       Особая проблемная ситуация!  \n",
       "без детей      m      на образование   Особая проблемная ситуация!  \n",
       "с 1 ребенком   m      на автомобиль    Особая проблемная ситуация!  \n",
       "с 2 детьми     f      на образование   Особая проблемная ситуация!  \n",
       "многодетные    m      на автомобиль           Проблемная ситуация.  \n",
       "без детей      m      на автомобиль           Проблемная ситуация.  \n",
       "многодетные    m      на недвижимость         Проблемная ситуация.  \n",
       "с 1 ребенком   m      на недвижимость         Проблемная ситуация.  \n",
       "без детей      m      на свадьбу              Проблемная ситуация.  \n",
       "с 2 детьми     m      на автомобиль           Проблемная ситуация.  \n",
       "с 1 ребенком   f      на автомобиль           Проблемная ситуация.  \n",
       "с 2 детьми     m      на образование          Проблемная ситуация.  \n",
       "               f      на недвижимость         Проблемная ситуация.  \n",
       "без детей      m      на недвижимость         Проблемная ситуация.  \n",
       "с 1 ребенком   f      на образование          Проблемная ситуация.  \n",
       "                      на свадьбу                  Хорошая ситуация  \n",
       "с 2 детьми     f      на свадьбу                  Хорошая ситуация  \n",
       "без детей      f      на автомобиль               Хорошая ситуация  \n",
       "с 1 ребенком   f      на недвижимость             Хорошая ситуация  \n",
       "многодетные    f      на образование              Хорошая ситуация  \n",
       "без детей      f      на образование              Хорошая ситуация  \n",
       "многодетные    f      на недвижимость             Хорошая ситуация  \n",
       "с 2 детьми     m      на недвижимость             Хорошая ситуация  \n",
       "многодетные    m      на свадьбу                  Хорошая ситуация  \n",
       "без детей      f      на свадьбу                  Хорошая ситуация  \n",
       "многодетные    f      на автомобиль               Хорошая ситуация  \n",
       "без детей      f      на недвижимость             Хорошая ситуация  \n",
       "с 2 детьми     m      на свадьбу                  Хорошая ситуация  \n",
       "многодетные    m      на образование              Хорошая ситуация  \n",
       "без детей      xna    на недвижимость             Крайние значения  "
      ]
     },
     "metadata": {},
     "output_type": "display_data"
    },
    {
     "name": "stdout",
     "output_type": "stream",
     "text": [
      "Зависимость категорий children_group с gender и total_income_group:\n"
     ]
    },
    {
     "data": {
      "text/html": [
       "<div>\n",
       "<style scoped>\n",
       "    .dataframe tbody tr th:only-of-type {\n",
       "        vertical-align: middle;\n",
       "    }\n",
       "\n",
       "    .dataframe tbody tr th {\n",
       "        vertical-align: top;\n",
       "    }\n",
       "\n",
       "    .dataframe thead th {\n",
       "        text-align: right;\n",
       "    }\n",
       "</style>\n",
       "<table border=\"1\" class=\"dataframe\">\n",
       "  <thead>\n",
       "    <tr style=\"text-align: right;\">\n",
       "      <th></th>\n",
       "      <th></th>\n",
       "      <th>debt_group</th>\n",
       "      <th>без просрочек</th>\n",
       "      <th>с просрочкой</th>\n",
       "      <th>avg_debt_%</th>\n",
       "      <th>deviation</th>\n",
       "      <th>deviation_%</th>\n",
       "      <th>category_special_case</th>\n",
       "    </tr>\n",
       "    <tr>\n",
       "      <th>children_group</th>\n",
       "      <th>gender</th>\n",
       "      <th>total_income_group</th>\n",
       "      <th></th>\n",
       "      <th></th>\n",
       "      <th></th>\n",
       "      <th></th>\n",
       "      <th></th>\n",
       "      <th></th>\n",
       "    </tr>\n",
       "  </thead>\n",
       "  <tbody>\n",
       "    <tr>\n",
       "      <th>с 1 ребенком</th>\n",
       "      <th>m</th>\n",
       "      <th>низкие доходы</th>\n",
       "      <td>189</td>\n",
       "      <td>39</td>\n",
       "      <td>17.11</td>\n",
       "      <td>-8.99</td>\n",
       "      <td>-52.5</td>\n",
       "      <td>Критический случай!</td>\n",
       "    </tr>\n",
       "    <tr>\n",
       "      <th>многодетные</th>\n",
       "      <th>m</th>\n",
       "      <th>низкие доходы</th>\n",
       "      <td>10</td>\n",
       "      <td>2</td>\n",
       "      <td>16.67</td>\n",
       "      <td>-8.55</td>\n",
       "      <td>-51.3</td>\n",
       "      <td>Критический случай!</td>\n",
       "    </tr>\n",
       "    <tr>\n",
       "      <th>с 1 ребенком</th>\n",
       "      <th>m</th>\n",
       "      <th>выше среднего доходы</th>\n",
       "      <td>433</td>\n",
       "      <td>60</td>\n",
       "      <td>12.17</td>\n",
       "      <td>-4.05</td>\n",
       "      <td>-33.3</td>\n",
       "      <td>Проблемная ситуация.</td>\n",
       "    </tr>\n",
       "    <tr>\n",
       "      <th>без детей</th>\n",
       "      <th>m</th>\n",
       "      <th>выше среднего доходы</th>\n",
       "      <td>1067</td>\n",
       "      <td>138</td>\n",
       "      <td>11.45</td>\n",
       "      <td>-3.33</td>\n",
       "      <td>-29.1</td>\n",
       "      <td>Проблемная ситуация.</td>\n",
       "    </tr>\n",
       "    <tr>\n",
       "      <th>с 2 детьми</th>\n",
       "      <th>f</th>\n",
       "      <th>выше среднего доходы</th>\n",
       "      <td>232</td>\n",
       "      <td>30</td>\n",
       "      <td>11.45</td>\n",
       "      <td>-3.33</td>\n",
       "      <td>-29.1</td>\n",
       "      <td>Проблемная ситуация.</td>\n",
       "    </tr>\n",
       "    <tr>\n",
       "      <th>без детей</th>\n",
       "      <th>m</th>\n",
       "      <th>низкие доходы</th>\n",
       "      <td>699</td>\n",
       "      <td>90</td>\n",
       "      <td>11.41</td>\n",
       "      <td>-3.29</td>\n",
       "      <td>-28.8</td>\n",
       "      <td>Проблемная ситуация.</td>\n",
       "    </tr>\n",
       "    <tr>\n",
       "      <th>многодетные</th>\n",
       "      <th>f</th>\n",
       "      <th>низкие доходы</th>\n",
       "      <td>57</td>\n",
       "      <td>7</td>\n",
       "      <td>10.94</td>\n",
       "      <td>-2.82</td>\n",
       "      <td>-25.8</td>\n",
       "      <td>Проблемная ситуация.</td>\n",
       "    </tr>\n",
       "    <tr>\n",
       "      <th>с 1 ребенком</th>\n",
       "      <th>m</th>\n",
       "      <th>средние доходы</th>\n",
       "      <td>338</td>\n",
       "      <td>41</td>\n",
       "      <td>10.82</td>\n",
       "      <td>-2.70</td>\n",
       "      <td>-25.0</td>\n",
       "      <td>Проблемная ситуация.</td>\n",
       "    </tr>\n",
       "    <tr>\n",
       "      <th>с 2 детьми</th>\n",
       "      <th>f</th>\n",
       "      <th>высокие доходы</th>\n",
       "      <td>231</td>\n",
       "      <td>28</td>\n",
       "      <td>10.81</td>\n",
       "      <td>-2.69</td>\n",
       "      <td>-24.9</td>\n",
       "      <td>Проблемная ситуация.</td>\n",
       "    </tr>\n",
       "    <tr>\n",
       "      <th>без детей</th>\n",
       "      <th>m</th>\n",
       "      <th>средние доходы</th>\n",
       "      <td>968</td>\n",
       "      <td>116</td>\n",
       "      <td>10.70</td>\n",
       "      <td>-2.58</td>\n",
       "      <td>-24.1</td>\n",
       "      <td>Проблемная ситуация.</td>\n",
       "    </tr>\n",
       "    <tr>\n",
       "      <th>с 2 детьми</th>\n",
       "      <th>f</th>\n",
       "      <th>средние доходы</th>\n",
       "      <td>322</td>\n",
       "      <td>38</td>\n",
       "      <td>10.56</td>\n",
       "      <td>-2.44</td>\n",
       "      <td>-23.1</td>\n",
       "      <td>Проблемная ситуация.</td>\n",
       "    </tr>\n",
       "    <tr>\n",
       "      <th>многодетные</th>\n",
       "      <th>m</th>\n",
       "      <th>выше среднего доходы</th>\n",
       "      <td>35</td>\n",
       "      <td>4</td>\n",
       "      <td>10.26</td>\n",
       "      <td>-2.14</td>\n",
       "      <td>-20.9</td>\n",
       "      <td>Проблемная ситуация.</td>\n",
       "    </tr>\n",
       "    <tr>\n",
       "      <th rowspan=\"2\" valign=\"top\">с 2 детьми</th>\n",
       "      <th>m</th>\n",
       "      <th>средние доходы</th>\n",
       "      <td>161</td>\n",
       "      <td>18</td>\n",
       "      <td>10.06</td>\n",
       "      <td>-1.94</td>\n",
       "      <td>-19.3</td>\n",
       "      <td>Проблемная ситуация.</td>\n",
       "    </tr>\n",
       "    <tr>\n",
       "      <th>f</th>\n",
       "      <th>низкие доходы</th>\n",
       "      <td>380</td>\n",
       "      <td>42</td>\n",
       "      <td>9.95</td>\n",
       "      <td>-1.83</td>\n",
       "      <td>-18.4</td>\n",
       "      <td>Проблемная ситуация.</td>\n",
       "    </tr>\n",
       "    <tr>\n",
       "      <th rowspan=\"2\" valign=\"top\">с 1 ребенком</th>\n",
       "      <th>m</th>\n",
       "      <th>высокие доходы</th>\n",
       "      <td>576</td>\n",
       "      <td>59</td>\n",
       "      <td>9.29</td>\n",
       "      <td>-1.17</td>\n",
       "      <td>-12.6</td>\n",
       "      <td>Проблемная ситуация.</td>\n",
       "    </tr>\n",
       "    <tr>\n",
       "      <th>f</th>\n",
       "      <th>средние доходы</th>\n",
       "      <td>772</td>\n",
       "      <td>79</td>\n",
       "      <td>9.28</td>\n",
       "      <td>-1.16</td>\n",
       "      <td>-12.5</td>\n",
       "      <td>Проблемная ситуация.</td>\n",
       "    </tr>\n",
       "    <tr>\n",
       "      <th>с 2 детьми</th>\n",
       "      <th>m</th>\n",
       "      <th>выше среднего доходы</th>\n",
       "      <td>218</td>\n",
       "      <td>22</td>\n",
       "      <td>9.17</td>\n",
       "      <td>-1.05</td>\n",
       "      <td>-11.5</td>\n",
       "      <td>Проблемная ситуация.</td>\n",
       "    </tr>\n",
       "    <tr>\n",
       "      <th>многодетные</th>\n",
       "      <th>m</th>\n",
       "      <th>средние доходы</th>\n",
       "      <td>42</td>\n",
       "      <td>4</td>\n",
       "      <td>8.70</td>\n",
       "      <td>-0.58</td>\n",
       "      <td>-6.7</td>\n",
       "      <td>Проблемная ситуация.</td>\n",
       "    </tr>\n",
       "    <tr>\n",
       "      <th>без детей</th>\n",
       "      <th>m</th>\n",
       "      <th>высокие доходы</th>\n",
       "      <td>1365</td>\n",
       "      <td>127</td>\n",
       "      <td>8.51</td>\n",
       "      <td>-0.39</td>\n",
       "      <td>-4.6</td>\n",
       "      <td>Проблемная ситуация.</td>\n",
       "    </tr>\n",
       "    <tr>\n",
       "      <th>многодетные</th>\n",
       "      <th>f</th>\n",
       "      <th>средние доходы</th>\n",
       "      <td>56</td>\n",
       "      <td>5</td>\n",
       "      <td>8.20</td>\n",
       "      <td>-0.08</td>\n",
       "      <td>-1.0</td>\n",
       "      <td>Проблемная ситуация.</td>\n",
       "    </tr>\n",
       "    <tr>\n",
       "      <th rowspan=\"2\" valign=\"top\">с 1 ребенком</th>\n",
       "      <th rowspan=\"2\" valign=\"top\">f</th>\n",
       "      <th>выше среднего доходы</th>\n",
       "      <td>698</td>\n",
       "      <td>61</td>\n",
       "      <td>8.04</td>\n",
       "      <td>0.08</td>\n",
       "      <td>1.0</td>\n",
       "      <td>Хорошая ситуация</td>\n",
       "    </tr>\n",
       "    <tr>\n",
       "      <th>низкие доходы</th>\n",
       "      <td>817</td>\n",
       "      <td>68</td>\n",
       "      <td>7.68</td>\n",
       "      <td>0.44</td>\n",
       "      <td>5.7</td>\n",
       "      <td>Хорошая ситуация</td>\n",
       "    </tr>\n",
       "    <tr>\n",
       "      <th>без детей</th>\n",
       "      <th>f</th>\n",
       "      <th>средние доходы</th>\n",
       "      <td>2337</td>\n",
       "      <td>182</td>\n",
       "      <td>7.23</td>\n",
       "      <td>0.89</td>\n",
       "      <td>12.3</td>\n",
       "      <td>Хорошая ситуация</td>\n",
       "    </tr>\n",
       "    <tr>\n",
       "      <th>многодетные</th>\n",
       "      <th>f</th>\n",
       "      <th>выше среднего доходы</th>\n",
       "      <td>52</td>\n",
       "      <td>4</td>\n",
       "      <td>7.14</td>\n",
       "      <td>0.98</td>\n",
       "      <td>13.7</td>\n",
       "      <td>Хорошая ситуация</td>\n",
       "    </tr>\n",
       "    <tr>\n",
       "      <th>с 2 детьми</th>\n",
       "      <th>m</th>\n",
       "      <th>низкие доходы</th>\n",
       "      <td>106</td>\n",
       "      <td>7</td>\n",
       "      <td>6.19</td>\n",
       "      <td>1.93</td>\n",
       "      <td>31.2</td>\n",
       "      <td>Хорошая ситуация</td>\n",
       "    </tr>\n",
       "    <tr>\n",
       "      <th>с 1 ребенком</th>\n",
       "      <th>f</th>\n",
       "      <th>высокие доходы</th>\n",
       "      <td>587</td>\n",
       "      <td>38</td>\n",
       "      <td>6.08</td>\n",
       "      <td>2.04</td>\n",
       "      <td>33.6</td>\n",
       "      <td>Хорошая ситуация</td>\n",
       "    </tr>\n",
       "    <tr>\n",
       "      <th rowspan=\"2\" valign=\"top\">без детей</th>\n",
       "      <th rowspan=\"2\" valign=\"top\">f</th>\n",
       "      <th>низкие доходы</th>\n",
       "      <td>2679</td>\n",
       "      <td>172</td>\n",
       "      <td>6.03</td>\n",
       "      <td>2.09</td>\n",
       "      <td>34.7</td>\n",
       "      <td>Хорошая ситуация</td>\n",
       "    </tr>\n",
       "    <tr>\n",
       "      <th>выше среднего доходы</th>\n",
       "      <td>2064</td>\n",
       "      <td>129</td>\n",
       "      <td>5.88</td>\n",
       "      <td>2.24</td>\n",
       "      <td>38.1</td>\n",
       "      <td>Хорошая ситуация</td>\n",
       "    </tr>\n",
       "    <tr>\n",
       "      <th>с 2 детьми</th>\n",
       "      <th>m</th>\n",
       "      <th>высокие доходы</th>\n",
       "      <td>276</td>\n",
       "      <td>17</td>\n",
       "      <td>5.80</td>\n",
       "      <td>2.32</td>\n",
       "      <td>40.0</td>\n",
       "      <td>Хорошая ситуация</td>\n",
       "    </tr>\n",
       "    <tr>\n",
       "      <th>многодетные</th>\n",
       "      <th>m</th>\n",
       "      <th>высокие доходы</th>\n",
       "      <td>49</td>\n",
       "      <td>3</td>\n",
       "      <td>5.77</td>\n",
       "      <td>2.35</td>\n",
       "      <td>40.7</td>\n",
       "      <td>Хорошая ситуация</td>\n",
       "    </tr>\n",
       "    <tr>\n",
       "      <th>без детей</th>\n",
       "      <th>f</th>\n",
       "      <th>высокие доходы</th>\n",
       "      <td>1847</td>\n",
       "      <td>109</td>\n",
       "      <td>5.57</td>\n",
       "      <td>2.55</td>\n",
       "      <td>45.8</td>\n",
       "      <td>Хорошая ситуация</td>\n",
       "    </tr>\n",
       "    <tr>\n",
       "      <th>многодетные</th>\n",
       "      <th>f</th>\n",
       "      <th>высокие доходы</th>\n",
       "      <td>48</td>\n",
       "      <td>2</td>\n",
       "      <td>4.00</td>\n",
       "      <td>4.12</td>\n",
       "      <td>103.0</td>\n",
       "      <td>Хорошая ситуация</td>\n",
       "    </tr>\n",
       "    <tr>\n",
       "      <th rowspan=\"4\" valign=\"top\">без детей</th>\n",
       "      <th rowspan=\"4\" valign=\"top\">xna</th>\n",
       "      <th>высокие доходы</th>\n",
       "      <td>1</td>\n",
       "      <td>0</td>\n",
       "      <td>0.00</td>\n",
       "      <td>8.12</td>\n",
       "      <td>inf</td>\n",
       "      <td>Хорошая ситуация</td>\n",
       "    </tr>\n",
       "    <tr>\n",
       "      <th>низкие доходы</th>\n",
       "      <td>0</td>\n",
       "      <td>0</td>\n",
       "      <td>NaN</td>\n",
       "      <td>NaN</td>\n",
       "      <td>NaN</td>\n",
       "      <td>Крайние значения</td>\n",
       "    </tr>\n",
       "    <tr>\n",
       "      <th>средние доходы</th>\n",
       "      <td>0</td>\n",
       "      <td>0</td>\n",
       "      <td>NaN</td>\n",
       "      <td>NaN</td>\n",
       "      <td>NaN</td>\n",
       "      <td>Крайние значения</td>\n",
       "    </tr>\n",
       "    <tr>\n",
       "      <th>выше среднего доходы</th>\n",
       "      <td>0</td>\n",
       "      <td>0</td>\n",
       "      <td>NaN</td>\n",
       "      <td>NaN</td>\n",
       "      <td>NaN</td>\n",
       "      <td>Крайние значения</td>\n",
       "    </tr>\n",
       "    <tr>\n",
       "      <th rowspan=\"4\" valign=\"top\">многодетные</th>\n",
       "      <th rowspan=\"4\" valign=\"top\">xna</th>\n",
       "      <th>низкие доходы</th>\n",
       "      <td>0</td>\n",
       "      <td>0</td>\n",
       "      <td>NaN</td>\n",
       "      <td>NaN</td>\n",
       "      <td>NaN</td>\n",
       "      <td>Крайние значения</td>\n",
       "    </tr>\n",
       "    <tr>\n",
       "      <th>средние доходы</th>\n",
       "      <td>0</td>\n",
       "      <td>0</td>\n",
       "      <td>NaN</td>\n",
       "      <td>NaN</td>\n",
       "      <td>NaN</td>\n",
       "      <td>Крайние значения</td>\n",
       "    </tr>\n",
       "    <tr>\n",
       "      <th>выше среднего доходы</th>\n",
       "      <td>0</td>\n",
       "      <td>0</td>\n",
       "      <td>NaN</td>\n",
       "      <td>NaN</td>\n",
       "      <td>NaN</td>\n",
       "      <td>Крайние значения</td>\n",
       "    </tr>\n",
       "    <tr>\n",
       "      <th>высокие доходы</th>\n",
       "      <td>0</td>\n",
       "      <td>0</td>\n",
       "      <td>NaN</td>\n",
       "      <td>NaN</td>\n",
       "      <td>NaN</td>\n",
       "      <td>Крайние значения</td>\n",
       "    </tr>\n",
       "    <tr>\n",
       "      <th rowspan=\"4\" valign=\"top\">с 1 ребенком</th>\n",
       "      <th rowspan=\"4\" valign=\"top\">xna</th>\n",
       "      <th>низкие доходы</th>\n",
       "      <td>0</td>\n",
       "      <td>0</td>\n",
       "      <td>NaN</td>\n",
       "      <td>NaN</td>\n",
       "      <td>NaN</td>\n",
       "      <td>Крайние значения</td>\n",
       "    </tr>\n",
       "    <tr>\n",
       "      <th>средние доходы</th>\n",
       "      <td>0</td>\n",
       "      <td>0</td>\n",
       "      <td>NaN</td>\n",
       "      <td>NaN</td>\n",
       "      <td>NaN</td>\n",
       "      <td>Крайние значения</td>\n",
       "    </tr>\n",
       "    <tr>\n",
       "      <th>выше среднего доходы</th>\n",
       "      <td>0</td>\n",
       "      <td>0</td>\n",
       "      <td>NaN</td>\n",
       "      <td>NaN</td>\n",
       "      <td>NaN</td>\n",
       "      <td>Крайние значения</td>\n",
       "    </tr>\n",
       "    <tr>\n",
       "      <th>высокие доходы</th>\n",
       "      <td>0</td>\n",
       "      <td>0</td>\n",
       "      <td>NaN</td>\n",
       "      <td>NaN</td>\n",
       "      <td>NaN</td>\n",
       "      <td>Крайние значения</td>\n",
       "    </tr>\n",
       "    <tr>\n",
       "      <th rowspan=\"4\" valign=\"top\">с 2 детьми</th>\n",
       "      <th rowspan=\"4\" valign=\"top\">xna</th>\n",
       "      <th>низкие доходы</th>\n",
       "      <td>0</td>\n",
       "      <td>0</td>\n",
       "      <td>NaN</td>\n",
       "      <td>NaN</td>\n",
       "      <td>NaN</td>\n",
       "      <td>Крайние значения</td>\n",
       "    </tr>\n",
       "    <tr>\n",
       "      <th>средние доходы</th>\n",
       "      <td>0</td>\n",
       "      <td>0</td>\n",
       "      <td>NaN</td>\n",
       "      <td>NaN</td>\n",
       "      <td>NaN</td>\n",
       "      <td>Крайние значения</td>\n",
       "    </tr>\n",
       "    <tr>\n",
       "      <th>выше среднего доходы</th>\n",
       "      <td>0</td>\n",
       "      <td>0</td>\n",
       "      <td>NaN</td>\n",
       "      <td>NaN</td>\n",
       "      <td>NaN</td>\n",
       "      <td>Крайние значения</td>\n",
       "    </tr>\n",
       "    <tr>\n",
       "      <th>высокие доходы</th>\n",
       "      <td>0</td>\n",
       "      <td>0</td>\n",
       "      <td>NaN</td>\n",
       "      <td>NaN</td>\n",
       "      <td>NaN</td>\n",
       "      <td>Крайние значения</td>\n",
       "    </tr>\n",
       "  </tbody>\n",
       "</table>\n",
       "</div>"
      ],
      "text/plain": [
       "debt_group                                  без просрочек  с просрочкой  \\\n",
       "children_group gender total_income_group                                  \n",
       "с 1 ребенком   m      низкие доходы                   189            39   \n",
       "многодетные    m      низкие доходы                    10             2   \n",
       "с 1 ребенком   m      выше среднего доходы            433            60   \n",
       "без детей      m      выше среднего доходы           1067           138   \n",
       "с 2 детьми     f      выше среднего доходы            232            30   \n",
       "без детей      m      низкие доходы                   699            90   \n",
       "многодетные    f      низкие доходы                    57             7   \n",
       "с 1 ребенком   m      средние доходы                  338            41   \n",
       "с 2 детьми     f      высокие доходы                  231            28   \n",
       "без детей      m      средние доходы                  968           116   \n",
       "с 2 детьми     f      средние доходы                  322            38   \n",
       "многодетные    m      выше среднего доходы             35             4   \n",
       "с 2 детьми     m      средние доходы                  161            18   \n",
       "               f      низкие доходы                   380            42   \n",
       "с 1 ребенком   m      высокие доходы                  576            59   \n",
       "               f      средние доходы                  772            79   \n",
       "с 2 детьми     m      выше среднего доходы            218            22   \n",
       "многодетные    m      средние доходы                   42             4   \n",
       "без детей      m      высокие доходы                 1365           127   \n",
       "многодетные    f      средние доходы                   56             5   \n",
       "с 1 ребенком   f      выше среднего доходы            698            61   \n",
       "                      низкие доходы                   817            68   \n",
       "без детей      f      средние доходы                 2337           182   \n",
       "многодетные    f      выше среднего доходы             52             4   \n",
       "с 2 детьми     m      низкие доходы                   106             7   \n",
       "с 1 ребенком   f      высокие доходы                  587            38   \n",
       "без детей      f      низкие доходы                  2679           172   \n",
       "                      выше среднего доходы           2064           129   \n",
       "с 2 детьми     m      высокие доходы                  276            17   \n",
       "многодетные    m      высокие доходы                   49             3   \n",
       "без детей      f      высокие доходы                 1847           109   \n",
       "многодетные    f      высокие доходы                   48             2   \n",
       "без детей      xna    высокие доходы                    1             0   \n",
       "                      низкие доходы                     0             0   \n",
       "                      средние доходы                    0             0   \n",
       "                      выше среднего доходы              0             0   \n",
       "многодетные    xna    низкие доходы                     0             0   \n",
       "                      средние доходы                    0             0   \n",
       "                      выше среднего доходы              0             0   \n",
       "                      высокие доходы                    0             0   \n",
       "с 1 ребенком   xna    низкие доходы                     0             0   \n",
       "                      средние доходы                    0             0   \n",
       "                      выше среднего доходы              0             0   \n",
       "                      высокие доходы                    0             0   \n",
       "с 2 детьми     xna    низкие доходы                     0             0   \n",
       "                      средние доходы                    0             0   \n",
       "                      выше среднего доходы              0             0   \n",
       "                      высокие доходы                    0             0   \n",
       "\n",
       "debt_group                                  avg_debt_%  deviation  \\\n",
       "children_group gender total_income_group                            \n",
       "с 1 ребенком   m      низкие доходы              17.11      -8.99   \n",
       "многодетные    m      низкие доходы              16.67      -8.55   \n",
       "с 1 ребенком   m      выше среднего доходы       12.17      -4.05   \n",
       "без детей      m      выше среднего доходы       11.45      -3.33   \n",
       "с 2 детьми     f      выше среднего доходы       11.45      -3.33   \n",
       "без детей      m      низкие доходы              11.41      -3.29   \n",
       "многодетные    f      низкие доходы              10.94      -2.82   \n",
       "с 1 ребенком   m      средние доходы             10.82      -2.70   \n",
       "с 2 детьми     f      высокие доходы             10.81      -2.69   \n",
       "без детей      m      средние доходы             10.70      -2.58   \n",
       "с 2 детьми     f      средние доходы             10.56      -2.44   \n",
       "многодетные    m      выше среднего доходы       10.26      -2.14   \n",
       "с 2 детьми     m      средние доходы             10.06      -1.94   \n",
       "               f      низкие доходы               9.95      -1.83   \n",
       "с 1 ребенком   m      высокие доходы              9.29      -1.17   \n",
       "               f      средние доходы              9.28      -1.16   \n",
       "с 2 детьми     m      выше среднего доходы        9.17      -1.05   \n",
       "многодетные    m      средние доходы              8.70      -0.58   \n",
       "без детей      m      высокие доходы              8.51      -0.39   \n",
       "многодетные    f      средние доходы              8.20      -0.08   \n",
       "с 1 ребенком   f      выше среднего доходы        8.04       0.08   \n",
       "                      низкие доходы               7.68       0.44   \n",
       "без детей      f      средние доходы              7.23       0.89   \n",
       "многодетные    f      выше среднего доходы        7.14       0.98   \n",
       "с 2 детьми     m      низкие доходы               6.19       1.93   \n",
       "с 1 ребенком   f      высокие доходы              6.08       2.04   \n",
       "без детей      f      низкие доходы               6.03       2.09   \n",
       "                      выше среднего доходы        5.88       2.24   \n",
       "с 2 детьми     m      высокие доходы              5.80       2.32   \n",
       "многодетные    m      высокие доходы              5.77       2.35   \n",
       "без детей      f      высокие доходы              5.57       2.55   \n",
       "многодетные    f      высокие доходы              4.00       4.12   \n",
       "без детей      xna    высокие доходы              0.00       8.12   \n",
       "                      низкие доходы                NaN        NaN   \n",
       "                      средние доходы               NaN        NaN   \n",
       "                      выше среднего доходы         NaN        NaN   \n",
       "многодетные    xna    низкие доходы                NaN        NaN   \n",
       "                      средние доходы               NaN        NaN   \n",
       "                      выше среднего доходы         NaN        NaN   \n",
       "                      высокие доходы               NaN        NaN   \n",
       "с 1 ребенком   xna    низкие доходы                NaN        NaN   \n",
       "                      средние доходы               NaN        NaN   \n",
       "                      выше среднего доходы         NaN        NaN   \n",
       "                      высокие доходы               NaN        NaN   \n",
       "с 2 детьми     xna    низкие доходы                NaN        NaN   \n",
       "                      средние доходы               NaN        NaN   \n",
       "                      выше среднего доходы         NaN        NaN   \n",
       "                      высокие доходы               NaN        NaN   \n",
       "\n",
       "debt_group                                  deviation_% category_special_case  \n",
       "children_group gender total_income_group                                       \n",
       "с 1 ребенком   m      низкие доходы               -52.5   Критический случай!  \n",
       "многодетные    m      низкие доходы               -51.3   Критический случай!  \n",
       "с 1 ребенком   m      выше среднего доходы        -33.3  Проблемная ситуация.  \n",
       "без детей      m      выше среднего доходы        -29.1  Проблемная ситуация.  \n",
       "с 2 детьми     f      выше среднего доходы        -29.1  Проблемная ситуация.  \n",
       "без детей      m      низкие доходы               -28.8  Проблемная ситуация.  \n",
       "многодетные    f      низкие доходы               -25.8  Проблемная ситуация.  \n",
       "с 1 ребенком   m      средние доходы              -25.0  Проблемная ситуация.  \n",
       "с 2 детьми     f      высокие доходы              -24.9  Проблемная ситуация.  \n",
       "без детей      m      средние доходы              -24.1  Проблемная ситуация.  \n",
       "с 2 детьми     f      средние доходы              -23.1  Проблемная ситуация.  \n",
       "многодетные    m      выше среднего доходы        -20.9  Проблемная ситуация.  \n",
       "с 2 детьми     m      средние доходы              -19.3  Проблемная ситуация.  \n",
       "               f      низкие доходы               -18.4  Проблемная ситуация.  \n",
       "с 1 ребенком   m      высокие доходы              -12.6  Проблемная ситуация.  \n",
       "               f      средние доходы              -12.5  Проблемная ситуация.  \n",
       "с 2 детьми     m      выше среднего доходы        -11.5  Проблемная ситуация.  \n",
       "многодетные    m      средние доходы               -6.7  Проблемная ситуация.  \n",
       "без детей      m      высокие доходы               -4.6  Проблемная ситуация.  \n",
       "многодетные    f      средние доходы               -1.0  Проблемная ситуация.  \n",
       "с 1 ребенком   f      выше среднего доходы          1.0      Хорошая ситуация  \n",
       "                      низкие доходы                 5.7      Хорошая ситуация  \n",
       "без детей      f      средние доходы               12.3      Хорошая ситуация  \n",
       "многодетные    f      выше среднего доходы         13.7      Хорошая ситуация  \n",
       "с 2 детьми     m      низкие доходы                31.2      Хорошая ситуация  \n",
       "с 1 ребенком   f      высокие доходы               33.6      Хорошая ситуация  \n",
       "без детей      f      низкие доходы                34.7      Хорошая ситуация  \n",
       "                      выше среднего доходы         38.1      Хорошая ситуация  \n",
       "с 2 детьми     m      высокие доходы               40.0      Хорошая ситуация  \n",
       "многодетные    m      высокие доходы               40.7      Хорошая ситуация  \n",
       "без детей      f      высокие доходы               45.8      Хорошая ситуация  \n",
       "многодетные    f      высокие доходы              103.0      Хорошая ситуация  \n",
       "без детей      xna    высокие доходы                inf      Хорошая ситуация  \n",
       "                      низкие доходы                 NaN      Крайние значения  \n",
       "                      средние доходы                NaN      Крайние значения  \n",
       "                      выше среднего доходы          NaN      Крайние значения  \n",
       "многодетные    xna    низкие доходы                 NaN      Крайние значения  \n",
       "                      средние доходы                NaN      Крайние значения  \n",
       "                      выше среднего доходы          NaN      Крайние значения  \n",
       "                      высокие доходы                NaN      Крайние значения  \n",
       "с 1 ребенком   xna    низкие доходы                 NaN      Крайние значения  \n",
       "                      средние доходы                NaN      Крайние значения  \n",
       "                      выше среднего доходы          NaN      Крайние значения  \n",
       "                      высокие доходы                NaN      Крайние значения  \n",
       "с 2 детьми     xna    низкие доходы                 NaN      Крайние значения  \n",
       "                      средние доходы                NaN      Крайние значения  \n",
       "                      выше среднего доходы          NaN      Крайние значения  \n",
       "                      высокие доходы                NaN      Крайние значения  "
      ]
     },
     "metadata": {},
     "output_type": "display_data"
    },
    {
     "name": "stdout",
     "output_type": "stream",
     "text": [
      "Зависимость категорий children_group с family_status и education:\n"
     ]
    },
    {
     "data": {
      "text/html": [
       "<div>\n",
       "<style scoped>\n",
       "    .dataframe tbody tr th:only-of-type {\n",
       "        vertical-align: middle;\n",
       "    }\n",
       "\n",
       "    .dataframe tbody tr th {\n",
       "        vertical-align: top;\n",
       "    }\n",
       "\n",
       "    .dataframe thead th {\n",
       "        text-align: right;\n",
       "    }\n",
       "</style>\n",
       "<table border=\"1\" class=\"dataframe\">\n",
       "  <thead>\n",
       "    <tr style=\"text-align: right;\">\n",
       "      <th></th>\n",
       "      <th></th>\n",
       "      <th>debt_group</th>\n",
       "      <th>без просрочек</th>\n",
       "      <th>с просрочкой</th>\n",
       "      <th>avg_debt_%</th>\n",
       "      <th>deviation</th>\n",
       "      <th>deviation_%</th>\n",
       "      <th>category_special_case</th>\n",
       "    </tr>\n",
       "    <tr>\n",
       "      <th>children_group</th>\n",
       "      <th>family_status</th>\n",
       "      <th>education</th>\n",
       "      <th></th>\n",
       "      <th></th>\n",
       "      <th></th>\n",
       "      <th></th>\n",
       "      <th></th>\n",
       "      <th></th>\n",
       "    </tr>\n",
       "  </thead>\n",
       "  <tbody>\n",
       "    <tr>\n",
       "      <th>с 2 детьми</th>\n",
       "      <th>гражданский брак</th>\n",
       "      <th>начальное</th>\n",
       "      <td>1.0</td>\n",
       "      <td>2.0</td>\n",
       "      <td>66.67</td>\n",
       "      <td>-58.55</td>\n",
       "      <td>-87.8</td>\n",
       "      <td>Критический случай!</td>\n",
       "    </tr>\n",
       "    <tr>\n",
       "      <th>с 1 ребенком</th>\n",
       "      <th>вдовец / вдова</th>\n",
       "      <th>неоконченное высшее</th>\n",
       "      <td>1.0</td>\n",
       "      <td>1.0</td>\n",
       "      <td>50.00</td>\n",
       "      <td>-41.88</td>\n",
       "      <td>-83.8</td>\n",
       "      <td>Критический случай!</td>\n",
       "    </tr>\n",
       "    <tr>\n",
       "      <th>многодетные</th>\n",
       "      <th>в разводе</th>\n",
       "      <th>неоконченное высшее</th>\n",
       "      <td>1.0</td>\n",
       "      <td>1.0</td>\n",
       "      <td>50.00</td>\n",
       "      <td>-41.88</td>\n",
       "      <td>-83.8</td>\n",
       "      <td>Критический случай!</td>\n",
       "    </tr>\n",
       "    <tr>\n",
       "      <th>с 2 детьми</th>\n",
       "      <th>не женат / не замужем</th>\n",
       "      <th>неоконченное высшее</th>\n",
       "      <td>2.0</td>\n",
       "      <td>1.0</td>\n",
       "      <td>33.33</td>\n",
       "      <td>-25.21</td>\n",
       "      <td>-75.6</td>\n",
       "      <td>Критический случай!</td>\n",
       "    </tr>\n",
       "    <tr>\n",
       "      <th>с 1 ребенком</th>\n",
       "      <th>в разводе</th>\n",
       "      <th>начальное</th>\n",
       "      <td>3.0</td>\n",
       "      <td>1.0</td>\n",
       "      <td>25.00</td>\n",
       "      <td>-16.88</td>\n",
       "      <td>-67.5</td>\n",
       "      <td>Критический случай!</td>\n",
       "    </tr>\n",
       "    <tr>\n",
       "      <th>...</th>\n",
       "      <th>...</th>\n",
       "      <th>...</th>\n",
       "      <td>...</td>\n",
       "      <td>...</td>\n",
       "      <td>...</td>\n",
       "      <td>...</td>\n",
       "      <td>...</td>\n",
       "      <td>...</td>\n",
       "    </tr>\n",
       "    <tr>\n",
       "      <th rowspan=\"5\" valign=\"top\">с 2 детьми</th>\n",
       "      <th>в разводе</th>\n",
       "      <th>неоконченное высшее</th>\n",
       "      <td>3.0</td>\n",
       "      <td>NaN</td>\n",
       "      <td>NaN</td>\n",
       "      <td>NaN</td>\n",
       "      <td>NaN</td>\n",
       "      <td>Крайние значения</td>\n",
       "    </tr>\n",
       "    <tr>\n",
       "      <th rowspan=\"2\" valign=\"top\">вдовец / вдова</th>\n",
       "      <th>высшее</th>\n",
       "      <td>5.0</td>\n",
       "      <td>NaN</td>\n",
       "      <td>NaN</td>\n",
       "      <td>NaN</td>\n",
       "      <td>NaN</td>\n",
       "      <td>Крайние значения</td>\n",
       "    </tr>\n",
       "    <tr>\n",
       "      <th>начальное</th>\n",
       "      <td>1.0</td>\n",
       "      <td>NaN</td>\n",
       "      <td>NaN</td>\n",
       "      <td>NaN</td>\n",
       "      <td>NaN</td>\n",
       "      <td>Крайние значения</td>\n",
       "    </tr>\n",
       "    <tr>\n",
       "      <th rowspan=\"2\" valign=\"top\">не женат / не замужем</th>\n",
       "      <th>высшее</th>\n",
       "      <td>27.0</td>\n",
       "      <td>NaN</td>\n",
       "      <td>NaN</td>\n",
       "      <td>NaN</td>\n",
       "      <td>NaN</td>\n",
       "      <td>Крайние значения</td>\n",
       "    </tr>\n",
       "    <tr>\n",
       "      <th>начальное</th>\n",
       "      <td>NaN</td>\n",
       "      <td>1.0</td>\n",
       "      <td>NaN</td>\n",
       "      <td>NaN</td>\n",
       "      <td>NaN</td>\n",
       "      <td>Крайние значения</td>\n",
       "    </tr>\n",
       "  </tbody>\n",
       "</table>\n",
       "<p>79 rows × 6 columns</p>\n",
       "</div>"
      ],
      "text/plain": [
       "debt_group                                                без просрочек  \\\n",
       "children_group family_status         education                            \n",
       "с 2 детьми     гражданский брак      начальное                      1.0   \n",
       "с 1 ребенком   вдовец / вдова        неоконченное высшее            1.0   \n",
       "многодетные    в разводе             неоконченное высшее            1.0   \n",
       "с 2 детьми     не женат / не замужем неоконченное высшее            2.0   \n",
       "с 1 ребенком   в разводе             начальное                      3.0   \n",
       "...                                                                 ...   \n",
       "с 2 детьми     в разводе             неоконченное высшее            3.0   \n",
       "               вдовец / вдова        высшее                         5.0   \n",
       "                                     начальное                      1.0   \n",
       "               не женат / не замужем высшее                        27.0   \n",
       "                                     начальное                      NaN   \n",
       "\n",
       "debt_group                                                с просрочкой  \\\n",
       "children_group family_status         education                           \n",
       "с 2 детьми     гражданский брак      начальное                     2.0   \n",
       "с 1 ребенком   вдовец / вдова        неоконченное высшее           1.0   \n",
       "многодетные    в разводе             неоконченное высшее           1.0   \n",
       "с 2 детьми     не женат / не замужем неоконченное высшее           1.0   \n",
       "с 1 ребенком   в разводе             начальное                     1.0   \n",
       "...                                                                ...   \n",
       "с 2 детьми     в разводе             неоконченное высшее           NaN   \n",
       "               вдовец / вдова        высшее                        NaN   \n",
       "                                     начальное                     NaN   \n",
       "               не женат / не замужем высшее                        NaN   \n",
       "                                     начальное                     1.0   \n",
       "\n",
       "debt_group                                                avg_debt_%  \\\n",
       "children_group family_status         education                         \n",
       "с 2 детьми     гражданский брак      начальное                 66.67   \n",
       "с 1 ребенком   вдовец / вдова        неоконченное высшее       50.00   \n",
       "многодетные    в разводе             неоконченное высшее       50.00   \n",
       "с 2 детьми     не женат / не замужем неоконченное высшее       33.33   \n",
       "с 1 ребенком   в разводе             начальное                 25.00   \n",
       "...                                                              ...   \n",
       "с 2 детьми     в разводе             неоконченное высшее         NaN   \n",
       "               вдовец / вдова        высшее                      NaN   \n",
       "                                     начальное                   NaN   \n",
       "               не женат / не замужем высшее                      NaN   \n",
       "                                     начальное                   NaN   \n",
       "\n",
       "debt_group                                                deviation  \\\n",
       "children_group family_status         education                        \n",
       "с 2 детьми     гражданский брак      начальное               -58.55   \n",
       "с 1 ребенком   вдовец / вдова        неоконченное высшее     -41.88   \n",
       "многодетные    в разводе             неоконченное высшее     -41.88   \n",
       "с 2 детьми     не женат / не замужем неоконченное высшее     -25.21   \n",
       "с 1 ребенком   в разводе             начальное               -16.88   \n",
       "...                                                             ...   \n",
       "с 2 детьми     в разводе             неоконченное высшее        NaN   \n",
       "               вдовец / вдова        высшее                     NaN   \n",
       "                                     начальное                  NaN   \n",
       "               не женат / не замужем высшее                     NaN   \n",
       "                                     начальное                  NaN   \n",
       "\n",
       "debt_group                                                deviation_%  \\\n",
       "children_group family_status         education                          \n",
       "с 2 детьми     гражданский брак      начальное                  -87.8   \n",
       "с 1 ребенком   вдовец / вдова        неоконченное высшее        -83.8   \n",
       "многодетные    в разводе             неоконченное высшее        -83.8   \n",
       "с 2 детьми     не женат / не замужем неоконченное высшее        -75.6   \n",
       "с 1 ребенком   в разводе             начальное                  -67.5   \n",
       "...                                                               ...   \n",
       "с 2 детьми     в разводе             неоконченное высшее          NaN   \n",
       "               вдовец / вдова        высшее                       NaN   \n",
       "                                     начальное                    NaN   \n",
       "               не женат / не замужем высшее                       NaN   \n",
       "                                     начальное                    NaN   \n",
       "\n",
       "debt_group                                               category_special_case  \n",
       "children_group family_status         education                                  \n",
       "с 2 детьми     гражданский брак      начальное             Критический случай!  \n",
       "с 1 ребенком   вдовец / вдова        неоконченное высшее   Критический случай!  \n",
       "многодетные    в разводе             неоконченное высшее   Критический случай!  \n",
       "с 2 детьми     не женат / не замужем неоконченное высшее   Критический случай!  \n",
       "с 1 ребенком   в разводе             начальное             Критический случай!  \n",
       "...                                                                        ...  \n",
       "с 2 детьми     в разводе             неоконченное высшее      Крайние значения  \n",
       "               вдовец / вдова        высшее                   Крайние значения  \n",
       "                                     начальное                Крайние значения  \n",
       "               не женат / не замужем высшее                   Крайние значения  \n",
       "                                     начальное                Крайние значения  \n",
       "\n",
       "[79 rows x 6 columns]"
      ]
     },
     "metadata": {},
     "output_type": "display_data"
    },
    {
     "name": "stdout",
     "output_type": "stream",
     "text": [
      "Зависимость категорий children_group с family_status и purpose_lemma:\n"
     ]
    },
    {
     "data": {
      "text/html": [
       "<div>\n",
       "<style scoped>\n",
       "    .dataframe tbody tr th:only-of-type {\n",
       "        vertical-align: middle;\n",
       "    }\n",
       "\n",
       "    .dataframe tbody tr th {\n",
       "        vertical-align: top;\n",
       "    }\n",
       "\n",
       "    .dataframe thead th {\n",
       "        text-align: right;\n",
       "    }\n",
       "</style>\n",
       "<table border=\"1\" class=\"dataframe\">\n",
       "  <thead>\n",
       "    <tr style=\"text-align: right;\">\n",
       "      <th></th>\n",
       "      <th></th>\n",
       "      <th>debt_group</th>\n",
       "      <th>без просрочек</th>\n",
       "      <th>с просрочкой</th>\n",
       "      <th>avg_debt_%</th>\n",
       "      <th>deviation</th>\n",
       "      <th>deviation_%</th>\n",
       "      <th>category_special_case</th>\n",
       "    </tr>\n",
       "    <tr>\n",
       "      <th>children_group</th>\n",
       "      <th>family_status</th>\n",
       "      <th>purpose_lemma</th>\n",
       "      <th></th>\n",
       "      <th></th>\n",
       "      <th></th>\n",
       "      <th></th>\n",
       "      <th></th>\n",
       "      <th></th>\n",
       "    </tr>\n",
       "  </thead>\n",
       "  <tbody>\n",
       "    <tr>\n",
       "      <th rowspan=\"2\" valign=\"top\">многодетные</th>\n",
       "      <th>не женат / не замужем</th>\n",
       "      <th>на недвижимость</th>\n",
       "      <td>1.0</td>\n",
       "      <td>2.0</td>\n",
       "      <td>66.67</td>\n",
       "      <td>-58.55</td>\n",
       "      <td>-87.8</td>\n",
       "      <td>Критический случай!</td>\n",
       "    </tr>\n",
       "    <tr>\n",
       "      <th>гражданский брак</th>\n",
       "      <th>на автомобиль</th>\n",
       "      <td>5.0</td>\n",
       "      <td>2.0</td>\n",
       "      <td>28.57</td>\n",
       "      <td>-20.45</td>\n",
       "      <td>-71.6</td>\n",
       "      <td>Критический случай!</td>\n",
       "    </tr>\n",
       "    <tr>\n",
       "      <th rowspan=\"2\" valign=\"top\">с 2 детьми</th>\n",
       "      <th>не женат / не замужем</th>\n",
       "      <th>на автомобиль</th>\n",
       "      <td>16.0</td>\n",
       "      <td>5.0</td>\n",
       "      <td>23.81</td>\n",
       "      <td>-15.69</td>\n",
       "      <td>-65.9</td>\n",
       "      <td>Критический случай!</td>\n",
       "    </tr>\n",
       "    <tr>\n",
       "      <th>гражданский брак</th>\n",
       "      <th>на образование</th>\n",
       "      <td>26.0</td>\n",
       "      <td>6.0</td>\n",
       "      <td>18.75</td>\n",
       "      <td>-10.63</td>\n",
       "      <td>-56.7</td>\n",
       "      <td>Критический случай!</td>\n",
       "    </tr>\n",
       "    <tr>\n",
       "      <th>с 1 ребенком</th>\n",
       "      <th>гражданский брак</th>\n",
       "      <th>на образование</th>\n",
       "      <td>79.0</td>\n",
       "      <td>18.0</td>\n",
       "      <td>18.56</td>\n",
       "      <td>-10.44</td>\n",
       "      <td>-56.2</td>\n",
       "      <td>Критический случай!</td>\n",
       "    </tr>\n",
       "    <tr>\n",
       "      <th>...</th>\n",
       "      <th>...</th>\n",
       "      <th>...</th>\n",
       "      <td>...</td>\n",
       "      <td>...</td>\n",
       "      <td>...</td>\n",
       "      <td>...</td>\n",
       "      <td>...</td>\n",
       "      <td>...</td>\n",
       "    </tr>\n",
       "    <tr>\n",
       "      <th rowspan=\"3\" valign=\"top\">многодетные</th>\n",
       "      <th>гражданский брак</th>\n",
       "      <th>на недвижимость</th>\n",
       "      <td>17.0</td>\n",
       "      <td>NaN</td>\n",
       "      <td>NaN</td>\n",
       "      <td>NaN</td>\n",
       "      <td>NaN</td>\n",
       "      <td>Крайние значения</td>\n",
       "    </tr>\n",
       "    <tr>\n",
       "      <th rowspan=\"2\" valign=\"top\">не женат / не замужем</th>\n",
       "      <th>на автомобиль</th>\n",
       "      <td>4.0</td>\n",
       "      <td>NaN</td>\n",
       "      <td>NaN</td>\n",
       "      <td>NaN</td>\n",
       "      <td>NaN</td>\n",
       "      <td>Крайние значения</td>\n",
       "    </tr>\n",
       "    <tr>\n",
       "      <th>на образование</th>\n",
       "      <td>3.0</td>\n",
       "      <td>NaN</td>\n",
       "      <td>NaN</td>\n",
       "      <td>NaN</td>\n",
       "      <td>NaN</td>\n",
       "      <td>Крайние значения</td>\n",
       "    </tr>\n",
       "    <tr>\n",
       "      <th>с 1 ребенком</th>\n",
       "      <th>вдовец / вдова</th>\n",
       "      <th>на автомобиль</th>\n",
       "      <td>11.0</td>\n",
       "      <td>NaN</td>\n",
       "      <td>NaN</td>\n",
       "      <td>NaN</td>\n",
       "      <td>NaN</td>\n",
       "      <td>Крайние значения</td>\n",
       "    </tr>\n",
       "    <tr>\n",
       "      <th>с 2 детьми</th>\n",
       "      <th>вдовец / вдова</th>\n",
       "      <th>на образование</th>\n",
       "      <td>2.0</td>\n",
       "      <td>NaN</td>\n",
       "      <td>NaN</td>\n",
       "      <td>NaN</td>\n",
       "      <td>NaN</td>\n",
       "      <td>Крайние значения</td>\n",
       "    </tr>\n",
       "  </tbody>\n",
       "</table>\n",
       "<p>62 rows × 6 columns</p>\n",
       "</div>"
      ],
      "text/plain": [
       "debt_group                                            без просрочек  \\\n",
       "children_group family_status         purpose_lemma                    \n",
       "многодетные    не женат / не замужем на недвижимость            1.0   \n",
       "               гражданский брак      на автомобиль              5.0   \n",
       "с 2 детьми     не женат / не замужем на автомобиль             16.0   \n",
       "               гражданский брак      на образование            26.0   \n",
       "с 1 ребенком   гражданский брак      на образование            79.0   \n",
       "...                                                             ...   \n",
       "многодетные    гражданский брак      на недвижимость           17.0   \n",
       "               не женат / не замужем на автомобиль              4.0   \n",
       "                                     на образование             3.0   \n",
       "с 1 ребенком   вдовец / вдова        на автомобиль             11.0   \n",
       "с 2 детьми     вдовец / вдова        на образование             2.0   \n",
       "\n",
       "debt_group                                            с просрочкой  \\\n",
       "children_group family_status         purpose_lemma                   \n",
       "многодетные    не женат / не замужем на недвижимость           2.0   \n",
       "               гражданский брак      на автомобиль             2.0   \n",
       "с 2 детьми     не женат / не замужем на автомобиль             5.0   \n",
       "               гражданский брак      на образование            6.0   \n",
       "с 1 ребенком   гражданский брак      на образование           18.0   \n",
       "...                                                            ...   \n",
       "многодетные    гражданский брак      на недвижимость           NaN   \n",
       "               не женат / не замужем на автомобиль             NaN   \n",
       "                                     на образование            NaN   \n",
       "с 1 ребенком   вдовец / вдова        на автомобиль             NaN   \n",
       "с 2 детьми     вдовец / вдова        на образование            NaN   \n",
       "\n",
       "debt_group                                            avg_debt_%  deviation  \\\n",
       "children_group family_status         purpose_lemma                            \n",
       "многодетные    не женат / не замужем на недвижимость       66.67     -58.55   \n",
       "               гражданский брак      на автомобиль         28.57     -20.45   \n",
       "с 2 детьми     не женат / не замужем на автомобиль         23.81     -15.69   \n",
       "               гражданский брак      на образование        18.75     -10.63   \n",
       "с 1 ребенком   гражданский брак      на образование        18.56     -10.44   \n",
       "...                                                          ...        ...   \n",
       "многодетные    гражданский брак      на недвижимость         NaN        NaN   \n",
       "               не женат / не замужем на автомобиль           NaN        NaN   \n",
       "                                     на образование          NaN        NaN   \n",
       "с 1 ребенком   вдовец / вдова        на автомобиль           NaN        NaN   \n",
       "с 2 детьми     вдовец / вдова        на образование          NaN        NaN   \n",
       "\n",
       "debt_group                                            deviation_%  \\\n",
       "children_group family_status         purpose_lemma                  \n",
       "многодетные    не женат / не замужем на недвижимость        -87.8   \n",
       "               гражданский брак      на автомобиль          -71.6   \n",
       "с 2 детьми     не женат / не замужем на автомобиль          -65.9   \n",
       "               гражданский брак      на образование         -56.7   \n",
       "с 1 ребенком   гражданский брак      на образование         -56.2   \n",
       "...                                                           ...   \n",
       "многодетные    гражданский брак      на недвижимость          NaN   \n",
       "               не женат / не замужем на автомобиль            NaN   \n",
       "                                     на образование           NaN   \n",
       "с 1 ребенком   вдовец / вдова        на автомобиль            NaN   \n",
       "с 2 детьми     вдовец / вдова        на образование           NaN   \n",
       "\n",
       "debt_group                                           category_special_case  \n",
       "children_group family_status         purpose_lemma                          \n",
       "многодетные    не женат / не замужем на недвижимость   Критический случай!  \n",
       "               гражданский брак      на автомобиль     Критический случай!  \n",
       "с 2 детьми     не женат / не замужем на автомобиль     Критический случай!  \n",
       "               гражданский брак      на образование    Критический случай!  \n",
       "с 1 ребенком   гражданский брак      на образование    Критический случай!  \n",
       "...                                                                    ...  \n",
       "многодетные    гражданский брак      на недвижимость      Крайние значения  \n",
       "               не женат / не замужем на автомобиль        Крайние значения  \n",
       "                                     на образование       Крайние значения  \n",
       "с 1 ребенком   вдовец / вдова        на автомобиль        Крайние значения  \n",
       "с 2 детьми     вдовец / вдова        на образование       Крайние значения  \n",
       "\n",
       "[62 rows x 6 columns]"
      ]
     },
     "metadata": {},
     "output_type": "display_data"
    },
    {
     "name": "stdout",
     "output_type": "stream",
     "text": [
      "Зависимость категорий children_group с family_status и total_income_group:\n"
     ]
    },
    {
     "data": {
      "text/html": [
       "<div>\n",
       "<style scoped>\n",
       "    .dataframe tbody tr th:only-of-type {\n",
       "        vertical-align: middle;\n",
       "    }\n",
       "\n",
       "    .dataframe tbody tr th {\n",
       "        vertical-align: top;\n",
       "    }\n",
       "\n",
       "    .dataframe thead th {\n",
       "        text-align: right;\n",
       "    }\n",
       "</style>\n",
       "<table border=\"1\" class=\"dataframe\">\n",
       "  <thead>\n",
       "    <tr style=\"text-align: right;\">\n",
       "      <th></th>\n",
       "      <th></th>\n",
       "      <th>debt_group</th>\n",
       "      <th>без просрочек</th>\n",
       "      <th>с просрочкой</th>\n",
       "      <th>avg_debt_%</th>\n",
       "      <th>deviation</th>\n",
       "      <th>deviation_%</th>\n",
       "      <th>category_special_case</th>\n",
       "    </tr>\n",
       "    <tr>\n",
       "      <th>children_group</th>\n",
       "      <th>family_status</th>\n",
       "      <th>total_income_group</th>\n",
       "      <th></th>\n",
       "      <th></th>\n",
       "      <th></th>\n",
       "      <th></th>\n",
       "      <th></th>\n",
       "      <th></th>\n",
       "    </tr>\n",
       "  </thead>\n",
       "  <tbody>\n",
       "    <tr>\n",
       "      <th>многодетные</th>\n",
       "      <th>не женат / не замужем</th>\n",
       "      <th>низкие доходы</th>\n",
       "      <td>1</td>\n",
       "      <td>1</td>\n",
       "      <td>50.00</td>\n",
       "      <td>-41.88</td>\n",
       "      <td>-83.8</td>\n",
       "      <td>Критический случай!</td>\n",
       "    </tr>\n",
       "    <tr>\n",
       "      <th>с 2 детьми</th>\n",
       "      <th>вдовец / вдова</th>\n",
       "      <th>высокие доходы</th>\n",
       "      <td>3</td>\n",
       "      <td>2</td>\n",
       "      <td>40.00</td>\n",
       "      <td>-31.88</td>\n",
       "      <td>-79.7</td>\n",
       "      <td>Критический случай!</td>\n",
       "    </tr>\n",
       "    <tr>\n",
       "      <th rowspan=\"2\" valign=\"top\">многодетные</th>\n",
       "      <th>не женат / не замужем</th>\n",
       "      <th>выше среднего доходы</th>\n",
       "      <td>2</td>\n",
       "      <td>1</td>\n",
       "      <td>33.33</td>\n",
       "      <td>-25.21</td>\n",
       "      <td>-75.6</td>\n",
       "      <td>Критический случай!</td>\n",
       "    </tr>\n",
       "    <tr>\n",
       "      <th>гражданский брак</th>\n",
       "      <th>низкие доходы</th>\n",
       "      <td>9</td>\n",
       "      <td>4</td>\n",
       "      <td>30.77</td>\n",
       "      <td>-22.65</td>\n",
       "      <td>-73.6</td>\n",
       "      <td>Критический случай!</td>\n",
       "    </tr>\n",
       "    <tr>\n",
       "      <th>с 1 ребенком</th>\n",
       "      <th>вдовец / вдова</th>\n",
       "      <th>средние доходы</th>\n",
       "      <td>9</td>\n",
       "      <td>3</td>\n",
       "      <td>25.00</td>\n",
       "      <td>-16.88</td>\n",
       "      <td>-67.5</td>\n",
       "      <td>Критический случай!</td>\n",
       "    </tr>\n",
       "    <tr>\n",
       "      <th>...</th>\n",
       "      <th>...</th>\n",
       "      <th>...</th>\n",
       "      <td>...</td>\n",
       "      <td>...</td>\n",
       "      <td>...</td>\n",
       "      <td>...</td>\n",
       "      <td>...</td>\n",
       "      <td>...</td>\n",
       "    </tr>\n",
       "    <tr>\n",
       "      <th>многодетные</th>\n",
       "      <th>не женат / не замужем</th>\n",
       "      <th>высокие доходы</th>\n",
       "      <td>1</td>\n",
       "      <td>0</td>\n",
       "      <td>0.00</td>\n",
       "      <td>8.12</td>\n",
       "      <td>inf</td>\n",
       "      <td>Хорошая ситуация</td>\n",
       "    </tr>\n",
       "    <tr>\n",
       "      <th rowspan=\"2\" valign=\"top\">с 2 детьми</th>\n",
       "      <th>не женат / не замужем</th>\n",
       "      <th>низкие доходы</th>\n",
       "      <td>21</td>\n",
       "      <td>0</td>\n",
       "      <td>0.00</td>\n",
       "      <td>8.12</td>\n",
       "      <td>inf</td>\n",
       "      <td>Хорошая ситуация</td>\n",
       "    </tr>\n",
       "    <tr>\n",
       "      <th>вдовец / вдова</th>\n",
       "      <th>низкие доходы</th>\n",
       "      <td>6</td>\n",
       "      <td>0</td>\n",
       "      <td>0.00</td>\n",
       "      <td>8.12</td>\n",
       "      <td>inf</td>\n",
       "      <td>Хорошая ситуация</td>\n",
       "    </tr>\n",
       "    <tr>\n",
       "      <th>с 1 ребенком</th>\n",
       "      <th>вдовец / вдова</th>\n",
       "      <th>низкие доходы</th>\n",
       "      <td>30</td>\n",
       "      <td>0</td>\n",
       "      <td>0.00</td>\n",
       "      <td>8.12</td>\n",
       "      <td>inf</td>\n",
       "      <td>Хорошая ситуация</td>\n",
       "    </tr>\n",
       "    <tr>\n",
       "      <th>многодетные</th>\n",
       "      <th>вдовец / вдова</th>\n",
       "      <th>низкие доходы</th>\n",
       "      <td>0</td>\n",
       "      <td>0</td>\n",
       "      <td>NaN</td>\n",
       "      <td>NaN</td>\n",
       "      <td>NaN</td>\n",
       "      <td>Крайние значения</td>\n",
       "    </tr>\n",
       "  </tbody>\n",
       "</table>\n",
       "<p>80 rows × 6 columns</p>\n",
       "</div>"
      ],
      "text/plain": [
       "debt_group                                                 без просрочек  \\\n",
       "children_group family_status         total_income_group                    \n",
       "многодетные    не женат / не замужем низкие доходы                     1   \n",
       "с 2 детьми     вдовец / вдова        высокие доходы                    3   \n",
       "многодетные    не женат / не замужем выше среднего доходы              2   \n",
       "               гражданский брак      низкие доходы                     9   \n",
       "с 1 ребенком   вдовец / вдова        средние доходы                    9   \n",
       "...                                                                  ...   \n",
       "многодетные    не женат / не замужем высокие доходы                    1   \n",
       "с 2 детьми     не женат / не замужем низкие доходы                    21   \n",
       "               вдовец / вдова        низкие доходы                     6   \n",
       "с 1 ребенком   вдовец / вдова        низкие доходы                    30   \n",
       "многодетные    вдовец / вдова        низкие доходы                     0   \n",
       "\n",
       "debt_group                                                 с просрочкой  \\\n",
       "children_group family_status         total_income_group                   \n",
       "многодетные    не женат / не замужем низкие доходы                    1   \n",
       "с 2 детьми     вдовец / вдова        высокие доходы                   2   \n",
       "многодетные    не женат / не замужем выше среднего доходы             1   \n",
       "               гражданский брак      низкие доходы                    4   \n",
       "с 1 ребенком   вдовец / вдова        средние доходы                   3   \n",
       "...                                                                 ...   \n",
       "многодетные    не женат / не замужем высокие доходы                   0   \n",
       "с 2 детьми     не женат / не замужем низкие доходы                    0   \n",
       "               вдовец / вдова        низкие доходы                    0   \n",
       "с 1 ребенком   вдовец / вдова        низкие доходы                    0   \n",
       "многодетные    вдовец / вдова        низкие доходы                    0   \n",
       "\n",
       "debt_group                                                 avg_debt_%  \\\n",
       "children_group family_status         total_income_group                 \n",
       "многодетные    не женат / не замужем низкие доходы              50.00   \n",
       "с 2 детьми     вдовец / вдова        высокие доходы             40.00   \n",
       "многодетные    не женат / не замужем выше среднего доходы       33.33   \n",
       "               гражданский брак      низкие доходы              30.77   \n",
       "с 1 ребенком   вдовец / вдова        средние доходы             25.00   \n",
       "...                                                               ...   \n",
       "многодетные    не женат / не замужем высокие доходы              0.00   \n",
       "с 2 детьми     не женат / не замужем низкие доходы               0.00   \n",
       "               вдовец / вдова        низкие доходы               0.00   \n",
       "с 1 ребенком   вдовец / вдова        низкие доходы               0.00   \n",
       "многодетные    вдовец / вдова        низкие доходы                NaN   \n",
       "\n",
       "debt_group                                                 deviation  \\\n",
       "children_group family_status         total_income_group                \n",
       "многодетные    не женат / не замужем низкие доходы            -41.88   \n",
       "с 2 детьми     вдовец / вдова        высокие доходы           -31.88   \n",
       "многодетные    не женат / не замужем выше среднего доходы     -25.21   \n",
       "               гражданский брак      низкие доходы            -22.65   \n",
       "с 1 ребенком   вдовец / вдова        средние доходы           -16.88   \n",
       "...                                                              ...   \n",
       "многодетные    не женат / не замужем высокие доходы             8.12   \n",
       "с 2 детьми     не женат / не замужем низкие доходы              8.12   \n",
       "               вдовец / вдова        низкие доходы              8.12   \n",
       "с 1 ребенком   вдовец / вдова        низкие доходы              8.12   \n",
       "многодетные    вдовец / вдова        низкие доходы               NaN   \n",
       "\n",
       "debt_group                                                 deviation_%  \\\n",
       "children_group family_status         total_income_group                  \n",
       "многодетные    не женат / не замужем низкие доходы               -83.8   \n",
       "с 2 детьми     вдовец / вдова        высокие доходы              -79.7   \n",
       "многодетные    не женат / не замужем выше среднего доходы        -75.6   \n",
       "               гражданский брак      низкие доходы               -73.6   \n",
       "с 1 ребенком   вдовец / вдова        средние доходы              -67.5   \n",
       "...                                                                ...   \n",
       "многодетные    не женат / не замужем высокие доходы                inf   \n",
       "с 2 детьми     не женат / не замужем низкие доходы                 inf   \n",
       "               вдовец / вдова        низкие доходы                 inf   \n",
       "с 1 ребенком   вдовец / вдова        низкие доходы                 inf   \n",
       "многодетные    вдовец / вдова        низкие доходы                 NaN   \n",
       "\n",
       "debt_group                                                category_special_case  \n",
       "children_group family_status         total_income_group                          \n",
       "многодетные    не женат / не замужем низкие доходы          Критический случай!  \n",
       "с 2 детьми     вдовец / вдова        высокие доходы         Критический случай!  \n",
       "многодетные    не женат / не замужем выше среднего доходы   Критический случай!  \n",
       "               гражданский брак      низкие доходы          Критический случай!  \n",
       "с 1 ребенком   вдовец / вдова        средние доходы         Критический случай!  \n",
       "...                                                                         ...  \n",
       "многодетные    не женат / не замужем высокие доходы            Хорошая ситуация  \n",
       "с 2 детьми     не женат / не замужем низкие доходы             Хорошая ситуация  \n",
       "               вдовец / вдова        низкие доходы             Хорошая ситуация  \n",
       "с 1 ребенком   вдовец / вдова        низкие доходы             Хорошая ситуация  \n",
       "многодетные    вдовец / вдова        низкие доходы             Крайние значения  \n",
       "\n",
       "[80 rows x 6 columns]"
      ]
     },
     "metadata": {},
     "output_type": "display_data"
    },
    {
     "name": "stdout",
     "output_type": "stream",
     "text": [
      "Зависимость категорий children_group с income_type и education:\n"
     ]
    },
    {
     "data": {
      "text/html": [
       "<div>\n",
       "<style scoped>\n",
       "    .dataframe tbody tr th:only-of-type {\n",
       "        vertical-align: middle;\n",
       "    }\n",
       "\n",
       "    .dataframe tbody tr th {\n",
       "        vertical-align: top;\n",
       "    }\n",
       "\n",
       "    .dataframe thead th {\n",
       "        text-align: right;\n",
       "    }\n",
       "</style>\n",
       "<table border=\"1\" class=\"dataframe\">\n",
       "  <thead>\n",
       "    <tr style=\"text-align: right;\">\n",
       "      <th></th>\n",
       "      <th></th>\n",
       "      <th>debt_group</th>\n",
       "      <th>без просрочек</th>\n",
       "      <th>с просрочкой</th>\n",
       "      <th>avg_debt_%</th>\n",
       "      <th>deviation</th>\n",
       "      <th>deviation_%</th>\n",
       "      <th>category_special_case</th>\n",
       "    </tr>\n",
       "    <tr>\n",
       "      <th>children_group</th>\n",
       "      <th>income_type</th>\n",
       "      <th>education</th>\n",
       "      <th></th>\n",
       "      <th></th>\n",
       "      <th></th>\n",
       "      <th></th>\n",
       "      <th></th>\n",
       "      <th></th>\n",
       "    </tr>\n",
       "  </thead>\n",
       "  <tbody>\n",
       "    <tr>\n",
       "      <th>с 2 детьми</th>\n",
       "      <th>сотрудник</th>\n",
       "      <th>начальное</th>\n",
       "      <td>14.0</td>\n",
       "      <td>6.0</td>\n",
       "      <td>30.00</td>\n",
       "      <td>-21.88</td>\n",
       "      <td>-72.9</td>\n",
       "      <td>Критический случай!</td>\n",
       "    </tr>\n",
       "    <tr>\n",
       "      <th>с 1 ребенком</th>\n",
       "      <th>сотрудник</th>\n",
       "      <th>начальное</th>\n",
       "      <td>32.0</td>\n",
       "      <td>8.0</td>\n",
       "      <td>20.00</td>\n",
       "      <td>-11.88</td>\n",
       "      <td>-59.4</td>\n",
       "      <td>Критический случай!</td>\n",
       "    </tr>\n",
       "    <tr>\n",
       "      <th>без детей</th>\n",
       "      <th>компаньон</th>\n",
       "      <th>начальное</th>\n",
       "      <td>13.0</td>\n",
       "      <td>3.0</td>\n",
       "      <td>18.75</td>\n",
       "      <td>-10.63</td>\n",
       "      <td>-56.7</td>\n",
       "      <td>Критический случай!</td>\n",
       "    </tr>\n",
       "    <tr>\n",
       "      <th>с 2 детьми</th>\n",
       "      <th>сотрудник</th>\n",
       "      <th>неоконченное высшее</th>\n",
       "      <td>36.0</td>\n",
       "      <td>8.0</td>\n",
       "      <td>18.18</td>\n",
       "      <td>-10.06</td>\n",
       "      <td>-55.3</td>\n",
       "      <td>Критический случай!</td>\n",
       "    </tr>\n",
       "    <tr>\n",
       "      <th>многодетные</th>\n",
       "      <th>пенсионер</th>\n",
       "      <th>среднее</th>\n",
       "      <td>5.0</td>\n",
       "      <td>1.0</td>\n",
       "      <td>16.67</td>\n",
       "      <td>-8.55</td>\n",
       "      <td>-51.3</td>\n",
       "      <td>Критический случай!</td>\n",
       "    </tr>\n",
       "    <tr>\n",
       "      <th>...</th>\n",
       "      <th>...</th>\n",
       "      <th>...</th>\n",
       "      <td>...</td>\n",
       "      <td>...</td>\n",
       "      <td>...</td>\n",
       "      <td>...</td>\n",
       "      <td>...</td>\n",
       "      <td>...</td>\n",
       "    </tr>\n",
       "    <tr>\n",
       "      <th>с 1 ребенком</th>\n",
       "      <th>сотрудник</th>\n",
       "      <th>ученая степень</th>\n",
       "      <td>1.0</td>\n",
       "      <td>NaN</td>\n",
       "      <td>NaN</td>\n",
       "      <td>NaN</td>\n",
       "      <td>NaN</td>\n",
       "      <td>Крайние значения</td>\n",
       "    </tr>\n",
       "    <tr>\n",
       "      <th rowspan=\"4\" valign=\"top\">с 2 детьми</th>\n",
       "      <th>в декрете</th>\n",
       "      <th>среднее</th>\n",
       "      <td>NaN</td>\n",
       "      <td>1.0</td>\n",
       "      <td>NaN</td>\n",
       "      <td>NaN</td>\n",
       "      <td>NaN</td>\n",
       "      <td>Крайние значения</td>\n",
       "    </tr>\n",
       "    <tr>\n",
       "      <th>госслужащий</th>\n",
       "      <th>неоконченное высшее</th>\n",
       "      <td>5.0</td>\n",
       "      <td>NaN</td>\n",
       "      <td>NaN</td>\n",
       "      <td>NaN</td>\n",
       "      <td>NaN</td>\n",
       "      <td>Крайние значения</td>\n",
       "    </tr>\n",
       "    <tr>\n",
       "      <th>компаньон</th>\n",
       "      <th>начальное</th>\n",
       "      <td>4.0</td>\n",
       "      <td>NaN</td>\n",
       "      <td>NaN</td>\n",
       "      <td>NaN</td>\n",
       "      <td>NaN</td>\n",
       "      <td>Крайние значения</td>\n",
       "    </tr>\n",
       "    <tr>\n",
       "      <th>пенсионер</th>\n",
       "      <th>начальное</th>\n",
       "      <td>1.0</td>\n",
       "      <td>NaN</td>\n",
       "      <td>NaN</td>\n",
       "      <td>NaN</td>\n",
       "      <td>NaN</td>\n",
       "      <td>Крайние значения</td>\n",
       "    </tr>\n",
       "  </tbody>\n",
       "</table>\n",
       "<p>66 rows × 6 columns</p>\n",
       "</div>"
      ],
      "text/plain": [
       "debt_group                                      без просрочек  с просрочкой  \\\n",
       "children_group income_type education                                          \n",
       "с 2 детьми     сотрудник   начальное                     14.0           6.0   \n",
       "с 1 ребенком   сотрудник   начальное                     32.0           8.0   \n",
       "без детей      компаньон   начальное                     13.0           3.0   \n",
       "с 2 детьми     сотрудник   неоконченное высшее           36.0           8.0   \n",
       "многодетные    пенсионер   среднее                        5.0           1.0   \n",
       "...                                                       ...           ...   \n",
       "с 1 ребенком   сотрудник   ученая степень                 1.0           NaN   \n",
       "с 2 детьми     в декрете   среднее                        NaN           1.0   \n",
       "               госслужащий неоконченное высшее            5.0           NaN   \n",
       "               компаньон   начальное                      4.0           NaN   \n",
       "               пенсионер   начальное                      1.0           NaN   \n",
       "\n",
       "debt_group                                      avg_debt_%  deviation  \\\n",
       "children_group income_type education                                    \n",
       "с 2 детьми     сотрудник   начальное                 30.00     -21.88   \n",
       "с 1 ребенком   сотрудник   начальное                 20.00     -11.88   \n",
       "без детей      компаньон   начальное                 18.75     -10.63   \n",
       "с 2 детьми     сотрудник   неоконченное высшее       18.18     -10.06   \n",
       "многодетные    пенсионер   среднее                   16.67      -8.55   \n",
       "...                                                    ...        ...   \n",
       "с 1 ребенком   сотрудник   ученая степень              NaN        NaN   \n",
       "с 2 детьми     в декрете   среднее                     NaN        NaN   \n",
       "               госслужащий неоконченное высшее         NaN        NaN   \n",
       "               компаньон   начальное                   NaN        NaN   \n",
       "               пенсионер   начальное                   NaN        NaN   \n",
       "\n",
       "debt_group                                      deviation_%  \\\n",
       "children_group income_type education                          \n",
       "с 2 детьми     сотрудник   начальное                  -72.9   \n",
       "с 1 ребенком   сотрудник   начальное                  -59.4   \n",
       "без детей      компаньон   начальное                  -56.7   \n",
       "с 2 детьми     сотрудник   неоконченное высшее        -55.3   \n",
       "многодетные    пенсионер   среднее                    -51.3   \n",
       "...                                                     ...   \n",
       "с 1 ребенком   сотрудник   ученая степень               NaN   \n",
       "с 2 детьми     в декрете   среднее                      NaN   \n",
       "               госслужащий неоконченное высшее          NaN   \n",
       "               компаньон   начальное                    NaN   \n",
       "               пенсионер   начальное                    NaN   \n",
       "\n",
       "debt_group                                     category_special_case  \n",
       "children_group income_type education                                  \n",
       "с 2 детьми     сотрудник   начальное             Критический случай!  \n",
       "с 1 ребенком   сотрудник   начальное             Критический случай!  \n",
       "без детей      компаньон   начальное             Критический случай!  \n",
       "с 2 детьми     сотрудник   неоконченное высшее   Критический случай!  \n",
       "многодетные    пенсионер   среднее               Критический случай!  \n",
       "...                                                              ...  \n",
       "с 1 ребенком   сотрудник   ученая степень           Крайние значения  \n",
       "с 2 детьми     в декрете   среднее                  Крайние значения  \n",
       "               госслужащий неоконченное высшее      Крайние значения  \n",
       "               компаньон   начальное                Крайние значения  \n",
       "               пенсионер   начальное                Крайние значения  \n",
       "\n",
       "[66 rows x 6 columns]"
      ]
     },
     "metadata": {},
     "output_type": "display_data"
    },
    {
     "name": "stdout",
     "output_type": "stream",
     "text": [
      "Зависимость категорий children_group с income_type и purpose_lemma:\n"
     ]
    },
    {
     "data": {
      "text/html": [
       "<div>\n",
       "<style scoped>\n",
       "    .dataframe tbody tr th:only-of-type {\n",
       "        vertical-align: middle;\n",
       "    }\n",
       "\n",
       "    .dataframe tbody tr th {\n",
       "        vertical-align: top;\n",
       "    }\n",
       "\n",
       "    .dataframe thead th {\n",
       "        text-align: right;\n",
       "    }\n",
       "</style>\n",
       "<table border=\"1\" class=\"dataframe\">\n",
       "  <thead>\n",
       "    <tr style=\"text-align: right;\">\n",
       "      <th></th>\n",
       "      <th></th>\n",
       "      <th>debt_group</th>\n",
       "      <th>без просрочек</th>\n",
       "      <th>с просрочкой</th>\n",
       "      <th>avg_debt_%</th>\n",
       "      <th>deviation</th>\n",
       "      <th>deviation_%</th>\n",
       "      <th>category_special_case</th>\n",
       "    </tr>\n",
       "    <tr>\n",
       "      <th>children_group</th>\n",
       "      <th>income_type</th>\n",
       "      <th>purpose_lemma</th>\n",
       "      <th></th>\n",
       "      <th></th>\n",
       "      <th></th>\n",
       "      <th></th>\n",
       "      <th></th>\n",
       "      <th></th>\n",
       "    </tr>\n",
       "  </thead>\n",
       "  <tbody>\n",
       "    <tr>\n",
       "      <th>с 2 детьми</th>\n",
       "      <th>пенсионер</th>\n",
       "      <th>на образование</th>\n",
       "      <td>4.0</td>\n",
       "      <td>2.0</td>\n",
       "      <td>33.33</td>\n",
       "      <td>-25.21</td>\n",
       "      <td>-75.6</td>\n",
       "      <td>Критический случай!</td>\n",
       "    </tr>\n",
       "    <tr>\n",
       "      <th>многодетные</th>\n",
       "      <th>сотрудник</th>\n",
       "      <th>на свадьбу</th>\n",
       "      <td>22.0</td>\n",
       "      <td>4.0</td>\n",
       "      <td>15.38</td>\n",
       "      <td>-7.26</td>\n",
       "      <td>-47.2</td>\n",
       "      <td>Особая проблемная ситуация!</td>\n",
       "    </tr>\n",
       "    <tr>\n",
       "      <th rowspan=\"2\" valign=\"top\">с 2 детьми</th>\n",
       "      <th>пенсионер</th>\n",
       "      <th>на автомобиль</th>\n",
       "      <td>6.0</td>\n",
       "      <td>1.0</td>\n",
       "      <td>14.29</td>\n",
       "      <td>-6.17</td>\n",
       "      <td>-43.2</td>\n",
       "      <td>Особая проблемная ситуация!</td>\n",
       "    </tr>\n",
       "    <tr>\n",
       "      <th>сотрудник</th>\n",
       "      <th>на автомобиль</th>\n",
       "      <td>223.0</td>\n",
       "      <td>37.0</td>\n",
       "      <td>14.23</td>\n",
       "      <td>-6.11</td>\n",
       "      <td>-42.9</td>\n",
       "      <td>Особая проблемная ситуация!</td>\n",
       "    </tr>\n",
       "    <tr>\n",
       "      <th rowspan=\"3\" valign=\"top\">с 1 ребенком</th>\n",
       "      <th>компаньон</th>\n",
       "      <th>на свадьбу</th>\n",
       "      <td>124.0</td>\n",
       "      <td>20.0</td>\n",
       "      <td>13.89</td>\n",
       "      <td>-5.77</td>\n",
       "      <td>-41.5</td>\n",
       "      <td>Особая проблемная ситуация!</td>\n",
       "    </tr>\n",
       "    <tr>\n",
       "      <th>...</th>\n",
       "      <th>...</th>\n",
       "      <td>...</td>\n",
       "      <td>...</td>\n",
       "      <td>...</td>\n",
       "      <td>...</td>\n",
       "      <td>...</td>\n",
       "      <td>...</td>\n",
       "    </tr>\n",
       "    <tr>\n",
       "      <th>безработный</th>\n",
       "      <th>на недвижимость</th>\n",
       "      <td>NaN</td>\n",
       "      <td>1.0</td>\n",
       "      <td>NaN</td>\n",
       "      <td>NaN</td>\n",
       "      <td>NaN</td>\n",
       "      <td>Крайние значения</td>\n",
       "    </tr>\n",
       "    <tr>\n",
       "      <th rowspan=\"4\" valign=\"top\">с 2 детьми</th>\n",
       "      <th>в декрете</th>\n",
       "      <th>на автомобиль</th>\n",
       "      <td>NaN</td>\n",
       "      <td>1.0</td>\n",
       "      <td>NaN</td>\n",
       "      <td>NaN</td>\n",
       "      <td>NaN</td>\n",
       "      <td>Крайние значения</td>\n",
       "    </tr>\n",
       "    <tr>\n",
       "      <th>госслужащий</th>\n",
       "      <th>на свадьбу</th>\n",
       "      <td>24.0</td>\n",
       "      <td>NaN</td>\n",
       "      <td>NaN</td>\n",
       "      <td>NaN</td>\n",
       "      <td>NaN</td>\n",
       "      <td>Крайние значения</td>\n",
       "    </tr>\n",
       "    <tr>\n",
       "      <th rowspan=\"2\" valign=\"top\">пенсионер</th>\n",
       "      <th>на недвижимость</th>\n",
       "      <td>14.0</td>\n",
       "      <td>NaN</td>\n",
       "      <td>NaN</td>\n",
       "      <td>NaN</td>\n",
       "      <td>NaN</td>\n",
       "      <td>Крайние значения</td>\n",
       "    </tr>\n",
       "    <tr>\n",
       "      <th>на свадьбу</th>\n",
       "      <td>2.0</td>\n",
       "      <td>NaN</td>\n",
       "      <td>NaN</td>\n",
       "      <td>NaN</td>\n",
       "      <td>NaN</td>\n",
       "      <td>Крайние значения</td>\n",
       "    </tr>\n",
       "  </tbody>\n",
       "</table>\n",
       "<p>69 rows × 6 columns</p>\n",
       "</div>"
      ],
      "text/plain": [
       "debt_group                                  без просрочек  с просрочкой  \\\n",
       "children_group income_type purpose_lemma                                  \n",
       "с 2 детьми     пенсионер   на образование             4.0           2.0   \n",
       "многодетные    сотрудник   на свадьбу                22.0           4.0   \n",
       "с 2 детьми     пенсионер   на автомобиль              6.0           1.0   \n",
       "               сотрудник   на автомобиль            223.0          37.0   \n",
       "с 1 ребенком   компаньон   на свадьбу               124.0          20.0   \n",
       "...                                                   ...           ...   \n",
       "               безработный на недвижимость            NaN           1.0   \n",
       "с 2 детьми     в декрете   на автомобиль              NaN           1.0   \n",
       "               госслужащий на свадьбу                24.0           NaN   \n",
       "               пенсионер   на недвижимость           14.0           NaN   \n",
       "                           на свадьбу                 2.0           NaN   \n",
       "\n",
       "debt_group                                  avg_debt_%  deviation  \\\n",
       "children_group income_type purpose_lemma                            \n",
       "с 2 детьми     пенсионер   на образование        33.33     -25.21   \n",
       "многодетные    сотрудник   на свадьбу            15.38      -7.26   \n",
       "с 2 детьми     пенсионер   на автомобиль         14.29      -6.17   \n",
       "               сотрудник   на автомобиль         14.23      -6.11   \n",
       "с 1 ребенком   компаньон   на свадьбу            13.89      -5.77   \n",
       "...                                                ...        ...   \n",
       "               безработный на недвижимость         NaN        NaN   \n",
       "с 2 детьми     в декрете   на автомобиль           NaN        NaN   \n",
       "               госслужащий на свадьбу              NaN        NaN   \n",
       "               пенсионер   на недвижимость         NaN        NaN   \n",
       "                           на свадьбу              NaN        NaN   \n",
       "\n",
       "debt_group                                  deviation_%  \\\n",
       "children_group income_type purpose_lemma                  \n",
       "с 2 детьми     пенсионер   на образование         -75.6   \n",
       "многодетные    сотрудник   на свадьбу             -47.2   \n",
       "с 2 детьми     пенсионер   на автомобиль          -43.2   \n",
       "               сотрудник   на автомобиль          -42.9   \n",
       "с 1 ребенком   компаньон   на свадьбу             -41.5   \n",
       "...                                                 ...   \n",
       "               безработный на недвижимость          NaN   \n",
       "с 2 детьми     в декрете   на автомобиль            NaN   \n",
       "               госслужащий на свадьбу               NaN   \n",
       "               пенсионер   на недвижимость          NaN   \n",
       "                           на свадьбу               NaN   \n",
       "\n",
       "debt_group                                        category_special_case  \n",
       "children_group income_type purpose_lemma                                 \n",
       "с 2 детьми     пенсионер   на образование           Критический случай!  \n",
       "многодетные    сотрудник   на свадьбу       Особая проблемная ситуация!  \n",
       "с 2 детьми     пенсионер   на автомобиль    Особая проблемная ситуация!  \n",
       "               сотрудник   на автомобиль    Особая проблемная ситуация!  \n",
       "с 1 ребенком   компаньон   на свадьбу       Особая проблемная ситуация!  \n",
       "...                                                                 ...  \n",
       "               безработный на недвижимость             Крайние значения  \n",
       "с 2 детьми     в декрете   на автомобиль               Крайние значения  \n",
       "               госслужащий на свадьбу                  Крайние значения  \n",
       "               пенсионер   на недвижимость             Крайние значения  \n",
       "                           на свадьбу                  Крайние значения  \n",
       "\n",
       "[69 rows x 6 columns]"
      ]
     },
     "metadata": {},
     "output_type": "display_data"
    },
    {
     "name": "stdout",
     "output_type": "stream",
     "text": [
      "Зависимость категорий children_group с income_type и total_income_group:\n"
     ]
    },
    {
     "data": {
      "text/html": [
       "<div>\n",
       "<style scoped>\n",
       "    .dataframe tbody tr th:only-of-type {\n",
       "        vertical-align: middle;\n",
       "    }\n",
       "\n",
       "    .dataframe tbody tr th {\n",
       "        vertical-align: top;\n",
       "    }\n",
       "\n",
       "    .dataframe thead th {\n",
       "        text-align: right;\n",
       "    }\n",
       "</style>\n",
       "<table border=\"1\" class=\"dataframe\">\n",
       "  <thead>\n",
       "    <tr style=\"text-align: right;\">\n",
       "      <th></th>\n",
       "      <th></th>\n",
       "      <th>debt_group</th>\n",
       "      <th>без просрочек</th>\n",
       "      <th>с просрочкой</th>\n",
       "      <th>avg_debt_%</th>\n",
       "      <th>deviation</th>\n",
       "      <th>deviation_%</th>\n",
       "      <th>category_special_case</th>\n",
       "    </tr>\n",
       "    <tr>\n",
       "      <th>children_group</th>\n",
       "      <th>income_type</th>\n",
       "      <th>total_income_group</th>\n",
       "      <th></th>\n",
       "      <th></th>\n",
       "      <th></th>\n",
       "      <th></th>\n",
       "      <th></th>\n",
       "      <th></th>\n",
       "    </tr>\n",
       "  </thead>\n",
       "  <tbody>\n",
       "    <tr>\n",
       "      <th>с 2 детьми</th>\n",
       "      <th>в декрете</th>\n",
       "      <th>низкие доходы</th>\n",
       "      <td>0</td>\n",
       "      <td>1</td>\n",
       "      <td>100.00</td>\n",
       "      <td>-91.88</td>\n",
       "      <td>-91.9</td>\n",
       "      <td>Критический случай!</td>\n",
       "    </tr>\n",
       "    <tr>\n",
       "      <th>с 1 ребенком</th>\n",
       "      <th>безработный</th>\n",
       "      <th>низкие доходы</th>\n",
       "      <td>0</td>\n",
       "      <td>1</td>\n",
       "      <td>100.00</td>\n",
       "      <td>-91.88</td>\n",
       "      <td>-91.9</td>\n",
       "      <td>Критический случай!</td>\n",
       "    </tr>\n",
       "    <tr>\n",
       "      <th rowspan=\"2\" valign=\"top\">многодетные</th>\n",
       "      <th>пенсионер</th>\n",
       "      <th>низкие доходы</th>\n",
       "      <td>2</td>\n",
       "      <td>1</td>\n",
       "      <td>33.33</td>\n",
       "      <td>-25.21</td>\n",
       "      <td>-75.6</td>\n",
       "      <td>Критический случай!</td>\n",
       "    </tr>\n",
       "    <tr>\n",
       "      <th>госслужащий</th>\n",
       "      <th>низкие доходы</th>\n",
       "      <td>7</td>\n",
       "      <td>2</td>\n",
       "      <td>22.22</td>\n",
       "      <td>-14.10</td>\n",
       "      <td>-63.5</td>\n",
       "      <td>Критический случай!</td>\n",
       "    </tr>\n",
       "    <tr>\n",
       "      <th rowspan=\"7\" valign=\"top\">с 2 детьми</th>\n",
       "      <th>пенсионер</th>\n",
       "      <th>выше среднего доходы</th>\n",
       "      <td>6</td>\n",
       "      <td>1</td>\n",
       "      <td>14.29</td>\n",
       "      <td>-6.17</td>\n",
       "      <td>-43.2</td>\n",
       "      <td>Особая проблемная ситуация!</td>\n",
       "    </tr>\n",
       "    <tr>\n",
       "      <th>...</th>\n",
       "      <th>...</th>\n",
       "      <td>...</td>\n",
       "      <td>...</td>\n",
       "      <td>...</td>\n",
       "      <td>...</td>\n",
       "      <td>...</td>\n",
       "      <td>...</td>\n",
       "    </tr>\n",
       "    <tr>\n",
       "      <th>предприниматель</th>\n",
       "      <th>высокие доходы</th>\n",
       "      <td>0</td>\n",
       "      <td>0</td>\n",
       "      <td>NaN</td>\n",
       "      <td>NaN</td>\n",
       "      <td>NaN</td>\n",
       "      <td>Крайние значения</td>\n",
       "    </tr>\n",
       "    <tr>\n",
       "      <th rowspan=\"4\" valign=\"top\">студент</th>\n",
       "      <th>низкие доходы</th>\n",
       "      <td>0</td>\n",
       "      <td>0</td>\n",
       "      <td>NaN</td>\n",
       "      <td>NaN</td>\n",
       "      <td>NaN</td>\n",
       "      <td>Крайние значения</td>\n",
       "    </tr>\n",
       "    <tr>\n",
       "      <th>средние доходы</th>\n",
       "      <td>0</td>\n",
       "      <td>0</td>\n",
       "      <td>NaN</td>\n",
       "      <td>NaN</td>\n",
       "      <td>NaN</td>\n",
       "      <td>Крайние значения</td>\n",
       "    </tr>\n",
       "    <tr>\n",
       "      <th>выше среднего доходы</th>\n",
       "      <td>0</td>\n",
       "      <td>0</td>\n",
       "      <td>NaN</td>\n",
       "      <td>NaN</td>\n",
       "      <td>NaN</td>\n",
       "      <td>Крайние значения</td>\n",
       "    </tr>\n",
       "    <tr>\n",
       "      <th>высокие доходы</th>\n",
       "      <td>0</td>\n",
       "      <td>0</td>\n",
       "      <td>NaN</td>\n",
       "      <td>NaN</td>\n",
       "      <td>NaN</td>\n",
       "      <td>Крайние значения</td>\n",
       "    </tr>\n",
       "  </tbody>\n",
       "</table>\n",
       "<p>128 rows × 6 columns</p>\n",
       "</div>"
      ],
      "text/plain": [
       "debt_group                                           без просрочек  \\\n",
       "children_group income_type     total_income_group                    \n",
       "с 2 детьми     в декрете       низкие доходы                     0   \n",
       "с 1 ребенком   безработный     низкие доходы                     0   \n",
       "многодетные    пенсионер       низкие доходы                     2   \n",
       "               госслужащий     низкие доходы                     7   \n",
       "с 2 детьми     пенсионер       выше среднего доходы              6   \n",
       "...                                                            ...   \n",
       "               предприниматель высокие доходы                    0   \n",
       "               студент         низкие доходы                     0   \n",
       "                               средние доходы                    0   \n",
       "                               выше среднего доходы              0   \n",
       "                               высокие доходы                    0   \n",
       "\n",
       "debt_group                                           с просрочкой  avg_debt_%  \\\n",
       "children_group income_type     total_income_group                               \n",
       "с 2 детьми     в декрете       низкие доходы                    1      100.00   \n",
       "с 1 ребенком   безработный     низкие доходы                    1      100.00   \n",
       "многодетные    пенсионер       низкие доходы                    1       33.33   \n",
       "               госслужащий     низкие доходы                    2       22.22   \n",
       "с 2 детьми     пенсионер       выше среднего доходы             1       14.29   \n",
       "...                                                           ...         ...   \n",
       "               предприниматель высокие доходы                   0         NaN   \n",
       "               студент         низкие доходы                    0         NaN   \n",
       "                               средние доходы                   0         NaN   \n",
       "                               выше среднего доходы             0         NaN   \n",
       "                               высокие доходы                   0         NaN   \n",
       "\n",
       "debt_group                                           deviation  deviation_%  \\\n",
       "children_group income_type     total_income_group                             \n",
       "с 2 детьми     в декрете       низкие доходы            -91.88        -91.9   \n",
       "с 1 ребенком   безработный     низкие доходы            -91.88        -91.9   \n",
       "многодетные    пенсионер       низкие доходы            -25.21        -75.6   \n",
       "               госслужащий     низкие доходы            -14.10        -63.5   \n",
       "с 2 детьми     пенсионер       выше среднего доходы      -6.17        -43.2   \n",
       "...                                                        ...          ...   \n",
       "               предприниматель высокие доходы              NaN          NaN   \n",
       "               студент         низкие доходы               NaN          NaN   \n",
       "                               средние доходы              NaN          NaN   \n",
       "                               выше среднего доходы        NaN          NaN   \n",
       "                               высокие доходы              NaN          NaN   \n",
       "\n",
       "debt_group                                                 category_special_case  \n",
       "children_group income_type     total_income_group                                 \n",
       "с 2 детьми     в декрете       низкие доходы                 Критический случай!  \n",
       "с 1 ребенком   безработный     низкие доходы                 Критический случай!  \n",
       "многодетные    пенсионер       низкие доходы                 Критический случай!  \n",
       "               госслужащий     низкие доходы                 Критический случай!  \n",
       "с 2 детьми     пенсионер       выше среднего доходы  Особая проблемная ситуация!  \n",
       "...                                                                          ...  \n",
       "               предприниматель высокие доходы                   Крайние значения  \n",
       "               студент         низкие доходы                    Крайние значения  \n",
       "                               средние доходы                   Крайние значения  \n",
       "                               выше среднего доходы             Крайние значения  \n",
       "                               высокие доходы                   Крайние значения  \n",
       "\n",
       "[128 rows x 6 columns]"
      ]
     },
     "metadata": {},
     "output_type": "display_data"
    }
   ],
   "source": [
    "#применим функцию для комбинации основной категории с двумя дополнительными\n",
    "create_combination_twice('children_group', list_addiction_with_children_group)"
   ]
  },
  {
   "cell_type": "markdown",
   "metadata": {},
   "source": [
    "При применении основной категории с 2мя дополнительными, выявились значительные корреляции в данных. Появилось больше критических, особых проблемных ситуаций и крайних случаев. \n",
    "\n",
    "Однако важно заметить, серьезные отклонения в основе своей, выявлены на малой выборке. Поэтому принимать или нет текущие данные, это выбор заказчика."
   ]
  },
  {
   "cell_type": "markdown",
   "metadata": {},
   "source": [
    "Критические и особые проблемные ситуации, есть во всех комбинациях.\n",
    "\n",
    "Крайние положительные и крайние отрицательные ситуации есть в комбинациях с \"образованием\" и \"полом\", с \"семейным положением\" и \"образованием\", с \"семейным положением\" и \"целями\", с \"семейным положением\" и \"доходами\", с \"рабочим положением\" и \"образованием\", с \"рабочим состоянием\" и \"целями\", с \"рабочим положением\" и \"доходами\""
   ]
  },
  {
   "cell_type": "markdown",
   "metadata": {},
   "source": [
    "Мы могли бы и далее увеличивать кол-во комбинаций между категориями, но результаты будут ориентированны еще на меньшей выборке чем с 3мя. А это уже будут не совсем корректные данные.\n",
    "\n",
    "Поэтому остановимся на комбинации из 3 категорий. А при наличии большей выборки можно будет комбинировать и больше значений."
   ]
  },
  {
   "cell_type": "markdown",
   "metadata": {},
   "source": [
    "**Вывод**"
   ]
  },
  {
   "cell_type": "markdown",
   "metadata": {},
   "source": [
    "Отвечая на вопрос \"Есть ли зависимость между наличием детей и возвратом кредита в срок?\", можно сказать следующее, есть отклонение/зависимость в худшую сторону у заемщиков с 1м и 2мя детьми на 13,9% и 11,1% соответственно от исходной средней величины. Положительные результаты у категорий \"многодетные\" на  1,8% и \"без детей\" на 7,3%.\n",
    "\n",
    "При группировки с 1м или 2мя дополнительными категориями, есть явные отлонения, включая \"критических\" и \"особых проблемных\" ситуаций, но здесь во-первых, нет явных \"перекосов\" одних категорий по наличию детей от других, и во-вторых, все \"критические\", \"особые\" и \"крайние\" ситуации выявлены на малых выборках. \n",
    "\n",
    "Есть явно выраженная зависимость от уровня образования."
   ]
  },
  {
   "cell_type": "markdown",
   "metadata": {},
   "source": [
    "#### Зависимость с учетом семейного положения"
   ]
  },
  {
   "cell_type": "markdown",
   "metadata": {},
   "source": [
    "- Есть ли зависимость между семейным положением и возвратом кредита в срок?"
   ]
  },
  {
   "cell_type": "code",
   "execution_count": 53,
   "metadata": {
    "scrolled": true
   },
   "outputs": [
    {
     "data": {
      "text/html": [
       "<div>\n",
       "<style scoped>\n",
       "    .dataframe tbody tr th:only-of-type {\n",
       "        vertical-align: middle;\n",
       "    }\n",
       "\n",
       "    .dataframe tbody tr th {\n",
       "        vertical-align: top;\n",
       "    }\n",
       "\n",
       "    .dataframe thead th {\n",
       "        text-align: right;\n",
       "    }\n",
       "</style>\n",
       "<table border=\"1\" class=\"dataframe\">\n",
       "  <thead>\n",
       "    <tr style=\"text-align: right;\">\n",
       "      <th>debt_group</th>\n",
       "      <th>без просрочек</th>\n",
       "      <th>с просрочкой</th>\n",
       "      <th>avg_debt_%</th>\n",
       "      <th>deviation</th>\n",
       "      <th>deviation_%</th>\n",
       "      <th>category_special_case</th>\n",
       "    </tr>\n",
       "    <tr>\n",
       "      <th>family_status</th>\n",
       "      <th></th>\n",
       "      <th></th>\n",
       "      <th></th>\n",
       "      <th></th>\n",
       "      <th></th>\n",
       "      <th></th>\n",
       "    </tr>\n",
       "  </thead>\n",
       "  <tbody>\n",
       "    <tr>\n",
       "      <th>не женат / не замужем</th>\n",
       "      <td>2536</td>\n",
       "      <td>274</td>\n",
       "      <td>9.75</td>\n",
       "      <td>-1.63</td>\n",
       "      <td>-16.7</td>\n",
       "      <td>Проблемная ситуация.</td>\n",
       "    </tr>\n",
       "    <tr>\n",
       "      <th>гражданский брак</th>\n",
       "      <td>3762</td>\n",
       "      <td>388</td>\n",
       "      <td>9.35</td>\n",
       "      <td>-1.23</td>\n",
       "      <td>-13.2</td>\n",
       "      <td>Проблемная ситуация.</td>\n",
       "    </tr>\n",
       "    <tr>\n",
       "      <th>женат / замужем</th>\n",
       "      <td>11408</td>\n",
       "      <td>931</td>\n",
       "      <td>7.55</td>\n",
       "      <td>0.57</td>\n",
       "      <td>7.5</td>\n",
       "      <td>Хорошая ситуация</td>\n",
       "    </tr>\n",
       "    <tr>\n",
       "      <th>в разводе</th>\n",
       "      <td>1110</td>\n",
       "      <td>85</td>\n",
       "      <td>7.11</td>\n",
       "      <td>1.01</td>\n",
       "      <td>14.2</td>\n",
       "      <td>Хорошая ситуация</td>\n",
       "    </tr>\n",
       "    <tr>\n",
       "      <th>вдовец / вдова</th>\n",
       "      <td>896</td>\n",
       "      <td>63</td>\n",
       "      <td>6.57</td>\n",
       "      <td>1.55</td>\n",
       "      <td>23.6</td>\n",
       "      <td>Хорошая ситуация</td>\n",
       "    </tr>\n",
       "  </tbody>\n",
       "</table>\n",
       "</div>"
      ],
      "text/plain": [
       "debt_group             без просрочек  с просрочкой  avg_debt_%  deviation  \\\n",
       "family_status                                                               \n",
       "не женат / не замужем           2536           274        9.75      -1.63   \n",
       "гражданский брак                3762           388        9.35      -1.23   \n",
       "женат / замужем                11408           931        7.55       0.57   \n",
       "в разводе                       1110            85        7.11       1.01   \n",
       "вдовец / вдова                   896            63        6.57       1.55   \n",
       "\n",
       "debt_group             deviation_% category_special_case  \n",
       "family_status                                             \n",
       "не женат / не замужем        -16.7  Проблемная ситуация.  \n",
       "гражданский брак             -13.2  Проблемная ситуация.  \n",
       "женат / замужем                7.5      Хорошая ситуация  \n",
       "в разводе                     14.2      Хорошая ситуация  \n",
       "вдовец / вдова                23.6      Хорошая ситуация  "
      ]
     },
     "metadata": {},
     "output_type": "display_data"
    }
   ],
   "source": [
    "#сформируем сводную таблицу\n",
    "data_pivot_family_status = pd.pivot_table(df, index = ['family_status'], \\\n",
    "                            columns = 'debt_group', values = 'debt', aggfunc = 'count')\n",
    "\n",
    "#добавим столбец относительной величины просрочек к общим кредитам\n",
    "data_pivot_family_status['avg_debt_%'] = round(data_pivot_family_status['с просрочкой'] \\\n",
    "                          / (data_pivot_family_status['с просрочкой'] + data_pivot_family_status['без просрочек']) * 100, 2)\n",
    "\n",
    "#добавим столбец, в котором покажем с отклонениями от среднего показателия\n",
    "data_pivot_family_status['deviation'] = round(avg_debt - data_pivot_family_status['avg_debt_%'], 2)\n",
    "\n",
    "#добавим столбец, показывающий на сколько % отклонение от средней величины\n",
    "data_pivot_family_status['deviation_%'] = round(data_pivot_family_status['deviation'] / data_pivot_family_status['avg_debt_%'] * 100, 1)\n",
    "\n",
    "#применим функцию категоризации отклонений от среднего показателия\n",
    "category_special_case(data_pivot_family_status)\n",
    "\n",
    "#выведим таблицу на экран и одновременно отсортируем по столбцу отклонений от среднего\n",
    "display(data_pivot_family_status.sort_values('deviation', ascending=True))\n"
   ]
  },
  {
   "cell_type": "markdown",
   "metadata": {},
   "source": [
    "Как видим из таблицы, при применении только одного вида категории, а в данном случае, это по семейному статусу, отклонения от среднего значения, также как и в предыдущем исследовании есть, отклонения от среднего значения в районе 12-13% в проблемную сторону и до 24% в положительную сторону.\n",
    "\n",
    "Сделаем комбинации с другими категориями и посмотрим меняются ли отклонения, есть ли зависимости в комбинациях. Применим дополнительно по очереди следующие зависимости:\n",
    "* пол\n",
    "* рабочий статус\n",
    "* образование\n",
    "* уровень доходов\n",
    "* цель кредита\n",
    "\n",
    "Категории: \"наличие детей\" мы уже  использовать с \"семейным статусом\" не будем, т.к. уже использовали в предыдущем исследовании."
   ]
  },
  {
   "cell_type": "code",
   "execution_count": 54,
   "metadata": {},
   "outputs": [],
   "source": [
    "#создаем лист из возможных дополнительных комбинаций\n",
    "list_addiction_with_family_status = ['gender', 'income_type', 'education', 'purpose_lemma', 'total_income_group']"
   ]
  },
  {
   "cell_type": "code",
   "execution_count": 55,
   "metadata": {
    "scrolled": false
   },
   "outputs": [
    {
     "name": "stdout",
     "output_type": "stream",
     "text": [
      "Зависимость категорий family_status и gender:\n"
     ]
    },
    {
     "data": {
      "text/html": [
       "<div>\n",
       "<style scoped>\n",
       "    .dataframe tbody tr th:only-of-type {\n",
       "        vertical-align: middle;\n",
       "    }\n",
       "\n",
       "    .dataframe tbody tr th {\n",
       "        vertical-align: top;\n",
       "    }\n",
       "\n",
       "    .dataframe thead th {\n",
       "        text-align: right;\n",
       "    }\n",
       "</style>\n",
       "<table border=\"1\" class=\"dataframe\">\n",
       "  <thead>\n",
       "    <tr style=\"text-align: right;\">\n",
       "      <th></th>\n",
       "      <th>debt_group</th>\n",
       "      <th>без просрочек</th>\n",
       "      <th>с просрочкой</th>\n",
       "      <th>avg_debt_%</th>\n",
       "      <th>deviation</th>\n",
       "      <th>deviation_%</th>\n",
       "      <th>category_special_case</th>\n",
       "    </tr>\n",
       "    <tr>\n",
       "      <th>family_status</th>\n",
       "      <th>gender</th>\n",
       "      <th></th>\n",
       "      <th></th>\n",
       "      <th></th>\n",
       "      <th></th>\n",
       "      <th></th>\n",
       "      <th></th>\n",
       "    </tr>\n",
       "  </thead>\n",
       "  <tbody>\n",
       "    <tr>\n",
       "      <th>вдовец / вдова</th>\n",
       "      <th>m</th>\n",
       "      <td>44.0</td>\n",
       "      <td>11.0</td>\n",
       "      <td>20.00</td>\n",
       "      <td>-11.88</td>\n",
       "      <td>-59.4</td>\n",
       "      <td>Критический случай!</td>\n",
       "    </tr>\n",
       "    <tr>\n",
       "      <th>не женат / не замужем</th>\n",
       "      <th>m</th>\n",
       "      <td>925.0</td>\n",
       "      <td>156.0</td>\n",
       "      <td>14.43</td>\n",
       "      <td>-6.31</td>\n",
       "      <td>-43.7</td>\n",
       "      <td>Особая проблемная ситуация!</td>\n",
       "    </tr>\n",
       "    <tr>\n",
       "      <th>гражданский брак</th>\n",
       "      <th>m</th>\n",
       "      <td>1150.0</td>\n",
       "      <td>155.0</td>\n",
       "      <td>11.88</td>\n",
       "      <td>-3.76</td>\n",
       "      <td>-31.6</td>\n",
       "      <td>Проблемная ситуация.</td>\n",
       "    </tr>\n",
       "    <tr>\n",
       "      <th>в разводе</th>\n",
       "      <th>m</th>\n",
       "      <td>235.0</td>\n",
       "      <td>24.0</td>\n",
       "      <td>9.27</td>\n",
       "      <td>-1.15</td>\n",
       "      <td>-12.4</td>\n",
       "      <td>Проблемная ситуация.</td>\n",
       "    </tr>\n",
       "    <tr>\n",
       "      <th>женат / замужем</th>\n",
       "      <th>m</th>\n",
       "      <td>4178.0</td>\n",
       "      <td>401.0</td>\n",
       "      <td>8.76</td>\n",
       "      <td>-0.64</td>\n",
       "      <td>-7.3</td>\n",
       "      <td>Проблемная ситуация.</td>\n",
       "    </tr>\n",
       "    <tr>\n",
       "      <th>гражданский брак</th>\n",
       "      <th>f</th>\n",
       "      <td>2611.0</td>\n",
       "      <td>233.0</td>\n",
       "      <td>8.19</td>\n",
       "      <td>-0.07</td>\n",
       "      <td>-0.9</td>\n",
       "      <td>Проблемная ситуация.</td>\n",
       "    </tr>\n",
       "    <tr>\n",
       "      <th>женат / замужем</th>\n",
       "      <th>f</th>\n",
       "      <td>7230.0</td>\n",
       "      <td>530.0</td>\n",
       "      <td>6.83</td>\n",
       "      <td>1.29</td>\n",
       "      <td>18.9</td>\n",
       "      <td>Хорошая ситуация</td>\n",
       "    </tr>\n",
       "    <tr>\n",
       "      <th>не женат / не замужем</th>\n",
       "      <th>f</th>\n",
       "      <td>1611.0</td>\n",
       "      <td>118.0</td>\n",
       "      <td>6.82</td>\n",
       "      <td>1.30</td>\n",
       "      <td>19.1</td>\n",
       "      <td>Хорошая ситуация</td>\n",
       "    </tr>\n",
       "    <tr>\n",
       "      <th>в разводе</th>\n",
       "      <th>f</th>\n",
       "      <td>875.0</td>\n",
       "      <td>61.0</td>\n",
       "      <td>6.52</td>\n",
       "      <td>1.60</td>\n",
       "      <td>24.5</td>\n",
       "      <td>Хорошая ситуация</td>\n",
       "    </tr>\n",
       "    <tr>\n",
       "      <th>вдовец / вдова</th>\n",
       "      <th>f</th>\n",
       "      <td>852.0</td>\n",
       "      <td>52.0</td>\n",
       "      <td>5.75</td>\n",
       "      <td>2.37</td>\n",
       "      <td>41.2</td>\n",
       "      <td>Хорошая ситуация</td>\n",
       "    </tr>\n",
       "    <tr>\n",
       "      <th>гражданский брак</th>\n",
       "      <th>xna</th>\n",
       "      <td>1.0</td>\n",
       "      <td>NaN</td>\n",
       "      <td>NaN</td>\n",
       "      <td>NaN</td>\n",
       "      <td>NaN</td>\n",
       "      <td>Крайние значения</td>\n",
       "    </tr>\n",
       "  </tbody>\n",
       "</table>\n",
       "</div>"
      ],
      "text/plain": [
       "debt_group                    без просрочек  с просрочкой  avg_debt_%  \\\n",
       "family_status         gender                                            \n",
       "вдовец / вдова        m                44.0          11.0       20.00   \n",
       "не женат / не замужем m               925.0         156.0       14.43   \n",
       "гражданский брак      m              1150.0         155.0       11.88   \n",
       "в разводе             m               235.0          24.0        9.27   \n",
       "женат / замужем       m              4178.0         401.0        8.76   \n",
       "гражданский брак      f              2611.0         233.0        8.19   \n",
       "женат / замужем       f              7230.0         530.0        6.83   \n",
       "не женат / не замужем f              1611.0         118.0        6.82   \n",
       "в разводе             f               875.0          61.0        6.52   \n",
       "вдовец / вдова        f               852.0          52.0        5.75   \n",
       "гражданский брак      xna               1.0           NaN         NaN   \n",
       "\n",
       "debt_group                    deviation  deviation_%  \\\n",
       "family_status         gender                           \n",
       "вдовец / вдова        m          -11.88        -59.4   \n",
       "не женат / не замужем m           -6.31        -43.7   \n",
       "гражданский брак      m           -3.76        -31.6   \n",
       "в разводе             m           -1.15        -12.4   \n",
       "женат / замужем       m           -0.64         -7.3   \n",
       "гражданский брак      f           -0.07         -0.9   \n",
       "женат / замужем       f            1.29         18.9   \n",
       "не женат / не замужем f            1.30         19.1   \n",
       "в разводе             f            1.60         24.5   \n",
       "вдовец / вдова        f            2.37         41.2   \n",
       "гражданский брак      xna           NaN          NaN   \n",
       "\n",
       "debt_group                          category_special_case  \n",
       "family_status         gender                               \n",
       "вдовец / вдова        m               Критический случай!  \n",
       "не женат / не замужем m       Особая проблемная ситуация!  \n",
       "гражданский брак      m              Проблемная ситуация.  \n",
       "в разводе             m              Проблемная ситуация.  \n",
       "женат / замужем       m              Проблемная ситуация.  \n",
       "гражданский брак      f              Проблемная ситуация.  \n",
       "женат / замужем       f                  Хорошая ситуация  \n",
       "не женат / не замужем f                  Хорошая ситуация  \n",
       "в разводе             f                  Хорошая ситуация  \n",
       "вдовец / вдова        f                  Хорошая ситуация  \n",
       "гражданский брак      xna                Крайние значения  "
      ]
     },
     "metadata": {},
     "output_type": "display_data"
    },
    {
     "name": "stdout",
     "output_type": "stream",
     "text": [
      "Зависимость категорий family_status и income_type:\n"
     ]
    },
    {
     "data": {
      "text/html": [
       "<div>\n",
       "<style scoped>\n",
       "    .dataframe tbody tr th:only-of-type {\n",
       "        vertical-align: middle;\n",
       "    }\n",
       "\n",
       "    .dataframe tbody tr th {\n",
       "        vertical-align: top;\n",
       "    }\n",
       "\n",
       "    .dataframe thead th {\n",
       "        text-align: right;\n",
       "    }\n",
       "</style>\n",
       "<table border=\"1\" class=\"dataframe\">\n",
       "  <thead>\n",
       "    <tr style=\"text-align: right;\">\n",
       "      <th></th>\n",
       "      <th>debt_group</th>\n",
       "      <th>без просрочек</th>\n",
       "      <th>с просрочкой</th>\n",
       "      <th>avg_debt_%</th>\n",
       "      <th>deviation</th>\n",
       "      <th>deviation_%</th>\n",
       "      <th>category_special_case</th>\n",
       "    </tr>\n",
       "    <tr>\n",
       "      <th>family_status</th>\n",
       "      <th>income_type</th>\n",
       "      <th></th>\n",
       "      <th></th>\n",
       "      <th></th>\n",
       "      <th></th>\n",
       "      <th></th>\n",
       "      <th></th>\n",
       "    </tr>\n",
       "  </thead>\n",
       "  <tbody>\n",
       "    <tr>\n",
       "      <th>не женат / не замужем</th>\n",
       "      <th>сотрудник</th>\n",
       "      <td>1314.0</td>\n",
       "      <td>174.0</td>\n",
       "      <td>11.69</td>\n",
       "      <td>-3.57</td>\n",
       "      <td>-30.5</td>\n",
       "      <td>Проблемная ситуация.</td>\n",
       "    </tr>\n",
       "    <tr>\n",
       "      <th>гражданский брак</th>\n",
       "      <th>сотрудник</th>\n",
       "      <td>1988.0</td>\n",
       "      <td>239.0</td>\n",
       "      <td>10.73</td>\n",
       "      <td>-2.61</td>\n",
       "      <td>-24.3</td>\n",
       "      <td>Проблемная ситуация.</td>\n",
       "    </tr>\n",
       "    <tr>\n",
       "      <th>в разводе</th>\n",
       "      <th>сотрудник</th>\n",
       "      <td>563.0</td>\n",
       "      <td>60.0</td>\n",
       "      <td>9.63</td>\n",
       "      <td>-1.51</td>\n",
       "      <td>-15.7</td>\n",
       "      <td>Проблемная ситуация.</td>\n",
       "    </tr>\n",
       "    <tr>\n",
       "      <th>гражданский брак</th>\n",
       "      <th>компаньон</th>\n",
       "      <td>916.0</td>\n",
       "      <td>95.0</td>\n",
       "      <td>9.40</td>\n",
       "      <td>-1.28</td>\n",
       "      <td>-13.6</td>\n",
       "      <td>Проблемная ситуация.</td>\n",
       "    </tr>\n",
       "    <tr>\n",
       "      <th>вдовец / вдова</th>\n",
       "      <th>компаньон</th>\n",
       "      <td>88.0</td>\n",
       "      <td>9.0</td>\n",
       "      <td>9.28</td>\n",
       "      <td>-1.16</td>\n",
       "      <td>-12.5</td>\n",
       "      <td>Проблемная ситуация.</td>\n",
       "    </tr>\n",
       "    <tr>\n",
       "      <th>не женат / не замужем</th>\n",
       "      <th>компаньон</th>\n",
       "      <td>734.0</td>\n",
       "      <td>72.0</td>\n",
       "      <td>8.93</td>\n",
       "      <td>-0.81</td>\n",
       "      <td>-9.1</td>\n",
       "      <td>Проблемная ситуация.</td>\n",
       "    </tr>\n",
       "    <tr>\n",
       "      <th>женат / замужем</th>\n",
       "      <th>сотрудник</th>\n",
       "      <td>5893.0</td>\n",
       "      <td>573.0</td>\n",
       "      <td>8.86</td>\n",
       "      <td>-0.74</td>\n",
       "      <td>-8.4</td>\n",
       "      <td>Проблемная ситуация.</td>\n",
       "    </tr>\n",
       "    <tr>\n",
       "      <th>не женат / не замужем</th>\n",
       "      <th>госслужащий</th>\n",
       "      <td>152.0</td>\n",
       "      <td>12.0</td>\n",
       "      <td>7.32</td>\n",
       "      <td>0.80</td>\n",
       "      <td>10.9</td>\n",
       "      <td>Хорошая ситуация</td>\n",
       "    </tr>\n",
       "    <tr>\n",
       "      <th>гражданский брак</th>\n",
       "      <th>госслужащий</th>\n",
       "      <td>243.0</td>\n",
       "      <td>18.0</td>\n",
       "      <td>6.90</td>\n",
       "      <td>1.22</td>\n",
       "      <td>17.7</td>\n",
       "      <td>Хорошая ситуация</td>\n",
       "    </tr>\n",
       "    <tr>\n",
       "      <th>вдовец / вдова</th>\n",
       "      <th>пенсионер</th>\n",
       "      <td>500.0</td>\n",
       "      <td>37.0</td>\n",
       "      <td>6.89</td>\n",
       "      <td>1.23</td>\n",
       "      <td>17.9</td>\n",
       "      <td>Хорошая ситуация</td>\n",
       "    </tr>\n",
       "    <tr>\n",
       "      <th>женат / замужем</th>\n",
       "      <th>компаньон</th>\n",
       "      <td>2700.0</td>\n",
       "      <td>192.0</td>\n",
       "      <td>6.64</td>\n",
       "      <td>1.48</td>\n",
       "      <td>22.3</td>\n",
       "      <td>Хорошая ситуация</td>\n",
       "    </tr>\n",
       "    <tr>\n",
       "      <th>в разводе</th>\n",
       "      <th>пенсионер</th>\n",
       "      <td>206.0</td>\n",
       "      <td>13.0</td>\n",
       "      <td>5.94</td>\n",
       "      <td>2.18</td>\n",
       "      <td>36.7</td>\n",
       "      <td>Хорошая ситуация</td>\n",
       "    </tr>\n",
       "    <tr>\n",
       "      <th>гражданский брак</th>\n",
       "      <th>пенсионер</th>\n",
       "      <td>613.0</td>\n",
       "      <td>36.0</td>\n",
       "      <td>5.55</td>\n",
       "      <td>2.57</td>\n",
       "      <td>46.3</td>\n",
       "      <td>Хорошая ситуация</td>\n",
       "    </tr>\n",
       "    <tr>\n",
       "      <th rowspan=\"2\" valign=\"top\">женат / замужем</th>\n",
       "      <th>госслужащий</th>\n",
       "      <td>855.0</td>\n",
       "      <td>50.0</td>\n",
       "      <td>5.52</td>\n",
       "      <td>2.60</td>\n",
       "      <td>47.1</td>\n",
       "      <td>Хорошая ситуация</td>\n",
       "    </tr>\n",
       "    <tr>\n",
       "      <th>пенсионер</th>\n",
       "      <td>1959.0</td>\n",
       "      <td>114.0</td>\n",
       "      <td>5.50</td>\n",
       "      <td>2.62</td>\n",
       "      <td>47.6</td>\n",
       "      <td>Хорошая ситуация</td>\n",
       "    </tr>\n",
       "    <tr>\n",
       "      <th>вдовец / вдова</th>\n",
       "      <th>сотрудник</th>\n",
       "      <td>265.0</td>\n",
       "      <td>15.0</td>\n",
       "      <td>5.36</td>\n",
       "      <td>2.76</td>\n",
       "      <td>51.5</td>\n",
       "      <td>Хорошая ситуация</td>\n",
       "    </tr>\n",
       "    <tr>\n",
       "      <th>в разводе</th>\n",
       "      <th>госслужащий</th>\n",
       "      <td>77.0</td>\n",
       "      <td>4.0</td>\n",
       "      <td>4.94</td>\n",
       "      <td>3.18</td>\n",
       "      <td>64.4</td>\n",
       "      <td>Хорошая ситуация</td>\n",
       "    </tr>\n",
       "    <tr>\n",
       "      <th>не женат / не замужем</th>\n",
       "      <th>пенсионер</th>\n",
       "      <td>335.0</td>\n",
       "      <td>16.0</td>\n",
       "      <td>4.56</td>\n",
       "      <td>3.56</td>\n",
       "      <td>78.1</td>\n",
       "      <td>Хорошая ситуация</td>\n",
       "    </tr>\n",
       "    <tr>\n",
       "      <th>вдовец / вдова</th>\n",
       "      <th>госслужащий</th>\n",
       "      <td>43.0</td>\n",
       "      <td>2.0</td>\n",
       "      <td>4.44</td>\n",
       "      <td>3.68</td>\n",
       "      <td>82.9</td>\n",
       "      <td>Хорошая ситуация</td>\n",
       "    </tr>\n",
       "    <tr>\n",
       "      <th>в разводе</th>\n",
       "      <th>компаньон</th>\n",
       "      <td>264.0</td>\n",
       "      <td>8.0</td>\n",
       "      <td>2.94</td>\n",
       "      <td>5.18</td>\n",
       "      <td>176.2</td>\n",
       "      <td>Хорошая ситуация</td>\n",
       "    </tr>\n",
       "    <tr>\n",
       "      <th rowspan=\"2\" valign=\"top\">гражданский брак</th>\n",
       "      <th>безработный</th>\n",
       "      <td>1.0</td>\n",
       "      <td>NaN</td>\n",
       "      <td>NaN</td>\n",
       "      <td>NaN</td>\n",
       "      <td>NaN</td>\n",
       "      <td>Крайние значения</td>\n",
       "    </tr>\n",
       "    <tr>\n",
       "      <th>предприниматель</th>\n",
       "      <td>1.0</td>\n",
       "      <td>NaN</td>\n",
       "      <td>NaN</td>\n",
       "      <td>NaN</td>\n",
       "      <td>NaN</td>\n",
       "      <td>Крайние значения</td>\n",
       "    </tr>\n",
       "    <tr>\n",
       "      <th rowspan=\"3\" valign=\"top\">женат / замужем</th>\n",
       "      <th>безработный</th>\n",
       "      <td>NaN</td>\n",
       "      <td>1.0</td>\n",
       "      <td>NaN</td>\n",
       "      <td>NaN</td>\n",
       "      <td>NaN</td>\n",
       "      <td>Крайние значения</td>\n",
       "    </tr>\n",
       "    <tr>\n",
       "      <th>в декрете</th>\n",
       "      <td>NaN</td>\n",
       "      <td>1.0</td>\n",
       "      <td>NaN</td>\n",
       "      <td>NaN</td>\n",
       "      <td>NaN</td>\n",
       "      <td>Крайние значения</td>\n",
       "    </tr>\n",
       "    <tr>\n",
       "      <th>предприниматель</th>\n",
       "      <td>1.0</td>\n",
       "      <td>NaN</td>\n",
       "      <td>NaN</td>\n",
       "      <td>NaN</td>\n",
       "      <td>NaN</td>\n",
       "      <td>Крайние значения</td>\n",
       "    </tr>\n",
       "    <tr>\n",
       "      <th>не женат / не замужем</th>\n",
       "      <th>студент</th>\n",
       "      <td>1.0</td>\n",
       "      <td>NaN</td>\n",
       "      <td>NaN</td>\n",
       "      <td>NaN</td>\n",
       "      <td>NaN</td>\n",
       "      <td>Крайние значения</td>\n",
       "    </tr>\n",
       "  </tbody>\n",
       "</table>\n",
       "</div>"
      ],
      "text/plain": [
       "debt_group                             без просрочек  с просрочкой  \\\n",
       "family_status         income_type                                    \n",
       "не женат / не замужем сотрудник               1314.0         174.0   \n",
       "гражданский брак      сотрудник               1988.0         239.0   \n",
       "в разводе             сотрудник                563.0          60.0   \n",
       "гражданский брак      компаньон                916.0          95.0   \n",
       "вдовец / вдова        компаньон                 88.0           9.0   \n",
       "не женат / не замужем компаньон                734.0          72.0   \n",
       "женат / замужем       сотрудник               5893.0         573.0   \n",
       "не женат / не замужем госслужащий              152.0          12.0   \n",
       "гражданский брак      госслужащий              243.0          18.0   \n",
       "вдовец / вдова        пенсионер                500.0          37.0   \n",
       "женат / замужем       компаньон               2700.0         192.0   \n",
       "в разводе             пенсионер                206.0          13.0   \n",
       "гражданский брак      пенсионер                613.0          36.0   \n",
       "женат / замужем       госслужащий              855.0          50.0   \n",
       "                      пенсионер               1959.0         114.0   \n",
       "вдовец / вдова        сотрудник                265.0          15.0   \n",
       "в разводе             госслужащий               77.0           4.0   \n",
       "не женат / не замужем пенсионер                335.0          16.0   \n",
       "вдовец / вдова        госслужащий               43.0           2.0   \n",
       "в разводе             компаньон                264.0           8.0   \n",
       "гражданский брак      безработный                1.0           NaN   \n",
       "                      предприниматель            1.0           NaN   \n",
       "женат / замужем       безработный                NaN           1.0   \n",
       "                      в декрете                  NaN           1.0   \n",
       "                      предприниматель            1.0           NaN   \n",
       "не женат / не замужем студент                    1.0           NaN   \n",
       "\n",
       "debt_group                             avg_debt_%  deviation  deviation_%  \\\n",
       "family_status         income_type                                           \n",
       "не женат / не замужем сотрудник             11.69      -3.57        -30.5   \n",
       "гражданский брак      сотрудник             10.73      -2.61        -24.3   \n",
       "в разводе             сотрудник              9.63      -1.51        -15.7   \n",
       "гражданский брак      компаньон              9.40      -1.28        -13.6   \n",
       "вдовец / вдова        компаньон              9.28      -1.16        -12.5   \n",
       "не женат / не замужем компаньон              8.93      -0.81         -9.1   \n",
       "женат / замужем       сотрудник              8.86      -0.74         -8.4   \n",
       "не женат / не замужем госслужащий            7.32       0.80         10.9   \n",
       "гражданский брак      госслужащий            6.90       1.22         17.7   \n",
       "вдовец / вдова        пенсионер              6.89       1.23         17.9   \n",
       "женат / замужем       компаньон              6.64       1.48         22.3   \n",
       "в разводе             пенсионер              5.94       2.18         36.7   \n",
       "гражданский брак      пенсионер              5.55       2.57         46.3   \n",
       "женат / замужем       госслужащий            5.52       2.60         47.1   \n",
       "                      пенсионер              5.50       2.62         47.6   \n",
       "вдовец / вдова        сотрудник              5.36       2.76         51.5   \n",
       "в разводе             госслужащий            4.94       3.18         64.4   \n",
       "не женат / не замужем пенсионер              4.56       3.56         78.1   \n",
       "вдовец / вдова        госслужащий            4.44       3.68         82.9   \n",
       "в разводе             компаньон              2.94       5.18        176.2   \n",
       "гражданский брак      безработный             NaN        NaN          NaN   \n",
       "                      предприниматель         NaN        NaN          NaN   \n",
       "женат / замужем       безработный             NaN        NaN          NaN   \n",
       "                      в декрете               NaN        NaN          NaN   \n",
       "                      предприниматель         NaN        NaN          NaN   \n",
       "не женат / не замужем студент                 NaN        NaN          NaN   \n",
       "\n",
       "debt_group                            category_special_case  \n",
       "family_status         income_type                            \n",
       "не женат / не замужем сотрудник        Проблемная ситуация.  \n",
       "гражданский брак      сотрудник        Проблемная ситуация.  \n",
       "в разводе             сотрудник        Проблемная ситуация.  \n",
       "гражданский брак      компаньон        Проблемная ситуация.  \n",
       "вдовец / вдова        компаньон        Проблемная ситуация.  \n",
       "не женат / не замужем компаньон        Проблемная ситуация.  \n",
       "женат / замужем       сотрудник        Проблемная ситуация.  \n",
       "не женат / не замужем госслужащий          Хорошая ситуация  \n",
       "гражданский брак      госслужащий          Хорошая ситуация  \n",
       "вдовец / вдова        пенсионер            Хорошая ситуация  \n",
       "женат / замужем       компаньон            Хорошая ситуация  \n",
       "в разводе             пенсионер            Хорошая ситуация  \n",
       "гражданский брак      пенсионер            Хорошая ситуация  \n",
       "женат / замужем       госслужащий          Хорошая ситуация  \n",
       "                      пенсионер            Хорошая ситуация  \n",
       "вдовец / вдова        сотрудник            Хорошая ситуация  \n",
       "в разводе             госслужащий          Хорошая ситуация  \n",
       "не женат / не замужем пенсионер            Хорошая ситуация  \n",
       "вдовец / вдова        госслужащий          Хорошая ситуация  \n",
       "в разводе             компаньон            Хорошая ситуация  \n",
       "гражданский брак      безработный          Крайние значения  \n",
       "                      предприниматель      Крайние значения  \n",
       "женат / замужем       безработный          Крайние значения  \n",
       "                      в декрете            Крайние значения  \n",
       "                      предприниматель      Крайние значения  \n",
       "не женат / не замужем студент              Крайние значения  "
      ]
     },
     "metadata": {},
     "output_type": "display_data"
    },
    {
     "name": "stdout",
     "output_type": "stream",
     "text": [
      "Зависимость категорий family_status и education:\n"
     ]
    },
    {
     "data": {
      "text/html": [
       "<div>\n",
       "<style scoped>\n",
       "    .dataframe tbody tr th:only-of-type {\n",
       "        vertical-align: middle;\n",
       "    }\n",
       "\n",
       "    .dataframe tbody tr th {\n",
       "        vertical-align: top;\n",
       "    }\n",
       "\n",
       "    .dataframe thead th {\n",
       "        text-align: right;\n",
       "    }\n",
       "</style>\n",
       "<table border=\"1\" class=\"dataframe\">\n",
       "  <thead>\n",
       "    <tr style=\"text-align: right;\">\n",
       "      <th></th>\n",
       "      <th>debt_group</th>\n",
       "      <th>без просрочек</th>\n",
       "      <th>с просрочкой</th>\n",
       "      <th>avg_debt_%</th>\n",
       "      <th>deviation</th>\n",
       "      <th>deviation_%</th>\n",
       "      <th>category_special_case</th>\n",
       "    </tr>\n",
       "    <tr>\n",
       "      <th>family_status</th>\n",
       "      <th>education</th>\n",
       "      <th></th>\n",
       "      <th></th>\n",
       "      <th></th>\n",
       "      <th></th>\n",
       "      <th></th>\n",
       "      <th></th>\n",
       "    </tr>\n",
       "  </thead>\n",
       "  <tbody>\n",
       "    <tr>\n",
       "      <th>гражданский брак</th>\n",
       "      <th>начальное</th>\n",
       "      <td>45.0</td>\n",
       "      <td>11.0</td>\n",
       "      <td>19.64</td>\n",
       "      <td>-11.52</td>\n",
       "      <td>-58.7</td>\n",
       "      <td>Критический случай!</td>\n",
       "    </tr>\n",
       "    <tr>\n",
       "      <th>вдовец / вдова</th>\n",
       "      <th>неоконченное высшее</th>\n",
       "      <td>11.0</td>\n",
       "      <td>2.0</td>\n",
       "      <td>15.38</td>\n",
       "      <td>-7.26</td>\n",
       "      <td>-47.2</td>\n",
       "      <td>Особая проблемная ситуация!</td>\n",
       "    </tr>\n",
       "    <tr>\n",
       "      <th>в разводе</th>\n",
       "      <th>неоконченное высшее</th>\n",
       "      <td>27.0</td>\n",
       "      <td>4.0</td>\n",
       "      <td>12.90</td>\n",
       "      <td>-4.78</td>\n",
       "      <td>-37.1</td>\n",
       "      <td>Особая проблемная ситуация!</td>\n",
       "    </tr>\n",
       "    <tr>\n",
       "      <th>не женат / не замужем</th>\n",
       "      <th>среднее</th>\n",
       "      <td>1570.0</td>\n",
       "      <td>207.0</td>\n",
       "      <td>11.65</td>\n",
       "      <td>-3.53</td>\n",
       "      <td>-30.3</td>\n",
       "      <td>Проблемная ситуация.</td>\n",
       "    </tr>\n",
       "    <tr>\n",
       "      <th>женат / замужем</th>\n",
       "      <th>начальное</th>\n",
       "      <td>126.0</td>\n",
       "      <td>15.0</td>\n",
       "      <td>10.64</td>\n",
       "      <td>-2.52</td>\n",
       "      <td>-23.7</td>\n",
       "      <td>Проблемная ситуация.</td>\n",
       "    </tr>\n",
       "    <tr>\n",
       "      <th>гражданский брак</th>\n",
       "      <th>среднее</th>\n",
       "      <td>2667.0</td>\n",
       "      <td>308.0</td>\n",
       "      <td>10.35</td>\n",
       "      <td>-2.23</td>\n",
       "      <td>-21.5</td>\n",
       "      <td>Проблемная ситуация.</td>\n",
       "    </tr>\n",
       "    <tr>\n",
       "      <th>в разводе</th>\n",
       "      <th>начальное</th>\n",
       "      <td>18.0</td>\n",
       "      <td>2.0</td>\n",
       "      <td>10.00</td>\n",
       "      <td>-1.88</td>\n",
       "      <td>-18.8</td>\n",
       "      <td>Проблемная ситуация.</td>\n",
       "    </tr>\n",
       "    <tr>\n",
       "      <th rowspan=\"2\" valign=\"top\">не женат / не замужем</th>\n",
       "      <th>неоконченное высшее</th>\n",
       "      <td>175.0</td>\n",
       "      <td>18.0</td>\n",
       "      <td>9.33</td>\n",
       "      <td>-1.21</td>\n",
       "      <td>-13.0</td>\n",
       "      <td>Проблемная ситуация.</td>\n",
       "    </tr>\n",
       "    <tr>\n",
       "      <th>начальное</th>\n",
       "      <td>31.0</td>\n",
       "      <td>3.0</td>\n",
       "      <td>8.82</td>\n",
       "      <td>-0.70</td>\n",
       "      <td>-7.9</td>\n",
       "      <td>Проблемная ситуация.</td>\n",
       "    </tr>\n",
       "    <tr>\n",
       "      <th>женат / замужем</th>\n",
       "      <th>неоконченное высшее</th>\n",
       "      <td>311.0</td>\n",
       "      <td>30.0</td>\n",
       "      <td>8.80</td>\n",
       "      <td>-0.68</td>\n",
       "      <td>-7.7</td>\n",
       "      <td>Проблемная ситуация.</td>\n",
       "    </tr>\n",
       "    <tr>\n",
       "      <th>гражданский брак</th>\n",
       "      <th>неоконченное высшее</th>\n",
       "      <td>152.0</td>\n",
       "      <td>14.0</td>\n",
       "      <td>8.43</td>\n",
       "      <td>-0.31</td>\n",
       "      <td>-3.7</td>\n",
       "      <td>Проблемная ситуация.</td>\n",
       "    </tr>\n",
       "    <tr>\n",
       "      <th>женат / замужем</th>\n",
       "      <th>среднее</th>\n",
       "      <td>8082.0</td>\n",
       "      <td>731.0</td>\n",
       "      <td>8.29</td>\n",
       "      <td>-0.17</td>\n",
       "      <td>-2.1</td>\n",
       "      <td>Проблемная ситуация.</td>\n",
       "    </tr>\n",
       "    <tr>\n",
       "      <th>в разводе</th>\n",
       "      <th>среднее</th>\n",
       "      <td>763.0</td>\n",
       "      <td>64.0</td>\n",
       "      <td>7.74</td>\n",
       "      <td>0.38</td>\n",
       "      <td>4.9</td>\n",
       "      <td>Хорошая ситуация</td>\n",
       "    </tr>\n",
       "    <tr>\n",
       "      <th>вдовец / вдова</th>\n",
       "      <th>среднее</th>\n",
       "      <td>725.0</td>\n",
       "      <td>54.0</td>\n",
       "      <td>6.93</td>\n",
       "      <td>1.19</td>\n",
       "      <td>17.2</td>\n",
       "      <td>Хорошая ситуация</td>\n",
       "    </tr>\n",
       "    <tr>\n",
       "      <th>гражданский брак</th>\n",
       "      <th>высшее</th>\n",
       "      <td>898.0</td>\n",
       "      <td>55.0</td>\n",
       "      <td>5.77</td>\n",
       "      <td>2.35</td>\n",
       "      <td>40.7</td>\n",
       "      <td>Хорошая ситуация</td>\n",
       "    </tr>\n",
       "    <tr>\n",
       "      <th>не женат / не замужем</th>\n",
       "      <th>высшее</th>\n",
       "      <td>759.0</td>\n",
       "      <td>46.0</td>\n",
       "      <td>5.71</td>\n",
       "      <td>2.41</td>\n",
       "      <td>42.2</td>\n",
       "      <td>Хорошая ситуация</td>\n",
       "    </tr>\n",
       "    <tr>\n",
       "      <th>вдовец / вдова</th>\n",
       "      <th>высшее</th>\n",
       "      <td>129.0</td>\n",
       "      <td>7.0</td>\n",
       "      <td>5.15</td>\n",
       "      <td>2.97</td>\n",
       "      <td>57.7</td>\n",
       "      <td>Хорошая ситуация</td>\n",
       "    </tr>\n",
       "    <tr>\n",
       "      <th>женат / замужем</th>\n",
       "      <th>высшее</th>\n",
       "      <td>2885.0</td>\n",
       "      <td>155.0</td>\n",
       "      <td>5.10</td>\n",
       "      <td>3.02</td>\n",
       "      <td>59.2</td>\n",
       "      <td>Хорошая ситуация</td>\n",
       "    </tr>\n",
       "    <tr>\n",
       "      <th rowspan=\"2\" valign=\"top\">в разводе</th>\n",
       "      <th>высшее</th>\n",
       "      <td>301.0</td>\n",
       "      <td>15.0</td>\n",
       "      <td>4.75</td>\n",
       "      <td>3.37</td>\n",
       "      <td>70.9</td>\n",
       "      <td>Хорошая ситуация</td>\n",
       "    </tr>\n",
       "    <tr>\n",
       "      <th>ученая степень</th>\n",
       "      <td>1.0</td>\n",
       "      <td>NaN</td>\n",
       "      <td>NaN</td>\n",
       "      <td>NaN</td>\n",
       "      <td>NaN</td>\n",
       "      <td>Крайние значения</td>\n",
       "    </tr>\n",
       "    <tr>\n",
       "      <th>вдовец / вдова</th>\n",
       "      <th>начальное</th>\n",
       "      <td>31.0</td>\n",
       "      <td>NaN</td>\n",
       "      <td>NaN</td>\n",
       "      <td>NaN</td>\n",
       "      <td>NaN</td>\n",
       "      <td>Крайние значения</td>\n",
       "    </tr>\n",
       "    <tr>\n",
       "      <th>женат / замужем</th>\n",
       "      <th>ученая степень</th>\n",
       "      <td>4.0</td>\n",
       "      <td>NaN</td>\n",
       "      <td>NaN</td>\n",
       "      <td>NaN</td>\n",
       "      <td>NaN</td>\n",
       "      <td>Крайние значения</td>\n",
       "    </tr>\n",
       "    <tr>\n",
       "      <th>не женат / не замужем</th>\n",
       "      <th>ученая степень</th>\n",
       "      <td>1.0</td>\n",
       "      <td>NaN</td>\n",
       "      <td>NaN</td>\n",
       "      <td>NaN</td>\n",
       "      <td>NaN</td>\n",
       "      <td>Крайние значения</td>\n",
       "    </tr>\n",
       "  </tbody>\n",
       "</table>\n",
       "</div>"
      ],
      "text/plain": [
       "debt_group                                 без просрочек  с просрочкой  \\\n",
       "family_status         education                                          \n",
       "гражданский брак      начальное                     45.0          11.0   \n",
       "вдовец / вдова        неоконченное высшее           11.0           2.0   \n",
       "в разводе             неоконченное высшее           27.0           4.0   \n",
       "не женат / не замужем среднее                     1570.0         207.0   \n",
       "женат / замужем       начальное                    126.0          15.0   \n",
       "гражданский брак      среднее                     2667.0         308.0   \n",
       "в разводе             начальное                     18.0           2.0   \n",
       "не женат / не замужем неоконченное высшее          175.0          18.0   \n",
       "                      начальное                     31.0           3.0   \n",
       "женат / замужем       неоконченное высшее          311.0          30.0   \n",
       "гражданский брак      неоконченное высшее          152.0          14.0   \n",
       "женат / замужем       среднее                     8082.0         731.0   \n",
       "в разводе             среднее                      763.0          64.0   \n",
       "вдовец / вдова        среднее                      725.0          54.0   \n",
       "гражданский брак      высшее                       898.0          55.0   \n",
       "не женат / не замужем высшее                       759.0          46.0   \n",
       "вдовец / вдова        высшее                       129.0           7.0   \n",
       "женат / замужем       высшее                      2885.0         155.0   \n",
       "в разводе             высшее                       301.0          15.0   \n",
       "                      ученая степень                 1.0           NaN   \n",
       "вдовец / вдова        начальное                     31.0           NaN   \n",
       "женат / замужем       ученая степень                 4.0           NaN   \n",
       "не женат / не замужем ученая степень                 1.0           NaN   \n",
       "\n",
       "debt_group                                 avg_debt_%  deviation  deviation_%  \\\n",
       "family_status         education                                                 \n",
       "гражданский брак      начальное                 19.64     -11.52        -58.7   \n",
       "вдовец / вдова        неоконченное высшее       15.38      -7.26        -47.2   \n",
       "в разводе             неоконченное высшее       12.90      -4.78        -37.1   \n",
       "не женат / не замужем среднее                   11.65      -3.53        -30.3   \n",
       "женат / замужем       начальное                 10.64      -2.52        -23.7   \n",
       "гражданский брак      среднее                   10.35      -2.23        -21.5   \n",
       "в разводе             начальное                 10.00      -1.88        -18.8   \n",
       "не женат / не замужем неоконченное высшее        9.33      -1.21        -13.0   \n",
       "                      начальное                  8.82      -0.70         -7.9   \n",
       "женат / замужем       неоконченное высшее        8.80      -0.68         -7.7   \n",
       "гражданский брак      неоконченное высшее        8.43      -0.31         -3.7   \n",
       "женат / замужем       среднее                    8.29      -0.17         -2.1   \n",
       "в разводе             среднее                    7.74       0.38          4.9   \n",
       "вдовец / вдова        среднее                    6.93       1.19         17.2   \n",
       "гражданский брак      высшее                     5.77       2.35         40.7   \n",
       "не женат / не замужем высшее                     5.71       2.41         42.2   \n",
       "вдовец / вдова        высшее                     5.15       2.97         57.7   \n",
       "женат / замужем       высшее                     5.10       3.02         59.2   \n",
       "в разводе             высшее                     4.75       3.37         70.9   \n",
       "                      ученая степень              NaN        NaN          NaN   \n",
       "вдовец / вдова        начальное                   NaN        NaN          NaN   \n",
       "женат / замужем       ученая степень              NaN        NaN          NaN   \n",
       "не женат / не замужем ученая степень              NaN        NaN          NaN   \n",
       "\n",
       "debt_group                                       category_special_case  \n",
       "family_status         education                                         \n",
       "гражданский брак      начальное                    Критический случай!  \n",
       "вдовец / вдова        неоконченное высшее  Особая проблемная ситуация!  \n",
       "в разводе             неоконченное высшее  Особая проблемная ситуация!  \n",
       "не женат / не замужем среднее                     Проблемная ситуация.  \n",
       "женат / замужем       начальное                   Проблемная ситуация.  \n",
       "гражданский брак      среднее                     Проблемная ситуация.  \n",
       "в разводе             начальное                   Проблемная ситуация.  \n",
       "не женат / не замужем неоконченное высшее         Проблемная ситуация.  \n",
       "                      начальное                   Проблемная ситуация.  \n",
       "женат / замужем       неоконченное высшее         Проблемная ситуация.  \n",
       "гражданский брак      неоконченное высшее         Проблемная ситуация.  \n",
       "женат / замужем       среднее                     Проблемная ситуация.  \n",
       "в разводе             среднее                         Хорошая ситуация  \n",
       "вдовец / вдова        среднее                         Хорошая ситуация  \n",
       "гражданский брак      высшее                          Хорошая ситуация  \n",
       "не женат / не замужем высшее                          Хорошая ситуация  \n",
       "вдовец / вдова        высшее                          Хорошая ситуация  \n",
       "женат / замужем       высшее                          Хорошая ситуация  \n",
       "в разводе             высшее                          Хорошая ситуация  \n",
       "                      ученая степень                  Крайние значения  \n",
       "вдовец / вдова        начальное                       Крайние значения  \n",
       "женат / замужем       ученая степень                  Крайние значения  \n",
       "не женат / не замужем ученая степень                  Крайние значения  "
      ]
     },
     "metadata": {},
     "output_type": "display_data"
    },
    {
     "name": "stdout",
     "output_type": "stream",
     "text": [
      "Зависимость категорий family_status и purpose_lemma:\n"
     ]
    },
    {
     "data": {
      "text/html": [
       "<div>\n",
       "<style scoped>\n",
       "    .dataframe tbody tr th:only-of-type {\n",
       "        vertical-align: middle;\n",
       "    }\n",
       "\n",
       "    .dataframe tbody tr th {\n",
       "        vertical-align: top;\n",
       "    }\n",
       "\n",
       "    .dataframe thead th {\n",
       "        text-align: right;\n",
       "    }\n",
       "</style>\n",
       "<table border=\"1\" class=\"dataframe\">\n",
       "  <thead>\n",
       "    <tr style=\"text-align: right;\">\n",
       "      <th></th>\n",
       "      <th>debt_group</th>\n",
       "      <th>без просрочек</th>\n",
       "      <th>с просрочкой</th>\n",
       "      <th>avg_debt_%</th>\n",
       "      <th>deviation</th>\n",
       "      <th>deviation_%</th>\n",
       "      <th>category_special_case</th>\n",
       "    </tr>\n",
       "    <tr>\n",
       "      <th>family_status</th>\n",
       "      <th>purpose_lemma</th>\n",
       "      <th></th>\n",
       "      <th></th>\n",
       "      <th></th>\n",
       "      <th></th>\n",
       "      <th></th>\n",
       "      <th></th>\n",
       "    </tr>\n",
       "  </thead>\n",
       "  <tbody>\n",
       "    <tr>\n",
       "      <th>гражданский брак</th>\n",
       "      <th>на образование</th>\n",
       "      <td>344</td>\n",
       "      <td>60</td>\n",
       "      <td>14.85</td>\n",
       "      <td>-6.73</td>\n",
       "      <td>-45.3</td>\n",
       "      <td>Особая проблемная ситуация!</td>\n",
       "    </tr>\n",
       "    <tr>\n",
       "      <th>не женат / не замужем</th>\n",
       "      <th>на автомобиль</th>\n",
       "      <td>555</td>\n",
       "      <td>82</td>\n",
       "      <td>12.87</td>\n",
       "      <td>-4.75</td>\n",
       "      <td>-36.9</td>\n",
       "      <td>Особая проблемная ситуация!</td>\n",
       "    </tr>\n",
       "    <tr>\n",
       "      <th>гражданский брак</th>\n",
       "      <th>на автомобиль</th>\n",
       "      <td>382</td>\n",
       "      <td>51</td>\n",
       "      <td>11.78</td>\n",
       "      <td>-3.66</td>\n",
       "      <td>-31.1</td>\n",
       "      <td>Проблемная ситуация.</td>\n",
       "    </tr>\n",
       "    <tr>\n",
       "      <th>не женат / не замужем</th>\n",
       "      <th>на образование</th>\n",
       "      <td>515</td>\n",
       "      <td>62</td>\n",
       "      <td>10.75</td>\n",
       "      <td>-2.63</td>\n",
       "      <td>-24.5</td>\n",
       "      <td>Проблемная ситуация.</td>\n",
       "    </tr>\n",
       "    <tr>\n",
       "      <th>гражданский брак</th>\n",
       "      <th>на недвижимость</th>\n",
       "      <td>898</td>\n",
       "      <td>91</td>\n",
       "      <td>9.20</td>\n",
       "      <td>-1.08</td>\n",
       "      <td>-11.7</td>\n",
       "      <td>Проблемная ситуация.</td>\n",
       "    </tr>\n",
       "    <tr>\n",
       "      <th>вдовец / вдова</th>\n",
       "      <th>на автомобиль</th>\n",
       "      <td>198</td>\n",
       "      <td>20</td>\n",
       "      <td>9.17</td>\n",
       "      <td>-1.05</td>\n",
       "      <td>-11.5</td>\n",
       "      <td>Проблемная ситуация.</td>\n",
       "    </tr>\n",
       "    <tr>\n",
       "      <th rowspan=\"2\" valign=\"top\">женат / замужем</th>\n",
       "      <th>на автомобиль</th>\n",
       "      <td>2507</td>\n",
       "      <td>229</td>\n",
       "      <td>8.37</td>\n",
       "      <td>-0.25</td>\n",
       "      <td>-3.0</td>\n",
       "      <td>Проблемная ситуация.</td>\n",
       "    </tr>\n",
       "    <tr>\n",
       "      <th>на образование</th>\n",
       "      <td>2379</td>\n",
       "      <td>216</td>\n",
       "      <td>8.32</td>\n",
       "      <td>-0.20</td>\n",
       "      <td>-2.4</td>\n",
       "      <td>Проблемная ситуация.</td>\n",
       "    </tr>\n",
       "    <tr>\n",
       "      <th>не женат / не замужем</th>\n",
       "      <th>на недвижимость</th>\n",
       "      <td>1466</td>\n",
       "      <td>130</td>\n",
       "      <td>8.15</td>\n",
       "      <td>-0.03</td>\n",
       "      <td>-0.4</td>\n",
       "      <td>Проблемная ситуация.</td>\n",
       "    </tr>\n",
       "    <tr>\n",
       "      <th>гражданский брак</th>\n",
       "      <th>на свадьбу</th>\n",
       "      <td>2138</td>\n",
       "      <td>186</td>\n",
       "      <td>8.00</td>\n",
       "      <td>0.12</td>\n",
       "      <td>1.5</td>\n",
       "      <td>Хорошая ситуация</td>\n",
       "    </tr>\n",
       "    <tr>\n",
       "      <th>вдовец / вдова</th>\n",
       "      <th>на образование</th>\n",
       "      <td>184</td>\n",
       "      <td>15</td>\n",
       "      <td>7.54</td>\n",
       "      <td>0.58</td>\n",
       "      <td>7.7</td>\n",
       "      <td>Хорошая ситуация</td>\n",
       "    </tr>\n",
       "    <tr>\n",
       "      <th rowspan=\"3\" valign=\"top\">в разводе</th>\n",
       "      <th>на автомобиль</th>\n",
       "      <td>260</td>\n",
       "      <td>21</td>\n",
       "      <td>7.47</td>\n",
       "      <td>0.65</td>\n",
       "      <td>8.7</td>\n",
       "      <td>Хорошая ситуация</td>\n",
       "    </tr>\n",
       "    <tr>\n",
       "      <th>на образование</th>\n",
       "      <td>221</td>\n",
       "      <td>17</td>\n",
       "      <td>7.14</td>\n",
       "      <td>0.98</td>\n",
       "      <td>13.7</td>\n",
       "      <td>Хорошая ситуация</td>\n",
       "    </tr>\n",
       "    <tr>\n",
       "      <th>на недвижимость</th>\n",
       "      <td>629</td>\n",
       "      <td>47</td>\n",
       "      <td>6.95</td>\n",
       "      <td>1.17</td>\n",
       "      <td>16.8</td>\n",
       "      <td>Хорошая ситуация</td>\n",
       "    </tr>\n",
       "    <tr>\n",
       "      <th>женат / замужем</th>\n",
       "      <th>на недвижимость</th>\n",
       "      <td>6522</td>\n",
       "      <td>486</td>\n",
       "      <td>6.93</td>\n",
       "      <td>1.19</td>\n",
       "      <td>17.2</td>\n",
       "      <td>Хорошая ситуация</td>\n",
       "    </tr>\n",
       "    <tr>\n",
       "      <th>вдовец / вдова</th>\n",
       "      <th>на недвижимость</th>\n",
       "      <td>514</td>\n",
       "      <td>28</td>\n",
       "      <td>5.17</td>\n",
       "      <td>2.95</td>\n",
       "      <td>57.1</td>\n",
       "      <td>Хорошая ситуация</td>\n",
       "    </tr>\n",
       "  </tbody>\n",
       "</table>\n",
       "</div>"
      ],
      "text/plain": [
       "debt_group                             без просрочек  с просрочкой  \\\n",
       "family_status         purpose_lemma                                  \n",
       "гражданский брак      на образование             344            60   \n",
       "не женат / не замужем на автомобиль              555            82   \n",
       "гражданский брак      на автомобиль              382            51   \n",
       "не женат / не замужем на образование             515            62   \n",
       "гражданский брак      на недвижимость            898            91   \n",
       "вдовец / вдова        на автомобиль              198            20   \n",
       "женат / замужем       на автомобиль             2507           229   \n",
       "                      на образование            2379           216   \n",
       "не женат / не замужем на недвижимость           1466           130   \n",
       "гражданский брак      на свадьбу                2138           186   \n",
       "вдовец / вдова        на образование             184            15   \n",
       "в разводе             на автомобиль              260            21   \n",
       "                      на образование             221            17   \n",
       "                      на недвижимость            629            47   \n",
       "женат / замужем       на недвижимость           6522           486   \n",
       "вдовец / вдова        на недвижимость            514            28   \n",
       "\n",
       "debt_group                             avg_debt_%  deviation  deviation_%  \\\n",
       "family_status         purpose_lemma                                         \n",
       "гражданский брак      на образование        14.85      -6.73        -45.3   \n",
       "не женат / не замужем на автомобиль         12.87      -4.75        -36.9   \n",
       "гражданский брак      на автомобиль         11.78      -3.66        -31.1   \n",
       "не женат / не замужем на образование        10.75      -2.63        -24.5   \n",
       "гражданский брак      на недвижимость        9.20      -1.08        -11.7   \n",
       "вдовец / вдова        на автомобиль          9.17      -1.05        -11.5   \n",
       "женат / замужем       на автомобиль          8.37      -0.25         -3.0   \n",
       "                      на образование         8.32      -0.20         -2.4   \n",
       "не женат / не замужем на недвижимость        8.15      -0.03         -0.4   \n",
       "гражданский брак      на свадьбу             8.00       0.12          1.5   \n",
       "вдовец / вдова        на образование         7.54       0.58          7.7   \n",
       "в разводе             на автомобиль          7.47       0.65          8.7   \n",
       "                      на образование         7.14       0.98         13.7   \n",
       "                      на недвижимость        6.95       1.17         16.8   \n",
       "женат / замужем       на недвижимость        6.93       1.19         17.2   \n",
       "вдовец / вдова        на недвижимость        5.17       2.95         57.1   \n",
       "\n",
       "debt_group                                   category_special_case  \n",
       "family_status         purpose_lemma                                 \n",
       "гражданский брак      на образование   Особая проблемная ситуация!  \n",
       "не женат / не замужем на автомобиль    Особая проблемная ситуация!  \n",
       "гражданский брак      на автомобиль           Проблемная ситуация.  \n",
       "не женат / не замужем на образование          Проблемная ситуация.  \n",
       "гражданский брак      на недвижимость         Проблемная ситуация.  \n",
       "вдовец / вдова        на автомобиль           Проблемная ситуация.  \n",
       "женат / замужем       на автомобиль           Проблемная ситуация.  \n",
       "                      на образование          Проблемная ситуация.  \n",
       "не женат / не замужем на недвижимость         Проблемная ситуация.  \n",
       "гражданский брак      на свадьбу                  Хорошая ситуация  \n",
       "вдовец / вдова        на образование              Хорошая ситуация  \n",
       "в разводе             на автомобиль               Хорошая ситуация  \n",
       "                      на образование              Хорошая ситуация  \n",
       "                      на недвижимость             Хорошая ситуация  \n",
       "женат / замужем       на недвижимость             Хорошая ситуация  \n",
       "вдовец / вдова        на недвижимость             Хорошая ситуация  "
      ]
     },
     "metadata": {},
     "output_type": "display_data"
    },
    {
     "name": "stdout",
     "output_type": "stream",
     "text": [
      "Зависимость категорий family_status и total_income_group:\n"
     ]
    },
    {
     "data": {
      "text/html": [
       "<div>\n",
       "<style scoped>\n",
       "    .dataframe tbody tr th:only-of-type {\n",
       "        vertical-align: middle;\n",
       "    }\n",
       "\n",
       "    .dataframe tbody tr th {\n",
       "        vertical-align: top;\n",
       "    }\n",
       "\n",
       "    .dataframe thead th {\n",
       "        text-align: right;\n",
       "    }\n",
       "</style>\n",
       "<table border=\"1\" class=\"dataframe\">\n",
       "  <thead>\n",
       "    <tr style=\"text-align: right;\">\n",
       "      <th></th>\n",
       "      <th>debt_group</th>\n",
       "      <th>без просрочек</th>\n",
       "      <th>с просрочкой</th>\n",
       "      <th>avg_debt_%</th>\n",
       "      <th>deviation</th>\n",
       "      <th>deviation_%</th>\n",
       "      <th>category_special_case</th>\n",
       "    </tr>\n",
       "    <tr>\n",
       "      <th>family_status</th>\n",
       "      <th>total_income_group</th>\n",
       "      <th></th>\n",
       "      <th></th>\n",
       "      <th></th>\n",
       "      <th></th>\n",
       "      <th></th>\n",
       "      <th></th>\n",
       "    </tr>\n",
       "  </thead>\n",
       "  <tbody>\n",
       "    <tr>\n",
       "      <th>не женат / не замужем</th>\n",
       "      <th>выше среднего доходы</th>\n",
       "      <td>612</td>\n",
       "      <td>77</td>\n",
       "      <td>11.18</td>\n",
       "      <td>-3.06</td>\n",
       "      <td>-27.4</td>\n",
       "      <td>Проблемная ситуация.</td>\n",
       "    </tr>\n",
       "    <tr>\n",
       "      <th rowspan=\"2\" valign=\"top\">гражданский брак</th>\n",
       "      <th>средние доходы</th>\n",
       "      <td>948</td>\n",
       "      <td>116</td>\n",
       "      <td>10.90</td>\n",
       "      <td>-2.78</td>\n",
       "      <td>-25.5</td>\n",
       "      <td>Проблемная ситуация.</td>\n",
       "    </tr>\n",
       "    <tr>\n",
       "      <th>выше среднего доходы</th>\n",
       "      <td>897</td>\n",
       "      <td>106</td>\n",
       "      <td>10.57</td>\n",
       "      <td>-2.45</td>\n",
       "      <td>-23.2</td>\n",
       "      <td>Проблемная ситуация.</td>\n",
       "    </tr>\n",
       "    <tr>\n",
       "      <th rowspan=\"2\" valign=\"top\">не женат / не замужем</th>\n",
       "      <th>средние доходы</th>\n",
       "      <td>675</td>\n",
       "      <td>74</td>\n",
       "      <td>9.88</td>\n",
       "      <td>-1.76</td>\n",
       "      <td>-17.8</td>\n",
       "      <td>Проблемная ситуация.</td>\n",
       "    </tr>\n",
       "    <tr>\n",
       "      <th>высокие доходы</th>\n",
       "      <td>640</td>\n",
       "      <td>66</td>\n",
       "      <td>9.35</td>\n",
       "      <td>-1.23</td>\n",
       "      <td>-13.2</td>\n",
       "      <td>Проблемная ситуация.</td>\n",
       "    </tr>\n",
       "    <tr>\n",
       "      <th>гражданский брак</th>\n",
       "      <th>низкие доходы</th>\n",
       "      <td>945</td>\n",
       "      <td>96</td>\n",
       "      <td>9.22</td>\n",
       "      <td>-1.10</td>\n",
       "      <td>-11.9</td>\n",
       "      <td>Проблемная ситуация.</td>\n",
       "    </tr>\n",
       "    <tr>\n",
       "      <th>вдовец / вдова</th>\n",
       "      <th>выше среднего доходы</th>\n",
       "      <td>180</td>\n",
       "      <td>17</td>\n",
       "      <td>8.63</td>\n",
       "      <td>-0.51</td>\n",
       "      <td>-5.9</td>\n",
       "      <td>Проблемная ситуация.</td>\n",
       "    </tr>\n",
       "    <tr>\n",
       "      <th>не женат / не замужем</th>\n",
       "      <th>низкие доходы</th>\n",
       "      <td>609</td>\n",
       "      <td>57</td>\n",
       "      <td>8.56</td>\n",
       "      <td>-0.44</td>\n",
       "      <td>-5.1</td>\n",
       "      <td>Проблемная ситуация.</td>\n",
       "    </tr>\n",
       "    <tr>\n",
       "      <th>в разводе</th>\n",
       "      <th>средние доходы</th>\n",
       "      <td>272</td>\n",
       "      <td>25</td>\n",
       "      <td>8.42</td>\n",
       "      <td>-0.30</td>\n",
       "      <td>-3.6</td>\n",
       "      <td>Проблемная ситуация.</td>\n",
       "    </tr>\n",
       "    <tr>\n",
       "      <th rowspan=\"3\" valign=\"top\">женат / замужем</th>\n",
       "      <th>средние доходы</th>\n",
       "      <td>2843</td>\n",
       "      <td>248</td>\n",
       "      <td>8.02</td>\n",
       "      <td>0.10</td>\n",
       "      <td>1.2</td>\n",
       "      <td>Хорошая ситуация</td>\n",
       "    </tr>\n",
       "    <tr>\n",
       "      <th>низкие доходы</th>\n",
       "      <td>2809</td>\n",
       "      <td>237</td>\n",
       "      <td>7.78</td>\n",
       "      <td>0.34</td>\n",
       "      <td>4.4</td>\n",
       "      <td>Хорошая ситуация</td>\n",
       "    </tr>\n",
       "    <tr>\n",
       "      <th>выше среднего доходы</th>\n",
       "      <td>2832</td>\n",
       "      <td>229</td>\n",
       "      <td>7.48</td>\n",
       "      <td>0.64</td>\n",
       "      <td>8.6</td>\n",
       "      <td>Хорошая ситуация</td>\n",
       "    </tr>\n",
       "    <tr>\n",
       "      <th>в разводе</th>\n",
       "      <th>низкие доходы</th>\n",
       "      <td>272</td>\n",
       "      <td>22</td>\n",
       "      <td>7.48</td>\n",
       "      <td>0.64</td>\n",
       "      <td>8.6</td>\n",
       "      <td>Хорошая ситуация</td>\n",
       "    </tr>\n",
       "    <tr>\n",
       "      <th>вдовец / вдова</th>\n",
       "      <th>средние доходы</th>\n",
       "      <td>258</td>\n",
       "      <td>20</td>\n",
       "      <td>7.19</td>\n",
       "      <td>0.93</td>\n",
       "      <td>12.9</td>\n",
       "      <td>Хорошая ситуация</td>\n",
       "    </tr>\n",
       "    <tr>\n",
       "      <th>женат / замужем</th>\n",
       "      <th>высокие доходы</th>\n",
       "      <td>2924</td>\n",
       "      <td>217</td>\n",
       "      <td>6.91</td>\n",
       "      <td>1.21</td>\n",
       "      <td>17.5</td>\n",
       "      <td>Хорошая ситуация</td>\n",
       "    </tr>\n",
       "    <tr>\n",
       "      <th>гражданский брак</th>\n",
       "      <th>высокие доходы</th>\n",
       "      <td>972</td>\n",
       "      <td>70</td>\n",
       "      <td>6.72</td>\n",
       "      <td>1.40</td>\n",
       "      <td>20.8</td>\n",
       "      <td>Хорошая ситуация</td>\n",
       "    </tr>\n",
       "    <tr>\n",
       "      <th>вдовец / вдова</th>\n",
       "      <th>высокие доходы</th>\n",
       "      <td>156</td>\n",
       "      <td>11</td>\n",
       "      <td>6.59</td>\n",
       "      <td>1.53</td>\n",
       "      <td>23.2</td>\n",
       "      <td>Хорошая ситуация</td>\n",
       "    </tr>\n",
       "    <tr>\n",
       "      <th rowspan=\"2\" valign=\"top\">в разводе</th>\n",
       "      <th>выше среднего доходы</th>\n",
       "      <td>278</td>\n",
       "      <td>19</td>\n",
       "      <td>6.40</td>\n",
       "      <td>1.72</td>\n",
       "      <td>26.9</td>\n",
       "      <td>Хорошая ситуация</td>\n",
       "    </tr>\n",
       "    <tr>\n",
       "      <th>высокие доходы</th>\n",
       "      <td>288</td>\n",
       "      <td>19</td>\n",
       "      <td>6.19</td>\n",
       "      <td>1.93</td>\n",
       "      <td>31.2</td>\n",
       "      <td>Хорошая ситуация</td>\n",
       "    </tr>\n",
       "    <tr>\n",
       "      <th>вдовец / вдова</th>\n",
       "      <th>низкие доходы</th>\n",
       "      <td>302</td>\n",
       "      <td>15</td>\n",
       "      <td>4.73</td>\n",
       "      <td>3.39</td>\n",
       "      <td>71.7</td>\n",
       "      <td>Хорошая ситуация</td>\n",
       "    </tr>\n",
       "  </tbody>\n",
       "</table>\n",
       "</div>"
      ],
      "text/plain": [
       "debt_group                                  без просрочек  с просрочкой  \\\n",
       "family_status         total_income_group                                  \n",
       "не женат / не замужем выше среднего доходы            612            77   \n",
       "гражданский брак      средние доходы                  948           116   \n",
       "                      выше среднего доходы            897           106   \n",
       "не женат / не замужем средние доходы                  675            74   \n",
       "                      высокие доходы                  640            66   \n",
       "гражданский брак      низкие доходы                   945            96   \n",
       "вдовец / вдова        выше среднего доходы            180            17   \n",
       "не женат / не замужем низкие доходы                   609            57   \n",
       "в разводе             средние доходы                  272            25   \n",
       "женат / замужем       средние доходы                 2843           248   \n",
       "                      низкие доходы                  2809           237   \n",
       "                      выше среднего доходы           2832           229   \n",
       "в разводе             низкие доходы                   272            22   \n",
       "вдовец / вдова        средние доходы                  258            20   \n",
       "женат / замужем       высокие доходы                 2924           217   \n",
       "гражданский брак      высокие доходы                  972            70   \n",
       "вдовец / вдова        высокие доходы                  156            11   \n",
       "в разводе             выше среднего доходы            278            19   \n",
       "                      высокие доходы                  288            19   \n",
       "вдовец / вдова        низкие доходы                   302            15   \n",
       "\n",
       "debt_group                                  avg_debt_%  deviation  \\\n",
       "family_status         total_income_group                            \n",
       "не женат / не замужем выше среднего доходы       11.18      -3.06   \n",
       "гражданский брак      средние доходы             10.90      -2.78   \n",
       "                      выше среднего доходы       10.57      -2.45   \n",
       "не женат / не замужем средние доходы              9.88      -1.76   \n",
       "                      высокие доходы              9.35      -1.23   \n",
       "гражданский брак      низкие доходы               9.22      -1.10   \n",
       "вдовец / вдова        выше среднего доходы        8.63      -0.51   \n",
       "не женат / не замужем низкие доходы               8.56      -0.44   \n",
       "в разводе             средние доходы              8.42      -0.30   \n",
       "женат / замужем       средние доходы              8.02       0.10   \n",
       "                      низкие доходы               7.78       0.34   \n",
       "                      выше среднего доходы        7.48       0.64   \n",
       "в разводе             низкие доходы               7.48       0.64   \n",
       "вдовец / вдова        средние доходы              7.19       0.93   \n",
       "женат / замужем       высокие доходы              6.91       1.21   \n",
       "гражданский брак      высокие доходы              6.72       1.40   \n",
       "вдовец / вдова        высокие доходы              6.59       1.53   \n",
       "в разводе             выше среднего доходы        6.40       1.72   \n",
       "                      высокие доходы              6.19       1.93   \n",
       "вдовец / вдова        низкие доходы               4.73       3.39   \n",
       "\n",
       "debt_group                                  deviation_% category_special_case  \n",
       "family_status         total_income_group                                       \n",
       "не женат / не замужем выше среднего доходы        -27.4  Проблемная ситуация.  \n",
       "гражданский брак      средние доходы              -25.5  Проблемная ситуация.  \n",
       "                      выше среднего доходы        -23.2  Проблемная ситуация.  \n",
       "не женат / не замужем средние доходы              -17.8  Проблемная ситуация.  \n",
       "                      высокие доходы              -13.2  Проблемная ситуация.  \n",
       "гражданский брак      низкие доходы               -11.9  Проблемная ситуация.  \n",
       "вдовец / вдова        выше среднего доходы         -5.9  Проблемная ситуация.  \n",
       "не женат / не замужем низкие доходы                -5.1  Проблемная ситуация.  \n",
       "в разводе             средние доходы               -3.6  Проблемная ситуация.  \n",
       "женат / замужем       средние доходы                1.2      Хорошая ситуация  \n",
       "                      низкие доходы                 4.4      Хорошая ситуация  \n",
       "                      выше среднего доходы          8.6      Хорошая ситуация  \n",
       "в разводе             низкие доходы                 8.6      Хорошая ситуация  \n",
       "вдовец / вдова        средние доходы               12.9      Хорошая ситуация  \n",
       "женат / замужем       высокие доходы               17.5      Хорошая ситуация  \n",
       "гражданский брак      высокие доходы               20.8      Хорошая ситуация  \n",
       "вдовец / вдова        высокие доходы               23.2      Хорошая ситуация  \n",
       "в разводе             выше среднего доходы         26.9      Хорошая ситуация  \n",
       "                      высокие доходы               31.2      Хорошая ситуация  \n",
       "вдовец / вдова        низкие доходы                71.7      Хорошая ситуация  "
      ]
     },
     "metadata": {},
     "output_type": "display_data"
    }
   ],
   "source": [
    "#применим функцию для  комбинации основной категории с одной дополнительной\n",
    "create_combination('family_status', list_addiction_with_family_status)"
   ]
  },
  {
   "cell_type": "markdown",
   "metadata": {},
   "source": [
    "Отметим критические или особые проблемные ситуации есть в комбинациях с \"полом\", с \"образованием\", с \"целями\".\n",
    "\n",
    "Крайние случаи, как положительные, так и отрицательные есть в комбинациях с \"рабочим положением\", с \"образованием\"."
   ]
  },
  {
   "cell_type": "code",
   "execution_count": 56,
   "metadata": {
    "scrolled": false
   },
   "outputs": [
    {
     "name": "stdout",
     "output_type": "stream",
     "text": [
      "Зависимость категорий family_status с gender и education:\n"
     ]
    },
    {
     "data": {
      "text/html": [
       "<div>\n",
       "<style scoped>\n",
       "    .dataframe tbody tr th:only-of-type {\n",
       "        vertical-align: middle;\n",
       "    }\n",
       "\n",
       "    .dataframe tbody tr th {\n",
       "        vertical-align: top;\n",
       "    }\n",
       "\n",
       "    .dataframe thead th {\n",
       "        text-align: right;\n",
       "    }\n",
       "</style>\n",
       "<table border=\"1\" class=\"dataframe\">\n",
       "  <thead>\n",
       "    <tr style=\"text-align: right;\">\n",
       "      <th></th>\n",
       "      <th></th>\n",
       "      <th>debt_group</th>\n",
       "      <th>без просрочек</th>\n",
       "      <th>с просрочкой</th>\n",
       "      <th>avg_debt_%</th>\n",
       "      <th>deviation</th>\n",
       "      <th>deviation_%</th>\n",
       "      <th>category_special_case</th>\n",
       "    </tr>\n",
       "    <tr>\n",
       "      <th>family_status</th>\n",
       "      <th>gender</th>\n",
       "      <th>education</th>\n",
       "      <th></th>\n",
       "      <th></th>\n",
       "      <th></th>\n",
       "      <th></th>\n",
       "      <th></th>\n",
       "      <th></th>\n",
       "    </tr>\n",
       "  </thead>\n",
       "  <tbody>\n",
       "    <tr>\n",
       "      <th>гражданский брак</th>\n",
       "      <th>m</th>\n",
       "      <th>начальное</th>\n",
       "      <td>12.0</td>\n",
       "      <td>4.0</td>\n",
       "      <td>25.00</td>\n",
       "      <td>-16.88</td>\n",
       "      <td>-67.5</td>\n",
       "      <td>Критический случай!</td>\n",
       "    </tr>\n",
       "    <tr>\n",
       "      <th>вдовец / вдова</th>\n",
       "      <th>m</th>\n",
       "      <th>среднее</th>\n",
       "      <td>30.0</td>\n",
       "      <td>9.0</td>\n",
       "      <td>23.08</td>\n",
       "      <td>-14.96</td>\n",
       "      <td>-64.8</td>\n",
       "      <td>Критический случай!</td>\n",
       "    </tr>\n",
       "    <tr>\n",
       "      <th>гражданский брак</th>\n",
       "      <th>f</th>\n",
       "      <th>начальное</th>\n",
       "      <td>33.0</td>\n",
       "      <td>7.0</td>\n",
       "      <td>17.50</td>\n",
       "      <td>-9.38</td>\n",
       "      <td>-53.6</td>\n",
       "      <td>Критический случай!</td>\n",
       "    </tr>\n",
       "    <tr>\n",
       "      <th>не женат / не замужем</th>\n",
       "      <th>m</th>\n",
       "      <th>среднее</th>\n",
       "      <td>568.0</td>\n",
       "      <td>117.0</td>\n",
       "      <td>17.08</td>\n",
       "      <td>-8.96</td>\n",
       "      <td>-52.5</td>\n",
       "      <td>Критический случай!</td>\n",
       "    </tr>\n",
       "    <tr>\n",
       "      <th rowspan=\"2\" valign=\"top\">вдовец / вдова</th>\n",
       "      <th>m</th>\n",
       "      <th>высшее</th>\n",
       "      <td>10.0</td>\n",
       "      <td>2.0</td>\n",
       "      <td>16.67</td>\n",
       "      <td>-8.55</td>\n",
       "      <td>-51.3</td>\n",
       "      <td>Критический случай!</td>\n",
       "    </tr>\n",
       "    <tr>\n",
       "      <th>f</th>\n",
       "      <th>неоконченное высшее</th>\n",
       "      <td>11.0</td>\n",
       "      <td>2.0</td>\n",
       "      <td>15.38</td>\n",
       "      <td>-7.26</td>\n",
       "      <td>-47.2</td>\n",
       "      <td>Особая проблемная ситуация!</td>\n",
       "    </tr>\n",
       "    <tr>\n",
       "      <th rowspan=\"2\" valign=\"top\">в разводе</th>\n",
       "      <th rowspan=\"2\" valign=\"top\">f</th>\n",
       "      <th>неоконченное высшее</th>\n",
       "      <td>19.0</td>\n",
       "      <td>3.0</td>\n",
       "      <td>13.64</td>\n",
       "      <td>-5.52</td>\n",
       "      <td>-40.5</td>\n",
       "      <td>Особая проблемная ситуация!</td>\n",
       "    </tr>\n",
       "    <tr>\n",
       "      <th>начальное</th>\n",
       "      <td>13.0</td>\n",
       "      <td>2.0</td>\n",
       "      <td>13.33</td>\n",
       "      <td>-5.21</td>\n",
       "      <td>-39.1</td>\n",
       "      <td>Особая проблемная ситуация!</td>\n",
       "    </tr>\n",
       "    <tr>\n",
       "      <th>гражданский брак</th>\n",
       "      <th>m</th>\n",
       "      <th>среднее</th>\n",
       "      <td>837.0</td>\n",
       "      <td>127.0</td>\n",
       "      <td>13.17</td>\n",
       "      <td>-5.05</td>\n",
       "      <td>-38.3</td>\n",
       "      <td>Особая проблемная ситуация!</td>\n",
       "    </tr>\n",
       "    <tr>\n",
       "      <th>женат / замужем</th>\n",
       "      <th>m</th>\n",
       "      <th>начальное</th>\n",
       "      <td>64.0</td>\n",
       "      <td>9.0</td>\n",
       "      <td>12.33</td>\n",
       "      <td>-4.21</td>\n",
       "      <td>-34.1</td>\n",
       "      <td>Особая проблемная ситуация!</td>\n",
       "    </tr>\n",
       "    <tr>\n",
       "      <th>в разводе</th>\n",
       "      <th>m</th>\n",
       "      <th>неоконченное высшее</th>\n",
       "      <td>8.0</td>\n",
       "      <td>1.0</td>\n",
       "      <td>11.11</td>\n",
       "      <td>-2.99</td>\n",
       "      <td>-26.9</td>\n",
       "      <td>Проблемная ситуация.</td>\n",
       "    </tr>\n",
       "    <tr>\n",
       "      <th>не женат / не замужем</th>\n",
       "      <th>m</th>\n",
       "      <th>неоконченное высшее</th>\n",
       "      <td>81.0</td>\n",
       "      <td>10.0</td>\n",
       "      <td>10.99</td>\n",
       "      <td>-2.87</td>\n",
       "      <td>-26.1</td>\n",
       "      <td>Проблемная ситуация.</td>\n",
       "    </tr>\n",
       "    <tr>\n",
       "      <th>в разводе</th>\n",
       "      <th>m</th>\n",
       "      <th>среднее</th>\n",
       "      <td>162.0</td>\n",
       "      <td>19.0</td>\n",
       "      <td>10.50</td>\n",
       "      <td>-2.38</td>\n",
       "      <td>-22.7</td>\n",
       "      <td>Проблемная ситуация.</td>\n",
       "    </tr>\n",
       "    <tr>\n",
       "      <th>женат / замужем</th>\n",
       "      <th>m</th>\n",
       "      <th>среднее</th>\n",
       "      <td>2971.0</td>\n",
       "      <td>322.0</td>\n",
       "      <td>9.78</td>\n",
       "      <td>-1.66</td>\n",
       "      <td>-17.0</td>\n",
       "      <td>Проблемная ситуация.</td>\n",
       "    </tr>\n",
       "    <tr>\n",
       "      <th>не женат / не замужем</th>\n",
       "      <th>m</th>\n",
       "      <th>высшее</th>\n",
       "      <td>256.0</td>\n",
       "      <td>27.0</td>\n",
       "      <td>9.54</td>\n",
       "      <td>-1.42</td>\n",
       "      <td>-14.9</td>\n",
       "      <td>Проблемная ситуация.</td>\n",
       "    </tr>\n",
       "    <tr>\n",
       "      <th>женат / замужем</th>\n",
       "      <th>m</th>\n",
       "      <th>неоконченное высшее</th>\n",
       "      <td>114.0</td>\n",
       "      <td>12.0</td>\n",
       "      <td>9.52</td>\n",
       "      <td>-1.40</td>\n",
       "      <td>-14.7</td>\n",
       "      <td>Проблемная ситуация.</td>\n",
       "    </tr>\n",
       "    <tr>\n",
       "      <th>не женат / не замужем</th>\n",
       "      <th>m</th>\n",
       "      <th>начальное</th>\n",
       "      <td>19.0</td>\n",
       "      <td>2.0</td>\n",
       "      <td>9.52</td>\n",
       "      <td>-1.40</td>\n",
       "      <td>-14.7</td>\n",
       "      <td>Проблемная ситуация.</td>\n",
       "    </tr>\n",
       "    <tr>\n",
       "      <th rowspan=\"2\" valign=\"top\">гражданский брак</th>\n",
       "      <th rowspan=\"2\" valign=\"top\">f</th>\n",
       "      <th>неоконченное высшее</th>\n",
       "      <td>98.0</td>\n",
       "      <td>10.0</td>\n",
       "      <td>9.26</td>\n",
       "      <td>-1.14</td>\n",
       "      <td>-12.3</td>\n",
       "      <td>Проблемная ситуация.</td>\n",
       "    </tr>\n",
       "    <tr>\n",
       "      <th>среднее</th>\n",
       "      <td>1830.0</td>\n",
       "      <td>181.0</td>\n",
       "      <td>9.00</td>\n",
       "      <td>-0.88</td>\n",
       "      <td>-9.8</td>\n",
       "      <td>Проблемная ситуация.</td>\n",
       "    </tr>\n",
       "    <tr>\n",
       "      <th rowspan=\"2\" valign=\"top\">женат / замужем</th>\n",
       "      <th rowspan=\"2\" valign=\"top\">f</th>\n",
       "      <th>начальное</th>\n",
       "      <td>62.0</td>\n",
       "      <td>6.0</td>\n",
       "      <td>8.82</td>\n",
       "      <td>-0.70</td>\n",
       "      <td>-7.9</td>\n",
       "      <td>Проблемная ситуация.</td>\n",
       "    </tr>\n",
       "    <tr>\n",
       "      <th>неоконченное высшее</th>\n",
       "      <td>197.0</td>\n",
       "      <td>18.0</td>\n",
       "      <td>8.37</td>\n",
       "      <td>-0.25</td>\n",
       "      <td>-3.0</td>\n",
       "      <td>Проблемная ситуация.</td>\n",
       "    </tr>\n",
       "    <tr>\n",
       "      <th rowspan=\"3\" valign=\"top\">не женат / не замужем</th>\n",
       "      <th rowspan=\"3\" valign=\"top\">f</th>\n",
       "      <th>среднее</th>\n",
       "      <td>1002.0</td>\n",
       "      <td>90.0</td>\n",
       "      <td>8.24</td>\n",
       "      <td>-0.12</td>\n",
       "      <td>-1.5</td>\n",
       "      <td>Проблемная ситуация.</td>\n",
       "    </tr>\n",
       "    <tr>\n",
       "      <th>неоконченное высшее</th>\n",
       "      <td>94.0</td>\n",
       "      <td>8.0</td>\n",
       "      <td>7.84</td>\n",
       "      <td>0.28</td>\n",
       "      <td>3.6</td>\n",
       "      <td>Хорошая ситуация</td>\n",
       "    </tr>\n",
       "    <tr>\n",
       "      <th>начальное</th>\n",
       "      <td>12.0</td>\n",
       "      <td>1.0</td>\n",
       "      <td>7.69</td>\n",
       "      <td>0.43</td>\n",
       "      <td>5.6</td>\n",
       "      <td>Хорошая ситуация</td>\n",
       "    </tr>\n",
       "    <tr>\n",
       "      <th>гражданский брак</th>\n",
       "      <th>m</th>\n",
       "      <th>высшее</th>\n",
       "      <td>248.0</td>\n",
       "      <td>20.0</td>\n",
       "      <td>7.46</td>\n",
       "      <td>0.66</td>\n",
       "      <td>8.8</td>\n",
       "      <td>Хорошая ситуация</td>\n",
       "    </tr>\n",
       "    <tr>\n",
       "      <th>женат / замужем</th>\n",
       "      <th>f</th>\n",
       "      <th>среднее</th>\n",
       "      <td>5111.0</td>\n",
       "      <td>409.0</td>\n",
       "      <td>7.41</td>\n",
       "      <td>0.71</td>\n",
       "      <td>9.6</td>\n",
       "      <td>Хорошая ситуация</td>\n",
       "    </tr>\n",
       "    <tr>\n",
       "      <th>гражданский брак</th>\n",
       "      <th>m</th>\n",
       "      <th>неоконченное высшее</th>\n",
       "      <td>53.0</td>\n",
       "      <td>4.0</td>\n",
       "      <td>7.02</td>\n",
       "      <td>1.10</td>\n",
       "      <td>15.7</td>\n",
       "      <td>Хорошая ситуация</td>\n",
       "    </tr>\n",
       "    <tr>\n",
       "      <th rowspan=\"2\" valign=\"top\">в разводе</th>\n",
       "      <th>f</th>\n",
       "      <th>среднее</th>\n",
       "      <td>601.0</td>\n",
       "      <td>45.0</td>\n",
       "      <td>6.97</td>\n",
       "      <td>1.15</td>\n",
       "      <td>16.5</td>\n",
       "      <td>Хорошая ситуация</td>\n",
       "    </tr>\n",
       "    <tr>\n",
       "      <th>m</th>\n",
       "      <th>высшее</th>\n",
       "      <td>59.0</td>\n",
       "      <td>4.0</td>\n",
       "      <td>6.35</td>\n",
       "      <td>1.77</td>\n",
       "      <td>27.9</td>\n",
       "      <td>Хорошая ситуация</td>\n",
       "    </tr>\n",
       "    <tr>\n",
       "      <th>вдовец / вдова</th>\n",
       "      <th>f</th>\n",
       "      <th>среднее</th>\n",
       "      <td>695.0</td>\n",
       "      <td>45.0</td>\n",
       "      <td>6.08</td>\n",
       "      <td>2.04</td>\n",
       "      <td>33.6</td>\n",
       "      <td>Хорошая ситуация</td>\n",
       "    </tr>\n",
       "    <tr>\n",
       "      <th>женат / замужем</th>\n",
       "      <th>m</th>\n",
       "      <th>высшее</th>\n",
       "      <td>1027.0</td>\n",
       "      <td>58.0</td>\n",
       "      <td>5.35</td>\n",
       "      <td>2.77</td>\n",
       "      <td>51.8</td>\n",
       "      <td>Хорошая ситуация</td>\n",
       "    </tr>\n",
       "    <tr>\n",
       "      <th>гражданский брак</th>\n",
       "      <th>f</th>\n",
       "      <th>высшее</th>\n",
       "      <td>650.0</td>\n",
       "      <td>35.0</td>\n",
       "      <td>5.11</td>\n",
       "      <td>3.01</td>\n",
       "      <td>58.9</td>\n",
       "      <td>Хорошая ситуация</td>\n",
       "    </tr>\n",
       "    <tr>\n",
       "      <th>женат / замужем</th>\n",
       "      <th>f</th>\n",
       "      <th>высшее</th>\n",
       "      <td>1858.0</td>\n",
       "      <td>97.0</td>\n",
       "      <td>4.96</td>\n",
       "      <td>3.16</td>\n",
       "      <td>63.7</td>\n",
       "      <td>Хорошая ситуация</td>\n",
       "    </tr>\n",
       "    <tr>\n",
       "      <th>в разводе</th>\n",
       "      <th>f</th>\n",
       "      <th>высшее</th>\n",
       "      <td>242.0</td>\n",
       "      <td>11.0</td>\n",
       "      <td>4.35</td>\n",
       "      <td>3.77</td>\n",
       "      <td>86.7</td>\n",
       "      <td>Хорошая ситуация</td>\n",
       "    </tr>\n",
       "    <tr>\n",
       "      <th>вдовец / вдова</th>\n",
       "      <th>f</th>\n",
       "      <th>высшее</th>\n",
       "      <td>119.0</td>\n",
       "      <td>5.0</td>\n",
       "      <td>4.03</td>\n",
       "      <td>4.09</td>\n",
       "      <td>101.5</td>\n",
       "      <td>Хорошая ситуация</td>\n",
       "    </tr>\n",
       "    <tr>\n",
       "      <th>не женат / не замужем</th>\n",
       "      <th>f</th>\n",
       "      <th>высшее</th>\n",
       "      <td>503.0</td>\n",
       "      <td>19.0</td>\n",
       "      <td>3.64</td>\n",
       "      <td>4.48</td>\n",
       "      <td>123.1</td>\n",
       "      <td>Хорошая ситуация</td>\n",
       "    </tr>\n",
       "    <tr>\n",
       "      <th rowspan=\"2\" valign=\"top\">в разводе</th>\n",
       "      <th rowspan=\"2\" valign=\"top\">m</th>\n",
       "      <th>начальное</th>\n",
       "      <td>5.0</td>\n",
       "      <td>NaN</td>\n",
       "      <td>NaN</td>\n",
       "      <td>NaN</td>\n",
       "      <td>NaN</td>\n",
       "      <td>Крайние значения</td>\n",
       "    </tr>\n",
       "    <tr>\n",
       "      <th>ученая степень</th>\n",
       "      <td>1.0</td>\n",
       "      <td>NaN</td>\n",
       "      <td>NaN</td>\n",
       "      <td>NaN</td>\n",
       "      <td>NaN</td>\n",
       "      <td>Крайние значения</td>\n",
       "    </tr>\n",
       "    <tr>\n",
       "      <th rowspan=\"2\" valign=\"top\">вдовец / вдова</th>\n",
       "      <th>f</th>\n",
       "      <th>начальное</th>\n",
       "      <td>27.0</td>\n",
       "      <td>NaN</td>\n",
       "      <td>NaN</td>\n",
       "      <td>NaN</td>\n",
       "      <td>NaN</td>\n",
       "      <td>Крайние значения</td>\n",
       "    </tr>\n",
       "    <tr>\n",
       "      <th>m</th>\n",
       "      <th>начальное</th>\n",
       "      <td>4.0</td>\n",
       "      <td>NaN</td>\n",
       "      <td>NaN</td>\n",
       "      <td>NaN</td>\n",
       "      <td>NaN</td>\n",
       "      <td>Крайние значения</td>\n",
       "    </tr>\n",
       "    <tr>\n",
       "      <th>гражданский брак</th>\n",
       "      <th>xna</th>\n",
       "      <th>неоконченное высшее</th>\n",
       "      <td>1.0</td>\n",
       "      <td>NaN</td>\n",
       "      <td>NaN</td>\n",
       "      <td>NaN</td>\n",
       "      <td>NaN</td>\n",
       "      <td>Крайние значения</td>\n",
       "    </tr>\n",
       "    <tr>\n",
       "      <th rowspan=\"2\" valign=\"top\">женат / замужем</th>\n",
       "      <th>f</th>\n",
       "      <th>ученая степень</th>\n",
       "      <td>2.0</td>\n",
       "      <td>NaN</td>\n",
       "      <td>NaN</td>\n",
       "      <td>NaN</td>\n",
       "      <td>NaN</td>\n",
       "      <td>Крайние значения</td>\n",
       "    </tr>\n",
       "    <tr>\n",
       "      <th>m</th>\n",
       "      <th>ученая степень</th>\n",
       "      <td>2.0</td>\n",
       "      <td>NaN</td>\n",
       "      <td>NaN</td>\n",
       "      <td>NaN</td>\n",
       "      <td>NaN</td>\n",
       "      <td>Крайние значения</td>\n",
       "    </tr>\n",
       "    <tr>\n",
       "      <th>не женат / не замужем</th>\n",
       "      <th>m</th>\n",
       "      <th>ученая степень</th>\n",
       "      <td>1.0</td>\n",
       "      <td>NaN</td>\n",
       "      <td>NaN</td>\n",
       "      <td>NaN</td>\n",
       "      <td>NaN</td>\n",
       "      <td>Крайние значения</td>\n",
       "    </tr>\n",
       "  </tbody>\n",
       "</table>\n",
       "</div>"
      ],
      "text/plain": [
       "debt_group                                        без просрочек  с просрочкой  \\\n",
       "family_status         gender education                                          \n",
       "гражданский брак      m      начальное                     12.0           4.0   \n",
       "вдовец / вдова        m      среднее                       30.0           9.0   \n",
       "гражданский брак      f      начальное                     33.0           7.0   \n",
       "не женат / не замужем m      среднее                      568.0         117.0   \n",
       "вдовец / вдова        m      высшее                        10.0           2.0   \n",
       "                      f      неоконченное высшее           11.0           2.0   \n",
       "в разводе             f      неоконченное высшее           19.0           3.0   \n",
       "                             начальное                     13.0           2.0   \n",
       "гражданский брак      m      среднее                      837.0         127.0   \n",
       "женат / замужем       m      начальное                     64.0           9.0   \n",
       "в разводе             m      неоконченное высшее            8.0           1.0   \n",
       "не женат / не замужем m      неоконченное высшее           81.0          10.0   \n",
       "в разводе             m      среднее                      162.0          19.0   \n",
       "женат / замужем       m      среднее                     2971.0         322.0   \n",
       "не женат / не замужем m      высшее                       256.0          27.0   \n",
       "женат / замужем       m      неоконченное высшее          114.0          12.0   \n",
       "не женат / не замужем m      начальное                     19.0           2.0   \n",
       "гражданский брак      f      неоконченное высшее           98.0          10.0   \n",
       "                             среднее                     1830.0         181.0   \n",
       "женат / замужем       f      начальное                     62.0           6.0   \n",
       "                             неоконченное высшее          197.0          18.0   \n",
       "не женат / не замужем f      среднее                     1002.0          90.0   \n",
       "                             неоконченное высшее           94.0           8.0   \n",
       "                             начальное                     12.0           1.0   \n",
       "гражданский брак      m      высшее                       248.0          20.0   \n",
       "женат / замужем       f      среднее                     5111.0         409.0   \n",
       "гражданский брак      m      неоконченное высшее           53.0           4.0   \n",
       "в разводе             f      среднее                      601.0          45.0   \n",
       "                      m      высшее                        59.0           4.0   \n",
       "вдовец / вдова        f      среднее                      695.0          45.0   \n",
       "женат / замужем       m      высшее                      1027.0          58.0   \n",
       "гражданский брак      f      высшее                       650.0          35.0   \n",
       "женат / замужем       f      высшее                      1858.0          97.0   \n",
       "в разводе             f      высшее                       242.0          11.0   \n",
       "вдовец / вдова        f      высшее                       119.0           5.0   \n",
       "не женат / не замужем f      высшее                       503.0          19.0   \n",
       "в разводе             m      начальное                      5.0           NaN   \n",
       "                             ученая степень                 1.0           NaN   \n",
       "вдовец / вдова        f      начальное                     27.0           NaN   \n",
       "                      m      начальное                      4.0           NaN   \n",
       "гражданский брак      xna    неоконченное высшее            1.0           NaN   \n",
       "женат / замужем       f      ученая степень                 2.0           NaN   \n",
       "                      m      ученая степень                 2.0           NaN   \n",
       "не женат / не замужем m      ученая степень                 1.0           NaN   \n",
       "\n",
       "debt_group                                        avg_debt_%  deviation  \\\n",
       "family_status         gender education                                    \n",
       "гражданский брак      m      начальное                 25.00     -16.88   \n",
       "вдовец / вдова        m      среднее                   23.08     -14.96   \n",
       "гражданский брак      f      начальное                 17.50      -9.38   \n",
       "не женат / не замужем m      среднее                   17.08      -8.96   \n",
       "вдовец / вдова        m      высшее                    16.67      -8.55   \n",
       "                      f      неоконченное высшее       15.38      -7.26   \n",
       "в разводе             f      неоконченное высшее       13.64      -5.52   \n",
       "                             начальное                 13.33      -5.21   \n",
       "гражданский брак      m      среднее                   13.17      -5.05   \n",
       "женат / замужем       m      начальное                 12.33      -4.21   \n",
       "в разводе             m      неоконченное высшее       11.11      -2.99   \n",
       "не женат / не замужем m      неоконченное высшее       10.99      -2.87   \n",
       "в разводе             m      среднее                   10.50      -2.38   \n",
       "женат / замужем       m      среднее                    9.78      -1.66   \n",
       "не женат / не замужем m      высшее                     9.54      -1.42   \n",
       "женат / замужем       m      неоконченное высшее        9.52      -1.40   \n",
       "не женат / не замужем m      начальное                  9.52      -1.40   \n",
       "гражданский брак      f      неоконченное высшее        9.26      -1.14   \n",
       "                             среднее                    9.00      -0.88   \n",
       "женат / замужем       f      начальное                  8.82      -0.70   \n",
       "                             неоконченное высшее        8.37      -0.25   \n",
       "не женат / не замужем f      среднее                    8.24      -0.12   \n",
       "                             неоконченное высшее        7.84       0.28   \n",
       "                             начальное                  7.69       0.43   \n",
       "гражданский брак      m      высшее                     7.46       0.66   \n",
       "женат / замужем       f      среднее                    7.41       0.71   \n",
       "гражданский брак      m      неоконченное высшее        7.02       1.10   \n",
       "в разводе             f      среднее                    6.97       1.15   \n",
       "                      m      высшее                     6.35       1.77   \n",
       "вдовец / вдова        f      среднее                    6.08       2.04   \n",
       "женат / замужем       m      высшее                     5.35       2.77   \n",
       "гражданский брак      f      высшее                     5.11       3.01   \n",
       "женат / замужем       f      высшее                     4.96       3.16   \n",
       "в разводе             f      высшее                     4.35       3.77   \n",
       "вдовец / вдова        f      высшее                     4.03       4.09   \n",
       "не женат / не замужем f      высшее                     3.64       4.48   \n",
       "в разводе             m      начальное                   NaN        NaN   \n",
       "                             ученая степень              NaN        NaN   \n",
       "вдовец / вдова        f      начальное                   NaN        NaN   \n",
       "                      m      начальное                   NaN        NaN   \n",
       "гражданский брак      xna    неоконченное высшее         NaN        NaN   \n",
       "женат / замужем       f      ученая степень              NaN        NaN   \n",
       "                      m      ученая степень              NaN        NaN   \n",
       "не женат / не замужем m      ученая степень              NaN        NaN   \n",
       "\n",
       "debt_group                                        deviation_%  \\\n",
       "family_status         gender education                          \n",
       "гражданский брак      m      начальное                  -67.5   \n",
       "вдовец / вдова        m      среднее                    -64.8   \n",
       "гражданский брак      f      начальное                  -53.6   \n",
       "не женат / не замужем m      среднее                    -52.5   \n",
       "вдовец / вдова        m      высшее                     -51.3   \n",
       "                      f      неоконченное высшее        -47.2   \n",
       "в разводе             f      неоконченное высшее        -40.5   \n",
       "                             начальное                  -39.1   \n",
       "гражданский брак      m      среднее                    -38.3   \n",
       "женат / замужем       m      начальное                  -34.1   \n",
       "в разводе             m      неоконченное высшее        -26.9   \n",
       "не женат / не замужем m      неоконченное высшее        -26.1   \n",
       "в разводе             m      среднее                    -22.7   \n",
       "женат / замужем       m      среднее                    -17.0   \n",
       "не женат / не замужем m      высшее                     -14.9   \n",
       "женат / замужем       m      неоконченное высшее        -14.7   \n",
       "не женат / не замужем m      начальное                  -14.7   \n",
       "гражданский брак      f      неоконченное высшее        -12.3   \n",
       "                             среднее                     -9.8   \n",
       "женат / замужем       f      начальное                   -7.9   \n",
       "                             неоконченное высшее         -3.0   \n",
       "не женат / не замужем f      среднее                     -1.5   \n",
       "                             неоконченное высшее          3.6   \n",
       "                             начальное                    5.6   \n",
       "гражданский брак      m      высшее                       8.8   \n",
       "женат / замужем       f      среднее                      9.6   \n",
       "гражданский брак      m      неоконченное высшее         15.7   \n",
       "в разводе             f      среднее                     16.5   \n",
       "                      m      высшее                      27.9   \n",
       "вдовец / вдова        f      среднее                     33.6   \n",
       "женат / замужем       m      высшее                      51.8   \n",
       "гражданский брак      f      высшее                      58.9   \n",
       "женат / замужем       f      высшее                      63.7   \n",
       "в разводе             f      высшее                      86.7   \n",
       "вдовец / вдова        f      высшее                     101.5   \n",
       "не женат / не замужем f      высшее                     123.1   \n",
       "в разводе             m      начальное                    NaN   \n",
       "                             ученая степень               NaN   \n",
       "вдовец / вдова        f      начальное                    NaN   \n",
       "                      m      начальное                    NaN   \n",
       "гражданский брак      xna    неоконченное высшее          NaN   \n",
       "женат / замужем       f      ученая степень               NaN   \n",
       "                      m      ученая степень               NaN   \n",
       "не женат / не замужем m      ученая степень               NaN   \n",
       "\n",
       "debt_group                                              category_special_case  \n",
       "family_status         gender education                                         \n",
       "гражданский брак      m      начальное                    Критический случай!  \n",
       "вдовец / вдова        m      среднее                      Критический случай!  \n",
       "гражданский брак      f      начальное                    Критический случай!  \n",
       "не женат / не замужем m      среднее                      Критический случай!  \n",
       "вдовец / вдова        m      высшее                       Критический случай!  \n",
       "                      f      неоконченное высшее  Особая проблемная ситуация!  \n",
       "в разводе             f      неоконченное высшее  Особая проблемная ситуация!  \n",
       "                             начальное            Особая проблемная ситуация!  \n",
       "гражданский брак      m      среднее              Особая проблемная ситуация!  \n",
       "женат / замужем       m      начальное            Особая проблемная ситуация!  \n",
       "в разводе             m      неоконченное высшее         Проблемная ситуация.  \n",
       "не женат / не замужем m      неоконченное высшее         Проблемная ситуация.  \n",
       "в разводе             m      среднее                     Проблемная ситуация.  \n",
       "женат / замужем       m      среднее                     Проблемная ситуация.  \n",
       "не женат / не замужем m      высшее                      Проблемная ситуация.  \n",
       "женат / замужем       m      неоконченное высшее         Проблемная ситуация.  \n",
       "не женат / не замужем m      начальное                   Проблемная ситуация.  \n",
       "гражданский брак      f      неоконченное высшее         Проблемная ситуация.  \n",
       "                             среднее                     Проблемная ситуация.  \n",
       "женат / замужем       f      начальное                   Проблемная ситуация.  \n",
       "                             неоконченное высшее         Проблемная ситуация.  \n",
       "не женат / не замужем f      среднее                     Проблемная ситуация.  \n",
       "                             неоконченное высшее             Хорошая ситуация  \n",
       "                             начальное                       Хорошая ситуация  \n",
       "гражданский брак      m      высшее                          Хорошая ситуация  \n",
       "женат / замужем       f      среднее                         Хорошая ситуация  \n",
       "гражданский брак      m      неоконченное высшее             Хорошая ситуация  \n",
       "в разводе             f      среднее                         Хорошая ситуация  \n",
       "                      m      высшее                          Хорошая ситуация  \n",
       "вдовец / вдова        f      среднее                         Хорошая ситуация  \n",
       "женат / замужем       m      высшее                          Хорошая ситуация  \n",
       "гражданский брак      f      высшее                          Хорошая ситуация  \n",
       "женат / замужем       f      высшее                          Хорошая ситуация  \n",
       "в разводе             f      высшее                          Хорошая ситуация  \n",
       "вдовец / вдова        f      высшее                          Хорошая ситуация  \n",
       "не женат / не замужем f      высшее                          Хорошая ситуация  \n",
       "в разводе             m      начальное                       Крайние значения  \n",
       "                             ученая степень                  Крайние значения  \n",
       "вдовец / вдова        f      начальное                       Крайние значения  \n",
       "                      m      начальное                       Крайние значения  \n",
       "гражданский брак      xna    неоконченное высшее             Крайние значения  \n",
       "женат / замужем       f      ученая степень                  Крайние значения  \n",
       "                      m      ученая степень                  Крайние значения  \n",
       "не женат / не замужем m      ученая степень                  Крайние значения  "
      ]
     },
     "metadata": {},
     "output_type": "display_data"
    },
    {
     "name": "stdout",
     "output_type": "stream",
     "text": [
      "Зависимость категорий family_status с gender и purpose_lemma:\n"
     ]
    },
    {
     "data": {
      "text/html": [
       "<div>\n",
       "<style scoped>\n",
       "    .dataframe tbody tr th:only-of-type {\n",
       "        vertical-align: middle;\n",
       "    }\n",
       "\n",
       "    .dataframe tbody tr th {\n",
       "        vertical-align: top;\n",
       "    }\n",
       "\n",
       "    .dataframe thead th {\n",
       "        text-align: right;\n",
       "    }\n",
       "</style>\n",
       "<table border=\"1\" class=\"dataframe\">\n",
       "  <thead>\n",
       "    <tr style=\"text-align: right;\">\n",
       "      <th></th>\n",
       "      <th></th>\n",
       "      <th>debt_group</th>\n",
       "      <th>без просрочек</th>\n",
       "      <th>с просрочкой</th>\n",
       "      <th>avg_debt_%</th>\n",
       "      <th>deviation</th>\n",
       "      <th>deviation_%</th>\n",
       "      <th>category_special_case</th>\n",
       "    </tr>\n",
       "    <tr>\n",
       "      <th>family_status</th>\n",
       "      <th>gender</th>\n",
       "      <th>purpose_lemma</th>\n",
       "      <th></th>\n",
       "      <th></th>\n",
       "      <th></th>\n",
       "      <th></th>\n",
       "      <th></th>\n",
       "      <th></th>\n",
       "    </tr>\n",
       "  </thead>\n",
       "  <tbody>\n",
       "    <tr>\n",
       "      <th rowspan=\"2\" valign=\"top\">вдовец / вдова</th>\n",
       "      <th rowspan=\"2\" valign=\"top\">m</th>\n",
       "      <th>на образование</th>\n",
       "      <td>4.0</td>\n",
       "      <td>3.0</td>\n",
       "      <td>42.86</td>\n",
       "      <td>-34.74</td>\n",
       "      <td>-81.1</td>\n",
       "      <td>Критический случай!</td>\n",
       "    </tr>\n",
       "    <tr>\n",
       "      <th>на автомобиль</th>\n",
       "      <td>6.0</td>\n",
       "      <td>4.0</td>\n",
       "      <td>40.00</td>\n",
       "      <td>-31.88</td>\n",
       "      <td>-79.7</td>\n",
       "      <td>Критический случай!</td>\n",
       "    </tr>\n",
       "    <tr>\n",
       "      <th>гражданский брак</th>\n",
       "      <th>m</th>\n",
       "      <th>на образование</th>\n",
       "      <td>94.0</td>\n",
       "      <td>23.0</td>\n",
       "      <td>19.66</td>\n",
       "      <td>-11.54</td>\n",
       "      <td>-58.7</td>\n",
       "      <td>Критический случай!</td>\n",
       "    </tr>\n",
       "    <tr>\n",
       "      <th rowspan=\"2\" valign=\"top\">не женат / не замужем</th>\n",
       "      <th rowspan=\"2\" valign=\"top\">m</th>\n",
       "      <th>на образование</th>\n",
       "      <td>160.0</td>\n",
       "      <td>39.0</td>\n",
       "      <td>19.60</td>\n",
       "      <td>-11.48</td>\n",
       "      <td>-58.6</td>\n",
       "      <td>Критический случай!</td>\n",
       "    </tr>\n",
       "    <tr>\n",
       "      <th>на автомобиль</th>\n",
       "      <td>188.0</td>\n",
       "      <td>44.0</td>\n",
       "      <td>18.97</td>\n",
       "      <td>-10.85</td>\n",
       "      <td>-57.2</td>\n",
       "      <td>Критический случай!</td>\n",
       "    </tr>\n",
       "    <tr>\n",
       "      <th>гражданский брак</th>\n",
       "      <th>m</th>\n",
       "      <th>на автомобиль</th>\n",
       "      <td>106.0</td>\n",
       "      <td>16.0</td>\n",
       "      <td>13.11</td>\n",
       "      <td>-4.99</td>\n",
       "      <td>-38.1</td>\n",
       "      <td>Особая проблемная ситуация!</td>\n",
       "    </tr>\n",
       "    <tr>\n",
       "      <th>в разводе</th>\n",
       "      <th>m</th>\n",
       "      <th>на образование</th>\n",
       "      <td>40.0</td>\n",
       "      <td>6.0</td>\n",
       "      <td>13.04</td>\n",
       "      <td>-4.92</td>\n",
       "      <td>-37.7</td>\n",
       "      <td>Особая проблемная ситуация!</td>\n",
       "    </tr>\n",
       "    <tr>\n",
       "      <th rowspan=\"3\" valign=\"top\">гражданский брак</th>\n",
       "      <th>f</th>\n",
       "      <th>на образование</th>\n",
       "      <td>250.0</td>\n",
       "      <td>37.0</td>\n",
       "      <td>12.89</td>\n",
       "      <td>-4.77</td>\n",
       "      <td>-37.0</td>\n",
       "      <td>Особая проблемная ситуация!</td>\n",
       "    </tr>\n",
       "    <tr>\n",
       "      <th>m</th>\n",
       "      <th>на недвижимость</th>\n",
       "      <td>266.0</td>\n",
       "      <td>38.0</td>\n",
       "      <td>12.50</td>\n",
       "      <td>-4.38</td>\n",
       "      <td>-35.0</td>\n",
       "      <td>Особая проблемная ситуация!</td>\n",
       "    </tr>\n",
       "    <tr>\n",
       "      <th>f</th>\n",
       "      <th>на автомобиль</th>\n",
       "      <td>276.0</td>\n",
       "      <td>35.0</td>\n",
       "      <td>11.25</td>\n",
       "      <td>-3.13</td>\n",
       "      <td>-27.8</td>\n",
       "      <td>Проблемная ситуация.</td>\n",
       "    </tr>\n",
       "    <tr>\n",
       "      <th>не женат / не замужем</th>\n",
       "      <th>m</th>\n",
       "      <th>на недвижимость</th>\n",
       "      <td>577.0</td>\n",
       "      <td>73.0</td>\n",
       "      <td>11.23</td>\n",
       "      <td>-3.11</td>\n",
       "      <td>-27.7</td>\n",
       "      <td>Проблемная ситуация.</td>\n",
       "    </tr>\n",
       "    <tr>\n",
       "      <th>вдовец / вдова</th>\n",
       "      <th>m</th>\n",
       "      <th>на недвижимость</th>\n",
       "      <td>34.0</td>\n",
       "      <td>4.0</td>\n",
       "      <td>10.53</td>\n",
       "      <td>-2.41</td>\n",
       "      <td>-22.9</td>\n",
       "      <td>Проблемная ситуация.</td>\n",
       "    </tr>\n",
       "    <tr>\n",
       "      <th>гражданский брак</th>\n",
       "      <th>m</th>\n",
       "      <th>на свадьбу</th>\n",
       "      <td>684.0</td>\n",
       "      <td>78.0</td>\n",
       "      <td>10.24</td>\n",
       "      <td>-2.12</td>\n",
       "      <td>-20.7</td>\n",
       "      <td>Проблемная ситуация.</td>\n",
       "    </tr>\n",
       "    <tr>\n",
       "      <th rowspan=\"2\" valign=\"top\">женат / замужем</th>\n",
       "      <th rowspan=\"2\" valign=\"top\">m</th>\n",
       "      <th>на автомобиль</th>\n",
       "      <td>920.0</td>\n",
       "      <td>98.0</td>\n",
       "      <td>9.63</td>\n",
       "      <td>-1.51</td>\n",
       "      <td>-15.7</td>\n",
       "      <td>Проблемная ситуация.</td>\n",
       "    </tr>\n",
       "    <tr>\n",
       "      <th>на образование</th>\n",
       "      <td>885.0</td>\n",
       "      <td>92.0</td>\n",
       "      <td>9.42</td>\n",
       "      <td>-1.30</td>\n",
       "      <td>-13.8</td>\n",
       "      <td>Проблемная ситуация.</td>\n",
       "    </tr>\n",
       "    <tr>\n",
       "      <th>не женат / не замужем</th>\n",
       "      <th>f</th>\n",
       "      <th>на автомобиль</th>\n",
       "      <td>367.0</td>\n",
       "      <td>38.0</td>\n",
       "      <td>9.38</td>\n",
       "      <td>-1.26</td>\n",
       "      <td>-13.4</td>\n",
       "      <td>Проблемная ситуация.</td>\n",
       "    </tr>\n",
       "    <tr>\n",
       "      <th>в разводе</th>\n",
       "      <th>m</th>\n",
       "      <th>на автомобиль</th>\n",
       "      <td>58.0</td>\n",
       "      <td>6.0</td>\n",
       "      <td>9.38</td>\n",
       "      <td>-1.26</td>\n",
       "      <td>-13.4</td>\n",
       "      <td>Проблемная ситуация.</td>\n",
       "    </tr>\n",
       "    <tr>\n",
       "      <th>женат / замужем</th>\n",
       "      <th>m</th>\n",
       "      <th>на недвижимость</th>\n",
       "      <td>2373.0</td>\n",
       "      <td>211.0</td>\n",
       "      <td>8.17</td>\n",
       "      <td>-0.05</td>\n",
       "      <td>-0.6</td>\n",
       "      <td>Проблемная ситуация.</td>\n",
       "    </tr>\n",
       "    <tr>\n",
       "      <th>в разводе</th>\n",
       "      <th>m</th>\n",
       "      <th>на недвижимость</th>\n",
       "      <td>137.0</td>\n",
       "      <td>12.0</td>\n",
       "      <td>8.05</td>\n",
       "      <td>0.07</td>\n",
       "      <td>0.9</td>\n",
       "      <td>Хорошая ситуация</td>\n",
       "    </tr>\n",
       "    <tr>\n",
       "      <th>гражданский брак</th>\n",
       "      <th>f</th>\n",
       "      <th>на недвижимость</th>\n",
       "      <td>631.0</td>\n",
       "      <td>53.0</td>\n",
       "      <td>7.75</td>\n",
       "      <td>0.37</td>\n",
       "      <td>4.8</td>\n",
       "      <td>Хорошая ситуация</td>\n",
       "    </tr>\n",
       "    <tr>\n",
       "      <th>вдовец / вдова</th>\n",
       "      <th>f</th>\n",
       "      <th>на автомобиль</th>\n",
       "      <td>192.0</td>\n",
       "      <td>16.0</td>\n",
       "      <td>7.69</td>\n",
       "      <td>0.43</td>\n",
       "      <td>5.6</td>\n",
       "      <td>Хорошая ситуация</td>\n",
       "    </tr>\n",
       "    <tr>\n",
       "      <th rowspan=\"2\" valign=\"top\">женат / замужем</th>\n",
       "      <th rowspan=\"2\" valign=\"top\">f</th>\n",
       "      <th>на образование</th>\n",
       "      <td>1494.0</td>\n",
       "      <td>124.0</td>\n",
       "      <td>7.66</td>\n",
       "      <td>0.46</td>\n",
       "      <td>6.0</td>\n",
       "      <td>Хорошая ситуация</td>\n",
       "    </tr>\n",
       "    <tr>\n",
       "      <th>на автомобиль</th>\n",
       "      <td>1587.0</td>\n",
       "      <td>131.0</td>\n",
       "      <td>7.63</td>\n",
       "      <td>0.49</td>\n",
       "      <td>6.4</td>\n",
       "      <td>Хорошая ситуация</td>\n",
       "    </tr>\n",
       "    <tr>\n",
       "      <th>в разводе</th>\n",
       "      <th>f</th>\n",
       "      <th>на автомобиль</th>\n",
       "      <td>202.0</td>\n",
       "      <td>15.0</td>\n",
       "      <td>6.91</td>\n",
       "      <td>1.21</td>\n",
       "      <td>17.5</td>\n",
       "      <td>Хорошая ситуация</td>\n",
       "    </tr>\n",
       "    <tr>\n",
       "      <th>гражданский брак</th>\n",
       "      <th>f</th>\n",
       "      <th>на свадьбу</th>\n",
       "      <td>1454.0</td>\n",
       "      <td>108.0</td>\n",
       "      <td>6.91</td>\n",
       "      <td>1.21</td>\n",
       "      <td>17.5</td>\n",
       "      <td>Хорошая ситуация</td>\n",
       "    </tr>\n",
       "    <tr>\n",
       "      <th>в разводе</th>\n",
       "      <th>f</th>\n",
       "      <th>на недвижимость</th>\n",
       "      <td>492.0</td>\n",
       "      <td>35.0</td>\n",
       "      <td>6.64</td>\n",
       "      <td>1.48</td>\n",
       "      <td>22.3</td>\n",
       "      <td>Хорошая ситуация</td>\n",
       "    </tr>\n",
       "    <tr>\n",
       "      <th>вдовец / вдова</th>\n",
       "      <th>f</th>\n",
       "      <th>на образование</th>\n",
       "      <td>180.0</td>\n",
       "      <td>12.0</td>\n",
       "      <td>6.25</td>\n",
       "      <td>1.87</td>\n",
       "      <td>29.9</td>\n",
       "      <td>Хорошая ситуация</td>\n",
       "    </tr>\n",
       "    <tr>\n",
       "      <th>женат / замужем</th>\n",
       "      <th>f</th>\n",
       "      <th>на недвижимость</th>\n",
       "      <td>4149.0</td>\n",
       "      <td>275.0</td>\n",
       "      <td>6.22</td>\n",
       "      <td>1.90</td>\n",
       "      <td>30.5</td>\n",
       "      <td>Хорошая ситуация</td>\n",
       "    </tr>\n",
       "    <tr>\n",
       "      <th rowspan=\"2\" valign=\"top\">не женат / не замужем</th>\n",
       "      <th rowspan=\"2\" valign=\"top\">f</th>\n",
       "      <th>на образование</th>\n",
       "      <td>355.0</td>\n",
       "      <td>23.0</td>\n",
       "      <td>6.08</td>\n",
       "      <td>2.04</td>\n",
       "      <td>33.6</td>\n",
       "      <td>Хорошая ситуация</td>\n",
       "    </tr>\n",
       "    <tr>\n",
       "      <th>на недвижимость</th>\n",
       "      <td>889.0</td>\n",
       "      <td>57.0</td>\n",
       "      <td>6.03</td>\n",
       "      <td>2.09</td>\n",
       "      <td>34.7</td>\n",
       "      <td>Хорошая ситуация</td>\n",
       "    </tr>\n",
       "    <tr>\n",
       "      <th>в разводе</th>\n",
       "      <th>f</th>\n",
       "      <th>на образование</th>\n",
       "      <td>181.0</td>\n",
       "      <td>11.0</td>\n",
       "      <td>5.73</td>\n",
       "      <td>2.39</td>\n",
       "      <td>41.7</td>\n",
       "      <td>Хорошая ситуация</td>\n",
       "    </tr>\n",
       "    <tr>\n",
       "      <th>вдовец / вдова</th>\n",
       "      <th>f</th>\n",
       "      <th>на недвижимость</th>\n",
       "      <td>480.0</td>\n",
       "      <td>24.0</td>\n",
       "      <td>4.76</td>\n",
       "      <td>3.36</td>\n",
       "      <td>70.6</td>\n",
       "      <td>Хорошая ситуация</td>\n",
       "    </tr>\n",
       "    <tr>\n",
       "      <th>гражданский брак</th>\n",
       "      <th>xna</th>\n",
       "      <th>на недвижимость</th>\n",
       "      <td>1.0</td>\n",
       "      <td>NaN</td>\n",
       "      <td>NaN</td>\n",
       "      <td>NaN</td>\n",
       "      <td>NaN</td>\n",
       "      <td>Крайние значения</td>\n",
       "    </tr>\n",
       "  </tbody>\n",
       "</table>\n",
       "</div>"
      ],
      "text/plain": [
       "debt_group                                    без просрочек  с просрочкой  \\\n",
       "family_status         gender purpose_lemma                                  \n",
       "вдовец / вдова        m      на образование             4.0           3.0   \n",
       "                             на автомобиль              6.0           4.0   \n",
       "гражданский брак      m      на образование            94.0          23.0   \n",
       "не женат / не замужем m      на образование           160.0          39.0   \n",
       "                             на автомобиль            188.0          44.0   \n",
       "гражданский брак      m      на автомобиль            106.0          16.0   \n",
       "в разводе             m      на образование            40.0           6.0   \n",
       "гражданский брак      f      на образование           250.0          37.0   \n",
       "                      m      на недвижимость          266.0          38.0   \n",
       "                      f      на автомобиль            276.0          35.0   \n",
       "не женат / не замужем m      на недвижимость          577.0          73.0   \n",
       "вдовец / вдова        m      на недвижимость           34.0           4.0   \n",
       "гражданский брак      m      на свадьбу               684.0          78.0   \n",
       "женат / замужем       m      на автомобиль            920.0          98.0   \n",
       "                             на образование           885.0          92.0   \n",
       "не женат / не замужем f      на автомобиль            367.0          38.0   \n",
       "в разводе             m      на автомобиль             58.0           6.0   \n",
       "женат / замужем       m      на недвижимость         2373.0         211.0   \n",
       "в разводе             m      на недвижимость          137.0          12.0   \n",
       "гражданский брак      f      на недвижимость          631.0          53.0   \n",
       "вдовец / вдова        f      на автомобиль            192.0          16.0   \n",
       "женат / замужем       f      на образование          1494.0         124.0   \n",
       "                             на автомобиль           1587.0         131.0   \n",
       "в разводе             f      на автомобиль            202.0          15.0   \n",
       "гражданский брак      f      на свадьбу              1454.0         108.0   \n",
       "в разводе             f      на недвижимость          492.0          35.0   \n",
       "вдовец / вдова        f      на образование           180.0          12.0   \n",
       "женат / замужем       f      на недвижимость         4149.0         275.0   \n",
       "не женат / не замужем f      на образование           355.0          23.0   \n",
       "                             на недвижимость          889.0          57.0   \n",
       "в разводе             f      на образование           181.0          11.0   \n",
       "вдовец / вдова        f      на недвижимость          480.0          24.0   \n",
       "гражданский брак      xna    на недвижимость            1.0           NaN   \n",
       "\n",
       "debt_group                                    avg_debt_%  deviation  \\\n",
       "family_status         gender purpose_lemma                            \n",
       "вдовец / вдова        m      на образование        42.86     -34.74   \n",
       "                             на автомобиль         40.00     -31.88   \n",
       "гражданский брак      m      на образование        19.66     -11.54   \n",
       "не женат / не замужем m      на образование        19.60     -11.48   \n",
       "                             на автомобиль         18.97     -10.85   \n",
       "гражданский брак      m      на автомобиль         13.11      -4.99   \n",
       "в разводе             m      на образование        13.04      -4.92   \n",
       "гражданский брак      f      на образование        12.89      -4.77   \n",
       "                      m      на недвижимость       12.50      -4.38   \n",
       "                      f      на автомобиль         11.25      -3.13   \n",
       "не женат / не замужем m      на недвижимость       11.23      -3.11   \n",
       "вдовец / вдова        m      на недвижимость       10.53      -2.41   \n",
       "гражданский брак      m      на свадьбу            10.24      -2.12   \n",
       "женат / замужем       m      на автомобиль          9.63      -1.51   \n",
       "                             на образование         9.42      -1.30   \n",
       "не женат / не замужем f      на автомобиль          9.38      -1.26   \n",
       "в разводе             m      на автомобиль          9.38      -1.26   \n",
       "женат / замужем       m      на недвижимость        8.17      -0.05   \n",
       "в разводе             m      на недвижимость        8.05       0.07   \n",
       "гражданский брак      f      на недвижимость        7.75       0.37   \n",
       "вдовец / вдова        f      на автомобиль          7.69       0.43   \n",
       "женат / замужем       f      на образование         7.66       0.46   \n",
       "                             на автомобиль          7.63       0.49   \n",
       "в разводе             f      на автомобиль          6.91       1.21   \n",
       "гражданский брак      f      на свадьбу             6.91       1.21   \n",
       "в разводе             f      на недвижимость        6.64       1.48   \n",
       "вдовец / вдова        f      на образование         6.25       1.87   \n",
       "женат / замужем       f      на недвижимость        6.22       1.90   \n",
       "не женат / не замужем f      на образование         6.08       2.04   \n",
       "                             на недвижимость        6.03       2.09   \n",
       "в разводе             f      на образование         5.73       2.39   \n",
       "вдовец / вдова        f      на недвижимость        4.76       3.36   \n",
       "гражданский брак      xna    на недвижимость         NaN        NaN   \n",
       "\n",
       "debt_group                                    deviation_%  \\\n",
       "family_status         gender purpose_lemma                  \n",
       "вдовец / вдова        m      на образование         -81.1   \n",
       "                             на автомобиль          -79.7   \n",
       "гражданский брак      m      на образование         -58.7   \n",
       "не женат / не замужем m      на образование         -58.6   \n",
       "                             на автомобиль          -57.2   \n",
       "гражданский брак      m      на автомобиль          -38.1   \n",
       "в разводе             m      на образование         -37.7   \n",
       "гражданский брак      f      на образование         -37.0   \n",
       "                      m      на недвижимость        -35.0   \n",
       "                      f      на автомобиль          -27.8   \n",
       "не женат / не замужем m      на недвижимость        -27.7   \n",
       "вдовец / вдова        m      на недвижимость        -22.9   \n",
       "гражданский брак      m      на свадьбу             -20.7   \n",
       "женат / замужем       m      на автомобиль          -15.7   \n",
       "                             на образование         -13.8   \n",
       "не женат / не замужем f      на автомобиль          -13.4   \n",
       "в разводе             m      на автомобиль          -13.4   \n",
       "женат / замужем       m      на недвижимость         -0.6   \n",
       "в разводе             m      на недвижимость          0.9   \n",
       "гражданский брак      f      на недвижимость          4.8   \n",
       "вдовец / вдова        f      на автомобиль            5.6   \n",
       "женат / замужем       f      на образование           6.0   \n",
       "                             на автомобиль            6.4   \n",
       "в разводе             f      на автомобиль           17.5   \n",
       "гражданский брак      f      на свадьбу              17.5   \n",
       "в разводе             f      на недвижимость         22.3   \n",
       "вдовец / вдова        f      на образование          29.9   \n",
       "женат / замужем       f      на недвижимость         30.5   \n",
       "не женат / не замужем f      на образование          33.6   \n",
       "                             на недвижимость         34.7   \n",
       "в разводе             f      на образование          41.7   \n",
       "вдовец / вдова        f      на недвижимость         70.6   \n",
       "гражданский брак      xna    на недвижимость          NaN   \n",
       "\n",
       "debt_group                                          category_special_case  \n",
       "family_status         gender purpose_lemma                                 \n",
       "вдовец / вдова        m      на образование           Критический случай!  \n",
       "                             на автомобиль            Критический случай!  \n",
       "гражданский брак      m      на образование           Критический случай!  \n",
       "не женат / не замужем m      на образование           Критический случай!  \n",
       "                             на автомобиль            Критический случай!  \n",
       "гражданский брак      m      на автомобиль    Особая проблемная ситуация!  \n",
       "в разводе             m      на образование   Особая проблемная ситуация!  \n",
       "гражданский брак      f      на образование   Особая проблемная ситуация!  \n",
       "                      m      на недвижимость  Особая проблемная ситуация!  \n",
       "                      f      на автомобиль           Проблемная ситуация.  \n",
       "не женат / не замужем m      на недвижимость         Проблемная ситуация.  \n",
       "вдовец / вдова        m      на недвижимость         Проблемная ситуация.  \n",
       "гражданский брак      m      на свадьбу              Проблемная ситуация.  \n",
       "женат / замужем       m      на автомобиль           Проблемная ситуация.  \n",
       "                             на образование          Проблемная ситуация.  \n",
       "не женат / не замужем f      на автомобиль           Проблемная ситуация.  \n",
       "в разводе             m      на автомобиль           Проблемная ситуация.  \n",
       "женат / замужем       m      на недвижимость         Проблемная ситуация.  \n",
       "в разводе             m      на недвижимость             Хорошая ситуация  \n",
       "гражданский брак      f      на недвижимость             Хорошая ситуация  \n",
       "вдовец / вдова        f      на автомобиль               Хорошая ситуация  \n",
       "женат / замужем       f      на образование              Хорошая ситуация  \n",
       "                             на автомобиль               Хорошая ситуация  \n",
       "в разводе             f      на автомобиль               Хорошая ситуация  \n",
       "гражданский брак      f      на свадьбу                  Хорошая ситуация  \n",
       "в разводе             f      на недвижимость             Хорошая ситуация  \n",
       "вдовец / вдова        f      на образование              Хорошая ситуация  \n",
       "женат / замужем       f      на недвижимость             Хорошая ситуация  \n",
       "не женат / не замужем f      на образование              Хорошая ситуация  \n",
       "                             на недвижимость             Хорошая ситуация  \n",
       "в разводе             f      на образование              Хорошая ситуация  \n",
       "вдовец / вдова        f      на недвижимость             Хорошая ситуация  \n",
       "гражданский брак      xna    на недвижимость             Крайние значения  "
      ]
     },
     "metadata": {},
     "output_type": "display_data"
    },
    {
     "name": "stdout",
     "output_type": "stream",
     "text": [
      "Зависимость категорий family_status с gender и total_income_group:\n"
     ]
    },
    {
     "data": {
      "text/html": [
       "<div>\n",
       "<style scoped>\n",
       "    .dataframe tbody tr th:only-of-type {\n",
       "        vertical-align: middle;\n",
       "    }\n",
       "\n",
       "    .dataframe tbody tr th {\n",
       "        vertical-align: top;\n",
       "    }\n",
       "\n",
       "    .dataframe thead th {\n",
       "        text-align: right;\n",
       "    }\n",
       "</style>\n",
       "<table border=\"1\" class=\"dataframe\">\n",
       "  <thead>\n",
       "    <tr style=\"text-align: right;\">\n",
       "      <th></th>\n",
       "      <th></th>\n",
       "      <th>debt_group</th>\n",
       "      <th>без просрочек</th>\n",
       "      <th>с просрочкой</th>\n",
       "      <th>avg_debt_%</th>\n",
       "      <th>deviation</th>\n",
       "      <th>deviation_%</th>\n",
       "      <th>category_special_case</th>\n",
       "    </tr>\n",
       "    <tr>\n",
       "      <th>family_status</th>\n",
       "      <th>gender</th>\n",
       "      <th>total_income_group</th>\n",
       "      <th></th>\n",
       "      <th></th>\n",
       "      <th></th>\n",
       "      <th></th>\n",
       "      <th></th>\n",
       "      <th></th>\n",
       "    </tr>\n",
       "  </thead>\n",
       "  <tbody>\n",
       "    <tr>\n",
       "      <th rowspan=\"3\" valign=\"top\">вдовец / вдова</th>\n",
       "      <th rowspan=\"3\" valign=\"top\">m</th>\n",
       "      <th>выше среднего доходы</th>\n",
       "      <td>7</td>\n",
       "      <td>4</td>\n",
       "      <td>36.36</td>\n",
       "      <td>-28.24</td>\n",
       "      <td>-77.7</td>\n",
       "      <td>Критический случай!</td>\n",
       "    </tr>\n",
       "    <tr>\n",
       "      <th>низкие доходы</th>\n",
       "      <td>13</td>\n",
       "      <td>5</td>\n",
       "      <td>27.78</td>\n",
       "      <td>-19.66</td>\n",
       "      <td>-70.8</td>\n",
       "      <td>Критический случай!</td>\n",
       "    </tr>\n",
       "    <tr>\n",
       "      <th>высокие доходы</th>\n",
       "      <td>10</td>\n",
       "      <td>2</td>\n",
       "      <td>16.67</td>\n",
       "      <td>-8.55</td>\n",
       "      <td>-51.3</td>\n",
       "      <td>Критический случай!</td>\n",
       "    </tr>\n",
       "    <tr>\n",
       "      <th>не женат / не замужем</th>\n",
       "      <th>m</th>\n",
       "      <th>низкие доходы</th>\n",
       "      <td>163</td>\n",
       "      <td>32</td>\n",
       "      <td>16.41</td>\n",
       "      <td>-8.29</td>\n",
       "      <td>-50.5</td>\n",
       "      <td>Критический случай!</td>\n",
       "    </tr>\n",
       "    <tr>\n",
       "      <th>гражданский брак</th>\n",
       "      <th>m</th>\n",
       "      <th>средние доходы</th>\n",
       "      <td>260</td>\n",
       "      <td>45</td>\n",
       "      <td>14.75</td>\n",
       "      <td>-6.63</td>\n",
       "      <td>-44.9</td>\n",
       "      <td>Особая проблемная ситуация!</td>\n",
       "    </tr>\n",
       "    <tr>\n",
       "      <th>не женат / не замужем</th>\n",
       "      <th>m</th>\n",
       "      <th>высокие доходы</th>\n",
       "      <td>283</td>\n",
       "      <td>48</td>\n",
       "      <td>14.50</td>\n",
       "      <td>-6.38</td>\n",
       "      <td>-44.0</td>\n",
       "      <td>Особая проблемная ситуация!</td>\n",
       "    </tr>\n",
       "    <tr>\n",
       "      <th>гражданский брак</th>\n",
       "      <th>m</th>\n",
       "      <th>низкие доходы</th>\n",
       "      <td>196</td>\n",
       "      <td>32</td>\n",
       "      <td>14.04</td>\n",
       "      <td>-5.92</td>\n",
       "      <td>-42.2</td>\n",
       "      <td>Особая проблемная ситуация!</td>\n",
       "    </tr>\n",
       "    <tr>\n",
       "      <th>не женат / не замужем</th>\n",
       "      <th>m</th>\n",
       "      <th>выше среднего доходы</th>\n",
       "      <td>247</td>\n",
       "      <td>40</td>\n",
       "      <td>13.94</td>\n",
       "      <td>-5.82</td>\n",
       "      <td>-41.8</td>\n",
       "      <td>Особая проблемная ситуация!</td>\n",
       "    </tr>\n",
       "    <tr>\n",
       "      <th>гражданский брак</th>\n",
       "      <th>m</th>\n",
       "      <th>выше среднего доходы</th>\n",
       "      <td>287</td>\n",
       "      <td>45</td>\n",
       "      <td>13.55</td>\n",
       "      <td>-5.43</td>\n",
       "      <td>-40.1</td>\n",
       "      <td>Особая проблемная ситуация!</td>\n",
       "    </tr>\n",
       "    <tr>\n",
       "      <th>не женат / не замужем</th>\n",
       "      <th>m</th>\n",
       "      <th>средние доходы</th>\n",
       "      <td>232</td>\n",
       "      <td>36</td>\n",
       "      <td>13.43</td>\n",
       "      <td>-5.31</td>\n",
       "      <td>-39.5</td>\n",
       "      <td>Особая проблемная ситуация!</td>\n",
       "    </tr>\n",
       "    <tr>\n",
       "      <th rowspan=\"2\" valign=\"top\">в разводе</th>\n",
       "      <th rowspan=\"2\" valign=\"top\">m</th>\n",
       "      <th>средние доходы</th>\n",
       "      <td>46</td>\n",
       "      <td>6</td>\n",
       "      <td>11.54</td>\n",
       "      <td>-3.42</td>\n",
       "      <td>-29.6</td>\n",
       "      <td>Проблемная ситуация.</td>\n",
       "    </tr>\n",
       "    <tr>\n",
       "      <th>выше среднего доходы</th>\n",
       "      <td>69</td>\n",
       "      <td>8</td>\n",
       "      <td>10.39</td>\n",
       "      <td>-2.27</td>\n",
       "      <td>-21.8</td>\n",
       "      <td>Проблемная ситуация.</td>\n",
       "    </tr>\n",
       "    <tr>\n",
       "      <th rowspan=\"2\" valign=\"top\">женат / замужем</th>\n",
       "      <th rowspan=\"2\" valign=\"top\">m</th>\n",
       "      <th>низкие доходы</th>\n",
       "      <td>591</td>\n",
       "      <td>66</td>\n",
       "      <td>10.05</td>\n",
       "      <td>-1.93</td>\n",
       "      <td>-19.2</td>\n",
       "      <td>Проблемная ситуация.</td>\n",
       "    </tr>\n",
       "    <tr>\n",
       "      <th>выше среднего доходы</th>\n",
       "      <td>1143</td>\n",
       "      <td>127</td>\n",
       "      <td>10.00</td>\n",
       "      <td>-1.88</td>\n",
       "      <td>-18.8</td>\n",
       "      <td>Проблемная ситуация.</td>\n",
       "    </tr>\n",
       "    <tr>\n",
       "      <th>гражданский брак</th>\n",
       "      <th>f</th>\n",
       "      <th>средние доходы</th>\n",
       "      <td>688</td>\n",
       "      <td>71</td>\n",
       "      <td>9.35</td>\n",
       "      <td>-1.23</td>\n",
       "      <td>-13.2</td>\n",
       "      <td>Проблемная ситуация.</td>\n",
       "    </tr>\n",
       "    <tr>\n",
       "      <th>не женат / не замужем</th>\n",
       "      <th>f</th>\n",
       "      <th>выше среднего доходы</th>\n",
       "      <td>365</td>\n",
       "      <td>37</td>\n",
       "      <td>9.20</td>\n",
       "      <td>-1.08</td>\n",
       "      <td>-11.7</td>\n",
       "      <td>Проблемная ситуация.</td>\n",
       "    </tr>\n",
       "    <tr>\n",
       "      <th>гражданский брак</th>\n",
       "      <th>f</th>\n",
       "      <th>выше среднего доходы</th>\n",
       "      <td>610</td>\n",
       "      <td>61</td>\n",
       "      <td>9.09</td>\n",
       "      <td>-0.97</td>\n",
       "      <td>-10.7</td>\n",
       "      <td>Проблемная ситуация.</td>\n",
       "    </tr>\n",
       "    <tr>\n",
       "      <th>женат / замужем</th>\n",
       "      <th>m</th>\n",
       "      <th>средние доходы</th>\n",
       "      <td>957</td>\n",
       "      <td>92</td>\n",
       "      <td>8.77</td>\n",
       "      <td>-0.65</td>\n",
       "      <td>-7.4</td>\n",
       "      <td>Проблемная ситуация.</td>\n",
       "    </tr>\n",
       "    <tr>\n",
       "      <th>в разводе</th>\n",
       "      <th>m</th>\n",
       "      <th>высокие доходы</th>\n",
       "      <td>79</td>\n",
       "      <td>7</td>\n",
       "      <td>8.14</td>\n",
       "      <td>-0.02</td>\n",
       "      <td>-0.2</td>\n",
       "      <td>Проблемная ситуация.</td>\n",
       "    </tr>\n",
       "    <tr>\n",
       "      <th>не женат / не замужем</th>\n",
       "      <th>f</th>\n",
       "      <th>средние доходы</th>\n",
       "      <td>443</td>\n",
       "      <td>38</td>\n",
       "      <td>7.90</td>\n",
       "      <td>0.22</td>\n",
       "      <td>2.8</td>\n",
       "      <td>Хорошая ситуация</td>\n",
       "    </tr>\n",
       "    <tr>\n",
       "      <th>гражданский брак</th>\n",
       "      <th>f</th>\n",
       "      <th>низкие доходы</th>\n",
       "      <td>749</td>\n",
       "      <td>64</td>\n",
       "      <td>7.87</td>\n",
       "      <td>0.25</td>\n",
       "      <td>3.2</td>\n",
       "      <td>Хорошая ситуация</td>\n",
       "    </tr>\n",
       "    <tr>\n",
       "      <th>в разводе</th>\n",
       "      <th>f</th>\n",
       "      <th>средние доходы</th>\n",
       "      <td>226</td>\n",
       "      <td>19</td>\n",
       "      <td>7.76</td>\n",
       "      <td>0.36</td>\n",
       "      <td>4.6</td>\n",
       "      <td>Хорошая ситуация</td>\n",
       "    </tr>\n",
       "    <tr>\n",
       "      <th>женат / замужем</th>\n",
       "      <th>f</th>\n",
       "      <th>средние доходы</th>\n",
       "      <td>1886</td>\n",
       "      <td>156</td>\n",
       "      <td>7.64</td>\n",
       "      <td>0.48</td>\n",
       "      <td>6.3</td>\n",
       "      <td>Хорошая ситуация</td>\n",
       "    </tr>\n",
       "    <tr>\n",
       "      <th>в разводе</th>\n",
       "      <th>f</th>\n",
       "      <th>низкие доходы</th>\n",
       "      <td>231</td>\n",
       "      <td>19</td>\n",
       "      <td>7.60</td>\n",
       "      <td>0.52</td>\n",
       "      <td>6.8</td>\n",
       "      <td>Хорошая ситуация</td>\n",
       "    </tr>\n",
       "    <tr>\n",
       "      <th>вдовец / вдова</th>\n",
       "      <th>f</th>\n",
       "      <th>средние доходы</th>\n",
       "      <td>244</td>\n",
       "      <td>20</td>\n",
       "      <td>7.58</td>\n",
       "      <td>0.54</td>\n",
       "      <td>7.1</td>\n",
       "      <td>Хорошая ситуация</td>\n",
       "    </tr>\n",
       "    <tr>\n",
       "      <th>гражданский брак</th>\n",
       "      <th>m</th>\n",
       "      <th>высокие доходы</th>\n",
       "      <td>407</td>\n",
       "      <td>33</td>\n",
       "      <td>7.50</td>\n",
       "      <td>0.62</td>\n",
       "      <td>8.3</td>\n",
       "      <td>Хорошая ситуация</td>\n",
       "    </tr>\n",
       "    <tr>\n",
       "      <th rowspan=\"2\" valign=\"top\">женат / замужем</th>\n",
       "      <th>m</th>\n",
       "      <th>высокие доходы</th>\n",
       "      <td>1487</td>\n",
       "      <td>116</td>\n",
       "      <td>7.24</td>\n",
       "      <td>0.88</td>\n",
       "      <td>12.2</td>\n",
       "      <td>Хорошая ситуация</td>\n",
       "    </tr>\n",
       "    <tr>\n",
       "      <th>f</th>\n",
       "      <th>низкие доходы</th>\n",
       "      <td>2218</td>\n",
       "      <td>171</td>\n",
       "      <td>7.16</td>\n",
       "      <td>0.96</td>\n",
       "      <td>13.4</td>\n",
       "      <td>Хорошая ситуация</td>\n",
       "    </tr>\n",
       "    <tr>\n",
       "      <th>вдовец / вдова</th>\n",
       "      <th>f</th>\n",
       "      <th>выше среднего доходы</th>\n",
       "      <td>173</td>\n",
       "      <td>13</td>\n",
       "      <td>6.99</td>\n",
       "      <td>1.13</td>\n",
       "      <td>16.2</td>\n",
       "      <td>Хорошая ситуация</td>\n",
       "    </tr>\n",
       "    <tr>\n",
       "      <th>в разводе</th>\n",
       "      <th>m</th>\n",
       "      <th>низкие доходы</th>\n",
       "      <td>41</td>\n",
       "      <td>3</td>\n",
       "      <td>6.82</td>\n",
       "      <td>1.30</td>\n",
       "      <td>19.1</td>\n",
       "      <td>Хорошая ситуация</td>\n",
       "    </tr>\n",
       "    <tr>\n",
       "      <th>женат / замужем</th>\n",
       "      <th>f</th>\n",
       "      <th>высокие доходы</th>\n",
       "      <td>1437</td>\n",
       "      <td>101</td>\n",
       "      <td>6.57</td>\n",
       "      <td>1.55</td>\n",
       "      <td>23.6</td>\n",
       "      <td>Хорошая ситуация</td>\n",
       "    </tr>\n",
       "    <tr>\n",
       "      <th>гражданский брак</th>\n",
       "      <th>f</th>\n",
       "      <th>высокие доходы</th>\n",
       "      <td>564</td>\n",
       "      <td>37</td>\n",
       "      <td>6.16</td>\n",
       "      <td>1.96</td>\n",
       "      <td>31.8</td>\n",
       "      <td>Хорошая ситуация</td>\n",
       "    </tr>\n",
       "    <tr>\n",
       "      <th>вдовец / вдова</th>\n",
       "      <th>f</th>\n",
       "      <th>высокие доходы</th>\n",
       "      <td>146</td>\n",
       "      <td>9</td>\n",
       "      <td>5.81</td>\n",
       "      <td>2.31</td>\n",
       "      <td>39.8</td>\n",
       "      <td>Хорошая ситуация</td>\n",
       "    </tr>\n",
       "    <tr>\n",
       "      <th>женат / замужем</th>\n",
       "      <th>f</th>\n",
       "      <th>выше среднего доходы</th>\n",
       "      <td>1689</td>\n",
       "      <td>102</td>\n",
       "      <td>5.70</td>\n",
       "      <td>2.42</td>\n",
       "      <td>42.5</td>\n",
       "      <td>Хорошая ситуация</td>\n",
       "    </tr>\n",
       "    <tr>\n",
       "      <th>в разводе</th>\n",
       "      <th>f</th>\n",
       "      <th>высокие доходы</th>\n",
       "      <td>209</td>\n",
       "      <td>12</td>\n",
       "      <td>5.43</td>\n",
       "      <td>2.69</td>\n",
       "      <td>49.5</td>\n",
       "      <td>Хорошая ситуация</td>\n",
       "    </tr>\n",
       "    <tr>\n",
       "      <th>не женат / не замужем</th>\n",
       "      <th>f</th>\n",
       "      <th>низкие доходы</th>\n",
       "      <td>446</td>\n",
       "      <td>25</td>\n",
       "      <td>5.31</td>\n",
       "      <td>2.81</td>\n",
       "      <td>52.9</td>\n",
       "      <td>Хорошая ситуация</td>\n",
       "    </tr>\n",
       "    <tr>\n",
       "      <th>в разводе</th>\n",
       "      <th>f</th>\n",
       "      <th>выше среднего доходы</th>\n",
       "      <td>209</td>\n",
       "      <td>11</td>\n",
       "      <td>5.00</td>\n",
       "      <td>3.12</td>\n",
       "      <td>62.4</td>\n",
       "      <td>Хорошая ситуация</td>\n",
       "    </tr>\n",
       "    <tr>\n",
       "      <th>не женат / не замужем</th>\n",
       "      <th>f</th>\n",
       "      <th>высокие доходы</th>\n",
       "      <td>357</td>\n",
       "      <td>18</td>\n",
       "      <td>4.80</td>\n",
       "      <td>3.32</td>\n",
       "      <td>69.2</td>\n",
       "      <td>Хорошая ситуация</td>\n",
       "    </tr>\n",
       "    <tr>\n",
       "      <th rowspan=\"2\" valign=\"top\">вдовец / вдова</th>\n",
       "      <th>f</th>\n",
       "      <th>низкие доходы</th>\n",
       "      <td>289</td>\n",
       "      <td>10</td>\n",
       "      <td>3.34</td>\n",
       "      <td>4.78</td>\n",
       "      <td>143.1</td>\n",
       "      <td>Хорошая ситуация</td>\n",
       "    </tr>\n",
       "    <tr>\n",
       "      <th>m</th>\n",
       "      <th>средние доходы</th>\n",
       "      <td>14</td>\n",
       "      <td>0</td>\n",
       "      <td>0.00</td>\n",
       "      <td>8.12</td>\n",
       "      <td>inf</td>\n",
       "      <td>Хорошая ситуация</td>\n",
       "    </tr>\n",
       "    <tr>\n",
       "      <th>гражданский брак</th>\n",
       "      <th>xna</th>\n",
       "      <th>высокие доходы</th>\n",
       "      <td>1</td>\n",
       "      <td>0</td>\n",
       "      <td>0.00</td>\n",
       "      <td>8.12</td>\n",
       "      <td>inf</td>\n",
       "      <td>Хорошая ситуация</td>\n",
       "    </tr>\n",
       "    <tr>\n",
       "      <th rowspan=\"4\" valign=\"top\">в разводе</th>\n",
       "      <th rowspan=\"4\" valign=\"top\">xna</th>\n",
       "      <th>низкие доходы</th>\n",
       "      <td>0</td>\n",
       "      <td>0</td>\n",
       "      <td>NaN</td>\n",
       "      <td>NaN</td>\n",
       "      <td>NaN</td>\n",
       "      <td>Крайние значения</td>\n",
       "    </tr>\n",
       "    <tr>\n",
       "      <th>средние доходы</th>\n",
       "      <td>0</td>\n",
       "      <td>0</td>\n",
       "      <td>NaN</td>\n",
       "      <td>NaN</td>\n",
       "      <td>NaN</td>\n",
       "      <td>Крайние значения</td>\n",
       "    </tr>\n",
       "    <tr>\n",
       "      <th>выше среднего доходы</th>\n",
       "      <td>0</td>\n",
       "      <td>0</td>\n",
       "      <td>NaN</td>\n",
       "      <td>NaN</td>\n",
       "      <td>NaN</td>\n",
       "      <td>Крайние значения</td>\n",
       "    </tr>\n",
       "    <tr>\n",
       "      <th>высокие доходы</th>\n",
       "      <td>0</td>\n",
       "      <td>0</td>\n",
       "      <td>NaN</td>\n",
       "      <td>NaN</td>\n",
       "      <td>NaN</td>\n",
       "      <td>Крайние значения</td>\n",
       "    </tr>\n",
       "    <tr>\n",
       "      <th rowspan=\"4\" valign=\"top\">вдовец / вдова</th>\n",
       "      <th rowspan=\"4\" valign=\"top\">xna</th>\n",
       "      <th>низкие доходы</th>\n",
       "      <td>0</td>\n",
       "      <td>0</td>\n",
       "      <td>NaN</td>\n",
       "      <td>NaN</td>\n",
       "      <td>NaN</td>\n",
       "      <td>Крайние значения</td>\n",
       "    </tr>\n",
       "    <tr>\n",
       "      <th>средние доходы</th>\n",
       "      <td>0</td>\n",
       "      <td>0</td>\n",
       "      <td>NaN</td>\n",
       "      <td>NaN</td>\n",
       "      <td>NaN</td>\n",
       "      <td>Крайние значения</td>\n",
       "    </tr>\n",
       "    <tr>\n",
       "      <th>выше среднего доходы</th>\n",
       "      <td>0</td>\n",
       "      <td>0</td>\n",
       "      <td>NaN</td>\n",
       "      <td>NaN</td>\n",
       "      <td>NaN</td>\n",
       "      <td>Крайние значения</td>\n",
       "    </tr>\n",
       "    <tr>\n",
       "      <th>высокие доходы</th>\n",
       "      <td>0</td>\n",
       "      <td>0</td>\n",
       "      <td>NaN</td>\n",
       "      <td>NaN</td>\n",
       "      <td>NaN</td>\n",
       "      <td>Крайние значения</td>\n",
       "    </tr>\n",
       "    <tr>\n",
       "      <th rowspan=\"3\" valign=\"top\">гражданский брак</th>\n",
       "      <th rowspan=\"3\" valign=\"top\">xna</th>\n",
       "      <th>низкие доходы</th>\n",
       "      <td>0</td>\n",
       "      <td>0</td>\n",
       "      <td>NaN</td>\n",
       "      <td>NaN</td>\n",
       "      <td>NaN</td>\n",
       "      <td>Крайние значения</td>\n",
       "    </tr>\n",
       "    <tr>\n",
       "      <th>средние доходы</th>\n",
       "      <td>0</td>\n",
       "      <td>0</td>\n",
       "      <td>NaN</td>\n",
       "      <td>NaN</td>\n",
       "      <td>NaN</td>\n",
       "      <td>Крайние значения</td>\n",
       "    </tr>\n",
       "    <tr>\n",
       "      <th>выше среднего доходы</th>\n",
       "      <td>0</td>\n",
       "      <td>0</td>\n",
       "      <td>NaN</td>\n",
       "      <td>NaN</td>\n",
       "      <td>NaN</td>\n",
       "      <td>Крайние значения</td>\n",
       "    </tr>\n",
       "    <tr>\n",
       "      <th rowspan=\"4\" valign=\"top\">женат / замужем</th>\n",
       "      <th rowspan=\"4\" valign=\"top\">xna</th>\n",
       "      <th>низкие доходы</th>\n",
       "      <td>0</td>\n",
       "      <td>0</td>\n",
       "      <td>NaN</td>\n",
       "      <td>NaN</td>\n",
       "      <td>NaN</td>\n",
       "      <td>Крайние значения</td>\n",
       "    </tr>\n",
       "    <tr>\n",
       "      <th>средние доходы</th>\n",
       "      <td>0</td>\n",
       "      <td>0</td>\n",
       "      <td>NaN</td>\n",
       "      <td>NaN</td>\n",
       "      <td>NaN</td>\n",
       "      <td>Крайние значения</td>\n",
       "    </tr>\n",
       "    <tr>\n",
       "      <th>выше среднего доходы</th>\n",
       "      <td>0</td>\n",
       "      <td>0</td>\n",
       "      <td>NaN</td>\n",
       "      <td>NaN</td>\n",
       "      <td>NaN</td>\n",
       "      <td>Крайние значения</td>\n",
       "    </tr>\n",
       "    <tr>\n",
       "      <th>высокие доходы</th>\n",
       "      <td>0</td>\n",
       "      <td>0</td>\n",
       "      <td>NaN</td>\n",
       "      <td>NaN</td>\n",
       "      <td>NaN</td>\n",
       "      <td>Крайние значения</td>\n",
       "    </tr>\n",
       "    <tr>\n",
       "      <th rowspan=\"4\" valign=\"top\">не женат / не замужем</th>\n",
       "      <th rowspan=\"4\" valign=\"top\">xna</th>\n",
       "      <th>низкие доходы</th>\n",
       "      <td>0</td>\n",
       "      <td>0</td>\n",
       "      <td>NaN</td>\n",
       "      <td>NaN</td>\n",
       "      <td>NaN</td>\n",
       "      <td>Крайние значения</td>\n",
       "    </tr>\n",
       "    <tr>\n",
       "      <th>средние доходы</th>\n",
       "      <td>0</td>\n",
       "      <td>0</td>\n",
       "      <td>NaN</td>\n",
       "      <td>NaN</td>\n",
       "      <td>NaN</td>\n",
       "      <td>Крайние значения</td>\n",
       "    </tr>\n",
       "    <tr>\n",
       "      <th>выше среднего доходы</th>\n",
       "      <td>0</td>\n",
       "      <td>0</td>\n",
       "      <td>NaN</td>\n",
       "      <td>NaN</td>\n",
       "      <td>NaN</td>\n",
       "      <td>Крайние значения</td>\n",
       "    </tr>\n",
       "    <tr>\n",
       "      <th>высокие доходы</th>\n",
       "      <td>0</td>\n",
       "      <td>0</td>\n",
       "      <td>NaN</td>\n",
       "      <td>NaN</td>\n",
       "      <td>NaN</td>\n",
       "      <td>Крайние значения</td>\n",
       "    </tr>\n",
       "  </tbody>\n",
       "</table>\n",
       "</div>"
      ],
      "text/plain": [
       "debt_group                                         без просрочек  \\\n",
       "family_status         gender total_income_group                    \n",
       "вдовец / вдова        m      выше среднего доходы              7   \n",
       "                             низкие доходы                    13   \n",
       "                             высокие доходы                   10   \n",
       "не женат / не замужем m      низкие доходы                   163   \n",
       "гражданский брак      m      средние доходы                  260   \n",
       "не женат / не замужем m      высокие доходы                  283   \n",
       "гражданский брак      m      низкие доходы                   196   \n",
       "не женат / не замужем m      выше среднего доходы            247   \n",
       "гражданский брак      m      выше среднего доходы            287   \n",
       "не женат / не замужем m      средние доходы                  232   \n",
       "в разводе             m      средние доходы                   46   \n",
       "                             выше среднего доходы             69   \n",
       "женат / замужем       m      низкие доходы                   591   \n",
       "                             выше среднего доходы           1143   \n",
       "гражданский брак      f      средние доходы                  688   \n",
       "не женат / не замужем f      выше среднего доходы            365   \n",
       "гражданский брак      f      выше среднего доходы            610   \n",
       "женат / замужем       m      средние доходы                  957   \n",
       "в разводе             m      высокие доходы                   79   \n",
       "не женат / не замужем f      средние доходы                  443   \n",
       "гражданский брак      f      низкие доходы                   749   \n",
       "в разводе             f      средние доходы                  226   \n",
       "женат / замужем       f      средние доходы                 1886   \n",
       "в разводе             f      низкие доходы                   231   \n",
       "вдовец / вдова        f      средние доходы                  244   \n",
       "гражданский брак      m      высокие доходы                  407   \n",
       "женат / замужем       m      высокие доходы                 1487   \n",
       "                      f      низкие доходы                  2218   \n",
       "вдовец / вдова        f      выше среднего доходы            173   \n",
       "в разводе             m      низкие доходы                    41   \n",
       "женат / замужем       f      высокие доходы                 1437   \n",
       "гражданский брак      f      высокие доходы                  564   \n",
       "вдовец / вдова        f      высокие доходы                  146   \n",
       "женат / замужем       f      выше среднего доходы           1689   \n",
       "в разводе             f      высокие доходы                  209   \n",
       "не женат / не замужем f      низкие доходы                   446   \n",
       "в разводе             f      выше среднего доходы            209   \n",
       "не женат / не замужем f      высокие доходы                  357   \n",
       "вдовец / вдова        f      низкие доходы                   289   \n",
       "                      m      средние доходы                   14   \n",
       "гражданский брак      xna    высокие доходы                    1   \n",
       "в разводе             xna    низкие доходы                     0   \n",
       "                             средние доходы                    0   \n",
       "                             выше среднего доходы              0   \n",
       "                             высокие доходы                    0   \n",
       "вдовец / вдова        xna    низкие доходы                     0   \n",
       "                             средние доходы                    0   \n",
       "                             выше среднего доходы              0   \n",
       "                             высокие доходы                    0   \n",
       "гражданский брак      xna    низкие доходы                     0   \n",
       "                             средние доходы                    0   \n",
       "                             выше среднего доходы              0   \n",
       "женат / замужем       xna    низкие доходы                     0   \n",
       "                             средние доходы                    0   \n",
       "                             выше среднего доходы              0   \n",
       "                             высокие доходы                    0   \n",
       "не женат / не замужем xna    низкие доходы                     0   \n",
       "                             средние доходы                    0   \n",
       "                             выше среднего доходы              0   \n",
       "                             высокие доходы                    0   \n",
       "\n",
       "debt_group                                         с просрочкой  avg_debt_%  \\\n",
       "family_status         gender total_income_group                               \n",
       "вдовец / вдова        m      выше среднего доходы             4       36.36   \n",
       "                             низкие доходы                    5       27.78   \n",
       "                             высокие доходы                   2       16.67   \n",
       "не женат / не замужем m      низкие доходы                   32       16.41   \n",
       "гражданский брак      m      средние доходы                  45       14.75   \n",
       "не женат / не замужем m      высокие доходы                  48       14.50   \n",
       "гражданский брак      m      низкие доходы                   32       14.04   \n",
       "не женат / не замужем m      выше среднего доходы            40       13.94   \n",
       "гражданский брак      m      выше среднего доходы            45       13.55   \n",
       "не женат / не замужем m      средние доходы                  36       13.43   \n",
       "в разводе             m      средние доходы                   6       11.54   \n",
       "                             выше среднего доходы             8       10.39   \n",
       "женат / замужем       m      низкие доходы                   66       10.05   \n",
       "                             выше среднего доходы           127       10.00   \n",
       "гражданский брак      f      средние доходы                  71        9.35   \n",
       "не женат / не замужем f      выше среднего доходы            37        9.20   \n",
       "гражданский брак      f      выше среднего доходы            61        9.09   \n",
       "женат / замужем       m      средние доходы                  92        8.77   \n",
       "в разводе             m      высокие доходы                   7        8.14   \n",
       "не женат / не замужем f      средние доходы                  38        7.90   \n",
       "гражданский брак      f      низкие доходы                   64        7.87   \n",
       "в разводе             f      средние доходы                  19        7.76   \n",
       "женат / замужем       f      средние доходы                 156        7.64   \n",
       "в разводе             f      низкие доходы                   19        7.60   \n",
       "вдовец / вдова        f      средние доходы                  20        7.58   \n",
       "гражданский брак      m      высокие доходы                  33        7.50   \n",
       "женат / замужем       m      высокие доходы                 116        7.24   \n",
       "                      f      низкие доходы                  171        7.16   \n",
       "вдовец / вдова        f      выше среднего доходы            13        6.99   \n",
       "в разводе             m      низкие доходы                    3        6.82   \n",
       "женат / замужем       f      высокие доходы                 101        6.57   \n",
       "гражданский брак      f      высокие доходы                  37        6.16   \n",
       "вдовец / вдова        f      высокие доходы                   9        5.81   \n",
       "женат / замужем       f      выше среднего доходы           102        5.70   \n",
       "в разводе             f      высокие доходы                  12        5.43   \n",
       "не женат / не замужем f      низкие доходы                   25        5.31   \n",
       "в разводе             f      выше среднего доходы            11        5.00   \n",
       "не женат / не замужем f      высокие доходы                  18        4.80   \n",
       "вдовец / вдова        f      низкие доходы                   10        3.34   \n",
       "                      m      средние доходы                   0        0.00   \n",
       "гражданский брак      xna    высокие доходы                   0        0.00   \n",
       "в разводе             xna    низкие доходы                    0         NaN   \n",
       "                             средние доходы                   0         NaN   \n",
       "                             выше среднего доходы             0         NaN   \n",
       "                             высокие доходы                   0         NaN   \n",
       "вдовец / вдова        xna    низкие доходы                    0         NaN   \n",
       "                             средние доходы                   0         NaN   \n",
       "                             выше среднего доходы             0         NaN   \n",
       "                             высокие доходы                   0         NaN   \n",
       "гражданский брак      xna    низкие доходы                    0         NaN   \n",
       "                             средние доходы                   0         NaN   \n",
       "                             выше среднего доходы             0         NaN   \n",
       "женат / замужем       xna    низкие доходы                    0         NaN   \n",
       "                             средние доходы                   0         NaN   \n",
       "                             выше среднего доходы             0         NaN   \n",
       "                             высокие доходы                   0         NaN   \n",
       "не женат / не замужем xna    низкие доходы                    0         NaN   \n",
       "                             средние доходы                   0         NaN   \n",
       "                             выше среднего доходы             0         NaN   \n",
       "                             высокие доходы                   0         NaN   \n",
       "\n",
       "debt_group                                         deviation  deviation_%  \\\n",
       "family_status         gender total_income_group                             \n",
       "вдовец / вдова        m      выше среднего доходы     -28.24        -77.7   \n",
       "                             низкие доходы            -19.66        -70.8   \n",
       "                             высокие доходы            -8.55        -51.3   \n",
       "не женат / не замужем m      низкие доходы             -8.29        -50.5   \n",
       "гражданский брак      m      средние доходы            -6.63        -44.9   \n",
       "не женат / не замужем m      высокие доходы            -6.38        -44.0   \n",
       "гражданский брак      m      низкие доходы             -5.92        -42.2   \n",
       "не женат / не замужем m      выше среднего доходы      -5.82        -41.8   \n",
       "гражданский брак      m      выше среднего доходы      -5.43        -40.1   \n",
       "не женат / не замужем m      средние доходы            -5.31        -39.5   \n",
       "в разводе             m      средние доходы            -3.42        -29.6   \n",
       "                             выше среднего доходы      -2.27        -21.8   \n",
       "женат / замужем       m      низкие доходы             -1.93        -19.2   \n",
       "                             выше среднего доходы      -1.88        -18.8   \n",
       "гражданский брак      f      средние доходы            -1.23        -13.2   \n",
       "не женат / не замужем f      выше среднего доходы      -1.08        -11.7   \n",
       "гражданский брак      f      выше среднего доходы      -0.97        -10.7   \n",
       "женат / замужем       m      средние доходы            -0.65         -7.4   \n",
       "в разводе             m      высокие доходы            -0.02         -0.2   \n",
       "не женат / не замужем f      средние доходы             0.22          2.8   \n",
       "гражданский брак      f      низкие доходы              0.25          3.2   \n",
       "в разводе             f      средние доходы             0.36          4.6   \n",
       "женат / замужем       f      средние доходы             0.48          6.3   \n",
       "в разводе             f      низкие доходы              0.52          6.8   \n",
       "вдовец / вдова        f      средние доходы             0.54          7.1   \n",
       "гражданский брак      m      высокие доходы             0.62          8.3   \n",
       "женат / замужем       m      высокие доходы             0.88         12.2   \n",
       "                      f      низкие доходы              0.96         13.4   \n",
       "вдовец / вдова        f      выше среднего доходы       1.13         16.2   \n",
       "в разводе             m      низкие доходы              1.30         19.1   \n",
       "женат / замужем       f      высокие доходы             1.55         23.6   \n",
       "гражданский брак      f      высокие доходы             1.96         31.8   \n",
       "вдовец / вдова        f      высокие доходы             2.31         39.8   \n",
       "женат / замужем       f      выше среднего доходы       2.42         42.5   \n",
       "в разводе             f      высокие доходы             2.69         49.5   \n",
       "не женат / не замужем f      низкие доходы              2.81         52.9   \n",
       "в разводе             f      выше среднего доходы       3.12         62.4   \n",
       "не женат / не замужем f      высокие доходы             3.32         69.2   \n",
       "вдовец / вдова        f      низкие доходы              4.78        143.1   \n",
       "                      m      средние доходы             8.12          inf   \n",
       "гражданский брак      xna    высокие доходы             8.12          inf   \n",
       "в разводе             xna    низкие доходы               NaN          NaN   \n",
       "                             средние доходы              NaN          NaN   \n",
       "                             выше среднего доходы        NaN          NaN   \n",
       "                             высокие доходы              NaN          NaN   \n",
       "вдовец / вдова        xna    низкие доходы               NaN          NaN   \n",
       "                             средние доходы              NaN          NaN   \n",
       "                             выше среднего доходы        NaN          NaN   \n",
       "                             высокие доходы              NaN          NaN   \n",
       "гражданский брак      xna    низкие доходы               NaN          NaN   \n",
       "                             средние доходы              NaN          NaN   \n",
       "                             выше среднего доходы        NaN          NaN   \n",
       "женат / замужем       xna    низкие доходы               NaN          NaN   \n",
       "                             средние доходы              NaN          NaN   \n",
       "                             выше среднего доходы        NaN          NaN   \n",
       "                             высокие доходы              NaN          NaN   \n",
       "не женат / не замужем xna    низкие доходы               NaN          NaN   \n",
       "                             средние доходы              NaN          NaN   \n",
       "                             выше среднего доходы        NaN          NaN   \n",
       "                             высокие доходы              NaN          NaN   \n",
       "\n",
       "debt_group                                               category_special_case  \n",
       "family_status         gender total_income_group                                 \n",
       "вдовец / вдова        m      выше среднего доходы          Критический случай!  \n",
       "                             низкие доходы                 Критический случай!  \n",
       "                             высокие доходы                Критический случай!  \n",
       "не женат / не замужем m      низкие доходы                 Критический случай!  \n",
       "гражданский брак      m      средние доходы        Особая проблемная ситуация!  \n",
       "не женат / не замужем m      высокие доходы        Особая проблемная ситуация!  \n",
       "гражданский брак      m      низкие доходы         Особая проблемная ситуация!  \n",
       "не женат / не замужем m      выше среднего доходы  Особая проблемная ситуация!  \n",
       "гражданский брак      m      выше среднего доходы  Особая проблемная ситуация!  \n",
       "не женат / не замужем m      средние доходы        Особая проблемная ситуация!  \n",
       "в разводе             m      средние доходы               Проблемная ситуация.  \n",
       "                             выше среднего доходы         Проблемная ситуация.  \n",
       "женат / замужем       m      низкие доходы                Проблемная ситуация.  \n",
       "                             выше среднего доходы         Проблемная ситуация.  \n",
       "гражданский брак      f      средние доходы               Проблемная ситуация.  \n",
       "не женат / не замужем f      выше среднего доходы         Проблемная ситуация.  \n",
       "гражданский брак      f      выше среднего доходы         Проблемная ситуация.  \n",
       "женат / замужем       m      средние доходы               Проблемная ситуация.  \n",
       "в разводе             m      высокие доходы               Проблемная ситуация.  \n",
       "не женат / не замужем f      средние доходы                   Хорошая ситуация  \n",
       "гражданский брак      f      низкие доходы                    Хорошая ситуация  \n",
       "в разводе             f      средние доходы                   Хорошая ситуация  \n",
       "женат / замужем       f      средние доходы                   Хорошая ситуация  \n",
       "в разводе             f      низкие доходы                    Хорошая ситуация  \n",
       "вдовец / вдова        f      средние доходы                   Хорошая ситуация  \n",
       "гражданский брак      m      высокие доходы                   Хорошая ситуация  \n",
       "женат / замужем       m      высокие доходы                   Хорошая ситуация  \n",
       "                      f      низкие доходы                    Хорошая ситуация  \n",
       "вдовец / вдова        f      выше среднего доходы             Хорошая ситуация  \n",
       "в разводе             m      низкие доходы                    Хорошая ситуация  \n",
       "женат / замужем       f      высокие доходы                   Хорошая ситуация  \n",
       "гражданский брак      f      высокие доходы                   Хорошая ситуация  \n",
       "вдовец / вдова        f      высокие доходы                   Хорошая ситуация  \n",
       "женат / замужем       f      выше среднего доходы             Хорошая ситуация  \n",
       "в разводе             f      высокие доходы                   Хорошая ситуация  \n",
       "не женат / не замужем f      низкие доходы                    Хорошая ситуация  \n",
       "в разводе             f      выше среднего доходы             Хорошая ситуация  \n",
       "не женат / не замужем f      высокие доходы                   Хорошая ситуация  \n",
       "вдовец / вдова        f      низкие доходы                    Хорошая ситуация  \n",
       "                      m      средние доходы                   Хорошая ситуация  \n",
       "гражданский брак      xna    высокие доходы                   Хорошая ситуация  \n",
       "в разводе             xna    низкие доходы                    Крайние значения  \n",
       "                             средние доходы                   Крайние значения  \n",
       "                             выше среднего доходы             Крайние значения  \n",
       "                             высокие доходы                   Крайние значения  \n",
       "вдовец / вдова        xna    низкие доходы                    Крайние значения  \n",
       "                             средние доходы                   Крайние значения  \n",
       "                             выше среднего доходы             Крайние значения  \n",
       "                             высокие доходы                   Крайние значения  \n",
       "гражданский брак      xna    низкие доходы                    Крайние значения  \n",
       "                             средние доходы                   Крайние значения  \n",
       "                             выше среднего доходы             Крайние значения  \n",
       "женат / замужем       xna    низкие доходы                    Крайние значения  \n",
       "                             средние доходы                   Крайние значения  \n",
       "                             выше среднего доходы             Крайние значения  \n",
       "                             высокие доходы                   Крайние значения  \n",
       "не женат / не замужем xna    низкие доходы                    Крайние значения  \n",
       "                             средние доходы                   Крайние значения  \n",
       "                             выше среднего доходы             Крайние значения  \n",
       "                             высокие доходы                   Крайние значения  "
      ]
     },
     "metadata": {},
     "output_type": "display_data"
    },
    {
     "name": "stdout",
     "output_type": "stream",
     "text": [
      "Зависимость категорий family_status с income_type и education:\n"
     ]
    },
    {
     "data": {
      "text/html": [
       "<div>\n",
       "<style scoped>\n",
       "    .dataframe tbody tr th:only-of-type {\n",
       "        vertical-align: middle;\n",
       "    }\n",
       "\n",
       "    .dataframe tbody tr th {\n",
       "        vertical-align: top;\n",
       "    }\n",
       "\n",
       "    .dataframe thead th {\n",
       "        text-align: right;\n",
       "    }\n",
       "</style>\n",
       "<table border=\"1\" class=\"dataframe\">\n",
       "  <thead>\n",
       "    <tr style=\"text-align: right;\">\n",
       "      <th></th>\n",
       "      <th></th>\n",
       "      <th>debt_group</th>\n",
       "      <th>без просрочек</th>\n",
       "      <th>с просрочкой</th>\n",
       "      <th>avg_debt_%</th>\n",
       "      <th>deviation</th>\n",
       "      <th>deviation_%</th>\n",
       "      <th>category_special_case</th>\n",
       "    </tr>\n",
       "    <tr>\n",
       "      <th>family_status</th>\n",
       "      <th>income_type</th>\n",
       "      <th>education</th>\n",
       "      <th></th>\n",
       "      <th></th>\n",
       "      <th></th>\n",
       "      <th></th>\n",
       "      <th></th>\n",
       "      <th></th>\n",
       "    </tr>\n",
       "  </thead>\n",
       "  <tbody>\n",
       "    <tr>\n",
       "      <th rowspan=\"2\" valign=\"top\">гражданский брак</th>\n",
       "      <th>госслужащий</th>\n",
       "      <th>начальное</th>\n",
       "      <td>1.0</td>\n",
       "      <td>1.0</td>\n",
       "      <td>50.00</td>\n",
       "      <td>-41.88</td>\n",
       "      <td>-83.8</td>\n",
       "      <td>Критический случай!</td>\n",
       "    </tr>\n",
       "    <tr>\n",
       "      <th>сотрудник</th>\n",
       "      <th>начальное</th>\n",
       "      <td>23.0</td>\n",
       "      <td>8.0</td>\n",
       "      <td>25.81</td>\n",
       "      <td>-17.69</td>\n",
       "      <td>-68.5</td>\n",
       "      <td>Критический случай!</td>\n",
       "    </tr>\n",
       "    <tr>\n",
       "      <th>женат / замужем</th>\n",
       "      <th>компаньон</th>\n",
       "      <th>начальное</th>\n",
       "      <td>15.0</td>\n",
       "      <td>3.0</td>\n",
       "      <td>16.67</td>\n",
       "      <td>-8.55</td>\n",
       "      <td>-51.3</td>\n",
       "      <td>Критический случай!</td>\n",
       "    </tr>\n",
       "    <tr>\n",
       "      <th rowspan=\"2\" valign=\"top\">вдовец / вдова</th>\n",
       "      <th>сотрудник</th>\n",
       "      <th>неоконченное высшее</th>\n",
       "      <td>5.0</td>\n",
       "      <td>1.0</td>\n",
       "      <td>16.67</td>\n",
       "      <td>-8.55</td>\n",
       "      <td>-51.3</td>\n",
       "      <td>Критический случай!</td>\n",
       "    </tr>\n",
       "    <tr>\n",
       "      <th>пенсионер</th>\n",
       "      <th>неоконченное высшее</th>\n",
       "      <td>5.0</td>\n",
       "      <td>1.0</td>\n",
       "      <td>16.67</td>\n",
       "      <td>-8.55</td>\n",
       "      <td>-51.3</td>\n",
       "      <td>Критический случай!</td>\n",
       "    </tr>\n",
       "    <tr>\n",
       "      <th>...</th>\n",
       "      <th>...</th>\n",
       "      <th>...</th>\n",
       "      <td>...</td>\n",
       "      <td>...</td>\n",
       "      <td>...</td>\n",
       "      <td>...</td>\n",
       "      <td>...</td>\n",
       "      <td>...</td>\n",
       "    </tr>\n",
       "    <tr>\n",
       "      <th rowspan=\"5\" valign=\"top\">не женат / не замужем</th>\n",
       "      <th>компаньон</th>\n",
       "      <th>начальное</th>\n",
       "      <td>3.0</td>\n",
       "      <td>NaN</td>\n",
       "      <td>NaN</td>\n",
       "      <td>NaN</td>\n",
       "      <td>NaN</td>\n",
       "      <td>Крайние значения</td>\n",
       "    </tr>\n",
       "    <tr>\n",
       "      <th rowspan=\"2\" valign=\"top\">пенсионер</th>\n",
       "      <th>начальное</th>\n",
       "      <td>9.0</td>\n",
       "      <td>NaN</td>\n",
       "      <td>NaN</td>\n",
       "      <td>NaN</td>\n",
       "      <td>NaN</td>\n",
       "      <td>Крайние значения</td>\n",
       "    </tr>\n",
       "    <tr>\n",
       "      <th>неоконченное высшее</th>\n",
       "      <td>5.0</td>\n",
       "      <td>NaN</td>\n",
       "      <td>NaN</td>\n",
       "      <td>NaN</td>\n",
       "      <td>NaN</td>\n",
       "      <td>Крайние значения</td>\n",
       "    </tr>\n",
       "    <tr>\n",
       "      <th>сотрудник</th>\n",
       "      <th>ученая степень</th>\n",
       "      <td>1.0</td>\n",
       "      <td>NaN</td>\n",
       "      <td>NaN</td>\n",
       "      <td>NaN</td>\n",
       "      <td>NaN</td>\n",
       "      <td>Крайние значения</td>\n",
       "    </tr>\n",
       "    <tr>\n",
       "      <th>студент</th>\n",
       "      <th>высшее</th>\n",
       "      <td>1.0</td>\n",
       "      <td>NaN</td>\n",
       "      <td>NaN</td>\n",
       "      <td>NaN</td>\n",
       "      <td>NaN</td>\n",
       "      <td>Крайние значения</td>\n",
       "    </tr>\n",
       "  </tbody>\n",
       "</table>\n",
       "<p>86 rows × 6 columns</p>\n",
       "</div>"
      ],
      "text/plain": [
       "debt_group                                             без просрочек  \\\n",
       "family_status         income_type education                            \n",
       "гражданский брак      госслужащий начальное                      1.0   \n",
       "                      сотрудник   начальное                     23.0   \n",
       "женат / замужем       компаньон   начальное                     15.0   \n",
       "вдовец / вдова        сотрудник   неоконченное высшее            5.0   \n",
       "                      пенсионер   неоконченное высшее            5.0   \n",
       "...                                                              ...   \n",
       "не женат / не замужем компаньон   начальное                      3.0   \n",
       "                      пенсионер   начальное                      9.0   \n",
       "                                  неоконченное высшее            5.0   \n",
       "                      сотрудник   ученая степень                 1.0   \n",
       "                      студент     высшее                         1.0   \n",
       "\n",
       "debt_group                                             с просрочкой  \\\n",
       "family_status         income_type education                           \n",
       "гражданский брак      госслужащий начальное                     1.0   \n",
       "                      сотрудник   начальное                     8.0   \n",
       "женат / замужем       компаньон   начальное                     3.0   \n",
       "вдовец / вдова        сотрудник   неоконченное высшее           1.0   \n",
       "                      пенсионер   неоконченное высшее           1.0   \n",
       "...                                                             ...   \n",
       "не женат / не замужем компаньон   начальное                     NaN   \n",
       "                      пенсионер   начальное                     NaN   \n",
       "                                  неоконченное высшее           NaN   \n",
       "                      сотрудник   ученая степень                NaN   \n",
       "                      студент     высшее                        NaN   \n",
       "\n",
       "debt_group                                             avg_debt_%  deviation  \\\n",
       "family_status         income_type education                                    \n",
       "гражданский брак      госслужащий начальное                 50.00     -41.88   \n",
       "                      сотрудник   начальное                 25.81     -17.69   \n",
       "женат / замужем       компаньон   начальное                 16.67      -8.55   \n",
       "вдовец / вдова        сотрудник   неоконченное высшее       16.67      -8.55   \n",
       "                      пенсионер   неоконченное высшее       16.67      -8.55   \n",
       "...                                                           ...        ...   \n",
       "не женат / не замужем компаньон   начальное                   NaN        NaN   \n",
       "                      пенсионер   начальное                   NaN        NaN   \n",
       "                                  неоконченное высшее         NaN        NaN   \n",
       "                      сотрудник   ученая степень              NaN        NaN   \n",
       "                      студент     высшее                      NaN        NaN   \n",
       "\n",
       "debt_group                                             deviation_%  \\\n",
       "family_status         income_type education                          \n",
       "гражданский брак      госслужащий начальное                  -83.8   \n",
       "                      сотрудник   начальное                  -68.5   \n",
       "женат / замужем       компаньон   начальное                  -51.3   \n",
       "вдовец / вдова        сотрудник   неоконченное высшее        -51.3   \n",
       "                      пенсионер   неоконченное высшее        -51.3   \n",
       "...                                                            ...   \n",
       "не женат / не замужем компаньон   начальное                    NaN   \n",
       "                      пенсионер   начальное                    NaN   \n",
       "                                  неоконченное высшее          NaN   \n",
       "                      сотрудник   ученая степень               NaN   \n",
       "                      студент     высшее                       NaN   \n",
       "\n",
       "debt_group                                            category_special_case  \n",
       "family_status         income_type education                                  \n",
       "гражданский брак      госслужащий начальное             Критический случай!  \n",
       "                      сотрудник   начальное             Критический случай!  \n",
       "женат / замужем       компаньон   начальное             Критический случай!  \n",
       "вдовец / вдова        сотрудник   неоконченное высшее   Критический случай!  \n",
       "                      пенсионер   неоконченное высшее   Критический случай!  \n",
       "...                                                                     ...  \n",
       "не женат / не замужем компаньон   начальное                Крайние значения  \n",
       "                      пенсионер   начальное                Крайние значения  \n",
       "                                  неоконченное высшее      Крайние значения  \n",
       "                      сотрудник   ученая степень           Крайние значения  \n",
       "                      студент     высшее                   Крайние значения  \n",
       "\n",
       "[86 rows x 6 columns]"
      ]
     },
     "metadata": {},
     "output_type": "display_data"
    },
    {
     "name": "stdout",
     "output_type": "stream",
     "text": [
      "Зависимость категорий family_status с income_type и purpose_lemma:\n"
     ]
    },
    {
     "data": {
      "text/html": [
       "<div>\n",
       "<style scoped>\n",
       "    .dataframe tbody tr th:only-of-type {\n",
       "        vertical-align: middle;\n",
       "    }\n",
       "\n",
       "    .dataframe tbody tr th {\n",
       "        vertical-align: top;\n",
       "    }\n",
       "\n",
       "    .dataframe thead th {\n",
       "        text-align: right;\n",
       "    }\n",
       "</style>\n",
       "<table border=\"1\" class=\"dataframe\">\n",
       "  <thead>\n",
       "    <tr style=\"text-align: right;\">\n",
       "      <th></th>\n",
       "      <th></th>\n",
       "      <th>debt_group</th>\n",
       "      <th>без просрочек</th>\n",
       "      <th>с просрочкой</th>\n",
       "      <th>avg_debt_%</th>\n",
       "      <th>deviation</th>\n",
       "      <th>deviation_%</th>\n",
       "      <th>category_special_case</th>\n",
       "    </tr>\n",
       "    <tr>\n",
       "      <th>family_status</th>\n",
       "      <th>income_type</th>\n",
       "      <th>purpose_lemma</th>\n",
       "      <th></th>\n",
       "      <th></th>\n",
       "      <th></th>\n",
       "      <th></th>\n",
       "      <th></th>\n",
       "      <th></th>\n",
       "    </tr>\n",
       "  </thead>\n",
       "  <tbody>\n",
       "    <tr>\n",
       "      <th>вдовец / вдова</th>\n",
       "      <th>госслужащий</th>\n",
       "      <th>на автомобиль</th>\n",
       "      <td>6.0</td>\n",
       "      <td>2.0</td>\n",
       "      <td>25.00</td>\n",
       "      <td>-16.88</td>\n",
       "      <td>-67.5</td>\n",
       "      <td>Критический случай!</td>\n",
       "    </tr>\n",
       "    <tr>\n",
       "      <th rowspan=\"6\" valign=\"top\">гражданский брак</th>\n",
       "      <th>госслужащий</th>\n",
       "      <th>на образование</th>\n",
       "      <td>19.0</td>\n",
       "      <td>4.0</td>\n",
       "      <td>17.39</td>\n",
       "      <td>-9.27</td>\n",
       "      <td>-53.3</td>\n",
       "      <td>Критический случай!</td>\n",
       "    </tr>\n",
       "    <tr>\n",
       "      <th>сотрудник</th>\n",
       "      <th>на образование</th>\n",
       "      <td>175.0</td>\n",
       "      <td>35.0</td>\n",
       "      <td>16.67</td>\n",
       "      <td>-8.55</td>\n",
       "      <td>-51.3</td>\n",
       "      <td>Критический случай!</td>\n",
       "    </tr>\n",
       "    <tr>\n",
       "      <th>госслужащий</th>\n",
       "      <th>на автомобиль</th>\n",
       "      <td>21.0</td>\n",
       "      <td>4.0</td>\n",
       "      <td>16.00</td>\n",
       "      <td>-7.88</td>\n",
       "      <td>-49.2</td>\n",
       "      <td>Особая проблемная ситуация!</td>\n",
       "    </tr>\n",
       "    <tr>\n",
       "      <th>сотрудник</th>\n",
       "      <th>на автомобиль</th>\n",
       "      <td>206.0</td>\n",
       "      <td>39.0</td>\n",
       "      <td>15.92</td>\n",
       "      <td>-7.80</td>\n",
       "      <td>-49.0</td>\n",
       "      <td>Особая проблемная ситуация!</td>\n",
       "    </tr>\n",
       "    <tr>\n",
       "      <th>...</th>\n",
       "      <th>...</th>\n",
       "      <td>...</td>\n",
       "      <td>...</td>\n",
       "      <td>...</td>\n",
       "      <td>...</td>\n",
       "      <td>...</td>\n",
       "      <td>...</td>\n",
       "    </tr>\n",
       "    <tr>\n",
       "      <th>предприниматель</th>\n",
       "      <th>на свадьбу</th>\n",
       "      <td>1.0</td>\n",
       "      <td>NaN</td>\n",
       "      <td>NaN</td>\n",
       "      <td>NaN</td>\n",
       "      <td>NaN</td>\n",
       "      <td>Крайние значения</td>\n",
       "    </tr>\n",
       "    <tr>\n",
       "      <th rowspan=\"3\" valign=\"top\">женат / замужем</th>\n",
       "      <th>безработный</th>\n",
       "      <th>на недвижимость</th>\n",
       "      <td>NaN</td>\n",
       "      <td>1.0</td>\n",
       "      <td>NaN</td>\n",
       "      <td>NaN</td>\n",
       "      <td>NaN</td>\n",
       "      <td>Крайние значения</td>\n",
       "    </tr>\n",
       "    <tr>\n",
       "      <th>в декрете</th>\n",
       "      <th>на автомобиль</th>\n",
       "      <td>NaN</td>\n",
       "      <td>1.0</td>\n",
       "      <td>NaN</td>\n",
       "      <td>NaN</td>\n",
       "      <td>NaN</td>\n",
       "      <td>Крайние значения</td>\n",
       "    </tr>\n",
       "    <tr>\n",
       "      <th>предприниматель</th>\n",
       "      <th>на недвижимость</th>\n",
       "      <td>1.0</td>\n",
       "      <td>NaN</td>\n",
       "      <td>NaN</td>\n",
       "      <td>NaN</td>\n",
       "      <td>NaN</td>\n",
       "      <td>Крайние значения</td>\n",
       "    </tr>\n",
       "    <tr>\n",
       "      <th>не женат / не замужем</th>\n",
       "      <th>студент</th>\n",
       "      <th>на недвижимость</th>\n",
       "      <td>1.0</td>\n",
       "      <td>NaN</td>\n",
       "      <td>NaN</td>\n",
       "      <td>NaN</td>\n",
       "      <td>NaN</td>\n",
       "      <td>Крайние значения</td>\n",
       "    </tr>\n",
       "  </tbody>\n",
       "</table>\n",
       "<p>70 rows × 6 columns</p>\n",
       "</div>"
      ],
      "text/plain": [
       "debt_group                                             без просрочек  \\\n",
       "family_status         income_type     purpose_lemma                    \n",
       "вдовец / вдова        госслужащий     на автомобиль              6.0   \n",
       "гражданский брак      госслужащий     на образование            19.0   \n",
       "                      сотрудник       на образование           175.0   \n",
       "                      госслужащий     на автомобиль             21.0   \n",
       "                      сотрудник       на автомобиль            206.0   \n",
       "...                                                              ...   \n",
       "                      предприниматель на свадьбу                 1.0   \n",
       "женат / замужем       безработный     на недвижимость            NaN   \n",
       "                      в декрете       на автомобиль              NaN   \n",
       "                      предприниматель на недвижимость            1.0   \n",
       "не женат / не замужем студент         на недвижимость            1.0   \n",
       "\n",
       "debt_group                                             с просрочкой  \\\n",
       "family_status         income_type     purpose_lemma                   \n",
       "вдовец / вдова        госслужащий     на автомобиль             2.0   \n",
       "гражданский брак      госслужащий     на образование            4.0   \n",
       "                      сотрудник       на образование           35.0   \n",
       "                      госслужащий     на автомобиль             4.0   \n",
       "                      сотрудник       на автомобиль            39.0   \n",
       "...                                                             ...   \n",
       "                      предприниматель на свадьбу                NaN   \n",
       "женат / замужем       безработный     на недвижимость           1.0   \n",
       "                      в декрете       на автомобиль             1.0   \n",
       "                      предприниматель на недвижимость           NaN   \n",
       "не женат / не замужем студент         на недвижимость           NaN   \n",
       "\n",
       "debt_group                                             avg_debt_%  deviation  \\\n",
       "family_status         income_type     purpose_lemma                            \n",
       "вдовец / вдова        госслужащий     на автомобиль         25.00     -16.88   \n",
       "гражданский брак      госслужащий     на образование        17.39      -9.27   \n",
       "                      сотрудник       на образование        16.67      -8.55   \n",
       "                      госслужащий     на автомобиль         16.00      -7.88   \n",
       "                      сотрудник       на автомобиль         15.92      -7.80   \n",
       "...                                                           ...        ...   \n",
       "                      предприниматель на свадьбу              NaN        NaN   \n",
       "женат / замужем       безработный     на недвижимость         NaN        NaN   \n",
       "                      в декрете       на автомобиль           NaN        NaN   \n",
       "                      предприниматель на недвижимость         NaN        NaN   \n",
       "не женат / не замужем студент         на недвижимость         NaN        NaN   \n",
       "\n",
       "debt_group                                             deviation_%  \\\n",
       "family_status         income_type     purpose_lemma                  \n",
       "вдовец / вдова        госслужащий     на автомобиль          -67.5   \n",
       "гражданский брак      госслужащий     на образование         -53.3   \n",
       "                      сотрудник       на образование         -51.3   \n",
       "                      госслужащий     на автомобиль          -49.2   \n",
       "                      сотрудник       на автомобиль          -49.0   \n",
       "...                                                            ...   \n",
       "                      предприниматель на свадьбу               NaN   \n",
       "женат / замужем       безработный     на недвижимость          NaN   \n",
       "                      в декрете       на автомобиль            NaN   \n",
       "                      предприниматель на недвижимость          NaN   \n",
       "не женат / не замужем студент         на недвижимость          NaN   \n",
       "\n",
       "debt_group                                                   category_special_case  \n",
       "family_status         income_type     purpose_lemma                                 \n",
       "вдовец / вдова        госслужащий     на автомобиль            Критический случай!  \n",
       "гражданский брак      госслужащий     на образование           Критический случай!  \n",
       "                      сотрудник       на образование           Критический случай!  \n",
       "                      госслужащий     на автомобиль    Особая проблемная ситуация!  \n",
       "                      сотрудник       на автомобиль    Особая проблемная ситуация!  \n",
       "...                                                                            ...  \n",
       "                      предприниматель на свадьбу                  Крайние значения  \n",
       "женат / замужем       безработный     на недвижимость             Крайние значения  \n",
       "                      в декрете       на автомобиль               Крайние значения  \n",
       "                      предприниматель на недвижимость             Крайние значения  \n",
       "не женат / не замужем студент         на недвижимость             Крайние значения  \n",
       "\n",
       "[70 rows x 6 columns]"
      ]
     },
     "metadata": {},
     "output_type": "display_data"
    },
    {
     "name": "stdout",
     "output_type": "stream",
     "text": [
      "Зависимость категорий family_status с income_type и total_income_group:\n"
     ]
    },
    {
     "data": {
      "text/html": [
       "<div>\n",
       "<style scoped>\n",
       "    .dataframe tbody tr th:only-of-type {\n",
       "        vertical-align: middle;\n",
       "    }\n",
       "\n",
       "    .dataframe tbody tr th {\n",
       "        vertical-align: top;\n",
       "    }\n",
       "\n",
       "    .dataframe thead th {\n",
       "        text-align: right;\n",
       "    }\n",
       "</style>\n",
       "<table border=\"1\" class=\"dataframe\">\n",
       "  <thead>\n",
       "    <tr style=\"text-align: right;\">\n",
       "      <th></th>\n",
       "      <th></th>\n",
       "      <th>debt_group</th>\n",
       "      <th>без просрочек</th>\n",
       "      <th>с просрочкой</th>\n",
       "      <th>avg_debt_%</th>\n",
       "      <th>deviation</th>\n",
       "      <th>deviation_%</th>\n",
       "      <th>category_special_case</th>\n",
       "    </tr>\n",
       "    <tr>\n",
       "      <th>family_status</th>\n",
       "      <th>income_type</th>\n",
       "      <th>total_income_group</th>\n",
       "      <th></th>\n",
       "      <th></th>\n",
       "      <th></th>\n",
       "      <th></th>\n",
       "      <th></th>\n",
       "      <th></th>\n",
       "    </tr>\n",
       "  </thead>\n",
       "  <tbody>\n",
       "    <tr>\n",
       "      <th rowspan=\"2\" valign=\"top\">женат / замужем</th>\n",
       "      <th>безработный</th>\n",
       "      <th>низкие доходы</th>\n",
       "      <td>0</td>\n",
       "      <td>1</td>\n",
       "      <td>100.00</td>\n",
       "      <td>-91.88</td>\n",
       "      <td>-91.9</td>\n",
       "      <td>Критический случай!</td>\n",
       "    </tr>\n",
       "    <tr>\n",
       "      <th>в декрете</th>\n",
       "      <th>низкие доходы</th>\n",
       "      <td>0</td>\n",
       "      <td>1</td>\n",
       "      <td>100.00</td>\n",
       "      <td>-91.88</td>\n",
       "      <td>-91.9</td>\n",
       "      <td>Критический случай!</td>\n",
       "    </tr>\n",
       "    <tr>\n",
       "      <th>не женат / не замужем</th>\n",
       "      <th>сотрудник</th>\n",
       "      <th>выше среднего доходы</th>\n",
       "      <td>278</td>\n",
       "      <td>42</td>\n",
       "      <td>13.12</td>\n",
       "      <td>-5.00</td>\n",
       "      <td>-38.1</td>\n",
       "      <td>Особая проблемная ситуация!</td>\n",
       "    </tr>\n",
       "    <tr>\n",
       "      <th>вдовец / вдова</th>\n",
       "      <th>компаньон</th>\n",
       "      <th>средние доходы</th>\n",
       "      <td>20</td>\n",
       "      <td>3</td>\n",
       "      <td>13.04</td>\n",
       "      <td>-4.92</td>\n",
       "      <td>-37.7</td>\n",
       "      <td>Особая проблемная ситуация!</td>\n",
       "    </tr>\n",
       "    <tr>\n",
       "      <th rowspan=\"7\" valign=\"top\">не женат / не замужем</th>\n",
       "      <th>сотрудник</th>\n",
       "      <th>высокие доходы</th>\n",
       "      <td>277</td>\n",
       "      <td>39</td>\n",
       "      <td>12.34</td>\n",
       "      <td>-4.22</td>\n",
       "      <td>-34.2</td>\n",
       "      <td>Особая проблемная ситуация!</td>\n",
       "    </tr>\n",
       "    <tr>\n",
       "      <th>...</th>\n",
       "      <th>...</th>\n",
       "      <td>...</td>\n",
       "      <td>...</td>\n",
       "      <td>...</td>\n",
       "      <td>...</td>\n",
       "      <td>...</td>\n",
       "      <td>...</td>\n",
       "    </tr>\n",
       "    <tr>\n",
       "      <th rowspan=\"2\" valign=\"top\">предприниматель</th>\n",
       "      <th>выше среднего доходы</th>\n",
       "      <td>0</td>\n",
       "      <td>0</td>\n",
       "      <td>NaN</td>\n",
       "      <td>NaN</td>\n",
       "      <td>NaN</td>\n",
       "      <td>Крайние значения</td>\n",
       "    </tr>\n",
       "    <tr>\n",
       "      <th>высокие доходы</th>\n",
       "      <td>0</td>\n",
       "      <td>0</td>\n",
       "      <td>NaN</td>\n",
       "      <td>NaN</td>\n",
       "      <td>NaN</td>\n",
       "      <td>Крайние значения</td>\n",
       "    </tr>\n",
       "    <tr>\n",
       "      <th rowspan=\"3\" valign=\"top\">студент</th>\n",
       "      <th>средние доходы</th>\n",
       "      <td>0</td>\n",
       "      <td>0</td>\n",
       "      <td>NaN</td>\n",
       "      <td>NaN</td>\n",
       "      <td>NaN</td>\n",
       "      <td>Крайние значения</td>\n",
       "    </tr>\n",
       "    <tr>\n",
       "      <th>выше среднего доходы</th>\n",
       "      <td>0</td>\n",
       "      <td>0</td>\n",
       "      <td>NaN</td>\n",
       "      <td>NaN</td>\n",
       "      <td>NaN</td>\n",
       "      <td>Крайние значения</td>\n",
       "    </tr>\n",
       "    <tr>\n",
       "      <th>высокие доходы</th>\n",
       "      <td>0</td>\n",
       "      <td>0</td>\n",
       "      <td>NaN</td>\n",
       "      <td>NaN</td>\n",
       "      <td>NaN</td>\n",
       "      <td>Крайние значения</td>\n",
       "    </tr>\n",
       "  </tbody>\n",
       "</table>\n",
       "<p>160 rows × 6 columns</p>\n",
       "</div>"
      ],
      "text/plain": [
       "debt_group                                                  без просрочек  \\\n",
       "family_status         income_type     total_income_group                    \n",
       "женат / замужем       безработный     низкие доходы                     0   \n",
       "                      в декрете       низкие доходы                     0   \n",
       "не женат / не замужем сотрудник       выше среднего доходы            278   \n",
       "вдовец / вдова        компаньон       средние доходы                   20   \n",
       "не женат / не замужем сотрудник       высокие доходы                  277   \n",
       "...                                                                   ...   \n",
       "                      предприниматель выше среднего доходы              0   \n",
       "                                      высокие доходы                    0   \n",
       "                      студент         средние доходы                    0   \n",
       "                                      выше среднего доходы              0   \n",
       "                                      высокие доходы                    0   \n",
       "\n",
       "debt_group                                                  с просрочкой  \\\n",
       "family_status         income_type     total_income_group                   \n",
       "женат / замужем       безработный     низкие доходы                    1   \n",
       "                      в декрете       низкие доходы                    1   \n",
       "не женат / не замужем сотрудник       выше среднего доходы            42   \n",
       "вдовец / вдова        компаньон       средние доходы                   3   \n",
       "не женат / не замужем сотрудник       высокие доходы                  39   \n",
       "...                                                                  ...   \n",
       "                      предприниматель выше среднего доходы             0   \n",
       "                                      высокие доходы                   0   \n",
       "                      студент         средние доходы                   0   \n",
       "                                      выше среднего доходы             0   \n",
       "                                      высокие доходы                   0   \n",
       "\n",
       "debt_group                                                  avg_debt_%  \\\n",
       "family_status         income_type     total_income_group                 \n",
       "женат / замужем       безработный     низкие доходы             100.00   \n",
       "                      в декрете       низкие доходы             100.00   \n",
       "не женат / не замужем сотрудник       выше среднего доходы       13.12   \n",
       "вдовец / вдова        компаньон       средние доходы             13.04   \n",
       "не женат / не замужем сотрудник       высокие доходы             12.34   \n",
       "...                                                                ...   \n",
       "                      предприниматель выше среднего доходы         NaN   \n",
       "                                      высокие доходы               NaN   \n",
       "                      студент         средние доходы               NaN   \n",
       "                                      выше среднего доходы         NaN   \n",
       "                                      высокие доходы               NaN   \n",
       "\n",
       "debt_group                                                  deviation  \\\n",
       "family_status         income_type     total_income_group                \n",
       "женат / замужем       безработный     низкие доходы            -91.88   \n",
       "                      в декрете       низкие доходы            -91.88   \n",
       "не женат / не замужем сотрудник       выше среднего доходы      -5.00   \n",
       "вдовец / вдова        компаньон       средние доходы            -4.92   \n",
       "не женат / не замужем сотрудник       высокие доходы            -4.22   \n",
       "...                                                               ...   \n",
       "                      предприниматель выше среднего доходы        NaN   \n",
       "                                      высокие доходы              NaN   \n",
       "                      студент         средние доходы              NaN   \n",
       "                                      выше среднего доходы        NaN   \n",
       "                                      высокие доходы              NaN   \n",
       "\n",
       "debt_group                                                  deviation_%  \\\n",
       "family_status         income_type     total_income_group                  \n",
       "женат / замужем       безработный     низкие доходы               -91.9   \n",
       "                      в декрете       низкие доходы               -91.9   \n",
       "не женат / не замужем сотрудник       выше среднего доходы        -38.1   \n",
       "вдовец / вдова        компаньон       средние доходы              -37.7   \n",
       "не женат / не замужем сотрудник       высокие доходы              -34.2   \n",
       "...                                                                 ...   \n",
       "                      предприниматель выше среднего доходы          NaN   \n",
       "                                      высокие доходы                NaN   \n",
       "                      студент         средние доходы                NaN   \n",
       "                                      выше среднего доходы          NaN   \n",
       "                                      высокие доходы                NaN   \n",
       "\n",
       "debt_group                                                        category_special_case  \n",
       "family_status         income_type     total_income_group                                 \n",
       "женат / замужем       безработный     низкие доходы                 Критический случай!  \n",
       "                      в декрете       низкие доходы                 Критический случай!  \n",
       "не женат / не замужем сотрудник       выше среднего доходы  Особая проблемная ситуация!  \n",
       "вдовец / вдова        компаньон       средние доходы        Особая проблемная ситуация!  \n",
       "не женат / не замужем сотрудник       высокие доходы        Особая проблемная ситуация!  \n",
       "...                                                                                 ...  \n",
       "                      предприниматель выше среднего доходы             Крайние значения  \n",
       "                                      высокие доходы                   Крайние значения  \n",
       "                      студент         средние доходы                   Крайние значения  \n",
       "                                      выше среднего доходы             Крайние значения  \n",
       "                                      высокие доходы                   Крайние значения  \n",
       "\n",
       "[160 rows x 6 columns]"
      ]
     },
     "metadata": {},
     "output_type": "display_data"
    }
   ],
   "source": [
    "#применим функцию для комбинации основной категории с двумя дополнительными\n",
    "create_combination_twice('family_status', list_addiction_with_family_status)"
   ]
  },
  {
   "cell_type": "markdown",
   "metadata": {},
   "source": [
    "**Вывод**"
   ]
  },
  {
   "cell_type": "markdown",
   "metadata": {},
   "source": [
    "Есть ли зависимость между семейным положением и возвратом кредита в срок?, можно сказать следующее - есть отклонение/зависимость в худшую сторону у заемщиков \"не женатых / не замужем\" и в \"гражданском браке\" на 16% и 12,5% соответственно от исходной средней величины. Положительные результаты у категорий \"женат/замужем\", \"в разводе\", \"вдовец/вдова\" на 6,9%, 15,9% и 24,3%.\n",
    "\n",
    "Особо стоит отменить при комбинации с категорией по \"полу\", в основном проблемные зоны только у мужского полу, у женского хорошая ситуация.\n",
    "\n",
    "Похожая ситуакция наблюдается при комбинациях с \"полом\" и \"целями\" явное положительное превосходство у женского пола.\n",
    "\n",
    "Отметим также и зависимость при комбинации с \"образованием\", также как и с наличием детей, есть связь от уровня образования."
   ]
  },
  {
   "cell_type": "markdown",
   "metadata": {},
   "source": [
    "#### Зависимость с учетом уровня доходов"
   ]
  },
  {
   "cell_type": "markdown",
   "metadata": {},
   "source": [
    "- Есть ли зависимость между уровнем дохода и возвратом кредита в срок?"
   ]
  },
  {
   "cell_type": "code",
   "execution_count": 57,
   "metadata": {
    "scrolled": true
   },
   "outputs": [
    {
     "data": {
      "text/html": [
       "<div>\n",
       "<style scoped>\n",
       "    .dataframe tbody tr th:only-of-type {\n",
       "        vertical-align: middle;\n",
       "    }\n",
       "\n",
       "    .dataframe tbody tr th {\n",
       "        vertical-align: top;\n",
       "    }\n",
       "\n",
       "    .dataframe thead th {\n",
       "        text-align: right;\n",
       "    }\n",
       "</style>\n",
       "<table border=\"1\" class=\"dataframe\">\n",
       "  <thead>\n",
       "    <tr style=\"text-align: right;\">\n",
       "      <th>debt_group</th>\n",
       "      <th>без просрочек</th>\n",
       "      <th>с просрочкой</th>\n",
       "      <th>avg_debt_%</th>\n",
       "      <th>deviation</th>\n",
       "      <th>deviation_%</th>\n",
       "      <th>category_special_case</th>\n",
       "    </tr>\n",
       "    <tr>\n",
       "      <th>total_income_group</th>\n",
       "      <th></th>\n",
       "      <th></th>\n",
       "      <th></th>\n",
       "      <th></th>\n",
       "      <th></th>\n",
       "      <th></th>\n",
       "    </tr>\n",
       "  </thead>\n",
       "  <tbody>\n",
       "    <tr>\n",
       "      <th>средние доходы</th>\n",
       "      <td>4996</td>\n",
       "      <td>483</td>\n",
       "      <td>8.82</td>\n",
       "      <td>-0.70</td>\n",
       "      <td>-7.9</td>\n",
       "      <td>Проблемная ситуация.</td>\n",
       "    </tr>\n",
       "    <tr>\n",
       "      <th>выше среднего доходы</th>\n",
       "      <td>4799</td>\n",
       "      <td>448</td>\n",
       "      <td>8.54</td>\n",
       "      <td>-0.42</td>\n",
       "      <td>-4.9</td>\n",
       "      <td>Проблемная ситуация.</td>\n",
       "    </tr>\n",
       "    <tr>\n",
       "      <th>низкие доходы</th>\n",
       "      <td>4937</td>\n",
       "      <td>427</td>\n",
       "      <td>7.96</td>\n",
       "      <td>0.16</td>\n",
       "      <td>2.0</td>\n",
       "      <td>Хорошая ситуация</td>\n",
       "    </tr>\n",
       "    <tr>\n",
       "      <th>высокие доходы</th>\n",
       "      <td>4980</td>\n",
       "      <td>383</td>\n",
       "      <td>7.14</td>\n",
       "      <td>0.98</td>\n",
       "      <td>13.7</td>\n",
       "      <td>Хорошая ситуация</td>\n",
       "    </tr>\n",
       "  </tbody>\n",
       "</table>\n",
       "</div>"
      ],
      "text/plain": [
       "debt_group            без просрочек  с просрочкой  avg_debt_%  deviation  \\\n",
       "total_income_group                                                         \n",
       "средние доходы                 4996           483        8.82      -0.70   \n",
       "выше среднего доходы           4799           448        8.54      -0.42   \n",
       "низкие доходы                  4937           427        7.96       0.16   \n",
       "высокие доходы                 4980           383        7.14       0.98   \n",
       "\n",
       "debt_group            deviation_% category_special_case  \n",
       "total_income_group                                       \n",
       "средние доходы               -7.9  Проблемная ситуация.  \n",
       "выше среднего доходы         -4.9  Проблемная ситуация.  \n",
       "низкие доходы                 2.0      Хорошая ситуация  \n",
       "высокие доходы               13.7      Хорошая ситуация  "
      ]
     },
     "metadata": {},
     "output_type": "display_data"
    }
   ],
   "source": [
    "#сформируем сводную таблицу\n",
    "data_pivot_income = pd.pivot_table(df, index = ['total_income_group'], \\\n",
    "                            columns = 'debt_group', values = 'debt', aggfunc = 'count')\n",
    "\n",
    "#добавим столбец относительной величины просрочек к общим кредитам\n",
    "data_pivot_income['avg_debt_%'] = round(data_pivot_income['с просрочкой'] \\\n",
    "                          / (data_pivot_income['с просрочкой'] + data_pivot_income['без просрочек']) * 100, 2)\n",
    "\n",
    "#добавим столбец, в котором покажем с отклонениями от среднего показателия\n",
    "data_pivot_income['deviation'] = round(avg_debt - data_pivot_income['avg_debt_%'], 2)\n",
    "\n",
    "#добавим столбец, показывающий на сколько % отклонение от средней величины\n",
    "data_pivot_income['deviation_%'] = round(data_pivot_income['deviation'] / data_pivot_income['avg_debt_%'] * 100, 1)\n",
    "\n",
    "#применим функцию категоризации отклонений от среднего показателия\n",
    "category_special_case(data_pivot_income)\n",
    "\n",
    "#выведим таблицу на экран и одновременно отсортируем по столбцу отклонений от среднего\n",
    "display(data_pivot_income.sort_values('deviation', ascending=True))\n"
   ]
  },
  {
   "cell_type": "markdown",
   "metadata": {},
   "source": [
    "Как видим из таблицы при применении только одного вида категории, а в данном случае это по уровню доходов, отклонения от среднего значения, также как и в предыдущем исследовании есть, отклонения от среднего значения в районе 13-14% в проблемную сторону и до 18% в положительную сторону.\n",
    "\n",
    "Поэтому сделаем комбинации с другими категориями и посмотрим меняются ли отклонения, есть ли зависимости в комбинациях. Применим дополнительно по очереди следующие зависимости:\n",
    "* пол\n",
    "* рабочий статус\n",
    "* образование\n",
    "* цель кредита\n",
    "\n",
    "Категории: \"наличие детей\", \"семейный статус\" мы уже  использовать с \"уровнем доходов\" не будем, т.к. уже использовали в предыдущем исследовании."
   ]
  },
  {
   "cell_type": "code",
   "execution_count": 58,
   "metadata": {},
   "outputs": [],
   "source": [
    "#создаем лист из возможных дополнительных комбинаций\n",
    "list_addiction_with_total_income_group = ['gender', 'income_type', 'education', 'purpose_lemma']"
   ]
  },
  {
   "cell_type": "code",
   "execution_count": 59,
   "metadata": {
    "scrolled": false
   },
   "outputs": [
    {
     "name": "stdout",
     "output_type": "stream",
     "text": [
      "Зависимость категорий total_income_group и gender:\n"
     ]
    },
    {
     "data": {
      "text/html": [
       "<div>\n",
       "<style scoped>\n",
       "    .dataframe tbody tr th:only-of-type {\n",
       "        vertical-align: middle;\n",
       "    }\n",
       "\n",
       "    .dataframe tbody tr th {\n",
       "        vertical-align: top;\n",
       "    }\n",
       "\n",
       "    .dataframe thead th {\n",
       "        text-align: right;\n",
       "    }\n",
       "</style>\n",
       "<table border=\"1\" class=\"dataframe\">\n",
       "  <thead>\n",
       "    <tr style=\"text-align: right;\">\n",
       "      <th></th>\n",
       "      <th>debt_group</th>\n",
       "      <th>без просрочек</th>\n",
       "      <th>с просрочкой</th>\n",
       "      <th>avg_debt_%</th>\n",
       "      <th>deviation</th>\n",
       "      <th>deviation_%</th>\n",
       "      <th>category_special_case</th>\n",
       "    </tr>\n",
       "    <tr>\n",
       "      <th>total_income_group</th>\n",
       "      <th>gender</th>\n",
       "      <th></th>\n",
       "      <th></th>\n",
       "      <th></th>\n",
       "      <th></th>\n",
       "      <th></th>\n",
       "      <th></th>\n",
       "    </tr>\n",
       "  </thead>\n",
       "  <tbody>\n",
       "    <tr>\n",
       "      <th>низкие доходы</th>\n",
       "      <th>m</th>\n",
       "      <td>1004</td>\n",
       "      <td>138</td>\n",
       "      <td>12.08</td>\n",
       "      <td>-3.96</td>\n",
       "      <td>-32.8</td>\n",
       "      <td>Проблемная ситуация.</td>\n",
       "    </tr>\n",
       "    <tr>\n",
       "      <th>выше среднего доходы</th>\n",
       "      <th>m</th>\n",
       "      <td>1753</td>\n",
       "      <td>224</td>\n",
       "      <td>11.33</td>\n",
       "      <td>-3.21</td>\n",
       "      <td>-28.3</td>\n",
       "      <td>Проблемная ситуация.</td>\n",
       "    </tr>\n",
       "    <tr>\n",
       "      <th>средние доходы</th>\n",
       "      <th>m</th>\n",
       "      <td>1509</td>\n",
       "      <td>179</td>\n",
       "      <td>10.60</td>\n",
       "      <td>-2.48</td>\n",
       "      <td>-23.4</td>\n",
       "      <td>Проблемная ситуация.</td>\n",
       "    </tr>\n",
       "    <tr>\n",
       "      <th>высокие доходы</th>\n",
       "      <th>m</th>\n",
       "      <td>2266</td>\n",
       "      <td>206</td>\n",
       "      <td>8.33</td>\n",
       "      <td>-0.21</td>\n",
       "      <td>-2.5</td>\n",
       "      <td>Проблемная ситуация.</td>\n",
       "    </tr>\n",
       "    <tr>\n",
       "      <th>средние доходы</th>\n",
       "      <th>f</th>\n",
       "      <td>3487</td>\n",
       "      <td>304</td>\n",
       "      <td>8.02</td>\n",
       "      <td>0.10</td>\n",
       "      <td>1.2</td>\n",
       "      <td>Хорошая ситуация</td>\n",
       "    </tr>\n",
       "    <tr>\n",
       "      <th>низкие доходы</th>\n",
       "      <th>f</th>\n",
       "      <td>3933</td>\n",
       "      <td>289</td>\n",
       "      <td>6.85</td>\n",
       "      <td>1.27</td>\n",
       "      <td>18.5</td>\n",
       "      <td>Хорошая ситуация</td>\n",
       "    </tr>\n",
       "    <tr>\n",
       "      <th>выше среднего доходы</th>\n",
       "      <th>f</th>\n",
       "      <td>3046</td>\n",
       "      <td>224</td>\n",
       "      <td>6.85</td>\n",
       "      <td>1.27</td>\n",
       "      <td>18.5</td>\n",
       "      <td>Хорошая ситуация</td>\n",
       "    </tr>\n",
       "    <tr>\n",
       "      <th rowspan=\"2\" valign=\"top\">высокие доходы</th>\n",
       "      <th>f</th>\n",
       "      <td>2713</td>\n",
       "      <td>177</td>\n",
       "      <td>6.12</td>\n",
       "      <td>2.00</td>\n",
       "      <td>32.7</td>\n",
       "      <td>Хорошая ситуация</td>\n",
       "    </tr>\n",
       "    <tr>\n",
       "      <th>xna</th>\n",
       "      <td>1</td>\n",
       "      <td>0</td>\n",
       "      <td>0.00</td>\n",
       "      <td>8.12</td>\n",
       "      <td>inf</td>\n",
       "      <td>Хорошая ситуация</td>\n",
       "    </tr>\n",
       "    <tr>\n",
       "      <th>низкие доходы</th>\n",
       "      <th>xna</th>\n",
       "      <td>0</td>\n",
       "      <td>0</td>\n",
       "      <td>NaN</td>\n",
       "      <td>NaN</td>\n",
       "      <td>NaN</td>\n",
       "      <td>Крайние значения</td>\n",
       "    </tr>\n",
       "    <tr>\n",
       "      <th>средние доходы</th>\n",
       "      <th>xna</th>\n",
       "      <td>0</td>\n",
       "      <td>0</td>\n",
       "      <td>NaN</td>\n",
       "      <td>NaN</td>\n",
       "      <td>NaN</td>\n",
       "      <td>Крайние значения</td>\n",
       "    </tr>\n",
       "    <tr>\n",
       "      <th>выше среднего доходы</th>\n",
       "      <th>xna</th>\n",
       "      <td>0</td>\n",
       "      <td>0</td>\n",
       "      <td>NaN</td>\n",
       "      <td>NaN</td>\n",
       "      <td>NaN</td>\n",
       "      <td>Крайние значения</td>\n",
       "    </tr>\n",
       "  </tbody>\n",
       "</table>\n",
       "</div>"
      ],
      "text/plain": [
       "debt_group                   без просрочек  с просрочкой  avg_debt_%  \\\n",
       "total_income_group   gender                                            \n",
       "низкие доходы        m                1004           138       12.08   \n",
       "выше среднего доходы m                1753           224       11.33   \n",
       "средние доходы       m                1509           179       10.60   \n",
       "высокие доходы       m                2266           206        8.33   \n",
       "средние доходы       f                3487           304        8.02   \n",
       "низкие доходы        f                3933           289        6.85   \n",
       "выше среднего доходы f                3046           224        6.85   \n",
       "высокие доходы       f                2713           177        6.12   \n",
       "                     xna                 1             0        0.00   \n",
       "низкие доходы        xna                 0             0         NaN   \n",
       "средние доходы       xna                 0             0         NaN   \n",
       "выше среднего доходы xna                 0             0         NaN   \n",
       "\n",
       "debt_group                   deviation  deviation_% category_special_case  \n",
       "total_income_group   gender                                                \n",
       "низкие доходы        m           -3.96        -32.8  Проблемная ситуация.  \n",
       "выше среднего доходы m           -3.21        -28.3  Проблемная ситуация.  \n",
       "средние доходы       m           -2.48        -23.4  Проблемная ситуация.  \n",
       "высокие доходы       m           -0.21         -2.5  Проблемная ситуация.  \n",
       "средние доходы       f            0.10          1.2      Хорошая ситуация  \n",
       "низкие доходы        f            1.27         18.5      Хорошая ситуация  \n",
       "выше среднего доходы f            1.27         18.5      Хорошая ситуация  \n",
       "высокие доходы       f            2.00         32.7      Хорошая ситуация  \n",
       "                     xna          8.12          inf      Хорошая ситуация  \n",
       "низкие доходы        xna           NaN          NaN      Крайние значения  \n",
       "средние доходы       xna           NaN          NaN      Крайние значения  \n",
       "выше среднего доходы xna           NaN          NaN      Крайние значения  "
      ]
     },
     "metadata": {},
     "output_type": "display_data"
    },
    {
     "name": "stdout",
     "output_type": "stream",
     "text": [
      "Зависимость категорий total_income_group и income_type:\n"
     ]
    },
    {
     "data": {
      "text/html": [
       "<div>\n",
       "<style scoped>\n",
       "    .dataframe tbody tr th:only-of-type {\n",
       "        vertical-align: middle;\n",
       "    }\n",
       "\n",
       "    .dataframe tbody tr th {\n",
       "        vertical-align: top;\n",
       "    }\n",
       "\n",
       "    .dataframe thead th {\n",
       "        text-align: right;\n",
       "    }\n",
       "</style>\n",
       "<table border=\"1\" class=\"dataframe\">\n",
       "  <thead>\n",
       "    <tr style=\"text-align: right;\">\n",
       "      <th></th>\n",
       "      <th>debt_group</th>\n",
       "      <th>без просрочек</th>\n",
       "      <th>с просрочкой</th>\n",
       "      <th>avg_debt_%</th>\n",
       "      <th>deviation</th>\n",
       "      <th>deviation_%</th>\n",
       "      <th>category_special_case</th>\n",
       "    </tr>\n",
       "    <tr>\n",
       "      <th>total_income_group</th>\n",
       "      <th>income_type</th>\n",
       "      <th></th>\n",
       "      <th></th>\n",
       "      <th></th>\n",
       "      <th></th>\n",
       "      <th></th>\n",
       "      <th></th>\n",
       "    </tr>\n",
       "  </thead>\n",
       "  <tbody>\n",
       "    <tr>\n",
       "      <th rowspan=\"2\" valign=\"top\">низкие доходы</th>\n",
       "      <th>безработный</th>\n",
       "      <td>0</td>\n",
       "      <td>1</td>\n",
       "      <td>100.00</td>\n",
       "      <td>-91.88</td>\n",
       "      <td>-91.9</td>\n",
       "      <td>Критический случай!</td>\n",
       "    </tr>\n",
       "    <tr>\n",
       "      <th>в декрете</th>\n",
       "      <td>0</td>\n",
       "      <td>1</td>\n",
       "      <td>100.00</td>\n",
       "      <td>-91.88</td>\n",
       "      <td>-91.9</td>\n",
       "      <td>Критический случай!</td>\n",
       "    </tr>\n",
       "    <tr>\n",
       "      <th>выше среднего доходы</th>\n",
       "      <th>сотрудник</th>\n",
       "      <td>2213</td>\n",
       "      <td>257</td>\n",
       "      <td>10.40</td>\n",
       "      <td>-2.28</td>\n",
       "      <td>-21.9</td>\n",
       "      <td>Проблемная ситуация.</td>\n",
       "    </tr>\n",
       "    <tr>\n",
       "      <th>средние доходы</th>\n",
       "      <th>сотрудник</th>\n",
       "      <td>2943</td>\n",
       "      <td>323</td>\n",
       "      <td>9.89</td>\n",
       "      <td>-1.77</td>\n",
       "      <td>-17.9</td>\n",
       "      <td>Проблемная ситуация.</td>\n",
       "    </tr>\n",
       "    <tr>\n",
       "      <th>низкие доходы</th>\n",
       "      <th>сотрудник</th>\n",
       "      <td>2541</td>\n",
       "      <td>270</td>\n",
       "      <td>9.61</td>\n",
       "      <td>-1.49</td>\n",
       "      <td>-15.5</td>\n",
       "      <td>Проблемная ситуация.</td>\n",
       "    </tr>\n",
       "    <tr>\n",
       "      <th>высокие доходы</th>\n",
       "      <th>сотрудник</th>\n",
       "      <td>2326</td>\n",
       "      <td>211</td>\n",
       "      <td>8.32</td>\n",
       "      <td>-0.20</td>\n",
       "      <td>-2.4</td>\n",
       "      <td>Проблемная ситуация.</td>\n",
       "    </tr>\n",
       "    <tr>\n",
       "      <th>низкие доходы</th>\n",
       "      <th>компаньон</th>\n",
       "      <td>687</td>\n",
       "      <td>62</td>\n",
       "      <td>8.28</td>\n",
       "      <td>-0.16</td>\n",
       "      <td>-1.9</td>\n",
       "      <td>Проблемная ситуация.</td>\n",
       "    </tr>\n",
       "    <tr>\n",
       "      <th rowspan=\"2\" valign=\"top\">средние доходы</th>\n",
       "      <th>госслужащий</th>\n",
       "      <td>237</td>\n",
       "      <td>21</td>\n",
       "      <td>8.14</td>\n",
       "      <td>-0.02</td>\n",
       "      <td>-0.2</td>\n",
       "      <td>Проблемная ситуация.</td>\n",
       "    </tr>\n",
       "    <tr>\n",
       "      <th>компаньон</th>\n",
       "      <td>766</td>\n",
       "      <td>66</td>\n",
       "      <td>7.93</td>\n",
       "      <td>0.19</td>\n",
       "      <td>2.4</td>\n",
       "      <td>Хорошая ситуация</td>\n",
       "    </tr>\n",
       "    <tr>\n",
       "      <th>выше среднего доходы</th>\n",
       "      <th>компаньон</th>\n",
       "      <td>1527</td>\n",
       "      <td>131</td>\n",
       "      <td>7.90</td>\n",
       "      <td>0.22</td>\n",
       "      <td>2.8</td>\n",
       "      <td>Хорошая ситуация</td>\n",
       "    </tr>\n",
       "    <tr>\n",
       "      <th>низкие доходы</th>\n",
       "      <th>госслужащий</th>\n",
       "      <td>327</td>\n",
       "      <td>24</td>\n",
       "      <td>6.84</td>\n",
       "      <td>1.28</td>\n",
       "      <td>18.7</td>\n",
       "      <td>Хорошая ситуация</td>\n",
       "    </tr>\n",
       "    <tr>\n",
       "      <th>средние доходы</th>\n",
       "      <th>пенсионер</th>\n",
       "      <td>1050</td>\n",
       "      <td>73</td>\n",
       "      <td>6.50</td>\n",
       "      <td>1.62</td>\n",
       "      <td>24.9</td>\n",
       "      <td>Хорошая ситуация</td>\n",
       "    </tr>\n",
       "    <tr>\n",
       "      <th rowspan=\"2\" valign=\"top\">высокие доходы</th>\n",
       "      <th>компаньон</th>\n",
       "      <td>1722</td>\n",
       "      <td>117</td>\n",
       "      <td>6.36</td>\n",
       "      <td>1.76</td>\n",
       "      <td>27.7</td>\n",
       "      <td>Хорошая ситуация</td>\n",
       "    </tr>\n",
       "    <tr>\n",
       "      <th>пенсионер</th>\n",
       "      <td>559</td>\n",
       "      <td>36</td>\n",
       "      <td>6.05</td>\n",
       "      <td>2.07</td>\n",
       "      <td>34.2</td>\n",
       "      <td>Хорошая ситуация</td>\n",
       "    </tr>\n",
       "    <tr>\n",
       "      <th>выше среднего доходы</th>\n",
       "      <th>пенсионер</th>\n",
       "      <td>623</td>\n",
       "      <td>38</td>\n",
       "      <td>5.75</td>\n",
       "      <td>2.37</td>\n",
       "      <td>41.2</td>\n",
       "      <td>Хорошая ситуация</td>\n",
       "    </tr>\n",
       "    <tr>\n",
       "      <th>высокие доходы</th>\n",
       "      <th>госслужащий</th>\n",
       "      <td>370</td>\n",
       "      <td>19</td>\n",
       "      <td>4.88</td>\n",
       "      <td>3.24</td>\n",
       "      <td>66.4</td>\n",
       "      <td>Хорошая ситуация</td>\n",
       "    </tr>\n",
       "    <tr>\n",
       "      <th>выше среднего доходы</th>\n",
       "      <th>госслужащий</th>\n",
       "      <td>436</td>\n",
       "      <td>22</td>\n",
       "      <td>4.80</td>\n",
       "      <td>3.32</td>\n",
       "      <td>69.2</td>\n",
       "      <td>Хорошая ситуация</td>\n",
       "    </tr>\n",
       "    <tr>\n",
       "      <th>низкие доходы</th>\n",
       "      <th>пенсионер</th>\n",
       "      <td>1381</td>\n",
       "      <td>69</td>\n",
       "      <td>4.76</td>\n",
       "      <td>3.36</td>\n",
       "      <td>70.6</td>\n",
       "      <td>Хорошая ситуация</td>\n",
       "    </tr>\n",
       "    <tr>\n",
       "      <th>высокие доходы</th>\n",
       "      <th>предприниматель</th>\n",
       "      <td>2</td>\n",
       "      <td>0</td>\n",
       "      <td>0.00</td>\n",
       "      <td>8.12</td>\n",
       "      <td>inf</td>\n",
       "      <td>Хорошая ситуация</td>\n",
       "    </tr>\n",
       "    <tr>\n",
       "      <th>низкие доходы</th>\n",
       "      <th>студент</th>\n",
       "      <td>1</td>\n",
       "      <td>0</td>\n",
       "      <td>0.00</td>\n",
       "      <td>8.12</td>\n",
       "      <td>inf</td>\n",
       "      <td>Хорошая ситуация</td>\n",
       "    </tr>\n",
       "    <tr>\n",
       "      <th>высокие доходы</th>\n",
       "      <th>безработный</th>\n",
       "      <td>1</td>\n",
       "      <td>0</td>\n",
       "      <td>0.00</td>\n",
       "      <td>8.12</td>\n",
       "      <td>inf</td>\n",
       "      <td>Хорошая ситуация</td>\n",
       "    </tr>\n",
       "    <tr>\n",
       "      <th>низкие доходы</th>\n",
       "      <th>предприниматель</th>\n",
       "      <td>0</td>\n",
       "      <td>0</td>\n",
       "      <td>NaN</td>\n",
       "      <td>NaN</td>\n",
       "      <td>NaN</td>\n",
       "      <td>Крайние значения</td>\n",
       "    </tr>\n",
       "    <tr>\n",
       "      <th rowspan=\"4\" valign=\"top\">средние доходы</th>\n",
       "      <th>безработный</th>\n",
       "      <td>0</td>\n",
       "      <td>0</td>\n",
       "      <td>NaN</td>\n",
       "      <td>NaN</td>\n",
       "      <td>NaN</td>\n",
       "      <td>Крайние значения</td>\n",
       "    </tr>\n",
       "    <tr>\n",
       "      <th>в декрете</th>\n",
       "      <td>0</td>\n",
       "      <td>0</td>\n",
       "      <td>NaN</td>\n",
       "      <td>NaN</td>\n",
       "      <td>NaN</td>\n",
       "      <td>Крайние значения</td>\n",
       "    </tr>\n",
       "    <tr>\n",
       "      <th>предприниматель</th>\n",
       "      <td>0</td>\n",
       "      <td>0</td>\n",
       "      <td>NaN</td>\n",
       "      <td>NaN</td>\n",
       "      <td>NaN</td>\n",
       "      <td>Крайние значения</td>\n",
       "    </tr>\n",
       "    <tr>\n",
       "      <th>студент</th>\n",
       "      <td>0</td>\n",
       "      <td>0</td>\n",
       "      <td>NaN</td>\n",
       "      <td>NaN</td>\n",
       "      <td>NaN</td>\n",
       "      <td>Крайние значения</td>\n",
       "    </tr>\n",
       "    <tr>\n",
       "      <th rowspan=\"4\" valign=\"top\">выше среднего доходы</th>\n",
       "      <th>безработный</th>\n",
       "      <td>0</td>\n",
       "      <td>0</td>\n",
       "      <td>NaN</td>\n",
       "      <td>NaN</td>\n",
       "      <td>NaN</td>\n",
       "      <td>Крайние значения</td>\n",
       "    </tr>\n",
       "    <tr>\n",
       "      <th>в декрете</th>\n",
       "      <td>0</td>\n",
       "      <td>0</td>\n",
       "      <td>NaN</td>\n",
       "      <td>NaN</td>\n",
       "      <td>NaN</td>\n",
       "      <td>Крайние значения</td>\n",
       "    </tr>\n",
       "    <tr>\n",
       "      <th>предприниматель</th>\n",
       "      <td>0</td>\n",
       "      <td>0</td>\n",
       "      <td>NaN</td>\n",
       "      <td>NaN</td>\n",
       "      <td>NaN</td>\n",
       "      <td>Крайние значения</td>\n",
       "    </tr>\n",
       "    <tr>\n",
       "      <th>студент</th>\n",
       "      <td>0</td>\n",
       "      <td>0</td>\n",
       "      <td>NaN</td>\n",
       "      <td>NaN</td>\n",
       "      <td>NaN</td>\n",
       "      <td>Крайние значения</td>\n",
       "    </tr>\n",
       "    <tr>\n",
       "      <th rowspan=\"2\" valign=\"top\">высокие доходы</th>\n",
       "      <th>в декрете</th>\n",
       "      <td>0</td>\n",
       "      <td>0</td>\n",
       "      <td>NaN</td>\n",
       "      <td>NaN</td>\n",
       "      <td>NaN</td>\n",
       "      <td>Крайние значения</td>\n",
       "    </tr>\n",
       "    <tr>\n",
       "      <th>студент</th>\n",
       "      <td>0</td>\n",
       "      <td>0</td>\n",
       "      <td>NaN</td>\n",
       "      <td>NaN</td>\n",
       "      <td>NaN</td>\n",
       "      <td>Крайние значения</td>\n",
       "    </tr>\n",
       "  </tbody>\n",
       "</table>\n",
       "</div>"
      ],
      "text/plain": [
       "debt_group                            без просрочек  с просрочкой  avg_debt_%  \\\n",
       "total_income_group   income_type                                                \n",
       "низкие доходы        безработный                  0             1      100.00   \n",
       "                     в декрете                    0             1      100.00   \n",
       "выше среднего доходы сотрудник                 2213           257       10.40   \n",
       "средние доходы       сотрудник                 2943           323        9.89   \n",
       "низкие доходы        сотрудник                 2541           270        9.61   \n",
       "высокие доходы       сотрудник                 2326           211        8.32   \n",
       "низкие доходы        компаньон                  687            62        8.28   \n",
       "средние доходы       госслужащий                237            21        8.14   \n",
       "                     компаньон                  766            66        7.93   \n",
       "выше среднего доходы компаньон                 1527           131        7.90   \n",
       "низкие доходы        госслужащий                327            24        6.84   \n",
       "средние доходы       пенсионер                 1050            73        6.50   \n",
       "высокие доходы       компаньон                 1722           117        6.36   \n",
       "                     пенсионер                  559            36        6.05   \n",
       "выше среднего доходы пенсионер                  623            38        5.75   \n",
       "высокие доходы       госслужащий                370            19        4.88   \n",
       "выше среднего доходы госслужащий                436            22        4.80   \n",
       "низкие доходы        пенсионер                 1381            69        4.76   \n",
       "высокие доходы       предприниматель              2             0        0.00   \n",
       "низкие доходы        студент                      1             0        0.00   \n",
       "высокие доходы       безработный                  1             0        0.00   \n",
       "низкие доходы        предприниматель              0             0         NaN   \n",
       "средние доходы       безработный                  0             0         NaN   \n",
       "                     в декрете                    0             0         NaN   \n",
       "                     предприниматель              0             0         NaN   \n",
       "                     студент                      0             0         NaN   \n",
       "выше среднего доходы безработный                  0             0         NaN   \n",
       "                     в декрете                    0             0         NaN   \n",
       "                     предприниматель              0             0         NaN   \n",
       "                     студент                      0             0         NaN   \n",
       "высокие доходы       в декрете                    0             0         NaN   \n",
       "                     студент                      0             0         NaN   \n",
       "\n",
       "debt_group                            deviation  deviation_%  \\\n",
       "total_income_group   income_type                               \n",
       "низкие доходы        безработный         -91.88        -91.9   \n",
       "                     в декрете           -91.88        -91.9   \n",
       "выше среднего доходы сотрудник            -2.28        -21.9   \n",
       "средние доходы       сотрудник            -1.77        -17.9   \n",
       "низкие доходы        сотрудник            -1.49        -15.5   \n",
       "высокие доходы       сотрудник            -0.20         -2.4   \n",
       "низкие доходы        компаньон            -0.16         -1.9   \n",
       "средние доходы       госслужащий          -0.02         -0.2   \n",
       "                     компаньон             0.19          2.4   \n",
       "выше среднего доходы компаньон             0.22          2.8   \n",
       "низкие доходы        госслужащий           1.28         18.7   \n",
       "средние доходы       пенсионер             1.62         24.9   \n",
       "высокие доходы       компаньон             1.76         27.7   \n",
       "                     пенсионер             2.07         34.2   \n",
       "выше среднего доходы пенсионер             2.37         41.2   \n",
       "высокие доходы       госслужащий           3.24         66.4   \n",
       "выше среднего доходы госслужащий           3.32         69.2   \n",
       "низкие доходы        пенсионер             3.36         70.6   \n",
       "высокие доходы       предприниматель       8.12          inf   \n",
       "низкие доходы        студент               8.12          inf   \n",
       "высокие доходы       безработный           8.12          inf   \n",
       "низкие доходы        предприниматель        NaN          NaN   \n",
       "средние доходы       безработный            NaN          NaN   \n",
       "                     в декрете              NaN          NaN   \n",
       "                     предприниматель        NaN          NaN   \n",
       "                     студент                NaN          NaN   \n",
       "выше среднего доходы безработный            NaN          NaN   \n",
       "                     в декрете              NaN          NaN   \n",
       "                     предприниматель        NaN          NaN   \n",
       "                     студент                NaN          NaN   \n",
       "высокие доходы       в декрете              NaN          NaN   \n",
       "                     студент                NaN          NaN   \n",
       "\n",
       "debt_group                           category_special_case  \n",
       "total_income_group   income_type                            \n",
       "низкие доходы        безработный       Критический случай!  \n",
       "                     в декрете         Критический случай!  \n",
       "выше среднего доходы сотрудник        Проблемная ситуация.  \n",
       "средние доходы       сотрудник        Проблемная ситуация.  \n",
       "низкие доходы        сотрудник        Проблемная ситуация.  \n",
       "высокие доходы       сотрудник        Проблемная ситуация.  \n",
       "низкие доходы        компаньон        Проблемная ситуация.  \n",
       "средние доходы       госслужащий      Проблемная ситуация.  \n",
       "                     компаньон            Хорошая ситуация  \n",
       "выше среднего доходы компаньон            Хорошая ситуация  \n",
       "низкие доходы        госслужащий          Хорошая ситуация  \n",
       "средние доходы       пенсионер            Хорошая ситуация  \n",
       "высокие доходы       компаньон            Хорошая ситуация  \n",
       "                     пенсионер            Хорошая ситуация  \n",
       "выше среднего доходы пенсионер            Хорошая ситуация  \n",
       "высокие доходы       госслужащий          Хорошая ситуация  \n",
       "выше среднего доходы госслужащий          Хорошая ситуация  \n",
       "низкие доходы        пенсионер            Хорошая ситуация  \n",
       "высокие доходы       предприниматель      Хорошая ситуация  \n",
       "низкие доходы        студент              Хорошая ситуация  \n",
       "высокие доходы       безработный          Хорошая ситуация  \n",
       "низкие доходы        предприниматель      Крайние значения  \n",
       "средние доходы       безработный          Крайние значения  \n",
       "                     в декрете            Крайние значения  \n",
       "                     предприниматель      Крайние значения  \n",
       "                     студент              Крайние значения  \n",
       "выше среднего доходы безработный          Крайние значения  \n",
       "                     в декрете            Крайние значения  \n",
       "                     предприниматель      Крайние значения  \n",
       "                     студент              Крайние значения  \n",
       "высокие доходы       в декрете            Крайние значения  \n",
       "                     студент              Крайние значения  "
      ]
     },
     "metadata": {},
     "output_type": "display_data"
    },
    {
     "name": "stdout",
     "output_type": "stream",
     "text": [
      "Зависимость категорий total_income_group и education:\n"
     ]
    },
    {
     "data": {
      "text/html": [
       "<div>\n",
       "<style scoped>\n",
       "    .dataframe tbody tr th:only-of-type {\n",
       "        vertical-align: middle;\n",
       "    }\n",
       "\n",
       "    .dataframe tbody tr th {\n",
       "        vertical-align: top;\n",
       "    }\n",
       "\n",
       "    .dataframe thead th {\n",
       "        text-align: right;\n",
       "    }\n",
       "</style>\n",
       "<table border=\"1\" class=\"dataframe\">\n",
       "  <thead>\n",
       "    <tr style=\"text-align: right;\">\n",
       "      <th></th>\n",
       "      <th>debt_group</th>\n",
       "      <th>без просрочек</th>\n",
       "      <th>с просрочкой</th>\n",
       "      <th>avg_debt_%</th>\n",
       "      <th>deviation</th>\n",
       "      <th>deviation_%</th>\n",
       "      <th>category_special_case</th>\n",
       "    </tr>\n",
       "    <tr>\n",
       "      <th>total_income_group</th>\n",
       "      <th>education</th>\n",
       "      <th></th>\n",
       "      <th></th>\n",
       "      <th></th>\n",
       "      <th></th>\n",
       "      <th></th>\n",
       "      <th></th>\n",
       "    </tr>\n",
       "  </thead>\n",
       "  <tbody>\n",
       "    <tr>\n",
       "      <th>средние доходы</th>\n",
       "      <th>начальное</th>\n",
       "      <td>65</td>\n",
       "      <td>14</td>\n",
       "      <td>17.72</td>\n",
       "      <td>-9.60</td>\n",
       "      <td>-54.2</td>\n",
       "      <td>Критический случай!</td>\n",
       "    </tr>\n",
       "    <tr>\n",
       "      <th>высокие доходы</th>\n",
       "      <th>неоконченное высшее</th>\n",
       "      <td>205</td>\n",
       "      <td>29</td>\n",
       "      <td>12.39</td>\n",
       "      <td>-4.27</td>\n",
       "      <td>-34.5</td>\n",
       "      <td>Особая проблемная ситуация!</td>\n",
       "    </tr>\n",
       "    <tr>\n",
       "      <th rowspan=\"2\" valign=\"top\">выше среднего доходы</th>\n",
       "      <th>начальное</th>\n",
       "      <td>45</td>\n",
       "      <td>6</td>\n",
       "      <td>11.76</td>\n",
       "      <td>-3.64</td>\n",
       "      <td>-31.0</td>\n",
       "      <td>Проблемная ситуация.</td>\n",
       "    </tr>\n",
       "    <tr>\n",
       "      <th>среднее</th>\n",
       "      <td>3250</td>\n",
       "      <td>346</td>\n",
       "      <td>9.62</td>\n",
       "      <td>-1.50</td>\n",
       "      <td>-15.6</td>\n",
       "      <td>Проблемная ситуация.</td>\n",
       "    </tr>\n",
       "    <tr>\n",
       "      <th>средние доходы</th>\n",
       "      <th>среднее</th>\n",
       "      <td>3726</td>\n",
       "      <td>395</td>\n",
       "      <td>9.59</td>\n",
       "      <td>-1.47</td>\n",
       "      <td>-15.3</td>\n",
       "      <td>Проблемная ситуация.</td>\n",
       "    </tr>\n",
       "    <tr>\n",
       "      <th>высокие доходы</th>\n",
       "      <th>начальное</th>\n",
       "      <td>38</td>\n",
       "      <td>4</td>\n",
       "      <td>9.52</td>\n",
       "      <td>-1.40</td>\n",
       "      <td>-14.7</td>\n",
       "      <td>Проблемная ситуация.</td>\n",
       "    </tr>\n",
       "    <tr>\n",
       "      <th>низкие доходы</th>\n",
       "      <th>среднее</th>\n",
       "      <td>3976</td>\n",
       "      <td>365</td>\n",
       "      <td>8.41</td>\n",
       "      <td>-0.29</td>\n",
       "      <td>-3.4</td>\n",
       "      <td>Проблемная ситуация.</td>\n",
       "    </tr>\n",
       "    <tr>\n",
       "      <th>высокие доходы</th>\n",
       "      <th>среднее</th>\n",
       "      <td>2855</td>\n",
       "      <td>258</td>\n",
       "      <td>8.29</td>\n",
       "      <td>-0.17</td>\n",
       "      <td>-2.1</td>\n",
       "      <td>Проблемная ситуация.</td>\n",
       "    </tr>\n",
       "    <tr>\n",
       "      <th>средние доходы</th>\n",
       "      <th>неоконченное высшее</th>\n",
       "      <td>166</td>\n",
       "      <td>14</td>\n",
       "      <td>7.78</td>\n",
       "      <td>0.34</td>\n",
       "      <td>4.4</td>\n",
       "      <td>Хорошая ситуация</td>\n",
       "    </tr>\n",
       "    <tr>\n",
       "      <th>низкие доходы</th>\n",
       "      <th>неоконченное высшее</th>\n",
       "      <td>133</td>\n",
       "      <td>11</td>\n",
       "      <td>7.64</td>\n",
       "      <td>0.48</td>\n",
       "      <td>6.3</td>\n",
       "      <td>Хорошая ситуация</td>\n",
       "    </tr>\n",
       "    <tr>\n",
       "      <th>выше среднего доходы</th>\n",
       "      <th>неоконченное высшее</th>\n",
       "      <td>172</td>\n",
       "      <td>14</td>\n",
       "      <td>7.53</td>\n",
       "      <td>0.59</td>\n",
       "      <td>7.8</td>\n",
       "      <td>Хорошая ситуация</td>\n",
       "    </tr>\n",
       "    <tr>\n",
       "      <th>низкие доходы</th>\n",
       "      <th>начальное</th>\n",
       "      <td>103</td>\n",
       "      <td>7</td>\n",
       "      <td>6.36</td>\n",
       "      <td>1.76</td>\n",
       "      <td>27.7</td>\n",
       "      <td>Хорошая ситуация</td>\n",
       "    </tr>\n",
       "    <tr>\n",
       "      <th>выше среднего доходы</th>\n",
       "      <th>высшее</th>\n",
       "      <td>1332</td>\n",
       "      <td>82</td>\n",
       "      <td>5.80</td>\n",
       "      <td>2.32</td>\n",
       "      <td>40.0</td>\n",
       "      <td>Хорошая ситуация</td>\n",
       "    </tr>\n",
       "    <tr>\n",
       "      <th>низкие доходы</th>\n",
       "      <th>высшее</th>\n",
       "      <td>724</td>\n",
       "      <td>44</td>\n",
       "      <td>5.73</td>\n",
       "      <td>2.39</td>\n",
       "      <td>41.7</td>\n",
       "      <td>Хорошая ситуация</td>\n",
       "    </tr>\n",
       "    <tr>\n",
       "      <th>средние доходы</th>\n",
       "      <th>высшее</th>\n",
       "      <td>1037</td>\n",
       "      <td>60</td>\n",
       "      <td>5.47</td>\n",
       "      <td>2.65</td>\n",
       "      <td>48.4</td>\n",
       "      <td>Хорошая ситуация</td>\n",
       "    </tr>\n",
       "    <tr>\n",
       "      <th>высокие доходы</th>\n",
       "      <th>высшее</th>\n",
       "      <td>1879</td>\n",
       "      <td>92</td>\n",
       "      <td>4.67</td>\n",
       "      <td>3.45</td>\n",
       "      <td>73.9</td>\n",
       "      <td>Хорошая ситуация</td>\n",
       "    </tr>\n",
       "    <tr>\n",
       "      <th>средние доходы</th>\n",
       "      <th>ученая степень</th>\n",
       "      <td>2</td>\n",
       "      <td>0</td>\n",
       "      <td>0.00</td>\n",
       "      <td>8.12</td>\n",
       "      <td>inf</td>\n",
       "      <td>Хорошая ситуация</td>\n",
       "    </tr>\n",
       "    <tr>\n",
       "      <th>низкие доходы</th>\n",
       "      <th>ученая степень</th>\n",
       "      <td>1</td>\n",
       "      <td>0</td>\n",
       "      <td>0.00</td>\n",
       "      <td>8.12</td>\n",
       "      <td>inf</td>\n",
       "      <td>Хорошая ситуация</td>\n",
       "    </tr>\n",
       "    <tr>\n",
       "      <th>высокие доходы</th>\n",
       "      <th>ученая степень</th>\n",
       "      <td>3</td>\n",
       "      <td>0</td>\n",
       "      <td>0.00</td>\n",
       "      <td>8.12</td>\n",
       "      <td>inf</td>\n",
       "      <td>Хорошая ситуация</td>\n",
       "    </tr>\n",
       "    <tr>\n",
       "      <th>выше среднего доходы</th>\n",
       "      <th>ученая степень</th>\n",
       "      <td>0</td>\n",
       "      <td>0</td>\n",
       "      <td>NaN</td>\n",
       "      <td>NaN</td>\n",
       "      <td>NaN</td>\n",
       "      <td>Крайние значения</td>\n",
       "    </tr>\n",
       "  </tbody>\n",
       "</table>\n",
       "</div>"
      ],
      "text/plain": [
       "debt_group                                без просрочек  с просрочкой  \\\n",
       "total_income_group   education                                          \n",
       "средние доходы       начальное                       65            14   \n",
       "высокие доходы       неоконченное высшее            205            29   \n",
       "выше среднего доходы начальное                       45             6   \n",
       "                     среднее                       3250           346   \n",
       "средние доходы       среднее                       3726           395   \n",
       "высокие доходы       начальное                       38             4   \n",
       "низкие доходы        среднее                       3976           365   \n",
       "высокие доходы       среднее                       2855           258   \n",
       "средние доходы       неоконченное высшее            166            14   \n",
       "низкие доходы        неоконченное высшее            133            11   \n",
       "выше среднего доходы неоконченное высшее            172            14   \n",
       "низкие доходы        начальное                      103             7   \n",
       "выше среднего доходы высшее                        1332            82   \n",
       "низкие доходы        высшее                         724            44   \n",
       "средние доходы       высшее                        1037            60   \n",
       "высокие доходы       высшее                        1879            92   \n",
       "средние доходы       ученая степень                   2             0   \n",
       "низкие доходы        ученая степень                   1             0   \n",
       "высокие доходы       ученая степень                   3             0   \n",
       "выше среднего доходы ученая степень                   0             0   \n",
       "\n",
       "debt_group                                avg_debt_%  deviation  deviation_%  \\\n",
       "total_income_group   education                                                 \n",
       "средние доходы       начальное                 17.72      -9.60        -54.2   \n",
       "высокие доходы       неоконченное высшее       12.39      -4.27        -34.5   \n",
       "выше среднего доходы начальное                 11.76      -3.64        -31.0   \n",
       "                     среднее                    9.62      -1.50        -15.6   \n",
       "средние доходы       среднее                    9.59      -1.47        -15.3   \n",
       "высокие доходы       начальное                  9.52      -1.40        -14.7   \n",
       "низкие доходы        среднее                    8.41      -0.29         -3.4   \n",
       "высокие доходы       среднее                    8.29      -0.17         -2.1   \n",
       "средние доходы       неоконченное высшее        7.78       0.34          4.4   \n",
       "низкие доходы        неоконченное высшее        7.64       0.48          6.3   \n",
       "выше среднего доходы неоконченное высшее        7.53       0.59          7.8   \n",
       "низкие доходы        начальное                  6.36       1.76         27.7   \n",
       "выше среднего доходы высшее                     5.80       2.32         40.0   \n",
       "низкие доходы        высшее                     5.73       2.39         41.7   \n",
       "средние доходы       высшее                     5.47       2.65         48.4   \n",
       "высокие доходы       высшее                     4.67       3.45         73.9   \n",
       "средние доходы       ученая степень             0.00       8.12          inf   \n",
       "низкие доходы        ученая степень             0.00       8.12          inf   \n",
       "высокие доходы       ученая степень             0.00       8.12          inf   \n",
       "выше среднего доходы ученая степень              NaN        NaN          NaN   \n",
       "\n",
       "debt_group                                      category_special_case  \n",
       "total_income_group   education                                         \n",
       "средние доходы       начальное                    Критический случай!  \n",
       "высокие доходы       неоконченное высшее  Особая проблемная ситуация!  \n",
       "выше среднего доходы начальное                   Проблемная ситуация.  \n",
       "                     среднее                     Проблемная ситуация.  \n",
       "средние доходы       среднее                     Проблемная ситуация.  \n",
       "высокие доходы       начальное                   Проблемная ситуация.  \n",
       "низкие доходы        среднее                     Проблемная ситуация.  \n",
       "высокие доходы       среднее                     Проблемная ситуация.  \n",
       "средние доходы       неоконченное высшее             Хорошая ситуация  \n",
       "низкие доходы        неоконченное высшее             Хорошая ситуация  \n",
       "выше среднего доходы неоконченное высшее             Хорошая ситуация  \n",
       "низкие доходы        начальное                       Хорошая ситуация  \n",
       "выше среднего доходы высшее                          Хорошая ситуация  \n",
       "низкие доходы        высшее                          Хорошая ситуация  \n",
       "средние доходы       высшее                          Хорошая ситуация  \n",
       "высокие доходы       высшее                          Хорошая ситуация  \n",
       "средние доходы       ученая степень                  Хорошая ситуация  \n",
       "низкие доходы        ученая степень                  Хорошая ситуация  \n",
       "высокие доходы       ученая степень                  Хорошая ситуация  \n",
       "выше среднего доходы ученая степень                  Крайние значения  "
      ]
     },
     "metadata": {},
     "output_type": "display_data"
    },
    {
     "name": "stdout",
     "output_type": "stream",
     "text": [
      "Зависимость категорий total_income_group и purpose_lemma:\n"
     ]
    },
    {
     "data": {
      "text/html": [
       "<div>\n",
       "<style scoped>\n",
       "    .dataframe tbody tr th:only-of-type {\n",
       "        vertical-align: middle;\n",
       "    }\n",
       "\n",
       "    .dataframe tbody tr th {\n",
       "        vertical-align: top;\n",
       "    }\n",
       "\n",
       "    .dataframe thead th {\n",
       "        text-align: right;\n",
       "    }\n",
       "</style>\n",
       "<table border=\"1\" class=\"dataframe\">\n",
       "  <thead>\n",
       "    <tr style=\"text-align: right;\">\n",
       "      <th></th>\n",
       "      <th>debt_group</th>\n",
       "      <th>без просрочек</th>\n",
       "      <th>с просрочкой</th>\n",
       "      <th>avg_debt_%</th>\n",
       "      <th>deviation</th>\n",
       "      <th>deviation_%</th>\n",
       "      <th>category_special_case</th>\n",
       "    </tr>\n",
       "    <tr>\n",
       "      <th>total_income_group</th>\n",
       "      <th>purpose_lemma</th>\n",
       "      <th></th>\n",
       "      <th></th>\n",
       "      <th></th>\n",
       "      <th></th>\n",
       "      <th></th>\n",
       "      <th></th>\n",
       "    </tr>\n",
       "  </thead>\n",
       "  <tbody>\n",
       "    <tr>\n",
       "      <th>средние доходы</th>\n",
       "      <th>на образование</th>\n",
       "      <td>914</td>\n",
       "      <td>110</td>\n",
       "      <td>10.74</td>\n",
       "      <td>-2.62</td>\n",
       "      <td>-24.4</td>\n",
       "      <td>Проблемная ситуация.</td>\n",
       "    </tr>\n",
       "    <tr>\n",
       "      <th>выше среднего доходы</th>\n",
       "      <th>на автомобиль</th>\n",
       "      <td>913</td>\n",
       "      <td>105</td>\n",
       "      <td>10.31</td>\n",
       "      <td>-2.19</td>\n",
       "      <td>-21.2</td>\n",
       "      <td>Проблемная ситуация.</td>\n",
       "    </tr>\n",
       "    <tr>\n",
       "      <th>низкие доходы</th>\n",
       "      <th>на автомобиль</th>\n",
       "      <td>943</td>\n",
       "      <td>101</td>\n",
       "      <td>9.67</td>\n",
       "      <td>-1.55</td>\n",
       "      <td>-16.0</td>\n",
       "      <td>Проблемная ситуация.</td>\n",
       "    </tr>\n",
       "    <tr>\n",
       "      <th>средние доходы</th>\n",
       "      <th>на свадьбу</th>\n",
       "      <td>532</td>\n",
       "      <td>56</td>\n",
       "      <td>9.52</td>\n",
       "      <td>-1.40</td>\n",
       "      <td>-14.7</td>\n",
       "      <td>Проблемная ситуация.</td>\n",
       "    </tr>\n",
       "    <tr>\n",
       "      <th>выше среднего доходы</th>\n",
       "      <th>на образование</th>\n",
       "      <td>909</td>\n",
       "      <td>94</td>\n",
       "      <td>9.37</td>\n",
       "      <td>-1.25</td>\n",
       "      <td>-13.3</td>\n",
       "      <td>Проблемная ситуация.</td>\n",
       "    </tr>\n",
       "    <tr>\n",
       "      <th>средние доходы</th>\n",
       "      <th>на автомобиль</th>\n",
       "      <td>1051</td>\n",
       "      <td>104</td>\n",
       "      <td>9.00</td>\n",
       "      <td>-0.88</td>\n",
       "      <td>-9.8</td>\n",
       "      <td>Проблемная ситуация.</td>\n",
       "    </tr>\n",
       "    <tr>\n",
       "      <th rowspan=\"2\" valign=\"top\">низкие доходы</th>\n",
       "      <th>на свадьбу</th>\n",
       "      <td>548</td>\n",
       "      <td>54</td>\n",
       "      <td>8.97</td>\n",
       "      <td>-0.85</td>\n",
       "      <td>-9.5</td>\n",
       "      <td>Проблемная ситуация.</td>\n",
       "    </tr>\n",
       "    <tr>\n",
       "      <th>на образование</th>\n",
       "      <td>951</td>\n",
       "      <td>91</td>\n",
       "      <td>8.73</td>\n",
       "      <td>-0.61</td>\n",
       "      <td>-7.0</td>\n",
       "      <td>Проблемная ситуация.</td>\n",
       "    </tr>\n",
       "    <tr>\n",
       "      <th>высокие доходы</th>\n",
       "      <th>на автомобиль</th>\n",
       "      <td>995</td>\n",
       "      <td>93</td>\n",
       "      <td>8.55</td>\n",
       "      <td>-0.43</td>\n",
       "      <td>-5.0</td>\n",
       "      <td>Проблемная ситуация.</td>\n",
       "    </tr>\n",
       "    <tr>\n",
       "      <th>выше среднего доходы</th>\n",
       "      <th>на свадьбу</th>\n",
       "      <td>511</td>\n",
       "      <td>47</td>\n",
       "      <td>8.42</td>\n",
       "      <td>-0.30</td>\n",
       "      <td>-3.6</td>\n",
       "      <td>Проблемная ситуация.</td>\n",
       "    </tr>\n",
       "    <tr>\n",
       "      <th>высокие доходы</th>\n",
       "      <th>на образование</th>\n",
       "      <td>869</td>\n",
       "      <td>75</td>\n",
       "      <td>7.94</td>\n",
       "      <td>0.18</td>\n",
       "      <td>2.3</td>\n",
       "      <td>Хорошая ситуация</td>\n",
       "    </tr>\n",
       "    <tr>\n",
       "      <th>средние доходы</th>\n",
       "      <th>на недвижимость</th>\n",
       "      <td>2499</td>\n",
       "      <td>213</td>\n",
       "      <td>7.85</td>\n",
       "      <td>0.27</td>\n",
       "      <td>3.4</td>\n",
       "      <td>Хорошая ситуация</td>\n",
       "    </tr>\n",
       "    <tr>\n",
       "      <th>выше среднего доходы</th>\n",
       "      <th>на недвижимость</th>\n",
       "      <td>2466</td>\n",
       "      <td>202</td>\n",
       "      <td>7.57</td>\n",
       "      <td>0.55</td>\n",
       "      <td>7.3</td>\n",
       "      <td>Хорошая ситуация</td>\n",
       "    </tr>\n",
       "    <tr>\n",
       "      <th>низкие доходы</th>\n",
       "      <th>на недвижимость</th>\n",
       "      <td>2495</td>\n",
       "      <td>181</td>\n",
       "      <td>6.76</td>\n",
       "      <td>1.36</td>\n",
       "      <td>20.1</td>\n",
       "      <td>Хорошая ситуация</td>\n",
       "    </tr>\n",
       "    <tr>\n",
       "      <th rowspan=\"2\" valign=\"top\">высокие доходы</th>\n",
       "      <th>на недвижимость</th>\n",
       "      <td>2569</td>\n",
       "      <td>186</td>\n",
       "      <td>6.75</td>\n",
       "      <td>1.37</td>\n",
       "      <td>20.3</td>\n",
       "      <td>Хорошая ситуация</td>\n",
       "    </tr>\n",
       "    <tr>\n",
       "      <th>на свадьбу</th>\n",
       "      <td>547</td>\n",
       "      <td>29</td>\n",
       "      <td>5.03</td>\n",
       "      <td>3.09</td>\n",
       "      <td>61.4</td>\n",
       "      <td>Хорошая ситуация</td>\n",
       "    </tr>\n",
       "  </tbody>\n",
       "</table>\n",
       "</div>"
      ],
      "text/plain": [
       "debt_group                            без просрочек  с просрочкой  avg_debt_%  \\\n",
       "total_income_group   purpose_lemma                                              \n",
       "средние доходы       на образование             914           110       10.74   \n",
       "выше среднего доходы на автомобиль              913           105       10.31   \n",
       "низкие доходы        на автомобиль              943           101        9.67   \n",
       "средние доходы       на свадьбу                 532            56        9.52   \n",
       "выше среднего доходы на образование             909            94        9.37   \n",
       "средние доходы       на автомобиль             1051           104        9.00   \n",
       "низкие доходы        на свадьбу                 548            54        8.97   \n",
       "                     на образование             951            91        8.73   \n",
       "высокие доходы       на автомобиль              995            93        8.55   \n",
       "выше среднего доходы на свадьбу                 511            47        8.42   \n",
       "высокие доходы       на образование             869            75        7.94   \n",
       "средние доходы       на недвижимость           2499           213        7.85   \n",
       "выше среднего доходы на недвижимость           2466           202        7.57   \n",
       "низкие доходы        на недвижимость           2495           181        6.76   \n",
       "высокие доходы       на недвижимость           2569           186        6.75   \n",
       "                     на свадьбу                 547            29        5.03   \n",
       "\n",
       "debt_group                            deviation  deviation_%  \\\n",
       "total_income_group   purpose_lemma                             \n",
       "средние доходы       на образование       -2.62        -24.4   \n",
       "выше среднего доходы на автомобиль        -2.19        -21.2   \n",
       "низкие доходы        на автомобиль        -1.55        -16.0   \n",
       "средние доходы       на свадьбу           -1.40        -14.7   \n",
       "выше среднего доходы на образование       -1.25        -13.3   \n",
       "средние доходы       на автомобиль        -0.88         -9.8   \n",
       "низкие доходы        на свадьбу           -0.85         -9.5   \n",
       "                     на образование       -0.61         -7.0   \n",
       "высокие доходы       на автомобиль        -0.43         -5.0   \n",
       "выше среднего доходы на свадьбу           -0.30         -3.6   \n",
       "высокие доходы       на образование        0.18          2.3   \n",
       "средние доходы       на недвижимость       0.27          3.4   \n",
       "выше среднего доходы на недвижимость       0.55          7.3   \n",
       "низкие доходы        на недвижимость       1.36         20.1   \n",
       "высокие доходы       на недвижимость       1.37         20.3   \n",
       "                     на свадьбу            3.09         61.4   \n",
       "\n",
       "debt_group                           category_special_case  \n",
       "total_income_group   purpose_lemma                          \n",
       "средние доходы       на образование   Проблемная ситуация.  \n",
       "выше среднего доходы на автомобиль    Проблемная ситуация.  \n",
       "низкие доходы        на автомобиль    Проблемная ситуация.  \n",
       "средние доходы       на свадьбу       Проблемная ситуация.  \n",
       "выше среднего доходы на образование   Проблемная ситуация.  \n",
       "средние доходы       на автомобиль    Проблемная ситуация.  \n",
       "низкие доходы        на свадьбу       Проблемная ситуация.  \n",
       "                     на образование   Проблемная ситуация.  \n",
       "высокие доходы       на автомобиль    Проблемная ситуация.  \n",
       "выше среднего доходы на свадьбу       Проблемная ситуация.  \n",
       "высокие доходы       на образование       Хорошая ситуация  \n",
       "средние доходы       на недвижимость      Хорошая ситуация  \n",
       "выше среднего доходы на недвижимость      Хорошая ситуация  \n",
       "низкие доходы        на недвижимость      Хорошая ситуация  \n",
       "высокие доходы       на недвижимость      Хорошая ситуация  \n",
       "                     на свадьбу           Хорошая ситуация  "
      ]
     },
     "metadata": {},
     "output_type": "display_data"
    }
   ],
   "source": [
    "#применим функцию для  комбинации основной категории с одной дополнительной\n",
    "create_combination('total_income_group', list_addiction_with_total_income_group)"
   ]
  },
  {
   "cell_type": "markdown",
   "metadata": {},
   "source": [
    "Стоит отметить, что комбинация \"величины доходов\" с одной дополнительной зависимостью показывает, что почти нет критических отклонений (кроме одной) по сравнению с другими основными комбинациями. Есть только одно критическое отклонение - при средних доходах.\n",
    "\n",
    "Крайние положительные и отрицательные ситуации есть в комбинациях с \"рабочим положением\", с \"образованеим\"."
   ]
  },
  {
   "cell_type": "code",
   "execution_count": 60,
   "metadata": {
    "scrolled": false
   },
   "outputs": [
    {
     "name": "stdout",
     "output_type": "stream",
     "text": [
      "Зависимость категорий total_income_group с gender и education:\n"
     ]
    },
    {
     "data": {
      "text/html": [
       "<div>\n",
       "<style scoped>\n",
       "    .dataframe tbody tr th:only-of-type {\n",
       "        vertical-align: middle;\n",
       "    }\n",
       "\n",
       "    .dataframe tbody tr th {\n",
       "        vertical-align: top;\n",
       "    }\n",
       "\n",
       "    .dataframe thead th {\n",
       "        text-align: right;\n",
       "    }\n",
       "</style>\n",
       "<table border=\"1\" class=\"dataframe\">\n",
       "  <thead>\n",
       "    <tr style=\"text-align: right;\">\n",
       "      <th></th>\n",
       "      <th></th>\n",
       "      <th>debt_group</th>\n",
       "      <th>без просрочек</th>\n",
       "      <th>с просрочкой</th>\n",
       "      <th>avg_debt_%</th>\n",
       "      <th>deviation</th>\n",
       "      <th>deviation_%</th>\n",
       "      <th>category_special_case</th>\n",
       "    </tr>\n",
       "    <tr>\n",
       "      <th>total_income_group</th>\n",
       "      <th>gender</th>\n",
       "      <th>education</th>\n",
       "      <th></th>\n",
       "      <th></th>\n",
       "      <th></th>\n",
       "      <th></th>\n",
       "      <th></th>\n",
       "      <th></th>\n",
       "    </tr>\n",
       "  </thead>\n",
       "  <tbody>\n",
       "    <tr>\n",
       "      <th rowspan=\"2\" valign=\"top\">средние доходы</th>\n",
       "      <th>m</th>\n",
       "      <th>начальное</th>\n",
       "      <td>24</td>\n",
       "      <td>6</td>\n",
       "      <td>20.00</td>\n",
       "      <td>-11.88</td>\n",
       "      <td>-59.4</td>\n",
       "      <td>Критический случай!</td>\n",
       "    </tr>\n",
       "    <tr>\n",
       "      <th>f</th>\n",
       "      <th>начальное</th>\n",
       "      <td>41</td>\n",
       "      <td>8</td>\n",
       "      <td>16.33</td>\n",
       "      <td>-8.21</td>\n",
       "      <td>-50.3</td>\n",
       "      <td>Критический случай!</td>\n",
       "    </tr>\n",
       "    <tr>\n",
       "      <th>выше среднего доходы</th>\n",
       "      <th>m</th>\n",
       "      <th>начальное</th>\n",
       "      <td>24</td>\n",
       "      <td>4</td>\n",
       "      <td>14.29</td>\n",
       "      <td>-6.17</td>\n",
       "      <td>-43.2</td>\n",
       "      <td>Особая проблемная ситуация!</td>\n",
       "    </tr>\n",
       "    <tr>\n",
       "      <th>высокие доходы</th>\n",
       "      <th>f</th>\n",
       "      <th>неоконченное высшее</th>\n",
       "      <td>96</td>\n",
       "      <td>14</td>\n",
       "      <td>12.73</td>\n",
       "      <td>-4.61</td>\n",
       "      <td>-36.2</td>\n",
       "      <td>Особая проблемная ситуация!</td>\n",
       "    </tr>\n",
       "    <tr>\n",
       "      <th>низкие доходы</th>\n",
       "      <th>m</th>\n",
       "      <th>среднее</th>\n",
       "      <td>815</td>\n",
       "      <td>118</td>\n",
       "      <td>12.65</td>\n",
       "      <td>-4.53</td>\n",
       "      <td>-35.8</td>\n",
       "      <td>Особая проблемная ситуация!</td>\n",
       "    </tr>\n",
       "    <tr>\n",
       "      <th>выше среднего доходы</th>\n",
       "      <th>m</th>\n",
       "      <th>среднее</th>\n",
       "      <td>1264</td>\n",
       "      <td>178</td>\n",
       "      <td>12.34</td>\n",
       "      <td>-4.22</td>\n",
       "      <td>-34.2</td>\n",
       "      <td>Особая проблемная ситуация!</td>\n",
       "    </tr>\n",
       "    <tr>\n",
       "      <th rowspan=\"2\" valign=\"top\">высокие доходы</th>\n",
       "      <th>m</th>\n",
       "      <th>неоконченное высшее</th>\n",
       "      <td>108</td>\n",
       "      <td>15</td>\n",
       "      <td>12.20</td>\n",
       "      <td>-4.08</td>\n",
       "      <td>-33.4</td>\n",
       "      <td>Особая проблемная ситуация!</td>\n",
       "    </tr>\n",
       "    <tr>\n",
       "      <th>f</th>\n",
       "      <th>начальное</th>\n",
       "      <td>15</td>\n",
       "      <td>2</td>\n",
       "      <td>11.76</td>\n",
       "      <td>-3.64</td>\n",
       "      <td>-31.0</td>\n",
       "      <td>Проблемная ситуация.</td>\n",
       "    </tr>\n",
       "    <tr>\n",
       "      <th>средние доходы</th>\n",
       "      <th>m</th>\n",
       "      <th>среднее</th>\n",
       "      <td>1148</td>\n",
       "      <td>152</td>\n",
       "      <td>11.69</td>\n",
       "      <td>-3.57</td>\n",
       "      <td>-30.5</td>\n",
       "      <td>Проблемная ситуация.</td>\n",
       "    </tr>\n",
       "    <tr>\n",
       "      <th>низкие доходы</th>\n",
       "      <th>m</th>\n",
       "      <th>высшее</th>\n",
       "      <td>124</td>\n",
       "      <td>14</td>\n",
       "      <td>10.14</td>\n",
       "      <td>-2.02</td>\n",
       "      <td>-19.9</td>\n",
       "      <td>Проблемная ситуация.</td>\n",
       "    </tr>\n",
       "    <tr>\n",
       "      <th>высокие доходы</th>\n",
       "      <th>m</th>\n",
       "      <th>среднее</th>\n",
       "      <td>1341</td>\n",
       "      <td>146</td>\n",
       "      <td>9.82</td>\n",
       "      <td>-1.70</td>\n",
       "      <td>-17.3</td>\n",
       "      <td>Проблемная ситуация.</td>\n",
       "    </tr>\n",
       "    <tr>\n",
       "      <th>низкие доходы</th>\n",
       "      <th>m</th>\n",
       "      <th>неоконченное высшее</th>\n",
       "      <td>31</td>\n",
       "      <td>3</td>\n",
       "      <td>8.82</td>\n",
       "      <td>-0.70</td>\n",
       "      <td>-7.9</td>\n",
       "      <td>Проблемная ситуация.</td>\n",
       "    </tr>\n",
       "    <tr>\n",
       "      <th>средние доходы</th>\n",
       "      <th>f</th>\n",
       "      <th>неоконченное высшее</th>\n",
       "      <td>114</td>\n",
       "      <td>11</td>\n",
       "      <td>8.80</td>\n",
       "      <td>-0.68</td>\n",
       "      <td>-7.7</td>\n",
       "      <td>Проблемная ситуация.</td>\n",
       "    </tr>\n",
       "    <tr>\n",
       "      <th>выше среднего доходы</th>\n",
       "      <th>f</th>\n",
       "      <th>начальное</th>\n",
       "      <td>21</td>\n",
       "      <td>2</td>\n",
       "      <td>8.70</td>\n",
       "      <td>-0.58</td>\n",
       "      <td>-6.7</td>\n",
       "      <td>Проблемная ситуация.</td>\n",
       "    </tr>\n",
       "    <tr>\n",
       "      <th>средние доходы</th>\n",
       "      <th>f</th>\n",
       "      <th>среднее</th>\n",
       "      <td>2578</td>\n",
       "      <td>243</td>\n",
       "      <td>8.61</td>\n",
       "      <td>-0.49</td>\n",
       "      <td>-5.7</td>\n",
       "      <td>Проблемная ситуация.</td>\n",
       "    </tr>\n",
       "    <tr>\n",
       "      <th>выше среднего доходы</th>\n",
       "      <th>m</th>\n",
       "      <th>неоконченное высшее</th>\n",
       "      <td>65</td>\n",
       "      <td>6</td>\n",
       "      <td>8.45</td>\n",
       "      <td>-0.33</td>\n",
       "      <td>-3.9</td>\n",
       "      <td>Проблемная ситуация.</td>\n",
       "    </tr>\n",
       "    <tr>\n",
       "      <th>низкие доходы</th>\n",
       "      <th>m</th>\n",
       "      <th>начальное</th>\n",
       "      <td>33</td>\n",
       "      <td>3</td>\n",
       "      <td>8.33</td>\n",
       "      <td>-0.21</td>\n",
       "      <td>-2.5</td>\n",
       "      <td>Проблемная ситуация.</td>\n",
       "    </tr>\n",
       "    <tr>\n",
       "      <th>выше среднего доходы</th>\n",
       "      <th>m</th>\n",
       "      <th>высшее</th>\n",
       "      <td>400</td>\n",
       "      <td>36</td>\n",
       "      <td>8.26</td>\n",
       "      <td>-0.14</td>\n",
       "      <td>-1.7</td>\n",
       "      <td>Проблемная ситуация.</td>\n",
       "    </tr>\n",
       "    <tr>\n",
       "      <th>высокие доходы</th>\n",
       "      <th>m</th>\n",
       "      <th>начальное</th>\n",
       "      <td>23</td>\n",
       "      <td>2</td>\n",
       "      <td>8.00</td>\n",
       "      <td>0.12</td>\n",
       "      <td>1.5</td>\n",
       "      <td>Хорошая ситуация</td>\n",
       "    </tr>\n",
       "    <tr>\n",
       "      <th>выше среднего доходы</th>\n",
       "      <th>f</th>\n",
       "      <th>среднее</th>\n",
       "      <td>1986</td>\n",
       "      <td>168</td>\n",
       "      <td>7.80</td>\n",
       "      <td>0.32</td>\n",
       "      <td>4.1</td>\n",
       "      <td>Хорошая ситуация</td>\n",
       "    </tr>\n",
       "    <tr>\n",
       "      <th rowspan=\"2\" valign=\"top\">низкие доходы</th>\n",
       "      <th rowspan=\"2\" valign=\"top\">f</th>\n",
       "      <th>неоконченное высшее</th>\n",
       "      <td>102</td>\n",
       "      <td>8</td>\n",
       "      <td>7.27</td>\n",
       "      <td>0.85</td>\n",
       "      <td>11.7</td>\n",
       "      <td>Хорошая ситуация</td>\n",
       "    </tr>\n",
       "    <tr>\n",
       "      <th>среднее</th>\n",
       "      <td>3161</td>\n",
       "      <td>247</td>\n",
       "      <td>7.25</td>\n",
       "      <td>0.87</td>\n",
       "      <td>12.0</td>\n",
       "      <td>Хорошая ситуация</td>\n",
       "    </tr>\n",
       "    <tr>\n",
       "      <th>выше среднего доходы</th>\n",
       "      <th>f</th>\n",
       "      <th>неоконченное высшее</th>\n",
       "      <td>107</td>\n",
       "      <td>8</td>\n",
       "      <td>6.96</td>\n",
       "      <td>1.16</td>\n",
       "      <td>16.7</td>\n",
       "      <td>Хорошая ситуация</td>\n",
       "    </tr>\n",
       "    <tr>\n",
       "      <th>высокие доходы</th>\n",
       "      <th>f</th>\n",
       "      <th>среднее</th>\n",
       "      <td>1514</td>\n",
       "      <td>112</td>\n",
       "      <td>6.89</td>\n",
       "      <td>1.23</td>\n",
       "      <td>17.9</td>\n",
       "      <td>Хорошая ситуация</td>\n",
       "    </tr>\n",
       "    <tr>\n",
       "      <th rowspan=\"2\" valign=\"top\">средние доходы</th>\n",
       "      <th rowspan=\"2\" valign=\"top\">m</th>\n",
       "      <th>высшее</th>\n",
       "      <td>284</td>\n",
       "      <td>18</td>\n",
       "      <td>5.96</td>\n",
       "      <td>2.16</td>\n",
       "      <td>36.2</td>\n",
       "      <td>Хорошая ситуация</td>\n",
       "    </tr>\n",
       "    <tr>\n",
       "      <th>неоконченное высшее</th>\n",
       "      <td>52</td>\n",
       "      <td>3</td>\n",
       "      <td>5.45</td>\n",
       "      <td>2.67</td>\n",
       "      <td>49.0</td>\n",
       "      <td>Хорошая ситуация</td>\n",
       "    </tr>\n",
       "    <tr>\n",
       "      <th>низкие доходы</th>\n",
       "      <th>f</th>\n",
       "      <th>начальное</th>\n",
       "      <td>70</td>\n",
       "      <td>4</td>\n",
       "      <td>5.41</td>\n",
       "      <td>2.71</td>\n",
       "      <td>50.1</td>\n",
       "      <td>Хорошая ситуация</td>\n",
       "    </tr>\n",
       "    <tr>\n",
       "      <th>средние доходы</th>\n",
       "      <th>f</th>\n",
       "      <th>высшее</th>\n",
       "      <td>753</td>\n",
       "      <td>42</td>\n",
       "      <td>5.28</td>\n",
       "      <td>2.84</td>\n",
       "      <td>53.8</td>\n",
       "      <td>Хорошая ситуация</td>\n",
       "    </tr>\n",
       "    <tr>\n",
       "      <th>высокие доходы</th>\n",
       "      <th>m</th>\n",
       "      <th>высшее</th>\n",
       "      <td>792</td>\n",
       "      <td>43</td>\n",
       "      <td>5.15</td>\n",
       "      <td>2.97</td>\n",
       "      <td>57.7</td>\n",
       "      <td>Хорошая ситуация</td>\n",
       "    </tr>\n",
       "    <tr>\n",
       "      <th>низкие доходы</th>\n",
       "      <th>f</th>\n",
       "      <th>высшее</th>\n",
       "      <td>600</td>\n",
       "      <td>30</td>\n",
       "      <td>4.76</td>\n",
       "      <td>3.36</td>\n",
       "      <td>70.6</td>\n",
       "      <td>Хорошая ситуация</td>\n",
       "    </tr>\n",
       "    <tr>\n",
       "      <th>выше среднего доходы</th>\n",
       "      <th>f</th>\n",
       "      <th>высшее</th>\n",
       "      <td>932</td>\n",
       "      <td>46</td>\n",
       "      <td>4.70</td>\n",
       "      <td>3.42</td>\n",
       "      <td>72.8</td>\n",
       "      <td>Хорошая ситуация</td>\n",
       "    </tr>\n",
       "    <tr>\n",
       "      <th>высокие доходы</th>\n",
       "      <th>f</th>\n",
       "      <th>высшее</th>\n",
       "      <td>1087</td>\n",
       "      <td>49</td>\n",
       "      <td>4.31</td>\n",
       "      <td>3.81</td>\n",
       "      <td>88.4</td>\n",
       "      <td>Хорошая ситуация</td>\n",
       "    </tr>\n",
       "    <tr>\n",
       "      <th>средние доходы</th>\n",
       "      <th>m</th>\n",
       "      <th>ученая степень</th>\n",
       "      <td>1</td>\n",
       "      <td>0</td>\n",
       "      <td>0.00</td>\n",
       "      <td>8.12</td>\n",
       "      <td>inf</td>\n",
       "      <td>Хорошая ситуация</td>\n",
       "    </tr>\n",
       "    <tr>\n",
       "      <th>высокие доходы</th>\n",
       "      <th>m</th>\n",
       "      <th>ученая степень</th>\n",
       "      <td>2</td>\n",
       "      <td>0</td>\n",
       "      <td>0.00</td>\n",
       "      <td>8.12</td>\n",
       "      <td>inf</td>\n",
       "      <td>Хорошая ситуация</td>\n",
       "    </tr>\n",
       "    <tr>\n",
       "      <th>средние доходы</th>\n",
       "      <th>f</th>\n",
       "      <th>ученая степень</th>\n",
       "      <td>1</td>\n",
       "      <td>0</td>\n",
       "      <td>0.00</td>\n",
       "      <td>8.12</td>\n",
       "      <td>inf</td>\n",
       "      <td>Хорошая ситуация</td>\n",
       "    </tr>\n",
       "    <tr>\n",
       "      <th>низкие доходы</th>\n",
       "      <th>m</th>\n",
       "      <th>ученая степень</th>\n",
       "      <td>1</td>\n",
       "      <td>0</td>\n",
       "      <td>0.00</td>\n",
       "      <td>8.12</td>\n",
       "      <td>inf</td>\n",
       "      <td>Хорошая ситуация</td>\n",
       "    </tr>\n",
       "    <tr>\n",
       "      <th rowspan=\"2\" valign=\"top\">высокие доходы</th>\n",
       "      <th>f</th>\n",
       "      <th>ученая степень</th>\n",
       "      <td>1</td>\n",
       "      <td>0</td>\n",
       "      <td>0.00</td>\n",
       "      <td>8.12</td>\n",
       "      <td>inf</td>\n",
       "      <td>Хорошая ситуация</td>\n",
       "    </tr>\n",
       "    <tr>\n",
       "      <th>xna</th>\n",
       "      <th>неоконченное высшее</th>\n",
       "      <td>1</td>\n",
       "      <td>0</td>\n",
       "      <td>0.00</td>\n",
       "      <td>8.12</td>\n",
       "      <td>inf</td>\n",
       "      <td>Хорошая ситуация</td>\n",
       "    </tr>\n",
       "    <tr>\n",
       "      <th rowspan=\"6\" valign=\"top\">низкие доходы</th>\n",
       "      <th>f</th>\n",
       "      <th>ученая степень</th>\n",
       "      <td>0</td>\n",
       "      <td>0</td>\n",
       "      <td>NaN</td>\n",
       "      <td>NaN</td>\n",
       "      <td>NaN</td>\n",
       "      <td>Крайние значения</td>\n",
       "    </tr>\n",
       "    <tr>\n",
       "      <th rowspan=\"5\" valign=\"top\">xna</th>\n",
       "      <th>высшее</th>\n",
       "      <td>0</td>\n",
       "      <td>0</td>\n",
       "      <td>NaN</td>\n",
       "      <td>NaN</td>\n",
       "      <td>NaN</td>\n",
       "      <td>Крайние значения</td>\n",
       "    </tr>\n",
       "    <tr>\n",
       "      <th>начальное</th>\n",
       "      <td>0</td>\n",
       "      <td>0</td>\n",
       "      <td>NaN</td>\n",
       "      <td>NaN</td>\n",
       "      <td>NaN</td>\n",
       "      <td>Крайние значения</td>\n",
       "    </tr>\n",
       "    <tr>\n",
       "      <th>неоконченное высшее</th>\n",
       "      <td>0</td>\n",
       "      <td>0</td>\n",
       "      <td>NaN</td>\n",
       "      <td>NaN</td>\n",
       "      <td>NaN</td>\n",
       "      <td>Крайние значения</td>\n",
       "    </tr>\n",
       "    <tr>\n",
       "      <th>среднее</th>\n",
       "      <td>0</td>\n",
       "      <td>0</td>\n",
       "      <td>NaN</td>\n",
       "      <td>NaN</td>\n",
       "      <td>NaN</td>\n",
       "      <td>Крайние значения</td>\n",
       "    </tr>\n",
       "    <tr>\n",
       "      <th>ученая степень</th>\n",
       "      <td>0</td>\n",
       "      <td>0</td>\n",
       "      <td>NaN</td>\n",
       "      <td>NaN</td>\n",
       "      <td>NaN</td>\n",
       "      <td>Крайние значения</td>\n",
       "    </tr>\n",
       "    <tr>\n",
       "      <th rowspan=\"5\" valign=\"top\">средние доходы</th>\n",
       "      <th rowspan=\"5\" valign=\"top\">xna</th>\n",
       "      <th>высшее</th>\n",
       "      <td>0</td>\n",
       "      <td>0</td>\n",
       "      <td>NaN</td>\n",
       "      <td>NaN</td>\n",
       "      <td>NaN</td>\n",
       "      <td>Крайние значения</td>\n",
       "    </tr>\n",
       "    <tr>\n",
       "      <th>начальное</th>\n",
       "      <td>0</td>\n",
       "      <td>0</td>\n",
       "      <td>NaN</td>\n",
       "      <td>NaN</td>\n",
       "      <td>NaN</td>\n",
       "      <td>Крайние значения</td>\n",
       "    </tr>\n",
       "    <tr>\n",
       "      <th>неоконченное высшее</th>\n",
       "      <td>0</td>\n",
       "      <td>0</td>\n",
       "      <td>NaN</td>\n",
       "      <td>NaN</td>\n",
       "      <td>NaN</td>\n",
       "      <td>Крайние значения</td>\n",
       "    </tr>\n",
       "    <tr>\n",
       "      <th>среднее</th>\n",
       "      <td>0</td>\n",
       "      <td>0</td>\n",
       "      <td>NaN</td>\n",
       "      <td>NaN</td>\n",
       "      <td>NaN</td>\n",
       "      <td>Крайние значения</td>\n",
       "    </tr>\n",
       "    <tr>\n",
       "      <th>ученая степень</th>\n",
       "      <td>0</td>\n",
       "      <td>0</td>\n",
       "      <td>NaN</td>\n",
       "      <td>NaN</td>\n",
       "      <td>NaN</td>\n",
       "      <td>Крайние значения</td>\n",
       "    </tr>\n",
       "    <tr>\n",
       "      <th rowspan=\"7\" valign=\"top\">выше среднего доходы</th>\n",
       "      <th>f</th>\n",
       "      <th>ученая степень</th>\n",
       "      <td>0</td>\n",
       "      <td>0</td>\n",
       "      <td>NaN</td>\n",
       "      <td>NaN</td>\n",
       "      <td>NaN</td>\n",
       "      <td>Крайние значения</td>\n",
       "    </tr>\n",
       "    <tr>\n",
       "      <th>m</th>\n",
       "      <th>ученая степень</th>\n",
       "      <td>0</td>\n",
       "      <td>0</td>\n",
       "      <td>NaN</td>\n",
       "      <td>NaN</td>\n",
       "      <td>NaN</td>\n",
       "      <td>Крайние значения</td>\n",
       "    </tr>\n",
       "    <tr>\n",
       "      <th rowspan=\"5\" valign=\"top\">xna</th>\n",
       "      <th>высшее</th>\n",
       "      <td>0</td>\n",
       "      <td>0</td>\n",
       "      <td>NaN</td>\n",
       "      <td>NaN</td>\n",
       "      <td>NaN</td>\n",
       "      <td>Крайние значения</td>\n",
       "    </tr>\n",
       "    <tr>\n",
       "      <th>начальное</th>\n",
       "      <td>0</td>\n",
       "      <td>0</td>\n",
       "      <td>NaN</td>\n",
       "      <td>NaN</td>\n",
       "      <td>NaN</td>\n",
       "      <td>Крайние значения</td>\n",
       "    </tr>\n",
       "    <tr>\n",
       "      <th>неоконченное высшее</th>\n",
       "      <td>0</td>\n",
       "      <td>0</td>\n",
       "      <td>NaN</td>\n",
       "      <td>NaN</td>\n",
       "      <td>NaN</td>\n",
       "      <td>Крайние значения</td>\n",
       "    </tr>\n",
       "    <tr>\n",
       "      <th>среднее</th>\n",
       "      <td>0</td>\n",
       "      <td>0</td>\n",
       "      <td>NaN</td>\n",
       "      <td>NaN</td>\n",
       "      <td>NaN</td>\n",
       "      <td>Крайние значения</td>\n",
       "    </tr>\n",
       "    <tr>\n",
       "      <th>ученая степень</th>\n",
       "      <td>0</td>\n",
       "      <td>0</td>\n",
       "      <td>NaN</td>\n",
       "      <td>NaN</td>\n",
       "      <td>NaN</td>\n",
       "      <td>Крайние значения</td>\n",
       "    </tr>\n",
       "    <tr>\n",
       "      <th rowspan=\"4\" valign=\"top\">высокие доходы</th>\n",
       "      <th rowspan=\"4\" valign=\"top\">xna</th>\n",
       "      <th>высшее</th>\n",
       "      <td>0</td>\n",
       "      <td>0</td>\n",
       "      <td>NaN</td>\n",
       "      <td>NaN</td>\n",
       "      <td>NaN</td>\n",
       "      <td>Крайние значения</td>\n",
       "    </tr>\n",
       "    <tr>\n",
       "      <th>начальное</th>\n",
       "      <td>0</td>\n",
       "      <td>0</td>\n",
       "      <td>NaN</td>\n",
       "      <td>NaN</td>\n",
       "      <td>NaN</td>\n",
       "      <td>Крайние значения</td>\n",
       "    </tr>\n",
       "    <tr>\n",
       "      <th>среднее</th>\n",
       "      <td>0</td>\n",
       "      <td>0</td>\n",
       "      <td>NaN</td>\n",
       "      <td>NaN</td>\n",
       "      <td>NaN</td>\n",
       "      <td>Крайние значения</td>\n",
       "    </tr>\n",
       "    <tr>\n",
       "      <th>ученая степень</th>\n",
       "      <td>0</td>\n",
       "      <td>0</td>\n",
       "      <td>NaN</td>\n",
       "      <td>NaN</td>\n",
       "      <td>NaN</td>\n",
       "      <td>Крайние значения</td>\n",
       "    </tr>\n",
       "  </tbody>\n",
       "</table>\n",
       "</div>"
      ],
      "text/plain": [
       "debt_group                                       без просрочек  с просрочкой  \\\n",
       "total_income_group   gender education                                          \n",
       "средние доходы       m      начальное                       24             6   \n",
       "                     f      начальное                       41             8   \n",
       "выше среднего доходы m      начальное                       24             4   \n",
       "высокие доходы       f      неоконченное высшее             96            14   \n",
       "низкие доходы        m      среднее                        815           118   \n",
       "выше среднего доходы m      среднее                       1264           178   \n",
       "высокие доходы       m      неоконченное высшее            108            15   \n",
       "                     f      начальное                       15             2   \n",
       "средние доходы       m      среднее                       1148           152   \n",
       "низкие доходы        m      высшее                         124            14   \n",
       "высокие доходы       m      среднее                       1341           146   \n",
       "низкие доходы        m      неоконченное высшее             31             3   \n",
       "средние доходы       f      неоконченное высшее            114            11   \n",
       "выше среднего доходы f      начальное                       21             2   \n",
       "средние доходы       f      среднее                       2578           243   \n",
       "выше среднего доходы m      неоконченное высшее             65             6   \n",
       "низкие доходы        m      начальное                       33             3   \n",
       "выше среднего доходы m      высшее                         400            36   \n",
       "высокие доходы       m      начальное                       23             2   \n",
       "выше среднего доходы f      среднее                       1986           168   \n",
       "низкие доходы        f      неоконченное высшее            102             8   \n",
       "                            среднее                       3161           247   \n",
       "выше среднего доходы f      неоконченное высшее            107             8   \n",
       "высокие доходы       f      среднее                       1514           112   \n",
       "средние доходы       m      высшее                         284            18   \n",
       "                            неоконченное высшее             52             3   \n",
       "низкие доходы        f      начальное                       70             4   \n",
       "средние доходы       f      высшее                         753            42   \n",
       "высокие доходы       m      высшее                         792            43   \n",
       "низкие доходы        f      высшее                         600            30   \n",
       "выше среднего доходы f      высшее                         932            46   \n",
       "высокие доходы       f      высшее                        1087            49   \n",
       "средние доходы       m      ученая степень                   1             0   \n",
       "высокие доходы       m      ученая степень                   2             0   \n",
       "средние доходы       f      ученая степень                   1             0   \n",
       "низкие доходы        m      ученая степень                   1             0   \n",
       "высокие доходы       f      ученая степень                   1             0   \n",
       "                     xna    неоконченное высшее              1             0   \n",
       "низкие доходы        f      ученая степень                   0             0   \n",
       "                     xna    высшее                           0             0   \n",
       "                            начальное                        0             0   \n",
       "                            неоконченное высшее              0             0   \n",
       "                            среднее                          0             0   \n",
       "                            ученая степень                   0             0   \n",
       "средние доходы       xna    высшее                           0             0   \n",
       "                            начальное                        0             0   \n",
       "                            неоконченное высшее              0             0   \n",
       "                            среднее                          0             0   \n",
       "                            ученая степень                   0             0   \n",
       "выше среднего доходы f      ученая степень                   0             0   \n",
       "                     m      ученая степень                   0             0   \n",
       "                     xna    высшее                           0             0   \n",
       "                            начальное                        0             0   \n",
       "                            неоконченное высшее              0             0   \n",
       "                            среднее                          0             0   \n",
       "                            ученая степень                   0             0   \n",
       "высокие доходы       xna    высшее                           0             0   \n",
       "                            начальное                        0             0   \n",
       "                            среднее                          0             0   \n",
       "                            ученая степень                   0             0   \n",
       "\n",
       "debt_group                                       avg_debt_%  deviation  \\\n",
       "total_income_group   gender education                                    \n",
       "средние доходы       m      начальное                 20.00     -11.88   \n",
       "                     f      начальное                 16.33      -8.21   \n",
       "выше среднего доходы m      начальное                 14.29      -6.17   \n",
       "высокие доходы       f      неоконченное высшее       12.73      -4.61   \n",
       "низкие доходы        m      среднее                   12.65      -4.53   \n",
       "выше среднего доходы m      среднее                   12.34      -4.22   \n",
       "высокие доходы       m      неоконченное высшее       12.20      -4.08   \n",
       "                     f      начальное                 11.76      -3.64   \n",
       "средние доходы       m      среднее                   11.69      -3.57   \n",
       "низкие доходы        m      высшее                    10.14      -2.02   \n",
       "высокие доходы       m      среднее                    9.82      -1.70   \n",
       "низкие доходы        m      неоконченное высшее        8.82      -0.70   \n",
       "средние доходы       f      неоконченное высшее        8.80      -0.68   \n",
       "выше среднего доходы f      начальное                  8.70      -0.58   \n",
       "средние доходы       f      среднее                    8.61      -0.49   \n",
       "выше среднего доходы m      неоконченное высшее        8.45      -0.33   \n",
       "низкие доходы        m      начальное                  8.33      -0.21   \n",
       "выше среднего доходы m      высшее                     8.26      -0.14   \n",
       "высокие доходы       m      начальное                  8.00       0.12   \n",
       "выше среднего доходы f      среднее                    7.80       0.32   \n",
       "низкие доходы        f      неоконченное высшее        7.27       0.85   \n",
       "                            среднее                    7.25       0.87   \n",
       "выше среднего доходы f      неоконченное высшее        6.96       1.16   \n",
       "высокие доходы       f      среднее                    6.89       1.23   \n",
       "средние доходы       m      высшее                     5.96       2.16   \n",
       "                            неоконченное высшее        5.45       2.67   \n",
       "низкие доходы        f      начальное                  5.41       2.71   \n",
       "средние доходы       f      высшее                     5.28       2.84   \n",
       "высокие доходы       m      высшее                     5.15       2.97   \n",
       "низкие доходы        f      высшее                     4.76       3.36   \n",
       "выше среднего доходы f      высшее                     4.70       3.42   \n",
       "высокие доходы       f      высшее                     4.31       3.81   \n",
       "средние доходы       m      ученая степень             0.00       8.12   \n",
       "высокие доходы       m      ученая степень             0.00       8.12   \n",
       "средние доходы       f      ученая степень             0.00       8.12   \n",
       "низкие доходы        m      ученая степень             0.00       8.12   \n",
       "высокие доходы       f      ученая степень             0.00       8.12   \n",
       "                     xna    неоконченное высшее        0.00       8.12   \n",
       "низкие доходы        f      ученая степень              NaN        NaN   \n",
       "                     xna    высшее                      NaN        NaN   \n",
       "                            начальное                   NaN        NaN   \n",
       "                            неоконченное высшее         NaN        NaN   \n",
       "                            среднее                     NaN        NaN   \n",
       "                            ученая степень              NaN        NaN   \n",
       "средние доходы       xna    высшее                      NaN        NaN   \n",
       "                            начальное                   NaN        NaN   \n",
       "                            неоконченное высшее         NaN        NaN   \n",
       "                            среднее                     NaN        NaN   \n",
       "                            ученая степень              NaN        NaN   \n",
       "выше среднего доходы f      ученая степень              NaN        NaN   \n",
       "                     m      ученая степень              NaN        NaN   \n",
       "                     xna    высшее                      NaN        NaN   \n",
       "                            начальное                   NaN        NaN   \n",
       "                            неоконченное высшее         NaN        NaN   \n",
       "                            среднее                     NaN        NaN   \n",
       "                            ученая степень              NaN        NaN   \n",
       "высокие доходы       xna    высшее                      NaN        NaN   \n",
       "                            начальное                   NaN        NaN   \n",
       "                            среднее                     NaN        NaN   \n",
       "                            ученая степень              NaN        NaN   \n",
       "\n",
       "debt_group                                       deviation_%  \\\n",
       "total_income_group   gender education                          \n",
       "средние доходы       m      начальное                  -59.4   \n",
       "                     f      начальное                  -50.3   \n",
       "выше среднего доходы m      начальное                  -43.2   \n",
       "высокие доходы       f      неоконченное высшее        -36.2   \n",
       "низкие доходы        m      среднее                    -35.8   \n",
       "выше среднего доходы m      среднее                    -34.2   \n",
       "высокие доходы       m      неоконченное высшее        -33.4   \n",
       "                     f      начальное                  -31.0   \n",
       "средние доходы       m      среднее                    -30.5   \n",
       "низкие доходы        m      высшее                     -19.9   \n",
       "высокие доходы       m      среднее                    -17.3   \n",
       "низкие доходы        m      неоконченное высшее         -7.9   \n",
       "средние доходы       f      неоконченное высшее         -7.7   \n",
       "выше среднего доходы f      начальное                   -6.7   \n",
       "средние доходы       f      среднее                     -5.7   \n",
       "выше среднего доходы m      неоконченное высшее         -3.9   \n",
       "низкие доходы        m      начальное                   -2.5   \n",
       "выше среднего доходы m      высшее                      -1.7   \n",
       "высокие доходы       m      начальное                    1.5   \n",
       "выше среднего доходы f      среднее                      4.1   \n",
       "низкие доходы        f      неоконченное высшее         11.7   \n",
       "                            среднее                     12.0   \n",
       "выше среднего доходы f      неоконченное высшее         16.7   \n",
       "высокие доходы       f      среднее                     17.9   \n",
       "средние доходы       m      высшее                      36.2   \n",
       "                            неоконченное высшее         49.0   \n",
       "низкие доходы        f      начальное                   50.1   \n",
       "средние доходы       f      высшее                      53.8   \n",
       "высокие доходы       m      высшее                      57.7   \n",
       "низкие доходы        f      высшее                      70.6   \n",
       "выше среднего доходы f      высшее                      72.8   \n",
       "высокие доходы       f      высшее                      88.4   \n",
       "средние доходы       m      ученая степень               inf   \n",
       "высокие доходы       m      ученая степень               inf   \n",
       "средние доходы       f      ученая степень               inf   \n",
       "низкие доходы        m      ученая степень               inf   \n",
       "высокие доходы       f      ученая степень               inf   \n",
       "                     xna    неоконченное высшее          inf   \n",
       "низкие доходы        f      ученая степень               NaN   \n",
       "                     xna    высшее                       NaN   \n",
       "                            начальное                    NaN   \n",
       "                            неоконченное высшее          NaN   \n",
       "                            среднее                      NaN   \n",
       "                            ученая степень               NaN   \n",
       "средние доходы       xna    высшее                       NaN   \n",
       "                            начальное                    NaN   \n",
       "                            неоконченное высшее          NaN   \n",
       "                            среднее                      NaN   \n",
       "                            ученая степень               NaN   \n",
       "выше среднего доходы f      ученая степень               NaN   \n",
       "                     m      ученая степень               NaN   \n",
       "                     xna    высшее                       NaN   \n",
       "                            начальное                    NaN   \n",
       "                            неоконченное высшее          NaN   \n",
       "                            среднее                      NaN   \n",
       "                            ученая степень               NaN   \n",
       "высокие доходы       xna    высшее                       NaN   \n",
       "                            начальное                    NaN   \n",
       "                            среднее                      NaN   \n",
       "                            ученая степень               NaN   \n",
       "\n",
       "debt_group                                             category_special_case  \n",
       "total_income_group   gender education                                         \n",
       "средние доходы       m      начальное                    Критический случай!  \n",
       "                     f      начальное                    Критический случай!  \n",
       "выше среднего доходы m      начальное            Особая проблемная ситуация!  \n",
       "высокие доходы       f      неоконченное высшее  Особая проблемная ситуация!  \n",
       "низкие доходы        m      среднее              Особая проблемная ситуация!  \n",
       "выше среднего доходы m      среднее              Особая проблемная ситуация!  \n",
       "высокие доходы       m      неоконченное высшее  Особая проблемная ситуация!  \n",
       "                     f      начальное                   Проблемная ситуация.  \n",
       "средние доходы       m      среднее                     Проблемная ситуация.  \n",
       "низкие доходы        m      высшее                      Проблемная ситуация.  \n",
       "высокие доходы       m      среднее                     Проблемная ситуация.  \n",
       "низкие доходы        m      неоконченное высшее         Проблемная ситуация.  \n",
       "средние доходы       f      неоконченное высшее         Проблемная ситуация.  \n",
       "выше среднего доходы f      начальное                   Проблемная ситуация.  \n",
       "средние доходы       f      среднее                     Проблемная ситуация.  \n",
       "выше среднего доходы m      неоконченное высшее         Проблемная ситуация.  \n",
       "низкие доходы        m      начальное                   Проблемная ситуация.  \n",
       "выше среднего доходы m      высшее                      Проблемная ситуация.  \n",
       "высокие доходы       m      начальное                       Хорошая ситуация  \n",
       "выше среднего доходы f      среднее                         Хорошая ситуация  \n",
       "низкие доходы        f      неоконченное высшее             Хорошая ситуация  \n",
       "                            среднее                         Хорошая ситуация  \n",
       "выше среднего доходы f      неоконченное высшее             Хорошая ситуация  \n",
       "высокие доходы       f      среднее                         Хорошая ситуация  \n",
       "средние доходы       m      высшее                          Хорошая ситуация  \n",
       "                            неоконченное высшее             Хорошая ситуация  \n",
       "низкие доходы        f      начальное                       Хорошая ситуация  \n",
       "средние доходы       f      высшее                          Хорошая ситуация  \n",
       "высокие доходы       m      высшее                          Хорошая ситуация  \n",
       "низкие доходы        f      высшее                          Хорошая ситуация  \n",
       "выше среднего доходы f      высшее                          Хорошая ситуация  \n",
       "высокие доходы       f      высшее                          Хорошая ситуация  \n",
       "средние доходы       m      ученая степень                  Хорошая ситуация  \n",
       "высокие доходы       m      ученая степень                  Хорошая ситуация  \n",
       "средние доходы       f      ученая степень                  Хорошая ситуация  \n",
       "низкие доходы        m      ученая степень                  Хорошая ситуация  \n",
       "высокие доходы       f      ученая степень                  Хорошая ситуация  \n",
       "                     xna    неоконченное высшее             Хорошая ситуация  \n",
       "низкие доходы        f      ученая степень                  Крайние значения  \n",
       "                     xna    высшее                          Крайние значения  \n",
       "                            начальное                       Крайние значения  \n",
       "                            неоконченное высшее             Крайние значения  \n",
       "                            среднее                         Крайние значения  \n",
       "                            ученая степень                  Крайние значения  \n",
       "средние доходы       xna    высшее                          Крайние значения  \n",
       "                            начальное                       Крайние значения  \n",
       "                            неоконченное высшее             Крайние значения  \n",
       "                            среднее                         Крайние значения  \n",
       "                            ученая степень                  Крайние значения  \n",
       "выше среднего доходы f      ученая степень                  Крайние значения  \n",
       "                     m      ученая степень                  Крайние значения  \n",
       "                     xna    высшее                          Крайние значения  \n",
       "                            начальное                       Крайние значения  \n",
       "                            неоконченное высшее             Крайние значения  \n",
       "                            среднее                         Крайние значения  \n",
       "                            ученая степень                  Крайние значения  \n",
       "высокие доходы       xna    высшее                          Крайние значения  \n",
       "                            начальное                       Крайние значения  \n",
       "                            среднее                         Крайние значения  \n",
       "                            ученая степень                  Крайние значения  "
      ]
     },
     "metadata": {},
     "output_type": "display_data"
    },
    {
     "name": "stdout",
     "output_type": "stream",
     "text": [
      "Зависимость категорий total_income_group с gender и purpose_lemma:\n"
     ]
    },
    {
     "data": {
      "text/html": [
       "<div>\n",
       "<style scoped>\n",
       "    .dataframe tbody tr th:only-of-type {\n",
       "        vertical-align: middle;\n",
       "    }\n",
       "\n",
       "    .dataframe tbody tr th {\n",
       "        vertical-align: top;\n",
       "    }\n",
       "\n",
       "    .dataframe thead th {\n",
       "        text-align: right;\n",
       "    }\n",
       "</style>\n",
       "<table border=\"1\" class=\"dataframe\">\n",
       "  <thead>\n",
       "    <tr style=\"text-align: right;\">\n",
       "      <th></th>\n",
       "      <th></th>\n",
       "      <th>debt_group</th>\n",
       "      <th>без просрочек</th>\n",
       "      <th>с просрочкой</th>\n",
       "      <th>avg_debt_%</th>\n",
       "      <th>deviation</th>\n",
       "      <th>deviation_%</th>\n",
       "      <th>category_special_case</th>\n",
       "    </tr>\n",
       "    <tr>\n",
       "      <th>total_income_group</th>\n",
       "      <th>gender</th>\n",
       "      <th>purpose_lemma</th>\n",
       "      <th></th>\n",
       "      <th></th>\n",
       "      <th></th>\n",
       "      <th></th>\n",
       "      <th></th>\n",
       "      <th></th>\n",
       "    </tr>\n",
       "  </thead>\n",
       "  <tbody>\n",
       "    <tr>\n",
       "      <th rowspan=\"2\" valign=\"top\">низкие доходы</th>\n",
       "      <th rowspan=\"2\" valign=\"top\">m</th>\n",
       "      <th>на автомобиль</th>\n",
       "      <td>172</td>\n",
       "      <td>34</td>\n",
       "      <td>16.50</td>\n",
       "      <td>-8.38</td>\n",
       "      <td>-50.8</td>\n",
       "      <td>Критический случай!</td>\n",
       "    </tr>\n",
       "    <tr>\n",
       "      <th>на свадьбу</th>\n",
       "      <td>112</td>\n",
       "      <td>20</td>\n",
       "      <td>15.15</td>\n",
       "      <td>-7.03</td>\n",
       "      <td>-46.4</td>\n",
       "      <td>Особая проблемная ситуация!</td>\n",
       "    </tr>\n",
       "    <tr>\n",
       "      <th rowspan=\"2\" valign=\"top\">выше среднего доходы</th>\n",
       "      <th rowspan=\"2\" valign=\"top\">m</th>\n",
       "      <th>на образование</th>\n",
       "      <td>314</td>\n",
       "      <td>52</td>\n",
       "      <td>14.21</td>\n",
       "      <td>-6.09</td>\n",
       "      <td>-42.9</td>\n",
       "      <td>Особая проблемная ситуация!</td>\n",
       "    </tr>\n",
       "    <tr>\n",
       "      <th>на автомобиль</th>\n",
       "      <td>338</td>\n",
       "      <td>53</td>\n",
       "      <td>13.55</td>\n",
       "      <td>-5.43</td>\n",
       "      <td>-40.1</td>\n",
       "      <td>Особая проблемная ситуация!</td>\n",
       "    </tr>\n",
       "    <tr>\n",
       "      <th rowspan=\"2\" valign=\"top\">средние доходы</th>\n",
       "      <th rowspan=\"2\" valign=\"top\">m</th>\n",
       "      <th>на свадьбу</th>\n",
       "      <td>145</td>\n",
       "      <td>22</td>\n",
       "      <td>13.17</td>\n",
       "      <td>-5.05</td>\n",
       "      <td>-38.3</td>\n",
       "      <td>Особая проблемная ситуация!</td>\n",
       "    </tr>\n",
       "    <tr>\n",
       "      <th>на образование</th>\n",
       "      <td>285</td>\n",
       "      <td>43</td>\n",
       "      <td>13.11</td>\n",
       "      <td>-4.99</td>\n",
       "      <td>-38.1</td>\n",
       "      <td>Особая проблемная ситуация!</td>\n",
       "    </tr>\n",
       "    <tr>\n",
       "      <th>низкие доходы</th>\n",
       "      <th>m</th>\n",
       "      <th>на образование</th>\n",
       "      <td>194</td>\n",
       "      <td>26</td>\n",
       "      <td>11.82</td>\n",
       "      <td>-3.70</td>\n",
       "      <td>-31.3</td>\n",
       "      <td>Проблемная ситуация.</td>\n",
       "    </tr>\n",
       "    <tr>\n",
       "      <th>выше среднего доходы</th>\n",
       "      <th>m</th>\n",
       "      <th>на свадьбу</th>\n",
       "      <td>181</td>\n",
       "      <td>21</td>\n",
       "      <td>10.40</td>\n",
       "      <td>-2.28</td>\n",
       "      <td>-21.9</td>\n",
       "      <td>Проблемная ситуация.</td>\n",
       "    </tr>\n",
       "    <tr>\n",
       "      <th>низкие доходы</th>\n",
       "      <th>m</th>\n",
       "      <th>на недвижимость</th>\n",
       "      <td>526</td>\n",
       "      <td>58</td>\n",
       "      <td>9.93</td>\n",
       "      <td>-1.81</td>\n",
       "      <td>-18.2</td>\n",
       "      <td>Проблемная ситуация.</td>\n",
       "    </tr>\n",
       "    <tr>\n",
       "      <th>высокие доходы</th>\n",
       "      <th>m</th>\n",
       "      <th>на автомобиль</th>\n",
       "      <td>459</td>\n",
       "      <td>50</td>\n",
       "      <td>9.82</td>\n",
       "      <td>-1.70</td>\n",
       "      <td>-17.3</td>\n",
       "      <td>Проблемная ситуация.</td>\n",
       "    </tr>\n",
       "    <tr>\n",
       "      <th>средние доходы</th>\n",
       "      <th>m</th>\n",
       "      <th>на недвижимость</th>\n",
       "      <td>770</td>\n",
       "      <td>83</td>\n",
       "      <td>9.73</td>\n",
       "      <td>-1.61</td>\n",
       "      <td>-16.5</td>\n",
       "      <td>Проблемная ситуация.</td>\n",
       "    </tr>\n",
       "    <tr>\n",
       "      <th>высокие доходы</th>\n",
       "      <th>m</th>\n",
       "      <th>на образование</th>\n",
       "      <td>390</td>\n",
       "      <td>42</td>\n",
       "      <td>9.72</td>\n",
       "      <td>-1.60</td>\n",
       "      <td>-16.5</td>\n",
       "      <td>Проблемная ситуация.</td>\n",
       "    </tr>\n",
       "    <tr>\n",
       "      <th>выше среднего доходы</th>\n",
       "      <th>m</th>\n",
       "      <th>на недвижимость</th>\n",
       "      <td>920</td>\n",
       "      <td>98</td>\n",
       "      <td>9.63</td>\n",
       "      <td>-1.51</td>\n",
       "      <td>-15.7</td>\n",
       "      <td>Проблемная ситуация.</td>\n",
       "    </tr>\n",
       "    <tr>\n",
       "      <th rowspan=\"3\" valign=\"top\">средние доходы</th>\n",
       "      <th>f</th>\n",
       "      <th>на образование</th>\n",
       "      <td>629</td>\n",
       "      <td>67</td>\n",
       "      <td>9.63</td>\n",
       "      <td>-1.51</td>\n",
       "      <td>-15.7</td>\n",
       "      <td>Проблемная ситуация.</td>\n",
       "    </tr>\n",
       "    <tr>\n",
       "      <th>m</th>\n",
       "      <th>на автомобиль</th>\n",
       "      <td>309</td>\n",
       "      <td>31</td>\n",
       "      <td>9.12</td>\n",
       "      <td>-1.00</td>\n",
       "      <td>-11.0</td>\n",
       "      <td>Проблемная ситуация.</td>\n",
       "    </tr>\n",
       "    <tr>\n",
       "      <th>f</th>\n",
       "      <th>на автомобиль</th>\n",
       "      <td>742</td>\n",
       "      <td>73</td>\n",
       "      <td>8.96</td>\n",
       "      <td>-0.84</td>\n",
       "      <td>-9.4</td>\n",
       "      <td>Проблемная ситуация.</td>\n",
       "    </tr>\n",
       "    <tr>\n",
       "      <th>выше среднего доходы</th>\n",
       "      <th>f</th>\n",
       "      <th>на автомобиль</th>\n",
       "      <td>575</td>\n",
       "      <td>52</td>\n",
       "      <td>8.29</td>\n",
       "      <td>-0.17</td>\n",
       "      <td>-2.1</td>\n",
       "      <td>Проблемная ситуация.</td>\n",
       "    </tr>\n",
       "    <tr>\n",
       "      <th>средние доходы</th>\n",
       "      <th>f</th>\n",
       "      <th>на свадьбу</th>\n",
       "      <td>387</td>\n",
       "      <td>34</td>\n",
       "      <td>8.08</td>\n",
       "      <td>0.04</td>\n",
       "      <td>0.5</td>\n",
       "      <td>Хорошая ситуация</td>\n",
       "    </tr>\n",
       "    <tr>\n",
       "      <th rowspan=\"2\" valign=\"top\">низкие доходы</th>\n",
       "      <th rowspan=\"2\" valign=\"top\">f</th>\n",
       "      <th>на автомобиль</th>\n",
       "      <td>771</td>\n",
       "      <td>67</td>\n",
       "      <td>8.00</td>\n",
       "      <td>0.12</td>\n",
       "      <td>1.5</td>\n",
       "      <td>Хорошая ситуация</td>\n",
       "    </tr>\n",
       "    <tr>\n",
       "      <th>на образование</th>\n",
       "      <td>757</td>\n",
       "      <td>65</td>\n",
       "      <td>7.91</td>\n",
       "      <td>0.21</td>\n",
       "      <td>2.7</td>\n",
       "      <td>Хорошая ситуация</td>\n",
       "    </tr>\n",
       "    <tr>\n",
       "      <th rowspan=\"2\" valign=\"top\">высокие доходы</th>\n",
       "      <th>m</th>\n",
       "      <th>на недвижимость</th>\n",
       "      <td>1171</td>\n",
       "      <td>99</td>\n",
       "      <td>7.80</td>\n",
       "      <td>0.32</td>\n",
       "      <td>4.1</td>\n",
       "      <td>Хорошая ситуация</td>\n",
       "    </tr>\n",
       "    <tr>\n",
       "      <th>f</th>\n",
       "      <th>на автомобиль</th>\n",
       "      <td>536</td>\n",
       "      <td>43</td>\n",
       "      <td>7.43</td>\n",
       "      <td>0.69</td>\n",
       "      <td>9.3</td>\n",
       "      <td>Хорошая ситуация</td>\n",
       "    </tr>\n",
       "    <tr>\n",
       "      <th>выше среднего доходы</th>\n",
       "      <th>f</th>\n",
       "      <th>на свадьбу</th>\n",
       "      <td>330</td>\n",
       "      <td>26</td>\n",
       "      <td>7.30</td>\n",
       "      <td>0.82</td>\n",
       "      <td>11.2</td>\n",
       "      <td>Хорошая ситуация</td>\n",
       "    </tr>\n",
       "    <tr>\n",
       "      <th>низкие доходы</th>\n",
       "      <th>f</th>\n",
       "      <th>на свадьбу</th>\n",
       "      <td>436</td>\n",
       "      <td>34</td>\n",
       "      <td>7.23</td>\n",
       "      <td>0.89</td>\n",
       "      <td>12.3</td>\n",
       "      <td>Хорошая ситуация</td>\n",
       "    </tr>\n",
       "    <tr>\n",
       "      <th>средние доходы</th>\n",
       "      <th>f</th>\n",
       "      <th>на недвижимость</th>\n",
       "      <td>1729</td>\n",
       "      <td>130</td>\n",
       "      <td>6.99</td>\n",
       "      <td>1.13</td>\n",
       "      <td>16.2</td>\n",
       "      <td>Хорошая ситуация</td>\n",
       "    </tr>\n",
       "    <tr>\n",
       "      <th>выше среднего доходы</th>\n",
       "      <th>f</th>\n",
       "      <th>на образование</th>\n",
       "      <td>595</td>\n",
       "      <td>42</td>\n",
       "      <td>6.59</td>\n",
       "      <td>1.53</td>\n",
       "      <td>23.2</td>\n",
       "      <td>Хорошая ситуация</td>\n",
       "    </tr>\n",
       "    <tr>\n",
       "      <th>высокие доходы</th>\n",
       "      <th>f</th>\n",
       "      <th>на образование</th>\n",
       "      <td>479</td>\n",
       "      <td>33</td>\n",
       "      <td>6.45</td>\n",
       "      <td>1.67</td>\n",
       "      <td>25.9</td>\n",
       "      <td>Хорошая ситуация</td>\n",
       "    </tr>\n",
       "    <tr>\n",
       "      <th>выше среднего доходы</th>\n",
       "      <th>f</th>\n",
       "      <th>на недвижимость</th>\n",
       "      <td>1546</td>\n",
       "      <td>104</td>\n",
       "      <td>6.30</td>\n",
       "      <td>1.82</td>\n",
       "      <td>28.9</td>\n",
       "      <td>Хорошая ситуация</td>\n",
       "    </tr>\n",
       "    <tr>\n",
       "      <th>низкие доходы</th>\n",
       "      <th>f</th>\n",
       "      <th>на недвижимость</th>\n",
       "      <td>1969</td>\n",
       "      <td>123</td>\n",
       "      <td>5.88</td>\n",
       "      <td>2.24</td>\n",
       "      <td>38.1</td>\n",
       "      <td>Хорошая ситуация</td>\n",
       "    </tr>\n",
       "    <tr>\n",
       "      <th rowspan=\"4\" valign=\"top\">высокие доходы</th>\n",
       "      <th>f</th>\n",
       "      <th>на недвижимость</th>\n",
       "      <td>1397</td>\n",
       "      <td>87</td>\n",
       "      <td>5.86</td>\n",
       "      <td>2.26</td>\n",
       "      <td>38.6</td>\n",
       "      <td>Хорошая ситуация</td>\n",
       "    </tr>\n",
       "    <tr>\n",
       "      <th>m</th>\n",
       "      <th>на свадьбу</th>\n",
       "      <td>246</td>\n",
       "      <td>15</td>\n",
       "      <td>5.75</td>\n",
       "      <td>2.37</td>\n",
       "      <td>41.2</td>\n",
       "      <td>Хорошая ситуация</td>\n",
       "    </tr>\n",
       "    <tr>\n",
       "      <th>f</th>\n",
       "      <th>на свадьбу</th>\n",
       "      <td>301</td>\n",
       "      <td>14</td>\n",
       "      <td>4.44</td>\n",
       "      <td>3.68</td>\n",
       "      <td>82.9</td>\n",
       "      <td>Хорошая ситуация</td>\n",
       "    </tr>\n",
       "    <tr>\n",
       "      <th>xna</th>\n",
       "      <th>на недвижимость</th>\n",
       "      <td>1</td>\n",
       "      <td>0</td>\n",
       "      <td>0.00</td>\n",
       "      <td>8.12</td>\n",
       "      <td>inf</td>\n",
       "      <td>Хорошая ситуация</td>\n",
       "    </tr>\n",
       "    <tr>\n",
       "      <th rowspan=\"4\" valign=\"top\">низкие доходы</th>\n",
       "      <th rowspan=\"4\" valign=\"top\">xna</th>\n",
       "      <th>на автомобиль</th>\n",
       "      <td>0</td>\n",
       "      <td>0</td>\n",
       "      <td>NaN</td>\n",
       "      <td>NaN</td>\n",
       "      <td>NaN</td>\n",
       "      <td>Крайние значения</td>\n",
       "    </tr>\n",
       "    <tr>\n",
       "      <th>на недвижимость</th>\n",
       "      <td>0</td>\n",
       "      <td>0</td>\n",
       "      <td>NaN</td>\n",
       "      <td>NaN</td>\n",
       "      <td>NaN</td>\n",
       "      <td>Крайние значения</td>\n",
       "    </tr>\n",
       "    <tr>\n",
       "      <th>на образование</th>\n",
       "      <td>0</td>\n",
       "      <td>0</td>\n",
       "      <td>NaN</td>\n",
       "      <td>NaN</td>\n",
       "      <td>NaN</td>\n",
       "      <td>Крайние значения</td>\n",
       "    </tr>\n",
       "    <tr>\n",
       "      <th>на свадьбу</th>\n",
       "      <td>0</td>\n",
       "      <td>0</td>\n",
       "      <td>NaN</td>\n",
       "      <td>NaN</td>\n",
       "      <td>NaN</td>\n",
       "      <td>Крайние значения</td>\n",
       "    </tr>\n",
       "    <tr>\n",
       "      <th rowspan=\"4\" valign=\"top\">средние доходы</th>\n",
       "      <th rowspan=\"4\" valign=\"top\">xna</th>\n",
       "      <th>на автомобиль</th>\n",
       "      <td>0</td>\n",
       "      <td>0</td>\n",
       "      <td>NaN</td>\n",
       "      <td>NaN</td>\n",
       "      <td>NaN</td>\n",
       "      <td>Крайние значения</td>\n",
       "    </tr>\n",
       "    <tr>\n",
       "      <th>на недвижимость</th>\n",
       "      <td>0</td>\n",
       "      <td>0</td>\n",
       "      <td>NaN</td>\n",
       "      <td>NaN</td>\n",
       "      <td>NaN</td>\n",
       "      <td>Крайние значения</td>\n",
       "    </tr>\n",
       "    <tr>\n",
       "      <th>на образование</th>\n",
       "      <td>0</td>\n",
       "      <td>0</td>\n",
       "      <td>NaN</td>\n",
       "      <td>NaN</td>\n",
       "      <td>NaN</td>\n",
       "      <td>Крайние значения</td>\n",
       "    </tr>\n",
       "    <tr>\n",
       "      <th>на свадьбу</th>\n",
       "      <td>0</td>\n",
       "      <td>0</td>\n",
       "      <td>NaN</td>\n",
       "      <td>NaN</td>\n",
       "      <td>NaN</td>\n",
       "      <td>Крайние значения</td>\n",
       "    </tr>\n",
       "    <tr>\n",
       "      <th rowspan=\"4\" valign=\"top\">выше среднего доходы</th>\n",
       "      <th rowspan=\"4\" valign=\"top\">xna</th>\n",
       "      <th>на автомобиль</th>\n",
       "      <td>0</td>\n",
       "      <td>0</td>\n",
       "      <td>NaN</td>\n",
       "      <td>NaN</td>\n",
       "      <td>NaN</td>\n",
       "      <td>Крайние значения</td>\n",
       "    </tr>\n",
       "    <tr>\n",
       "      <th>на недвижимость</th>\n",
       "      <td>0</td>\n",
       "      <td>0</td>\n",
       "      <td>NaN</td>\n",
       "      <td>NaN</td>\n",
       "      <td>NaN</td>\n",
       "      <td>Крайние значения</td>\n",
       "    </tr>\n",
       "    <tr>\n",
       "      <th>на образование</th>\n",
       "      <td>0</td>\n",
       "      <td>0</td>\n",
       "      <td>NaN</td>\n",
       "      <td>NaN</td>\n",
       "      <td>NaN</td>\n",
       "      <td>Крайние значения</td>\n",
       "    </tr>\n",
       "    <tr>\n",
       "      <th>на свадьбу</th>\n",
       "      <td>0</td>\n",
       "      <td>0</td>\n",
       "      <td>NaN</td>\n",
       "      <td>NaN</td>\n",
       "      <td>NaN</td>\n",
       "      <td>Крайние значения</td>\n",
       "    </tr>\n",
       "    <tr>\n",
       "      <th rowspan=\"3\" valign=\"top\">высокие доходы</th>\n",
       "      <th rowspan=\"3\" valign=\"top\">xna</th>\n",
       "      <th>на автомобиль</th>\n",
       "      <td>0</td>\n",
       "      <td>0</td>\n",
       "      <td>NaN</td>\n",
       "      <td>NaN</td>\n",
       "      <td>NaN</td>\n",
       "      <td>Крайние значения</td>\n",
       "    </tr>\n",
       "    <tr>\n",
       "      <th>на образование</th>\n",
       "      <td>0</td>\n",
       "      <td>0</td>\n",
       "      <td>NaN</td>\n",
       "      <td>NaN</td>\n",
       "      <td>NaN</td>\n",
       "      <td>Крайние значения</td>\n",
       "    </tr>\n",
       "    <tr>\n",
       "      <th>на свадьбу</th>\n",
       "      <td>0</td>\n",
       "      <td>0</td>\n",
       "      <td>NaN</td>\n",
       "      <td>NaN</td>\n",
       "      <td>NaN</td>\n",
       "      <td>Крайние значения</td>\n",
       "    </tr>\n",
       "  </tbody>\n",
       "</table>\n",
       "</div>"
      ],
      "text/plain": [
       "debt_group                                   без просрочек  с просрочкой  \\\n",
       "total_income_group   gender purpose_lemma                                  \n",
       "низкие доходы        m      на автомобиль              172            34   \n",
       "                            на свадьбу                 112            20   \n",
       "выше среднего доходы m      на образование             314            52   \n",
       "                            на автомобиль              338            53   \n",
       "средние доходы       m      на свадьбу                 145            22   \n",
       "                            на образование             285            43   \n",
       "низкие доходы        m      на образование             194            26   \n",
       "выше среднего доходы m      на свадьбу                 181            21   \n",
       "низкие доходы        m      на недвижимость            526            58   \n",
       "высокие доходы       m      на автомобиль              459            50   \n",
       "средние доходы       m      на недвижимость            770            83   \n",
       "высокие доходы       m      на образование             390            42   \n",
       "выше среднего доходы m      на недвижимость            920            98   \n",
       "средние доходы       f      на образование             629            67   \n",
       "                     m      на автомобиль              309            31   \n",
       "                     f      на автомобиль              742            73   \n",
       "выше среднего доходы f      на автомобиль              575            52   \n",
       "средние доходы       f      на свадьбу                 387            34   \n",
       "низкие доходы        f      на автомобиль              771            67   \n",
       "                            на образование             757            65   \n",
       "высокие доходы       m      на недвижимость           1171            99   \n",
       "                     f      на автомобиль              536            43   \n",
       "выше среднего доходы f      на свадьбу                 330            26   \n",
       "низкие доходы        f      на свадьбу                 436            34   \n",
       "средние доходы       f      на недвижимость           1729           130   \n",
       "выше среднего доходы f      на образование             595            42   \n",
       "высокие доходы       f      на образование             479            33   \n",
       "выше среднего доходы f      на недвижимость           1546           104   \n",
       "низкие доходы        f      на недвижимость           1969           123   \n",
       "высокие доходы       f      на недвижимость           1397            87   \n",
       "                     m      на свадьбу                 246            15   \n",
       "                     f      на свадьбу                 301            14   \n",
       "                     xna    на недвижимость              1             0   \n",
       "низкие доходы        xna    на автомобиль                0             0   \n",
       "                            на недвижимость              0             0   \n",
       "                            на образование               0             0   \n",
       "                            на свадьбу                   0             0   \n",
       "средние доходы       xna    на автомобиль                0             0   \n",
       "                            на недвижимость              0             0   \n",
       "                            на образование               0             0   \n",
       "                            на свадьбу                   0             0   \n",
       "выше среднего доходы xna    на автомобиль                0             0   \n",
       "                            на недвижимость              0             0   \n",
       "                            на образование               0             0   \n",
       "                            на свадьбу                   0             0   \n",
       "высокие доходы       xna    на автомобиль                0             0   \n",
       "                            на образование               0             0   \n",
       "                            на свадьбу                   0             0   \n",
       "\n",
       "debt_group                                   avg_debt_%  deviation  \\\n",
       "total_income_group   gender purpose_lemma                            \n",
       "низкие доходы        m      на автомобиль         16.50      -8.38   \n",
       "                            на свадьбу            15.15      -7.03   \n",
       "выше среднего доходы m      на образование        14.21      -6.09   \n",
       "                            на автомобиль         13.55      -5.43   \n",
       "средние доходы       m      на свадьбу            13.17      -5.05   \n",
       "                            на образование        13.11      -4.99   \n",
       "низкие доходы        m      на образование        11.82      -3.70   \n",
       "выше среднего доходы m      на свадьбу            10.40      -2.28   \n",
       "низкие доходы        m      на недвижимость        9.93      -1.81   \n",
       "высокие доходы       m      на автомобиль          9.82      -1.70   \n",
       "средние доходы       m      на недвижимость        9.73      -1.61   \n",
       "высокие доходы       m      на образование         9.72      -1.60   \n",
       "выше среднего доходы m      на недвижимость        9.63      -1.51   \n",
       "средние доходы       f      на образование         9.63      -1.51   \n",
       "                     m      на автомобиль          9.12      -1.00   \n",
       "                     f      на автомобиль          8.96      -0.84   \n",
       "выше среднего доходы f      на автомобиль          8.29      -0.17   \n",
       "средние доходы       f      на свадьбу             8.08       0.04   \n",
       "низкие доходы        f      на автомобиль          8.00       0.12   \n",
       "                            на образование         7.91       0.21   \n",
       "высокие доходы       m      на недвижимость        7.80       0.32   \n",
       "                     f      на автомобиль          7.43       0.69   \n",
       "выше среднего доходы f      на свадьбу             7.30       0.82   \n",
       "низкие доходы        f      на свадьбу             7.23       0.89   \n",
       "средние доходы       f      на недвижимость        6.99       1.13   \n",
       "выше среднего доходы f      на образование         6.59       1.53   \n",
       "высокие доходы       f      на образование         6.45       1.67   \n",
       "выше среднего доходы f      на недвижимость        6.30       1.82   \n",
       "низкие доходы        f      на недвижимость        5.88       2.24   \n",
       "высокие доходы       f      на недвижимость        5.86       2.26   \n",
       "                     m      на свадьбу             5.75       2.37   \n",
       "                     f      на свадьбу             4.44       3.68   \n",
       "                     xna    на недвижимость        0.00       8.12   \n",
       "низкие доходы        xna    на автомобиль           NaN        NaN   \n",
       "                            на недвижимость         NaN        NaN   \n",
       "                            на образование          NaN        NaN   \n",
       "                            на свадьбу              NaN        NaN   \n",
       "средние доходы       xna    на автомобиль           NaN        NaN   \n",
       "                            на недвижимость         NaN        NaN   \n",
       "                            на образование          NaN        NaN   \n",
       "                            на свадьбу              NaN        NaN   \n",
       "выше среднего доходы xna    на автомобиль           NaN        NaN   \n",
       "                            на недвижимость         NaN        NaN   \n",
       "                            на образование          NaN        NaN   \n",
       "                            на свадьбу              NaN        NaN   \n",
       "высокие доходы       xna    на автомобиль           NaN        NaN   \n",
       "                            на образование          NaN        NaN   \n",
       "                            на свадьбу              NaN        NaN   \n",
       "\n",
       "debt_group                                   deviation_%  \\\n",
       "total_income_group   gender purpose_lemma                  \n",
       "низкие доходы        m      на автомобиль          -50.8   \n",
       "                            на свадьбу             -46.4   \n",
       "выше среднего доходы m      на образование         -42.9   \n",
       "                            на автомобиль          -40.1   \n",
       "средние доходы       m      на свадьбу             -38.3   \n",
       "                            на образование         -38.1   \n",
       "низкие доходы        m      на образование         -31.3   \n",
       "выше среднего доходы m      на свадьбу             -21.9   \n",
       "низкие доходы        m      на недвижимость        -18.2   \n",
       "высокие доходы       m      на автомобиль          -17.3   \n",
       "средние доходы       m      на недвижимость        -16.5   \n",
       "высокие доходы       m      на образование         -16.5   \n",
       "выше среднего доходы m      на недвижимость        -15.7   \n",
       "средние доходы       f      на образование         -15.7   \n",
       "                     m      на автомобиль          -11.0   \n",
       "                     f      на автомобиль           -9.4   \n",
       "выше среднего доходы f      на автомобиль           -2.1   \n",
       "средние доходы       f      на свадьбу               0.5   \n",
       "низкие доходы        f      на автомобиль            1.5   \n",
       "                            на образование           2.7   \n",
       "высокие доходы       m      на недвижимость          4.1   \n",
       "                     f      на автомобиль            9.3   \n",
       "выше среднего доходы f      на свадьбу              11.2   \n",
       "низкие доходы        f      на свадьбу              12.3   \n",
       "средние доходы       f      на недвижимость         16.2   \n",
       "выше среднего доходы f      на образование          23.2   \n",
       "высокие доходы       f      на образование          25.9   \n",
       "выше среднего доходы f      на недвижимость         28.9   \n",
       "низкие доходы        f      на недвижимость         38.1   \n",
       "высокие доходы       f      на недвижимость         38.6   \n",
       "                     m      на свадьбу              41.2   \n",
       "                     f      на свадьбу              82.9   \n",
       "                     xna    на недвижимость          inf   \n",
       "низкие доходы        xna    на автомобиль            NaN   \n",
       "                            на недвижимость          NaN   \n",
       "                            на образование           NaN   \n",
       "                            на свадьбу               NaN   \n",
       "средние доходы       xna    на автомобиль            NaN   \n",
       "                            на недвижимость          NaN   \n",
       "                            на образование           NaN   \n",
       "                            на свадьбу               NaN   \n",
       "выше среднего доходы xna    на автомобиль            NaN   \n",
       "                            на недвижимость          NaN   \n",
       "                            на образование           NaN   \n",
       "                            на свадьбу               NaN   \n",
       "высокие доходы       xna    на автомобиль            NaN   \n",
       "                            на образование           NaN   \n",
       "                            на свадьбу               NaN   \n",
       "\n",
       "debt_group                                         category_special_case  \n",
       "total_income_group   gender purpose_lemma                                 \n",
       "низкие доходы        m      на автомобиль            Критический случай!  \n",
       "                            на свадьбу       Особая проблемная ситуация!  \n",
       "выше среднего доходы m      на образование   Особая проблемная ситуация!  \n",
       "                            на автомобиль    Особая проблемная ситуация!  \n",
       "средние доходы       m      на свадьбу       Особая проблемная ситуация!  \n",
       "                            на образование   Особая проблемная ситуация!  \n",
       "низкие доходы        m      на образование          Проблемная ситуация.  \n",
       "выше среднего доходы m      на свадьбу              Проблемная ситуация.  \n",
       "низкие доходы        m      на недвижимость         Проблемная ситуация.  \n",
       "высокие доходы       m      на автомобиль           Проблемная ситуация.  \n",
       "средние доходы       m      на недвижимость         Проблемная ситуация.  \n",
       "высокие доходы       m      на образование          Проблемная ситуация.  \n",
       "выше среднего доходы m      на недвижимость         Проблемная ситуация.  \n",
       "средние доходы       f      на образование          Проблемная ситуация.  \n",
       "                     m      на автомобиль           Проблемная ситуация.  \n",
       "                     f      на автомобиль           Проблемная ситуация.  \n",
       "выше среднего доходы f      на автомобиль           Проблемная ситуация.  \n",
       "средние доходы       f      на свадьбу                  Хорошая ситуация  \n",
       "низкие доходы        f      на автомобиль               Хорошая ситуация  \n",
       "                            на образование              Хорошая ситуация  \n",
       "высокие доходы       m      на недвижимость             Хорошая ситуация  \n",
       "                     f      на автомобиль               Хорошая ситуация  \n",
       "выше среднего доходы f      на свадьбу                  Хорошая ситуация  \n",
       "низкие доходы        f      на свадьбу                  Хорошая ситуация  \n",
       "средние доходы       f      на недвижимость             Хорошая ситуация  \n",
       "выше среднего доходы f      на образование              Хорошая ситуация  \n",
       "высокие доходы       f      на образование              Хорошая ситуация  \n",
       "выше среднего доходы f      на недвижимость             Хорошая ситуация  \n",
       "низкие доходы        f      на недвижимость             Хорошая ситуация  \n",
       "высокие доходы       f      на недвижимость             Хорошая ситуация  \n",
       "                     m      на свадьбу                  Хорошая ситуация  \n",
       "                     f      на свадьбу                  Хорошая ситуация  \n",
       "                     xna    на недвижимость             Хорошая ситуация  \n",
       "низкие доходы        xna    на автомобиль               Крайние значения  \n",
       "                            на недвижимость             Крайние значения  \n",
       "                            на образование              Крайние значения  \n",
       "                            на свадьбу                  Крайние значения  \n",
       "средние доходы       xna    на автомобиль               Крайние значения  \n",
       "                            на недвижимость             Крайние значения  \n",
       "                            на образование              Крайние значения  \n",
       "                            на свадьбу                  Крайние значения  \n",
       "выше среднего доходы xna    на автомобиль               Крайние значения  \n",
       "                            на недвижимость             Крайние значения  \n",
       "                            на образование              Крайние значения  \n",
       "                            на свадьбу                  Крайние значения  \n",
       "высокие доходы       xna    на автомобиль               Крайние значения  \n",
       "                            на образование              Крайние значения  \n",
       "                            на свадьбу                  Крайние значения  "
      ]
     },
     "metadata": {},
     "output_type": "display_data"
    },
    {
     "name": "stdout",
     "output_type": "stream",
     "text": [
      "Зависимость категорий total_income_group с income_type и education:\n"
     ]
    },
    {
     "data": {
      "text/html": [
       "<div>\n",
       "<style scoped>\n",
       "    .dataframe tbody tr th:only-of-type {\n",
       "        vertical-align: middle;\n",
       "    }\n",
       "\n",
       "    .dataframe tbody tr th {\n",
       "        vertical-align: top;\n",
       "    }\n",
       "\n",
       "    .dataframe thead th {\n",
       "        text-align: right;\n",
       "    }\n",
       "</style>\n",
       "<table border=\"1\" class=\"dataframe\">\n",
       "  <thead>\n",
       "    <tr style=\"text-align: right;\">\n",
       "      <th></th>\n",
       "      <th></th>\n",
       "      <th>debt_group</th>\n",
       "      <th>без просрочек</th>\n",
       "      <th>с просрочкой</th>\n",
       "      <th>avg_debt_%</th>\n",
       "      <th>deviation</th>\n",
       "      <th>deviation_%</th>\n",
       "      <th>category_special_case</th>\n",
       "    </tr>\n",
       "    <tr>\n",
       "      <th>total_income_group</th>\n",
       "      <th>income_type</th>\n",
       "      <th>education</th>\n",
       "      <th></th>\n",
       "      <th></th>\n",
       "      <th></th>\n",
       "      <th></th>\n",
       "      <th></th>\n",
       "      <th></th>\n",
       "    </tr>\n",
       "  </thead>\n",
       "  <tbody>\n",
       "    <tr>\n",
       "      <th rowspan=\"3\" valign=\"top\">низкие доходы</th>\n",
       "      <th>безработный</th>\n",
       "      <th>среднее</th>\n",
       "      <td>0</td>\n",
       "      <td>1</td>\n",
       "      <td>100.00</td>\n",
       "      <td>-91.88</td>\n",
       "      <td>-91.9</td>\n",
       "      <td>Критический случай!</td>\n",
       "    </tr>\n",
       "    <tr>\n",
       "      <th>в декрете</th>\n",
       "      <th>среднее</th>\n",
       "      <td>0</td>\n",
       "      <td>1</td>\n",
       "      <td>100.00</td>\n",
       "      <td>-91.88</td>\n",
       "      <td>-91.9</td>\n",
       "      <td>Критический случай!</td>\n",
       "    </tr>\n",
       "    <tr>\n",
       "      <th>госслужащий</th>\n",
       "      <th>начальное</th>\n",
       "      <td>2</td>\n",
       "      <td>1</td>\n",
       "      <td>33.33</td>\n",
       "      <td>-25.21</td>\n",
       "      <td>-75.6</td>\n",
       "      <td>Критический случай!</td>\n",
       "    </tr>\n",
       "    <tr>\n",
       "      <th>средние доходы</th>\n",
       "      <th>сотрудник</th>\n",
       "      <th>начальное</th>\n",
       "      <td>30</td>\n",
       "      <td>11</td>\n",
       "      <td>26.83</td>\n",
       "      <td>-18.71</td>\n",
       "      <td>-69.7</td>\n",
       "      <td>Критический случай!</td>\n",
       "    </tr>\n",
       "    <tr>\n",
       "      <th>выше среднего доходы</th>\n",
       "      <th>компаньон</th>\n",
       "      <th>начальное</th>\n",
       "      <td>5</td>\n",
       "      <td>1</td>\n",
       "      <td>16.67</td>\n",
       "      <td>-8.55</td>\n",
       "      <td>-51.3</td>\n",
       "      <td>Критический случай!</td>\n",
       "    </tr>\n",
       "    <tr>\n",
       "      <th>...</th>\n",
       "      <th>...</th>\n",
       "      <th>...</th>\n",
       "      <td>...</td>\n",
       "      <td>...</td>\n",
       "      <td>...</td>\n",
       "      <td>...</td>\n",
       "      <td>...</td>\n",
       "      <td>...</td>\n",
       "    </tr>\n",
       "    <tr>\n",
       "      <th rowspan=\"5\" valign=\"top\">высокие доходы</th>\n",
       "      <th rowspan=\"5\" valign=\"top\">студент</th>\n",
       "      <th>высшее</th>\n",
       "      <td>0</td>\n",
       "      <td>0</td>\n",
       "      <td>NaN</td>\n",
       "      <td>NaN</td>\n",
       "      <td>NaN</td>\n",
       "      <td>Крайние значения</td>\n",
       "    </tr>\n",
       "    <tr>\n",
       "      <th>начальное</th>\n",
       "      <td>0</td>\n",
       "      <td>0</td>\n",
       "      <td>NaN</td>\n",
       "      <td>NaN</td>\n",
       "      <td>NaN</td>\n",
       "      <td>Крайние значения</td>\n",
       "    </tr>\n",
       "    <tr>\n",
       "      <th>неоконченное высшее</th>\n",
       "      <td>0</td>\n",
       "      <td>0</td>\n",
       "      <td>NaN</td>\n",
       "      <td>NaN</td>\n",
       "      <td>NaN</td>\n",
       "      <td>Крайние значения</td>\n",
       "    </tr>\n",
       "    <tr>\n",
       "      <th>среднее</th>\n",
       "      <td>0</td>\n",
       "      <td>0</td>\n",
       "      <td>NaN</td>\n",
       "      <td>NaN</td>\n",
       "      <td>NaN</td>\n",
       "      <td>Крайние значения</td>\n",
       "    </tr>\n",
       "    <tr>\n",
       "      <th>ученая степень</th>\n",
       "      <td>0</td>\n",
       "      <td>0</td>\n",
       "      <td>NaN</td>\n",
       "      <td>NaN</td>\n",
       "      <td>NaN</td>\n",
       "      <td>Крайние значения</td>\n",
       "    </tr>\n",
       "  </tbody>\n",
       "</table>\n",
       "<p>160 rows × 6 columns</p>\n",
       "</div>"
      ],
      "text/plain": [
       "debt_group                                            без просрочек  \\\n",
       "total_income_group   income_type education                            \n",
       "низкие доходы        безработный среднее                          0   \n",
       "                     в декрете   среднее                          0   \n",
       "                     госслужащий начальное                        2   \n",
       "средние доходы       сотрудник   начальное                       30   \n",
       "выше среднего доходы компаньон   начальное                        5   \n",
       "...                                                             ...   \n",
       "высокие доходы       студент     высшее                           0   \n",
       "                                 начальное                        0   \n",
       "                                 неоконченное высшее              0   \n",
       "                                 среднее                          0   \n",
       "                                 ученая степень                   0   \n",
       "\n",
       "debt_group                                            с просрочкой  \\\n",
       "total_income_group   income_type education                           \n",
       "низкие доходы        безработный среднее                         1   \n",
       "                     в декрете   среднее                         1   \n",
       "                     госслужащий начальное                       1   \n",
       "средние доходы       сотрудник   начальное                      11   \n",
       "выше среднего доходы компаньон   начальное                       1   \n",
       "...                                                            ...   \n",
       "высокие доходы       студент     высшее                          0   \n",
       "                                 начальное                       0   \n",
       "                                 неоконченное высшее             0   \n",
       "                                 среднее                         0   \n",
       "                                 ученая степень                  0   \n",
       "\n",
       "debt_group                                            avg_debt_%  deviation  \\\n",
       "total_income_group   income_type education                                    \n",
       "низкие доходы        безработный среднее                  100.00     -91.88   \n",
       "                     в декрете   среднее                  100.00     -91.88   \n",
       "                     госслужащий начальное                 33.33     -25.21   \n",
       "средние доходы       сотрудник   начальное                 26.83     -18.71   \n",
       "выше среднего доходы компаньон   начальное                 16.67      -8.55   \n",
       "...                                                          ...        ...   \n",
       "высокие доходы       студент     высшее                      NaN        NaN   \n",
       "                                 начальное                   NaN        NaN   \n",
       "                                 неоконченное высшее         NaN        NaN   \n",
       "                                 среднее                     NaN        NaN   \n",
       "                                 ученая степень              NaN        NaN   \n",
       "\n",
       "debt_group                                            deviation_%  \\\n",
       "total_income_group   income_type education                          \n",
       "низкие доходы        безработный среднее                    -91.9   \n",
       "                     в декрете   среднее                    -91.9   \n",
       "                     госслужащий начальное                  -75.6   \n",
       "средние доходы       сотрудник   начальное                  -69.7   \n",
       "выше среднего доходы компаньон   начальное                  -51.3   \n",
       "...                                                           ...   \n",
       "высокие доходы       студент     высшее                       NaN   \n",
       "                                 начальное                    NaN   \n",
       "                                 неоконченное высшее          NaN   \n",
       "                                 среднее                      NaN   \n",
       "                                 ученая степень               NaN   \n",
       "\n",
       "debt_group                                           category_special_case  \n",
       "total_income_group   income_type education                                  \n",
       "низкие доходы        безработный среднее               Критический случай!  \n",
       "                     в декрете   среднее               Критический случай!  \n",
       "                     госслужащий начальное             Критический случай!  \n",
       "средние доходы       сотрудник   начальное             Критический случай!  \n",
       "выше среднего доходы компаньон   начальное             Критический случай!  \n",
       "...                                                                    ...  \n",
       "высокие доходы       студент     высшее                   Крайние значения  \n",
       "                                 начальное                Крайние значения  \n",
       "                                 неоконченное высшее      Крайние значения  \n",
       "                                 среднее                  Крайние значения  \n",
       "                                 ученая степень           Крайние значения  \n",
       "\n",
       "[160 rows x 6 columns]"
      ]
     },
     "metadata": {},
     "output_type": "display_data"
    },
    {
     "name": "stdout",
     "output_type": "stream",
     "text": [
      "Зависимость категорий total_income_group с income_type и purpose_lemma:\n"
     ]
    },
    {
     "data": {
      "text/html": [
       "<div>\n",
       "<style scoped>\n",
       "    .dataframe tbody tr th:only-of-type {\n",
       "        vertical-align: middle;\n",
       "    }\n",
       "\n",
       "    .dataframe tbody tr th {\n",
       "        vertical-align: top;\n",
       "    }\n",
       "\n",
       "    .dataframe thead th {\n",
       "        text-align: right;\n",
       "    }\n",
       "</style>\n",
       "<table border=\"1\" class=\"dataframe\">\n",
       "  <thead>\n",
       "    <tr style=\"text-align: right;\">\n",
       "      <th></th>\n",
       "      <th></th>\n",
       "      <th>debt_group</th>\n",
       "      <th>без просрочек</th>\n",
       "      <th>с просрочкой</th>\n",
       "      <th>avg_debt_%</th>\n",
       "      <th>deviation</th>\n",
       "      <th>deviation_%</th>\n",
       "      <th>category_special_case</th>\n",
       "    </tr>\n",
       "    <tr>\n",
       "      <th>total_income_group</th>\n",
       "      <th>income_type</th>\n",
       "      <th>purpose_lemma</th>\n",
       "      <th></th>\n",
       "      <th></th>\n",
       "      <th></th>\n",
       "      <th></th>\n",
       "      <th></th>\n",
       "      <th></th>\n",
       "    </tr>\n",
       "  </thead>\n",
       "  <tbody>\n",
       "    <tr>\n",
       "      <th rowspan=\"3\" valign=\"top\">низкие доходы</th>\n",
       "      <th>безработный</th>\n",
       "      <th>на недвижимость</th>\n",
       "      <td>0</td>\n",
       "      <td>1</td>\n",
       "      <td>100.00</td>\n",
       "      <td>-91.88</td>\n",
       "      <td>-91.9</td>\n",
       "      <td>Критический случай!</td>\n",
       "    </tr>\n",
       "    <tr>\n",
       "      <th>в декрете</th>\n",
       "      <th>на автомобиль</th>\n",
       "      <td>0</td>\n",
       "      <td>1</td>\n",
       "      <td>100.00</td>\n",
       "      <td>-91.88</td>\n",
       "      <td>-91.9</td>\n",
       "      <td>Критический случай!</td>\n",
       "    </tr>\n",
       "    <tr>\n",
       "      <th>компаньон</th>\n",
       "      <th>на свадьбу</th>\n",
       "      <td>70</td>\n",
       "      <td>12</td>\n",
       "      <td>14.63</td>\n",
       "      <td>-6.51</td>\n",
       "      <td>-44.5</td>\n",
       "      <td>Особая проблемная ситуация!</td>\n",
       "    </tr>\n",
       "    <tr>\n",
       "      <th rowspan=\"2\" valign=\"top\">выше среднего доходы</th>\n",
       "      <th>сотрудник</th>\n",
       "      <th>на автомобиль</th>\n",
       "      <td>395</td>\n",
       "      <td>65</td>\n",
       "      <td>14.13</td>\n",
       "      <td>-6.01</td>\n",
       "      <td>-42.5</td>\n",
       "      <td>Особая проблемная ситуация!</td>\n",
       "    </tr>\n",
       "    <tr>\n",
       "      <th>компаньон</th>\n",
       "      <th>на свадьбу</th>\n",
       "      <td>151</td>\n",
       "      <td>22</td>\n",
       "      <td>12.72</td>\n",
       "      <td>-4.60</td>\n",
       "      <td>-36.2</td>\n",
       "      <td>Особая проблемная ситуация!</td>\n",
       "    </tr>\n",
       "    <tr>\n",
       "      <th>...</th>\n",
       "      <th>...</th>\n",
       "      <th>...</th>\n",
       "      <td>...</td>\n",
       "      <td>...</td>\n",
       "      <td>...</td>\n",
       "      <td>...</td>\n",
       "      <td>...</td>\n",
       "      <td>...</td>\n",
       "    </tr>\n",
       "    <tr>\n",
       "      <th rowspan=\"5\" valign=\"top\">высокие доходы</th>\n",
       "      <th>предприниматель</th>\n",
       "      <th>на образование</th>\n",
       "      <td>0</td>\n",
       "      <td>0</td>\n",
       "      <td>NaN</td>\n",
       "      <td>NaN</td>\n",
       "      <td>NaN</td>\n",
       "      <td>Крайние значения</td>\n",
       "    </tr>\n",
       "    <tr>\n",
       "      <th rowspan=\"4\" valign=\"top\">студент</th>\n",
       "      <th>на автомобиль</th>\n",
       "      <td>0</td>\n",
       "      <td>0</td>\n",
       "      <td>NaN</td>\n",
       "      <td>NaN</td>\n",
       "      <td>NaN</td>\n",
       "      <td>Крайние значения</td>\n",
       "    </tr>\n",
       "    <tr>\n",
       "      <th>на недвижимость</th>\n",
       "      <td>0</td>\n",
       "      <td>0</td>\n",
       "      <td>NaN</td>\n",
       "      <td>NaN</td>\n",
       "      <td>NaN</td>\n",
       "      <td>Крайние значения</td>\n",
       "    </tr>\n",
       "    <tr>\n",
       "      <th>на образование</th>\n",
       "      <td>0</td>\n",
       "      <td>0</td>\n",
       "      <td>NaN</td>\n",
       "      <td>NaN</td>\n",
       "      <td>NaN</td>\n",
       "      <td>Крайние значения</td>\n",
       "    </tr>\n",
       "    <tr>\n",
       "      <th>на свадьбу</th>\n",
       "      <td>0</td>\n",
       "      <td>0</td>\n",
       "      <td>NaN</td>\n",
       "      <td>NaN</td>\n",
       "      <td>NaN</td>\n",
       "      <td>Крайние значения</td>\n",
       "    </tr>\n",
       "  </tbody>\n",
       "</table>\n",
       "<p>128 rows × 6 columns</p>\n",
       "</div>"
      ],
      "text/plain": [
       "debt_group                                            без просрочек  \\\n",
       "total_income_group   income_type     purpose_lemma                    \n",
       "низкие доходы        безработный     на недвижимость              0   \n",
       "                     в декрете       на автомобиль                0   \n",
       "                     компаньон       на свадьбу                  70   \n",
       "выше среднего доходы сотрудник       на автомобиль              395   \n",
       "                     компаньон       на свадьбу                 151   \n",
       "...                                                             ...   \n",
       "высокие доходы       предприниматель на образование               0   \n",
       "                     студент         на автомобиль                0   \n",
       "                                     на недвижимость              0   \n",
       "                                     на образование               0   \n",
       "                                     на свадьбу                   0   \n",
       "\n",
       "debt_group                                            с просрочкой  \\\n",
       "total_income_group   income_type     purpose_lemma                   \n",
       "низкие доходы        безработный     на недвижимость             1   \n",
       "                     в декрете       на автомобиль               1   \n",
       "                     компаньон       на свадьбу                 12   \n",
       "выше среднего доходы сотрудник       на автомобиль              65   \n",
       "                     компаньон       на свадьбу                 22   \n",
       "...                                                            ...   \n",
       "высокие доходы       предприниматель на образование              0   \n",
       "                     студент         на автомобиль               0   \n",
       "                                     на недвижимость             0   \n",
       "                                     на образование              0   \n",
       "                                     на свадьбу                  0   \n",
       "\n",
       "debt_group                                            avg_debt_%  deviation  \\\n",
       "total_income_group   income_type     purpose_lemma                            \n",
       "низкие доходы        безработный     на недвижимость      100.00     -91.88   \n",
       "                     в декрете       на автомобиль        100.00     -91.88   \n",
       "                     компаньон       на свадьбу            14.63      -6.51   \n",
       "выше среднего доходы сотрудник       на автомобиль         14.13      -6.01   \n",
       "                     компаньон       на свадьбу            12.72      -4.60   \n",
       "...                                                          ...        ...   \n",
       "высокие доходы       предприниматель на образование          NaN        NaN   \n",
       "                     студент         на автомобиль           NaN        NaN   \n",
       "                                     на недвижимость         NaN        NaN   \n",
       "                                     на образование          NaN        NaN   \n",
       "                                     на свадьбу              NaN        NaN   \n",
       "\n",
       "debt_group                                            deviation_%  \\\n",
       "total_income_group   income_type     purpose_lemma                  \n",
       "низкие доходы        безработный     на недвижимость        -91.9   \n",
       "                     в декрете       на автомобиль          -91.9   \n",
       "                     компаньон       на свадьбу             -44.5   \n",
       "выше среднего доходы сотрудник       на автомобиль          -42.5   \n",
       "                     компаньон       на свадьбу             -36.2   \n",
       "...                                                           ...   \n",
       "высокие доходы       предприниматель на образование           NaN   \n",
       "                     студент         на автомобиль            NaN   \n",
       "                                     на недвижимость          NaN   \n",
       "                                     на образование           NaN   \n",
       "                                     на свадьбу               NaN   \n",
       "\n",
       "debt_group                                                  category_special_case  \n",
       "total_income_group   income_type     purpose_lemma                                 \n",
       "низкие доходы        безработный     на недвижимость          Критический случай!  \n",
       "                     в декрете       на автомобиль            Критический случай!  \n",
       "                     компаньон       на свадьбу       Особая проблемная ситуация!  \n",
       "выше среднего доходы сотрудник       на автомобиль    Особая проблемная ситуация!  \n",
       "                     компаньон       на свадьбу       Особая проблемная ситуация!  \n",
       "...                                                                           ...  \n",
       "высокие доходы       предприниматель на образование              Крайние значения  \n",
       "                     студент         на автомобиль               Крайние значения  \n",
       "                                     на недвижимость             Крайние значения  \n",
       "                                     на образование              Крайние значения  \n",
       "                                     на свадьбу                  Крайние значения  \n",
       "\n",
       "[128 rows x 6 columns]"
      ]
     },
     "metadata": {},
     "output_type": "display_data"
    }
   ],
   "source": [
    "#применим функцию для комбинации основной категории с двумя дополнительными\n",
    "create_combination_twice('total_income_group', list_addiction_with_total_income_group)"
   ]
  },
  {
   "cell_type": "markdown",
   "metadata": {},
   "source": [
    "**Вывод**"
   ]
  },
  {
   "cell_type": "markdown",
   "metadata": {},
   "source": [
    "На вопрос \"Есть ли зависимость между уровнем дохода и возвратом кредита в срок?\", можно сказать следующее - есть отклонение/зависимость в худшую сторону у заемщиков со \"средними доходами\" и с \"выше среднего доходами\" на 13,8% и 4,6% соответственно от исходной средней величины. Положительные результаты у категорий \"низкие доходы\", \"высокие доходы\" на 6%, 18,2% соответственно.\n",
    "\n",
    "Стоит отметить в комбинациях с полом и целями, есть ярко выраженные положительный перевес женского пола.\n",
    "\n",
    "Как и в других, ранее проведенных комбинациях, есть явная зависимость от уровня образования."
   ]
  },
  {
   "cell_type": "markdown",
   "metadata": {},
   "source": [
    "#### Зависимость с учетом целей кредита"
   ]
  },
  {
   "cell_type": "markdown",
   "metadata": {},
   "source": [
    "- Как разные цели кредита влияют на его возврат в срок?"
   ]
  },
  {
   "cell_type": "code",
   "execution_count": 61,
   "metadata": {
    "scrolled": true
   },
   "outputs": [
    {
     "data": {
      "text/html": [
       "<div>\n",
       "<style scoped>\n",
       "    .dataframe tbody tr th:only-of-type {\n",
       "        vertical-align: middle;\n",
       "    }\n",
       "\n",
       "    .dataframe tbody tr th {\n",
       "        vertical-align: top;\n",
       "    }\n",
       "\n",
       "    .dataframe thead th {\n",
       "        text-align: right;\n",
       "    }\n",
       "</style>\n",
       "<table border=\"1\" class=\"dataframe\">\n",
       "  <thead>\n",
       "    <tr style=\"text-align: right;\">\n",
       "      <th>debt_group</th>\n",
       "      <th>без просрочек</th>\n",
       "      <th>с просрочкой</th>\n",
       "      <th>avg_debt_%</th>\n",
       "      <th>deviation</th>\n",
       "      <th>deviation_%</th>\n",
       "      <th>category_special_case</th>\n",
       "    </tr>\n",
       "    <tr>\n",
       "      <th>purpose_lemma</th>\n",
       "      <th></th>\n",
       "      <th></th>\n",
       "      <th></th>\n",
       "      <th></th>\n",
       "      <th></th>\n",
       "      <th></th>\n",
       "    </tr>\n",
       "  </thead>\n",
       "  <tbody>\n",
       "    <tr>\n",
       "      <th>на автомобиль</th>\n",
       "      <td>3902</td>\n",
       "      <td>403</td>\n",
       "      <td>9.36</td>\n",
       "      <td>-1.24</td>\n",
       "      <td>-13.2</td>\n",
       "      <td>Проблемная ситуация.</td>\n",
       "    </tr>\n",
       "    <tr>\n",
       "      <th>на образование</th>\n",
       "      <td>3643</td>\n",
       "      <td>370</td>\n",
       "      <td>9.22</td>\n",
       "      <td>-1.10</td>\n",
       "      <td>-11.9</td>\n",
       "      <td>Проблемная ситуация.</td>\n",
       "    </tr>\n",
       "    <tr>\n",
       "      <th>на свадьбу</th>\n",
       "      <td>2138</td>\n",
       "      <td>186</td>\n",
       "      <td>8.00</td>\n",
       "      <td>0.12</td>\n",
       "      <td>1.5</td>\n",
       "      <td>Хорошая ситуация</td>\n",
       "    </tr>\n",
       "    <tr>\n",
       "      <th>на недвижимость</th>\n",
       "      <td>10029</td>\n",
       "      <td>782</td>\n",
       "      <td>7.23</td>\n",
       "      <td>0.89</td>\n",
       "      <td>12.3</td>\n",
       "      <td>Хорошая ситуация</td>\n",
       "    </tr>\n",
       "  </tbody>\n",
       "</table>\n",
       "</div>"
      ],
      "text/plain": [
       "debt_group       без просрочек  с просрочкой  avg_debt_%  deviation  \\\n",
       "purpose_lemma                                                         \n",
       "на автомобиль             3902           403        9.36      -1.24   \n",
       "на образование            3643           370        9.22      -1.10   \n",
       "на свадьбу                2138           186        8.00       0.12   \n",
       "на недвижимость          10029           782        7.23       0.89   \n",
       "\n",
       "debt_group       deviation_% category_special_case  \n",
       "purpose_lemma                                       \n",
       "на автомобиль          -13.2  Проблемная ситуация.  \n",
       "на образование         -11.9  Проблемная ситуация.  \n",
       "на свадьбу               1.5      Хорошая ситуация  \n",
       "на недвижимость         12.3      Хорошая ситуация  "
      ]
     },
     "metadata": {},
     "output_type": "display_data"
    }
   ],
   "source": [
    "#сформируем сводную таблицу\n",
    "data_pivot_purpose = pd.pivot_table(df, index = ['purpose_lemma'], \\\n",
    "                            columns = 'debt_group', values = 'debt', aggfunc = 'count')\n",
    "\n",
    "#добавим столбец относительной величины просрочек к общим кредитам\n",
    "data_pivot_purpose['avg_debt_%'] = round(data_pivot_purpose['с просрочкой'] \\\n",
    "                          / (data_pivot_purpose['с просрочкой'] + data_pivot_purpose['без просрочек']) * 100, 2)\n",
    "\n",
    "#добавим столбец, в котором покажем с отклонениями от среднего показателия\n",
    "data_pivot_purpose['deviation'] = round(avg_debt - data_pivot_purpose['avg_debt_%'], 2)\n",
    "\n",
    "#добавим столбец, показывающий на сколько % отклонение от средней величины\n",
    "data_pivot_purpose['deviation_%'] = round(data_pivot_purpose['deviation'] / data_pivot_purpose['avg_debt_%'] * 100, 1)\n",
    "\n",
    "#применим функцию категоризации отклонений от среднего показателия\n",
    "category_special_case(data_pivot_purpose)\n",
    "\n",
    "#выведим таблицу на экран и одновременно отсортируем по столбцу отклонений от среднего\n",
    "display(data_pivot_purpose.sort_values('deviation', ascending=True))\n"
   ]
  },
  {
   "cell_type": "markdown",
   "metadata": {},
   "source": [
    "Как видим из таблицы при применении только одного вида категории, а в данном случае это по целям кредита, отклонения от среднего значения, также как и в предыдущем исследовании есть, отклонения от среднего значения в районе 11-13% в проблемную сторону и до 12% в положительную сторону.\n",
    "\n",
    "Поэтому сделаем комбинации с другими категориями и посмотрим меняются ли отклонения, есть ли зависимости в комбинациях. Применим дополнительно по очереди следующие зависимости:\n",
    "* пол\n",
    "* рабочий статус\n",
    "* образование\n",
    "\n",
    "Категории: \"наличие детей\", \"семейный статус\", \"уровень доходов\" мы уже  использовать с \"целями кредита\" не будем, т.к. уже использовали в предыдущем исследовании."
   ]
  },
  {
   "cell_type": "code",
   "execution_count": 62,
   "metadata": {},
   "outputs": [],
   "source": [
    "#создаем лист из возможных дополнительных комбинаций\n",
    "list_addiction_with_purpose_lemma = ['gender', 'income_type', 'education']"
   ]
  },
  {
   "cell_type": "code",
   "execution_count": 63,
   "metadata": {
    "scrolled": false
   },
   "outputs": [
    {
     "name": "stdout",
     "output_type": "stream",
     "text": [
      "Зависимость категорий purpose_lemma и gender:\n"
     ]
    },
    {
     "data": {
      "text/html": [
       "<div>\n",
       "<style scoped>\n",
       "    .dataframe tbody tr th:only-of-type {\n",
       "        vertical-align: middle;\n",
       "    }\n",
       "\n",
       "    .dataframe tbody tr th {\n",
       "        vertical-align: top;\n",
       "    }\n",
       "\n",
       "    .dataframe thead th {\n",
       "        text-align: right;\n",
       "    }\n",
       "</style>\n",
       "<table border=\"1\" class=\"dataframe\">\n",
       "  <thead>\n",
       "    <tr style=\"text-align: right;\">\n",
       "      <th></th>\n",
       "      <th>debt_group</th>\n",
       "      <th>без просрочек</th>\n",
       "      <th>с просрочкой</th>\n",
       "      <th>avg_debt_%</th>\n",
       "      <th>deviation</th>\n",
       "      <th>deviation_%</th>\n",
       "      <th>category_special_case</th>\n",
       "    </tr>\n",
       "    <tr>\n",
       "      <th>purpose_lemma</th>\n",
       "      <th>gender</th>\n",
       "      <th></th>\n",
       "      <th></th>\n",
       "      <th></th>\n",
       "      <th></th>\n",
       "      <th></th>\n",
       "      <th></th>\n",
       "    </tr>\n",
       "  </thead>\n",
       "  <tbody>\n",
       "    <tr>\n",
       "      <th>на образование</th>\n",
       "      <th>m</th>\n",
       "      <td>1183.0</td>\n",
       "      <td>163.0</td>\n",
       "      <td>12.11</td>\n",
       "      <td>-3.99</td>\n",
       "      <td>-32.9</td>\n",
       "      <td>Проблемная ситуация.</td>\n",
       "    </tr>\n",
       "    <tr>\n",
       "      <th>на автомобиль</th>\n",
       "      <th>m</th>\n",
       "      <td>1278.0</td>\n",
       "      <td>168.0</td>\n",
       "      <td>11.62</td>\n",
       "      <td>-3.50</td>\n",
       "      <td>-30.1</td>\n",
       "      <td>Проблемная ситуация.</td>\n",
       "    </tr>\n",
       "    <tr>\n",
       "      <th>на свадьбу</th>\n",
       "      <th>m</th>\n",
       "      <td>684.0</td>\n",
       "      <td>78.0</td>\n",
       "      <td>10.24</td>\n",
       "      <td>-2.12</td>\n",
       "      <td>-20.7</td>\n",
       "      <td>Проблемная ситуация.</td>\n",
       "    </tr>\n",
       "    <tr>\n",
       "      <th>на недвижимость</th>\n",
       "      <th>m</th>\n",
       "      <td>3387.0</td>\n",
       "      <td>338.0</td>\n",
       "      <td>9.07</td>\n",
       "      <td>-0.95</td>\n",
       "      <td>-10.5</td>\n",
       "      <td>Проблемная ситуация.</td>\n",
       "    </tr>\n",
       "    <tr>\n",
       "      <th>на автомобиль</th>\n",
       "      <th>f</th>\n",
       "      <td>2624.0</td>\n",
       "      <td>235.0</td>\n",
       "      <td>8.22</td>\n",
       "      <td>-0.10</td>\n",
       "      <td>-1.2</td>\n",
       "      <td>Проблемная ситуация.</td>\n",
       "    </tr>\n",
       "    <tr>\n",
       "      <th>на образование</th>\n",
       "      <th>f</th>\n",
       "      <td>2460.0</td>\n",
       "      <td>207.0</td>\n",
       "      <td>7.76</td>\n",
       "      <td>0.36</td>\n",
       "      <td>4.6</td>\n",
       "      <td>Хорошая ситуация</td>\n",
       "    </tr>\n",
       "    <tr>\n",
       "      <th>на свадьбу</th>\n",
       "      <th>f</th>\n",
       "      <td>1454.0</td>\n",
       "      <td>108.0</td>\n",
       "      <td>6.91</td>\n",
       "      <td>1.21</td>\n",
       "      <td>17.5</td>\n",
       "      <td>Хорошая ситуация</td>\n",
       "    </tr>\n",
       "    <tr>\n",
       "      <th rowspan=\"2\" valign=\"top\">на недвижимость</th>\n",
       "      <th>f</th>\n",
       "      <td>6641.0</td>\n",
       "      <td>444.0</td>\n",
       "      <td>6.27</td>\n",
       "      <td>1.85</td>\n",
       "      <td>29.5</td>\n",
       "      <td>Хорошая ситуация</td>\n",
       "    </tr>\n",
       "    <tr>\n",
       "      <th>xna</th>\n",
       "      <td>1.0</td>\n",
       "      <td>NaN</td>\n",
       "      <td>NaN</td>\n",
       "      <td>NaN</td>\n",
       "      <td>NaN</td>\n",
       "      <td>Крайние значения</td>\n",
       "    </tr>\n",
       "  </tbody>\n",
       "</table>\n",
       "</div>"
      ],
      "text/plain": [
       "debt_group              без просрочек  с просрочкой  avg_debt_%  deviation  \\\n",
       "purpose_lemma   gender                                                       \n",
       "на образование  m              1183.0         163.0       12.11      -3.99   \n",
       "на автомобиль   m              1278.0         168.0       11.62      -3.50   \n",
       "на свадьбу      m               684.0          78.0       10.24      -2.12   \n",
       "на недвижимость m              3387.0         338.0        9.07      -0.95   \n",
       "на автомобиль   f              2624.0         235.0        8.22      -0.10   \n",
       "на образование  f              2460.0         207.0        7.76       0.36   \n",
       "на свадьбу      f              1454.0         108.0        6.91       1.21   \n",
       "на недвижимость f              6641.0         444.0        6.27       1.85   \n",
       "                xna               1.0           NaN         NaN        NaN   \n",
       "\n",
       "debt_group              deviation_% category_special_case  \n",
       "purpose_lemma   gender                                     \n",
       "на образование  m             -32.9  Проблемная ситуация.  \n",
       "на автомобиль   m             -30.1  Проблемная ситуация.  \n",
       "на свадьбу      m             -20.7  Проблемная ситуация.  \n",
       "на недвижимость m             -10.5  Проблемная ситуация.  \n",
       "на автомобиль   f              -1.2  Проблемная ситуация.  \n",
       "на образование  f               4.6      Хорошая ситуация  \n",
       "на свадьбу      f              17.5      Хорошая ситуация  \n",
       "на недвижимость f              29.5      Хорошая ситуация  \n",
       "                xna             NaN      Крайние значения  "
      ]
     },
     "metadata": {},
     "output_type": "display_data"
    },
    {
     "name": "stdout",
     "output_type": "stream",
     "text": [
      "Зависимость категорий purpose_lemma и income_type:\n"
     ]
    },
    {
     "data": {
      "text/html": [
       "<div>\n",
       "<style scoped>\n",
       "    .dataframe tbody tr th:only-of-type {\n",
       "        vertical-align: middle;\n",
       "    }\n",
       "\n",
       "    .dataframe tbody tr th {\n",
       "        vertical-align: top;\n",
       "    }\n",
       "\n",
       "    .dataframe thead th {\n",
       "        text-align: right;\n",
       "    }\n",
       "</style>\n",
       "<table border=\"1\" class=\"dataframe\">\n",
       "  <thead>\n",
       "    <tr style=\"text-align: right;\">\n",
       "      <th></th>\n",
       "      <th>debt_group</th>\n",
       "      <th>без просрочек</th>\n",
       "      <th>с просрочкой</th>\n",
       "      <th>avg_debt_%</th>\n",
       "      <th>deviation</th>\n",
       "      <th>deviation_%</th>\n",
       "      <th>category_special_case</th>\n",
       "    </tr>\n",
       "    <tr>\n",
       "      <th>purpose_lemma</th>\n",
       "      <th>income_type</th>\n",
       "      <th></th>\n",
       "      <th></th>\n",
       "      <th></th>\n",
       "      <th></th>\n",
       "      <th></th>\n",
       "      <th></th>\n",
       "    </tr>\n",
       "  </thead>\n",
       "  <tbody>\n",
       "    <tr>\n",
       "      <th>на недвижимость</th>\n",
       "      <th>безработный</th>\n",
       "      <td>1.0</td>\n",
       "      <td>1.0</td>\n",
       "      <td>50.00</td>\n",
       "      <td>-41.88</td>\n",
       "      <td>-83.8</td>\n",
       "      <td>Критический случай!</td>\n",
       "    </tr>\n",
       "    <tr>\n",
       "      <th>на автомобиль</th>\n",
       "      <th>сотрудник</th>\n",
       "      <td>1928.0</td>\n",
       "      <td>244.0</td>\n",
       "      <td>11.23</td>\n",
       "      <td>-3.11</td>\n",
       "      <td>-27.7</td>\n",
       "      <td>Проблемная ситуация.</td>\n",
       "    </tr>\n",
       "    <tr>\n",
       "      <th>на образование</th>\n",
       "      <th>сотрудник</th>\n",
       "      <td>1851.0</td>\n",
       "      <td>229.0</td>\n",
       "      <td>11.01</td>\n",
       "      <td>-2.89</td>\n",
       "      <td>-26.2</td>\n",
       "      <td>Проблемная ситуация.</td>\n",
       "    </tr>\n",
       "    <tr>\n",
       "      <th>на свадьбу</th>\n",
       "      <th>компаньон</th>\n",
       "      <td>473.0</td>\n",
       "      <td>52.0</td>\n",
       "      <td>9.90</td>\n",
       "      <td>-1.78</td>\n",
       "      <td>-18.0</td>\n",
       "      <td>Проблемная ситуация.</td>\n",
       "    </tr>\n",
       "    <tr>\n",
       "      <th>на недвижимость</th>\n",
       "      <th>сотрудник</th>\n",
       "      <td>5129.0</td>\n",
       "      <td>486.0</td>\n",
       "      <td>8.66</td>\n",
       "      <td>-0.54</td>\n",
       "      <td>-6.2</td>\n",
       "      <td>Проблемная ситуация.</td>\n",
       "    </tr>\n",
       "    <tr>\n",
       "      <th>на свадьбу</th>\n",
       "      <th>сотрудник</th>\n",
       "      <td>1115.0</td>\n",
       "      <td>102.0</td>\n",
       "      <td>8.38</td>\n",
       "      <td>-0.26</td>\n",
       "      <td>-3.1</td>\n",
       "      <td>Проблемная ситуация.</td>\n",
       "    </tr>\n",
       "    <tr>\n",
       "      <th>на образование</th>\n",
       "      <th>госслужащий</th>\n",
       "      <td>237.0</td>\n",
       "      <td>21.0</td>\n",
       "      <td>8.14</td>\n",
       "      <td>-0.02</td>\n",
       "      <td>-0.2</td>\n",
       "      <td>Проблемная ситуация.</td>\n",
       "    </tr>\n",
       "    <tr>\n",
       "      <th rowspan=\"2\" valign=\"top\">на автомобиль</th>\n",
       "      <th>компаньон</th>\n",
       "      <td>967.0</td>\n",
       "      <td>85.0</td>\n",
       "      <td>8.08</td>\n",
       "      <td>0.04</td>\n",
       "      <td>0.5</td>\n",
       "      <td>Хорошая ситуация</td>\n",
       "    </tr>\n",
       "    <tr>\n",
       "      <th>госслужащий</th>\n",
       "      <td>263.0</td>\n",
       "      <td>22.0</td>\n",
       "      <td>7.72</td>\n",
       "      <td>0.40</td>\n",
       "      <td>5.2</td>\n",
       "      <td>Хорошая ситуация</td>\n",
       "    </tr>\n",
       "    <tr>\n",
       "      <th rowspan=\"2\" valign=\"top\">на образование</th>\n",
       "      <th>компаньон</th>\n",
       "      <td>882.0</td>\n",
       "      <td>72.0</td>\n",
       "      <td>7.55</td>\n",
       "      <td>0.57</td>\n",
       "      <td>7.5</td>\n",
       "      <td>Хорошая ситуация</td>\n",
       "    </tr>\n",
       "    <tr>\n",
       "      <th>пенсионер</th>\n",
       "      <td>673.0</td>\n",
       "      <td>48.0</td>\n",
       "      <td>6.66</td>\n",
       "      <td>1.46</td>\n",
       "      <td>21.9</td>\n",
       "      <td>Хорошая ситуация</td>\n",
       "    </tr>\n",
       "    <tr>\n",
       "      <th>на недвижимость</th>\n",
       "      <th>компаньон</th>\n",
       "      <td>2380.0</td>\n",
       "      <td>167.0</td>\n",
       "      <td>6.56</td>\n",
       "      <td>1.56</td>\n",
       "      <td>23.8</td>\n",
       "      <td>Хорошая ситуация</td>\n",
       "    </tr>\n",
       "    <tr>\n",
       "      <th>на автомобиль</th>\n",
       "      <th>пенсионер</th>\n",
       "      <td>744.0</td>\n",
       "      <td>51.0</td>\n",
       "      <td>6.42</td>\n",
       "      <td>1.70</td>\n",
       "      <td>26.5</td>\n",
       "      <td>Хорошая ситуация</td>\n",
       "    </tr>\n",
       "    <tr>\n",
       "      <th>на свадьбу</th>\n",
       "      <th>пенсионер</th>\n",
       "      <td>397.0</td>\n",
       "      <td>25.0</td>\n",
       "      <td>5.92</td>\n",
       "      <td>2.20</td>\n",
       "      <td>37.2</td>\n",
       "      <td>Хорошая ситуация</td>\n",
       "    </tr>\n",
       "    <tr>\n",
       "      <th rowspan=\"2\" valign=\"top\">на недвижимость</th>\n",
       "      <th>пенсионер</th>\n",
       "      <td>1799.0</td>\n",
       "      <td>92.0</td>\n",
       "      <td>4.87</td>\n",
       "      <td>3.25</td>\n",
       "      <td>66.7</td>\n",
       "      <td>Хорошая ситуация</td>\n",
       "    </tr>\n",
       "    <tr>\n",
       "      <th>госслужащий</th>\n",
       "      <td>718.0</td>\n",
       "      <td>36.0</td>\n",
       "      <td>4.77</td>\n",
       "      <td>3.35</td>\n",
       "      <td>70.2</td>\n",
       "      <td>Хорошая ситуация</td>\n",
       "    </tr>\n",
       "    <tr>\n",
       "      <th>на свадьбу</th>\n",
       "      <th>госслужащий</th>\n",
       "      <td>152.0</td>\n",
       "      <td>7.0</td>\n",
       "      <td>4.40</td>\n",
       "      <td>3.72</td>\n",
       "      <td>84.5</td>\n",
       "      <td>Хорошая ситуация</td>\n",
       "    </tr>\n",
       "    <tr>\n",
       "      <th>на автомобиль</th>\n",
       "      <th>в декрете</th>\n",
       "      <td>NaN</td>\n",
       "      <td>1.0</td>\n",
       "      <td>NaN</td>\n",
       "      <td>NaN</td>\n",
       "      <td>NaN</td>\n",
       "      <td>Крайние значения</td>\n",
       "    </tr>\n",
       "    <tr>\n",
       "      <th rowspan=\"2\" valign=\"top\">на недвижимость</th>\n",
       "      <th>предприниматель</th>\n",
       "      <td>1.0</td>\n",
       "      <td>NaN</td>\n",
       "      <td>NaN</td>\n",
       "      <td>NaN</td>\n",
       "      <td>NaN</td>\n",
       "      <td>Крайние значения</td>\n",
       "    </tr>\n",
       "    <tr>\n",
       "      <th>студент</th>\n",
       "      <td>1.0</td>\n",
       "      <td>NaN</td>\n",
       "      <td>NaN</td>\n",
       "      <td>NaN</td>\n",
       "      <td>NaN</td>\n",
       "      <td>Крайние значения</td>\n",
       "    </tr>\n",
       "    <tr>\n",
       "      <th>на свадьбу</th>\n",
       "      <th>предприниматель</th>\n",
       "      <td>1.0</td>\n",
       "      <td>NaN</td>\n",
       "      <td>NaN</td>\n",
       "      <td>NaN</td>\n",
       "      <td>NaN</td>\n",
       "      <td>Крайние значения</td>\n",
       "    </tr>\n",
       "  </tbody>\n",
       "</table>\n",
       "</div>"
      ],
      "text/plain": [
       "debt_group                       без просрочек  с просрочкой  avg_debt_%  \\\n",
       "purpose_lemma   income_type                                                \n",
       "на недвижимость безработный                1.0           1.0       50.00   \n",
       "на автомобиль   сотрудник               1928.0         244.0       11.23   \n",
       "на образование  сотрудник               1851.0         229.0       11.01   \n",
       "на свадьбу      компаньон                473.0          52.0        9.90   \n",
       "на недвижимость сотрудник               5129.0         486.0        8.66   \n",
       "на свадьбу      сотрудник               1115.0         102.0        8.38   \n",
       "на образование  госслужащий              237.0          21.0        8.14   \n",
       "на автомобиль   компаньон                967.0          85.0        8.08   \n",
       "                госслужащий              263.0          22.0        7.72   \n",
       "на образование  компаньон                882.0          72.0        7.55   \n",
       "                пенсионер                673.0          48.0        6.66   \n",
       "на недвижимость компаньон               2380.0         167.0        6.56   \n",
       "на автомобиль   пенсионер                744.0          51.0        6.42   \n",
       "на свадьбу      пенсионер                397.0          25.0        5.92   \n",
       "на недвижимость пенсионер               1799.0          92.0        4.87   \n",
       "                госслужащий              718.0          36.0        4.77   \n",
       "на свадьбу      госслужащий              152.0           7.0        4.40   \n",
       "на автомобиль   в декрете                  NaN           1.0         NaN   \n",
       "на недвижимость предприниматель            1.0           NaN         NaN   \n",
       "                студент                    1.0           NaN         NaN   \n",
       "на свадьбу      предприниматель            1.0           NaN         NaN   \n",
       "\n",
       "debt_group                       deviation  deviation_% category_special_case  \n",
       "purpose_lemma   income_type                                                    \n",
       "на недвижимость безработный         -41.88        -83.8   Критический случай!  \n",
       "на автомобиль   сотрудник            -3.11        -27.7  Проблемная ситуация.  \n",
       "на образование  сотрудник            -2.89        -26.2  Проблемная ситуация.  \n",
       "на свадьбу      компаньон            -1.78        -18.0  Проблемная ситуация.  \n",
       "на недвижимость сотрудник            -0.54         -6.2  Проблемная ситуация.  \n",
       "на свадьбу      сотрудник            -0.26         -3.1  Проблемная ситуация.  \n",
       "на образование  госслужащий          -0.02         -0.2  Проблемная ситуация.  \n",
       "на автомобиль   компаньон             0.04          0.5      Хорошая ситуация  \n",
       "                госслужащий           0.40          5.2      Хорошая ситуация  \n",
       "на образование  компаньон             0.57          7.5      Хорошая ситуация  \n",
       "                пенсионер             1.46         21.9      Хорошая ситуация  \n",
       "на недвижимость компаньон             1.56         23.8      Хорошая ситуация  \n",
       "на автомобиль   пенсионер             1.70         26.5      Хорошая ситуация  \n",
       "на свадьбу      пенсионер             2.20         37.2      Хорошая ситуация  \n",
       "на недвижимость пенсионер             3.25         66.7      Хорошая ситуация  \n",
       "                госслужащий           3.35         70.2      Хорошая ситуация  \n",
       "на свадьбу      госслужащий           3.72         84.5      Хорошая ситуация  \n",
       "на автомобиль   в декрете              NaN          NaN      Крайние значения  \n",
       "на недвижимость предприниматель        NaN          NaN      Крайние значения  \n",
       "                студент                NaN          NaN      Крайние значения  \n",
       "на свадьбу      предприниматель        NaN          NaN      Крайние значения  "
      ]
     },
     "metadata": {},
     "output_type": "display_data"
    },
    {
     "name": "stdout",
     "output_type": "stream",
     "text": [
      "Зависимость категорий purpose_lemma и education:\n"
     ]
    },
    {
     "data": {
      "text/html": [
       "<div>\n",
       "<style scoped>\n",
       "    .dataframe tbody tr th:only-of-type {\n",
       "        vertical-align: middle;\n",
       "    }\n",
       "\n",
       "    .dataframe tbody tr th {\n",
       "        vertical-align: top;\n",
       "    }\n",
       "\n",
       "    .dataframe thead th {\n",
       "        text-align: right;\n",
       "    }\n",
       "</style>\n",
       "<table border=\"1\" class=\"dataframe\">\n",
       "  <thead>\n",
       "    <tr style=\"text-align: right;\">\n",
       "      <th></th>\n",
       "      <th>debt_group</th>\n",
       "      <th>без просрочек</th>\n",
       "      <th>с просрочкой</th>\n",
       "      <th>avg_debt_%</th>\n",
       "      <th>deviation</th>\n",
       "      <th>deviation_%</th>\n",
       "      <th>category_special_case</th>\n",
       "    </tr>\n",
       "    <tr>\n",
       "      <th>purpose_lemma</th>\n",
       "      <th>education</th>\n",
       "      <th></th>\n",
       "      <th></th>\n",
       "      <th></th>\n",
       "      <th></th>\n",
       "      <th></th>\n",
       "      <th></th>\n",
       "    </tr>\n",
       "  </thead>\n",
       "  <tbody>\n",
       "    <tr>\n",
       "      <th>на свадьбу</th>\n",
       "      <th>начальное</th>\n",
       "      <td>24.0</td>\n",
       "      <td>4.0</td>\n",
       "      <td>14.29</td>\n",
       "      <td>-6.17</td>\n",
       "      <td>-43.2</td>\n",
       "      <td>Особая проблемная ситуация!</td>\n",
       "    </tr>\n",
       "    <tr>\n",
       "      <th>на недвижимость</th>\n",
       "      <th>начальное</th>\n",
       "      <td>128.0</td>\n",
       "      <td>16.0</td>\n",
       "      <td>11.11</td>\n",
       "      <td>-2.99</td>\n",
       "      <td>-26.9</td>\n",
       "      <td>Проблемная ситуация.</td>\n",
       "    </tr>\n",
       "    <tr>\n",
       "      <th rowspan=\"2\" valign=\"top\">на автомобиль</th>\n",
       "      <th>начальное</th>\n",
       "      <td>49.0</td>\n",
       "      <td>6.0</td>\n",
       "      <td>10.91</td>\n",
       "      <td>-2.79</td>\n",
       "      <td>-25.6</td>\n",
       "      <td>Проблемная ситуация.</td>\n",
       "    </tr>\n",
       "    <tr>\n",
       "      <th>неоконченное высшее</th>\n",
       "      <td>137.0</td>\n",
       "      <td>16.0</td>\n",
       "      <td>10.46</td>\n",
       "      <td>-2.34</td>\n",
       "      <td>-22.4</td>\n",
       "      <td>Проблемная ситуация.</td>\n",
       "    </tr>\n",
       "    <tr>\n",
       "      <th>на образование</th>\n",
       "      <th>среднее</th>\n",
       "      <td>2594.0</td>\n",
       "      <td>298.0</td>\n",
       "      <td>10.30</td>\n",
       "      <td>-2.18</td>\n",
       "      <td>-21.2</td>\n",
       "      <td>Проблемная ситуация.</td>\n",
       "    </tr>\n",
       "    <tr>\n",
       "      <th>на автомобиль</th>\n",
       "      <th>среднее</th>\n",
       "      <td>2747.0</td>\n",
       "      <td>314.0</td>\n",
       "      <td>10.26</td>\n",
       "      <td>-2.14</td>\n",
       "      <td>-20.9</td>\n",
       "      <td>Проблемная ситуация.</td>\n",
       "    </tr>\n",
       "    <tr>\n",
       "      <th>на свадьбу</th>\n",
       "      <th>среднее</th>\n",
       "      <td>1467.0</td>\n",
       "      <td>149.0</td>\n",
       "      <td>9.22</td>\n",
       "      <td>-1.10</td>\n",
       "      <td>-11.9</td>\n",
       "      <td>Проблемная ситуация.</td>\n",
       "    </tr>\n",
       "    <tr>\n",
       "      <th rowspan=\"2\" valign=\"top\">на образование</th>\n",
       "      <th>неоконченное высшее</th>\n",
       "      <td>119.0</td>\n",
       "      <td>12.0</td>\n",
       "      <td>9.16</td>\n",
       "      <td>-1.04</td>\n",
       "      <td>-11.4</td>\n",
       "      <td>Проблемная ситуация.</td>\n",
       "    </tr>\n",
       "    <tr>\n",
       "      <th>начальное</th>\n",
       "      <td>50.0</td>\n",
       "      <td>5.0</td>\n",
       "      <td>9.09</td>\n",
       "      <td>-0.97</td>\n",
       "      <td>-10.7</td>\n",
       "      <td>Проблемная ситуация.</td>\n",
       "    </tr>\n",
       "    <tr>\n",
       "      <th rowspan=\"2\" valign=\"top\">на недвижимость</th>\n",
       "      <th>неоконченное высшее</th>\n",
       "      <td>346.0</td>\n",
       "      <td>34.0</td>\n",
       "      <td>8.95</td>\n",
       "      <td>-0.83</td>\n",
       "      <td>-9.3</td>\n",
       "      <td>Проблемная ситуация.</td>\n",
       "    </tr>\n",
       "    <tr>\n",
       "      <th>среднее</th>\n",
       "      <td>6999.0</td>\n",
       "      <td>603.0</td>\n",
       "      <td>7.93</td>\n",
       "      <td>0.19</td>\n",
       "      <td>2.4</td>\n",
       "      <td>Хорошая ситуация</td>\n",
       "    </tr>\n",
       "    <tr>\n",
       "      <th>на свадьбу</th>\n",
       "      <th>неоконченное высшее</th>\n",
       "      <td>74.0</td>\n",
       "      <td>6.0</td>\n",
       "      <td>7.50</td>\n",
       "      <td>0.62</td>\n",
       "      <td>8.3</td>\n",
       "      <td>Хорошая ситуация</td>\n",
       "    </tr>\n",
       "    <tr>\n",
       "      <th>на автомобиль</th>\n",
       "      <th>высшее</th>\n",
       "      <td>969.0</td>\n",
       "      <td>67.0</td>\n",
       "      <td>6.47</td>\n",
       "      <td>1.65</td>\n",
       "      <td>25.5</td>\n",
       "      <td>Хорошая ситуация</td>\n",
       "    </tr>\n",
       "    <tr>\n",
       "      <th>на образование</th>\n",
       "      <th>высшее</th>\n",
       "      <td>879.0</td>\n",
       "      <td>55.0</td>\n",
       "      <td>5.89</td>\n",
       "      <td>2.23</td>\n",
       "      <td>37.9</td>\n",
       "      <td>Хорошая ситуация</td>\n",
       "    </tr>\n",
       "    <tr>\n",
       "      <th>на недвижимость</th>\n",
       "      <th>высшее</th>\n",
       "      <td>2551.0</td>\n",
       "      <td>129.0</td>\n",
       "      <td>4.81</td>\n",
       "      <td>3.31</td>\n",
       "      <td>68.8</td>\n",
       "      <td>Хорошая ситуация</td>\n",
       "    </tr>\n",
       "    <tr>\n",
       "      <th>на свадьбу</th>\n",
       "      <th>высшее</th>\n",
       "      <td>573.0</td>\n",
       "      <td>27.0</td>\n",
       "      <td>4.50</td>\n",
       "      <td>3.62</td>\n",
       "      <td>80.4</td>\n",
       "      <td>Хорошая ситуация</td>\n",
       "    </tr>\n",
       "    <tr>\n",
       "      <th>на недвижимость</th>\n",
       "      <th>ученая степень</th>\n",
       "      <td>5.0</td>\n",
       "      <td>NaN</td>\n",
       "      <td>NaN</td>\n",
       "      <td>NaN</td>\n",
       "      <td>NaN</td>\n",
       "      <td>Крайние значения</td>\n",
       "    </tr>\n",
       "    <tr>\n",
       "      <th>на образование</th>\n",
       "      <th>ученая степень</th>\n",
       "      <td>1.0</td>\n",
       "      <td>NaN</td>\n",
       "      <td>NaN</td>\n",
       "      <td>NaN</td>\n",
       "      <td>NaN</td>\n",
       "      <td>Крайние значения</td>\n",
       "    </tr>\n",
       "  </tbody>\n",
       "</table>\n",
       "</div>"
      ],
      "text/plain": [
       "debt_group                           без просрочек  с просрочкой  avg_debt_%  \\\n",
       "purpose_lemma   education                                                      \n",
       "на свадьбу      начальное                     24.0           4.0       14.29   \n",
       "на недвижимость начальное                    128.0          16.0       11.11   \n",
       "на автомобиль   начальное                     49.0           6.0       10.91   \n",
       "                неоконченное высшее          137.0          16.0       10.46   \n",
       "на образование  среднее                     2594.0         298.0       10.30   \n",
       "на автомобиль   среднее                     2747.0         314.0       10.26   \n",
       "на свадьбу      среднее                     1467.0         149.0        9.22   \n",
       "на образование  неоконченное высшее          119.0          12.0        9.16   \n",
       "                начальное                     50.0           5.0        9.09   \n",
       "на недвижимость неоконченное высшее          346.0          34.0        8.95   \n",
       "                среднее                     6999.0         603.0        7.93   \n",
       "на свадьбу      неоконченное высшее           74.0           6.0        7.50   \n",
       "на автомобиль   высшее                       969.0          67.0        6.47   \n",
       "на образование  высшее                       879.0          55.0        5.89   \n",
       "на недвижимость высшее                      2551.0         129.0        4.81   \n",
       "на свадьбу      высшее                       573.0          27.0        4.50   \n",
       "на недвижимость ученая степень                 5.0           NaN         NaN   \n",
       "на образование  ученая степень                 1.0           NaN         NaN   \n",
       "\n",
       "debt_group                           deviation  deviation_%  \\\n",
       "purpose_lemma   education                                     \n",
       "на свадьбу      начальное                -6.17        -43.2   \n",
       "на недвижимость начальное                -2.99        -26.9   \n",
       "на автомобиль   начальное                -2.79        -25.6   \n",
       "                неоконченное высшее      -2.34        -22.4   \n",
       "на образование  среднее                  -2.18        -21.2   \n",
       "на автомобиль   среднее                  -2.14        -20.9   \n",
       "на свадьбу      среднее                  -1.10        -11.9   \n",
       "на образование  неоконченное высшее      -1.04        -11.4   \n",
       "                начальное                -0.97        -10.7   \n",
       "на недвижимость неоконченное высшее      -0.83         -9.3   \n",
       "                среднее                   0.19          2.4   \n",
       "на свадьбу      неоконченное высшее       0.62          8.3   \n",
       "на автомобиль   высшее                    1.65         25.5   \n",
       "на образование  высшее                    2.23         37.9   \n",
       "на недвижимость высшее                    3.31         68.8   \n",
       "на свадьбу      высшее                    3.62         80.4   \n",
       "на недвижимость ученая степень             NaN          NaN   \n",
       "на образование  ученая степень             NaN          NaN   \n",
       "\n",
       "debt_group                                 category_special_case  \n",
       "purpose_lemma   education                                         \n",
       "на свадьбу      начальное            Особая проблемная ситуация!  \n",
       "на недвижимость начальное                   Проблемная ситуация.  \n",
       "на автомобиль   начальное                   Проблемная ситуация.  \n",
       "                неоконченное высшее         Проблемная ситуация.  \n",
       "на образование  среднее                     Проблемная ситуация.  \n",
       "на автомобиль   среднее                     Проблемная ситуация.  \n",
       "на свадьбу      среднее                     Проблемная ситуация.  \n",
       "на образование  неоконченное высшее         Проблемная ситуация.  \n",
       "                начальное                   Проблемная ситуация.  \n",
       "на недвижимость неоконченное высшее         Проблемная ситуация.  \n",
       "                среднее                         Хорошая ситуация  \n",
       "на свадьбу      неоконченное высшее             Хорошая ситуация  \n",
       "на автомобиль   высшее                          Хорошая ситуация  \n",
       "на образование  высшее                          Хорошая ситуация  \n",
       "на недвижимость высшее                          Хорошая ситуация  \n",
       "на свадьбу      высшее                          Хорошая ситуация  \n",
       "на недвижимость ученая степень                  Крайние значения  \n",
       "на образование  ученая степень                  Крайние значения  "
      ]
     },
     "metadata": {},
     "output_type": "display_data"
    }
   ],
   "source": [
    "#применим функцию для  комбинации основной категории с одной дополнительной\n",
    "create_combination('purpose_lemma', list_addiction_with_purpose_lemma)"
   ]
  },
  {
   "cell_type": "markdown",
   "metadata": {},
   "source": [
    "Особо стоит подчеркнуть зависимость с дополнительной катоегорией по полу, ярко выраженна негативная составляющая по мужскому полу(проблемные ситуации).\n",
    "\n",
    "Также подчеркнем, ярко прослеживающую зависимость с уровнем образования."
   ]
  },
  {
   "cell_type": "code",
   "execution_count": 64,
   "metadata": {
    "scrolled": false
   },
   "outputs": [
    {
     "name": "stdout",
     "output_type": "stream",
     "text": [
      "Зависимость категорий purpose_lemma с gender и education:\n"
     ]
    },
    {
     "data": {
      "text/html": [
       "<div>\n",
       "<style scoped>\n",
       "    .dataframe tbody tr th:only-of-type {\n",
       "        vertical-align: middle;\n",
       "    }\n",
       "\n",
       "    .dataframe tbody tr th {\n",
       "        vertical-align: top;\n",
       "    }\n",
       "\n",
       "    .dataframe thead th {\n",
       "        text-align: right;\n",
       "    }\n",
       "</style>\n",
       "<table border=\"1\" class=\"dataframe\">\n",
       "  <thead>\n",
       "    <tr style=\"text-align: right;\">\n",
       "      <th></th>\n",
       "      <th></th>\n",
       "      <th>debt_group</th>\n",
       "      <th>без просрочек</th>\n",
       "      <th>с просрочкой</th>\n",
       "      <th>avg_debt_%</th>\n",
       "      <th>deviation</th>\n",
       "      <th>deviation_%</th>\n",
       "      <th>category_special_case</th>\n",
       "    </tr>\n",
       "    <tr>\n",
       "      <th>purpose_lemma</th>\n",
       "      <th>gender</th>\n",
       "      <th>education</th>\n",
       "      <th></th>\n",
       "      <th></th>\n",
       "      <th></th>\n",
       "      <th></th>\n",
       "      <th></th>\n",
       "      <th></th>\n",
       "    </tr>\n",
       "  </thead>\n",
       "  <tbody>\n",
       "    <tr>\n",
       "      <th>на свадьбу</th>\n",
       "      <th>f</th>\n",
       "      <th>начальное</th>\n",
       "      <td>17.0</td>\n",
       "      <td>3.0</td>\n",
       "      <td>15.00</td>\n",
       "      <td>-6.88</td>\n",
       "      <td>-45.9</td>\n",
       "      <td>Особая проблемная ситуация!</td>\n",
       "    </tr>\n",
       "    <tr>\n",
       "      <th>на автомобиль</th>\n",
       "      <th>m</th>\n",
       "      <th>начальное</th>\n",
       "      <td>18.0</td>\n",
       "      <td>3.0</td>\n",
       "      <td>14.29</td>\n",
       "      <td>-6.17</td>\n",
       "      <td>-43.2</td>\n",
       "      <td>Особая проблемная ситуация!</td>\n",
       "    </tr>\n",
       "    <tr>\n",
       "      <th>на образование</th>\n",
       "      <th>m</th>\n",
       "      <th>среднее</th>\n",
       "      <td>839.0</td>\n",
       "      <td>134.0</td>\n",
       "      <td>13.77</td>\n",
       "      <td>-5.65</td>\n",
       "      <td>-41.0</td>\n",
       "      <td>Особая проблемная ситуация!</td>\n",
       "    </tr>\n",
       "    <tr>\n",
       "      <th>на автомобиль</th>\n",
       "      <th>m</th>\n",
       "      <th>среднее</th>\n",
       "      <td>890.0</td>\n",
       "      <td>132.0</td>\n",
       "      <td>12.92</td>\n",
       "      <td>-4.80</td>\n",
       "      <td>-37.2</td>\n",
       "      <td>Особая проблемная ситуация!</td>\n",
       "    </tr>\n",
       "    <tr>\n",
       "      <th>на свадьбу</th>\n",
       "      <th>m</th>\n",
       "      <th>начальное</th>\n",
       "      <td>7.0</td>\n",
       "      <td>1.0</td>\n",
       "      <td>12.50</td>\n",
       "      <td>-4.38</td>\n",
       "      <td>-35.0</td>\n",
       "      <td>Особая проблемная ситуация!</td>\n",
       "    </tr>\n",
       "    <tr>\n",
       "      <th>на недвижимость</th>\n",
       "      <th>m</th>\n",
       "      <th>начальное</th>\n",
       "      <td>56.0</td>\n",
       "      <td>8.0</td>\n",
       "      <td>12.50</td>\n",
       "      <td>-4.38</td>\n",
       "      <td>-35.0</td>\n",
       "      <td>Особая проблемная ситуация!</td>\n",
       "    </tr>\n",
       "    <tr>\n",
       "      <th>на свадьбу</th>\n",
       "      <th>m</th>\n",
       "      <th>среднее</th>\n",
       "      <td>468.0</td>\n",
       "      <td>62.0</td>\n",
       "      <td>11.70</td>\n",
       "      <td>-3.58</td>\n",
       "      <td>-30.6</td>\n",
       "      <td>Проблемная ситуация.</td>\n",
       "    </tr>\n",
       "    <tr>\n",
       "      <th>на образование</th>\n",
       "      <th>m</th>\n",
       "      <th>начальное</th>\n",
       "      <td>23.0</td>\n",
       "      <td>3.0</td>\n",
       "      <td>11.54</td>\n",
       "      <td>-3.42</td>\n",
       "      <td>-29.6</td>\n",
       "      <td>Проблемная ситуация.</td>\n",
       "    </tr>\n",
       "    <tr>\n",
       "      <th>на автомобиль</th>\n",
       "      <th>f</th>\n",
       "      <th>неоконченное высшее</th>\n",
       "      <td>86.0</td>\n",
       "      <td>11.0</td>\n",
       "      <td>11.34</td>\n",
       "      <td>-3.22</td>\n",
       "      <td>-28.4</td>\n",
       "      <td>Проблемная ситуация.</td>\n",
       "    </tr>\n",
       "    <tr>\n",
       "      <th rowspan=\"3\" valign=\"top\">на недвижимость</th>\n",
       "      <th rowspan=\"2\" valign=\"top\">m</th>\n",
       "      <th>неоконченное высшее</th>\n",
       "      <td>127.0</td>\n",
       "      <td>16.0</td>\n",
       "      <td>11.19</td>\n",
       "      <td>-3.07</td>\n",
       "      <td>-27.4</td>\n",
       "      <td>Проблемная ситуация.</td>\n",
       "    </tr>\n",
       "    <tr>\n",
       "      <th>среднее</th>\n",
       "      <td>2371.0</td>\n",
       "      <td>266.0</td>\n",
       "      <td>10.09</td>\n",
       "      <td>-1.97</td>\n",
       "      <td>-19.5</td>\n",
       "      <td>Проблемная ситуация.</td>\n",
       "    </tr>\n",
       "    <tr>\n",
       "      <th>f</th>\n",
       "      <th>начальное</th>\n",
       "      <td>72.0</td>\n",
       "      <td>8.0</td>\n",
       "      <td>10.00</td>\n",
       "      <td>-1.88</td>\n",
       "      <td>-18.8</td>\n",
       "      <td>Проблемная ситуация.</td>\n",
       "    </tr>\n",
       "    <tr>\n",
       "      <th>на образование</th>\n",
       "      <th>f</th>\n",
       "      <th>неоконченное высшее</th>\n",
       "      <td>73.0</td>\n",
       "      <td>8.0</td>\n",
       "      <td>9.88</td>\n",
       "      <td>-1.76</td>\n",
       "      <td>-17.8</td>\n",
       "      <td>Проблемная ситуация.</td>\n",
       "    </tr>\n",
       "    <tr>\n",
       "      <th rowspan=\"3\" valign=\"top\">на автомобиль</th>\n",
       "      <th>m</th>\n",
       "      <th>неоконченное высшее</th>\n",
       "      <td>51.0</td>\n",
       "      <td>5.0</td>\n",
       "      <td>8.93</td>\n",
       "      <td>-0.81</td>\n",
       "      <td>-9.1</td>\n",
       "      <td>Проблемная ситуация.</td>\n",
       "    </tr>\n",
       "    <tr>\n",
       "      <th rowspan=\"2\" valign=\"top\">f</th>\n",
       "      <th>среднее</th>\n",
       "      <td>1857.0</td>\n",
       "      <td>182.0</td>\n",
       "      <td>8.93</td>\n",
       "      <td>-0.81</td>\n",
       "      <td>-9.1</td>\n",
       "      <td>Проблемная ситуация.</td>\n",
       "    </tr>\n",
       "    <tr>\n",
       "      <th>начальное</th>\n",
       "      <td>31.0</td>\n",
       "      <td>3.0</td>\n",
       "      <td>8.82</td>\n",
       "      <td>-0.70</td>\n",
       "      <td>-7.9</td>\n",
       "      <td>Проблемная ситуация.</td>\n",
       "    </tr>\n",
       "    <tr>\n",
       "      <th>на свадьбу</th>\n",
       "      <th>f</th>\n",
       "      <th>неоконченное высшее</th>\n",
       "      <td>42.0</td>\n",
       "      <td>4.0</td>\n",
       "      <td>8.70</td>\n",
       "      <td>-0.58</td>\n",
       "      <td>-6.7</td>\n",
       "      <td>Проблемная ситуация.</td>\n",
       "    </tr>\n",
       "    <tr>\n",
       "      <th>на образование</th>\n",
       "      <th>f</th>\n",
       "      <th>среднее</th>\n",
       "      <td>1755.0</td>\n",
       "      <td>164.0</td>\n",
       "      <td>8.55</td>\n",
       "      <td>-0.43</td>\n",
       "      <td>-5.0</td>\n",
       "      <td>Проблемная ситуация.</td>\n",
       "    </tr>\n",
       "    <tr>\n",
       "      <th>на автомобиль</th>\n",
       "      <th>m</th>\n",
       "      <th>высшее</th>\n",
       "      <td>319.0</td>\n",
       "      <td>28.0</td>\n",
       "      <td>8.07</td>\n",
       "      <td>0.05</td>\n",
       "      <td>0.6</td>\n",
       "      <td>Хорошая ситуация</td>\n",
       "    </tr>\n",
       "    <tr>\n",
       "      <th>на свадьбу</th>\n",
       "      <th>f</th>\n",
       "      <th>среднее</th>\n",
       "      <td>999.0</td>\n",
       "      <td>87.0</td>\n",
       "      <td>8.01</td>\n",
       "      <td>0.11</td>\n",
       "      <td>1.4</td>\n",
       "      <td>Хорошая ситуация</td>\n",
       "    </tr>\n",
       "    <tr>\n",
       "      <th>на образование</th>\n",
       "      <th>m</th>\n",
       "      <th>неоконченное высшее</th>\n",
       "      <td>46.0</td>\n",
       "      <td>4.0</td>\n",
       "      <td>8.00</td>\n",
       "      <td>0.12</td>\n",
       "      <td>1.5</td>\n",
       "      <td>Хорошая ситуация</td>\n",
       "    </tr>\n",
       "    <tr>\n",
       "      <th>на недвижимость</th>\n",
       "      <th>f</th>\n",
       "      <th>неоконченное высшее</th>\n",
       "      <td>218.0</td>\n",
       "      <td>18.0</td>\n",
       "      <td>7.63</td>\n",
       "      <td>0.49</td>\n",
       "      <td>6.4</td>\n",
       "      <td>Хорошая ситуация</td>\n",
       "    </tr>\n",
       "    <tr>\n",
       "      <th rowspan=\"2\" valign=\"top\">на образование</th>\n",
       "      <th>m</th>\n",
       "      <th>высшее</th>\n",
       "      <td>274.0</td>\n",
       "      <td>22.0</td>\n",
       "      <td>7.43</td>\n",
       "      <td>0.69</td>\n",
       "      <td>9.3</td>\n",
       "      <td>Хорошая ситуация</td>\n",
       "    </tr>\n",
       "    <tr>\n",
       "      <th>f</th>\n",
       "      <th>начальное</th>\n",
       "      <td>27.0</td>\n",
       "      <td>2.0</td>\n",
       "      <td>6.90</td>\n",
       "      <td>1.22</td>\n",
       "      <td>17.7</td>\n",
       "      <td>Хорошая ситуация</td>\n",
       "    </tr>\n",
       "    <tr>\n",
       "      <th>на свадьбу</th>\n",
       "      <th>m</th>\n",
       "      <th>высшее</th>\n",
       "      <td>177.0</td>\n",
       "      <td>13.0</td>\n",
       "      <td>6.84</td>\n",
       "      <td>1.28</td>\n",
       "      <td>18.7</td>\n",
       "      <td>Хорошая ситуация</td>\n",
       "    </tr>\n",
       "    <tr>\n",
       "      <th>на недвижимость</th>\n",
       "      <th>f</th>\n",
       "      <th>среднее</th>\n",
       "      <td>4628.0</td>\n",
       "      <td>337.0</td>\n",
       "      <td>6.79</td>\n",
       "      <td>1.33</td>\n",
       "      <td>19.6</td>\n",
       "      <td>Хорошая ситуация</td>\n",
       "    </tr>\n",
       "    <tr>\n",
       "      <th>на свадьбу</th>\n",
       "      <th>m</th>\n",
       "      <th>неоконченное высшее</th>\n",
       "      <td>32.0</td>\n",
       "      <td>2.0</td>\n",
       "      <td>5.88</td>\n",
       "      <td>2.24</td>\n",
       "      <td>38.1</td>\n",
       "      <td>Хорошая ситуация</td>\n",
       "    </tr>\n",
       "    <tr>\n",
       "      <th>на автомобиль</th>\n",
       "      <th>f</th>\n",
       "      <th>высшее</th>\n",
       "      <td>650.0</td>\n",
       "      <td>39.0</td>\n",
       "      <td>5.66</td>\n",
       "      <td>2.46</td>\n",
       "      <td>43.5</td>\n",
       "      <td>Хорошая ситуация</td>\n",
       "    </tr>\n",
       "    <tr>\n",
       "      <th>на недвижимость</th>\n",
       "      <th>m</th>\n",
       "      <th>высшее</th>\n",
       "      <td>830.0</td>\n",
       "      <td>48.0</td>\n",
       "      <td>5.47</td>\n",
       "      <td>2.65</td>\n",
       "      <td>48.4</td>\n",
       "      <td>Хорошая ситуация</td>\n",
       "    </tr>\n",
       "    <tr>\n",
       "      <th>на образование</th>\n",
       "      <th>f</th>\n",
       "      <th>высшее</th>\n",
       "      <td>605.0</td>\n",
       "      <td>33.0</td>\n",
       "      <td>5.17</td>\n",
       "      <td>2.95</td>\n",
       "      <td>57.1</td>\n",
       "      <td>Хорошая ситуация</td>\n",
       "    </tr>\n",
       "    <tr>\n",
       "      <th>на недвижимость</th>\n",
       "      <th>f</th>\n",
       "      <th>высшее</th>\n",
       "      <td>1721.0</td>\n",
       "      <td>81.0</td>\n",
       "      <td>4.50</td>\n",
       "      <td>3.62</td>\n",
       "      <td>80.4</td>\n",
       "      <td>Хорошая ситуация</td>\n",
       "    </tr>\n",
       "    <tr>\n",
       "      <th>на свадьбу</th>\n",
       "      <th>f</th>\n",
       "      <th>высшее</th>\n",
       "      <td>396.0</td>\n",
       "      <td>14.0</td>\n",
       "      <td>3.41</td>\n",
       "      <td>4.71</td>\n",
       "      <td>138.1</td>\n",
       "      <td>Хорошая ситуация</td>\n",
       "    </tr>\n",
       "    <tr>\n",
       "      <th rowspan=\"3\" valign=\"top\">на недвижимость</th>\n",
       "      <th>f</th>\n",
       "      <th>ученая степень</th>\n",
       "      <td>2.0</td>\n",
       "      <td>NaN</td>\n",
       "      <td>NaN</td>\n",
       "      <td>NaN</td>\n",
       "      <td>NaN</td>\n",
       "      <td>Крайние значения</td>\n",
       "    </tr>\n",
       "    <tr>\n",
       "      <th>m</th>\n",
       "      <th>ученая степень</th>\n",
       "      <td>3.0</td>\n",
       "      <td>NaN</td>\n",
       "      <td>NaN</td>\n",
       "      <td>NaN</td>\n",
       "      <td>NaN</td>\n",
       "      <td>Крайние значения</td>\n",
       "    </tr>\n",
       "    <tr>\n",
       "      <th>xna</th>\n",
       "      <th>неоконченное высшее</th>\n",
       "      <td>1.0</td>\n",
       "      <td>NaN</td>\n",
       "      <td>NaN</td>\n",
       "      <td>NaN</td>\n",
       "      <td>NaN</td>\n",
       "      <td>Крайние значения</td>\n",
       "    </tr>\n",
       "    <tr>\n",
       "      <th>на образование</th>\n",
       "      <th>m</th>\n",
       "      <th>ученая степень</th>\n",
       "      <td>1.0</td>\n",
       "      <td>NaN</td>\n",
       "      <td>NaN</td>\n",
       "      <td>NaN</td>\n",
       "      <td>NaN</td>\n",
       "      <td>Крайние значения</td>\n",
       "    </tr>\n",
       "  </tbody>\n",
       "</table>\n",
       "</div>"
      ],
      "text/plain": [
       "debt_group                                  без просрочек  с просрочкой  \\\n",
       "purpose_lemma   gender education                                          \n",
       "на свадьбу      f      начальное                     17.0           3.0   \n",
       "на автомобиль   m      начальное                     18.0           3.0   \n",
       "на образование  m      среднее                      839.0         134.0   \n",
       "на автомобиль   m      среднее                      890.0         132.0   \n",
       "на свадьбу      m      начальное                      7.0           1.0   \n",
       "на недвижимость m      начальное                     56.0           8.0   \n",
       "на свадьбу      m      среднее                      468.0          62.0   \n",
       "на образование  m      начальное                     23.0           3.0   \n",
       "на автомобиль   f      неоконченное высшее           86.0          11.0   \n",
       "на недвижимость m      неоконченное высшее          127.0          16.0   \n",
       "                       среднее                     2371.0         266.0   \n",
       "                f      начальное                     72.0           8.0   \n",
       "на образование  f      неоконченное высшее           73.0           8.0   \n",
       "на автомобиль   m      неоконченное высшее           51.0           5.0   \n",
       "                f      среднее                     1857.0         182.0   \n",
       "                       начальное                     31.0           3.0   \n",
       "на свадьбу      f      неоконченное высшее           42.0           4.0   \n",
       "на образование  f      среднее                     1755.0         164.0   \n",
       "на автомобиль   m      высшее                       319.0          28.0   \n",
       "на свадьбу      f      среднее                      999.0          87.0   \n",
       "на образование  m      неоконченное высшее           46.0           4.0   \n",
       "на недвижимость f      неоконченное высшее          218.0          18.0   \n",
       "на образование  m      высшее                       274.0          22.0   \n",
       "                f      начальное                     27.0           2.0   \n",
       "на свадьбу      m      высшее                       177.0          13.0   \n",
       "на недвижимость f      среднее                     4628.0         337.0   \n",
       "на свадьбу      m      неоконченное высшее           32.0           2.0   \n",
       "на автомобиль   f      высшее                       650.0          39.0   \n",
       "на недвижимость m      высшее                       830.0          48.0   \n",
       "на образование  f      высшее                       605.0          33.0   \n",
       "на недвижимость f      высшее                      1721.0          81.0   \n",
       "на свадьбу      f      высшее                       396.0          14.0   \n",
       "на недвижимость f      ученая степень                 2.0           NaN   \n",
       "                m      ученая степень                 3.0           NaN   \n",
       "                xna    неоконченное высшее            1.0           NaN   \n",
       "на образование  m      ученая степень                 1.0           NaN   \n",
       "\n",
       "debt_group                                  avg_debt_%  deviation  \\\n",
       "purpose_lemma   gender education                                    \n",
       "на свадьбу      f      начальное                 15.00      -6.88   \n",
       "на автомобиль   m      начальное                 14.29      -6.17   \n",
       "на образование  m      среднее                   13.77      -5.65   \n",
       "на автомобиль   m      среднее                   12.92      -4.80   \n",
       "на свадьбу      m      начальное                 12.50      -4.38   \n",
       "на недвижимость m      начальное                 12.50      -4.38   \n",
       "на свадьбу      m      среднее                   11.70      -3.58   \n",
       "на образование  m      начальное                 11.54      -3.42   \n",
       "на автомобиль   f      неоконченное высшее       11.34      -3.22   \n",
       "на недвижимость m      неоконченное высшее       11.19      -3.07   \n",
       "                       среднее                   10.09      -1.97   \n",
       "                f      начальное                 10.00      -1.88   \n",
       "на образование  f      неоконченное высшее        9.88      -1.76   \n",
       "на автомобиль   m      неоконченное высшее        8.93      -0.81   \n",
       "                f      среднее                    8.93      -0.81   \n",
       "                       начальное                  8.82      -0.70   \n",
       "на свадьбу      f      неоконченное высшее        8.70      -0.58   \n",
       "на образование  f      среднее                    8.55      -0.43   \n",
       "на автомобиль   m      высшее                     8.07       0.05   \n",
       "на свадьбу      f      среднее                    8.01       0.11   \n",
       "на образование  m      неоконченное высшее        8.00       0.12   \n",
       "на недвижимость f      неоконченное высшее        7.63       0.49   \n",
       "на образование  m      высшее                     7.43       0.69   \n",
       "                f      начальное                  6.90       1.22   \n",
       "на свадьбу      m      высшее                     6.84       1.28   \n",
       "на недвижимость f      среднее                    6.79       1.33   \n",
       "на свадьбу      m      неоконченное высшее        5.88       2.24   \n",
       "на автомобиль   f      высшее                     5.66       2.46   \n",
       "на недвижимость m      высшее                     5.47       2.65   \n",
       "на образование  f      высшее                     5.17       2.95   \n",
       "на недвижимость f      высшее                     4.50       3.62   \n",
       "на свадьбу      f      высшее                     3.41       4.71   \n",
       "на недвижимость f      ученая степень              NaN        NaN   \n",
       "                m      ученая степень              NaN        NaN   \n",
       "                xna    неоконченное высшее         NaN        NaN   \n",
       "на образование  m      ученая степень              NaN        NaN   \n",
       "\n",
       "debt_group                                  deviation_%  \\\n",
       "purpose_lemma   gender education                          \n",
       "на свадьбу      f      начальное                  -45.9   \n",
       "на автомобиль   m      начальное                  -43.2   \n",
       "на образование  m      среднее                    -41.0   \n",
       "на автомобиль   m      среднее                    -37.2   \n",
       "на свадьбу      m      начальное                  -35.0   \n",
       "на недвижимость m      начальное                  -35.0   \n",
       "на свадьбу      m      среднее                    -30.6   \n",
       "на образование  m      начальное                  -29.6   \n",
       "на автомобиль   f      неоконченное высшее        -28.4   \n",
       "на недвижимость m      неоконченное высшее        -27.4   \n",
       "                       среднее                    -19.5   \n",
       "                f      начальное                  -18.8   \n",
       "на образование  f      неоконченное высшее        -17.8   \n",
       "на автомобиль   m      неоконченное высшее         -9.1   \n",
       "                f      среднее                     -9.1   \n",
       "                       начальное                   -7.9   \n",
       "на свадьбу      f      неоконченное высшее         -6.7   \n",
       "на образование  f      среднее                     -5.0   \n",
       "на автомобиль   m      высшее                       0.6   \n",
       "на свадьбу      f      среднее                      1.4   \n",
       "на образование  m      неоконченное высшее          1.5   \n",
       "на недвижимость f      неоконченное высшее          6.4   \n",
       "на образование  m      высшее                       9.3   \n",
       "                f      начальное                   17.7   \n",
       "на свадьбу      m      высшее                      18.7   \n",
       "на недвижимость f      среднее                     19.6   \n",
       "на свадьбу      m      неоконченное высшее         38.1   \n",
       "на автомобиль   f      высшее                      43.5   \n",
       "на недвижимость m      высшее                      48.4   \n",
       "на образование  f      высшее                      57.1   \n",
       "на недвижимость f      высшее                      80.4   \n",
       "на свадьбу      f      высшее                     138.1   \n",
       "на недвижимость f      ученая степень               NaN   \n",
       "                m      ученая степень               NaN   \n",
       "                xna    неоконченное высшее          NaN   \n",
       "на образование  m      ученая степень               NaN   \n",
       "\n",
       "debt_group                                        category_special_case  \n",
       "purpose_lemma   gender education                                         \n",
       "на свадьбу      f      начальное            Особая проблемная ситуация!  \n",
       "на автомобиль   m      начальное            Особая проблемная ситуация!  \n",
       "на образование  m      среднее              Особая проблемная ситуация!  \n",
       "на автомобиль   m      среднее              Особая проблемная ситуация!  \n",
       "на свадьбу      m      начальное            Особая проблемная ситуация!  \n",
       "на недвижимость m      начальное            Особая проблемная ситуация!  \n",
       "на свадьбу      m      среднее                     Проблемная ситуация.  \n",
       "на образование  m      начальное                   Проблемная ситуация.  \n",
       "на автомобиль   f      неоконченное высшее         Проблемная ситуация.  \n",
       "на недвижимость m      неоконченное высшее         Проблемная ситуация.  \n",
       "                       среднее                     Проблемная ситуация.  \n",
       "                f      начальное                   Проблемная ситуация.  \n",
       "на образование  f      неоконченное высшее         Проблемная ситуация.  \n",
       "на автомобиль   m      неоконченное высшее         Проблемная ситуация.  \n",
       "                f      среднее                     Проблемная ситуация.  \n",
       "                       начальное                   Проблемная ситуация.  \n",
       "на свадьбу      f      неоконченное высшее         Проблемная ситуация.  \n",
       "на образование  f      среднее                     Проблемная ситуация.  \n",
       "на автомобиль   m      высшее                          Хорошая ситуация  \n",
       "на свадьбу      f      среднее                         Хорошая ситуация  \n",
       "на образование  m      неоконченное высшее             Хорошая ситуация  \n",
       "на недвижимость f      неоконченное высшее             Хорошая ситуация  \n",
       "на образование  m      высшее                          Хорошая ситуация  \n",
       "                f      начальное                       Хорошая ситуация  \n",
       "на свадьбу      m      высшее                          Хорошая ситуация  \n",
       "на недвижимость f      среднее                         Хорошая ситуация  \n",
       "на свадьбу      m      неоконченное высшее             Хорошая ситуация  \n",
       "на автомобиль   f      высшее                          Хорошая ситуация  \n",
       "на недвижимость m      высшее                          Хорошая ситуация  \n",
       "на образование  f      высшее                          Хорошая ситуация  \n",
       "на недвижимость f      высшее                          Хорошая ситуация  \n",
       "на свадьбу      f      высшее                          Хорошая ситуация  \n",
       "на недвижимость f      ученая степень                  Крайние значения  \n",
       "                m      ученая степень                  Крайние значения  \n",
       "                xna    неоконченное высшее             Крайние значения  \n",
       "на образование  m      ученая степень                  Крайние значения  "
      ]
     },
     "metadata": {},
     "output_type": "display_data"
    },
    {
     "name": "stdout",
     "output_type": "stream",
     "text": [
      "Зависимость категорий purpose_lemma с income_type и education:\n"
     ]
    },
    {
     "data": {
      "text/html": [
       "<div>\n",
       "<style scoped>\n",
       "    .dataframe tbody tr th:only-of-type {\n",
       "        vertical-align: middle;\n",
       "    }\n",
       "\n",
       "    .dataframe tbody tr th {\n",
       "        vertical-align: top;\n",
       "    }\n",
       "\n",
       "    .dataframe thead th {\n",
       "        text-align: right;\n",
       "    }\n",
       "</style>\n",
       "<table border=\"1\" class=\"dataframe\">\n",
       "  <thead>\n",
       "    <tr style=\"text-align: right;\">\n",
       "      <th></th>\n",
       "      <th></th>\n",
       "      <th>debt_group</th>\n",
       "      <th>без просрочек</th>\n",
       "      <th>с просрочкой</th>\n",
       "      <th>avg_debt_%</th>\n",
       "      <th>deviation</th>\n",
       "      <th>deviation_%</th>\n",
       "      <th>category_special_case</th>\n",
       "    </tr>\n",
       "    <tr>\n",
       "      <th>purpose_lemma</th>\n",
       "      <th>income_type</th>\n",
       "      <th>education</th>\n",
       "      <th></th>\n",
       "      <th></th>\n",
       "      <th></th>\n",
       "      <th></th>\n",
       "      <th></th>\n",
       "      <th></th>\n",
       "    </tr>\n",
       "  </thead>\n",
       "  <tbody>\n",
       "    <tr>\n",
       "      <th>на образование</th>\n",
       "      <th>госслужащий</th>\n",
       "      <th>начальное</th>\n",
       "      <td>2.0</td>\n",
       "      <td>1.0</td>\n",
       "      <td>33.33</td>\n",
       "      <td>-25.21</td>\n",
       "      <td>-75.6</td>\n",
       "      <td>Критический случай!</td>\n",
       "    </tr>\n",
       "    <tr>\n",
       "      <th>на свадьбу</th>\n",
       "      <th>компаньон</th>\n",
       "      <th>начальное</th>\n",
       "      <td>3.0</td>\n",
       "      <td>1.0</td>\n",
       "      <td>25.00</td>\n",
       "      <td>-16.88</td>\n",
       "      <td>-67.5</td>\n",
       "      <td>Критический случай!</td>\n",
       "    </tr>\n",
       "    <tr>\n",
       "      <th>на недвижимость</th>\n",
       "      <th>компаньон</th>\n",
       "      <th>начальное</th>\n",
       "      <td>11.0</td>\n",
       "      <td>3.0</td>\n",
       "      <td>21.43</td>\n",
       "      <td>-13.31</td>\n",
       "      <td>-62.1</td>\n",
       "      <td>Критический случай!</td>\n",
       "    </tr>\n",
       "    <tr>\n",
       "      <th>на автомобиль</th>\n",
       "      <th>сотрудник</th>\n",
       "      <th>начальное</th>\n",
       "      <td>23.0</td>\n",
       "      <td>5.0</td>\n",
       "      <td>17.86</td>\n",
       "      <td>-9.74</td>\n",
       "      <td>-54.5</td>\n",
       "      <td>Критический случай!</td>\n",
       "    </tr>\n",
       "    <tr>\n",
       "      <th>на недвижимость</th>\n",
       "      <th>сотрудник</th>\n",
       "      <th>начальное</th>\n",
       "      <td>63.0</td>\n",
       "      <td>13.0</td>\n",
       "      <td>17.11</td>\n",
       "      <td>-8.99</td>\n",
       "      <td>-52.5</td>\n",
       "      <td>Критический случай!</td>\n",
       "    </tr>\n",
       "    <tr>\n",
       "      <th>...</th>\n",
       "      <th>...</th>\n",
       "      <th>...</th>\n",
       "      <td>...</td>\n",
       "      <td>...</td>\n",
       "      <td>...</td>\n",
       "      <td>...</td>\n",
       "      <td>...</td>\n",
       "      <td>...</td>\n",
       "    </tr>\n",
       "    <tr>\n",
       "      <th>на образование</th>\n",
       "      <th>сотрудник</th>\n",
       "      <th>ученая степень</th>\n",
       "      <td>1.0</td>\n",
       "      <td>NaN</td>\n",
       "      <td>NaN</td>\n",
       "      <td>NaN</td>\n",
       "      <td>NaN</td>\n",
       "      <td>Крайние значения</td>\n",
       "    </tr>\n",
       "    <tr>\n",
       "      <th rowspan=\"4\" valign=\"top\">на свадьбу</th>\n",
       "      <th rowspan=\"2\" valign=\"top\">госслужащий</th>\n",
       "      <th>начальное</th>\n",
       "      <td>1.0</td>\n",
       "      <td>NaN</td>\n",
       "      <td>NaN</td>\n",
       "      <td>NaN</td>\n",
       "      <td>NaN</td>\n",
       "      <td>Крайние значения</td>\n",
       "    </tr>\n",
       "    <tr>\n",
       "      <th>неоконченное высшее</th>\n",
       "      <td>2.0</td>\n",
       "      <td>NaN</td>\n",
       "      <td>NaN</td>\n",
       "      <td>NaN</td>\n",
       "      <td>NaN</td>\n",
       "      <td>Крайние значения</td>\n",
       "    </tr>\n",
       "    <tr>\n",
       "      <th>пенсионер</th>\n",
       "      <th>неоконченное высшее</th>\n",
       "      <td>3.0</td>\n",
       "      <td>NaN</td>\n",
       "      <td>NaN</td>\n",
       "      <td>NaN</td>\n",
       "      <td>NaN</td>\n",
       "      <td>Крайние значения</td>\n",
       "    </tr>\n",
       "    <tr>\n",
       "      <th>предприниматель</th>\n",
       "      <th>высшее</th>\n",
       "      <td>1.0</td>\n",
       "      <td>NaN</td>\n",
       "      <td>NaN</td>\n",
       "      <td>NaN</td>\n",
       "      <td>NaN</td>\n",
       "      <td>Крайние значения</td>\n",
       "    </tr>\n",
       "  </tbody>\n",
       "</table>\n",
       "<p>73 rows × 6 columns</p>\n",
       "</div>"
      ],
      "text/plain": [
       "debt_group                                           без просрочек  \\\n",
       "purpose_lemma   income_type     education                            \n",
       "на образование  госслужащий     начальное                      2.0   \n",
       "на свадьбу      компаньон       начальное                      3.0   \n",
       "на недвижимость компаньон       начальное                     11.0   \n",
       "на автомобиль   сотрудник       начальное                     23.0   \n",
       "на недвижимость сотрудник       начальное                     63.0   \n",
       "...                                                            ...   \n",
       "на образование  сотрудник       ученая степень                 1.0   \n",
       "на свадьбу      госслужащий     начальное                      1.0   \n",
       "                                неоконченное высшее            2.0   \n",
       "                пенсионер       неоконченное высшее            3.0   \n",
       "                предприниматель высшее                         1.0   \n",
       "\n",
       "debt_group                                           с просрочкой  avg_debt_%  \\\n",
       "purpose_lemma   income_type     education                                       \n",
       "на образование  госслужащий     начальное                     1.0       33.33   \n",
       "на свадьбу      компаньон       начальное                     1.0       25.00   \n",
       "на недвижимость компаньон       начальное                     3.0       21.43   \n",
       "на автомобиль   сотрудник       начальное                     5.0       17.86   \n",
       "на недвижимость сотрудник       начальное                    13.0       17.11   \n",
       "...                                                           ...         ...   \n",
       "на образование  сотрудник       ученая степень                NaN         NaN   \n",
       "на свадьбу      госслужащий     начальное                     NaN         NaN   \n",
       "                                неоконченное высшее           NaN         NaN   \n",
       "                пенсионер       неоконченное высшее           NaN         NaN   \n",
       "                предприниматель высшее                        NaN         NaN   \n",
       "\n",
       "debt_group                                           deviation  deviation_%  \\\n",
       "purpose_lemma   income_type     education                                     \n",
       "на образование  госслужащий     начальное               -25.21        -75.6   \n",
       "на свадьбу      компаньон       начальное               -16.88        -67.5   \n",
       "на недвижимость компаньон       начальное               -13.31        -62.1   \n",
       "на автомобиль   сотрудник       начальное                -9.74        -54.5   \n",
       "на недвижимость сотрудник       начальное                -8.99        -52.5   \n",
       "...                                                        ...          ...   \n",
       "на образование  сотрудник       ученая степень             NaN          NaN   \n",
       "на свадьбу      госслужащий     начальное                  NaN          NaN   \n",
       "                                неоконченное высшее        NaN          NaN   \n",
       "                пенсионер       неоконченное высшее        NaN          NaN   \n",
       "                предприниматель высшее                     NaN          NaN   \n",
       "\n",
       "debt_group                                          category_special_case  \n",
       "purpose_lemma   income_type     education                                  \n",
       "на образование  госслужащий     начальное             Критический случай!  \n",
       "на свадьбу      компаньон       начальное             Критический случай!  \n",
       "на недвижимость компаньон       начальное             Критический случай!  \n",
       "на автомобиль   сотрудник       начальное             Критический случай!  \n",
       "на недвижимость сотрудник       начальное             Критический случай!  \n",
       "...                                                                   ...  \n",
       "на образование  сотрудник       ученая степень           Крайние значения  \n",
       "на свадьбу      госслужащий     начальное                Крайние значения  \n",
       "                                неоконченное высшее      Крайние значения  \n",
       "                пенсионер       неоконченное высшее      Крайние значения  \n",
       "                предприниматель высшее                   Крайние значения  \n",
       "\n",
       "[73 rows x 6 columns]"
      ]
     },
     "metadata": {},
     "output_type": "display_data"
    }
   ],
   "source": [
    "#применим функцию для комбинации основной категории с двумя дополнительными\n",
    "create_combination_twice('purpose_lemma', list_addiction_with_purpose_lemma)"
   ]
  },
  {
   "cell_type": "markdown",
   "metadata": {},
   "source": [
    "**Вывод**"
   ]
  },
  {
   "cell_type": "markdown",
   "metadata": {},
   "source": [
    "На вопрос \"Как разные цели кредита влияют на его возврат в срок?\", можно сказать следующее - есть отклонение/зависимость в худшую сторону у заемщиков с целями на \"автомобиль\" и на \"образование\" на 13% и 11,5% соответственно от исходной средней величины. Положительные результаты у категорий с целями на \"свадьбу\", \"недвижимость\" на 2,2%, 11,7% соответственно.\n",
    "\n",
    "Особо подчеркнем зависимость с дополнительной катоегорией по полу, т.к. ярко выраженна негативная составляющая по мужскому полу(проблемные ситуации), у женского пола в основе положительные ситуации.\n",
    "\n",
    "Также подчеркнем, ярко прослеживающую зависимость с уровнем образования, выше образование лучше ситуации с выплатами."
   ]
  },
  {
   "cell_type": "markdown",
   "metadata": {},
   "source": [
    "## Шаг 4. Общий вывод"
   ]
  },
  {
   "cell_type": "markdown",
   "metadata": {},
   "source": [
    "Мы успешно провели все пункты проектной работы - заказа. Провели предобработку данных. Наглядно вывели все необоходимые для работы данные. \n",
    "\n",
    "На каждый вопрос заказчика, подробно ответили. Сделали выводы.\n",
    "\n",
    "Что можно сказать по общей ситуации?\n",
    "\n",
    "Почти в каждом из 4 вопросов-ситуаций, везде были отклонения категорий в худшую сторону в среднем до 13% от средней величины и в положительную до 24%. На сколько это существенно уже принимать решение заказчикам. Однако разбег от крайностей показателей отклонений получается уже существенный до 40%.\n",
    "\n",
    "Мужчины, чаще женщин находятся в так называемых зонах - \"Критические ситуации\" и \"Особые проблемные ситуации\". Это вполне вероятно из-за того, что мужчинам присуща смелость и, в тоже время чаще, излишняя самоуверенность в своих силах.\n",
    "\n",
    "Особо стоит подчеркнуть, во всех 4 пунктах исследований, при комбинациях есть четкая зависимость по уровню образования, чем выше образование, тем лучше с выплатой займов. Это, скорее всего, связанно с тем, что люди с более высоким образование, больше просчитывают свои возможности и силы, а также более ответственнее.\n",
    "\n",
    "При выводе сводных таблиц с применение одной категории, чаще отклонения в худшую сторону составляет до 13% от средней величины почти по всем 4м исследованиям. И только при применении в комбинации с другими категориями, мы видим значительный резонанс зависимостей. \n",
    "\n",
    "Зависимость явно проявляется при комбинациях с другими категориями, как с одной доп. категорией, так и особенно с двумя категориями.\n",
    "\n",
    "Заказчикам стоит также обратить внимание, что многие критические и особые проблемные состояния сформированы на малых выборках, и не совсем будут отражать объективные данные. Стоит с осторожностью их применять в работе.\n",
    "\n",
    "На больших данных, мы могли бы применить значительно больше комбинаций и результаты были бы намного объективнее. \n"
   ]
  }
 ],
 "metadata": {
  "ExecuteTimeLog": [
   {
    "duration": 813,
    "start_time": "2022-01-21T05:58:46.759Z"
   },
   {
    "duration": 72,
    "start_time": "2022-01-21T05:59:50.298Z"
   },
   {
    "duration": 28,
    "start_time": "2022-01-21T06:01:10.873Z"
   },
   {
    "duration": 19,
    "start_time": "2022-01-21T06:03:12.186Z"
   },
   {
    "duration": 13,
    "start_time": "2022-01-21T07:26:08.876Z"
   },
   {
    "duration": 80,
    "start_time": "2022-01-21T08:47:45.755Z"
   },
   {
    "duration": 20,
    "start_time": "2022-01-21T08:47:50.632Z"
   },
   {
    "duration": 19,
    "start_time": "2022-01-21T09:06:11.946Z"
   },
   {
    "duration": 17,
    "start_time": "2022-01-21T09:08:32.963Z"
   },
   {
    "duration": 12,
    "start_time": "2022-01-21T09:08:49.549Z"
   },
   {
    "duration": 20,
    "start_time": "2022-01-21T09:09:43.661Z"
   },
   {
    "duration": 11,
    "start_time": "2022-01-21T09:09:46.747Z"
   },
   {
    "duration": 24,
    "start_time": "2022-01-21T09:21:38.502Z"
   },
   {
    "duration": 462,
    "start_time": "2022-01-21T09:57:11.092Z"
   },
   {
    "duration": 24,
    "start_time": "2022-01-21T09:57:19.875Z"
   },
   {
    "duration": 25,
    "start_time": "2022-01-21T09:59:54.768Z"
   },
   {
    "duration": 25,
    "start_time": "2022-01-21T09:59:57.978Z"
   },
   {
    "duration": 7,
    "start_time": "2022-01-21T10:10:05.398Z"
   },
   {
    "duration": 9,
    "start_time": "2022-01-21T10:10:13.173Z"
   },
   {
    "duration": 7,
    "start_time": "2022-01-21T10:22:11.583Z"
   },
   {
    "duration": 6,
    "start_time": "2022-01-21T10:22:14.596Z"
   },
   {
    "duration": 9,
    "start_time": "2022-01-21T10:31:14.626Z"
   },
   {
    "duration": 12,
    "start_time": "2022-01-21T10:31:24.251Z"
   },
   {
    "duration": 130,
    "start_time": "2022-01-21T10:34:04.684Z"
   },
   {
    "duration": 137,
    "start_time": "2022-01-21T10:34:32.071Z"
   },
   {
    "duration": 715,
    "start_time": "2022-01-21T10:35:07.562Z"
   },
   {
    "duration": 9,
    "start_time": "2022-01-21T10:37:45.990Z"
   },
   {
    "duration": 9,
    "start_time": "2022-01-21T10:37:53.099Z"
   },
   {
    "duration": 135,
    "start_time": "2022-01-21T10:37:53.633Z"
   },
   {
    "duration": 9,
    "start_time": "2022-01-21T10:37:53.914Z"
   },
   {
    "duration": 8,
    "start_time": "2022-01-21T10:37:54.185Z"
   },
   {
    "duration": 7,
    "start_time": "2022-01-21T10:37:56.261Z"
   },
   {
    "duration": 7,
    "start_time": "2022-01-21T10:37:56.608Z"
   },
   {
    "duration": 125,
    "start_time": "2022-01-21T10:37:57.043Z"
   },
   {
    "duration": 8,
    "start_time": "2022-01-21T10:37:58.062Z"
   },
   {
    "duration": 8,
    "start_time": "2022-01-21T10:38:36.690Z"
   },
   {
    "duration": 8,
    "start_time": "2022-01-21T10:38:45.056Z"
   },
   {
    "duration": 14,
    "start_time": "2022-01-21T10:39:06.323Z"
   },
   {
    "duration": 19,
    "start_time": "2022-01-21T10:39:13.638Z"
   },
   {
    "duration": 25,
    "start_time": "2022-01-21T10:40:50.735Z"
   },
   {
    "duration": 22,
    "start_time": "2022-01-21T10:41:44.487Z"
   },
   {
    "duration": 25,
    "start_time": "2022-01-21T10:41:52.650Z"
   },
   {
    "duration": 28,
    "start_time": "2022-01-21T10:42:04.374Z"
   },
   {
    "duration": 31,
    "start_time": "2022-01-21T10:42:09.262Z"
   },
   {
    "duration": 36,
    "start_time": "2022-01-21T10:42:14.870Z"
   },
   {
    "duration": 32,
    "start_time": "2022-01-21T10:56:05.336Z"
   },
   {
    "duration": 7,
    "start_time": "2022-01-21T10:56:06.111Z"
   },
   {
    "duration": 35,
    "start_time": "2022-01-21T10:59:34.397Z"
   },
   {
    "duration": 7,
    "start_time": "2022-01-21T10:59:36.771Z"
   },
   {
    "duration": 5,
    "start_time": "2022-01-21T11:01:41.876Z"
   },
   {
    "duration": 6,
    "start_time": "2022-01-21T11:01:49.525Z"
   },
   {
    "duration": 10,
    "start_time": "2022-01-21T11:53:12.177Z"
   },
   {
    "duration": 6,
    "start_time": "2022-01-21T11:53:31.992Z"
   },
   {
    "duration": 6,
    "start_time": "2022-01-21T11:53:40.966Z"
   },
   {
    "duration": 6,
    "start_time": "2022-01-21T11:53:55.868Z"
   },
   {
    "duration": 6,
    "start_time": "2022-01-21T11:53:57.679Z"
   },
   {
    "duration": 75,
    "start_time": "2022-01-21T11:54:06.036Z"
   },
   {
    "duration": 20,
    "start_time": "2022-01-21T11:54:06.114Z"
   },
   {
    "duration": 37,
    "start_time": "2022-01-21T11:54:06.137Z"
   },
   {
    "duration": 17,
    "start_time": "2022-01-21T11:54:06.177Z"
   },
   {
    "duration": 64,
    "start_time": "2022-01-21T11:54:06.197Z"
   },
   {
    "duration": 10,
    "start_time": "2022-01-21T11:54:06.264Z"
   },
   {
    "duration": 33,
    "start_time": "2022-01-21T11:54:06.276Z"
   },
   {
    "duration": 7,
    "start_time": "2022-01-21T11:54:06.312Z"
   },
   {
    "duration": 3,
    "start_time": "2022-01-21T11:54:06.360Z"
   },
   {
    "duration": 12,
    "start_time": "2022-01-21T11:54:08.391Z"
   },
   {
    "duration": 9,
    "start_time": "2022-01-21T11:54:13.915Z"
   },
   {
    "duration": 7,
    "start_time": "2022-01-21T11:54:15.377Z"
   },
   {
    "duration": 4896,
    "start_time": "2022-01-21T11:57:46.979Z"
   },
   {
    "duration": -68,
    "start_time": "2022-01-21T11:57:51.947Z"
   },
   {
    "duration": 5218,
    "start_time": "2022-01-21T12:04:05.189Z"
   },
   {
    "duration": -67,
    "start_time": "2022-01-21T12:04:10.478Z"
   },
   {
    "duration": 4742,
    "start_time": "2022-01-21T12:04:52.393Z"
   },
   {
    "duration": -65,
    "start_time": "2022-01-21T12:04:57.204Z"
   },
   {
    "duration": 5124,
    "start_time": "2022-01-21T12:05:10.445Z"
   },
   {
    "duration": -65,
    "start_time": "2022-01-21T12:05:15.637Z"
   },
   {
    "duration": 5858,
    "start_time": "2022-01-21T12:05:40.899Z"
   },
   {
    "duration": 4878,
    "start_time": "2022-01-21T12:07:01.354Z"
   },
   {
    "duration": 4771,
    "start_time": "2022-01-21T12:15:55.969Z"
   },
   {
    "duration": 4820,
    "start_time": "2022-01-21T12:16:21.971Z"
   },
   {
    "duration": 76,
    "start_time": "2022-01-21T12:17:31.449Z"
   },
   {
    "duration": 35,
    "start_time": "2022-01-21T12:17:31.527Z"
   },
   {
    "duration": 19,
    "start_time": "2022-01-21T12:17:31.565Z"
   },
   {
    "duration": 22,
    "start_time": "2022-01-21T12:17:31.587Z"
   },
   {
    "duration": 63,
    "start_time": "2022-01-21T12:17:31.612Z"
   },
   {
    "duration": 6,
    "start_time": "2022-01-21T12:17:31.678Z"
   },
   {
    "duration": 33,
    "start_time": "2022-01-21T12:17:31.687Z"
   },
   {
    "duration": 40,
    "start_time": "2022-01-21T12:17:31.723Z"
   },
   {
    "duration": 7,
    "start_time": "2022-01-21T12:17:31.765Z"
   },
   {
    "duration": 12,
    "start_time": "2022-01-21T12:17:42.519Z"
   },
   {
    "duration": 27,
    "start_time": "2022-01-21T12:17:59.393Z"
   },
   {
    "duration": 10,
    "start_time": "2022-01-21T12:18:54.325Z"
   },
   {
    "duration": 8,
    "start_time": "2022-01-21T12:19:04.589Z"
   },
   {
    "duration": 11,
    "start_time": "2022-01-21T12:20:11.508Z"
   },
   {
    "duration": 8,
    "start_time": "2022-01-21T12:21:03.710Z"
   },
   {
    "duration": 29,
    "start_time": "2022-01-21T12:21:34.584Z"
   },
   {
    "duration": 17,
    "start_time": "2022-01-21T12:21:39.027Z"
   },
   {
    "duration": 2582,
    "start_time": "2022-01-21T12:22:23.856Z"
   },
   {
    "duration": 11,
    "start_time": "2022-01-21T12:24:46.673Z"
   },
   {
    "duration": 120,
    "start_time": "2022-01-21T12:24:51.156Z"
   },
   {
    "duration": 477,
    "start_time": "2022-01-21T12:24:58.501Z"
   },
   {
    "duration": 13,
    "start_time": "2022-01-21T12:25:07.203Z"
   },
   {
    "duration": 13,
    "start_time": "2022-01-21T12:25:16.665Z"
   },
   {
    "duration": 355,
    "start_time": "2022-01-21T12:25:47.118Z"
   },
   {
    "duration": 2665,
    "start_time": "2022-01-21T12:25:53.952Z"
   },
   {
    "duration": 2559,
    "start_time": "2022-01-21T12:25:56.941Z"
   },
   {
    "duration": 9,
    "start_time": "2022-01-21T12:26:04.837Z"
   },
   {
    "duration": 4794,
    "start_time": "2022-01-21T12:26:13.877Z"
   },
   {
    "duration": -62,
    "start_time": "2022-01-21T12:26:18.736Z"
   },
   {
    "duration": 74,
    "start_time": "2022-01-21T12:26:37.168Z"
   },
   {
    "duration": 19,
    "start_time": "2022-01-21T12:26:37.244Z"
   },
   {
    "duration": 17,
    "start_time": "2022-01-21T12:26:37.266Z"
   },
   {
    "duration": 15,
    "start_time": "2022-01-21T12:26:37.286Z"
   },
   {
    "duration": 63,
    "start_time": "2022-01-21T12:26:37.304Z"
   },
   {
    "duration": 6,
    "start_time": "2022-01-21T12:26:37.370Z"
   },
   {
    "duration": 38,
    "start_time": "2022-01-21T12:26:37.379Z"
   },
   {
    "duration": 6,
    "start_time": "2022-01-21T12:26:37.421Z"
   },
   {
    "duration": 8,
    "start_time": "2022-01-21T12:26:37.461Z"
   },
   {
    "duration": 5243,
    "start_time": "2022-01-21T12:26:37.472Z"
   },
   {
    "duration": 6,
    "start_time": "2022-01-21T12:26:46.369Z"
   },
   {
    "duration": 5300,
    "start_time": "2022-01-21T13:15:12.982Z"
   },
   {
    "duration": -111,
    "start_time": "2022-01-21T13:15:18.395Z"
   },
   {
    "duration": 75,
    "start_time": "2022-01-21T13:15:50.058Z"
   },
   {
    "duration": 31,
    "start_time": "2022-01-21T13:15:50.136Z"
   },
   {
    "duration": 19,
    "start_time": "2022-01-21T13:15:50.170Z"
   },
   {
    "duration": 11,
    "start_time": "2022-01-21T13:15:50.192Z"
   },
   {
    "duration": 71,
    "start_time": "2022-01-21T13:15:50.205Z"
   },
   {
    "duration": 6,
    "start_time": "2022-01-21T13:15:50.279Z"
   },
   {
    "duration": 33,
    "start_time": "2022-01-21T13:15:50.287Z"
   },
   {
    "duration": 39,
    "start_time": "2022-01-21T13:15:50.323Z"
   },
   {
    "duration": 14,
    "start_time": "2022-01-21T13:15:50.365Z"
   },
   {
    "duration": 7,
    "start_time": "2022-01-21T13:15:50.381Z"
   },
   {
    "duration": 12,
    "start_time": "2022-01-21T13:16:50.507Z"
   },
   {
    "duration": 12,
    "start_time": "2022-01-21T13:17:03.992Z"
   },
   {
    "duration": 21,
    "start_time": "2022-01-21T13:22:28.278Z"
   },
   {
    "duration": 37,
    "start_time": "2022-01-21T13:22:37.050Z"
   },
   {
    "duration": 7,
    "start_time": "2022-01-21T16:26:48.098Z"
   },
   {
    "duration": 7,
    "start_time": "2022-01-21T16:26:59.081Z"
   },
   {
    "duration": 6,
    "start_time": "2022-01-21T16:27:16.953Z"
   },
   {
    "duration": 6,
    "start_time": "2022-01-21T16:27:44.235Z"
   },
   {
    "duration": 34,
    "start_time": "2022-01-21T16:29:09.074Z"
   },
   {
    "duration": 5,
    "start_time": "2022-01-21T16:30:43.270Z"
   },
   {
    "duration": 32,
    "start_time": "2022-01-21T16:31:14.788Z"
   },
   {
    "duration": 4,
    "start_time": "2022-01-21T18:02:10.775Z"
   },
   {
    "duration": 32,
    "start_time": "2022-01-21T18:02:12.145Z"
   },
   {
    "duration": 83,
    "start_time": "2022-01-21T18:03:33.261Z"
   },
   {
    "duration": 11,
    "start_time": "2022-01-21T18:03:38.917Z"
   },
   {
    "duration": 75,
    "start_time": "2022-01-21T18:04:12.270Z"
   },
   {
    "duration": 11,
    "start_time": "2022-01-21T18:04:15.644Z"
   },
   {
    "duration": 75,
    "start_time": "2022-01-21T18:04:20.328Z"
   },
   {
    "duration": 11,
    "start_time": "2022-01-21T18:04:23.526Z"
   },
   {
    "duration": 33,
    "start_time": "2022-01-21T18:38:29.945Z"
   },
   {
    "duration": 36,
    "start_time": "2022-01-21T18:39:06.965Z"
   },
   {
    "duration": 113,
    "start_time": "2022-01-21T18:40:05.934Z"
   },
   {
    "duration": 111,
    "start_time": "2022-01-21T18:40:40.060Z"
   },
   {
    "duration": 137,
    "start_time": "2022-01-21T18:40:53.342Z"
   },
   {
    "duration": 119,
    "start_time": "2022-01-21T18:41:06.971Z"
   },
   {
    "duration": 119,
    "start_time": "2022-01-21T18:41:20.532Z"
   },
   {
    "duration": 110,
    "start_time": "2022-01-21T18:41:44.755Z"
   },
   {
    "duration": 127,
    "start_time": "2022-01-21T18:41:50.676Z"
   },
   {
    "duration": 234,
    "start_time": "2022-01-21T18:42:45.585Z"
   },
   {
    "duration": 156,
    "start_time": "2022-01-21T18:43:02.374Z"
   },
   {
    "duration": 37,
    "start_time": "2022-01-21T18:43:14.264Z"
   },
   {
    "duration": 33,
    "start_time": "2022-01-21T18:43:20.613Z"
   },
   {
    "duration": 33,
    "start_time": "2022-01-21T18:43:26.870Z"
   },
   {
    "duration": 34,
    "start_time": "2022-01-21T18:43:54.046Z"
   },
   {
    "duration": 13,
    "start_time": "2022-01-21T18:45:13.584Z"
   },
   {
    "duration": 279,
    "start_time": "2022-01-24T05:03:09.800Z"
   },
   {
    "duration": 617,
    "start_time": "2022-01-24T05:03:39.298Z"
   },
   {
    "duration": 18,
    "start_time": "2022-01-24T05:03:39.916Z"
   },
   {
    "duration": 11,
    "start_time": "2022-01-24T05:03:39.936Z"
   },
   {
    "duration": 15,
    "start_time": "2022-01-24T05:03:39.949Z"
   },
   {
    "duration": 15,
    "start_time": "2022-01-24T05:03:39.966Z"
   },
   {
    "duration": 4,
    "start_time": "2022-01-24T05:03:39.982Z"
   },
   {
    "duration": 26,
    "start_time": "2022-01-24T05:03:39.987Z"
   },
   {
    "duration": 87,
    "start_time": "2022-01-24T05:03:40.015Z"
   },
   {
    "duration": 9,
    "start_time": "2022-01-24T05:03:40.104Z"
   },
   {
    "duration": 57,
    "start_time": "2022-01-24T05:12:56.410Z"
   },
   {
    "duration": 12,
    "start_time": "2022-01-24T05:12:56.469Z"
   },
   {
    "duration": 30,
    "start_time": "2022-01-24T05:12:56.483Z"
   },
   {
    "duration": 16,
    "start_time": "2022-01-24T05:12:56.515Z"
   },
   {
    "duration": 31,
    "start_time": "2022-01-24T05:12:56.532Z"
   },
   {
    "duration": 6,
    "start_time": "2022-01-24T05:12:56.565Z"
   },
   {
    "duration": 30,
    "start_time": "2022-01-24T05:12:56.572Z"
   },
   {
    "duration": 68,
    "start_time": "2022-01-24T05:12:56.605Z"
   },
   {
    "duration": 9,
    "start_time": "2022-01-24T05:13:08.414Z"
   },
   {
    "duration": 5,
    "start_time": "2022-01-24T05:39:29.378Z"
   },
   {
    "duration": 5,
    "start_time": "2022-01-24T05:39:59.393Z"
   },
   {
    "duration": 11,
    "start_time": "2022-01-24T05:40:41.496Z"
   },
   {
    "duration": 14,
    "start_time": "2022-01-24T05:42:23.191Z"
   },
   {
    "duration": 13,
    "start_time": "2022-01-24T05:42:33.499Z"
   },
   {
    "duration": 10,
    "start_time": "2022-01-24T05:44:24.438Z"
   },
   {
    "duration": 9,
    "start_time": "2022-01-24T05:44:50.742Z"
   },
   {
    "duration": 59,
    "start_time": "2022-01-24T05:44:54.494Z"
   },
   {
    "duration": 9,
    "start_time": "2022-01-24T05:44:57.464Z"
   },
   {
    "duration": 60,
    "start_time": "2022-01-24T05:45:07.337Z"
   },
   {
    "duration": 13,
    "start_time": "2022-01-24T05:45:07.399Z"
   },
   {
    "duration": 37,
    "start_time": "2022-01-24T05:45:07.414Z"
   },
   {
    "duration": 29,
    "start_time": "2022-01-24T05:45:07.453Z"
   },
   {
    "duration": 29,
    "start_time": "2022-01-24T05:45:07.484Z"
   },
   {
    "duration": 20,
    "start_time": "2022-01-24T05:45:07.515Z"
   },
   {
    "duration": 43,
    "start_time": "2022-01-24T05:45:07.537Z"
   },
   {
    "duration": 56,
    "start_time": "2022-01-24T05:45:07.583Z"
   },
   {
    "duration": 20,
    "start_time": "2022-01-24T05:45:07.641Z"
   },
   {
    "duration": 14,
    "start_time": "2022-01-24T05:45:07.663Z"
   },
   {
    "duration": 18,
    "start_time": "2022-01-24T05:45:07.679Z"
   },
   {
    "duration": 33,
    "start_time": "2022-01-24T05:45:07.698Z"
   },
   {
    "duration": 55,
    "start_time": "2022-01-24T05:48:28.668Z"
   },
   {
    "duration": 10,
    "start_time": "2022-01-24T05:48:29.790Z"
   },
   {
    "duration": 6,
    "start_time": "2022-01-24T05:48:36.506Z"
   },
   {
    "duration": 6,
    "start_time": "2022-01-24T05:49:21.672Z"
   },
   {
    "duration": 11,
    "start_time": "2022-01-24T05:49:27.746Z"
   },
   {
    "duration": 6,
    "start_time": "2022-01-24T05:49:30.882Z"
   },
   {
    "duration": 11,
    "start_time": "2022-01-24T05:49:33.259Z"
   },
   {
    "duration": 60,
    "start_time": "2022-01-24T05:49:40.537Z"
   },
   {
    "duration": 12,
    "start_time": "2022-01-24T05:49:40.599Z"
   },
   {
    "duration": 31,
    "start_time": "2022-01-24T05:49:40.613Z"
   },
   {
    "duration": 19,
    "start_time": "2022-01-24T05:49:40.646Z"
   },
   {
    "duration": 42,
    "start_time": "2022-01-24T05:49:40.667Z"
   },
   {
    "duration": 15,
    "start_time": "2022-01-24T05:49:40.711Z"
   },
   {
    "duration": 49,
    "start_time": "2022-01-24T05:49:40.727Z"
   },
   {
    "duration": 64,
    "start_time": "2022-01-24T05:49:40.778Z"
   },
   {
    "duration": 18,
    "start_time": "2022-01-24T05:49:40.845Z"
   },
   {
    "duration": 28,
    "start_time": "2022-01-24T05:49:40.865Z"
   },
   {
    "duration": 37,
    "start_time": "2022-01-24T05:49:40.894Z"
   },
   {
    "duration": 61,
    "start_time": "2022-01-24T05:49:53.870Z"
   },
   {
    "duration": 12,
    "start_time": "2022-01-24T05:49:53.934Z"
   },
   {
    "duration": 37,
    "start_time": "2022-01-24T05:49:53.949Z"
   },
   {
    "duration": 48,
    "start_time": "2022-01-24T05:49:53.989Z"
   },
   {
    "duration": 29,
    "start_time": "2022-01-24T05:49:54.039Z"
   },
   {
    "duration": 4,
    "start_time": "2022-01-24T05:49:54.070Z"
   },
   {
    "duration": 42,
    "start_time": "2022-01-24T05:49:54.075Z"
   },
   {
    "duration": 58,
    "start_time": "2022-01-24T05:49:54.119Z"
   },
   {
    "duration": 10,
    "start_time": "2022-01-24T05:49:54.180Z"
   },
   {
    "duration": 11,
    "start_time": "2022-01-24T05:49:54.192Z"
   },
   {
    "duration": 24,
    "start_time": "2022-01-24T05:49:54.205Z"
   },
   {
    "duration": 6,
    "start_time": "2022-01-24T05:50:05.323Z"
   },
   {
    "duration": 12,
    "start_time": "2022-01-24T05:50:06.644Z"
   },
   {
    "duration": 7,
    "start_time": "2022-01-24T05:50:22.617Z"
   },
   {
    "duration": 11,
    "start_time": "2022-01-24T05:50:23.358Z"
   },
   {
    "duration": 4,
    "start_time": "2022-01-24T05:50:35.248Z"
   },
   {
    "duration": 10,
    "start_time": "2022-01-24T05:50:35.979Z"
   },
   {
    "duration": 7,
    "start_time": "2022-01-24T05:50:53.135Z"
   },
   {
    "duration": 6,
    "start_time": "2022-01-24T05:51:41.351Z"
   },
   {
    "duration": 9,
    "start_time": "2022-01-24T05:51:42.326Z"
   },
   {
    "duration": 61,
    "start_time": "2022-01-24T05:51:50.690Z"
   },
   {
    "duration": 12,
    "start_time": "2022-01-24T05:51:50.753Z"
   },
   {
    "duration": 15,
    "start_time": "2022-01-24T05:51:50.767Z"
   },
   {
    "duration": 10,
    "start_time": "2022-01-24T05:51:50.784Z"
   },
   {
    "duration": 17,
    "start_time": "2022-01-24T05:51:50.795Z"
   },
   {
    "duration": 4,
    "start_time": "2022-01-24T05:51:50.813Z"
   },
   {
    "duration": 52,
    "start_time": "2022-01-24T05:51:50.818Z"
   },
   {
    "duration": 53,
    "start_time": "2022-01-24T05:51:50.872Z"
   },
   {
    "duration": 9,
    "start_time": "2022-01-24T05:51:50.926Z"
   },
   {
    "duration": 25,
    "start_time": "2022-01-24T05:51:50.936Z"
   },
   {
    "duration": 9,
    "start_time": "2022-01-24T05:51:50.963Z"
   },
   {
    "duration": 6,
    "start_time": "2022-01-24T05:52:09.965Z"
   },
   {
    "duration": 10,
    "start_time": "2022-01-24T05:52:10.589Z"
   },
   {
    "duration": 4,
    "start_time": "2022-01-24T05:53:19.563Z"
   },
   {
    "duration": 10,
    "start_time": "2022-01-24T05:57:13.894Z"
   },
   {
    "duration": 4,
    "start_time": "2022-01-24T05:58:03.195Z"
   },
   {
    "duration": 4,
    "start_time": "2022-01-24T05:58:06.460Z"
   },
   {
    "duration": 4,
    "start_time": "2022-01-24T05:58:15.049Z"
   },
   {
    "duration": 4,
    "start_time": "2022-01-24T05:58:16.940Z"
   },
   {
    "duration": 10,
    "start_time": "2022-01-24T05:59:02.567Z"
   },
   {
    "duration": 11,
    "start_time": "2022-01-24T05:59:14.410Z"
   },
   {
    "duration": 4,
    "start_time": "2022-01-24T05:59:24.520Z"
   },
   {
    "duration": 10,
    "start_time": "2022-01-24T05:59:25.275Z"
   },
   {
    "duration": 10,
    "start_time": "2022-01-24T05:59:26.143Z"
   },
   {
    "duration": 56,
    "start_time": "2022-01-24T06:00:37.103Z"
   },
   {
    "duration": 12,
    "start_time": "2022-01-24T06:00:37.161Z"
   },
   {
    "duration": 19,
    "start_time": "2022-01-24T06:00:37.175Z"
   },
   {
    "duration": 12,
    "start_time": "2022-01-24T06:00:37.196Z"
   },
   {
    "duration": 17,
    "start_time": "2022-01-24T06:00:37.210Z"
   },
   {
    "duration": 32,
    "start_time": "2022-01-24T06:00:37.229Z"
   },
   {
    "duration": 28,
    "start_time": "2022-01-24T06:00:37.263Z"
   },
   {
    "duration": 77,
    "start_time": "2022-01-24T06:00:37.293Z"
   },
   {
    "duration": 9,
    "start_time": "2022-01-24T06:00:37.373Z"
   },
   {
    "duration": 6,
    "start_time": "2022-01-24T06:00:37.383Z"
   },
   {
    "duration": 15,
    "start_time": "2022-01-24T06:00:37.391Z"
   },
   {
    "duration": 10,
    "start_time": "2022-01-24T06:09:50.166Z"
   },
   {
    "duration": 18,
    "start_time": "2022-01-24T06:10:57.091Z"
   },
   {
    "duration": 270,
    "start_time": "2022-01-24T06:13:35.455Z"
   },
   {
    "duration": 252,
    "start_time": "2022-01-24T06:18:32.976Z"
   },
   {
    "duration": 244,
    "start_time": "2022-01-24T06:18:38.266Z"
   },
   {
    "duration": 258,
    "start_time": "2022-01-24T06:20:19.677Z"
   },
   {
    "duration": 248,
    "start_time": "2022-01-24T06:20:32.523Z"
   },
   {
    "duration": 236,
    "start_time": "2022-01-24T06:22:19.221Z"
   },
   {
    "duration": 262,
    "start_time": "2022-01-24T06:22:32.290Z"
   },
   {
    "duration": 83,
    "start_time": "2022-01-24T06:23:40.137Z"
   },
   {
    "duration": 14,
    "start_time": "2022-01-24T06:23:50.339Z"
   },
   {
    "duration": 20,
    "start_time": "2022-01-24T06:24:13.141Z"
   },
   {
    "duration": 16,
    "start_time": "2022-01-24T06:24:28.849Z"
   },
   {
    "duration": 14,
    "start_time": "2022-01-24T06:25:50.497Z"
   },
   {
    "duration": 55,
    "start_time": "2022-01-24T06:26:02.347Z"
   },
   {
    "duration": 59,
    "start_time": "2022-01-24T06:26:59.455Z"
   },
   {
    "duration": 36,
    "start_time": "2022-01-24T06:27:06.824Z"
   },
   {
    "duration": 50,
    "start_time": "2022-01-24T07:02:27.942Z"
   },
   {
    "duration": 24,
    "start_time": "2022-01-24T07:02:31.944Z"
   },
   {
    "duration": 18,
    "start_time": "2022-01-24T07:09:37.495Z"
   },
   {
    "duration": 23,
    "start_time": "2022-01-24T07:14:24.760Z"
   },
   {
    "duration": 18,
    "start_time": "2022-01-24T07:14:34.229Z"
   },
   {
    "duration": 18,
    "start_time": "2022-01-24T07:15:36.138Z"
   },
   {
    "duration": 11,
    "start_time": "2022-01-24T07:16:06.245Z"
   },
   {
    "duration": 63,
    "start_time": "2022-01-24T07:25:39.585Z"
   },
   {
    "duration": 61,
    "start_time": "2022-01-24T07:25:52.301Z"
   },
   {
    "duration": 14,
    "start_time": "2022-01-24T07:25:52.364Z"
   },
   {
    "duration": 14,
    "start_time": "2022-01-24T07:25:52.380Z"
   },
   {
    "duration": 10,
    "start_time": "2022-01-24T07:25:52.397Z"
   },
   {
    "duration": 27,
    "start_time": "2022-01-24T07:25:52.409Z"
   },
   {
    "duration": 24,
    "start_time": "2022-01-24T07:25:52.438Z"
   },
   {
    "duration": 28,
    "start_time": "2022-01-24T07:25:52.464Z"
   },
   {
    "duration": 68,
    "start_time": "2022-01-24T07:25:52.493Z"
   },
   {
    "duration": 9,
    "start_time": "2022-01-24T07:25:52.564Z"
   },
   {
    "duration": 14,
    "start_time": "2022-01-24T07:25:52.575Z"
   },
   {
    "duration": 28,
    "start_time": "2022-01-24T07:25:52.591Z"
   },
   {
    "duration": 29,
    "start_time": "2022-01-24T07:25:52.621Z"
   },
   {
    "duration": 24,
    "start_time": "2022-01-24T07:25:52.651Z"
   },
   {
    "duration": 57,
    "start_time": "2022-01-24T07:25:52.676Z"
   },
   {
    "duration": 26,
    "start_time": "2022-01-24T07:25:52.735Z"
   },
   {
    "duration": 19,
    "start_time": "2022-01-24T07:25:52.763Z"
   },
   {
    "duration": 15,
    "start_time": "2022-01-24T07:25:52.784Z"
   },
   {
    "duration": 11,
    "start_time": "2022-01-24T07:32:39.589Z"
   },
   {
    "duration": 312,
    "start_time": "2022-01-24T07:39:12.500Z"
   },
   {
    "duration": 277,
    "start_time": "2022-01-24T07:39:53.945Z"
   },
   {
    "duration": 252,
    "start_time": "2022-01-24T07:42:46.055Z"
   },
   {
    "duration": 437,
    "start_time": "2022-01-24T08:46:08.142Z"
   },
   {
    "duration": 924,
    "start_time": "2022-01-24T08:52:57.954Z"
   },
   {
    "duration": 1161,
    "start_time": "2022-01-24T09:12:11.299Z"
   },
   {
    "duration": 974,
    "start_time": "2022-01-24T09:15:34.341Z"
   },
   {
    "duration": 22,
    "start_time": "2022-01-24T09:16:46.002Z"
   },
   {
    "duration": 9,
    "start_time": "2022-01-24T09:17:05.619Z"
   },
   {
    "duration": 41463,
    "start_time": "2022-01-24T09:20:26.018Z"
   },
   {
    "duration": 16,
    "start_time": "2022-01-24T09:21:07.493Z"
   },
   {
    "duration": 440,
    "start_time": "2022-01-24T09:26:53.076Z"
   },
   {
    "duration": 64,
    "start_time": "2022-01-24T09:27:00.529Z"
   },
   {
    "duration": 17,
    "start_time": "2022-01-24T09:27:00.596Z"
   },
   {
    "duration": 36,
    "start_time": "2022-01-24T09:27:00.615Z"
   },
   {
    "duration": 30,
    "start_time": "2022-01-24T09:27:00.654Z"
   },
   {
    "duration": 74,
    "start_time": "2022-01-24T09:27:00.686Z"
   },
   {
    "duration": 51,
    "start_time": "2022-01-24T09:27:00.762Z"
   },
   {
    "duration": 44,
    "start_time": "2022-01-24T09:27:00.815Z"
   },
   {
    "duration": 66,
    "start_time": "2022-01-24T09:27:00.862Z"
   },
   {
    "duration": 9,
    "start_time": "2022-01-24T09:27:00.931Z"
   },
   {
    "duration": 67,
    "start_time": "2022-01-24T09:27:00.941Z"
   },
   {
    "duration": 74,
    "start_time": "2022-01-24T09:27:01.009Z"
   },
   {
    "duration": 69,
    "start_time": "2022-01-24T09:27:01.086Z"
   },
   {
    "duration": 60,
    "start_time": "2022-01-24T09:27:01.157Z"
   },
   {
    "duration": 81,
    "start_time": "2022-01-24T09:27:01.219Z"
   },
   {
    "duration": 28,
    "start_time": "2022-01-24T09:27:01.301Z"
   },
   {
    "duration": 33,
    "start_time": "2022-01-24T09:27:01.331Z"
   },
   {
    "duration": 31,
    "start_time": "2022-01-24T09:27:01.366Z"
   },
   {
    "duration": 62,
    "start_time": "2022-01-24T09:27:01.399Z"
   },
   {
    "duration": 39,
    "start_time": "2022-01-24T09:27:01.463Z"
   },
   {
    "duration": 262,
    "start_time": "2022-01-24T09:27:03.024Z"
   },
   {
    "duration": 3569,
    "start_time": "2022-01-24T09:27:15.081Z"
   },
   {
    "duration": 3494,
    "start_time": "2022-01-24T09:31:29.050Z"
   },
   {
    "duration": 3819,
    "start_time": "2022-01-24T09:31:40.618Z"
   },
   {
    "duration": 3668,
    "start_time": "2022-01-24T09:31:56.807Z"
   },
   {
    "duration": 3751,
    "start_time": "2022-01-24T09:32:12.237Z"
   },
   {
    "duration": 3754,
    "start_time": "2022-01-24T09:32:44.264Z"
   },
   {
    "duration": 265,
    "start_time": "2022-01-24T09:33:22.557Z"
   },
   {
    "duration": 257,
    "start_time": "2022-01-24T09:33:47.921Z"
   },
   {
    "duration": 100,
    "start_time": "2022-01-24T09:39:28.596Z"
   },
   {
    "duration": 3690,
    "start_time": "2022-01-24T09:39:33.529Z"
   },
   {
    "duration": 9,
    "start_time": "2022-01-24T09:39:37.221Z"
   },
   {
    "duration": 1807,
    "start_time": "2022-01-24T09:39:47.890Z"
   },
   {
    "duration": 3626,
    "start_time": "2022-01-24T09:46:49.059Z"
   },
   {
    "duration": 2641,
    "start_time": "2022-01-24T09:47:31.665Z"
   },
   {
    "duration": 1279,
    "start_time": "2022-01-24T09:47:51.850Z"
   },
   {
    "duration": 3619,
    "start_time": "2022-01-24T09:48:45.456Z"
   },
   {
    "duration": 10,
    "start_time": "2022-01-24T09:48:57.036Z"
   },
   {
    "duration": 3547,
    "start_time": "2022-01-24T09:51:11.631Z"
   },
   {
    "duration": 3492,
    "start_time": "2022-01-24T09:51:21.994Z"
   },
   {
    "duration": 4061,
    "start_time": "2022-01-24T09:54:55.640Z"
   },
   {
    "duration": 3480,
    "start_time": "2022-01-24T09:55:16.565Z"
   },
   {
    "duration": 10,
    "start_time": "2022-01-24T09:55:27.457Z"
   },
   {
    "duration": 63,
    "start_time": "2022-01-24T10:01:24.686Z"
   },
   {
    "duration": 8,
    "start_time": "2022-01-24T10:03:21.411Z"
   },
   {
    "duration": 3701,
    "start_time": "2022-01-24T10:04:45.492Z"
   },
   {
    "duration": 1143,
    "start_time": "2022-01-24T10:04:54.388Z"
   },
   {
    "duration": 3696,
    "start_time": "2022-01-24T10:05:23.201Z"
   },
   {
    "duration": 8,
    "start_time": "2022-01-24T10:05:32.541Z"
   },
   {
    "duration": 4,
    "start_time": "2022-01-24T12:12:39.405Z"
   },
   {
    "duration": 263,
    "start_time": "2022-01-24T12:14:14.538Z"
   },
   {
    "duration": 439,
    "start_time": "2022-01-24T12:14:34.643Z"
   },
   {
    "duration": 10,
    "start_time": "2022-01-24T12:14:47.195Z"
   },
   {
    "duration": 3,
    "start_time": "2022-01-24T12:15:31.889Z"
   },
   {
    "duration": 447,
    "start_time": "2022-01-24T12:15:32.376Z"
   },
   {
    "duration": 11,
    "start_time": "2022-01-24T12:15:33.103Z"
   },
   {
    "duration": 11,
    "start_time": "2022-01-24T13:26:05.758Z"
   },
   {
    "duration": 477,
    "start_time": "2022-01-24T13:26:21.311Z"
   },
   {
    "duration": 4,
    "start_time": "2022-01-24T13:26:38.959Z"
   },
   {
    "duration": 6,
    "start_time": "2022-01-24T13:37:20.532Z"
   },
   {
    "duration": 5,
    "start_time": "2022-01-24T13:38:05.455Z"
   },
   {
    "duration": 61,
    "start_time": "2022-01-24T13:38:29.095Z"
   },
   {
    "duration": 12,
    "start_time": "2022-01-24T13:38:29.159Z"
   },
   {
    "duration": 24,
    "start_time": "2022-01-24T13:38:29.173Z"
   },
   {
    "duration": 22,
    "start_time": "2022-01-24T13:38:29.199Z"
   },
   {
    "duration": 36,
    "start_time": "2022-01-24T13:38:29.223Z"
   },
   {
    "duration": 13,
    "start_time": "2022-01-24T13:38:29.261Z"
   },
   {
    "duration": 53,
    "start_time": "2022-01-24T13:38:29.276Z"
   },
   {
    "duration": 67,
    "start_time": "2022-01-24T13:38:29.332Z"
   },
   {
    "duration": 10,
    "start_time": "2022-01-24T13:38:29.401Z"
   },
   {
    "duration": 34,
    "start_time": "2022-01-24T13:38:29.413Z"
   },
   {
    "duration": 34,
    "start_time": "2022-01-24T13:38:29.449Z"
   },
   {
    "duration": 25,
    "start_time": "2022-01-24T13:38:29.485Z"
   },
   {
    "duration": 28,
    "start_time": "2022-01-24T13:38:29.511Z"
   },
   {
    "duration": 58,
    "start_time": "2022-01-24T13:38:29.540Z"
   },
   {
    "duration": 25,
    "start_time": "2022-01-24T13:38:29.600Z"
   },
   {
    "duration": 38,
    "start_time": "2022-01-24T13:38:29.627Z"
   },
   {
    "duration": 98,
    "start_time": "2022-01-24T13:38:29.667Z"
   },
   {
    "duration": 22,
    "start_time": "2022-01-24T13:38:29.767Z"
   },
   {
    "duration": 3557,
    "start_time": "2022-01-24T13:38:29.791Z"
   },
   {
    "duration": 9,
    "start_time": "2022-01-24T13:38:33.361Z"
   },
   {
    "duration": 16,
    "start_time": "2022-01-24T13:38:33.372Z"
   },
   {
    "duration": 492,
    "start_time": "2022-01-24T13:38:33.390Z"
   },
   {
    "duration": 10,
    "start_time": "2022-01-24T13:38:33.885Z"
   },
   {
    "duration": 27,
    "start_time": "2022-01-24T13:38:33.897Z"
   },
   {
    "duration": 4166,
    "start_time": "2022-01-24T13:54:22.634Z"
   },
   {
    "duration": 459,
    "start_time": "2022-01-24T14:05:47.828Z"
   },
   {
    "duration": 11,
    "start_time": "2022-01-24T14:05:49.273Z"
   },
   {
    "duration": 6,
    "start_time": "2022-01-24T14:05:50.942Z"
   },
   {
    "duration": 9,
    "start_time": "2022-01-24T14:13:07.594Z"
   },
   {
    "duration": 11,
    "start_time": "2022-01-24T14:13:26.263Z"
   },
   {
    "duration": 6,
    "start_time": "2022-01-24T14:14:59.914Z"
   },
   {
    "duration": 71,
    "start_time": "2022-01-24T14:15:10.802Z"
   },
   {
    "duration": 21,
    "start_time": "2022-01-24T14:15:10.875Z"
   },
   {
    "duration": 39,
    "start_time": "2022-01-24T14:15:10.898Z"
   },
   {
    "duration": 24,
    "start_time": "2022-01-24T14:15:10.939Z"
   },
   {
    "duration": 45,
    "start_time": "2022-01-24T14:15:10.964Z"
   },
   {
    "duration": 13,
    "start_time": "2022-01-24T14:15:11.012Z"
   },
   {
    "duration": 62,
    "start_time": "2022-01-24T14:15:11.027Z"
   },
   {
    "duration": 102,
    "start_time": "2022-01-24T14:15:11.092Z"
   },
   {
    "duration": 12,
    "start_time": "2022-01-24T14:15:11.197Z"
   },
   {
    "duration": 14,
    "start_time": "2022-01-24T14:15:11.211Z"
   },
   {
    "duration": 30,
    "start_time": "2022-01-24T14:15:11.227Z"
   },
   {
    "duration": 41,
    "start_time": "2022-01-24T14:15:11.259Z"
   },
   {
    "duration": 27,
    "start_time": "2022-01-24T14:15:11.302Z"
   },
   {
    "duration": 93,
    "start_time": "2022-01-24T14:15:11.331Z"
   },
   {
    "duration": 47,
    "start_time": "2022-01-24T14:15:11.426Z"
   },
   {
    "duration": 31,
    "start_time": "2022-01-24T14:15:11.475Z"
   },
   {
    "duration": 18,
    "start_time": "2022-01-24T14:15:11.508Z"
   },
   {
    "duration": 33,
    "start_time": "2022-01-24T14:15:11.527Z"
   },
   {
    "duration": 3903,
    "start_time": "2022-01-24T14:15:11.562Z"
   },
   {
    "duration": 8,
    "start_time": "2022-01-24T14:15:15.467Z"
   },
   {
    "duration": 6,
    "start_time": "2022-01-24T14:15:15.477Z"
   },
   {
    "duration": 545,
    "start_time": "2022-01-24T14:15:15.485Z"
   },
   {
    "duration": 14,
    "start_time": "2022-01-24T14:15:16.034Z"
   },
   {
    "duration": 7,
    "start_time": "2022-01-24T14:15:16.061Z"
   },
   {
    "duration": 5,
    "start_time": "2022-01-24T16:54:32.460Z"
   },
   {
    "duration": 6,
    "start_time": "2022-01-24T16:57:06.709Z"
   },
   {
    "duration": 3,
    "start_time": "2022-01-24T16:57:16.856Z"
   },
   {
    "duration": 4,
    "start_time": "2022-01-24T16:57:23.250Z"
   },
   {
    "duration": 295,
    "start_time": "2022-01-25T05:16:36.409Z"
   },
   {
    "duration": 851,
    "start_time": "2022-01-25T05:16:50.367Z"
   },
   {
    "duration": 31,
    "start_time": "2022-01-25T05:16:51.222Z"
   },
   {
    "duration": 20,
    "start_time": "2022-01-25T05:16:51.256Z"
   },
   {
    "duration": 12,
    "start_time": "2022-01-25T05:16:51.279Z"
   },
   {
    "duration": 60,
    "start_time": "2022-01-25T05:16:51.294Z"
   },
   {
    "duration": 7,
    "start_time": "2022-01-25T05:16:51.358Z"
   },
   {
    "duration": 78,
    "start_time": "2022-01-25T05:16:51.368Z"
   },
   {
    "duration": 147,
    "start_time": "2022-01-25T05:16:51.449Z"
   },
   {
    "duration": 30,
    "start_time": "2022-01-25T05:16:51.602Z"
   },
   {
    "duration": 7,
    "start_time": "2022-01-25T05:16:51.636Z"
   },
   {
    "duration": 23,
    "start_time": "2022-01-25T05:16:51.646Z"
   },
   {
    "duration": 22,
    "start_time": "2022-01-25T05:16:51.672Z"
   },
   {
    "duration": 55,
    "start_time": "2022-01-25T05:16:51.696Z"
   },
   {
    "duration": 95,
    "start_time": "2022-01-25T05:16:51.754Z"
   },
   {
    "duration": 33,
    "start_time": "2022-01-25T05:16:51.851Z"
   },
   {
    "duration": 47,
    "start_time": "2022-01-25T05:16:51.886Z"
   },
   {
    "duration": 22,
    "start_time": "2022-01-25T05:16:51.935Z"
   },
   {
    "duration": 14,
    "start_time": "2022-01-25T05:16:51.960Z"
   },
   {
    "duration": 5717,
    "start_time": "2022-01-25T05:16:51.976Z"
   },
   {
    "duration": 12,
    "start_time": "2022-01-25T05:16:57.696Z"
   },
   {
    "duration": 23,
    "start_time": "2022-01-25T05:16:57.710Z"
   },
   {
    "duration": 1779,
    "start_time": "2022-01-25T05:16:57.736Z"
   },
   {
    "duration": 26,
    "start_time": "2022-01-25T05:16:59.518Z"
   },
   {
    "duration": 9,
    "start_time": "2022-01-25T05:16:59.547Z"
   },
   {
    "duration": 4,
    "start_time": "2022-01-25T05:17:03.292Z"
   },
   {
    "duration": 6,
    "start_time": "2022-01-25T05:17:30.455Z"
   },
   {
    "duration": 6,
    "start_time": "2022-01-25T05:17:47.285Z"
   },
   {
    "duration": 5,
    "start_time": "2022-01-25T05:18:26.604Z"
   },
   {
    "duration": 4,
    "start_time": "2022-01-25T05:18:50.810Z"
   },
   {
    "duration": 35,
    "start_time": "2022-01-25T05:19:04.536Z"
   },
   {
    "duration": 38,
    "start_time": "2022-01-25T05:20:34.588Z"
   },
   {
    "duration": 35,
    "start_time": "2022-01-25T05:21:02.563Z"
   },
   {
    "duration": 37,
    "start_time": "2022-01-25T05:55:05.649Z"
   },
   {
    "duration": 376,
    "start_time": "2022-01-25T05:58:42.720Z"
   },
   {
    "duration": 236,
    "start_time": "2022-01-25T05:58:53.436Z"
   },
   {
    "duration": 226,
    "start_time": "2022-01-25T06:09:48.725Z"
   },
   {
    "duration": 265,
    "start_time": "2022-01-25T06:10:10.059Z"
   },
   {
    "duration": 28,
    "start_time": "2022-01-25T06:13:51.955Z"
   },
   {
    "duration": 24,
    "start_time": "2022-01-25T06:13:56.475Z"
   },
   {
    "duration": 34,
    "start_time": "2022-01-25T06:14:20.002Z"
   },
   {
    "duration": 40,
    "start_time": "2022-01-25T06:15:59.517Z"
   },
   {
    "duration": 42,
    "start_time": "2022-01-25T06:16:15.005Z"
   },
   {
    "duration": 37,
    "start_time": "2022-01-25T06:16:36.916Z"
   },
   {
    "duration": 283,
    "start_time": "2022-01-25T07:40:50.192Z"
   },
   {
    "duration": 80,
    "start_time": "2022-01-25T07:40:54.546Z"
   },
   {
    "duration": 809,
    "start_time": "2022-01-25T08:45:11.496Z"
   },
   {
    "duration": 270,
    "start_time": "2022-01-25T09:25:35.357Z"
   },
   {
    "duration": 6,
    "start_time": "2022-01-25T09:25:45.596Z"
   },
   {
    "duration": 8,
    "start_time": "2022-01-25T09:26:04.991Z"
   },
   {
    "duration": 27,
    "start_time": "2022-01-25T11:18:27.083Z"
   },
   {
    "duration": 37,
    "start_time": "2022-01-25T11:18:57.562Z"
   },
   {
    "duration": 13,
    "start_time": "2022-01-25T11:19:33.386Z"
   },
   {
    "duration": 13,
    "start_time": "2022-01-25T11:20:17.265Z"
   },
   {
    "duration": 13,
    "start_time": "2022-01-25T11:20:25.134Z"
   },
   {
    "duration": 16,
    "start_time": "2022-01-25T12:01:44.290Z"
   },
   {
    "duration": 10,
    "start_time": "2022-01-25T12:01:47.977Z"
   },
   {
    "duration": 9,
    "start_time": "2022-01-25T12:01:56.679Z"
   },
   {
    "duration": 455,
    "start_time": "2022-01-25T12:02:04.300Z"
   },
   {
    "duration": 8,
    "start_time": "2022-01-25T12:02:15.358Z"
   },
   {
    "duration": 7,
    "start_time": "2022-01-25T12:02:21.849Z"
   },
   {
    "duration": 8,
    "start_time": "2022-01-25T12:02:49.546Z"
   },
   {
    "duration": 9,
    "start_time": "2022-01-25T12:02:52.165Z"
   },
   {
    "duration": 11,
    "start_time": "2022-01-25T12:03:23.046Z"
   },
   {
    "duration": 11,
    "start_time": "2022-01-25T12:04:47.912Z"
   },
   {
    "duration": 8,
    "start_time": "2022-01-25T12:22:18.161Z"
   },
   {
    "duration": 13,
    "start_time": "2022-01-25T14:00:04.118Z"
   },
   {
    "duration": 4,
    "start_time": "2022-01-25T14:00:43.422Z"
   },
   {
    "duration": 288,
    "start_time": "2022-01-26T05:14:01.289Z"
   },
   {
    "duration": 735,
    "start_time": "2022-01-26T05:14:22.929Z"
   },
   {
    "duration": 21,
    "start_time": "2022-01-26T05:14:23.667Z"
   },
   {
    "duration": 27,
    "start_time": "2022-01-26T05:14:23.691Z"
   },
   {
    "duration": 18,
    "start_time": "2022-01-26T05:14:23.721Z"
   },
   {
    "duration": 21,
    "start_time": "2022-01-26T05:14:23.740Z"
   },
   {
    "duration": 4,
    "start_time": "2022-01-26T05:14:23.763Z"
   },
   {
    "duration": 59,
    "start_time": "2022-01-26T05:14:23.769Z"
   },
   {
    "duration": 63,
    "start_time": "2022-01-26T05:14:23.830Z"
   },
   {
    "duration": 20,
    "start_time": "2022-01-26T05:14:23.896Z"
   },
   {
    "duration": 22,
    "start_time": "2022-01-26T05:14:23.919Z"
   },
   {
    "duration": 13,
    "start_time": "2022-01-26T05:14:23.943Z"
   },
   {
    "duration": 13,
    "start_time": "2022-01-26T05:14:23.958Z"
   },
   {
    "duration": 49,
    "start_time": "2022-01-26T05:14:23.973Z"
   },
   {
    "duration": 54,
    "start_time": "2022-01-26T05:14:24.024Z"
   },
   {
    "duration": 47,
    "start_time": "2022-01-26T05:14:24.080Z"
   },
   {
    "duration": 22,
    "start_time": "2022-01-26T05:14:24.129Z"
   },
   {
    "duration": 17,
    "start_time": "2022-01-26T05:14:24.153Z"
   },
   {
    "duration": 35,
    "start_time": "2022-01-26T05:14:24.172Z"
   },
   {
    "duration": 4129,
    "start_time": "2022-01-26T05:14:24.210Z"
   },
   {
    "duration": 9,
    "start_time": "2022-01-26T05:14:28.341Z"
   },
   {
    "duration": 7,
    "start_time": "2022-01-26T05:14:28.352Z"
   },
   {
    "duration": 21,
    "start_time": "2022-01-26T05:14:28.361Z"
   },
   {
    "duration": 5,
    "start_time": "2022-01-26T05:14:28.384Z"
   },
   {
    "duration": 21,
    "start_time": "2022-01-26T05:14:28.390Z"
   },
   {
    "duration": 12,
    "start_time": "2022-01-26T05:14:28.413Z"
   },
   {
    "duration": 13,
    "start_time": "2022-01-26T05:14:28.427Z"
   },
   {
    "duration": 505,
    "start_time": "2022-01-26T05:14:28.443Z"
   },
   {
    "duration": 11,
    "start_time": "2022-01-26T05:14:28.950Z"
   },
   {
    "duration": 8,
    "start_time": "2022-01-26T05:14:28.964Z"
   },
   {
    "duration": 57,
    "start_time": "2022-01-26T05:14:28.974Z"
   },
   {
    "duration": 23,
    "start_time": "2022-01-26T05:31:28.868Z"
   },
   {
    "duration": 83,
    "start_time": "2022-01-26T05:32:22.892Z"
   },
   {
    "duration": 21,
    "start_time": "2022-01-26T05:32:27.840Z"
   },
   {
    "duration": 15,
    "start_time": "2022-01-26T05:33:42.285Z"
   },
   {
    "duration": 22,
    "start_time": "2022-01-26T05:33:54.309Z"
   },
   {
    "duration": 7,
    "start_time": "2022-01-26T05:34:27.934Z"
   },
   {
    "duration": 9,
    "start_time": "2022-01-26T05:42:49.151Z"
   },
   {
    "duration": 6,
    "start_time": "2022-01-26T05:43:00.428Z"
   },
   {
    "duration": 9,
    "start_time": "2022-01-26T05:43:21.221Z"
   },
   {
    "duration": 8,
    "start_time": "2022-01-26T05:43:21.525Z"
   },
   {
    "duration": 4,
    "start_time": "2022-01-26T05:43:29.409Z"
   },
   {
    "duration": 7,
    "start_time": "2022-01-26T05:43:29.627Z"
   },
   {
    "duration": 5,
    "start_time": "2022-01-26T05:43:46.053Z"
   },
   {
    "duration": 10,
    "start_time": "2022-01-26T05:43:47.102Z"
   },
   {
    "duration": 7,
    "start_time": "2022-01-26T06:06:09.613Z"
   },
   {
    "duration": 7,
    "start_time": "2022-01-26T06:06:24.187Z"
   },
   {
    "duration": 7,
    "start_time": "2022-01-26T06:21:29.765Z"
   },
   {
    "duration": 90,
    "start_time": "2022-01-26T06:21:43.694Z"
   },
   {
    "duration": 32,
    "start_time": "2022-01-26T06:21:43.787Z"
   },
   {
    "duration": 23,
    "start_time": "2022-01-26T06:21:43.821Z"
   },
   {
    "duration": 11,
    "start_time": "2022-01-26T06:21:43.846Z"
   },
   {
    "duration": 20,
    "start_time": "2022-01-26T06:21:43.859Z"
   },
   {
    "duration": 4,
    "start_time": "2022-01-26T06:21:43.908Z"
   },
   {
    "duration": 33,
    "start_time": "2022-01-26T06:21:43.914Z"
   },
   {
    "duration": 83,
    "start_time": "2022-01-26T06:21:43.950Z"
   },
   {
    "duration": 11,
    "start_time": "2022-01-26T06:21:44.036Z"
   },
   {
    "duration": 8,
    "start_time": "2022-01-26T06:21:44.048Z"
   },
   {
    "duration": 14,
    "start_time": "2022-01-26T06:21:44.058Z"
   },
   {
    "duration": 34,
    "start_time": "2022-01-26T06:21:44.073Z"
   },
   {
    "duration": 16,
    "start_time": "2022-01-26T06:21:44.109Z"
   },
   {
    "duration": 51,
    "start_time": "2022-01-26T06:21:44.126Z"
   },
   {
    "duration": 45,
    "start_time": "2022-01-26T06:21:44.178Z"
   },
   {
    "duration": 22,
    "start_time": "2022-01-26T06:21:44.225Z"
   },
   {
    "duration": 16,
    "start_time": "2022-01-26T06:21:44.249Z"
   },
   {
    "duration": 40,
    "start_time": "2022-01-26T06:21:44.267Z"
   },
   {
    "duration": 3709,
    "start_time": "2022-01-26T06:21:44.309Z"
   },
   {
    "duration": 7,
    "start_time": "2022-01-26T06:21:48.021Z"
   },
   {
    "duration": 27,
    "start_time": "2022-01-26T06:21:48.030Z"
   },
   {
    "duration": 29,
    "start_time": "2022-01-26T06:21:48.059Z"
   },
   {
    "duration": 4,
    "start_time": "2022-01-26T06:21:48.092Z"
   },
   {
    "duration": 24,
    "start_time": "2022-01-26T06:21:48.098Z"
   },
   {
    "duration": 16,
    "start_time": "2022-01-26T06:21:48.124Z"
   },
   {
    "duration": 24,
    "start_time": "2022-01-26T06:21:48.142Z"
   },
   {
    "duration": 16,
    "start_time": "2022-01-26T06:21:48.168Z"
   },
   {
    "duration": 15,
    "start_time": "2022-01-26T06:21:48.186Z"
   },
   {
    "duration": 476,
    "start_time": "2022-01-26T06:21:48.203Z"
   },
   {
    "duration": 12,
    "start_time": "2022-01-26T06:21:48.681Z"
   },
   {
    "duration": 25,
    "start_time": "2022-01-26T06:21:48.695Z"
   },
   {
    "duration": 59,
    "start_time": "2022-01-26T06:21:48.722Z"
   },
   {
    "duration": 47366,
    "start_time": "2022-01-26T06:26:59.429Z"
   },
   {
    "duration": 15,
    "start_time": "2022-01-26T06:27:46.798Z"
   },
   {
    "duration": 20,
    "start_time": "2022-01-26T07:39:25.630Z"
   },
   {
    "duration": 270,
    "start_time": "2022-01-26T07:41:00.371Z"
   },
   {
    "duration": 63,
    "start_time": "2022-01-26T07:41:19.939Z"
   },
   {
    "duration": 15,
    "start_time": "2022-01-26T07:41:20.004Z"
   },
   {
    "duration": 21,
    "start_time": "2022-01-26T07:41:20.021Z"
   },
   {
    "duration": 34,
    "start_time": "2022-01-26T07:41:20.044Z"
   },
   {
    "duration": 32,
    "start_time": "2022-01-26T07:41:20.080Z"
   },
   {
    "duration": 8,
    "start_time": "2022-01-26T07:41:20.115Z"
   },
   {
    "duration": 56,
    "start_time": "2022-01-26T07:41:20.125Z"
   },
   {
    "duration": 64,
    "start_time": "2022-01-26T07:41:20.184Z"
   },
   {
    "duration": 12,
    "start_time": "2022-01-26T07:41:20.250Z"
   },
   {
    "duration": 24,
    "start_time": "2022-01-26T07:41:20.263Z"
   },
   {
    "duration": 28,
    "start_time": "2022-01-26T07:41:20.289Z"
   },
   {
    "duration": 26,
    "start_time": "2022-01-26T07:41:20.319Z"
   },
   {
    "duration": 18,
    "start_time": "2022-01-26T07:41:20.347Z"
   },
   {
    "duration": 60,
    "start_time": "2022-01-26T07:41:20.367Z"
   },
   {
    "duration": 25,
    "start_time": "2022-01-26T07:41:20.429Z"
   },
   {
    "duration": 22,
    "start_time": "2022-01-26T07:41:20.456Z"
   },
   {
    "duration": 37,
    "start_time": "2022-01-26T07:41:20.480Z"
   },
   {
    "duration": 12,
    "start_time": "2022-01-26T07:41:20.519Z"
   },
   {
    "duration": 4059,
    "start_time": "2022-01-26T07:41:20.532Z"
   },
   {
    "duration": 21,
    "start_time": "2022-01-26T07:41:24.593Z"
   },
   {
    "duration": 10,
    "start_time": "2022-01-26T07:41:24.617Z"
   },
   {
    "duration": 19,
    "start_time": "2022-01-26T07:41:24.629Z"
   },
   {
    "duration": 6,
    "start_time": "2022-01-26T07:41:24.653Z"
   },
   {
    "duration": 11,
    "start_time": "2022-01-26T07:41:24.662Z"
   },
   {
    "duration": 33,
    "start_time": "2022-01-26T07:41:24.676Z"
   },
   {
    "duration": 10,
    "start_time": "2022-01-26T07:41:24.711Z"
   },
   {
    "duration": 8,
    "start_time": "2022-01-26T07:41:24.723Z"
   },
   {
    "duration": 12,
    "start_time": "2022-01-26T07:41:24.734Z"
   },
   {
    "duration": 47890,
    "start_time": "2022-01-26T07:41:24.749Z"
   },
   {
    "duration": 15,
    "start_time": "2022-01-26T07:42:12.642Z"
   },
   {
    "duration": 12,
    "start_time": "2022-01-26T07:42:12.659Z"
   },
   {
    "duration": 47,
    "start_time": "2022-01-26T07:42:12.674Z"
   },
   {
    "duration": 327,
    "start_time": "2022-01-26T07:42:12.723Z"
   },
   {
    "duration": -480,
    "start_time": "2022-01-26T07:42:13.532Z"
   },
   {
    "duration": 10,
    "start_time": "2022-01-26T07:43:10.930Z"
   },
   {
    "duration": 22,
    "start_time": "2022-01-26T07:43:24.485Z"
   },
   {
    "duration": 21,
    "start_time": "2022-01-26T07:43:33.030Z"
   },
   {
    "duration": 41,
    "start_time": "2022-01-26T07:43:41.969Z"
   },
   {
    "duration": 31,
    "start_time": "2022-01-26T07:44:20.387Z"
   },
   {
    "duration": 26,
    "start_time": "2022-01-26T07:44:44.300Z"
   },
   {
    "duration": 64,
    "start_time": "2022-01-26T07:44:55.888Z"
   },
   {
    "duration": 15,
    "start_time": "2022-01-26T07:44:55.954Z"
   },
   {
    "duration": 48,
    "start_time": "2022-01-26T07:44:55.972Z"
   },
   {
    "duration": 15,
    "start_time": "2022-01-26T07:44:56.022Z"
   },
   {
    "duration": 23,
    "start_time": "2022-01-26T07:44:56.039Z"
   },
   {
    "duration": 4,
    "start_time": "2022-01-26T07:44:56.065Z"
   },
   {
    "duration": 56,
    "start_time": "2022-01-26T07:44:56.071Z"
   },
   {
    "duration": 62,
    "start_time": "2022-01-26T07:44:56.129Z"
   },
   {
    "duration": 19,
    "start_time": "2022-01-26T07:44:56.194Z"
   },
   {
    "duration": 10,
    "start_time": "2022-01-26T07:44:56.216Z"
   },
   {
    "duration": 16,
    "start_time": "2022-01-26T07:44:56.228Z"
   },
   {
    "duration": 19,
    "start_time": "2022-01-26T07:44:56.246Z"
   },
   {
    "duration": 42,
    "start_time": "2022-01-26T07:44:56.266Z"
   },
   {
    "duration": 55,
    "start_time": "2022-01-26T07:44:56.310Z"
   },
   {
    "duration": 43,
    "start_time": "2022-01-26T07:44:56.367Z"
   },
   {
    "duration": 22,
    "start_time": "2022-01-26T07:44:56.412Z"
   },
   {
    "duration": 18,
    "start_time": "2022-01-26T07:44:56.436Z"
   },
   {
    "duration": 12,
    "start_time": "2022-01-26T07:44:56.456Z"
   },
   {
    "duration": 3912,
    "start_time": "2022-01-26T07:44:56.470Z"
   },
   {
    "duration": 9,
    "start_time": "2022-01-26T07:45:00.384Z"
   },
   {
    "duration": 9,
    "start_time": "2022-01-26T07:45:00.408Z"
   },
   {
    "duration": 27,
    "start_time": "2022-01-26T07:45:00.419Z"
   },
   {
    "duration": 5,
    "start_time": "2022-01-26T07:45:00.449Z"
   },
   {
    "duration": 21,
    "start_time": "2022-01-26T07:45:00.456Z"
   },
   {
    "duration": 11,
    "start_time": "2022-01-26T07:45:00.479Z"
   },
   {
    "duration": 22,
    "start_time": "2022-01-26T07:45:00.492Z"
   },
   {
    "duration": 11,
    "start_time": "2022-01-26T07:45:00.520Z"
   },
   {
    "duration": 23,
    "start_time": "2022-01-26T07:45:00.533Z"
   },
   {
    "duration": 44997,
    "start_time": "2022-01-26T07:45:00.558Z"
   },
   {
    "duration": 14,
    "start_time": "2022-01-26T07:45:45.557Z"
   },
   {
    "duration": 12,
    "start_time": "2022-01-26T07:45:45.573Z"
   },
   {
    "duration": 34,
    "start_time": "2022-01-26T07:45:45.587Z"
   },
   {
    "duration": 19,
    "start_time": "2022-01-26T07:45:45.623Z"
   },
   {
    "duration": 64,
    "start_time": "2022-01-26T07:46:34.494Z"
   },
   {
    "duration": 309,
    "start_time": "2022-01-26T07:46:51.854Z"
   },
   {
    "duration": 27,
    "start_time": "2022-01-26T07:47:23.429Z"
   },
   {
    "duration": 246,
    "start_time": "2022-01-26T07:47:43.125Z"
   },
   {
    "duration": 26,
    "start_time": "2022-01-26T07:47:48.985Z"
   },
   {
    "duration": 1211,
    "start_time": "2022-01-26T09:30:45.081Z"
   },
   {
    "duration": 69,
    "start_time": "2022-01-26T09:30:54.268Z"
   },
   {
    "duration": 14,
    "start_time": "2022-01-26T09:30:54.339Z"
   },
   {
    "duration": 19,
    "start_time": "2022-01-26T09:30:54.355Z"
   },
   {
    "duration": 35,
    "start_time": "2022-01-26T09:30:54.376Z"
   },
   {
    "duration": 30,
    "start_time": "2022-01-26T09:30:54.413Z"
   },
   {
    "duration": 4,
    "start_time": "2022-01-26T09:30:54.445Z"
   },
   {
    "duration": 33,
    "start_time": "2022-01-26T09:30:54.451Z"
   },
   {
    "duration": 79,
    "start_time": "2022-01-26T09:30:54.488Z"
   },
   {
    "duration": 11,
    "start_time": "2022-01-26T09:30:54.570Z"
   },
   {
    "duration": 25,
    "start_time": "2022-01-26T09:30:54.583Z"
   },
   {
    "duration": 12,
    "start_time": "2022-01-26T09:30:54.610Z"
   },
   {
    "duration": 15,
    "start_time": "2022-01-26T09:30:54.624Z"
   },
   {
    "duration": 16,
    "start_time": "2022-01-26T09:30:54.641Z"
   },
   {
    "duration": 82,
    "start_time": "2022-01-26T09:30:54.660Z"
   },
   {
    "duration": 27,
    "start_time": "2022-01-26T09:30:54.744Z"
   },
   {
    "duration": 45,
    "start_time": "2022-01-26T09:30:54.773Z"
   },
   {
    "duration": 18,
    "start_time": "2022-01-26T09:30:54.820Z"
   },
   {
    "duration": 10,
    "start_time": "2022-01-26T09:30:54.840Z"
   },
   {
    "duration": 4063,
    "start_time": "2022-01-26T09:30:54.852Z"
   },
   {
    "duration": 9,
    "start_time": "2022-01-26T09:30:58.917Z"
   },
   {
    "duration": 6,
    "start_time": "2022-01-26T09:30:58.928Z"
   },
   {
    "duration": 22,
    "start_time": "2022-01-26T09:30:58.936Z"
   },
   {
    "duration": 6,
    "start_time": "2022-01-26T09:30:58.961Z"
   },
   {
    "duration": 40,
    "start_time": "2022-01-26T09:30:58.969Z"
   },
   {
    "duration": 5,
    "start_time": "2022-01-26T09:30:59.012Z"
   },
   {
    "duration": 15,
    "start_time": "2022-01-26T09:30:59.019Z"
   },
   {
    "duration": 14,
    "start_time": "2022-01-26T09:30:59.037Z"
   },
   {
    "duration": 12,
    "start_time": "2022-01-26T09:30:59.054Z"
   },
   {
    "duration": 47581,
    "start_time": "2022-01-26T09:30:59.068Z"
   },
   {
    "duration": 15,
    "start_time": "2022-01-26T09:31:46.651Z"
   },
   {
    "duration": 13,
    "start_time": "2022-01-26T09:31:46.668Z"
   },
   {
    "duration": 31,
    "start_time": "2022-01-26T09:31:46.683Z"
   },
   {
    "duration": 250,
    "start_time": "2022-01-26T09:32:01.026Z"
   },
   {
    "duration": 318,
    "start_time": "2022-01-26T09:32:33.598Z"
   },
   {
    "duration": 246,
    "start_time": "2022-01-26T09:32:51.102Z"
   },
   {
    "duration": 247,
    "start_time": "2022-01-26T09:33:35.388Z"
   },
   {
    "duration": 274,
    "start_time": "2022-01-26T09:33:44.270Z"
   },
   {
    "duration": 285,
    "start_time": "2022-01-26T09:35:53.182Z"
   },
   {
    "duration": 6,
    "start_time": "2022-01-26T09:35:58.729Z"
   },
   {
    "duration": 11,
    "start_time": "2022-01-26T09:36:09.781Z"
   },
   {
    "duration": 14,
    "start_time": "2022-01-26T09:36:20.665Z"
   },
   {
    "duration": 84,
    "start_time": "2022-01-26T09:47:16.944Z"
   },
   {
    "duration": 23,
    "start_time": "2022-01-26T09:47:20.425Z"
   },
   {
    "duration": 11,
    "start_time": "2022-01-26T09:47:31.269Z"
   },
   {
    "duration": 9,
    "start_time": "2022-01-26T09:47:50.303Z"
   },
   {
    "duration": 14,
    "start_time": "2022-01-26T10:06:06.675Z"
   },
   {
    "duration": 4,
    "start_time": "2022-01-26T10:06:15.706Z"
   },
   {
    "duration": 7,
    "start_time": "2022-01-26T10:09:01.356Z"
   },
   {
    "duration": 4,
    "start_time": "2022-01-26T10:09:02.033Z"
   },
   {
    "duration": 93,
    "start_time": "2022-01-26T10:09:49.898Z"
   },
   {
    "duration": 83,
    "start_time": "2022-01-26T10:09:55.552Z"
   },
   {
    "duration": 90,
    "start_time": "2022-01-26T10:10:00.557Z"
   },
   {
    "duration": 4,
    "start_time": "2022-01-26T10:10:20.796Z"
   },
   {
    "duration": 3,
    "start_time": "2022-01-26T10:10:28.063Z"
   },
   {
    "duration": 4,
    "start_time": "2022-01-26T10:10:32.815Z"
   },
   {
    "duration": 4,
    "start_time": "2022-01-26T10:11:16.250Z"
   },
   {
    "duration": 14,
    "start_time": "2022-01-26T10:11:29.688Z"
   },
   {
    "duration": 250,
    "start_time": "2022-01-26T10:11:30.654Z"
   },
   {
    "duration": 7,
    "start_time": "2022-01-26T10:11:34.912Z"
   },
   {
    "duration": 3,
    "start_time": "2022-01-26T10:11:35.306Z"
   },
   {
    "duration": 7,
    "start_time": "2022-01-26T10:13:48.902Z"
   },
   {
    "duration": 29,
    "start_time": "2022-01-26T10:14:38.341Z"
   },
   {
    "duration": 29,
    "start_time": "2022-01-26T10:14:51.425Z"
   },
   {
    "duration": 8,
    "start_time": "2022-01-26T10:14:52.315Z"
   },
   {
    "duration": 65,
    "start_time": "2022-01-26T10:15:13.114Z"
   },
   {
    "duration": 28,
    "start_time": "2022-01-26T10:15:13.181Z"
   },
   {
    "duration": 16,
    "start_time": "2022-01-26T10:15:13.211Z"
   },
   {
    "duration": 20,
    "start_time": "2022-01-26T10:15:13.229Z"
   },
   {
    "duration": 20,
    "start_time": "2022-01-26T10:15:13.251Z"
   },
   {
    "duration": 4,
    "start_time": "2022-01-26T10:15:13.273Z"
   },
   {
    "duration": 53,
    "start_time": "2022-01-26T10:15:13.279Z"
   },
   {
    "duration": 76,
    "start_time": "2022-01-26T10:15:13.335Z"
   },
   {
    "duration": 11,
    "start_time": "2022-01-26T10:15:13.413Z"
   },
   {
    "duration": 8,
    "start_time": "2022-01-26T10:15:13.426Z"
   },
   {
    "duration": 14,
    "start_time": "2022-01-26T10:15:13.436Z"
   },
   {
    "duration": 16,
    "start_time": "2022-01-26T10:15:13.452Z"
   },
   {
    "duration": 44,
    "start_time": "2022-01-26T10:15:13.470Z"
   },
   {
    "duration": 48,
    "start_time": "2022-01-26T10:15:13.517Z"
   },
   {
    "duration": 42,
    "start_time": "2022-01-26T10:15:13.567Z"
   },
   {
    "duration": 21,
    "start_time": "2022-01-26T10:15:13.611Z"
   },
   {
    "duration": 17,
    "start_time": "2022-01-26T10:15:13.634Z"
   },
   {
    "duration": 12,
    "start_time": "2022-01-26T10:15:13.653Z"
   },
   {
    "duration": 3969,
    "start_time": "2022-01-26T10:15:13.667Z"
   },
   {
    "duration": 9,
    "start_time": "2022-01-26T10:15:17.638Z"
   },
   {
    "duration": 13,
    "start_time": "2022-01-26T10:15:17.649Z"
   },
   {
    "duration": 27,
    "start_time": "2022-01-26T10:15:17.664Z"
   },
   {
    "duration": 12,
    "start_time": "2022-01-26T10:15:17.695Z"
   },
   {
    "duration": 8,
    "start_time": "2022-01-26T10:15:17.710Z"
   },
   {
    "duration": 5,
    "start_time": "2022-01-26T10:15:17.720Z"
   },
   {
    "duration": 23,
    "start_time": "2022-01-26T10:15:17.727Z"
   },
   {
    "duration": 23,
    "start_time": "2022-01-26T10:15:17.752Z"
   },
   {
    "duration": 10,
    "start_time": "2022-01-26T10:15:17.777Z"
   },
   {
    "duration": 45990,
    "start_time": "2022-01-26T10:15:17.789Z"
   },
   {
    "duration": 14,
    "start_time": "2022-01-26T10:16:03.781Z"
   },
   {
    "duration": 23,
    "start_time": "2022-01-26T10:16:03.797Z"
   },
   {
    "duration": 27,
    "start_time": "2022-01-26T10:16:03.822Z"
   },
   {
    "duration": 15,
    "start_time": "2022-01-26T10:16:03.851Z"
   },
   {
    "duration": 16,
    "start_time": "2022-01-26T10:16:03.868Z"
   },
   {
    "duration": 21,
    "start_time": "2022-01-26T10:16:03.886Z"
   },
   {
    "duration": 57,
    "start_time": "2022-01-26T10:16:03.910Z"
   },
   {
    "duration": 8,
    "start_time": "2022-01-26T10:16:03.969Z"
   },
   {
    "duration": 28,
    "start_time": "2022-01-26T10:16:22.935Z"
   },
   {
    "duration": 88,
    "start_time": "2022-01-26T10:16:43.330Z"
   },
   {
    "duration": 29,
    "start_time": "2022-01-26T10:16:45.777Z"
   },
   {
    "duration": 30,
    "start_time": "2022-01-26T10:17:14.414Z"
   },
   {
    "duration": 29,
    "start_time": "2022-01-26T10:19:46.299Z"
   },
   {
    "duration": 43,
    "start_time": "2022-01-26T10:19:58.567Z"
   },
   {
    "duration": 29,
    "start_time": "2022-01-26T10:20:28.952Z"
   },
   {
    "duration": 25,
    "start_time": "2022-01-26T10:22:31.597Z"
   },
   {
    "duration": 29,
    "start_time": "2022-01-26T10:23:02.883Z"
   },
   {
    "duration": 27,
    "start_time": "2022-01-26T11:30:37.744Z"
   },
   {
    "duration": 9,
    "start_time": "2022-01-26T11:30:52.606Z"
   },
   {
    "duration": 21,
    "start_time": "2022-01-26T11:31:58.920Z"
   },
   {
    "duration": 7,
    "start_time": "2022-01-26T11:32:11.348Z"
   },
   {
    "duration": 65,
    "start_time": "2022-01-26T11:32:55.772Z"
   },
   {
    "duration": 16,
    "start_time": "2022-01-26T11:32:55.839Z"
   },
   {
    "duration": 50,
    "start_time": "2022-01-26T11:32:55.857Z"
   },
   {
    "duration": 11,
    "start_time": "2022-01-26T11:32:55.909Z"
   },
   {
    "duration": 27,
    "start_time": "2022-01-26T11:32:55.922Z"
   },
   {
    "duration": 4,
    "start_time": "2022-01-26T11:32:55.952Z"
   },
   {
    "duration": 53,
    "start_time": "2022-01-26T11:32:55.958Z"
   },
   {
    "duration": 64,
    "start_time": "2022-01-26T11:32:56.014Z"
   },
   {
    "duration": 30,
    "start_time": "2022-01-26T11:32:56.080Z"
   },
   {
    "duration": 6,
    "start_time": "2022-01-26T11:32:56.112Z"
   },
   {
    "duration": 18,
    "start_time": "2022-01-26T11:32:56.120Z"
   },
   {
    "duration": 18,
    "start_time": "2022-01-26T11:32:56.140Z"
   },
   {
    "duration": 15,
    "start_time": "2022-01-26T11:32:56.160Z"
   },
   {
    "duration": 82,
    "start_time": "2022-01-26T11:32:56.177Z"
   },
   {
    "duration": 26,
    "start_time": "2022-01-26T11:32:56.261Z"
   },
   {
    "duration": 21,
    "start_time": "2022-01-26T11:32:56.308Z"
   },
   {
    "duration": 18,
    "start_time": "2022-01-26T11:32:56.331Z"
   },
   {
    "duration": 15,
    "start_time": "2022-01-26T11:32:56.350Z"
   },
   {
    "duration": 3963,
    "start_time": "2022-01-26T11:32:56.367Z"
   },
   {
    "duration": 9,
    "start_time": "2022-01-26T11:33:00.333Z"
   },
   {
    "duration": 12,
    "start_time": "2022-01-26T11:33:00.343Z"
   },
   {
    "duration": 36,
    "start_time": "2022-01-26T11:33:00.358Z"
   },
   {
    "duration": 7,
    "start_time": "2022-01-26T11:33:00.398Z"
   },
   {
    "duration": 25,
    "start_time": "2022-01-26T11:33:00.407Z"
   },
   {
    "duration": 11,
    "start_time": "2022-01-26T11:33:00.435Z"
   },
   {
    "duration": 15,
    "start_time": "2022-01-26T11:33:00.448Z"
   },
   {
    "duration": 26,
    "start_time": "2022-01-26T11:33:00.465Z"
   },
   {
    "duration": 27,
    "start_time": "2022-01-26T11:33:00.493Z"
   },
   {
    "duration": 45559,
    "start_time": "2022-01-26T11:33:00.522Z"
   },
   {
    "duration": 14,
    "start_time": "2022-01-26T11:33:46.083Z"
   },
   {
    "duration": 17,
    "start_time": "2022-01-26T11:33:46.098Z"
   },
   {
    "duration": 42,
    "start_time": "2022-01-26T11:33:46.117Z"
   },
   {
    "duration": 14,
    "start_time": "2022-01-26T11:33:46.161Z"
   },
   {
    "duration": 22,
    "start_time": "2022-01-26T11:33:46.177Z"
   },
   {
    "duration": 10,
    "start_time": "2022-01-26T11:33:46.202Z"
   },
   {
    "duration": 19,
    "start_time": "2022-01-26T11:33:46.214Z"
   },
   {
    "duration": 15,
    "start_time": "2022-01-26T11:33:46.236Z"
   },
   {
    "duration": 43,
    "start_time": "2022-01-26T11:33:46.253Z"
   },
   {
    "duration": 93,
    "start_time": "2022-01-26T11:47:42.914Z"
   },
   {
    "duration": 46,
    "start_time": "2022-01-26T15:36:46.962Z"
   },
   {
    "duration": 38,
    "start_time": "2022-01-26T15:37:29.853Z"
   },
   {
    "duration": 26,
    "start_time": "2022-01-26T15:37:46.687Z"
   },
   {
    "duration": 24,
    "start_time": "2022-01-26T15:38:07.687Z"
   },
   {
    "duration": 27,
    "start_time": "2022-01-26T15:38:22.297Z"
   },
   {
    "duration": 31,
    "start_time": "2022-01-26T15:39:14.386Z"
   },
   {
    "duration": 29,
    "start_time": "2022-01-26T15:40:29.544Z"
   },
   {
    "duration": 26,
    "start_time": "2022-01-26T15:40:32.312Z"
   },
   {
    "duration": 28,
    "start_time": "2022-01-26T15:42:21.161Z"
   },
   {
    "duration": 406,
    "start_time": "2022-01-27T05:36:13.859Z"
   },
   {
    "duration": 678,
    "start_time": "2022-01-27T05:36:28.007Z"
   },
   {
    "duration": 17,
    "start_time": "2022-01-27T05:36:28.686Z"
   },
   {
    "duration": 12,
    "start_time": "2022-01-27T05:36:28.705Z"
   },
   {
    "duration": 16,
    "start_time": "2022-01-27T05:36:28.719Z"
   },
   {
    "duration": 14,
    "start_time": "2022-01-27T05:36:28.737Z"
   },
   {
    "duration": 3,
    "start_time": "2022-01-27T05:36:28.753Z"
   },
   {
    "duration": 34,
    "start_time": "2022-01-27T05:36:28.757Z"
   },
   {
    "duration": 108,
    "start_time": "2022-01-27T05:36:28.794Z"
   },
   {
    "duration": 26,
    "start_time": "2022-01-27T05:36:28.904Z"
   },
   {
    "duration": 4,
    "start_time": "2022-01-27T05:36:28.932Z"
   },
   {
    "duration": 11,
    "start_time": "2022-01-27T05:36:28.938Z"
   },
   {
    "duration": 18,
    "start_time": "2022-01-27T05:36:28.950Z"
   },
   {
    "duration": 14,
    "start_time": "2022-01-27T05:36:28.970Z"
   },
   {
    "duration": 94,
    "start_time": "2022-01-27T05:36:28.986Z"
   },
   {
    "duration": 24,
    "start_time": "2022-01-27T05:36:29.082Z"
   },
   {
    "duration": 35,
    "start_time": "2022-01-27T05:36:29.107Z"
   },
   {
    "duration": 16,
    "start_time": "2022-01-27T05:36:29.144Z"
   },
   {
    "duration": 17,
    "start_time": "2022-01-27T05:36:29.162Z"
   },
   {
    "duration": 3862,
    "start_time": "2022-01-27T05:36:29.181Z"
   },
   {
    "duration": 10,
    "start_time": "2022-01-27T05:36:33.046Z"
   },
   {
    "duration": 6,
    "start_time": "2022-01-27T05:36:33.058Z"
   },
   {
    "duration": 19,
    "start_time": "2022-01-27T05:36:33.066Z"
   },
   {
    "duration": 5,
    "start_time": "2022-01-27T05:36:33.090Z"
   },
   {
    "duration": 31,
    "start_time": "2022-01-27T05:36:33.097Z"
   },
   {
    "duration": 3,
    "start_time": "2022-01-27T05:36:33.130Z"
   },
   {
    "duration": 11,
    "start_time": "2022-01-27T05:36:33.135Z"
   },
   {
    "duration": 5,
    "start_time": "2022-01-27T05:36:33.148Z"
   },
   {
    "duration": 5,
    "start_time": "2022-01-27T05:36:33.154Z"
   },
   {
    "duration": 40817,
    "start_time": "2022-01-27T05:36:33.161Z"
   },
   {
    "duration": 11,
    "start_time": "2022-01-27T05:37:13.979Z"
   },
   {
    "duration": 7,
    "start_time": "2022-01-27T05:37:13.991Z"
   },
   {
    "duration": 46,
    "start_time": "2022-01-27T05:37:13.999Z"
   },
   {
    "duration": 13,
    "start_time": "2022-01-27T05:37:14.047Z"
   },
   {
    "duration": 11,
    "start_time": "2022-01-27T05:37:14.061Z"
   },
   {
    "duration": 7,
    "start_time": "2022-01-27T05:37:14.074Z"
   },
   {
    "duration": 6,
    "start_time": "2022-01-27T05:37:14.083Z"
   },
   {
    "duration": 4,
    "start_time": "2022-01-27T05:37:14.090Z"
   },
   {
    "duration": 27,
    "start_time": "2022-01-27T05:37:14.127Z"
   },
   {
    "duration": 6,
    "start_time": "2022-01-27T05:37:14.156Z"
   },
   {
    "duration": 26,
    "start_time": "2022-01-27T05:37:14.163Z"
   },
   {
    "duration": 48,
    "start_time": "2022-01-27T05:37:14.191Z"
   },
   {
    "duration": 28,
    "start_time": "2022-01-27T05:37:14.241Z"
   },
   {
    "duration": 25,
    "start_time": "2022-01-27T05:37:14.271Z"
   },
   {
    "duration": 36,
    "start_time": "2022-01-27T05:37:14.298Z"
   },
   {
    "duration": 20,
    "start_time": "2022-01-27T05:38:03.910Z"
   },
   {
    "duration": 21,
    "start_time": "2022-01-27T05:38:10.899Z"
   },
   {
    "duration": 30,
    "start_time": "2022-01-27T05:47:23.942Z"
   },
   {
    "duration": 26,
    "start_time": "2022-01-27T05:48:33.856Z"
   },
   {
    "duration": 26,
    "start_time": "2022-01-27T05:51:37.585Z"
   },
   {
    "duration": 32,
    "start_time": "2022-01-27T09:15:49.781Z"
   },
   {
    "duration": 1126,
    "start_time": "2022-01-27T09:16:34.666Z"
   },
   {
    "duration": 27,
    "start_time": "2022-01-27T09:16:57.237Z"
   },
   {
    "duration": 25,
    "start_time": "2022-01-27T09:17:09.707Z"
   },
   {
    "duration": 365,
    "start_time": "2022-01-27T09:21:38.244Z"
   },
   {
    "duration": 370,
    "start_time": "2022-01-27T09:22:05.383Z"
   },
   {
    "duration": 26,
    "start_time": "2022-01-27T09:22:37.282Z"
   },
   {
    "duration": 20,
    "start_time": "2022-01-27T09:54:01.213Z"
   },
   {
    "duration": 20,
    "start_time": "2022-01-27T09:54:17.302Z"
   },
   {
    "duration": 20,
    "start_time": "2022-01-27T09:56:48.049Z"
   },
   {
    "duration": 20,
    "start_time": "2022-01-27T09:57:08.156Z"
   },
   {
    "duration": 5,
    "start_time": "2022-01-27T09:57:55.751Z"
   },
   {
    "duration": 3,
    "start_time": "2022-01-27T09:57:57.152Z"
   },
   {
    "duration": 3,
    "start_time": "2022-01-27T09:58:07.219Z"
   },
   {
    "duration": 4,
    "start_time": "2022-01-27T09:58:30.208Z"
   },
   {
    "duration": 26,
    "start_time": "2022-01-27T09:58:36.377Z"
   },
   {
    "duration": 21,
    "start_time": "2022-01-27T09:58:43.142Z"
   },
   {
    "duration": 3184,
    "start_time": "2022-01-27T10:10:52.838Z"
   },
   {
    "duration": 22,
    "start_time": "2022-01-27T10:14:47.046Z"
   },
   {
    "duration": 113,
    "start_time": "2022-01-27T10:18:32.960Z"
   },
   {
    "duration": 376,
    "start_time": "2022-01-27T10:18:43.382Z"
   },
   {
    "duration": 781,
    "start_time": "2022-01-27T10:19:15.220Z"
   },
   {
    "duration": 20,
    "start_time": "2022-01-27T10:19:27.910Z"
   },
   {
    "duration": 22,
    "start_time": "2022-01-27T10:19:33.859Z"
   },
   {
    "duration": 4,
    "start_time": "2022-01-27T10:33:37.166Z"
   },
   {
    "duration": 5,
    "start_time": "2022-01-27T10:35:16.722Z"
   },
   {
    "duration": 2,
    "start_time": "2022-01-27T11:09:40.997Z"
   },
   {
    "duration": 395,
    "start_time": "2022-01-27T11:09:42.002Z"
   },
   {
    "duration": 70,
    "start_time": "2022-01-27T11:09:54.488Z"
   },
   {
    "duration": 11,
    "start_time": "2022-01-27T11:09:54.560Z"
   },
   {
    "duration": 13,
    "start_time": "2022-01-27T11:09:54.573Z"
   },
   {
    "duration": 16,
    "start_time": "2022-01-27T11:09:54.588Z"
   },
   {
    "duration": 34,
    "start_time": "2022-01-27T11:09:54.606Z"
   },
   {
    "duration": 3,
    "start_time": "2022-01-27T11:09:54.641Z"
   },
   {
    "duration": 36,
    "start_time": "2022-01-27T11:09:54.646Z"
   },
   {
    "duration": 108,
    "start_time": "2022-01-27T11:09:54.684Z"
   },
   {
    "duration": 16,
    "start_time": "2022-01-27T11:09:54.794Z"
   },
   {
    "duration": 4,
    "start_time": "2022-01-27T11:09:54.811Z"
   },
   {
    "duration": 12,
    "start_time": "2022-01-27T11:09:54.827Z"
   },
   {
    "duration": 22,
    "start_time": "2022-01-27T11:09:54.840Z"
   },
   {
    "duration": 13,
    "start_time": "2022-01-27T11:09:54.863Z"
   },
   {
    "duration": 74,
    "start_time": "2022-01-27T11:09:54.877Z"
   },
   {
    "duration": 23,
    "start_time": "2022-01-27T11:09:54.953Z"
   },
   {
    "duration": 23,
    "start_time": "2022-01-27T11:09:54.978Z"
   },
   {
    "duration": 41,
    "start_time": "2022-01-27T11:09:55.004Z"
   },
   {
    "duration": 16,
    "start_time": "2022-01-27T11:09:55.047Z"
   },
   {
    "duration": 3716,
    "start_time": "2022-01-27T11:09:55.064Z"
   },
   {
    "duration": 10,
    "start_time": "2022-01-27T11:09:58.783Z"
   },
   {
    "duration": 8,
    "start_time": "2022-01-27T11:09:58.794Z"
   },
   {
    "duration": 28,
    "start_time": "2022-01-27T11:09:58.803Z"
   },
   {
    "duration": 3,
    "start_time": "2022-01-27T11:09:58.835Z"
   },
   {
    "duration": 12,
    "start_time": "2022-01-27T11:09:58.840Z"
   },
   {
    "duration": 5,
    "start_time": "2022-01-27T11:09:58.853Z"
   },
   {
    "duration": 25,
    "start_time": "2022-01-27T11:09:58.859Z"
   },
   {
    "duration": 17,
    "start_time": "2022-01-27T11:09:58.885Z"
   },
   {
    "duration": 17,
    "start_time": "2022-01-27T11:09:58.904Z"
   },
   {
    "duration": 42270,
    "start_time": "2022-01-27T11:09:58.922Z"
   },
   {
    "duration": 11,
    "start_time": "2022-01-27T11:10:41.194Z"
   },
   {
    "duration": 21,
    "start_time": "2022-01-27T11:10:41.207Z"
   },
   {
    "duration": 32,
    "start_time": "2022-01-27T11:10:41.230Z"
   },
   {
    "duration": 13,
    "start_time": "2022-01-27T11:10:41.264Z"
   },
   {
    "duration": 8,
    "start_time": "2022-01-27T11:10:41.279Z"
   },
   {
    "duration": 7,
    "start_time": "2022-01-27T11:10:41.289Z"
   },
   {
    "duration": 4,
    "start_time": "2022-01-27T11:10:41.298Z"
   },
   {
    "duration": 26,
    "start_time": "2022-01-27T11:10:41.304Z"
   },
   {
    "duration": 28,
    "start_time": "2022-01-27T11:10:41.332Z"
   },
   {
    "duration": 5,
    "start_time": "2022-01-27T11:10:41.362Z"
   },
   {
    "duration": 24,
    "start_time": "2022-01-27T11:10:41.369Z"
   },
   {
    "duration": 4,
    "start_time": "2022-01-27T11:10:41.394Z"
   },
   {
    "duration": 31,
    "start_time": "2022-01-27T11:10:41.400Z"
   },
   {
    "duration": 865,
    "start_time": "2022-01-27T11:10:41.432Z"
   },
   {
    "duration": 64,
    "start_time": "2022-01-27T11:11:05.900Z"
   },
   {
    "duration": 4,
    "start_time": "2022-01-27T11:16:52.964Z"
   },
   {
    "duration": 186,
    "start_time": "2022-01-27T11:16:53.597Z"
   },
   {
    "duration": 11249,
    "start_time": "2022-01-27T11:41:42.967Z"
   },
   {
    "duration": 25,
    "start_time": "2022-01-27T11:42:17.335Z"
   },
   {
    "duration": 3,
    "start_time": "2022-01-27T11:53:22.140Z"
   },
   {
    "duration": 129,
    "start_time": "2022-01-27T11:53:22.918Z"
   },
   {
    "duration": 23,
    "start_time": "2022-01-27T12:00:34.006Z"
   },
   {
    "duration": 32,
    "start_time": "2022-01-27T12:04:41.992Z"
   },
   {
    "duration": 23,
    "start_time": "2022-01-27T12:04:56.566Z"
   },
   {
    "duration": 23,
    "start_time": "2022-01-27T12:05:06.937Z"
   },
   {
    "duration": 4,
    "start_time": "2022-01-27T12:05:39.600Z"
   },
   {
    "duration": 100,
    "start_time": "2022-01-27T12:06:10.228Z"
   },
   {
    "duration": -32,
    "start_time": "2022-01-27T12:11:47.262Z"
   },
   {
    "duration": 22,
    "start_time": "2022-01-27T12:11:47.504Z"
   },
   {
    "duration": 2,
    "start_time": "2022-01-27T12:16:31.884Z"
   },
   {
    "duration": 67,
    "start_time": "2022-01-27T12:17:00.729Z"
   },
   {
    "duration": 921,
    "start_time": "2022-01-27T14:54:25.089Z"
   },
   {
    "duration": 54,
    "start_time": "2022-01-27T14:54:26.014Z"
   },
   {
    "duration": 29,
    "start_time": "2022-01-27T14:54:26.072Z"
   },
   {
    "duration": 31,
    "start_time": "2022-01-27T14:54:26.105Z"
   },
   {
    "duration": 56,
    "start_time": "2022-01-27T14:54:26.139Z"
   },
   {
    "duration": 11,
    "start_time": "2022-01-27T14:54:26.199Z"
   },
   {
    "duration": 63,
    "start_time": "2022-01-27T14:54:26.214Z"
   },
   {
    "duration": 132,
    "start_time": "2022-01-27T14:54:26.280Z"
   },
   {
    "duration": 17,
    "start_time": "2022-01-27T14:54:26.418Z"
   },
   {
    "duration": 20,
    "start_time": "2022-01-27T14:54:26.439Z"
   },
   {
    "duration": 18,
    "start_time": "2022-01-27T14:54:26.463Z"
   },
   {
    "duration": 17,
    "start_time": "2022-01-27T14:54:26.484Z"
   },
   {
    "duration": 61,
    "start_time": "2022-01-27T14:54:26.504Z"
   },
   {
    "duration": 121,
    "start_time": "2022-01-27T14:54:26.568Z"
   },
   {
    "duration": 42,
    "start_time": "2022-01-27T14:54:26.692Z"
   },
   {
    "duration": 46,
    "start_time": "2022-01-27T14:54:26.737Z"
   },
   {
    "duration": 21,
    "start_time": "2022-01-27T14:54:26.786Z"
   },
   {
    "duration": 15,
    "start_time": "2022-01-27T14:54:26.810Z"
   },
   {
    "duration": 5748,
    "start_time": "2022-01-27T14:54:26.827Z"
   },
   {
    "duration": 11,
    "start_time": "2022-01-27T14:54:32.578Z"
   },
   {
    "duration": 5,
    "start_time": "2022-01-27T14:54:32.592Z"
   },
   {
    "duration": 19,
    "start_time": "2022-01-27T14:54:32.600Z"
   },
   {
    "duration": 38,
    "start_time": "2022-01-27T14:54:32.621Z"
   },
   {
    "duration": 8,
    "start_time": "2022-01-27T14:54:32.661Z"
   },
   {
    "duration": 4,
    "start_time": "2022-01-27T14:54:32.672Z"
   },
   {
    "duration": 14,
    "start_time": "2022-01-27T14:54:32.678Z"
   },
   {
    "duration": 5,
    "start_time": "2022-01-27T14:54:32.699Z"
   },
   {
    "duration": 6,
    "start_time": "2022-01-27T14:54:32.708Z"
   },
   {
    "duration": 65897,
    "start_time": "2022-01-27T14:54:32.760Z"
   },
   {
    "duration": 23,
    "start_time": "2022-01-27T14:55:38.660Z"
   },
   {
    "duration": 12,
    "start_time": "2022-01-27T14:55:38.687Z"
   },
   {
    "duration": 58,
    "start_time": "2022-01-27T14:55:38.702Z"
   },
   {
    "duration": 20,
    "start_time": "2022-01-27T14:55:38.762Z"
   },
   {
    "duration": 11,
    "start_time": "2022-01-27T14:55:38.784Z"
   },
   {
    "duration": 8,
    "start_time": "2022-01-27T14:55:38.798Z"
   },
   {
    "duration": 7,
    "start_time": "2022-01-27T14:55:38.808Z"
   },
   {
    "duration": 4,
    "start_time": "2022-01-27T14:55:38.859Z"
   },
   {
    "duration": 52,
    "start_time": "2022-01-27T14:55:38.866Z"
   },
   {
    "duration": 9,
    "start_time": "2022-01-27T14:55:38.920Z"
   },
   {
    "duration": 57,
    "start_time": "2022-01-27T14:55:38.932Z"
   },
   {
    "duration": 7,
    "start_time": "2022-01-27T14:55:38.992Z"
   },
   {
    "duration": 5,
    "start_time": "2022-01-27T14:55:39.002Z"
   },
   {
    "duration": 292,
    "start_time": "2022-01-27T14:55:39.010Z"
   },
   {
    "duration": 56,
    "start_time": "2022-01-27T14:55:39.304Z"
   },
   {
    "duration": 5,
    "start_time": "2022-01-27T14:55:39.363Z"
   },
   {
    "duration": 241,
    "start_time": "2022-01-27T14:55:39.371Z"
   },
   {
    "duration": 59,
    "start_time": "2022-01-27T14:55:39.615Z"
   },
   {
    "duration": 4,
    "start_time": "2022-01-27T14:55:39.677Z"
   },
   {
    "duration": 183,
    "start_time": "2022-01-27T14:55:39.684Z"
   },
   {
    "duration": 36,
    "start_time": "2022-01-27T14:55:39.870Z"
   },
   {
    "duration": 4,
    "start_time": "2022-01-27T14:55:39.908Z"
   },
   {
    "duration": 163,
    "start_time": "2022-01-27T14:55:39.914Z"
   },
   {
    "duration": 46,
    "start_time": "2022-01-27T16:58:42.457Z"
   },
   {
    "duration": 471,
    "start_time": "2022-01-27T17:06:16.483Z"
   },
   {
    "duration": 44,
    "start_time": "2022-01-27T17:07:49.123Z"
   },
   {
    "duration": 73,
    "start_time": "2022-01-27T17:09:45.294Z"
   },
   {
    "duration": 19,
    "start_time": "2022-01-27T17:09:45.369Z"
   },
   {
    "duration": 22,
    "start_time": "2022-01-27T17:09:45.391Z"
   },
   {
    "duration": 53,
    "start_time": "2022-01-27T17:09:45.416Z"
   },
   {
    "duration": 24,
    "start_time": "2022-01-27T17:09:45.472Z"
   },
   {
    "duration": 4,
    "start_time": "2022-01-27T17:09:45.498Z"
   },
   {
    "duration": 76,
    "start_time": "2022-01-27T17:09:45.506Z"
   },
   {
    "duration": 87,
    "start_time": "2022-01-27T17:09:45.584Z"
   },
   {
    "duration": 11,
    "start_time": "2022-01-27T17:09:45.675Z"
   },
   {
    "duration": 5,
    "start_time": "2022-01-27T17:09:45.690Z"
   },
   {
    "duration": 17,
    "start_time": "2022-01-27T17:09:45.697Z"
   },
   {
    "duration": 49,
    "start_time": "2022-01-27T17:09:45.716Z"
   },
   {
    "duration": 21,
    "start_time": "2022-01-27T17:09:45.768Z"
   },
   {
    "duration": 87,
    "start_time": "2022-01-27T17:09:45.791Z"
   },
   {
    "duration": 31,
    "start_time": "2022-01-27T17:09:45.880Z"
   },
   {
    "duration": 54,
    "start_time": "2022-01-27T17:09:45.914Z"
   },
   {
    "duration": 22,
    "start_time": "2022-01-27T17:09:45.970Z"
   },
   {
    "duration": 14,
    "start_time": "2022-01-27T17:09:45.994Z"
   },
   {
    "duration": 4832,
    "start_time": "2022-01-27T17:09:46.011Z"
   },
   {
    "duration": 19,
    "start_time": "2022-01-27T17:09:50.846Z"
   },
   {
    "duration": 6,
    "start_time": "2022-01-27T17:09:50.869Z"
   },
   {
    "duration": 23,
    "start_time": "2022-01-27T17:09:50.878Z"
   },
   {
    "duration": 7,
    "start_time": "2022-01-27T17:09:50.905Z"
   },
   {
    "duration": 53,
    "start_time": "2022-01-27T17:09:50.915Z"
   },
   {
    "duration": 5,
    "start_time": "2022-01-27T17:09:50.970Z"
   },
   {
    "duration": 15,
    "start_time": "2022-01-27T17:09:50.978Z"
   },
   {
    "duration": 4,
    "start_time": "2022-01-27T17:09:51.001Z"
   },
   {
    "duration": 6,
    "start_time": "2022-01-27T17:09:51.008Z"
   },
   {
    "duration": 66250,
    "start_time": "2022-01-27T17:09:51.017Z"
   },
   {
    "duration": 19,
    "start_time": "2022-01-27T17:10:57.270Z"
   },
   {
    "duration": 10,
    "start_time": "2022-01-27T17:10:57.291Z"
   },
   {
    "duration": 28,
    "start_time": "2022-01-27T17:10:57.303Z"
   },
   {
    "duration": 45,
    "start_time": "2022-01-27T17:10:57.333Z"
   },
   {
    "duration": 13,
    "start_time": "2022-01-27T17:10:57.381Z"
   },
   {
    "duration": 11,
    "start_time": "2022-01-27T17:10:57.396Z"
   },
   {
    "duration": 53,
    "start_time": "2022-01-27T17:10:57.410Z"
   },
   {
    "duration": 6,
    "start_time": "2022-01-27T17:10:57.466Z"
   },
   {
    "duration": 45,
    "start_time": "2022-01-27T17:10:57.475Z"
   },
   {
    "duration": 38,
    "start_time": "2022-01-27T17:10:57.523Z"
   },
   {
    "duration": 35,
    "start_time": "2022-01-27T17:10:57.563Z"
   },
   {
    "duration": 6,
    "start_time": "2022-01-27T17:10:57.600Z"
   },
   {
    "duration": 8,
    "start_time": "2022-01-27T17:10:57.608Z"
   },
   {
    "duration": 290,
    "start_time": "2022-01-27T17:10:57.619Z"
   },
   {
    "duration": 64,
    "start_time": "2022-01-27T17:10:57.911Z"
   },
   {
    "duration": 3,
    "start_time": "2022-01-27T17:10:57.978Z"
   },
   {
    "duration": 222,
    "start_time": "2022-01-27T17:10:57.984Z"
   },
   {
    "duration": 59,
    "start_time": "2022-01-27T17:10:58.208Z"
   },
   {
    "duration": 3,
    "start_time": "2022-01-27T17:10:58.270Z"
   },
   {
    "duration": 170,
    "start_time": "2022-01-27T17:10:58.275Z"
   },
   {
    "duration": 37,
    "start_time": "2022-01-27T17:10:58.460Z"
   },
   {
    "duration": 4,
    "start_time": "2022-01-27T17:10:58.500Z"
   },
   {
    "duration": 159,
    "start_time": "2022-01-27T17:10:58.507Z"
   },
   {
    "duration": 623,
    "start_time": "2022-01-28T05:23:28.889Z"
   },
   {
    "duration": 18,
    "start_time": "2022-01-28T05:23:29.514Z"
   },
   {
    "duration": 14,
    "start_time": "2022-01-28T05:23:29.534Z"
   },
   {
    "duration": 19,
    "start_time": "2022-01-28T05:23:29.551Z"
   },
   {
    "duration": 16,
    "start_time": "2022-01-28T05:23:29.572Z"
   },
   {
    "duration": 5,
    "start_time": "2022-01-28T05:23:29.590Z"
   },
   {
    "duration": 25,
    "start_time": "2022-01-28T05:23:29.596Z"
   },
   {
    "duration": 82,
    "start_time": "2022-01-28T05:23:29.625Z"
   },
   {
    "duration": 9,
    "start_time": "2022-01-28T05:23:29.710Z"
   },
   {
    "duration": 5,
    "start_time": "2022-01-28T05:23:29.721Z"
   },
   {
    "duration": 38,
    "start_time": "2022-01-28T05:23:29.728Z"
   },
   {
    "duration": 11,
    "start_time": "2022-01-28T05:23:29.768Z"
   },
   {
    "duration": 16,
    "start_time": "2022-01-28T05:23:29.781Z"
   },
   {
    "duration": 71,
    "start_time": "2022-01-28T05:23:29.798Z"
   },
   {
    "duration": 22,
    "start_time": "2022-01-28T05:23:29.871Z"
   },
   {
    "duration": 19,
    "start_time": "2022-01-28T05:23:29.895Z"
   },
   {
    "duration": 15,
    "start_time": "2022-01-28T05:23:29.915Z"
   },
   {
    "duration": 35,
    "start_time": "2022-01-28T05:23:29.931Z"
   },
   {
    "duration": 3366,
    "start_time": "2022-01-28T05:23:29.968Z"
   },
   {
    "duration": 7,
    "start_time": "2022-01-28T05:23:33.336Z"
   },
   {
    "duration": 3,
    "start_time": "2022-01-28T05:23:33.360Z"
   },
   {
    "duration": 16,
    "start_time": "2022-01-28T05:23:33.365Z"
   },
   {
    "duration": 5,
    "start_time": "2022-01-28T05:23:33.384Z"
   },
   {
    "duration": 5,
    "start_time": "2022-01-28T05:23:33.391Z"
   },
   {
    "duration": 3,
    "start_time": "2022-01-28T05:23:33.398Z"
   },
   {
    "duration": 8,
    "start_time": "2022-01-28T05:23:33.402Z"
   },
   {
    "duration": 3,
    "start_time": "2022-01-28T05:23:33.411Z"
   },
   {
    "duration": 6,
    "start_time": "2022-01-28T05:23:33.416Z"
   },
   {
    "duration": 40529,
    "start_time": "2022-01-28T05:23:33.423Z"
   },
   {
    "duration": 12,
    "start_time": "2022-01-28T05:24:13.954Z"
   },
   {
    "duration": 24,
    "start_time": "2022-01-28T05:24:13.967Z"
   },
   {
    "duration": 45,
    "start_time": "2022-01-28T05:24:13.993Z"
   },
   {
    "duration": 34,
    "start_time": "2022-01-28T05:24:14.039Z"
   },
   {
    "duration": 35,
    "start_time": "2022-01-28T05:24:14.075Z"
   },
   {
    "duration": 31,
    "start_time": "2022-01-28T05:24:14.112Z"
   },
   {
    "duration": 34,
    "start_time": "2022-01-28T05:24:14.144Z"
   },
   {
    "duration": 26,
    "start_time": "2022-01-28T05:24:14.180Z"
   },
   {
    "duration": 69,
    "start_time": "2022-01-28T05:24:14.208Z"
   },
   {
    "duration": 25,
    "start_time": "2022-01-28T05:24:14.278Z"
   },
   {
    "duration": 34,
    "start_time": "2022-01-28T05:24:14.305Z"
   },
   {
    "duration": 15,
    "start_time": "2022-01-28T05:24:14.341Z"
   },
   {
    "duration": 40,
    "start_time": "2022-01-28T05:24:14.357Z"
   },
   {
    "duration": 211,
    "start_time": "2022-01-28T05:24:14.399Z"
   },
   {
    "duration": 54,
    "start_time": "2022-01-28T05:24:14.612Z"
   },
   {
    "duration": 3,
    "start_time": "2022-01-28T05:24:14.668Z"
   },
   {
    "duration": 226,
    "start_time": "2022-01-28T05:24:14.673Z"
   },
   {
    "duration": 34,
    "start_time": "2022-01-28T05:24:14.901Z"
   },
   {
    "duration": 23,
    "start_time": "2022-01-28T05:24:14.937Z"
   },
   {
    "duration": 166,
    "start_time": "2022-01-28T05:24:14.963Z"
   },
   {
    "duration": 38,
    "start_time": "2022-01-28T05:24:15.131Z"
   },
   {
    "duration": 2,
    "start_time": "2022-01-28T05:24:15.171Z"
   },
   {
    "duration": 89,
    "start_time": "2022-01-28T05:24:15.175Z"
   },
   {
    "duration": 50,
    "start_time": "2022-01-28T05:27:27.968Z"
   },
   {
    "duration": 33,
    "start_time": "2022-01-28T05:42:26.295Z"
   },
   {
    "duration": 34,
    "start_time": "2022-01-28T05:53:29.299Z"
   },
   {
    "duration": 61,
    "start_time": "2022-01-28T06:18:55.135Z"
   },
   {
    "duration": 14,
    "start_time": "2022-01-28T06:18:55.198Z"
   },
   {
    "duration": 50,
    "start_time": "2022-01-28T06:18:55.214Z"
   },
   {
    "duration": 28,
    "start_time": "2022-01-28T06:18:55.267Z"
   },
   {
    "duration": 30,
    "start_time": "2022-01-28T06:18:55.297Z"
   },
   {
    "duration": 7,
    "start_time": "2022-01-28T06:18:55.329Z"
   },
   {
    "duration": 70,
    "start_time": "2022-01-28T06:18:55.337Z"
   },
   {
    "duration": 54,
    "start_time": "2022-01-28T06:18:55.410Z"
   },
   {
    "duration": 11,
    "start_time": "2022-01-28T06:18:55.466Z"
   },
   {
    "duration": 18,
    "start_time": "2022-01-28T06:18:55.478Z"
   },
   {
    "duration": 23,
    "start_time": "2022-01-28T06:18:55.499Z"
   },
   {
    "duration": 23,
    "start_time": "2022-01-28T06:18:55.524Z"
   },
   {
    "duration": 20,
    "start_time": "2022-01-28T06:18:55.549Z"
   },
   {
    "duration": 48,
    "start_time": "2022-01-28T06:18:55.572Z"
   },
   {
    "duration": 39,
    "start_time": "2022-01-28T06:18:55.622Z"
   },
   {
    "duration": 23,
    "start_time": "2022-01-28T06:18:55.664Z"
   },
   {
    "duration": 18,
    "start_time": "2022-01-28T06:18:55.688Z"
   },
   {
    "duration": 12,
    "start_time": "2022-01-28T06:18:55.708Z"
   },
   {
    "duration": 3373,
    "start_time": "2022-01-28T06:18:55.722Z"
   },
   {
    "duration": 7,
    "start_time": "2022-01-28T06:18:59.098Z"
   },
   {
    "duration": 25,
    "start_time": "2022-01-28T06:18:59.108Z"
   },
   {
    "duration": 45,
    "start_time": "2022-01-28T06:18:59.135Z"
   },
   {
    "duration": 42,
    "start_time": "2022-01-28T06:18:59.184Z"
   },
   {
    "duration": 36,
    "start_time": "2022-01-28T06:18:59.229Z"
   },
   {
    "duration": 22,
    "start_time": "2022-01-28T06:18:59.267Z"
   },
   {
    "duration": 56,
    "start_time": "2022-01-28T06:18:59.291Z"
   },
   {
    "duration": 36,
    "start_time": "2022-01-28T06:18:59.349Z"
   },
   {
    "duration": 28,
    "start_time": "2022-01-28T06:18:59.387Z"
   },
   {
    "duration": 40689,
    "start_time": "2022-01-28T06:18:59.416Z"
   },
   {
    "duration": 11,
    "start_time": "2022-01-28T06:19:40.107Z"
   },
   {
    "duration": 30,
    "start_time": "2022-01-28T06:19:40.120Z"
   },
   {
    "duration": 37,
    "start_time": "2022-01-28T06:19:40.152Z"
   },
   {
    "duration": 20,
    "start_time": "2022-01-28T06:19:40.191Z"
   },
   {
    "duration": 25,
    "start_time": "2022-01-28T06:19:40.213Z"
   },
   {
    "duration": 23,
    "start_time": "2022-01-28T06:19:40.240Z"
   },
   {
    "duration": 38,
    "start_time": "2022-01-28T06:19:40.265Z"
   },
   {
    "duration": 16,
    "start_time": "2022-01-28T06:19:40.305Z"
   },
   {
    "duration": 54,
    "start_time": "2022-01-28T06:19:40.322Z"
   },
   {
    "duration": 6,
    "start_time": "2022-01-28T06:19:40.377Z"
   },
   {
    "duration": 42,
    "start_time": "2022-01-28T06:19:40.384Z"
   },
   {
    "duration": 13,
    "start_time": "2022-01-28T06:19:40.428Z"
   },
   {
    "duration": 21,
    "start_time": "2022-01-28T06:19:40.443Z"
   },
   {
    "duration": 150,
    "start_time": "2022-01-28T06:19:40.465Z"
   },
   {
    "duration": 22,
    "start_time": "2022-01-28T06:19:40.617Z"
   },
   {
    "duration": 32,
    "start_time": "2022-01-28T06:19:40.640Z"
   },
   {
    "duration": 146,
    "start_time": "2022-01-28T06:19:40.674Z"
   },
   {
    "duration": 41,
    "start_time": "2022-01-28T06:19:40.822Z"
   },
   {
    "duration": 3,
    "start_time": "2022-01-28T06:19:40.865Z"
   },
   {
    "duration": 114,
    "start_time": "2022-01-28T06:19:40.870Z"
   },
   {
    "duration": 22,
    "start_time": "2022-01-28T06:19:40.985Z"
   },
   {
    "duration": 3,
    "start_time": "2022-01-28T06:19:41.009Z"
   },
   {
    "duration": 99,
    "start_time": "2022-01-28T06:19:41.014Z"
   },
   {
    "duration": 54,
    "start_time": "2022-01-28T06:19:41.115Z"
   },
   {
    "duration": 96,
    "start_time": "2022-01-28T07:15:05.098Z"
   },
   {
    "duration": 90,
    "start_time": "2022-01-28T07:15:22.932Z"
   },
   {
    "duration": 88,
    "start_time": "2022-01-28T07:15:34.134Z"
   },
   {
    "duration": 84,
    "start_time": "2022-01-28T07:15:40.402Z"
   },
   {
    "duration": 5,
    "start_time": "2022-01-28T07:15:51.486Z"
   },
   {
    "duration": 103,
    "start_time": "2022-01-28T07:42:37.146Z"
   },
   {
    "duration": 4,
    "start_time": "2022-01-28T07:42:55.140Z"
   },
   {
    "duration": 3,
    "start_time": "2022-01-28T07:43:43.721Z"
   },
   {
    "duration": -873,
    "start_time": "2022-01-28T07:45:03.453Z"
   },
   {
    "duration": 7345,
    "start_time": "2022-01-28T07:45:15.284Z"
   },
   {
    "duration": 32,
    "start_time": "2022-01-28T07:46:34.833Z"
   },
   {
    "duration": 3,
    "start_time": "2022-01-28T07:47:16.102Z"
   },
   {
    "duration": 33,
    "start_time": "2022-01-28T07:47:17.520Z"
   },
   {
    "duration": 5,
    "start_time": "2022-01-28T07:50:00.881Z"
   },
   {
    "duration": 597,
    "start_time": "2022-01-28T07:50:01.437Z"
   },
   {
    "duration": 3,
    "start_time": "2022-01-28T07:52:19.862Z"
   },
   {
    "duration": 32,
    "start_time": "2022-01-28T07:52:20.073Z"
   },
   {
    "duration": 6582,
    "start_time": "2022-01-28T07:54:50.310Z"
   },
   {
    "duration": 6459,
    "start_time": "2022-01-28T07:55:02.964Z"
   },
   {
    "duration": 7038,
    "start_time": "2022-01-28T07:55:23.642Z"
   },
   {
    "duration": 33,
    "start_time": "2022-01-28T07:56:43.814Z"
   },
   {
    "duration": 6613,
    "start_time": "2022-01-28T07:56:44.318Z"
   },
   {
    "duration": 4,
    "start_time": "2022-01-28T08:01:20.005Z"
   },
   {
    "duration": 542,
    "start_time": "2022-01-28T08:01:23.535Z"
   },
   {
    "duration": 3,
    "start_time": "2022-01-28T08:01:39.556Z"
   },
   {
    "duration": 32,
    "start_time": "2022-01-28T08:01:39.854Z"
   },
   {
    "duration": 1007,
    "start_time": "2022-01-28T08:01:57.271Z"
   },
   {
    "duration": 3,
    "start_time": "2022-01-28T08:02:04.106Z"
   },
   {
    "duration": 1191,
    "start_time": "2022-01-28T08:02:04.517Z"
   },
   {
    "duration": 977,
    "start_time": "2022-01-28T08:02:37.652Z"
   },
   {
    "duration": -847,
    "start_time": "2022-01-28T08:02:39.477Z"
   },
   {
    "duration": 7230,
    "start_time": "2022-01-28T08:02:42.489Z"
   },
   {
    "duration": 3,
    "start_time": "2022-01-28T08:02:49.783Z"
   },
   {
    "duration": 1288,
    "start_time": "2022-01-28T08:02:50.172Z"
   },
   {
    "duration": 3,
    "start_time": "2022-01-28T08:03:23.704Z"
   },
   {
    "duration": 974,
    "start_time": "2022-01-28T08:03:24.223Z"
   },
   {
    "duration": 3,
    "start_time": "2022-01-28T08:04:17.070Z"
   },
   {
    "duration": 990,
    "start_time": "2022-01-28T08:04:17.336Z"
   },
   {
    "duration": 35,
    "start_time": "2022-01-28T08:04:30.681Z"
   },
   {
    "duration": 34,
    "start_time": "2022-01-28T08:05:48.973Z"
   },
   {
    "duration": 3,
    "start_time": "2022-01-28T08:05:58.828Z"
   },
   {
    "duration": 32,
    "start_time": "2022-01-28T08:05:59.940Z"
   },
   {
    "duration": 4,
    "start_time": "2022-01-28T08:06:56.952Z"
   },
   {
    "duration": 6571,
    "start_time": "2022-01-28T08:07:20.180Z"
   },
   {
    "duration": 7,
    "start_time": "2022-01-28T08:07:34.075Z"
   },
   {
    "duration": 239,
    "start_time": "2022-01-28T08:09:17.294Z"
   },
   {
    "duration": 86,
    "start_time": "2022-01-28T08:09:22.716Z"
   },
   {
    "duration": 6425,
    "start_time": "2022-01-28T08:09:28.244Z"
   },
   {
    "duration": 122,
    "start_time": "2022-01-28T09:32:16.753Z"
   },
   {
    "duration": 5,
    "start_time": "2022-01-28T09:32:22.839Z"
   },
   {
    "duration": 6902,
    "start_time": "2022-01-28T09:32:47.596Z"
   },
   {
    "duration": 6,
    "start_time": "2022-01-28T09:33:05.143Z"
   },
   {
    "duration": 6794,
    "start_time": "2022-01-28T09:33:26.513Z"
   },
   {
    "duration": 6779,
    "start_time": "2022-01-28T09:33:45.874Z"
   },
   {
    "duration": -868,
    "start_time": "2022-01-28T09:34:12.050Z"
   },
   {
    "duration": 6831,
    "start_time": "2022-01-28T09:34:12.984Z"
   },
   {
    "duration": 6,
    "start_time": "2022-01-28T09:34:34.428Z"
   },
   {
    "duration": 32,
    "start_time": "2022-01-28T09:39:27.432Z"
   },
   {
    "duration": 3,
    "start_time": "2022-01-28T09:40:29.194Z"
   },
   {
    "duration": 531,
    "start_time": "2022-01-28T09:40:30.309Z"
   },
   {
    "duration": 28,
    "start_time": "2022-01-28T09:43:47.356Z"
   },
   {
    "duration": 515,
    "start_time": "2022-01-28T10:05:35.351Z"
   },
   {
    "duration": 498,
    "start_time": "2022-01-28T10:05:51.832Z"
   },
   {
    "duration": 90,
    "start_time": "2022-01-28T10:05:59.547Z"
   },
   {
    "duration": 664,
    "start_time": "2022-01-28T10:05:59.944Z"
   },
   {
    "duration": 3,
    "start_time": "2022-01-28T10:06:19.718Z"
   },
   {
    "duration": 6491,
    "start_time": "2022-01-28T10:06:20.124Z"
   },
   {
    "duration": 591,
    "start_time": "2022-01-28T10:06:41.952Z"
   },
   {
    "duration": 5,
    "start_time": "2022-01-28T10:31:30.707Z"
   },
   {
    "duration": 5,
    "start_time": "2022-01-28T10:36:24.286Z"
   },
   {
    "duration": 3,
    "start_time": "2022-01-28T10:36:57.827Z"
   },
   {
    "duration": 60,
    "start_time": "2022-01-28T10:37:21.469Z"
   },
   {
    "duration": 12,
    "start_time": "2022-01-28T10:37:21.531Z"
   },
   {
    "duration": 46,
    "start_time": "2022-01-28T10:37:21.545Z"
   },
   {
    "duration": 12,
    "start_time": "2022-01-28T10:37:21.593Z"
   },
   {
    "duration": 28,
    "start_time": "2022-01-28T10:37:21.607Z"
   },
   {
    "duration": 4,
    "start_time": "2022-01-28T10:37:21.638Z"
   },
   {
    "duration": 41,
    "start_time": "2022-01-28T10:37:21.644Z"
   },
   {
    "duration": 59,
    "start_time": "2022-01-28T10:37:21.688Z"
   },
   {
    "duration": 19,
    "start_time": "2022-01-28T10:37:21.749Z"
   },
   {
    "duration": 6,
    "start_time": "2022-01-28T10:37:21.770Z"
   },
   {
    "duration": 21,
    "start_time": "2022-01-28T10:37:21.778Z"
   },
   {
    "duration": 21,
    "start_time": "2022-01-28T10:37:21.801Z"
   },
   {
    "duration": 43,
    "start_time": "2022-01-28T10:37:21.824Z"
   },
   {
    "duration": 51,
    "start_time": "2022-01-28T10:37:21.869Z"
   },
   {
    "duration": 45,
    "start_time": "2022-01-28T10:37:21.922Z"
   },
   {
    "duration": 21,
    "start_time": "2022-01-28T10:37:21.969Z"
   },
   {
    "duration": 16,
    "start_time": "2022-01-28T10:37:21.992Z"
   },
   {
    "duration": 19,
    "start_time": "2022-01-28T10:37:22.010Z"
   },
   {
    "duration": 3858,
    "start_time": "2022-01-28T10:37:22.031Z"
   },
   {
    "duration": 10,
    "start_time": "2022-01-28T10:37:25.891Z"
   },
   {
    "duration": 28,
    "start_time": "2022-01-28T10:37:25.902Z"
   },
   {
    "duration": 41,
    "start_time": "2022-01-28T10:37:25.931Z"
   },
   {
    "duration": 10,
    "start_time": "2022-01-28T10:37:25.976Z"
   },
   {
    "duration": 12,
    "start_time": "2022-01-28T10:37:25.988Z"
   },
   {
    "duration": 29,
    "start_time": "2022-01-28T10:37:26.002Z"
   },
   {
    "duration": 31,
    "start_time": "2022-01-28T10:37:26.033Z"
   },
   {
    "duration": 19,
    "start_time": "2022-01-28T10:37:26.065Z"
   },
   {
    "duration": 31,
    "start_time": "2022-01-28T10:37:26.086Z"
   },
   {
    "duration": 44335,
    "start_time": "2022-01-28T10:37:26.119Z"
   },
   {
    "duration": 21,
    "start_time": "2022-01-28T10:38:10.456Z"
   },
   {
    "duration": 28,
    "start_time": "2022-01-28T10:38:10.480Z"
   },
   {
    "duration": 23,
    "start_time": "2022-01-28T10:38:10.511Z"
   },
   {
    "duration": 12,
    "start_time": "2022-01-28T10:38:10.536Z"
   },
   {
    "duration": 18,
    "start_time": "2022-01-28T10:38:10.550Z"
   },
   {
    "duration": 11,
    "start_time": "2022-01-28T10:38:10.570Z"
   },
   {
    "duration": 13,
    "start_time": "2022-01-28T10:38:10.584Z"
   },
   {
    "duration": 4,
    "start_time": "2022-01-28T10:38:10.599Z"
   },
   {
    "duration": 13,
    "start_time": "2022-01-28T10:38:10.605Z"
   },
   {
    "duration": 662,
    "start_time": "2022-01-28T10:38:10.620Z"
   },
   {
    "duration": -844,
    "start_time": "2022-01-28T10:38:12.128Z"
   },
   {
    "duration": -849,
    "start_time": "2022-01-28T10:38:12.134Z"
   },
   {
    "duration": -854,
    "start_time": "2022-01-28T10:38:12.140Z"
   },
   {
    "duration": -856,
    "start_time": "2022-01-28T10:38:12.143Z"
   },
   {
    "duration": -857,
    "start_time": "2022-01-28T10:38:12.146Z"
   },
   {
    "duration": -861,
    "start_time": "2022-01-28T10:38:12.151Z"
   },
   {
    "duration": -863,
    "start_time": "2022-01-28T10:38:12.154Z"
   },
   {
    "duration": 62,
    "start_time": "2022-01-28T10:39:10.773Z"
   },
   {
    "duration": 12,
    "start_time": "2022-01-28T10:39:10.837Z"
   },
   {
    "duration": 21,
    "start_time": "2022-01-28T10:39:10.851Z"
   },
   {
    "duration": 16,
    "start_time": "2022-01-28T10:39:10.874Z"
   },
   {
    "duration": 15,
    "start_time": "2022-01-28T10:39:10.892Z"
   },
   {
    "duration": 3,
    "start_time": "2022-01-28T10:39:10.909Z"
   },
   {
    "duration": 58,
    "start_time": "2022-01-28T10:39:10.914Z"
   },
   {
    "duration": 54,
    "start_time": "2022-01-28T10:39:10.974Z"
   },
   {
    "duration": 9,
    "start_time": "2022-01-28T10:39:11.030Z"
   },
   {
    "duration": 21,
    "start_time": "2022-01-28T10:39:11.041Z"
   },
   {
    "duration": 11,
    "start_time": "2022-01-28T10:39:11.064Z"
   },
   {
    "duration": 18,
    "start_time": "2022-01-28T10:39:11.077Z"
   },
   {
    "duration": 14,
    "start_time": "2022-01-28T10:39:11.097Z"
   },
   {
    "duration": 67,
    "start_time": "2022-01-28T10:39:11.113Z"
   },
   {
    "duration": 23,
    "start_time": "2022-01-28T10:39:11.182Z"
   },
   {
    "duration": 20,
    "start_time": "2022-01-28T10:39:11.207Z"
   },
   {
    "duration": 32,
    "start_time": "2022-01-28T10:39:11.229Z"
   },
   {
    "duration": 10,
    "start_time": "2022-01-28T10:39:11.263Z"
   },
   {
    "duration": 3272,
    "start_time": "2022-01-28T10:39:11.274Z"
   },
   {
    "duration": 8,
    "start_time": "2022-01-28T10:39:14.560Z"
   },
   {
    "duration": 6,
    "start_time": "2022-01-28T10:39:14.569Z"
   },
   {
    "duration": 20,
    "start_time": "2022-01-28T10:39:14.577Z"
   },
   {
    "duration": 4,
    "start_time": "2022-01-28T10:39:14.601Z"
   },
   {
    "duration": 8,
    "start_time": "2022-01-28T10:39:14.607Z"
   },
   {
    "duration": 4,
    "start_time": "2022-01-28T10:39:14.616Z"
   },
   {
    "duration": 8,
    "start_time": "2022-01-28T10:39:14.621Z"
   },
   {
    "duration": 5,
    "start_time": "2022-01-28T10:39:14.631Z"
   },
   {
    "duration": 5,
    "start_time": "2022-01-28T10:39:14.660Z"
   },
   {
    "duration": 42225,
    "start_time": "2022-01-28T10:39:14.667Z"
   },
   {
    "duration": 13,
    "start_time": "2022-01-28T10:39:56.894Z"
   },
   {
    "duration": 20,
    "start_time": "2022-01-28T10:39:56.909Z"
   },
   {
    "duration": 50,
    "start_time": "2022-01-28T10:39:56.931Z"
   },
   {
    "duration": 17,
    "start_time": "2022-01-28T10:39:56.982Z"
   },
   {
    "duration": 28,
    "start_time": "2022-01-28T10:39:57.001Z"
   },
   {
    "duration": 35,
    "start_time": "2022-01-28T10:39:57.031Z"
   },
   {
    "duration": 24,
    "start_time": "2022-01-28T10:39:57.068Z"
   },
   {
    "duration": 22,
    "start_time": "2022-01-28T10:39:57.094Z"
   },
   {
    "duration": 17,
    "start_time": "2022-01-28T10:39:57.117Z"
   },
   {
    "duration": 514,
    "start_time": "2022-01-28T10:39:57.135Z"
   },
   {
    "duration": -797,
    "start_time": "2022-01-28T10:39:58.447Z"
   },
   {
    "duration": -801,
    "start_time": "2022-01-28T10:39:58.453Z"
   },
   {
    "duration": -805,
    "start_time": "2022-01-28T10:39:58.457Z"
   },
   {
    "duration": -807,
    "start_time": "2022-01-28T10:39:58.460Z"
   },
   {
    "duration": -816,
    "start_time": "2022-01-28T10:39:58.470Z"
   },
   {
    "duration": -821,
    "start_time": "2022-01-28T10:39:58.476Z"
   },
   {
    "duration": -823,
    "start_time": "2022-01-28T10:39:58.479Z"
   },
   {
    "duration": -825,
    "start_time": "2022-01-28T10:39:58.482Z"
   },
   {
    "duration": -836,
    "start_time": "2022-01-28T10:39:58.494Z"
   },
   {
    "duration": -848,
    "start_time": "2022-01-28T10:39:58.507Z"
   },
   {
    "duration": -851,
    "start_time": "2022-01-28T10:39:58.510Z"
   },
   {
    "duration": -852,
    "start_time": "2022-01-28T10:39:58.513Z"
   },
   {
    "duration": -854,
    "start_time": "2022-01-28T10:39:58.516Z"
   },
   {
    "duration": -860,
    "start_time": "2022-01-28T10:39:58.523Z"
   },
   {
    "duration": -863,
    "start_time": "2022-01-28T10:39:58.527Z"
   },
   {
    "duration": -865,
    "start_time": "2022-01-28T10:39:58.530Z"
   },
   {
    "duration": -867,
    "start_time": "2022-01-28T10:39:58.533Z"
   },
   {
    "duration": 30,
    "start_time": "2022-01-28T10:40:58.144Z"
   },
   {
    "duration": 62,
    "start_time": "2022-01-28T10:41:09.325Z"
   },
   {
    "duration": 13,
    "start_time": "2022-01-28T10:41:09.389Z"
   },
   {
    "duration": 33,
    "start_time": "2022-01-28T10:41:09.404Z"
   },
   {
    "duration": 32,
    "start_time": "2022-01-28T10:41:09.439Z"
   },
   {
    "duration": 42,
    "start_time": "2022-01-28T10:41:09.472Z"
   },
   {
    "duration": 9,
    "start_time": "2022-01-28T10:41:09.516Z"
   },
   {
    "duration": 49,
    "start_time": "2022-01-28T10:41:09.527Z"
   },
   {
    "duration": 55,
    "start_time": "2022-01-28T10:41:09.578Z"
   },
   {
    "duration": 8,
    "start_time": "2022-01-28T10:41:09.636Z"
   },
   {
    "duration": 15,
    "start_time": "2022-01-28T10:41:09.661Z"
   },
   {
    "duration": 27,
    "start_time": "2022-01-28T10:41:09.677Z"
   },
   {
    "duration": 27,
    "start_time": "2022-01-28T10:41:09.706Z"
   },
   {
    "duration": 30,
    "start_time": "2022-01-28T10:41:09.735Z"
   },
   {
    "duration": 51,
    "start_time": "2022-01-28T10:41:09.767Z"
   },
   {
    "duration": 42,
    "start_time": "2022-01-28T10:41:09.820Z"
   },
   {
    "duration": 23,
    "start_time": "2022-01-28T10:41:09.864Z"
   },
   {
    "duration": 17,
    "start_time": "2022-01-28T10:41:09.889Z"
   },
   {
    "duration": 25,
    "start_time": "2022-01-28T10:41:09.909Z"
   },
   {
    "duration": 3806,
    "start_time": "2022-01-28T10:41:09.936Z"
   },
   {
    "duration": 21,
    "start_time": "2022-01-28T10:41:13.744Z"
   },
   {
    "duration": 22,
    "start_time": "2022-01-28T10:41:13.767Z"
   },
   {
    "duration": 38,
    "start_time": "2022-01-28T10:41:13.791Z"
   },
   {
    "duration": 29,
    "start_time": "2022-01-28T10:41:13.831Z"
   },
   {
    "duration": 36,
    "start_time": "2022-01-28T10:41:13.861Z"
   },
   {
    "duration": 34,
    "start_time": "2022-01-28T10:41:13.899Z"
   },
   {
    "duration": 33,
    "start_time": "2022-01-28T10:41:13.935Z"
   },
   {
    "duration": 29,
    "start_time": "2022-01-28T10:41:13.972Z"
   },
   {
    "duration": 32,
    "start_time": "2022-01-28T10:41:14.003Z"
   },
   {
    "duration": 44165,
    "start_time": "2022-01-28T10:41:14.037Z"
   },
   {
    "duration": 12,
    "start_time": "2022-01-28T10:41:58.205Z"
   },
   {
    "duration": 16,
    "start_time": "2022-01-28T10:41:58.219Z"
   },
   {
    "duration": 57,
    "start_time": "2022-01-28T10:41:58.237Z"
   },
   {
    "duration": 17,
    "start_time": "2022-01-28T10:41:58.297Z"
   },
   {
    "duration": 17,
    "start_time": "2022-01-28T10:41:58.316Z"
   },
   {
    "duration": 25,
    "start_time": "2022-01-28T10:41:58.334Z"
   },
   {
    "duration": 40,
    "start_time": "2022-01-28T10:41:58.362Z"
   },
   {
    "duration": 25,
    "start_time": "2022-01-28T10:41:58.404Z"
   },
   {
    "duration": 30,
    "start_time": "2022-01-28T10:41:58.431Z"
   },
   {
    "duration": 67,
    "start_time": "2022-01-28T10:41:58.464Z"
   },
   {
    "duration": 20,
    "start_time": "2022-01-28T10:41:58.533Z"
   },
   {
    "duration": 50,
    "start_time": "2022-01-28T10:41:58.556Z"
   },
   {
    "duration": 4,
    "start_time": "2022-01-28T10:41:58.608Z"
   },
   {
    "duration": 36,
    "start_time": "2022-01-28T10:41:58.614Z"
   },
   {
    "duration": 177,
    "start_time": "2022-01-28T10:41:58.652Z"
   },
   {
    "duration": 5,
    "start_time": "2022-01-28T10:41:58.831Z"
   },
   {
    "duration": 60,
    "start_time": "2022-01-28T10:41:58.837Z"
   },
   {
    "duration": 46,
    "start_time": "2022-01-28T10:41:58.899Z"
   },
   {
    "duration": 16,
    "start_time": "2022-01-28T10:41:58.947Z"
   },
   {
    "duration": 146,
    "start_time": "2022-01-28T10:41:58.965Z"
   },
   {
    "duration": 22,
    "start_time": "2022-01-28T10:41:59.113Z"
   },
   {
    "duration": 3,
    "start_time": "2022-01-28T10:41:59.137Z"
   },
   {
    "duration": 135,
    "start_time": "2022-01-28T10:41:59.161Z"
   },
   {
    "duration": 24,
    "start_time": "2022-01-28T10:41:59.298Z"
   },
   {
    "duration": 19,
    "start_time": "2022-01-28T10:41:59.323Z"
   },
   {
    "duration": 109,
    "start_time": "2022-01-28T10:41:59.343Z"
   },
   {
    "duration": 35,
    "start_time": "2022-01-28T10:41:59.453Z"
   },
   {
    "duration": 3,
    "start_time": "2022-01-28T10:44:21.131Z"
   },
   {
    "duration": 5,
    "start_time": "2022-01-28T10:44:23.654Z"
   },
   {
    "duration": 3,
    "start_time": "2022-01-28T10:44:24.025Z"
   },
   {
    "duration": 4,
    "start_time": "2022-01-28T10:45:35.444Z"
   },
   {
    "duration": 4,
    "start_time": "2022-01-28T10:45:48.456Z"
   },
   {
    "duration": 5,
    "start_time": "2022-01-28T10:47:04.002Z"
   },
   {
    "duration": 514,
    "start_time": "2022-01-28T10:47:05.700Z"
   },
   {
    "duration": 5,
    "start_time": "2022-01-28T10:47:31.705Z"
   },
   {
    "duration": 269,
    "start_time": "2022-01-28T10:47:32.328Z"
   },
   {
    "duration": 112,
    "start_time": "2022-01-28T11:43:39.320Z"
   },
   {
    "duration": 5,
    "start_time": "2022-01-28T11:43:59.537Z"
   },
   {
    "duration": 6,
    "start_time": "2022-01-28T11:45:00.299Z"
   },
   {
    "duration": 80,
    "start_time": "2022-01-28T11:45:16.829Z"
   },
   {
    "duration": 8126,
    "start_time": "2022-01-28T11:45:20.758Z"
   },
   {
    "duration": 5,
    "start_time": "2022-01-28T11:45:43.127Z"
   },
   {
    "duration": 4,
    "start_time": "2022-01-28T11:46:32.684Z"
   },
   {
    "duration": 28,
    "start_time": "2022-01-28T11:46:34.313Z"
   },
   {
    "duration": 6,
    "start_time": "2022-01-28T11:50:05.695Z"
   },
   {
    "duration": 5,
    "start_time": "2022-01-28T11:50:17.887Z"
   },
   {
    "duration": 272,
    "start_time": "2022-01-28T11:50:56.126Z"
   },
   {
    "duration": 5,
    "start_time": "2022-01-28T11:50:58.309Z"
   },
   {
    "duration": 4,
    "start_time": "2022-01-28T11:51:32.240Z"
   },
   {
    "duration": 5,
    "start_time": "2022-01-28T11:53:33.145Z"
   },
   {
    "duration": 79,
    "start_time": "2022-01-28T11:58:58.233Z"
   },
   {
    "duration": 3,
    "start_time": "2022-01-28T12:02:33.427Z"
   },
   {
    "duration": 32,
    "start_time": "2022-01-28T12:02:57.485Z"
   },
   {
    "duration": 5,
    "start_time": "2022-01-28T12:03:46.334Z"
   },
   {
    "duration": 58,
    "start_time": "2022-01-28T12:03:47.423Z"
   },
   {
    "duration": 4,
    "start_time": "2022-01-28T12:04:23.885Z"
   },
   {
    "duration": 40,
    "start_time": "2022-01-28T12:04:24.808Z"
   },
   {
    "duration": 5,
    "start_time": "2022-01-28T12:04:56.646Z"
   },
   {
    "duration": 5,
    "start_time": "2022-01-28T13:27:11.491Z"
   },
   {
    "duration": 61,
    "start_time": "2022-01-28T13:27:12.370Z"
   },
   {
    "duration": 5,
    "start_time": "2022-01-28T13:27:30.225Z"
   },
   {
    "duration": 65,
    "start_time": "2022-01-28T13:27:30.759Z"
   },
   {
    "duration": 7,
    "start_time": "2022-01-28T13:33:46.660Z"
   },
   {
    "duration": 20,
    "start_time": "2022-01-28T14:55:52.642Z"
   },
   {
    "duration": 13,
    "start_time": "2022-01-28T14:56:10.086Z"
   },
   {
    "duration": 5,
    "start_time": "2022-01-28T14:56:57.854Z"
   },
   {
    "duration": 5,
    "start_time": "2022-01-28T14:57:09.838Z"
   },
   {
    "duration": 4,
    "start_time": "2022-01-28T14:57:20.473Z"
   },
   {
    "duration": 5,
    "start_time": "2022-01-28T14:57:23.792Z"
   },
   {
    "duration": 5,
    "start_time": "2022-01-28T14:57:28.130Z"
   },
   {
    "duration": 5,
    "start_time": "2022-01-28T14:57:44.649Z"
   },
   {
    "duration": 5,
    "start_time": "2022-01-28T14:58:19.591Z"
   },
   {
    "duration": 6,
    "start_time": "2022-01-28T14:59:04.657Z"
   },
   {
    "duration": 4,
    "start_time": "2022-01-28T14:59:23.738Z"
   },
   {
    "duration": 5,
    "start_time": "2022-01-28T14:59:35.449Z"
   },
   {
    "duration": 5,
    "start_time": "2022-01-28T14:59:47.885Z"
   },
   {
    "duration": 6,
    "start_time": "2022-01-28T15:00:00.246Z"
   },
   {
    "duration": 349,
    "start_time": "2022-01-28T15:00:56.593Z"
   },
   {
    "duration": 89,
    "start_time": "2022-01-28T15:01:19.226Z"
   },
   {
    "duration": 87,
    "start_time": "2022-01-28T15:01:26.488Z"
   },
   {
    "duration": 115,
    "start_time": "2022-01-28T15:01:34.171Z"
   },
   {
    "duration": 113,
    "start_time": "2022-01-28T15:01:38.569Z"
   },
   {
    "duration": 84,
    "start_time": "2022-01-28T15:01:40.945Z"
   },
   {
    "duration": 86,
    "start_time": "2022-01-28T15:01:42.953Z"
   },
   {
    "duration": 91,
    "start_time": "2022-01-28T15:01:44.981Z"
   },
   {
    "duration": 90,
    "start_time": "2022-01-28T15:01:49.897Z"
   },
   {
    "duration": 330,
    "start_time": "2022-01-28T15:02:14.730Z"
   },
   {
    "duration": 291,
    "start_time": "2022-01-28T15:02:25.914Z"
   },
   {
    "duration": 74,
    "start_time": "2022-01-28T15:02:49.431Z"
   },
   {
    "duration": 62,
    "start_time": "2022-01-28T15:03:53.701Z"
   },
   {
    "duration": 13,
    "start_time": "2022-01-28T15:03:53.765Z"
   },
   {
    "duration": 22,
    "start_time": "2022-01-28T15:03:53.780Z"
   },
   {
    "duration": 9,
    "start_time": "2022-01-28T15:03:53.804Z"
   },
   {
    "duration": 59,
    "start_time": "2022-01-28T15:03:53.815Z"
   },
   {
    "duration": 3,
    "start_time": "2022-01-28T15:03:53.876Z"
   },
   {
    "duration": 26,
    "start_time": "2022-01-28T15:03:53.881Z"
   },
   {
    "duration": 99,
    "start_time": "2022-01-28T15:03:53.909Z"
   },
   {
    "duration": 9,
    "start_time": "2022-01-28T15:03:54.012Z"
   },
   {
    "duration": 6,
    "start_time": "2022-01-28T15:03:54.023Z"
   },
   {
    "duration": 31,
    "start_time": "2022-01-28T15:03:54.031Z"
   },
   {
    "duration": 13,
    "start_time": "2022-01-28T15:03:54.064Z"
   },
   {
    "duration": 14,
    "start_time": "2022-01-28T15:03:54.079Z"
   },
   {
    "duration": 78,
    "start_time": "2022-01-28T15:03:54.095Z"
   },
   {
    "duration": 26,
    "start_time": "2022-01-28T15:03:54.174Z"
   },
   {
    "duration": 22,
    "start_time": "2022-01-28T15:03:54.201Z"
   },
   {
    "duration": 46,
    "start_time": "2022-01-28T15:03:54.224Z"
   },
   {
    "duration": 10,
    "start_time": "2022-01-28T15:03:54.272Z"
   },
   {
    "duration": 3466,
    "start_time": "2022-01-28T15:03:54.284Z"
   },
   {
    "duration": 16,
    "start_time": "2022-01-28T15:03:57.751Z"
   },
   {
    "duration": 47,
    "start_time": "2022-01-28T15:03:57.769Z"
   },
   {
    "duration": 18,
    "start_time": "2022-01-28T15:03:57.818Z"
   },
   {
    "duration": 4,
    "start_time": "2022-01-28T15:03:57.838Z"
   },
   {
    "duration": 10,
    "start_time": "2022-01-28T15:03:57.843Z"
   },
   {
    "duration": 5,
    "start_time": "2022-01-28T15:03:57.855Z"
   },
   {
    "duration": 9,
    "start_time": "2022-01-28T15:03:57.862Z"
   },
   {
    "duration": 3,
    "start_time": "2022-01-28T15:03:57.874Z"
   },
   {
    "duration": 5,
    "start_time": "2022-01-28T15:03:57.879Z"
   },
   {
    "duration": 42562,
    "start_time": "2022-01-28T15:03:57.885Z"
   },
   {
    "duration": 17,
    "start_time": "2022-01-28T15:04:40.449Z"
   },
   {
    "duration": 32,
    "start_time": "2022-01-28T15:04:40.468Z"
   },
   {
    "duration": 66,
    "start_time": "2022-01-28T15:04:40.502Z"
   },
   {
    "duration": 41,
    "start_time": "2022-01-28T15:04:40.571Z"
   },
   {
    "duration": 38,
    "start_time": "2022-01-28T15:04:40.615Z"
   },
   {
    "duration": 41,
    "start_time": "2022-01-28T15:04:40.655Z"
   },
   {
    "duration": 39,
    "start_time": "2022-01-28T15:04:40.698Z"
   },
   {
    "duration": 30,
    "start_time": "2022-01-28T15:04:40.740Z"
   },
   {
    "duration": 33,
    "start_time": "2022-01-28T15:04:40.773Z"
   },
   {
    "duration": 121,
    "start_time": "2022-01-28T15:04:40.808Z"
   },
   {
    "duration": 4,
    "start_time": "2022-01-28T15:04:40.930Z"
   },
   {
    "duration": 35,
    "start_time": "2022-01-28T15:04:40.935Z"
   },
   {
    "duration": 28,
    "start_time": "2022-01-28T15:04:40.973Z"
   },
   {
    "duration": 33,
    "start_time": "2022-01-28T15:04:41.004Z"
   },
   {
    "duration": 5,
    "start_time": "2022-01-28T15:06:02.508Z"
   },
   {
    "duration": 64,
    "start_time": "2022-01-28T15:06:02.829Z"
   },
   {
    "duration": 4,
    "start_time": "2022-01-28T15:06:12.343Z"
   },
   {
    "duration": 44,
    "start_time": "2022-01-28T15:06:12.500Z"
   },
   {
    "duration": 4,
    "start_time": "2022-01-28T15:06:20.273Z"
   },
   {
    "duration": 66,
    "start_time": "2022-01-28T15:06:22.622Z"
   },
   {
    "duration": 4,
    "start_time": "2022-01-28T15:06:56.991Z"
   },
   {
    "duration": 64,
    "start_time": "2022-01-28T15:06:57.292Z"
   },
   {
    "duration": 6,
    "start_time": "2022-01-28T15:07:16.103Z"
   },
   {
    "duration": 56,
    "start_time": "2022-01-28T15:07:16.774Z"
   },
   {
    "duration": 5,
    "start_time": "2022-01-28T15:07:31.409Z"
   },
   {
    "duration": 54,
    "start_time": "2022-01-28T15:07:32.075Z"
   },
   {
    "duration": 4,
    "start_time": "2022-01-28T15:07:51.860Z"
   },
   {
    "duration": 56,
    "start_time": "2022-01-28T15:07:52.065Z"
   },
   {
    "duration": 4,
    "start_time": "2022-01-28T15:07:53.085Z"
   },
   {
    "duration": 4,
    "start_time": "2022-01-28T15:08:12.180Z"
   },
   {
    "duration": 4,
    "start_time": "2022-01-28T15:08:32.224Z"
   },
   {
    "duration": 4,
    "start_time": "2022-01-28T15:08:37.289Z"
   },
   {
    "duration": 4,
    "start_time": "2022-01-28T15:08:45.510Z"
   },
   {
    "duration": 819,
    "start_time": "2022-01-29T05:41:07.677Z"
   },
   {
    "duration": 32,
    "start_time": "2022-01-29T05:41:08.498Z"
   },
   {
    "duration": 19,
    "start_time": "2022-01-29T05:41:08.533Z"
   },
   {
    "duration": 12,
    "start_time": "2022-01-29T05:41:08.555Z"
   },
   {
    "duration": 54,
    "start_time": "2022-01-29T05:41:08.569Z"
   },
   {
    "duration": 5,
    "start_time": "2022-01-29T05:41:08.625Z"
   },
   {
    "duration": 33,
    "start_time": "2022-01-29T05:41:08.633Z"
   },
   {
    "duration": 101,
    "start_time": "2022-01-29T05:41:08.670Z"
   },
   {
    "duration": 12,
    "start_time": "2022-01-29T05:41:08.774Z"
   },
   {
    "duration": 6,
    "start_time": "2022-01-29T05:41:08.789Z"
   },
   {
    "duration": 15,
    "start_time": "2022-01-29T05:41:08.823Z"
   },
   {
    "duration": 14,
    "start_time": "2022-01-29T05:41:08.841Z"
   },
   {
    "duration": 19,
    "start_time": "2022-01-29T05:41:08.858Z"
   },
   {
    "duration": 94,
    "start_time": "2022-01-29T05:41:08.880Z"
   },
   {
    "duration": 47,
    "start_time": "2022-01-29T05:41:08.977Z"
   },
   {
    "duration": 27,
    "start_time": "2022-01-29T05:41:09.027Z"
   },
   {
    "duration": 22,
    "start_time": "2022-01-29T05:41:09.056Z"
   },
   {
    "duration": 42,
    "start_time": "2022-01-29T05:41:09.081Z"
   },
   {
    "duration": 4523,
    "start_time": "2022-01-29T05:41:09.126Z"
   },
   {
    "duration": 11,
    "start_time": "2022-01-29T05:41:13.651Z"
   },
   {
    "duration": 8,
    "start_time": "2022-01-29T05:41:13.664Z"
   },
   {
    "duration": 21,
    "start_time": "2022-01-29T05:41:13.674Z"
   },
   {
    "duration": 6,
    "start_time": "2022-01-29T05:41:13.724Z"
   },
   {
    "duration": 8,
    "start_time": "2022-01-29T05:41:13.733Z"
   },
   {
    "duration": 5,
    "start_time": "2022-01-29T05:41:13.744Z"
   },
   {
    "duration": 17,
    "start_time": "2022-01-29T05:41:13.751Z"
   },
   {
    "duration": 5,
    "start_time": "2022-01-29T05:41:13.770Z"
   },
   {
    "duration": 51,
    "start_time": "2022-01-29T05:41:13.777Z"
   },
   {
    "duration": 60241,
    "start_time": "2022-01-29T05:41:13.831Z"
   },
   {
    "duration": 19,
    "start_time": "2022-01-29T05:42:14.075Z"
   },
   {
    "duration": 27,
    "start_time": "2022-01-29T05:42:14.096Z"
   },
   {
    "duration": 24,
    "start_time": "2022-01-29T05:42:14.126Z"
   },
   {
    "duration": 18,
    "start_time": "2022-01-29T05:42:14.153Z"
   },
   {
    "duration": 13,
    "start_time": "2022-01-29T05:42:14.174Z"
   },
   {
    "duration": 37,
    "start_time": "2022-01-29T05:42:14.190Z"
   },
   {
    "duration": 7,
    "start_time": "2022-01-29T05:42:14.230Z"
   },
   {
    "duration": 6,
    "start_time": "2022-01-29T05:42:14.240Z"
   },
   {
    "duration": 6,
    "start_time": "2022-01-29T05:42:14.249Z"
   },
   {
    "duration": 106,
    "start_time": "2022-01-29T05:42:14.257Z"
   },
   {
    "duration": 6,
    "start_time": "2022-01-29T05:42:14.366Z"
   },
   {
    "duration": 13,
    "start_time": "2022-01-29T05:42:14.375Z"
   },
   {
    "duration": 38,
    "start_time": "2022-01-29T05:42:14.391Z"
   },
   {
    "duration": 9,
    "start_time": "2022-01-29T05:42:14.431Z"
   },
   {
    "duration": 7,
    "start_time": "2022-01-29T05:42:14.442Z"
   },
   {
    "duration": 34,
    "start_time": "2022-01-29T05:42:14.452Z"
   },
   {
    "duration": 38,
    "start_time": "2022-01-29T05:42:14.489Z"
   },
   {
    "duration": 9,
    "start_time": "2022-01-29T05:42:14.529Z"
   },
   {
    "duration": 235,
    "start_time": "2022-01-29T05:42:14.540Z"
   },
   {
    "duration": 7,
    "start_time": "2022-01-29T05:42:14.777Z"
   },
   {
    "duration": 456,
    "start_time": "2022-01-29T05:42:14.787Z"
   },
   {
    "duration": 5,
    "start_time": "2022-01-29T05:42:15.246Z"
   },
   {
    "duration": 35,
    "start_time": "2022-01-29T05:42:15.254Z"
   },
   {
    "duration": 32,
    "start_time": "2022-01-29T05:42:15.291Z"
   },
   {
    "duration": 207,
    "start_time": "2022-01-29T05:42:15.326Z"
   },
   {
    "duration": 33,
    "start_time": "2022-01-29T05:42:15.536Z"
   },
   {
    "duration": 3,
    "start_time": "2022-01-29T05:42:15.571Z"
   },
   {
    "duration": 188,
    "start_time": "2022-01-29T05:42:15.576Z"
   },
   {
    "duration": 64,
    "start_time": "2022-01-29T05:42:15.768Z"
   },
   {
    "duration": 3,
    "start_time": "2022-01-29T05:42:15.835Z"
   },
   {
    "duration": 129,
    "start_time": "2022-01-29T05:42:15.840Z"
   },
   {
    "duration": 63,
    "start_time": "2022-01-29T05:42:15.971Z"
   },
   {
    "duration": 6,
    "start_time": "2022-01-29T05:56:51.657Z"
   },
   {
    "duration": 6,
    "start_time": "2022-01-29T06:28:05.616Z"
   },
   {
    "duration": 88,
    "start_time": "2022-01-29T06:28:14.354Z"
   },
   {
    "duration": 5,
    "start_time": "2022-01-29T06:28:41.361Z"
   },
   {
    "duration": 6,
    "start_time": "2022-01-29T06:31:15.297Z"
   },
   {
    "duration": 88,
    "start_time": "2022-01-29T06:31:15.670Z"
   },
   {
    "duration": 7,
    "start_time": "2022-01-29T06:35:54.698Z"
   },
   {
    "duration": 104,
    "start_time": "2022-01-29T06:35:55.289Z"
   },
   {
    "duration": 91,
    "start_time": "2022-01-29T06:37:37.239Z"
   },
   {
    "duration": 97,
    "start_time": "2022-01-29T06:37:37.978Z"
   },
   {
    "duration": 111,
    "start_time": "2022-01-29T06:38:49.442Z"
   },
   {
    "duration": 100,
    "start_time": "2022-01-29T06:38:50.016Z"
   },
   {
    "duration": 104,
    "start_time": "2022-01-29T06:40:45.691Z"
   },
   {
    "duration": 97,
    "start_time": "2022-01-29T06:40:46.151Z"
   },
   {
    "duration": 98,
    "start_time": "2022-01-29T06:40:55.790Z"
   },
   {
    "duration": 95,
    "start_time": "2022-01-29T06:40:57.551Z"
   },
   {
    "duration": 96,
    "start_time": "2022-01-29T06:41:00.583Z"
   },
   {
    "duration": 100,
    "start_time": "2022-01-29T06:41:00.898Z"
   },
   {
    "duration": 121,
    "start_time": "2022-01-29T06:41:46.210Z"
   },
   {
    "duration": 7,
    "start_time": "2022-01-29T06:42:21.459Z"
   },
   {
    "duration": 98,
    "start_time": "2022-01-29T06:42:21.785Z"
   },
   {
    "duration": 7,
    "start_time": "2022-01-29T06:42:48.390Z"
   },
   {
    "duration": 104,
    "start_time": "2022-01-29T06:42:48.605Z"
   },
   {
    "duration": 6,
    "start_time": "2022-01-29T06:43:11.708Z"
   },
   {
    "duration": 104,
    "start_time": "2022-01-29T06:43:12.224Z"
   },
   {
    "duration": 6,
    "start_time": "2022-01-29T06:58:57.701Z"
   },
   {
    "duration": 103,
    "start_time": "2022-01-29T06:58:58.068Z"
   },
   {
    "duration": 43,
    "start_time": "2022-01-29T06:59:23.985Z"
   },
   {
    "duration": 9,
    "start_time": "2022-01-29T09:54:14.839Z"
   },
   {
    "duration": 42,
    "start_time": "2022-01-29T09:54:15.554Z"
   },
   {
    "duration": 71,
    "start_time": "2022-01-29T10:39:54.847Z"
   },
   {
    "duration": 32,
    "start_time": "2022-01-29T10:39:54.921Z"
   },
   {
    "duration": 30,
    "start_time": "2022-01-29T10:39:54.957Z"
   },
   {
    "duration": 47,
    "start_time": "2022-01-29T10:39:54.990Z"
   },
   {
    "duration": 44,
    "start_time": "2022-01-29T10:39:55.040Z"
   },
   {
    "duration": 6,
    "start_time": "2022-01-29T10:39:55.086Z"
   },
   {
    "duration": 73,
    "start_time": "2022-01-29T10:39:55.095Z"
   },
   {
    "duration": 115,
    "start_time": "2022-01-29T10:39:55.170Z"
   },
   {
    "duration": 12,
    "start_time": "2022-01-29T10:39:55.288Z"
   },
   {
    "duration": 14,
    "start_time": "2022-01-29T10:39:55.326Z"
   },
   {
    "duration": 30,
    "start_time": "2022-01-29T10:39:55.347Z"
   },
   {
    "duration": 17,
    "start_time": "2022-01-29T10:39:55.380Z"
   },
   {
    "duration": 55,
    "start_time": "2022-01-29T10:39:55.400Z"
   },
   {
    "duration": 86,
    "start_time": "2022-01-29T10:39:55.458Z"
   },
   {
    "duration": 41,
    "start_time": "2022-01-29T10:39:55.546Z"
   },
   {
    "duration": 52,
    "start_time": "2022-01-29T10:39:55.591Z"
   },
   {
    "duration": 27,
    "start_time": "2022-01-29T10:39:55.646Z"
   },
   {
    "duration": 14,
    "start_time": "2022-01-29T10:39:55.676Z"
   },
   {
    "duration": 5703,
    "start_time": "2022-01-29T10:39:55.692Z"
   },
   {
    "duration": 10,
    "start_time": "2022-01-29T10:40:01.398Z"
   },
   {
    "duration": 41,
    "start_time": "2022-01-29T10:40:01.411Z"
   },
   {
    "duration": 34,
    "start_time": "2022-01-29T10:40:01.455Z"
   },
   {
    "duration": 6,
    "start_time": "2022-01-29T10:40:01.492Z"
   },
   {
    "duration": 13,
    "start_time": "2022-01-29T10:40:01.501Z"
   },
   {
    "duration": 31,
    "start_time": "2022-01-29T10:40:01.516Z"
   },
   {
    "duration": 28,
    "start_time": "2022-01-29T10:40:01.550Z"
   },
   {
    "duration": 17,
    "start_time": "2022-01-29T10:40:01.583Z"
   },
   {
    "duration": 45,
    "start_time": "2022-01-29T10:40:01.602Z"
   },
   {
    "duration": 71922,
    "start_time": "2022-01-29T10:40:01.649Z"
   },
   {
    "duration": 19,
    "start_time": "2022-01-29T10:41:13.573Z"
   },
   {
    "duration": 9,
    "start_time": "2022-01-29T10:41:13.595Z"
   },
   {
    "duration": 33,
    "start_time": "2022-01-29T10:41:13.633Z"
   },
   {
    "duration": 18,
    "start_time": "2022-01-29T10:41:13.669Z"
   },
   {
    "duration": 11,
    "start_time": "2022-01-29T10:41:13.690Z"
   },
   {
    "duration": 37,
    "start_time": "2022-01-29T10:41:13.704Z"
   },
   {
    "duration": 12,
    "start_time": "2022-01-29T10:41:13.748Z"
   },
   {
    "duration": 5,
    "start_time": "2022-01-29T10:41:13.762Z"
   },
   {
    "duration": 7,
    "start_time": "2022-01-29T10:41:13.769Z"
   },
   {
    "duration": 89,
    "start_time": "2022-01-29T10:41:13.778Z"
   },
   {
    "duration": 35,
    "start_time": "2022-01-29T10:41:13.870Z"
   },
   {
    "duration": 20,
    "start_time": "2022-01-29T10:41:13.908Z"
   },
   {
    "duration": 20,
    "start_time": "2022-01-29T10:41:13.934Z"
   },
   {
    "duration": 248,
    "start_time": "2022-01-29T10:41:13.957Z"
   },
   {
    "duration": 22,
    "start_time": "2022-01-29T10:41:14.208Z"
   },
   {
    "duration": 524,
    "start_time": "2022-01-29T10:41:14.233Z"
   },
   {
    "duration": 6,
    "start_time": "2022-01-29T10:41:14.760Z"
   },
   {
    "duration": 59,
    "start_time": "2022-01-29T10:41:14.768Z"
   },
   {
    "duration": 9,
    "start_time": "2022-01-29T10:41:14.829Z"
   },
   {
    "duration": 219,
    "start_time": "2022-01-29T10:41:14.840Z"
   },
   {
    "duration": 35,
    "start_time": "2022-01-29T10:41:15.062Z"
   },
   {
    "duration": 27,
    "start_time": "2022-01-29T10:41:15.099Z"
   },
   {
    "duration": 180,
    "start_time": "2022-01-29T10:41:15.128Z"
   },
   {
    "duration": 45,
    "start_time": "2022-01-29T10:41:15.325Z"
   },
   {
    "duration": 3,
    "start_time": "2022-01-29T10:41:15.373Z"
   },
   {
    "duration": 163,
    "start_time": "2022-01-29T10:41:15.379Z"
   },
   {
    "duration": 53,
    "start_time": "2022-01-29T10:41:15.546Z"
   },
   {
    "duration": 106,
    "start_time": "2022-01-29T11:54:21.182Z"
   },
   {
    "duration": 59,
    "start_time": "2022-01-29T11:54:21.291Z"
   },
   {
    "duration": 22,
    "start_time": "2022-01-29T11:54:21.353Z"
   },
   {
    "duration": 51,
    "start_time": "2022-01-29T11:54:21.379Z"
   },
   {
    "duration": 24,
    "start_time": "2022-01-29T11:54:21.433Z"
   },
   {
    "duration": 5,
    "start_time": "2022-01-29T11:54:21.460Z"
   },
   {
    "duration": 74,
    "start_time": "2022-01-29T11:54:21.468Z"
   },
   {
    "duration": 92,
    "start_time": "2022-01-29T11:54:21.547Z"
   },
   {
    "duration": 14,
    "start_time": "2022-01-29T11:54:21.642Z"
   },
   {
    "duration": 7,
    "start_time": "2022-01-29T11:54:21.659Z"
   },
   {
    "duration": 18,
    "start_time": "2022-01-29T11:54:21.669Z"
   },
   {
    "duration": 16,
    "start_time": "2022-01-29T11:54:21.724Z"
   },
   {
    "duration": 22,
    "start_time": "2022-01-29T11:54:21.743Z"
   },
   {
    "duration": 98,
    "start_time": "2022-01-29T11:54:21.767Z"
   },
   {
    "duration": 32,
    "start_time": "2022-01-29T11:54:21.869Z"
   },
   {
    "duration": 49,
    "start_time": "2022-01-29T11:54:21.903Z"
   },
   {
    "duration": 24,
    "start_time": "2022-01-29T11:54:21.956Z"
   },
   {
    "duration": 40,
    "start_time": "2022-01-29T11:54:21.983Z"
   },
   {
    "duration": 5224,
    "start_time": "2022-01-29T11:54:22.026Z"
   },
   {
    "duration": 10,
    "start_time": "2022-01-29T11:54:27.252Z"
   },
   {
    "duration": 6,
    "start_time": "2022-01-29T11:54:27.264Z"
   },
   {
    "duration": 20,
    "start_time": "2022-01-29T11:54:27.273Z"
   },
   {
    "duration": 6,
    "start_time": "2022-01-29T11:54:27.323Z"
   },
   {
    "duration": 8,
    "start_time": "2022-01-29T11:54:27.332Z"
   },
   {
    "duration": 4,
    "start_time": "2022-01-29T11:54:27.343Z"
   },
   {
    "duration": 10,
    "start_time": "2022-01-29T11:54:27.349Z"
   },
   {
    "duration": 10,
    "start_time": "2022-01-29T11:54:27.361Z"
   },
   {
    "duration": 11,
    "start_time": "2022-01-29T11:54:27.373Z"
   },
   {
    "duration": 66796,
    "start_time": "2022-01-29T11:54:27.386Z"
   },
   {
    "duration": 19,
    "start_time": "2022-01-29T11:55:34.185Z"
   },
   {
    "duration": 32,
    "start_time": "2022-01-29T11:55:34.206Z"
   },
   {
    "duration": 29,
    "start_time": "2022-01-29T11:55:34.240Z"
   },
   {
    "duration": 20,
    "start_time": "2022-01-29T11:55:34.272Z"
   },
   {
    "duration": 36,
    "start_time": "2022-01-29T11:55:34.295Z"
   },
   {
    "duration": 10,
    "start_time": "2022-01-29T11:55:34.334Z"
   },
   {
    "duration": 8,
    "start_time": "2022-01-29T11:55:34.346Z"
   },
   {
    "duration": 7,
    "start_time": "2022-01-29T11:55:34.356Z"
   },
   {
    "duration": 7,
    "start_time": "2022-01-29T11:55:34.365Z"
   },
   {
    "duration": 88,
    "start_time": "2022-01-29T11:55:34.375Z"
   },
   {
    "duration": 34,
    "start_time": "2022-01-29T11:55:34.466Z"
   },
   {
    "duration": 29,
    "start_time": "2022-01-29T11:55:34.502Z"
   },
   {
    "duration": 12,
    "start_time": "2022-01-29T11:55:34.533Z"
   },
   {
    "duration": 232,
    "start_time": "2022-01-29T11:55:34.548Z"
   },
   {
    "duration": 7,
    "start_time": "2022-01-29T11:55:34.784Z"
   },
   {
    "duration": 472,
    "start_time": "2022-01-29T11:55:34.794Z"
   },
   {
    "duration": 7,
    "start_time": "2022-01-29T11:55:35.270Z"
   },
   {
    "duration": 75,
    "start_time": "2022-01-29T11:55:35.280Z"
   },
   {
    "duration": 4,
    "start_time": "2022-01-29T11:55:35.358Z"
   },
   {
    "duration": 228,
    "start_time": "2022-01-29T11:55:35.365Z"
   },
   {
    "duration": 64,
    "start_time": "2022-01-29T11:55:35.595Z"
   },
   {
    "duration": 3,
    "start_time": "2022-01-29T11:55:35.662Z"
   },
   {
    "duration": 186,
    "start_time": "2022-01-29T11:55:35.668Z"
   },
   {
    "duration": 36,
    "start_time": "2022-01-29T11:55:35.856Z"
   },
   {
    "duration": 39,
    "start_time": "2022-01-29T11:55:35.894Z"
   },
   {
    "duration": 126,
    "start_time": "2022-01-29T11:55:35.935Z"
   },
   {
    "duration": 62,
    "start_time": "2022-01-29T11:55:36.064Z"
   },
   {
    "duration": 35,
    "start_time": "2022-01-29T12:10:46.265Z"
   },
   {
    "duration": 42,
    "start_time": "2022-01-29T12:11:15.077Z"
   },
   {
    "duration": 41,
    "start_time": "2022-01-29T12:33:28.373Z"
   },
   {
    "duration": 287,
    "start_time": "2022-01-29T12:35:49.245Z"
   },
   {
    "duration": 7,
    "start_time": "2022-01-29T12:47:01.174Z"
   },
   {
    "duration": 4,
    "start_time": "2022-01-29T12:47:01.984Z"
   },
   {
    "duration": 330,
    "start_time": "2022-01-29T12:47:02.512Z"
   },
   {
    "duration": 7,
    "start_time": "2022-01-29T12:47:43.985Z"
   },
   {
    "duration": 4,
    "start_time": "2022-01-29T12:47:44.334Z"
   },
   {
    "duration": 489,
    "start_time": "2022-01-29T12:47:46.989Z"
   },
   {
    "duration": 7,
    "start_time": "2022-01-29T12:48:09.456Z"
   },
   {
    "duration": 2300,
    "start_time": "2022-01-29T12:48:10.066Z"
   },
   {
    "duration": 40,
    "start_time": "2022-01-29T12:51:56.341Z"
   },
   {
    "duration": 4,
    "start_time": "2022-01-29T12:52:18.699Z"
   },
   {
    "duration": 319,
    "start_time": "2022-01-29T12:52:19.234Z"
   },
   {
    "duration": 722,
    "start_time": "2022-01-29T12:53:39.182Z"
   },
   {
    "duration": 44,
    "start_time": "2022-01-29T12:57:48.181Z"
   },
   {
    "duration": 47,
    "start_time": "2022-01-29T12:57:50.692Z"
   },
   {
    "duration": 4,
    "start_time": "2022-01-29T13:02:08.558Z"
   },
   {
    "duration": 309,
    "start_time": "2022-01-29T13:02:08.838Z"
   },
   {
    "duration": 379,
    "start_time": "2022-01-29T13:07:14.946Z"
   },
   {
    "duration": 1713,
    "start_time": "2022-01-29T13:13:12.412Z"
   },
   {
    "duration": 6,
    "start_time": "2022-01-29T13:16:57.308Z"
   },
   {
    "duration": 6,
    "start_time": "2022-01-29T13:17:09.339Z"
   },
   {
    "duration": 69,
    "start_time": "2022-01-29T13:29:12.416Z"
   },
   {
    "duration": 47,
    "start_time": "2022-01-29T13:29:12.488Z"
   },
   {
    "duration": 26,
    "start_time": "2022-01-29T13:29:12.539Z"
   },
   {
    "duration": 62,
    "start_time": "2022-01-29T13:29:12.568Z"
   },
   {
    "duration": 24,
    "start_time": "2022-01-29T13:29:12.632Z"
   },
   {
    "duration": 5,
    "start_time": "2022-01-29T13:29:12.658Z"
   },
   {
    "duration": 84,
    "start_time": "2022-01-29T13:29:12.665Z"
   },
   {
    "duration": 93,
    "start_time": "2022-01-29T13:29:12.753Z"
   },
   {
    "duration": 12,
    "start_time": "2022-01-29T13:29:12.849Z"
   },
   {
    "duration": 6,
    "start_time": "2022-01-29T13:29:12.863Z"
   },
   {
    "duration": 51,
    "start_time": "2022-01-29T13:29:12.872Z"
   },
   {
    "duration": 16,
    "start_time": "2022-01-29T13:29:12.926Z"
   },
   {
    "duration": 23,
    "start_time": "2022-01-29T13:29:12.944Z"
   },
   {
    "duration": 106,
    "start_time": "2022-01-29T13:29:12.970Z"
   },
   {
    "duration": 60,
    "start_time": "2022-01-29T13:29:13.080Z"
   },
   {
    "duration": 30,
    "start_time": "2022-01-29T13:29:13.143Z"
   },
   {
    "duration": 61,
    "start_time": "2022-01-29T13:29:13.176Z"
   },
   {
    "duration": 15,
    "start_time": "2022-01-29T13:29:13.241Z"
   },
   {
    "duration": 4904,
    "start_time": "2022-01-29T13:29:13.259Z"
   },
   {
    "duration": 15,
    "start_time": "2022-01-29T13:29:18.167Z"
   },
   {
    "duration": 7,
    "start_time": "2022-01-29T13:29:18.185Z"
   },
   {
    "duration": 24,
    "start_time": "2022-01-29T13:29:18.225Z"
   },
   {
    "duration": 8,
    "start_time": "2022-01-29T13:29:18.258Z"
   },
   {
    "duration": 9,
    "start_time": "2022-01-29T13:29:18.270Z"
   },
   {
    "duration": 5,
    "start_time": "2022-01-29T13:29:18.324Z"
   },
   {
    "duration": 26,
    "start_time": "2022-01-29T13:29:18.332Z"
   },
   {
    "duration": 6,
    "start_time": "2022-01-29T13:29:18.361Z"
   },
   {
    "duration": 7,
    "start_time": "2022-01-29T13:29:18.370Z"
   },
   {
    "duration": 62032,
    "start_time": "2022-01-29T13:29:18.381Z"
   },
   {
    "duration": 24,
    "start_time": "2022-01-29T13:30:20.415Z"
   },
   {
    "duration": 11,
    "start_time": "2022-01-29T13:30:20.441Z"
   },
   {
    "duration": 25,
    "start_time": "2022-01-29T13:30:20.454Z"
   },
   {
    "duration": 57,
    "start_time": "2022-01-29T13:30:20.482Z"
   },
   {
    "duration": 11,
    "start_time": "2022-01-29T13:30:20.541Z"
   },
   {
    "duration": 10,
    "start_time": "2022-01-29T13:30:20.555Z"
   },
   {
    "duration": 8,
    "start_time": "2022-01-29T13:30:20.568Z"
   },
   {
    "duration": 47,
    "start_time": "2022-01-29T13:30:20.579Z"
   },
   {
    "duration": 8,
    "start_time": "2022-01-29T13:30:20.628Z"
   },
   {
    "duration": 43,
    "start_time": "2022-01-29T13:30:20.638Z"
   },
   {
    "duration": 43,
    "start_time": "2022-01-29T13:30:20.723Z"
   },
   {
    "duration": 6,
    "start_time": "2022-01-29T13:30:20.769Z"
   },
   {
    "duration": 9,
    "start_time": "2022-01-29T13:30:20.778Z"
   },
   {
    "duration": 578,
    "start_time": "2022-01-29T13:30:20.790Z"
   },
   {
    "duration": 7,
    "start_time": "2022-01-29T13:30:21.371Z"
   },
   {
    "duration": 1770,
    "start_time": "2022-01-29T13:30:21.380Z"
   },
   {
    "duration": 44,
    "start_time": "2022-01-29T13:30:23.153Z"
   },
   {
    "duration": 5,
    "start_time": "2022-01-29T13:30:23.225Z"
   },
   {
    "duration": 512,
    "start_time": "2022-01-29T13:30:23.233Z"
   },
   {
    "duration": 1243,
    "start_time": "2022-01-29T13:30:23.748Z"
   },
   {
    "duration": 54,
    "start_time": "2022-01-29T13:30:24.993Z"
   },
   {
    "duration": 4,
    "start_time": "2022-01-29T13:30:25.050Z"
   },
   {
    "duration": 369,
    "start_time": "2022-01-29T13:30:25.056Z"
   },
   {
    "duration": 752,
    "start_time": "2022-01-29T13:30:25.427Z"
   },
   {
    "duration": 66,
    "start_time": "2022-01-29T13:30:26.182Z"
   },
   {
    "duration": 3,
    "start_time": "2022-01-29T13:30:26.251Z"
   },
   {
    "duration": 270,
    "start_time": "2022-01-29T13:30:26.256Z"
   },
   {
    "duration": 397,
    "start_time": "2022-01-29T13:30:26.528Z"
   },
   {
    "duration": 9,
    "start_time": "2022-01-29T14:08:53.164Z"
   },
   {
    "duration": 95,
    "start_time": "2022-01-29T14:19:23.504Z"
   },
   {
    "duration": 407,
    "start_time": "2022-01-29T14:21:12.097Z"
   },
   {
    "duration": 10,
    "start_time": "2022-01-29T14:21:17.474Z"
   },
   {
    "duration": 12,
    "start_time": "2022-01-29T14:29:57.869Z"
   },
   {
    "duration": 73,
    "start_time": "2022-01-29T14:30:28.381Z"
   },
   {
    "duration": 21,
    "start_time": "2022-01-29T14:30:28.457Z"
   },
   {
    "duration": 60,
    "start_time": "2022-01-29T14:30:28.483Z"
   },
   {
    "duration": 17,
    "start_time": "2022-01-29T14:30:28.547Z"
   },
   {
    "duration": 74,
    "start_time": "2022-01-29T14:30:28.567Z"
   },
   {
    "duration": 5,
    "start_time": "2022-01-29T14:30:28.644Z"
   },
   {
    "duration": 35,
    "start_time": "2022-01-29T14:30:28.651Z"
   },
   {
    "duration": 78,
    "start_time": "2022-01-29T14:30:28.724Z"
   },
   {
    "duration": 25,
    "start_time": "2022-01-29T14:30:28.806Z"
   },
   {
    "duration": 7,
    "start_time": "2022-01-29T14:30:28.836Z"
   },
   {
    "duration": 23,
    "start_time": "2022-01-29T14:30:28.846Z"
   },
   {
    "duration": 65,
    "start_time": "2022-01-29T14:30:28.872Z"
   },
   {
    "duration": 29,
    "start_time": "2022-01-29T14:30:28.940Z"
   },
   {
    "duration": 151,
    "start_time": "2022-01-29T14:30:28.972Z"
   },
   {
    "duration": 49,
    "start_time": "2022-01-29T14:30:29.126Z"
   },
   {
    "duration": 50,
    "start_time": "2022-01-29T14:30:29.178Z"
   },
   {
    "duration": 21,
    "start_time": "2022-01-29T14:30:29.231Z"
   },
   {
    "duration": 13,
    "start_time": "2022-01-29T14:30:29.255Z"
   },
   {
    "duration": 5456,
    "start_time": "2022-01-29T14:30:29.271Z"
   },
   {
    "duration": 11,
    "start_time": "2022-01-29T14:30:34.729Z"
   },
   {
    "duration": 9,
    "start_time": "2022-01-29T14:30:34.742Z"
   },
   {
    "duration": 788,
    "start_time": "2022-01-29T14:30:34.753Z"
   },
   {
    "duration": 8,
    "start_time": "2022-01-29T14:30:35.544Z"
   },
   {
    "duration": 20,
    "start_time": "2022-01-29T14:30:35.554Z"
   },
   {
    "duration": 5,
    "start_time": "2022-01-29T14:30:35.577Z"
   },
   {
    "duration": 39,
    "start_time": "2022-01-29T14:30:35.585Z"
   },
   {
    "duration": 5,
    "start_time": "2022-01-29T14:30:35.629Z"
   },
   {
    "duration": 702,
    "start_time": "2022-01-29T14:30:35.638Z"
   },
   {
    "duration": 11,
    "start_time": "2022-01-29T14:30:36.343Z"
   },
   {
    "duration": 4,
    "start_time": "2022-01-29T14:30:36.357Z"
   },
   {
    "duration": 405,
    "start_time": "2022-01-29T14:30:36.364Z"
   },
   {
    "duration": 5,
    "start_time": "2022-01-29T14:30:36.772Z"
   },
   {
    "duration": 64550,
    "start_time": "2022-01-29T14:30:36.779Z"
   },
   {
    "duration": 11,
    "start_time": "2022-01-29T14:31:41.332Z"
   },
   {
    "duration": 39,
    "start_time": "2022-01-29T14:31:41.346Z"
   },
   {
    "duration": 44,
    "start_time": "2022-01-29T14:31:41.389Z"
   },
   {
    "duration": 12,
    "start_time": "2022-01-29T14:31:41.436Z"
   },
   {
    "duration": 19,
    "start_time": "2022-01-29T14:33:43.566Z"
   },
   {
    "duration": 14,
    "start_time": "2022-01-29T14:33:47.529Z"
   },
   {
    "duration": 10,
    "start_time": "2022-01-29T14:34:33.750Z"
   },
   {
    "duration": 11,
    "start_time": "2022-01-29T14:34:58.892Z"
   },
   {
    "duration": 19,
    "start_time": "2022-01-29T14:36:46.560Z"
   },
   {
    "duration": 1398,
    "start_time": "2022-01-29T14:38:32.201Z"
   },
   {
    "duration": 279,
    "start_time": "2022-01-29T14:38:57.990Z"
   },
   {
    "duration": 8,
    "start_time": "2022-01-29T16:03:55.468Z"
   },
   {
    "duration": 11,
    "start_time": "2022-01-29T16:05:05.235Z"
   },
   {
    "duration": 48,
    "start_time": "2022-01-29T16:11:57.399Z"
   },
   {
    "duration": 18,
    "start_time": "2022-01-29T16:14:05.772Z"
   },
   {
    "duration": 5,
    "start_time": "2022-01-29T18:27:15.484Z"
   },
   {
    "duration": 77,
    "start_time": "2022-01-29T18:27:41.744Z"
   },
   {
    "duration": 75,
    "start_time": "2022-01-29T18:31:24.058Z"
   },
   {
    "duration": 23,
    "start_time": "2022-01-29T18:31:24.137Z"
   },
   {
    "duration": 20,
    "start_time": "2022-01-29T18:31:24.163Z"
   },
   {
    "duration": 13,
    "start_time": "2022-01-29T18:31:24.245Z"
   },
   {
    "duration": 26,
    "start_time": "2022-01-29T18:31:24.268Z"
   },
   {
    "duration": 6,
    "start_time": "2022-01-29T18:31:24.296Z"
   },
   {
    "duration": 33,
    "start_time": "2022-01-29T18:31:24.326Z"
   },
   {
    "duration": 110,
    "start_time": "2022-01-29T18:31:24.361Z"
   },
   {
    "duration": 13,
    "start_time": "2022-01-29T18:31:24.474Z"
   },
   {
    "duration": 7,
    "start_time": "2022-01-29T18:31:24.490Z"
   },
   {
    "duration": 16,
    "start_time": "2022-01-29T18:31:24.524Z"
   },
   {
    "duration": 14,
    "start_time": "2022-01-29T18:31:24.543Z"
   },
   {
    "duration": 68,
    "start_time": "2022-01-29T18:31:24.561Z"
   },
   {
    "duration": 92,
    "start_time": "2022-01-29T18:31:24.632Z"
   },
   {
    "duration": 36,
    "start_time": "2022-01-29T18:31:24.726Z"
   },
   {
    "duration": 66,
    "start_time": "2022-01-29T18:31:24.764Z"
   },
   {
    "duration": 22,
    "start_time": "2022-01-29T18:31:24.833Z"
   },
   {
    "duration": 13,
    "start_time": "2022-01-29T18:31:24.860Z"
   },
   {
    "duration": 5688,
    "start_time": "2022-01-29T18:31:24.876Z"
   },
   {
    "duration": 11,
    "start_time": "2022-01-29T18:31:30.567Z"
   },
   {
    "duration": 43,
    "start_time": "2022-01-29T18:31:30.580Z"
   },
   {
    "duration": 777,
    "start_time": "2022-01-29T18:31:30.626Z"
   },
   {
    "duration": 8,
    "start_time": "2022-01-29T18:31:31.405Z"
   },
   {
    "duration": 12,
    "start_time": "2022-01-29T18:31:31.424Z"
   },
   {
    "duration": 6,
    "start_time": "2022-01-29T18:31:31.439Z"
   },
   {
    "duration": 12,
    "start_time": "2022-01-29T18:31:31.448Z"
   },
   {
    "duration": 5,
    "start_time": "2022-01-29T18:31:31.463Z"
   },
   {
    "duration": 462,
    "start_time": "2022-01-29T18:31:31.522Z"
   },
   {
    "duration": 9,
    "start_time": "2022-01-29T18:31:31.987Z"
   },
   {
    "duration": 24,
    "start_time": "2022-01-29T18:31:31.999Z"
   },
   {
    "duration": 387,
    "start_time": "2022-01-29T18:31:32.025Z"
   },
   {
    "duration": 298,
    "start_time": "2022-01-29T18:31:32.414Z"
   },
   {
    "duration": 10,
    "start_time": "2022-01-29T18:31:32.714Z"
   },
   {
    "duration": 64272,
    "start_time": "2022-01-29T18:31:32.727Z"
   },
   {
    "duration": 21,
    "start_time": "2022-01-29T18:32:37.002Z"
   },
   {
    "duration": 28,
    "start_time": "2022-01-29T18:32:37.026Z"
   },
   {
    "duration": 10,
    "start_time": "2022-01-29T18:32:37.056Z"
   },
   {
    "duration": 54,
    "start_time": "2022-01-29T18:32:37.069Z"
   },
   {
    "duration": 20,
    "start_time": "2022-01-29T18:32:37.126Z"
   },
   {
    "duration": 8,
    "start_time": "2022-01-29T18:32:37.148Z"
   },
   {
    "duration": 5,
    "start_time": "2022-01-29T18:32:37.158Z"
   },
   {
    "duration": 57,
    "start_time": "2022-01-29T18:32:37.166Z"
   },
   {
    "duration": 52,
    "start_time": "2022-01-29T18:32:37.226Z"
   },
   {
    "duration": 6,
    "start_time": "2022-01-29T18:32:37.281Z"
   },
   {
    "duration": 6,
    "start_time": "2022-01-29T18:32:37.290Z"
   },
   {
    "duration": 565,
    "start_time": "2022-01-29T18:32:37.324Z"
   },
   {
    "duration": 7,
    "start_time": "2022-01-29T18:32:37.892Z"
   },
   {
    "duration": 1871,
    "start_time": "2022-01-29T18:32:37.922Z"
   },
   {
    "duration": 66,
    "start_time": "2022-01-29T18:32:39.797Z"
   },
   {
    "duration": 4,
    "start_time": "2022-01-29T18:32:39.866Z"
   },
   {
    "duration": 703,
    "start_time": "2022-01-29T18:32:39.873Z"
   },
   {
    "duration": 1452,
    "start_time": "2022-01-29T18:32:40.579Z"
   },
   {
    "duration": 59,
    "start_time": "2022-01-29T18:32:42.034Z"
   },
   {
    "duration": 29,
    "start_time": "2022-01-29T18:32:42.096Z"
   },
   {
    "duration": 505,
    "start_time": "2022-01-29T18:32:42.128Z"
   },
   {
    "duration": 921,
    "start_time": "2022-01-29T18:32:42.636Z"
   },
   {
    "duration": 65,
    "start_time": "2022-01-29T18:32:43.560Z"
   },
   {
    "duration": 4,
    "start_time": "2022-01-29T18:32:43.628Z"
   },
   {
    "duration": 409,
    "start_time": "2022-01-29T18:32:43.641Z"
   },
   {
    "duration": 510,
    "start_time": "2022-01-29T18:32:44.054Z"
   },
   {
    "duration": 623,
    "start_time": "2022-01-29T19:51:42.785Z"
   },
   {
    "duration": 77,
    "start_time": "2022-01-29T19:51:57.682Z"
   },
   {
    "duration": 75,
    "start_time": "2022-01-29T19:56:08.283Z"
   },
   {
    "duration": 19,
    "start_time": "2022-01-29T19:56:08.361Z"
   },
   {
    "duration": 51,
    "start_time": "2022-01-29T19:56:08.384Z"
   },
   {
    "duration": 14,
    "start_time": "2022-01-29T19:56:08.439Z"
   },
   {
    "duration": 69,
    "start_time": "2022-01-29T19:56:08.456Z"
   },
   {
    "duration": 6,
    "start_time": "2022-01-29T19:56:08.527Z"
   },
   {
    "duration": 44,
    "start_time": "2022-01-29T19:56:08.536Z"
   },
   {
    "duration": 117,
    "start_time": "2022-01-29T19:56:08.584Z"
   },
   {
    "duration": 13,
    "start_time": "2022-01-29T19:56:08.725Z"
   },
   {
    "duration": 9,
    "start_time": "2022-01-29T19:56:08.740Z"
   },
   {
    "duration": 17,
    "start_time": "2022-01-29T19:56:08.752Z"
   },
   {
    "duration": 60,
    "start_time": "2022-01-29T19:56:08.771Z"
   },
   {
    "duration": 21,
    "start_time": "2022-01-29T19:56:08.833Z"
   },
   {
    "duration": 110,
    "start_time": "2022-01-29T19:56:08.856Z"
   },
   {
    "duration": 32,
    "start_time": "2022-01-29T19:56:08.968Z"
   },
   {
    "duration": 42,
    "start_time": "2022-01-29T19:56:09.002Z"
   },
   {
    "duration": 21,
    "start_time": "2022-01-29T19:56:09.047Z"
   },
   {
    "duration": 14,
    "start_time": "2022-01-29T19:56:09.071Z"
   },
   {
    "duration": 5517,
    "start_time": "2022-01-29T19:56:09.087Z"
   },
   {
    "duration": 22,
    "start_time": "2022-01-29T19:56:14.607Z"
   },
   {
    "duration": 6,
    "start_time": "2022-01-29T19:56:14.632Z"
   },
   {
    "duration": 766,
    "start_time": "2022-01-29T19:56:14.641Z"
   },
   {
    "duration": 12,
    "start_time": "2022-01-29T19:56:15.414Z"
   },
   {
    "duration": 9,
    "start_time": "2022-01-29T19:56:15.430Z"
   },
   {
    "duration": 6,
    "start_time": "2022-01-29T19:56:15.442Z"
   },
   {
    "duration": 9,
    "start_time": "2022-01-29T19:56:15.450Z"
   },
   {
    "duration": 4,
    "start_time": "2022-01-29T19:56:15.461Z"
   },
   {
    "duration": 514,
    "start_time": "2022-01-29T19:56:15.467Z"
   },
   {
    "duration": 8,
    "start_time": "2022-01-29T19:56:15.984Z"
   },
   {
    "duration": 5,
    "start_time": "2022-01-29T19:56:15.994Z"
   },
   {
    "duration": 401,
    "start_time": "2022-01-29T19:56:16.001Z"
   },
   {
    "duration": 402,
    "start_time": "2022-01-29T19:56:16.405Z"
   },
   {
    "duration": 13,
    "start_time": "2022-01-29T19:56:16.810Z"
   },
   {
    "duration": 64455,
    "start_time": "2022-01-29T19:56:16.826Z"
   },
   {
    "duration": 11,
    "start_time": "2022-01-29T19:57:21.283Z"
   },
   {
    "duration": 45,
    "start_time": "2022-01-29T19:57:21.296Z"
   },
   {
    "duration": 11,
    "start_time": "2022-01-29T19:57:21.344Z"
   },
   {
    "duration": 13,
    "start_time": "2022-01-29T19:57:21.358Z"
   },
   {
    "duration": 51,
    "start_time": "2022-01-29T19:57:21.374Z"
   },
   {
    "duration": 8,
    "start_time": "2022-01-29T19:57:21.427Z"
   },
   {
    "duration": 19,
    "start_time": "2022-01-29T19:57:21.438Z"
   },
   {
    "duration": 12,
    "start_time": "2022-01-29T19:57:21.460Z"
   },
   {
    "duration": 63,
    "start_time": "2022-01-29T19:57:21.475Z"
   },
   {
    "duration": 7,
    "start_time": "2022-01-29T19:57:21.540Z"
   },
   {
    "duration": 8,
    "start_time": "2022-01-29T19:57:21.549Z"
   },
   {
    "duration": 520,
    "start_time": "2022-01-29T19:57:21.559Z"
   },
   {
    "duration": 8,
    "start_time": "2022-01-29T19:57:22.082Z"
   },
   {
    "duration": 1764,
    "start_time": "2022-01-29T19:57:22.093Z"
   },
   {
    "duration": 41,
    "start_time": "2022-01-29T19:57:23.859Z"
   },
   {
    "duration": 20,
    "start_time": "2022-01-29T19:57:23.903Z"
   },
   {
    "duration": 477,
    "start_time": "2022-01-29T19:57:23.925Z"
   },
   {
    "duration": 1236,
    "start_time": "2022-01-29T19:57:24.404Z"
   },
   {
    "duration": 38,
    "start_time": "2022-01-29T19:57:25.643Z"
   },
   {
    "duration": 3,
    "start_time": "2022-01-29T19:57:25.684Z"
   },
   {
    "duration": 372,
    "start_time": "2022-01-29T19:57:25.689Z"
   },
   {
    "duration": 1041,
    "start_time": "2022-01-29T19:57:26.064Z"
   },
   {
    "duration": 51,
    "start_time": "2022-01-29T19:57:27.108Z"
   },
   {
    "duration": 3,
    "start_time": "2022-01-29T19:57:27.162Z"
   },
   {
    "duration": 300,
    "start_time": "2022-01-29T19:57:27.168Z"
   },
   {
    "duration": 381,
    "start_time": "2022-01-29T19:57:27.470Z"
   },
   {
    "duration": 1216,
    "start_time": "2022-01-30T05:35:25.650Z"
   },
   {
    "duration": 19,
    "start_time": "2022-01-30T05:35:26.869Z"
   },
   {
    "duration": 20,
    "start_time": "2022-01-30T05:35:26.890Z"
   },
   {
    "duration": 23,
    "start_time": "2022-01-30T05:35:26.912Z"
   },
   {
    "duration": 37,
    "start_time": "2022-01-30T05:35:26.937Z"
   },
   {
    "duration": 4,
    "start_time": "2022-01-30T05:35:26.976Z"
   },
   {
    "duration": 30,
    "start_time": "2022-01-30T05:35:26.982Z"
   },
   {
    "duration": 80,
    "start_time": "2022-01-30T05:35:27.015Z"
   },
   {
    "duration": 8,
    "start_time": "2022-01-30T05:35:27.097Z"
   },
   {
    "duration": 5,
    "start_time": "2022-01-30T05:35:27.107Z"
   },
   {
    "duration": 12,
    "start_time": "2022-01-30T05:35:27.114Z"
   },
   {
    "duration": 12,
    "start_time": "2022-01-30T05:35:27.127Z"
   },
   {
    "duration": 15,
    "start_time": "2022-01-30T05:35:27.159Z"
   },
   {
    "duration": 47,
    "start_time": "2022-01-30T05:35:27.175Z"
   },
   {
    "duration": 44,
    "start_time": "2022-01-30T05:35:27.224Z"
   },
   {
    "duration": 21,
    "start_time": "2022-01-30T05:35:27.269Z"
   },
   {
    "duration": 16,
    "start_time": "2022-01-30T05:35:27.292Z"
   },
   {
    "duration": 10,
    "start_time": "2022-01-30T05:35:27.309Z"
   },
   {
    "duration": 3340,
    "start_time": "2022-01-30T05:35:27.321Z"
   },
   {
    "duration": 7,
    "start_time": "2022-01-30T05:35:30.663Z"
   },
   {
    "duration": 9,
    "start_time": "2022-01-30T05:35:30.672Z"
   },
   {
    "duration": 451,
    "start_time": "2022-01-30T05:35:30.683Z"
   },
   {
    "duration": 6,
    "start_time": "2022-01-30T05:35:31.138Z"
   },
   {
    "duration": 16,
    "start_time": "2022-01-30T05:35:31.147Z"
   },
   {
    "duration": 15,
    "start_time": "2022-01-30T05:35:31.165Z"
   },
   {
    "duration": 14,
    "start_time": "2022-01-30T05:35:31.182Z"
   },
   {
    "duration": 11,
    "start_time": "2022-01-30T05:35:31.197Z"
   },
   {
    "duration": 275,
    "start_time": "2022-01-30T05:35:31.210Z"
   },
   {
    "duration": 6,
    "start_time": "2022-01-30T05:35:31.487Z"
   },
   {
    "duration": 6,
    "start_time": "2022-01-30T05:35:31.495Z"
   },
   {
    "duration": 228,
    "start_time": "2022-01-30T05:35:31.503Z"
   },
   {
    "duration": 206,
    "start_time": "2022-01-30T05:35:31.733Z"
   },
   {
    "duration": 4,
    "start_time": "2022-01-30T05:35:31.940Z"
   },
   {
    "duration": 39671,
    "start_time": "2022-01-30T05:35:31.945Z"
   },
   {
    "duration": 8,
    "start_time": "2022-01-30T05:36:11.617Z"
   },
   {
    "duration": 21,
    "start_time": "2022-01-30T05:36:11.627Z"
   },
   {
    "duration": 9,
    "start_time": "2022-01-30T05:36:11.659Z"
   },
   {
    "duration": 12,
    "start_time": "2022-01-30T05:36:11.670Z"
   },
   {
    "duration": 13,
    "start_time": "2022-01-30T05:36:11.684Z"
   },
   {
    "duration": 8,
    "start_time": "2022-01-30T05:36:11.698Z"
   },
   {
    "duration": 4,
    "start_time": "2022-01-30T05:36:11.708Z"
   },
   {
    "duration": 5,
    "start_time": "2022-01-30T05:36:11.713Z"
   },
   {
    "duration": 64,
    "start_time": "2022-01-30T05:36:11.720Z"
   },
   {
    "duration": 4,
    "start_time": "2022-01-30T05:36:11.786Z"
   },
   {
    "duration": 9,
    "start_time": "2022-01-30T05:36:11.792Z"
   },
   {
    "duration": 345,
    "start_time": "2022-01-30T05:36:11.803Z"
   },
   {
    "duration": 5,
    "start_time": "2022-01-30T05:36:12.159Z"
   },
   {
    "duration": 1070,
    "start_time": "2022-01-30T05:36:12.166Z"
   },
   {
    "duration": 36,
    "start_time": "2022-01-30T05:36:13.237Z"
   },
   {
    "duration": 2,
    "start_time": "2022-01-30T05:36:13.275Z"
   },
   {
    "duration": 306,
    "start_time": "2022-01-30T05:36:13.279Z"
   },
   {
    "duration": 747,
    "start_time": "2022-01-30T05:36:13.587Z"
   },
   {
    "duration": 43,
    "start_time": "2022-01-30T05:36:14.336Z"
   },
   {
    "duration": 3,
    "start_time": "2022-01-30T05:36:14.380Z"
   },
   {
    "duration": 210,
    "start_time": "2022-01-30T05:36:14.384Z"
   },
   {
    "duration": 473,
    "start_time": "2022-01-30T05:36:14.596Z"
   },
   {
    "duration": 29,
    "start_time": "2022-01-30T05:36:15.071Z"
   },
   {
    "duration": 2,
    "start_time": "2022-01-30T05:36:15.102Z"
   },
   {
    "duration": 180,
    "start_time": "2022-01-30T05:36:15.106Z"
   },
   {
    "duration": 246,
    "start_time": "2022-01-30T05:36:15.287Z"
   },
   {
    "duration": 326,
    "start_time": "2022-01-30T06:21:38.594Z"
   },
   {
    "duration": 12,
    "start_time": "2022-01-30T06:46:22.047Z"
   },
   {
    "duration": 14,
    "start_time": "2022-01-30T06:54:11.122Z"
   },
   {
    "duration": 299,
    "start_time": "2022-01-30T09:00:22.927Z"
   },
   {
    "duration": 190,
    "start_time": "2022-01-30T09:00:26.194Z"
   },
   {
    "duration": 61,
    "start_time": "2022-01-30T09:00:39.287Z"
   },
   {
    "duration": 12,
    "start_time": "2022-01-30T09:00:39.350Z"
   },
   {
    "duration": 17,
    "start_time": "2022-01-30T09:00:39.364Z"
   },
   {
    "duration": 9,
    "start_time": "2022-01-30T09:00:39.382Z"
   },
   {
    "duration": 20,
    "start_time": "2022-01-30T09:00:39.393Z"
   },
   {
    "duration": 3,
    "start_time": "2022-01-30T09:00:39.415Z"
   },
   {
    "duration": 54,
    "start_time": "2022-01-30T09:00:39.419Z"
   },
   {
    "duration": 55,
    "start_time": "2022-01-30T09:00:39.475Z"
   },
   {
    "duration": 9,
    "start_time": "2022-01-30T09:00:39.532Z"
   },
   {
    "duration": 22,
    "start_time": "2022-01-30T09:00:39.542Z"
   },
   {
    "duration": 4,
    "start_time": "2022-01-30T09:00:52.363Z"
   },
   {
    "duration": 11,
    "start_time": "2022-01-30T09:00:52.943Z"
   },
   {
    "duration": 205,
    "start_time": "2022-01-30T11:02:23.899Z"
   },
   {
    "duration": 203,
    "start_time": "2022-01-30T11:02:35.863Z"
   },
   {
    "duration": 189,
    "start_time": "2022-01-30T11:02:38.679Z"
   },
   {
    "duration": 62,
    "start_time": "2022-01-30T11:02:51.397Z"
   },
   {
    "duration": 4476,
    "start_time": "2022-01-30T11:03:25.087Z"
   },
   {
    "duration": 670,
    "start_time": "2022-01-30T11:04:03.926Z"
   },
   {
    "duration": 4978,
    "start_time": "2022-01-30T11:04:50.132Z"
   },
   {
    "duration": 179,
    "start_time": "2022-01-30T11:05:12.080Z"
   },
   {
    "duration": 176,
    "start_time": "2022-01-30T11:05:23.273Z"
   },
   {
    "duration": 316,
    "start_time": "2022-01-30T11:06:14.826Z"
   },
   {
    "duration": 202,
    "start_time": "2022-01-30T11:07:06.299Z"
   },
   {
    "duration": 645,
    "start_time": "2022-01-30T11:07:48.624Z"
   },
   {
    "duration": 198,
    "start_time": "2022-01-30T11:08:01.930Z"
   },
   {
    "duration": 62,
    "start_time": "2022-01-30T11:08:04.714Z"
   },
   {
    "duration": 196,
    "start_time": "2022-01-30T11:08:07.621Z"
   },
   {
    "duration": 229,
    "start_time": "2022-01-30T11:08:30.516Z"
   },
   {
    "duration": 227,
    "start_time": "2022-01-30T11:09:28.705Z"
   },
   {
    "duration": 221,
    "start_time": "2022-01-30T11:09:43.157Z"
   },
   {
    "duration": 201,
    "start_time": "2022-01-30T11:10:11.786Z"
   },
   {
    "duration": 208,
    "start_time": "2022-01-30T11:10:30.920Z"
   },
   {
    "duration": 340,
    "start_time": "2022-01-30T11:11:16.565Z"
   },
   {
    "duration": 2499,
    "start_time": "2022-01-30T11:11:28.387Z"
   },
   {
    "duration": 623,
    "start_time": "2022-01-30T11:11:38.953Z"
   },
   {
    "duration": 378,
    "start_time": "2022-01-30T11:14:03.625Z"
   },
   {
    "duration": 453,
    "start_time": "2022-01-30T11:14:13.049Z"
   },
   {
    "duration": 192,
    "start_time": "2022-01-30T11:16:32.429Z"
   },
   {
    "duration": 61,
    "start_time": "2022-01-30T11:16:59.526Z"
   },
   {
    "duration": 121,
    "start_time": "2022-01-30T11:17:05.110Z"
   },
   {
    "duration": 59,
    "start_time": "2022-01-30T11:17:32.308Z"
   },
   {
    "duration": 17,
    "start_time": "2022-01-30T11:21:45.087Z"
   },
   {
    "duration": 5,
    "start_time": "2022-01-30T11:23:06.333Z"
   },
   {
    "duration": 26,
    "start_time": "2022-01-30T11:24:06.968Z"
   },
   {
    "duration": 23,
    "start_time": "2022-01-30T11:24:17.524Z"
   },
   {
    "duration": 24,
    "start_time": "2022-01-30T11:24:21.513Z"
   },
   {
    "duration": 26,
    "start_time": "2022-01-30T11:24:36.163Z"
   },
   {
    "duration": 31,
    "start_time": "2022-01-30T11:24:52.860Z"
   },
   {
    "duration": 497,
    "start_time": "2022-01-30T11:25:06.048Z"
   },
   {
    "duration": 488,
    "start_time": "2022-01-30T11:25:10.333Z"
   },
   {
    "duration": 24,
    "start_time": "2022-01-30T11:25:19.642Z"
   },
   {
    "duration": 61,
    "start_time": "2022-01-30T11:32:15.741Z"
   },
   {
    "duration": 24,
    "start_time": "2022-01-30T11:32:21.019Z"
   },
   {
    "duration": 4,
    "start_time": "2022-01-30T11:36:08.278Z"
   },
   {
    "duration": 60,
    "start_time": "2022-01-30T11:36:16.966Z"
   },
   {
    "duration": 12,
    "start_time": "2022-01-30T11:36:17.028Z"
   },
   {
    "duration": 20,
    "start_time": "2022-01-30T11:36:17.042Z"
   },
   {
    "duration": 10,
    "start_time": "2022-01-30T11:36:17.064Z"
   },
   {
    "duration": 15,
    "start_time": "2022-01-30T11:36:17.075Z"
   },
   {
    "duration": 4,
    "start_time": "2022-01-30T11:36:17.092Z"
   },
   {
    "duration": 26,
    "start_time": "2022-01-30T11:36:17.098Z"
   },
   {
    "duration": 82,
    "start_time": "2022-01-30T11:36:17.127Z"
   },
   {
    "duration": 9,
    "start_time": "2022-01-30T11:36:17.211Z"
   },
   {
    "duration": 4,
    "start_time": "2022-01-30T11:36:17.222Z"
   },
   {
    "duration": 33,
    "start_time": "2022-01-30T11:36:17.227Z"
   },
   {
    "duration": 6,
    "start_time": "2022-01-30T11:36:25.466Z"
   },
   {
    "duration": 10,
    "start_time": "2022-01-30T11:36:26.475Z"
   },
   {
    "duration": 16,
    "start_time": "2022-01-30T11:38:09.412Z"
   },
   {
    "duration": 14,
    "start_time": "2022-01-30T11:38:12.077Z"
   },
   {
    "duration": 14,
    "start_time": "2022-01-30T11:40:36.701Z"
   },
   {
    "duration": 12,
    "start_time": "2022-01-30T11:41:52.342Z"
   },
   {
    "duration": 5553,
    "start_time": "2022-01-30T11:46:32.243Z"
   },
   {
    "duration": 55,
    "start_time": "2022-01-30T11:46:48.239Z"
   },
   {
    "duration": 11,
    "start_time": "2022-01-30T11:46:48.296Z"
   },
   {
    "duration": 14,
    "start_time": "2022-01-30T11:46:48.310Z"
   },
   {
    "duration": 9,
    "start_time": "2022-01-30T11:46:48.327Z"
   },
   {
    "duration": 17,
    "start_time": "2022-01-30T11:46:48.359Z"
   },
   {
    "duration": 5,
    "start_time": "2022-01-30T11:46:48.377Z"
   },
   {
    "duration": 24,
    "start_time": "2022-01-30T11:46:48.384Z"
   },
   {
    "duration": 90,
    "start_time": "2022-01-30T11:46:48.411Z"
   },
   {
    "duration": 10,
    "start_time": "2022-01-30T11:46:48.503Z"
   },
   {
    "duration": 5,
    "start_time": "2022-01-30T11:46:48.515Z"
   },
   {
    "duration": 13,
    "start_time": "2022-01-30T11:46:48.522Z"
   },
   {
    "duration": 32,
    "start_time": "2022-01-30T11:46:48.537Z"
   },
   {
    "duration": 15,
    "start_time": "2022-01-30T11:46:48.570Z"
   },
   {
    "duration": 47,
    "start_time": "2022-01-30T11:46:48.586Z"
   },
   {
    "duration": 24,
    "start_time": "2022-01-30T11:46:48.659Z"
   },
   {
    "duration": 21,
    "start_time": "2022-01-30T11:46:48.685Z"
   },
   {
    "duration": 17,
    "start_time": "2022-01-30T11:46:48.708Z"
   },
   {
    "duration": 40,
    "start_time": "2022-01-30T11:46:48.727Z"
   },
   {
    "duration": 3399,
    "start_time": "2022-01-30T11:46:48.769Z"
   },
   {
    "duration": 7,
    "start_time": "2022-01-30T11:46:52.171Z"
   },
   {
    "duration": 6,
    "start_time": "2022-01-30T11:46:52.179Z"
   },
   {
    "duration": 448,
    "start_time": "2022-01-30T11:46:52.187Z"
   },
   {
    "duration": 6,
    "start_time": "2022-01-30T11:46:52.637Z"
   },
   {
    "duration": 10,
    "start_time": "2022-01-30T11:54:11.713Z"
   },
   {
    "duration": 8,
    "start_time": "2022-01-30T11:54:22.470Z"
   },
   {
    "duration": 11,
    "start_time": "2022-01-30T12:00:41.692Z"
   },
   {
    "duration": 57,
    "start_time": "2022-01-30T12:00:57.295Z"
   },
   {
    "duration": 11,
    "start_time": "2022-01-30T12:00:57.354Z"
   },
   {
    "duration": 14,
    "start_time": "2022-01-30T12:00:57.367Z"
   },
   {
    "duration": 9,
    "start_time": "2022-01-30T12:00:57.383Z"
   },
   {
    "duration": 16,
    "start_time": "2022-01-30T12:00:57.394Z"
   },
   {
    "duration": 5,
    "start_time": "2022-01-30T12:00:57.411Z"
   },
   {
    "duration": 59,
    "start_time": "2022-01-30T12:00:57.418Z"
   },
   {
    "duration": 78,
    "start_time": "2022-01-30T12:00:57.481Z"
   },
   {
    "duration": 11,
    "start_time": "2022-01-30T12:00:57.562Z"
   },
   {
    "duration": 4,
    "start_time": "2022-01-30T12:00:57.575Z"
   },
   {
    "duration": 14,
    "start_time": "2022-01-30T12:00:57.581Z"
   },
   {
    "duration": 28,
    "start_time": "2022-01-30T12:00:57.597Z"
   },
   {
    "duration": 14,
    "start_time": "2022-01-30T12:00:57.627Z"
   },
   {
    "duration": 58,
    "start_time": "2022-01-30T12:00:57.643Z"
   },
   {
    "duration": 25,
    "start_time": "2022-01-30T12:00:57.703Z"
   },
   {
    "duration": 44,
    "start_time": "2022-01-30T12:00:57.729Z"
   },
   {
    "duration": 18,
    "start_time": "2022-01-30T12:00:57.775Z"
   },
   {
    "duration": 12,
    "start_time": "2022-01-30T12:00:57.794Z"
   },
   {
    "duration": 3500,
    "start_time": "2022-01-30T12:00:57.807Z"
   },
   {
    "duration": 8,
    "start_time": "2022-01-30T12:01:01.309Z"
   },
   {
    "duration": 19,
    "start_time": "2022-01-30T12:01:01.319Z"
   },
   {
    "duration": 495,
    "start_time": "2022-01-30T12:01:01.340Z"
   },
   {
    "duration": 5,
    "start_time": "2022-01-30T12:01:01.839Z"
   },
   {
    "duration": 24,
    "start_time": "2022-01-30T12:01:01.846Z"
   },
   {
    "duration": 17,
    "start_time": "2022-01-30T12:01:01.872Z"
   },
   {
    "duration": 30,
    "start_time": "2022-01-30T12:01:01.890Z"
   },
   {
    "duration": 10,
    "start_time": "2022-01-30T12:01:01.922Z"
   },
   {
    "duration": 270,
    "start_time": "2022-01-30T12:01:01.934Z"
   },
   {
    "duration": 6,
    "start_time": "2022-01-30T12:01:02.206Z"
   },
   {
    "duration": 6,
    "start_time": "2022-01-30T12:01:02.214Z"
   },
   {
    "duration": 232,
    "start_time": "2022-01-30T12:01:02.221Z"
   },
   {
    "duration": 14,
    "start_time": "2022-01-30T12:01:02.456Z"
   },
   {
    "duration": 13,
    "start_time": "2022-01-30T12:03:23.077Z"
   },
   {
    "duration": 62,
    "start_time": "2022-01-30T12:03:37.063Z"
   },
   {
    "duration": 13,
    "start_time": "2022-01-30T12:03:37.127Z"
   },
   {
    "duration": 32,
    "start_time": "2022-01-30T12:03:37.143Z"
   },
   {
    "duration": 12,
    "start_time": "2022-01-30T12:03:37.178Z"
   },
   {
    "duration": 15,
    "start_time": "2022-01-30T12:03:37.192Z"
   },
   {
    "duration": 4,
    "start_time": "2022-01-30T12:03:37.209Z"
   },
   {
    "duration": 63,
    "start_time": "2022-01-30T12:03:37.215Z"
   },
   {
    "duration": 56,
    "start_time": "2022-01-30T12:03:37.280Z"
   },
   {
    "duration": 25,
    "start_time": "2022-01-30T12:03:37.338Z"
   },
   {
    "duration": 13,
    "start_time": "2022-01-30T12:03:37.365Z"
   },
   {
    "duration": 19,
    "start_time": "2022-01-30T12:03:37.380Z"
   },
   {
    "duration": 14,
    "start_time": "2022-01-30T12:03:37.400Z"
   },
   {
    "duration": 14,
    "start_time": "2022-01-30T12:03:37.416Z"
   },
   {
    "duration": 67,
    "start_time": "2022-01-30T12:03:37.432Z"
   },
   {
    "duration": 25,
    "start_time": "2022-01-30T12:03:37.500Z"
   },
   {
    "duration": 41,
    "start_time": "2022-01-30T12:03:37.526Z"
   },
   {
    "duration": 17,
    "start_time": "2022-01-30T12:03:37.569Z"
   },
   {
    "duration": 11,
    "start_time": "2022-01-30T12:03:37.588Z"
   },
   {
    "duration": 3428,
    "start_time": "2022-01-30T12:03:37.601Z"
   },
   {
    "duration": 7,
    "start_time": "2022-01-30T12:03:41.031Z"
   },
   {
    "duration": 3,
    "start_time": "2022-01-30T12:03:41.059Z"
   },
   {
    "duration": 448,
    "start_time": "2022-01-30T12:03:41.064Z"
   },
   {
    "duration": 6,
    "start_time": "2022-01-30T12:03:41.515Z"
   },
   {
    "duration": 11,
    "start_time": "2022-01-30T12:03:41.523Z"
   },
   {
    "duration": 5,
    "start_time": "2022-01-30T12:03:41.535Z"
   },
   {
    "duration": 20,
    "start_time": "2022-01-30T12:03:41.541Z"
   },
   {
    "duration": 4,
    "start_time": "2022-01-30T12:03:41.562Z"
   },
   {
    "duration": 281,
    "start_time": "2022-01-30T12:03:41.567Z"
   },
   {
    "duration": 10,
    "start_time": "2022-01-30T12:03:41.849Z"
   },
   {
    "duration": 2,
    "start_time": "2022-01-30T12:03:41.861Z"
   },
   {
    "duration": 243,
    "start_time": "2022-01-30T12:03:41.865Z"
   },
   {
    "duration": 12,
    "start_time": "2022-01-30T12:03:42.110Z"
   },
   {
    "duration": 5,
    "start_time": "2022-01-30T12:03:42.124Z"
   },
   {
    "duration": 40822,
    "start_time": "2022-01-30T12:03:42.130Z"
   },
   {
    "duration": 16,
    "start_time": "2022-01-30T12:04:22.954Z"
   },
   {
    "duration": 36,
    "start_time": "2022-01-30T15:56:04.176Z"
   },
   {
    "duration": 30,
    "start_time": "2022-01-30T15:56:25.688Z"
   },
   {
    "duration": 30,
    "start_time": "2022-01-30T15:59:05.522Z"
   },
   {
    "duration": 31,
    "start_time": "2022-01-30T16:02:07.048Z"
   },
   {
    "duration": 62,
    "start_time": "2022-01-30T16:02:15.023Z"
   },
   {
    "duration": 12,
    "start_time": "2022-01-30T16:02:15.087Z"
   },
   {
    "duration": 19,
    "start_time": "2022-01-30T16:02:15.102Z"
   },
   {
    "duration": 20,
    "start_time": "2022-01-30T16:02:15.123Z"
   },
   {
    "duration": 15,
    "start_time": "2022-01-30T16:02:15.160Z"
   },
   {
    "duration": 3,
    "start_time": "2022-01-30T16:02:15.177Z"
   },
   {
    "duration": 29,
    "start_time": "2022-01-30T16:02:15.182Z"
   },
   {
    "duration": 88,
    "start_time": "2022-01-30T16:02:15.214Z"
   },
   {
    "duration": 9,
    "start_time": "2022-01-30T16:02:15.305Z"
   },
   {
    "duration": 6,
    "start_time": "2022-01-30T16:02:15.315Z"
   },
   {
    "duration": 35,
    "start_time": "2022-01-30T16:02:15.323Z"
   },
   {
    "duration": 16,
    "start_time": "2022-01-30T16:02:15.361Z"
   },
   {
    "duration": 20,
    "start_time": "2022-01-30T16:02:15.380Z"
   },
   {
    "duration": 66,
    "start_time": "2022-01-30T16:02:15.402Z"
   },
   {
    "duration": 25,
    "start_time": "2022-01-30T16:02:15.470Z"
   },
   {
    "duration": 21,
    "start_time": "2022-01-30T16:02:15.496Z"
   },
   {
    "duration": 17,
    "start_time": "2022-01-30T16:02:15.519Z"
   },
   {
    "duration": 11,
    "start_time": "2022-01-30T16:02:15.559Z"
   },
   {
    "duration": 3564,
    "start_time": "2022-01-30T16:02:15.572Z"
   },
   {
    "duration": 22,
    "start_time": "2022-01-30T16:02:19.138Z"
   },
   {
    "duration": 6,
    "start_time": "2022-01-30T16:02:19.162Z"
   },
   {
    "duration": 453,
    "start_time": "2022-01-30T16:02:19.169Z"
   },
   {
    "duration": 5,
    "start_time": "2022-01-30T16:02:19.627Z"
   },
   {
    "duration": 24,
    "start_time": "2022-01-30T16:02:19.635Z"
   },
   {
    "duration": 5,
    "start_time": "2022-01-30T16:02:19.661Z"
   },
   {
    "duration": 8,
    "start_time": "2022-01-30T16:02:19.667Z"
   },
   {
    "duration": 3,
    "start_time": "2022-01-30T16:02:19.677Z"
   },
   {
    "duration": 298,
    "start_time": "2022-01-30T16:02:19.682Z"
   },
   {
    "duration": 6,
    "start_time": "2022-01-30T16:02:19.982Z"
   },
   {
    "duration": 9,
    "start_time": "2022-01-30T16:02:19.989Z"
   },
   {
    "duration": 231,
    "start_time": "2022-01-30T16:02:19.999Z"
   },
   {
    "duration": 12,
    "start_time": "2022-01-30T16:02:20.232Z"
   },
   {
    "duration": 15,
    "start_time": "2022-01-30T16:02:20.245Z"
   },
   {
    "duration": 40811,
    "start_time": "2022-01-30T16:02:20.262Z"
   },
   {
    "duration": 14,
    "start_time": "2022-01-30T16:03:01.075Z"
   },
   {
    "duration": 22,
    "start_time": "2022-01-30T16:03:01.091Z"
   },
   {
    "duration": 29,
    "start_time": "2022-01-30T16:03:01.115Z"
   },
   {
    "duration": 16,
    "start_time": "2022-01-30T16:03:01.146Z"
   },
   {
    "duration": 16,
    "start_time": "2022-01-30T16:03:01.164Z"
   },
   {
    "duration": 22,
    "start_time": "2022-01-30T16:03:01.182Z"
   },
   {
    "duration": 10,
    "start_time": "2022-01-30T16:03:01.205Z"
   },
   {
    "duration": 10,
    "start_time": "2022-01-30T16:03:01.217Z"
   },
   {
    "duration": 34,
    "start_time": "2022-01-30T16:03:01.229Z"
   },
   {
    "duration": 43,
    "start_time": "2022-01-30T16:03:01.264Z"
   },
   {
    "duration": 5,
    "start_time": "2022-01-30T16:03:01.309Z"
   },
   {
    "duration": 39,
    "start_time": "2022-01-30T16:03:01.316Z"
   },
   {
    "duration": 341,
    "start_time": "2022-01-30T16:03:01.357Z"
   },
   {
    "duration": 6,
    "start_time": "2022-01-30T16:03:01.700Z"
   },
   {
    "duration": 1164,
    "start_time": "2022-01-30T16:03:01.708Z"
   },
   {
    "duration": 61,
    "start_time": "2022-01-30T16:03:02.911Z"
   },
   {
    "duration": 111,
    "start_time": "2022-01-30T16:03:02.974Z"
   },
   {
    "duration": 31,
    "start_time": "2022-01-30T16:03:30.648Z"
   },
   {
    "duration": 29,
    "start_time": "2022-01-30T16:03:41.781Z"
   },
   {
    "duration": 59,
    "start_time": "2022-01-30T16:06:04.343Z"
   },
   {
    "duration": 12,
    "start_time": "2022-01-30T16:06:04.404Z"
   },
   {
    "duration": 17,
    "start_time": "2022-01-30T16:06:04.418Z"
   },
   {
    "duration": 9,
    "start_time": "2022-01-30T16:06:04.460Z"
   },
   {
    "duration": 17,
    "start_time": "2022-01-30T16:06:04.471Z"
   },
   {
    "duration": 4,
    "start_time": "2022-01-30T16:06:04.490Z"
   },
   {
    "duration": 30,
    "start_time": "2022-01-30T16:06:04.495Z"
   },
   {
    "duration": 58,
    "start_time": "2022-01-30T16:06:04.560Z"
   },
   {
    "duration": 10,
    "start_time": "2022-01-30T16:06:04.621Z"
   },
   {
    "duration": 28,
    "start_time": "2022-01-30T16:06:04.633Z"
   },
   {
    "duration": 11,
    "start_time": "2022-01-30T16:06:04.664Z"
   },
   {
    "duration": 15,
    "start_time": "2022-01-30T16:06:04.677Z"
   },
   {
    "duration": 15,
    "start_time": "2022-01-30T16:06:04.694Z"
   },
   {
    "duration": 81,
    "start_time": "2022-01-30T16:06:04.711Z"
   },
   {
    "duration": 24,
    "start_time": "2022-01-30T16:06:04.794Z"
   },
   {
    "duration": 39,
    "start_time": "2022-01-30T16:06:04.820Z"
   },
   {
    "duration": 17,
    "start_time": "2022-01-30T16:06:04.861Z"
   },
   {
    "duration": 11,
    "start_time": "2022-01-30T16:06:04.880Z"
   },
   {
    "duration": 3475,
    "start_time": "2022-01-30T16:06:04.893Z"
   },
   {
    "duration": 7,
    "start_time": "2022-01-30T16:06:08.369Z"
   },
   {
    "duration": 20,
    "start_time": "2022-01-30T16:06:08.378Z"
   },
   {
    "duration": 458,
    "start_time": "2022-01-30T16:06:08.400Z"
   },
   {
    "duration": 6,
    "start_time": "2022-01-30T16:06:08.860Z"
   },
   {
    "duration": 10,
    "start_time": "2022-01-30T16:06:08.867Z"
   },
   {
    "duration": 5,
    "start_time": "2022-01-30T16:06:08.879Z"
   },
   {
    "duration": 7,
    "start_time": "2022-01-30T16:06:08.885Z"
   },
   {
    "duration": 3,
    "start_time": "2022-01-30T16:06:08.896Z"
   },
   {
    "duration": 289,
    "start_time": "2022-01-30T16:06:08.901Z"
   },
   {
    "duration": 6,
    "start_time": "2022-01-30T16:06:09.191Z"
   },
   {
    "duration": 5,
    "start_time": "2022-01-30T16:06:09.199Z"
   },
   {
    "duration": 218,
    "start_time": "2022-01-30T16:06:09.206Z"
   },
   {
    "duration": 12,
    "start_time": "2022-01-30T16:06:09.425Z"
   },
   {
    "duration": 19,
    "start_time": "2022-01-30T16:06:09.439Z"
   },
   {
    "duration": 40690,
    "start_time": "2022-01-30T16:06:09.460Z"
   },
   {
    "duration": 16,
    "start_time": "2022-01-30T16:06:50.152Z"
   },
   {
    "duration": 16,
    "start_time": "2022-01-30T16:06:50.169Z"
   },
   {
    "duration": 23,
    "start_time": "2022-01-30T16:06:50.187Z"
   },
   {
    "duration": 8,
    "start_time": "2022-01-30T16:06:50.211Z"
   },
   {
    "duration": 7,
    "start_time": "2022-01-30T16:06:50.220Z"
   },
   {
    "duration": 32,
    "start_time": "2022-01-30T16:06:50.229Z"
   },
   {
    "duration": 8,
    "start_time": "2022-01-30T16:06:50.262Z"
   },
   {
    "duration": 5,
    "start_time": "2022-01-30T16:06:50.271Z"
   },
   {
    "duration": 10,
    "start_time": "2022-01-30T16:06:50.277Z"
   },
   {
    "duration": 36,
    "start_time": "2022-01-30T16:06:50.288Z"
   },
   {
    "duration": 5,
    "start_time": "2022-01-30T16:06:50.326Z"
   },
   {
    "duration": 10,
    "start_time": "2022-01-30T16:06:50.332Z"
   },
   {
    "duration": 343,
    "start_time": "2022-01-30T16:06:50.359Z"
   },
   {
    "duration": 6,
    "start_time": "2022-01-30T16:06:50.704Z"
   },
   {
    "duration": 1100,
    "start_time": "2022-01-30T16:06:50.712Z"
   },
   {
    "duration": 30,
    "start_time": "2022-01-30T16:06:51.813Z"
   },
   {
    "duration": 14,
    "start_time": "2022-01-30T16:06:51.845Z"
   },
   {
    "duration": 322,
    "start_time": "2022-01-30T16:06:51.861Z"
   },
   {
    "duration": 760,
    "start_time": "2022-01-30T16:06:52.185Z"
   },
   {
    "duration": 38,
    "start_time": "2022-01-30T16:06:52.947Z"
   },
   {
    "duration": 2,
    "start_time": "2022-01-30T16:06:52.987Z"
   },
   {
    "duration": 237,
    "start_time": "2022-01-30T16:06:52.991Z"
   },
   {
    "duration": 485,
    "start_time": "2022-01-30T16:06:53.231Z"
   },
   {
    "duration": 49,
    "start_time": "2022-01-30T16:06:53.718Z"
   },
   {
    "duration": 4,
    "start_time": "2022-01-30T16:06:53.769Z"
   },
   {
    "duration": 165,
    "start_time": "2022-01-30T16:06:53.775Z"
   },
   {
    "duration": 260,
    "start_time": "2022-01-30T16:06:53.942Z"
   },
   {
    "duration": 64,
    "start_time": "2022-01-30T16:09:30.349Z"
   },
   {
    "duration": 12,
    "start_time": "2022-01-30T16:09:30.415Z"
   },
   {
    "duration": 41,
    "start_time": "2022-01-30T16:09:30.430Z"
   },
   {
    "duration": 15,
    "start_time": "2022-01-30T16:09:30.473Z"
   },
   {
    "duration": 27,
    "start_time": "2022-01-30T16:09:30.490Z"
   },
   {
    "duration": 4,
    "start_time": "2022-01-30T16:09:30.519Z"
   },
   {
    "duration": 51,
    "start_time": "2022-01-30T16:09:30.525Z"
   },
   {
    "duration": 59,
    "start_time": "2022-01-30T16:09:30.579Z"
   },
   {
    "duration": 23,
    "start_time": "2022-01-30T16:09:30.641Z"
   },
   {
    "duration": 14,
    "start_time": "2022-01-30T16:09:30.666Z"
   },
   {
    "duration": 22,
    "start_time": "2022-01-30T16:09:30.682Z"
   },
   {
    "duration": 19,
    "start_time": "2022-01-30T16:09:30.706Z"
   },
   {
    "duration": 15,
    "start_time": "2022-01-30T16:09:30.727Z"
   },
   {
    "duration": 61,
    "start_time": "2022-01-30T16:09:30.744Z"
   },
   {
    "duration": 27,
    "start_time": "2022-01-30T16:09:30.807Z"
   },
   {
    "duration": 44,
    "start_time": "2022-01-30T16:09:30.836Z"
   },
   {
    "duration": 21,
    "start_time": "2022-01-30T16:09:30.882Z"
   },
   {
    "duration": 12,
    "start_time": "2022-01-30T16:09:30.905Z"
   },
   {
    "duration": 3593,
    "start_time": "2022-01-30T16:09:30.919Z"
   },
   {
    "duration": 8,
    "start_time": "2022-01-30T16:09:34.515Z"
   },
   {
    "duration": 6,
    "start_time": "2022-01-30T16:09:34.525Z"
   },
   {
    "duration": 469,
    "start_time": "2022-01-30T16:09:34.533Z"
   },
   {
    "duration": 6,
    "start_time": "2022-01-30T16:09:35.008Z"
   },
   {
    "duration": 8,
    "start_time": "2022-01-30T16:09:35.018Z"
   },
   {
    "duration": 31,
    "start_time": "2022-01-30T16:09:35.028Z"
   },
   {
    "duration": 8,
    "start_time": "2022-01-30T16:09:35.061Z"
   },
   {
    "duration": 4,
    "start_time": "2022-01-30T16:09:35.071Z"
   },
   {
    "duration": 293,
    "start_time": "2022-01-30T16:09:35.077Z"
   },
   {
    "duration": 8,
    "start_time": "2022-01-30T16:09:35.372Z"
   },
   {
    "duration": 6,
    "start_time": "2022-01-30T16:09:35.382Z"
   },
   {
    "duration": 247,
    "start_time": "2022-01-30T16:09:35.390Z"
   },
   {
    "duration": 20,
    "start_time": "2022-01-30T16:09:35.639Z"
   },
   {
    "duration": 4,
    "start_time": "2022-01-30T16:09:35.660Z"
   },
   {
    "duration": 41106,
    "start_time": "2022-01-30T16:09:35.666Z"
   },
   {
    "duration": 13,
    "start_time": "2022-01-30T16:10:16.774Z"
   },
   {
    "duration": 15,
    "start_time": "2022-01-30T16:10:16.789Z"
   },
   {
    "duration": 21,
    "start_time": "2022-01-30T16:10:16.806Z"
   },
   {
    "duration": 34,
    "start_time": "2022-01-30T16:10:16.829Z"
   },
   {
    "duration": 9,
    "start_time": "2022-01-30T16:10:16.865Z"
   },
   {
    "duration": 15,
    "start_time": "2022-01-30T16:10:16.876Z"
   },
   {
    "duration": 9,
    "start_time": "2022-01-30T16:10:16.893Z"
   },
   {
    "duration": 4,
    "start_time": "2022-01-30T16:10:16.903Z"
   },
   {
    "duration": 7,
    "start_time": "2022-01-30T16:10:16.909Z"
   },
   {
    "duration": 66,
    "start_time": "2022-01-30T16:10:16.917Z"
   },
   {
    "duration": 5,
    "start_time": "2022-01-30T16:10:16.985Z"
   },
   {
    "duration": 13,
    "start_time": "2022-01-30T16:10:16.992Z"
   },
   {
    "duration": 341,
    "start_time": "2022-01-30T16:10:17.007Z"
   },
   {
    "duration": 5,
    "start_time": "2022-01-30T16:10:17.359Z"
   },
   {
    "duration": 1105,
    "start_time": "2022-01-30T16:10:17.366Z"
   },
   {
    "duration": 32,
    "start_time": "2022-01-30T16:10:18.473Z"
   },
   {
    "duration": 3,
    "start_time": "2022-01-30T16:10:18.507Z"
   },
   {
    "duration": 320,
    "start_time": "2022-01-30T16:10:18.512Z"
   },
   {
    "duration": 791,
    "start_time": "2022-01-30T16:10:18.833Z"
   },
   {
    "duration": 42,
    "start_time": "2022-01-30T16:10:19.625Z"
   },
   {
    "duration": 2,
    "start_time": "2022-01-30T16:10:19.669Z"
   },
   {
    "duration": 235,
    "start_time": "2022-01-30T16:10:19.673Z"
   },
   {
    "duration": 488,
    "start_time": "2022-01-30T16:10:19.910Z"
   },
   {
    "duration": 30,
    "start_time": "2022-01-30T16:10:20.401Z"
   },
   {
    "duration": 3,
    "start_time": "2022-01-30T16:10:20.433Z"
   },
   {
    "duration": 195,
    "start_time": "2022-01-30T16:10:20.437Z"
   },
   {
    "duration": 249,
    "start_time": "2022-01-30T16:10:20.633Z"
   },
   {
    "duration": 60,
    "start_time": "2022-01-30T16:59:10.985Z"
   },
   {
    "duration": 12,
    "start_time": "2022-01-30T16:59:11.047Z"
   },
   {
    "duration": 15,
    "start_time": "2022-01-30T16:59:11.062Z"
   },
   {
    "duration": 13,
    "start_time": "2022-01-30T16:59:11.080Z"
   },
   {
    "duration": 16,
    "start_time": "2022-01-30T16:59:11.095Z"
   },
   {
    "duration": 4,
    "start_time": "2022-01-30T16:59:11.113Z"
   },
   {
    "duration": 69,
    "start_time": "2022-01-30T16:59:11.119Z"
   },
   {
    "duration": 69,
    "start_time": "2022-01-30T16:59:11.190Z"
   },
   {
    "duration": 9,
    "start_time": "2022-01-30T16:59:11.262Z"
   },
   {
    "duration": 6,
    "start_time": "2022-01-30T16:59:11.273Z"
   },
   {
    "duration": 11,
    "start_time": "2022-01-30T16:59:11.281Z"
   },
   {
    "duration": 11,
    "start_time": "2022-01-30T16:59:11.294Z"
   },
   {
    "duration": 53,
    "start_time": "2022-01-30T16:59:11.307Z"
   },
   {
    "duration": 48,
    "start_time": "2022-01-30T16:59:11.362Z"
   },
   {
    "duration": 48,
    "start_time": "2022-01-30T16:59:11.412Z"
   },
   {
    "duration": 22,
    "start_time": "2022-01-30T16:59:11.462Z"
   },
   {
    "duration": 17,
    "start_time": "2022-01-30T16:59:11.486Z"
   },
   {
    "duration": 11,
    "start_time": "2022-01-30T16:59:11.505Z"
   },
   {
    "duration": 4024,
    "start_time": "2022-01-30T16:59:11.519Z"
   },
   {
    "duration": 20,
    "start_time": "2022-01-30T16:59:15.545Z"
   },
   {
    "duration": 8,
    "start_time": "2022-01-30T16:59:15.568Z"
   },
   {
    "duration": 458,
    "start_time": "2022-01-30T16:59:15.577Z"
   },
   {
    "duration": 6,
    "start_time": "2022-01-30T16:59:16.037Z"
   },
   {
    "duration": 17,
    "start_time": "2022-01-30T16:59:16.045Z"
   },
   {
    "duration": 5,
    "start_time": "2022-01-30T16:59:16.064Z"
   },
   {
    "duration": 12,
    "start_time": "2022-01-30T16:59:16.070Z"
   },
   {
    "duration": 3,
    "start_time": "2022-01-30T16:59:16.086Z"
   },
   {
    "duration": 291,
    "start_time": "2022-01-30T16:59:16.092Z"
   },
   {
    "duration": 6,
    "start_time": "2022-01-30T16:59:16.385Z"
   },
   {
    "duration": 5,
    "start_time": "2022-01-30T16:59:16.392Z"
   },
   {
    "duration": 234,
    "start_time": "2022-01-30T16:59:16.399Z"
   },
   {
    "duration": 12,
    "start_time": "2022-01-30T16:59:16.635Z"
   },
   {
    "duration": 4,
    "start_time": "2022-01-30T16:59:16.659Z"
   },
   {
    "duration": 41342,
    "start_time": "2022-01-30T16:59:16.664Z"
   },
   {
    "duration": 13,
    "start_time": "2022-01-30T16:59:58.008Z"
   },
   {
    "duration": 11,
    "start_time": "2022-01-30T16:59:58.023Z"
   },
   {
    "duration": 37,
    "start_time": "2022-01-30T16:59:58.036Z"
   },
   {
    "duration": 8,
    "start_time": "2022-01-30T16:59:58.075Z"
   },
   {
    "duration": 8,
    "start_time": "2022-01-30T16:59:58.085Z"
   },
   {
    "duration": 13,
    "start_time": "2022-01-30T16:59:58.095Z"
   },
   {
    "duration": 8,
    "start_time": "2022-01-30T16:59:58.110Z"
   },
   {
    "duration": 5,
    "start_time": "2022-01-30T16:59:58.119Z"
   },
   {
    "duration": 35,
    "start_time": "2022-01-30T16:59:58.126Z"
   },
   {
    "duration": 36,
    "start_time": "2022-01-30T16:59:58.163Z"
   },
   {
    "duration": 5,
    "start_time": "2022-01-30T16:59:58.201Z"
   },
   {
    "duration": 7,
    "start_time": "2022-01-30T16:59:58.208Z"
   },
   {
    "duration": 357,
    "start_time": "2022-01-30T16:59:58.217Z"
   },
   {
    "duration": 5,
    "start_time": "2022-01-30T16:59:58.576Z"
   },
   {
    "duration": 1142,
    "start_time": "2022-01-30T16:59:58.583Z"
   },
   {
    "duration": 47,
    "start_time": "2022-01-30T16:59:59.726Z"
   },
   {
    "duration": 3,
    "start_time": "2022-01-30T16:59:59.775Z"
   },
   {
    "duration": 330,
    "start_time": "2022-01-30T16:59:59.780Z"
   },
   {
    "duration": 822,
    "start_time": "2022-01-30T17:00:00.112Z"
   },
   {
    "duration": 56,
    "start_time": "2022-01-30T17:00:00.937Z"
   },
   {
    "duration": 2,
    "start_time": "2022-01-30T17:00:00.995Z"
   },
   {
    "duration": 403,
    "start_time": "2022-01-30T17:00:00.999Z"
   },
   {
    "duration": 516,
    "start_time": "2022-01-30T17:00:01.404Z"
   },
   {
    "duration": 47,
    "start_time": "2022-01-30T17:00:01.922Z"
   },
   {
    "duration": 3,
    "start_time": "2022-01-30T17:00:01.971Z"
   },
   {
    "duration": 184,
    "start_time": "2022-01-30T17:00:01.976Z"
   },
   {
    "duration": 260,
    "start_time": "2022-01-30T17:00:02.163Z"
   },
   {
    "duration": 1566,
    "start_time": "2022-02-08T10:35:11.485Z"
   },
   {
    "duration": 358,
    "start_time": "2022-02-08T11:13:54.870Z"
   },
   {
    "duration": 689,
    "start_time": "2022-02-08T11:14:04.005Z"
   },
   {
    "duration": 16,
    "start_time": "2022-02-08T11:14:04.696Z"
   },
   {
    "duration": 33,
    "start_time": "2022-02-08T11:14:04.714Z"
   },
   {
    "duration": 21,
    "start_time": "2022-02-08T11:14:04.749Z"
   },
   {
    "duration": 20,
    "start_time": "2022-02-08T11:14:04.772Z"
   },
   {
    "duration": 8,
    "start_time": "2022-02-08T11:14:04.794Z"
   },
   {
    "duration": 37,
    "start_time": "2022-02-08T11:14:04.804Z"
   },
   {
    "duration": 57,
    "start_time": "2022-02-08T11:14:04.843Z"
   },
   {
    "duration": 20,
    "start_time": "2022-02-08T11:14:04.901Z"
   },
   {
    "duration": 29,
    "start_time": "2022-02-08T11:14:04.923Z"
   },
   {
    "duration": 29,
    "start_time": "2022-02-08T11:14:04.953Z"
   },
   {
    "duration": 24,
    "start_time": "2022-02-08T11:14:04.984Z"
   },
   {
    "duration": 32,
    "start_time": "2022-02-08T11:14:05.010Z"
   },
   {
    "duration": 68,
    "start_time": "2022-02-08T11:14:05.044Z"
   },
   {
    "duration": 34,
    "start_time": "2022-02-08T11:14:05.114Z"
   },
   {
    "duration": 28,
    "start_time": "2022-02-08T11:14:05.150Z"
   },
   {
    "duration": 21,
    "start_time": "2022-02-08T11:14:05.180Z"
   },
   {
    "duration": 11,
    "start_time": "2022-02-08T11:14:05.219Z"
   },
   {
    "duration": 3436,
    "start_time": "2022-02-08T11:14:05.232Z"
   },
   {
    "duration": 8,
    "start_time": "2022-02-08T11:14:08.670Z"
   },
   {
    "duration": 12,
    "start_time": "2022-02-08T11:14:08.680Z"
   },
   {
    "duration": 466,
    "start_time": "2022-02-08T11:14:08.694Z"
   },
   {
    "duration": 5,
    "start_time": "2022-02-08T11:14:09.164Z"
   },
   {
    "duration": 12,
    "start_time": "2022-02-08T11:14:09.171Z"
   },
   {
    "duration": 4,
    "start_time": "2022-02-08T11:14:09.185Z"
   },
   {
    "duration": 15,
    "start_time": "2022-02-08T11:14:09.190Z"
   },
   {
    "duration": 6,
    "start_time": "2022-02-08T11:14:09.218Z"
   },
   {
    "duration": 6,
    "start_time": "2022-02-08T11:14:09.225Z"
   },
   {
    "duration": 276,
    "start_time": "2022-02-08T11:14:09.232Z"
   },
   {
    "duration": 10,
    "start_time": "2022-02-08T11:14:09.510Z"
   },
   {
    "duration": 4,
    "start_time": "2022-02-08T11:14:09.522Z"
   },
   {
    "duration": 238,
    "start_time": "2022-02-08T11:14:09.528Z"
   },
   {
    "duration": 13,
    "start_time": "2022-02-08T11:14:09.767Z"
   },
   {
    "duration": 6,
    "start_time": "2022-02-08T11:14:09.782Z"
   },
   {
    "duration": 42799,
    "start_time": "2022-02-08T11:14:09.790Z"
   },
   {
    "duration": 12,
    "start_time": "2022-02-08T11:14:52.590Z"
   },
   {
    "duration": 16,
    "start_time": "2022-02-08T11:14:52.604Z"
   },
   {
    "duration": 17,
    "start_time": "2022-02-08T11:14:52.621Z"
   },
   {
    "duration": 6,
    "start_time": "2022-02-08T11:14:52.640Z"
   },
   {
    "duration": 11,
    "start_time": "2022-02-08T11:14:52.648Z"
   },
   {
    "duration": 18,
    "start_time": "2022-02-08T11:14:52.661Z"
   },
   {
    "duration": 14,
    "start_time": "2022-02-08T11:14:52.681Z"
   },
   {
    "duration": 21,
    "start_time": "2022-02-08T11:14:52.697Z"
   },
   {
    "duration": 5,
    "start_time": "2022-02-08T11:14:52.720Z"
   },
   {
    "duration": 42,
    "start_time": "2022-02-08T11:14:52.727Z"
   },
   {
    "duration": 5,
    "start_time": "2022-02-08T11:14:52.771Z"
   },
   {
    "duration": 15,
    "start_time": "2022-02-08T11:14:52.777Z"
   },
   {
    "duration": 325,
    "start_time": "2022-02-08T11:14:52.793Z"
   },
   {
    "duration": 5,
    "start_time": "2022-02-08T11:14:53.120Z"
   },
   {
    "duration": 1093,
    "start_time": "2022-02-08T11:14:53.127Z"
   },
   {
    "duration": 30,
    "start_time": "2022-02-08T11:14:54.222Z"
   },
   {
    "duration": 3,
    "start_time": "2022-02-08T11:14:54.254Z"
   },
   {
    "duration": 317,
    "start_time": "2022-02-08T11:14:54.259Z"
   },
   {
    "duration": 780,
    "start_time": "2022-02-08T11:14:54.578Z"
   },
   {
    "duration": 28,
    "start_time": "2022-02-08T11:14:55.359Z"
   },
   {
    "duration": 3,
    "start_time": "2022-02-08T11:14:55.389Z"
   },
   {
    "duration": 233,
    "start_time": "2022-02-08T11:14:55.393Z"
   },
   {
    "duration": 472,
    "start_time": "2022-02-08T11:14:55.628Z"
   },
   {
    "duration": 42,
    "start_time": "2022-02-08T11:14:56.102Z"
   },
   {
    "duration": 2,
    "start_time": "2022-02-08T11:14:56.146Z"
   },
   {
    "duration": 175,
    "start_time": "2022-02-08T11:14:56.150Z"
   },
   {
    "duration": 245,
    "start_time": "2022-02-08T11:14:56.326Z"
   },
   {
    "duration": 279,
    "start_time": "2022-02-08T17:11:11.151Z"
   },
   {
    "duration": 265,
    "start_time": "2022-02-08T17:11:28.972Z"
   },
   {
    "duration": 11,
    "start_time": "2022-02-08T17:12:01.077Z"
   },
   {
    "duration": 14,
    "start_time": "2022-02-08T17:12:02.774Z"
   },
   {
    "duration": 8,
    "start_time": "2022-02-08T17:27:19.924Z"
   },
   {
    "duration": 13,
    "start_time": "2022-02-08T17:27:20.331Z"
   },
   {
    "duration": 14,
    "start_time": "2022-02-08T17:42:26.300Z"
   },
   {
    "duration": 11,
    "start_time": "2022-02-08T17:42:34.537Z"
   },
   {
    "duration": 147,
    "start_time": "2022-02-08T18:32:32.541Z"
   },
   {
    "duration": 889,
    "start_time": "2022-02-09T05:08:37.123Z"
   },
   {
    "duration": 20,
    "start_time": "2022-02-09T05:08:38.015Z"
   },
   {
    "duration": 26,
    "start_time": "2022-02-09T05:08:38.038Z"
   },
   {
    "duration": 4,
    "start_time": "2022-02-09T05:08:38.067Z"
   },
   {
    "duration": 68,
    "start_time": "2022-02-09T05:08:38.074Z"
   },
   {
    "duration": 127,
    "start_time": "2022-02-09T05:08:38.144Z"
   },
   {
    "duration": 17,
    "start_time": "2022-02-09T05:08:38.274Z"
   },
   {
    "duration": 29,
    "start_time": "2022-02-09T05:08:38.294Z"
   },
   {
    "duration": 17,
    "start_time": "2022-02-09T05:08:38.326Z"
   },
   {
    "duration": 25,
    "start_time": "2022-02-09T05:08:38.347Z"
   },
   {
    "duration": 51,
    "start_time": "2022-02-09T05:08:38.375Z"
   },
   {
    "duration": 65,
    "start_time": "2022-02-09T05:08:38.428Z"
   },
   {
    "duration": 55,
    "start_time": "2022-02-09T05:08:38.495Z"
   },
   {
    "duration": 29,
    "start_time": "2022-02-09T05:08:38.553Z"
   },
   {
    "duration": 365,
    "start_time": "2022-02-09T05:08:38.585Z"
   },
   {
    "duration": -592,
    "start_time": "2022-02-09T05:08:39.549Z"
   },
   {
    "duration": -598,
    "start_time": "2022-02-09T05:08:39.557Z"
   },
   {
    "duration": -601,
    "start_time": "2022-02-09T05:08:39.563Z"
   },
   {
    "duration": -605,
    "start_time": "2022-02-09T05:08:39.569Z"
   },
   {
    "duration": -699,
    "start_time": "2022-02-09T05:08:39.665Z"
   },
   {
    "duration": -708,
    "start_time": "2022-02-09T05:08:39.677Z"
   },
   {
    "duration": -716,
    "start_time": "2022-02-09T05:08:39.688Z"
   },
   {
    "duration": -723,
    "start_time": "2022-02-09T05:08:39.697Z"
   },
   {
    "duration": -731,
    "start_time": "2022-02-09T05:08:39.707Z"
   },
   {
    "duration": -739,
    "start_time": "2022-02-09T05:08:39.717Z"
   },
   {
    "duration": -746,
    "start_time": "2022-02-09T05:08:39.726Z"
   },
   {
    "duration": -752,
    "start_time": "2022-02-09T05:08:39.734Z"
   },
   {
    "duration": -759,
    "start_time": "2022-02-09T05:08:39.743Z"
   },
   {
    "duration": -767,
    "start_time": "2022-02-09T05:08:39.753Z"
   },
   {
    "duration": -775,
    "start_time": "2022-02-09T05:08:39.763Z"
   },
   {
    "duration": -793,
    "start_time": "2022-02-09T05:08:39.783Z"
   },
   {
    "duration": -799,
    "start_time": "2022-02-09T05:08:39.791Z"
   },
   {
    "duration": -776,
    "start_time": "2022-02-09T05:08:39.798Z"
   },
   {
    "duration": -781,
    "start_time": "2022-02-09T05:08:39.805Z"
   },
   {
    "duration": -785,
    "start_time": "2022-02-09T05:08:39.811Z"
   },
   {
    "duration": -790,
    "start_time": "2022-02-09T05:08:39.818Z"
   },
   {
    "duration": -794,
    "start_time": "2022-02-09T05:08:39.825Z"
   },
   {
    "duration": -800,
    "start_time": "2022-02-09T05:08:39.832Z"
   },
   {
    "duration": -805,
    "start_time": "2022-02-09T05:08:39.838Z"
   },
   {
    "duration": -812,
    "start_time": "2022-02-09T05:08:39.846Z"
   },
   {
    "duration": -817,
    "start_time": "2022-02-09T05:08:39.853Z"
   },
   {
    "duration": -822,
    "start_time": "2022-02-09T05:08:39.859Z"
   },
   {
    "duration": -826,
    "start_time": "2022-02-09T05:08:39.865Z"
   },
   {
    "duration": -832,
    "start_time": "2022-02-09T05:08:39.872Z"
   },
   {
    "duration": -837,
    "start_time": "2022-02-09T05:08:39.878Z"
   },
   {
    "duration": -855,
    "start_time": "2022-02-09T05:08:39.898Z"
   },
   {
    "duration": -863,
    "start_time": "2022-02-09T05:08:39.907Z"
   },
   {
    "duration": -872,
    "start_time": "2022-02-09T05:08:39.918Z"
   },
   {
    "duration": -880,
    "start_time": "2022-02-09T05:08:39.927Z"
   },
   {
    "duration": -887,
    "start_time": "2022-02-09T05:08:39.936Z"
   },
   {
    "duration": -893,
    "start_time": "2022-02-09T05:08:39.944Z"
   },
   {
    "duration": -924,
    "start_time": "2022-02-09T05:08:39.979Z"
   },
   {
    "duration": -940,
    "start_time": "2022-02-09T05:08:39.997Z"
   },
   {
    "duration": -969,
    "start_time": "2022-02-09T05:08:40.028Z"
   },
   {
    "duration": -996,
    "start_time": "2022-02-09T05:08:40.057Z"
   },
   {
    "duration": -970,
    "start_time": "2022-02-09T05:08:40.092Z"
   },
   {
    "duration": -1000,
    "start_time": "2022-02-09T05:08:40.124Z"
   },
   {
    "duration": -1017,
    "start_time": "2022-02-09T05:08:40.143Z"
   },
   {
    "duration": -1025,
    "start_time": "2022-02-09T05:08:40.153Z"
   },
   {
    "duration": -1057,
    "start_time": "2022-02-09T05:08:40.187Z"
   },
   {
    "duration": -1091,
    "start_time": "2022-02-09T05:08:40.222Z"
   },
   {
    "duration": 26,
    "start_time": "2022-02-09T05:09:22.054Z"
   },
   {
    "duration": 66,
    "start_time": "2022-02-09T05:09:27.143Z"
   },
   {
    "duration": 12,
    "start_time": "2022-02-09T05:09:27.212Z"
   },
   {
    "duration": 24,
    "start_time": "2022-02-09T05:09:27.227Z"
   },
   {
    "duration": 4,
    "start_time": "2022-02-09T05:09:27.254Z"
   },
   {
    "duration": 76,
    "start_time": "2022-02-09T05:09:27.261Z"
   },
   {
    "duration": 105,
    "start_time": "2022-02-09T05:09:27.340Z"
   },
   {
    "duration": 13,
    "start_time": "2022-02-09T05:09:27.447Z"
   },
   {
    "duration": 5,
    "start_time": "2022-02-09T05:09:27.464Z"
   },
   {
    "duration": 56,
    "start_time": "2022-02-09T05:09:27.472Z"
   },
   {
    "duration": 18,
    "start_time": "2022-02-09T05:09:27.531Z"
   },
   {
    "duration": 19,
    "start_time": "2022-02-09T05:09:27.552Z"
   },
   {
    "duration": 97,
    "start_time": "2022-02-09T05:09:27.573Z"
   },
   {
    "duration": 51,
    "start_time": "2022-02-09T05:09:27.672Z"
   },
   {
    "duration": 31,
    "start_time": "2022-02-09T05:09:27.726Z"
   },
   {
    "duration": 24,
    "start_time": "2022-02-09T05:09:27.760Z"
   },
   {
    "duration": 57,
    "start_time": "2022-02-09T05:09:27.787Z"
   },
   {
    "duration": 17,
    "start_time": "2022-02-09T05:09:27.847Z"
   },
   {
    "duration": 5034,
    "start_time": "2022-02-09T05:09:27.867Z"
   },
   {
    "duration": 24,
    "start_time": "2022-02-09T05:09:32.903Z"
   },
   {
    "duration": 9,
    "start_time": "2022-02-09T05:09:32.930Z"
   },
   {
    "duration": 817,
    "start_time": "2022-02-09T05:09:32.941Z"
   },
   {
    "duration": 7,
    "start_time": "2022-02-09T05:09:33.761Z"
   },
   {
    "duration": 11,
    "start_time": "2022-02-09T05:09:33.775Z"
   },
   {
    "duration": 6,
    "start_time": "2022-02-09T05:09:33.789Z"
   },
   {
    "duration": 34,
    "start_time": "2022-02-09T05:09:33.798Z"
   },
   {
    "duration": 8,
    "start_time": "2022-02-09T05:09:33.835Z"
   },
   {
    "duration": 5,
    "start_time": "2022-02-09T05:09:33.846Z"
   },
   {
    "duration": 524,
    "start_time": "2022-02-09T05:09:33.854Z"
   },
   {
    "duration": 9,
    "start_time": "2022-02-09T05:09:34.380Z"
   },
   {
    "duration": 4,
    "start_time": "2022-02-09T05:09:34.392Z"
   },
   {
    "duration": 403,
    "start_time": "2022-02-09T05:09:34.398Z"
   },
   {
    "duration": 27,
    "start_time": "2022-02-09T05:09:34.803Z"
   },
   {
    "duration": 3,
    "start_time": "2022-02-09T05:09:34.833Z"
   },
   {
    "duration": 12,
    "start_time": "2022-02-09T05:09:34.839Z"
   },
   {
    "duration": 20,
    "start_time": "2022-02-09T05:09:34.854Z"
   },
   {
    "duration": 49,
    "start_time": "2022-02-09T05:09:34.876Z"
   },
   {
    "duration": 30,
    "start_time": "2022-02-09T05:09:34.928Z"
   },
   {
    "duration": 9,
    "start_time": "2022-02-09T05:09:34.961Z"
   },
   {
    "duration": 11,
    "start_time": "2022-02-09T05:09:34.972Z"
   },
   {
    "duration": 53,
    "start_time": "2022-02-09T05:09:34.986Z"
   },
   {
    "duration": 7,
    "start_time": "2022-02-09T05:09:35.042Z"
   },
   {
    "duration": 4,
    "start_time": "2022-02-09T05:09:35.052Z"
   },
   {
    "duration": 8,
    "start_time": "2022-02-09T05:09:35.058Z"
   },
   {
    "duration": 90,
    "start_time": "2022-02-09T05:09:35.068Z"
   },
   {
    "duration": 8,
    "start_time": "2022-02-09T05:09:35.161Z"
   },
   {
    "duration": 8,
    "start_time": "2022-02-09T05:09:35.172Z"
   },
   {
    "duration": 551,
    "start_time": "2022-02-09T05:09:35.182Z"
   },
   {
    "duration": 12,
    "start_time": "2022-02-09T05:09:35.737Z"
   },
   {
    "duration": 2450,
    "start_time": "2022-02-09T05:09:35.752Z"
   },
   {
    "duration": 64,
    "start_time": "2022-02-09T05:09:38.205Z"
   },
   {
    "duration": 4,
    "start_time": "2022-02-09T05:09:38.271Z"
   },
   {
    "duration": 522,
    "start_time": "2022-02-09T05:09:38.278Z"
   },
   {
    "duration": 1298,
    "start_time": "2022-02-09T05:09:38.803Z"
   },
   {
    "duration": 59,
    "start_time": "2022-02-09T05:09:40.104Z"
   },
   {
    "duration": 3,
    "start_time": "2022-02-09T05:09:40.166Z"
   },
   {
    "duration": 407,
    "start_time": "2022-02-09T05:09:40.172Z"
   },
   {
    "duration": 828,
    "start_time": "2022-02-09T05:09:40.581Z"
   },
   {
    "duration": 75,
    "start_time": "2022-02-09T05:09:41.412Z"
   },
   {
    "duration": 4,
    "start_time": "2022-02-09T05:09:41.490Z"
   },
   {
    "duration": 375,
    "start_time": "2022-02-09T05:09:41.497Z"
   },
   {
    "duration": 394,
    "start_time": "2022-02-09T05:09:41.875Z"
   },
   {
    "duration": 74,
    "start_time": "2022-02-09T16:30:57.778Z"
   },
   {
    "duration": 13,
    "start_time": "2022-02-09T16:30:57.855Z"
   },
   {
    "duration": 69,
    "start_time": "2022-02-09T16:30:57.871Z"
   },
   {
    "duration": 7,
    "start_time": "2022-02-09T16:30:57.944Z"
   },
   {
    "duration": 93,
    "start_time": "2022-02-09T16:30:57.955Z"
   },
   {
    "duration": 157,
    "start_time": "2022-02-09T16:30:58.051Z"
   },
   {
    "duration": 25,
    "start_time": "2022-02-09T16:30:58.211Z"
   },
   {
    "duration": 5,
    "start_time": "2022-02-09T16:30:58.242Z"
   },
   {
    "duration": 30,
    "start_time": "2022-02-09T16:30:58.250Z"
   },
   {
    "duration": 58,
    "start_time": "2022-02-09T16:30:58.284Z"
   },
   {
    "duration": 24,
    "start_time": "2022-02-09T16:30:58.345Z"
   },
   {
    "duration": 99,
    "start_time": "2022-02-09T16:30:58.372Z"
   },
   {
    "duration": 34,
    "start_time": "2022-02-09T16:30:58.473Z"
   },
   {
    "duration": 30,
    "start_time": "2022-02-09T16:30:58.524Z"
   },
   {
    "duration": 22,
    "start_time": "2022-02-09T16:30:58.556Z"
   },
   {
    "duration": 72,
    "start_time": "2022-02-09T16:30:58.581Z"
   },
   {
    "duration": 20,
    "start_time": "2022-02-09T16:30:58.656Z"
   },
   {
    "duration": 5297,
    "start_time": "2022-02-09T16:30:58.679Z"
   },
   {
    "duration": 11,
    "start_time": "2022-02-09T16:31:03.979Z"
   },
   {
    "duration": 6,
    "start_time": "2022-02-09T16:31:03.992Z"
   },
   {
    "duration": 836,
    "start_time": "2022-02-09T16:31:04.024Z"
   },
   {
    "duration": 13,
    "start_time": "2022-02-09T16:31:04.863Z"
   },
   {
    "duration": 11,
    "start_time": "2022-02-09T16:31:04.887Z"
   },
   {
    "duration": 8,
    "start_time": "2022-02-09T16:31:04.927Z"
   },
   {
    "duration": 19,
    "start_time": "2022-02-09T16:31:04.938Z"
   },
   {
    "duration": 11,
    "start_time": "2022-02-09T16:31:04.961Z"
   },
   {
    "duration": 7,
    "start_time": "2022-02-09T16:31:04.975Z"
   },
   {
    "duration": 970,
    "start_time": "2022-02-09T16:31:05.025Z"
   },
   {
    "duration": 11,
    "start_time": "2022-02-09T16:31:05.998Z"
   },
   {
    "duration": 5,
    "start_time": "2022-02-09T16:31:06.023Z"
   },
   {
    "duration": 784,
    "start_time": "2022-02-09T16:31:06.031Z"
   },
   {
    "duration": 21,
    "start_time": "2022-02-09T16:31:06.818Z"
   },
   {
    "duration": 4,
    "start_time": "2022-02-09T16:31:06.842Z"
   },
   {
    "duration": 15,
    "start_time": "2022-02-09T16:31:06.849Z"
   },
   {
    "duration": 58,
    "start_time": "2022-02-09T16:31:06.867Z"
   },
   {
    "duration": 12,
    "start_time": "2022-02-09T16:31:06.928Z"
   },
   {
    "duration": 39,
    "start_time": "2022-02-09T16:31:06.943Z"
   },
   {
    "duration": 46,
    "start_time": "2022-02-09T16:31:06.985Z"
   },
   {
    "duration": 17,
    "start_time": "2022-02-09T16:31:07.034Z"
   },
   {
    "duration": 26,
    "start_time": "2022-02-09T16:31:07.054Z"
   },
   {
    "duration": 41,
    "start_time": "2022-02-09T16:31:07.082Z"
   },
   {
    "duration": 4,
    "start_time": "2022-02-09T16:31:07.127Z"
   },
   {
    "duration": 9,
    "start_time": "2022-02-09T16:31:07.133Z"
   },
   {
    "duration": 101,
    "start_time": "2022-02-09T16:31:07.145Z"
   },
   {
    "duration": 10,
    "start_time": "2022-02-09T16:31:07.249Z"
   },
   {
    "duration": 8,
    "start_time": "2022-02-09T16:31:07.262Z"
   },
   {
    "duration": 574,
    "start_time": "2022-02-09T16:31:07.272Z"
   },
   {
    "duration": 9,
    "start_time": "2022-02-09T16:31:07.850Z"
   },
   {
    "duration": 2061,
    "start_time": "2022-02-09T16:31:07.862Z"
   },
   {
    "duration": 73,
    "start_time": "2022-02-09T16:31:09.926Z"
   },
   {
    "duration": 5,
    "start_time": "2022-02-09T16:31:10.023Z"
   },
   {
    "duration": 794,
    "start_time": "2022-02-09T16:31:10.031Z"
   },
   {
    "duration": 1735,
    "start_time": "2022-02-09T16:31:10.828Z"
   },
   {
    "duration": 90,
    "start_time": "2022-02-09T16:31:12.566Z"
   },
   {
    "duration": 4,
    "start_time": "2022-02-09T16:31:12.660Z"
   },
   {
    "duration": 629,
    "start_time": "2022-02-09T16:31:12.667Z"
   },
   {
    "duration": 1396,
    "start_time": "2022-02-09T16:31:13.299Z"
   },
   {
    "duration": 62,
    "start_time": "2022-02-09T16:31:14.697Z"
   },
   {
    "duration": 4,
    "start_time": "2022-02-09T16:31:14.761Z"
   },
   {
    "duration": 348,
    "start_time": "2022-02-09T16:31:14.768Z"
   },
   {
    "duration": 435,
    "start_time": "2022-02-09T16:31:15.119Z"
   },
   {
    "duration": 38,
    "start_time": "2022-02-09T16:32:32.499Z"
   },
   {
    "duration": 8209,
    "start_time": "2022-02-09T16:34:48.012Z"
   },
   {
    "duration": 69,
    "start_time": "2022-02-09T16:35:08.413Z"
   },
   {
    "duration": 13,
    "start_time": "2022-02-09T16:35:08.485Z"
   },
   {
    "duration": 24,
    "start_time": "2022-02-09T16:35:08.525Z"
   },
   {
    "duration": 4,
    "start_time": "2022-02-09T16:35:08.552Z"
   },
   {
    "duration": 36,
    "start_time": "2022-02-09T16:35:08.559Z"
   },
   {
    "duration": 80,
    "start_time": "2022-02-09T16:35:08.623Z"
   },
   {
    "duration": 25,
    "start_time": "2022-02-09T16:35:08.705Z"
   },
   {
    "duration": 18,
    "start_time": "2022-02-09T16:36:02.895Z"
   },
   {
    "duration": 5,
    "start_time": "2022-02-09T16:36:32.871Z"
   },
   {
    "duration": 15,
    "start_time": "2022-02-09T16:36:34.305Z"
   },
   {
    "duration": 17,
    "start_time": "2022-02-09T16:36:43.271Z"
   },
   {
    "duration": 425,
    "start_time": "2022-02-09T16:37:36.060Z"
   },
   {
    "duration": 609,
    "start_time": "2022-02-09T16:38:02.341Z"
   },
   {
    "duration": 52,
    "start_time": "2022-02-09T16:39:16.267Z"
   },
   {
    "duration": 10,
    "start_time": "2022-02-09T16:39:54.524Z"
   },
   {
    "duration": 48,
    "start_time": "2022-02-09T16:40:12.897Z"
   },
   {
    "duration": 153,
    "start_time": "2022-02-09T16:40:54.543Z"
   },
   {
    "duration": 310,
    "start_time": "2022-02-09T16:40:58.724Z"
   },
   {
    "duration": 17,
    "start_time": "2022-02-09T16:42:07.819Z"
   },
   {
    "duration": 431,
    "start_time": "2022-02-09T16:55:30.995Z"
   },
   {
    "duration": 9,
    "start_time": "2022-02-09T16:55:48.072Z"
   },
   {
    "duration": 12,
    "start_time": "2022-02-09T16:55:49.861Z"
   },
   {
    "duration": 24,
    "start_time": "2022-02-09T16:56:09.244Z"
   },
   {
    "duration": 24,
    "start_time": "2022-02-09T16:56:22.811Z"
   },
   {
    "duration": 67,
    "start_time": "2022-02-09T16:56:32.854Z"
   },
   {
    "duration": 11,
    "start_time": "2022-02-09T16:56:32.924Z"
   },
   {
    "duration": 25,
    "start_time": "2022-02-09T16:56:32.938Z"
   },
   {
    "duration": 4,
    "start_time": "2022-02-09T16:56:32.966Z"
   },
   {
    "duration": 71,
    "start_time": "2022-02-09T16:56:32.973Z"
   },
   {
    "duration": 86,
    "start_time": "2022-02-09T16:56:33.046Z"
   },
   {
    "duration": 17,
    "start_time": "2022-02-09T16:56:33.134Z"
   },
   {
    "duration": 6,
    "start_time": "2022-02-09T16:56:33.154Z"
   },
   {
    "duration": 24,
    "start_time": "2022-02-09T16:56:33.164Z"
   },
   {
    "duration": 41,
    "start_time": "2022-02-09T16:56:33.190Z"
   },
   {
    "duration": 25,
    "start_time": "2022-02-09T16:56:33.233Z"
   },
   {
    "duration": 16,
    "start_time": "2022-02-09T16:56:33.261Z"
   },
   {
    "duration": 7,
    "start_time": "2022-02-09T16:58:23.083Z"
   },
   {
    "duration": 17,
    "start_time": "2022-02-09T16:58:38.178Z"
   },
   {
    "duration": 23,
    "start_time": "2022-02-09T17:00:16.447Z"
   },
   {
    "duration": 68,
    "start_time": "2022-02-09T17:00:29.764Z"
   },
   {
    "duration": 11,
    "start_time": "2022-02-09T17:00:29.835Z"
   },
   {
    "duration": 25,
    "start_time": "2022-02-09T17:00:29.849Z"
   },
   {
    "duration": 5,
    "start_time": "2022-02-09T17:00:29.877Z"
   },
   {
    "duration": 31,
    "start_time": "2022-02-09T17:00:29.923Z"
   },
   {
    "duration": 90,
    "start_time": "2022-02-09T17:00:29.956Z"
   },
   {
    "duration": 17,
    "start_time": "2022-02-09T17:00:30.049Z"
   },
   {
    "duration": 17,
    "start_time": "2022-02-09T17:00:30.070Z"
   },
   {
    "duration": 13,
    "start_time": "2022-02-09T17:00:30.090Z"
   },
   {
    "duration": 30,
    "start_time": "2022-02-09T17:00:30.105Z"
   },
   {
    "duration": 22,
    "start_time": "2022-02-09T17:00:30.137Z"
   },
   {
    "duration": 25,
    "start_time": "2022-02-09T17:00:30.162Z"
   },
   {
    "duration": 22,
    "start_time": "2022-02-09T17:00:30.190Z"
   },
   {
    "duration": 26,
    "start_time": "2022-02-09T17:00:30.215Z"
   },
   {
    "duration": 79,
    "start_time": "2022-02-09T17:00:30.244Z"
   },
   {
    "duration": 36,
    "start_time": "2022-02-09T17:00:30.326Z"
   },
   {
    "duration": 27,
    "start_time": "2022-02-09T17:00:30.365Z"
   },
   {
    "duration": 50,
    "start_time": "2022-02-09T17:00:30.395Z"
   },
   {
    "duration": 15,
    "start_time": "2022-02-09T17:00:30.448Z"
   },
   {
    "duration": 36,
    "start_time": "2022-02-09T17:00:30.466Z"
   },
   {
    "duration": 99,
    "start_time": "2022-02-09T17:11:21.311Z"
   },
   {
    "duration": 108,
    "start_time": "2022-02-09T17:12:00.238Z"
   },
   {
    "duration": 96,
    "start_time": "2022-02-09T17:12:05.032Z"
   },
   {
    "duration": -99,
    "start_time": "2022-02-09T17:12:05.231Z"
   },
   {
    "duration": -102,
    "start_time": "2022-02-09T17:12:05.235Z"
   },
   {
    "duration": -105,
    "start_time": "2022-02-09T17:12:05.239Z"
   },
   {
    "duration": -108,
    "start_time": "2022-02-09T17:12:05.244Z"
   },
   {
    "duration": -112,
    "start_time": "2022-02-09T17:12:05.249Z"
   },
   {
    "duration": -113,
    "start_time": "2022-02-09T17:12:05.252Z"
   },
   {
    "duration": -117,
    "start_time": "2022-02-09T17:12:05.257Z"
   },
   {
    "duration": -121,
    "start_time": "2022-02-09T17:12:05.262Z"
   },
   {
    "duration": -123,
    "start_time": "2022-02-09T17:12:05.265Z"
   },
   {
    "duration": -125,
    "start_time": "2022-02-09T17:12:05.269Z"
   },
   {
    "duration": -128,
    "start_time": "2022-02-09T17:12:05.273Z"
   },
   {
    "duration": -130,
    "start_time": "2022-02-09T17:12:05.277Z"
   },
   {
    "duration": -132,
    "start_time": "2022-02-09T17:12:05.280Z"
   },
   {
    "duration": -134,
    "start_time": "2022-02-09T17:12:05.283Z"
   },
   {
    "duration": -137,
    "start_time": "2022-02-09T17:12:05.287Z"
   },
   {
    "duration": -138,
    "start_time": "2022-02-09T17:12:05.290Z"
   },
   {
    "duration": -141,
    "start_time": "2022-02-09T17:12:05.294Z"
   },
   {
    "duration": -143,
    "start_time": "2022-02-09T17:12:05.298Z"
   },
   {
    "duration": 70,
    "start_time": "2022-02-09T17:12:05.157Z"
   },
   {
    "duration": 41,
    "start_time": "2022-02-09T17:12:05.230Z"
   },
   {
    "duration": 5083,
    "start_time": "2022-02-09T17:12:05.273Z"
   },
   {
    "duration": 10,
    "start_time": "2022-02-09T17:12:10.358Z"
   },
   {
    "duration": 6,
    "start_time": "2022-02-09T17:12:10.370Z"
   },
   {
    "duration": 784,
    "start_time": "2022-02-09T17:12:10.380Z"
   },
   {
    "duration": 8,
    "start_time": "2022-02-09T17:12:11.168Z"
   },
   {
    "duration": 16,
    "start_time": "2022-02-09T17:12:11.178Z"
   },
   {
    "duration": 27,
    "start_time": "2022-02-09T17:12:11.196Z"
   },
   {
    "duration": 12,
    "start_time": "2022-02-09T17:12:11.226Z"
   },
   {
    "duration": 8,
    "start_time": "2022-02-09T17:12:11.241Z"
   },
   {
    "duration": 5,
    "start_time": "2022-02-09T17:12:11.251Z"
   },
   {
    "duration": 560,
    "start_time": "2022-02-09T17:12:11.258Z"
   },
   {
    "duration": 7,
    "start_time": "2022-02-09T17:12:11.824Z"
   },
   {
    "duration": 4,
    "start_time": "2022-02-09T17:12:11.834Z"
   },
   {
    "duration": 406,
    "start_time": "2022-02-09T17:12:11.840Z"
   },
   {
    "duration": 18,
    "start_time": "2022-02-09T17:12:12.249Z"
   },
   {
    "duration": 5,
    "start_time": "2022-02-09T17:12:12.269Z"
   },
   {
    "duration": 12,
    "start_time": "2022-02-09T17:12:12.276Z"
   },
   {
    "duration": 49,
    "start_time": "2022-02-09T17:12:12.293Z"
   },
   {
    "duration": 11,
    "start_time": "2022-02-09T17:12:12.345Z"
   },
   {
    "duration": 27,
    "start_time": "2022-02-09T17:12:12.359Z"
   },
   {
    "duration": 9,
    "start_time": "2022-02-09T17:12:12.423Z"
   },
   {
    "duration": 10,
    "start_time": "2022-02-09T17:12:12.434Z"
   },
   {
    "duration": 20,
    "start_time": "2022-02-09T17:12:12.446Z"
   },
   {
    "duration": 8,
    "start_time": "2022-02-09T17:12:12.469Z"
   },
   {
    "duration": 46,
    "start_time": "2022-02-09T17:12:12.479Z"
   },
   {
    "duration": 7,
    "start_time": "2022-02-09T17:12:12.528Z"
   },
   {
    "duration": 57,
    "start_time": "2022-02-09T17:12:12.537Z"
   },
   {
    "duration": 26,
    "start_time": "2022-02-09T17:12:12.597Z"
   },
   {
    "duration": 3,
    "start_time": "2022-02-09T17:12:12.626Z"
   },
   {
    "duration": 540,
    "start_time": "2022-02-09T17:12:12.632Z"
   },
   {
    "duration": 9,
    "start_time": "2022-02-09T17:12:13.175Z"
   },
   {
    "duration": 1841,
    "start_time": "2022-02-09T17:12:13.187Z"
   },
   {
    "duration": 44,
    "start_time": "2022-02-09T17:12:15.031Z"
   },
   {
    "duration": 4,
    "start_time": "2022-02-09T17:12:15.077Z"
   },
   {
    "duration": 516,
    "start_time": "2022-02-09T17:12:15.083Z"
   },
   {
    "duration": 1273,
    "start_time": "2022-02-09T17:12:15.601Z"
   },
   {
    "duration": 64,
    "start_time": "2022-02-09T17:12:16.876Z"
   },
   {
    "duration": 3,
    "start_time": "2022-02-09T17:12:16.943Z"
   },
   {
    "duration": 398,
    "start_time": "2022-02-09T17:12:16.948Z"
   },
   {
    "duration": 855,
    "start_time": "2022-02-09T17:12:17.349Z"
   },
   {
    "duration": 57,
    "start_time": "2022-02-09T17:12:18.206Z"
   },
   {
    "duration": 4,
    "start_time": "2022-02-09T17:12:18.266Z"
   },
   {
    "duration": 297,
    "start_time": "2022-02-09T17:12:18.272Z"
   },
   {
    "duration": 405,
    "start_time": "2022-02-09T17:12:18.572Z"
   },
   {
    "duration": 131,
    "start_time": "2022-02-09T17:12:21.848Z"
   },
   {
    "duration": 95,
    "start_time": "2022-02-09T17:12:45.066Z"
   },
   {
    "duration": 68,
    "start_time": "2022-02-09T17:12:47.076Z"
   },
   {
    "duration": 74,
    "start_time": "2022-02-09T17:13:20.858Z"
   },
   {
    "duration": 14,
    "start_time": "2022-02-09T17:13:20.935Z"
   },
   {
    "duration": 74,
    "start_time": "2022-02-09T17:13:20.952Z"
   },
   {
    "duration": 7,
    "start_time": "2022-02-09T17:13:21.030Z"
   },
   {
    "duration": 43,
    "start_time": "2022-02-09T17:13:21.039Z"
   },
   {
    "duration": 170,
    "start_time": "2022-02-09T17:13:21.085Z"
   },
   {
    "duration": 19,
    "start_time": "2022-02-09T17:13:21.257Z"
   },
   {
    "duration": 9,
    "start_time": "2022-02-09T17:13:21.280Z"
   },
   {
    "duration": 31,
    "start_time": "2022-02-09T17:13:21.293Z"
   },
   {
    "duration": 13,
    "start_time": "2022-02-09T17:13:21.327Z"
   },
   {
    "duration": 8,
    "start_time": "2022-02-09T17:13:21.343Z"
   },
   {
    "duration": 20,
    "start_time": "2022-02-09T17:13:21.354Z"
   },
   {
    "duration": 49,
    "start_time": "2022-02-09T17:13:21.376Z"
   },
   {
    "duration": 22,
    "start_time": "2022-02-09T17:13:21.427Z"
   },
   {
    "duration": 107,
    "start_time": "2022-02-09T17:13:21.452Z"
   },
   {
    "duration": 35,
    "start_time": "2022-02-09T17:13:21.561Z"
   },
   {
    "duration": 50,
    "start_time": "2022-02-09T17:13:21.598Z"
   },
   {
    "duration": 24,
    "start_time": "2022-02-09T17:13:21.650Z"
   },
   {
    "duration": 47,
    "start_time": "2022-02-09T17:13:21.676Z"
   },
   {
    "duration": 22,
    "start_time": "2022-02-09T17:13:21.727Z"
   },
   {
    "duration": 5935,
    "start_time": "2022-02-09T17:13:21.752Z"
   },
   {
    "duration": 11,
    "start_time": "2022-02-09T17:13:27.690Z"
   },
   {
    "duration": 9,
    "start_time": "2022-02-09T17:13:27.725Z"
   },
   {
    "duration": 1013,
    "start_time": "2022-02-09T17:13:27.737Z"
   },
   {
    "duration": 8,
    "start_time": "2022-02-09T17:13:28.755Z"
   },
   {
    "duration": 12,
    "start_time": "2022-02-09T17:13:28.765Z"
   },
   {
    "duration": 6,
    "start_time": "2022-02-09T17:13:28.780Z"
   },
   {
    "duration": 51,
    "start_time": "2022-02-09T17:13:28.789Z"
   },
   {
    "duration": 12,
    "start_time": "2022-02-09T17:13:28.843Z"
   },
   {
    "duration": 8,
    "start_time": "2022-02-09T17:13:28.858Z"
   },
   {
    "duration": 864,
    "start_time": "2022-02-09T17:13:28.869Z"
   },
   {
    "duration": 10,
    "start_time": "2022-02-09T17:13:29.736Z"
   },
   {
    "duration": 7,
    "start_time": "2022-02-09T17:13:29.749Z"
   },
   {
    "duration": 696,
    "start_time": "2022-02-09T17:13:29.759Z"
   },
   {
    "duration": 29,
    "start_time": "2022-02-09T17:13:30.458Z"
   },
   {
    "duration": 9,
    "start_time": "2022-02-09T17:13:30.489Z"
   },
   {
    "duration": 45,
    "start_time": "2022-02-09T17:13:30.501Z"
   },
   {
    "duration": 32,
    "start_time": "2022-02-09T17:13:30.549Z"
   },
   {
    "duration": 18,
    "start_time": "2022-02-09T17:13:30.585Z"
   },
   {
    "duration": 40,
    "start_time": "2022-02-09T17:13:30.625Z"
   },
   {
    "duration": 15,
    "start_time": "2022-02-09T17:13:30.668Z"
   },
   {
    "duration": 44,
    "start_time": "2022-02-09T17:13:30.686Z"
   },
   {
    "duration": 22,
    "start_time": "2022-02-09T17:13:30.733Z"
   },
   {
    "duration": 20,
    "start_time": "2022-02-09T17:13:30.757Z"
   },
   {
    "duration": 13,
    "start_time": "2022-02-09T17:13:30.781Z"
   },
   {
    "duration": 43,
    "start_time": "2022-02-09T17:13:30.797Z"
   },
   {
    "duration": 63,
    "start_time": "2022-02-09T17:13:30.842Z"
   },
   {
    "duration": 7,
    "start_time": "2022-02-09T17:13:30.908Z"
   },
   {
    "duration": 14,
    "start_time": "2022-02-09T17:13:30.917Z"
   },
   {
    "duration": 734,
    "start_time": "2022-02-09T17:13:30.934Z"
   },
   {
    "duration": 8,
    "start_time": "2022-02-09T17:13:31.677Z"
   },
   {
    "duration": 2485,
    "start_time": "2022-02-09T17:13:31.688Z"
   },
   {
    "duration": 66,
    "start_time": "2022-02-09T17:13:34.175Z"
   },
   {
    "duration": 4,
    "start_time": "2022-02-09T17:13:34.244Z"
   },
   {
    "duration": 521,
    "start_time": "2022-02-09T17:13:34.250Z"
   },
   {
    "duration": 1411,
    "start_time": "2022-02-09T17:13:34.774Z"
   },
   {
    "duration": 66,
    "start_time": "2022-02-09T17:13:36.188Z"
   },
   {
    "duration": 4,
    "start_time": "2022-02-09T17:13:36.258Z"
   },
   {
    "duration": 434,
    "start_time": "2022-02-09T17:13:36.264Z"
   },
   {
    "duration": 1332,
    "start_time": "2022-02-09T17:13:36.702Z"
   },
   {
    "duration": 61,
    "start_time": "2022-02-09T17:13:38.038Z"
   },
   {
    "duration": 3,
    "start_time": "2022-02-09T17:13:38.102Z"
   },
   {
    "duration": 271,
    "start_time": "2022-02-09T17:13:38.123Z"
   },
   {
    "duration": 595,
    "start_time": "2022-02-09T17:13:38.396Z"
   },
   {
    "duration": 722,
    "start_time": "2022-05-31T12:53:29.598Z"
   },
   {
    "duration": 49,
    "start_time": "2022-05-31T12:53:30.322Z"
   },
   {
    "duration": 79,
    "start_time": "2022-05-31T12:53:30.375Z"
   },
   {
    "duration": 6,
    "start_time": "2022-05-31T12:53:30.460Z"
   },
   {
    "duration": 135,
    "start_time": "2022-05-31T12:53:30.468Z"
   },
   {
    "duration": 63,
    "start_time": "2022-05-31T12:53:30.605Z"
   },
   {
    "duration": 44,
    "start_time": "2022-05-31T12:53:30.670Z"
   },
   {
    "duration": 81,
    "start_time": "2022-05-31T12:53:30.716Z"
   },
   {
    "duration": 11,
    "start_time": "2022-05-31T12:53:30.799Z"
   },
   {
    "duration": 128,
    "start_time": "2022-05-31T12:53:30.813Z"
   },
   {
    "duration": 106,
    "start_time": "2022-05-31T12:53:30.950Z"
   },
   {
    "duration": 59,
    "start_time": "2022-05-31T12:53:31.059Z"
   },
   {
    "duration": 97,
    "start_time": "2022-05-31T12:53:31.120Z"
   },
   {
    "duration": 105,
    "start_time": "2022-05-31T12:53:31.219Z"
   },
   {
    "duration": 186,
    "start_time": "2022-05-31T12:53:31.329Z"
   },
   {
    "duration": 93,
    "start_time": "2022-05-31T12:53:31.517Z"
   },
   {
    "duration": 80,
    "start_time": "2022-05-31T12:53:31.611Z"
   },
   {
    "duration": 121,
    "start_time": "2022-05-31T12:53:31.693Z"
   },
   {
    "duration": 28,
    "start_time": "2022-05-31T12:53:31.816Z"
   },
   {
    "duration": 73,
    "start_time": "2022-05-31T12:53:31.846Z"
   },
   {
    "duration": 4619,
    "start_time": "2022-05-31T12:53:31.921Z"
   },
   {
    "duration": 26,
    "start_time": "2022-05-31T12:53:36.543Z"
   },
   {
    "duration": 48,
    "start_time": "2022-05-31T12:53:36.572Z"
   },
   {
    "duration": 480,
    "start_time": "2022-05-31T12:53:36.622Z"
   },
   {
    "duration": 9,
    "start_time": "2022-05-31T12:53:37.104Z"
   },
   {
    "duration": 57,
    "start_time": "2022-05-31T12:53:37.115Z"
   },
   {
    "duration": 144,
    "start_time": "2022-05-31T12:53:37.176Z"
   },
   {
    "duration": 77,
    "start_time": "2022-05-31T12:53:37.324Z"
   },
   {
    "duration": 11,
    "start_time": "2022-05-31T12:53:37.402Z"
   },
   {
    "duration": 5,
    "start_time": "2022-05-31T12:53:37.415Z"
   },
   {
    "duration": 325,
    "start_time": "2022-05-31T12:53:37.421Z"
   },
   {
    "duration": 9,
    "start_time": "2022-05-31T12:53:37.748Z"
   },
   {
    "duration": 57,
    "start_time": "2022-05-31T12:53:37.759Z"
   },
   {
    "duration": 275,
    "start_time": "2022-05-31T12:53:37.818Z"
   },
   {
    "duration": 15,
    "start_time": "2022-05-31T12:53:38.095Z"
   },
   {
    "duration": 8,
    "start_time": "2022-05-31T12:53:38.112Z"
   },
   {
    "duration": 59,
    "start_time": "2022-05-31T12:53:38.122Z"
   },
   {
    "duration": 96,
    "start_time": "2022-05-31T12:53:38.190Z"
   },
   {
    "duration": 29,
    "start_time": "2022-05-31T12:53:38.289Z"
   },
   {
    "duration": 56,
    "start_time": "2022-05-31T12:53:38.320Z"
   },
   {
    "duration": 41,
    "start_time": "2022-05-31T12:53:38.378Z"
   },
   {
    "duration": 13,
    "start_time": "2022-05-31T12:53:38.421Z"
   },
   {
    "duration": 86,
    "start_time": "2022-05-31T12:53:38.435Z"
   },
   {
    "duration": 78,
    "start_time": "2022-05-31T12:53:38.523Z"
   },
   {
    "duration": 11,
    "start_time": "2022-05-31T12:53:38.606Z"
   },
   {
    "duration": 5,
    "start_time": "2022-05-31T12:53:38.619Z"
   },
   {
    "duration": 102,
    "start_time": "2022-05-31T12:53:38.627Z"
   },
   {
    "duration": 10,
    "start_time": "2022-05-31T12:53:38.739Z"
   },
   {
    "duration": 57,
    "start_time": "2022-05-31T12:53:38.750Z"
   },
   {
    "duration": 439,
    "start_time": "2022-05-31T12:53:38.809Z"
   },
   {
    "duration": 9,
    "start_time": "2022-05-31T12:53:39.254Z"
   },
   {
    "duration": 1490,
    "start_time": "2022-05-31T12:53:39.268Z"
   },
   {
    "duration": 40,
    "start_time": "2022-05-31T12:53:40.763Z"
   },
   {
    "duration": 14,
    "start_time": "2022-05-31T12:53:40.806Z"
   },
   {
    "duration": 453,
    "start_time": "2022-05-31T12:53:40.822Z"
   },
   {
    "duration": 1133,
    "start_time": "2022-05-31T12:53:41.280Z"
   },
   {
    "duration": 95,
    "start_time": "2022-05-31T12:53:42.421Z"
   },
   {
    "duration": 29,
    "start_time": "2022-05-31T12:53:42.518Z"
   },
   {
    "duration": 428,
    "start_time": "2022-05-31T12:53:42.552Z"
   },
   {
    "duration": 957,
    "start_time": "2022-05-31T12:53:42.982Z"
   },
   {
    "duration": 45,
    "start_time": "2022-05-31T12:53:43.945Z"
   },
   {
    "duration": 21,
    "start_time": "2022-05-31T12:53:43.999Z"
   },
   {
    "duration": 381,
    "start_time": "2022-05-31T12:53:44.022Z"
   },
   {
    "duration": 311,
    "start_time": "2022-05-31T12:53:44.405Z"
   }
  ],
  "kernelspec": {
   "display_name": "Python 3",
   "language": "python",
   "name": "python3"
  },
  "language_info": {
   "codemirror_mode": {
    "name": "ipython",
    "version": 3
   },
   "file_extension": ".py",
   "mimetype": "text/x-python",
   "name": "python",
   "nbconvert_exporter": "python",
   "pygments_lexer": "ipython3",
   "version": "3.8.8"
  },
  "toc": {
   "base_numbering": 1,
   "nav_menu": {},
   "number_sections": true,
   "sideBar": true,
   "skip_h1_title": true,
   "title_cell": "Table of Contents",
   "title_sidebar": "Contents",
   "toc_cell": false,
   "toc_position": {},
   "toc_section_display": true,
   "toc_window_display": true
  }
 },
 "nbformat": 4,
 "nbformat_minor": 2
}
