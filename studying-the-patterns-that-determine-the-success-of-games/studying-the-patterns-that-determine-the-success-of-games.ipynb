{
 "cells": [
  {
   "cell_type": "markdown",
   "id": "93d3cd56",
   "metadata": {},
   "source": [
    "# Изучение закономерностей, определяющих успешность игр"
   ]
  },
  {
   "cell_type": "markdown",
   "id": "e3233a7b",
   "metadata": {},
   "source": [
    "## Описание проекта"
   ]
  },
  {
   "cell_type": "markdown",
   "id": "305ef65b",
   "metadata": {},
   "source": [
    "Данная работа является первым сборным проектом. Включающей в себя работу с программой Python и его библиотеками, предобработку данных, исследовательский анализ данных, статистический анализ данных и теорию вероятностей.\n",
    "\n",
    "Задание звучит следующим образом. Вы работаете в интернет-магазине «Стримчик», который продаёт по всему миру компьютерные игры. Из открытых источников доступны исторические данные о продажах игр, оценки пользователей и экспертов, жанры и платформы (например, Xboxили PlayStation). Вам нужно выявить определяющие успешность игры закономерности. Это позволит сделать ставку на потенциально популярный продукт и спланировать рекламные кампании. \n",
    "\n",
    "Перед вами данные до 2016 года. Представим, что сейчас декабрь 2016 г., и вы планируете кампанию на 2017-й. Нужно отработать принцип работы с данными. Неважно, прогнозируете ли вы продажи на 2017 год по данным 2016-го или же 2027-й — по данным 2026 года.\n",
    "\n",
    "В ходе работы, поступим по следующему плану:\n",
    "\n",
    "- Вывод общей информации;\n",
    "- Предобработка данных;\n",
    "- Исследовательский анализ данных;\n",
    "- Портрет пользователей;\n",
    "- Проверка гипотез."
   ]
  },
  {
   "cell_type": "markdown",
   "id": "e32fb672",
   "metadata": {
    "toc": true
   },
   "source": [
    "<h1>Содержание:<span class=\"tocSkip\"></span></h1>\n",
    "<div class=\"toc\"><ul class=\"toc-item\"><li><span><a href=\"#Описание-проекта\" data-toc-modified-id=\"Описание-проекта-1\"><span class=\"toc-item-num\">1&nbsp;&nbsp;</span>Описание проекта</a></span></li><li><span><a href=\"#Общая-информация\" data-toc-modified-id=\"Общая-информация-2\"><span class=\"toc-item-num\">2&nbsp;&nbsp;</span>Общая информация</a></span><ul class=\"toc-item\"><li><span><a href=\"#Вывод\" data-toc-modified-id=\"Вывод-2.1\"><span class=\"toc-item-num\">2.1&nbsp;&nbsp;</span>Вывод</a></span></li></ul></li><li><span><a href=\"#Предобработка-данных\" data-toc-modified-id=\"Предобработка-данных-3\"><span class=\"toc-item-num\">3&nbsp;&nbsp;</span>Предобработка данных</a></span><ul class=\"toc-item\"><li><span><a href=\"#Замена-названий-столбцов\" data-toc-modified-id=\"Замена-названий-столбцов-3.1\"><span class=\"toc-item-num\">3.1&nbsp;&nbsp;</span>Замена названий столбцов</a></span><ul class=\"toc-item\"><li><span><a href=\"#Вывод\" data-toc-modified-id=\"Вывод-3.1.1\"><span class=\"toc-item-num\">3.1.1&nbsp;&nbsp;</span>Вывод</a></span></li></ul></li><li><span><a href=\"#Типы-данных\" data-toc-modified-id=\"Типы-данных-3.2\"><span class=\"toc-item-num\">3.2&nbsp;&nbsp;</span>Типы данных</a></span><ul class=\"toc-item\"><li><span><a href=\"#Вывод\" data-toc-modified-id=\"Вывод-3.2.1\"><span class=\"toc-item-num\">3.2.1&nbsp;&nbsp;</span>Вывод</a></span></li></ul></li><li><span><a href=\"#Пропуски\" data-toc-modified-id=\"Пропуски-3.3\"><span class=\"toc-item-num\">3.3&nbsp;&nbsp;</span>Пропуски</a></span><ul class=\"toc-item\"><li><span><a href=\"#Столбцы-name-и-genre\" data-toc-modified-id=\"Столбцы-name-и-genre-3.3.1\"><span class=\"toc-item-num\">3.3.1&nbsp;&nbsp;</span>Столбцы <code>name</code> и <code>genre</code></a></span><ul class=\"toc-item\"><li><span><a href=\"#Вывод\" data-toc-modified-id=\"Вывод-3.3.1.1\"><span class=\"toc-item-num\">3.3.1.1&nbsp;&nbsp;</span>Вывод</a></span></li></ul></li><li><span><a href=\"#Столбец-year_of_release\" data-toc-modified-id=\"Столбец-year_of_release-3.3.2\"><span class=\"toc-item-num\">3.3.2&nbsp;&nbsp;</span>Столбец <code>year_of_release</code></a></span><ul class=\"toc-item\"><li><span><a href=\"#Вывод\" data-toc-modified-id=\"Вывод-3.3.2.1\"><span class=\"toc-item-num\">3.3.2.1&nbsp;&nbsp;</span>Вывод</a></span></li></ul></li><li><span><a href=\"#Столбец-critic_score-и-user_score\" data-toc-modified-id=\"Столбец-critic_score-и-user_score-3.3.3\"><span class=\"toc-item-num\">3.3.3&nbsp;&nbsp;</span>Столбец <code>critic_score</code> и <code>user_score</code></a></span><ul class=\"toc-item\"><li><span><a href=\"#Вывод\" data-toc-modified-id=\"Вывод-3.3.3.1\"><span class=\"toc-item-num\">3.3.3.1&nbsp;&nbsp;</span>Вывод</a></span></li></ul></li><li><span><a href=\"#Столбец-rating\" data-toc-modified-id=\"Столбец-rating-3.3.4\"><span class=\"toc-item-num\">3.3.4&nbsp;&nbsp;</span>Столбец <code>rating</code></a></span></li><li><span><a href=\"#Вывод\" data-toc-modified-id=\"Вывод-3.3.5\"><span class=\"toc-item-num\">3.3.5&nbsp;&nbsp;</span>Вывод</a></span></li></ul></li><li><span><a href=\"#Категоризация-возрастного-рейтинга\" data-toc-modified-id=\"Категоризация-возрастного-рейтинга-3.4\"><span class=\"toc-item-num\">3.4&nbsp;&nbsp;</span>Категоризация возрастного рейтинга</a></span><ul class=\"toc-item\"><li><span><a href=\"#Вывод\" data-toc-modified-id=\"Вывод-3.4.1\"><span class=\"toc-item-num\">3.4.1&nbsp;&nbsp;</span>Вывод</a></span></li></ul></li><li><span><a href=\"#Суммарные-продажи\" data-toc-modified-id=\"Суммарные-продажи-3.5\"><span class=\"toc-item-num\">3.5&nbsp;&nbsp;</span>Суммарные продажи</a></span><ul class=\"toc-item\"><li><span><a href=\"#Вывод\" data-toc-modified-id=\"Вывод-3.5.1\"><span class=\"toc-item-num\">3.5.1&nbsp;&nbsp;</span>Вывод</a></span></li></ul></li><li><span><a href=\"#Вывод\" data-toc-modified-id=\"Вывод-3.6\"><span class=\"toc-item-num\">3.6&nbsp;&nbsp;</span>Вывод</a></span></li></ul></li><li><span><a href=\"#Исследовательский-анализ-данных\" data-toc-modified-id=\"Исследовательский-анализ-данных-4\"><span class=\"toc-item-num\">4&nbsp;&nbsp;</span>Исследовательский анализ данных</a></span><ul class=\"toc-item\"><li><span><a href=\"#Суммарные-продажи-по-каждому-году\" data-toc-modified-id=\"Суммарные-продажи-по-каждому-году-4.1\"><span class=\"toc-item-num\">4.1&nbsp;&nbsp;</span>Суммарные продажи по каждому году</a></span><ul class=\"toc-item\"><li><span><a href=\"#Вывод\" data-toc-modified-id=\"Вывод-4.1.1\"><span class=\"toc-item-num\">4.1.1&nbsp;&nbsp;</span>Вывод</a></span></li></ul></li><li><span><a href=\"#Продажи-по-платформам\" data-toc-modified-id=\"Продажи-по-платформам-4.2\"><span class=\"toc-item-num\">4.2&nbsp;&nbsp;</span>Продажи по платформам</a></span><ul class=\"toc-item\"><li><span><a href=\"#Продажи-по-платформам-по-годам\" data-toc-modified-id=\"Продажи-по-платформам-по-годам-4.2.1\"><span class=\"toc-item-num\">4.2.1&nbsp;&nbsp;</span>Продажи по платформам по годам</a></span><ul class=\"toc-item\"><li><span><a href=\"#Вывод\" data-toc-modified-id=\"Вывод-4.2.1.1\"><span class=\"toc-item-num\">4.2.1.1&nbsp;&nbsp;</span>Вывод</a></span></li></ul></li><li><span><a href=\"#Вычисление-актуального-периода\" data-toc-modified-id=\"Вычисление-актуального-периода-4.2.2\"><span class=\"toc-item-num\">4.2.2&nbsp;&nbsp;</span>Вычисление актуального периода</a></span><ul class=\"toc-item\"><li><span><a href=\"#Вывод\" data-toc-modified-id=\"Вывод-4.2.2.1\"><span class=\"toc-item-num\">4.2.2.1&nbsp;&nbsp;</span>Вывод</a></span></li></ul></li><li><span><a href=\"#Лидеры-продаж-и-потенциально-прибыльные-платформы\" data-toc-modified-id=\"Лидеры-продаж-и-потенциально-прибыльные-платформы-4.2.3\"><span class=\"toc-item-num\">4.2.3&nbsp;&nbsp;</span>Лидеры продаж и потенциально прибыльные платформы</a></span></li><li><span><a href=\"#Вывод\" data-toc-modified-id=\"Вывод-4.2.4\"><span class=\"toc-item-num\">4.2.4&nbsp;&nbsp;</span>Вывод</a></span></li></ul></li><li><span><a href=\"#Построение-графика-по-глобальным-продажам-игр-в-разбивке-по-платформам.\" data-toc-modified-id=\"Построение-графика-по-глобальным-продажам-игр-в-разбивке-по-платформам.-4.3\"><span class=\"toc-item-num\">4.3&nbsp;&nbsp;</span>Построение графика по глобальным продажам игр в разбивке по платформам.</a></span><ul class=\"toc-item\"><li><ul class=\"toc-item\"><li><span><a href=\"#Вывод\" data-toc-modified-id=\"Вывод-4.3.0.1\"><span class=\"toc-item-num\">4.3.0.1&nbsp;&nbsp;</span>Вывод</a></span></li></ul></li></ul></li><li><span><a href=\"#Влияние-отзывов-на-продажи-внутри-одной-платформы\" data-toc-modified-id=\"Влияние-отзывов-на-продажи-внутри-одной-платформы-4.4\"><span class=\"toc-item-num\">4.4&nbsp;&nbsp;</span>Влияние отзывов на продажи внутри одной платформы</a></span><ul class=\"toc-item\"><li><ul class=\"toc-item\"><li><span><a href=\"#Вывод\" data-toc-modified-id=\"Вывод-4.4.0.1\"><span class=\"toc-item-num\">4.4.0.1&nbsp;&nbsp;</span>Вывод</a></span></li></ul></li><li><span><a href=\"#Сравнение-выводов-по-зависимостям-от-оценок-в-других-платформах\" data-toc-modified-id=\"Сравнение-выводов-по-зависимостям-от-оценок-в-других-платформах-4.4.1\"><span class=\"toc-item-num\">4.4.1&nbsp;&nbsp;</span>Сравнение выводов по зависимостям от оценок в других платформах</a></span><ul class=\"toc-item\"><li><span><a href=\"#Вывод\" data-toc-modified-id=\"Вывод-4.4.1.1\"><span class=\"toc-item-num\">4.4.1.1&nbsp;&nbsp;</span>Вывод</a></span></li></ul></li></ul></li><li><span><a href=\"#Распределение-игр-по-жанрам\" data-toc-modified-id=\"Распределение-игр-по-жанрам-4.5\"><span class=\"toc-item-num\">4.5&nbsp;&nbsp;</span>Распределение игр по жанрам</a></span><ul class=\"toc-item\"><li><ul class=\"toc-item\"><li><span><a href=\"#Вывод\" data-toc-modified-id=\"Вывод-4.5.0.1\"><span class=\"toc-item-num\">4.5.0.1&nbsp;&nbsp;</span>Вывод</a></span></li></ul></li></ul></li></ul></li><li><span><a href=\"#Портрет-пользователя\" data-toc-modified-id=\"Портрет-пользователя-5\"><span class=\"toc-item-num\">5&nbsp;&nbsp;</span>Портрет пользователя</a></span><ul class=\"toc-item\"><li><span><a href=\"#Самые-популярные-платформы\" data-toc-modified-id=\"Самые-популярные-платформы-5.1\"><span class=\"toc-item-num\">5.1&nbsp;&nbsp;</span>Самые популярные платформы</a></span><ul class=\"toc-item\"><li><ul class=\"toc-item\"><li><span><a href=\"#Вывод\" data-toc-modified-id=\"Вывод-5.1.0.1\"><span class=\"toc-item-num\">5.1.0.1&nbsp;&nbsp;</span>Вывод</a></span></li></ul></li></ul></li><li><span><a href=\"#Самые-популярные-жанры\" data-toc-modified-id=\"Самые-популярные-жанры-5.2\"><span class=\"toc-item-num\">5.2&nbsp;&nbsp;</span>Самые популярные жанры</a></span><ul class=\"toc-item\"><li><ul class=\"toc-item\"><li><span><a href=\"#Вывод\" data-toc-modified-id=\"Вывод-5.2.0.1\"><span class=\"toc-item-num\">5.2.0.1&nbsp;&nbsp;</span>Вывод</a></span></li></ul></li></ul></li><li><span><a href=\"#Влияет-ли-рейтинг-ESRB\" data-toc-modified-id=\"Влияет-ли-рейтинг-ESRB-5.3\"><span class=\"toc-item-num\">5.3&nbsp;&nbsp;</span>Влияет ли рейтинг ESRB</a></span><ul class=\"toc-item\"><li><ul class=\"toc-item\"><li><span><a href=\"#Вывод\" data-toc-modified-id=\"Вывод-5.3.0.1\"><span class=\"toc-item-num\">5.3.0.1&nbsp;&nbsp;</span>Вывод</a></span></li></ul></li></ul></li></ul></li><li><span><a href=\"#Проверка-гипотез\" data-toc-modified-id=\"Проверка-гипотез-6\"><span class=\"toc-item-num\">6&nbsp;&nbsp;</span>Проверка гипотез</a></span><ul class=\"toc-item\"><li><span><a href=\"#Гипотеза-1\" data-toc-modified-id=\"Гипотеза-1-6.1\"><span class=\"toc-item-num\">6.1&nbsp;&nbsp;</span>Гипотеза 1</a></span><ul class=\"toc-item\"><li><span><a href=\"#Проверим-на-нормальность-распределения\" data-toc-modified-id=\"Проверим-на-нормальность-распределения-6.1.1\"><span class=\"toc-item-num\">6.1.1&nbsp;&nbsp;</span>Проверим на нормальность распределения</a></span><ul class=\"toc-item\"><li><span><a href=\"#Вывод\" data-toc-modified-id=\"Вывод-6.1.1.1\"><span class=\"toc-item-num\">6.1.1.1&nbsp;&nbsp;</span>Вывод</a></span></li></ul></li><li><span><a href=\"#Проверка-нормального-распределения-при-помощи-QQ-графиков\" data-toc-modified-id=\"Проверка-нормального-распределения-при-помощи-QQ-графиков-6.1.2\"><span class=\"toc-item-num\">6.1.2&nbsp;&nbsp;</span>Проверка нормального распределения при помощи QQ-графиков</a></span><ul class=\"toc-item\"><li><span><a href=\"#Вывод\" data-toc-modified-id=\"Вывод-6.1.2.1\"><span class=\"toc-item-num\">6.1.2.1&nbsp;&nbsp;</span>Вывод</a></span></li></ul></li><li><span><a href=\"#Двусторонняя-проверка-гипотезы\" data-toc-modified-id=\"Двусторонняя-проверка-гипотезы-6.1.3\"><span class=\"toc-item-num\">6.1.3&nbsp;&nbsp;</span>Двусторонняя проверка гипотезы</a></span><ul class=\"toc-item\"><li><span><a href=\"#Вывод\" data-toc-modified-id=\"Вывод-6.1.3.1\"><span class=\"toc-item-num\">6.1.3.1&nbsp;&nbsp;</span>Вывод</a></span></li></ul></li><li><span><a href=\"#Двусторонняя-проверка-по-непараметрическому-тесту-Манна-Уитни\" data-toc-modified-id=\"Двусторонняя-проверка-по-непараметрическому-тесту-Манна-Уитни-6.1.4\"><span class=\"toc-item-num\">6.1.4&nbsp;&nbsp;</span>Двусторонняя проверка по непараметрическому тесту Манна-Уитни</a></span><ul class=\"toc-item\"><li><span><a href=\"#Вывод\" data-toc-modified-id=\"Вывод-6.1.4.1\"><span class=\"toc-item-num\">6.1.4.1&nbsp;&nbsp;</span>Вывод</a></span></li></ul></li><li><span><a href=\"#Вывод-по-гипотизе-№1\" data-toc-modified-id=\"Вывод-по-гипотизе-№1-6.1.5\"><span class=\"toc-item-num\">6.1.5&nbsp;&nbsp;</span>Вывод по гипотизе №1</a></span></li></ul></li><li><span><a href=\"#Гипотеза-2\" data-toc-modified-id=\"Гипотеза-2-6.2\"><span class=\"toc-item-num\">6.2&nbsp;&nbsp;</span>Гипотеза 2</a></span><ul class=\"toc-item\"><li><span><a href=\"#Проверим-на-нормальность-распределения\" data-toc-modified-id=\"Проверим-на-нормальность-распределения-6.2.1\"><span class=\"toc-item-num\">6.2.1&nbsp;&nbsp;</span>Проверим на нормальность распределения</a></span><ul class=\"toc-item\"><li><span><a href=\"#Вывод\" data-toc-modified-id=\"Вывод-6.2.1.1\"><span class=\"toc-item-num\">6.2.1.1&nbsp;&nbsp;</span>Вывод</a></span></li></ul></li><li><span><a href=\"#Проверка-нормального-распределения-при-помощи-QQ-графиков\" data-toc-modified-id=\"Проверка-нормального-распределения-при-помощи-QQ-графиков-6.2.2\"><span class=\"toc-item-num\">6.2.2&nbsp;&nbsp;</span>Проверка нормального распределения при помощи QQ-графиков</a></span><ul class=\"toc-item\"><li><span><a href=\"#Вывод\" data-toc-modified-id=\"Вывод-6.2.2.1\"><span class=\"toc-item-num\">6.2.2.1&nbsp;&nbsp;</span>Вывод</a></span></li></ul></li><li><span><a href=\"#Двусторонняя-проверка-гипотезы\" data-toc-modified-id=\"Двусторонняя-проверка-гипотезы-6.2.3\"><span class=\"toc-item-num\">6.2.3&nbsp;&nbsp;</span>Двусторонняя проверка гипотезы</a></span><ul class=\"toc-item\"><li><span><a href=\"#Вывод\" data-toc-modified-id=\"Вывод-6.2.3.1\"><span class=\"toc-item-num\">6.2.3.1&nbsp;&nbsp;</span>Вывод</a></span></li></ul></li><li><span><a href=\"#Двусторонняя-проверка-по-непараметрическому-тесту-Манна-Уитни\" data-toc-modified-id=\"Двусторонняя-проверка-по-непараметрическому-тесту-Манна-Уитни-6.2.4\"><span class=\"toc-item-num\">6.2.4&nbsp;&nbsp;</span>Двусторонняя проверка по непараметрическому тесту Манна-Уитни</a></span><ul class=\"toc-item\"><li><span><a href=\"#Вывод\" data-toc-modified-id=\"Вывод-6.2.4.1\"><span class=\"toc-item-num\">6.2.4.1&nbsp;&nbsp;</span>Вывод</a></span></li></ul></li><li><span><a href=\"#Вывод-по-гипотизе-№2\" data-toc-modified-id=\"Вывод-по-гипотизе-№2-6.2.5\"><span class=\"toc-item-num\">6.2.5&nbsp;&nbsp;</span>Вывод по гипотизе №2</a></span></li></ul></li></ul></li><li><span><a href=\"#Общий-вывод\" data-toc-modified-id=\"Общий-вывод-7\"><span class=\"toc-item-num\">7&nbsp;&nbsp;</span>Общий вывод</a></span></li></ul></div>"
   ]
  },
  {
   "cell_type": "markdown",
   "id": "f3b7a394",
   "metadata": {},
   "source": [
    "## Общая информация"
   ]
  },
  {
   "cell_type": "markdown",
   "id": "69018fde",
   "metadata": {},
   "source": [
    "Импортируем необходимые библиотеки"
   ]
  },
  {
   "cell_type": "code",
   "execution_count": 1,
   "id": "b225494b",
   "metadata": {},
   "outputs": [],
   "source": [
    "import pandas as pd\n",
    "import numpy as np\n",
    "import seaborn as sns\n",
    "from matplotlib import pyplot as plt\n",
    "from scipy import stats as st"
   ]
  },
  {
   "cell_type": "markdown",
   "id": "b72f9c36",
   "metadata": {},
   "source": [
    "Настроим вывод таблиц, чтобы выводились все столбцы."
   ]
  },
  {
   "cell_type": "code",
   "execution_count": 2,
   "id": "8137d2d5",
   "metadata": {},
   "outputs": [],
   "source": [
    "pd.set_option('display.max_columns', None)"
   ]
  },
  {
   "cell_type": "markdown",
   "id": "aa24c966",
   "metadata": {},
   "source": [
    "Сохраним даннные в датафрейм `df`"
   ]
  },
  {
   "cell_type": "code",
   "execution_count": 3,
   "id": "322ee204",
   "metadata": {},
   "outputs": [],
   "source": [
    "#для работы на платформе Яндекс Практикума и для работы в локальном пространстве\n",
    "try:\n",
    "    df = pd.read_csv('/datasets/games.csv')\n",
    "except:\n",
    "    df = pd.read_csv('games.csv')"
   ]
  },
  {
   "cell_type": "markdown",
   "id": "381037b2",
   "metadata": {},
   "source": [
    "Выведим первые пять строк датафрейма"
   ]
  },
  {
   "cell_type": "code",
   "execution_count": 4,
   "id": "fd2bc011",
   "metadata": {},
   "outputs": [
    {
     "data": {
      "text/html": [
       "<div>\n",
       "<style scoped>\n",
       "    .dataframe tbody tr th:only-of-type {\n",
       "        vertical-align: middle;\n",
       "    }\n",
       "\n",
       "    .dataframe tbody tr th {\n",
       "        vertical-align: top;\n",
       "    }\n",
       "\n",
       "    .dataframe thead th {\n",
       "        text-align: right;\n",
       "    }\n",
       "</style>\n",
       "<table border=\"1\" class=\"dataframe\">\n",
       "  <thead>\n",
       "    <tr style=\"text-align: right;\">\n",
       "      <th></th>\n",
       "      <th>Name</th>\n",
       "      <th>Platform</th>\n",
       "      <th>Year_of_Release</th>\n",
       "      <th>Genre</th>\n",
       "      <th>NA_sales</th>\n",
       "      <th>EU_sales</th>\n",
       "      <th>JP_sales</th>\n",
       "      <th>Other_sales</th>\n",
       "      <th>Critic_Score</th>\n",
       "      <th>User_Score</th>\n",
       "      <th>Rating</th>\n",
       "    </tr>\n",
       "  </thead>\n",
       "  <tbody>\n",
       "    <tr>\n",
       "      <th>0</th>\n",
       "      <td>Wii Sports</td>\n",
       "      <td>Wii</td>\n",
       "      <td>2006.0</td>\n",
       "      <td>Sports</td>\n",
       "      <td>41.36</td>\n",
       "      <td>28.96</td>\n",
       "      <td>3.77</td>\n",
       "      <td>8.45</td>\n",
       "      <td>76.0</td>\n",
       "      <td>8</td>\n",
       "      <td>E</td>\n",
       "    </tr>\n",
       "    <tr>\n",
       "      <th>1</th>\n",
       "      <td>Super Mario Bros.</td>\n",
       "      <td>NES</td>\n",
       "      <td>1985.0</td>\n",
       "      <td>Platform</td>\n",
       "      <td>29.08</td>\n",
       "      <td>3.58</td>\n",
       "      <td>6.81</td>\n",
       "      <td>0.77</td>\n",
       "      <td>NaN</td>\n",
       "      <td>NaN</td>\n",
       "      <td>NaN</td>\n",
       "    </tr>\n",
       "    <tr>\n",
       "      <th>2</th>\n",
       "      <td>Mario Kart Wii</td>\n",
       "      <td>Wii</td>\n",
       "      <td>2008.0</td>\n",
       "      <td>Racing</td>\n",
       "      <td>15.68</td>\n",
       "      <td>12.76</td>\n",
       "      <td>3.79</td>\n",
       "      <td>3.29</td>\n",
       "      <td>82.0</td>\n",
       "      <td>8.3</td>\n",
       "      <td>E</td>\n",
       "    </tr>\n",
       "    <tr>\n",
       "      <th>3</th>\n",
       "      <td>Wii Sports Resort</td>\n",
       "      <td>Wii</td>\n",
       "      <td>2009.0</td>\n",
       "      <td>Sports</td>\n",
       "      <td>15.61</td>\n",
       "      <td>10.93</td>\n",
       "      <td>3.28</td>\n",
       "      <td>2.95</td>\n",
       "      <td>80.0</td>\n",
       "      <td>8</td>\n",
       "      <td>E</td>\n",
       "    </tr>\n",
       "    <tr>\n",
       "      <th>4</th>\n",
       "      <td>Pokemon Red/Pokemon Blue</td>\n",
       "      <td>GB</td>\n",
       "      <td>1996.0</td>\n",
       "      <td>Role-Playing</td>\n",
       "      <td>11.27</td>\n",
       "      <td>8.89</td>\n",
       "      <td>10.22</td>\n",
       "      <td>1.00</td>\n",
       "      <td>NaN</td>\n",
       "      <td>NaN</td>\n",
       "      <td>NaN</td>\n",
       "    </tr>\n",
       "  </tbody>\n",
       "</table>\n",
       "</div>"
      ],
      "text/plain": [
       "                       Name Platform  Year_of_Release         Genre  NA_sales  \\\n",
       "0                Wii Sports      Wii           2006.0        Sports     41.36   \n",
       "1         Super Mario Bros.      NES           1985.0      Platform     29.08   \n",
       "2            Mario Kart Wii      Wii           2008.0        Racing     15.68   \n",
       "3         Wii Sports Resort      Wii           2009.0        Sports     15.61   \n",
       "4  Pokemon Red/Pokemon Blue       GB           1996.0  Role-Playing     11.27   \n",
       "\n",
       "   EU_sales  JP_sales  Other_sales  Critic_Score User_Score Rating  \n",
       "0     28.96      3.77         8.45          76.0          8      E  \n",
       "1      3.58      6.81         0.77           NaN        NaN    NaN  \n",
       "2     12.76      3.79         3.29          82.0        8.3      E  \n",
       "3     10.93      3.28         2.95          80.0          8      E  \n",
       "4      8.89     10.22         1.00           NaN        NaN    NaN  "
      ]
     },
     "execution_count": 4,
     "metadata": {},
     "output_type": "execute_result"
    }
   ],
   "source": [
    "df.head()"
   ]
  },
  {
   "cell_type": "markdown",
   "id": "4f682077",
   "metadata": {},
   "source": [
    "Выведим общую информацию по датафрейму"
   ]
  },
  {
   "cell_type": "code",
   "execution_count": 5,
   "id": "9e015279",
   "metadata": {},
   "outputs": [
    {
     "name": "stdout",
     "output_type": "stream",
     "text": [
      "<class 'pandas.core.frame.DataFrame'>\n",
      "RangeIndex: 16715 entries, 0 to 16714\n",
      "Data columns (total 11 columns):\n",
      " #   Column           Non-Null Count  Dtype  \n",
      "---  ------           --------------  -----  \n",
      " 0   Name             16713 non-null  object \n",
      " 1   Platform         16715 non-null  object \n",
      " 2   Year_of_Release  16446 non-null  float64\n",
      " 3   Genre            16713 non-null  object \n",
      " 4   NA_sales         16715 non-null  float64\n",
      " 5   EU_sales         16715 non-null  float64\n",
      " 6   JP_sales         16715 non-null  float64\n",
      " 7   Other_sales      16715 non-null  float64\n",
      " 8   Critic_Score     8137 non-null   float64\n",
      " 9   User_Score       10014 non-null  object \n",
      " 10  Rating           9949 non-null   object \n",
      "dtypes: float64(6), object(5)\n",
      "memory usage: 1.4+ MB\n"
     ]
    }
   ],
   "source": [
    "df.info()"
   ]
  },
  {
   "cell_type": "markdown",
   "id": "a8da4e3a",
   "metadata": {},
   "source": [
    "По условиям нам необходимо обратить внимание на колонку `User_Score`, конкретнее на значение tbd (оценка определяется). Выведим размер значений tbd."
   ]
  },
  {
   "cell_type": "code",
   "execution_count": 6,
   "id": "63215798",
   "metadata": {},
   "outputs": [
    {
     "data": {
      "text/plain": [
       "(2424, 11)"
      ]
     },
     "execution_count": 6,
     "metadata": {},
     "output_type": "execute_result"
    }
   ],
   "source": [
    "df[df['User_Score'] == 'tbd'].shape"
   ]
  },
  {
   "cell_type": "markdown",
   "id": "9f8ef463",
   "metadata": {},
   "source": [
    "### Вывод"
   ]
  },
  {
   "cell_type": "markdown",
   "id": "d78fcfbe",
   "metadata": {},
   "source": [
    "Мы успешно сохранили данные файла в датафрейм df. Вывели общую информацию.\n",
    "\n",
    "Всего в датафрейме 16715 строк и 11 колонок.\n",
    "\n",
    "Столбцы прописаны не учитывая рекомендации PEP8, нам нужно будет их привести в норму.\n",
    "\n",
    "Мы видим, что есть пропущенные значения в столбцах `'Name'`, `'Year_of_Release'`, `'Genre'`, `'Critic_Score'`, `'User_Score'`, `'Rating'`.\n",
    "\n",
    "По типу данных, нам нужно изменить тип в столбцах `'Year_of_Release'` и `'User_Score'`. \n",
    "Вероятнее всего, столбец `User_Score` определился как тип данных `object`, т.к. в нем есть значение `tbd` означающее, что оценка еще опрделяется. Т.к. оценка еще определяется то, по факту ее нет, следовательно мы ее можем принять как за отсутствие значений и обрабатывать в общем режиме. При смене типа данных на `float` она примет значение NaN."
   ]
  },
  {
   "cell_type": "markdown",
   "id": "d74d6ddd",
   "metadata": {},
   "source": [
    "## Предобработка данных"
   ]
  },
  {
   "cell_type": "markdown",
   "id": "f8fe301d",
   "metadata": {},
   "source": [
    "### Замена названий столбцов"
   ]
  },
  {
   "cell_type": "markdown",
   "id": "ee3b38d0",
   "metadata": {},
   "source": [
    "Т.к. все название столбцов не соответствуют рекомендациям PEP8 заменим их на правильные. Несоответствуют они потому, что написанны с использованием прописных букв. "
   ]
  },
  {
   "cell_type": "markdown",
   "id": "7515317f",
   "metadata": {},
   "source": [
    "Приведем названия столбцов в порядок"
   ]
  },
  {
   "cell_type": "code",
   "execution_count": 7,
   "id": "2534d632",
   "metadata": {},
   "outputs": [],
   "source": [
    "df.columns = df.columns.str.lower()"
   ]
  },
  {
   "cell_type": "markdown",
   "id": "c5b04cc9",
   "metadata": {},
   "source": [
    "Создадим список столбцов которые нужно изменить."
   ]
  },
  {
   "cell_type": "code",
   "execution_count": 8,
   "id": "f3f31bd1",
   "metadata": {},
   "outputs": [],
   "source": [
    "# list_columns = list(df.columns)"
   ]
  },
  {
   "cell_type": "markdown",
   "id": "3d4d3fb6",
   "metadata": {},
   "source": [
    "С помощью цикла приведем названия столбцов в порядок."
   ]
  },
  {
   "cell_type": "code",
   "execution_count": 9,
   "id": "acc92e52",
   "metadata": {},
   "outputs": [],
   "source": [
    "# for column in list_columns:\n",
    "#     df = df.rename(columns = {column: column.lower().strip()})"
   ]
  },
  {
   "cell_type": "markdown",
   "id": "963725d0",
   "metadata": {},
   "source": [
    "Выведим результат."
   ]
  },
  {
   "cell_type": "code",
   "execution_count": 10,
   "id": "3e0b5536",
   "metadata": {},
   "outputs": [
    {
     "data": {
      "text/html": [
       "<div>\n",
       "<style scoped>\n",
       "    .dataframe tbody tr th:only-of-type {\n",
       "        vertical-align: middle;\n",
       "    }\n",
       "\n",
       "    .dataframe tbody tr th {\n",
       "        vertical-align: top;\n",
       "    }\n",
       "\n",
       "    .dataframe thead th {\n",
       "        text-align: right;\n",
       "    }\n",
       "</style>\n",
       "<table border=\"1\" class=\"dataframe\">\n",
       "  <thead>\n",
       "    <tr style=\"text-align: right;\">\n",
       "      <th></th>\n",
       "      <th>name</th>\n",
       "      <th>platform</th>\n",
       "      <th>year_of_release</th>\n",
       "      <th>genre</th>\n",
       "      <th>na_sales</th>\n",
       "      <th>eu_sales</th>\n",
       "      <th>jp_sales</th>\n",
       "      <th>other_sales</th>\n",
       "      <th>critic_score</th>\n",
       "      <th>user_score</th>\n",
       "      <th>rating</th>\n",
       "    </tr>\n",
       "  </thead>\n",
       "  <tbody>\n",
       "    <tr>\n",
       "      <th>0</th>\n",
       "      <td>Wii Sports</td>\n",
       "      <td>Wii</td>\n",
       "      <td>2006.0</td>\n",
       "      <td>Sports</td>\n",
       "      <td>41.36</td>\n",
       "      <td>28.96</td>\n",
       "      <td>3.77</td>\n",
       "      <td>8.45</td>\n",
       "      <td>76.0</td>\n",
       "      <td>8</td>\n",
       "      <td>E</td>\n",
       "    </tr>\n",
       "  </tbody>\n",
       "</table>\n",
       "</div>"
      ],
      "text/plain": [
       "         name platform  year_of_release   genre  na_sales  eu_sales  jp_sales  \\\n",
       "0  Wii Sports      Wii           2006.0  Sports     41.36     28.96      3.77   \n",
       "\n",
       "   other_sales  critic_score user_score rating  \n",
       "0         8.45          76.0          8      E  "
      ]
     },
     "execution_count": 10,
     "metadata": {},
     "output_type": "execute_result"
    }
   ],
   "source": [
    "df.head(1)"
   ]
  },
  {
   "cell_type": "markdown",
   "id": "20025109",
   "metadata": {},
   "source": [
    "#### Вывод"
   ]
  },
  {
   "cell_type": "markdown",
   "id": "29cfa441",
   "metadata": {},
   "source": [
    "Мы успешно привели названия столбцов к правильному написанию."
   ]
  },
  {
   "cell_type": "markdown",
   "id": "ad47c45c",
   "metadata": {},
   "source": [
    "### Типы данных"
   ]
  },
  {
   "cell_type": "markdown",
   "id": "54954800",
   "metadata": {},
   "source": [
    "Нам необходимо изменить тип в столбцах `'year_of_release'` с `float64` на формат `int` и `'user_score'` с `object` на формат `float`."
   ]
  },
  {
   "cell_type": "markdown",
   "id": "638ab7c0",
   "metadata": {},
   "source": [
    "Прежде чем перевести в другой формат столбец `year_of_release`, нам необходимо заполнить пропуски, поэтому пока отложим это действие."
   ]
  },
  {
   "cell_type": "markdown",
   "id": "2ba2d20e",
   "metadata": {},
   "source": [
    "Переведем в формат `float` столбец `user_score`, т.к. данный столбец количественный и чтобы мы могли в дальнейшем оперировать этими данными."
   ]
  },
  {
   "cell_type": "code",
   "execution_count": 11,
   "id": "68b05dd7",
   "metadata": {},
   "outputs": [],
   "source": [
    "df['user_score'] = pd.to_numeric(df['user_score'], errors='coerce')"
   ]
  },
  {
   "cell_type": "markdown",
   "id": "9be9cbc3",
   "metadata": {},
   "source": [
    "Проверим новый формат столбца:"
   ]
  },
  {
   "cell_type": "code",
   "execution_count": 12,
   "id": "11e103dc",
   "metadata": {},
   "outputs": [
    {
     "data": {
      "text/plain": [
       "dtype('float64')"
      ]
     },
     "execution_count": 12,
     "metadata": {},
     "output_type": "execute_result"
    }
   ],
   "source": [
    "df['user_score'].dtypes"
   ]
  },
  {
   "cell_type": "markdown",
   "id": "001e915c",
   "metadata": {},
   "source": [
    "#### Вывод"
   ]
  },
  {
   "cell_type": "markdown",
   "id": "96c259fb",
   "metadata": {},
   "source": [
    "Мы успешно перевели столбец `user_score` с типа данных `object` на `float`. В столбце `year_of_release` поменяем после заполнения пропусков."
   ]
  },
  {
   "cell_type": "markdown",
   "id": "cc43e6b8",
   "metadata": {},
   "source": [
    "### Пропуски"
   ]
  },
  {
   "cell_type": "markdown",
   "id": "1cac1e39",
   "metadata": {},
   "source": [
    "Выведим количество пропущенных значений по каждому столбцу."
   ]
  },
  {
   "cell_type": "code",
   "execution_count": 13,
   "id": "bb480a0c",
   "metadata": {},
   "outputs": [
    {
     "data": {
      "text/plain": [
       "name                  2\n",
       "platform              0\n",
       "year_of_release     269\n",
       "genre                 2\n",
       "na_sales              0\n",
       "eu_sales              0\n",
       "jp_sales              0\n",
       "other_sales           0\n",
       "critic_score       8578\n",
       "user_score         9125\n",
       "rating             6766\n",
       "dtype: int64"
      ]
     },
     "execution_count": 13,
     "metadata": {},
     "output_type": "execute_result"
    }
   ],
   "source": [
    "df.isna().sum()"
   ]
  },
  {
   "cell_type": "markdown",
   "id": "0370c9be",
   "metadata": {},
   "source": [
    "#### Столбцы `name` и `genre`"
   ]
  },
  {
   "cell_type": "markdown",
   "id": "f476ff30",
   "metadata": {},
   "source": [
    "Выведим пропущенные значение по столбцу `name`"
   ]
  },
  {
   "cell_type": "code",
   "execution_count": 14,
   "id": "db83b16e",
   "metadata": {},
   "outputs": [
    {
     "data": {
      "text/html": [
       "<div>\n",
       "<style scoped>\n",
       "    .dataframe tbody tr th:only-of-type {\n",
       "        vertical-align: middle;\n",
       "    }\n",
       "\n",
       "    .dataframe tbody tr th {\n",
       "        vertical-align: top;\n",
       "    }\n",
       "\n",
       "    .dataframe thead th {\n",
       "        text-align: right;\n",
       "    }\n",
       "</style>\n",
       "<table border=\"1\" class=\"dataframe\">\n",
       "  <thead>\n",
       "    <tr style=\"text-align: right;\">\n",
       "      <th></th>\n",
       "      <th>name</th>\n",
       "      <th>platform</th>\n",
       "      <th>year_of_release</th>\n",
       "      <th>genre</th>\n",
       "      <th>na_sales</th>\n",
       "      <th>eu_sales</th>\n",
       "      <th>jp_sales</th>\n",
       "      <th>other_sales</th>\n",
       "      <th>critic_score</th>\n",
       "      <th>user_score</th>\n",
       "      <th>rating</th>\n",
       "    </tr>\n",
       "  </thead>\n",
       "  <tbody>\n",
       "    <tr>\n",
       "      <th>659</th>\n",
       "      <td>NaN</td>\n",
       "      <td>GEN</td>\n",
       "      <td>1993.0</td>\n",
       "      <td>NaN</td>\n",
       "      <td>1.78</td>\n",
       "      <td>0.53</td>\n",
       "      <td>0.00</td>\n",
       "      <td>0.08</td>\n",
       "      <td>NaN</td>\n",
       "      <td>NaN</td>\n",
       "      <td>NaN</td>\n",
       "    </tr>\n",
       "    <tr>\n",
       "      <th>14244</th>\n",
       "      <td>NaN</td>\n",
       "      <td>GEN</td>\n",
       "      <td>1993.0</td>\n",
       "      <td>NaN</td>\n",
       "      <td>0.00</td>\n",
       "      <td>0.00</td>\n",
       "      <td>0.03</td>\n",
       "      <td>0.00</td>\n",
       "      <td>NaN</td>\n",
       "      <td>NaN</td>\n",
       "      <td>NaN</td>\n",
       "    </tr>\n",
       "  </tbody>\n",
       "</table>\n",
       "</div>"
      ],
      "text/plain": [
       "      name platform  year_of_release genre  na_sales  eu_sales  jp_sales  \\\n",
       "659    NaN      GEN           1993.0   NaN      1.78      0.53      0.00   \n",
       "14244  NaN      GEN           1993.0   NaN      0.00      0.00      0.03   \n",
       "\n",
       "       other_sales  critic_score  user_score rating  \n",
       "659           0.08           NaN         NaN    NaN  \n",
       "14244         0.00           NaN         NaN    NaN  "
      ]
     },
     "execution_count": 14,
     "metadata": {},
     "output_type": "execute_result"
    }
   ],
   "source": [
    "df[df['name'].isna()]"
   ]
  },
  {
   "cell_type": "markdown",
   "id": "581f399b",
   "metadata": {},
   "source": [
    "Ни жанра, ни оценок данные игры не содержат. Как раз эти два игры являются 2мя пропусками столбцов `name` и `genre`. Вполне мы можем пренебречь этими играми и удалить их."
   ]
  },
  {
   "cell_type": "code",
   "execution_count": 15,
   "id": "1fc3ab05",
   "metadata": {},
   "outputs": [],
   "source": [
    "df = df.dropna(subset=['name'])"
   ]
  },
  {
   "cell_type": "markdown",
   "id": "9d014c2f",
   "metadata": {},
   "source": [
    "##### Вывод"
   ]
  },
  {
   "cell_type": "markdown",
   "id": "ab87966d",
   "metadata": {},
   "source": [
    "Т.к. данные пропуски мало информацивные, мы не можем их идентифицировать по названию и жанру, плюс отсутствие каких либо оценок. По количеству их всего 2 игры - не существенно. Поэтому мы их успешно удалили."
   ]
  },
  {
   "cell_type": "markdown",
   "id": "79c1263b",
   "metadata": {},
   "source": [
    "#### Столбец `year_of_release`"
   ]
  },
  {
   "cell_type": "markdown",
   "id": "dfd4eece",
   "metadata": {},
   "source": [
    "Столбец `year_of_release`. Мы видим, что в пропущенных значениях по году релиза, часть игр имеет одинаковое название, жанр, но разные платформы, вполне вероятно, что они все выпустились одним годом, но на разных платформах. Поэтому мы можем, у игр с одинаковыми названиями применить пропуски значениями тех одноименных игр, которые есть."
   ]
  },
  {
   "cell_type": "markdown",
   "id": "dac6e0bc",
   "metadata": {},
   "source": [
    "Выведим пример такой игры:"
   ]
  },
  {
   "cell_type": "code",
   "execution_count": 16,
   "id": "4067649b",
   "metadata": {},
   "outputs": [
    {
     "data": {
      "text/html": [
       "<div>\n",
       "<style scoped>\n",
       "    .dataframe tbody tr th:only-of-type {\n",
       "        vertical-align: middle;\n",
       "    }\n",
       "\n",
       "    .dataframe tbody tr th {\n",
       "        vertical-align: top;\n",
       "    }\n",
       "\n",
       "    .dataframe thead th {\n",
       "        text-align: right;\n",
       "    }\n",
       "</style>\n",
       "<table border=\"1\" class=\"dataframe\">\n",
       "  <thead>\n",
       "    <tr style=\"text-align: right;\">\n",
       "      <th></th>\n",
       "      <th>name</th>\n",
       "      <th>platform</th>\n",
       "      <th>year_of_release</th>\n",
       "      <th>genre</th>\n",
       "      <th>na_sales</th>\n",
       "      <th>eu_sales</th>\n",
       "      <th>jp_sales</th>\n",
       "      <th>other_sales</th>\n",
       "      <th>critic_score</th>\n",
       "      <th>user_score</th>\n",
       "      <th>rating</th>\n",
       "    </tr>\n",
       "  </thead>\n",
       "  <tbody>\n",
       "    <tr>\n",
       "      <th>1609</th>\n",
       "      <td>LEGO Harry Potter: Years 5-7</td>\n",
       "      <td>Wii</td>\n",
       "      <td>NaN</td>\n",
       "      <td>Action</td>\n",
       "      <td>0.69</td>\n",
       "      <td>0.42</td>\n",
       "      <td>0.0</td>\n",
       "      <td>0.12</td>\n",
       "      <td>76.0</td>\n",
       "      <td>7.8</td>\n",
       "      <td>E10+</td>\n",
       "    </tr>\n",
       "    <tr>\n",
       "      <th>2132</th>\n",
       "      <td>LEGO Harry Potter: Years 5-7</td>\n",
       "      <td>X360</td>\n",
       "      <td>NaN</td>\n",
       "      <td>Action</td>\n",
       "      <td>0.51</td>\n",
       "      <td>0.37</td>\n",
       "      <td>0.0</td>\n",
       "      <td>0.09</td>\n",
       "      <td>77.0</td>\n",
       "      <td>7.9</td>\n",
       "      <td>E10+</td>\n",
       "    </tr>\n",
       "    <tr>\n",
       "      <th>2273</th>\n",
       "      <td>LEGO Harry Potter: Years 5-7</td>\n",
       "      <td>PS3</td>\n",
       "      <td>NaN</td>\n",
       "      <td>Action</td>\n",
       "      <td>0.36</td>\n",
       "      <td>0.41</td>\n",
       "      <td>0.0</td>\n",
       "      <td>0.15</td>\n",
       "      <td>76.0</td>\n",
       "      <td>8.3</td>\n",
       "      <td>E10+</td>\n",
       "    </tr>\n",
       "    <tr>\n",
       "      <th>3081</th>\n",
       "      <td>LEGO Harry Potter: Years 5-7</td>\n",
       "      <td>DS</td>\n",
       "      <td>NaN</td>\n",
       "      <td>Action</td>\n",
       "      <td>0.34</td>\n",
       "      <td>0.25</td>\n",
       "      <td>0.0</td>\n",
       "      <td>0.07</td>\n",
       "      <td>69.0</td>\n",
       "      <td>NaN</td>\n",
       "      <td>E10+</td>\n",
       "    </tr>\n",
       "    <tr>\n",
       "      <th>4818</th>\n",
       "      <td>LEGO Harry Potter: Years 5-7</td>\n",
       "      <td>3DS</td>\n",
       "      <td>NaN</td>\n",
       "      <td>Action</td>\n",
       "      <td>0.18</td>\n",
       "      <td>0.19</td>\n",
       "      <td>0.0</td>\n",
       "      <td>0.03</td>\n",
       "      <td>71.0</td>\n",
       "      <td>6.5</td>\n",
       "      <td>E10+</td>\n",
       "    </tr>\n",
       "    <tr>\n",
       "      <th>6476</th>\n",
       "      <td>LEGO Harry Potter: Years 5-7</td>\n",
       "      <td>PSP</td>\n",
       "      <td>NaN</td>\n",
       "      <td>Action</td>\n",
       "      <td>0.10</td>\n",
       "      <td>0.10</td>\n",
       "      <td>0.0</td>\n",
       "      <td>0.06</td>\n",
       "      <td>NaN</td>\n",
       "      <td>NaN</td>\n",
       "      <td>E10+</td>\n",
       "    </tr>\n",
       "    <tr>\n",
       "      <th>7210</th>\n",
       "      <td>LEGO Harry Potter: Years 5-7</td>\n",
       "      <td>PC</td>\n",
       "      <td>NaN</td>\n",
       "      <td>Action</td>\n",
       "      <td>0.05</td>\n",
       "      <td>0.14</td>\n",
       "      <td>0.0</td>\n",
       "      <td>0.03</td>\n",
       "      <td>80.0</td>\n",
       "      <td>8.5</td>\n",
       "      <td>E10+</td>\n",
       "    </tr>\n",
       "    <tr>\n",
       "      <th>8059</th>\n",
       "      <td>LEGO Harry Potter: Years 5-7</td>\n",
       "      <td>PSV</td>\n",
       "      <td>2012.0</td>\n",
       "      <td>Action</td>\n",
       "      <td>0.07</td>\n",
       "      <td>0.07</td>\n",
       "      <td>0.0</td>\n",
       "      <td>0.03</td>\n",
       "      <td>64.0</td>\n",
       "      <td>6.8</td>\n",
       "      <td>E10+</td>\n",
       "    </tr>\n",
       "  </tbody>\n",
       "</table>\n",
       "</div>"
      ],
      "text/plain": [
       "                              name platform  year_of_release   genre  \\\n",
       "1609  LEGO Harry Potter: Years 5-7      Wii              NaN  Action   \n",
       "2132  LEGO Harry Potter: Years 5-7     X360              NaN  Action   \n",
       "2273  LEGO Harry Potter: Years 5-7      PS3              NaN  Action   \n",
       "3081  LEGO Harry Potter: Years 5-7       DS              NaN  Action   \n",
       "4818  LEGO Harry Potter: Years 5-7      3DS              NaN  Action   \n",
       "6476  LEGO Harry Potter: Years 5-7      PSP              NaN  Action   \n",
       "7210  LEGO Harry Potter: Years 5-7       PC              NaN  Action   \n",
       "8059  LEGO Harry Potter: Years 5-7      PSV           2012.0  Action   \n",
       "\n",
       "      na_sales  eu_sales  jp_sales  other_sales  critic_score  user_score  \\\n",
       "1609      0.69      0.42       0.0         0.12          76.0         7.8   \n",
       "2132      0.51      0.37       0.0         0.09          77.0         7.9   \n",
       "2273      0.36      0.41       0.0         0.15          76.0         8.3   \n",
       "3081      0.34      0.25       0.0         0.07          69.0         NaN   \n",
       "4818      0.18      0.19       0.0         0.03          71.0         6.5   \n",
       "6476      0.10      0.10       0.0         0.06           NaN         NaN   \n",
       "7210      0.05      0.14       0.0         0.03          80.0         8.5   \n",
       "8059      0.07      0.07       0.0         0.03          64.0         6.8   \n",
       "\n",
       "     rating  \n",
       "1609   E10+  \n",
       "2132   E10+  \n",
       "2273   E10+  \n",
       "3081   E10+  \n",
       "4818   E10+  \n",
       "6476   E10+  \n",
       "7210   E10+  \n",
       "8059   E10+  "
      ]
     },
     "execution_count": 16,
     "metadata": {},
     "output_type": "execute_result"
    }
   ],
   "source": [
    "df[df['name'] == 'LEGO Harry Potter: Years 5-7']"
   ]
  },
  {
   "cell_type": "markdown",
   "id": "6dd44a00",
   "metadata": {},
   "source": [
    "Применим известное значение года релиза игры ко всем пропущенным значениям.\n",
    "\n",
    "Т.к. подобные действия понадобятся нам еще при заполнении других столбцов, сразу создадим функцию."
   ]
  },
  {
   "cell_type": "code",
   "execution_count": 17,
   "id": "cba7c653",
   "metadata": {},
   "outputs": [],
   "source": [
    "def transform_data(column):\n",
    "    \"\"\"Заполняет нужные столбцы аналогичными данными по имени игры\"\"\"\n",
    "    \n",
    "    data_transform = df.groupby('name')[column].transform('mean')\n",
    "    df[column] = df[column].fillna(round(data_transform, 1))"
   ]
  },
  {
   "cell_type": "markdown",
   "id": "ac6bba71",
   "metadata": {},
   "source": [
    "Применим функцию к столбцу `year_of_release`"
   ]
  },
  {
   "cell_type": "code",
   "execution_count": 18,
   "id": "82af511c",
   "metadata": {},
   "outputs": [],
   "source": [
    "transform_data('year_of_release')"
   ]
  },
  {
   "cell_type": "markdown",
   "id": "879f57df",
   "metadata": {},
   "source": [
    "Проверим результат:"
   ]
  },
  {
   "cell_type": "code",
   "execution_count": 19,
   "id": "63741752",
   "metadata": {},
   "outputs": [
    {
     "data": {
      "text/html": [
       "<div>\n",
       "<style scoped>\n",
       "    .dataframe tbody tr th:only-of-type {\n",
       "        vertical-align: middle;\n",
       "    }\n",
       "\n",
       "    .dataframe tbody tr th {\n",
       "        vertical-align: top;\n",
       "    }\n",
       "\n",
       "    .dataframe thead th {\n",
       "        text-align: right;\n",
       "    }\n",
       "</style>\n",
       "<table border=\"1\" class=\"dataframe\">\n",
       "  <thead>\n",
       "    <tr style=\"text-align: right;\">\n",
       "      <th></th>\n",
       "      <th>name</th>\n",
       "      <th>platform</th>\n",
       "      <th>year_of_release</th>\n",
       "      <th>genre</th>\n",
       "      <th>na_sales</th>\n",
       "      <th>eu_sales</th>\n",
       "      <th>jp_sales</th>\n",
       "      <th>other_sales</th>\n",
       "      <th>critic_score</th>\n",
       "      <th>user_score</th>\n",
       "      <th>rating</th>\n",
       "    </tr>\n",
       "  </thead>\n",
       "  <tbody>\n",
       "    <tr>\n",
       "      <th>1609</th>\n",
       "      <td>LEGO Harry Potter: Years 5-7</td>\n",
       "      <td>Wii</td>\n",
       "      <td>2012.0</td>\n",
       "      <td>Action</td>\n",
       "      <td>0.69</td>\n",
       "      <td>0.42</td>\n",
       "      <td>0.0</td>\n",
       "      <td>0.12</td>\n",
       "      <td>76.0</td>\n",
       "      <td>7.8</td>\n",
       "      <td>E10+</td>\n",
       "    </tr>\n",
       "    <tr>\n",
       "      <th>2132</th>\n",
       "      <td>LEGO Harry Potter: Years 5-7</td>\n",
       "      <td>X360</td>\n",
       "      <td>2012.0</td>\n",
       "      <td>Action</td>\n",
       "      <td>0.51</td>\n",
       "      <td>0.37</td>\n",
       "      <td>0.0</td>\n",
       "      <td>0.09</td>\n",
       "      <td>77.0</td>\n",
       "      <td>7.9</td>\n",
       "      <td>E10+</td>\n",
       "    </tr>\n",
       "    <tr>\n",
       "      <th>2273</th>\n",
       "      <td>LEGO Harry Potter: Years 5-7</td>\n",
       "      <td>PS3</td>\n",
       "      <td>2012.0</td>\n",
       "      <td>Action</td>\n",
       "      <td>0.36</td>\n",
       "      <td>0.41</td>\n",
       "      <td>0.0</td>\n",
       "      <td>0.15</td>\n",
       "      <td>76.0</td>\n",
       "      <td>8.3</td>\n",
       "      <td>E10+</td>\n",
       "    </tr>\n",
       "    <tr>\n",
       "      <th>3081</th>\n",
       "      <td>LEGO Harry Potter: Years 5-7</td>\n",
       "      <td>DS</td>\n",
       "      <td>2012.0</td>\n",
       "      <td>Action</td>\n",
       "      <td>0.34</td>\n",
       "      <td>0.25</td>\n",
       "      <td>0.0</td>\n",
       "      <td>0.07</td>\n",
       "      <td>69.0</td>\n",
       "      <td>NaN</td>\n",
       "      <td>E10+</td>\n",
       "    </tr>\n",
       "    <tr>\n",
       "      <th>4818</th>\n",
       "      <td>LEGO Harry Potter: Years 5-7</td>\n",
       "      <td>3DS</td>\n",
       "      <td>2012.0</td>\n",
       "      <td>Action</td>\n",
       "      <td>0.18</td>\n",
       "      <td>0.19</td>\n",
       "      <td>0.0</td>\n",
       "      <td>0.03</td>\n",
       "      <td>71.0</td>\n",
       "      <td>6.5</td>\n",
       "      <td>E10+</td>\n",
       "    </tr>\n",
       "    <tr>\n",
       "      <th>6476</th>\n",
       "      <td>LEGO Harry Potter: Years 5-7</td>\n",
       "      <td>PSP</td>\n",
       "      <td>2012.0</td>\n",
       "      <td>Action</td>\n",
       "      <td>0.10</td>\n",
       "      <td>0.10</td>\n",
       "      <td>0.0</td>\n",
       "      <td>0.06</td>\n",
       "      <td>NaN</td>\n",
       "      <td>NaN</td>\n",
       "      <td>E10+</td>\n",
       "    </tr>\n",
       "    <tr>\n",
       "      <th>7210</th>\n",
       "      <td>LEGO Harry Potter: Years 5-7</td>\n",
       "      <td>PC</td>\n",
       "      <td>2012.0</td>\n",
       "      <td>Action</td>\n",
       "      <td>0.05</td>\n",
       "      <td>0.14</td>\n",
       "      <td>0.0</td>\n",
       "      <td>0.03</td>\n",
       "      <td>80.0</td>\n",
       "      <td>8.5</td>\n",
       "      <td>E10+</td>\n",
       "    </tr>\n",
       "    <tr>\n",
       "      <th>8059</th>\n",
       "      <td>LEGO Harry Potter: Years 5-7</td>\n",
       "      <td>PSV</td>\n",
       "      <td>2012.0</td>\n",
       "      <td>Action</td>\n",
       "      <td>0.07</td>\n",
       "      <td>0.07</td>\n",
       "      <td>0.0</td>\n",
       "      <td>0.03</td>\n",
       "      <td>64.0</td>\n",
       "      <td>6.8</td>\n",
       "      <td>E10+</td>\n",
       "    </tr>\n",
       "  </tbody>\n",
       "</table>\n",
       "</div>"
      ],
      "text/plain": [
       "                              name platform  year_of_release   genre  \\\n",
       "1609  LEGO Harry Potter: Years 5-7      Wii           2012.0  Action   \n",
       "2132  LEGO Harry Potter: Years 5-7     X360           2012.0  Action   \n",
       "2273  LEGO Harry Potter: Years 5-7      PS3           2012.0  Action   \n",
       "3081  LEGO Harry Potter: Years 5-7       DS           2012.0  Action   \n",
       "4818  LEGO Harry Potter: Years 5-7      3DS           2012.0  Action   \n",
       "6476  LEGO Harry Potter: Years 5-7      PSP           2012.0  Action   \n",
       "7210  LEGO Harry Potter: Years 5-7       PC           2012.0  Action   \n",
       "8059  LEGO Harry Potter: Years 5-7      PSV           2012.0  Action   \n",
       "\n",
       "      na_sales  eu_sales  jp_sales  other_sales  critic_score  user_score  \\\n",
       "1609      0.69      0.42       0.0         0.12          76.0         7.8   \n",
       "2132      0.51      0.37       0.0         0.09          77.0         7.9   \n",
       "2273      0.36      0.41       0.0         0.15          76.0         8.3   \n",
       "3081      0.34      0.25       0.0         0.07          69.0         NaN   \n",
       "4818      0.18      0.19       0.0         0.03          71.0         6.5   \n",
       "6476      0.10      0.10       0.0         0.06           NaN         NaN   \n",
       "7210      0.05      0.14       0.0         0.03          80.0         8.5   \n",
       "8059      0.07      0.07       0.0         0.03          64.0         6.8   \n",
       "\n",
       "     rating  \n",
       "1609   E10+  \n",
       "2132   E10+  \n",
       "2273   E10+  \n",
       "3081   E10+  \n",
       "4818   E10+  \n",
       "6476   E10+  \n",
       "7210   E10+  \n",
       "8059   E10+  "
      ]
     },
     "execution_count": 19,
     "metadata": {},
     "output_type": "execute_result"
    }
   ],
   "source": [
    "df[df['name'] == 'LEGO Harry Potter: Years 5-7']"
   ]
  },
  {
   "cell_type": "markdown",
   "id": "989cd138",
   "metadata": {},
   "source": [
    "Отлично получилось, как мы хотели. \n",
    "\n",
    "Однако у нас остались еще не заполненные значения года релиза.\n",
    "\n",
    "В ряде названий игр у нас прописаны года, вероятнее всего это какого года они выпущены. Применим и их. \n",
    "\n",
    "Для этого сделаем следующее, напишем функцию, которая будет проверять есть ли определенные года в названии и возвращать значения года."
   ]
  },
  {
   "cell_type": "code",
   "execution_count": 20,
   "id": "7e0e752a",
   "metadata": {},
   "outputs": [],
   "source": [
    "def year_filling(row):\n",
    "    \"\"\"Проверяет и если есть в названии игры год, то возвращает год\"\"\"\n",
    "    \n",
    "    list_year = list(range(1980, 2017))\n",
    "    \n",
    "    for year in list_year:\n",
    "        if str(year) in row['name']:\n",
    "            return year\n",
    "    \n",
    "    return None\n"
   ]
  },
  {
   "cell_type": "markdown",
   "id": "7a8db4a6",
   "metadata": {},
   "source": [
    "Применим функцию к датафрейму:"
   ]
  },
  {
   "cell_type": "code",
   "execution_count": 21,
   "id": "c141f94a",
   "metadata": {
    "scrolled": false
   },
   "outputs": [],
   "source": [
    "df.loc[df['year_of_release'].isna(), 'year_of_release'] = df[df['year_of_release'].isna()].apply(year_filling, axis=1)"
   ]
  },
  {
   "cell_type": "markdown",
   "id": "bbf99f54",
   "metadata": {},
   "source": [
    "Выведим остаток пропущенных значений по годам релиза:"
   ]
  },
  {
   "cell_type": "code",
   "execution_count": 22,
   "id": "2fccb1a0",
   "metadata": {},
   "outputs": [
    {
     "data": {
      "text/plain": [
       "139"
      ]
     },
     "execution_count": 22,
     "metadata": {},
     "output_type": "execute_result"
    }
   ],
   "source": [
    "df['year_of_release'].isna().sum()"
   ]
  },
  {
   "cell_type": "markdown",
   "id": "99178299",
   "metadata": {},
   "source": [
    "У нас остались еще 139 пропущенных значений, что составляет менее 1% от всех данных. Заполнить их по какому то другому значению будет некорректно, поэтому удаляем их."
   ]
  },
  {
   "cell_type": "code",
   "execution_count": 23,
   "id": "3d91ba77",
   "metadata": {},
   "outputs": [],
   "source": [
    "df = df.dropna(subset=['year_of_release'])"
   ]
  },
  {
   "cell_type": "markdown",
   "id": "8d203a13",
   "metadata": {},
   "source": [
    "Проверим результат:"
   ]
  },
  {
   "cell_type": "code",
   "execution_count": 24,
   "id": "a600271a",
   "metadata": {},
   "outputs": [
    {
     "data": {
      "text/plain": [
       "0"
      ]
     },
     "execution_count": 24,
     "metadata": {},
     "output_type": "execute_result"
    }
   ],
   "source": [
    "df['year_of_release'].isna().sum()"
   ]
  },
  {
   "cell_type": "markdown",
   "id": "ac6fc5f9",
   "metadata": {},
   "source": [
    "Мы успешно заполнили пропуски года релиза.\n",
    "\n",
    "Далее, как ранее хотели переведем данный столбец в формат `int`"
   ]
  },
  {
   "cell_type": "code",
   "execution_count": 25,
   "id": "b9cb9921",
   "metadata": {},
   "outputs": [],
   "source": [
    "df['year_of_release'] = df['year_of_release'].astype(int)"
   ]
  },
  {
   "cell_type": "markdown",
   "id": "30e0812e",
   "metadata": {},
   "source": [
    "Проверим резуальтат:"
   ]
  },
  {
   "cell_type": "code",
   "execution_count": 26,
   "id": "04c9b885",
   "metadata": {},
   "outputs": [
    {
     "data": {
      "text/plain": [
       "dtype('int32')"
      ]
     },
     "execution_count": 26,
     "metadata": {},
     "output_type": "execute_result"
    }
   ],
   "source": [
    "df['year_of_release'].dtypes"
   ]
  },
  {
   "cell_type": "markdown",
   "id": "da6edf24",
   "metadata": {},
   "source": [
    "##### Вывод"
   ]
  },
  {
   "cell_type": "markdown",
   "id": "49215257",
   "metadata": {},
   "source": [
    "Мы успешно заполненили пропущенные значения и перевели тип данных в столбце `year_of_release`"
   ]
  },
  {
   "cell_type": "markdown",
   "id": "034d90fe",
   "metadata": {},
   "source": [
    "#### Столбец `critic_score` и `user_score`"
   ]
  },
  {
   "cell_type": "markdown",
   "id": "27972456",
   "metadata": {},
   "source": [
    "Т.к. столбцы несут одинаковые смысл оценку критиков и пользователей, будем заполнять пропущенными значениями относительно идентично."
   ]
  },
  {
   "cell_type": "markdown",
   "id": "2c941f7b",
   "metadata": {},
   "source": [
    "Изначально мы заполним данные средними значениями по названию игры, как в предыдущем столбце. Для этого применим функцию `transform_data` к столбцам"
   ]
  },
  {
   "cell_type": "code",
   "execution_count": 27,
   "id": "ee5010be",
   "metadata": {},
   "outputs": [],
   "source": [
    "transform_data('critic_score')\n",
    "transform_data('user_score')"
   ]
  },
  {
   "cell_type": "markdown",
   "id": "8560e80c",
   "metadata": {},
   "source": [
    "Далее, т.к. у оценки критиков и пользователей вероятнее всего не сильно отличаются друг от друга, мы может сделать следующим образом, у критиков заполним значениями пользователей умноженных на 10, а у пользователей пропущенные значения заполним оценками критиков поделенными на 10."
   ]
  },
  {
   "cell_type": "code",
   "execution_count": 28,
   "id": "dc4b8f77",
   "metadata": {},
   "outputs": [],
   "source": [
    "# df.loc[df['critic_score'].isna(), 'critic_score'] = df[df['critic_score'].isna()]['user_score'] * 10\n",
    "# df.loc[df['user_score'].isna(), 'user_score'] = df[df['user_score'].isna()]['critic_score'] / 10"
   ]
  },
  {
   "cell_type": "markdown",
   "id": "75bd1a42",
   "metadata": {},
   "source": [
    "Выведим оставшееся количество пропущенных значений:"
   ]
  },
  {
   "cell_type": "code",
   "execution_count": 29,
   "id": "34915101",
   "metadata": {},
   "outputs": [
    {
     "data": {
      "text/plain": [
       "name                  0\n",
       "platform              0\n",
       "year_of_release       0\n",
       "genre                 0\n",
       "na_sales              0\n",
       "eu_sales              0\n",
       "jp_sales              0\n",
       "other_sales           0\n",
       "critic_score       7535\n",
       "user_score         7932\n",
       "rating             6703\n",
       "dtype: int64"
      ]
     },
     "execution_count": 29,
     "metadata": {},
     "output_type": "execute_result"
    }
   ],
   "source": [
    "df.isna().sum()"
   ]
  },
  {
   "cell_type": "markdown",
   "id": "e34595b2",
   "metadata": {},
   "source": [
    "Привязывать оставшееся кол-во пропущенных значений средними или медианными значениями будет не совсем корректно, т.к. это может повлиять на результат при группировке по разным значениям. Да и пропущенных очень много более 43% чтобы им присываивать какое то определенное значение. Оставим пока так, как есть."
   ]
  },
  {
   "cell_type": "markdown",
   "id": "aa29dde2",
   "metadata": {},
   "source": [
    "##### Вывод"
   ]
  },
  {
   "cell_type": "markdown",
   "id": "b28bcbcf",
   "metadata": {},
   "source": [
    "Мы успешно заполнили пропущенные значения, в тех местах где посчитали нужными. Часть пропущенных значений оставили."
   ]
  },
  {
   "cell_type": "markdown",
   "id": "fecb5db5",
   "metadata": {},
   "source": [
    "#### Столбец `rating`"
   ]
  },
  {
   "cell_type": "markdown",
   "id": "502bc099",
   "metadata": {},
   "source": [
    "Выведим все уникальные значения:"
   ]
  },
  {
   "cell_type": "code",
   "execution_count": 30,
   "id": "6f370d88",
   "metadata": {},
   "outputs": [
    {
     "data": {
      "text/plain": [
       "E       3961\n",
       "T       2930\n",
       "M       1554\n",
       "E10+    1412\n",
       "EC         8\n",
       "K-A        3\n",
       "RP         2\n",
       "AO         1\n",
       "Name: rating, dtype: int64"
      ]
     },
     "execution_count": 30,
     "metadata": {},
     "output_type": "execute_result"
    }
   ],
   "source": [
    "df['rating'].value_counts()"
   ]
  },
  {
   "cell_type": "markdown",
   "id": "612c5588",
   "metadata": {},
   "source": [
    "Применим, как и ранее, мы это делали, значение по одинаковому наименованию игры, только уже не среднее значение, а моду."
   ]
  },
  {
   "cell_type": "markdown",
   "id": "9a366bdb",
   "metadata": {},
   "source": [
    "Для проверки выберем игру `Need for Speed: Most Wanted`"
   ]
  },
  {
   "cell_type": "code",
   "execution_count": 31,
   "id": "5d8b54ec",
   "metadata": {},
   "outputs": [
    {
     "data": {
      "text/html": [
       "<div>\n",
       "<style scoped>\n",
       "    .dataframe tbody tr th:only-of-type {\n",
       "        vertical-align: middle;\n",
       "    }\n",
       "\n",
       "    .dataframe tbody tr th {\n",
       "        vertical-align: top;\n",
       "    }\n",
       "\n",
       "    .dataframe thead th {\n",
       "        text-align: right;\n",
       "    }\n",
       "</style>\n",
       "<table border=\"1\" class=\"dataframe\">\n",
       "  <thead>\n",
       "    <tr style=\"text-align: right;\">\n",
       "      <th></th>\n",
       "      <th>name</th>\n",
       "      <th>platform</th>\n",
       "      <th>year_of_release</th>\n",
       "      <th>genre</th>\n",
       "      <th>na_sales</th>\n",
       "      <th>eu_sales</th>\n",
       "      <th>jp_sales</th>\n",
       "      <th>other_sales</th>\n",
       "      <th>critic_score</th>\n",
       "      <th>user_score</th>\n",
       "      <th>rating</th>\n",
       "    </tr>\n",
       "  </thead>\n",
       "  <tbody>\n",
       "    <tr>\n",
       "      <th>253</th>\n",
       "      <td>Need for Speed: Most Wanted</td>\n",
       "      <td>PS2</td>\n",
       "      <td>2005</td>\n",
       "      <td>Racing</td>\n",
       "      <td>2.03</td>\n",
       "      <td>1.79</td>\n",
       "      <td>0.08</td>\n",
       "      <td>0.47</td>\n",
       "      <td>82.0</td>\n",
       "      <td>9.1</td>\n",
       "      <td>T</td>\n",
       "    </tr>\n",
       "    <tr>\n",
       "      <th>523</th>\n",
       "      <td>Need for Speed: Most Wanted</td>\n",
       "      <td>PS3</td>\n",
       "      <td>2012</td>\n",
       "      <td>Racing</td>\n",
       "      <td>0.71</td>\n",
       "      <td>1.46</td>\n",
       "      <td>0.06</td>\n",
       "      <td>0.58</td>\n",
       "      <td>77.5</td>\n",
       "      <td>8.4</td>\n",
       "      <td>NaN</td>\n",
       "    </tr>\n",
       "    <tr>\n",
       "      <th>1190</th>\n",
       "      <td>Need for Speed: Most Wanted</td>\n",
       "      <td>X360</td>\n",
       "      <td>2012</td>\n",
       "      <td>Racing</td>\n",
       "      <td>0.62</td>\n",
       "      <td>0.78</td>\n",
       "      <td>0.01</td>\n",
       "      <td>0.15</td>\n",
       "      <td>83.0</td>\n",
       "      <td>8.5</td>\n",
       "      <td>T</td>\n",
       "    </tr>\n",
       "    <tr>\n",
       "      <th>1591</th>\n",
       "      <td>Need for Speed: Most Wanted</td>\n",
       "      <td>X360</td>\n",
       "      <td>2005</td>\n",
       "      <td>Racing</td>\n",
       "      <td>1.00</td>\n",
       "      <td>0.13</td>\n",
       "      <td>0.02</td>\n",
       "      <td>0.10</td>\n",
       "      <td>83.0</td>\n",
       "      <td>8.5</td>\n",
       "      <td>T</td>\n",
       "    </tr>\n",
       "    <tr>\n",
       "      <th>1998</th>\n",
       "      <td>Need for Speed: Most Wanted</td>\n",
       "      <td>XB</td>\n",
       "      <td>2005</td>\n",
       "      <td>Racing</td>\n",
       "      <td>0.53</td>\n",
       "      <td>0.46</td>\n",
       "      <td>0.00</td>\n",
       "      <td>0.05</td>\n",
       "      <td>83.0</td>\n",
       "      <td>8.8</td>\n",
       "      <td>T</td>\n",
       "    </tr>\n",
       "    <tr>\n",
       "      <th>2048</th>\n",
       "      <td>Need for Speed: Most Wanted</td>\n",
       "      <td>PSV</td>\n",
       "      <td>2012</td>\n",
       "      <td>Racing</td>\n",
       "      <td>0.33</td>\n",
       "      <td>0.45</td>\n",
       "      <td>0.01</td>\n",
       "      <td>0.22</td>\n",
       "      <td>77.5</td>\n",
       "      <td>8.4</td>\n",
       "      <td>NaN</td>\n",
       "    </tr>\n",
       "    <tr>\n",
       "      <th>3581</th>\n",
       "      <td>Need for Speed: Most Wanted</td>\n",
       "      <td>GC</td>\n",
       "      <td>2005</td>\n",
       "      <td>Racing</td>\n",
       "      <td>0.43</td>\n",
       "      <td>0.11</td>\n",
       "      <td>0.00</td>\n",
       "      <td>0.02</td>\n",
       "      <td>80.0</td>\n",
       "      <td>9.1</td>\n",
       "      <td>T</td>\n",
       "    </tr>\n",
       "    <tr>\n",
       "      <th>5972</th>\n",
       "      <td>Need for Speed: Most Wanted</td>\n",
       "      <td>PC</td>\n",
       "      <td>2005</td>\n",
       "      <td>Racing</td>\n",
       "      <td>0.02</td>\n",
       "      <td>0.23</td>\n",
       "      <td>0.00</td>\n",
       "      <td>0.04</td>\n",
       "      <td>82.0</td>\n",
       "      <td>8.5</td>\n",
       "      <td>T</td>\n",
       "    </tr>\n",
       "    <tr>\n",
       "      <th>6273</th>\n",
       "      <td>Need for Speed: Most Wanted</td>\n",
       "      <td>WiiU</td>\n",
       "      <td>2013</td>\n",
       "      <td>Racing</td>\n",
       "      <td>0.13</td>\n",
       "      <td>0.12</td>\n",
       "      <td>0.00</td>\n",
       "      <td>0.02</td>\n",
       "      <td>77.5</td>\n",
       "      <td>8.4</td>\n",
       "      <td>NaN</td>\n",
       "    </tr>\n",
       "    <tr>\n",
       "      <th>6410</th>\n",
       "      <td>Need for Speed: Most Wanted</td>\n",
       "      <td>DS</td>\n",
       "      <td>2005</td>\n",
       "      <td>Racing</td>\n",
       "      <td>0.24</td>\n",
       "      <td>0.01</td>\n",
       "      <td>0.00</td>\n",
       "      <td>0.02</td>\n",
       "      <td>45.0</td>\n",
       "      <td>6.1</td>\n",
       "      <td>E</td>\n",
       "    </tr>\n",
       "    <tr>\n",
       "      <th>6473</th>\n",
       "      <td>Need for Speed: Most Wanted</td>\n",
       "      <td>GBA</td>\n",
       "      <td>2005</td>\n",
       "      <td>Racing</td>\n",
       "      <td>0.19</td>\n",
       "      <td>0.07</td>\n",
       "      <td>0.00</td>\n",
       "      <td>0.00</td>\n",
       "      <td>77.5</td>\n",
       "      <td>8.3</td>\n",
       "      <td>E</td>\n",
       "    </tr>\n",
       "    <tr>\n",
       "      <th>11715</th>\n",
       "      <td>Need for Speed: Most Wanted</td>\n",
       "      <td>PC</td>\n",
       "      <td>2012</td>\n",
       "      <td>Racing</td>\n",
       "      <td>0.00</td>\n",
       "      <td>0.06</td>\n",
       "      <td>0.00</td>\n",
       "      <td>0.02</td>\n",
       "      <td>82.0</td>\n",
       "      <td>8.5</td>\n",
       "      <td>T</td>\n",
       "    </tr>\n",
       "  </tbody>\n",
       "</table>\n",
       "</div>"
      ],
      "text/plain": [
       "                              name platform  year_of_release   genre  \\\n",
       "253    Need for Speed: Most Wanted      PS2             2005  Racing   \n",
       "523    Need for Speed: Most Wanted      PS3             2012  Racing   \n",
       "1190   Need for Speed: Most Wanted     X360             2012  Racing   \n",
       "1591   Need for Speed: Most Wanted     X360             2005  Racing   \n",
       "1998   Need for Speed: Most Wanted       XB             2005  Racing   \n",
       "2048   Need for Speed: Most Wanted      PSV             2012  Racing   \n",
       "3581   Need for Speed: Most Wanted       GC             2005  Racing   \n",
       "5972   Need for Speed: Most Wanted       PC             2005  Racing   \n",
       "6273   Need for Speed: Most Wanted     WiiU             2013  Racing   \n",
       "6410   Need for Speed: Most Wanted       DS             2005  Racing   \n",
       "6473   Need for Speed: Most Wanted      GBA             2005  Racing   \n",
       "11715  Need for Speed: Most Wanted       PC             2012  Racing   \n",
       "\n",
       "       na_sales  eu_sales  jp_sales  other_sales  critic_score  user_score  \\\n",
       "253        2.03      1.79      0.08         0.47          82.0         9.1   \n",
       "523        0.71      1.46      0.06         0.58          77.5         8.4   \n",
       "1190       0.62      0.78      0.01         0.15          83.0         8.5   \n",
       "1591       1.00      0.13      0.02         0.10          83.0         8.5   \n",
       "1998       0.53      0.46      0.00         0.05          83.0         8.8   \n",
       "2048       0.33      0.45      0.01         0.22          77.5         8.4   \n",
       "3581       0.43      0.11      0.00         0.02          80.0         9.1   \n",
       "5972       0.02      0.23      0.00         0.04          82.0         8.5   \n",
       "6273       0.13      0.12      0.00         0.02          77.5         8.4   \n",
       "6410       0.24      0.01      0.00         0.02          45.0         6.1   \n",
       "6473       0.19      0.07      0.00         0.00          77.5         8.3   \n",
       "11715      0.00      0.06      0.00         0.02          82.0         8.5   \n",
       "\n",
       "      rating  \n",
       "253        T  \n",
       "523      NaN  \n",
       "1190       T  \n",
       "1591       T  \n",
       "1998       T  \n",
       "2048     NaN  \n",
       "3581       T  \n",
       "5972       T  \n",
       "6273     NaN  \n",
       "6410       E  \n",
       "6473       E  \n",
       "11715      T  "
      ]
     },
     "execution_count": 31,
     "metadata": {},
     "output_type": "execute_result"
    }
   ],
   "source": [
    "df[df['name'] == 'Need for Speed: Most Wanted']"
   ]
  },
  {
   "cell_type": "markdown",
   "id": "2dde044f",
   "metadata": {},
   "source": [
    "Создадим функцию по вычислению моды и выбору при случае совпадания результатов первое значение. И применим это все к столбцу `rating` датафрейма"
   ]
  },
  {
   "cell_type": "code",
   "execution_count": 32,
   "id": "5631777f",
   "metadata": {},
   "outputs": [],
   "source": [
    "def my_mode(s): \n",
    "    mode = s.mode()\n",
    "    if len(mode) > 0:\n",
    "        return mode[0]\n",
    "\n",
    "new_rating = df.groupby('name')['rating'].transform(my_mode)\n",
    "df['rating'] = df['rating'].fillna(new_rating)"
   ]
  },
  {
   "cell_type": "markdown",
   "id": "9ca99c26",
   "metadata": {},
   "source": [
    "Проверим результат:"
   ]
  },
  {
   "cell_type": "code",
   "execution_count": 33,
   "id": "af1e140b",
   "metadata": {},
   "outputs": [
    {
     "data": {
      "text/html": [
       "<div>\n",
       "<style scoped>\n",
       "    .dataframe tbody tr th:only-of-type {\n",
       "        vertical-align: middle;\n",
       "    }\n",
       "\n",
       "    .dataframe tbody tr th {\n",
       "        vertical-align: top;\n",
       "    }\n",
       "\n",
       "    .dataframe thead th {\n",
       "        text-align: right;\n",
       "    }\n",
       "</style>\n",
       "<table border=\"1\" class=\"dataframe\">\n",
       "  <thead>\n",
       "    <tr style=\"text-align: right;\">\n",
       "      <th></th>\n",
       "      <th>name</th>\n",
       "      <th>platform</th>\n",
       "      <th>year_of_release</th>\n",
       "      <th>genre</th>\n",
       "      <th>na_sales</th>\n",
       "      <th>eu_sales</th>\n",
       "      <th>jp_sales</th>\n",
       "      <th>other_sales</th>\n",
       "      <th>critic_score</th>\n",
       "      <th>user_score</th>\n",
       "      <th>rating</th>\n",
       "    </tr>\n",
       "  </thead>\n",
       "  <tbody>\n",
       "    <tr>\n",
       "      <th>253</th>\n",
       "      <td>Need for Speed: Most Wanted</td>\n",
       "      <td>PS2</td>\n",
       "      <td>2005</td>\n",
       "      <td>Racing</td>\n",
       "      <td>2.03</td>\n",
       "      <td>1.79</td>\n",
       "      <td>0.08</td>\n",
       "      <td>0.47</td>\n",
       "      <td>82.0</td>\n",
       "      <td>9.1</td>\n",
       "      <td>T</td>\n",
       "    </tr>\n",
       "    <tr>\n",
       "      <th>523</th>\n",
       "      <td>Need for Speed: Most Wanted</td>\n",
       "      <td>PS3</td>\n",
       "      <td>2012</td>\n",
       "      <td>Racing</td>\n",
       "      <td>0.71</td>\n",
       "      <td>1.46</td>\n",
       "      <td>0.06</td>\n",
       "      <td>0.58</td>\n",
       "      <td>77.5</td>\n",
       "      <td>8.4</td>\n",
       "      <td>T</td>\n",
       "    </tr>\n",
       "    <tr>\n",
       "      <th>1190</th>\n",
       "      <td>Need for Speed: Most Wanted</td>\n",
       "      <td>X360</td>\n",
       "      <td>2012</td>\n",
       "      <td>Racing</td>\n",
       "      <td>0.62</td>\n",
       "      <td>0.78</td>\n",
       "      <td>0.01</td>\n",
       "      <td>0.15</td>\n",
       "      <td>83.0</td>\n",
       "      <td>8.5</td>\n",
       "      <td>T</td>\n",
       "    </tr>\n",
       "    <tr>\n",
       "      <th>1591</th>\n",
       "      <td>Need for Speed: Most Wanted</td>\n",
       "      <td>X360</td>\n",
       "      <td>2005</td>\n",
       "      <td>Racing</td>\n",
       "      <td>1.00</td>\n",
       "      <td>0.13</td>\n",
       "      <td>0.02</td>\n",
       "      <td>0.10</td>\n",
       "      <td>83.0</td>\n",
       "      <td>8.5</td>\n",
       "      <td>T</td>\n",
       "    </tr>\n",
       "    <tr>\n",
       "      <th>1998</th>\n",
       "      <td>Need for Speed: Most Wanted</td>\n",
       "      <td>XB</td>\n",
       "      <td>2005</td>\n",
       "      <td>Racing</td>\n",
       "      <td>0.53</td>\n",
       "      <td>0.46</td>\n",
       "      <td>0.00</td>\n",
       "      <td>0.05</td>\n",
       "      <td>83.0</td>\n",
       "      <td>8.8</td>\n",
       "      <td>T</td>\n",
       "    </tr>\n",
       "    <tr>\n",
       "      <th>2048</th>\n",
       "      <td>Need for Speed: Most Wanted</td>\n",
       "      <td>PSV</td>\n",
       "      <td>2012</td>\n",
       "      <td>Racing</td>\n",
       "      <td>0.33</td>\n",
       "      <td>0.45</td>\n",
       "      <td>0.01</td>\n",
       "      <td>0.22</td>\n",
       "      <td>77.5</td>\n",
       "      <td>8.4</td>\n",
       "      <td>T</td>\n",
       "    </tr>\n",
       "    <tr>\n",
       "      <th>3581</th>\n",
       "      <td>Need for Speed: Most Wanted</td>\n",
       "      <td>GC</td>\n",
       "      <td>2005</td>\n",
       "      <td>Racing</td>\n",
       "      <td>0.43</td>\n",
       "      <td>0.11</td>\n",
       "      <td>0.00</td>\n",
       "      <td>0.02</td>\n",
       "      <td>80.0</td>\n",
       "      <td>9.1</td>\n",
       "      <td>T</td>\n",
       "    </tr>\n",
       "    <tr>\n",
       "      <th>5972</th>\n",
       "      <td>Need for Speed: Most Wanted</td>\n",
       "      <td>PC</td>\n",
       "      <td>2005</td>\n",
       "      <td>Racing</td>\n",
       "      <td>0.02</td>\n",
       "      <td>0.23</td>\n",
       "      <td>0.00</td>\n",
       "      <td>0.04</td>\n",
       "      <td>82.0</td>\n",
       "      <td>8.5</td>\n",
       "      <td>T</td>\n",
       "    </tr>\n",
       "    <tr>\n",
       "      <th>6273</th>\n",
       "      <td>Need for Speed: Most Wanted</td>\n",
       "      <td>WiiU</td>\n",
       "      <td>2013</td>\n",
       "      <td>Racing</td>\n",
       "      <td>0.13</td>\n",
       "      <td>0.12</td>\n",
       "      <td>0.00</td>\n",
       "      <td>0.02</td>\n",
       "      <td>77.5</td>\n",
       "      <td>8.4</td>\n",
       "      <td>T</td>\n",
       "    </tr>\n",
       "    <tr>\n",
       "      <th>6410</th>\n",
       "      <td>Need for Speed: Most Wanted</td>\n",
       "      <td>DS</td>\n",
       "      <td>2005</td>\n",
       "      <td>Racing</td>\n",
       "      <td>0.24</td>\n",
       "      <td>0.01</td>\n",
       "      <td>0.00</td>\n",
       "      <td>0.02</td>\n",
       "      <td>45.0</td>\n",
       "      <td>6.1</td>\n",
       "      <td>E</td>\n",
       "    </tr>\n",
       "    <tr>\n",
       "      <th>6473</th>\n",
       "      <td>Need for Speed: Most Wanted</td>\n",
       "      <td>GBA</td>\n",
       "      <td>2005</td>\n",
       "      <td>Racing</td>\n",
       "      <td>0.19</td>\n",
       "      <td>0.07</td>\n",
       "      <td>0.00</td>\n",
       "      <td>0.00</td>\n",
       "      <td>77.5</td>\n",
       "      <td>8.3</td>\n",
       "      <td>E</td>\n",
       "    </tr>\n",
       "    <tr>\n",
       "      <th>11715</th>\n",
       "      <td>Need for Speed: Most Wanted</td>\n",
       "      <td>PC</td>\n",
       "      <td>2012</td>\n",
       "      <td>Racing</td>\n",
       "      <td>0.00</td>\n",
       "      <td>0.06</td>\n",
       "      <td>0.00</td>\n",
       "      <td>0.02</td>\n",
       "      <td>82.0</td>\n",
       "      <td>8.5</td>\n",
       "      <td>T</td>\n",
       "    </tr>\n",
       "  </tbody>\n",
       "</table>\n",
       "</div>"
      ],
      "text/plain": [
       "                              name platform  year_of_release   genre  \\\n",
       "253    Need for Speed: Most Wanted      PS2             2005  Racing   \n",
       "523    Need for Speed: Most Wanted      PS3             2012  Racing   \n",
       "1190   Need for Speed: Most Wanted     X360             2012  Racing   \n",
       "1591   Need for Speed: Most Wanted     X360             2005  Racing   \n",
       "1998   Need for Speed: Most Wanted       XB             2005  Racing   \n",
       "2048   Need for Speed: Most Wanted      PSV             2012  Racing   \n",
       "3581   Need for Speed: Most Wanted       GC             2005  Racing   \n",
       "5972   Need for Speed: Most Wanted       PC             2005  Racing   \n",
       "6273   Need for Speed: Most Wanted     WiiU             2013  Racing   \n",
       "6410   Need for Speed: Most Wanted       DS             2005  Racing   \n",
       "6473   Need for Speed: Most Wanted      GBA             2005  Racing   \n",
       "11715  Need for Speed: Most Wanted       PC             2012  Racing   \n",
       "\n",
       "       na_sales  eu_sales  jp_sales  other_sales  critic_score  user_score  \\\n",
       "253        2.03      1.79      0.08         0.47          82.0         9.1   \n",
       "523        0.71      1.46      0.06         0.58          77.5         8.4   \n",
       "1190       0.62      0.78      0.01         0.15          83.0         8.5   \n",
       "1591       1.00      0.13      0.02         0.10          83.0         8.5   \n",
       "1998       0.53      0.46      0.00         0.05          83.0         8.8   \n",
       "2048       0.33      0.45      0.01         0.22          77.5         8.4   \n",
       "3581       0.43      0.11      0.00         0.02          80.0         9.1   \n",
       "5972       0.02      0.23      0.00         0.04          82.0         8.5   \n",
       "6273       0.13      0.12      0.00         0.02          77.5         8.4   \n",
       "6410       0.24      0.01      0.00         0.02          45.0         6.1   \n",
       "6473       0.19      0.07      0.00         0.00          77.5         8.3   \n",
       "11715      0.00      0.06      0.00         0.02          82.0         8.5   \n",
       "\n",
       "      rating  \n",
       "253        T  \n",
       "523        T  \n",
       "1190       T  \n",
       "1591       T  \n",
       "1998       T  \n",
       "2048       T  \n",
       "3581       T  \n",
       "5972       T  \n",
       "6273       T  \n",
       "6410       E  \n",
       "6473       E  \n",
       "11715      T  "
      ]
     },
     "execution_count": 33,
     "metadata": {},
     "output_type": "execute_result"
    }
   ],
   "source": [
    "df[df['name'] == 'Need for Speed: Most Wanted']"
   ]
  },
  {
   "cell_type": "markdown",
   "id": "bc618303",
   "metadata": {},
   "source": [
    "Мы видим, что все сделали успешно."
   ]
  },
  {
   "cell_type": "markdown",
   "id": "c1eb8af8",
   "metadata": {},
   "source": [
    "Возможно мы можем привязать к жанрам рейтинг? Сгруппируем данные по жанрам и райтингу, и посмотрим количество в каждом."
   ]
  },
  {
   "cell_type": "code",
   "execution_count": 34,
   "id": "c756e2d8",
   "metadata": {
    "scrolled": false
   },
   "outputs": [
    {
     "data": {
      "text/plain": [
       "genre         rating\n",
       "Action        AO           1\n",
       "              E          446\n",
       "              E10+       501\n",
       "              EC           1\n",
       "              M          651\n",
       "              T          708\n",
       "Adventure     E          164\n",
       "              E10+        69\n",
       "              EC           2\n",
       "              M          110\n",
       "              T          124\n",
       "Fighting      E            8\n",
       "              E10+        19\n",
       "              M           56\n",
       "              T          374\n",
       "Misc          E          472\n",
       "              E10+       167\n",
       "              EC           7\n",
       "              K-A          1\n",
       "              M           15\n",
       "              T          243\n",
       "Platform      E          373\n",
       "              E10+       148\n",
       "              M            3\n",
       "              T           64\n",
       "Puzzle        E          297\n",
       "              E10+        42\n",
       "              T           10\n",
       "Racing        E          601\n",
       "              E10+       103\n",
       "              M           18\n",
       "              RP           1\n",
       "              T          179\n",
       "Role-Playing  E           88\n",
       "              E10+       119\n",
       "              M          175\n",
       "              T          447\n",
       "Shooter       E           48\n",
       "              E10+        58\n",
       "              M          569\n",
       "              T          349\n",
       "Simulation    E          331\n",
       "              E10+        51\n",
       "              M            5\n",
       "              T          191\n",
       "Sports        E         1223\n",
       "              E10+       109\n",
       "              M           17\n",
       "              T          206\n",
       "Strategy      E           73\n",
       "              E10+        77\n",
       "              K-A          3\n",
       "              M           26\n",
       "              RP           1\n",
       "              T          164\n",
       "Name: rating, dtype: int64"
      ]
     },
     "execution_count": 34,
     "metadata": {},
     "output_type": "execute_result"
    }
   ],
   "source": [
    "df.groupby(['genre', 'rating'])['rating'].count()"
   ]
  },
  {
   "cell_type": "markdown",
   "id": "f0c0538b",
   "metadata": {},
   "source": [
    "Группировка показывает в целом равномерность распределения рейтинга по жанрам, нет какой-то абсолютного превалирования одного рейтинга в определенном жанре. Соответсвтвенно мы не можем привязать рейтинг жанрам."
   ]
  },
  {
   "cell_type": "markdown",
   "id": "a74b56fc",
   "metadata": {},
   "source": [
    "#### Вывод"
   ]
  },
  {
   "cell_type": "markdown",
   "id": "6fe96bef",
   "metadata": {},
   "source": [
    "Мы успешно заполнили часть значений, а часть оставили незаполненым."
   ]
  },
  {
   "cell_type": "markdown",
   "id": "2099e087",
   "metadata": {},
   "source": [
    "Мы могли бы присвоить всем пропущенным значениям рейтинг \"Для всех\" (E) однако слишком много игр без рейтинга, и вполне возможно можно это использовать в дельнейшем, как отдельную группу \"без рейтинга\" для исследования."
   ]
  },
  {
   "cell_type": "markdown",
   "id": "415c680f",
   "metadata": {},
   "source": [
    "### Категоризация возрастного рейтинга"
   ]
  },
  {
   "cell_type": "markdown",
   "id": "ab2323ee",
   "metadata": {},
   "source": [
    "Категоризируем данные по столбцу в `rating` в более понятный вид. При этом объединим ряд категорий с одинаковым смыслом, например, \"RP\"(рейтинг ожидается) отнесем к группе \"без рейтинга\"."
   ]
  },
  {
   "cell_type": "markdown",
   "id": "ee7e8924",
   "metadata": {},
   "source": [
    "Напишем для этого функцию `categorii_rating`"
   ]
  },
  {
   "cell_type": "code",
   "execution_count": 35,
   "id": "d04005b5",
   "metadata": {},
   "outputs": [],
   "source": [
    "def categorii_rating(row):\n",
    "    if row['rating'] == 'E':\n",
    "        return 'Для всех'\n",
    "    elif row['rating'] == 'T':\n",
    "        return 'Подросткам'\n",
    "    elif row['rating'] == 'M':\n",
    "        return 'Для взрослых'\n",
    "    elif row['rating'] == 'E10+':\n",
    "        return 'От 10 лет и старше'\n",
    "    elif row['rating'] == 'EC':\n",
    "        return 'Для детей младшего возраста'\n",
    "    elif row['rating'] == 'RP':\n",
    "        return 'Без рейтинга'\n",
    "    elif row['rating'] == 'AO':\n",
    "        return 'Для взрослых'\n",
    "    elif row['rating'] == 'K-A':\n",
    "        return 'Для всех'\n",
    "    else:\n",
    "        return 'Без рейтинга'"
   ]
  },
  {
   "cell_type": "markdown",
   "id": "48fb38d1",
   "metadata": {},
   "source": [
    "Применим функцию и сохраним категории в столбце `categorii_rating`"
   ]
  },
  {
   "cell_type": "code",
   "execution_count": 36,
   "id": "64de5690",
   "metadata": {},
   "outputs": [],
   "source": [
    "df['categorii_rating'] = df.apply(categorii_rating, axis=1)"
   ]
  },
  {
   "cell_type": "markdown",
   "id": "315c7451",
   "metadata": {},
   "source": [
    "Проверим результат:"
   ]
  },
  {
   "cell_type": "code",
   "execution_count": 37,
   "id": "1e448964",
   "metadata": {},
   "outputs": [
    {
     "data": {
      "text/html": [
       "<div>\n",
       "<style scoped>\n",
       "    .dataframe tbody tr th:only-of-type {\n",
       "        vertical-align: middle;\n",
       "    }\n",
       "\n",
       "    .dataframe tbody tr th {\n",
       "        vertical-align: top;\n",
       "    }\n",
       "\n",
       "    .dataframe thead th {\n",
       "        text-align: right;\n",
       "    }\n",
       "</style>\n",
       "<table border=\"1\" class=\"dataframe\">\n",
       "  <thead>\n",
       "    <tr style=\"text-align: right;\">\n",
       "      <th></th>\n",
       "      <th>name</th>\n",
       "      <th>platform</th>\n",
       "      <th>year_of_release</th>\n",
       "      <th>genre</th>\n",
       "      <th>na_sales</th>\n",
       "      <th>eu_sales</th>\n",
       "      <th>jp_sales</th>\n",
       "      <th>other_sales</th>\n",
       "      <th>critic_score</th>\n",
       "      <th>user_score</th>\n",
       "      <th>rating</th>\n",
       "      <th>categorii_rating</th>\n",
       "    </tr>\n",
       "  </thead>\n",
       "  <tbody>\n",
       "    <tr>\n",
       "      <th>0</th>\n",
       "      <td>Wii Sports</td>\n",
       "      <td>Wii</td>\n",
       "      <td>2006</td>\n",
       "      <td>Sports</td>\n",
       "      <td>41.36</td>\n",
       "      <td>28.96</td>\n",
       "      <td>3.77</td>\n",
       "      <td>8.45</td>\n",
       "      <td>76.0</td>\n",
       "      <td>8.0</td>\n",
       "      <td>E</td>\n",
       "      <td>Для всех</td>\n",
       "    </tr>\n",
       "    <tr>\n",
       "      <th>1</th>\n",
       "      <td>Super Mario Bros.</td>\n",
       "      <td>NES</td>\n",
       "      <td>1985</td>\n",
       "      <td>Platform</td>\n",
       "      <td>29.08</td>\n",
       "      <td>3.58</td>\n",
       "      <td>6.81</td>\n",
       "      <td>0.77</td>\n",
       "      <td>NaN</td>\n",
       "      <td>NaN</td>\n",
       "      <td>NaN</td>\n",
       "      <td>Без рейтинга</td>\n",
       "    </tr>\n",
       "    <tr>\n",
       "      <th>2</th>\n",
       "      <td>Mario Kart Wii</td>\n",
       "      <td>Wii</td>\n",
       "      <td>2008</td>\n",
       "      <td>Racing</td>\n",
       "      <td>15.68</td>\n",
       "      <td>12.76</td>\n",
       "      <td>3.79</td>\n",
       "      <td>3.29</td>\n",
       "      <td>82.0</td>\n",
       "      <td>8.3</td>\n",
       "      <td>E</td>\n",
       "      <td>Для всех</td>\n",
       "    </tr>\n",
       "    <tr>\n",
       "      <th>3</th>\n",
       "      <td>Wii Sports Resort</td>\n",
       "      <td>Wii</td>\n",
       "      <td>2009</td>\n",
       "      <td>Sports</td>\n",
       "      <td>15.61</td>\n",
       "      <td>10.93</td>\n",
       "      <td>3.28</td>\n",
       "      <td>2.95</td>\n",
       "      <td>80.0</td>\n",
       "      <td>8.0</td>\n",
       "      <td>E</td>\n",
       "      <td>Для всех</td>\n",
       "    </tr>\n",
       "    <tr>\n",
       "      <th>4</th>\n",
       "      <td>Pokemon Red/Pokemon Blue</td>\n",
       "      <td>GB</td>\n",
       "      <td>1996</td>\n",
       "      <td>Role-Playing</td>\n",
       "      <td>11.27</td>\n",
       "      <td>8.89</td>\n",
       "      <td>10.22</td>\n",
       "      <td>1.00</td>\n",
       "      <td>NaN</td>\n",
       "      <td>NaN</td>\n",
       "      <td>NaN</td>\n",
       "      <td>Без рейтинга</td>\n",
       "    </tr>\n",
       "  </tbody>\n",
       "</table>\n",
       "</div>"
      ],
      "text/plain": [
       "                       name platform  year_of_release         genre  na_sales  \\\n",
       "0                Wii Sports      Wii             2006        Sports     41.36   \n",
       "1         Super Mario Bros.      NES             1985      Platform     29.08   \n",
       "2            Mario Kart Wii      Wii             2008        Racing     15.68   \n",
       "3         Wii Sports Resort      Wii             2009        Sports     15.61   \n",
       "4  Pokemon Red/Pokemon Blue       GB             1996  Role-Playing     11.27   \n",
       "\n",
       "   eu_sales  jp_sales  other_sales  critic_score  user_score rating  \\\n",
       "0     28.96      3.77         8.45          76.0         8.0      E   \n",
       "1      3.58      6.81         0.77           NaN         NaN    NaN   \n",
       "2     12.76      3.79         3.29          82.0         8.3      E   \n",
       "3     10.93      3.28         2.95          80.0         8.0      E   \n",
       "4      8.89     10.22         1.00           NaN         NaN    NaN   \n",
       "\n",
       "  categorii_rating  \n",
       "0         Для всех  \n",
       "1     Без рейтинга  \n",
       "2         Для всех  \n",
       "3         Для всех  \n",
       "4     Без рейтинга  "
      ]
     },
     "execution_count": 37,
     "metadata": {},
     "output_type": "execute_result"
    }
   ],
   "source": [
    "df.head()"
   ]
  },
  {
   "cell_type": "markdown",
   "id": "0f1608ea",
   "metadata": {},
   "source": [
    "#### Вывод"
   ]
  },
  {
   "cell_type": "markdown",
   "id": "61ad26c0",
   "metadata": {},
   "source": [
    "Мы успешно категоризировали данные по возрастному рейтингу."
   ]
  },
  {
   "cell_type": "markdown",
   "id": "e1a45a64",
   "metadata": {},
   "source": [
    "### Суммарные продажи"
   ]
  },
  {
   "cell_type": "markdown",
   "id": "c2e8e636",
   "metadata": {},
   "source": [
    "Добавим в датафрейм `df` данные по суммарным продажам. Сохраним их в столбце `total_sales`"
   ]
  },
  {
   "cell_type": "code",
   "execution_count": 38,
   "id": "c1ee503e",
   "metadata": {},
   "outputs": [],
   "source": [
    "#df['total_sales'] = df['na_sales'] + df['eu_sales'] + df['jp_sales'] + df['other_sales']\n",
    "df['total_sales'] = df[['na_sales', 'eu_sales', 'jp_sales', 'other_sales']].sum(axis = 1)"
   ]
  },
  {
   "cell_type": "markdown",
   "id": "1bb7ac81",
   "metadata": {},
   "source": [
    "Выведим получившийся результат:"
   ]
  },
  {
   "cell_type": "code",
   "execution_count": 39,
   "id": "80e3a6b3",
   "metadata": {},
   "outputs": [
    {
     "data": {
      "text/html": [
       "<div>\n",
       "<style scoped>\n",
       "    .dataframe tbody tr th:only-of-type {\n",
       "        vertical-align: middle;\n",
       "    }\n",
       "\n",
       "    .dataframe tbody tr th {\n",
       "        vertical-align: top;\n",
       "    }\n",
       "\n",
       "    .dataframe thead th {\n",
       "        text-align: right;\n",
       "    }\n",
       "</style>\n",
       "<table border=\"1\" class=\"dataframe\">\n",
       "  <thead>\n",
       "    <tr style=\"text-align: right;\">\n",
       "      <th></th>\n",
       "      <th>name</th>\n",
       "      <th>platform</th>\n",
       "      <th>year_of_release</th>\n",
       "      <th>genre</th>\n",
       "      <th>na_sales</th>\n",
       "      <th>eu_sales</th>\n",
       "      <th>jp_sales</th>\n",
       "      <th>other_sales</th>\n",
       "      <th>critic_score</th>\n",
       "      <th>user_score</th>\n",
       "      <th>rating</th>\n",
       "      <th>categorii_rating</th>\n",
       "      <th>total_sales</th>\n",
       "    </tr>\n",
       "  </thead>\n",
       "  <tbody>\n",
       "    <tr>\n",
       "      <th>0</th>\n",
       "      <td>Wii Sports</td>\n",
       "      <td>Wii</td>\n",
       "      <td>2006</td>\n",
       "      <td>Sports</td>\n",
       "      <td>41.36</td>\n",
       "      <td>28.96</td>\n",
       "      <td>3.77</td>\n",
       "      <td>8.45</td>\n",
       "      <td>76.0</td>\n",
       "      <td>8.0</td>\n",
       "      <td>E</td>\n",
       "      <td>Для всех</td>\n",
       "      <td>82.54</td>\n",
       "    </tr>\n",
       "    <tr>\n",
       "      <th>1</th>\n",
       "      <td>Super Mario Bros.</td>\n",
       "      <td>NES</td>\n",
       "      <td>1985</td>\n",
       "      <td>Platform</td>\n",
       "      <td>29.08</td>\n",
       "      <td>3.58</td>\n",
       "      <td>6.81</td>\n",
       "      <td>0.77</td>\n",
       "      <td>NaN</td>\n",
       "      <td>NaN</td>\n",
       "      <td>NaN</td>\n",
       "      <td>Без рейтинга</td>\n",
       "      <td>40.24</td>\n",
       "    </tr>\n",
       "    <tr>\n",
       "      <th>2</th>\n",
       "      <td>Mario Kart Wii</td>\n",
       "      <td>Wii</td>\n",
       "      <td>2008</td>\n",
       "      <td>Racing</td>\n",
       "      <td>15.68</td>\n",
       "      <td>12.76</td>\n",
       "      <td>3.79</td>\n",
       "      <td>3.29</td>\n",
       "      <td>82.0</td>\n",
       "      <td>8.3</td>\n",
       "      <td>E</td>\n",
       "      <td>Для всех</td>\n",
       "      <td>35.52</td>\n",
       "    </tr>\n",
       "    <tr>\n",
       "      <th>3</th>\n",
       "      <td>Wii Sports Resort</td>\n",
       "      <td>Wii</td>\n",
       "      <td>2009</td>\n",
       "      <td>Sports</td>\n",
       "      <td>15.61</td>\n",
       "      <td>10.93</td>\n",
       "      <td>3.28</td>\n",
       "      <td>2.95</td>\n",
       "      <td>80.0</td>\n",
       "      <td>8.0</td>\n",
       "      <td>E</td>\n",
       "      <td>Для всех</td>\n",
       "      <td>32.77</td>\n",
       "    </tr>\n",
       "    <tr>\n",
       "      <th>4</th>\n",
       "      <td>Pokemon Red/Pokemon Blue</td>\n",
       "      <td>GB</td>\n",
       "      <td>1996</td>\n",
       "      <td>Role-Playing</td>\n",
       "      <td>11.27</td>\n",
       "      <td>8.89</td>\n",
       "      <td>10.22</td>\n",
       "      <td>1.00</td>\n",
       "      <td>NaN</td>\n",
       "      <td>NaN</td>\n",
       "      <td>NaN</td>\n",
       "      <td>Без рейтинга</td>\n",
       "      <td>31.38</td>\n",
       "    </tr>\n",
       "  </tbody>\n",
       "</table>\n",
       "</div>"
      ],
      "text/plain": [
       "                       name platform  year_of_release         genre  na_sales  \\\n",
       "0                Wii Sports      Wii             2006        Sports     41.36   \n",
       "1         Super Mario Bros.      NES             1985      Platform     29.08   \n",
       "2            Mario Kart Wii      Wii             2008        Racing     15.68   \n",
       "3         Wii Sports Resort      Wii             2009        Sports     15.61   \n",
       "4  Pokemon Red/Pokemon Blue       GB             1996  Role-Playing     11.27   \n",
       "\n",
       "   eu_sales  jp_sales  other_sales  critic_score  user_score rating  \\\n",
       "0     28.96      3.77         8.45          76.0         8.0      E   \n",
       "1      3.58      6.81         0.77           NaN         NaN    NaN   \n",
       "2     12.76      3.79         3.29          82.0         8.3      E   \n",
       "3     10.93      3.28         2.95          80.0         8.0      E   \n",
       "4      8.89     10.22         1.00           NaN         NaN    NaN   \n",
       "\n",
       "  categorii_rating  total_sales  \n",
       "0         Для всех        82.54  \n",
       "1     Без рейтинга        40.24  \n",
       "2         Для всех        35.52  \n",
       "3         Для всех        32.77  \n",
       "4     Без рейтинга        31.38  "
      ]
     },
     "execution_count": 39,
     "metadata": {},
     "output_type": "execute_result"
    }
   ],
   "source": [
    "df.head()"
   ]
  },
  {
   "cell_type": "markdown",
   "id": "2aa8d28d",
   "metadata": {},
   "source": [
    "#### Вывод"
   ]
  },
  {
   "cell_type": "markdown",
   "id": "782ecf63",
   "metadata": {},
   "source": [
    "Мы успешно добавили данные по общим продажам."
   ]
  },
  {
   "cell_type": "markdown",
   "id": "4b957c84",
   "metadata": {},
   "source": [
    "### Вывод"
   ]
  },
  {
   "cell_type": "markdown",
   "id": "cf9f72ef",
   "metadata": {},
   "source": [
    "Мы успешно провели работу по предобработке данных. Заменили названия столбцов, изменили тип данных, там где это было необходимо, заполнили пропуски и добавили столбец с данными по суммарным продажам по каждой игре по каждому региону."
   ]
  },
  {
   "cell_type": "markdown",
   "id": "3ac35494",
   "metadata": {},
   "source": [
    "## Исследовательский анализ данных"
   ]
  },
  {
   "cell_type": "markdown",
   "id": "19ba5b88",
   "metadata": {},
   "source": [
    "### Суммарные продажи по каждому году"
   ]
  },
  {
   "cell_type": "markdown",
   "id": "140b30e1",
   "metadata": {},
   "source": [
    "Сгруппируем данные о суммарных продажах по каждому году"
   ]
  },
  {
   "cell_type": "code",
   "execution_count": 40,
   "id": "3abfe308",
   "metadata": {},
   "outputs": [
    {
     "data": {
      "text/plain": [
       "year_of_release\n",
       "1980     11.38\n",
       "1981     35.68\n",
       "1982     28.88\n",
       "1983     16.80\n",
       "1984     50.35\n",
       "1985     53.95\n",
       "1986     37.08\n",
       "1987     21.70\n",
       "1988     47.21\n",
       "1989     73.45\n",
       "1990     49.37\n",
       "1991     32.23\n",
       "1992     76.16\n",
       "1993     45.99\n",
       "1994     79.23\n",
       "1995     88.12\n",
       "1996    199.15\n",
       "1997    201.07\n",
       "1998    258.84\n",
       "1999    251.25\n",
       "2000    201.66\n",
       "2001    333.78\n",
       "2002    401.35\n",
       "2003    368.37\n",
       "2004    419.56\n",
       "2005    460.68\n",
       "2006    525.96\n",
       "2007    606.17\n",
       "2008    681.24\n",
       "2009    659.51\n",
       "2010    594.66\n",
       "2011    510.64\n",
       "2012    360.52\n",
       "2013    362.11\n",
       "2014    331.53\n",
       "2015    267.98\n",
       "2016    129.94\n",
       "Name: total_sales, dtype: float64"
      ]
     },
     "execution_count": 40,
     "metadata": {},
     "output_type": "execute_result"
    }
   ],
   "source": [
    "df.groupby('year_of_release', as_index=True)['total_sales'].sum()"
   ]
  },
  {
   "cell_type": "markdown",
   "id": "be3c4073",
   "metadata": {},
   "source": [
    "Выведим сгруппированные данные на график"
   ]
  },
  {
   "cell_type": "code",
   "execution_count": 41,
   "id": "4159e6ef",
   "metadata": {
    "scrolled": false
   },
   "outputs": [
    {
     "data": {
      "image/png": "[encoded data removed]",
      "text/plain": [
       "<Figure size 1080x360 with 1 Axes>"
      ]
     },
     "metadata": {
      "needs_background": "light"
     },
     "output_type": "display_data"
    }
   ],
   "source": [
    "ax = df.groupby('year_of_release')['total_sales'].sum().plot(kind='line', figsize=(15,5), grid=True);\n",
    "ax.set_title('Суммарные продажи игр по годам');\n",
    "ax.set_xlabel('Год релиза');\n",
    "ax.set_ylabel('Суммарные продажи игр, млн. копий');"
   ]
  },
  {
   "cell_type": "markdown",
   "id": "f7c8c4e1",
   "metadata": {},
   "source": [
    "#### Вывод"
   ]
  },
  {
   "cell_type": "markdown",
   "id": "1b51106f",
   "metadata": {},
   "source": [
    "Исходя из данный и на основе графика, мы видим, что общие продажи по годам показывали существенный рост до 2008 года особенно с 1995 года, и не менее стремительное падение после 2008 года."
   ]
  },
  {
   "cell_type": "markdown",
   "id": "e46a82c0",
   "metadata": {},
   "source": [
    "### Продажи по платформам"
   ]
  },
  {
   "cell_type": "markdown",
   "id": "950b06e2",
   "metadata": {},
   "source": [
    "#### Продажи по платформам по годам"
   ]
  },
  {
   "cell_type": "markdown",
   "id": "868757b1",
   "metadata": {},
   "source": [
    "Выведим общие суммы продаж по платформам"
   ]
  },
  {
   "cell_type": "code",
   "execution_count": 42,
   "id": "7a929094",
   "metadata": {},
   "outputs": [
    {
     "data": {
      "text/plain": [
       "platform\n",
       "PS2     1250.92\n",
       "X360     966.67\n",
       "PS3      935.19\n",
       "Wii      903.31\n",
       "DS       804.28\n",
       "PS       727.58\n",
       "PS4      314.14\n",
       "GBA      313.73\n",
       "PSP      293.57\n",
       "PC       258.86\n",
       "3DS      258.53\n",
       "XB       256.84\n",
       "GB       254.43\n",
       "NES      251.05\n",
       "N64      218.48\n",
       "SNES     200.04\n",
       "GC       198.66\n",
       "XOne     159.32\n",
       "2600      89.01\n",
       "WiiU      82.19\n",
       "PSV       53.81\n",
       "SAT       33.59\n",
       "GEN       28.35\n",
       "DC        15.95\n",
       "SCD        1.86\n",
       "NG         1.44\n",
       "WS         1.42\n",
       "TG16       0.16\n",
       "3DO        0.10\n",
       "GG         0.04\n",
       "PCFX       0.03\n",
       "Name: total_sales, dtype: float64"
      ]
     },
     "execution_count": 42,
     "metadata": {},
     "output_type": "execute_result"
    }
   ],
   "source": [
    "df.groupby('platform')['total_sales'].sum().sort_values(ascending=False)"
   ]
  },
  {
   "cell_type": "markdown",
   "id": "32514a84",
   "metadata": {},
   "source": [
    "За платформы с наибольшими суммарными продажами будем считать тех которые в сумме набирают более 90% объема всех продажа. Выведим на какую величину приходится 90%"
   ]
  },
  {
   "cell_type": "code",
   "execution_count": 43,
   "id": "a6c43144",
   "metadata": {},
   "outputs": [
    {
     "data": {
      "text/plain": [
       "7986.1950000000015"
      ]
     },
     "execution_count": 43,
     "metadata": {},
     "output_type": "execute_result"
    }
   ],
   "source": [
    "df['total_sales'].sum() * 0.9"
   ]
  },
  {
   "cell_type": "markdown",
   "id": "79489717",
   "metadata": {},
   "source": [
    "Объем в 90% продаж приходится на 8021 млн. копий. Подберем подходящее под это количество платформ."
   ]
  },
  {
   "cell_type": "code",
   "execution_count": 44,
   "id": "9e097566",
   "metadata": {},
   "outputs": [
    {
     "data": {
      "text/plain": [
       "8007.579999999955"
      ]
     },
     "execution_count": 44,
     "metadata": {},
     "output_type": "execute_result"
    }
   ],
   "source": [
    "df.groupby('platform')['total_sales'].sum().sort_values(ascending=False).head(15).sum()"
   ]
  },
  {
   "cell_type": "markdown",
   "id": "49b8055e",
   "metadata": {},
   "source": [
    "Видим, что 90% продаж приходится на 15 платформ. Будем из этого исходить в дальнейшем."
   ]
  },
  {
   "cell_type": "markdown",
   "id": "024a04c3",
   "metadata": {},
   "source": [
    "Сгруппируем данные по суммарным продажам по платформам, все это сохраним списком из 15 платформ в переменной `plat_head_list`."
   ]
  },
  {
   "cell_type": "code",
   "execution_count": 45,
   "id": "9a3691e0",
   "metadata": {},
   "outputs": [],
   "source": [
    "plat_head_list = list(df.groupby('platform')['total_sales'].sum().sort_values(ascending=False).head(15).index)"
   ]
  },
  {
   "cell_type": "markdown",
   "id": "4c1acaef",
   "metadata": {},
   "source": [
    "Создадим сводную таблицу из 15 основных платформ с выводом по ним продаж по годам, сохраним все это в датафрейме `df_platform`"
   ]
  },
  {
   "cell_type": "code",
   "execution_count": 46,
   "id": "33c3eb73",
   "metadata": {},
   "outputs": [],
   "source": [
    "df_platform = df[df['platform'].isin(plat_head_list)].pivot_table(index='year_of_release', columns= 'platform', values='total_sales', aggfunc='sum', fill_value=0)"
   ]
  },
  {
   "cell_type": "markdown",
   "id": "6867e709",
   "metadata": {},
   "source": [
    "Выведим полученный результат:"
   ]
  },
  {
   "cell_type": "code",
   "execution_count": 47,
   "id": "985766be",
   "metadata": {
    "scrolled": false
   },
   "outputs": [
    {
     "data": {
      "text/html": [
       "<div>\n",
       "<style scoped>\n",
       "    .dataframe tbody tr th:only-of-type {\n",
       "        vertical-align: middle;\n",
       "    }\n",
       "\n",
       "    .dataframe tbody tr th {\n",
       "        vertical-align: top;\n",
       "    }\n",
       "\n",
       "    .dataframe thead th {\n",
       "        text-align: right;\n",
       "    }\n",
       "</style>\n",
       "<table border=\"1\" class=\"dataframe\">\n",
       "  <thead>\n",
       "    <tr style=\"text-align: right;\">\n",
       "      <th>platform</th>\n",
       "      <th>3DS</th>\n",
       "      <th>DS</th>\n",
       "      <th>GB</th>\n",
       "      <th>GBA</th>\n",
       "      <th>N64</th>\n",
       "      <th>NES</th>\n",
       "      <th>PC</th>\n",
       "      <th>PS</th>\n",
       "      <th>PS2</th>\n",
       "      <th>PS3</th>\n",
       "      <th>PS4</th>\n",
       "      <th>PSP</th>\n",
       "      <th>Wii</th>\n",
       "      <th>X360</th>\n",
       "      <th>XB</th>\n",
       "    </tr>\n",
       "    <tr>\n",
       "      <th>year_of_release</th>\n",
       "      <th></th>\n",
       "      <th></th>\n",
       "      <th></th>\n",
       "      <th></th>\n",
       "      <th></th>\n",
       "      <th></th>\n",
       "      <th></th>\n",
       "      <th></th>\n",
       "      <th></th>\n",
       "      <th></th>\n",
       "      <th></th>\n",
       "      <th></th>\n",
       "      <th></th>\n",
       "      <th></th>\n",
       "      <th></th>\n",
       "    </tr>\n",
       "  </thead>\n",
       "  <tbody>\n",
       "    <tr>\n",
       "      <th>1983</th>\n",
       "      <td>0.00</td>\n",
       "      <td>0.00</td>\n",
       "      <td>0.00</td>\n",
       "      <td>0.00</td>\n",
       "      <td>0.00</td>\n",
       "      <td>10.96</td>\n",
       "      <td>0.00</td>\n",
       "      <td>0.00</td>\n",
       "      <td>0.00</td>\n",
       "      <td>0.00</td>\n",
       "      <td>0.00</td>\n",
       "      <td>0.00</td>\n",
       "      <td>0.00</td>\n",
       "      <td>0.00</td>\n",
       "      <td>0.00</td>\n",
       "    </tr>\n",
       "    <tr>\n",
       "      <th>1984</th>\n",
       "      <td>0.00</td>\n",
       "      <td>0.00</td>\n",
       "      <td>0.00</td>\n",
       "      <td>0.00</td>\n",
       "      <td>0.00</td>\n",
       "      <td>50.08</td>\n",
       "      <td>0.00</td>\n",
       "      <td>0.00</td>\n",
       "      <td>0.00</td>\n",
       "      <td>0.00</td>\n",
       "      <td>0.00</td>\n",
       "      <td>0.00</td>\n",
       "      <td>0.00</td>\n",
       "      <td>0.00</td>\n",
       "      <td>0.00</td>\n",
       "    </tr>\n",
       "    <tr>\n",
       "      <th>1985</th>\n",
       "      <td>0.00</td>\n",
       "      <td>0.02</td>\n",
       "      <td>0.00</td>\n",
       "      <td>0.00</td>\n",
       "      <td>0.00</td>\n",
       "      <td>53.44</td>\n",
       "      <td>0.04</td>\n",
       "      <td>0.00</td>\n",
       "      <td>0.00</td>\n",
       "      <td>0.00</td>\n",
       "      <td>0.00</td>\n",
       "      <td>0.00</td>\n",
       "      <td>0.00</td>\n",
       "      <td>0.00</td>\n",
       "      <td>0.00</td>\n",
       "    </tr>\n",
       "    <tr>\n",
       "      <th>1986</th>\n",
       "      <td>0.00</td>\n",
       "      <td>0.00</td>\n",
       "      <td>0.00</td>\n",
       "      <td>0.00</td>\n",
       "      <td>0.00</td>\n",
       "      <td>36.41</td>\n",
       "      <td>0.00</td>\n",
       "      <td>0.00</td>\n",
       "      <td>0.00</td>\n",
       "      <td>0.00</td>\n",
       "      <td>0.00</td>\n",
       "      <td>0.00</td>\n",
       "      <td>0.00</td>\n",
       "      <td>0.00</td>\n",
       "      <td>0.00</td>\n",
       "    </tr>\n",
       "    <tr>\n",
       "      <th>1987</th>\n",
       "      <td>0.00</td>\n",
       "      <td>0.00</td>\n",
       "      <td>0.00</td>\n",
       "      <td>0.00</td>\n",
       "      <td>0.00</td>\n",
       "      <td>19.76</td>\n",
       "      <td>0.00</td>\n",
       "      <td>0.00</td>\n",
       "      <td>0.00</td>\n",
       "      <td>0.00</td>\n",
       "      <td>0.00</td>\n",
       "      <td>0.00</td>\n",
       "      <td>0.00</td>\n",
       "      <td>0.00</td>\n",
       "      <td>0.00</td>\n",
       "    </tr>\n",
       "    <tr>\n",
       "      <th>1988</th>\n",
       "      <td>0.00</td>\n",
       "      <td>0.00</td>\n",
       "      <td>1.43</td>\n",
       "      <td>0.00</td>\n",
       "      <td>0.00</td>\n",
       "      <td>45.01</td>\n",
       "      <td>0.03</td>\n",
       "      <td>0.00</td>\n",
       "      <td>0.00</td>\n",
       "      <td>0.00</td>\n",
       "      <td>0.00</td>\n",
       "      <td>0.00</td>\n",
       "      <td>0.00</td>\n",
       "      <td>0.00</td>\n",
       "      <td>0.00</td>\n",
       "    </tr>\n",
       "    <tr>\n",
       "      <th>1989</th>\n",
       "      <td>0.00</td>\n",
       "      <td>0.00</td>\n",
       "      <td>64.97</td>\n",
       "      <td>0.00</td>\n",
       "      <td>0.00</td>\n",
       "      <td>7.85</td>\n",
       "      <td>0.00</td>\n",
       "      <td>0.00</td>\n",
       "      <td>0.00</td>\n",
       "      <td>0.00</td>\n",
       "      <td>0.00</td>\n",
       "      <td>0.00</td>\n",
       "      <td>0.00</td>\n",
       "      <td>0.00</td>\n",
       "      <td>0.00</td>\n",
       "    </tr>\n",
       "    <tr>\n",
       "      <th>1990</th>\n",
       "      <td>0.00</td>\n",
       "      <td>0.00</td>\n",
       "      <td>4.89</td>\n",
       "      <td>0.00</td>\n",
       "      <td>0.00</td>\n",
       "      <td>15.73</td>\n",
       "      <td>0.00</td>\n",
       "      <td>0.00</td>\n",
       "      <td>0.00</td>\n",
       "      <td>0.00</td>\n",
       "      <td>0.00</td>\n",
       "      <td>0.00</td>\n",
       "      <td>0.00</td>\n",
       "      <td>0.00</td>\n",
       "      <td>0.00</td>\n",
       "    </tr>\n",
       "    <tr>\n",
       "      <th>1991</th>\n",
       "      <td>0.00</td>\n",
       "      <td>0.00</td>\n",
       "      <td>5.57</td>\n",
       "      <td>0.00</td>\n",
       "      <td>0.00</td>\n",
       "      <td>6.11</td>\n",
       "      <td>0.00</td>\n",
       "      <td>0.00</td>\n",
       "      <td>0.00</td>\n",
       "      <td>0.00</td>\n",
       "      <td>0.00</td>\n",
       "      <td>0.00</td>\n",
       "      <td>0.00</td>\n",
       "      <td>0.00</td>\n",
       "      <td>0.00</td>\n",
       "    </tr>\n",
       "    <tr>\n",
       "      <th>1992</th>\n",
       "      <td>0.00</td>\n",
       "      <td>0.00</td>\n",
       "      <td>25.49</td>\n",
       "      <td>0.00</td>\n",
       "      <td>0.00</td>\n",
       "      <td>1.98</td>\n",
       "      <td>3.03</td>\n",
       "      <td>0.00</td>\n",
       "      <td>0.00</td>\n",
       "      <td>0.00</td>\n",
       "      <td>0.00</td>\n",
       "      <td>0.00</td>\n",
       "      <td>0.00</td>\n",
       "      <td>0.00</td>\n",
       "      <td>0.00</td>\n",
       "    </tr>\n",
       "    <tr>\n",
       "      <th>1993</th>\n",
       "      <td>0.00</td>\n",
       "      <td>0.00</td>\n",
       "      <td>0.00</td>\n",
       "      <td>0.00</td>\n",
       "      <td>0.00</td>\n",
       "      <td>3.61</td>\n",
       "      <td>0.00</td>\n",
       "      <td>0.00</td>\n",
       "      <td>0.00</td>\n",
       "      <td>0.00</td>\n",
       "      <td>0.00</td>\n",
       "      <td>0.00</td>\n",
       "      <td>0.00</td>\n",
       "      <td>0.00</td>\n",
       "      <td>0.00</td>\n",
       "    </tr>\n",
       "    <tr>\n",
       "      <th>1994</th>\n",
       "      <td>0.00</td>\n",
       "      <td>0.00</td>\n",
       "      <td>12.18</td>\n",
       "      <td>0.00</td>\n",
       "      <td>0.00</td>\n",
       "      <td>0.11</td>\n",
       "      <td>12.87</td>\n",
       "      <td>6.03</td>\n",
       "      <td>0.00</td>\n",
       "      <td>0.00</td>\n",
       "      <td>0.00</td>\n",
       "      <td>0.00</td>\n",
       "      <td>0.00</td>\n",
       "      <td>0.00</td>\n",
       "      <td>0.00</td>\n",
       "    </tr>\n",
       "    <tr>\n",
       "      <th>1995</th>\n",
       "      <td>0.00</td>\n",
       "      <td>0.00</td>\n",
       "      <td>3.60</td>\n",
       "      <td>0.00</td>\n",
       "      <td>0.00</td>\n",
       "      <td>0.00</td>\n",
       "      <td>4.22</td>\n",
       "      <td>35.96</td>\n",
       "      <td>0.00</td>\n",
       "      <td>0.00</td>\n",
       "      <td>0.00</td>\n",
       "      <td>0.00</td>\n",
       "      <td>0.00</td>\n",
       "      <td>0.00</td>\n",
       "      <td>0.00</td>\n",
       "    </tr>\n",
       "    <tr>\n",
       "      <th>1996</th>\n",
       "      <td>0.00</td>\n",
       "      <td>0.00</td>\n",
       "      <td>36.03</td>\n",
       "      <td>0.00</td>\n",
       "      <td>34.10</td>\n",
       "      <td>0.00</td>\n",
       "      <td>10.58</td>\n",
       "      <td>94.70</td>\n",
       "      <td>0.00</td>\n",
       "      <td>0.00</td>\n",
       "      <td>0.00</td>\n",
       "      <td>0.00</td>\n",
       "      <td>0.00</td>\n",
       "      <td>0.00</td>\n",
       "      <td>0.00</td>\n",
       "    </tr>\n",
       "    <tr>\n",
       "      <th>1997</th>\n",
       "      <td>0.00</td>\n",
       "      <td>0.00</td>\n",
       "      <td>6.37</td>\n",
       "      <td>0.00</td>\n",
       "      <td>39.50</td>\n",
       "      <td>0.00</td>\n",
       "      <td>11.27</td>\n",
       "      <td>136.17</td>\n",
       "      <td>0.00</td>\n",
       "      <td>0.00</td>\n",
       "      <td>0.00</td>\n",
       "      <td>0.00</td>\n",
       "      <td>0.00</td>\n",
       "      <td>0.00</td>\n",
       "      <td>0.00</td>\n",
       "    </tr>\n",
       "    <tr>\n",
       "      <th>1998</th>\n",
       "      <td>0.00</td>\n",
       "      <td>0.00</td>\n",
       "      <td>26.90</td>\n",
       "      <td>0.00</td>\n",
       "      <td>49.24</td>\n",
       "      <td>0.00</td>\n",
       "      <td>3.26</td>\n",
       "      <td>169.49</td>\n",
       "      <td>0.00</td>\n",
       "      <td>0.00</td>\n",
       "      <td>0.00</td>\n",
       "      <td>0.00</td>\n",
       "      <td>0.00</td>\n",
       "      <td>0.00</td>\n",
       "      <td>0.00</td>\n",
       "    </tr>\n",
       "    <tr>\n",
       "      <th>1999</th>\n",
       "      <td>0.00</td>\n",
       "      <td>0.00</td>\n",
       "      <td>38.00</td>\n",
       "      <td>0.00</td>\n",
       "      <td>58.01</td>\n",
       "      <td>0.00</td>\n",
       "      <td>4.74</td>\n",
       "      <td>144.53</td>\n",
       "      <td>0.00</td>\n",
       "      <td>0.00</td>\n",
       "      <td>0.00</td>\n",
       "      <td>0.00</td>\n",
       "      <td>0.00</td>\n",
       "      <td>0.00</td>\n",
       "      <td>0.00</td>\n",
       "    </tr>\n",
       "    <tr>\n",
       "      <th>2000</th>\n",
       "      <td>0.00</td>\n",
       "      <td>0.00</td>\n",
       "      <td>19.76</td>\n",
       "      <td>0.07</td>\n",
       "      <td>33.97</td>\n",
       "      <td>0.00</td>\n",
       "      <td>4.66</td>\n",
       "      <td>96.37</td>\n",
       "      <td>39.17</td>\n",
       "      <td>0.00</td>\n",
       "      <td>0.00</td>\n",
       "      <td>0.00</td>\n",
       "      <td>0.00</td>\n",
       "      <td>0.00</td>\n",
       "      <td>0.99</td>\n",
       "    </tr>\n",
       "    <tr>\n",
       "      <th>2001</th>\n",
       "      <td>0.00</td>\n",
       "      <td>0.00</td>\n",
       "      <td>9.24</td>\n",
       "      <td>61.53</td>\n",
       "      <td>3.25</td>\n",
       "      <td>0.00</td>\n",
       "      <td>5.47</td>\n",
       "      <td>35.59</td>\n",
       "      <td>166.43</td>\n",
       "      <td>0.48</td>\n",
       "      <td>0.00</td>\n",
       "      <td>0.00</td>\n",
       "      <td>0.00</td>\n",
       "      <td>0.00</td>\n",
       "      <td>23.82</td>\n",
       "    </tr>\n",
       "    <tr>\n",
       "      <th>2002</th>\n",
       "      <td>0.00</td>\n",
       "      <td>0.00</td>\n",
       "      <td>0.00</td>\n",
       "      <td>74.16</td>\n",
       "      <td>0.08</td>\n",
       "      <td>0.00</td>\n",
       "      <td>8.57</td>\n",
       "      <td>6.67</td>\n",
       "      <td>208.36</td>\n",
       "      <td>0.00</td>\n",
       "      <td>0.00</td>\n",
       "      <td>0.00</td>\n",
       "      <td>0.00</td>\n",
       "      <td>0.00</td>\n",
       "      <td>51.00</td>\n",
       "    </tr>\n",
       "    <tr>\n",
       "      <th>2003</th>\n",
       "      <td>0.02</td>\n",
       "      <td>0.00</td>\n",
       "      <td>0.00</td>\n",
       "      <td>56.67</td>\n",
       "      <td>0.00</td>\n",
       "      <td>0.00</td>\n",
       "      <td>8.89</td>\n",
       "      <td>2.07</td>\n",
       "      <td>194.40</td>\n",
       "      <td>0.00</td>\n",
       "      <td>0.00</td>\n",
       "      <td>0.00</td>\n",
       "      <td>0.00</td>\n",
       "      <td>0.00</td>\n",
       "      <td>55.05</td>\n",
       "    </tr>\n",
       "    <tr>\n",
       "      <th>2004</th>\n",
       "      <td>0.00</td>\n",
       "      <td>17.27</td>\n",
       "      <td>0.00</td>\n",
       "      <td>77.91</td>\n",
       "      <td>0.33</td>\n",
       "      <td>0.00</td>\n",
       "      <td>10.39</td>\n",
       "      <td>0.00</td>\n",
       "      <td>211.81</td>\n",
       "      <td>0.00</td>\n",
       "      <td>0.00</td>\n",
       "      <td>7.06</td>\n",
       "      <td>0.00</td>\n",
       "      <td>0.00</td>\n",
       "      <td>65.97</td>\n",
       "    </tr>\n",
       "    <tr>\n",
       "      <th>2005</th>\n",
       "      <td>0.00</td>\n",
       "      <td>130.14</td>\n",
       "      <td>0.00</td>\n",
       "      <td>34.53</td>\n",
       "      <td>0.00</td>\n",
       "      <td>0.00</td>\n",
       "      <td>4.38</td>\n",
       "      <td>0.00</td>\n",
       "      <td>161.23</td>\n",
       "      <td>0.19</td>\n",
       "      <td>0.00</td>\n",
       "      <td>43.84</td>\n",
       "      <td>0.00</td>\n",
       "      <td>9.22</td>\n",
       "      <td>49.24</td>\n",
       "    </tr>\n",
       "    <tr>\n",
       "      <th>2006</th>\n",
       "      <td>0.00</td>\n",
       "      <td>119.81</td>\n",
       "      <td>0.00</td>\n",
       "      <td>5.46</td>\n",
       "      <td>0.00</td>\n",
       "      <td>0.00</td>\n",
       "      <td>2.85</td>\n",
       "      <td>0.00</td>\n",
       "      <td>107.03</td>\n",
       "      <td>20.96</td>\n",
       "      <td>0.00</td>\n",
       "      <td>56.28</td>\n",
       "      <td>140.19</td>\n",
       "      <td>51.79</td>\n",
       "      <td>10.04</td>\n",
       "    </tr>\n",
       "    <tr>\n",
       "      <th>2007</th>\n",
       "      <td>0.00</td>\n",
       "      <td>147.23</td>\n",
       "      <td>0.00</td>\n",
       "      <td>3.40</td>\n",
       "      <td>0.00</td>\n",
       "      <td>0.00</td>\n",
       "      <td>9.28</td>\n",
       "      <td>0.00</td>\n",
       "      <td>76.10</td>\n",
       "      <td>73.19</td>\n",
       "      <td>0.00</td>\n",
       "      <td>47.30</td>\n",
       "      <td>153.41</td>\n",
       "      <td>95.42</td>\n",
       "      <td>0.55</td>\n",
       "    </tr>\n",
       "    <tr>\n",
       "      <th>2008</th>\n",
       "      <td>0.00</td>\n",
       "      <td>145.36</td>\n",
       "      <td>0.00</td>\n",
       "      <td>0.00</td>\n",
       "      <td>0.00</td>\n",
       "      <td>0.00</td>\n",
       "      <td>12.46</td>\n",
       "      <td>0.00</td>\n",
       "      <td>53.90</td>\n",
       "      <td>118.79</td>\n",
       "      <td>0.00</td>\n",
       "      <td>36.76</td>\n",
       "      <td>177.68</td>\n",
       "      <td>136.07</td>\n",
       "      <td>0.18</td>\n",
       "    </tr>\n",
       "    <tr>\n",
       "      <th>2009</th>\n",
       "      <td>0.00</td>\n",
       "      <td>119.56</td>\n",
       "      <td>0.00</td>\n",
       "      <td>0.00</td>\n",
       "      <td>0.00</td>\n",
       "      <td>0.00</td>\n",
       "      <td>17.05</td>\n",
       "      <td>0.00</td>\n",
       "      <td>26.40</td>\n",
       "      <td>130.93</td>\n",
       "      <td>0.00</td>\n",
       "      <td>37.78</td>\n",
       "      <td>206.97</td>\n",
       "      <td>120.82</td>\n",
       "      <td>0.00</td>\n",
       "    </tr>\n",
       "    <tr>\n",
       "      <th>2010</th>\n",
       "      <td>0.30</td>\n",
       "      <td>85.35</td>\n",
       "      <td>0.00</td>\n",
       "      <td>0.00</td>\n",
       "      <td>0.00</td>\n",
       "      <td>0.00</td>\n",
       "      <td>26.15</td>\n",
       "      <td>0.00</td>\n",
       "      <td>5.64</td>\n",
       "      <td>142.96</td>\n",
       "      <td>0.00</td>\n",
       "      <td>35.04</td>\n",
       "      <td>128.67</td>\n",
       "      <td>170.55</td>\n",
       "      <td>0.00</td>\n",
       "    </tr>\n",
       "    <tr>\n",
       "      <th>2011</th>\n",
       "      <td>63.20</td>\n",
       "      <td>26.33</td>\n",
       "      <td>0.00</td>\n",
       "      <td>0.00</td>\n",
       "      <td>0.00</td>\n",
       "      <td>0.00</td>\n",
       "      <td>35.16</td>\n",
       "      <td>0.00</td>\n",
       "      <td>0.45</td>\n",
       "      <td>157.98</td>\n",
       "      <td>0.00</td>\n",
       "      <td>17.82</td>\n",
       "      <td>59.79</td>\n",
       "      <td>145.28</td>\n",
       "      <td>0.00</td>\n",
       "    </tr>\n",
       "    <tr>\n",
       "      <th>2012</th>\n",
       "      <td>51.76</td>\n",
       "      <td>11.67</td>\n",
       "      <td>0.00</td>\n",
       "      <td>0.00</td>\n",
       "      <td>0.00</td>\n",
       "      <td>0.00</td>\n",
       "      <td>23.45</td>\n",
       "      <td>0.00</td>\n",
       "      <td>0.00</td>\n",
       "      <td>108.28</td>\n",
       "      <td>0.00</td>\n",
       "      <td>7.95</td>\n",
       "      <td>22.94</td>\n",
       "      <td>100.72</td>\n",
       "      <td>0.00</td>\n",
       "    </tr>\n",
       "    <tr>\n",
       "      <th>2013</th>\n",
       "      <td>56.57</td>\n",
       "      <td>1.54</td>\n",
       "      <td>0.00</td>\n",
       "      <td>0.00</td>\n",
       "      <td>0.00</td>\n",
       "      <td>0.00</td>\n",
       "      <td>13.01</td>\n",
       "      <td>0.00</td>\n",
       "      <td>0.00</td>\n",
       "      <td>113.25</td>\n",
       "      <td>25.99</td>\n",
       "      <td>3.38</td>\n",
       "      <td>8.59</td>\n",
       "      <td>88.58</td>\n",
       "      <td>0.00</td>\n",
       "    </tr>\n",
       "    <tr>\n",
       "      <th>2014</th>\n",
       "      <td>43.76</td>\n",
       "      <td>0.00</td>\n",
       "      <td>0.00</td>\n",
       "      <td>0.00</td>\n",
       "      <td>0.00</td>\n",
       "      <td>0.00</td>\n",
       "      <td>13.28</td>\n",
       "      <td>0.00</td>\n",
       "      <td>0.00</td>\n",
       "      <td>47.76</td>\n",
       "      <td>100.00</td>\n",
       "      <td>0.24</td>\n",
       "      <td>3.75</td>\n",
       "      <td>34.74</td>\n",
       "      <td>0.00</td>\n",
       "    </tr>\n",
       "    <tr>\n",
       "      <th>2015</th>\n",
       "      <td>27.78</td>\n",
       "      <td>0.00</td>\n",
       "      <td>0.00</td>\n",
       "      <td>0.00</td>\n",
       "      <td>0.00</td>\n",
       "      <td>0.00</td>\n",
       "      <td>8.52</td>\n",
       "      <td>0.00</td>\n",
       "      <td>0.00</td>\n",
       "      <td>16.82</td>\n",
       "      <td>118.90</td>\n",
       "      <td>0.12</td>\n",
       "      <td>1.14</td>\n",
       "      <td>11.96</td>\n",
       "      <td>0.00</td>\n",
       "    </tr>\n",
       "    <tr>\n",
       "      <th>2016</th>\n",
       "      <td>15.14</td>\n",
       "      <td>0.00</td>\n",
       "      <td>0.00</td>\n",
       "      <td>0.00</td>\n",
       "      <td>0.00</td>\n",
       "      <td>0.00</td>\n",
       "      <td>5.25</td>\n",
       "      <td>0.00</td>\n",
       "      <td>0.00</td>\n",
       "      <td>3.60</td>\n",
       "      <td>69.25</td>\n",
       "      <td>0.00</td>\n",
       "      <td>0.18</td>\n",
       "      <td>1.52</td>\n",
       "      <td>0.00</td>\n",
       "    </tr>\n",
       "  </tbody>\n",
       "</table>\n",
       "</div>"
      ],
      "text/plain": [
       "platform           3DS      DS     GB    GBA    N64    NES     PC      PS  \\\n",
       "year_of_release                                                             \n",
       "1983              0.00    0.00   0.00   0.00   0.00  10.96   0.00    0.00   \n",
       "1984              0.00    0.00   0.00   0.00   0.00  50.08   0.00    0.00   \n",
       "1985              0.00    0.02   0.00   0.00   0.00  53.44   0.04    0.00   \n",
       "1986              0.00    0.00   0.00   0.00   0.00  36.41   0.00    0.00   \n",
       "1987              0.00    0.00   0.00   0.00   0.00  19.76   0.00    0.00   \n",
       "1988              0.00    0.00   1.43   0.00   0.00  45.01   0.03    0.00   \n",
       "1989              0.00    0.00  64.97   0.00   0.00   7.85   0.00    0.00   \n",
       "1990              0.00    0.00   4.89   0.00   0.00  15.73   0.00    0.00   \n",
       "1991              0.00    0.00   5.57   0.00   0.00   6.11   0.00    0.00   \n",
       "1992              0.00    0.00  25.49   0.00   0.00   1.98   3.03    0.00   \n",
       "1993              0.00    0.00   0.00   0.00   0.00   3.61   0.00    0.00   \n",
       "1994              0.00    0.00  12.18   0.00   0.00   0.11  12.87    6.03   \n",
       "1995              0.00    0.00   3.60   0.00   0.00   0.00   4.22   35.96   \n",
       "1996              0.00    0.00  36.03   0.00  34.10   0.00  10.58   94.70   \n",
       "1997              0.00    0.00   6.37   0.00  39.50   0.00  11.27  136.17   \n",
       "1998              0.00    0.00  26.90   0.00  49.24   0.00   3.26  169.49   \n",
       "1999              0.00    0.00  38.00   0.00  58.01   0.00   4.74  144.53   \n",
       "2000              0.00    0.00  19.76   0.07  33.97   0.00   4.66   96.37   \n",
       "2001              0.00    0.00   9.24  61.53   3.25   0.00   5.47   35.59   \n",
       "2002              0.00    0.00   0.00  74.16   0.08   0.00   8.57    6.67   \n",
       "2003              0.02    0.00   0.00  56.67   0.00   0.00   8.89    2.07   \n",
       "2004              0.00   17.27   0.00  77.91   0.33   0.00  10.39    0.00   \n",
       "2005              0.00  130.14   0.00  34.53   0.00   0.00   4.38    0.00   \n",
       "2006              0.00  119.81   0.00   5.46   0.00   0.00   2.85    0.00   \n",
       "2007              0.00  147.23   0.00   3.40   0.00   0.00   9.28    0.00   \n",
       "2008              0.00  145.36   0.00   0.00   0.00   0.00  12.46    0.00   \n",
       "2009              0.00  119.56   0.00   0.00   0.00   0.00  17.05    0.00   \n",
       "2010              0.30   85.35   0.00   0.00   0.00   0.00  26.15    0.00   \n",
       "2011             63.20   26.33   0.00   0.00   0.00   0.00  35.16    0.00   \n",
       "2012             51.76   11.67   0.00   0.00   0.00   0.00  23.45    0.00   \n",
       "2013             56.57    1.54   0.00   0.00   0.00   0.00  13.01    0.00   \n",
       "2014             43.76    0.00   0.00   0.00   0.00   0.00  13.28    0.00   \n",
       "2015             27.78    0.00   0.00   0.00   0.00   0.00   8.52    0.00   \n",
       "2016             15.14    0.00   0.00   0.00   0.00   0.00   5.25    0.00   \n",
       "\n",
       "platform            PS2     PS3     PS4    PSP     Wii    X360     XB  \n",
       "year_of_release                                                        \n",
       "1983               0.00    0.00    0.00   0.00    0.00    0.00   0.00  \n",
       "1984               0.00    0.00    0.00   0.00    0.00    0.00   0.00  \n",
       "1985               0.00    0.00    0.00   0.00    0.00    0.00   0.00  \n",
       "1986               0.00    0.00    0.00   0.00    0.00    0.00   0.00  \n",
       "1987               0.00    0.00    0.00   0.00    0.00    0.00   0.00  \n",
       "1988               0.00    0.00    0.00   0.00    0.00    0.00   0.00  \n",
       "1989               0.00    0.00    0.00   0.00    0.00    0.00   0.00  \n",
       "1990               0.00    0.00    0.00   0.00    0.00    0.00   0.00  \n",
       "1991               0.00    0.00    0.00   0.00    0.00    0.00   0.00  \n",
       "1992               0.00    0.00    0.00   0.00    0.00    0.00   0.00  \n",
       "1993               0.00    0.00    0.00   0.00    0.00    0.00   0.00  \n",
       "1994               0.00    0.00    0.00   0.00    0.00    0.00   0.00  \n",
       "1995               0.00    0.00    0.00   0.00    0.00    0.00   0.00  \n",
       "1996               0.00    0.00    0.00   0.00    0.00    0.00   0.00  \n",
       "1997               0.00    0.00    0.00   0.00    0.00    0.00   0.00  \n",
       "1998               0.00    0.00    0.00   0.00    0.00    0.00   0.00  \n",
       "1999               0.00    0.00    0.00   0.00    0.00    0.00   0.00  \n",
       "2000              39.17    0.00    0.00   0.00    0.00    0.00   0.99  \n",
       "2001             166.43    0.48    0.00   0.00    0.00    0.00  23.82  \n",
       "2002             208.36    0.00    0.00   0.00    0.00    0.00  51.00  \n",
       "2003             194.40    0.00    0.00   0.00    0.00    0.00  55.05  \n",
       "2004             211.81    0.00    0.00   7.06    0.00    0.00  65.97  \n",
       "2005             161.23    0.19    0.00  43.84    0.00    9.22  49.24  \n",
       "2006             107.03   20.96    0.00  56.28  140.19   51.79  10.04  \n",
       "2007              76.10   73.19    0.00  47.30  153.41   95.42   0.55  \n",
       "2008              53.90  118.79    0.00  36.76  177.68  136.07   0.18  \n",
       "2009              26.40  130.93    0.00  37.78  206.97  120.82   0.00  \n",
       "2010               5.64  142.96    0.00  35.04  128.67  170.55   0.00  \n",
       "2011               0.45  157.98    0.00  17.82   59.79  145.28   0.00  \n",
       "2012               0.00  108.28    0.00   7.95   22.94  100.72   0.00  \n",
       "2013               0.00  113.25   25.99   3.38    8.59   88.58   0.00  \n",
       "2014               0.00   47.76  100.00   0.24    3.75   34.74   0.00  \n",
       "2015               0.00   16.82  118.90   0.12    1.14   11.96   0.00  \n",
       "2016               0.00    3.60   69.25   0.00    0.18    1.52   0.00  "
      ]
     },
     "execution_count": 47,
     "metadata": {},
     "output_type": "execute_result"
    }
   ],
   "source": [
    "df_platform"
   ]
  },
  {
   "cell_type": "markdown",
   "id": "57cc8bdd",
   "metadata": {},
   "source": [
    "##### Вывод"
   ]
  },
  {
   "cell_type": "markdown",
   "id": "41ad0eda",
   "metadata": {},
   "source": [
    "Видна определенная закономерность в том, что каждая платформа работает какой то период и прекращает, вероятно ее заменяет другая. "
   ]
  },
  {
   "cell_type": "markdown",
   "id": "1b42e831",
   "metadata": {},
   "source": [
    "#### Вычисление актуального периода"
   ]
  },
  {
   "cell_type": "markdown",
   "id": "4409ff75",
   "metadata": {},
   "source": [
    "Посчитаем периоды работы по каждой платформе. Для этого переведем датафрейм в формат - работала платформа или нет."
   ]
  },
  {
   "cell_type": "code",
   "execution_count": 48,
   "id": "51d00847",
   "metadata": {},
   "outputs": [],
   "source": [
    "df_columns = df_platform.columns #список колонок с данными о продажах"
   ]
  },
  {
   "cell_type": "markdown",
   "id": "6472eeeb",
   "metadata": {},
   "source": [
    "Для этого, в тех годах, где были продажи заменим на 1, где небыло продаж оставим 0."
   ]
  },
  {
   "cell_type": "code",
   "execution_count": 49,
   "id": "19aedbcc",
   "metadata": {},
   "outputs": [],
   "source": [
    "df_platform[df_columns] = np.where((df_platform[df_columns] > 0), 1, df_platform[df_columns]).astype(int)"
   ]
  },
  {
   "cell_type": "markdown",
   "id": "fa5a0fd5",
   "metadata": {},
   "source": [
    "Посчитаем среднее количество лет работы платформ:"
   ]
  },
  {
   "cell_type": "code",
   "execution_count": 50,
   "id": "bfecc1da",
   "metadata": {},
   "outputs": [
    {
     "name": "stdout",
     "output_type": "stream",
     "text": [
      "Среднее количество работы платформы 11.266666666666667\n"
     ]
    }
   ],
   "source": [
    "platforms = 0 #накопление платформ\n",
    "counts_years = 0 #кол-во отработанных лет\n",
    "for platform in df_platform.columns:\n",
    "    counts_years += df_platform[platform].sum() #добавляем отработанные на платформах года\n",
    "    platforms += 1 #добавление количества платформ\n",
    "print(f'Среднее количество работы платформы {counts_years / platforms}')"
   ]
  },
  {
   "cell_type": "code",
   "execution_count": 51,
   "id": "fffa6432",
   "metadata": {},
   "outputs": [
    {
     "data": {
      "image/png": "[encoded data removed]",
      "text/plain": [
       "<Figure size 432x288 with 1 Axes>"
      ]
     },
     "metadata": {
      "needs_background": "light"
     },
     "output_type": "display_data"
    }
   ],
   "source": [
    "#Код ревьюера\n",
    "df.query('year_of_release > 2000 & platform == \"PS3\"').groupby('year_of_release')['total_sales'].sum().plot(kind = 'bar')\n",
    "plt.title('Суммарные продажи игр на платформе PS3 по годам')\n",
    "plt.show()"
   ]
  },
  {
   "cell_type": "markdown",
   "id": "2bca1ed1",
   "metadata": {},
   "source": [
    "##### Вывод"
   ]
  },
  {
   "cell_type": "markdown",
   "id": "dfc7ca39",
   "metadata": {},
   "source": [
    "Исходя из произведенных расчетов, мы можем определить актуальный период в 12 лет. "
   ]
  },
  {
   "cell_type": "markdown",
   "id": "9dbf29eb",
   "metadata": {},
   "source": [
    "#### Лидеры продаж и потенциально прибыльные платформы"
   ]
  },
  {
   "cell_type": "markdown",
   "id": "96ac7d60",
   "metadata": {},
   "source": [
    "Сформируем список из 12 последних лет данных и сохраним его в переменной `tail_12_years`"
   ]
  },
  {
   "cell_type": "code",
   "execution_count": 52,
   "id": "5815585d",
   "metadata": {},
   "outputs": [],
   "source": [
    "tail_12_years = sorted(list(df['year_of_release'].unique()))[-12:]"
   ]
  },
  {
   "cell_type": "code",
   "execution_count": 53,
   "id": "4110a4aa",
   "metadata": {},
   "outputs": [
    {
     "data": {
      "text/plain": [
       "[2005, 2006, 2007, 2008, 2009, 2010, 2011, 2012, 2013, 2014, 2015, 2016]"
      ]
     },
     "execution_count": 53,
     "metadata": {},
     "output_type": "execute_result"
    }
   ],
   "source": [
    "tail_12_years"
   ]
  },
  {
   "cell_type": "markdown",
   "id": "c0ba9f68",
   "metadata": {},
   "source": [
    "Сформируем сводную таблицу по всем платформам с ежегодными продажами за последние 12 лет, сохраним это все в датафрейме `df_all_platform`. Для удобства выведим года по горизонтали."
   ]
  },
  {
   "cell_type": "code",
   "execution_count": 54,
   "id": "37111d6a",
   "metadata": {},
   "outputs": [],
   "source": [
    "df_all_platform = df[df['year_of_release'].isin(tail_12_years)].pivot_table(index='platform', columns= 'year_of_release', values='total_sales', aggfunc='sum', fill_value=0)"
   ]
  },
  {
   "cell_type": "markdown",
   "id": "ec7581fc",
   "metadata": {},
   "source": [
    "Отсортируем таблицу по убыванию по последнему году работы"
   ]
  },
  {
   "cell_type": "code",
   "execution_count": 55,
   "id": "62827a54",
   "metadata": {},
   "outputs": [
    {
     "data": {
      "text/html": [
       "<div>\n",
       "<style scoped>\n",
       "    .dataframe tbody tr th:only-of-type {\n",
       "        vertical-align: middle;\n",
       "    }\n",
       "\n",
       "    .dataframe tbody tr th {\n",
       "        vertical-align: top;\n",
       "    }\n",
       "\n",
       "    .dataframe thead th {\n",
       "        text-align: right;\n",
       "    }\n",
       "</style>\n",
       "<table border=\"1\" class=\"dataframe\">\n",
       "  <thead>\n",
       "    <tr style=\"text-align: right;\">\n",
       "      <th>year_of_release</th>\n",
       "      <th>platform</th>\n",
       "      <th>2005</th>\n",
       "      <th>2006</th>\n",
       "      <th>2007</th>\n",
       "      <th>2008</th>\n",
       "      <th>2009</th>\n",
       "      <th>2010</th>\n",
       "      <th>2011</th>\n",
       "      <th>2012</th>\n",
       "      <th>2013</th>\n",
       "      <th>2014</th>\n",
       "      <th>2015</th>\n",
       "      <th>2016</th>\n",
       "    </tr>\n",
       "  </thead>\n",
       "  <tbody>\n",
       "    <tr>\n",
       "      <th>0</th>\n",
       "      <td>PS4</td>\n",
       "      <td>0.00</td>\n",
       "      <td>0.00</td>\n",
       "      <td>0.00</td>\n",
       "      <td>0.00</td>\n",
       "      <td>0.00</td>\n",
       "      <td>0.00</td>\n",
       "      <td>0.00</td>\n",
       "      <td>0.00</td>\n",
       "      <td>25.99</td>\n",
       "      <td>100.00</td>\n",
       "      <td>118.90</td>\n",
       "      <td>69.25</td>\n",
       "    </tr>\n",
       "    <tr>\n",
       "      <th>1</th>\n",
       "      <td>XOne</td>\n",
       "      <td>0.00</td>\n",
       "      <td>0.00</td>\n",
       "      <td>0.00</td>\n",
       "      <td>0.00</td>\n",
       "      <td>0.00</td>\n",
       "      <td>0.00</td>\n",
       "      <td>0.00</td>\n",
       "      <td>0.00</td>\n",
       "      <td>18.96</td>\n",
       "      <td>54.07</td>\n",
       "      <td>60.14</td>\n",
       "      <td>26.15</td>\n",
       "    </tr>\n",
       "    <tr>\n",
       "      <th>2</th>\n",
       "      <td>3DS</td>\n",
       "      <td>0.00</td>\n",
       "      <td>0.00</td>\n",
       "      <td>0.00</td>\n",
       "      <td>0.00</td>\n",
       "      <td>0.00</td>\n",
       "      <td>0.30</td>\n",
       "      <td>63.20</td>\n",
       "      <td>51.76</td>\n",
       "      <td>56.57</td>\n",
       "      <td>43.76</td>\n",
       "      <td>27.78</td>\n",
       "      <td>15.14</td>\n",
       "    </tr>\n",
       "    <tr>\n",
       "      <th>3</th>\n",
       "      <td>PC</td>\n",
       "      <td>4.38</td>\n",
       "      <td>2.85</td>\n",
       "      <td>9.28</td>\n",
       "      <td>12.46</td>\n",
       "      <td>17.05</td>\n",
       "      <td>26.15</td>\n",
       "      <td>35.16</td>\n",
       "      <td>23.45</td>\n",
       "      <td>13.01</td>\n",
       "      <td>13.28</td>\n",
       "      <td>8.52</td>\n",
       "      <td>5.25</td>\n",
       "    </tr>\n",
       "    <tr>\n",
       "      <th>4</th>\n",
       "      <td>WiiU</td>\n",
       "      <td>0.00</td>\n",
       "      <td>0.00</td>\n",
       "      <td>0.00</td>\n",
       "      <td>0.00</td>\n",
       "      <td>0.00</td>\n",
       "      <td>0.00</td>\n",
       "      <td>0.00</td>\n",
       "      <td>17.56</td>\n",
       "      <td>21.65</td>\n",
       "      <td>22.03</td>\n",
       "      <td>16.35</td>\n",
       "      <td>4.60</td>\n",
       "    </tr>\n",
       "    <tr>\n",
       "      <th>5</th>\n",
       "      <td>PSV</td>\n",
       "      <td>0.00</td>\n",
       "      <td>0.00</td>\n",
       "      <td>0.00</td>\n",
       "      <td>0.00</td>\n",
       "      <td>0.00</td>\n",
       "      <td>0.00</td>\n",
       "      <td>4.63</td>\n",
       "      <td>16.19</td>\n",
       "      <td>10.59</td>\n",
       "      <td>11.90</td>\n",
       "      <td>6.25</td>\n",
       "      <td>4.25</td>\n",
       "    </tr>\n",
       "    <tr>\n",
       "      <th>6</th>\n",
       "      <td>PS3</td>\n",
       "      <td>0.19</td>\n",
       "      <td>20.96</td>\n",
       "      <td>73.19</td>\n",
       "      <td>118.79</td>\n",
       "      <td>130.93</td>\n",
       "      <td>142.96</td>\n",
       "      <td>157.98</td>\n",
       "      <td>108.28</td>\n",
       "      <td>113.25</td>\n",
       "      <td>47.76</td>\n",
       "      <td>16.82</td>\n",
       "      <td>3.60</td>\n",
       "    </tr>\n",
       "    <tr>\n",
       "      <th>7</th>\n",
       "      <td>X360</td>\n",
       "      <td>9.22</td>\n",
       "      <td>51.79</td>\n",
       "      <td>95.42</td>\n",
       "      <td>136.07</td>\n",
       "      <td>120.82</td>\n",
       "      <td>170.55</td>\n",
       "      <td>145.28</td>\n",
       "      <td>100.72</td>\n",
       "      <td>88.58</td>\n",
       "      <td>34.74</td>\n",
       "      <td>11.96</td>\n",
       "      <td>1.52</td>\n",
       "    </tr>\n",
       "    <tr>\n",
       "      <th>8</th>\n",
       "      <td>Wii</td>\n",
       "      <td>0.00</td>\n",
       "      <td>140.19</td>\n",
       "      <td>153.41</td>\n",
       "      <td>177.68</td>\n",
       "      <td>206.97</td>\n",
       "      <td>128.67</td>\n",
       "      <td>59.79</td>\n",
       "      <td>22.94</td>\n",
       "      <td>8.59</td>\n",
       "      <td>3.75</td>\n",
       "      <td>1.14</td>\n",
       "      <td>0.18</td>\n",
       "    </tr>\n",
       "    <tr>\n",
       "      <th>9</th>\n",
       "      <td>DC</td>\n",
       "      <td>0.00</td>\n",
       "      <td>0.00</td>\n",
       "      <td>0.02</td>\n",
       "      <td>0.04</td>\n",
       "      <td>0.00</td>\n",
       "      <td>0.00</td>\n",
       "      <td>0.00</td>\n",
       "      <td>0.00</td>\n",
       "      <td>0.00</td>\n",
       "      <td>0.00</td>\n",
       "      <td>0.00</td>\n",
       "      <td>0.00</td>\n",
       "    </tr>\n",
       "    <tr>\n",
       "      <th>10</th>\n",
       "      <td>DS</td>\n",
       "      <td>130.14</td>\n",
       "      <td>119.81</td>\n",
       "      <td>147.23</td>\n",
       "      <td>145.36</td>\n",
       "      <td>119.56</td>\n",
       "      <td>85.35</td>\n",
       "      <td>26.33</td>\n",
       "      <td>11.67</td>\n",
       "      <td>1.54</td>\n",
       "      <td>0.00</td>\n",
       "      <td>0.00</td>\n",
       "      <td>0.00</td>\n",
       "    </tr>\n",
       "    <tr>\n",
       "      <th>11</th>\n",
       "      <td>GBA</td>\n",
       "      <td>34.53</td>\n",
       "      <td>5.46</td>\n",
       "      <td>3.40</td>\n",
       "      <td>0.00</td>\n",
       "      <td>0.00</td>\n",
       "      <td>0.00</td>\n",
       "      <td>0.00</td>\n",
       "      <td>0.00</td>\n",
       "      <td>0.00</td>\n",
       "      <td>0.00</td>\n",
       "      <td>0.00</td>\n",
       "      <td>0.00</td>\n",
       "    </tr>\n",
       "    <tr>\n",
       "      <th>12</th>\n",
       "      <td>GC</td>\n",
       "      <td>27.91</td>\n",
       "      <td>11.55</td>\n",
       "      <td>0.27</td>\n",
       "      <td>0.00</td>\n",
       "      <td>0.00</td>\n",
       "      <td>0.00</td>\n",
       "      <td>0.00</td>\n",
       "      <td>0.00</td>\n",
       "      <td>0.00</td>\n",
       "      <td>0.00</td>\n",
       "      <td>0.00</td>\n",
       "      <td>0.00</td>\n",
       "    </tr>\n",
       "    <tr>\n",
       "      <th>13</th>\n",
       "      <td>PS2</td>\n",
       "      <td>161.23</td>\n",
       "      <td>107.03</td>\n",
       "      <td>76.10</td>\n",
       "      <td>53.90</td>\n",
       "      <td>26.40</td>\n",
       "      <td>5.64</td>\n",
       "      <td>0.45</td>\n",
       "      <td>0.00</td>\n",
       "      <td>0.00</td>\n",
       "      <td>0.00</td>\n",
       "      <td>0.00</td>\n",
       "      <td>0.00</td>\n",
       "    </tr>\n",
       "    <tr>\n",
       "      <th>14</th>\n",
       "      <td>PSP</td>\n",
       "      <td>43.84</td>\n",
       "      <td>56.28</td>\n",
       "      <td>47.30</td>\n",
       "      <td>36.76</td>\n",
       "      <td>37.78</td>\n",
       "      <td>35.04</td>\n",
       "      <td>17.82</td>\n",
       "      <td>7.95</td>\n",
       "      <td>3.38</td>\n",
       "      <td>0.24</td>\n",
       "      <td>0.12</td>\n",
       "      <td>0.00</td>\n",
       "    </tr>\n",
       "    <tr>\n",
       "      <th>15</th>\n",
       "      <td>XB</td>\n",
       "      <td>49.24</td>\n",
       "      <td>10.04</td>\n",
       "      <td>0.55</td>\n",
       "      <td>0.18</td>\n",
       "      <td>0.00</td>\n",
       "      <td>0.00</td>\n",
       "      <td>0.00</td>\n",
       "      <td>0.00</td>\n",
       "      <td>0.00</td>\n",
       "      <td>0.00</td>\n",
       "      <td>0.00</td>\n",
       "      <td>0.00</td>\n",
       "    </tr>\n",
       "  </tbody>\n",
       "</table>\n",
       "</div>"
      ],
      "text/plain": [
       "year_of_release platform    2005    2006    2007    2008    2009    2010  \\\n",
       "0                    PS4    0.00    0.00    0.00    0.00    0.00    0.00   \n",
       "1                   XOne    0.00    0.00    0.00    0.00    0.00    0.00   \n",
       "2                    3DS    0.00    0.00    0.00    0.00    0.00    0.30   \n",
       "3                     PC    4.38    2.85    9.28   12.46   17.05   26.15   \n",
       "4                   WiiU    0.00    0.00    0.00    0.00    0.00    0.00   \n",
       "5                    PSV    0.00    0.00    0.00    0.00    0.00    0.00   \n",
       "6                    PS3    0.19   20.96   73.19  118.79  130.93  142.96   \n",
       "7                   X360    9.22   51.79   95.42  136.07  120.82  170.55   \n",
       "8                    Wii    0.00  140.19  153.41  177.68  206.97  128.67   \n",
       "9                     DC    0.00    0.00    0.02    0.04    0.00    0.00   \n",
       "10                    DS  130.14  119.81  147.23  145.36  119.56   85.35   \n",
       "11                   GBA   34.53    5.46    3.40    0.00    0.00    0.00   \n",
       "12                    GC   27.91   11.55    0.27    0.00    0.00    0.00   \n",
       "13                   PS2  161.23  107.03   76.10   53.90   26.40    5.64   \n",
       "14                   PSP   43.84   56.28   47.30   36.76   37.78   35.04   \n",
       "15                    XB   49.24   10.04    0.55    0.18    0.00    0.00   \n",
       "\n",
       "year_of_release    2011    2012    2013    2014    2015   2016  \n",
       "0                  0.00    0.00   25.99  100.00  118.90  69.25  \n",
       "1                  0.00    0.00   18.96   54.07   60.14  26.15  \n",
       "2                 63.20   51.76   56.57   43.76   27.78  15.14  \n",
       "3                 35.16   23.45   13.01   13.28    8.52   5.25  \n",
       "4                  0.00   17.56   21.65   22.03   16.35   4.60  \n",
       "5                  4.63   16.19   10.59   11.90    6.25   4.25  \n",
       "6                157.98  108.28  113.25   47.76   16.82   3.60  \n",
       "7                145.28  100.72   88.58   34.74   11.96   1.52  \n",
       "8                 59.79   22.94    8.59    3.75    1.14   0.18  \n",
       "9                  0.00    0.00    0.00    0.00    0.00   0.00  \n",
       "10                26.33   11.67    1.54    0.00    0.00   0.00  \n",
       "11                 0.00    0.00    0.00    0.00    0.00   0.00  \n",
       "12                 0.00    0.00    0.00    0.00    0.00   0.00  \n",
       "13                 0.45    0.00    0.00    0.00    0.00   0.00  \n",
       "14                17.82    7.95    3.38    0.24    0.12   0.00  \n",
       "15                 0.00    0.00    0.00    0.00    0.00   0.00  "
      ]
     },
     "execution_count": 55,
     "metadata": {},
     "output_type": "execute_result"
    }
   ],
   "source": [
    "df_all_platform.sort_values(by=2016, ascending=False).reset_index()"
   ]
  },
  {
   "cell_type": "markdown",
   "id": "4bcb7ff1",
   "metadata": {},
   "source": [
    "Мы видим что из 20 работающих платформ в последние 12 лет, в 2016 году осталось в работе 9. Возьмем их в работу."
   ]
  },
  {
   "cell_type": "code",
   "execution_count": 56,
   "id": "8abbcca1",
   "metadata": {},
   "outputs": [],
   "source": [
    "df_all_platform = df_all_platform.sort_values(by=2016, ascending=False).head(9)"
   ]
  },
  {
   "cell_type": "markdown",
   "id": "e1aa2a70",
   "metadata": {},
   "source": [
    "Выведим эти 9 рабочих платформ в 2016 году."
   ]
  },
  {
   "cell_type": "code",
   "execution_count": 57,
   "id": "a0fec87e",
   "metadata": {},
   "outputs": [
    {
     "data": {
      "text/html": [
       "<div>\n",
       "<style scoped>\n",
       "    .dataframe tbody tr th:only-of-type {\n",
       "        vertical-align: middle;\n",
       "    }\n",
       "\n",
       "    .dataframe tbody tr th {\n",
       "        vertical-align: top;\n",
       "    }\n",
       "\n",
       "    .dataframe thead th {\n",
       "        text-align: right;\n",
       "    }\n",
       "</style>\n",
       "<table border=\"1\" class=\"dataframe\">\n",
       "  <thead>\n",
       "    <tr style=\"text-align: right;\">\n",
       "      <th>year_of_release</th>\n",
       "      <th>2005</th>\n",
       "      <th>2006</th>\n",
       "      <th>2007</th>\n",
       "      <th>2008</th>\n",
       "      <th>2009</th>\n",
       "      <th>2010</th>\n",
       "      <th>2011</th>\n",
       "      <th>2012</th>\n",
       "      <th>2013</th>\n",
       "      <th>2014</th>\n",
       "      <th>2015</th>\n",
       "      <th>2016</th>\n",
       "    </tr>\n",
       "    <tr>\n",
       "      <th>platform</th>\n",
       "      <th></th>\n",
       "      <th></th>\n",
       "      <th></th>\n",
       "      <th></th>\n",
       "      <th></th>\n",
       "      <th></th>\n",
       "      <th></th>\n",
       "      <th></th>\n",
       "      <th></th>\n",
       "      <th></th>\n",
       "      <th></th>\n",
       "      <th></th>\n",
       "    </tr>\n",
       "  </thead>\n",
       "  <tbody>\n",
       "    <tr>\n",
       "      <th>PS4</th>\n",
       "      <td>0.00</td>\n",
       "      <td>0.00</td>\n",
       "      <td>0.00</td>\n",
       "      <td>0.00</td>\n",
       "      <td>0.00</td>\n",
       "      <td>0.00</td>\n",
       "      <td>0.00</td>\n",
       "      <td>0.00</td>\n",
       "      <td>25.99</td>\n",
       "      <td>100.00</td>\n",
       "      <td>118.90</td>\n",
       "      <td>69.25</td>\n",
       "    </tr>\n",
       "    <tr>\n",
       "      <th>XOne</th>\n",
       "      <td>0.00</td>\n",
       "      <td>0.00</td>\n",
       "      <td>0.00</td>\n",
       "      <td>0.00</td>\n",
       "      <td>0.00</td>\n",
       "      <td>0.00</td>\n",
       "      <td>0.00</td>\n",
       "      <td>0.00</td>\n",
       "      <td>18.96</td>\n",
       "      <td>54.07</td>\n",
       "      <td>60.14</td>\n",
       "      <td>26.15</td>\n",
       "    </tr>\n",
       "    <tr>\n",
       "      <th>3DS</th>\n",
       "      <td>0.00</td>\n",
       "      <td>0.00</td>\n",
       "      <td>0.00</td>\n",
       "      <td>0.00</td>\n",
       "      <td>0.00</td>\n",
       "      <td>0.30</td>\n",
       "      <td>63.20</td>\n",
       "      <td>51.76</td>\n",
       "      <td>56.57</td>\n",
       "      <td>43.76</td>\n",
       "      <td>27.78</td>\n",
       "      <td>15.14</td>\n",
       "    </tr>\n",
       "    <tr>\n",
       "      <th>PC</th>\n",
       "      <td>4.38</td>\n",
       "      <td>2.85</td>\n",
       "      <td>9.28</td>\n",
       "      <td>12.46</td>\n",
       "      <td>17.05</td>\n",
       "      <td>26.15</td>\n",
       "      <td>35.16</td>\n",
       "      <td>23.45</td>\n",
       "      <td>13.01</td>\n",
       "      <td>13.28</td>\n",
       "      <td>8.52</td>\n",
       "      <td>5.25</td>\n",
       "    </tr>\n",
       "    <tr>\n",
       "      <th>WiiU</th>\n",
       "      <td>0.00</td>\n",
       "      <td>0.00</td>\n",
       "      <td>0.00</td>\n",
       "      <td>0.00</td>\n",
       "      <td>0.00</td>\n",
       "      <td>0.00</td>\n",
       "      <td>0.00</td>\n",
       "      <td>17.56</td>\n",
       "      <td>21.65</td>\n",
       "      <td>22.03</td>\n",
       "      <td>16.35</td>\n",
       "      <td>4.60</td>\n",
       "    </tr>\n",
       "    <tr>\n",
       "      <th>PSV</th>\n",
       "      <td>0.00</td>\n",
       "      <td>0.00</td>\n",
       "      <td>0.00</td>\n",
       "      <td>0.00</td>\n",
       "      <td>0.00</td>\n",
       "      <td>0.00</td>\n",
       "      <td>4.63</td>\n",
       "      <td>16.19</td>\n",
       "      <td>10.59</td>\n",
       "      <td>11.90</td>\n",
       "      <td>6.25</td>\n",
       "      <td>4.25</td>\n",
       "    </tr>\n",
       "    <tr>\n",
       "      <th>PS3</th>\n",
       "      <td>0.19</td>\n",
       "      <td>20.96</td>\n",
       "      <td>73.19</td>\n",
       "      <td>118.79</td>\n",
       "      <td>130.93</td>\n",
       "      <td>142.96</td>\n",
       "      <td>157.98</td>\n",
       "      <td>108.28</td>\n",
       "      <td>113.25</td>\n",
       "      <td>47.76</td>\n",
       "      <td>16.82</td>\n",
       "      <td>3.60</td>\n",
       "    </tr>\n",
       "    <tr>\n",
       "      <th>X360</th>\n",
       "      <td>9.22</td>\n",
       "      <td>51.79</td>\n",
       "      <td>95.42</td>\n",
       "      <td>136.07</td>\n",
       "      <td>120.82</td>\n",
       "      <td>170.55</td>\n",
       "      <td>145.28</td>\n",
       "      <td>100.72</td>\n",
       "      <td>88.58</td>\n",
       "      <td>34.74</td>\n",
       "      <td>11.96</td>\n",
       "      <td>1.52</td>\n",
       "    </tr>\n",
       "    <tr>\n",
       "      <th>Wii</th>\n",
       "      <td>0.00</td>\n",
       "      <td>140.19</td>\n",
       "      <td>153.41</td>\n",
       "      <td>177.68</td>\n",
       "      <td>206.97</td>\n",
       "      <td>128.67</td>\n",
       "      <td>59.79</td>\n",
       "      <td>22.94</td>\n",
       "      <td>8.59</td>\n",
       "      <td>3.75</td>\n",
       "      <td>1.14</td>\n",
       "      <td>0.18</td>\n",
       "    </tr>\n",
       "  </tbody>\n",
       "</table>\n",
       "</div>"
      ],
      "text/plain": [
       "year_of_release  2005    2006    2007    2008    2009    2010    2011    2012  \\\n",
       "platform                                                                        \n",
       "PS4              0.00    0.00    0.00    0.00    0.00    0.00    0.00    0.00   \n",
       "XOne             0.00    0.00    0.00    0.00    0.00    0.00    0.00    0.00   \n",
       "3DS              0.00    0.00    0.00    0.00    0.00    0.30   63.20   51.76   \n",
       "PC               4.38    2.85    9.28   12.46   17.05   26.15   35.16   23.45   \n",
       "WiiU             0.00    0.00    0.00    0.00    0.00    0.00    0.00   17.56   \n",
       "PSV              0.00    0.00    0.00    0.00    0.00    0.00    4.63   16.19   \n",
       "PS3              0.19   20.96   73.19  118.79  130.93  142.96  157.98  108.28   \n",
       "X360             9.22   51.79   95.42  136.07  120.82  170.55  145.28  100.72   \n",
       "Wii              0.00  140.19  153.41  177.68  206.97  128.67   59.79   22.94   \n",
       "\n",
       "year_of_release    2013    2014    2015   2016  \n",
       "platform                                        \n",
       "PS4               25.99  100.00  118.90  69.25  \n",
       "XOne              18.96   54.07   60.14  26.15  \n",
       "3DS               56.57   43.76   27.78  15.14  \n",
       "PC                13.01   13.28    8.52   5.25  \n",
       "WiiU              21.65   22.03   16.35   4.60  \n",
       "PSV               10.59   11.90    6.25   4.25  \n",
       "PS3              113.25   47.76   16.82   3.60  \n",
       "X360              88.58   34.74   11.96   1.52  \n",
       "Wii                8.59    3.75    1.14   0.18  "
      ]
     },
     "execution_count": 57,
     "metadata": {},
     "output_type": "execute_result"
    }
   ],
   "source": [
    "df_all_platform"
   ]
  },
  {
   "cell_type": "markdown",
   "id": "d1a182f4",
   "metadata": {},
   "source": [
    "!!! Стоит в дальнейшем отметить, что в начальных условиях было сообщено, что данные за 2016 год могут быть не полными."
   ]
  },
  {
   "cell_type": "markdown",
   "id": "c7d07fde",
   "metadata": {},
   "source": [
    "Выведим график продаж по 9 отобранным платформам по каждому году."
   ]
  },
  {
   "cell_type": "code",
   "execution_count": 58,
   "id": "fe8ac8b7",
   "metadata": {},
   "outputs": [
    {
     "data": {
      "image/png": "[encoded data removed]",
      "text/plain": [
       "<Figure size 1224x720 with 1 Axes>"
      ]
     },
     "metadata": {
      "needs_background": "light"
     },
     "output_type": "display_data"
    }
   ],
   "source": [
    "for index in df_all_platform.index:\n",
    "    df_all_platform.loc[index].plot(x=index, kind='line', figsize=(17,10), grid=True, title='График продаж по каждой платформе по годам', legend=True, ylabel='Объем продаж, млн.копий', xlabel='По годам')"
   ]
  },
  {
   "cell_type": "markdown",
   "id": "cbb524aa",
   "metadata": {},
   "source": [
    "#### Вывод"
   ]
  },
  {
   "cell_type": "markdown",
   "id": "cf41ce4d",
   "metadata": {},
   "source": [
    "Жизненный цикл мы определили в 11,6 (12) лет.\n",
    "\n",
    "Актуальный период для проведения дальнейших исследований, будем учитывать за половину жизненного цикла платформы, за последние 6 лет, исходя из того, что средний жизненный цикл платформ 12 лет, а в основе своей и рост продаж идет первые 6 лет, а далее фиксируется, либо начинает снижатся.\n",
    "\n",
    "Из 31 платформы изначально последний год продажи показали только 9 платформ.\n",
    "\n",
    "Лидерами продаж 2015-2016 года являются платформы `PS4`, `XOne`, `3DS`\n",
    "\n",
    "Если не акцентировать внимание на продажи 2016 (данные за 2016 год не полные) продажи активно растут по платформам `PS4`, `XOne`. По остальным в основе своей идет снижение продаж.\n",
    "\n",
    "По таблице и графику мы видим, что есть следующие потенциально прибыльные платформы - `PS4`, `XOne`, `WiiU` (данные платформы 4-5 лет на рынке и они в текущих лидерах продаж), сюда же можно отнести `3DS`, `PSV` (на рынке 7-8 лет). Остальные платформы, если исходить из среднего срока жизни платформы, продажи уже снизились и очень малы, а также подходит конечный срок жизненного цикла."
   ]
  },
  {
   "cell_type": "markdown",
   "id": "204fac66",
   "metadata": {},
   "source": [
    "### Построение графика по глобальным продажам игр в разбивке по платформам."
   ]
  },
  {
   "cell_type": "markdown",
   "id": "13368236",
   "metadata": {},
   "source": [
    "Для построения графиков выведим списко ТОП-5 активных потенциальных платформ, определенными нами в прошлом разделе и сохраним в переменной `list_platform_top_5`"
   ]
  },
  {
   "cell_type": "code",
   "execution_count": 59,
   "id": "2e1debbb",
   "metadata": {},
   "outputs": [],
   "source": [
    "list_platform_top_5 = ['PS4', 'XOne', '3DS', 'WiiU', 'PSV']"
   ]
  },
  {
   "cell_type": "markdown",
   "id": "6041aad2",
   "metadata": {},
   "source": [
    "Построим график \"ящик с усами\" по потенциальным ТОП-5 платформам"
   ]
  },
  {
   "cell_type": "code",
   "execution_count": 60,
   "id": "c863d672",
   "metadata": {},
   "outputs": [
    {
     "data": {
      "image/png": "[encoded data removed]",
      "text/plain": [
       "<Figure size 1152x648 with 1 Axes>"
      ]
     },
     "metadata": {
      "needs_background": "light"
     },
     "output_type": "display_data"
    }
   ],
   "source": [
    "plt.figure(figsize=(16, 9))\n",
    "ax = sns.boxplot(y=df[df['platform'].isin(list_platform_top_5)]['platform'], x=df[df['platform'].isin(list_platform_top_5)]['total_sales'], linewidth=1, orient='h')\n",
    "ax.xaxis.grid(True)"
   ]
  },
  {
   "cell_type": "markdown",
   "id": "098be36f",
   "metadata": {},
   "source": [
    "Для наглядности также сформируем графики без \"выбросов\":"
   ]
  },
  {
   "cell_type": "code",
   "execution_count": 61,
   "id": "39a2d2b5",
   "metadata": {
    "scrolled": false
   },
   "outputs": [
    {
     "data": {
      "image/png": "[encoded data removed]",
      "text/plain": [
       "<Figure size 1152x648 with 1 Axes>"
      ]
     },
     "metadata": {
      "needs_background": "light"
     },
     "output_type": "display_data"
    }
   ],
   "source": [
    "plt.figure(figsize=(16, 9))\n",
    "ax = sns.boxplot(y=df[df['platform'].isin(list_platform_top_5)]['platform'], x=df[df['platform'].isin(list_platform_top_5)]['total_sales'], linewidth=1, orient='h', showfliers=False)\n",
    "ax.xaxis.grid(True)"
   ]
  },
  {
   "cell_type": "markdown",
   "id": "d74aa789",
   "metadata": {},
   "source": [
    "##### Вывод"
   ]
  },
  {
   "cell_type": "markdown",
   "id": "bbff69ef",
   "metadata": {},
   "source": [
    "Сформируем автоматические выводы по данному исследованию."
   ]
  },
  {
   "cell_type": "code",
   "execution_count": 62,
   "id": "c7fd1bea",
   "metadata": {},
   "outputs": [
    {
     "name": "stdout",
     "output_type": "stream",
     "text": [
      "ВЫВОД:\n",
      "\n",
      "Платформа - PS4\n",
      "Количество игр в платформе - 392 шт.\n",
      "Общий объем продаж по платформе составляет 314.14 млн. копий\n",
      "Основной объем продаж на платформе PS4 приходится на игры с продажами от 0.01 до 1.74 млн.копий на каждую игру\n",
      "Максимальные продажи по играм достигают 14.63 млн.копий на игру\n",
      "\n",
      "Платформа - XOne\n",
      "Количество игр в платформе - 247 шт.\n",
      "Общий объем продаж по платформе составляет 159.32 млн. копий\n",
      "Основной объем продаж на платформе XOne приходится на игры с продажами от 0.01 до 1.62 млн.копий на каждую игру\n",
      "Максимальные продажи по играм достигают 7.39 млн.копий на игру\n",
      "\n",
      "Платформа - 3DS\n",
      "Количество игр в платформе - 515 шт.\n",
      "Общий объем продаж по платформе составляет 258.53 млн. копий\n",
      "Основной объем продаж на платформе 3DS приходится на игры с продажами от 0.01 до 0.76 млн.копий на каждую игру\n",
      "Максимальные продажи по играм достигают 14.6 млн.копий на игру\n",
      "\n",
      "Платформа - WiiU\n",
      "Количество игр в платформе - 147 шт.\n",
      "Общий объем продаж по платформе составляет 82.19 млн. копий\n",
      "Основной объем продаж на платформе WiiU приходится на игры с продажами от 0.01 до 1.19 млн.копий на каждую игру\n",
      "Максимальные продажи по играм достигают 7.09 млн.копий на игру\n",
      "\n",
      "Платформа - PSV\n",
      "Количество игр в платформе - 429 шт.\n",
      "Общий объем продаж по платформе составляет 53.81 млн. копий\n",
      "Основной объем продаж на платформе PSV приходится на игры с продажами от 0.01 до 0.3 млн.копий на каждую игру\n",
      "Максимальные продажи по играм достигают 1.96 млн.копий на игру\n",
      "\n"
     ]
    }
   ],
   "source": [
    "print('ВЫВОД:')\n",
    "print()\n",
    "for plat in list_platform_top_5:\n",
    "    Q1 = df[df['platform'] == plat]['total_sales'].quantile(q=0.25)\n",
    "    Q3 = df[df['platform'] == plat]['total_sales'].quantile(q=0.75)\n",
    "    IQR = Q3 - Q1\n",
    "    minim = df[df['platform'] == plat]['total_sales'].min()\n",
    "    maxim = df[df['platform'] == plat]['total_sales'].max()\n",
    "    print(f'Платформа - {plat}')\n",
    "    print(f\"Количество игр в платформе - {df[df['platform'] == plat]['total_sales'].count()} шт.\")\n",
    "    print(f\"Общий объем продаж по платформе составляет {round(df[df['platform'] == plat]['total_sales'].sum(), 2)} млн. копий\")\n",
    "    print(f\"Основной объем продаж на платформе {plat} приходится на игры с продажами от {minim} до {round(Q1+2.5*IQR, 2)} млн.копий на каждую игру\")\n",
    "    print(f\"Максимальные продажи по играм достигают {round(maxim, 2)} млн.копий на игру\")\n",
    "    print()"
   ]
  },
  {
   "cell_type": "markdown",
   "id": "2ad380e4",
   "metadata": {},
   "source": [
    "Стоит отдельно отметить, что на платформах **PS4** и **3DS** достаточно много бестселерров достигающих в продажах до 14,6 млн.копий на каждую игру. На других платформаха также есть бестселлеры, однако не стакими большими продажами."
   ]
  },
  {
   "cell_type": "markdown",
   "id": "cd6fd6d3",
   "metadata": {},
   "source": [
    "### Влияние отзывов на продажи внутри одной платформы"
   ]
  },
  {
   "cell_type": "markdown",
   "id": "3581bcd1",
   "metadata": {},
   "source": [
    "Для определения зависимостей выделим отдельный датафрейм с продажами по платформе `PS2`, т.к. она самая крупная по продажам по всей предоставленной базе. Исходя из результатов исследования сделаем выводы и сраним с рядом платформ из нашего потенциального списка платформ."
   ]
  },
  {
   "cell_type": "markdown",
   "id": "a79f469a",
   "metadata": {},
   "source": [
    "Создадим отдельный датафрейм `df_ps2` где выделим все данные по платформе `PS2`"
   ]
  },
  {
   "cell_type": "code",
   "execution_count": 63,
   "id": "ecd00aaa",
   "metadata": {},
   "outputs": [],
   "source": [
    "df_ps2 = df[df['platform'] == 'PS2']"
   ]
  },
  {
   "cell_type": "markdown",
   "id": "27391840",
   "metadata": {},
   "source": [
    "Сформируем уровень корреляции продаж от оценки критиков"
   ]
  },
  {
   "cell_type": "code",
   "execution_count": 64,
   "id": "378e1e8c",
   "metadata": {
    "scrolled": true
   },
   "outputs": [
    {
     "data": {
      "text/plain": [
       "0.3881165134192637"
      ]
     },
     "execution_count": 64,
     "metadata": {},
     "output_type": "execute_result"
    }
   ],
   "source": [
    "df_ps2['critic_score'].corr(df_ps2['total_sales'])"
   ]
  },
  {
   "cell_type": "markdown",
   "id": "b277fb99",
   "metadata": {},
   "source": [
    "Построим диаграмму рассеивания по зависимости продаж от оценок критиков"
   ]
  },
  {
   "cell_type": "code",
   "execution_count": 65,
   "id": "cb5abde5",
   "metadata": {},
   "outputs": [
    {
     "data": {
      "image/png": "[encoded data removed]",
      "text/plain": [
       "<Figure size 432x288 with 1 Axes>"
      ]
     },
     "metadata": {
      "needs_background": "light"
     },
     "output_type": "display_data"
    }
   ],
   "source": [
    "sns.scatterplot(data=df_ps2, x='critic_score', y='total_sales');"
   ]
  },
  {
   "cell_type": "markdown",
   "id": "277108b7",
   "metadata": {},
   "source": [
    "И тоже самое проведем с оценками пользователей"
   ]
  },
  {
   "cell_type": "code",
   "execution_count": 66,
   "id": "32c949b3",
   "metadata": {},
   "outputs": [
    {
     "data": {
      "text/plain": [
       "0.17958976811135646"
      ]
     },
     "execution_count": 66,
     "metadata": {},
     "output_type": "execute_result"
    }
   ],
   "source": [
    "df_ps2['user_score'].corr(df_ps2['total_sales'])"
   ]
  },
  {
   "cell_type": "code",
   "execution_count": 67,
   "id": "a667fed9",
   "metadata": {},
   "outputs": [
    {
     "data": {
      "image/png": "[encoded data removed]",
      "text/plain": [
       "<Figure size 432x288 with 1 Axes>"
      ]
     },
     "metadata": {
      "needs_background": "light"
     },
     "output_type": "display_data"
    }
   ],
   "source": [
    "sns.scatterplot(data=df_ps2, x='user_score', y='total_sales');"
   ]
  },
  {
   "cell_type": "markdown",
   "id": "87dddceb",
   "metadata": {},
   "source": [
    "##### Вывод"
   ]
  },
  {
   "cell_type": "markdown",
   "id": "be693331",
   "metadata": {},
   "source": [
    "Мы видим, что наблюдается корреляция роста продаж от оценок, чем выше оценки тем больше наблюдается игр с более высокими продажами."
   ]
  },
  {
   "cell_type": "markdown",
   "id": "177a860b",
   "metadata": {},
   "source": [
    "#### Сравнение выводов по зависимостям от оценок в других платформах"
   ]
  },
  {
   "cell_type": "markdown",
   "id": "b929776a",
   "metadata": {},
   "source": [
    "Напишем функцию `corr_scarlett_platform` с помощью которой будем выводить данные корреляции и диаграмму рассеивания по указанным платформам"
   ]
  },
  {
   "cell_type": "code",
   "execution_count": 68,
   "id": "a9563f4c",
   "metadata": {},
   "outputs": [],
   "source": [
    "def corr_scarlett_platform(platform):\n",
    "    \"\"\"функция с помощью которой выводятся данные корреляции и диаграмма рассеивания по указанным платформам\"\"\"\n",
    "    \n",
    "    print(f'Платформа `{platform}`:')\n",
    "    print()\n",
    "    print(f\"Коэффициент корреляции по оценкам критиков - {df[df['platform'] == platform]['critic_score'].corr(df[df['platform'] == platform]['total_sales'])}\")\n",
    "    fig, ax = plt.subplots(1,2, figsize=(16,6))\n",
    "    sns.scatterplot(data=df[df['platform'] == platform], x='critic_score', y='total_sales', ax=ax[0], sizes=(10,7));\n",
    "    print()\n",
    "    print(f\"Коэффициент корреляции по оценкам критиков - {df[df['platform'] == platform]['user_score'].corr(df[df['platform'] == platform]['total_sales'])}\")\n",
    "    print()\n",
    "    print(f'Диаграмма рассеивания зависимости продаж от оценок критиков и пользователей по платформе {platform}:')\n",
    "    sns.scatterplot(data=df[df['platform'] == platform], x='user_score', y='total_sales', ax=ax[1], sizes=(10,7));"
   ]
  },
  {
   "cell_type": "code",
   "execution_count": 69,
   "id": "10c3fbf3",
   "metadata": {},
   "outputs": [
    {
     "name": "stdout",
     "output_type": "stream",
     "text": [
      "Платформа `PS4`:\n",
      "\n",
      "Коэффициент корреляции по оценкам критиков - 0.39156389989025087\n",
      "\n",
      "Коэффициент корреляции по оценкам критиков - -0.021589095835980128\n",
      "\n",
      "Диаграмма рассеивания зависимости продаж от оценок критиков и пользователей по платформе PS4:\n"
     ]
    },
    {
     "data": {
      "image/png": "[encoded data removed]",
      "text/plain": [
       "<Figure size 1152x432 with 2 Axes>"
      ]
     },
     "metadata": {
      "needs_background": "light"
     },
     "output_type": "display_data"
    }
   ],
   "source": [
    "corr_scarlett_platform('PS4')"
   ]
  },
  {
   "cell_type": "code",
   "execution_count": 70,
   "id": "0afc46f8",
   "metadata": {},
   "outputs": [
    {
     "name": "stdout",
     "output_type": "stream",
     "text": [
      "Платформа `3DS`:\n",
      "\n",
      "Коэффициент корреляции по оценкам критиков - 0.32124553012451074\n",
      "\n",
      "Коэффициент корреляции по оценкам критиков - 0.23159430770311842\n",
      "\n",
      "Диаграмма рассеивания зависимости продаж от оценок критиков и пользователей по платформе 3DS:\n"
     ]
    },
    {
     "data": {
      "image/png": "[encoded data removed]",
      "text/plain": [
       "<Figure size 1152x432 with 2 Axes>"
      ]
     },
     "metadata": {
      "needs_background": "light"
     },
     "output_type": "display_data"
    }
   ],
   "source": [
    "corr_scarlett_platform('3DS')"
   ]
  },
  {
   "cell_type": "code",
   "execution_count": 71,
   "id": "670dccb1",
   "metadata": {
    "scrolled": false
   },
   "outputs": [
    {
     "name": "stdout",
     "output_type": "stream",
     "text": [
      "Платформа `XOne`:\n",
      "\n",
      "Коэффициент корреляции по оценкам критиков - 0.37399528973041635\n",
      "\n",
      "Коэффициент корреляции по оценкам критиков - -0.0941602623387162\n",
      "\n",
      "Диаграмма рассеивания зависимости продаж от оценок критиков и пользователей по платформе XOne:\n"
     ]
    },
    {
     "data": {
      "image/png": "[encoded data removed]",
      "text/plain": [
       "<Figure size 1152x432 with 2 Axes>"
      ]
     },
     "metadata": {
      "needs_background": "light"
     },
     "output_type": "display_data"
    }
   ],
   "source": [
    "corr_scarlett_platform('XOne')"
   ]
  },
  {
   "cell_type": "markdown",
   "id": "29edf62d",
   "metadata": {},
   "source": [
    "##### Вывод"
   ]
  },
  {
   "cell_type": "markdown",
   "id": "986b2fa6",
   "metadata": {},
   "source": [
    "По всем сформированным корреляциям, мы видим похожую картину, по оценкам критиков более высокая корреляция, продажи кучнее на высоких оценках и видно много игр с большими продажами, по оценкам пользователей меньшая корреляция, незначитальная, однако по диаграмме мы ее наблюдаем."
   ]
  },
  {
   "cell_type": "markdown",
   "id": "1f3ea900",
   "metadata": {},
   "source": [
    "### Распределение игр по жанрам"
   ]
  },
  {
   "cell_type": "markdown",
   "id": "700be2f0",
   "metadata": {},
   "source": [
    "Создадим датафрейм `df_genre` в котором сформируем данные по продажам игр по жанрам. Сначала сохраним количество игра по жанрам."
   ]
  },
  {
   "cell_type": "code",
   "execution_count": 72,
   "id": "943de3fb",
   "metadata": {},
   "outputs": [],
   "source": [
    "df_genre = df.groupby('genre')['name'].count().reset_index()"
   ]
  },
  {
   "cell_type": "markdown",
   "id": "0cb91608",
   "metadata": {},
   "source": [
    "Добавим к датафрейму `df_genre` данные по общим продажам по каждому жанру:"
   ]
  },
  {
   "cell_type": "code",
   "execution_count": 73,
   "id": "5fdfedce",
   "metadata": {},
   "outputs": [],
   "source": [
    "df_genre = df_genre.merge(df.groupby('genre')['total_sales'].sum().reset_index())"
   ]
  },
  {
   "cell_type": "code",
   "execution_count": 74,
   "id": "16defc2c",
   "metadata": {},
   "outputs": [],
   "source": [
    "df_genre = df_genre.rename(columns = {'name': 'count_game'}) #заменим название колонки на соответсвующее ей количество игр count_game"
   ]
  },
  {
   "cell_type": "markdown",
   "id": "1081d074",
   "metadata": {},
   "source": [
    "Выведим полученный результат"
   ]
  },
  {
   "cell_type": "code",
   "execution_count": 75,
   "id": "fcb430a4",
   "metadata": {
    "scrolled": false
   },
   "outputs": [
    {
     "data": {
      "text/html": [
       "<div>\n",
       "<style scoped>\n",
       "    .dataframe tbody tr th:only-of-type {\n",
       "        vertical-align: middle;\n",
       "    }\n",
       "\n",
       "    .dataframe tbody tr th {\n",
       "        vertical-align: top;\n",
       "    }\n",
       "\n",
       "    .dataframe thead th {\n",
       "        text-align: right;\n",
       "    }\n",
       "</style>\n",
       "<table border=\"1\" class=\"dataframe\">\n",
       "  <thead>\n",
       "    <tr style=\"text-align: right;\">\n",
       "      <th></th>\n",
       "      <th>genre</th>\n",
       "      <th>count_game</th>\n",
       "      <th>total_sales</th>\n",
       "    </tr>\n",
       "  </thead>\n",
       "  <tbody>\n",
       "    <tr>\n",
       "      <th>0</th>\n",
       "      <td>Action</td>\n",
       "      <td>3342</td>\n",
       "      <td>1735.63</td>\n",
       "    </tr>\n",
       "    <tr>\n",
       "      <th>1</th>\n",
       "      <td>Adventure</td>\n",
       "      <td>1294</td>\n",
       "      <td>233.35</td>\n",
       "    </tr>\n",
       "    <tr>\n",
       "      <th>2</th>\n",
       "      <td>Fighting</td>\n",
       "      <td>843</td>\n",
       "      <td>446.59</td>\n",
       "    </tr>\n",
       "    <tr>\n",
       "      <th>3</th>\n",
       "      <td>Misc</td>\n",
       "      <td>1735</td>\n",
       "      <td>794.41</td>\n",
       "    </tr>\n",
       "    <tr>\n",
       "      <th>4</th>\n",
       "      <td>Platform</td>\n",
       "      <td>879</td>\n",
       "      <td>826.03</td>\n",
       "    </tr>\n",
       "    <tr>\n",
       "      <th>5</th>\n",
       "      <td>Puzzle</td>\n",
       "      <td>573</td>\n",
       "      <td>240.54</td>\n",
       "    </tr>\n",
       "    <tr>\n",
       "      <th>6</th>\n",
       "      <td>Racing</td>\n",
       "      <td>1238</td>\n",
       "      <td>725.91</td>\n",
       "    </tr>\n",
       "    <tr>\n",
       "      <th>7</th>\n",
       "      <td>Role-Playing</td>\n",
       "      <td>1484</td>\n",
       "      <td>931.77</td>\n",
       "    </tr>\n",
       "    <tr>\n",
       "      <th>8</th>\n",
       "      <td>Shooter</td>\n",
       "      <td>1311</td>\n",
       "      <td>1050.02</td>\n",
       "    </tr>\n",
       "    <tr>\n",
       "      <th>9</th>\n",
       "      <td>Simulation</td>\n",
       "      <td>860</td>\n",
       "      <td>388.46</td>\n",
       "    </tr>\n",
       "    <tr>\n",
       "      <th>10</th>\n",
       "      <td>Sports</td>\n",
       "      <td>2337</td>\n",
       "      <td>1327.59</td>\n",
       "    </tr>\n",
       "    <tr>\n",
       "      <th>11</th>\n",
       "      <td>Strategy</td>\n",
       "      <td>678</td>\n",
       "      <td>173.25</td>\n",
       "    </tr>\n",
       "  </tbody>\n",
       "</table>\n",
       "</div>"
      ],
      "text/plain": [
       "           genre  count_game  total_sales\n",
       "0         Action        3342      1735.63\n",
       "1      Adventure        1294       233.35\n",
       "2       Fighting         843       446.59\n",
       "3           Misc        1735       794.41\n",
       "4       Platform         879       826.03\n",
       "5         Puzzle         573       240.54\n",
       "6         Racing        1238       725.91\n",
       "7   Role-Playing        1484       931.77\n",
       "8        Shooter        1311      1050.02\n",
       "9     Simulation         860       388.46\n",
       "10        Sports        2337      1327.59\n",
       "11      Strategy         678       173.25"
      ]
     },
     "execution_count": 75,
     "metadata": {},
     "output_type": "execute_result"
    }
   ],
   "source": [
    "df_genre"
   ]
  },
  {
   "cell_type": "code",
   "execution_count": 76,
   "id": "251a6a0c",
   "metadata": {
    "scrolled": false
   },
   "outputs": [
    {
     "data": {
      "text/html": [
       "<div>\n",
       "<style scoped>\n",
       "    .dataframe tbody tr th:only-of-type {\n",
       "        vertical-align: middle;\n",
       "    }\n",
       "\n",
       "    .dataframe tbody tr th {\n",
       "        vertical-align: top;\n",
       "    }\n",
       "\n",
       "    .dataframe thead th {\n",
       "        text-align: right;\n",
       "    }\n",
       "</style>\n",
       "<table border=\"1\" class=\"dataframe\">\n",
       "  <thead>\n",
       "    <tr style=\"text-align: right;\">\n",
       "      <th></th>\n",
       "      <th>name</th>\n",
       "      <th>total_sales</th>\n",
       "    </tr>\n",
       "    <tr>\n",
       "      <th>genre</th>\n",
       "      <th></th>\n",
       "      <th></th>\n",
       "    </tr>\n",
       "  </thead>\n",
       "  <tbody>\n",
       "    <tr>\n",
       "      <th>Action</th>\n",
       "      <td>3342</td>\n",
       "      <td>1735.63</td>\n",
       "    </tr>\n",
       "    <tr>\n",
       "      <th>Adventure</th>\n",
       "      <td>1294</td>\n",
       "      <td>233.35</td>\n",
       "    </tr>\n",
       "    <tr>\n",
       "      <th>Fighting</th>\n",
       "      <td>843</td>\n",
       "      <td>446.59</td>\n",
       "    </tr>\n",
       "    <tr>\n",
       "      <th>Misc</th>\n",
       "      <td>1735</td>\n",
       "      <td>794.41</td>\n",
       "    </tr>\n",
       "    <tr>\n",
       "      <th>Platform</th>\n",
       "      <td>879</td>\n",
       "      <td>826.03</td>\n",
       "    </tr>\n",
       "    <tr>\n",
       "      <th>Puzzle</th>\n",
       "      <td>573</td>\n",
       "      <td>240.54</td>\n",
       "    </tr>\n",
       "    <tr>\n",
       "      <th>Racing</th>\n",
       "      <td>1238</td>\n",
       "      <td>725.91</td>\n",
       "    </tr>\n",
       "    <tr>\n",
       "      <th>Role-Playing</th>\n",
       "      <td>1484</td>\n",
       "      <td>931.77</td>\n",
       "    </tr>\n",
       "    <tr>\n",
       "      <th>Shooter</th>\n",
       "      <td>1311</td>\n",
       "      <td>1050.02</td>\n",
       "    </tr>\n",
       "    <tr>\n",
       "      <th>Simulation</th>\n",
       "      <td>860</td>\n",
       "      <td>388.46</td>\n",
       "    </tr>\n",
       "    <tr>\n",
       "      <th>Sports</th>\n",
       "      <td>2337</td>\n",
       "      <td>1327.59</td>\n",
       "    </tr>\n",
       "    <tr>\n",
       "      <th>Strategy</th>\n",
       "      <td>678</td>\n",
       "      <td>173.25</td>\n",
       "    </tr>\n",
       "  </tbody>\n",
       "</table>\n",
       "</div>"
      ],
      "text/plain": [
       "              name  total_sales\n",
       "genre                          \n",
       "Action        3342      1735.63\n",
       "Adventure     1294       233.35\n",
       "Fighting       843       446.59\n",
       "Misc          1735       794.41\n",
       "Platform       879       826.03\n",
       "Puzzle         573       240.54\n",
       "Racing        1238       725.91\n",
       "Role-Playing  1484       931.77\n",
       "Shooter       1311      1050.02\n",
       "Simulation     860       388.46\n",
       "Sports        2337      1327.59\n",
       "Strategy       678       173.25"
      ]
     },
     "execution_count": 76,
     "metadata": {},
     "output_type": "execute_result"
    }
   ],
   "source": [
    "#Код ревьюера\n",
    "df.groupby('genre').agg({'name' : 'count', 'total_sales' : 'sum'})"
   ]
  },
  {
   "cell_type": "code",
   "execution_count": 77,
   "id": "bed1121e",
   "metadata": {},
   "outputs": [],
   "source": [
    "def genre_line(column, title, ylabel):\n",
    "    ax = df_genre.plot(x='genre', y=column, grid=True, figsize=(16, 8), legend=True);\n",
    "    ax.set_title(title);\n",
    "    ax.set_xlabel('Жанр');\n",
    "    ax.set_ylabel(ylabel);"
   ]
  },
  {
   "cell_type": "markdown",
   "id": "ae7e3af1",
   "metadata": {},
   "source": [
    "Выведим количество игр по жанрам:"
   ]
  },
  {
   "cell_type": "code",
   "execution_count": 78,
   "id": "41c408c4",
   "metadata": {},
   "outputs": [
    {
     "data": {
      "image/png": "[encoded data removed]",
      "text/plain": [
       "<Figure size 1152x576 with 1 Axes>"
      ]
     },
     "metadata": {
      "needs_background": "light"
     },
     "output_type": "display_data"
    }
   ],
   "source": [
    "genre_line('count_game', 'Количество игр по жанрам', 'Количество игр по жанру, шт.')"
   ]
  },
  {
   "cell_type": "markdown",
   "id": "6aeda013",
   "metadata": {},
   "source": [
    "Выведим на графике общие продажи по жанрам:"
   ]
  },
  {
   "cell_type": "code",
   "execution_count": 79,
   "id": "cff3068b",
   "metadata": {},
   "outputs": [
    {
     "data": {
      "image/png": "[encoded data removed]",
      "text/plain": [
       "<Figure size 1152x576 with 1 Axes>"
      ]
     },
     "metadata": {
      "needs_background": "light"
     },
     "output_type": "display_data"
    }
   ],
   "source": [
    "genre_line('total_sales', 'Общие продажи по жанрам', 'Продажи игр по жанру, млн. копий')"
   ]
  },
  {
   "cell_type": "markdown",
   "id": "cbd892cb",
   "metadata": {},
   "source": [
    "Вычислим среднее количество проданных копий на одну игру по каждой платформе и сохраним данные в колонке `number_sale_game_genre`"
   ]
  },
  {
   "cell_type": "code",
   "execution_count": 80,
   "id": "a8ae7d3b",
   "metadata": {},
   "outputs": [],
   "source": [
    "df_genre['number_sale_game_genre'] = df_genre['total_sales'] / df_genre['count_game']"
   ]
  },
  {
   "cell_type": "markdown",
   "id": "4aa00bf6",
   "metadata": {},
   "source": [
    "Выведим полученный результат изначально отсортировав по колонке `number_sale_game_genre`"
   ]
  },
  {
   "cell_type": "code",
   "execution_count": 81,
   "id": "13167bf8",
   "metadata": {},
   "outputs": [
    {
     "data": {
      "text/html": [
       "<div>\n",
       "<style scoped>\n",
       "    .dataframe tbody tr th:only-of-type {\n",
       "        vertical-align: middle;\n",
       "    }\n",
       "\n",
       "    .dataframe tbody tr th {\n",
       "        vertical-align: top;\n",
       "    }\n",
       "\n",
       "    .dataframe thead th {\n",
       "        text-align: right;\n",
       "    }\n",
       "</style>\n",
       "<table border=\"1\" class=\"dataframe\">\n",
       "  <thead>\n",
       "    <tr style=\"text-align: right;\">\n",
       "      <th></th>\n",
       "      <th>genre</th>\n",
       "      <th>count_game</th>\n",
       "      <th>total_sales</th>\n",
       "      <th>number_sale_game_genre</th>\n",
       "    </tr>\n",
       "  </thead>\n",
       "  <tbody>\n",
       "    <tr>\n",
       "      <th>4</th>\n",
       "      <td>Platform</td>\n",
       "      <td>879</td>\n",
       "      <td>826.03</td>\n",
       "      <td>0.939738</td>\n",
       "    </tr>\n",
       "    <tr>\n",
       "      <th>8</th>\n",
       "      <td>Shooter</td>\n",
       "      <td>1311</td>\n",
       "      <td>1050.02</td>\n",
       "      <td>0.800931</td>\n",
       "    </tr>\n",
       "    <tr>\n",
       "      <th>7</th>\n",
       "      <td>Role-Playing</td>\n",
       "      <td>1484</td>\n",
       "      <td>931.77</td>\n",
       "      <td>0.627877</td>\n",
       "    </tr>\n",
       "    <tr>\n",
       "      <th>6</th>\n",
       "      <td>Racing</td>\n",
       "      <td>1238</td>\n",
       "      <td>725.91</td>\n",
       "      <td>0.586357</td>\n",
       "    </tr>\n",
       "    <tr>\n",
       "      <th>10</th>\n",
       "      <td>Sports</td>\n",
       "      <td>2337</td>\n",
       "      <td>1327.59</td>\n",
       "      <td>0.568074</td>\n",
       "    </tr>\n",
       "    <tr>\n",
       "      <th>2</th>\n",
       "      <td>Fighting</td>\n",
       "      <td>843</td>\n",
       "      <td>446.59</td>\n",
       "      <td>0.529763</td>\n",
       "    </tr>\n",
       "    <tr>\n",
       "      <th>0</th>\n",
       "      <td>Action</td>\n",
       "      <td>3342</td>\n",
       "      <td>1735.63</td>\n",
       "      <td>0.519339</td>\n",
       "    </tr>\n",
       "    <tr>\n",
       "      <th>3</th>\n",
       "      <td>Misc</td>\n",
       "      <td>1735</td>\n",
       "      <td>794.41</td>\n",
       "      <td>0.457873</td>\n",
       "    </tr>\n",
       "    <tr>\n",
       "      <th>9</th>\n",
       "      <td>Simulation</td>\n",
       "      <td>860</td>\n",
       "      <td>388.46</td>\n",
       "      <td>0.451698</td>\n",
       "    </tr>\n",
       "    <tr>\n",
       "      <th>5</th>\n",
       "      <td>Puzzle</td>\n",
       "      <td>573</td>\n",
       "      <td>240.54</td>\n",
       "      <td>0.419791</td>\n",
       "    </tr>\n",
       "    <tr>\n",
       "      <th>11</th>\n",
       "      <td>Strategy</td>\n",
       "      <td>678</td>\n",
       "      <td>173.25</td>\n",
       "      <td>0.255531</td>\n",
       "    </tr>\n",
       "    <tr>\n",
       "      <th>1</th>\n",
       "      <td>Adventure</td>\n",
       "      <td>1294</td>\n",
       "      <td>233.35</td>\n",
       "      <td>0.180332</td>\n",
       "    </tr>\n",
       "  </tbody>\n",
       "</table>\n",
       "</div>"
      ],
      "text/plain": [
       "           genre  count_game  total_sales  number_sale_game_genre\n",
       "4       Platform         879       826.03                0.939738\n",
       "8        Shooter        1311      1050.02                0.800931\n",
       "7   Role-Playing        1484       931.77                0.627877\n",
       "6         Racing        1238       725.91                0.586357\n",
       "10        Sports        2337      1327.59                0.568074\n",
       "2       Fighting         843       446.59                0.529763\n",
       "0         Action        3342      1735.63                0.519339\n",
       "3           Misc        1735       794.41                0.457873\n",
       "9     Simulation         860       388.46                0.451698\n",
       "5         Puzzle         573       240.54                0.419791\n",
       "11      Strategy         678       173.25                0.255531\n",
       "1      Adventure        1294       233.35                0.180332"
      ]
     },
     "execution_count": 81,
     "metadata": {},
     "output_type": "execute_result"
    }
   ],
   "source": [
    "df_genre.sort_values('number_sale_game_genre', ascending=False)"
   ]
  },
  {
   "cell_type": "markdown",
   "id": "1e7533b7",
   "metadata": {},
   "source": [
    "Выведим на графике средние продажи на одну игру в платформах, продуктивность платформ:"
   ]
  },
  {
   "cell_type": "code",
   "execution_count": 82,
   "id": "44ead0e3",
   "metadata": {},
   "outputs": [
    {
     "data": {
      "image/png": "[encoded data removed]",
      "text/plain": [
       "<Figure size 1152x576 with 1 Axes>"
      ]
     },
     "metadata": {
      "needs_background": "light"
     },
     "output_type": "display_data"
    }
   ],
   "source": [
    "genre_line('number_sale_game_genre', 'Средние продажи на одну игру по жанрам', 'Продажи копий в среднем на игру, млн. копий')"
   ]
  },
  {
   "cell_type": "markdown",
   "id": "2fa63f8e",
   "metadata": {},
   "source": [
    "##### Вывод"
   ]
  },
  {
   "cell_type": "markdown",
   "id": "7451efe8",
   "metadata": {},
   "source": [
    "По текущему исследованию мы можем выделить следующие результаты:\n",
    "\n",
    "По количеству продаж ТОП-3 жанров:\n",
    "\n",
    "**Action** с 1744.17 млн.копий\n",
    "\n",
    "**Sports** с 1331.27 млн.копий\n",
    "\n",
    "**Shooter** с 1052.45 млн.копий\n",
    "\n",
    "Худшие результаты по количеству продаж показали жанры - **Strategy**, **Adventure**, **Puzzle**\n",
    "\n",
    "\n",
    "ТОП-3 жанров по количеству игр:\n",
    "\n",
    "**Action** - 3369 игр\n",
    "\n",
    "**Sports** - 2348 игр\n",
    "\n",
    "**Misc** - 1750 игр\n",
    "\n",
    "Худшие результаты по количеству игр показали жанры - **Puzzle**, **Strategy**, **Fighting**\n",
    "\n",
    "ТОП-3 жанров по продуктивности (проданных копий на 1 игру):\n",
    "\n",
    "**Platform** - 0.932173  млн.копий\n",
    "\n",
    "**Shooter** - 0.795503 млн.копий\n",
    "\n",
    "**Role-Playing** - 0.623872 млн.копий\n",
    "\n",
    "Худшие результаты по продуктивности показали жанры - **Puzzle**, **Strategy**, **Adventure**"
   ]
  },
  {
   "cell_type": "code",
   "execution_count": 83,
   "id": "78c0f946",
   "metadata": {},
   "outputs": [
    {
     "data": {
      "image/png": "[encoded data removed]",
      "text/plain": [
       "<Figure size 432x288 with 1 Axes>"
      ]
     },
     "metadata": {
      "needs_background": "light"
     },
     "output_type": "display_data"
    }
   ],
   "source": [
    "#Код ревьюера\n",
    "df['year_of_release'].hist()\n",
    "plt.show()"
   ]
  },
  {
   "cell_type": "markdown",
   "id": "d27187d5",
   "metadata": {},
   "source": [
    "## Портрет пользователя"
   ]
  },
  {
   "cell_type": "markdown",
   "id": "330d496a",
   "metadata": {},
   "source": [
    "Сформируем в словаре обозначения регионов:"
   ]
  },
  {
   "cell_type": "code",
   "execution_count": 84,
   "id": "73b1c551",
   "metadata": {},
   "outputs": [],
   "source": [
    "regions = {'na_sales': 'Северная Америка', 'eu_sales': 'Европа', 'jp_sales': 'Япония', 'other_sales': 'Другие страны'}"
   ]
  },
  {
   "cell_type": "markdown",
   "id": "2e7059bb",
   "metadata": {},
   "source": [
    "### Самые популярные платформы"
   ]
  },
  {
   "cell_type": "markdown",
   "id": "60ec7bb5",
   "metadata": {},
   "source": [
    "Выведим все платформы с количеством игр в каждой и отсортируем по убыванию."
   ]
  },
  {
   "cell_type": "code",
   "execution_count": 85,
   "id": "2961e1ca",
   "metadata": {
    "scrolled": false
   },
   "outputs": [
    {
     "data": {
      "text/plain": [
       "platform\n",
       "PS2     2144\n",
       "DS      2129\n",
       "PS3     1320\n",
       "Wii     1301\n",
       "X360    1252\n",
       "PSP     1203\n",
       "PS      1190\n",
       "PC       970\n",
       "XB       818\n",
       "GBA      813\n",
       "GC       552\n",
       "3DS      515\n",
       "PSV      429\n",
       "PS4      392\n",
       "N64      318\n",
       "XOne     247\n",
       "SNES     239\n",
       "SAT      173\n",
       "WiiU     147\n",
       "2600     117\n",
       "NES       98\n",
       "GB        97\n",
       "DC        52\n",
       "GEN       27\n",
       "NG        12\n",
       "SCD        6\n",
       "WS         6\n",
       "3DO        3\n",
       "TG16       2\n",
       "PCFX       1\n",
       "GG         1\n",
       "Name: platform, dtype: int64"
      ]
     },
     "execution_count": 85,
     "metadata": {},
     "output_type": "execute_result"
    }
   ],
   "source": [
    "df.groupby('platform')['platform'].count().sort_values(ascending=False)"
   ]
  },
  {
   "cell_type": "markdown",
   "id": "4fce7cda",
   "metadata": {},
   "source": [
    "Выведим кол-во платформ"
   ]
  },
  {
   "cell_type": "code",
   "execution_count": 86,
   "id": "ddcc1a59",
   "metadata": {},
   "outputs": [
    {
     "name": "stdout",
     "output_type": "stream",
     "text": [
      "Общее количесвто платформ - 31 шт.\n"
     ]
    }
   ],
   "source": [
    "print(f\"Общее количесвто платформ - {df['platform'].nunique()} шт.\")"
   ]
  },
  {
   "cell_type": "markdown",
   "id": "d0b04511",
   "metadata": {},
   "source": [
    "Проведем два исследования, первый за все года, второй за последние 6 лет, исходя из того, что средний жизненный цикл платформ 12 лет, а в основе своей и рост продаж идет первые 6 лет, а далее фиксируется, либо начинает снижатся. А нас больше всего интересует те, которые в активном росте росте, либо только раскручиваются."
   ]
  },
  {
   "cell_type": "markdown",
   "id": "bb3ee900",
   "metadata": {},
   "source": [
    "Создадим фукнцию, с помощью которой выведим продажи и доли в общих продажах по указанным регионам"
   ]
  },
  {
   "cell_type": "code",
   "execution_count": 87,
   "id": "1d5f0e6d",
   "metadata": {},
   "outputs": [],
   "source": [
    "def show_sales_region(column, data, types, kind):\n",
    "    \"\"\"Фукнция, с помощью которой выводим продажи и доли в общих продажах по указанным типам\"\"\"\n",
    "    \n",
    "    print(f'Регион - {regions[column]}:')\n",
    "    sale_region = data.groupby(types)[column].sum().sort_values(ascending=False).head().reset_index()\n",
    "    sale_region['share_sales_%'] = round(sale_region[column] / data[column].sum() * 100, 2)\n",
    "    display(sale_region)\n",
    "    print(f\"Общий объем продаж {round(data[column].sum(), 2)} млн. копий\")\n",
    "    print(f\"Доля ТОП-5 {kind} занимает {round(sale_region['share_sales_%'].sum(), 1)}% в общих продажах по региону.\")\n",
    "    print()\n",
    "    print('------------------------------------')\n",
    "    print()"
   ]
  },
  {
   "cell_type": "markdown",
   "id": "ad8b4a9b",
   "metadata": {},
   "source": [
    "Выведим самые популярные платформы ТОП-5 по каждому региону за все года"
   ]
  },
  {
   "cell_type": "code",
   "execution_count": 88,
   "id": "9431d45a",
   "metadata": {},
   "outputs": [
    {
     "name": "stdout",
     "output_type": "stream",
     "text": [
      "Регион - Северная Америка:\n"
     ]
    },
    {
     "data": {
      "text/html": [
       "<div>\n",
       "<style scoped>\n",
       "    .dataframe tbody tr th:only-of-type {\n",
       "        vertical-align: middle;\n",
       "    }\n",
       "\n",
       "    .dataframe tbody tr th {\n",
       "        vertical-align: top;\n",
       "    }\n",
       "\n",
       "    .dataframe thead th {\n",
       "        text-align: right;\n",
       "    }\n",
       "</style>\n",
       "<table border=\"1\" class=\"dataframe\">\n",
       "  <thead>\n",
       "    <tr style=\"text-align: right;\">\n",
       "      <th></th>\n",
       "      <th>platform</th>\n",
       "      <th>na_sales</th>\n",
       "      <th>share_sales_%</th>\n",
       "    </tr>\n",
       "  </thead>\n",
       "  <tbody>\n",
       "    <tr>\n",
       "      <th>0</th>\n",
       "      <td>X360</td>\n",
       "      <td>599.15</td>\n",
       "      <td>13.69</td>\n",
       "    </tr>\n",
       "    <tr>\n",
       "      <th>1</th>\n",
       "      <td>PS2</td>\n",
       "      <td>582.02</td>\n",
       "      <td>13.30</td>\n",
       "    </tr>\n",
       "    <tr>\n",
       "      <th>2</th>\n",
       "      <td>Wii</td>\n",
       "      <td>494.01</td>\n",
       "      <td>11.29</td>\n",
       "    </tr>\n",
       "    <tr>\n",
       "      <th>3</th>\n",
       "      <td>PS3</td>\n",
       "      <td>391.60</td>\n",
       "      <td>8.95</td>\n",
       "    </tr>\n",
       "    <tr>\n",
       "      <th>4</th>\n",
       "      <td>DS</td>\n",
       "      <td>381.38</td>\n",
       "      <td>8.72</td>\n",
       "    </tr>\n",
       "  </tbody>\n",
       "</table>\n",
       "</div>"
      ],
      "text/plain": [
       "  platform  na_sales  share_sales_%\n",
       "0     X360    599.15          13.69\n",
       "1      PS2    582.02          13.30\n",
       "2      Wii    494.01          11.29\n",
       "3      PS3    391.60           8.95\n",
       "4       DS    381.38           8.72"
      ]
     },
     "metadata": {},
     "output_type": "display_data"
    },
    {
     "name": "stdout",
     "output_type": "stream",
     "text": [
      "Общий объем продаж 4375.31 млн. копий\n",
      "Доля ТОП-5 платформ занимает 56.0% в общих продажах по региону.\n",
      "\n",
      "------------------------------------\n",
      "\n",
      "Регион - Европа:\n"
     ]
    },
    {
     "data": {
      "text/html": [
       "<div>\n",
       "<style scoped>\n",
       "    .dataframe tbody tr th:only-of-type {\n",
       "        vertical-align: middle;\n",
       "    }\n",
       "\n",
       "    .dataframe tbody tr th {\n",
       "        vertical-align: top;\n",
       "    }\n",
       "\n",
       "    .dataframe thead th {\n",
       "        text-align: right;\n",
       "    }\n",
       "</style>\n",
       "<table border=\"1\" class=\"dataframe\">\n",
       "  <thead>\n",
       "    <tr style=\"text-align: right;\">\n",
       "      <th></th>\n",
       "      <th>platform</th>\n",
       "      <th>eu_sales</th>\n",
       "      <th>share_sales_%</th>\n",
       "    </tr>\n",
       "  </thead>\n",
       "  <tbody>\n",
       "    <tr>\n",
       "      <th>0</th>\n",
       "      <td>PS2</td>\n",
       "      <td>338.34</td>\n",
       "      <td>14.00</td>\n",
       "    </tr>\n",
       "    <tr>\n",
       "      <th>1</th>\n",
       "      <td>PS3</td>\n",
       "      <td>328.97</td>\n",
       "      <td>13.61</td>\n",
       "    </tr>\n",
       "    <tr>\n",
       "      <th>2</th>\n",
       "      <td>X360</td>\n",
       "      <td>269.84</td>\n",
       "      <td>11.16</td>\n",
       "    </tr>\n",
       "    <tr>\n",
       "      <th>3</th>\n",
       "      <td>Wii</td>\n",
       "      <td>261.48</td>\n",
       "      <td>10.82</td>\n",
       "    </tr>\n",
       "    <tr>\n",
       "      <th>4</th>\n",
       "      <td>PS</td>\n",
       "      <td>212.39</td>\n",
       "      <td>8.79</td>\n",
       "    </tr>\n",
       "  </tbody>\n",
       "</table>\n",
       "</div>"
      ],
      "text/plain": [
       "  platform  eu_sales  share_sales_%\n",
       "0      PS2    338.34          14.00\n",
       "1      PS3    328.97          13.61\n",
       "2     X360    269.84          11.16\n",
       "3      Wii    261.48          10.82\n",
       "4       PS    212.39           8.79"
      ]
     },
     "metadata": {},
     "output_type": "display_data"
    },
    {
     "name": "stdout",
     "output_type": "stream",
     "text": [
      "Общий объем продаж 2417.07 млн. копий\n",
      "Доля ТОП-5 платформ занимает 58.4% в общих продажах по региону.\n",
      "\n",
      "------------------------------------\n",
      "\n",
      "Регион - Япония:\n"
     ]
    },
    {
     "data": {
      "text/html": [
       "<div>\n",
       "<style scoped>\n",
       "    .dataframe tbody tr th:only-of-type {\n",
       "        vertical-align: middle;\n",
       "    }\n",
       "\n",
       "    .dataframe tbody tr th {\n",
       "        vertical-align: top;\n",
       "    }\n",
       "\n",
       "    .dataframe thead th {\n",
       "        text-align: right;\n",
       "    }\n",
       "</style>\n",
       "<table border=\"1\" class=\"dataframe\">\n",
       "  <thead>\n",
       "    <tr style=\"text-align: right;\">\n",
       "      <th></th>\n",
       "      <th>platform</th>\n",
       "      <th>jp_sales</th>\n",
       "      <th>share_sales_%</th>\n",
       "    </tr>\n",
       "  </thead>\n",
       "  <tbody>\n",
       "    <tr>\n",
       "      <th>0</th>\n",
       "      <td>DS</td>\n",
       "      <td>175.02</td>\n",
       "      <td>13.54</td>\n",
       "    </tr>\n",
       "    <tr>\n",
       "      <th>1</th>\n",
       "      <td>PS</td>\n",
       "      <td>139.78</td>\n",
       "      <td>10.81</td>\n",
       "    </tr>\n",
       "    <tr>\n",
       "      <th>2</th>\n",
       "      <td>PS2</td>\n",
       "      <td>137.78</td>\n",
       "      <td>10.66</td>\n",
       "    </tr>\n",
       "    <tr>\n",
       "      <th>3</th>\n",
       "      <td>SNES</td>\n",
       "      <td>116.55</td>\n",
       "      <td>9.02</td>\n",
       "    </tr>\n",
       "    <tr>\n",
       "      <th>4</th>\n",
       "      <td>3DS</td>\n",
       "      <td>100.64</td>\n",
       "      <td>7.79</td>\n",
       "    </tr>\n",
       "  </tbody>\n",
       "</table>\n",
       "</div>"
      ],
      "text/plain": [
       "  platform  jp_sales  share_sales_%\n",
       "0       DS    175.02          13.54\n",
       "1       PS    139.78          10.81\n",
       "2      PS2    137.78          10.66\n",
       "3     SNES    116.55           9.02\n",
       "4      3DS    100.64           7.79"
      ]
     },
     "metadata": {},
     "output_type": "display_data"
    },
    {
     "name": "stdout",
     "output_type": "stream",
     "text": [
      "Общий объем продаж 1292.6 млн. копий\n",
      "Доля ТОП-5 платформ занимает 51.8% в общих продажах по региону.\n",
      "\n",
      "------------------------------------\n",
      "\n",
      "Регион - Другие страны:\n"
     ]
    },
    {
     "data": {
      "text/html": [
       "<div>\n",
       "<style scoped>\n",
       "    .dataframe tbody tr th:only-of-type {\n",
       "        vertical-align: middle;\n",
       "    }\n",
       "\n",
       "    .dataframe tbody tr th {\n",
       "        vertical-align: top;\n",
       "    }\n",
       "\n",
       "    .dataframe thead th {\n",
       "        text-align: right;\n",
       "    }\n",
       "</style>\n",
       "<table border=\"1\" class=\"dataframe\">\n",
       "  <thead>\n",
       "    <tr style=\"text-align: right;\">\n",
       "      <th></th>\n",
       "      <th>platform</th>\n",
       "      <th>other_sales</th>\n",
       "      <th>share_sales_%</th>\n",
       "    </tr>\n",
       "  </thead>\n",
       "  <tbody>\n",
       "    <tr>\n",
       "      <th>0</th>\n",
       "      <td>PS2</td>\n",
       "      <td>192.78</td>\n",
       "      <td>24.45</td>\n",
       "    </tr>\n",
       "    <tr>\n",
       "      <th>1</th>\n",
       "      <td>PS3</td>\n",
       "      <td>135.10</td>\n",
       "      <td>17.13</td>\n",
       "    </tr>\n",
       "    <tr>\n",
       "      <th>2</th>\n",
       "      <td>X360</td>\n",
       "      <td>85.35</td>\n",
       "      <td>10.82</td>\n",
       "    </tr>\n",
       "    <tr>\n",
       "      <th>3</th>\n",
       "      <td>Wii</td>\n",
       "      <td>78.77</td>\n",
       "      <td>9.99</td>\n",
       "    </tr>\n",
       "    <tr>\n",
       "      <th>4</th>\n",
       "      <td>DS</td>\n",
       "      <td>59.16</td>\n",
       "      <td>7.50</td>\n",
       "    </tr>\n",
       "  </tbody>\n",
       "</table>\n",
       "</div>"
      ],
      "text/plain": [
       "  platform  other_sales  share_sales_%\n",
       "0      PS2       192.78          24.45\n",
       "1      PS3       135.10          17.13\n",
       "2     X360        85.35          10.82\n",
       "3      Wii        78.77           9.99\n",
       "4       DS        59.16           7.50"
      ]
     },
     "metadata": {},
     "output_type": "display_data"
    },
    {
     "name": "stdout",
     "output_type": "stream",
     "text": [
      "Общий объем продаж 788.57 млн. копий\n",
      "Доля ТОП-5 платформ занимает 69.9% в общих продажах по региону.\n",
      "\n",
      "------------------------------------\n",
      "\n"
     ]
    }
   ],
   "source": [
    "for region in regions.keys():\n",
    "    show_sales_region(region, df, 'platform', 'платформ')"
   ]
  },
  {
   "cell_type": "markdown",
   "id": "ed8a28da",
   "metadata": {},
   "source": [
    "Сформируем ТОП-5 платформ за последние 6 лет, половина среднего жизненного цикла платформ. Посмотрим текущие предпочтения пользователей."
   ]
  },
  {
   "cell_type": "code",
   "execution_count": 89,
   "id": "af979bc2",
   "metadata": {},
   "outputs": [],
   "source": [
    "tail_6_years = sorted(list(df['year_of_release'].unique()))[-6:] #создадим список последних 6 лет\n",
    "df_6_years = df[df['year_of_release'].isin(tail_6_years)] #создадим датафрейм в котором данные за последние 6 лет"
   ]
  },
  {
   "cell_type": "code",
   "execution_count": 90,
   "id": "fd42ee93",
   "metadata": {},
   "outputs": [
    {
     "name": "stdout",
     "output_type": "stream",
     "text": [
      "Регион - Северная Америка:\n"
     ]
    },
    {
     "data": {
      "text/html": [
       "<div>\n",
       "<style scoped>\n",
       "    .dataframe tbody tr th:only-of-type {\n",
       "        vertical-align: middle;\n",
       "    }\n",
       "\n",
       "    .dataframe tbody tr th {\n",
       "        vertical-align: top;\n",
       "    }\n",
       "\n",
       "    .dataframe thead th {\n",
       "        text-align: right;\n",
       "    }\n",
       "</style>\n",
       "<table border=\"1\" class=\"dataframe\">\n",
       "  <thead>\n",
       "    <tr style=\"text-align: right;\">\n",
       "      <th></th>\n",
       "      <th>platform</th>\n",
       "      <th>na_sales</th>\n",
       "      <th>share_sales_%</th>\n",
       "    </tr>\n",
       "  </thead>\n",
       "  <tbody>\n",
       "    <tr>\n",
       "      <th>0</th>\n",
       "      <td>X360</td>\n",
       "      <td>228.18</td>\n",
       "      <td>27.37</td>\n",
       "    </tr>\n",
       "    <tr>\n",
       "      <th>1</th>\n",
       "      <td>PS3</td>\n",
       "      <td>168.96</td>\n",
       "      <td>20.27</td>\n",
       "    </tr>\n",
       "    <tr>\n",
       "      <th>2</th>\n",
       "      <td>PS4</td>\n",
       "      <td>108.74</td>\n",
       "      <td>13.04</td>\n",
       "    </tr>\n",
       "    <tr>\n",
       "      <th>3</th>\n",
       "      <td>XOne</td>\n",
       "      <td>93.12</td>\n",
       "      <td>11.17</td>\n",
       "    </tr>\n",
       "    <tr>\n",
       "      <th>4</th>\n",
       "      <td>3DS</td>\n",
       "      <td>82.83</td>\n",
       "      <td>9.94</td>\n",
       "    </tr>\n",
       "  </tbody>\n",
       "</table>\n",
       "</div>"
      ],
      "text/plain": [
       "  platform  na_sales  share_sales_%\n",
       "0     X360    228.18          27.37\n",
       "1      PS3    168.96          20.27\n",
       "2      PS4    108.74          13.04\n",
       "3     XOne     93.12          11.17\n",
       "4      3DS     82.83           9.94"
      ]
     },
     "metadata": {},
     "output_type": "display_data"
    },
    {
     "name": "stdout",
     "output_type": "stream",
     "text": [
      "Общий объем продаж 833.59 млн. копий\n",
      "Доля ТОП-5 платформ занимает 81.8% в общих продажах по региону.\n",
      "\n",
      "------------------------------------\n",
      "\n",
      "Регион - Европа:\n"
     ]
    },
    {
     "data": {
      "text/html": [
       "<div>\n",
       "<style scoped>\n",
       "    .dataframe tbody tr th:only-of-type {\n",
       "        vertical-align: middle;\n",
       "    }\n",
       "\n",
       "    .dataframe tbody tr th {\n",
       "        vertical-align: top;\n",
       "    }\n",
       "\n",
       "    .dataframe thead th {\n",
       "        text-align: right;\n",
       "    }\n",
       "</style>\n",
       "<table border=\"1\" class=\"dataframe\">\n",
       "  <thead>\n",
       "    <tr style=\"text-align: right;\">\n",
       "      <th></th>\n",
       "      <th>platform</th>\n",
       "      <th>eu_sales</th>\n",
       "      <th>share_sales_%</th>\n",
       "    </tr>\n",
       "  </thead>\n",
       "  <tbody>\n",
       "    <tr>\n",
       "      <th>0</th>\n",
       "      <td>PS3</td>\n",
       "      <td>164.15</td>\n",
       "      <td>24.38</td>\n",
       "    </tr>\n",
       "    <tr>\n",
       "      <th>1</th>\n",
       "      <td>PS4</td>\n",
       "      <td>141.09</td>\n",
       "      <td>20.95</td>\n",
       "    </tr>\n",
       "    <tr>\n",
       "      <th>2</th>\n",
       "      <td>X360</td>\n",
       "      <td>117.91</td>\n",
       "      <td>17.51</td>\n",
       "    </tr>\n",
       "    <tr>\n",
       "      <th>3</th>\n",
       "      <td>3DS</td>\n",
       "      <td>61.46</td>\n",
       "      <td>9.13</td>\n",
       "    </tr>\n",
       "    <tr>\n",
       "      <th>4</th>\n",
       "      <td>PC</td>\n",
       "      <td>57.38</td>\n",
       "      <td>8.52</td>\n",
       "    </tr>\n",
       "  </tbody>\n",
       "</table>\n",
       "</div>"
      ],
      "text/plain": [
       "  platform  eu_sales  share_sales_%\n",
       "0      PS3    164.15          24.38\n",
       "1      PS4    141.09          20.95\n",
       "2     X360    117.91          17.51\n",
       "3      3DS     61.46           9.13\n",
       "4       PC     57.38           8.52"
      ]
     },
     "metadata": {},
     "output_type": "display_data"
    },
    {
     "name": "stdout",
     "output_type": "stream",
     "text": [
      "Общий объем продаж 673.32 млн. копий\n",
      "Доля ТОП-5 платформ занимает 80.5% в общих продажах по региону.\n",
      "\n",
      "------------------------------------\n",
      "\n",
      "Регион - Япония:\n"
     ]
    },
    {
     "data": {
      "text/html": [
       "<div>\n",
       "<style scoped>\n",
       "    .dataframe tbody tr th:only-of-type {\n",
       "        vertical-align: middle;\n",
       "    }\n",
       "\n",
       "    .dataframe tbody tr th {\n",
       "        vertical-align: top;\n",
       "    }\n",
       "\n",
       "    .dataframe thead th {\n",
       "        text-align: right;\n",
       "    }\n",
       "</style>\n",
       "<table border=\"1\" class=\"dataframe\">\n",
       "  <thead>\n",
       "    <tr style=\"text-align: right;\">\n",
       "      <th></th>\n",
       "      <th>platform</th>\n",
       "      <th>jp_sales</th>\n",
       "      <th>share_sales_%</th>\n",
       "    </tr>\n",
       "  </thead>\n",
       "  <tbody>\n",
       "    <tr>\n",
       "      <th>0</th>\n",
       "      <td>3DS</td>\n",
       "      <td>100.62</td>\n",
       "      <td>40.92</td>\n",
       "    </tr>\n",
       "    <tr>\n",
       "      <th>1</th>\n",
       "      <td>PS3</td>\n",
       "      <td>49.40</td>\n",
       "      <td>20.09</td>\n",
       "    </tr>\n",
       "    <tr>\n",
       "      <th>2</th>\n",
       "      <td>PSP</td>\n",
       "      <td>24.28</td>\n",
       "      <td>9.87</td>\n",
       "    </tr>\n",
       "    <tr>\n",
       "      <th>3</th>\n",
       "      <td>PSV</td>\n",
       "      <td>21.84</td>\n",
       "      <td>8.88</td>\n",
       "    </tr>\n",
       "    <tr>\n",
       "      <th>4</th>\n",
       "      <td>PS4</td>\n",
       "      <td>15.96</td>\n",
       "      <td>6.49</td>\n",
       "    </tr>\n",
       "  </tbody>\n",
       "</table>\n",
       "</div>"
      ],
      "text/plain": [
       "  platform  jp_sales  share_sales_%\n",
       "0      3DS    100.62          40.92\n",
       "1      PS3     49.40          20.09\n",
       "2      PSP     24.28           9.87\n",
       "3      PSV     21.84           8.88\n",
       "4      PS4     15.96           6.49"
      ]
     },
     "metadata": {},
     "output_type": "display_data"
    },
    {
     "name": "stdout",
     "output_type": "stream",
     "text": [
      "Общий объем продаж 245.91 млн. копий\n",
      "Доля ТОП-5 платформ занимает 86.2% в общих продажах по региону.\n",
      "\n",
      "------------------------------------\n",
      "\n",
      "Регион - Другие страны:\n"
     ]
    },
    {
     "data": {
      "text/html": [
       "<div>\n",
       "<style scoped>\n",
       "    .dataframe tbody tr th:only-of-type {\n",
       "        vertical-align: middle;\n",
       "    }\n",
       "\n",
       "    .dataframe tbody tr th {\n",
       "        vertical-align: top;\n",
       "    }\n",
       "\n",
       "    .dataframe thead th {\n",
       "        text-align: right;\n",
       "    }\n",
       "</style>\n",
       "<table border=\"1\" class=\"dataframe\">\n",
       "  <thead>\n",
       "    <tr style=\"text-align: right;\">\n",
       "      <th></th>\n",
       "      <th>platform</th>\n",
       "      <th>other_sales</th>\n",
       "      <th>share_sales_%</th>\n",
       "    </tr>\n",
       "  </thead>\n",
       "  <tbody>\n",
       "    <tr>\n",
       "      <th>0</th>\n",
       "      <td>PS3</td>\n",
       "      <td>65.18</td>\n",
       "      <td>31.05</td>\n",
       "    </tr>\n",
       "    <tr>\n",
       "      <th>1</th>\n",
       "      <td>PS4</td>\n",
       "      <td>48.35</td>\n",
       "      <td>23.03</td>\n",
       "    </tr>\n",
       "    <tr>\n",
       "      <th>2</th>\n",
       "      <td>X360</td>\n",
       "      <td>33.35</td>\n",
       "      <td>15.89</td>\n",
       "    </tr>\n",
       "    <tr>\n",
       "      <th>3</th>\n",
       "      <td>XOne</td>\n",
       "      <td>14.27</td>\n",
       "      <td>6.80</td>\n",
       "    </tr>\n",
       "    <tr>\n",
       "      <th>4</th>\n",
       "      <td>3DS</td>\n",
       "      <td>13.30</td>\n",
       "      <td>6.34</td>\n",
       "    </tr>\n",
       "  </tbody>\n",
       "</table>\n",
       "</div>"
      ],
      "text/plain": [
       "  platform  other_sales  share_sales_%\n",
       "0      PS3        65.18          31.05\n",
       "1      PS4        48.35          23.03\n",
       "2     X360        33.35          15.89\n",
       "3     XOne        14.27           6.80\n",
       "4      3DS        13.30           6.34"
      ]
     },
     "metadata": {},
     "output_type": "display_data"
    },
    {
     "name": "stdout",
     "output_type": "stream",
     "text": [
      "Общий объем продаж 209.9 млн. копий\n",
      "Доля ТОП-5 платформ занимает 83.1% в общих продажах по региону.\n",
      "\n",
      "------------------------------------\n",
      "\n"
     ]
    }
   ],
   "source": [
    "for region in regions.keys(): #переберем все регионы\n",
    "    show_sales_region(region, df_6_years, 'platform', 'платформ') #выведим данные по продажам в регионах"
   ]
  },
  {
   "cell_type": "markdown",
   "id": "1118f8ac",
   "metadata": {},
   "source": [
    "##### Вывод"
   ]
  },
  {
   "cell_type": "markdown",
   "id": "a7cf9d68",
   "metadata": {},
   "source": [
    "При изучении платформ по всем годам, выделим следующее, доля ТОП-5 платформ составляет от 52% до 58% в С.Америке, Европе и Японии, в других же странах все 70%. Среди ТОП-5 выделяются отдельные платформы, в Америке, Европе и других странах во всех есть платформы PS2, PS3, Wii, X360, а в Японии из них только PS2, т.е. Япония держится \"особнячком\".\n",
    "\n",
    "За последние 6 лет, можно сказать, что ТОП-5 платформ занимают в общем объеме от 80% до 86%. Однако и среди ТОП-5 есть свои особенные лидеры в каждом регионе. В Америке 2 платформы - Х360 и PS3; в Европе 3 платформы - PS3, PS4 и Х360; в Японии 2 платформы - 3DS и PS3; в других странах, как в Европе 3 платформы - PS3, PS4, Х360."
   ]
  },
  {
   "cell_type": "markdown",
   "id": "f6172c98",
   "metadata": {},
   "source": [
    "### Самые популярные жанры"
   ]
  },
  {
   "cell_type": "code",
   "execution_count": 91,
   "id": "fa4e165a",
   "metadata": {
    "scrolled": true
   },
   "outputs": [
    {
     "data": {
      "text/plain": [
       "genre\n",
       "Action          3342\n",
       "Sports          2337\n",
       "Misc            1735\n",
       "Role-Playing    1484\n",
       "Shooter         1311\n",
       "Adventure       1294\n",
       "Racing          1238\n",
       "Platform         879\n",
       "Simulation       860\n",
       "Fighting         843\n",
       "Strategy         678\n",
       "Puzzle           573\n",
       "Name: genre, dtype: int64"
      ]
     },
     "execution_count": 91,
     "metadata": {},
     "output_type": "execute_result"
    }
   ],
   "source": [
    "df.groupby('genre')['genre'].count().sort_values(ascending=False)"
   ]
  },
  {
   "cell_type": "code",
   "execution_count": 92,
   "id": "dc6c7284",
   "metadata": {},
   "outputs": [
    {
     "name": "stdout",
     "output_type": "stream",
     "text": [
      "Общее количесвто жанров - 12 шт.\n"
     ]
    }
   ],
   "source": [
    "print(f\"Общее количесвто жанров - {df['genre'].nunique()} шт.\")"
   ]
  },
  {
   "cell_type": "markdown",
   "id": "0cd07e1c",
   "metadata": {},
   "source": [
    "Аналогично предыдущему исследованию, будем проводить два вида: за все года и за последние 6 лет."
   ]
  },
  {
   "cell_type": "markdown",
   "id": "9f1aa0b6",
   "metadata": {},
   "source": [
    "Выведим самые популярные жанры ТОП-5 по каждому региону за все года"
   ]
  },
  {
   "cell_type": "code",
   "execution_count": 93,
   "id": "6af772a2",
   "metadata": {},
   "outputs": [
    {
     "name": "stdout",
     "output_type": "stream",
     "text": [
      "Регион - Северная Америка:\n"
     ]
    },
    {
     "data": {
      "text/html": [
       "<div>\n",
       "<style scoped>\n",
       "    .dataframe tbody tr th:only-of-type {\n",
       "        vertical-align: middle;\n",
       "    }\n",
       "\n",
       "    .dataframe tbody tr th {\n",
       "        vertical-align: top;\n",
       "    }\n",
       "\n",
       "    .dataframe thead th {\n",
       "        text-align: right;\n",
       "    }\n",
       "</style>\n",
       "<table border=\"1\" class=\"dataframe\">\n",
       "  <thead>\n",
       "    <tr style=\"text-align: right;\">\n",
       "      <th></th>\n",
       "      <th>genre</th>\n",
       "      <th>na_sales</th>\n",
       "      <th>share_sales_%</th>\n",
       "    </tr>\n",
       "  </thead>\n",
       "  <tbody>\n",
       "    <tr>\n",
       "      <th>0</th>\n",
       "      <td>Action</td>\n",
       "      <td>873.70</td>\n",
       "      <td>19.97</td>\n",
       "    </tr>\n",
       "    <tr>\n",
       "      <th>1</th>\n",
       "      <td>Sports</td>\n",
       "      <td>682.16</td>\n",
       "      <td>15.59</td>\n",
       "    </tr>\n",
       "    <tr>\n",
       "      <th>2</th>\n",
       "      <td>Shooter</td>\n",
       "      <td>590.35</td>\n",
       "      <td>13.49</td>\n",
       "    </tr>\n",
       "    <tr>\n",
       "      <th>3</th>\n",
       "      <td>Platform</td>\n",
       "      <td>444.44</td>\n",
       "      <td>10.16</td>\n",
       "    </tr>\n",
       "    <tr>\n",
       "      <th>4</th>\n",
       "      <td>Misc</td>\n",
       "      <td>401.69</td>\n",
       "      <td>9.18</td>\n",
       "    </tr>\n",
       "  </tbody>\n",
       "</table>\n",
       "</div>"
      ],
      "text/plain": [
       "      genre  na_sales  share_sales_%\n",
       "0    Action    873.70          19.97\n",
       "1    Sports    682.16          15.59\n",
       "2   Shooter    590.35          13.49\n",
       "3  Platform    444.44          10.16\n",
       "4      Misc    401.69           9.18"
      ]
     },
     "metadata": {},
     "output_type": "display_data"
    },
    {
     "name": "stdout",
     "output_type": "stream",
     "text": [
      "Общий объем продаж 4375.31 млн. копий\n",
      "Доля ТОП-5 жанров занимает 68.4% в общих продажах по региону.\n",
      "\n",
      "------------------------------------\n",
      "\n",
      "Регион - Европа:\n"
     ]
    },
    {
     "data": {
      "text/html": [
       "<div>\n",
       "<style scoped>\n",
       "    .dataframe tbody tr th:only-of-type {\n",
       "        vertical-align: middle;\n",
       "    }\n",
       "\n",
       "    .dataframe tbody tr th {\n",
       "        vertical-align: top;\n",
       "    }\n",
       "\n",
       "    .dataframe thead th {\n",
       "        text-align: right;\n",
       "    }\n",
       "</style>\n",
       "<table border=\"1\" class=\"dataframe\">\n",
       "  <thead>\n",
       "    <tr style=\"text-align: right;\">\n",
       "      <th></th>\n",
       "      <th>genre</th>\n",
       "      <th>eu_sales</th>\n",
       "      <th>share_sales_%</th>\n",
       "    </tr>\n",
       "  </thead>\n",
       "  <tbody>\n",
       "    <tr>\n",
       "      <th>0</th>\n",
       "      <td>Action</td>\n",
       "      <td>517.58</td>\n",
       "      <td>21.41</td>\n",
       "    </tr>\n",
       "    <tr>\n",
       "      <th>1</th>\n",
       "      <td>Sports</td>\n",
       "      <td>375.91</td>\n",
       "      <td>15.55</td>\n",
       "    </tr>\n",
       "    <tr>\n",
       "      <th>2</th>\n",
       "      <td>Shooter</td>\n",
       "      <td>316.96</td>\n",
       "      <td>13.11</td>\n",
       "    </tr>\n",
       "    <tr>\n",
       "      <th>3</th>\n",
       "      <td>Racing</td>\n",
       "      <td>235.51</td>\n",
       "      <td>9.74</td>\n",
       "    </tr>\n",
       "    <tr>\n",
       "      <th>4</th>\n",
       "      <td>Misc</td>\n",
       "      <td>211.32</td>\n",
       "      <td>8.74</td>\n",
       "    </tr>\n",
       "  </tbody>\n",
       "</table>\n",
       "</div>"
      ],
      "text/plain": [
       "     genre  eu_sales  share_sales_%\n",
       "0   Action    517.58          21.41\n",
       "1   Sports    375.91          15.55\n",
       "2  Shooter    316.96          13.11\n",
       "3   Racing    235.51           9.74\n",
       "4     Misc    211.32           8.74"
      ]
     },
     "metadata": {},
     "output_type": "display_data"
    },
    {
     "name": "stdout",
     "output_type": "stream",
     "text": [
      "Общий объем продаж 2417.07 млн. копий\n",
      "Доля ТОП-5 жанров занимает 68.6% в общих продажах по региону.\n",
      "\n",
      "------------------------------------\n",
      "\n",
      "Регион - Япония:\n"
     ]
    },
    {
     "data": {
      "text/html": [
       "<div>\n",
       "<style scoped>\n",
       "    .dataframe tbody tr th:only-of-type {\n",
       "        vertical-align: middle;\n",
       "    }\n",
       "\n",
       "    .dataframe tbody tr th {\n",
       "        vertical-align: top;\n",
       "    }\n",
       "\n",
       "    .dataframe thead th {\n",
       "        text-align: right;\n",
       "    }\n",
       "</style>\n",
       "<table border=\"1\" class=\"dataframe\">\n",
       "  <thead>\n",
       "    <tr style=\"text-align: right;\">\n",
       "      <th></th>\n",
       "      <th>genre</th>\n",
       "      <th>jp_sales</th>\n",
       "      <th>share_sales_%</th>\n",
       "    </tr>\n",
       "  </thead>\n",
       "  <tbody>\n",
       "    <tr>\n",
       "      <th>0</th>\n",
       "      <td>Role-Playing</td>\n",
       "      <td>353.88</td>\n",
       "      <td>27.38</td>\n",
       "    </tr>\n",
       "    <tr>\n",
       "      <th>1</th>\n",
       "      <td>Action</td>\n",
       "      <td>160.15</td>\n",
       "      <td>12.39</td>\n",
       "    </tr>\n",
       "    <tr>\n",
       "      <th>2</th>\n",
       "      <td>Sports</td>\n",
       "      <td>135.27</td>\n",
       "      <td>10.46</td>\n",
       "    </tr>\n",
       "    <tr>\n",
       "      <th>3</th>\n",
       "      <td>Platform</td>\n",
       "      <td>130.71</td>\n",
       "      <td>10.11</td>\n",
       "    </tr>\n",
       "    <tr>\n",
       "      <th>4</th>\n",
       "      <td>Misc</td>\n",
       "      <td>108.04</td>\n",
       "      <td>8.36</td>\n",
       "    </tr>\n",
       "  </tbody>\n",
       "</table>\n",
       "</div>"
      ],
      "text/plain": [
       "          genre  jp_sales  share_sales_%\n",
       "0  Role-Playing    353.88          27.38\n",
       "1        Action    160.15          12.39\n",
       "2        Sports    135.27          10.46\n",
       "3      Platform    130.71          10.11\n",
       "4          Misc    108.04           8.36"
      ]
     },
     "metadata": {},
     "output_type": "display_data"
    },
    {
     "name": "stdout",
     "output_type": "stream",
     "text": [
      "Общий объем продаж 1292.6 млн. копий\n",
      "Доля ТОП-5 жанров занимает 68.7% в общих продажах по региону.\n",
      "\n",
      "------------------------------------\n",
      "\n",
      "Регион - Другие страны:\n"
     ]
    },
    {
     "data": {
      "text/html": [
       "<div>\n",
       "<style scoped>\n",
       "    .dataframe tbody tr th:only-of-type {\n",
       "        vertical-align: middle;\n",
       "    }\n",
       "\n",
       "    .dataframe tbody tr th {\n",
       "        vertical-align: top;\n",
       "    }\n",
       "\n",
       "    .dataframe thead th {\n",
       "        text-align: right;\n",
       "    }\n",
       "</style>\n",
       "<table border=\"1\" class=\"dataframe\">\n",
       "  <thead>\n",
       "    <tr style=\"text-align: right;\">\n",
       "      <th></th>\n",
       "      <th>genre</th>\n",
       "      <th>other_sales</th>\n",
       "      <th>share_sales_%</th>\n",
       "    </tr>\n",
       "  </thead>\n",
       "  <tbody>\n",
       "    <tr>\n",
       "      <th>0</th>\n",
       "      <td>Action</td>\n",
       "      <td>184.20</td>\n",
       "      <td>23.36</td>\n",
       "    </tr>\n",
       "    <tr>\n",
       "      <th>1</th>\n",
       "      <td>Sports</td>\n",
       "      <td>134.25</td>\n",
       "      <td>17.02</td>\n",
       "    </tr>\n",
       "    <tr>\n",
       "      <th>2</th>\n",
       "      <td>Shooter</td>\n",
       "      <td>104.01</td>\n",
       "      <td>13.19</td>\n",
       "    </tr>\n",
       "    <tr>\n",
       "      <th>3</th>\n",
       "      <td>Racing</td>\n",
       "      <td>75.82</td>\n",
       "      <td>9.61</td>\n",
       "    </tr>\n",
       "    <tr>\n",
       "      <th>4</th>\n",
       "      <td>Misc</td>\n",
       "      <td>73.36</td>\n",
       "      <td>9.30</td>\n",
       "    </tr>\n",
       "  </tbody>\n",
       "</table>\n",
       "</div>"
      ],
      "text/plain": [
       "     genre  other_sales  share_sales_%\n",
       "0   Action       184.20          23.36\n",
       "1   Sports       134.25          17.02\n",
       "2  Shooter       104.01          13.19\n",
       "3   Racing        75.82           9.61\n",
       "4     Misc        73.36           9.30"
      ]
     },
     "metadata": {},
     "output_type": "display_data"
    },
    {
     "name": "stdout",
     "output_type": "stream",
     "text": [
      "Общий объем продаж 788.57 млн. копий\n",
      "Доля ТОП-5 жанров занимает 72.5% в общих продажах по региону.\n",
      "\n",
      "------------------------------------\n",
      "\n"
     ]
    }
   ],
   "source": [
    "for region in regions.keys():\n",
    "    show_sales_region(region, df, 'genre', 'жанров')"
   ]
  },
  {
   "cell_type": "markdown",
   "id": "b4c2117d",
   "metadata": {},
   "source": [
    "Сформируем ТОП-5 жанров за последние 6 лет, половина среднего жизненного цикла платформ. Посмотрим текущие предпочтения пользователей."
   ]
  },
  {
   "cell_type": "code",
   "execution_count": 94,
   "id": "8d6e5f83",
   "metadata": {},
   "outputs": [
    {
     "name": "stdout",
     "output_type": "stream",
     "text": [
      "Регион - Северная Америка:\n"
     ]
    },
    {
     "data": {
      "text/html": [
       "<div>\n",
       "<style scoped>\n",
       "    .dataframe tbody tr th:only-of-type {\n",
       "        vertical-align: middle;\n",
       "    }\n",
       "\n",
       "    .dataframe tbody tr th {\n",
       "        vertical-align: top;\n",
       "    }\n",
       "\n",
       "    .dataframe thead th {\n",
       "        text-align: right;\n",
       "    }\n",
       "</style>\n",
       "<table border=\"1\" class=\"dataframe\">\n",
       "  <thead>\n",
       "    <tr style=\"text-align: right;\">\n",
       "      <th></th>\n",
       "      <th>genre</th>\n",
       "      <th>na_sales</th>\n",
       "      <th>share_sales_%</th>\n",
       "    </tr>\n",
       "  </thead>\n",
       "  <tbody>\n",
       "    <tr>\n",
       "      <th>0</th>\n",
       "      <td>Action</td>\n",
       "      <td>234.41</td>\n",
       "      <td>28.12</td>\n",
       "    </tr>\n",
       "    <tr>\n",
       "      <th>1</th>\n",
       "      <td>Shooter</td>\n",
       "      <td>194.45</td>\n",
       "      <td>23.33</td>\n",
       "    </tr>\n",
       "    <tr>\n",
       "      <th>2</th>\n",
       "      <td>Sports</td>\n",
       "      <td>108.70</td>\n",
       "      <td>13.04</td>\n",
       "    </tr>\n",
       "    <tr>\n",
       "      <th>3</th>\n",
       "      <td>Role-Playing</td>\n",
       "      <td>83.78</td>\n",
       "      <td>10.05</td>\n",
       "    </tr>\n",
       "    <tr>\n",
       "      <th>4</th>\n",
       "      <td>Misc</td>\n",
       "      <td>69.81</td>\n",
       "      <td>8.37</td>\n",
       "    </tr>\n",
       "  </tbody>\n",
       "</table>\n",
       "</div>"
      ],
      "text/plain": [
       "          genre  na_sales  share_sales_%\n",
       "0        Action    234.41          28.12\n",
       "1       Shooter    194.45          23.33\n",
       "2        Sports    108.70          13.04\n",
       "3  Role-Playing     83.78          10.05\n",
       "4          Misc     69.81           8.37"
      ]
     },
     "metadata": {},
     "output_type": "display_data"
    },
    {
     "name": "stdout",
     "output_type": "stream",
     "text": [
      "Общий объем продаж 833.59 млн. копий\n",
      "Доля ТОП-5 жанров занимает 82.9% в общих продажах по региону.\n",
      "\n",
      "------------------------------------\n",
      "\n",
      "Регион - Европа:\n"
     ]
    },
    {
     "data": {
      "text/html": [
       "<div>\n",
       "<style scoped>\n",
       "    .dataframe tbody tr th:only-of-type {\n",
       "        vertical-align: middle;\n",
       "    }\n",
       "\n",
       "    .dataframe tbody tr th {\n",
       "        vertical-align: top;\n",
       "    }\n",
       "\n",
       "    .dataframe thead th {\n",
       "        text-align: right;\n",
       "    }\n",
       "</style>\n",
       "<table border=\"1\" class=\"dataframe\">\n",
       "  <thead>\n",
       "    <tr style=\"text-align: right;\">\n",
       "      <th></th>\n",
       "      <th>genre</th>\n",
       "      <th>eu_sales</th>\n",
       "      <th>share_sales_%</th>\n",
       "    </tr>\n",
       "  </thead>\n",
       "  <tbody>\n",
       "    <tr>\n",
       "      <th>0</th>\n",
       "      <td>Action</td>\n",
       "      <td>202.17</td>\n",
       "      <td>30.03</td>\n",
       "    </tr>\n",
       "    <tr>\n",
       "      <th>1</th>\n",
       "      <td>Shooter</td>\n",
       "      <td>148.05</td>\n",
       "      <td>21.99</td>\n",
       "    </tr>\n",
       "    <tr>\n",
       "      <th>2</th>\n",
       "      <td>Sports</td>\n",
       "      <td>88.67</td>\n",
       "      <td>13.17</td>\n",
       "    </tr>\n",
       "    <tr>\n",
       "      <th>3</th>\n",
       "      <td>Role-Playing</td>\n",
       "      <td>62.30</td>\n",
       "      <td>9.25</td>\n",
       "    </tr>\n",
       "    <tr>\n",
       "      <th>4</th>\n",
       "      <td>Racing</td>\n",
       "      <td>40.62</td>\n",
       "      <td>6.03</td>\n",
       "    </tr>\n",
       "  </tbody>\n",
       "</table>\n",
       "</div>"
      ],
      "text/plain": [
       "          genre  eu_sales  share_sales_%\n",
       "0        Action    202.17          30.03\n",
       "1       Shooter    148.05          21.99\n",
       "2        Sports     88.67          13.17\n",
       "3  Role-Playing     62.30           9.25\n",
       "4        Racing     40.62           6.03"
      ]
     },
     "metadata": {},
     "output_type": "display_data"
    },
    {
     "name": "stdout",
     "output_type": "stream",
     "text": [
      "Общий объем продаж 673.32 млн. копий\n",
      "Доля ТОП-5 жанров занимает 80.5% в общих продажах по региону.\n",
      "\n",
      "------------------------------------\n",
      "\n",
      "Регион - Япония:\n"
     ]
    },
    {
     "data": {
      "text/html": [
       "<div>\n",
       "<style scoped>\n",
       "    .dataframe tbody tr th:only-of-type {\n",
       "        vertical-align: middle;\n",
       "    }\n",
       "\n",
       "    .dataframe tbody tr th {\n",
       "        vertical-align: top;\n",
       "    }\n",
       "\n",
       "    .dataframe thead th {\n",
       "        text-align: right;\n",
       "    }\n",
       "</style>\n",
       "<table border=\"1\" class=\"dataframe\">\n",
       "  <thead>\n",
       "    <tr style=\"text-align: right;\">\n",
       "      <th></th>\n",
       "      <th>genre</th>\n",
       "      <th>jp_sales</th>\n",
       "      <th>share_sales_%</th>\n",
       "    </tr>\n",
       "  </thead>\n",
       "  <tbody>\n",
       "    <tr>\n",
       "      <th>0</th>\n",
       "      <td>Role-Playing</td>\n",
       "      <td>79.87</td>\n",
       "      <td>32.48</td>\n",
       "    </tr>\n",
       "    <tr>\n",
       "      <th>1</th>\n",
       "      <td>Action</td>\n",
       "      <td>63.63</td>\n",
       "      <td>25.88</td>\n",
       "    </tr>\n",
       "    <tr>\n",
       "      <th>2</th>\n",
       "      <td>Misc</td>\n",
       "      <td>17.85</td>\n",
       "      <td>7.26</td>\n",
       "    </tr>\n",
       "    <tr>\n",
       "      <th>3</th>\n",
       "      <td>Fighting</td>\n",
       "      <td>12.38</td>\n",
       "      <td>5.03</td>\n",
       "    </tr>\n",
       "    <tr>\n",
       "      <th>4</th>\n",
       "      <td>Platform</td>\n",
       "      <td>12.13</td>\n",
       "      <td>4.93</td>\n",
       "    </tr>\n",
       "  </tbody>\n",
       "</table>\n",
       "</div>"
      ],
      "text/plain": [
       "          genre  jp_sales  share_sales_%\n",
       "0  Role-Playing     79.87          32.48\n",
       "1        Action     63.63          25.88\n",
       "2          Misc     17.85           7.26\n",
       "3      Fighting     12.38           5.03\n",
       "4      Platform     12.13           4.93"
      ]
     },
     "metadata": {},
     "output_type": "display_data"
    },
    {
     "name": "stdout",
     "output_type": "stream",
     "text": [
      "Общий объем продаж 245.91 млн. копий\n",
      "Доля ТОП-5 жанров занимает 75.6% в общих продажах по региону.\n",
      "\n",
      "------------------------------------\n",
      "\n",
      "Регион - Другие страны:\n"
     ]
    },
    {
     "data": {
      "text/html": [
       "<div>\n",
       "<style scoped>\n",
       "    .dataframe tbody tr th:only-of-type {\n",
       "        vertical-align: middle;\n",
       "    }\n",
       "\n",
       "    .dataframe tbody tr th {\n",
       "        vertical-align: top;\n",
       "    }\n",
       "\n",
       "    .dataframe thead th {\n",
       "        text-align: right;\n",
       "    }\n",
       "</style>\n",
       "<table border=\"1\" class=\"dataframe\">\n",
       "  <thead>\n",
       "    <tr style=\"text-align: right;\">\n",
       "      <th></th>\n",
       "      <th>genre</th>\n",
       "      <th>other_sales</th>\n",
       "      <th>share_sales_%</th>\n",
       "    </tr>\n",
       "  </thead>\n",
       "  <tbody>\n",
       "    <tr>\n",
       "      <th>0</th>\n",
       "      <td>Action</td>\n",
       "      <td>65.01</td>\n",
       "      <td>30.97</td>\n",
       "    </tr>\n",
       "    <tr>\n",
       "      <th>1</th>\n",
       "      <td>Shooter</td>\n",
       "      <td>48.54</td>\n",
       "      <td>23.13</td>\n",
       "    </tr>\n",
       "    <tr>\n",
       "      <th>2</th>\n",
       "      <td>Sports</td>\n",
       "      <td>28.94</td>\n",
       "      <td>13.79</td>\n",
       "    </tr>\n",
       "    <tr>\n",
       "      <th>3</th>\n",
       "      <td>Role-Playing</td>\n",
       "      <td>19.68</td>\n",
       "      <td>9.38</td>\n",
       "    </tr>\n",
       "    <tr>\n",
       "      <th>4</th>\n",
       "      <td>Misc</td>\n",
       "      <td>12.43</td>\n",
       "      <td>5.92</td>\n",
       "    </tr>\n",
       "  </tbody>\n",
       "</table>\n",
       "</div>"
      ],
      "text/plain": [
       "          genre  other_sales  share_sales_%\n",
       "0        Action        65.01          30.97\n",
       "1       Shooter        48.54          23.13\n",
       "2        Sports        28.94          13.79\n",
       "3  Role-Playing        19.68           9.38\n",
       "4          Misc        12.43           5.92"
      ]
     },
     "metadata": {},
     "output_type": "display_data"
    },
    {
     "name": "stdout",
     "output_type": "stream",
     "text": [
      "Общий объем продаж 209.9 млн. копий\n",
      "Доля ТОП-5 жанров занимает 83.2% в общих продажах по региону.\n",
      "\n",
      "------------------------------------\n",
      "\n"
     ]
    }
   ],
   "source": [
    "for region in regions.keys():\n",
    "    show_sales_region(region, df_6_years, 'genre', 'жанров')"
   ]
  },
  {
   "cell_type": "markdown",
   "id": "de1b86f6",
   "metadata": {},
   "source": [
    "##### Вывод"
   ]
  },
  {
   "cell_type": "markdown",
   "id": "06837d1e",
   "metadata": {},
   "source": [
    "При изучении жанров по всем годам, выделим следующее, доля ТОП-5 жанров составляет во всех регионах от 68% до 72%. В трех региона в Америке, Европе и других странах идентичная картина, в ТОП-5 жанрах - высокая доля Action, Sports, Racing, а также Shooter/Platform, Misc, а в Японии выделяется жанр Role-Playing, есть в топе также Action, Sports, Platform, Misc.\n",
    "\n",
    "За последние 6 лет, можно сказать, что ТОП-5 жанров есть изменения. Занимают ТОП-5 в общем объеме от 75% до 83%. В каждом регионе добавился жанр Role-Playing. Однако и среди ТОП-5 есть свои особенные лидеры в каждом регионе. В Америке 3 жанра - Action, Shooter и Sports; в Европе 3 жанра - Action, Shooter и Sports; в Японии 2 жанра - Role-Playing и Action; в других странах, как в Европе и Америка 3 платформы - Action, Shooter и Sports."
   ]
  },
  {
   "cell_type": "markdown",
   "id": "f00a8904",
   "metadata": {},
   "source": [
    "### Влияет ли рейтинг ESRB"
   ]
  },
  {
   "cell_type": "markdown",
   "id": "f988274a",
   "metadata": {},
   "source": [
    "Аналогично предыдущим исследованиям, будем проводить два вида: за все года и за последние 6 лет."
   ]
  },
  {
   "cell_type": "markdown",
   "id": "992fc766",
   "metadata": {},
   "source": [
    "Выведим все категории с количеством игр:"
   ]
  },
  {
   "cell_type": "code",
   "execution_count": 95,
   "id": "586ba06a",
   "metadata": {
    "scrolled": true
   },
   "outputs": [
    {
     "data": {
      "text/plain": [
       "categorii_rating\n",
       "Без рейтинга                   6268\n",
       "Для всех                       4128\n",
       "Подросткам                     3059\n",
       "Для взрослых                   1646\n",
       "От 10 лет и старше             1463\n",
       "Для детей младшего возраста      10\n",
       "Name: categorii_rating, dtype: int64"
      ]
     },
     "execution_count": 95,
     "metadata": {},
     "output_type": "execute_result"
    }
   ],
   "source": [
    "df.groupby('categorii_rating')['categorii_rating'].count().sort_values(ascending=False)"
   ]
  },
  {
   "cell_type": "markdown",
   "id": "5276d6dd",
   "metadata": {},
   "source": [
    "Выведим самые популярные возрастные рейтинги по каждому региону за все года"
   ]
  },
  {
   "cell_type": "code",
   "execution_count": 96,
   "id": "345f109c",
   "metadata": {
    "scrolled": false
   },
   "outputs": [
    {
     "name": "stdout",
     "output_type": "stream",
     "text": [
      "Регион - Северная Америка:\n"
     ]
    },
    {
     "data": {
      "text/html": [
       "<div>\n",
       "<style scoped>\n",
       "    .dataframe tbody tr th:only-of-type {\n",
       "        vertical-align: middle;\n",
       "    }\n",
       "\n",
       "    .dataframe tbody tr th {\n",
       "        vertical-align: top;\n",
       "    }\n",
       "\n",
       "    .dataframe thead th {\n",
       "        text-align: right;\n",
       "    }\n",
       "</style>\n",
       "<table border=\"1\" class=\"dataframe\">\n",
       "  <thead>\n",
       "    <tr style=\"text-align: right;\">\n",
       "      <th></th>\n",
       "      <th>categorii_rating</th>\n",
       "      <th>na_sales</th>\n",
       "      <th>share_sales_%</th>\n",
       "    </tr>\n",
       "  </thead>\n",
       "  <tbody>\n",
       "    <tr>\n",
       "      <th>0</th>\n",
       "      <td>Для всех</td>\n",
       "      <td>1341.46</td>\n",
       "      <td>30.66</td>\n",
       "    </tr>\n",
       "    <tr>\n",
       "      <th>1</th>\n",
       "      <td>Без рейтинга</td>\n",
       "      <td>1122.44</td>\n",
       "      <td>25.65</td>\n",
       "    </tr>\n",
       "    <tr>\n",
       "      <th>2</th>\n",
       "      <td>Подросткам</td>\n",
       "      <td>776.05</td>\n",
       "      <td>17.74</td>\n",
       "    </tr>\n",
       "    <tr>\n",
       "      <th>3</th>\n",
       "      <td>Для взрослых</td>\n",
       "      <td>768.32</td>\n",
       "      <td>17.56</td>\n",
       "    </tr>\n",
       "    <tr>\n",
       "      <th>4</th>\n",
       "      <td>От 10 лет и старше</td>\n",
       "      <td>365.00</td>\n",
       "      <td>8.34</td>\n",
       "    </tr>\n",
       "  </tbody>\n",
       "</table>\n",
       "</div>"
      ],
      "text/plain": [
       "     categorii_rating  na_sales  share_sales_%\n",
       "0            Для всех   1341.46          30.66\n",
       "1        Без рейтинга   1122.44          25.65\n",
       "2          Подросткам    776.05          17.74\n",
       "3        Для взрослых    768.32          17.56\n",
       "4  От 10 лет и старше    365.00           8.34"
      ]
     },
     "metadata": {},
     "output_type": "display_data"
    },
    {
     "name": "stdout",
     "output_type": "stream",
     "text": [
      "Общий объем продаж 4375.31 млн. копий\n",
      "Доля ТОП-5 возрастных рейтингов занимает 100.0% в общих продажах по региону.\n",
      "\n",
      "------------------------------------\n",
      "\n",
      "Регион - Европа:\n"
     ]
    },
    {
     "data": {
      "text/html": [
       "<div>\n",
       "<style scoped>\n",
       "    .dataframe tbody tr th:only-of-type {\n",
       "        vertical-align: middle;\n",
       "    }\n",
       "\n",
       "    .dataframe tbody tr th {\n",
       "        vertical-align: top;\n",
       "    }\n",
       "\n",
       "    .dataframe thead th {\n",
       "        text-align: right;\n",
       "    }\n",
       "</style>\n",
       "<table border=\"1\" class=\"dataframe\">\n",
       "  <thead>\n",
       "    <tr style=\"text-align: right;\">\n",
       "      <th></th>\n",
       "      <th>categorii_rating</th>\n",
       "      <th>eu_sales</th>\n",
       "      <th>share_sales_%</th>\n",
       "    </tr>\n",
       "  </thead>\n",
       "  <tbody>\n",
       "    <tr>\n",
       "      <th>0</th>\n",
       "      <td>Для всех</td>\n",
       "      <td>733.50</td>\n",
       "      <td>30.35</td>\n",
       "    </tr>\n",
       "    <tr>\n",
       "      <th>1</th>\n",
       "      <td>Без рейтинга</td>\n",
       "      <td>545.45</td>\n",
       "      <td>22.57</td>\n",
       "    </tr>\n",
       "    <tr>\n",
       "      <th>2</th>\n",
       "      <td>Для взрослых</td>\n",
       "      <td>501.79</td>\n",
       "      <td>20.76</td>\n",
       "    </tr>\n",
       "    <tr>\n",
       "      <th>3</th>\n",
       "      <td>Подросткам</td>\n",
       "      <td>441.08</td>\n",
       "      <td>18.25</td>\n",
       "    </tr>\n",
       "    <tr>\n",
       "      <th>4</th>\n",
       "      <td>От 10 лет и старше</td>\n",
       "      <td>195.14</td>\n",
       "      <td>8.07</td>\n",
       "    </tr>\n",
       "  </tbody>\n",
       "</table>\n",
       "</div>"
      ],
      "text/plain": [
       "     categorii_rating  eu_sales  share_sales_%\n",
       "0            Для всех    733.50          30.35\n",
       "1        Без рейтинга    545.45          22.57\n",
       "2        Для взрослых    501.79          20.76\n",
       "3          Подросткам    441.08          18.25\n",
       "4  От 10 лет и старше    195.14           8.07"
      ]
     },
     "metadata": {},
     "output_type": "display_data"
    },
    {
     "name": "stdout",
     "output_type": "stream",
     "text": [
      "Общий объем продаж 2417.07 млн. копий\n",
      "Доля ТОП-5 возрастных рейтингов занимает 100.0% в общих продажах по региону.\n",
      "\n",
      "------------------------------------\n",
      "\n",
      "Регион - Япония:\n"
     ]
    },
    {
     "data": {
      "text/html": [
       "<div>\n",
       "<style scoped>\n",
       "    .dataframe tbody tr th:only-of-type {\n",
       "        vertical-align: middle;\n",
       "    }\n",
       "\n",
       "    .dataframe tbody tr th {\n",
       "        vertical-align: top;\n",
       "    }\n",
       "\n",
       "    .dataframe thead th {\n",
       "        text-align: right;\n",
       "    }\n",
       "</style>\n",
       "<table border=\"1\" class=\"dataframe\">\n",
       "  <thead>\n",
       "    <tr style=\"text-align: right;\">\n",
       "      <th></th>\n",
       "      <th>categorii_rating</th>\n",
       "      <th>jp_sales</th>\n",
       "      <th>share_sales_%</th>\n",
       "    </tr>\n",
       "  </thead>\n",
       "  <tbody>\n",
       "    <tr>\n",
       "      <th>0</th>\n",
       "      <td>Без рейтинга</td>\n",
       "      <td>800.46</td>\n",
       "      <td>61.93</td>\n",
       "    </tr>\n",
       "    <tr>\n",
       "      <th>1</th>\n",
       "      <td>Для всех</td>\n",
       "      <td>213.23</td>\n",
       "      <td>16.50</td>\n",
       "    </tr>\n",
       "    <tr>\n",
       "      <th>2</th>\n",
       "      <td>Подросткам</td>\n",
       "      <td>159.68</td>\n",
       "      <td>12.35</td>\n",
       "    </tr>\n",
       "    <tr>\n",
       "      <th>3</th>\n",
       "      <td>Для взрослых</td>\n",
       "      <td>67.79</td>\n",
       "      <td>5.24</td>\n",
       "    </tr>\n",
       "    <tr>\n",
       "      <th>4</th>\n",
       "      <td>От 10 лет и старше</td>\n",
       "      <td>51.44</td>\n",
       "      <td>3.98</td>\n",
       "    </tr>\n",
       "  </tbody>\n",
       "</table>\n",
       "</div>"
      ],
      "text/plain": [
       "     categorii_rating  jp_sales  share_sales_%\n",
       "0        Без рейтинга    800.46          61.93\n",
       "1            Для всех    213.23          16.50\n",
       "2          Подросткам    159.68          12.35\n",
       "3        Для взрослых     67.79           5.24\n",
       "4  От 10 лет и старше     51.44           3.98"
      ]
     },
     "metadata": {},
     "output_type": "display_data"
    },
    {
     "name": "stdout",
     "output_type": "stream",
     "text": [
      "Общий объем продаж 1292.6 млн. копий\n",
      "Доля ТОП-5 возрастных рейтингов занимает 100.0% в общих продажах по региону.\n",
      "\n",
      "------------------------------------\n",
      "\n",
      "Регион - Другие страны:\n"
     ]
    },
    {
     "data": {
      "text/html": [
       "<div>\n",
       "<style scoped>\n",
       "    .dataframe tbody tr th:only-of-type {\n",
       "        vertical-align: middle;\n",
       "    }\n",
       "\n",
       "    .dataframe tbody tr th {\n",
       "        vertical-align: top;\n",
       "    }\n",
       "\n",
       "    .dataframe thead th {\n",
       "        text-align: right;\n",
       "    }\n",
       "</style>\n",
       "<table border=\"1\" class=\"dataframe\">\n",
       "  <thead>\n",
       "    <tr style=\"text-align: right;\">\n",
       "      <th></th>\n",
       "      <th>categorii_rating</th>\n",
       "      <th>other_sales</th>\n",
       "      <th>share_sales_%</th>\n",
       "    </tr>\n",
       "  </thead>\n",
       "  <tbody>\n",
       "    <tr>\n",
       "      <th>0</th>\n",
       "      <td>Для всех</td>\n",
       "      <td>238.53</td>\n",
       "      <td>30.25</td>\n",
       "    </tr>\n",
       "    <tr>\n",
       "      <th>1</th>\n",
       "      <td>Для взрослых</td>\n",
       "      <td>181.92</td>\n",
       "      <td>23.07</td>\n",
       "    </tr>\n",
       "    <tr>\n",
       "      <th>2</th>\n",
       "      <td>Подросткам</td>\n",
       "      <td>158.14</td>\n",
       "      <td>20.05</td>\n",
       "    </tr>\n",
       "    <tr>\n",
       "      <th>3</th>\n",
       "      <td>Без рейтинга</td>\n",
       "      <td>134.25</td>\n",
       "      <td>17.02</td>\n",
       "    </tr>\n",
       "    <tr>\n",
       "      <th>4</th>\n",
       "      <td>От 10 лет и старше</td>\n",
       "      <td>75.58</td>\n",
       "      <td>9.58</td>\n",
       "    </tr>\n",
       "  </tbody>\n",
       "</table>\n",
       "</div>"
      ],
      "text/plain": [
       "     categorii_rating  other_sales  share_sales_%\n",
       "0            Для всех       238.53          30.25\n",
       "1        Для взрослых       181.92          23.07\n",
       "2          Подросткам       158.14          20.05\n",
       "3        Без рейтинга       134.25          17.02\n",
       "4  От 10 лет и старше        75.58           9.58"
      ]
     },
     "metadata": {},
     "output_type": "display_data"
    },
    {
     "name": "stdout",
     "output_type": "stream",
     "text": [
      "Общий объем продаж 788.57 млн. копий\n",
      "Доля ТОП-5 возрастных рейтингов занимает 100.0% в общих продажах по региону.\n",
      "\n",
      "------------------------------------\n",
      "\n"
     ]
    }
   ],
   "source": [
    "for region in regions.keys():\n",
    "    show_sales_region(region, df, 'categorii_rating', 'возрастных рейтингов')"
   ]
  },
  {
   "cell_type": "markdown",
   "id": "e133a3c9",
   "metadata": {},
   "source": [
    "Сформируем популярные возрастные рейтинги за последние 6 лет, половина среднего жизненного цикла платформ. Посмотрим текущие предпочтения пользователей."
   ]
  },
  {
   "cell_type": "code",
   "execution_count": 97,
   "id": "c98c82bb",
   "metadata": {},
   "outputs": [
    {
     "name": "stdout",
     "output_type": "stream",
     "text": [
      "Регион - Северная Америка:\n"
     ]
    },
    {
     "data": {
      "text/html": [
       "<div>\n",
       "<style scoped>\n",
       "    .dataframe tbody tr th:only-of-type {\n",
       "        vertical-align: middle;\n",
       "    }\n",
       "\n",
       "    .dataframe tbody tr th {\n",
       "        vertical-align: top;\n",
       "    }\n",
       "\n",
       "    .dataframe thead th {\n",
       "        text-align: right;\n",
       "    }\n",
       "</style>\n",
       "<table border=\"1\" class=\"dataframe\">\n",
       "  <thead>\n",
       "    <tr style=\"text-align: right;\">\n",
       "      <th></th>\n",
       "      <th>categorii_rating</th>\n",
       "      <th>na_sales</th>\n",
       "      <th>share_sales_%</th>\n",
       "    </tr>\n",
       "  </thead>\n",
       "  <tbody>\n",
       "    <tr>\n",
       "      <th>0</th>\n",
       "      <td>Для взрослых</td>\n",
       "      <td>320.00</td>\n",
       "      <td>38.39</td>\n",
       "    </tr>\n",
       "    <tr>\n",
       "      <th>1</th>\n",
       "      <td>Для всех</td>\n",
       "      <td>174.15</td>\n",
       "      <td>20.89</td>\n",
       "    </tr>\n",
       "    <tr>\n",
       "      <th>2</th>\n",
       "      <td>От 10 лет и старше</td>\n",
       "      <td>122.29</td>\n",
       "      <td>14.67</td>\n",
       "    </tr>\n",
       "    <tr>\n",
       "      <th>3</th>\n",
       "      <td>Подросткам</td>\n",
       "      <td>115.72</td>\n",
       "      <td>13.88</td>\n",
       "    </tr>\n",
       "    <tr>\n",
       "      <th>4</th>\n",
       "      <td>Без рейтинга</td>\n",
       "      <td>101.01</td>\n",
       "      <td>12.12</td>\n",
       "    </tr>\n",
       "  </tbody>\n",
       "</table>\n",
       "</div>"
      ],
      "text/plain": [
       "     categorii_rating  na_sales  share_sales_%\n",
       "0        Для взрослых    320.00          38.39\n",
       "1            Для всех    174.15          20.89\n",
       "2  От 10 лет и старше    122.29          14.67\n",
       "3          Подросткам    115.72          13.88\n",
       "4        Без рейтинга    101.01          12.12"
      ]
     },
     "metadata": {},
     "output_type": "display_data"
    },
    {
     "name": "stdout",
     "output_type": "stream",
     "text": [
      "Общий объем продаж 833.59 млн. копий\n",
      "Доля ТОП-5 возрастных категорий занимает 100.0% в общих продажах по региону.\n",
      "\n",
      "------------------------------------\n",
      "\n",
      "Регион - Европа:\n"
     ]
    },
    {
     "data": {
      "text/html": [
       "<div>\n",
       "<style scoped>\n",
       "    .dataframe tbody tr th:only-of-type {\n",
       "        vertical-align: middle;\n",
       "    }\n",
       "\n",
       "    .dataframe tbody tr th {\n",
       "        vertical-align: top;\n",
       "    }\n",
       "\n",
       "    .dataframe thead th {\n",
       "        text-align: right;\n",
       "    }\n",
       "</style>\n",
       "<table border=\"1\" class=\"dataframe\">\n",
       "  <thead>\n",
       "    <tr style=\"text-align: right;\">\n",
       "      <th></th>\n",
       "      <th>categorii_rating</th>\n",
       "      <th>eu_sales</th>\n",
       "      <th>share_sales_%</th>\n",
       "    </tr>\n",
       "  </thead>\n",
       "  <tbody>\n",
       "    <tr>\n",
       "      <th>0</th>\n",
       "      <td>Для взрослых</td>\n",
       "      <td>263.45</td>\n",
       "      <td>39.13</td>\n",
       "    </tr>\n",
       "    <tr>\n",
       "      <th>1</th>\n",
       "      <td>Для всех</td>\n",
       "      <td>144.60</td>\n",
       "      <td>21.48</td>\n",
       "    </tr>\n",
       "    <tr>\n",
       "      <th>2</th>\n",
       "      <td>Без рейтинга</td>\n",
       "      <td>94.15</td>\n",
       "      <td>13.98</td>\n",
       "    </tr>\n",
       "    <tr>\n",
       "      <th>3</th>\n",
       "      <td>Подросткам</td>\n",
       "      <td>88.67</td>\n",
       "      <td>13.17</td>\n",
       "    </tr>\n",
       "    <tr>\n",
       "      <th>4</th>\n",
       "      <td>От 10 лет и старше</td>\n",
       "      <td>82.45</td>\n",
       "      <td>12.25</td>\n",
       "    </tr>\n",
       "  </tbody>\n",
       "</table>\n",
       "</div>"
      ],
      "text/plain": [
       "     categorii_rating  eu_sales  share_sales_%\n",
       "0        Для взрослых    263.45          39.13\n",
       "1            Для всех    144.60          21.48\n",
       "2        Без рейтинга     94.15          13.98\n",
       "3          Подросткам     88.67          13.17\n",
       "4  От 10 лет и старше     82.45          12.25"
      ]
     },
     "metadata": {},
     "output_type": "display_data"
    },
    {
     "name": "stdout",
     "output_type": "stream",
     "text": [
      "Общий объем продаж 673.32 млн. копий\n",
      "Доля ТОП-5 возрастных категорий занимает 100.0% в общих продажах по региону.\n",
      "\n",
      "------------------------------------\n",
      "\n",
      "Регион - Япония:\n"
     ]
    },
    {
     "data": {
      "text/html": [
       "<div>\n",
       "<style scoped>\n",
       "    .dataframe tbody tr th:only-of-type {\n",
       "        vertical-align: middle;\n",
       "    }\n",
       "\n",
       "    .dataframe tbody tr th {\n",
       "        vertical-align: top;\n",
       "    }\n",
       "\n",
       "    .dataframe thead th {\n",
       "        text-align: right;\n",
       "    }\n",
       "</style>\n",
       "<table border=\"1\" class=\"dataframe\">\n",
       "  <thead>\n",
       "    <tr style=\"text-align: right;\">\n",
       "      <th></th>\n",
       "      <th>categorii_rating</th>\n",
       "      <th>jp_sales</th>\n",
       "      <th>share_sales_%</th>\n",
       "    </tr>\n",
       "  </thead>\n",
       "  <tbody>\n",
       "    <tr>\n",
       "      <th>0</th>\n",
       "      <td>Без рейтинга</td>\n",
       "      <td>129.71</td>\n",
       "      <td>52.75</td>\n",
       "    </tr>\n",
       "    <tr>\n",
       "      <th>1</th>\n",
       "      <td>Подросткам</td>\n",
       "      <td>39.13</td>\n",
       "      <td>15.91</td>\n",
       "    </tr>\n",
       "    <tr>\n",
       "      <th>2</th>\n",
       "      <td>Для всех</td>\n",
       "      <td>37.62</td>\n",
       "      <td>15.30</td>\n",
       "    </tr>\n",
       "    <tr>\n",
       "      <th>3</th>\n",
       "      <td>Для взрослых</td>\n",
       "      <td>27.84</td>\n",
       "      <td>11.32</td>\n",
       "    </tr>\n",
       "    <tr>\n",
       "      <th>4</th>\n",
       "      <td>От 10 лет и старше</td>\n",
       "      <td>11.61</td>\n",
       "      <td>4.72</td>\n",
       "    </tr>\n",
       "  </tbody>\n",
       "</table>\n",
       "</div>"
      ],
      "text/plain": [
       "     categorii_rating  jp_sales  share_sales_%\n",
       "0        Без рейтинга    129.71          52.75\n",
       "1          Подросткам     39.13          15.91\n",
       "2            Для всех     37.62          15.30\n",
       "3        Для взрослых     27.84          11.32\n",
       "4  От 10 лет и старше     11.61           4.72"
      ]
     },
     "metadata": {},
     "output_type": "display_data"
    },
    {
     "name": "stdout",
     "output_type": "stream",
     "text": [
      "Общий объем продаж 245.91 млн. копий\n",
      "Доля ТОП-5 возрастных категорий занимает 100.0% в общих продажах по региону.\n",
      "\n",
      "------------------------------------\n",
      "\n",
      "Регион - Другие страны:\n"
     ]
    },
    {
     "data": {
      "text/html": [
       "<div>\n",
       "<style scoped>\n",
       "    .dataframe tbody tr th:only-of-type {\n",
       "        vertical-align: middle;\n",
       "    }\n",
       "\n",
       "    .dataframe tbody tr th {\n",
       "        vertical-align: top;\n",
       "    }\n",
       "\n",
       "    .dataframe thead th {\n",
       "        text-align: right;\n",
       "    }\n",
       "</style>\n",
       "<table border=\"1\" class=\"dataframe\">\n",
       "  <thead>\n",
       "    <tr style=\"text-align: right;\">\n",
       "      <th></th>\n",
       "      <th>categorii_rating</th>\n",
       "      <th>other_sales</th>\n",
       "      <th>share_sales_%</th>\n",
       "    </tr>\n",
       "  </thead>\n",
       "  <tbody>\n",
       "    <tr>\n",
       "      <th>0</th>\n",
       "      <td>Для взрослых</td>\n",
       "      <td>86.07</td>\n",
       "      <td>41.01</td>\n",
       "    </tr>\n",
       "    <tr>\n",
       "      <th>1</th>\n",
       "      <td>Для всех</td>\n",
       "      <td>41.71</td>\n",
       "      <td>19.87</td>\n",
       "    </tr>\n",
       "    <tr>\n",
       "      <th>2</th>\n",
       "      <td>Подросткам</td>\n",
       "      <td>30.16</td>\n",
       "      <td>14.37</td>\n",
       "    </tr>\n",
       "    <tr>\n",
       "      <th>3</th>\n",
       "      <td>Без рейтинга</td>\n",
       "      <td>26.81</td>\n",
       "      <td>12.77</td>\n",
       "    </tr>\n",
       "    <tr>\n",
       "      <th>4</th>\n",
       "      <td>От 10 лет и старше</td>\n",
       "      <td>25.12</td>\n",
       "      <td>11.97</td>\n",
       "    </tr>\n",
       "  </tbody>\n",
       "</table>\n",
       "</div>"
      ],
      "text/plain": [
       "     categorii_rating  other_sales  share_sales_%\n",
       "0        Для взрослых        86.07          41.01\n",
       "1            Для всех        41.71          19.87\n",
       "2          Подросткам        30.16          14.37\n",
       "3        Без рейтинга        26.81          12.77\n",
       "4  От 10 лет и старше        25.12          11.97"
      ]
     },
     "metadata": {},
     "output_type": "display_data"
    },
    {
     "name": "stdout",
     "output_type": "stream",
     "text": [
      "Общий объем продаж 209.9 млн. копий\n",
      "Доля ТОП-5 возрастных категорий занимает 100.0% в общих продажах по региону.\n",
      "\n",
      "------------------------------------\n",
      "\n"
     ]
    }
   ],
   "source": [
    "for region in regions.keys():\n",
    "    show_sales_region(region, df_6_years, 'categorii_rating', 'возрастных категорий')"
   ]
  },
  {
   "cell_type": "markdown",
   "id": "60a04569",
   "metadata": {},
   "source": [
    "##### Вывод"
   ]
  },
  {
   "cell_type": "markdown",
   "id": "2e8124f6",
   "metadata": {},
   "source": [
    "При изучении возрастных рейтингов по всем годам, стоит учесть, что сам рейтинг появился в 1994 году, поэтому его доля очень высокая если смотреть по всем годах. Поэтому при выводах по всем годам его опустим. Основные рейтинги составляют во всех регионах почти 100%. Во всех регионах лидирует возрастной рейтинг \"Для всех\". Далее идут \"Для взрослых\" и для \"Подростков\". Меньше всех по всем регионам \"От 10 лет и старше\".\n",
    "\n",
    "За последние 6 лет, в регионах Европа, Северная Америка и другие страны, большую часть всех продаж занимают два рейтинга \"Для взрослых\" и \"Для всех\". Япония, как и в других исследованиях, немного отличается, в Японии большинство продаж на группу \"Без рейтинга\", судя по всему у них не сильно пользуется популярностью категоризация по возрасту, либо это местные разработчики игр не подающие свои разработки на категоризацию в американскую компанию. Также стоит отметить, что в Японии больше, чем в других регионах по доле продаются игры с рейтингами для \"Подростков\" и \"Для всех\", а \"для взрослых\" на 4 месте, хотя как мы сказали выше в Америке, Европе и дригих регионах особой популярностью и на первом месте игры \"Для взрослых\""
   ]
  },
  {
   "cell_type": "markdown",
   "id": "d927647d",
   "metadata": {},
   "source": [
    "## Проверка гипотез"
   ]
  },
  {
   "cell_type": "markdown",
   "id": "70756c3c",
   "metadata": {},
   "source": [
    "### Гипотеза 1"
   ]
  },
  {
   "cell_type": "markdown",
   "id": "36ab7590",
   "metadata": {},
   "source": [
    "Нам необходимо проверить гипотезу `Средние пользовательские рейтинги платформ Xbox One и PC одинаковые`"
   ]
  },
  {
   "cell_type": "markdown",
   "id": "ba8bebeb",
   "metadata": {},
   "source": [
    "<p>Введем основную и альтернативные гипотезы:</p>\n",
    "\n",
    "$\\begin{equation*}\n",
    " \\begin{cases}\n",
    "   H_0 :\\text{Средние по выборке пользовательские рейтинги платформ Xbox One и PC одинаковы}\\\\\n",
    "   H_1 :\\text{Средняя по выборке пользовательские рейтинги платформ Xbox One и PC различаются}\n",
    " \\end{cases}\n",
    "\\end{equation*}$\n",
    "\n",
    "Уровень значимости: $\\alpha = 0.05$"
   ]
  },
  {
   "cell_type": "markdown",
   "id": "99f5d865",
   "metadata": {},
   "source": [
    "Установим критический уровень статистической значимости"
   ]
  },
  {
   "cell_type": "code",
   "execution_count": 98,
   "id": "41bb7e1c",
   "metadata": {},
   "outputs": [],
   "source": [
    "alpha = .05"
   ]
  },
  {
   "cell_type": "markdown",
   "id": "f870e85c",
   "metadata": {},
   "source": [
    "Создадим датафрейм с актуальным периодом в 6 лет:"
   ]
  },
  {
   "cell_type": "code",
   "execution_count": 99,
   "id": "a046326d",
   "metadata": {},
   "outputs": [],
   "source": [
    "df_actual = df[df['year_of_release'] > 2010]"
   ]
  },
  {
   "cell_type": "markdown",
   "id": "a718a56b",
   "metadata": {},
   "source": [
    "Выделим совокупности значений продаж по платформам Xbox One и PC, пропущенные значения удалим. На них будем проверять гипотезы."
   ]
  },
  {
   "cell_type": "code",
   "execution_count": 100,
   "id": "0916bbf0",
   "metadata": {},
   "outputs": [],
   "source": [
    "xbox_one = df_actual[df_actual['platform'] == 'XOne']['user_score'].dropna()\n",
    "pc = df_actual[df_actual['platform'] == 'PC']['user_score'].dropna()"
   ]
  },
  {
   "cell_type": "markdown",
   "id": "bd99a88d",
   "metadata": {},
   "source": [
    "#### Проверим на нормальность распределения"
   ]
  },
  {
   "cell_type": "code",
   "execution_count": 101,
   "id": "27471c0a",
   "metadata": {},
   "outputs": [
    {
     "data": {
      "image/png": "[encoded data removed]",
      "text/plain": [
       "<Figure size 360x360 with 1 Axes>"
      ]
     },
     "metadata": {
      "needs_background": "light"
     },
     "output_type": "display_data"
    },
    {
     "data": {
      "image/png": "[encoded data removed]",
      "text/plain": [
       "<Figure size 360x360 with 1 Axes>"
      ]
     },
     "metadata": {
      "needs_background": "light"
     },
     "output_type": "display_data"
    }
   ],
   "source": [
    "ax = sns.displot(xbox_one, kde=True);\n",
    "ax.fig.suptitle('Гистограмма и график плотности по платформе Xbox One');\n",
    "ax.set_axis_labels('Оценка пользователей, баллов' , 'Количество оценок');\n",
    "ax = sns.displot(pc, kde=True);\n",
    "ax.fig.suptitle('Гистограмма и график плотности по платформе PC');\n",
    "ax.set_axis_labels('Оценка пользователей, баллов' , 'Количество оценок');"
   ]
  },
  {
   "cell_type": "markdown",
   "id": "6aae20e8",
   "metadata": {},
   "source": [
    "##### Вывод"
   ]
  },
  {
   "cell_type": "markdown",
   "id": "c250a21b",
   "metadata": {},
   "source": [
    "График плотности и гистограмма показывают нормальное распределение на проверяемых платформах, в каждом с левосторонней скошенностью"
   ]
  },
  {
   "cell_type": "markdown",
   "id": "caf500c1",
   "metadata": {},
   "source": [
    "#### Проверка нормального распределения при помощи QQ-графиков"
   ]
  },
  {
   "cell_type": "code",
   "execution_count": 102,
   "id": "7b738fc8",
   "metadata": {},
   "outputs": [
    {
     "data": {
      "image/png": "[encoded data removed]",
      "text/plain": [
       "<Figure size 864x576 with 2 Axes>"
      ]
     },
     "metadata": {
      "needs_background": "light"
     },
     "output_type": "display_data"
    }
   ],
   "source": [
    "# строим qq-plot для нормального распределения\n",
    "plt.figure(figsize=(12,8))\n",
    "plt.subplot(2,2,1)\n",
    "st.probplot(xbox_one, dist=\"norm\", plot=plt)\n",
    "plt.subplot(2,2,2)\n",
    "st.probplot(pc, dist=\"norm\", plot=plt)\n",
    "plt.show()"
   ]
  },
  {
   "cell_type": "markdown",
   "id": "1fa07936",
   "metadata": {},
   "source": [
    "##### Вывод"
   ]
  },
  {
   "cell_type": "markdown",
   "id": "f6ecd24a",
   "metadata": {},
   "source": [
    "Графики Q-Q показывают нормальное распределение."
   ]
  },
  {
   "cell_type": "markdown",
   "id": "112e7c5c",
   "metadata": {},
   "source": [
    "#### Двусторонняя проверка гипотезы"
   ]
  },
  {
   "cell_type": "markdown",
   "id": "b074ec4b",
   "metadata": {},
   "source": [
    "Проверим гипотезу о равенстве средних двух независимых совокупностей:"
   ]
  },
  {
   "cell_type": "markdown",
   "id": "08262712",
   "metadata": {},
   "source": [
    "Посчитаем p-value, используя ttest из библиотеки scipy для сравнения средних двух выборок."
   ]
  },
  {
   "cell_type": "code",
   "execution_count": 103,
   "id": "e4ee0b1d",
   "metadata": {},
   "outputs": [],
   "source": [
    "result_platform = st.ttest_ind(xbox_one, pc, equal_var=False)"
   ]
  },
  {
   "cell_type": "code",
   "execution_count": 104,
   "id": "4149e006",
   "metadata": {},
   "outputs": [
    {
     "name": "stdout",
     "output_type": "stream",
     "text": [
      "Результат p-value - 0.2732724426484239\n"
     ]
    }
   ],
   "source": [
    "print('Результат p-value -', result_platform.pvalue)"
   ]
  },
  {
   "cell_type": "markdown",
   "id": "969a8949",
   "metadata": {},
   "source": [
    "Если p-value будет меньше выбранного уровня значимости  𝛼=0.05 , то нулевую гипотезу о различии средних отвергнем. Иначе сделаем вывод, что данные не позволили нам отвергнуть нулевую гипотезу."
   ]
  },
  {
   "cell_type": "code",
   "execution_count": 105,
   "id": "c69190c4",
   "metadata": {},
   "outputs": [
    {
     "name": "stdout",
     "output_type": "stream",
     "text": [
      "Не получилось отвергнуть нулевую гипотезу\n"
     ]
    }
   ],
   "source": [
    "if result_platform.pvalue < alpha:\n",
    "    print('Отвергаем нулевую гипотезу')\n",
    "else:\n",
    "    print('Не получилось отвергнуть нулевую гипотезу')"
   ]
  },
  {
   "cell_type": "markdown",
   "id": "af62009d",
   "metadata": {},
   "source": [
    "Воспользуемся тем, что выборки связаны:"
   ]
  },
  {
   "cell_type": "code",
   "execution_count": 106,
   "id": "edec0c01",
   "metadata": {},
   "outputs": [
    {
     "name": "stdout",
     "output_type": "stream",
     "text": [
      "Результат p-value - 0.28936196757705646\n",
      "Не получилось отвергнуть нулевую гипотезу\n"
     ]
    }
   ],
   "source": [
    "result_platform = st.ttest_ind(xbox_one, pc)\n",
    "\n",
    "print('Результат p-value -', result_platform.pvalue)\n",
    "\n",
    "if result_platform.pvalue < alpha:\n",
    "    print('Отвергаем нулевую гипотезу')\n",
    "else:\n",
    "    print('Не получилось отвергнуть нулевую гипотезу')"
   ]
  },
  {
   "cell_type": "markdown",
   "id": "64919a6d",
   "metadata": {},
   "source": [
    "##### Вывод"
   ]
  },
  {
   "cell_type": "markdown",
   "id": "db3b8b19",
   "metadata": {},
   "source": [
    "P-value получилось больше выбранного уровня 𝛼=0.05 . Данные не позволили отвергнуть нулевую гипотезу, поэтому средние пользовательские рейтинги платформ Xbox One и PC одинаковы."
   ]
  },
  {
   "cell_type": "markdown",
   "id": "32a2f260",
   "metadata": {},
   "source": [
    "#### Двусторонняя проверка по непараметрическому тесту Манна-Уитни"
   ]
  },
  {
   "cell_type": "markdown",
   "id": "4ec6f331",
   "metadata": {},
   "source": [
    "Гипотезы оставим прежние, как в прошлой проверке."
   ]
  },
  {
   "cell_type": "markdown",
   "id": "4b27818f",
   "metadata": {},
   "source": [
    "Если p-value будет меньше выбранного уровня значимости  𝛼=0.05 , то нулевую гипотезу о различии средних отвергнем. Иначе сделаем вывод, что данные не позволили нам отвергнуть нулевую гипотезу."
   ]
  },
  {
   "cell_type": "code",
   "execution_count": 107,
   "id": "ea6f68e9",
   "metadata": {},
   "outputs": [
    {
     "name": "stdout",
     "output_type": "stream",
     "text": [
      "p-значение:  0.6675891409491262\n",
      "Не получилось отвергнуть нулевую гипотезу\n"
     ]
    }
   ],
   "source": [
    "results = st.mannwhitneyu(xbox_one, pc, alternative='two-sided')\n",
    "print('p-значение: ', results.pvalue)\n",
    "\n",
    "if results.pvalue < alpha:\n",
    "    print(\"Отвергаем нулевую гипотезу\")\n",
    "else:\n",
    "    print(\"Не получилось отвергнуть нулевую гипотезу\")"
   ]
  },
  {
   "cell_type": "markdown",
   "id": "dd809d62",
   "metadata": {},
   "source": [
    "##### Вывод"
   ]
  },
  {
   "cell_type": "markdown",
   "id": "73db91d8",
   "metadata": {},
   "source": [
    "P-value получилось больше выбранного уровня 𝛼=0.05 . Данные не позволили отвергнуть нулевую гипотезу, поэтому средние пользовательские рейтинги платформ Xbox One и PC одинаковы."
   ]
  },
  {
   "cell_type": "markdown",
   "id": "5f8f21db",
   "metadata": {},
   "source": [
    "#### Вывод по гипотизе №1"
   ]
  },
  {
   "cell_type": "markdown",
   "id": "700c8b53",
   "metadata": {},
   "source": [
    "Мы успешно проверили гипотезу тремя методами, в результате сделали вывод, что средние пользовательские рейтинги платформ Xbox One и PC одинаковы."
   ]
  },
  {
   "cell_type": "markdown",
   "id": "b360913d",
   "metadata": {},
   "source": [
    "### Гипотеза 2"
   ]
  },
  {
   "cell_type": "markdown",
   "id": "6b059473",
   "metadata": {},
   "source": [
    "Нам необходимо проверить гипотезу `Средние пользовательские рейтинги жанров Action и Sports разные.`"
   ]
  },
  {
   "cell_type": "markdown",
   "id": "fcaab24f",
   "metadata": {},
   "source": [
    "<p>Введем основную и альтернативные гипотезы:</p>\n",
    "\n",
    "$\\begin{equation*}\n",
    " \\begin{cases}\n",
    "   H_0 :\\text{Средние по выборке пользовательские рейтинги жанров Action и Sports одинаковые}\\\\\n",
    "   H_1 :\\text{Средние по выборке пользовательские рейтинги жанров Action и Sports различаются}\n",
    " \\end{cases}\n",
    "\\end{equation*}$\n",
    "\n",
    "Уровень значимости: $\\alpha = 0.05$"
   ]
  },
  {
   "cell_type": "markdown",
   "id": "4cee3680",
   "metadata": {},
   "source": [
    "Оставим критический уровень статистической значимости как и в прежней гипотизе"
   ]
  },
  {
   "cell_type": "markdown",
   "id": "4ce511fc",
   "metadata": {},
   "source": [
    "Выделим совокупности значений продаж по жанрам Action и Sports, пропущенные значения удалим. На них будем проверять гипотезы."
   ]
  },
  {
   "cell_type": "code",
   "execution_count": 108,
   "id": "a1a760ed",
   "metadata": {},
   "outputs": [],
   "source": [
    "action = df_actual[df_actual['genre'] == 'Action']['user_score'].dropna()\n",
    "sports = df_actual[df_actual['genre'] == 'Sports']['user_score'].dropna()"
   ]
  },
  {
   "cell_type": "markdown",
   "id": "fc670bab",
   "metadata": {},
   "source": [
    "#### Проверим на нормальность распределения"
   ]
  },
  {
   "cell_type": "code",
   "execution_count": 109,
   "id": "cb79959b",
   "metadata": {},
   "outputs": [
    {
     "data": {
      "image/png": "[encoded data removed]",
      "text/plain": [
       "<Figure size 360x360 with 1 Axes>"
      ]
     },
     "metadata": {
      "needs_background": "light"
     },
     "output_type": "display_data"
    },
    {
     "data": {
      "image/png": "[encoded data removed]",
      "text/plain": [
       "<Figure size 360x360 with 1 Axes>"
      ]
     },
     "metadata": {
      "needs_background": "light"
     },
     "output_type": "display_data"
    }
   ],
   "source": [
    "ax = sns.displot(action, kde=True);\n",
    "ax.fig.suptitle('Гистограмма и график плотности пользовательских оценок по жанру Action');\n",
    "ax.set_axis_labels('Оценка пользователей, баллов' , 'Количество оценок');\n",
    "ax = sns.displot(sports, kde=True);\n",
    "ax.fig.suptitle('Гистограмма и график плотности пользовательских оценок по жанру Sports');\n",
    "ax.set_axis_labels('Оценка пользователей, баллов' , 'Количество оценок');"
   ]
  },
  {
   "cell_type": "markdown",
   "id": "ab388bf2",
   "metadata": {},
   "source": [
    "##### Вывод"
   ]
  },
  {
   "cell_type": "markdown",
   "id": "50707327",
   "metadata": {},
   "source": [
    "График плотности и гистограмма показывают нормальное распределение на проверяемых платформах, в каждом с левосторонней скошенностью"
   ]
  },
  {
   "cell_type": "markdown",
   "id": "ab0f26c4",
   "metadata": {},
   "source": [
    "#### Проверка нормального распределения при помощи QQ-графиков"
   ]
  },
  {
   "cell_type": "code",
   "execution_count": 110,
   "id": "acdfe197",
   "metadata": {},
   "outputs": [
    {
     "data": {
      "image/png": "[encoded data removed]",
      "text/plain": [
       "<Figure size 864x576 with 2 Axes>"
      ]
     },
     "metadata": {
      "needs_background": "light"
     },
     "output_type": "display_data"
    }
   ],
   "source": [
    "# строим qq-plot для нормального распределения\n",
    "plt.figure(figsize=(12,8))\n",
    "plt.subplot(2,2,1)\n",
    "st.probplot(action, dist=\"norm\", plot=plt)\n",
    "plt.subplot(2,2,2)\n",
    "st.probplot(sports, dist=\"norm\", plot=plt)\n",
    "plt.show()"
   ]
  },
  {
   "cell_type": "markdown",
   "id": "bce3bd9f",
   "metadata": {},
   "source": [
    "##### Вывод"
   ]
  },
  {
   "cell_type": "markdown",
   "id": "efcfa4e4",
   "metadata": {},
   "source": [
    "Графики Q-Q показывают нормальное распределение."
   ]
  },
  {
   "cell_type": "markdown",
   "id": "f47789c4",
   "metadata": {},
   "source": [
    "#### Двусторонняя проверка гипотезы"
   ]
  },
  {
   "cell_type": "markdown",
   "id": "2edb6e74",
   "metadata": {},
   "source": [
    "Проверим гипотезу о равенстве средних двух независимых совокупностей:"
   ]
  },
  {
   "cell_type": "markdown",
   "id": "59bb142d",
   "metadata": {},
   "source": [
    "Посчитаем p-value, используя ttest из библиотеки scipy для сравнения средних двух выборок."
   ]
  },
  {
   "cell_type": "code",
   "execution_count": 111,
   "id": "dbdd0542",
   "metadata": {},
   "outputs": [],
   "source": [
    "result_genre = st.ttest_ind(action, sports, equal_var=False)"
   ]
  },
  {
   "cell_type": "code",
   "execution_count": 112,
   "id": "200914a8",
   "metadata": {},
   "outputs": [
    {
     "name": "stdout",
     "output_type": "stream",
     "text": [
      "Результат p-value - 1.6746543256028974e-23\n"
     ]
    }
   ],
   "source": [
    "print('Результат p-value -', result_genre.pvalue)"
   ]
  },
  {
   "cell_type": "markdown",
   "id": "032c6560",
   "metadata": {},
   "source": [
    "Если p-value будет меньше выбранного уровня значимости  𝛼=0.05 , то нулевую гипотезу о различии средних отвергнем. Иначе сделаем вывод, что данные не позволили нам отвергнуть нулевую гипотезу."
   ]
  },
  {
   "cell_type": "code",
   "execution_count": 113,
   "id": "3fadfe31",
   "metadata": {},
   "outputs": [
    {
     "name": "stdout",
     "output_type": "stream",
     "text": [
      "Отвергаем нулевую гипотезу\n"
     ]
    }
   ],
   "source": [
    "if result_genre.pvalue < alpha:\n",
    "    print('Отвергаем нулевую гипотезу')\n",
    "else:\n",
    "    print('Не получилось отвергнуть нулевую гипотезу')"
   ]
  },
  {
   "cell_type": "markdown",
   "id": "d30d1814",
   "metadata": {},
   "source": [
    "Воспользуемся тем, что выборки связаны:"
   ]
  },
  {
   "cell_type": "code",
   "execution_count": 114,
   "id": "6c12061d",
   "metadata": {},
   "outputs": [
    {
     "name": "stdout",
     "output_type": "stream",
     "text": [
      "Результат p-value - 1.0132595554157638e-29\n",
      "Отвергаем нулевую гипотезу\n"
     ]
    }
   ],
   "source": [
    "result_genre = st.ttest_ind(action, sports)\n",
    "\n",
    "print('Результат p-value -', result_genre.pvalue)\n",
    "\n",
    "if result_genre.pvalue < alpha:\n",
    "    print('Отвергаем нулевую гипотезу')\n",
    "else:\n",
    "    print('Не получилось отвергнуть нулевую гипотезу')"
   ]
  },
  {
   "cell_type": "markdown",
   "id": "de6296e4",
   "metadata": {},
   "source": [
    "##### Вывод"
   ]
  },
  {
   "cell_type": "markdown",
   "id": "7db7f508",
   "metadata": {},
   "source": [
    "P-value получилось меньше выбранного уровня 𝛼=0.05 . Данные позволили отвергнуть нулевую гипотезу, поэтому средние пользовательские рейтинги жанров `Action` и `Sports` разные."
   ]
  },
  {
   "cell_type": "markdown",
   "id": "f479f766",
   "metadata": {},
   "source": [
    "#### Двусторонняя проверка по непараметрическому тесту Манна-Уитни"
   ]
  },
  {
   "cell_type": "markdown",
   "id": "a2b9014f",
   "metadata": {},
   "source": [
    "Гипотезы оставим прежние, как в прошлой проверке."
   ]
  },
  {
   "cell_type": "markdown",
   "id": "5c9fa6be",
   "metadata": {},
   "source": [
    "Если p-value будет меньше выбранного уровня значимости  𝛼=0.05 , то нулевую гипотезу о различии средних отвергнем. Иначе сделаем вывод, что данные не позволили нам отвергнуть нулевую гипотезу."
   ]
  },
  {
   "cell_type": "code",
   "execution_count": 115,
   "id": "6d7ae677",
   "metadata": {},
   "outputs": [
    {
     "name": "stdout",
     "output_type": "stream",
     "text": [
      "p-значение:  7.382549619072552e-27\n",
      "Отвергаем нулевую гипотезу\n"
     ]
    }
   ],
   "source": [
    "results = st.mannwhitneyu(action, sports, alternative='two-sided')\n",
    "print('p-значение: ', results.pvalue)\n",
    "\n",
    "if results.pvalue < alpha:\n",
    "    print(\"Отвергаем нулевую гипотезу\")\n",
    "else:\n",
    "    print(\"Не получилось отвергнуть нулевую гипотезу\")"
   ]
  },
  {
   "cell_type": "markdown",
   "id": "08a1bd6e",
   "metadata": {},
   "source": [
    "##### Вывод"
   ]
  },
  {
   "cell_type": "markdown",
   "id": "ac235288",
   "metadata": {},
   "source": [
    "P-value получилось меньше выбранного уровня 𝛼=0.05 . Данные позволили отвергнуть нулевую гипотезу, поэтому средние пользовательские рейтинги жанров `Action` и `Sports` разные."
   ]
  },
  {
   "cell_type": "markdown",
   "id": "ecd19d82",
   "metadata": {},
   "source": [
    "#### Вывод по гипотизе №2"
   ]
  },
  {
   "cell_type": "markdown",
   "id": "5a0a12a1",
   "metadata": {},
   "source": [
    "Мы успешно проверили гипотезу тремя методами, в результате сделали вывод, что средние пользовательские рейтинги жанров `Action` и `Sports` разные."
   ]
  },
  {
   "cell_type": "markdown",
   "id": "a04deeb8",
   "metadata": {},
   "source": [
    "## Общий вывод"
   ]
  },
  {
   "cell_type": "markdown",
   "id": "192883b4",
   "metadata": {},
   "source": [
    "Мы успешно провели большую работу по сборному проекту - по обработке данных, подготовке данных, сделали исследовательский анализ, портрет пользователя, проверили две гипотезы.\n",
    "\n",
    "Сделали предобработку данных. Заменили названия всех столбцов, поменяли типы данных в нескольких столбцах, заполнили пропуски в нескольких столбцах с данными.\n",
    "\n",
    "Провели подготовку данных для анализа данных. Вычислили и добавили необходимые данные. Подготовили данные по общим продажам, категоризировали данные.\n",
    "\n",
    "Провели исследовательский анализ данных. Выяснили суммарные продажи по каждому году, продажи по платформам (), построили графики по глобальным продажам, определили влияние отзывов на продажи внутри платформы, распределение игр по жанрам.\n",
    "\n",
    "Выявили за все годы и за последние 6 лет - самые популярные платформы, самые популярные жанры, влияние возрастного рейтинга на продажи.\n",
    "\n",
    "Провели проверку двух гипотиз \"Средние пользовательские рейтинги платформ Xbox One и PC одинаковые\" и \"Средние пользовательские рейтинги жанров Action и Sports разные\" \n",
    "\n",
    "Изначально мы увидели, что общие продажи по годам показывали существенный рост до 2008 года особенно с 1995 года, и не менее стремительное падение после 2008 года.\n",
    "\n",
    "90% продаж приходится на 15 платформ из 31 платформы.\n",
    "\n",
    "Определили, что актуальный период или жизненный цикл платформы в среднем 11,6 лет.\n",
    "\n",
    "Из 20 работающих платформ в последние 12 лет, в 2016 году осталось в работе 9. Лидерами продаж 2015-2016 года являются платформы PS4, XOne, 3DS.\n",
    "\n",
    "Есть следующие потенциально прибыльные платформы - PS4, XOne, WiiU (данные платформы работают 4-5 лет на рынке и они в текущих лидерах продаж), сюда же можно отнести 3DS, PSV (на рынке 7-8 лет). Остальные платформы, если исходить из среднего срока жизни платформы, продажи уже снизились и очень малы, а также подходит конечный срок жизненного цикла.\n",
    "\n",
    "Стоит отдельно отметить, что на платформах PS4 и 3DS достаточно много бестселерров достигающих в продажах до 14,6 млн.копий на каждую игру. На других платформаха также есть бестселлеры, однако не стакими большими продажами.\n",
    "\n",
    "При определении влияния отзывов на продажи внутри одной платформы, выбрали платформу с самыми крупными продажами PS2 за всю историю. И определили, что наблюдается корреляция роста продаж от оценок, чем выше оценки тем больше наблюдается игр с более высокими продажами. В особенности ясно проявляется по отношению к оценкам критиков.\n",
    "\n",
    "Также, для подтверждения влияния отзывов на продажи провели исследования с другими платформами, а именно с 5ю потенциально интересными для работы 'PS4', 'XOne', '3DS', 'WiiU', 'PSV'. Картина похожая, как и с платформой PS2.\n",
    "\n",
    "По количеству продаж ТОП-3 жанров:\n",
    "* Action с 1744.17 млн. копий\n",
    "* Sports с 1331.27 млн. копий\n",
    "* Shooter с 1052.45 млн. копий\n",
    "\n",
    "Худшие результаты по количеству продаж показали жанры - Strategy, Adventure, Puzzle\n",
    "\n",
    "ТОП-3 жанров по продуктивности (в среднем проданных копий на 1 игру):\n",
    "* Platform - 0.932173 млн. копий\n",
    "* Shooter - 0.795503 млн. копий\n",
    "* Role-Playing - 0.623872 млн. копий\n",
    "\n",
    "Худшие результаты по продуктивности показали жанры - Puzzle, Strategy, Adventure\n",
    "\n",
    "По определению самых популярных платформ, мы провели анализ по двум направлениям – по всех годам и по последим 6 годам. По первому направлению, доля ТОП-5 платформ составляет от 52% до 58% в Сев. Америке, Европе и Японии, в других же странах все 70%. Среди ТОП-5 выделяются отдельные платформы, в Америке, Европе и других странах во всех есть платформы PS2, PS3, Wii, X360, а в Японии из них только PS2, Япония держится \"особнячком\".\n",
    "\n",
    "По второму направлению, ТОП-5 платформ занимают в общем объеме от 80% до 86%. Однако и среди ТОП-5 есть свои особенные лидеры в каждом регионе. В Америке 2 платформы - Х360 и PS3; в Европе 3 платформы - PS3, PS4 и Х360; в Японии 2 платформы - 3DS и PS3; в других странах, как в Европе 3 платформы - PS3, PS4, Х360.\n",
    "\n",
    "По выявлению самых популярных жанров, провели аналогично по двум направлениям. По всем годам доля ТОП-5 жанров составляет во всех регионах от 68% до 72%. В трех региона в Америке, Европе и других странах идентичная картина, в ТОП-5 жанрах - высокая доля Action, Sports, Racing, а также Shooter/Platform, Misc, а в Японии выделяется жанр Role-Playing, есть в топе также Action, Sports, Platform, Misc.\n",
    "\n",
    "За последние 6 лет, в ТОП-5 жанров есть изменения. Занимают ТОП-5 в общем объеме от 75% до 83%. В каждом регионе добавился жанр Role-Playing. Однако и среди ТОП-5 есть свои особенные лидеры в каждом регионе. В Америке 3 жанра - Action, Shooter и Sports; в Европе 3 жанра - Action, Shooter и Sports; в Японии 2 жанра - Role-Playing и Action; в других странах, как в Европе и Америка 3 платформы - Action, Shooter и Sports.\n",
    "\n",
    "По определению влияет ли рейтинг ESRB на продажи, сделали следующие выводы:\n",
    "\n",
    "При изучении возрастных рейтингов по всем годам, стоит учесть, что сам рейтинг появился в 1994 году, поэтому его доля очень высокая если смотреть по всем годах. Поэтому при выводах по всем годам его опустим. Основные рейтинги составляют во всех регионах почти 100%. Во всех регионах лидирует возрастной рейтинг \"Для всех\". Далее идут \"Для взрослых\" и для \"Подростков\". Меньше всех по всем регионам \"От 10 лет и старше\".\n",
    "\n",
    "За последние 6 лет, в регионах Европа, Северная Америка и другие страны, большую часть всех продаж занимают два рейтинга \"Для взрослых\" и \"Для всех\". Япония, как и в других исследованиях, немного отличается, в Японии большинство продаж на группу \"Без рейтинга\", судя по всему у них не сильно пользуется популярностью категоризация по возрасту, либо это местные разработчики игр не подающие свои разработки на категоризацию в американскую компанию. Также стоит отметить, что в Японии больше, чем в других регионах по доле продаются игры с рейтингами для \"Подростков\" и \"Для всех\", а \"для взрослых\" на 4 месте, хотя как мы сказали выше в Америке, Европе и дригих регионах особой популярностью и на первом месте игры \"Для взрослых\"\n",
    "\n",
    "Гипотеза №1 «Средние пользовательские рейтинги платформ Xbox One и PC одинаковые». Мы проверили гипотезу тремя методами, в результате сделали вывод, что средние пользовательские рейтинги платформ Xbox One и PC различаются.\n",
    "\n",
    "Гипотеза №2 «Средние пользовательские рейтинги жанров Action и Sports разные». Также как и первую гипотезу, проверили тремя методами, в результате сделали вывод, что средние пользовательские рейтинги жанров Action и Sports одинаковы.\n"
   ]
  }
 ],
 "metadata": {
  "ExecuteTimeLog": [
   {
    "duration": 1828,
    "start_time": "2022-03-26T06:56:48.176Z"
   },
   {
    "duration": 3,
    "start_time": "2022-03-26T06:56:50.007Z"
   },
   {
    "duration": 10,
    "start_time": "2022-03-26T06:56:50.014Z"
   },
   {
    "duration": 69,
    "start_time": "2022-03-26T06:56:50.027Z"
   },
   {
    "duration": 26,
    "start_time": "2022-03-26T06:56:50.098Z"
   },
   {
    "duration": 30,
    "start_time": "2022-03-26T06:56:50.126Z"
   },
   {
    "duration": 11,
    "start_time": "2022-03-26T06:56:50.158Z"
   },
   {
    "duration": 4,
    "start_time": "2022-03-26T06:56:50.171Z"
   },
   {
    "duration": 21,
    "start_time": "2022-03-26T06:56:50.178Z"
   },
   {
    "duration": 18,
    "start_time": "2022-03-26T06:56:50.244Z"
   },
   {
    "duration": 24,
    "start_time": "2022-03-26T06:56:50.264Z"
   },
   {
    "duration": 8,
    "start_time": "2022-03-26T06:56:50.291Z"
   },
   {
    "duration": 42,
    "start_time": "2022-03-26T06:56:50.301Z"
   },
   {
    "duration": 21,
    "start_time": "2022-03-26T06:56:50.346Z"
   },
   {
    "duration": 16,
    "start_time": "2022-03-26T06:56:50.369Z"
   },
   {
    "duration": 60,
    "start_time": "2022-03-26T06:56:50.388Z"
   },
   {
    "duration": 6,
    "start_time": "2022-03-26T06:56:50.451Z"
   },
   {
    "duration": 27,
    "start_time": "2022-03-26T06:56:50.459Z"
   },
   {
    "duration": 24,
    "start_time": "2022-03-26T06:56:50.488Z"
   },
   {
    "duration": 34,
    "start_time": "2022-03-26T06:56:50.513Z"
   },
   {
    "duration": 39,
    "start_time": "2022-03-26T06:56:50.549Z"
   },
   {
    "duration": 6,
    "start_time": "2022-03-26T06:56:50.590Z"
   },
   {
    "duration": 6,
    "start_time": "2022-03-26T06:56:50.598Z"
   },
   {
    "duration": 38,
    "start_time": "2022-03-26T06:56:50.607Z"
   },
   {
    "duration": 7,
    "start_time": "2022-03-26T06:56:50.647Z"
   },
   {
    "duration": 6,
    "start_time": "2022-03-26T06:56:50.656Z"
   },
   {
    "duration": 39,
    "start_time": "2022-03-26T06:56:50.665Z"
   },
   {
    "duration": 36,
    "start_time": "2022-03-26T06:56:50.711Z"
   },
   {
    "duration": 12,
    "start_time": "2022-03-26T06:56:50.749Z"
   },
   {
    "duration": 9,
    "start_time": "2022-03-26T06:56:50.763Z"
   },
   {
    "duration": 29,
    "start_time": "2022-03-26T06:56:50.775Z"
   },
   {
    "duration": 5524,
    "start_time": "2022-03-26T06:56:50.843Z"
   },
   {
    "duration": 26,
    "start_time": "2022-03-26T06:56:56.370Z"
   },
   {
    "duration": 19,
    "start_time": "2022-03-26T06:56:56.398Z"
   },
   {
    "duration": 27,
    "start_time": "2022-03-26T06:56:56.419Z"
   },
   {
    "duration": 428,
    "start_time": "2022-03-26T06:56:56.448Z"
   },
   {
    "duration": 21,
    "start_time": "2022-03-26T06:56:56.878Z"
   },
   {
    "duration": 6,
    "start_time": "2022-03-26T06:56:56.901Z"
   },
   {
    "duration": 44,
    "start_time": "2022-03-26T06:56:56.909Z"
   },
   {
    "duration": 10,
    "start_time": "2022-03-26T06:56:56.955Z"
   },
   {
    "duration": 332,
    "start_time": "2022-03-26T06:56:56.967Z"
   },
   {
    "duration": 11,
    "start_time": "2022-03-26T06:56:57.302Z"
   },
   {
    "duration": 8,
    "start_time": "2022-03-26T06:56:57.316Z"
   },
   {
    "duration": 14,
    "start_time": "2022-03-26T06:56:57.342Z"
   },
   {
    "duration": 21,
    "start_time": "2022-03-26T06:56:57.358Z"
   },
   {
    "duration": 35,
    "start_time": "2022-03-26T06:56:57.381Z"
   },
   {
    "duration": 63,
    "start_time": "2022-03-26T06:56:57.419Z"
   },
   {
    "duration": 17,
    "start_time": "2022-03-26T06:56:57.484Z"
   },
   {
    "duration": 16,
    "start_time": "2022-03-26T06:56:57.504Z"
   },
   {
    "duration": 13,
    "start_time": "2022-03-26T06:56:57.523Z"
   },
   {
    "duration": 16,
    "start_time": "2022-03-26T06:56:57.544Z"
   },
   {
    "duration": 14,
    "start_time": "2022-03-26T06:56:57.562Z"
   },
   {
    "duration": 44,
    "start_time": "2022-03-26T06:56:57.578Z"
   },
   {
    "duration": 38,
    "start_time": "2022-03-26T06:56:57.624Z"
   },
   {
    "duration": 4,
    "start_time": "2022-03-26T06:56:57.664Z"
   },
   {
    "duration": 43,
    "start_time": "2022-03-26T06:56:57.670Z"
   },
   {
    "duration": 562,
    "start_time": "2022-03-26T06:56:57.715Z"
   },
   {
    "duration": 5,
    "start_time": "2022-03-26T06:56:58.280Z"
   },
   {
    "duration": 357,
    "start_time": "2022-03-26T06:56:58.288Z"
   },
   {
    "duration": 331,
    "start_time": "2022-03-26T06:56:58.648Z"
   },
   {
    "duration": 112,
    "start_time": "2022-03-26T06:56:58.981Z"
   },
   {
    "duration": 7,
    "start_time": "2022-03-26T06:56:59.095Z"
   },
   {
    "duration": 12,
    "start_time": "2022-03-26T06:56:59.104Z"
   },
   {
    "duration": 221,
    "start_time": "2022-03-26T06:56:59.118Z"
   },
   {
    "duration": 8,
    "start_time": "2022-03-26T06:56:59.342Z"
   },
   {
    "duration": 220,
    "start_time": "2022-03-26T06:56:59.352Z"
   },
   {
    "duration": 6,
    "start_time": "2022-03-26T06:56:59.575Z"
   },
   {
    "duration": 464,
    "start_time": "2022-03-26T06:56:59.584Z"
   },
   {
    "duration": 505,
    "start_time": "2022-03-26T06:57:00.050Z"
   },
   {
    "duration": 474,
    "start_time": "2022-03-26T06:57:00.558Z"
   },
   {
    "duration": 14,
    "start_time": "2022-03-26T06:57:01.034Z"
   },
   {
    "duration": 31,
    "start_time": "2022-03-26T06:57:01.051Z"
   },
   {
    "duration": 15,
    "start_time": "2022-03-26T06:57:01.085Z"
   },
   {
    "duration": 36,
    "start_time": "2022-03-26T06:57:01.103Z"
   },
   {
    "duration": 17,
    "start_time": "2022-03-26T06:57:01.142Z"
   },
   {
    "duration": 342,
    "start_time": "2022-03-26T06:57:01.162Z"
   },
   {
    "duration": 514,
    "start_time": "2022-03-26T06:57:01.506Z"
   },
   {
    "duration": 23,
    "start_time": "2022-03-26T06:57:02.022Z"
   },
   {
    "duration": 20,
    "start_time": "2022-03-26T06:57:02.048Z"
   },
   {
    "duration": 630,
    "start_time": "2022-03-26T06:57:02.070Z"
   },
   {
    "duration": 4,
    "start_time": "2022-03-26T06:57:02.702Z"
   },
   {
    "duration": 32,
    "start_time": "2022-03-26T06:57:02.714Z"
   },
   {
    "duration": 9,
    "start_time": "2022-03-26T06:57:02.748Z"
   },
   {
    "duration": 9,
    "start_time": "2022-03-26T06:57:02.759Z"
   },
   {
    "duration": 101,
    "start_time": "2022-03-26T06:57:02.770Z"
   },
   {
    "duration": 7,
    "start_time": "2022-03-26T06:57:02.873Z"
   },
   {
    "duration": 101,
    "start_time": "2022-03-26T06:57:02.882Z"
   },
   {
    "duration": 12,
    "start_time": "2022-03-26T06:57:02.985Z"
   },
   {
    "duration": 44,
    "start_time": "2022-03-26T06:57:03.000Z"
   },
   {
    "duration": 101,
    "start_time": "2022-03-26T06:57:03.046Z"
   },
   {
    "duration": 100,
    "start_time": "2022-03-26T06:57:03.149Z"
   },
   {
    "duration": 14,
    "start_time": "2022-03-26T06:57:03.252Z"
   },
   {
    "duration": 117,
    "start_time": "2022-03-26T06:57:03.269Z"
   },
   {
    "duration": 104,
    "start_time": "2022-03-26T06:57:03.388Z"
   },
   {
    "duration": 4,
    "start_time": "2022-03-26T06:57:03.494Z"
   },
   {
    "duration": 48,
    "start_time": "2022-03-26T06:57:03.500Z"
   },
   {
    "duration": 994,
    "start_time": "2022-03-26T06:57:03.551Z"
   },
   {
    "duration": 327,
    "start_time": "2022-03-26T06:57:04.548Z"
   },
   {
    "duration": 6,
    "start_time": "2022-03-26T06:57:04.878Z"
   },
   {
    "duration": 7,
    "start_time": "2022-03-26T06:57:04.886Z"
   },
   {
    "duration": 5,
    "start_time": "2022-03-26T06:57:04.896Z"
   },
   {
    "duration": 39,
    "start_time": "2022-03-26T06:57:04.903Z"
   },
   {
    "duration": 11,
    "start_time": "2022-03-26T06:57:04.945Z"
   },
   {
    "duration": 13,
    "start_time": "2022-03-26T06:57:04.958Z"
   },
   {
    "duration": 1001,
    "start_time": "2022-03-26T06:57:04.974Z"
   },
   {
    "duration": 357,
    "start_time": "2022-03-26T06:57:05.977Z"
   },
   {
    "duration": 9,
    "start_time": "2022-03-26T06:57:06.336Z"
   },
   {
    "duration": 7,
    "start_time": "2022-03-26T06:57:06.347Z"
   },
   {
    "duration": 6,
    "start_time": "2022-03-26T06:57:06.357Z"
   },
   {
    "duration": 7,
    "start_time": "2022-03-26T06:57:06.365Z"
   },
   {
    "duration": 11,
    "start_time": "2022-03-26T06:57:06.374Z"
   },
   {
    "duration": 8,
    "start_time": "2022-03-26T07:02:03.833Z"
   },
   {
    "duration": 24,
    "start_time": "2022-03-26T07:20:19.162Z"
   },
   {
    "duration": 503,
    "start_time": "2022-03-26T07:20:27.180Z"
   },
   {
    "duration": 2818,
    "start_time": "2022-03-26T07:21:51.082Z"
   },
   {
    "duration": 314,
    "start_time": "2022-03-26T07:22:06.125Z"
   },
   {
    "duration": 28,
    "start_time": "2022-03-26T07:22:31.233Z"
   },
   {
    "duration": 274,
    "start_time": "2022-03-26T07:23:06.310Z"
   },
   {
    "duration": 4014,
    "start_time": "2022-03-26T07:23:28.289Z"
   },
   {
    "duration": 20,
    "start_time": "2022-03-26T07:23:45.818Z"
   },
   {
    "duration": 190,
    "start_time": "2022-03-26T07:24:09.334Z"
   },
   {
    "duration": 38,
    "start_time": "2022-03-26T07:30:13.318Z"
   },
   {
    "duration": 17,
    "start_time": "2022-03-26T07:31:00.221Z"
   },
   {
    "duration": 179,
    "start_time": "2022-03-26T07:31:22.331Z"
   },
   {
    "duration": 22,
    "start_time": "2022-03-26T07:31:35.204Z"
   },
   {
    "duration": 4243,
    "start_time": "2022-03-26T07:31:50.602Z"
   },
   {
    "duration": 78,
    "start_time": "2022-03-26T07:33:38.268Z"
   },
   {
    "duration": 794,
    "start_time": "2022-03-26T07:34:11.561Z"
   },
   {
    "duration": 52,
    "start_time": "2022-03-26T07:34:30.650Z"
   },
   {
    "duration": 593,
    "start_time": "2022-03-26T07:34:41.971Z"
   },
   {
    "duration": 839,
    "start_time": "2022-03-26T07:35:13.508Z"
   },
   {
    "duration": 567,
    "start_time": "2022-03-26T07:35:26.956Z"
   },
   {
    "duration": 562,
    "start_time": "2022-03-26T07:35:39.712Z"
   },
   {
    "duration": 683,
    "start_time": "2022-03-26T07:35:51.552Z"
   },
   {
    "duration": 609,
    "start_time": "2022-03-26T07:35:59.595Z"
   },
   {
    "duration": 1411,
    "start_time": "2022-03-26T07:37:05.063Z"
   },
   {
    "duration": 763,
    "start_time": "2022-03-26T07:37:13.590Z"
   },
   {
    "duration": 666,
    "start_time": "2022-03-26T07:37:17.164Z"
   },
   {
    "duration": 367,
    "start_time": "2022-03-26T07:39:58.579Z"
   },
   {
    "duration": 39,
    "start_time": "2022-03-26T07:40:06.681Z"
   },
   {
    "duration": 191,
    "start_time": "2022-03-26T07:40:31.912Z"
   },
   {
    "duration": 23,
    "start_time": "2022-03-26T07:42:42.961Z"
   },
   {
    "duration": 240,
    "start_time": "2022-03-26T07:43:02.727Z"
   },
   {
    "duration": 248,
    "start_time": "2022-03-26T07:43:12.806Z"
   },
   {
    "duration": 261,
    "start_time": "2022-03-26T07:44:14.960Z"
   },
   {
    "duration": 17,
    "start_time": "2022-03-26T07:47:58.254Z"
   },
   {
    "duration": 19,
    "start_time": "2022-03-26T07:48:11.237Z"
   },
   {
    "duration": 17,
    "start_time": "2022-03-26T07:48:24.598Z"
   },
   {
    "duration": 15,
    "start_time": "2022-03-26T07:48:36.410Z"
   },
   {
    "duration": 5,
    "start_time": "2022-03-26T07:49:11.372Z"
   },
   {
    "duration": 255,
    "start_time": "2022-03-26T07:50:44.451Z"
   },
   {
    "duration": 50,
    "start_time": "2022-03-26T07:51:02.472Z"
   },
   {
    "duration": 15,
    "start_time": "2022-03-26T07:51:09.609Z"
   },
   {
    "duration": 19,
    "start_time": "2022-03-26T07:51:29.589Z"
   },
   {
    "duration": 25,
    "start_time": "2022-03-26T07:52:17.164Z"
   },
   {
    "duration": 21,
    "start_time": "2022-03-26T07:52:50.640Z"
   },
   {
    "duration": 27,
    "start_time": "2022-03-26T07:53:19.039Z"
   },
   {
    "duration": 1282,
    "start_time": "2022-03-26T15:55:13.316Z"
   },
   {
    "duration": 2,
    "start_time": "2022-03-26T15:55:14.600Z"
   },
   {
    "duration": 5,
    "start_time": "2022-03-26T15:55:14.604Z"
   },
   {
    "duration": 43,
    "start_time": "2022-03-26T15:55:14.610Z"
   },
   {
    "duration": 14,
    "start_time": "2022-03-26T15:55:14.655Z"
   },
   {
    "duration": 13,
    "start_time": "2022-03-26T15:55:14.670Z"
   },
   {
    "duration": 5,
    "start_time": "2022-03-26T15:55:14.684Z"
   },
   {
    "duration": 5,
    "start_time": "2022-03-26T15:55:14.690Z"
   },
   {
    "duration": 5,
    "start_time": "2022-03-26T15:55:14.696Z"
   },
   {
    "duration": 4,
    "start_time": "2022-03-26T15:55:14.703Z"
   },
   {
    "duration": 12,
    "start_time": "2022-03-26T15:55:14.708Z"
   },
   {
    "duration": 10,
    "start_time": "2022-03-26T15:55:14.722Z"
   },
   {
    "duration": 5,
    "start_time": "2022-03-26T15:55:14.733Z"
   },
   {
    "duration": 12,
    "start_time": "2022-03-26T15:55:14.739Z"
   },
   {
    "duration": 37,
    "start_time": "2022-03-26T15:55:14.752Z"
   },
   {
    "duration": 7,
    "start_time": "2022-03-26T15:55:14.791Z"
   },
   {
    "duration": 14,
    "start_time": "2022-03-26T15:55:14.799Z"
   },
   {
    "duration": 4,
    "start_time": "2022-03-26T15:55:14.814Z"
   },
   {
    "duration": 16,
    "start_time": "2022-03-26T15:55:14.819Z"
   },
   {
    "duration": 14,
    "start_time": "2022-03-26T15:55:14.836Z"
   },
   {
    "duration": 32,
    "start_time": "2022-03-26T15:55:14.851Z"
   },
   {
    "duration": 21,
    "start_time": "2022-03-26T15:55:14.884Z"
   },
   {
    "duration": 3,
    "start_time": "2022-03-26T15:55:14.907Z"
   },
   {
    "duration": 5,
    "start_time": "2022-03-26T15:55:14.912Z"
   },
   {
    "duration": 4,
    "start_time": "2022-03-26T15:55:14.919Z"
   },
   {
    "duration": 4,
    "start_time": "2022-03-26T15:55:14.924Z"
   },
   {
    "duration": 6,
    "start_time": "2022-03-26T15:55:14.929Z"
   },
   {
    "duration": 53,
    "start_time": "2022-03-26T15:55:14.938Z"
   },
   {
    "duration": 2,
    "start_time": "2022-03-26T15:55:14.993Z"
   },
   {
    "duration": 27,
    "start_time": "2022-03-26T15:55:14.996Z"
   },
   {
    "duration": 8,
    "start_time": "2022-03-26T15:55:15.024Z"
   },
   {
    "duration": 16,
    "start_time": "2022-03-26T15:55:15.034Z"
   },
   {
    "duration": 2688,
    "start_time": "2022-03-26T15:55:15.052Z"
   },
   {
    "duration": 15,
    "start_time": "2022-03-26T15:55:17.742Z"
   },
   {
    "duration": 24,
    "start_time": "2022-03-26T15:55:17.759Z"
   },
   {
    "duration": 4,
    "start_time": "2022-03-26T15:55:17.785Z"
   },
   {
    "duration": 223,
    "start_time": "2022-03-26T15:55:17.790Z"
   },
   {
    "duration": 12,
    "start_time": "2022-03-26T15:55:18.015Z"
   },
   {
    "duration": 7,
    "start_time": "2022-03-26T15:55:18.029Z"
   },
   {
    "duration": 12,
    "start_time": "2022-03-26T15:55:18.038Z"
   },
   {
    "duration": 33,
    "start_time": "2022-03-26T15:55:18.052Z"
   },
   {
    "duration": 162,
    "start_time": "2022-03-26T15:55:18.087Z"
   },
   {
    "duration": 8,
    "start_time": "2022-03-26T15:55:18.251Z"
   },
   {
    "duration": 4,
    "start_time": "2022-03-26T15:55:18.261Z"
   },
   {
    "duration": 7,
    "start_time": "2022-03-26T15:55:18.280Z"
   },
   {
    "duration": 5,
    "start_time": "2022-03-26T15:55:18.288Z"
   },
   {
    "duration": 18,
    "start_time": "2022-03-26T15:55:18.294Z"
   },
   {
    "duration": 30,
    "start_time": "2022-03-26T15:55:18.313Z"
   },
   {
    "duration": 5,
    "start_time": "2022-03-26T15:55:18.344Z"
   },
   {
    "duration": 30,
    "start_time": "2022-03-26T15:55:18.351Z"
   },
   {
    "duration": 4,
    "start_time": "2022-03-26T15:55:18.383Z"
   },
   {
    "duration": 153,
    "start_time": "2022-03-26T15:55:18.389Z"
   },
   {
    "duration": 2,
    "start_time": "2022-03-26T15:55:18.544Z"
   },
   {
    "duration": 6,
    "start_time": "2022-03-26T15:55:18.548Z"
   },
   {
    "duration": 26,
    "start_time": "2022-03-26T15:55:18.555Z"
   },
   {
    "duration": 19,
    "start_time": "2022-03-26T15:55:18.582Z"
   },
   {
    "duration": 5,
    "start_time": "2022-03-26T15:55:18.602Z"
   },
   {
    "duration": 15,
    "start_time": "2022-03-26T15:55:18.609Z"
   },
   {
    "duration": 316,
    "start_time": "2022-03-26T15:55:18.625Z"
   },
   {
    "duration": 3,
    "start_time": "2022-03-26T15:55:18.943Z"
   },
   {
    "duration": 188,
    "start_time": "2022-03-26T15:55:18.948Z"
   },
   {
    "duration": 172,
    "start_time": "2022-03-26T15:55:19.138Z"
   },
   {
    "duration": 69,
    "start_time": "2022-03-26T15:55:19.312Z"
   },
   {
    "duration": 5,
    "start_time": "2022-03-26T15:55:19.382Z"
   },
   {
    "duration": 6,
    "start_time": "2022-03-26T15:55:19.389Z"
   },
   {
    "duration": 114,
    "start_time": "2022-03-26T15:55:19.397Z"
   },
   {
    "duration": 5,
    "start_time": "2022-03-26T15:55:19.512Z"
   },
   {
    "duration": 117,
    "start_time": "2022-03-26T15:55:19.518Z"
   },
   {
    "duration": 4,
    "start_time": "2022-03-26T15:55:19.637Z"
   },
   {
    "duration": 244,
    "start_time": "2022-03-26T15:55:19.643Z"
   },
   {
    "duration": 228,
    "start_time": "2022-03-26T15:55:19.890Z"
   },
   {
    "duration": 238,
    "start_time": "2022-03-26T15:55:20.119Z"
   },
   {
    "duration": 7,
    "start_time": "2022-03-26T15:55:20.358Z"
   },
   {
    "duration": 19,
    "start_time": "2022-03-26T15:55:20.366Z"
   },
   {
    "duration": 6,
    "start_time": "2022-03-26T15:55:20.386Z"
   },
   {
    "duration": 13,
    "start_time": "2022-03-26T15:55:20.393Z"
   },
   {
    "duration": 14,
    "start_time": "2022-03-26T15:55:20.407Z"
   },
   {
    "duration": 3,
    "start_time": "2022-03-26T15:55:20.422Z"
   },
   {
    "duration": 171,
    "start_time": "2022-03-26T15:55:20.426Z"
   },
   {
    "duration": 167,
    "start_time": "2022-03-26T15:55:20.599Z"
   },
   {
    "duration": 4,
    "start_time": "2022-03-26T15:55:20.767Z"
   },
   {
    "duration": 9,
    "start_time": "2022-03-26T15:55:20.785Z"
   },
   {
    "duration": 177,
    "start_time": "2022-03-26T15:55:20.796Z"
   },
   {
    "duration": 6,
    "start_time": "2022-03-26T15:55:20.975Z"
   },
   {
    "duration": 9,
    "start_time": "2022-03-26T15:55:20.983Z"
   },
   {
    "duration": 5,
    "start_time": "2022-03-26T15:55:20.994Z"
   },
   {
    "duration": 5,
    "start_time": "2022-03-26T15:55:21.000Z"
   },
   {
    "duration": 76,
    "start_time": "2022-03-26T15:55:21.006Z"
   },
   {
    "duration": 5,
    "start_time": "2022-03-26T15:55:21.083Z"
   },
   {
    "duration": 141,
    "start_time": "2022-03-26T15:55:21.089Z"
   },
   {
    "duration": 8,
    "start_time": "2022-03-26T15:55:21.231Z"
   },
   {
    "duration": 6,
    "start_time": "2022-03-26T15:55:21.241Z"
   },
   {
    "duration": 63,
    "start_time": "2022-03-26T15:55:21.248Z"
   },
   {
    "duration": 71,
    "start_time": "2022-03-26T15:55:21.313Z"
   },
   {
    "duration": 9,
    "start_time": "2022-03-26T15:55:21.386Z"
   },
   {
    "duration": 44,
    "start_time": "2022-03-26T15:55:21.396Z"
   },
   {
    "duration": 71,
    "start_time": "2022-03-26T15:55:21.442Z"
   },
   {
    "duration": 3,
    "start_time": "2022-03-26T15:55:21.515Z"
   },
   {
    "duration": 6,
    "start_time": "2022-03-26T15:55:21.519Z"
   },
   {
    "duration": 5,
    "start_time": "2022-03-26T15:55:21.527Z"
   },
   {
    "duration": 658,
    "start_time": "2022-03-26T15:55:21.534Z"
   },
   {
    "duration": 174,
    "start_time": "2022-03-26T15:55:22.193Z"
   },
   {
    "duration": 3,
    "start_time": "2022-03-26T15:55:22.369Z"
   },
   {
    "duration": 7,
    "start_time": "2022-03-26T15:55:22.374Z"
   },
   {
    "duration": 4,
    "start_time": "2022-03-26T15:55:22.383Z"
   },
   {
    "duration": 7,
    "start_time": "2022-03-26T15:55:22.389Z"
   },
   {
    "duration": 7,
    "start_time": "2022-03-26T15:55:22.397Z"
   },
   {
    "duration": 8,
    "start_time": "2022-03-26T15:55:22.405Z"
   },
   {
    "duration": 636,
    "start_time": "2022-03-26T15:55:22.415Z"
   },
   {
    "duration": 179,
    "start_time": "2022-03-26T15:55:23.053Z"
   },
   {
    "duration": 4,
    "start_time": "2022-03-26T15:55:23.234Z"
   },
   {
    "duration": 6,
    "start_time": "2022-03-26T15:55:23.239Z"
   },
   {
    "duration": 7,
    "start_time": "2022-03-26T15:55:23.246Z"
   },
   {
    "duration": 5,
    "start_time": "2022-03-26T15:55:23.255Z"
   },
   {
    "duration": 7,
    "start_time": "2022-03-26T15:55:23.281Z"
   },
   {
    "duration": 106,
    "start_time": "2022-03-26T16:04:42.346Z"
   },
   {
    "duration": 106,
    "start_time": "2022-03-26T16:05:55.681Z"
   }
  ],
  "kernelspec": {
   "display_name": "Python 3",
   "language": "python",
   "name": "python3"
  },
  "language_info": {
   "codemirror_mode": {
    "name": "ipython",
    "version": 3
   },
   "file_extension": ".py",
   "mimetype": "text/x-python",
   "name": "python",
   "nbconvert_exporter": "python",
   "pygments_lexer": "ipython3",
   "version": "3.8.8"
  },
  "toc": {
   "base_numbering": 1,
   "nav_menu": {},
   "number_sections": true,
   "sideBar": true,
   "skip_h1_title": true,
   "title_cell": "Содержание:",
   "title_sidebar": "Содержание:",
   "toc_cell": true,
   "toc_position": {
    "height": "calc(100% - 180px)",
    "left": "10px",
    "top": "150px",
    "width": "392.407px"
   },
   "toc_section_display": true,
   "toc_window_display": true
  }
 },
 "nbformat": 4,
 "nbformat_minor": 5
}
