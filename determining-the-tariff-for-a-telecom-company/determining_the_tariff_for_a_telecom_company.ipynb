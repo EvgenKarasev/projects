{
 "cells": [
  {
   "cell_type": "markdown",
   "id": "6c6cb6b9",
   "metadata": {},
   "source": [
    "# Описание проекта"
   ]
  },
  {
   "cell_type": "markdown",
   "id": "ec14af5c",
   "metadata": {},
   "source": [
    "Вы аналитик компании «Мегалайн» — федерального оператора сотовой связи. Клиентам предлагают два тарифных плана: «Смарт» и «Ультра». Чтобы скорректировать рекламный бюджет, коммерческий департамент хочет понять, какой тариф приносит больше денег.\n",
    "Вам предстоит сделать предварительный анализ тарифов на небольшой выборке клиентов. В вашем распоряжении данные 500 пользователей «Мегалайна»: кто они, откуда, каким тарифом пользуются, сколько звонков и сообщений каждый отправил за 2018 год. Нужно проанализировать поведение клиентов и сделать вывод — какой тариф лучше."
   ]
  },
  {
   "cell_type": "markdown",
   "id": "7961562a",
   "metadata": {},
   "source": [
    "## Общая информация"
   ]
  },
  {
   "cell_type": "code",
   "execution_count": 1,
   "id": "99caeb5d",
   "metadata": {},
   "outputs": [],
   "source": [
    "import pandas as pd\n",
    "import numpy as np\n",
    "import seaborn as sns\n",
    "from scipy import stats as st\n",
    "from matplotlib import pyplot as plt"
   ]
  },
  {
   "cell_type": "markdown",
   "id": "2dd356b9",
   "metadata": {},
   "source": [
    "Откроем предоставленные нам файлы с данными."
   ]
  },
  {
   "cell_type": "code",
   "execution_count": 2,
   "id": "916c0b4c",
   "metadata": {},
   "outputs": [],
   "source": [
    "#рабочий код в локальной версии:\n",
    "#df_cal = pd.read_csv('calls.csv')\n",
    "#df_int = pd.read_csv('internet.csv')\n",
    "#df_mes = pd.read_csv('messages.csv')\n",
    "#df_tar = pd.read_csv('tariffs.csv')\n",
    "#df_use = pd.read_csv('users.csv')"
   ]
  },
  {
   "cell_type": "code",
   "execution_count": 3,
   "id": "91673b26",
   "metadata": {},
   "outputs": [],
   "source": [
    " #рабочий код с указанием папки хранения на ЯП:\n",
    "df_cal = pd.read_csv('/datasets/calls.csv')\n",
    "df_int = pd.read_csv('/datasets/internet.csv', index_col=0)\n",
    "df_mes = pd.read_csv('/datasets/messages.csv')\n",
    "df_tar = pd.read_csv('/datasets/tariffs.csv')\n",
    "df_use = pd.read_csv('/datasets/users.csv')"
   ]
  },
  {
   "cell_type": "markdown",
   "id": "5252bdf3",
   "metadata": {},
   "source": [
    "Выведим основную информацию по каждому датафрейму."
   ]
  },
  {
   "cell_type": "code",
   "execution_count": 4,
   "id": "12800284",
   "metadata": {},
   "outputs": [
    {
     "data": {
      "text/html": [
       "<div>\n",
       "<style scoped>\n",
       "    .dataframe tbody tr th:only-of-type {\n",
       "        vertical-align: middle;\n",
       "    }\n",
       "\n",
       "    .dataframe tbody tr th {\n",
       "        vertical-align: top;\n",
       "    }\n",
       "\n",
       "    .dataframe thead th {\n",
       "        text-align: right;\n",
       "    }\n",
       "</style>\n",
       "<table border=\"1\" class=\"dataframe\">\n",
       "  <thead>\n",
       "    <tr style=\"text-align: right;\">\n",
       "      <th></th>\n",
       "      <th>id</th>\n",
       "      <th>call_date</th>\n",
       "      <th>duration</th>\n",
       "      <th>user_id</th>\n",
       "    </tr>\n",
       "  </thead>\n",
       "  <tbody>\n",
       "    <tr>\n",
       "      <th>0</th>\n",
       "      <td>1000_0</td>\n",
       "      <td>2018-07-25</td>\n",
       "      <td>0.00</td>\n",
       "      <td>1000</td>\n",
       "    </tr>\n",
       "    <tr>\n",
       "      <th>1</th>\n",
       "      <td>1000_1</td>\n",
       "      <td>2018-08-17</td>\n",
       "      <td>0.00</td>\n",
       "      <td>1000</td>\n",
       "    </tr>\n",
       "    <tr>\n",
       "      <th>2</th>\n",
       "      <td>1000_2</td>\n",
       "      <td>2018-06-11</td>\n",
       "      <td>2.85</td>\n",
       "      <td>1000</td>\n",
       "    </tr>\n",
       "    <tr>\n",
       "      <th>3</th>\n",
       "      <td>1000_3</td>\n",
       "      <td>2018-09-21</td>\n",
       "      <td>13.80</td>\n",
       "      <td>1000</td>\n",
       "    </tr>\n",
       "    <tr>\n",
       "      <th>4</th>\n",
       "      <td>1000_4</td>\n",
       "      <td>2018-12-15</td>\n",
       "      <td>5.18</td>\n",
       "      <td>1000</td>\n",
       "    </tr>\n",
       "  </tbody>\n",
       "</table>\n",
       "</div>"
      ],
      "text/plain": [
       "       id   call_date  duration  user_id\n",
       "0  1000_0  2018-07-25      0.00     1000\n",
       "1  1000_1  2018-08-17      0.00     1000\n",
       "2  1000_2  2018-06-11      2.85     1000\n",
       "3  1000_3  2018-09-21     13.80     1000\n",
       "4  1000_4  2018-12-15      5.18     1000"
      ]
     },
     "execution_count": 4,
     "metadata": {},
     "output_type": "execute_result"
    }
   ],
   "source": [
    "df_cal.head()"
   ]
  },
  {
   "cell_type": "code",
   "execution_count": 5,
   "id": "4a430e82",
   "metadata": {},
   "outputs": [
    {
     "name": "stdout",
     "output_type": "stream",
     "text": [
      "<class 'pandas.core.frame.DataFrame'>\n",
      "RangeIndex: 202607 entries, 0 to 202606\n",
      "Data columns (total 4 columns):\n",
      " #   Column     Non-Null Count   Dtype  \n",
      "---  ------     --------------   -----  \n",
      " 0   id         202607 non-null  object \n",
      " 1   call_date  202607 non-null  object \n",
      " 2   duration   202607 non-null  float64\n",
      " 3   user_id    202607 non-null  int64  \n",
      "dtypes: float64(1), int64(1), object(2)\n",
      "memory usage: 6.2+ MB\n"
     ]
    }
   ],
   "source": [
    "df_cal.info()"
   ]
  },
  {
   "cell_type": "code",
   "execution_count": 6,
   "id": "1ab6e538",
   "metadata": {
    "scrolled": false
   },
   "outputs": [
    {
     "data": {
      "text/html": [
       "<div>\n",
       "<style scoped>\n",
       "    .dataframe tbody tr th:only-of-type {\n",
       "        vertical-align: middle;\n",
       "    }\n",
       "\n",
       "    .dataframe tbody tr th {\n",
       "        vertical-align: top;\n",
       "    }\n",
       "\n",
       "    .dataframe thead th {\n",
       "        text-align: right;\n",
       "    }\n",
       "</style>\n",
       "<table border=\"1\" class=\"dataframe\">\n",
       "  <thead>\n",
       "    <tr style=\"text-align: right;\">\n",
       "      <th></th>\n",
       "      <th>id</th>\n",
       "      <th>mb_used</th>\n",
       "      <th>session_date</th>\n",
       "      <th>user_id</th>\n",
       "    </tr>\n",
       "  </thead>\n",
       "  <tbody>\n",
       "    <tr>\n",
       "      <th>0</th>\n",
       "      <td>1000_0</td>\n",
       "      <td>112.95</td>\n",
       "      <td>2018-11-25</td>\n",
       "      <td>1000</td>\n",
       "    </tr>\n",
       "    <tr>\n",
       "      <th>1</th>\n",
       "      <td>1000_1</td>\n",
       "      <td>1052.81</td>\n",
       "      <td>2018-09-07</td>\n",
       "      <td>1000</td>\n",
       "    </tr>\n",
       "    <tr>\n",
       "      <th>2</th>\n",
       "      <td>1000_2</td>\n",
       "      <td>1197.26</td>\n",
       "      <td>2018-06-25</td>\n",
       "      <td>1000</td>\n",
       "    </tr>\n",
       "    <tr>\n",
       "      <th>3</th>\n",
       "      <td>1000_3</td>\n",
       "      <td>550.27</td>\n",
       "      <td>2018-08-22</td>\n",
       "      <td>1000</td>\n",
       "    </tr>\n",
       "    <tr>\n",
       "      <th>4</th>\n",
       "      <td>1000_4</td>\n",
       "      <td>302.56</td>\n",
       "      <td>2018-09-24</td>\n",
       "      <td>1000</td>\n",
       "    </tr>\n",
       "  </tbody>\n",
       "</table>\n",
       "</div>"
      ],
      "text/plain": [
       "       id  mb_used session_date  user_id\n",
       "0  1000_0   112.95   2018-11-25     1000\n",
       "1  1000_1  1052.81   2018-09-07     1000\n",
       "2  1000_2  1197.26   2018-06-25     1000\n",
       "3  1000_3   550.27   2018-08-22     1000\n",
       "4  1000_4   302.56   2018-09-24     1000"
      ]
     },
     "execution_count": 6,
     "metadata": {},
     "output_type": "execute_result"
    }
   ],
   "source": [
    "df_int.head()"
   ]
  },
  {
   "cell_type": "code",
   "execution_count": 7,
   "id": "88e0115f",
   "metadata": {},
   "outputs": [
    {
     "name": "stdout",
     "output_type": "stream",
     "text": [
      "<class 'pandas.core.frame.DataFrame'>\n",
      "Int64Index: 149396 entries, 0 to 149395\n",
      "Data columns (total 4 columns):\n",
      " #   Column        Non-Null Count   Dtype  \n",
      "---  ------        --------------   -----  \n",
      " 0   id            149396 non-null  object \n",
      " 1   mb_used       149396 non-null  float64\n",
      " 2   session_date  149396 non-null  object \n",
      " 3   user_id       149396 non-null  int64  \n",
      "dtypes: float64(1), int64(1), object(2)\n",
      "memory usage: 5.7+ MB\n"
     ]
    }
   ],
   "source": [
    "df_int.info()"
   ]
  },
  {
   "cell_type": "markdown",
   "id": "1fa002e8",
   "metadata": {},
   "source": [
    "Мы видим, что в dataframe `df_int` появился столбец `Unnamed: 0`, который дублирует индекс, вполне вероятно, что он нам не пригодится. При обработке данных удалим удалим его."
   ]
  },
  {
   "cell_type": "code",
   "execution_count": 8,
   "id": "c16a93e9",
   "metadata": {},
   "outputs": [
    {
     "data": {
      "text/html": [
       "<div>\n",
       "<style scoped>\n",
       "    .dataframe tbody tr th:only-of-type {\n",
       "        vertical-align: middle;\n",
       "    }\n",
       "\n",
       "    .dataframe tbody tr th {\n",
       "        vertical-align: top;\n",
       "    }\n",
       "\n",
       "    .dataframe thead th {\n",
       "        text-align: right;\n",
       "    }\n",
       "</style>\n",
       "<table border=\"1\" class=\"dataframe\">\n",
       "  <thead>\n",
       "    <tr style=\"text-align: right;\">\n",
       "      <th></th>\n",
       "      <th>id</th>\n",
       "      <th>message_date</th>\n",
       "      <th>user_id</th>\n",
       "    </tr>\n",
       "  </thead>\n",
       "  <tbody>\n",
       "    <tr>\n",
       "      <th>0</th>\n",
       "      <td>1000_0</td>\n",
       "      <td>2018-06-27</td>\n",
       "      <td>1000</td>\n",
       "    </tr>\n",
       "    <tr>\n",
       "      <th>1</th>\n",
       "      <td>1000_1</td>\n",
       "      <td>2018-10-08</td>\n",
       "      <td>1000</td>\n",
       "    </tr>\n",
       "    <tr>\n",
       "      <th>2</th>\n",
       "      <td>1000_2</td>\n",
       "      <td>2018-08-04</td>\n",
       "      <td>1000</td>\n",
       "    </tr>\n",
       "  </tbody>\n",
       "</table>\n",
       "</div>"
      ],
      "text/plain": [
       "       id message_date  user_id\n",
       "0  1000_0   2018-06-27     1000\n",
       "1  1000_1   2018-10-08     1000\n",
       "2  1000_2   2018-08-04     1000"
      ]
     },
     "execution_count": 8,
     "metadata": {},
     "output_type": "execute_result"
    }
   ],
   "source": [
    "df_mes.head(3)"
   ]
  },
  {
   "cell_type": "code",
   "execution_count": 9,
   "id": "f3c1d909",
   "metadata": {},
   "outputs": [
    {
     "name": "stdout",
     "output_type": "stream",
     "text": [
      "<class 'pandas.core.frame.DataFrame'>\n",
      "RangeIndex: 123036 entries, 0 to 123035\n",
      "Data columns (total 3 columns):\n",
      " #   Column        Non-Null Count   Dtype \n",
      "---  ------        --------------   ----- \n",
      " 0   id            123036 non-null  object\n",
      " 1   message_date  123036 non-null  object\n",
      " 2   user_id       123036 non-null  int64 \n",
      "dtypes: int64(1), object(2)\n",
      "memory usage: 2.8+ MB\n"
     ]
    }
   ],
   "source": [
    "df_mes.info()"
   ]
  },
  {
   "cell_type": "code",
   "execution_count": 10,
   "id": "6ba368bc",
   "metadata": {
    "scrolled": false
   },
   "outputs": [
    {
     "data": {
      "text/html": [
       "<div>\n",
       "<style scoped>\n",
       "    .dataframe tbody tr th:only-of-type {\n",
       "        vertical-align: middle;\n",
       "    }\n",
       "\n",
       "    .dataframe tbody tr th {\n",
       "        vertical-align: top;\n",
       "    }\n",
       "\n",
       "    .dataframe thead th {\n",
       "        text-align: right;\n",
       "    }\n",
       "</style>\n",
       "<table border=\"1\" class=\"dataframe\">\n",
       "  <thead>\n",
       "    <tr style=\"text-align: right;\">\n",
       "      <th></th>\n",
       "      <th>messages_included</th>\n",
       "      <th>mb_per_month_included</th>\n",
       "      <th>minutes_included</th>\n",
       "      <th>rub_monthly_fee</th>\n",
       "      <th>rub_per_gb</th>\n",
       "      <th>rub_per_message</th>\n",
       "      <th>rub_per_minute</th>\n",
       "      <th>tariff_name</th>\n",
       "    </tr>\n",
       "  </thead>\n",
       "  <tbody>\n",
       "    <tr>\n",
       "      <th>0</th>\n",
       "      <td>50</td>\n",
       "      <td>15360</td>\n",
       "      <td>500</td>\n",
       "      <td>550</td>\n",
       "      <td>200</td>\n",
       "      <td>3</td>\n",
       "      <td>3</td>\n",
       "      <td>smart</td>\n",
       "    </tr>\n",
       "    <tr>\n",
       "      <th>1</th>\n",
       "      <td>1000</td>\n",
       "      <td>30720</td>\n",
       "      <td>3000</td>\n",
       "      <td>1950</td>\n",
       "      <td>150</td>\n",
       "      <td>1</td>\n",
       "      <td>1</td>\n",
       "      <td>ultra</td>\n",
       "    </tr>\n",
       "  </tbody>\n",
       "</table>\n",
       "</div>"
      ],
      "text/plain": [
       "   messages_included  mb_per_month_included  minutes_included  \\\n",
       "0                 50                  15360               500   \n",
       "1               1000                  30720              3000   \n",
       "\n",
       "   rub_monthly_fee  rub_per_gb  rub_per_message  rub_per_minute tariff_name  \n",
       "0              550         200                3               3       smart  \n",
       "1             1950         150                1               1       ultra  "
      ]
     },
     "execution_count": 10,
     "metadata": {},
     "output_type": "execute_result"
    }
   ],
   "source": [
    "df_tar.head()"
   ]
  },
  {
   "cell_type": "code",
   "execution_count": 11,
   "id": "293e5a6f",
   "metadata": {},
   "outputs": [
    {
     "name": "stdout",
     "output_type": "stream",
     "text": [
      "<class 'pandas.core.frame.DataFrame'>\n",
      "RangeIndex: 2 entries, 0 to 1\n",
      "Data columns (total 8 columns):\n",
      " #   Column                 Non-Null Count  Dtype \n",
      "---  ------                 --------------  ----- \n",
      " 0   messages_included      2 non-null      int64 \n",
      " 1   mb_per_month_included  2 non-null      int64 \n",
      " 2   minutes_included       2 non-null      int64 \n",
      " 3   rub_monthly_fee        2 non-null      int64 \n",
      " 4   rub_per_gb             2 non-null      int64 \n",
      " 5   rub_per_message        2 non-null      int64 \n",
      " 6   rub_per_minute         2 non-null      int64 \n",
      " 7   tariff_name            2 non-null      object\n",
      "dtypes: int64(7), object(1)\n",
      "memory usage: 256.0+ bytes\n"
     ]
    }
   ],
   "source": [
    "df_tar.info()"
   ]
  },
  {
   "cell_type": "code",
   "execution_count": 12,
   "id": "3bba95f8",
   "metadata": {},
   "outputs": [
    {
     "data": {
      "text/html": [
       "<div>\n",
       "<style scoped>\n",
       "    .dataframe tbody tr th:only-of-type {\n",
       "        vertical-align: middle;\n",
       "    }\n",
       "\n",
       "    .dataframe tbody tr th {\n",
       "        vertical-align: top;\n",
       "    }\n",
       "\n",
       "    .dataframe thead th {\n",
       "        text-align: right;\n",
       "    }\n",
       "</style>\n",
       "<table border=\"1\" class=\"dataframe\">\n",
       "  <thead>\n",
       "    <tr style=\"text-align: right;\">\n",
       "      <th></th>\n",
       "      <th>user_id</th>\n",
       "      <th>age</th>\n",
       "      <th>churn_date</th>\n",
       "      <th>city</th>\n",
       "      <th>first_name</th>\n",
       "      <th>last_name</th>\n",
       "      <th>reg_date</th>\n",
       "      <th>tariff</th>\n",
       "    </tr>\n",
       "  </thead>\n",
       "  <tbody>\n",
       "    <tr>\n",
       "      <th>0</th>\n",
       "      <td>1000</td>\n",
       "      <td>52</td>\n",
       "      <td>NaN</td>\n",
       "      <td>Краснодар</td>\n",
       "      <td>Рафаил</td>\n",
       "      <td>Верещагин</td>\n",
       "      <td>2018-05-25</td>\n",
       "      <td>ultra</td>\n",
       "    </tr>\n",
       "    <tr>\n",
       "      <th>1</th>\n",
       "      <td>1001</td>\n",
       "      <td>41</td>\n",
       "      <td>NaN</td>\n",
       "      <td>Москва</td>\n",
       "      <td>Иван</td>\n",
       "      <td>Ежов</td>\n",
       "      <td>2018-11-01</td>\n",
       "      <td>smart</td>\n",
       "    </tr>\n",
       "    <tr>\n",
       "      <th>2</th>\n",
       "      <td>1002</td>\n",
       "      <td>59</td>\n",
       "      <td>NaN</td>\n",
       "      <td>Стерлитамак</td>\n",
       "      <td>Евгений</td>\n",
       "      <td>Абрамович</td>\n",
       "      <td>2018-06-17</td>\n",
       "      <td>smart</td>\n",
       "    </tr>\n",
       "    <tr>\n",
       "      <th>3</th>\n",
       "      <td>1003</td>\n",
       "      <td>23</td>\n",
       "      <td>NaN</td>\n",
       "      <td>Москва</td>\n",
       "      <td>Белла</td>\n",
       "      <td>Белякова</td>\n",
       "      <td>2018-08-17</td>\n",
       "      <td>ultra</td>\n",
       "    </tr>\n",
       "    <tr>\n",
       "      <th>4</th>\n",
       "      <td>1004</td>\n",
       "      <td>68</td>\n",
       "      <td>NaN</td>\n",
       "      <td>Новокузнецк</td>\n",
       "      <td>Татьяна</td>\n",
       "      <td>Авдеенко</td>\n",
       "      <td>2018-05-14</td>\n",
       "      <td>ultra</td>\n",
       "    </tr>\n",
       "  </tbody>\n",
       "</table>\n",
       "</div>"
      ],
      "text/plain": [
       "   user_id  age churn_date         city first_name  last_name    reg_date  \\\n",
       "0     1000   52        NaN    Краснодар     Рафаил  Верещагин  2018-05-25   \n",
       "1     1001   41        NaN       Москва       Иван       Ежов  2018-11-01   \n",
       "2     1002   59        NaN  Стерлитамак    Евгений  Абрамович  2018-06-17   \n",
       "3     1003   23        NaN       Москва      Белла   Белякова  2018-08-17   \n",
       "4     1004   68        NaN  Новокузнецк    Татьяна   Авдеенко  2018-05-14   \n",
       "\n",
       "  tariff  \n",
       "0  ultra  \n",
       "1  smart  \n",
       "2  smart  \n",
       "3  ultra  \n",
       "4  ultra  "
      ]
     },
     "execution_count": 12,
     "metadata": {},
     "output_type": "execute_result"
    }
   ],
   "source": [
    "df_use.head()"
   ]
  },
  {
   "cell_type": "code",
   "execution_count": 13,
   "id": "c8d40372",
   "metadata": {
    "scrolled": true
   },
   "outputs": [
    {
     "name": "stdout",
     "output_type": "stream",
     "text": [
      "<class 'pandas.core.frame.DataFrame'>\n",
      "RangeIndex: 500 entries, 0 to 499\n",
      "Data columns (total 8 columns):\n",
      " #   Column      Non-Null Count  Dtype \n",
      "---  ------      --------------  ----- \n",
      " 0   user_id     500 non-null    int64 \n",
      " 1   age         500 non-null    int64 \n",
      " 2   churn_date  38 non-null     object\n",
      " 3   city        500 non-null    object\n",
      " 4   first_name  500 non-null    object\n",
      " 5   last_name   500 non-null    object\n",
      " 6   reg_date    500 non-null    object\n",
      " 7   tariff      500 non-null    object\n",
      "dtypes: int64(2), object(6)\n",
      "memory usage: 31.4+ KB\n"
     ]
    }
   ],
   "source": [
    "df_use.info()"
   ]
  },
  {
   "cell_type": "markdown",
   "id": "9b934513",
   "metadata": {},
   "source": [
    "### Общий вывод"
   ]
  },
  {
   "cell_type": "markdown",
   "id": "c79e7d79",
   "metadata": {},
   "source": [
    "Из формирования общей инфорамации о данных, мы можем сделать следующие выводы.\n",
    "\n",
    "В выборке 500 пользователей. Они отправили 123036 сообщений, совершили 202607 шт звонков и 149396 интернет-сессий.\n",
    "\n",
    "Заголовки прописаны согласно рекомендациям PEP8. По названием столбцов, скорее всего нам нужно будет переименовать столбцы `id` в dataframe - `df_cal`, `df_int`, `df_mes`, т.к. они с одним наименованием, однако обозначают разные процессы, что может нарушить корректность рабочих процессов по анализу данных в дальнейшем.\n",
    "\n",
    "Пропущенные значения есть в одном столбце `churn_date` - дата прекращения обслуживания, датафрейма `df_use`. При небходимости заполним в дальнейшем нужными данными.\n",
    "\n",
    "По типам данных. Нам необходимо будет изменить тип данных в датах во всех dataframe, где они присутствуют. Также мы изменим все колонки `user_id` с `int` на `str`, так как эти данные относятся к категориальным данным."
   ]
  },
  {
   "cell_type": "markdown",
   "id": "87a0845b",
   "metadata": {},
   "source": [
    "## Предобработка данных"
   ]
  },
  {
   "cell_type": "markdown",
   "id": "28a2a657",
   "metadata": {},
   "source": [
    "### Заголовки"
   ]
  },
  {
   "cell_type": "markdown",
   "id": "8b53d815",
   "metadata": {},
   "source": [
    "При общем обзоре данных, мы решили, что необходимо изменить заголовки с названиями `id` на более соответствующие им. Проведем это для каждого необходимого dataframe."
   ]
  },
  {
   "cell_type": "code",
   "execution_count": 14,
   "id": "44942cd0",
   "metadata": {},
   "outputs": [],
   "source": [
    "df_cal = df_cal.rename(columns={'id': 'id_cal'})\n",
    "df_int = df_int.rename(columns={'id': 'id_int'})\n",
    "df_mes = df_mes.rename(columns={'id': 'id_mes'})"
   ]
  },
  {
   "cell_type": "code",
   "execution_count": 15,
   "id": "af31a66e",
   "metadata": {},
   "outputs": [
    {
     "data": {
      "text/html": [
       "<div>\n",
       "<style scoped>\n",
       "    .dataframe tbody tr th:only-of-type {\n",
       "        vertical-align: middle;\n",
       "    }\n",
       "\n",
       "    .dataframe tbody tr th {\n",
       "        vertical-align: top;\n",
       "    }\n",
       "\n",
       "    .dataframe thead th {\n",
       "        text-align: right;\n",
       "    }\n",
       "</style>\n",
       "<table border=\"1\" class=\"dataframe\">\n",
       "  <thead>\n",
       "    <tr style=\"text-align: right;\">\n",
       "      <th></th>\n",
       "      <th>id_cal</th>\n",
       "      <th>call_date</th>\n",
       "      <th>duration</th>\n",
       "      <th>user_id</th>\n",
       "    </tr>\n",
       "  </thead>\n",
       "  <tbody>\n",
       "    <tr>\n",
       "      <th>0</th>\n",
       "      <td>1000_0</td>\n",
       "      <td>2018-07-25</td>\n",
       "      <td>0.0</td>\n",
       "      <td>1000</td>\n",
       "    </tr>\n",
       "  </tbody>\n",
       "</table>\n",
       "</div>"
      ],
      "text/plain": [
       "   id_cal   call_date  duration  user_id\n",
       "0  1000_0  2018-07-25       0.0     1000"
      ]
     },
     "execution_count": 15,
     "metadata": {},
     "output_type": "execute_result"
    }
   ],
   "source": [
    "df_cal.head(1) #выборочно выведим один датафрейм и посмотрим заменилось ли имя столбца"
   ]
  },
  {
   "cell_type": "markdown",
   "id": "35d912f5",
   "metadata": {},
   "source": [
    "#### Вывод"
   ]
  },
  {
   "cell_type": "markdown",
   "id": "52d82c0b",
   "metadata": {},
   "source": [
    "Мы успешно провели изменения наименований столбцов"
   ]
  },
  {
   "cell_type": "markdown",
   "id": "8fe88a04",
   "metadata": {},
   "source": [
    "### Пропущенные значения"
   ]
  },
  {
   "cell_type": "markdown",
   "id": "11bdc48d",
   "metadata": {},
   "source": [
    "В ходе общего обзора датафреймов, мы обнаружили пропущенные значения в одном из столбцов датафрейма `df_use` в столбце `churn_date`- дата прекращения пользованием тарифом."
   ]
  },
  {
   "cell_type": "markdown",
   "id": "244739e0",
   "metadata": {},
   "source": [
    "Нам известно, что пропущенные значения указывают на то, что тариф еще действовал на момент выгрузки данных. "
   ]
  },
  {
   "cell_type": "markdown",
   "id": "f4511e9c",
   "metadata": {},
   "source": [
    "Оставим пока в столбце `churn_date` пропущенные значения."
   ]
  },
  {
   "cell_type": "markdown",
   "id": "3c9769da",
   "metadata": {},
   "source": [
    "#### Вывод"
   ]
  },
  {
   "cell_type": "markdown",
   "id": "8b7a746b",
   "metadata": {},
   "source": [
    "Мы решили оставить пропущенные значения в столбце `churn_date`"
   ]
  },
  {
   "cell_type": "markdown",
   "id": "a64cce35",
   "metadata": {},
   "source": [
    "### Изменения типа данных"
   ]
  },
  {
   "cell_type": "markdown",
   "id": "5ac76781",
   "metadata": {},
   "source": [
    "По типам данных. Нам необходимо будет изменить тип данных в датах во всех dataframe, где они присутствуют. \n",
    "\n",
    "Далее, мы изменим все колонки user_id с int на str, так как эти данные относятся к категориальным данным."
   ]
  },
  {
   "cell_type": "markdown",
   "id": "cf86af22",
   "metadata": {},
   "source": [
    "Чтобы не повторять один и тот же код, напишем функцию с помощью которой изменим тип данных столбцов с датой.\n",
    "\n",
    "Сразу же в функцию добавим месяц совершения итераций и преобразуем в удобочитаемый вид."
   ]
  },
  {
   "cell_type": "code",
   "execution_count": 16,
   "id": "11351ea1",
   "metadata": {},
   "outputs": [],
   "source": [
    "def change_date(data, column):\n",
    "    \"\"\"Функция создает новый столбец с 'правильными' датами, создает столбец с месяцем итерации и преобразует его в удобочитаемый вид \"\"\"\n",
    "    \n",
    "    data[column + '_main'] = pd.to_datetime(data[column], format='%Y-%m-%d')\n",
    "    data['month_iter'] = pd.DatetimeIndex(data[column + '_main']).month\n",
    "    month = {1: '01_Январь', 2: '02_Февраль', 3: '03_Март', 4: '04_Апрель', 5: '05_Май', 6: '06_Июнь', 7: '07_Июль', 8: '08_Август', 9: '09_Сентябрь', 10: '10_Октябрь', 11: '11_Ноябрь', 12: '12_Декабрь'}\n",
    "    data['month_iter'] = data['month_iter'].map(month)"
   ]
  },
  {
   "cell_type": "markdown",
   "id": "9dd8451d",
   "metadata": {},
   "source": [
    "Применим сразу нашу функцию к необходимым датафреймам."
   ]
  },
  {
   "cell_type": "code",
   "execution_count": 17,
   "id": "eb0d2fb3",
   "metadata": {},
   "outputs": [],
   "source": [
    "change_date(df_cal, 'call_date')\n",
    "change_date(df_int, 'session_date')\n",
    "change_date(df_mes, 'message_date')\n",
    "change_date(df_use, 'reg_date')"
   ]
  },
  {
   "cell_type": "markdown",
   "id": "956045e2",
   "metadata": {},
   "source": [
    "Аналогично образом изменим типы данных столбцов `user_id` с int на str. Создадим функцию по замене значений."
   ]
  },
  {
   "cell_type": "code",
   "execution_count": 18,
   "id": "9c5e7553",
   "metadata": {},
   "outputs": [],
   "source": [
    "def change_type(data):\n",
    "    \"\"\"Функция меняет тип данных с int на str\"\"\"\n",
    "    \n",
    "    data['user_id'] = data['user_id'].astype('str')"
   ]
  },
  {
   "cell_type": "markdown",
   "id": "384d1fb3",
   "metadata": {},
   "source": [
    "Применим функцию к необходимым данным."
   ]
  },
  {
   "cell_type": "code",
   "execution_count": 19,
   "id": "6062c181",
   "metadata": {},
   "outputs": [],
   "source": [
    "change_type(df_cal)\n",
    "change_type(df_int)\n",
    "change_type(df_mes)\n",
    "change_type(df_use)"
   ]
  },
  {
   "cell_type": "markdown",
   "id": "eefbe6fc",
   "metadata": {},
   "source": [
    "Выборочно проверим изменения, выведим 5 строк общей информации у одного датафрейма."
   ]
  },
  {
   "cell_type": "code",
   "execution_count": 20,
   "id": "bc9efbee",
   "metadata": {
    "scrolled": true
   },
   "outputs": [
    {
     "name": "stdout",
     "output_type": "stream",
     "text": [
      "<class 'pandas.core.frame.DataFrame'>\n",
      "RangeIndex: 123036 entries, 0 to 123035\n",
      "Data columns (total 5 columns):\n",
      " #   Column             Non-Null Count   Dtype         \n",
      "---  ------             --------------   -----         \n",
      " 0   id_mes             123036 non-null  object        \n",
      " 1   message_date       123036 non-null  object        \n",
      " 2   user_id            123036 non-null  object        \n",
      " 3   message_date_main  123036 non-null  datetime64[ns]\n",
      " 4   month_iter         123036 non-null  object        \n",
      "dtypes: datetime64[ns](1), object(4)\n",
      "memory usage: 4.7+ MB\n"
     ]
    }
   ],
   "source": [
    "df_mes.info()"
   ]
  },
  {
   "cell_type": "markdown",
   "id": "ccffd7d5",
   "metadata": {},
   "source": [
    "#### Вывод"
   ]
  },
  {
   "cell_type": "markdown",
   "id": "b747da82",
   "metadata": {},
   "source": [
    "Мы успешно провели изменения типов данных столбцов `user_id` и столбцов с датами."
   ]
  },
  {
   "cell_type": "markdown",
   "id": "e1128b99",
   "metadata": {},
   "source": [
    "## Подготовка данных"
   ]
  },
  {
   "cell_type": "markdown",
   "id": "cdbe6115",
   "metadata": {},
   "source": [
    "#### Добавление столбцов"
   ]
  },
  {
   "cell_type": "markdown",
   "id": "73dbd6cd",
   "metadata": {},
   "source": [
    "Добавим в датафреймы `df_cal`, `df_int`, `df_mes` столбецы с тарифами."
   ]
  },
  {
   "cell_type": "code",
   "execution_count": 21,
   "id": "208fb619",
   "metadata": {},
   "outputs": [],
   "source": [
    "#воспользуемся методом merge()\n",
    "df_cal = df_cal.merge(df_use[['user_id', 'tariff']])\n",
    "df_int = df_int.merge(df_use[['user_id', 'tariff']])\n",
    "df_mes = df_mes.merge(df_use[['user_id', 'tariff']])"
   ]
  },
  {
   "cell_type": "markdown",
   "id": "5fc80f53",
   "metadata": {},
   "source": [
    "Проверим результат на одном датафрейме, выведим одну строку."
   ]
  },
  {
   "cell_type": "code",
   "execution_count": 22,
   "id": "febaa30d",
   "metadata": {},
   "outputs": [
    {
     "data": {
      "text/html": [
       "<div>\n",
       "<style scoped>\n",
       "    .dataframe tbody tr th:only-of-type {\n",
       "        vertical-align: middle;\n",
       "    }\n",
       "\n",
       "    .dataframe tbody tr th {\n",
       "        vertical-align: top;\n",
       "    }\n",
       "\n",
       "    .dataframe thead th {\n",
       "        text-align: right;\n",
       "    }\n",
       "</style>\n",
       "<table border=\"1\" class=\"dataframe\">\n",
       "  <thead>\n",
       "    <tr style=\"text-align: right;\">\n",
       "      <th></th>\n",
       "      <th>id_cal</th>\n",
       "      <th>call_date</th>\n",
       "      <th>duration</th>\n",
       "      <th>user_id</th>\n",
       "      <th>call_date_main</th>\n",
       "      <th>month_iter</th>\n",
       "      <th>tariff</th>\n",
       "    </tr>\n",
       "  </thead>\n",
       "  <tbody>\n",
       "    <tr>\n",
       "      <th>0</th>\n",
       "      <td>1000_0</td>\n",
       "      <td>2018-07-25</td>\n",
       "      <td>0.0</td>\n",
       "      <td>1000</td>\n",
       "      <td>2018-07-25</td>\n",
       "      <td>07_Июль</td>\n",
       "      <td>ultra</td>\n",
       "    </tr>\n",
       "  </tbody>\n",
       "</table>\n",
       "</div>"
      ],
      "text/plain": [
       "   id_cal   call_date  duration user_id call_date_main month_iter tariff\n",
       "0  1000_0  2018-07-25       0.0    1000     2018-07-25    07_Июль  ultra"
      ]
     },
     "execution_count": 22,
     "metadata": {},
     "output_type": "execute_result"
    }
   ],
   "source": [
    "df_cal.head(1)"
   ]
  },
  {
   "cell_type": "markdown",
   "id": "351f2426",
   "metadata": {},
   "source": [
    "#### Вывод"
   ]
  },
  {
   "cell_type": "markdown",
   "id": "a0347417",
   "metadata": {},
   "source": [
    "Мы успешно добавили необходимые столбцы."
   ]
  },
  {
   "cell_type": "markdown",
   "id": "84c3fca2",
   "metadata": {},
   "source": [
    "### Звонки"
   ]
  },
  {
   "cell_type": "markdown",
   "id": "6c962bd6",
   "metadata": {},
   "source": [
    "#### Количество звонков"
   ]
  },
  {
   "cell_type": "markdown",
   "id": "119a1f47",
   "metadata": {},
   "source": [
    "Посчитаем количество сделанных звонков по месяцам на каждого пользователя. Для этого создадим отдельный датафрейм `df_cal_month_user_count`. Значения в нем сразу переведем в формат `int`. Испльзуем для этого метод `pivot_table`."
   ]
  },
  {
   "cell_type": "code",
   "execution_count": 23,
   "id": "a42eea45",
   "metadata": {},
   "outputs": [],
   "source": [
    "df_cal_month_user_count = pd.pivot_table(df_cal, index = ['user_id', 'tariff'], columns = 'month_iter', values = 'id_cal', aggfunc = 'count', fill_value=0).astype(int)"
   ]
  },
  {
   "cell_type": "markdown",
   "id": "4ed9870e",
   "metadata": {},
   "source": [
    "Выведим полученный датафрейм `df_cal_month_user_count`"
   ]
  },
  {
   "cell_type": "code",
   "execution_count": 24,
   "id": "5480997e",
   "metadata": {},
   "outputs": [
    {
     "data": {
      "text/html": [
       "<div>\n",
       "<style scoped>\n",
       "    .dataframe tbody tr th:only-of-type {\n",
       "        vertical-align: middle;\n",
       "    }\n",
       "\n",
       "    .dataframe tbody tr th {\n",
       "        vertical-align: top;\n",
       "    }\n",
       "\n",
       "    .dataframe thead th {\n",
       "        text-align: right;\n",
       "    }\n",
       "</style>\n",
       "<table border=\"1\" class=\"dataframe\">\n",
       "  <thead>\n",
       "    <tr style=\"text-align: right;\">\n",
       "      <th></th>\n",
       "      <th>month_iter</th>\n",
       "      <th>01_Январь</th>\n",
       "      <th>02_Февраль</th>\n",
       "      <th>03_Март</th>\n",
       "      <th>04_Апрель</th>\n",
       "      <th>05_Май</th>\n",
       "      <th>06_Июнь</th>\n",
       "      <th>07_Июль</th>\n",
       "      <th>08_Август</th>\n",
       "      <th>09_Сентябрь</th>\n",
       "      <th>10_Октябрь</th>\n",
       "      <th>11_Ноябрь</th>\n",
       "      <th>12_Декабрь</th>\n",
       "    </tr>\n",
       "    <tr>\n",
       "      <th>user_id</th>\n",
       "      <th>tariff</th>\n",
       "      <th></th>\n",
       "      <th></th>\n",
       "      <th></th>\n",
       "      <th></th>\n",
       "      <th></th>\n",
       "      <th></th>\n",
       "      <th></th>\n",
       "      <th></th>\n",
       "      <th></th>\n",
       "      <th></th>\n",
       "      <th></th>\n",
       "      <th></th>\n",
       "    </tr>\n",
       "  </thead>\n",
       "  <tbody>\n",
       "    <tr>\n",
       "      <th>1000</th>\n",
       "      <th>ultra</th>\n",
       "      <td>0</td>\n",
       "      <td>0</td>\n",
       "      <td>0</td>\n",
       "      <td>0</td>\n",
       "      <td>22</td>\n",
       "      <td>43</td>\n",
       "      <td>47</td>\n",
       "      <td>52</td>\n",
       "      <td>58</td>\n",
       "      <td>57</td>\n",
       "      <td>43</td>\n",
       "      <td>46</td>\n",
       "    </tr>\n",
       "    <tr>\n",
       "      <th>1001</th>\n",
       "      <th>smart</th>\n",
       "      <td>0</td>\n",
       "      <td>0</td>\n",
       "      <td>0</td>\n",
       "      <td>0</td>\n",
       "      <td>0</td>\n",
       "      <td>0</td>\n",
       "      <td>0</td>\n",
       "      <td>0</td>\n",
       "      <td>0</td>\n",
       "      <td>0</td>\n",
       "      <td>59</td>\n",
       "      <td>63</td>\n",
       "    </tr>\n",
       "    <tr>\n",
       "      <th>1002</th>\n",
       "      <th>smart</th>\n",
       "      <td>0</td>\n",
       "      <td>0</td>\n",
       "      <td>0</td>\n",
       "      <td>0</td>\n",
       "      <td>0</td>\n",
       "      <td>15</td>\n",
       "      <td>26</td>\n",
       "      <td>42</td>\n",
       "      <td>36</td>\n",
       "      <td>33</td>\n",
       "      <td>32</td>\n",
       "      <td>33</td>\n",
       "    </tr>\n",
       "    <tr>\n",
       "      <th>1003</th>\n",
       "      <th>ultra</th>\n",
       "      <td>0</td>\n",
       "      <td>0</td>\n",
       "      <td>0</td>\n",
       "      <td>0</td>\n",
       "      <td>0</td>\n",
       "      <td>0</td>\n",
       "      <td>0</td>\n",
       "      <td>55</td>\n",
       "      <td>134</td>\n",
       "      <td>108</td>\n",
       "      <td>115</td>\n",
       "      <td>108</td>\n",
       "    </tr>\n",
       "    <tr>\n",
       "      <th>1004</th>\n",
       "      <th>ultra</th>\n",
       "      <td>0</td>\n",
       "      <td>0</td>\n",
       "      <td>0</td>\n",
       "      <td>0</td>\n",
       "      <td>9</td>\n",
       "      <td>31</td>\n",
       "      <td>22</td>\n",
       "      <td>19</td>\n",
       "      <td>26</td>\n",
       "      <td>29</td>\n",
       "      <td>19</td>\n",
       "      <td>21</td>\n",
       "    </tr>\n",
       "  </tbody>\n",
       "</table>\n",
       "</div>"
      ],
      "text/plain": [
       "month_iter      01_Январь  02_Февраль  03_Март  04_Апрель  05_Май  06_Июнь  \\\n",
       "user_id tariff                                                               \n",
       "1000    ultra           0           0        0          0      22       43   \n",
       "1001    smart           0           0        0          0       0        0   \n",
       "1002    smart           0           0        0          0       0       15   \n",
       "1003    ultra           0           0        0          0       0        0   \n",
       "1004    ultra           0           0        0          0       9       31   \n",
       "\n",
       "month_iter      07_Июль  08_Август  09_Сентябрь  10_Октябрь  11_Ноябрь  \\\n",
       "user_id tariff                                                           \n",
       "1000    ultra        47         52           58          57         43   \n",
       "1001    smart         0          0            0           0         59   \n",
       "1002    smart        26         42           36          33         32   \n",
       "1003    ultra         0         55          134         108        115   \n",
       "1004    ultra        22         19           26          29         19   \n",
       "\n",
       "month_iter      12_Декабрь  \n",
       "user_id tariff              \n",
       "1000    ultra           46  \n",
       "1001    smart           63  \n",
       "1002    smart           33  \n",
       "1003    ultra          108  \n",
       "1004    ultra           21  "
      ]
     },
     "execution_count": 24,
     "metadata": {},
     "output_type": "execute_result"
    }
   ],
   "source": [
    "df_cal_month_user_count.head()"
   ]
  },
  {
   "cell_type": "markdown",
   "id": "96517b05",
   "metadata": {},
   "source": [
    "#### Вывод"
   ]
  },
  {
   "cell_type": "markdown",
   "id": "51e30969",
   "metadata": {},
   "source": [
    "Мы успешно создали датафрейм, в котором посчитали количество совершенных звонков по каждому пользователю помесячно"
   ]
  },
  {
   "cell_type": "markdown",
   "id": "360617e0",
   "metadata": {},
   "source": [
    "#### Количество израсходованных минут"
   ]
  },
  {
   "cell_type": "markdown",
   "id": "455a00c6",
   "metadata": {},
   "source": [
    "Посчитаем количество израсходованных минут разговора по месяцам на каждого пользователя.\n",
    "\n",
    "Так как в операторе связи принято округлять каждый звонок с секунд до минут, для подсчета количества израсходованных минут нам нужно округлить значения.\n",
    "\n",
    "Для этого создадим новый столбец `duration_min` в датафрейми `df_cal` в котором будут содержаться округленные до мин данные по каждому совершенному звонку. \n",
    "\n",
    "Округлим значения каждоного звонка до минут и сразу изменим тип данных на `int`"
   ]
  },
  {
   "cell_type": "code",
   "execution_count": 25,
   "id": "acf9e7b0",
   "metadata": {},
   "outputs": [],
   "source": [
    "df_cal['duration_minute'] = np.ceil(df_cal['duration']).astype(int)"
   ]
  },
  {
   "cell_type": "markdown",
   "id": "01b43037",
   "metadata": {},
   "source": [
    "Далее, для подсчета израсходованных минут каждого пользователя, создадим сводную таблицу `df_cal_month_user_sum`, применим метод *pivot_table()*"
   ]
  },
  {
   "cell_type": "code",
   "execution_count": 26,
   "id": "f6e9e8bc",
   "metadata": {},
   "outputs": [],
   "source": [
    "df_cal_month_user_sum = pd.pivot_table(df_cal, index = ['user_id', 'tariff'], columns = 'month_iter', values = 'duration_minute', aggfunc = 'sum', fill_value=0).astype(int).reset_index()"
   ]
  },
  {
   "cell_type": "markdown",
   "id": "27a28809",
   "metadata": {},
   "source": [
    "Выведим полученный датафрейм `df_cal_month_user_sum`"
   ]
  },
  {
   "cell_type": "code",
   "execution_count": 27,
   "id": "fd3ce62f",
   "metadata": {},
   "outputs": [
    {
     "data": {
      "text/html": [
       "<div>\n",
       "<style scoped>\n",
       "    .dataframe tbody tr th:only-of-type {\n",
       "        vertical-align: middle;\n",
       "    }\n",
       "\n",
       "    .dataframe tbody tr th {\n",
       "        vertical-align: top;\n",
       "    }\n",
       "\n",
       "    .dataframe thead th {\n",
       "        text-align: right;\n",
       "    }\n",
       "</style>\n",
       "<table border=\"1\" class=\"dataframe\">\n",
       "  <thead>\n",
       "    <tr style=\"text-align: right;\">\n",
       "      <th>month_iter</th>\n",
       "      <th>user_id</th>\n",
       "      <th>tariff</th>\n",
       "      <th>01_Январь</th>\n",
       "      <th>02_Февраль</th>\n",
       "      <th>03_Март</th>\n",
       "      <th>04_Апрель</th>\n",
       "      <th>05_Май</th>\n",
       "      <th>06_Июнь</th>\n",
       "      <th>07_Июль</th>\n",
       "      <th>08_Август</th>\n",
       "      <th>09_Сентябрь</th>\n",
       "      <th>10_Октябрь</th>\n",
       "      <th>11_Ноябрь</th>\n",
       "      <th>12_Декабрь</th>\n",
       "    </tr>\n",
       "  </thead>\n",
       "  <tbody>\n",
       "    <tr>\n",
       "      <th>0</th>\n",
       "      <td>1000</td>\n",
       "      <td>ultra</td>\n",
       "      <td>0</td>\n",
       "      <td>0</td>\n",
       "      <td>0</td>\n",
       "      <td>0</td>\n",
       "      <td>159</td>\n",
       "      <td>172</td>\n",
       "      <td>340</td>\n",
       "      <td>408</td>\n",
       "      <td>466</td>\n",
       "      <td>350</td>\n",
       "      <td>338</td>\n",
       "      <td>333</td>\n",
       "    </tr>\n",
       "    <tr>\n",
       "      <th>1</th>\n",
       "      <td>1001</td>\n",
       "      <td>smart</td>\n",
       "      <td>0</td>\n",
       "      <td>0</td>\n",
       "      <td>0</td>\n",
       "      <td>0</td>\n",
       "      <td>0</td>\n",
       "      <td>0</td>\n",
       "      <td>0</td>\n",
       "      <td>0</td>\n",
       "      <td>0</td>\n",
       "      <td>0</td>\n",
       "      <td>430</td>\n",
       "      <td>414</td>\n",
       "    </tr>\n",
       "    <tr>\n",
       "      <th>2</th>\n",
       "      <td>1002</td>\n",
       "      <td>smart</td>\n",
       "      <td>0</td>\n",
       "      <td>0</td>\n",
       "      <td>0</td>\n",
       "      <td>0</td>\n",
       "      <td>0</td>\n",
       "      <td>117</td>\n",
       "      <td>214</td>\n",
       "      <td>289</td>\n",
       "      <td>206</td>\n",
       "      <td>212</td>\n",
       "      <td>243</td>\n",
       "      <td>236</td>\n",
       "    </tr>\n",
       "  </tbody>\n",
       "</table>\n",
       "</div>"
      ],
      "text/plain": [
       "month_iter user_id tariff  01_Январь  02_Февраль  03_Март  04_Апрель  05_Май  \\\n",
       "0             1000  ultra          0           0        0          0     159   \n",
       "1             1001  smart          0           0        0          0       0   \n",
       "2             1002  smart          0           0        0          0       0   \n",
       "\n",
       "month_iter  06_Июнь  07_Июль  08_Август  09_Сентябрь  10_Октябрь  11_Ноябрь  \\\n",
       "0               172      340        408          466         350        338   \n",
       "1                 0        0          0            0           0        430   \n",
       "2               117      214        289          206         212        243   \n",
       "\n",
       "month_iter  12_Декабрь  \n",
       "0                  333  \n",
       "1                  414  \n",
       "2                  236  "
      ]
     },
     "execution_count": 27,
     "metadata": {},
     "output_type": "execute_result"
    }
   ],
   "source": [
    "df_cal_month_user_sum.head(3)"
   ]
  },
  {
   "cell_type": "markdown",
   "id": "aff51dc8",
   "metadata": {},
   "source": [
    "#### Вывод"
   ]
  },
  {
   "cell_type": "markdown",
   "id": "12ae616c",
   "metadata": {},
   "source": [
    "Мы успешно посчитали израсходованные минуты по каждому пользователю помесячно и сохранили все это в датафрейм `df_cal_month_user_sum`"
   ]
  },
  {
   "cell_type": "markdown",
   "id": "56569abc",
   "metadata": {},
   "source": [
    "#### Израсходованные минуты превышающие бесплатный лимит"
   ]
  },
  {
   "cell_type": "markdown",
   "id": "b0ba8e0a",
   "metadata": {},
   "source": [
    "Вычислим расход минут превышающий бесплатный лимит в рамках тарифа и сохраним это в датафрейм `df_cal_month_user_sum_total`"
   ]
  },
  {
   "cell_type": "markdown",
   "id": "a8bffa24",
   "metadata": {},
   "source": [
    "Создадим датафрейм `df_cal_month_user_sum_total` в котором в итоге у нас будут указаны кол-во минут разговора сверх бесплатного лимита, по каждому клиенту и по каждому месяцу."
   ]
  },
  {
   "cell_type": "code",
   "execution_count": 28,
   "id": "573c43bb",
   "metadata": {},
   "outputs": [],
   "source": [
    "df_cal_month_user_sum_total = df_cal_month_user_sum.copy()"
   ]
  },
  {
   "cell_type": "markdown",
   "id": "a08689c4",
   "metadata": {},
   "source": [
    "Создадим список колонок с названиями месяцев. Который будем в дальнейшем применять к данным по ежемесячным расходам"
   ]
  },
  {
   "cell_type": "code",
   "execution_count": 29,
   "id": "51f895d3",
   "metadata": {},
   "outputs": [],
   "source": [
    "list_month = ['01_Январь', '02_Февраль', '03_Март', '04_Апрель', '05_Май', '06_Июнь', '07_Июль', '08_Август', '09_Сентябрь', '10_Октябрь', '11_Ноябрь', '12_Декабрь']"
   ]
  },
  {
   "cell_type": "markdown",
   "id": "847ef5f6",
   "metadata": {},
   "source": [
    "Вычтим из общего кол-ва потраченных минут бесплатные минуты по каждому тарифу отдельно."
   ]
  },
  {
   "cell_type": "markdown",
   "id": "b5d2f93f",
   "metadata": {},
   "source": [
    "Для оптимизации напишем фукнцию для расчета `count_iter`"
   ]
  },
  {
   "cell_type": "code",
   "execution_count": 30,
   "id": "f0848ea3",
   "metadata": {},
   "outputs": [],
   "source": [
    "def count_iter(data_new, tarif, column_tar):\n",
    "    if tarif == 'ultra':\n",
    "        data_new.loc[data_new['tariff'] == 'ultra', list_month] = data_new.loc[data_new['tariff'] == 'ultra', list_month] - df_tar.loc[1, column_tar]\n",
    "    elif tarif == 'smart':\n",
    "        data_new.loc[data_new['tariff'] == 'smart', list_month] = data_new.loc[data_new['tariff'] == 'smart', list_month] - df_tar.loc[0, column_tar]"
   ]
  },
  {
   "cell_type": "markdown",
   "id": "3ba4ce54",
   "metadata": {},
   "source": [
    "Применим функцию к клиентам с тарифом `ultra`"
   ]
  },
  {
   "cell_type": "code",
   "execution_count": 31,
   "id": "15f60714",
   "metadata": {},
   "outputs": [],
   "source": [
    "count_iter(df_cal_month_user_sum_total, 'ultra', 'minutes_included')"
   ]
  },
  {
   "cell_type": "markdown",
   "id": "d0332d65",
   "metadata": {},
   "source": [
    "Аналогично применим к клиентам с тарифом `smart`"
   ]
  },
  {
   "cell_type": "code",
   "execution_count": 32,
   "id": "bcd15110",
   "metadata": {},
   "outputs": [],
   "source": [
    "count_iter(df_cal_month_user_sum_total, 'smart', 'minutes_included')"
   ]
  },
  {
   "cell_type": "markdown",
   "id": "0f572df3",
   "metadata": {},
   "source": [
    "Заменим все отрицательные значения в датафрейме `df_cal_month_user_sum_total` на 0"
   ]
  },
  {
   "cell_type": "code",
   "execution_count": 33,
   "id": "b8efb9f2",
   "metadata": {},
   "outputs": [],
   "source": [
    "df_cal_month_user_sum_total[list_month] = df_cal_month_user_sum_total[list_month].clip(lower=0)"
   ]
  },
  {
   "cell_type": "markdown",
   "id": "3aa11ec1",
   "metadata": {},
   "source": [
    "Выведим выборочно полученные результаты `df_cal_month_user_sum_total`"
   ]
  },
  {
   "cell_type": "code",
   "execution_count": 34,
   "id": "06ff3323",
   "metadata": {},
   "outputs": [
    {
     "data": {
      "text/html": [
       "<div>\n",
       "<style scoped>\n",
       "    .dataframe tbody tr th:only-of-type {\n",
       "        vertical-align: middle;\n",
       "    }\n",
       "\n",
       "    .dataframe tbody tr th {\n",
       "        vertical-align: top;\n",
       "    }\n",
       "\n",
       "    .dataframe thead th {\n",
       "        text-align: right;\n",
       "    }\n",
       "</style>\n",
       "<table border=\"1\" class=\"dataframe\">\n",
       "  <thead>\n",
       "    <tr style=\"text-align: right;\">\n",
       "      <th>month_iter</th>\n",
       "      <th>user_id</th>\n",
       "      <th>tariff</th>\n",
       "      <th>01_Январь</th>\n",
       "      <th>02_Февраль</th>\n",
       "      <th>03_Март</th>\n",
       "      <th>04_Апрель</th>\n",
       "      <th>05_Май</th>\n",
       "      <th>06_Июнь</th>\n",
       "      <th>07_Июль</th>\n",
       "      <th>08_Август</th>\n",
       "      <th>09_Сентябрь</th>\n",
       "      <th>10_Октябрь</th>\n",
       "      <th>11_Ноябрь</th>\n",
       "      <th>12_Декабрь</th>\n",
       "    </tr>\n",
       "  </thead>\n",
       "  <tbody>\n",
       "    <tr>\n",
       "      <th>487</th>\n",
       "      <td>1495</td>\n",
       "      <td>ultra</td>\n",
       "      <td>0</td>\n",
       "      <td>0</td>\n",
       "      <td>0</td>\n",
       "      <td>0</td>\n",
       "      <td>0</td>\n",
       "      <td>0</td>\n",
       "      <td>0</td>\n",
       "      <td>0</td>\n",
       "      <td>0</td>\n",
       "      <td>0</td>\n",
       "      <td>0</td>\n",
       "      <td>0</td>\n",
       "    </tr>\n",
       "    <tr>\n",
       "      <th>488</th>\n",
       "      <td>1496</td>\n",
       "      <td>smart</td>\n",
       "      <td>0</td>\n",
       "      <td>94</td>\n",
       "      <td>57</td>\n",
       "      <td>21</td>\n",
       "      <td>0</td>\n",
       "      <td>55</td>\n",
       "      <td>82</td>\n",
       "      <td>27</td>\n",
       "      <td>0</td>\n",
       "      <td>0</td>\n",
       "      <td>162</td>\n",
       "      <td>18</td>\n",
       "    </tr>\n",
       "    <tr>\n",
       "      <th>489</th>\n",
       "      <td>1497</td>\n",
       "      <td>smart</td>\n",
       "      <td>0</td>\n",
       "      <td>0</td>\n",
       "      <td>0</td>\n",
       "      <td>0</td>\n",
       "      <td>0</td>\n",
       "      <td>0</td>\n",
       "      <td>0</td>\n",
       "      <td>0</td>\n",
       "      <td>0</td>\n",
       "      <td>0</td>\n",
       "      <td>0</td>\n",
       "      <td>45</td>\n",
       "    </tr>\n",
       "    <tr>\n",
       "      <th>490</th>\n",
       "      <td>1498</td>\n",
       "      <td>smart</td>\n",
       "      <td>0</td>\n",
       "      <td>0</td>\n",
       "      <td>0</td>\n",
       "      <td>0</td>\n",
       "      <td>0</td>\n",
       "      <td>0</td>\n",
       "      <td>0</td>\n",
       "      <td>0</td>\n",
       "      <td>0</td>\n",
       "      <td>0</td>\n",
       "      <td>0</td>\n",
       "      <td>0</td>\n",
       "    </tr>\n",
       "    <tr>\n",
       "      <th>491</th>\n",
       "      <td>1499</td>\n",
       "      <td>smart</td>\n",
       "      <td>0</td>\n",
       "      <td>0</td>\n",
       "      <td>0</td>\n",
       "      <td>0</td>\n",
       "      <td>0</td>\n",
       "      <td>0</td>\n",
       "      <td>0</td>\n",
       "      <td>0</td>\n",
       "      <td>0</td>\n",
       "      <td>0</td>\n",
       "      <td>112</td>\n",
       "      <td>0</td>\n",
       "    </tr>\n",
       "  </tbody>\n",
       "</table>\n",
       "</div>"
      ],
      "text/plain": [
       "month_iter user_id tariff  01_Январь  02_Февраль  03_Март  04_Апрель  05_Май  \\\n",
       "487           1495  ultra          0           0        0          0       0   \n",
       "488           1496  smart          0          94       57         21       0   \n",
       "489           1497  smart          0           0        0          0       0   \n",
       "490           1498  smart          0           0        0          0       0   \n",
       "491           1499  smart          0           0        0          0       0   \n",
       "\n",
       "month_iter  06_Июнь  07_Июль  08_Август  09_Сентябрь  10_Октябрь  11_Ноябрь  \\\n",
       "487               0        0          0            0           0          0   \n",
       "488              55       82         27            0           0        162   \n",
       "489               0        0          0            0           0          0   \n",
       "490               0        0          0            0           0          0   \n",
       "491               0        0          0            0           0        112   \n",
       "\n",
       "month_iter  12_Декабрь  \n",
       "487                  0  \n",
       "488                 18  \n",
       "489                 45  \n",
       "490                  0  \n",
       "491                  0  "
      ]
     },
     "execution_count": 34,
     "metadata": {},
     "output_type": "execute_result"
    }
   ],
   "source": [
    "df_cal_month_user_sum_total.tail()"
   ]
  },
  {
   "cell_type": "markdown",
   "id": "d2ae5314",
   "metadata": {},
   "source": [
    "#### Вывод"
   ]
  },
  {
   "cell_type": "markdown",
   "id": "d5dd1aa5",
   "metadata": {},
   "source": [
    "Мы успешно посчитали израсходованные минуты разговоров сверх бесплатного лимита по каждому тарифу, по каждому клиенту, по месяцам."
   ]
  },
  {
   "cell_type": "markdown",
   "id": "6e48f192",
   "metadata": {},
   "source": [
    "### Вывод"
   ]
  },
  {
   "cell_type": "markdown",
   "id": "1bdd369b",
   "metadata": {},
   "source": [
    "Мы успешно посчитали количество звонков совершаемых клиентами, общее количество минут разговоров и количество минут разговоров сверх бесплатного лимита, по каждому тарифу, по каждому пользователю и по каждому месяцу."
   ]
  },
  {
   "cell_type": "markdown",
   "id": "cff0b7b6",
   "metadata": {},
   "source": [
    "### Сообщения"
   ]
  },
  {
   "cell_type": "markdown",
   "id": "473164c5",
   "metadata": {},
   "source": [
    "#### Общее количество отправленных сообщений"
   ]
  },
  {
   "cell_type": "markdown",
   "id": "9229513c",
   "metadata": {},
   "source": [
    "Посчитаем количество отправленных сообщений по месяцам, создадим для этого датафрейм `df_mes_month_user` и воспользуемся методом *pivot_table()*:"
   ]
  },
  {
   "cell_type": "code",
   "execution_count": 35,
   "id": "f500bdcf",
   "metadata": {},
   "outputs": [],
   "source": [
    "df_mes_month_user = pd.pivot_table(df_mes, index = ['user_id', 'tariff'], columns = 'month_iter', values = 'id_mes', aggfunc = 'count', fill_value=0).astype(int).reset_index()"
   ]
  },
  {
   "cell_type": "markdown",
   "id": "a799ca0c",
   "metadata": {},
   "source": [
    "Выведим первые 5 строк полученного датафрейма"
   ]
  },
  {
   "cell_type": "code",
   "execution_count": 36,
   "id": "9938274a",
   "metadata": {},
   "outputs": [
    {
     "data": {
      "text/html": [
       "<div>\n",
       "<style scoped>\n",
       "    .dataframe tbody tr th:only-of-type {\n",
       "        vertical-align: middle;\n",
       "    }\n",
       "\n",
       "    .dataframe tbody tr th {\n",
       "        vertical-align: top;\n",
       "    }\n",
       "\n",
       "    .dataframe thead th {\n",
       "        text-align: right;\n",
       "    }\n",
       "</style>\n",
       "<table border=\"1\" class=\"dataframe\">\n",
       "  <thead>\n",
       "    <tr style=\"text-align: right;\">\n",
       "      <th>month_iter</th>\n",
       "      <th>user_id</th>\n",
       "      <th>tariff</th>\n",
       "      <th>01_Январь</th>\n",
       "      <th>02_Февраль</th>\n",
       "      <th>03_Март</th>\n",
       "      <th>04_Апрель</th>\n",
       "      <th>05_Май</th>\n",
       "      <th>06_Июнь</th>\n",
       "      <th>07_Июль</th>\n",
       "      <th>08_Август</th>\n",
       "      <th>09_Сентябрь</th>\n",
       "      <th>10_Октябрь</th>\n",
       "      <th>11_Ноябрь</th>\n",
       "      <th>12_Декабрь</th>\n",
       "    </tr>\n",
       "  </thead>\n",
       "  <tbody>\n",
       "    <tr>\n",
       "      <th>0</th>\n",
       "      <td>1000</td>\n",
       "      <td>ultra</td>\n",
       "      <td>0</td>\n",
       "      <td>0</td>\n",
       "      <td>0</td>\n",
       "      <td>0</td>\n",
       "      <td>22</td>\n",
       "      <td>60</td>\n",
       "      <td>75</td>\n",
       "      <td>81</td>\n",
       "      <td>57</td>\n",
       "      <td>73</td>\n",
       "      <td>58</td>\n",
       "      <td>70</td>\n",
       "    </tr>\n",
       "    <tr>\n",
       "      <th>1</th>\n",
       "      <td>1002</td>\n",
       "      <td>smart</td>\n",
       "      <td>0</td>\n",
       "      <td>0</td>\n",
       "      <td>0</td>\n",
       "      <td>0</td>\n",
       "      <td>0</td>\n",
       "      <td>4</td>\n",
       "      <td>11</td>\n",
       "      <td>13</td>\n",
       "      <td>4</td>\n",
       "      <td>10</td>\n",
       "      <td>16</td>\n",
       "      <td>12</td>\n",
       "    </tr>\n",
       "    <tr>\n",
       "      <th>2</th>\n",
       "      <td>1003</td>\n",
       "      <td>ultra</td>\n",
       "      <td>0</td>\n",
       "      <td>0</td>\n",
       "      <td>0</td>\n",
       "      <td>0</td>\n",
       "      <td>0</td>\n",
       "      <td>0</td>\n",
       "      <td>0</td>\n",
       "      <td>37</td>\n",
       "      <td>91</td>\n",
       "      <td>83</td>\n",
       "      <td>94</td>\n",
       "      <td>75</td>\n",
       "    </tr>\n",
       "    <tr>\n",
       "      <th>3</th>\n",
       "      <td>1004</td>\n",
       "      <td>ultra</td>\n",
       "      <td>0</td>\n",
       "      <td>0</td>\n",
       "      <td>0</td>\n",
       "      <td>0</td>\n",
       "      <td>95</td>\n",
       "      <td>134</td>\n",
       "      <td>181</td>\n",
       "      <td>151</td>\n",
       "      <td>146</td>\n",
       "      <td>165</td>\n",
       "      <td>158</td>\n",
       "      <td>162</td>\n",
       "    </tr>\n",
       "    <tr>\n",
       "      <th>4</th>\n",
       "      <td>1005</td>\n",
       "      <td>smart</td>\n",
       "      <td>7</td>\n",
       "      <td>38</td>\n",
       "      <td>56</td>\n",
       "      <td>41</td>\n",
       "      <td>42</td>\n",
       "      <td>47</td>\n",
       "      <td>56</td>\n",
       "      <td>64</td>\n",
       "      <td>52</td>\n",
       "      <td>44</td>\n",
       "      <td>51</td>\n",
       "      <td>54</td>\n",
       "    </tr>\n",
       "  </tbody>\n",
       "</table>\n",
       "</div>"
      ],
      "text/plain": [
       "month_iter user_id tariff  01_Январь  02_Февраль  03_Март  04_Апрель  05_Май  \\\n",
       "0             1000  ultra          0           0        0          0      22   \n",
       "1             1002  smart          0           0        0          0       0   \n",
       "2             1003  ultra          0           0        0          0       0   \n",
       "3             1004  ultra          0           0        0          0      95   \n",
       "4             1005  smart          7          38       56         41      42   \n",
       "\n",
       "month_iter  06_Июнь  07_Июль  08_Август  09_Сентябрь  10_Октябрь  11_Ноябрь  \\\n",
       "0                60       75         81           57          73         58   \n",
       "1                 4       11         13            4          10         16   \n",
       "2                 0        0         37           91          83         94   \n",
       "3               134      181        151          146         165        158   \n",
       "4                47       56         64           52          44         51   \n",
       "\n",
       "month_iter  12_Декабрь  \n",
       "0                   70  \n",
       "1                   12  \n",
       "2                   75  \n",
       "3                  162  \n",
       "4                   54  "
      ]
     },
     "execution_count": 36,
     "metadata": {},
     "output_type": "execute_result"
    }
   ],
   "source": [
    "df_mes_month_user.head()"
   ]
  },
  {
   "cell_type": "markdown",
   "id": "2144430c",
   "metadata": {},
   "source": [
    "#### Вывод"
   ]
  },
  {
   "cell_type": "markdown",
   "id": "d6623803",
   "metadata": {},
   "source": [
    "Мы успешно посчитали общее количество отправленных сообщений по каждому клиенту и по каждому месяцу."
   ]
  },
  {
   "cell_type": "markdown",
   "id": "f91cf885",
   "metadata": {},
   "source": [
    "#### Израсходованные сообщения сверх бесплатного лимита"
   ]
  },
  {
   "cell_type": "markdown",
   "id": "86785e50",
   "metadata": {},
   "source": [
    "Создадим датафрей `df_mes_month_user_sum_total` в котором сохраним данные о количестве отправленных сообщений сверх бесплатного лимита."
   ]
  },
  {
   "cell_type": "code",
   "execution_count": 37,
   "id": "3be5ce9f",
   "metadata": {},
   "outputs": [],
   "source": [
    "df_mes_month_user_sum_total = df_mes_month_user.copy()"
   ]
  },
  {
   "cell_type": "markdown",
   "id": "cd1f3158",
   "metadata": {},
   "source": [
    "Для получения данных вычтем из общего количества отправленных сообщеий лимиты согласно тарифам, применим к каждому тарифу отдельно."
   ]
  },
  {
   "cell_type": "markdown",
   "id": "aaac9101",
   "metadata": {},
   "source": [
    "Применим к клиентам с тарифом ultra"
   ]
  },
  {
   "cell_type": "code",
   "execution_count": 38,
   "id": "066a426a",
   "metadata": {},
   "outputs": [],
   "source": [
    "count_iter(df_mes_month_user_sum_total, 'ultra', 'messages_included')"
   ]
  },
  {
   "cell_type": "markdown",
   "id": "e7c16483",
   "metadata": {},
   "source": [
    "Аналогично применим к клиентам с тарифом smart"
   ]
  },
  {
   "cell_type": "code",
   "execution_count": 39,
   "id": "21afd30c",
   "metadata": {},
   "outputs": [],
   "source": [
    "count_iter(df_mes_month_user_sum_total, 'smart', 'messages_included')"
   ]
  },
  {
   "cell_type": "markdown",
   "id": "0febbecb",
   "metadata": {},
   "source": [
    "Заменим все отрицательные значения в датафрейме df_mes_month_user_sum_total на 0"
   ]
  },
  {
   "cell_type": "code",
   "execution_count": 40,
   "id": "72c80e46",
   "metadata": {},
   "outputs": [],
   "source": [
    "df_mes_month_user_sum_total[list_month] = df_mes_month_user_sum_total[list_month].clip(lower=0)"
   ]
  },
  {
   "cell_type": "markdown",
   "id": "70293f23",
   "metadata": {},
   "source": [
    "#### Вывод"
   ]
  },
  {
   "cell_type": "markdown",
   "id": "ab66a1cc",
   "metadata": {},
   "source": [
    "Мы успешно вычислили израсходованные сообщения сверх бесплатного лимита."
   ]
  },
  {
   "cell_type": "markdown",
   "id": "047579eb",
   "metadata": {},
   "source": [
    "### Вывод"
   ]
  },
  {
   "cell_type": "markdown",
   "id": "19c1e864",
   "metadata": {},
   "source": [
    "Мы успешно посчитали общее количество отправленных сообщений и вычислили отправленные сообщения сверх бесплатного лимита по каждому тарифу, по каждому клиенту и по каждому месяцу."
   ]
  },
  {
   "cell_type": "markdown",
   "id": "75ef3857",
   "metadata": {},
   "source": [
    "### Интернет"
   ]
  },
  {
   "cell_type": "markdown",
   "id": "47b54d52",
   "metadata": {},
   "source": [
    "#### Общий объем израсходованного интернет-трафика"
   ]
  },
  {
   "cell_type": "markdown",
   "id": "45d4081d",
   "metadata": {},
   "source": [
    "Подготовим сводную таблицу по расходованию интернета и, чтобы не плодить много кода, переведем сразу в Гб. и т.к. в операторе связи все использованный интернет округляется в большую сторону, сразу проведем округление. Сохраним данные в датафрейме `df_int_month_user`"
   ]
  },
  {
   "cell_type": "code",
   "execution_count": 41,
   "id": "de305cb8",
   "metadata": {},
   "outputs": [],
   "source": [
    "df_int_month_user = np.ceil(pd.pivot_table(df_int, index = ['user_id', 'tariff'], columns = 'month_iter', values = 'mb_used', aggfunc = 'sum', fill_value=0)/1024).reset_index()"
   ]
  },
  {
   "cell_type": "markdown",
   "id": "d140c33f",
   "metadata": {},
   "source": [
    "#### Вывод"
   ]
  },
  {
   "cell_type": "markdown",
   "id": "4a9b6df0",
   "metadata": {},
   "source": [
    "Мы успешно посчитали общий объем исрасходованного интернет-трафика и округлили согласно тарифам до Гб. по каждому клиенту и по каждому месяцу."
   ]
  },
  {
   "cell_type": "markdown",
   "id": "0a02c379",
   "metadata": {},
   "source": [
    "#### Объем израсходованного интернет-трафика сверх бесплатного лимита"
   ]
  },
  {
   "cell_type": "markdown",
   "id": "cd711a2b",
   "metadata": {},
   "source": [
    "Создадим датафрейм `df_int_month_user_sum_total` в котором будем учитывать кол-во израсходованных единиц сверх бесплатного лимита."
   ]
  },
  {
   "cell_type": "code",
   "execution_count": 42,
   "id": "856900a3",
   "metadata": {},
   "outputs": [],
   "source": [
    "df_int_month_user_sum_total = df_int_month_user.copy() #создадим копию датафрейми с общими расходами интернета"
   ]
  },
  {
   "cell_type": "markdown",
   "id": "e61b3284",
   "metadata": {},
   "source": [
    "Вычтим из всех расходов интернета по каждому пользователю бесплатные лимиты согласно тарифам"
   ]
  },
  {
   "cell_type": "markdown",
   "id": "8cd8abd0",
   "metadata": {},
   "source": [
    "Для оптимизации напишем фукнцию для расчета `count_iter_int`"
   ]
  },
  {
   "cell_type": "code",
   "execution_count": 43,
   "id": "38c6def4",
   "metadata": {},
   "outputs": [],
   "source": [
    "def count_iter_int(data_new, tarif):\n",
    "    if tarif == 'ultra':\n",
    "        data_new.loc[data_new['tariff'] == 'ultra', list_month] = data_new.loc[data_new['tariff'] == 'ultra', list_month] - int(round(df_tar.loc[1, 'mb_per_month_included'] / 1024))\n",
    "    elif tarif == 'smart':\n",
    "        data_new.loc[data_new['tariff'] == 'smart', list_month] = data_new.loc[data_new['tariff'] == 'smart', list_month] - int(round(df_tar.loc[0, 'mb_per_month_included'] / 1024))"
   ]
  },
  {
   "cell_type": "markdown",
   "id": "64b0c997",
   "metadata": {},
   "source": [
    "Применим к клиентам с тарифом ultra"
   ]
  },
  {
   "cell_type": "code",
   "execution_count": 44,
   "id": "f91c4a04",
   "metadata": {},
   "outputs": [],
   "source": [
    "count_iter_int(df_int_month_user_sum_total, 'ultra')"
   ]
  },
  {
   "cell_type": "markdown",
   "id": "44cbd7ba",
   "metadata": {},
   "source": [
    "Аналогично применим к клиентам с тарифом smart"
   ]
  },
  {
   "cell_type": "code",
   "execution_count": 45,
   "id": "2c277c82",
   "metadata": {},
   "outputs": [],
   "source": [
    "count_iter_int(df_int_month_user_sum_total, 'smart')"
   ]
  },
  {
   "cell_type": "markdown",
   "id": "cbe3843e",
   "metadata": {},
   "source": [
    "Переведем данные датафрейма `df_int_month_user_sum_total` в формат данных `int`"
   ]
  },
  {
   "cell_type": "code",
   "execution_count": 46,
   "id": "ed806e0f",
   "metadata": {},
   "outputs": [],
   "source": [
    "df_int_month_user_sum_total[list_month] = df_int_month_user_sum_total[list_month].clip(lower=0).astype(int)"
   ]
  },
  {
   "cell_type": "markdown",
   "id": "52d5c5de",
   "metadata": {},
   "source": [
    "#### Вывод"
   ]
  },
  {
   "cell_type": "markdown",
   "id": "d3af7432",
   "metadata": {},
   "source": [
    "Мы успешно посчитали объем израсходованного интернет-трафика сверх бесплатного лимита"
   ]
  },
  {
   "cell_type": "markdown",
   "id": "85603040",
   "metadata": {},
   "source": [
    "### Вывод"
   ]
  },
  {
   "cell_type": "markdown",
   "id": "c78738ca",
   "metadata": {},
   "source": [
    "Мы успешно посчитали объем израсходованного интернет-трафика и вычислили объем израсходованного интернет-трафика сверх бесплатного лимита по каждому тарифу, по каждому клиенту и по каждому месяцу."
   ]
  },
  {
   "cell_type": "markdown",
   "id": "f935d64a",
   "metadata": {},
   "source": [
    "### Выручка по каждому пользователю"
   ]
  },
  {
   "cell_type": "markdown",
   "id": "3c3f32ee",
   "metadata": {},
   "source": [
    "Для того, чтобы посчитать общую выручку по каждому пользователю нужно взять ежемесячную абонентскую плату по тарифу и прибавить к ней доходы от сверхлимитных доходов по тарифам."
   ]
  },
  {
   "cell_type": "markdown",
   "id": "4917a1d4",
   "metadata": {},
   "source": [
    "#### Доходы сверх ежемесячного тарифа"
   ]
  },
  {
   "cell_type": "markdown",
   "id": "9edd8644",
   "metadata": {},
   "source": [
    "Для того, чтобы посчитать доходы по сверхлимитным тратам, нам нужно испльзовать данные о сверхлимитных расходований клиентов по каждой услуге."
   ]
  },
  {
   "cell_type": "markdown",
   "id": "1b381a85",
   "metadata": {},
   "source": [
    "У нас есть три датафрейм с расходами сверх лимита:\n",
    "\n",
    "`df_col_month_user_sum_total` - по звонкам\n",
    "\n",
    "`df_mes_month_user_sum_total` - по сообщениям\n",
    "\n",
    "`df_int_month_user_sum_total` - по интернету\n",
    "\n",
    "Посчитаем выручку по этим данным и далее добавим к стоимости тарифного плана."
   ]
  },
  {
   "cell_type": "markdown",
   "id": "71dbf737",
   "metadata": {},
   "source": [
    "Выведим датафрейм в котором указаны стоимости по каждой услуге и по его мы будет использовать для подсчета сверхлимитов."
   ]
  },
  {
   "cell_type": "code",
   "execution_count": 47,
   "id": "ed3fd0bf",
   "metadata": {
    "scrolled": true
   },
   "outputs": [
    {
     "data": {
      "text/html": [
       "<div>\n",
       "<style scoped>\n",
       "    .dataframe tbody tr th:only-of-type {\n",
       "        vertical-align: middle;\n",
       "    }\n",
       "\n",
       "    .dataframe tbody tr th {\n",
       "        vertical-align: top;\n",
       "    }\n",
       "\n",
       "    .dataframe thead th {\n",
       "        text-align: right;\n",
       "    }\n",
       "</style>\n",
       "<table border=\"1\" class=\"dataframe\">\n",
       "  <thead>\n",
       "    <tr style=\"text-align: right;\">\n",
       "      <th></th>\n",
       "      <th>messages_included</th>\n",
       "      <th>mb_per_month_included</th>\n",
       "      <th>minutes_included</th>\n",
       "      <th>rub_monthly_fee</th>\n",
       "      <th>rub_per_gb</th>\n",
       "      <th>rub_per_message</th>\n",
       "      <th>rub_per_minute</th>\n",
       "      <th>tariff_name</th>\n",
       "    </tr>\n",
       "  </thead>\n",
       "  <tbody>\n",
       "    <tr>\n",
       "      <th>0</th>\n",
       "      <td>50</td>\n",
       "      <td>15360</td>\n",
       "      <td>500</td>\n",
       "      <td>550</td>\n",
       "      <td>200</td>\n",
       "      <td>3</td>\n",
       "      <td>3</td>\n",
       "      <td>smart</td>\n",
       "    </tr>\n",
       "    <tr>\n",
       "      <th>1</th>\n",
       "      <td>1000</td>\n",
       "      <td>30720</td>\n",
       "      <td>3000</td>\n",
       "      <td>1950</td>\n",
       "      <td>150</td>\n",
       "      <td>1</td>\n",
       "      <td>1</td>\n",
       "      <td>ultra</td>\n",
       "    </tr>\n",
       "  </tbody>\n",
       "</table>\n",
       "</div>"
      ],
      "text/plain": [
       "   messages_included  mb_per_month_included  minutes_included  \\\n",
       "0                 50                  15360               500   \n",
       "1               1000                  30720              3000   \n",
       "\n",
       "   rub_monthly_fee  rub_per_gb  rub_per_message  rub_per_minute tariff_name  \n",
       "0              550         200                3               3       smart  \n",
       "1             1950         150                1               1       ultra  "
      ]
     },
     "execution_count": 47,
     "metadata": {},
     "output_type": "execute_result"
    }
   ],
   "source": [
    "df_tar.head()"
   ]
  },
  {
   "cell_type": "markdown",
   "id": "29b9f228",
   "metadata": {},
   "source": [
    "Создадим датафреймы для учета расходов сверх бесплатных норм тарифного плата в руб.:\n",
    "\n",
    "df_col_month_user_sum_total_rub - по звонкам\n",
    "\n",
    "df_mes_month_user_sum_total_rub - по сообщениям\n",
    "\n",
    "df_int_month_user_sum_total_rub - по интернету"
   ]
  },
  {
   "cell_type": "code",
   "execution_count": 48,
   "id": "72bc2dc6",
   "metadata": {},
   "outputs": [],
   "source": [
    "df_col_month_user_sum_total_rub = df_cal_month_user_sum_total.copy()\n",
    "\n",
    "df_mes_month_user_sum_total_rub = df_mes_month_user_sum_total.copy()\n",
    "\n",
    "df_int_month_user_sum_total_rub = df_int_month_user_sum_total.copy()"
   ]
  },
  {
   "cell_type": "markdown",
   "id": "3540fe2a",
   "metadata": {},
   "source": [
    "Создадим список датафрейм в которых далее произведем расчет стоимости услуг сверх бесплатных тарифов"
   ]
  },
  {
   "cell_type": "code",
   "execution_count": 49,
   "id": "9cab9e22",
   "metadata": {},
   "outputs": [],
   "source": [
    "list_total_rub = [df_col_month_user_sum_total_rub, df_mes_month_user_sum_total_rub, df_int_month_user_sum_total_rub]"
   ]
  },
  {
   "cell_type": "markdown",
   "id": "45a7675a",
   "metadata": {},
   "source": [
    "Создадим список тарифов"
   ]
  },
  {
   "cell_type": "code",
   "execution_count": 50,
   "id": "d8dbbb79",
   "metadata": {},
   "outputs": [],
   "source": [
    "list_tarif = ['ultra', 'smart']"
   ]
  },
  {
   "cell_type": "markdown",
   "id": "e835f9ab",
   "metadata": {},
   "source": [
    "Создадим функцию `var2str`, которая переведет название датафрейма в строковый вид, это нам нужно для использования в последующей функции."
   ]
  },
  {
   "cell_type": "code",
   "execution_count": 51,
   "id": "31fea918",
   "metadata": {},
   "outputs": [],
   "source": [
    "def var2str(var, vars_data = locals()):\n",
    "    \"\"\"Функция переведет название датафрейма в строковый вид\"\"\"\n",
    "    \n",
    "    return [var_name for var_name in vars_data if id(var) == id(vars_data[var_name])]"
   ]
  },
  {
   "cell_type": "markdown",
   "id": "6d342b74",
   "metadata": {},
   "source": [
    "Создадим фукнцию `amount_expenses_over_change`, которая переводит расход из единиц в руб. по соответствующему тарифу"
   ]
  },
  {
   "cell_type": "code",
   "execution_count": 52,
   "id": "69fe3f83",
   "metadata": {},
   "outputs": [],
   "source": [
    "def amount_expenses_over_change(data, tarif, column_tarif):\n",
    "    \"\"\"Функция переводит расход из единиц в руб. по соответствующему тарифу\"\"\"\n",
    "    \n",
    "    if tarif == 'ultra':\n",
    "        data.loc[data['tariff'] == tarif, list_month] = data.loc[data['tariff'] == tarif, list_month] * df_tar.loc[1, column_tarif]\n",
    "    elif tarif == 'smart':\n",
    "        data.loc[data['tariff'] == tarif, list_month] = data.loc[data['tariff'] == tarif, list_month] * df_tar.loc[0, column_tarif]\n"
   ]
  },
  {
   "cell_type": "markdown",
   "id": "5cab69a4",
   "metadata": {},
   "source": [
    "Cоздадим функцию, которая применит тот тариф, который нужен данным и воспользуемся для этого функциями `amount_expenses_over_change` и `var2str`"
   ]
  },
  {
   "cell_type": "code",
   "execution_count": 53,
   "id": "e7e34526",
   "metadata": {},
   "outputs": [],
   "source": [
    "def amount_expenses_over(data, tarif):\n",
    "    '''Функцию применяет необходимый тариф для расчета'''\n",
    "    \n",
    "    if 'int' in str(var2str(data)):\n",
    "        amount_expenses_over_change(data, tarif, 'rub_per_gb')\n",
    "    elif 'mes' in str(var2str(data)):\n",
    "        amount_expenses_over_change(data, tarif, 'rub_per_message')\n",
    "    elif 'col' in str(var2str(data)):\n",
    "        amount_expenses_over_change(data, tarif, 'rub_per_minute')\n",
    "    "
   ]
  },
  {
   "cell_type": "markdown",
   "id": "84244638",
   "metadata": {},
   "source": [
    "Переберем список датафреймов и применим функцию для расчета стоимости расходов по связи, сообщений и интернета:"
   ]
  },
  {
   "cell_type": "code",
   "execution_count": 54,
   "id": "5f2aafc1",
   "metadata": {},
   "outputs": [],
   "source": [
    "for data in list_total_rub:\n",
    "    for tarif in list_tarif:\n",
    "        amount_expenses_over(data, tarif)"
   ]
  },
  {
   "cell_type": "markdown",
   "id": "e696519b",
   "metadata": {},
   "source": [
    "Создадим общий датафрем `df_total_revenue_per_client_month` в который сведем все доходы по клиенту помесячно. "
   ]
  },
  {
   "cell_type": "code",
   "execution_count": 55,
   "id": "3bc81ce9",
   "metadata": {},
   "outputs": [],
   "source": [
    "df_total_revenue_per_client_month = df_use[['user_id', 'tariff']].copy() #оснонвой датафрейм для склейки\n",
    "df_total_revenue_per_client_month1 = df_use[['user_id', 'tariff']].copy() #дополнительный датафрейм\n",
    "df_total_revenue_per_client_month2 = df_use[['user_id', 'tariff']].copy() #дополнительный датафрейм"
   ]
  },
  {
   "cell_type": "markdown",
   "id": "8799af9e",
   "metadata": {},
   "source": [
    "Это создание в основе своей нужно, чтобы в каждом датафрейме был весь список клиентов из нашей выборке, даже если они не пользовались какими либо услугами. Это нам нужно для будущего общего расчета доходов."
   ]
  },
  {
   "cell_type": "markdown",
   "id": "6a832fd0",
   "metadata": {},
   "source": [
    "Склеим по очереди датафреймы `df_total_revenue_per_client_month`, `df_total_revenue_per_client_month1`, `df_total_revenue_per_client_month2` с датафреймами содержащими данные о расходах сверх бесплатного лимита - связь, смс, интернет."
   ]
  },
  {
   "cell_type": "markdown",
   "id": "f9f23f15",
   "metadata": {},
   "source": [
    "Склеим с помощью функции *merge()* данные по связи, пропущенные значения заполним 0:"
   ]
  },
  {
   "cell_type": "code",
   "execution_count": 56,
   "id": "5e3108c8",
   "metadata": {
    "scrolled": false
   },
   "outputs": [],
   "source": [
    "df_total_revenue_per_client_month = df_total_revenue_per_client_month.merge(df_col_month_user_sum_total_rub, how='outer', on='user_id').fillna(0)"
   ]
  },
  {
   "cell_type": "markdown",
   "id": "0caee04d",
   "metadata": {},
   "source": [
    "Склеим с помощью функции *merge()* данные по сообщениям, пропущенные значения заполним 0:"
   ]
  },
  {
   "cell_type": "code",
   "execution_count": 57,
   "id": "77019889",
   "metadata": {},
   "outputs": [],
   "source": [
    "df_total_revenue_per_client_month1 = df_total_revenue_per_client_month1.merge(df_mes_month_user_sum_total_rub, how='outer', on='user_id').fillna(0)"
   ]
  },
  {
   "cell_type": "markdown",
   "id": "7209e4bd",
   "metadata": {},
   "source": [
    "Склеим с помощью функции *merge()* данные по интернет, пропущенные значения заполним 0:"
   ]
  },
  {
   "cell_type": "code",
   "execution_count": 58,
   "id": "e275d77f",
   "metadata": {},
   "outputs": [],
   "source": [
    "df_total_revenue_per_client_month2 = df_total_revenue_per_client_month2.merge(df_int_month_user_sum_total_rub, how='outer', on='user_id').fillna(0)"
   ]
  },
  {
   "cell_type": "markdown",
   "id": "3a4fd88d",
   "metadata": {},
   "source": [
    "Сформируем список столбцов, которые будем суммировать:"
   ]
  },
  {
   "cell_type": "code",
   "execution_count": 59,
   "id": "38306216",
   "metadata": {},
   "outputs": [],
   "source": [
    "df_columns = ['01_Январь', '02_Февраль', '03_Март',\n",
    "              '04_Апрель', '05_Май', '06_Июнь', '07_Июль', '08_Август', '09_Сентябрь',\n",
    "              '10_Октябрь', '11_Ноябрь', '12_Декабрь']"
   ]
  },
  {
   "cell_type": "markdown",
   "id": "519979dc",
   "metadata": {},
   "source": [
    "Суммируем данные по связи и сообщениям сохраним все это в основной созданный датафрейм `df_total_revenue_per_client_month`"
   ]
  },
  {
   "cell_type": "code",
   "execution_count": 60,
   "id": "fba79386",
   "metadata": {},
   "outputs": [],
   "source": [
    "df_total_revenue_per_client_month[df_columns] = df_total_revenue_per_client_month[df_columns] + df_total_revenue_per_client_month1[df_columns]"
   ]
  },
  {
   "cell_type": "markdown",
   "id": "72d6c2e8",
   "metadata": {},
   "source": [
    "Добавим в общую \"копилку\" данные с доп. расходами по интернету:"
   ]
  },
  {
   "cell_type": "code",
   "execution_count": 61,
   "id": "7da11618",
   "metadata": {},
   "outputs": [],
   "source": [
    "df_total_revenue_per_client_month[df_columns] = df_total_revenue_per_client_month[df_columns] + df_total_revenue_per_client_month2[df_columns]"
   ]
  },
  {
   "cell_type": "markdown",
   "id": "e3b912f8",
   "metadata": {},
   "source": [
    "Переведем тип данных в формат `int`"
   ]
  },
  {
   "cell_type": "code",
   "execution_count": 62,
   "id": "f1decdee",
   "metadata": {
    "scrolled": false
   },
   "outputs": [],
   "source": [
    "df_total_revenue_per_client_month[df_columns] = df_total_revenue_per_client_month[df_columns].astype(int)"
   ]
  },
  {
   "cell_type": "markdown",
   "id": "2c447e53",
   "metadata": {},
   "source": [
    "Выведим 5 строк датафрейма с доходами от сверхлимитного обслуживания."
   ]
  },
  {
   "cell_type": "code",
   "execution_count": 63,
   "id": "2ef64202",
   "metadata": {},
   "outputs": [
    {
     "data": {
      "text/html": [
       "<div>\n",
       "<style scoped>\n",
       "    .dataframe tbody tr th:only-of-type {\n",
       "        vertical-align: middle;\n",
       "    }\n",
       "\n",
       "    .dataframe tbody tr th {\n",
       "        vertical-align: top;\n",
       "    }\n",
       "\n",
       "    .dataframe thead th {\n",
       "        text-align: right;\n",
       "    }\n",
       "</style>\n",
       "<table border=\"1\" class=\"dataframe\">\n",
       "  <thead>\n",
       "    <tr style=\"text-align: right;\">\n",
       "      <th></th>\n",
       "      <th>user_id</th>\n",
       "      <th>tariff_x</th>\n",
       "      <th>tariff_y</th>\n",
       "      <th>01_Январь</th>\n",
       "      <th>02_Февраль</th>\n",
       "      <th>03_Март</th>\n",
       "      <th>04_Апрель</th>\n",
       "      <th>05_Май</th>\n",
       "      <th>06_Июнь</th>\n",
       "      <th>07_Июль</th>\n",
       "      <th>08_Август</th>\n",
       "      <th>09_Сентябрь</th>\n",
       "      <th>10_Октябрь</th>\n",
       "      <th>11_Ноябрь</th>\n",
       "      <th>12_Декабрь</th>\n",
       "    </tr>\n",
       "  </thead>\n",
       "  <tbody>\n",
       "    <tr>\n",
       "      <th>495</th>\n",
       "      <td>1495</td>\n",
       "      <td>ultra</td>\n",
       "      <td>ultra</td>\n",
       "      <td>0</td>\n",
       "      <td>0</td>\n",
       "      <td>0</td>\n",
       "      <td>0</td>\n",
       "      <td>0</td>\n",
       "      <td>0</td>\n",
       "      <td>0</td>\n",
       "      <td>0</td>\n",
       "      <td>450</td>\n",
       "      <td>0</td>\n",
       "      <td>1350</td>\n",
       "      <td>0</td>\n",
       "    </tr>\n",
       "    <tr>\n",
       "      <th>496</th>\n",
       "      <td>1496</td>\n",
       "      <td>smart</td>\n",
       "      <td>smart</td>\n",
       "      <td>0</td>\n",
       "      <td>2882</td>\n",
       "      <td>2171</td>\n",
       "      <td>1263</td>\n",
       "      <td>1800</td>\n",
       "      <td>1165</td>\n",
       "      <td>2046</td>\n",
       "      <td>1681</td>\n",
       "      <td>2400</td>\n",
       "      <td>2600</td>\n",
       "      <td>2486</td>\n",
       "      <td>1257</td>\n",
       "    </tr>\n",
       "    <tr>\n",
       "      <th>497</th>\n",
       "      <td>1497</td>\n",
       "      <td>smart</td>\n",
       "      <td>smart</td>\n",
       "      <td>0</td>\n",
       "      <td>0</td>\n",
       "      <td>0</td>\n",
       "      <td>0</td>\n",
       "      <td>0</td>\n",
       "      <td>0</td>\n",
       "      <td>0</td>\n",
       "      <td>0</td>\n",
       "      <td>0</td>\n",
       "      <td>0</td>\n",
       "      <td>0</td>\n",
       "      <td>1135</td>\n",
       "    </tr>\n",
       "    <tr>\n",
       "      <th>498</th>\n",
       "      <td>1498</td>\n",
       "      <td>smart</td>\n",
       "      <td>smart</td>\n",
       "      <td>0</td>\n",
       "      <td>0</td>\n",
       "      <td>0</td>\n",
       "      <td>0</td>\n",
       "      <td>0</td>\n",
       "      <td>0</td>\n",
       "      <td>0</td>\n",
       "      <td>1836</td>\n",
       "      <td>1400</td>\n",
       "      <td>1200</td>\n",
       "      <td>0</td>\n",
       "      <td>0</td>\n",
       "    </tr>\n",
       "    <tr>\n",
       "      <th>499</th>\n",
       "      <td>1499</td>\n",
       "      <td>smart</td>\n",
       "      <td>smart</td>\n",
       "      <td>0</td>\n",
       "      <td>0</td>\n",
       "      <td>0</td>\n",
       "      <td>0</td>\n",
       "      <td>0</td>\n",
       "      <td>0</td>\n",
       "      <td>0</td>\n",
       "      <td>0</td>\n",
       "      <td>0</td>\n",
       "      <td>600</td>\n",
       "      <td>963</td>\n",
       "      <td>48</td>\n",
       "    </tr>\n",
       "  </tbody>\n",
       "</table>\n",
       "</div>"
      ],
      "text/plain": [
       "    user_id tariff_x tariff_y  01_Январь  02_Февраль  03_Март  04_Апрель  \\\n",
       "495    1495    ultra    ultra          0           0        0          0   \n",
       "496    1496    smart    smart          0        2882     2171       1263   \n",
       "497    1497    smart    smart          0           0        0          0   \n",
       "498    1498    smart    smart          0           0        0          0   \n",
       "499    1499    smart    smart          0           0        0          0   \n",
       "\n",
       "     05_Май  06_Июнь  07_Июль  08_Август  09_Сентябрь  10_Октябрь  11_Ноябрь  \\\n",
       "495       0        0        0          0          450           0       1350   \n",
       "496    1800     1165     2046       1681         2400        2600       2486   \n",
       "497       0        0        0          0            0           0          0   \n",
       "498       0        0        0       1836         1400        1200          0   \n",
       "499       0        0        0          0            0         600        963   \n",
       "\n",
       "     12_Декабрь  \n",
       "495           0  \n",
       "496        1257  \n",
       "497        1135  \n",
       "498           0  \n",
       "499          48  "
      ]
     },
     "execution_count": 63,
     "metadata": {},
     "output_type": "execute_result"
    }
   ],
   "source": [
    "df_total_revenue_per_client_month.tail()"
   ]
  },
  {
   "cell_type": "markdown",
   "id": "f775f0f4",
   "metadata": {},
   "source": [
    "#### Вывод"
   ]
  },
  {
   "cell_type": "markdown",
   "id": "04f735d2",
   "metadata": {},
   "source": [
    "Мы успешно посчитали доходы пришедшие от клиентов, которые сверх ежемесячного тарифа."
   ]
  },
  {
   "cell_type": "markdown",
   "id": "2f5dab5f",
   "metadata": {},
   "source": [
    "#### Доходы от абонентской платы"
   ]
  },
  {
   "cell_type": "markdown",
   "id": "03065b63",
   "metadata": {},
   "source": [
    "У нас есть три датафрейма, которые показывают были ли какие-либо движения по разговорам, сообщениям и интернету.\n",
    "- `df_cal_month_user_count`\n",
    "- `df_mes_month_user`\n",
    "- `df_int_month_user`\n",
    "\n",
    "Объединим их, чтобы у нас была полная картина того, были ли какие-то движения по пользователям и в какие месяцы. Если были мы в этот месяц поставим им ежемесячную плату, если не было, оплаты не будет.\n",
    "\n",
    "План такой:\n",
    "1. Создать общий объединенный датафрейм и 2 временных для склейки\n",
    "2. Объединить в тех вариантах какие есть все данные\n",
    "3. Категоризировать данные на есть или нет\n",
    "4. Применить стоимость тарифных планов к тем, что есть."
   ]
  },
  {
   "cell_type": "markdown",
   "id": "d50653d7",
   "metadata": {},
   "source": [
    "Создаем общий датафрейм с называнием `df_month_user_count_tariff` и 2 временных `df_month_user_count_tariff1`, `df_month_user_count_tariff2` в которых разместим данные о движении по каждому виду услуг."
   ]
  },
  {
   "cell_type": "code",
   "execution_count": 64,
   "id": "ca7ac83c",
   "metadata": {},
   "outputs": [],
   "source": [
    "df_month_user_count_tariff = df_use[['user_id', 'tariff']].copy()\n",
    "df_month_user_count_tariff1 = df_use[['user_id', 'tariff']].copy()\n",
    "df_month_user_count_tariff2 = df_use[['user_id', 'tariff']].copy()"
   ]
  },
  {
   "cell_type": "markdown",
   "id": "c53aa8d3",
   "metadata": {},
   "source": [
    "Объединим эти датафреймы с датафреймами в которых есть все движения по каждой услуге соответственно."
   ]
  },
  {
   "cell_type": "code",
   "execution_count": 65,
   "id": "d7ba244c",
   "metadata": {},
   "outputs": [],
   "source": [
    "df_month_user_count_tariff = df_month_user_count_tariff.merge(df_cal_month_user_count, how='outer', on='user_id').fillna(0)\n",
    "df_month_user_count_tariff1 = df_month_user_count_tariff1.merge(df_mes_month_user, how='outer', on='user_id').fillna(0)\n",
    "df_month_user_count_tariff2 = df_month_user_count_tariff2.merge(df_int_month_user, how='outer', on='user_id').fillna(0)"
   ]
  },
  {
   "cell_type": "markdown",
   "id": "6582dfc6",
   "metadata": {},
   "source": [
    "Объединим их обычным суммированием, нам не важны какие там цифры, нам необходимы только движения по услугам по месяцам."
   ]
  },
  {
   "cell_type": "code",
   "execution_count": 66,
   "id": "05cee617",
   "metadata": {},
   "outputs": [],
   "source": [
    "df_month_user_count_tariff[df_columns] = df_month_user_count_tariff[df_columns] + df_month_user_count_tariff1[df_columns]"
   ]
  },
  {
   "cell_type": "code",
   "execution_count": 67,
   "id": "4bfc0044",
   "metadata": {},
   "outputs": [],
   "source": [
    "df_month_user_count_tariff[df_columns] = df_month_user_count_tariff[df_columns] + df_month_user_count_tariff2[df_columns]"
   ]
  },
  {
   "cell_type": "code",
   "execution_count": 68,
   "id": "088133f7",
   "metadata": {},
   "outputs": [],
   "source": [
    "df_month_user_count_tariff[df_columns] = df_month_user_count_tariff[df_columns].astype(int)"
   ]
  },
  {
   "cell_type": "markdown",
   "id": "9189ed63",
   "metadata": {},
   "source": [
    "Заменим все имеющиеся значения в датафрейме, которые больше нуля на 1."
   ]
  },
  {
   "cell_type": "code",
   "execution_count": 69,
   "id": "4c56ae92",
   "metadata": {},
   "outputs": [],
   "source": [
    "df_month_user_count_tariff[df_columns] = np.where((df_month_user_count_tariff[df_columns] > 0), 1, df_month_user_count_tariff[df_columns])"
   ]
  },
  {
   "cell_type": "markdown",
   "id": "3407a4d0",
   "metadata": {},
   "source": [
    "В отдельный датафрейм `df_month_user_count_tariff_count` выделим значения, в которых обозначены в какие месяцы пользователи пользовались услугами, а в какие нет."
   ]
  },
  {
   "cell_type": "code",
   "execution_count": 70,
   "id": "ee093eb0",
   "metadata": {},
   "outputs": [],
   "source": [
    "df_month_user_count_tariff_count = df_month_user_count_tariff.copy()"
   ]
  },
  {
   "cell_type": "markdown",
   "id": "53fbd9d4",
   "metadata": {},
   "source": [
    "Создадим в этом датафрейме отдельный столбец `month_count` - кол-во месяцев пользованием услугами связи и просумируем все столбцы в которых были движения."
   ]
  },
  {
   "cell_type": "code",
   "execution_count": 71,
   "id": "1dc5683d",
   "metadata": {},
   "outputs": [],
   "source": [
    "df_month_user_count_tariff_count['month_count'] = df_month_user_count_tariff_count[df_columns].sum(axis=1)"
   ]
  },
  {
   "cell_type": "markdown",
   "id": "62bd15e9",
   "metadata": {},
   "source": [
    "Выведим первые 5 строк и посмотрим, что получилось."
   ]
  },
  {
   "cell_type": "code",
   "execution_count": 72,
   "id": "9b029369",
   "metadata": {
    "scrolled": true
   },
   "outputs": [
    {
     "data": {
      "text/html": [
       "<div>\n",
       "<style scoped>\n",
       "    .dataframe tbody tr th:only-of-type {\n",
       "        vertical-align: middle;\n",
       "    }\n",
       "\n",
       "    .dataframe tbody tr th {\n",
       "        vertical-align: top;\n",
       "    }\n",
       "\n",
       "    .dataframe thead th {\n",
       "        text-align: right;\n",
       "    }\n",
       "</style>\n",
       "<table border=\"1\" class=\"dataframe\">\n",
       "  <thead>\n",
       "    <tr style=\"text-align: right;\">\n",
       "      <th></th>\n",
       "      <th>user_id</th>\n",
       "      <th>tariff</th>\n",
       "      <th>01_Январь</th>\n",
       "      <th>02_Февраль</th>\n",
       "      <th>03_Март</th>\n",
       "      <th>04_Апрель</th>\n",
       "      <th>05_Май</th>\n",
       "      <th>06_Июнь</th>\n",
       "      <th>07_Июль</th>\n",
       "      <th>08_Август</th>\n",
       "      <th>09_Сентябрь</th>\n",
       "      <th>10_Октябрь</th>\n",
       "      <th>11_Ноябрь</th>\n",
       "      <th>12_Декабрь</th>\n",
       "      <th>month_count</th>\n",
       "    </tr>\n",
       "  </thead>\n",
       "  <tbody>\n",
       "    <tr>\n",
       "      <th>0</th>\n",
       "      <td>1000</td>\n",
       "      <td>ultra</td>\n",
       "      <td>0</td>\n",
       "      <td>0</td>\n",
       "      <td>0</td>\n",
       "      <td>0</td>\n",
       "      <td>1</td>\n",
       "      <td>1</td>\n",
       "      <td>1</td>\n",
       "      <td>1</td>\n",
       "      <td>1</td>\n",
       "      <td>1</td>\n",
       "      <td>1</td>\n",
       "      <td>1</td>\n",
       "      <td>8</td>\n",
       "    </tr>\n",
       "    <tr>\n",
       "      <th>1</th>\n",
       "      <td>1001</td>\n",
       "      <td>smart</td>\n",
       "      <td>0</td>\n",
       "      <td>0</td>\n",
       "      <td>0</td>\n",
       "      <td>0</td>\n",
       "      <td>0</td>\n",
       "      <td>0</td>\n",
       "      <td>0</td>\n",
       "      <td>0</td>\n",
       "      <td>0</td>\n",
       "      <td>0</td>\n",
       "      <td>1</td>\n",
       "      <td>1</td>\n",
       "      <td>2</td>\n",
       "    </tr>\n",
       "    <tr>\n",
       "      <th>2</th>\n",
       "      <td>1002</td>\n",
       "      <td>smart</td>\n",
       "      <td>0</td>\n",
       "      <td>0</td>\n",
       "      <td>0</td>\n",
       "      <td>0</td>\n",
       "      <td>0</td>\n",
       "      <td>1</td>\n",
       "      <td>1</td>\n",
       "      <td>1</td>\n",
       "      <td>1</td>\n",
       "      <td>1</td>\n",
       "      <td>1</td>\n",
       "      <td>1</td>\n",
       "      <td>7</td>\n",
       "    </tr>\n",
       "    <tr>\n",
       "      <th>3</th>\n",
       "      <td>1003</td>\n",
       "      <td>ultra</td>\n",
       "      <td>0</td>\n",
       "      <td>0</td>\n",
       "      <td>0</td>\n",
       "      <td>0</td>\n",
       "      <td>0</td>\n",
       "      <td>0</td>\n",
       "      <td>0</td>\n",
       "      <td>1</td>\n",
       "      <td>1</td>\n",
       "      <td>1</td>\n",
       "      <td>1</td>\n",
       "      <td>1</td>\n",
       "      <td>5</td>\n",
       "    </tr>\n",
       "    <tr>\n",
       "      <th>4</th>\n",
       "      <td>1004</td>\n",
       "      <td>ultra</td>\n",
       "      <td>0</td>\n",
       "      <td>0</td>\n",
       "      <td>0</td>\n",
       "      <td>0</td>\n",
       "      <td>1</td>\n",
       "      <td>1</td>\n",
       "      <td>1</td>\n",
       "      <td>1</td>\n",
       "      <td>1</td>\n",
       "      <td>1</td>\n",
       "      <td>1</td>\n",
       "      <td>1</td>\n",
       "      <td>8</td>\n",
       "    </tr>\n",
       "  </tbody>\n",
       "</table>\n",
       "</div>"
      ],
      "text/plain": [
       "  user_id tariff  01_Январь  02_Февраль  03_Март  04_Апрель  05_Май  06_Июнь  \\\n",
       "0    1000  ultra          0           0        0          0       1        1   \n",
       "1    1001  smart          0           0        0          0       0        0   \n",
       "2    1002  smart          0           0        0          0       0        1   \n",
       "3    1003  ultra          0           0        0          0       0        0   \n",
       "4    1004  ultra          0           0        0          0       1        1   \n",
       "\n",
       "   07_Июль  08_Август  09_Сентябрь  10_Октябрь  11_Ноябрь  12_Декабрь  \\\n",
       "0        1          1            1           1          1           1   \n",
       "1        0          0            0           0          1           1   \n",
       "2        1          1            1           1          1           1   \n",
       "3        0          1            1           1          1           1   \n",
       "4        1          1            1           1          1           1   \n",
       "\n",
       "   month_count  \n",
       "0            8  \n",
       "1            2  \n",
       "2            7  \n",
       "3            5  \n",
       "4            8  "
      ]
     },
     "execution_count": 72,
     "metadata": {},
     "output_type": "execute_result"
    }
   ],
   "source": [
    "df_month_user_count_tariff_count.head()"
   ]
  },
  {
   "cell_type": "markdown",
   "id": "5c7df075",
   "metadata": {},
   "source": [
    "Отлично теперь у нас есть информация в какие месяцы были двежения и общее количество месяцев пользования услугами."
   ]
  },
  {
   "cell_type": "markdown",
   "id": "abaef2b1",
   "metadata": {},
   "source": [
    "Далее применим абонентскую плату к тем месяцам, в которых были движения, по каждому тарифу отдельно."
   ]
  },
  {
   "cell_type": "markdown",
   "id": "214b4217",
   "metadata": {},
   "source": [
    "Применим тариф к пользователям с тарифом `ultra`"
   ]
  },
  {
   "cell_type": "code",
   "execution_count": 73,
   "id": "597bdac1",
   "metadata": {},
   "outputs": [],
   "source": [
    "df_month_user_count_tariff.loc[df_month_user_count_tariff['tariff'] == 'ultra', list_month] = df_month_user_count_tariff.loc[df_month_user_count_tariff['tariff'] == 'ultra', list_month] * df_tar.loc[1, 'rub_monthly_fee']"
   ]
  },
  {
   "cell_type": "markdown",
   "id": "87e02f63",
   "metadata": {},
   "source": [
    "Применим тариф к пользователям с тарифом `smart`"
   ]
  },
  {
   "cell_type": "code",
   "execution_count": 74,
   "id": "f7d33052",
   "metadata": {},
   "outputs": [],
   "source": [
    "df_month_user_count_tariff.loc[df_month_user_count_tariff['tariff'] == 'smart', list_month] = df_month_user_count_tariff.loc[df_month_user_count_tariff['tariff'] == 'smart', list_month] * df_tar.loc[0, 'rub_monthly_fee']"
   ]
  },
  {
   "cell_type": "markdown",
   "id": "ea1d1d7c",
   "metadata": {},
   "source": [
    "Выведим полученный результат в первых 5 строках."
   ]
  },
  {
   "cell_type": "code",
   "execution_count": 75,
   "id": "b38afbcd",
   "metadata": {},
   "outputs": [
    {
     "data": {
      "text/html": [
       "<div>\n",
       "<style scoped>\n",
       "    .dataframe tbody tr th:only-of-type {\n",
       "        vertical-align: middle;\n",
       "    }\n",
       "\n",
       "    .dataframe tbody tr th {\n",
       "        vertical-align: top;\n",
       "    }\n",
       "\n",
       "    .dataframe thead th {\n",
       "        text-align: right;\n",
       "    }\n",
       "</style>\n",
       "<table border=\"1\" class=\"dataframe\">\n",
       "  <thead>\n",
       "    <tr style=\"text-align: right;\">\n",
       "      <th></th>\n",
       "      <th>user_id</th>\n",
       "      <th>tariff</th>\n",
       "      <th>01_Январь</th>\n",
       "      <th>02_Февраль</th>\n",
       "      <th>03_Март</th>\n",
       "      <th>04_Апрель</th>\n",
       "      <th>05_Май</th>\n",
       "      <th>06_Июнь</th>\n",
       "      <th>07_Июль</th>\n",
       "      <th>08_Август</th>\n",
       "      <th>09_Сентябрь</th>\n",
       "      <th>10_Октябрь</th>\n",
       "      <th>11_Ноябрь</th>\n",
       "      <th>12_Декабрь</th>\n",
       "    </tr>\n",
       "  </thead>\n",
       "  <tbody>\n",
       "    <tr>\n",
       "      <th>0</th>\n",
       "      <td>1000</td>\n",
       "      <td>ultra</td>\n",
       "      <td>0</td>\n",
       "      <td>0</td>\n",
       "      <td>0</td>\n",
       "      <td>0</td>\n",
       "      <td>1950</td>\n",
       "      <td>1950</td>\n",
       "      <td>1950</td>\n",
       "      <td>1950</td>\n",
       "      <td>1950</td>\n",
       "      <td>1950</td>\n",
       "      <td>1950</td>\n",
       "      <td>1950</td>\n",
       "    </tr>\n",
       "    <tr>\n",
       "      <th>1</th>\n",
       "      <td>1001</td>\n",
       "      <td>smart</td>\n",
       "      <td>0</td>\n",
       "      <td>0</td>\n",
       "      <td>0</td>\n",
       "      <td>0</td>\n",
       "      <td>0</td>\n",
       "      <td>0</td>\n",
       "      <td>0</td>\n",
       "      <td>0</td>\n",
       "      <td>0</td>\n",
       "      <td>0</td>\n",
       "      <td>550</td>\n",
       "      <td>550</td>\n",
       "    </tr>\n",
       "    <tr>\n",
       "      <th>2</th>\n",
       "      <td>1002</td>\n",
       "      <td>smart</td>\n",
       "      <td>0</td>\n",
       "      <td>0</td>\n",
       "      <td>0</td>\n",
       "      <td>0</td>\n",
       "      <td>0</td>\n",
       "      <td>550</td>\n",
       "      <td>550</td>\n",
       "      <td>550</td>\n",
       "      <td>550</td>\n",
       "      <td>550</td>\n",
       "      <td>550</td>\n",
       "      <td>550</td>\n",
       "    </tr>\n",
       "    <tr>\n",
       "      <th>3</th>\n",
       "      <td>1003</td>\n",
       "      <td>ultra</td>\n",
       "      <td>0</td>\n",
       "      <td>0</td>\n",
       "      <td>0</td>\n",
       "      <td>0</td>\n",
       "      <td>0</td>\n",
       "      <td>0</td>\n",
       "      <td>0</td>\n",
       "      <td>1950</td>\n",
       "      <td>1950</td>\n",
       "      <td>1950</td>\n",
       "      <td>1950</td>\n",
       "      <td>1950</td>\n",
       "    </tr>\n",
       "    <tr>\n",
       "      <th>4</th>\n",
       "      <td>1004</td>\n",
       "      <td>ultra</td>\n",
       "      <td>0</td>\n",
       "      <td>0</td>\n",
       "      <td>0</td>\n",
       "      <td>0</td>\n",
       "      <td>1950</td>\n",
       "      <td>1950</td>\n",
       "      <td>1950</td>\n",
       "      <td>1950</td>\n",
       "      <td>1950</td>\n",
       "      <td>1950</td>\n",
       "      <td>1950</td>\n",
       "      <td>1950</td>\n",
       "    </tr>\n",
       "  </tbody>\n",
       "</table>\n",
       "</div>"
      ],
      "text/plain": [
       "  user_id tariff  01_Январь  02_Февраль  03_Март  04_Апрель  05_Май  06_Июнь  \\\n",
       "0    1000  ultra          0           0        0          0    1950     1950   \n",
       "1    1001  smart          0           0        0          0       0        0   \n",
       "2    1002  smart          0           0        0          0       0      550   \n",
       "3    1003  ultra          0           0        0          0       0        0   \n",
       "4    1004  ultra          0           0        0          0    1950     1950   \n",
       "\n",
       "   07_Июль  08_Август  09_Сентябрь  10_Октябрь  11_Ноябрь  12_Декабрь  \n",
       "0     1950       1950         1950        1950       1950        1950  \n",
       "1        0          0            0           0        550         550  \n",
       "2      550        550          550         550        550         550  \n",
       "3        0       1950         1950        1950       1950        1950  \n",
       "4     1950       1950         1950        1950       1950        1950  "
      ]
     },
     "execution_count": 75,
     "metadata": {},
     "output_type": "execute_result"
    }
   ],
   "source": [
    "df_month_user_count_tariff.head()"
   ]
  },
  {
   "cell_type": "markdown",
   "id": "f8c2a60c",
   "metadata": {},
   "source": [
    "#### Вывод"
   ]
  },
  {
   "cell_type": "markdown",
   "id": "57dd14c6",
   "metadata": {},
   "source": [
    "Мы успешно вычислили по каждому пользователю помесячно абонентские доходы по каждому тарифному плану."
   ]
  },
  {
   "cell_type": "markdown",
   "id": "1d3a38e8",
   "metadata": {},
   "source": [
    "#### Общий доход"
   ]
  },
  {
   "cell_type": "markdown",
   "id": "a66ab33c",
   "metadata": {},
   "source": [
    "Объединим в один датафрейм доходы от ежемесячных тарифов и доходов от расходов сверх лимита, по каждому месяцу и каждому пользователю. Создадим для этого датафрейм `df_user_month_tarif_over_total_rub` на основе датафрейма `df_month_user_count_tariff`"
   ]
  },
  {
   "cell_type": "code",
   "execution_count": 76,
   "id": "ec098fb0",
   "metadata": {},
   "outputs": [],
   "source": [
    "df_user_month_tarif_over_total_rub = df_month_user_count_tariff.copy()"
   ]
  },
  {
   "cell_type": "markdown",
   "id": "9affeb7a",
   "metadata": {},
   "source": [
    "Суммируем датафреймы `df_user_month_tarif_over_total_rub` и `df_total_revenue_per_client_month` в которых размещены данные по абонентской плате и доходам сверх бесплатного лимита."
   ]
  },
  {
   "cell_type": "code",
   "execution_count": 77,
   "id": "520acbc5",
   "metadata": {},
   "outputs": [],
   "source": [
    "df_user_month_tarif_over_total_rub[df_columns] = df_user_month_tarif_over_total_rub[df_columns] + df_total_revenue_per_client_month[df_columns]"
   ]
  },
  {
   "cell_type": "markdown",
   "id": "589f21de",
   "metadata": {},
   "source": [
    "Выведим полученный результат в 5 строках."
   ]
  },
  {
   "cell_type": "code",
   "execution_count": 78,
   "id": "254a47cc",
   "metadata": {
    "scrolled": false
   },
   "outputs": [
    {
     "data": {
      "text/html": [
       "<div>\n",
       "<style scoped>\n",
       "    .dataframe tbody tr th:only-of-type {\n",
       "        vertical-align: middle;\n",
       "    }\n",
       "\n",
       "    .dataframe tbody tr th {\n",
       "        vertical-align: top;\n",
       "    }\n",
       "\n",
       "    .dataframe thead th {\n",
       "        text-align: right;\n",
       "    }\n",
       "</style>\n",
       "<table border=\"1\" class=\"dataframe\">\n",
       "  <thead>\n",
       "    <tr style=\"text-align: right;\">\n",
       "      <th></th>\n",
       "      <th>user_id</th>\n",
       "      <th>tariff</th>\n",
       "      <th>01_Январь</th>\n",
       "      <th>02_Февраль</th>\n",
       "      <th>03_Март</th>\n",
       "      <th>04_Апрель</th>\n",
       "      <th>05_Май</th>\n",
       "      <th>06_Июнь</th>\n",
       "      <th>07_Июль</th>\n",
       "      <th>08_Август</th>\n",
       "      <th>09_Сентябрь</th>\n",
       "      <th>10_Октябрь</th>\n",
       "      <th>11_Ноябрь</th>\n",
       "      <th>12_Декабрь</th>\n",
       "    </tr>\n",
       "  </thead>\n",
       "  <tbody>\n",
       "    <tr>\n",
       "      <th>495</th>\n",
       "      <td>1495</td>\n",
       "      <td>ultra</td>\n",
       "      <td>0</td>\n",
       "      <td>0</td>\n",
       "      <td>0</td>\n",
       "      <td>0</td>\n",
       "      <td>0</td>\n",
       "      <td>0</td>\n",
       "      <td>0</td>\n",
       "      <td>1950</td>\n",
       "      <td>2400</td>\n",
       "      <td>1950</td>\n",
       "      <td>3300</td>\n",
       "      <td>1950</td>\n",
       "    </tr>\n",
       "    <tr>\n",
       "      <th>496</th>\n",
       "      <td>1496</td>\n",
       "      <td>smart</td>\n",
       "      <td>550</td>\n",
       "      <td>3432</td>\n",
       "      <td>2721</td>\n",
       "      <td>1813</td>\n",
       "      <td>2350</td>\n",
       "      <td>1715</td>\n",
       "      <td>2596</td>\n",
       "      <td>2231</td>\n",
       "      <td>2950</td>\n",
       "      <td>3150</td>\n",
       "      <td>3036</td>\n",
       "      <td>1807</td>\n",
       "    </tr>\n",
       "    <tr>\n",
       "      <th>497</th>\n",
       "      <td>1497</td>\n",
       "      <td>smart</td>\n",
       "      <td>0</td>\n",
       "      <td>0</td>\n",
       "      <td>0</td>\n",
       "      <td>0</td>\n",
       "      <td>0</td>\n",
       "      <td>0</td>\n",
       "      <td>0</td>\n",
       "      <td>0</td>\n",
       "      <td>0</td>\n",
       "      <td>550</td>\n",
       "      <td>550</td>\n",
       "      <td>1685</td>\n",
       "    </tr>\n",
       "    <tr>\n",
       "      <th>498</th>\n",
       "      <td>1498</td>\n",
       "      <td>smart</td>\n",
       "      <td>0</td>\n",
       "      <td>0</td>\n",
       "      <td>0</td>\n",
       "      <td>0</td>\n",
       "      <td>0</td>\n",
       "      <td>0</td>\n",
       "      <td>550</td>\n",
       "      <td>2386</td>\n",
       "      <td>1950</td>\n",
       "      <td>1750</td>\n",
       "      <td>0</td>\n",
       "      <td>0</td>\n",
       "    </tr>\n",
       "    <tr>\n",
       "      <th>499</th>\n",
       "      <td>1499</td>\n",
       "      <td>smart</td>\n",
       "      <td>0</td>\n",
       "      <td>0</td>\n",
       "      <td>0</td>\n",
       "      <td>0</td>\n",
       "      <td>0</td>\n",
       "      <td>0</td>\n",
       "      <td>0</td>\n",
       "      <td>0</td>\n",
       "      <td>550</td>\n",
       "      <td>1150</td>\n",
       "      <td>1513</td>\n",
       "      <td>598</td>\n",
       "    </tr>\n",
       "  </tbody>\n",
       "</table>\n",
       "</div>"
      ],
      "text/plain": [
       "    user_id tariff  01_Январь  02_Февраль  03_Март  04_Апрель  05_Май  \\\n",
       "495    1495  ultra          0           0        0          0       0   \n",
       "496    1496  smart        550        3432     2721       1813    2350   \n",
       "497    1497  smart          0           0        0          0       0   \n",
       "498    1498  smart          0           0        0          0       0   \n",
       "499    1499  smart          0           0        0          0       0   \n",
       "\n",
       "     06_Июнь  07_Июль  08_Август  09_Сентябрь  10_Октябрь  11_Ноябрь  \\\n",
       "495        0        0       1950         2400        1950       3300   \n",
       "496     1715     2596       2231         2950        3150       3036   \n",
       "497        0        0          0            0         550        550   \n",
       "498        0      550       2386         1950        1750          0   \n",
       "499        0        0          0          550        1150       1513   \n",
       "\n",
       "     12_Декабрь  \n",
       "495        1950  \n",
       "496        1807  \n",
       "497        1685  \n",
       "498           0  \n",
       "499         598  "
      ]
     },
     "execution_count": 78,
     "metadata": {},
     "output_type": "execute_result"
    }
   ],
   "source": [
    "df_user_month_tarif_over_total_rub.tail()"
   ]
  },
  {
   "cell_type": "markdown",
   "id": "5b33bdf1",
   "metadata": {},
   "source": [
    "#### Вывод"
   ]
  },
  {
   "cell_type": "markdown",
   "id": "e7231e9b",
   "metadata": {},
   "source": [
    "Отлично, у нас получилось вычислить общие доходы по каждому клиенту, по каждому месяцу."
   ]
  },
  {
   "cell_type": "markdown",
   "id": "91a42f5a",
   "metadata": {},
   "source": [
    "#### Добавление необходимых данных"
   ]
  },
  {
   "cell_type": "markdown",
   "id": "c73e0bff",
   "metadata": {},
   "source": [
    "Добавим столбец `month_count` в датафрейм `df_user_month_tarif_over_total_rub` в котором расположены количество месяцев пользования в году пользователем."
   ]
  },
  {
   "cell_type": "code",
   "execution_count": 79,
   "id": "18a33b52",
   "metadata": {},
   "outputs": [],
   "source": [
    "df_user_month_tarif_over_total_rub['month_count'] = df_month_user_count_tariff_count['month_count']"
   ]
  },
  {
   "cell_type": "markdown",
   "id": "4051d669",
   "metadata": {},
   "source": [
    "Посчитаем общие годовые доходы по каждому пользователю и сохраним их в столбец `general_income`"
   ]
  },
  {
   "cell_type": "code",
   "execution_count": 80,
   "id": "263d4b88",
   "metadata": {},
   "outputs": [],
   "source": [
    "df_user_month_tarif_over_total_rub['general_income'] = df_user_month_tarif_over_total_rub[df_columns].sum(axis=1)"
   ]
  },
  {
   "cell_type": "markdown",
   "id": "1b9d7600",
   "metadata": {},
   "source": [
    "Выведим полученный результат в срезе."
   ]
  },
  {
   "cell_type": "code",
   "execution_count": 81,
   "id": "1d6ad262",
   "metadata": {},
   "outputs": [
    {
     "data": {
      "text/html": [
       "<div>\n",
       "<style scoped>\n",
       "    .dataframe tbody tr th:only-of-type {\n",
       "        vertical-align: middle;\n",
       "    }\n",
       "\n",
       "    .dataframe tbody tr th {\n",
       "        vertical-align: top;\n",
       "    }\n",
       "\n",
       "    .dataframe thead th {\n",
       "        text-align: right;\n",
       "    }\n",
       "</style>\n",
       "<table border=\"1\" class=\"dataframe\">\n",
       "  <thead>\n",
       "    <tr style=\"text-align: right;\">\n",
       "      <th></th>\n",
       "      <th>user_id</th>\n",
       "      <th>tariff</th>\n",
       "      <th>01_Январь</th>\n",
       "      <th>02_Февраль</th>\n",
       "      <th>03_Март</th>\n",
       "      <th>04_Апрель</th>\n",
       "      <th>05_Май</th>\n",
       "      <th>06_Июнь</th>\n",
       "      <th>07_Июль</th>\n",
       "      <th>08_Август</th>\n",
       "      <th>09_Сентябрь</th>\n",
       "      <th>10_Октябрь</th>\n",
       "      <th>11_Ноябрь</th>\n",
       "      <th>12_Декабрь</th>\n",
       "      <th>month_count</th>\n",
       "      <th>general_income</th>\n",
       "    </tr>\n",
       "  </thead>\n",
       "  <tbody>\n",
       "    <tr>\n",
       "      <th>0</th>\n",
       "      <td>1000</td>\n",
       "      <td>ultra</td>\n",
       "      <td>0</td>\n",
       "      <td>0</td>\n",
       "      <td>0</td>\n",
       "      <td>0</td>\n",
       "      <td>1950</td>\n",
       "      <td>1950</td>\n",
       "      <td>1950</td>\n",
       "      <td>1950</td>\n",
       "      <td>1950</td>\n",
       "      <td>1950</td>\n",
       "      <td>1950</td>\n",
       "      <td>1950</td>\n",
       "      <td>8</td>\n",
       "      <td>15600</td>\n",
       "    </tr>\n",
       "    <tr>\n",
       "      <th>1</th>\n",
       "      <td>1001</td>\n",
       "      <td>smart</td>\n",
       "      <td>0</td>\n",
       "      <td>0</td>\n",
       "      <td>0</td>\n",
       "      <td>0</td>\n",
       "      <td>0</td>\n",
       "      <td>0</td>\n",
       "      <td>0</td>\n",
       "      <td>0</td>\n",
       "      <td>0</td>\n",
       "      <td>0</td>\n",
       "      <td>1150</td>\n",
       "      <td>550</td>\n",
       "      <td>2</td>\n",
       "      <td>1700</td>\n",
       "    </tr>\n",
       "    <tr>\n",
       "      <th>2</th>\n",
       "      <td>1002</td>\n",
       "      <td>smart</td>\n",
       "      <td>0</td>\n",
       "      <td>0</td>\n",
       "      <td>0</td>\n",
       "      <td>0</td>\n",
       "      <td>0</td>\n",
       "      <td>550</td>\n",
       "      <td>1150</td>\n",
       "      <td>1550</td>\n",
       "      <td>950</td>\n",
       "      <td>550</td>\n",
       "      <td>1350</td>\n",
       "      <td>1150</td>\n",
       "      <td>7</td>\n",
       "      <td>7250</td>\n",
       "    </tr>\n",
       "    <tr>\n",
       "      <th>3</th>\n",
       "      <td>1003</td>\n",
       "      <td>ultra</td>\n",
       "      <td>0</td>\n",
       "      <td>0</td>\n",
       "      <td>0</td>\n",
       "      <td>0</td>\n",
       "      <td>0</td>\n",
       "      <td>0</td>\n",
       "      <td>0</td>\n",
       "      <td>1950</td>\n",
       "      <td>1950</td>\n",
       "      <td>1950</td>\n",
       "      <td>1950</td>\n",
       "      <td>1950</td>\n",
       "      <td>5</td>\n",
       "      <td>9750</td>\n",
       "    </tr>\n",
       "    <tr>\n",
       "      <th>4</th>\n",
       "      <td>1004</td>\n",
       "      <td>ultra</td>\n",
       "      <td>0</td>\n",
       "      <td>0</td>\n",
       "      <td>0</td>\n",
       "      <td>0</td>\n",
       "      <td>1950</td>\n",
       "      <td>1950</td>\n",
       "      <td>1950</td>\n",
       "      <td>1950</td>\n",
       "      <td>1950</td>\n",
       "      <td>1950</td>\n",
       "      <td>1950</td>\n",
       "      <td>1950</td>\n",
       "      <td>8</td>\n",
       "      <td>15600</td>\n",
       "    </tr>\n",
       "  </tbody>\n",
       "</table>\n",
       "</div>"
      ],
      "text/plain": [
       "  user_id tariff  01_Январь  02_Февраль  03_Март  04_Апрель  05_Май  06_Июнь  \\\n",
       "0    1000  ultra          0           0        0          0    1950     1950   \n",
       "1    1001  smart          0           0        0          0       0        0   \n",
       "2    1002  smart          0           0        0          0       0      550   \n",
       "3    1003  ultra          0           0        0          0       0        0   \n",
       "4    1004  ultra          0           0        0          0    1950     1950   \n",
       "\n",
       "   07_Июль  08_Август  09_Сентябрь  10_Октябрь  11_Ноябрь  12_Декабрь  \\\n",
       "0     1950       1950         1950        1950       1950        1950   \n",
       "1        0          0            0           0       1150         550   \n",
       "2     1150       1550          950         550       1350        1150   \n",
       "3        0       1950         1950        1950       1950        1950   \n",
       "4     1950       1950         1950        1950       1950        1950   \n",
       "\n",
       "   month_count  general_income  \n",
       "0            8           15600  \n",
       "1            2            1700  \n",
       "2            7            7250  \n",
       "3            5            9750  \n",
       "4            8           15600  "
      ]
     },
     "execution_count": 81,
     "metadata": {},
     "output_type": "execute_result"
    }
   ],
   "source": [
    "df_user_month_tarif_over_total_rub.head()"
   ]
  },
  {
   "cell_type": "markdown",
   "id": "77281972",
   "metadata": {},
   "source": [
    "#### Вывод"
   ]
  },
  {
   "cell_type": "markdown",
   "id": "36d1d1d5",
   "metadata": {},
   "source": [
    "Мы успешно добавили в датафрейм `df_user_month_tarif_over_total_rub` данные о количестве рабочих месяцев каждого клиента и общегодовых доходов. В дальнейшем будем использовать эти данные в анализе."
   ]
  },
  {
   "cell_type": "markdown",
   "id": "dd37a5e6",
   "metadata": {},
   "source": [
    "### Вывод"
   ]
  },
  {
   "cell_type": "markdown",
   "id": "97a80cc7",
   "metadata": {},
   "source": [
    "Мы успешно посчитали общую выручку, абонентскую плату и выручку от использования услугами сверх предоставляемого лимита в рамках абонентской платы. По каждому месяцу, по каждому клиенту по каждому тарифу. Добавили данные по общегодовому доходу."
   ]
  },
  {
   "cell_type": "markdown",
   "id": "d447a5b5",
   "metadata": {},
   "source": [
    "## Анализ данных"
   ]
  },
  {
   "cell_type": "markdown",
   "id": "e59e630f",
   "metadata": {},
   "source": [
    "Выведим общее кол-во клиентов по каждому тарифу:"
   ]
  },
  {
   "cell_type": "code",
   "execution_count": 82,
   "id": "9460defb",
   "metadata": {
    "scrolled": true
   },
   "outputs": [
    {
     "data": {
      "text/plain": [
       "smart    351\n",
       "ultra    149\n",
       "Name: tariff, dtype: int64"
      ]
     },
     "execution_count": 82,
     "metadata": {},
     "output_type": "execute_result"
    }
   ],
   "source": [
    "df_user_month_tarif_over_total_rub['tariff'].value_counts()"
   ]
  },
  {
   "cell_type": "markdown",
   "id": "f79b3b84",
   "metadata": {},
   "source": [
    "Мы видим, что в предоставленной нам выборке, тарифом `Смарт` пользуются 351чел., тарифом `Ультра` - 149 чел."
   ]
  },
  {
   "cell_type": "markdown",
   "id": "64df132f",
   "metadata": {},
   "source": [
    "Создадим функцию с помощью которой будем выводить гистограмму и график плотности по определенным параметрам:"
   ]
  },
  {
   "cell_type": "code",
   "execution_count": 83,
   "id": "4893b27d",
   "metadata": {},
   "outputs": [],
   "source": [
    "def hist_kde(data, tarif, column, ylable):\n",
    "    \"\"\"Функция выводит гистограмму и график плотности по определенным параметрам\"\"\"\n",
    "    \n",
    "    if tarif == 'ultra':\n",
    "        ax = sns.displot(data[data['tariff'] == tarif][column], kde=True, bins=15);\n",
    "        ax.fig.suptitle('Гистограмма и график плотности с тарифом \"Ультра\"');\n",
    "        ax.set_axis_labels(ylable , 'Количество пользователей');\n",
    "    elif tarif == 'smart':\n",
    "        ax = sns.displot(data[data['tariff'] == tarif][column], kde=True, bins=15);\n",
    "        ax.fig.suptitle('Гистограмма и график плотности с тарифом \"Смарт\"');\n",
    "        ax.set_axis_labels(ylable , 'Количество пользователей');"
   ]
  },
  {
   "cell_type": "markdown",
   "id": "28c4aa39",
   "metadata": {},
   "source": [
    "### Звонки"
   ]
  },
  {
   "cell_type": "markdown",
   "id": "f44ffe2c",
   "metadata": {},
   "source": [
    "Для анализа используем датафрейм `df_cal_month_user_sum` в котором мы сформировали кол-во минут разговоров по каждому клиенту помесячно."
   ]
  },
  {
   "cell_type": "code",
   "execution_count": 84,
   "id": "95260515",
   "metadata": {},
   "outputs": [
    {
     "data": {
      "text/html": [
       "<div>\n",
       "<style scoped>\n",
       "    .dataframe tbody tr th:only-of-type {\n",
       "        vertical-align: middle;\n",
       "    }\n",
       "\n",
       "    .dataframe tbody tr th {\n",
       "        vertical-align: top;\n",
       "    }\n",
       "\n",
       "    .dataframe thead th {\n",
       "        text-align: right;\n",
       "    }\n",
       "</style>\n",
       "<table border=\"1\" class=\"dataframe\">\n",
       "  <thead>\n",
       "    <tr style=\"text-align: right;\">\n",
       "      <th>month_iter</th>\n",
       "      <th>user_id</th>\n",
       "      <th>tariff</th>\n",
       "      <th>01_Январь</th>\n",
       "      <th>02_Февраль</th>\n",
       "      <th>03_Март</th>\n",
       "      <th>04_Апрель</th>\n",
       "      <th>05_Май</th>\n",
       "      <th>06_Июнь</th>\n",
       "      <th>07_Июль</th>\n",
       "      <th>08_Август</th>\n",
       "      <th>09_Сентябрь</th>\n",
       "      <th>10_Октябрь</th>\n",
       "      <th>11_Ноябрь</th>\n",
       "      <th>12_Декабрь</th>\n",
       "    </tr>\n",
       "  </thead>\n",
       "  <tbody>\n",
       "    <tr>\n",
       "      <th>0</th>\n",
       "      <td>1000</td>\n",
       "      <td>ultra</td>\n",
       "      <td>0</td>\n",
       "      <td>0</td>\n",
       "      <td>0</td>\n",
       "      <td>0</td>\n",
       "      <td>159</td>\n",
       "      <td>172</td>\n",
       "      <td>340</td>\n",
       "      <td>408</td>\n",
       "      <td>466</td>\n",
       "      <td>350</td>\n",
       "      <td>338</td>\n",
       "      <td>333</td>\n",
       "    </tr>\n",
       "    <tr>\n",
       "      <th>1</th>\n",
       "      <td>1001</td>\n",
       "      <td>smart</td>\n",
       "      <td>0</td>\n",
       "      <td>0</td>\n",
       "      <td>0</td>\n",
       "      <td>0</td>\n",
       "      <td>0</td>\n",
       "      <td>0</td>\n",
       "      <td>0</td>\n",
       "      <td>0</td>\n",
       "      <td>0</td>\n",
       "      <td>0</td>\n",
       "      <td>430</td>\n",
       "      <td>414</td>\n",
       "    </tr>\n",
       "    <tr>\n",
       "      <th>2</th>\n",
       "      <td>1002</td>\n",
       "      <td>smart</td>\n",
       "      <td>0</td>\n",
       "      <td>0</td>\n",
       "      <td>0</td>\n",
       "      <td>0</td>\n",
       "      <td>0</td>\n",
       "      <td>117</td>\n",
       "      <td>214</td>\n",
       "      <td>289</td>\n",
       "      <td>206</td>\n",
       "      <td>212</td>\n",
       "      <td>243</td>\n",
       "      <td>236</td>\n",
       "    </tr>\n",
       "  </tbody>\n",
       "</table>\n",
       "</div>"
      ],
      "text/plain": [
       "month_iter user_id tariff  01_Январь  02_Февраль  03_Март  04_Апрель  05_Май  \\\n",
       "0             1000  ultra          0           0        0          0     159   \n",
       "1             1001  smart          0           0        0          0       0   \n",
       "2             1002  smart          0           0        0          0       0   \n",
       "\n",
       "month_iter  06_Июнь  07_Июль  08_Август  09_Сентябрь  10_Октябрь  11_Ноябрь  \\\n",
       "0               172      340        408          466         350        338   \n",
       "1                 0        0          0            0           0        430   \n",
       "2               117      214        289          206         212        243   \n",
       "\n",
       "month_iter  12_Декабрь  \n",
       "0                  333  \n",
       "1                  414  \n",
       "2                  236  "
      ]
     },
     "execution_count": 84,
     "metadata": {},
     "output_type": "execute_result"
    }
   ],
   "source": [
    "df_cal_month_user_sum.head(3)"
   ]
  },
  {
   "cell_type": "markdown",
   "id": "4bed6597",
   "metadata": {},
   "source": [
    "Чтобы посчитать количество месяцев использования связи, заменим значения кол-ва разговоров на 1, посчитаем их сумму и сохраним в новом датафрейме `df_cal_month_user_count_sum` в отдельном столбце"
   ]
  },
  {
   "cell_type": "code",
   "execution_count": 85,
   "id": "0bb6d2e5",
   "metadata": {},
   "outputs": [],
   "source": [
    "#создаем датафрейм df_cal_month_user_count_sum\n",
    "df_cal_month_user_count_sum = df_cal_month_user_sum.copy()\n",
    "\n",
    "#заменяем все значения более 0 на 1\n",
    "df_cal_month_user_count_sum[df_columns] = np.where((df_cal_month_user_count_sum[df_columns] > 0), 1, df_cal_month_user_count_sum[df_columns])\n",
    "\n",
    "#суммируем полученные значения по рабочим месяцам\n",
    "df_cal_month_user_count_sum['col_month_count'] = df_cal_month_user_count_sum[df_columns].sum(axis=1)"
   ]
  },
  {
   "cell_type": "markdown",
   "id": "20036127",
   "metadata": {},
   "source": [
    "Добавим столбец с кол-вом месяцев пользования в основной датафрейм `df_cal_month_user_count`"
   ]
  },
  {
   "cell_type": "code",
   "execution_count": 86,
   "id": "5f9faf6a",
   "metadata": {},
   "outputs": [],
   "source": [
    "df_cal_month_user_sum['col_month_count'] = df_cal_month_user_count_sum['col_month_count']"
   ]
  },
  {
   "cell_type": "markdown",
   "id": "3e451db9",
   "metadata": {},
   "source": [
    "Добавим столбец в датафрейм `df_cal_month_user_sum` в котором разместим общее количество разговоров по каждому"
   ]
  },
  {
   "cell_type": "code",
   "execution_count": 87,
   "id": "3ba71f34",
   "metadata": {},
   "outputs": [],
   "source": [
    "df_cal_month_user_sum['col_total_min'] = df_cal_month_user_sum[df_columns].sum(axis=1)"
   ]
  },
  {
   "cell_type": "markdown",
   "id": "24f8e5c1",
   "metadata": {},
   "source": [
    "Создадим столбец со средними значениями разговоров по каждому пользователю, столбец назовем `col_mean_min`. Для вычисления средней величины разделим общее кол-во мин. разговора на количество месяцев пользования и окрулим до 2 единиц после запятой."
   ]
  },
  {
   "cell_type": "code",
   "execution_count": 88,
   "id": "ce87eecd",
   "metadata": {},
   "outputs": [],
   "source": [
    "df_cal_month_user_sum['col_mean_min'] = round(df_cal_month_user_sum['col_total_min'] / df_cal_month_user_sum['col_month_count'], 2)"
   ]
  },
  {
   "cell_type": "markdown",
   "id": "7db7c708",
   "metadata": {},
   "source": [
    "Выведим полученный результат."
   ]
  },
  {
   "cell_type": "code",
   "execution_count": 89,
   "id": "5d1b6a24",
   "metadata": {
    "scrolled": false
   },
   "outputs": [
    {
     "data": {
      "text/html": [
       "<div>\n",
       "<style scoped>\n",
       "    .dataframe tbody tr th:only-of-type {\n",
       "        vertical-align: middle;\n",
       "    }\n",
       "\n",
       "    .dataframe tbody tr th {\n",
       "        vertical-align: top;\n",
       "    }\n",
       "\n",
       "    .dataframe thead th {\n",
       "        text-align: right;\n",
       "    }\n",
       "</style>\n",
       "<table border=\"1\" class=\"dataframe\">\n",
       "  <thead>\n",
       "    <tr style=\"text-align: right;\">\n",
       "      <th>month_iter</th>\n",
       "      <th>user_id</th>\n",
       "      <th>tariff</th>\n",
       "      <th>01_Январь</th>\n",
       "      <th>02_Февраль</th>\n",
       "      <th>03_Март</th>\n",
       "      <th>04_Апрель</th>\n",
       "      <th>05_Май</th>\n",
       "      <th>06_Июнь</th>\n",
       "      <th>07_Июль</th>\n",
       "      <th>08_Август</th>\n",
       "      <th>09_Сентябрь</th>\n",
       "      <th>10_Октябрь</th>\n",
       "      <th>11_Ноябрь</th>\n",
       "      <th>12_Декабрь</th>\n",
       "      <th>col_month_count</th>\n",
       "      <th>col_total_min</th>\n",
       "      <th>col_mean_min</th>\n",
       "    </tr>\n",
       "  </thead>\n",
       "  <tbody>\n",
       "    <tr>\n",
       "      <th>0</th>\n",
       "      <td>1000</td>\n",
       "      <td>ultra</td>\n",
       "      <td>0</td>\n",
       "      <td>0</td>\n",
       "      <td>0</td>\n",
       "      <td>0</td>\n",
       "      <td>159</td>\n",
       "      <td>172</td>\n",
       "      <td>340</td>\n",
       "      <td>408</td>\n",
       "      <td>466</td>\n",
       "      <td>350</td>\n",
       "      <td>338</td>\n",
       "      <td>333</td>\n",
       "      <td>8</td>\n",
       "      <td>2566</td>\n",
       "      <td>320.75</td>\n",
       "    </tr>\n",
       "    <tr>\n",
       "      <th>1</th>\n",
       "      <td>1001</td>\n",
       "      <td>smart</td>\n",
       "      <td>0</td>\n",
       "      <td>0</td>\n",
       "      <td>0</td>\n",
       "      <td>0</td>\n",
       "      <td>0</td>\n",
       "      <td>0</td>\n",
       "      <td>0</td>\n",
       "      <td>0</td>\n",
       "      <td>0</td>\n",
       "      <td>0</td>\n",
       "      <td>430</td>\n",
       "      <td>414</td>\n",
       "      <td>2</td>\n",
       "      <td>844</td>\n",
       "      <td>422.00</td>\n",
       "    </tr>\n",
       "    <tr>\n",
       "      <th>2</th>\n",
       "      <td>1002</td>\n",
       "      <td>smart</td>\n",
       "      <td>0</td>\n",
       "      <td>0</td>\n",
       "      <td>0</td>\n",
       "      <td>0</td>\n",
       "      <td>0</td>\n",
       "      <td>117</td>\n",
       "      <td>214</td>\n",
       "      <td>289</td>\n",
       "      <td>206</td>\n",
       "      <td>212</td>\n",
       "      <td>243</td>\n",
       "      <td>236</td>\n",
       "      <td>7</td>\n",
       "      <td>1517</td>\n",
       "      <td>216.71</td>\n",
       "    </tr>\n",
       "  </tbody>\n",
       "</table>\n",
       "</div>"
      ],
      "text/plain": [
       "month_iter user_id tariff  01_Январь  02_Февраль  03_Март  04_Апрель  05_Май  \\\n",
       "0             1000  ultra          0           0        0          0     159   \n",
       "1             1001  smart          0           0        0          0       0   \n",
       "2             1002  smart          0           0        0          0       0   \n",
       "\n",
       "month_iter  06_Июнь  07_Июль  08_Август  09_Сентябрь  10_Октябрь  11_Ноябрь  \\\n",
       "0               172      340        408          466         350        338   \n",
       "1                 0        0          0            0           0        430   \n",
       "2               117      214        289          206         212        243   \n",
       "\n",
       "month_iter  12_Декабрь  col_month_count  col_total_min  col_mean_min  \n",
       "0                  333                8           2566        320.75  \n",
       "1                  414                2            844        422.00  \n",
       "2                  236                7           1517        216.71  "
      ]
     },
     "execution_count": 89,
     "metadata": {},
     "output_type": "execute_result"
    }
   ],
   "source": [
    "df_cal_month_user_sum.head(3)"
   ]
  },
  {
   "cell_type": "markdown",
   "id": "8ed98439",
   "metadata": {},
   "source": [
    "На основании построенных данных найдем среднее количество минут разговора на каждого пользователя в каждом тарифе. Сохраним их в переменных `mean_cal_smart` и `mean_cal_ultra`"
   ]
  },
  {
   "cell_type": "code",
   "execution_count": 90,
   "id": "4fd9d8ae",
   "metadata": {},
   "outputs": [
    {
     "name": "stdout",
     "output_type": "stream",
     "text": [
      "Мы видим, что на тарифе \"smart\" среднее значение минут разговора в месяц - 420.8 мин., на тарифе \"ultra\" - 547.0 мин.\n"
     ]
    }
   ],
   "source": [
    "mean_cal_smart = round(df_cal_month_user_sum[df_cal_month_user_sum['tariff'] == 'smart']['col_mean_min'].mean(), 1)\n",
    "mean_cal_ultra = round(df_cal_month_user_sum[df_cal_month_user_sum['tariff'] == 'ultra']['col_mean_min'].mean(), 1)\n",
    "print(f'Мы видим, что на тарифе \"smart\" среднее значение минут разговора в месяц - {mean_cal_smart} мин., на тарифе \"ultra\" - {mean_cal_ultra} мин.')"
   ]
  },
  {
   "cell_type": "markdown",
   "id": "9d6ed1b9",
   "metadata": {},
   "source": [
    "Расчитаем дисперсию по каждому тарифу и сохраним в переменные `variance_cal_smart` и `variance_cal_ultra`"
   ]
  },
  {
   "cell_type": "code",
   "execution_count": 91,
   "id": "37b9207f",
   "metadata": {},
   "outputs": [
    {
     "name": "stdout",
     "output_type": "stream",
     "text": [
      "На тарифе \"smart\" дисперсия - 20578.305203130454, на тарифе \"ultra\" - 71872.12542202305.\n"
     ]
    }
   ],
   "source": [
    "variance_cal_smart = np.var(df_cal_month_user_sum[df_cal_month_user_sum['tariff'] == 'smart']['col_mean_min'], ddof=1)\n",
    "variance_cal_ultra = np.var(df_cal_month_user_sum[df_cal_month_user_sum['tariff'] == 'ultra']['col_mean_min'], ddof=1)\n",
    "print(f'На тарифе \"smart\" дисперсия - {variance_cal_smart}, на тарифе \"ultra\" - {variance_cal_ultra}.')"
   ]
  },
  {
   "cell_type": "markdown",
   "id": "ccfd28fb",
   "metadata": {},
   "source": [
    "Расчитаем стандартное отклонение по каждому тарифу и сохраним в переменные `std_cal_smart` и `std_cal_ultra`"
   ]
  },
  {
   "cell_type": "code",
   "execution_count": 92,
   "id": "8f896495",
   "metadata": {},
   "outputs": [
    {
     "name": "stdout",
     "output_type": "stream",
     "text": [
      "На тарифе \"smart\" стандартное отклонение - 143.45140362900062, на тарифе \"ultra\" - 268.0897711999155.\n"
     ]
    }
   ],
   "source": [
    "std_cal_smart = np.sqrt(variance_cal_smart)\n",
    "std_cal_ultra = np.sqrt(variance_cal_ultra)\n",
    "print(f'На тарифе \"smart\" стандартное отклонение - {std_cal_smart}, на тарифе \"ultra\" - {std_cal_ultra}.')"
   ]
  },
  {
   "cell_type": "markdown",
   "id": "a986bef5",
   "metadata": {},
   "source": [
    "Расчитаем медиану по каждому тарифу и сохраним в переменные `median_cal_smart` и `median_cal_ultra`"
   ]
  },
  {
   "cell_type": "code",
   "execution_count": 93,
   "id": "d0872538",
   "metadata": {},
   "outputs": [
    {
     "name": "stdout",
     "output_type": "stream",
     "text": [
      "Мы видим, что на тарифе \"smart\" медиана - 425.25 мин., на тарифе \"ultra\" - 525.5 мин.\n"
     ]
    }
   ],
   "source": [
    "median_cal_smart = df_cal_month_user_sum[df_cal_month_user_sum['tariff'] == 'smart']['col_mean_min'].median()\n",
    "median_cal_ultra = df_cal_month_user_sum[df_cal_month_user_sum['tariff'] == 'ultra']['col_mean_min'].median()\n",
    "print(f'Мы видим, что на тарифе \"smart\" медиана - {median_cal_smart} мин., на тарифе \"ultra\" - {median_cal_ultra} мин.')"
   ]
  },
  {
   "cell_type": "markdown",
   "id": "fc40ab9a",
   "metadata": {},
   "source": [
    "Выведим минимальные средние показатели по каждому тарифу, эти значения нам понадобятся для вычисления интервалов основных показателей:"
   ]
  },
  {
   "cell_type": "code",
   "execution_count": 94,
   "id": "a37d58ea",
   "metadata": {},
   "outputs": [],
   "source": [
    "min_cal_smart = df_cal_month_user_sum[df_cal_month_user_sum['tariff'] == 'smart']['col_mean_min'].min()\n",
    "min_cal_ultra = df_cal_month_user_sum[df_cal_month_user_sum['tariff'] == 'ultra']['col_mean_min'].min()"
   ]
  },
  {
   "cell_type": "markdown",
   "id": "4904a8a4",
   "metadata": {},
   "source": [
    "Напишем функцию с помощью которой, по правилу трех сигм, будем вычислять и выводить основной интервал средних значений по каждому тарифу"
   ]
  },
  {
   "cell_type": "code",
   "execution_count": 95,
   "id": "bcacdd7a",
   "metadata": {},
   "outputs": [],
   "source": [
    "def sigma_interval(mean_smart, mean_ultra, min_smart, min_ultra, std_smart, std_ultra, text, value):\n",
    "    \"\"\"Вычисляет и выводит основной интервал средних значений по каждому тарифу\"\"\"\n",
    "    \n",
    "    print(f\"\"\"\n",
    "    По тарифу \"Смарт\":\n",
    "    1. С вероятностью 68% основная масса пользователей в среднем {text} от {round((mean_smart - std_smart), 1) if (mean_smart - std_smart) > min_smart else min_smart} до {round(mean_smart + std_smart, 1)} {value} в месяц\n",
    "    2. С вероятностью 95% основная масса пользователей в среднем {text} от {round((mean_smart - 2 * std_smart), 1) if (mean_smart - 2 * std_smart) > min_smart else min_smart} до {round(mean_smart + 2 * std_smart, 1)} {value} в месяц\n",
    "    3. С вероятностью 99% основная масса пользователей в среднем {text} от {round((mean_smart - 3 * std_smart), 1) if (mean_smart - 3 * std_smart) > min_smart else min_smart} до {round(mean_smart + 3 * std_smart, 1)} {value} в месяц\n",
    "\n",
    "    По тарифу \"Ультра\":\n",
    "    1. С вероятностью 68% основная масса пользователей в среднем {text} от {round((mean_ultra - std_ultra), 1) if (mean_ultra - std_ultra) > min_ultra else min_ultra} до {round(mean_ultra + std_ultra, 1)} {value} в месяц\n",
    "    2. С вероятностью 95% основная масса пользователей в среднем {text} от {round((mean_ultra - 2 * std_ultra), 1) if (mean_ultra - 2 * std_ultra) > min_ultra else min_ultra} до {round(mean_ultra + 2 * std_ultra, 1)} {value} в месяц\n",
    "    3. С вероятностью 99% основная масса пользователей в среднем {text} от {round((mean_ultra - 3 * std_ultra), 1) if (mean_ultra - 3 * std_ultra) > min_ultra else min_ultra} до {round(mean_ultra + 3 * std_ultra, 1)} {value} в месяц\"\"\")"
   ]
  },
  {
   "cell_type": "markdown",
   "id": "61231e05",
   "metadata": {},
   "source": [
    "В этих данных, мы можем увидеть, в каких пределах основная масса клиентов находится. Например, в тарифе Смарт, 68% клиентов совершают звонков от 277 до 564 мин в месяц, а уже 95% в промежутке от 133 до 707 мин."
   ]
  },
  {
   "cell_type": "markdown",
   "id": "4da39691",
   "metadata": {},
   "source": [
    "Выведим основной интервал средних значений по каждому тарифу:"
   ]
  },
  {
   "cell_type": "code",
   "execution_count": 96,
   "id": "c397efa7",
   "metadata": {},
   "outputs": [
    {
     "name": "stdout",
     "output_type": "stream",
     "text": [
      "\n",
      "    По тарифу \"Смарт\":\n",
      "    1. С вероятностью 68% основная масса пользователей в среднем совершается звонков от 277.3 до 564.3 мин. в месяц\n",
      "    2. С вероятностью 95% основная масса пользователей в среднем совершается звонков от 133.9 до 707.7 мин. в месяц\n",
      "    3. С вероятностью 99% основная масса пользователей в среднем совершается звонков от 15.11 до 851.2 мин. в месяц\n",
      "\n",
      "    По тарифу \"Ультра\":\n",
      "    1. С вероятностью 68% основная масса пользователей в среднем совершается звонков от 278.9 до 815.1 мин. в месяц\n",
      "    2. С вероятностью 95% основная масса пользователей в среднем совершается звонков от 16.5 до 1083.2 мин. в месяц\n",
      "    3. С вероятностью 99% основная масса пользователей в среднем совершается звонков от 16.5 до 1351.3 мин. в месяц\n"
     ]
    }
   ],
   "source": [
    "sigma_interval(mean_cal_smart, mean_cal_ultra, min_cal_smart, min_cal_ultra, std_cal_smart, std_cal_ultra, 'совершается звонков', 'мин.')"
   ]
  },
  {
   "cell_type": "markdown",
   "id": "a78baab8",
   "metadata": {},
   "source": [
    "Выведим гистограмму и график плотности по количеству звонков с тарифом `Смарт`"
   ]
  },
  {
   "cell_type": "code",
   "execution_count": 97,
   "id": "b36fdc94",
   "metadata": {
    "scrolled": false
   },
   "outputs": [
    {
     "data": {
      "image/png": "[encoded data removed]",
      "text/plain": [
       "<Figure size 360x360 with 1 Axes>"
      ]
     },
     "metadata": {
      "needs_background": "light"
     },
     "output_type": "display_data"
    }
   ],
   "source": [
    "hist_kde(df_cal_month_user_sum, 'smart', 'col_mean_min', 'Количество, мин.')"
   ]
  },
  {
   "cell_type": "markdown",
   "id": "c0a46e20",
   "metadata": {},
   "source": [
    "Выведим гистограмму и график плотности по количеству звонков с тарифом `Ультра`"
   ]
  },
  {
   "cell_type": "code",
   "execution_count": 98,
   "id": "bcb220ae",
   "metadata": {
    "scrolled": false
   },
   "outputs": [
    {
     "data": {
      "image/png": "[encoded data removed]",
      "text/plain": [
       "<Figure size 360x360 with 1 Axes>"
      ]
     },
     "metadata": {
      "needs_background": "light"
     },
     "output_type": "display_data"
    }
   ],
   "source": [
    "hist_kde(df_cal_month_user_sum, 'ultra', 'col_mean_min', 'Количество, мин.')"
   ]
  },
  {
   "cell_type": "code",
   "execution_count": 99,
   "id": "f0857420",
   "metadata": {},
   "outputs": [],
   "source": [
    "def twice_hist(data, column, title, xlabel):\n",
    "    ax = data[data['tariff'] == 'smart'][column].plot(kind='hist', bins=20, alpha=.9, figsize=(13,7), legend=True);\n",
    "    ax.set_title(title);\n",
    "    data[data['tariff'] == 'ultra'][column].plot(kind='hist', bins=20, ax=ax, alpha=.7, figsize=(13,7), legend=True);\n",
    "    ax.set_xlabel(xlabel);\n",
    "    ax.set_ylabel('Количество пользователей');\n",
    "    ax.legend([\"smart\", \"ultra\"]);"
   ]
  },
  {
   "cell_type": "markdown",
   "id": "8072324e",
   "metadata": {},
   "source": [
    "Построим гистограммы с наложением, в котором мы сможем сравнить два тарифа Смарт и Ультра в плане звонков:"
   ]
  },
  {
   "cell_type": "code",
   "execution_count": 100,
   "id": "c831fbef",
   "metadata": {
    "scrolled": false
   },
   "outputs": [
    {
     "data": {
      "image/png": "[encoded data removed]",
      "text/plain": [
       "<Figure size 936x504 with 1 Axes>"
      ]
     },
     "metadata": {
      "needs_background": "light"
     },
     "output_type": "display_data"
    }
   ],
   "source": [
    "twice_hist(df_cal_month_user_sum, 'col_mean_min', 'Гистограмма по количеству клиентов в зависимости от минут разговора по тарифам', 'Количество, мин.')"
   ]
  },
  {
   "cell_type": "markdown",
   "id": "eec70ae2",
   "metadata": {},
   "source": [
    "По графику мы видим, что на тарифе Смарт более сконцентрированны разговоры в пределая 180 до 700 минут разговоров, основная масса сосредоточена здесь. А на тарифе Ультра более распределенное положение, нет четкой определенности \"кучности\", достаточно плавное, даже относительно тарифа ультра ровное, распределение по графику, плюс к этому мы можем увидеть, что максимальное распределение разговоров уходит до 1200 мин."
   ]
  },
  {
   "cell_type": "markdown",
   "id": "cfe3ba5b",
   "metadata": {},
   "source": [
    "#### Вывод"
   ]
  },
  {
   "cell_type": "markdown",
   "id": "2f0201b4",
   "metadata": {},
   "source": [
    "По тарифу \"**Смарт**\".\n",
    "\n",
    "Средняя величина минут разговоров составляет - 420.8 мин. в месяц\n",
    "\n",
    "Гистограмма и график плотностей показывает нормальное распределение с немного отрицательной скошенностью, это подтвержает и величина медианы в 425.25 мин., которая немного больше среднего.\n",
    "\n",
    "Стандартное отклонение - 143.4\n",
    "\n",
    "С вероятностью 68% основная масса пользователей в среднем совершает звонков от 277.3 до 564.3 мин. в месяц\n",
    "\n",
    "С вероятностью 95% основная масса пользователей в среднем совершает звонков от 133.9 до 707.7 мин. в месяц\n",
    "\n",
    "С вероятностью 99% основная масса пользователей в среднем совершает звонков от 15.11 до 851.2 мин. в месяц\n",
    "\n",
    "Стоит отметить, что на тарифе Смарт очень много абонентов превышают лимит в 500 мин по абонентской плате. И оплачивают по сверхтарифному счетчику.\n",
    "\n",
    "По тарифу \"**Ультра**\".\n",
    "\n",
    "Средняя величина минут разговоров составляет -  547.0 мин. в месяц\n",
    "\n",
    "Гистограмма и график плотностей показывает нормальное распределение с положительной скошенностью, это подтвержает и величина медианы в 525.5 мин., которая меньше среднего.\n",
    "\n",
    "Стандартное отклонение - 268.1\n",
    "\n",
    "С вероятностью 68% основная масса пользователей в среднем совершает звонков от 278.9 до 815.1 мин. в месяц\n",
    "\n",
    "С вероятностью 95% основная масса пользователей в среднем совершает звонков от 16.5 до 1083.2 мин. в месяц\n",
    "\n",
    "С вероятностью 99% основная масса пользователей в среднем совершает звонков от 16.5 до 1351.3 мин. в месяц\n"
   ]
  },
  {
   "cell_type": "markdown",
   "id": "cae8288f",
   "metadata": {},
   "source": [
    "### Сообщения"
   ]
  },
  {
   "cell_type": "markdown",
   "id": "a79f8b26",
   "metadata": {},
   "source": [
    "Для анализа используем датафрейм `df_mes_month_user` в котором мы сформировали кол-во минут разговоров по каждому клиенту помесячно."
   ]
  },
  {
   "cell_type": "code",
   "execution_count": 101,
   "id": "9ee04747",
   "metadata": {},
   "outputs": [
    {
     "data": {
      "text/html": [
       "<div>\n",
       "<style scoped>\n",
       "    .dataframe tbody tr th:only-of-type {\n",
       "        vertical-align: middle;\n",
       "    }\n",
       "\n",
       "    .dataframe tbody tr th {\n",
       "        vertical-align: top;\n",
       "    }\n",
       "\n",
       "    .dataframe thead th {\n",
       "        text-align: right;\n",
       "    }\n",
       "</style>\n",
       "<table border=\"1\" class=\"dataframe\">\n",
       "  <thead>\n",
       "    <tr style=\"text-align: right;\">\n",
       "      <th>month_iter</th>\n",
       "      <th>user_id</th>\n",
       "      <th>tariff</th>\n",
       "      <th>01_Январь</th>\n",
       "      <th>02_Февраль</th>\n",
       "      <th>03_Март</th>\n",
       "      <th>04_Апрель</th>\n",
       "      <th>05_Май</th>\n",
       "      <th>06_Июнь</th>\n",
       "      <th>07_Июль</th>\n",
       "      <th>08_Август</th>\n",
       "      <th>09_Сентябрь</th>\n",
       "      <th>10_Октябрь</th>\n",
       "      <th>11_Ноябрь</th>\n",
       "      <th>12_Декабрь</th>\n",
       "    </tr>\n",
       "  </thead>\n",
       "  <tbody>\n",
       "    <tr>\n",
       "      <th>0</th>\n",
       "      <td>1000</td>\n",
       "      <td>ultra</td>\n",
       "      <td>0</td>\n",
       "      <td>0</td>\n",
       "      <td>0</td>\n",
       "      <td>0</td>\n",
       "      <td>22</td>\n",
       "      <td>60</td>\n",
       "      <td>75</td>\n",
       "      <td>81</td>\n",
       "      <td>57</td>\n",
       "      <td>73</td>\n",
       "      <td>58</td>\n",
       "      <td>70</td>\n",
       "    </tr>\n",
       "    <tr>\n",
       "      <th>1</th>\n",
       "      <td>1002</td>\n",
       "      <td>smart</td>\n",
       "      <td>0</td>\n",
       "      <td>0</td>\n",
       "      <td>0</td>\n",
       "      <td>0</td>\n",
       "      <td>0</td>\n",
       "      <td>4</td>\n",
       "      <td>11</td>\n",
       "      <td>13</td>\n",
       "      <td>4</td>\n",
       "      <td>10</td>\n",
       "      <td>16</td>\n",
       "      <td>12</td>\n",
       "    </tr>\n",
       "    <tr>\n",
       "      <th>2</th>\n",
       "      <td>1003</td>\n",
       "      <td>ultra</td>\n",
       "      <td>0</td>\n",
       "      <td>0</td>\n",
       "      <td>0</td>\n",
       "      <td>0</td>\n",
       "      <td>0</td>\n",
       "      <td>0</td>\n",
       "      <td>0</td>\n",
       "      <td>37</td>\n",
       "      <td>91</td>\n",
       "      <td>83</td>\n",
       "      <td>94</td>\n",
       "      <td>75</td>\n",
       "    </tr>\n",
       "    <tr>\n",
       "      <th>3</th>\n",
       "      <td>1004</td>\n",
       "      <td>ultra</td>\n",
       "      <td>0</td>\n",
       "      <td>0</td>\n",
       "      <td>0</td>\n",
       "      <td>0</td>\n",
       "      <td>95</td>\n",
       "      <td>134</td>\n",
       "      <td>181</td>\n",
       "      <td>151</td>\n",
       "      <td>146</td>\n",
       "      <td>165</td>\n",
       "      <td>158</td>\n",
       "      <td>162</td>\n",
       "    </tr>\n",
       "    <tr>\n",
       "      <th>4</th>\n",
       "      <td>1005</td>\n",
       "      <td>smart</td>\n",
       "      <td>7</td>\n",
       "      <td>38</td>\n",
       "      <td>56</td>\n",
       "      <td>41</td>\n",
       "      <td>42</td>\n",
       "      <td>47</td>\n",
       "      <td>56</td>\n",
       "      <td>64</td>\n",
       "      <td>52</td>\n",
       "      <td>44</td>\n",
       "      <td>51</td>\n",
       "      <td>54</td>\n",
       "    </tr>\n",
       "  </tbody>\n",
       "</table>\n",
       "</div>"
      ],
      "text/plain": [
       "month_iter user_id tariff  01_Январь  02_Февраль  03_Март  04_Апрель  05_Май  \\\n",
       "0             1000  ultra          0           0        0          0      22   \n",
       "1             1002  smart          0           0        0          0       0   \n",
       "2             1003  ultra          0           0        0          0       0   \n",
       "3             1004  ultra          0           0        0          0      95   \n",
       "4             1005  smart          7          38       56         41      42   \n",
       "\n",
       "month_iter  06_Июнь  07_Июль  08_Август  09_Сентябрь  10_Октябрь  11_Ноябрь  \\\n",
       "0                60       75         81           57          73         58   \n",
       "1                 4       11         13            4          10         16   \n",
       "2                 0        0         37           91          83         94   \n",
       "3               134      181        151          146         165        158   \n",
       "4                47       56         64           52          44         51   \n",
       "\n",
       "month_iter  12_Декабрь  \n",
       "0                   70  \n",
       "1                   12  \n",
       "2                   75  \n",
       "3                  162  \n",
       "4                   54  "
      ]
     },
     "execution_count": 101,
     "metadata": {},
     "output_type": "execute_result"
    }
   ],
   "source": [
    "df_mes_month_user.head()"
   ]
  },
  {
   "cell_type": "markdown",
   "id": "6554e6a6",
   "metadata": {},
   "source": [
    "Чтобы посчитать количество месяцев использования связи, заменим значения кол-ва разговоров на 1, посчитаем их сумму и сохраним в новом датафрейме `df_cal_month_user_count_sum` в отдельном столбце"
   ]
  },
  {
   "cell_type": "code",
   "execution_count": 102,
   "id": "b42e230f",
   "metadata": {},
   "outputs": [],
   "source": [
    "#создаем датафрейм df_mes_month_user_count_sum\n",
    "df_mes_month_user_count_sum = df_mes_month_user.copy()\n",
    "\n",
    "#заменяем все значения более 0 на 1\n",
    "df_mes_month_user_count_sum[df_columns] = np.where((df_mes_month_user_count_sum[df_columns] > 0), 1, df_mes_month_user_count_sum[df_columns])\n",
    "\n",
    "#суммируем полученные значения по рабочим месяцам\n",
    "df_mes_month_user_count_sum['mes_month_count'] = df_mes_month_user_count_sum[df_columns].sum(axis=1)"
   ]
  },
  {
   "cell_type": "markdown",
   "id": "3c992265",
   "metadata": {},
   "source": [
    "Добавим столбец с кол-вом месяцев пользования в основной датафрейм `df_mes_month_user`"
   ]
  },
  {
   "cell_type": "code",
   "execution_count": 103,
   "id": "4ac087a3",
   "metadata": {},
   "outputs": [],
   "source": [
    "df_mes_month_user['mes_month_count'] = df_mes_month_user_count_sum['mes_month_count']"
   ]
  },
  {
   "cell_type": "markdown",
   "id": "6c0d83ed",
   "metadata": {},
   "source": [
    "Добавим столбец в датафрейм `df_mes_month_user` в котором разместим общее количество разговоров по каждому"
   ]
  },
  {
   "cell_type": "code",
   "execution_count": 104,
   "id": "386d74c8",
   "metadata": {},
   "outputs": [],
   "source": [
    "df_mes_month_user['mes_total_min'] = df_mes_month_user[df_columns].sum(axis=1)"
   ]
  },
  {
   "cell_type": "markdown",
   "id": "ebebb129",
   "metadata": {},
   "source": [
    "Создадим столбец со средними значениями разговоров по каждому пользователю, столбец назовем `mes_mean_min`. Для вычисления средней величины разделим общее кол-во мин. разговора на количество месяцев пользования и окрулим до 2 единиц после запятой."
   ]
  },
  {
   "cell_type": "code",
   "execution_count": 105,
   "id": "3f3da00d",
   "metadata": {},
   "outputs": [],
   "source": [
    "df_mes_month_user['mes_mean_min'] = round(df_mes_month_user['mes_total_min'] / df_mes_month_user['mes_month_count'], 2)"
   ]
  },
  {
   "cell_type": "markdown",
   "id": "30634312",
   "metadata": {},
   "source": [
    "Выведим полученный результат"
   ]
  },
  {
   "cell_type": "code",
   "execution_count": 106,
   "id": "eab75483",
   "metadata": {
    "scrolled": false
   },
   "outputs": [
    {
     "data": {
      "text/html": [
       "<div>\n",
       "<style scoped>\n",
       "    .dataframe tbody tr th:only-of-type {\n",
       "        vertical-align: middle;\n",
       "    }\n",
       "\n",
       "    .dataframe tbody tr th {\n",
       "        vertical-align: top;\n",
       "    }\n",
       "\n",
       "    .dataframe thead th {\n",
       "        text-align: right;\n",
       "    }\n",
       "</style>\n",
       "<table border=\"1\" class=\"dataframe\">\n",
       "  <thead>\n",
       "    <tr style=\"text-align: right;\">\n",
       "      <th>month_iter</th>\n",
       "      <th>user_id</th>\n",
       "      <th>tariff</th>\n",
       "      <th>01_Январь</th>\n",
       "      <th>02_Февраль</th>\n",
       "      <th>03_Март</th>\n",
       "      <th>04_Апрель</th>\n",
       "      <th>05_Май</th>\n",
       "      <th>06_Июнь</th>\n",
       "      <th>07_Июль</th>\n",
       "      <th>08_Август</th>\n",
       "      <th>09_Сентябрь</th>\n",
       "      <th>10_Октябрь</th>\n",
       "      <th>11_Ноябрь</th>\n",
       "      <th>12_Декабрь</th>\n",
       "      <th>mes_month_count</th>\n",
       "      <th>mes_total_min</th>\n",
       "      <th>mes_mean_min</th>\n",
       "    </tr>\n",
       "  </thead>\n",
       "  <tbody>\n",
       "    <tr>\n",
       "      <th>0</th>\n",
       "      <td>1000</td>\n",
       "      <td>ultra</td>\n",
       "      <td>0</td>\n",
       "      <td>0</td>\n",
       "      <td>0</td>\n",
       "      <td>0</td>\n",
       "      <td>22</td>\n",
       "      <td>60</td>\n",
       "      <td>75</td>\n",
       "      <td>81</td>\n",
       "      <td>57</td>\n",
       "      <td>73</td>\n",
       "      <td>58</td>\n",
       "      <td>70</td>\n",
       "      <td>8</td>\n",
       "      <td>496</td>\n",
       "      <td>62.0</td>\n",
       "    </tr>\n",
       "    <tr>\n",
       "      <th>1</th>\n",
       "      <td>1002</td>\n",
       "      <td>smart</td>\n",
       "      <td>0</td>\n",
       "      <td>0</td>\n",
       "      <td>0</td>\n",
       "      <td>0</td>\n",
       "      <td>0</td>\n",
       "      <td>4</td>\n",
       "      <td>11</td>\n",
       "      <td>13</td>\n",
       "      <td>4</td>\n",
       "      <td>10</td>\n",
       "      <td>16</td>\n",
       "      <td>12</td>\n",
       "      <td>7</td>\n",
       "      <td>70</td>\n",
       "      <td>10.0</td>\n",
       "    </tr>\n",
       "    <tr>\n",
       "      <th>2</th>\n",
       "      <td>1003</td>\n",
       "      <td>ultra</td>\n",
       "      <td>0</td>\n",
       "      <td>0</td>\n",
       "      <td>0</td>\n",
       "      <td>0</td>\n",
       "      <td>0</td>\n",
       "      <td>0</td>\n",
       "      <td>0</td>\n",
       "      <td>37</td>\n",
       "      <td>91</td>\n",
       "      <td>83</td>\n",
       "      <td>94</td>\n",
       "      <td>75</td>\n",
       "      <td>5</td>\n",
       "      <td>380</td>\n",
       "      <td>76.0</td>\n",
       "    </tr>\n",
       "  </tbody>\n",
       "</table>\n",
       "</div>"
      ],
      "text/plain": [
       "month_iter user_id tariff  01_Январь  02_Февраль  03_Март  04_Апрель  05_Май  \\\n",
       "0             1000  ultra          0           0        0          0      22   \n",
       "1             1002  smart          0           0        0          0       0   \n",
       "2             1003  ultra          0           0        0          0       0   \n",
       "\n",
       "month_iter  06_Июнь  07_Июль  08_Август  09_Сентябрь  10_Октябрь  11_Ноябрь  \\\n",
       "0                60       75         81           57          73         58   \n",
       "1                 4       11         13            4          10         16   \n",
       "2                 0        0         37           91          83         94   \n",
       "\n",
       "month_iter  12_Декабрь  mes_month_count  mes_total_min  mes_mean_min  \n",
       "0                   70                8            496          62.0  \n",
       "1                   12                7             70          10.0  \n",
       "2                   75                5            380          76.0  "
      ]
     },
     "execution_count": 106,
     "metadata": {},
     "output_type": "execute_result"
    }
   ],
   "source": [
    "df_mes_month_user.head(3)"
   ]
  },
  {
   "cell_type": "markdown",
   "id": "fdef906e",
   "metadata": {},
   "source": [
    "На основании построенных данных найдем среднее количество сообщений на каждого пользователя в каждом тарифе. Сохраним их в переменных `mean_mes_smart` и `mean_mes_ultra`"
   ]
  },
  {
   "cell_type": "code",
   "execution_count": 107,
   "id": "1dc72239",
   "metadata": {},
   "outputs": [
    {
     "name": "stdout",
     "output_type": "stream",
     "text": [
      "Мы видим, что на тарифе \"smart\" среднее значение количества сообщений в месяц - 37.6 шт., на тарифе \"ultra\" - 64.6 шт.\n"
     ]
    }
   ],
   "source": [
    "mean_mes_smart = round(df_mes_month_user[df_mes_month_user['tariff'] == 'smart']['mes_mean_min'].mean(), 1)\n",
    "mean_mes_ultra = round(df_mes_month_user[df_mes_month_user['tariff'] == 'ultra']['mes_mean_min'].mean(), 1)\n",
    "print(f'Мы видим, что на тарифе \"smart\" среднее значение количества сообщений в месяц - {mean_mes_smart} шт., на тарифе \"ultra\" - {mean_mes_ultra} шт.')"
   ]
  },
  {
   "cell_type": "markdown",
   "id": "c390f66b",
   "metadata": {},
   "source": [
    "Расчитаем дисперсию по каждому тарифу и сохраним в переменные `variance_mes_smart` и `variance_mes_ultra`"
   ]
  },
  {
   "cell_type": "code",
   "execution_count": 108,
   "id": "19bdfcc4",
   "metadata": {},
   "outputs": [
    {
     "name": "stdout",
     "output_type": "stream",
     "text": [
      "На тарифе \"smart\" дисперсия - 617.5089709060306, на тарифе \"ultra\" - 1882.756530474692.\n"
     ]
    }
   ],
   "source": [
    "variance_mes_smart = np.var(df_mes_month_user[df_mes_month_user['tariff'] == 'smart']['mes_mean_min'], ddof=1)\n",
    "variance_mes_ultra = np.var(df_mes_month_user[df_mes_month_user['tariff'] == 'ultra']['mes_mean_min'], ddof=1)\n",
    "print(f'На тарифе \"smart\" дисперсия - {variance_mes_smart}, на тарифе \"ultra\" - {variance_mes_ultra}.')"
   ]
  },
  {
   "cell_type": "markdown",
   "id": "9eed3d58",
   "metadata": {},
   "source": [
    "Расчитаем стандартное отклонение по каждому тарифу и сохраним в переменные `std_cal_smart` и `std_cal_ultra`"
   ]
  },
  {
   "cell_type": "code",
   "execution_count": 109,
   "id": "07766c93",
   "metadata": {},
   "outputs": [
    {
     "name": "stdout",
     "output_type": "stream",
     "text": [
      "На тарифе smart стандартное отклонение - 24.849727783338608, на тарифе ultra - 43.3907424512959.\n"
     ]
    }
   ],
   "source": [
    "std_mes_smart = np.sqrt(variance_mes_smart)\n",
    "std_mes_ultra = np.sqrt(variance_mes_ultra)\n",
    "print(f'На тарифе smart стандартное отклонение - {std_mes_smart}, на тарифе ultra - {std_mes_ultra}.')"
   ]
  },
  {
   "cell_type": "markdown",
   "id": "4d9d9415",
   "metadata": {},
   "source": [
    "Расчитаем медиану по каждому тарифу и сохраним в переменные `median_cal_smart` и `median_cal_ultra`"
   ]
  },
  {
   "cell_type": "code",
   "execution_count": 110,
   "id": "9a3d1413",
   "metadata": {},
   "outputs": [
    {
     "name": "stdout",
     "output_type": "stream",
     "text": [
      "Мы видим, что на тарифе \"smart\" медиана - 33.0 шт., на тарифе \"ultra\" - 57.8 шт.\n"
     ]
    }
   ],
   "source": [
    "median_mes_smart = df_mes_month_user[df_mes_month_user['tariff'] == 'smart']['mes_mean_min'].median()\n",
    "median_mes_ultra = df_mes_month_user[df_mes_month_user['tariff'] == 'ultra']['mes_mean_min'].median()\n",
    "print(f'Мы видим, что на тарифе \"smart\" медиана - {median_mes_smart} шт., на тарифе \"ultra\" - {median_mes_ultra} шт.')"
   ]
  },
  {
   "cell_type": "markdown",
   "id": "129b53fd",
   "metadata": {},
   "source": [
    "Выведим минимальные средние показатели по каждому тарифу, эти значения нам понадобятся для вычисления интервалов основных показателей:"
   ]
  },
  {
   "cell_type": "code",
   "execution_count": 111,
   "id": "616c3979",
   "metadata": {},
   "outputs": [],
   "source": [
    "min_mes_smart = df_mes_month_user[df_mes_month_user['tariff'] == 'smart']['mes_mean_min'].min()\n",
    "min_mes_ultra = df_mes_month_user[df_mes_month_user['tariff'] == 'ultra']['mes_mean_min'].min()"
   ]
  },
  {
   "cell_type": "markdown",
   "id": "ba643031",
   "metadata": {},
   "source": [
    "Выведим, по правилу трех сигм, основной интервал средних значений по каждому тарифу:"
   ]
  },
  {
   "cell_type": "code",
   "execution_count": 112,
   "id": "b3c72b8a",
   "metadata": {},
   "outputs": [
    {
     "name": "stdout",
     "output_type": "stream",
     "text": [
      "\n",
      "    По тарифу \"Смарт\":\n",
      "    1. С вероятностью 68% основная масса пользователей в среднем отправляет сообщеий от 12.8 до 62.4 раз в месяц\n",
      "    2. С вероятностью 95% основная масса пользователей в среднем отправляет сообщеий от 1.0 до 87.3 раз в месяц\n",
      "    3. С вероятностью 99% основная масса пользователей в среднем отправляет сообщеий от 1.0 до 112.1 раз в месяц\n",
      "\n",
      "    По тарифу \"Ультра\":\n",
      "    1. С вероятностью 68% основная масса пользователей в среднем отправляет сообщеий от 21.2 до 108.0 раз в месяц\n",
      "    2. С вероятностью 95% основная масса пользователей в среднем отправляет сообщеий от 3.0 до 151.4 раз в месяц\n",
      "    3. С вероятностью 99% основная масса пользователей в среднем отправляет сообщеий от 3.0 до 194.8 раз в месяц\n"
     ]
    }
   ],
   "source": [
    "sigma_interval(mean_mes_smart, mean_mes_ultra, min_mes_smart, min_mes_ultra, std_mes_smart, std_mes_ultra, 'отправляет сообщеий', 'раз')"
   ]
  },
  {
   "cell_type": "markdown",
   "id": "a53a5fcf",
   "metadata": {},
   "source": [
    "Выведим гистограмму и график плотности по сообщениям с тарифом `Смарт`"
   ]
  },
  {
   "cell_type": "code",
   "execution_count": 113,
   "id": "82354530",
   "metadata": {},
   "outputs": [
    {
     "data": {
      "image/png": "[encoded data removed]",
      "text/plain": [
       "<Figure size 360x360 with 1 Axes>"
      ]
     },
     "metadata": {
      "needs_background": "light"
     },
     "output_type": "display_data"
    }
   ],
   "source": [
    "hist_kde(df_mes_month_user, 'smart', 'mes_mean_min', 'Количество сообщений')"
   ]
  },
  {
   "cell_type": "markdown",
   "id": "d7c2d05c",
   "metadata": {},
   "source": [
    "Выведим гистограмму и график плотности по сообщениям с тарифом `Ультра`"
   ]
  },
  {
   "cell_type": "code",
   "execution_count": 114,
   "id": "55cb7073",
   "metadata": {
    "scrolled": false
   },
   "outputs": [
    {
     "data": {
      "image/png": "[encoded data removed]",
      "text/plain": [
       "<Figure size 360x360 with 1 Axes>"
      ]
     },
     "metadata": {
      "needs_background": "light"
     },
     "output_type": "display_data"
    }
   ],
   "source": [
    "hist_kde(df_mes_month_user, 'ultra', 'mes_mean_min', 'Количество сообщений')"
   ]
  },
  {
   "cell_type": "markdown",
   "id": "f81104b6",
   "metadata": {},
   "source": [
    "Построим гистограммы с наложением, в котором мы сможем сравнить два тарифа Смарт и Ультра в плане отправки сообщений:"
   ]
  },
  {
   "cell_type": "code",
   "execution_count": 115,
   "id": "1ab8cc63",
   "metadata": {},
   "outputs": [
    {
     "data": {
      "image/png": "[encoded data removed]",
      "text/plain": [
       "<Figure size 936x504 with 1 Axes>"
      ]
     },
     "metadata": {
      "needs_background": "light"
     },
     "output_type": "display_data"
    }
   ],
   "source": [
    "twice_hist(df_mes_month_user, 'mes_mean_min', 'Гистограмма по количеству клиентов в зависимости от количества сообщений по тарифам', 'Количество сообщений')"
   ]
  },
  {
   "cell_type": "markdown",
   "id": "307d67ec",
   "metadata": {},
   "source": [
    "По графику мы видим, что на тарифе Смарт более сконцентрированна отправка сообщений в пределах от 1 до 60 шт., основная масса сосредоточена здесь. А на тарифе Ультра более распределенное положение, больше сосредоточено от 3 до 105 шт, плюс к этому мы можем увидеть, что максимальное распределение сообщений уходит до 190 шт.\n"
   ]
  },
  {
   "cell_type": "markdown",
   "id": "a8caa1d5",
   "metadata": {},
   "source": [
    "#### Вывод"
   ]
  },
  {
   "cell_type": "markdown",
   "id": "6bc5486a",
   "metadata": {},
   "source": [
    "По тарифу \"**Смарт**\".\n",
    "\n",
    "Средняя величина отправления сообщений составляет - 37.6 шт. в месяц\n",
    "\n",
    "Гистограмма и график плотностей показывает нормальное распределение с положительной скошенностью, это подтвержает и величина медианы в 33.0 шт., которая меньше среднего.\n",
    "\n",
    "Стандартное отклонение - 24.8 \n",
    "\n",
    "С вероятностью 68% основная масса пользователей в среднем отправляет сообщеий от 12.8 до 62.4 раз в месяц\n",
    "\n",
    "С вероятностью 95% основная масса пользователей в среднем отправляет сообщеий от 1.0 до 87.3 раз в месяц\n",
    "\n",
    "С вероятностью 99% основная масса пользователей в среднем отправляет сообщеий от 1.0 до 112.1 раз в месяц\n",
    "\n",
    "\n",
    "По тарифу \"**Ультра**\".\n",
    "\n",
    "Средняя величина отправления сообщений составляет - 64.6 шт. в месяц\n",
    "\n",
    "Гистограмма и график плотностей показывает нормальное распределение с положительной скошенностью, это подтвержает и величина медианы в 57.8 шт., которая меньше среднего.\n",
    "\n",
    "Стандартное отклонение - 43.4\n",
    "\n",
    "С вероятностью 68% основная масса пользователей в среднем отправляет сообщеий от 21.2 до 108.0 раз в месяц\n",
    "\n",
    "С вероятностью 95% основная масса пользователей в среднем отправляет сообщеий от 3.0 до 151.4 раз в месяц\n",
    "\n",
    "С вероятностью 99% основная масса пользователей в среднем отправляет сообщеий от 3.0 до 194.8 раз в месяц\n",
    "\n",
    "Стоит отметить, что на тарифе Смарт есть значителная доля клиентов отправляющие больше лимита сообщений в 50 сообщений, в рамках абон платы."
   ]
  },
  {
   "cell_type": "markdown",
   "id": "3c43faf9",
   "metadata": {},
   "source": [
    "### Интернет"
   ]
  },
  {
   "cell_type": "markdown",
   "id": "857bb058",
   "metadata": {},
   "source": [
    "Для анализа используем датафрейм `df_int_month_user`, в котором мы сформировали кол-во минут разговоров по каждому клиенту помесячно."
   ]
  },
  {
   "cell_type": "markdown",
   "id": "db2211c1",
   "metadata": {},
   "source": [
    "Переведем формат данных в столбцах с кол-вом мин разговора в `int`"
   ]
  },
  {
   "cell_type": "code",
   "execution_count": 116,
   "id": "847aefc2",
   "metadata": {},
   "outputs": [],
   "source": [
    "df_int_month_user[df_columns] = df_int_month_user[df_columns].astype(int)"
   ]
  },
  {
   "cell_type": "markdown",
   "id": "375b6038",
   "metadata": {},
   "source": [
    "Чтобы посчитать количество месяцев использования связи, заменим значения кол-ва разговоров на 1, посчитаем их сумму и сохраним в новом датафрейме `df_int_month_user_count_sum` в отдельном столбце"
   ]
  },
  {
   "cell_type": "code",
   "execution_count": 117,
   "id": "b7ebeb2f",
   "metadata": {},
   "outputs": [],
   "source": [
    "#создаем датафрейм df_mes_month_user_count_sum\n",
    "df_int_month_user_count_sum = df_int_month_user.copy()\n",
    "\n",
    "#заменяем все значения более 0 на 1\n",
    "df_int_month_user_count_sum[df_columns] = np.where((df_int_month_user_count_sum[df_columns] > 0), 1, df_int_month_user_count_sum[df_columns])\n",
    "\n",
    "#суммируем полученные значения по рабочим месяцам\n",
    "df_int_month_user_count_sum['int_month_count'] = df_int_month_user_count_sum[df_columns].sum(axis=1)"
   ]
  },
  {
   "cell_type": "markdown",
   "id": "550e559b",
   "metadata": {},
   "source": [
    "Добавим столбец с кол-вом месяцев пользования в основной датафрейм `df_mes_month_user`"
   ]
  },
  {
   "cell_type": "code",
   "execution_count": 118,
   "id": "ed0003e4",
   "metadata": {},
   "outputs": [],
   "source": [
    "df_int_month_user['int_month_count'] = df_int_month_user_count_sum['int_month_count']"
   ]
  },
  {
   "cell_type": "markdown",
   "id": "0e8d708d",
   "metadata": {},
   "source": [
    "Добавим столбец в датафрейм `df_mes_month_user` в котором разместим общее количество разговоров за год по каждому клиенту"
   ]
  },
  {
   "cell_type": "code",
   "execution_count": 119,
   "id": "b953173a",
   "metadata": {},
   "outputs": [],
   "source": [
    "df_int_month_user['int_total_min'] = df_int_month_user[df_columns].sum(axis=1)"
   ]
  },
  {
   "cell_type": "markdown",
   "id": "88c753e1",
   "metadata": {},
   "source": [
    "Создадим столбец со средними значениями разговоров по каждому пользователю, столбец назовем `mes_mean_min`. Для вычисления средней величины разделим общее кол-во мин. разговора на количество месяцев пользования и окрулим до 2 единиц после запятой."
   ]
  },
  {
   "cell_type": "code",
   "execution_count": 120,
   "id": "86bffb6b",
   "metadata": {},
   "outputs": [],
   "source": [
    "df_int_month_user['int_mean_min'] = round(df_int_month_user['int_total_min'] / df_int_month_user['int_month_count'], 2)"
   ]
  },
  {
   "cell_type": "markdown",
   "id": "2c067108",
   "metadata": {},
   "source": [
    "Выведим полученный результат"
   ]
  },
  {
   "cell_type": "code",
   "execution_count": 121,
   "id": "022d6945",
   "metadata": {
    "scrolled": false
   },
   "outputs": [
    {
     "data": {
      "text/html": [
       "<div>\n",
       "<style scoped>\n",
       "    .dataframe tbody tr th:only-of-type {\n",
       "        vertical-align: middle;\n",
       "    }\n",
       "\n",
       "    .dataframe tbody tr th {\n",
       "        vertical-align: top;\n",
       "    }\n",
       "\n",
       "    .dataframe thead th {\n",
       "        text-align: right;\n",
       "    }\n",
       "</style>\n",
       "<table border=\"1\" class=\"dataframe\">\n",
       "  <thead>\n",
       "    <tr style=\"text-align: right;\">\n",
       "      <th>month_iter</th>\n",
       "      <th>user_id</th>\n",
       "      <th>tariff</th>\n",
       "      <th>01_Январь</th>\n",
       "      <th>02_Февраль</th>\n",
       "      <th>03_Март</th>\n",
       "      <th>04_Апрель</th>\n",
       "      <th>05_Май</th>\n",
       "      <th>06_Июнь</th>\n",
       "      <th>07_Июль</th>\n",
       "      <th>08_Август</th>\n",
       "      <th>09_Сентябрь</th>\n",
       "      <th>10_Октябрь</th>\n",
       "      <th>11_Ноябрь</th>\n",
       "      <th>12_Декабрь</th>\n",
       "      <th>int_month_count</th>\n",
       "      <th>int_total_min</th>\n",
       "      <th>int_mean_min</th>\n",
       "    </tr>\n",
       "  </thead>\n",
       "  <tbody>\n",
       "    <tr>\n",
       "      <th>0</th>\n",
       "      <td>1000</td>\n",
       "      <td>ultra</td>\n",
       "      <td>0</td>\n",
       "      <td>0</td>\n",
       "      <td>0</td>\n",
       "      <td>0</td>\n",
       "      <td>3</td>\n",
       "      <td>23</td>\n",
       "      <td>14</td>\n",
       "      <td>14</td>\n",
       "      <td>15</td>\n",
       "      <td>15</td>\n",
       "      <td>15</td>\n",
       "      <td>10</td>\n",
       "      <td>8</td>\n",
       "      <td>109</td>\n",
       "      <td>13.62</td>\n",
       "    </tr>\n",
       "    <tr>\n",
       "      <th>1</th>\n",
       "      <td>1001</td>\n",
       "      <td>smart</td>\n",
       "      <td>0</td>\n",
       "      <td>0</td>\n",
       "      <td>0</td>\n",
       "      <td>0</td>\n",
       "      <td>0</td>\n",
       "      <td>0</td>\n",
       "      <td>0</td>\n",
       "      <td>0</td>\n",
       "      <td>0</td>\n",
       "      <td>0</td>\n",
       "      <td>18</td>\n",
       "      <td>14</td>\n",
       "      <td>2</td>\n",
       "      <td>32</td>\n",
       "      <td>16.00</td>\n",
       "    </tr>\n",
       "    <tr>\n",
       "      <th>2</th>\n",
       "      <td>1002</td>\n",
       "      <td>smart</td>\n",
       "      <td>0</td>\n",
       "      <td>0</td>\n",
       "      <td>0</td>\n",
       "      <td>0</td>\n",
       "      <td>0</td>\n",
       "      <td>11</td>\n",
       "      <td>18</td>\n",
       "      <td>20</td>\n",
       "      <td>17</td>\n",
       "      <td>14</td>\n",
       "      <td>19</td>\n",
       "      <td>18</td>\n",
       "      <td>7</td>\n",
       "      <td>117</td>\n",
       "      <td>16.71</td>\n",
       "    </tr>\n",
       "  </tbody>\n",
       "</table>\n",
       "</div>"
      ],
      "text/plain": [
       "month_iter user_id tariff  01_Январь  02_Февраль  03_Март  04_Апрель  05_Май  \\\n",
       "0             1000  ultra          0           0        0          0       3   \n",
       "1             1001  smart          0           0        0          0       0   \n",
       "2             1002  smart          0           0        0          0       0   \n",
       "\n",
       "month_iter  06_Июнь  07_Июль  08_Август  09_Сентябрь  10_Октябрь  11_Ноябрь  \\\n",
       "0                23       14         14           15          15         15   \n",
       "1                 0        0          0            0           0         18   \n",
       "2                11       18         20           17          14         19   \n",
       "\n",
       "month_iter  12_Декабрь  int_month_count  int_total_min  int_mean_min  \n",
       "0                   10                8            109         13.62  \n",
       "1                   14                2             32         16.00  \n",
       "2                   18                7            117         16.71  "
      ]
     },
     "execution_count": 121,
     "metadata": {},
     "output_type": "execute_result"
    }
   ],
   "source": [
    "df_int_month_user.head(3)"
   ]
  },
  {
   "cell_type": "markdown",
   "id": "3b13caae",
   "metadata": {},
   "source": [
    "На основании построенных данных найдем среднее количество скаченного объема интернета на каждого пользователя в каждом тарифе. Сохраним их в переменных `mean_int_smart` и `mean_int_ultra`"
   ]
  },
  {
   "cell_type": "code",
   "execution_count": 122,
   "id": "1b60ca01",
   "metadata": {},
   "outputs": [
    {
     "name": "stdout",
     "output_type": "stream",
     "text": [
      "Мы видим, что на тарифе \"smart\" среднее значение количества скаченного объема интернета в месяц - 16.3 Гб., на тарифе \"ultra\" - 19.8 Гб.\n"
     ]
    }
   ],
   "source": [
    "mean_int_smart = round(df_int_month_user[df_int_month_user['tariff'] == 'smart']['int_mean_min'].mean(), 1)\n",
    "mean_int_ultra = round(df_int_month_user[df_int_month_user['tariff'] == 'ultra']['int_mean_min'].mean(), 1)\n",
    "print(f'Мы видим, что на тарифе \"smart\" среднее значение количества скаченного объема интернета в месяц - {mean_int_smart} Гб., на тарифе \"ultra\" - {mean_int_ultra} Гб.')"
   ]
  },
  {
   "cell_type": "markdown",
   "id": "2eca3503",
   "metadata": {},
   "source": [
    "Расчитаем дисперсию по каждому тарифу и сохраним в переменные `variance_int_smart` и `variance_int_ultra`"
   ]
  },
  {
   "cell_type": "code",
   "execution_count": 123,
   "id": "2b5450b6",
   "metadata": {},
   "outputs": [
    {
     "name": "stdout",
     "output_type": "stream",
     "text": [
      "На тарифе \"smart\" дисперсия - 12.55998187801883, на тарифе \"ultra\" - 63.513625114155246.\n"
     ]
    }
   ],
   "source": [
    "variance_int_smart = np.var(df_int_month_user[df_int_month_user['tariff'] == 'smart']['int_mean_min'], ddof=1)\n",
    "variance_int_ultra = np.var(df_int_month_user[df_int_month_user['tariff'] == 'ultra']['int_mean_min'], ddof=1)\n",
    "print(f'На тарифе \"smart\" дисперсия - {variance_int_smart}, на тарифе \"ultra\" - {variance_int_ultra}.')"
   ]
  },
  {
   "cell_type": "markdown",
   "id": "11f4f0c6",
   "metadata": {},
   "source": [
    "Расчитаем стандартное отклонение по каждому тарифу и сохраним в переменные `std_int_smart` и `std_int_ultra`"
   ]
  },
  {
   "cell_type": "code",
   "execution_count": 124,
   "id": "e6d6cb5a",
   "metadata": {},
   "outputs": [
    {
     "name": "stdout",
     "output_type": "stream",
     "text": [
      "На тарифе smart стандартное отклонение - 3.544006472626543, на тарифе ultra - 7.969543595097228.\n"
     ]
    }
   ],
   "source": [
    "std_int_smart = np.sqrt(variance_int_smart)\n",
    "std_int_ultra = np.sqrt(variance_int_ultra)\n",
    "print(f'На тарифе smart стандартное отклонение - {std_int_smart}, на тарифе ultra - {std_int_ultra}.')"
   ]
  },
  {
   "cell_type": "markdown",
   "id": "f4a4833e",
   "metadata": {},
   "source": [
    "Расчитаем медиану по каждому тарифу и сохраним в переменные `median_cal_smart` и `median_cal_ultra`"
   ]
  },
  {
   "cell_type": "code",
   "execution_count": 125,
   "id": "f952b66f",
   "metadata": {},
   "outputs": [
    {
     "name": "stdout",
     "output_type": "stream",
     "text": [
      "Мы видим, что на тарифе \"smart\" медиана - 16.33 Гб., на тарифе \"ultra\" - 19.11 Гб.\n"
     ]
    }
   ],
   "source": [
    "median_int_smart = df_int_month_user[df_int_month_user['tariff'] == 'smart']['int_mean_min'].median()\n",
    "median_int_ultra = df_int_month_user[df_int_month_user['tariff'] == 'ultra']['int_mean_min'].median()\n",
    "print(f'Мы видим, что на тарифе \"smart\" медиана - {median_int_smart} Гб., на тарифе \"ultra\" - {median_int_ultra} Гб.')"
   ]
  },
  {
   "cell_type": "markdown",
   "id": "ee18aee4",
   "metadata": {},
   "source": [
    "Выведим минимальные средние показатели по каждому тарифу, эти значения нам понадобятся для вычисления интервалов основных показателей:"
   ]
  },
  {
   "cell_type": "code",
   "execution_count": 126,
   "id": "9b71758b",
   "metadata": {},
   "outputs": [],
   "source": [
    "min_int_smart = df_int_month_user[df_int_month_user['tariff'] == 'smart']['int_mean_min'].min()\n",
    "min_int_ultra = df_int_month_user[df_int_month_user['tariff'] == 'ultra']['int_mean_min'].min()"
   ]
  },
  {
   "cell_type": "markdown",
   "id": "132ea7f7",
   "metadata": {},
   "source": [
    "Выведим, по правилу трех сигм, основной интервал средних значений по каждому тарифу:"
   ]
  },
  {
   "cell_type": "code",
   "execution_count": 127,
   "id": "6e26a745",
   "metadata": {},
   "outputs": [
    {
     "name": "stdout",
     "output_type": "stream",
     "text": [
      "\n",
      "    По тарифу \"Смарт\":\n",
      "    1. С вероятностью 68% основная масса пользователей в среднем использует Интернет от 12.8 до 19.8 Гб. в месяц\n",
      "    2. С вероятностью 95% основная масса пользователей в среднем использует Интернет от 9.2 до 23.4 Гб. в месяц\n",
      "    3. С вероятностью 99% основная масса пользователей в среднем использует Интернет от 5.73 до 26.9 Гб. в месяц\n",
      "\n",
      "    По тарифу \"Ультра\":\n",
      "    1. С вероятностью 68% основная масса пользователей в среднем использует Интернет от 11.8 до 27.8 Гб. в месяц\n",
      "    2. С вероятностью 95% основная масса пользователей в среднем использует Интернет от 3.9 до 35.7 Гб. в месяц\n",
      "    3. С вероятностью 99% основная масса пользователей в среднем использует Интернет от 2.5 до 43.7 Гб. в месяц\n"
     ]
    }
   ],
   "source": [
    "sigma_interval(mean_int_smart, mean_int_ultra, min_int_smart, min_int_ultra, std_int_smart, std_int_ultra, 'использует Интернет', 'Гб.')"
   ]
  },
  {
   "cell_type": "markdown",
   "id": "7ed3dbc1",
   "metadata": {},
   "source": [
    "Построим гистограмму и график плотности по использованию интернета с тарифом `Ультра`"
   ]
  },
  {
   "cell_type": "code",
   "execution_count": 128,
   "id": "9a8742bc",
   "metadata": {},
   "outputs": [
    {
     "data": {
      "image/png": "[encoded data removed]",
      "text/plain": [
       "<Figure size 360x360 with 1 Axes>"
      ]
     },
     "metadata": {
      "needs_background": "light"
     },
     "output_type": "display_data"
    }
   ],
   "source": [
    "hist_kde(df_int_month_user, 'smart', 'int_mean_min', 'Объем интернета, Гб.')"
   ]
  },
  {
   "cell_type": "markdown",
   "id": "b0ac177c",
   "metadata": {},
   "source": [
    "Построим гистограмму и график плотности по использованию интернета с тарифом `Ультра`"
   ]
  },
  {
   "cell_type": "code",
   "execution_count": 129,
   "id": "c4fd8e02",
   "metadata": {},
   "outputs": [
    {
     "data": {
      "image/png": "[encoded data removed]",
      "text/plain": [
       "<Figure size 360x360 with 1 Axes>"
      ]
     },
     "metadata": {
      "needs_background": "light"
     },
     "output_type": "display_data"
    }
   ],
   "source": [
    "hist_kde(df_int_month_user, 'ultra', 'int_mean_min', 'Объем интернета, Гб.')"
   ]
  },
  {
   "cell_type": "markdown",
   "id": "5d44fed7",
   "metadata": {},
   "source": [
    "Построим гистограммы с наложением, в котором мы сможем сравнить два тарифа Смарт и Ультра в плане интернет трафика:"
   ]
  },
  {
   "cell_type": "code",
   "execution_count": 130,
   "id": "bb037ff0",
   "metadata": {},
   "outputs": [
    {
     "data": {
      "image/png": "[encoded data removed]",
      "text/plain": [
       "<Figure size 936x504 with 1 Axes>"
      ]
     },
     "metadata": {
      "needs_background": "light"
     },
     "output_type": "display_data"
    }
   ],
   "source": [
    "twice_hist(df_int_month_user, 'int_mean_min', 'Гистограмма по количеству клиентов в зависимости от скаченного интернет трафика по тарифам', 'Объем интернета, Гб.')"
   ]
  },
  {
   "cell_type": "markdown",
   "id": "a0fdee9f",
   "metadata": {},
   "source": [
    "По графику мы видим, что на тарифе Смарт более сконцентрированн интернет трафик в пределая 9 до 23 Гб, основная масса сосредоточена здесь. На тарифе Ультра более распределенное положение, нет четкой определенности \"кучности\", достаточно плавное, распределение по графику, плюс к этому мы можем увидеть, что максимальное распределение интернет трафика уходит до 36 Гб."
   ]
  },
  {
   "cell_type": "markdown",
   "id": "da6f2ebe",
   "metadata": {},
   "source": [
    "#### Вывод"
   ]
  },
  {
   "cell_type": "markdown",
   "id": "8167f750",
   "metadata": {},
   "source": [
    "По тарифу \"**Смарт**\".\n",
    "\n",
    "Средняя величина использования интернета составляет - 16.3 Гб. в месяц\n",
    "\n",
    "Гистограмма и график плотностей показывает нормальное распределение, симметричное, это подтвержает и величина медианы в 16.33 Гб., которая равна средней\n",
    "\n",
    "Стандартное отклонение - 3.5 \n",
    "\n",
    "С вероятностью 68% основная масса пользователей в среднем использует Интернет от 12.8 до 19.8 Гб. в месяц\n",
    "\n",
    "С вероятностью 95% основная масса пользователей в среднем использует Интернет от 9.2 до 23.4 Гб. в месяц\n",
    "\n",
    "С вероятностью 99% основная масса пользователей в среднем использует Интернет от 5.73 до 26.9 Гб. в месяц\n",
    "\n",
    "\n",
    "По тарифу \"**Ультра**\".\n",
    "\n",
    "Средняя величина использования интернета составляет - 19.8 Гб. в месяц\n",
    "\n",
    "Гистограмма и график плотностей показывает нормальное распределение с слегка положительной скошенностью, это подтвержает и величина медианы в 19.11 Гб., которая немного меньше среднего.\n",
    "\n",
    "Стандартное отклонение - 7.9\n",
    "\n",
    "С вероятностью 68% основная масса пользователей в среднем использует Интернет от 11.8 до 27.8 Гб. в месяц\n",
    "\n",
    "С вероятностью 95% основная масса пользователей в среднем использует Интернет от 3.9 до 35.7 Гб. в месяц\n",
    "\n",
    "С вероятностью 99% основная масса пользователей в среднем использует Интернет от 2.5 до 43.7 Гб. в месяц\n",
    "\n",
    "\n",
    "Стоит также подчеркнуть, что большая часть клиентов тарифа Смарт пользуется с превышением лимита в 15 Гб включенного в абон плату. На тарифе Ультра есть, но относительно не значительное превышение."
   ]
  },
  {
   "cell_type": "markdown",
   "id": "0ffb358b",
   "metadata": {},
   "source": [
    "## Проверка гипотез"
   ]
  },
  {
   "cell_type": "markdown",
   "id": "d42944cb",
   "metadata": {},
   "source": [
    "В проверке гипотез будем использовать датафрейм `df_user_month_tarif_over_total_rub` с данными по доходам, который мы ранее подготовили."
   ]
  },
  {
   "cell_type": "code",
   "execution_count": 131,
   "id": "3f46a48b",
   "metadata": {},
   "outputs": [
    {
     "data": {
      "text/html": [
       "<div>\n",
       "<style scoped>\n",
       "    .dataframe tbody tr th:only-of-type {\n",
       "        vertical-align: middle;\n",
       "    }\n",
       "\n",
       "    .dataframe tbody tr th {\n",
       "        vertical-align: top;\n",
       "    }\n",
       "\n",
       "    .dataframe thead th {\n",
       "        text-align: right;\n",
       "    }\n",
       "</style>\n",
       "<table border=\"1\" class=\"dataframe\">\n",
       "  <thead>\n",
       "    <tr style=\"text-align: right;\">\n",
       "      <th></th>\n",
       "      <th>user_id</th>\n",
       "      <th>tariff</th>\n",
       "      <th>01_Январь</th>\n",
       "      <th>02_Февраль</th>\n",
       "      <th>03_Март</th>\n",
       "      <th>04_Апрель</th>\n",
       "      <th>05_Май</th>\n",
       "      <th>06_Июнь</th>\n",
       "      <th>07_Июль</th>\n",
       "      <th>08_Август</th>\n",
       "      <th>09_Сентябрь</th>\n",
       "      <th>10_Октябрь</th>\n",
       "      <th>11_Ноябрь</th>\n",
       "      <th>12_Декабрь</th>\n",
       "      <th>month_count</th>\n",
       "      <th>general_income</th>\n",
       "    </tr>\n",
       "  </thead>\n",
       "  <tbody>\n",
       "    <tr>\n",
       "      <th>0</th>\n",
       "      <td>1000</td>\n",
       "      <td>ultra</td>\n",
       "      <td>0</td>\n",
       "      <td>0</td>\n",
       "      <td>0</td>\n",
       "      <td>0</td>\n",
       "      <td>1950</td>\n",
       "      <td>1950</td>\n",
       "      <td>1950</td>\n",
       "      <td>1950</td>\n",
       "      <td>1950</td>\n",
       "      <td>1950</td>\n",
       "      <td>1950</td>\n",
       "      <td>1950</td>\n",
       "      <td>8</td>\n",
       "      <td>15600</td>\n",
       "    </tr>\n",
       "  </tbody>\n",
       "</table>\n",
       "</div>"
      ],
      "text/plain": [
       "  user_id tariff  01_Январь  02_Февраль  03_Март  04_Апрель  05_Май  06_Июнь  \\\n",
       "0    1000  ultra          0           0        0          0    1950     1950   \n",
       "\n",
       "   07_Июль  08_Август  09_Сентябрь  10_Октябрь  11_Ноябрь  12_Декабрь  \\\n",
       "0     1950       1950         1950        1950       1950        1950   \n",
       "\n",
       "   month_count  general_income  \n",
       "0            8           15600  "
      ]
     },
     "execution_count": 131,
     "metadata": {},
     "output_type": "execute_result"
    }
   ],
   "source": [
    "df_user_month_tarif_over_total_rub.head(1)"
   ]
  },
  {
   "cell_type": "markdown",
   "id": "b470195f",
   "metadata": {},
   "source": [
    "Добавим столбец `mean_user_income` в данный датафрейм, в котором разместим среднее значения дохода в месяц по каждому пользователяю. Для этого разделим общий доход на кол-во месяцев пользования."
   ]
  },
  {
   "cell_type": "code",
   "execution_count": 132,
   "id": "2393723f",
   "metadata": {},
   "outputs": [],
   "source": [
    "df_user_month_tarif_over_total_rub['mean_user_income'] = round(df_user_month_tarif_over_total_rub['general_income'] / df_user_month_tarif_over_total_rub['month_count'], 1).fillna(0)"
   ]
  },
  {
   "cell_type": "markdown",
   "id": "0cb7f581",
   "metadata": {},
   "source": [
    "Посчитаем средний доход по тарифу Смарт в среднем на одного клиента"
   ]
  },
  {
   "cell_type": "code",
   "execution_count": 133,
   "id": "47cd8370",
   "metadata": {
    "scrolled": false
   },
   "outputs": [
    {
     "name": "stdout",
     "output_type": "stream",
     "text": [
      "Средний доход на одного клиента по тарифу Смарт составляет - 1320.6\n"
     ]
    }
   ],
   "source": [
    "print(f\"Средний доход на одного клиента по тарифу Смарт составляет - {round(df_user_month_tarif_over_total_rub[df_user_month_tarif_over_total_rub['tariff'] == 'smart']['mean_user_income'].mean(),1)}\")"
   ]
  },
  {
   "cell_type": "markdown",
   "id": "b8722784",
   "metadata": {},
   "source": [
    "Посчитаем средний доход по тарифу Ультра в среднем на одного клиента"
   ]
  },
  {
   "cell_type": "code",
   "execution_count": 134,
   "id": "3b538739",
   "metadata": {},
   "outputs": [
    {
     "name": "stdout",
     "output_type": "stream",
     "text": [
      "Средний доход на одного клиента по тарифу Ультра составляет - 2072.5\n"
     ]
    }
   ],
   "source": [
    "print(f\"Средний доход на одного клиента по тарифу Ультра составляет - {round(df_user_month_tarif_over_total_rub[df_user_month_tarif_over_total_rub['tariff'] == 'ultra']['mean_user_income'].mean(),1)}\")"
   ]
  },
  {
   "cell_type": "markdown",
   "id": "cec38eea",
   "metadata": {},
   "source": [
    "Выведим полученный результат"
   ]
  },
  {
   "cell_type": "code",
   "execution_count": 135,
   "id": "8ac2f7b1",
   "metadata": {
    "scrolled": false
   },
   "outputs": [
    {
     "data": {
      "text/html": [
       "<div>\n",
       "<style scoped>\n",
       "    .dataframe tbody tr th:only-of-type {\n",
       "        vertical-align: middle;\n",
       "    }\n",
       "\n",
       "    .dataframe tbody tr th {\n",
       "        vertical-align: top;\n",
       "    }\n",
       "\n",
       "    .dataframe thead th {\n",
       "        text-align: right;\n",
       "    }\n",
       "</style>\n",
       "<table border=\"1\" class=\"dataframe\">\n",
       "  <thead>\n",
       "    <tr style=\"text-align: right;\">\n",
       "      <th></th>\n",
       "      <th>user_id</th>\n",
       "      <th>tariff</th>\n",
       "      <th>01_Январь</th>\n",
       "      <th>02_Февраль</th>\n",
       "      <th>03_Март</th>\n",
       "      <th>04_Апрель</th>\n",
       "      <th>05_Май</th>\n",
       "      <th>06_Июнь</th>\n",
       "      <th>07_Июль</th>\n",
       "      <th>08_Август</th>\n",
       "      <th>09_Сентябрь</th>\n",
       "      <th>10_Октябрь</th>\n",
       "      <th>11_Ноябрь</th>\n",
       "      <th>12_Декабрь</th>\n",
       "      <th>month_count</th>\n",
       "      <th>general_income</th>\n",
       "      <th>mean_user_income</th>\n",
       "    </tr>\n",
       "  </thead>\n",
       "  <tbody>\n",
       "    <tr>\n",
       "      <th>0</th>\n",
       "      <td>1000</td>\n",
       "      <td>ultra</td>\n",
       "      <td>0</td>\n",
       "      <td>0</td>\n",
       "      <td>0</td>\n",
       "      <td>0</td>\n",
       "      <td>1950</td>\n",
       "      <td>1950</td>\n",
       "      <td>1950</td>\n",
       "      <td>1950</td>\n",
       "      <td>1950</td>\n",
       "      <td>1950</td>\n",
       "      <td>1950</td>\n",
       "      <td>1950</td>\n",
       "      <td>8</td>\n",
       "      <td>15600</td>\n",
       "      <td>1950.0</td>\n",
       "    </tr>\n",
       "  </tbody>\n",
       "</table>\n",
       "</div>"
      ],
      "text/plain": [
       "  user_id tariff  01_Январь  02_Февраль  03_Март  04_Апрель  05_Май  06_Июнь  \\\n",
       "0    1000  ultra          0           0        0          0    1950     1950   \n",
       "\n",
       "   07_Июль  08_Август  09_Сентябрь  10_Октябрь  11_Ноябрь  12_Декабрь  \\\n",
       "0     1950       1950         1950        1950       1950        1950   \n",
       "\n",
       "   month_count  general_income  mean_user_income  \n",
       "0            8           15600            1950.0  "
      ]
     },
     "execution_count": 135,
     "metadata": {},
     "output_type": "execute_result"
    }
   ],
   "source": [
    "df_user_month_tarif_over_total_rub.head(1)"
   ]
  },
  {
   "cell_type": "markdown",
   "id": "0aeea1f7",
   "metadata": {},
   "source": [
    "### Гипотеза №1"
   ]
  },
  {
   "cell_type": "markdown",
   "id": "f4fd016c",
   "metadata": {},
   "source": [
    "Нам необходимо проверить гипотезу \"Средняя выручка пользователей тарифов Ультра и Смарт различаются\""
   ]
  },
  {
   "cell_type": "markdown",
   "id": "aef2bd55",
   "metadata": {},
   "source": [
    "<p>Введем основную и альтернативные гипотезы:</p>\n",
    "\n",
    "$\\begin{equation*}\n",
    " \\begin{cases}\n",
    "   H_0 :\\text{Средняя выручка пользователей тарифов Ультра и Смарт различаются}\\\\\n",
    "   H_1 :\\text{Средняя выручка пользователей тарифов Ультра и Смарт равны}\n",
    " \\end{cases}\n",
    "\\end{equation*}$\n",
    "\n",
    "Уровень значимости: $\\alpha = 0.05$"
   ]
  },
  {
   "cell_type": "markdown",
   "id": "2869f278",
   "metadata": {},
   "source": [
    "Выделим совокупности значений средней выручки по каждому пользователю по каждому тарифу. На них будем проверять гипотезы"
   ]
  },
  {
   "cell_type": "code",
   "execution_count": 136,
   "id": "1a3c6cb0",
   "metadata": {},
   "outputs": [],
   "source": [
    "# smart = df_user_month_tarif_over_total_rub[df_user_month_tarif_over_total_rub['tariff'] == 'smart']['mean_user_income'].copy()\n",
    "# ultra = df_user_month_tarif_over_total_rub[df_user_month_tarif_over_total_rub['tariff'] == 'ultra']['mean_user_income'].copy()"
   ]
  },
  {
   "cell_type": "markdown",
   "id": "7a999edd",
   "metadata": {},
   "source": [
    "Напишем функцию по которой сведем все доходы по месяцам в по каждому тарифу в единый список."
   ]
  },
  {
   "cell_type": "code",
   "execution_count": 137,
   "id": "6c654ba3",
   "metadata": {},
   "outputs": [],
   "source": [
    "def income_tariff(tarif):\n",
    "    '''Функция формирует список доходов по всем месяцам по соответствующему тарифу'''\n",
    "    \n",
    "    lst = []\n",
    "    \n",
    "    if tarif == 'smart':\n",
    "        for month in df_columns:\n",
    "            lst.extend(list(df_user_month_tarif_over_total_rub[df_user_month_tarif_over_total_rub['tariff'] == 'smart'][month]))\n",
    "    elif tarif == 'ultra':\n",
    "        for month in df_columns:\n",
    "            lst.extend(list(df_user_month_tarif_over_total_rub[df_user_month_tarif_over_total_rub['tariff'] == 'ultra'][month]))\n",
    "    \n",
    "    \n",
    "    return list(filter(lambda x: x != 0, lst))\n",
    "    "
   ]
  },
  {
   "cell_type": "markdown",
   "id": "ad53f49a",
   "metadata": {},
   "source": [
    "Создадим series по каждому тарифу для дальнейшего исследования"
   ]
  },
  {
   "cell_type": "code",
   "execution_count": 138,
   "id": "31ff1e84",
   "metadata": {},
   "outputs": [],
   "source": [
    "smart = pd.Series(income_tariff('smart'))\n",
    "ultra = pd.Series(income_tariff('ultra'))"
   ]
  },
  {
   "cell_type": "markdown",
   "id": "6b99c228",
   "metadata": {},
   "source": [
    "#### Проверим на нормальность распределения"
   ]
  },
  {
   "cell_type": "code",
   "execution_count": 139,
   "id": "ed53c26b",
   "metadata": {},
   "outputs": [
    {
     "data": {
      "image/png": "[encoded data removed]",
      "text/plain": [
       "<Figure size 360x360 with 1 Axes>"
      ]
     },
     "metadata": {
      "needs_background": "light"
     },
     "output_type": "display_data"
    },
    {
     "data": {
      "image/png": "[encoded data removed]",
      "text/plain": [
       "<Figure size 360x360 with 1 Axes>"
      ]
     },
     "metadata": {
      "needs_background": "light"
     },
     "output_type": "display_data"
    }
   ],
   "source": [
    "ax = sns.displot(smart, kde=True);\n",
    "ax.fig.suptitle('Гистограмма и график плотности по тарифу Смарт');\n",
    "ax.set_axis_labels('Ежемесячная выручка, руб. в мес.' , 'Количество пользователей');\n",
    "ax = sns.displot(ultra, kde=True);\n",
    "ax.fig.suptitle('Гистограмма и график плотности по тарифу Ультра');\n",
    "ax.set_axis_labels('Ежемесячная выручка, руб. в мес.' , 'Количество пользователей');"
   ]
  },
  {
   "cell_type": "code",
   "execution_count": 140,
   "id": "55f5ce4c",
   "metadata": {},
   "outputs": [],
   "source": [
    "# hist_kde(df_user_month_tarif_over_total_rub, 'smart', 'mean_user_income', 'Средняя выручка, руб. в мес.')\n",
    "# hist_kde(df_user_month_tarif_over_total_rub, 'ultra', 'mean_user_income', 'Средняя выручка, руб. в мес.')"
   ]
  },
  {
   "cell_type": "markdown",
   "id": "0598e06d",
   "metadata": {},
   "source": [
    "#### Вывод"
   ]
  },
  {
   "cell_type": "markdown",
   "id": "4f3b821c",
   "metadata": {},
   "source": [
    "График плотности и гистограмма показывают нормальное распределение на проверяемых тарифах в каждом с справосторонней скошенностью."
   ]
  },
  {
   "cell_type": "markdown",
   "id": "831aa0b8",
   "metadata": {},
   "source": [
    "#### Проверка нормального распределения при помощи QQ-графиков"
   ]
  },
  {
   "cell_type": "code",
   "execution_count": 141,
   "id": "5dbbacc8",
   "metadata": {},
   "outputs": [
    {
     "data": {
      "image/png": "[encoded data removed]",
      "text/plain": [
       "<Figure size 864x576 with 2 Axes>"
      ]
     },
     "metadata": {
      "needs_background": "light"
     },
     "output_type": "display_data"
    }
   ],
   "source": [
    "# строим qq-plot для нормального распределения\n",
    "plt.figure(figsize=(12,8))\n",
    "plt.subplot(2,2,1)\n",
    "st.probplot(smart, dist=\"norm\", plot=plt)\n",
    "plt.subplot(2,2,2)\n",
    "st.probplot(ultra, dist=\"norm\", plot=plt)\n",
    "plt.show()"
   ]
  },
  {
   "cell_type": "markdown",
   "id": "28e48c13",
   "metadata": {},
   "source": [
    "#### Вывод"
   ]
  },
  {
   "cell_type": "markdown",
   "id": "318f9e5f",
   "metadata": {},
   "source": [
    "Графики Q-Q скорее показывают ненормальное распределение."
   ]
  },
  {
   "cell_type": "markdown",
   "id": "2255150c",
   "metadata": {},
   "source": [
    "#### Проверка гипотезы"
   ]
  },
  {
   "cell_type": "markdown",
   "id": "b612073d",
   "metadata": {},
   "source": [
    "Установим критический уровень статистической значимости в размере 5%"
   ]
  },
  {
   "cell_type": "code",
   "execution_count": 142,
   "id": "dddf321f",
   "metadata": {},
   "outputs": [],
   "source": [
    "alpha = .05"
   ]
  },
  {
   "cell_type": "markdown",
   "id": "f114c5b2",
   "metadata": {},
   "source": [
    "#### Двусторонняя проверка"
   ]
  },
  {
   "cell_type": "markdown",
   "id": "0250f539",
   "metadata": {},
   "source": [
    "Проверим гипотезу о равенстве средних двух независимых совокупностей:"
   ]
  },
  {
   "cell_type": "markdown",
   "id": "d0997224",
   "metadata": {},
   "source": [
    "Посчитаем p-value, используя ttest из библиотеки scipy для сравнения средних двух выборок."
   ]
  },
  {
   "cell_type": "code",
   "execution_count": 143,
   "id": "77aeae65",
   "metadata": {},
   "outputs": [],
   "source": [
    "result_tariff = st.ttest_ind(smart, ultra, equal_var=False)"
   ]
  },
  {
   "cell_type": "code",
   "execution_count": 144,
   "id": "5f08ae9d",
   "metadata": {},
   "outputs": [
    {
     "name": "stdout",
     "output_type": "stream",
     "text": [
      "Результат p-value - 4.2606313931076085e-250\n"
     ]
    }
   ],
   "source": [
    "print('Результат p-value -', result_tariff.pvalue)"
   ]
  },
  {
   "cell_type": "markdown",
   "id": "75929591",
   "metadata": {},
   "source": [
    "Если (1 - p-value) будет меньше выбранного уровня значимости $\\alpha = 0.05$, то нулевую гипотезу о различии средних отвергнем. Иначе сделаем вывод, что данные не позволили нам отвергнуть нулевую гипотезу."
   ]
  },
  {
   "cell_type": "code",
   "execution_count": 145,
   "id": "e5918817",
   "metadata": {},
   "outputs": [
    {
     "name": "stdout",
     "output_type": "stream",
     "text": [
      "Не получилось отвергнуть нулевую гипотезу\n"
     ]
    }
   ],
   "source": [
    "if (1 - result_tariff.pvalue) < alpha:\n",
    "    print('Отвергаем нулевую гипотезу')\n",
    "else:\n",
    "    print('Не получилось отвергнуть нулевую гипотезу')"
   ]
  },
  {
   "cell_type": "markdown",
   "id": "6c3924fa",
   "metadata": {},
   "source": [
    "Воспользуемся тем, что выборки связаны:"
   ]
  },
  {
   "cell_type": "code",
   "execution_count": 146,
   "id": "37cb46b0",
   "metadata": {},
   "outputs": [
    {
     "name": "stdout",
     "output_type": "stream",
     "text": [
      "Результат p-value - 1.4229814360764067e-160\n",
      "Не получилось отвергнуть нулевую гипотезу\n"
     ]
    }
   ],
   "source": [
    "result_tariff = st.ttest_ind(smart, ultra)\n",
    "\n",
    "print('Результат p-value -', result_tariff.pvalue)\n",
    "\n",
    "if 1 - result_tariff.pvalue < alpha:\n",
    "    print('Отвергаем нулевую гипотезу')\n",
    "else:\n",
    "    print('Не получилось отвергнуть нулевую гипотезу')"
   ]
  },
  {
   "cell_type": "markdown",
   "id": "6ff7fd73",
   "metadata": {},
   "source": [
    "#### Вывод"
   ]
  },
  {
   "cell_type": "markdown",
   "id": "906cd86e",
   "metadata": {},
   "source": [
    "P-value получилось меньше выбранного уровня  𝛼=0.05 . Данные не позволили отвергнуть нулевую гипотезу, поэтому средние выручки клиентов тарифов Смарт и Ультра различаются"
   ]
  },
  {
   "cell_type": "markdown",
   "id": "195bfb2f",
   "metadata": {},
   "source": [
    "#### Непараметрический тест Манна-Уитни"
   ]
  },
  {
   "cell_type": "markdown",
   "id": "15c35e95",
   "metadata": {},
   "source": [
    "#### Двусторонняя проверка"
   ]
  },
  {
   "cell_type": "markdown",
   "id": "008cb9d5",
   "metadata": {},
   "source": [
    "Гипотезы оставим прежние, как в прошлой проверке."
   ]
  },
  {
   "cell_type": "markdown",
   "id": "51be7ef7",
   "metadata": {},
   "source": [
    "Если (1 - p-value) будет меньше выбранного уровня значимости $\\alpha = 0.05$, то нулевую гипотезу о различии средних отвергнем. Иначе сделаем вывод, что данные не позволили нам отвергнуть нулевую гипотезу."
   ]
  },
  {
   "cell_type": "code",
   "execution_count": 147,
   "id": "11ccbad0",
   "metadata": {},
   "outputs": [
    {
     "name": "stdout",
     "output_type": "stream",
     "text": [
      "p-значение:  1.9803845594554806e-187\n",
      "Не получилось отвергнуть нулевую гипотезу\n"
     ]
    }
   ],
   "source": [
    "results = st.mannwhitneyu(smart, ultra, alternative='two-sided')\n",
    "print('p-значение: ', results.pvalue)\n",
    "\n",
    "if (1 - results.pvalue) < alpha:\n",
    "    print(\"Отвергаем нулевую гипотезу\")\n",
    "else:\n",
    "    print(\"Не получилось отвергнуть нулевую гипотезу\")"
   ]
  },
  {
   "cell_type": "markdown",
   "id": "51908115",
   "metadata": {},
   "source": [
    "#### Вывод"
   ]
  },
  {
   "cell_type": "markdown",
   "id": "09718cc2",
   "metadata": {},
   "source": [
    "P-value получилось больше выбранного уровня  𝛼=0.05 . Данные не позволили отвергнуть нулевую гипотезу, поэтому средние выручки клиентов тарифов Смарт и Ультра различаются"
   ]
  },
  {
   "cell_type": "markdown",
   "id": "0c13074e",
   "metadata": {},
   "source": [
    "### Вывод"
   ]
  },
  {
   "cell_type": "markdown",
   "id": "202cdfb1",
   "metadata": {},
   "source": [
    "Мы успешно проверили гипотезу тремя методами, в результате сделали вывод, что средние выручки клиентов тарифов Смарт и Ультра различаются"
   ]
  },
  {
   "cell_type": "markdown",
   "id": "8ec807b7",
   "metadata": {},
   "source": [
    "### Гипотеза №2"
   ]
  },
  {
   "cell_type": "markdown",
   "id": "1ffa3502",
   "metadata": {},
   "source": [
    "Нам необходимо проверить гипотезу \"Средняя выручка пользователей из Москвы отличается от выручки пользователей из других регионов\""
   ]
  },
  {
   "cell_type": "markdown",
   "id": "ce722d37",
   "metadata": {},
   "source": [
    "#### Подготовка данных для проверки гипотезы"
   ]
  },
  {
   "cell_type": "markdown",
   "id": "4665c045",
   "metadata": {},
   "source": [
    "Для проверки данной гипотезы, нам необходимо создать совокупности значений средней выручки по Москве и другим регионам. Для этого к датафрейму `df_user_month_tarif_over_total_rub` добавим столбец с регионами."
   ]
  },
  {
   "cell_type": "code",
   "execution_count": 148,
   "id": "ad54864c",
   "metadata": {},
   "outputs": [],
   "source": [
    "df_user_month_tarif_over_total_rub['city'] = df_use['city']"
   ]
  },
  {
   "cell_type": "markdown",
   "id": "fe18035c",
   "metadata": {},
   "source": [
    "Создадим функцию с помощью которой мы категоризируем данные, поделим данные на категории \"Москва\" и \"Регион\"."
   ]
  },
  {
   "cell_type": "code",
   "execution_count": 149,
   "id": "0a98e432",
   "metadata": {},
   "outputs": [],
   "source": [
    "def change_reg(row):\n",
    "    if row['city'] == 'Москва':\n",
    "        return 'Москва'\n",
    "    else:\n",
    "        return 'Регион'"
   ]
  },
  {
   "cell_type": "markdown",
   "id": "42b7c1f1",
   "metadata": {},
   "source": [
    "Применим функцию к датафрейму `df_user_month_tarif_over_total_rub`"
   ]
  },
  {
   "cell_type": "code",
   "execution_count": 150,
   "id": "072816f8",
   "metadata": {},
   "outputs": [],
   "source": [
    "df_user_month_tarif_over_total_rub['city_categ'] = df_user_month_tarif_over_total_rub.apply(change_reg, axis=1)"
   ]
  },
  {
   "cell_type": "markdown",
   "id": "bf75e50e",
   "metadata": {},
   "source": [
    "Выведим состав датафрейма по созданным категориям"
   ]
  },
  {
   "cell_type": "code",
   "execution_count": 151,
   "id": "e86e20e3",
   "metadata": {},
   "outputs": [
    {
     "data": {
      "text/plain": [
       "Регион    401\n",
       "Москва     99\n",
       "Name: city_categ, dtype: int64"
      ]
     },
     "execution_count": 151,
     "metadata": {},
     "output_type": "execute_result"
    }
   ],
   "source": [
    "df_user_month_tarif_over_total_rub['city_categ'].value_counts()"
   ]
  },
  {
   "cell_type": "markdown",
   "id": "6a6ab18a",
   "metadata": {},
   "source": [
    "У нас получилось, что в нашей выборке из Москвы - 99 абонентов, из регионов - 401."
   ]
  },
  {
   "cell_type": "markdown",
   "id": "1bd9443f",
   "metadata": {},
   "source": [
    "Напишем функцию по которой сведем все доходы по месяцам в по каждому региону в единый список."
   ]
  },
  {
   "cell_type": "code",
   "execution_count": 152,
   "id": "a0870727",
   "metadata": {},
   "outputs": [],
   "source": [
    "def income_region(region):\n",
    "    '''Функция формирует список доходов по всем месяцам по соответствующему региону'''\n",
    "    \n",
    "    lst = []\n",
    "    \n",
    "    if region == 'Москва':\n",
    "        for month in df_columns:\n",
    "            lst.extend(list(df_user_month_tarif_over_total_rub[df_user_month_tarif_over_total_rub['city_categ'] == 'Москва'][month]))\n",
    "    elif region == 'Регион':\n",
    "        for month in df_columns:\n",
    "            lst.extend(list(df_user_month_tarif_over_total_rub[df_user_month_tarif_over_total_rub['city_categ'] == 'Регион'][month]))\n",
    "    \n",
    "    \n",
    "    return list(filter(lambda x: x != 0, lst))\n",
    "    "
   ]
  },
  {
   "cell_type": "markdown",
   "id": "03b30ca6",
   "metadata": {},
   "source": [
    "Выделим совокупности значений средней выручки по каждому пользователю по Москве и регионам. На них будем проверять гипотезы"
   ]
  },
  {
   "cell_type": "markdown",
   "id": "b7c90e50",
   "metadata": {},
   "source": [
    "Создадим series по каждому региону для дальнейшего исследования"
   ]
  },
  {
   "cell_type": "code",
   "execution_count": 153,
   "id": "13695982",
   "metadata": {},
   "outputs": [],
   "source": [
    "moscow = pd.Series(income_region('Москва'))\n",
    "region = pd.Series(income_region('Регион'))"
   ]
  },
  {
   "cell_type": "code",
   "execution_count": 154,
   "id": "32915059",
   "metadata": {},
   "outputs": [],
   "source": [
    "# moscow = df_user_month_tarif_over_total_rub[df_user_month_tarif_over_total_rub['city_categ'] == 'Москва']['mean_user_income'].copy()\n",
    "# region = df_user_month_tarif_over_total_rub[df_user_month_tarif_over_total_rub['city_categ'] == 'Регион']['mean_user_income'].copy()"
   ]
  },
  {
   "cell_type": "markdown",
   "id": "c4397a8b",
   "metadata": {},
   "source": [
    "#### Вывод"
   ]
  },
  {
   "cell_type": "markdown",
   "id": "c875ede7",
   "metadata": {},
   "source": [
    "Мы успешно подготовили необходимые данные для проверки второй гипотезы."
   ]
  },
  {
   "cell_type": "markdown",
   "id": "1c6cb6fc",
   "metadata": {},
   "source": [
    "#### Проверка гипотез"
   ]
  },
  {
   "cell_type": "markdown",
   "id": "4bdf7252",
   "metadata": {},
   "source": [
    "<p>Введем основную и альтернативные гипотезы:</p>\n",
    "\n",
    "$\\begin{equation*}\n",
    " \\begin{cases}\n",
    "   H_0 :\\text{Средняя выручка пользователей из Москвы и регионов различаются}\\\\\n",
    "   H_1 :\\text{Средняя выручка пользователей из Москвы и регионов равны}\n",
    " \\end{cases}\n",
    "\\end{equation*}$\n",
    "\n",
    "Уровень значимости: $\\alpha = 0.05$"
   ]
  },
  {
   "cell_type": "markdown",
   "id": "b99c0bb0",
   "metadata": {},
   "source": [
    "#### Проверим на нормальность распределения"
   ]
  },
  {
   "cell_type": "code",
   "execution_count": 155,
   "id": "12f332bf",
   "metadata": {},
   "outputs": [
    {
     "data": {
      "image/png": "[encoded data removed]",
      "text/plain": [
       "<Figure size 360x360 with 1 Axes>"
      ]
     },
     "metadata": {
      "needs_background": "light"
     },
     "output_type": "display_data"
    },
    {
     "data": {
      "image/png": "[encoded data removed]",
      "text/plain": [
       "<Figure size 360x360 with 1 Axes>"
      ]
     },
     "metadata": {
      "needs_background": "light"
     },
     "output_type": "display_data"
    }
   ],
   "source": [
    "ax = sns.displot(moscow, kde=True);\n",
    "ax.fig.suptitle('Гистограмма и график плотности по Москве');\n",
    "ax.set_axis_labels('Ежемесячная выручка, руб. в мес.' , 'Количество пользователей');\n",
    "ax = sns.displot(region, kde=True);\n",
    "ax.fig.suptitle('Гистограмма и график плотности по регионам');\n",
    "ax.set_axis_labels('Ежемесячная выручка, руб. в мес.' , 'Количество пользователей');"
   ]
  },
  {
   "cell_type": "code",
   "execution_count": 156,
   "id": "31d47876",
   "metadata": {},
   "outputs": [
    {
     "name": "stdout",
     "output_type": "stream",
     "text": [
      "Среднее значение по Москве - 1546.7135842880523\n",
      "Медианное значение по Москве - 1750.0\n",
      "Среднее значение по регионам - 1524.9362274298885\n",
      "Медианное значение по регионам - 1583.0\n"
     ]
    }
   ],
   "source": [
    "print(f\"Среднее значение по Москве - {moscow.mean()}\")\n",
    "print(f\"Медианное значение по Москве - {moscow.median()}\")\n",
    "print(f\"Среднее значение по регионам - {region.mean()}\")\n",
    "print(f\"Медианное значение по регионам - {region.median()}\")"
   ]
  },
  {
   "cell_type": "markdown",
   "id": "ee39bb73",
   "metadata": {},
   "source": [
    "#### Вывод"
   ]
  },
  {
   "cell_type": "markdown",
   "id": "e57fd841",
   "metadata": {},
   "source": [
    "График плотности, гистограмма и сравнение средней и медианного значения показывают нормальное распределение на проверяемых регионах со левосторонней скошенностью в Москве и немного правосторонней скошенностью в регионах."
   ]
  },
  {
   "cell_type": "markdown",
   "id": "560ce0dc",
   "metadata": {},
   "source": [
    "#### Проверка нормального распределения при помощи QQ-графиков"
   ]
  },
  {
   "cell_type": "code",
   "execution_count": 157,
   "id": "0adf5eb2",
   "metadata": {},
   "outputs": [
    {
     "data": {
      "image/png": "[encoded data removed]",
      "text/plain": [
       "<Figure size 864x576 with 2 Axes>"
      ]
     },
     "metadata": {
      "needs_background": "light"
     },
     "output_type": "display_data"
    }
   ],
   "source": [
    "# строим qq-plot для нормального распределения\n",
    "plt.figure(figsize=(12,8))\n",
    "plt.subplot(2,2,1)\n",
    "st.probplot(moscow, dist=\"norm\", plot=plt)\n",
    "plt.subplot(2,2,2)\n",
    "st.probplot(region, dist=\"norm\", plot=plt)\n",
    "plt.show()"
   ]
  },
  {
   "cell_type": "markdown",
   "id": "7cd043b9",
   "metadata": {},
   "source": [
    "#### Вывод"
   ]
  },
  {
   "cell_type": "markdown",
   "id": "221c6fea",
   "metadata": {},
   "source": [
    "Графики также показывают нормальное распределение."
   ]
  },
  {
   "cell_type": "markdown",
   "id": "28e355aa",
   "metadata": {},
   "source": [
    "#### Проверка гипотезы"
   ]
  },
  {
   "cell_type": "markdown",
   "id": "55244151",
   "metadata": {},
   "source": [
    "Установим критический уровень статистической значимости в размере 5%"
   ]
  },
  {
   "cell_type": "code",
   "execution_count": 158,
   "id": "c527e665",
   "metadata": {},
   "outputs": [],
   "source": [
    "alpha = .05"
   ]
  },
  {
   "cell_type": "markdown",
   "id": "05facc21",
   "metadata": {},
   "source": [
    "#### Двусторонняя проверка"
   ]
  },
  {
   "cell_type": "markdown",
   "id": "7cec5ebe",
   "metadata": {},
   "source": [
    "Проверим гипотезу о равенстве средних двух независимых совокупностей:"
   ]
  },
  {
   "cell_type": "markdown",
   "id": "39eaa712",
   "metadata": {},
   "source": [
    "Посчитаем p-value, используя ttest из библиотеки scipy для сравнения средних двух выборок."
   ]
  },
  {
   "cell_type": "code",
   "execution_count": 159,
   "id": "ed81a64b",
   "metadata": {},
   "outputs": [],
   "source": [
    "result_tariff = st.ttest_ind(moscow, region, equal_var=False)"
   ]
  },
  {
   "cell_type": "code",
   "execution_count": 160,
   "id": "50507f3a",
   "metadata": {},
   "outputs": [
    {
     "name": "stdout",
     "output_type": "stream",
     "text": [
      "Результат p-value - 0.5257376663729298\n"
     ]
    }
   ],
   "source": [
    "print('Результат p-value -', result_tariff.pvalue)"
   ]
  },
  {
   "cell_type": "markdown",
   "id": "90276bcc",
   "metadata": {},
   "source": [
    "Если (1 - p-value) будет меньше выбранного уровня значимости $\\alpha = 0.05$, то нулевую гипотезу о различии средних отвергнем. Иначе сделаем вывод, что данные не позволили нам отвергнуть нулевую гипотезу."
   ]
  },
  {
   "cell_type": "code",
   "execution_count": 161,
   "id": "dabe4a8a",
   "metadata": {},
   "outputs": [
    {
     "name": "stdout",
     "output_type": "stream",
     "text": [
      "Не получилось отвергнуть нулевую гипотезу\n"
     ]
    }
   ],
   "source": [
    "if 1 - result_tariff.pvalue < alpha:\n",
    "    print('Отвергаем нулевую гипотезу')\n",
    "else:\n",
    "    print('Не получилось отвергнуть нулевую гипотезу')"
   ]
  },
  {
   "cell_type": "markdown",
   "id": "ec1d6c94",
   "metadata": {},
   "source": [
    "Воспользуемся тем, что выборки связаны:"
   ]
  },
  {
   "cell_type": "code",
   "execution_count": 162,
   "id": "a0fe4df3",
   "metadata": {},
   "outputs": [
    {
     "name": "stdout",
     "output_type": "stream",
     "text": [
      "Результат p-value - 0.5440152911670224\n",
      "Не получилось отвергнуть нулевую гипотезу\n"
     ]
    }
   ],
   "source": [
    "result_tariff = st.ttest_ind(moscow, region)\n",
    "\n",
    "print('Результат p-value -', result_tariff.pvalue)\n",
    "\n",
    "if 1 - result_tariff.pvalue < alpha:\n",
    "    print('Отвергаем нулевую гипотезу')\n",
    "else:\n",
    "    print('Не получилось отвергнуть нулевую гипотезу')"
   ]
  },
  {
   "cell_type": "markdown",
   "id": "70f17e35",
   "metadata": {},
   "source": [
    "#### Вывод"
   ]
  },
  {
   "cell_type": "markdown",
   "id": "ab1713c6",
   "metadata": {},
   "source": [
    "P-value получилось больше выбранного уровня  𝛼=0.05 . Данные не позволили отвергнуть нулевую гипотезу - средние выручки клиентов в Москве и регионах различаются"
   ]
  },
  {
   "cell_type": "markdown",
   "id": "30c5aa6f",
   "metadata": {},
   "source": [
    "#### Непараметрический тест Манна-Уитни"
   ]
  },
  {
   "cell_type": "markdown",
   "id": "7d6b38f7",
   "metadata": {},
   "source": [
    "#### Двусторонняя проверка"
   ]
  },
  {
   "cell_type": "markdown",
   "id": "35d5b6f0",
   "metadata": {},
   "source": [
    "Гипотезы оставим прежние, как в прошлой проверке."
   ]
  },
  {
   "cell_type": "markdown",
   "id": "f44322f0",
   "metadata": {},
   "source": [
    "Если (1 - p-value) будет меньше выбранного уровня значимости $\\alpha = 0.05$, то нулевую гипотезу о различии средних отвергнем. Иначе сделаем вывод, что данные не позволили нам отвергнуть нулевую гипотезу."
   ]
  },
  {
   "cell_type": "code",
   "execution_count": 163,
   "id": "2fb4bd53",
   "metadata": {},
   "outputs": [
    {
     "name": "stdout",
     "output_type": "stream",
     "text": [
      "p-значение:  0.37423394910366004\n",
      "Не получилось отвергнуть нулевую гипотезу\n"
     ]
    }
   ],
   "source": [
    "results = st.mannwhitneyu(moscow, region, alternative='two-sided')\n",
    "print('p-значение: ', results.pvalue)\n",
    "\n",
    "if (1 - results.pvalue) < alpha:\n",
    "    print(\"Отвергаем нулевую гипотезу\")\n",
    "else:\n",
    "    print(\"Не получилось отвергнуть нулевую гипотезу\")"
   ]
  },
  {
   "cell_type": "markdown",
   "id": "99d3b9bb",
   "metadata": {},
   "source": [
    "#### Вывод"
   ]
  },
  {
   "cell_type": "markdown",
   "id": "bdf77555",
   "metadata": {},
   "source": [
    "P-value получилось больше выбранного уровня  𝛼=0.05 . Данные не позволили отвергнуть нулевую гипотезу - средние выручки клиентов Москвы и регионов различаются"
   ]
  },
  {
   "cell_type": "markdown",
   "id": "95f81f81",
   "metadata": {},
   "source": [
    "### Вывод"
   ]
  },
  {
   "cell_type": "markdown",
   "id": "378d4438",
   "metadata": {},
   "source": [
    "Мы успешно провели проверку второй гипотезы тремя методами, в результате сделали вывод, что средние выручки клиентов Москвы и регионов различаются"
   ]
  },
  {
   "cell_type": "markdown",
   "id": "7f7b254b",
   "metadata": {},
   "source": [
    "## Общий вывод"
   ]
  },
  {
   "cell_type": "markdown",
   "id": "a5153bc9",
   "metadata": {},
   "source": [
    "Мы провели большую работу по обработке данных, подготовке данных, провели исследовательский анализ, провели проверку двух гипотез.\n",
    "\n",
    "Изначально нам было предоставлено 5 файлов с данными. Мы выгрузили и изучили эти данные. Провели предподготовку данных, удалили не нужные данные, переименовали ряд заголовков, изменили типы данных в тех столбцах, которые необходимы. \n",
    "\n",
    "Провели подготовку данных для анализа данных. Вычислили и добавили необходимые данные. Подготовили данные по каждой услуге: звонкам, сообщениям и интернету. Посчитали количество израсходованных минут, включая минуты, превышающие лимит включенные в абонентскую плату, посчитали количество звонков. Провели подобную работу, сделали вычисления и с сообщениями и интернетом.\n",
    "\n",
    "Посчитали выручку по каждому пользователю помесячно по каждому тарифу. Вычислили у каждого помесячно абонентскую плату и плату сверх абонентской. Вычислили количество месяцев работы по каждому абоненту, среднегодовые доходы по каждому клиенту.\n",
    "\n",
    "Провели анализ данных по звонкам, сообщениям, интернету. По каждому тарифу сделали вычисления.\n",
    "\n",
    "Определили среднее значение по количеству разговоров, в тарифе Смарт — это 420,8 мин., в тарифе Ультра - 547 мин. \n",
    "\n",
    "Определили среднее значение по количеству сообщений в тарифе Смарт — это 37,6 шт., в тарифе Ультра - 64,6 шт. \n",
    "\n",
    "Определили среднее значение по количеству интернет-трафика, в тарифе Смарт это 16,3 Гб., в тарифе Ультра - 19,8 Гб. \n",
    "\n",
    "По каждой услуге посчитали вероятностные интервалы по средним значениям по каждому тарифу. Построили гистограммы и графики плотности. Вычислили и другие показатели.\n",
    "\n",
    "Определили распределения.\n",
    "\n",
    "Провели проверку 2х основных гипотез по заданию.\n",
    "\n",
    "Определили, в каждой основной гипотезе, нулевую и альтернативную гипотезу.\n",
    "Подготовили данные для проверки гипотез. Определили нормальное распределение.\n",
    "Далее используя двустороннюю проверку и непараметрический тест Манна-Уитни, пришли к таким выводам:\n",
    "\n",
    "По первой гипотезе. Средние выручки клиентов тарифов Смарт и Ультра различаются.\n",
    "По второй гипотезе. Средние выручки клиентов Москвы и регионов различаются."
   ]
  },
  {
   "cell_type": "markdown",
   "id": "28e9183b",
   "metadata": {},
   "source": [
    "Отвечая на вопрос \"Какой тариф лучше?\" есть следующие ответы:\n",
    "1. Если исходить из того, что оценивать по среднеабонентскому приходу и то, что клиентов на каждом тарифе будет одинаково то выгоднее тариф Ультра, 1324 руб./абонент тарифа Смарт, против 2086 руб./абонента тарифа Ультра.\n",
    "2. Если мы будет исходить из того, что соотношение клиентов по тарифам будет, как выборке 70% Смарт и 30% Ультра, то выгоднее будет тариф Смарт. Например, исходя из того, что клиентов как в выборке 500 чел, 351 абонент тарифа Смарт приносит в среднем 464724 руб., то 149 абонентов тарифа Ультра приносят только 310814 руб.\n",
    "3. Если рассматривать 1 пункт, то тут тоже есть свои условия и моменты, по тарифу Смарт доходы сверхлимитные превышают абонплату на 140% (774руб.в среднем), а они считаются по дорогим тарифным ставкам, тогда как на Ультра превышение от абонплаты только в среднем на 7%(136руб. в среднем). Плюс к этому можно добавить то, что скорее всего на тарифе Ультра приходится бронировать больше мощностей учитывая, что там много минут, смс и интернета, а как мы видели расределение расхода по этому тарифу \"относительно плоское\"."
   ]
  }
 ],
 "metadata": {
  "ExecuteTimeLog": [
   {
    "duration": 1237,
    "start_time": "2022-03-10T04:17:02.515Z"
   },
   {
    "duration": 2477,
    "start_time": "2022-03-10T04:17:03.755Z"
   },
   {
    "duration": -450,
    "start_time": "2022-03-10T04:17:06.688Z"
   },
   {
    "duration": -494,
    "start_time": "2022-03-10T04:17:06.733Z"
   },
   {
    "duration": -538,
    "start_time": "2022-03-10T04:17:06.778Z"
   },
   {
    "duration": -572,
    "start_time": "2022-03-10T04:17:06.813Z"
   },
   {
    "duration": -597,
    "start_time": "2022-03-10T04:17:06.839Z"
   },
   {
    "duration": -634,
    "start_time": "2022-03-10T04:17:06.877Z"
   },
   {
    "duration": -656,
    "start_time": "2022-03-10T04:17:06.900Z"
   },
   {
    "duration": -679,
    "start_time": "2022-03-10T04:17:06.923Z"
   },
   {
    "duration": -700,
    "start_time": "2022-03-10T04:17:06.945Z"
   },
   {
    "duration": -710,
    "start_time": "2022-03-10T04:17:06.956Z"
   },
   {
    "duration": -731,
    "start_time": "2022-03-10T04:17:06.978Z"
   },
   {
    "duration": -741,
    "start_time": "2022-03-10T04:17:06.989Z"
   },
   {
    "duration": -750,
    "start_time": "2022-03-10T04:17:06.999Z"
   },
   {
    "duration": -757,
    "start_time": "2022-03-10T04:17:07.007Z"
   },
   {
    "duration": -765,
    "start_time": "2022-03-10T04:17:07.016Z"
   },
   {
    "duration": -774,
    "start_time": "2022-03-10T04:17:07.026Z"
   },
   {
    "duration": -781,
    "start_time": "2022-03-10T04:17:07.034Z"
   },
   {
    "duration": -789,
    "start_time": "2022-03-10T04:17:07.043Z"
   },
   {
    "duration": -796,
    "start_time": "2022-03-10T04:17:07.052Z"
   },
   {
    "duration": -803,
    "start_time": "2022-03-10T04:17:07.059Z"
   },
   {
    "duration": -811,
    "start_time": "2022-03-10T04:17:07.068Z"
   },
   {
    "duration": -835,
    "start_time": "2022-03-10T04:17:07.093Z"
   },
   {
    "duration": -873,
    "start_time": "2022-03-10T04:17:07.133Z"
   },
   {
    "duration": -913,
    "start_time": "2022-03-10T04:17:07.174Z"
   },
   {
    "duration": -951,
    "start_time": "2022-03-10T04:17:07.213Z"
   },
   {
    "duration": -982,
    "start_time": "2022-03-10T04:17:07.245Z"
   },
   {
    "duration": -1020,
    "start_time": "2022-03-10T04:17:07.284Z"
   },
   {
    "duration": -1051,
    "start_time": "2022-03-10T04:17:07.316Z"
   },
   {
    "duration": -1086,
    "start_time": "2022-03-10T04:17:07.352Z"
   },
   {
    "duration": -1125,
    "start_time": "2022-03-10T04:17:07.392Z"
   },
   {
    "duration": -1170,
    "start_time": "2022-03-10T04:17:07.438Z"
   },
   {
    "duration": -1202,
    "start_time": "2022-03-10T04:17:07.471Z"
   },
   {
    "duration": -1237,
    "start_time": "2022-03-10T04:17:07.507Z"
   },
   {
    "duration": -1256,
    "start_time": "2022-03-10T04:17:07.527Z"
   },
   {
    "duration": -1270,
    "start_time": "2022-03-10T04:17:07.546Z"
   },
   {
    "duration": -1278,
    "start_time": "2022-03-10T04:17:07.555Z"
   },
   {
    "duration": -1295,
    "start_time": "2022-03-10T04:17:07.573Z"
   },
   {
    "duration": -1301,
    "start_time": "2022-03-10T04:17:07.580Z"
   },
   {
    "duration": -1309,
    "start_time": "2022-03-10T04:17:07.590Z"
   },
   {
    "duration": -1343,
    "start_time": "2022-03-10T04:17:07.624Z"
   },
   {
    "duration": -1377,
    "start_time": "2022-03-10T04:17:07.659Z"
   },
   {
    "duration": -1408,
    "start_time": "2022-03-10T04:17:07.692Z"
   },
   {
    "duration": -1453,
    "start_time": "2022-03-10T04:17:07.737Z"
   },
   {
    "duration": -1486,
    "start_time": "2022-03-10T04:17:07.771Z"
   },
   {
    "duration": -1506,
    "start_time": "2022-03-10T04:17:07.793Z"
   },
   {
    "duration": -1535,
    "start_time": "2022-03-10T04:17:07.823Z"
   },
   {
    "duration": -1572,
    "start_time": "2022-03-10T04:17:07.860Z"
   },
   {
    "duration": -1590,
    "start_time": "2022-03-10T04:17:07.879Z"
   },
   {
    "duration": -1599,
    "start_time": "2022-03-10T04:17:07.889Z"
   },
   {
    "duration": -1615,
    "start_time": "2022-03-10T04:17:07.906Z"
   },
   {
    "duration": -1620,
    "start_time": "2022-03-10T04:17:07.913Z"
   },
   {
    "duration": -1628,
    "start_time": "2022-03-10T04:17:07.922Z"
   },
   {
    "duration": -1658,
    "start_time": "2022-03-10T04:17:07.953Z"
   },
   {
    "duration": -1678,
    "start_time": "2022-03-10T04:17:07.974Z"
   },
   {
    "duration": -1685,
    "start_time": "2022-03-10T04:17:07.982Z"
   },
   {
    "duration": -1693,
    "start_time": "2022-03-10T04:17:07.991Z"
   },
   {
    "duration": -1710,
    "start_time": "2022-03-10T04:17:08.009Z"
   },
   {
    "duration": -1718,
    "start_time": "2022-03-10T04:17:08.017Z"
   },
   {
    "duration": -1738,
    "start_time": "2022-03-10T04:17:08.038Z"
   },
   {
    "duration": -1749,
    "start_time": "2022-03-10T04:17:08.050Z"
   },
   {
    "duration": -1919,
    "start_time": "2022-03-10T04:17:08.221Z"
   },
   {
    "duration": -1954,
    "start_time": "2022-03-10T04:17:08.257Z"
   },
   {
    "duration": -1988,
    "start_time": "2022-03-10T04:17:08.292Z"
   },
   {
    "duration": -2005,
    "start_time": "2022-03-10T04:17:08.310Z"
   },
   {
    "duration": -2015,
    "start_time": "2022-03-10T04:17:08.320Z"
   },
   {
    "duration": -2035,
    "start_time": "2022-03-10T04:17:08.342Z"
   },
   {
    "duration": -2042,
    "start_time": "2022-03-10T04:17:08.350Z"
   },
   {
    "duration": -2052,
    "start_time": "2022-03-10T04:17:08.361Z"
   },
   {
    "duration": -2062,
    "start_time": "2022-03-10T04:17:08.371Z"
   },
   {
    "duration": -2070,
    "start_time": "2022-03-10T04:17:08.380Z"
   },
   {
    "duration": -2080,
    "start_time": "2022-03-10T04:17:08.391Z"
   },
   {
    "duration": -2087,
    "start_time": "2022-03-10T04:17:08.399Z"
   },
   {
    "duration": -2095,
    "start_time": "2022-03-10T04:17:08.408Z"
   },
   {
    "duration": -2103,
    "start_time": "2022-03-10T04:17:08.417Z"
   },
   {
    "duration": -2178,
    "start_time": "2022-03-10T04:17:08.555Z"
   },
   {
    "duration": -2198,
    "start_time": "2022-03-10T04:17:08.576Z"
   },
   {
    "duration": -2206,
    "start_time": "2022-03-10T04:17:08.585Z"
   },
   {
    "duration": -2223,
    "start_time": "2022-03-10T04:17:08.603Z"
   },
   {
    "duration": -2230,
    "start_time": "2022-03-10T04:17:08.611Z"
   },
   {
    "duration": -2236,
    "start_time": "2022-03-10T04:17:08.619Z"
   },
   {
    "duration": -2253,
    "start_time": "2022-03-10T04:17:08.637Z"
   },
   {
    "duration": -2259,
    "start_time": "2022-03-10T04:17:08.644Z"
   },
   {
    "duration": -2267,
    "start_time": "2022-03-10T04:17:08.653Z"
   },
   {
    "duration": -2274,
    "start_time": "2022-03-10T04:17:08.661Z"
   },
   {
    "duration": -2283,
    "start_time": "2022-03-10T04:17:08.671Z"
   },
   {
    "duration": -2289,
    "start_time": "2022-03-10T04:17:08.678Z"
   },
   {
    "duration": -2296,
    "start_time": "2022-03-10T04:17:08.686Z"
   },
   {
    "duration": -2302,
    "start_time": "2022-03-10T04:17:08.693Z"
   },
   {
    "duration": -2310,
    "start_time": "2022-03-10T04:17:08.701Z"
   },
   {
    "duration": -2316,
    "start_time": "2022-03-10T04:17:08.709Z"
   },
   {
    "duration": -2323,
    "start_time": "2022-03-10T04:17:08.717Z"
   },
   {
    "duration": -2330,
    "start_time": "2022-03-10T04:17:08.725Z"
   },
   {
    "duration": -2337,
    "start_time": "2022-03-10T04:17:08.733Z"
   },
   {
    "duration": -2355,
    "start_time": "2022-03-10T04:17:08.752Z"
   },
   {
    "duration": -2362,
    "start_time": "2022-03-10T04:17:08.760Z"
   },
   {
    "duration": -2368,
    "start_time": "2022-03-10T04:17:08.767Z"
   },
   {
    "duration": -2375,
    "start_time": "2022-03-10T04:17:08.775Z"
   },
   {
    "duration": -2381,
    "start_time": "2022-03-10T04:17:08.782Z"
   },
   {
    "duration": -2389,
    "start_time": "2022-03-10T04:17:08.791Z"
   },
   {
    "duration": -2395,
    "start_time": "2022-03-10T04:17:08.798Z"
   },
   {
    "duration": -2402,
    "start_time": "2022-03-10T04:17:08.806Z"
   },
   {
    "duration": -2409,
    "start_time": "2022-03-10T04:17:08.814Z"
   },
   {
    "duration": -2416,
    "start_time": "2022-03-10T04:17:08.822Z"
   },
   {
    "duration": -2423,
    "start_time": "2022-03-10T04:17:08.830Z"
   },
   {
    "duration": -2430,
    "start_time": "2022-03-10T04:17:08.839Z"
   },
   {
    "duration": -2437,
    "start_time": "2022-03-10T04:17:08.847Z"
   },
   {
    "duration": -2456,
    "start_time": "2022-03-10T04:17:08.867Z"
   },
   {
    "duration": -2536,
    "start_time": "2022-03-10T04:17:08.948Z"
   },
   {
    "duration": -2545,
    "start_time": "2022-03-10T04:17:08.958Z"
   },
   {
    "duration": -2568,
    "start_time": "2022-03-10T04:17:08.982Z"
   },
   {
    "duration": -2577,
    "start_time": "2022-03-10T04:17:08.992Z"
   },
   {
    "duration": -2584,
    "start_time": "2022-03-10T04:17:09.000Z"
   },
   {
    "duration": -2532,
    "start_time": "2022-03-10T04:17:09.009Z"
   },
   {
    "duration": -2539,
    "start_time": "2022-03-10T04:17:09.017Z"
   },
   {
    "duration": -2548,
    "start_time": "2022-03-10T04:17:09.027Z"
   },
   {
    "duration": -2816,
    "start_time": "2022-03-10T04:17:09.296Z"
   },
   {
    "duration": -2842,
    "start_time": "2022-03-10T04:17:09.323Z"
   },
   {
    "duration": -2864,
    "start_time": "2022-03-10T04:17:09.346Z"
   },
   {
    "duration": -2875,
    "start_time": "2022-03-10T04:17:09.358Z"
   },
   {
    "duration": -2900,
    "start_time": "2022-03-10T04:17:09.383Z"
   },
   {
    "duration": -2921,
    "start_time": "2022-03-10T04:17:09.405Z"
   },
   {
    "duration": -2928,
    "start_time": "2022-03-10T04:17:09.413Z"
   },
   {
    "duration": -2937,
    "start_time": "2022-03-10T04:17:09.423Z"
   },
   {
    "duration": -2959,
    "start_time": "2022-03-10T04:17:09.446Z"
   },
   {
    "duration": -2969,
    "start_time": "2022-03-10T04:17:09.457Z"
   },
   {
    "duration": -2983,
    "start_time": "2022-03-10T04:17:09.473Z"
   },
   {
    "duration": -2990,
    "start_time": "2022-03-10T04:17:09.481Z"
   },
   {
    "duration": -2997,
    "start_time": "2022-03-10T04:17:09.489Z"
   },
   {
    "duration": -3019,
    "start_time": "2022-03-10T04:17:09.512Z"
   },
   {
    "duration": -3026,
    "start_time": "2022-03-10T04:17:09.520Z"
   },
   {
    "duration": -3051,
    "start_time": "2022-03-10T04:17:09.546Z"
   },
   {
    "duration": -3057,
    "start_time": "2022-03-10T04:17:09.554Z"
   },
   {
    "duration": -3080,
    "start_time": "2022-03-10T04:17:09.577Z"
   },
   {
    "duration": -3086,
    "start_time": "2022-03-10T04:17:09.584Z"
   },
   {
    "duration": -3105,
    "start_time": "2022-03-10T04:17:09.605Z"
   },
   {
    "duration": -3112,
    "start_time": "2022-03-10T04:17:09.612Z"
   },
   {
    "duration": -3121,
    "start_time": "2022-03-10T04:17:09.622Z"
   },
   {
    "duration": -3141,
    "start_time": "2022-03-10T04:17:09.643Z"
   },
   {
    "duration": -3148,
    "start_time": "2022-03-10T04:17:09.651Z"
   },
   {
    "duration": -3168,
    "start_time": "2022-03-10T04:17:09.672Z"
   },
   {
    "duration": -3175,
    "start_time": "2022-03-10T04:17:09.680Z"
   },
   {
    "duration": -3183,
    "start_time": "2022-03-10T04:17:09.689Z"
   },
   {
    "duration": -3202,
    "start_time": "2022-03-10T04:17:09.710Z"
   },
   {
    "duration": -3210,
    "start_time": "2022-03-10T04:17:09.719Z"
   },
   {
    "duration": -3229,
    "start_time": "2022-03-10T04:17:09.739Z"
   },
   {
    "duration": -3238,
    "start_time": "2022-03-10T04:17:09.748Z"
   },
   {
    "duration": -3246,
    "start_time": "2022-03-10T04:17:09.757Z"
   },
   {
    "duration": -3262,
    "start_time": "2022-03-10T04:17:09.774Z"
   },
   {
    "duration": -3270,
    "start_time": "2022-03-10T04:17:09.783Z"
   },
   {
    "duration": -3279,
    "start_time": "2022-03-10T04:17:09.793Z"
   },
   {
    "duration": -3243,
    "start_time": "2022-03-10T04:17:09.819Z"
   },
   {
    "duration": 3,
    "start_time": "2022-03-10T04:18:11.442Z"
   },
   {
    "duration": 5,
    "start_time": "2022-03-10T04:18:11.449Z"
   },
   {
    "duration": 482,
    "start_time": "2022-03-10T04:18:11.456Z"
   },
   {
    "duration": 11,
    "start_time": "2022-03-10T04:18:11.940Z"
   },
   {
    "duration": 29,
    "start_time": "2022-03-10T04:18:11.953Z"
   },
   {
    "duration": 8,
    "start_time": "2022-03-10T04:18:11.984Z"
   },
   {
    "duration": 28,
    "start_time": "2022-03-10T04:18:11.994Z"
   },
   {
    "duration": 7,
    "start_time": "2022-03-10T04:18:12.025Z"
   },
   {
    "duration": 28,
    "start_time": "2022-03-10T04:18:12.034Z"
   },
   {
    "duration": 8,
    "start_time": "2022-03-10T04:18:12.077Z"
   },
   {
    "duration": 8,
    "start_time": "2022-03-10T04:18:12.087Z"
   },
   {
    "duration": 16,
    "start_time": "2022-03-10T04:18:12.096Z"
   },
   {
    "duration": 13,
    "start_time": "2022-03-10T04:18:12.114Z"
   },
   {
    "duration": 76,
    "start_time": "2022-03-10T04:18:12.129Z"
   },
   {
    "duration": 7,
    "start_time": "2022-03-10T04:18:12.207Z"
   },
   {
    "duration": 11,
    "start_time": "2022-03-10T04:18:12.216Z"
   },
   {
    "duration": 41,
    "start_time": "2022-03-10T04:18:12.229Z"
   },
   {
    "duration": 7,
    "start_time": "2022-03-10T04:18:12.272Z"
   },
   {
    "duration": 149,
    "start_time": "2022-03-10T04:18:12.281Z"
   },
   {
    "duration": 4,
    "start_time": "2022-03-10T04:18:12.433Z"
   },
   {
    "duration": 334,
    "start_time": "2022-03-10T04:18:12.440Z"
   },
   {
    "duration": 46,
    "start_time": "2022-03-10T04:18:12.776Z"
   },
   {
    "duration": 156,
    "start_time": "2022-03-10T04:18:12.824Z"
   },
   {
    "duration": 10,
    "start_time": "2022-03-10T04:18:12.982Z"
   },
   {
    "duration": 131,
    "start_time": "2022-03-10T04:18:12.994Z"
   },
   {
    "duration": 11,
    "start_time": "2022-03-10T04:18:13.126Z"
   },
   {
    "duration": 7,
    "start_time": "2022-03-10T04:18:13.138Z"
   },
   {
    "duration": 78,
    "start_time": "2022-03-10T04:18:13.147Z"
   },
   {
    "duration": 11,
    "start_time": "2022-03-10T04:18:13.227Z"
   },
   {
    "duration": 7,
    "start_time": "2022-03-10T04:18:13.239Z"
   },
   {
    "duration": 5,
    "start_time": "2022-03-10T04:18:13.248Z"
   },
   {
    "duration": 36,
    "start_time": "2022-03-10T04:18:13.255Z"
   },
   {
    "duration": 17,
    "start_time": "2022-03-10T04:18:13.292Z"
   },
   {
    "duration": 7,
    "start_time": "2022-03-10T04:18:13.310Z"
   },
   {
    "duration": 12,
    "start_time": "2022-03-10T04:18:13.319Z"
   },
   {
    "duration": 86,
    "start_time": "2022-03-10T04:18:13.333Z"
   },
   {
    "duration": 11,
    "start_time": "2022-03-10T04:18:13.421Z"
   },
   {
    "duration": 5,
    "start_time": "2022-03-10T04:18:13.434Z"
   },
   {
    "duration": 20,
    "start_time": "2022-03-10T04:18:13.440Z"
   },
   {
    "duration": 31,
    "start_time": "2022-03-10T04:18:13.462Z"
   },
   {
    "duration": 8,
    "start_time": "2022-03-10T04:18:13.495Z"
   },
   {
    "duration": 89,
    "start_time": "2022-03-10T04:18:13.505Z"
   },
   {
    "duration": 3,
    "start_time": "2022-03-10T04:18:13.596Z"
   },
   {
    "duration": 19,
    "start_time": "2022-03-10T04:18:13.601Z"
   },
   {
    "duration": 22,
    "start_time": "2022-03-10T04:18:13.622Z"
   },
   {
    "duration": 15,
    "start_time": "2022-03-10T04:18:13.646Z"
   },
   {
    "duration": 15,
    "start_time": "2022-03-10T04:18:13.663Z"
   },
   {
    "duration": 7,
    "start_time": "2022-03-10T04:18:13.679Z"
   },
   {
    "duration": 6,
    "start_time": "2022-03-10T04:18:13.688Z"
   },
   {
    "duration": 7,
    "start_time": "2022-03-10T04:18:13.696Z"
   },
   {
    "duration": 5,
    "start_time": "2022-03-10T04:18:13.705Z"
   },
   {
    "duration": 7,
    "start_time": "2022-03-10T04:18:13.712Z"
   },
   {
    "duration": 6,
    "start_time": "2022-03-10T04:18:13.720Z"
   },
   {
    "duration": 96,
    "start_time": "2022-03-10T04:18:13.728Z"
   },
   {
    "duration": 5,
    "start_time": "2022-03-10T04:18:13.826Z"
   },
   {
    "duration": 8,
    "start_time": "2022-03-10T04:18:13.839Z"
   },
   {
    "duration": 27,
    "start_time": "2022-03-10T04:18:13.850Z"
   },
   {
    "duration": 9,
    "start_time": "2022-03-10T04:18:13.879Z"
   },
   {
    "duration": 3,
    "start_time": "2022-03-10T04:18:13.889Z"
   },
   {
    "duration": 10,
    "start_time": "2022-03-10T04:18:13.894Z"
   },
   {
    "duration": 9,
    "start_time": "2022-03-10T04:18:13.906Z"
   },
   {
    "duration": 8,
    "start_time": "2022-03-10T04:18:13.917Z"
   },
   {
    "duration": 13,
    "start_time": "2022-03-10T04:18:13.927Z"
   },
   {
    "duration": 35,
    "start_time": "2022-03-10T04:18:13.942Z"
   },
   {
    "duration": 18,
    "start_time": "2022-03-10T04:18:13.979Z"
   },
   {
    "duration": 8,
    "start_time": "2022-03-10T04:18:13.998Z"
   },
   {
    "duration": 11,
    "start_time": "2022-03-10T04:18:14.008Z"
   },
   {
    "duration": 9,
    "start_time": "2022-03-10T04:18:14.021Z"
   },
   {
    "duration": 13,
    "start_time": "2022-03-10T04:18:14.032Z"
   },
   {
    "duration": 33,
    "start_time": "2022-03-10T04:18:14.046Z"
   },
   {
    "duration": 10,
    "start_time": "2022-03-10T04:18:14.081Z"
   },
   {
    "duration": 15,
    "start_time": "2022-03-10T04:18:14.093Z"
   },
   {
    "duration": 21,
    "start_time": "2022-03-10T04:18:14.110Z"
   },
   {
    "duration": 18,
    "start_time": "2022-03-10T04:18:14.133Z"
   },
   {
    "duration": 33,
    "start_time": "2022-03-10T04:18:14.153Z"
   },
   {
    "duration": 3,
    "start_time": "2022-03-10T04:18:14.188Z"
   },
   {
    "duration": 12,
    "start_time": "2022-03-10T04:18:14.192Z"
   },
   {
    "duration": 14,
    "start_time": "2022-03-10T04:18:14.206Z"
   },
   {
    "duration": 6,
    "start_time": "2022-03-10T04:18:14.221Z"
   },
   {
    "duration": 9,
    "start_time": "2022-03-10T04:18:14.229Z"
   },
   {
    "duration": 40,
    "start_time": "2022-03-10T04:18:14.239Z"
   },
   {
    "duration": 8,
    "start_time": "2022-03-10T04:18:14.281Z"
   },
   {
    "duration": 7,
    "start_time": "2022-03-10T04:18:14.290Z"
   },
   {
    "duration": 15,
    "start_time": "2022-03-10T04:18:14.298Z"
   },
   {
    "duration": 16,
    "start_time": "2022-03-10T04:18:14.315Z"
   },
   {
    "duration": 3,
    "start_time": "2022-03-10T04:18:14.333Z"
   },
   {
    "duration": 10,
    "start_time": "2022-03-10T04:18:14.337Z"
   },
   {
    "duration": 28,
    "start_time": "2022-03-10T04:18:14.349Z"
   },
   {
    "duration": 22,
    "start_time": "2022-03-10T04:18:14.379Z"
   },
   {
    "duration": 10,
    "start_time": "2022-03-10T04:18:14.402Z"
   },
   {
    "duration": 9,
    "start_time": "2022-03-10T04:18:14.414Z"
   },
   {
    "duration": 11,
    "start_time": "2022-03-10T04:18:14.424Z"
   },
   {
    "duration": 19,
    "start_time": "2022-03-10T04:18:14.436Z"
   },
   {
    "duration": 20,
    "start_time": "2022-03-10T04:18:14.457Z"
   },
   {
    "duration": 9,
    "start_time": "2022-03-10T04:18:14.479Z"
   },
   {
    "duration": 14,
    "start_time": "2022-03-10T04:18:14.489Z"
   },
   {
    "duration": 535,
    "start_time": "2022-03-10T04:18:14.505Z"
   },
   {
    "duration": -6854,
    "start_time": "2022-03-10T04:18:21.896Z"
   },
   {
    "duration": -6860,
    "start_time": "2022-03-10T04:18:21.903Z"
   },
   {
    "duration": -6869,
    "start_time": "2022-03-10T04:18:21.913Z"
   },
   {
    "duration": -6876,
    "start_time": "2022-03-10T04:18:21.921Z"
   },
   {
    "duration": -6885,
    "start_time": "2022-03-10T04:18:21.931Z"
   },
   {
    "duration": -6892,
    "start_time": "2022-03-10T04:18:21.939Z"
   },
   {
    "duration": -6900,
    "start_time": "2022-03-10T04:18:21.948Z"
   },
   {
    "duration": -6908,
    "start_time": "2022-03-10T04:18:21.957Z"
   },
   {
    "duration": -6916,
    "start_time": "2022-03-10T04:18:21.966Z"
   },
   {
    "duration": -6988,
    "start_time": "2022-03-10T04:18:22.039Z"
   },
   {
    "duration": -7000,
    "start_time": "2022-03-10T04:18:22.052Z"
   },
   {
    "duration": -7008,
    "start_time": "2022-03-10T04:18:22.061Z"
   },
   {
    "duration": -7015,
    "start_time": "2022-03-10T04:18:22.069Z"
   },
   {
    "duration": -7021,
    "start_time": "2022-03-10T04:18:22.077Z"
   },
   {
    "duration": -7030,
    "start_time": "2022-03-10T04:18:22.087Z"
   },
   {
    "duration": -7038,
    "start_time": "2022-03-10T04:18:22.096Z"
   },
   {
    "duration": -7045,
    "start_time": "2022-03-10T04:18:22.104Z"
   },
   {
    "duration": -7052,
    "start_time": "2022-03-10T04:18:22.112Z"
   },
   {
    "duration": -7060,
    "start_time": "2022-03-10T04:18:22.121Z"
   },
   {
    "duration": -7067,
    "start_time": "2022-03-10T04:18:22.129Z"
   },
   {
    "duration": -7085,
    "start_time": "2022-03-10T04:18:22.148Z"
   },
   {
    "duration": -7092,
    "start_time": "2022-03-10T04:18:22.156Z"
   },
   {
    "duration": -7100,
    "start_time": "2022-03-10T04:18:22.165Z"
   },
   {
    "duration": -7107,
    "start_time": "2022-03-10T04:18:22.173Z"
   },
   {
    "duration": -7115,
    "start_time": "2022-03-10T04:18:22.182Z"
   },
   {
    "duration": -7121,
    "start_time": "2022-03-10T04:18:22.189Z"
   },
   {
    "duration": -7129,
    "start_time": "2022-03-10T04:18:22.198Z"
   },
   {
    "duration": -7135,
    "start_time": "2022-03-10T04:18:22.205Z"
   },
   {
    "duration": -7143,
    "start_time": "2022-03-10T04:18:22.214Z"
   },
   {
    "duration": -7150,
    "start_time": "2022-03-10T04:18:22.222Z"
   },
   {
    "duration": -7158,
    "start_time": "2022-03-10T04:18:22.231Z"
   },
   {
    "duration": -7164,
    "start_time": "2022-03-10T04:18:22.238Z"
   },
   {
    "duration": -7184,
    "start_time": "2022-03-10T04:18:22.260Z"
   },
   {
    "duration": -7202,
    "start_time": "2022-03-10T04:18:22.279Z"
   },
   {
    "duration": -7214,
    "start_time": "2022-03-10T04:18:22.292Z"
   },
   {
    "duration": -7225,
    "start_time": "2022-03-10T04:18:22.304Z"
   },
   {
    "duration": -7235,
    "start_time": "2022-03-10T04:18:22.315Z"
   },
   {
    "duration": -7243,
    "start_time": "2022-03-10T04:18:22.324Z"
   },
   {
    "duration": -7252,
    "start_time": "2022-03-10T04:18:22.334Z"
   },
   {
    "duration": -7261,
    "start_time": "2022-03-10T04:18:22.344Z"
   },
   {
    "duration": -7270,
    "start_time": "2022-03-10T04:18:22.354Z"
   },
   {
    "duration": -7289,
    "start_time": "2022-03-10T04:18:22.374Z"
   },
   {
    "duration": -7299,
    "start_time": "2022-03-10T04:18:22.385Z"
   },
   {
    "duration": -7308,
    "start_time": "2022-03-10T04:18:22.395Z"
   },
   {
    "duration": -7332,
    "start_time": "2022-03-10T04:18:22.420Z"
   },
   {
    "duration": -7340,
    "start_time": "2022-03-10T04:18:22.429Z"
   },
   {
    "duration": -7347,
    "start_time": "2022-03-10T04:18:22.437Z"
   },
   {
    "duration": -7354,
    "start_time": "2022-03-10T04:18:22.445Z"
   },
   {
    "duration": -7361,
    "start_time": "2022-03-10T04:18:22.453Z"
   },
   {
    "duration": -7368,
    "start_time": "2022-03-10T04:18:22.461Z"
   },
   {
    "duration": -7375,
    "start_time": "2022-03-10T04:18:22.469Z"
   },
   {
    "duration": -7392,
    "start_time": "2022-03-10T04:18:22.487Z"
   },
   {
    "duration": -7401,
    "start_time": "2022-03-10T04:18:22.496Z"
   },
   {
    "duration": -7407,
    "start_time": "2022-03-10T04:18:22.503Z"
   },
   {
    "duration": -7415,
    "start_time": "2022-03-10T04:18:22.512Z"
   },
   {
    "duration": -7421,
    "start_time": "2022-03-10T04:18:22.519Z"
   },
   {
    "duration": 4,
    "start_time": "2022-03-10T04:19:33.433Z"
   },
   {
    "duration": 3509,
    "start_time": "2022-03-10T07:09:49.856Z"
   },
   {
    "duration": 2396,
    "start_time": "2022-03-10T07:10:00.592Z"
   },
   {
    "duration": 1071,
    "start_time": "2022-03-10T07:10:02.990Z"
   },
   {
    "duration": 2,
    "start_time": "2022-03-10T07:10:04.063Z"
   },
   {
    "duration": 376,
    "start_time": "2022-03-10T07:10:04.067Z"
   },
   {
    "duration": 11,
    "start_time": "2022-03-10T07:10:04.445Z"
   },
   {
    "duration": 20,
    "start_time": "2022-03-10T07:10:04.458Z"
   },
   {
    "duration": 8,
    "start_time": "2022-03-10T07:10:04.480Z"
   },
   {
    "duration": 24,
    "start_time": "2022-03-10T07:10:04.491Z"
   },
   {
    "duration": 7,
    "start_time": "2022-03-10T07:10:04.517Z"
   },
   {
    "duration": 23,
    "start_time": "2022-03-10T07:10:04.526Z"
   },
   {
    "duration": 24,
    "start_time": "2022-03-10T07:10:04.550Z"
   },
   {
    "duration": 21,
    "start_time": "2022-03-10T07:10:04.576Z"
   },
   {
    "duration": 35,
    "start_time": "2022-03-10T07:10:04.599Z"
   },
   {
    "duration": 36,
    "start_time": "2022-03-10T07:10:04.636Z"
   },
   {
    "duration": 59,
    "start_time": "2022-03-10T07:10:04.673Z"
   },
   {
    "duration": 8,
    "start_time": "2022-03-10T07:10:04.733Z"
   },
   {
    "duration": 30,
    "start_time": "2022-03-10T07:10:04.742Z"
   },
   {
    "duration": 24,
    "start_time": "2022-03-10T07:10:04.773Z"
   },
   {
    "duration": 4,
    "start_time": "2022-03-10T07:10:04.799Z"
   },
   {
    "duration": 117,
    "start_time": "2022-03-10T07:10:04.804Z"
   },
   {
    "duration": 2,
    "start_time": "2022-03-10T07:10:04.923Z"
   },
   {
    "duration": 262,
    "start_time": "2022-03-10T07:10:04.927Z"
   },
   {
    "duration": 35,
    "start_time": "2022-03-10T07:10:05.193Z"
   },
   {
    "duration": 124,
    "start_time": "2022-03-10T07:10:05.231Z"
   },
   {
    "duration": 9,
    "start_time": "2022-03-10T07:10:05.356Z"
   },
   {
    "duration": 106,
    "start_time": "2022-03-10T07:10:05.366Z"
   },
   {
    "duration": 9,
    "start_time": "2022-03-10T07:10:05.474Z"
   },
   {
    "duration": 6,
    "start_time": "2022-03-10T07:10:05.484Z"
   },
   {
    "duration": 56,
    "start_time": "2022-03-10T07:10:05.491Z"
   },
   {
    "duration": 12,
    "start_time": "2022-03-10T07:10:05.549Z"
   },
   {
    "duration": 5,
    "start_time": "2022-03-10T07:10:05.562Z"
   },
   {
    "duration": 4,
    "start_time": "2022-03-10T07:10:05.568Z"
   },
   {
    "duration": 31,
    "start_time": "2022-03-10T07:10:05.573Z"
   },
   {
    "duration": 14,
    "start_time": "2022-03-10T07:10:05.605Z"
   },
   {
    "duration": 6,
    "start_time": "2022-03-10T07:10:05.620Z"
   },
   {
    "duration": 9,
    "start_time": "2022-03-10T07:10:05.627Z"
   },
   {
    "duration": 79,
    "start_time": "2022-03-10T07:10:05.638Z"
   },
   {
    "duration": 10,
    "start_time": "2022-03-10T07:10:05.719Z"
   },
   {
    "duration": 25,
    "start_time": "2022-03-10T07:10:05.731Z"
   },
   {
    "duration": 27,
    "start_time": "2022-03-10T07:10:05.758Z"
   },
   {
    "duration": 30,
    "start_time": "2022-03-10T07:10:05.787Z"
   },
   {
    "duration": 16,
    "start_time": "2022-03-10T07:10:05.818Z"
   },
   {
    "duration": 74,
    "start_time": "2022-03-10T07:10:05.836Z"
   },
   {
    "duration": 3,
    "start_time": "2022-03-10T07:10:05.912Z"
   },
   {
    "duration": 32,
    "start_time": "2022-03-10T07:10:05.917Z"
   },
   {
    "duration": 37,
    "start_time": "2022-03-10T07:10:05.950Z"
   },
   {
    "duration": 15,
    "start_time": "2022-03-10T07:10:05.988Z"
   },
   {
    "duration": 19,
    "start_time": "2022-03-10T07:10:06.004Z"
   },
   {
    "duration": 18,
    "start_time": "2022-03-10T07:10:06.024Z"
   },
   {
    "duration": 32,
    "start_time": "2022-03-10T07:10:06.043Z"
   },
   {
    "duration": 19,
    "start_time": "2022-03-10T07:10:06.076Z"
   },
   {
    "duration": 14,
    "start_time": "2022-03-10T07:10:06.096Z"
   },
   {
    "duration": 9,
    "start_time": "2022-03-10T07:10:06.111Z"
   },
   {
    "duration": 6,
    "start_time": "2022-03-10T07:10:06.122Z"
   },
   {
    "duration": 66,
    "start_time": "2022-03-10T07:10:06.130Z"
   },
   {
    "duration": 4,
    "start_time": "2022-03-10T07:10:06.198Z"
   },
   {
    "duration": 21,
    "start_time": "2022-03-10T07:10:06.204Z"
   },
   {
    "duration": 10,
    "start_time": "2022-03-10T07:10:06.226Z"
   },
   {
    "duration": 16,
    "start_time": "2022-03-10T07:10:06.238Z"
   },
   {
    "duration": 12,
    "start_time": "2022-03-10T07:10:06.255Z"
   },
   {
    "duration": 17,
    "start_time": "2022-03-10T07:10:06.268Z"
   },
   {
    "duration": 24,
    "start_time": "2022-03-10T07:10:06.286Z"
   },
   {
    "duration": 19,
    "start_time": "2022-03-10T07:10:06.311Z"
   },
   {
    "duration": 18,
    "start_time": "2022-03-10T07:10:06.331Z"
   },
   {
    "duration": 17,
    "start_time": "2022-03-10T07:10:06.350Z"
   },
   {
    "duration": 32,
    "start_time": "2022-03-10T07:10:06.368Z"
   },
   {
    "duration": 29,
    "start_time": "2022-03-10T07:10:06.401Z"
   },
   {
    "duration": 11,
    "start_time": "2022-03-10T07:10:06.435Z"
   },
   {
    "duration": 16,
    "start_time": "2022-03-10T07:10:06.449Z"
   },
   {
    "duration": 18,
    "start_time": "2022-03-10T07:10:06.466Z"
   },
   {
    "duration": 6,
    "start_time": "2022-03-10T07:10:06.485Z"
   },
   {
    "duration": 24,
    "start_time": "2022-03-10T07:10:06.493Z"
   },
   {
    "duration": 27,
    "start_time": "2022-03-10T07:10:06.518Z"
   },
   {
    "duration": 20,
    "start_time": "2022-03-10T07:10:06.546Z"
   },
   {
    "duration": 27,
    "start_time": "2022-03-10T07:10:06.568Z"
   },
   {
    "duration": 24,
    "start_time": "2022-03-10T07:10:06.596Z"
   },
   {
    "duration": 23,
    "start_time": "2022-03-10T07:10:06.621Z"
   },
   {
    "duration": 28,
    "start_time": "2022-03-10T07:10:06.645Z"
   },
   {
    "duration": 19,
    "start_time": "2022-03-10T07:10:06.674Z"
   },
   {
    "duration": 10,
    "start_time": "2022-03-10T07:10:06.694Z"
   },
   {
    "duration": 14,
    "start_time": "2022-03-10T07:10:06.706Z"
   },
   {
    "duration": 40,
    "start_time": "2022-03-10T07:10:06.721Z"
   },
   {
    "duration": 13,
    "start_time": "2022-03-10T07:10:06.763Z"
   },
   {
    "duration": 10,
    "start_time": "2022-03-10T07:10:06.778Z"
   },
   {
    "duration": 25,
    "start_time": "2022-03-10T07:10:06.790Z"
   },
   {
    "duration": 24,
    "start_time": "2022-03-10T07:10:06.817Z"
   },
   {
    "duration": 16,
    "start_time": "2022-03-10T07:10:06.842Z"
   },
   {
    "duration": 14,
    "start_time": "2022-03-10T07:10:06.859Z"
   },
   {
    "duration": 21,
    "start_time": "2022-03-10T07:10:06.875Z"
   },
   {
    "duration": 18,
    "start_time": "2022-03-10T07:10:06.898Z"
   },
   {
    "duration": 11,
    "start_time": "2022-03-10T07:10:06.918Z"
   },
   {
    "duration": 26,
    "start_time": "2022-03-10T07:10:06.930Z"
   },
   {
    "duration": 13,
    "start_time": "2022-03-10T07:10:06.958Z"
   },
   {
    "duration": 31,
    "start_time": "2022-03-10T07:10:06.972Z"
   },
   {
    "duration": 11,
    "start_time": "2022-03-10T07:10:07.005Z"
   },
   {
    "duration": 18,
    "start_time": "2022-03-10T07:10:07.018Z"
   },
   {
    "duration": 35,
    "start_time": "2022-03-10T07:10:07.038Z"
   },
   {
    "duration": 34,
    "start_time": "2022-03-10T07:10:07.074Z"
   },
   {
    "duration": 392,
    "start_time": "2022-03-10T07:10:07.110Z"
   },
   {
    "duration": 380,
    "start_time": "2022-03-10T07:10:07.504Z"
   },
   {
    "duration": 10,
    "start_time": "2022-03-10T07:10:07.885Z"
   },
   {
    "duration": 24,
    "start_time": "2022-03-10T07:10:07.901Z"
   },
   {
    "duration": 30,
    "start_time": "2022-03-10T07:10:07.926Z"
   },
   {
    "duration": 15,
    "start_time": "2022-03-10T07:10:07.957Z"
   },
   {
    "duration": 17,
    "start_time": "2022-03-10T07:10:07.973Z"
   },
   {
    "duration": 20,
    "start_time": "2022-03-10T07:10:07.992Z"
   },
   {
    "duration": 12,
    "start_time": "2022-03-10T07:10:08.014Z"
   },
   {
    "duration": 18,
    "start_time": "2022-03-10T07:10:08.027Z"
   },
   {
    "duration": 12,
    "start_time": "2022-03-10T07:10:08.046Z"
   },
   {
    "duration": 21,
    "start_time": "2022-03-10T07:10:08.059Z"
   },
   {
    "duration": 19,
    "start_time": "2022-03-10T07:10:08.081Z"
   },
   {
    "duration": 6,
    "start_time": "2022-03-10T07:10:08.102Z"
   },
   {
    "duration": 379,
    "start_time": "2022-03-10T07:10:08.109Z"
   },
   {
    "duration": 389,
    "start_time": "2022-03-10T07:10:08.490Z"
   },
   {
    "duration": 8,
    "start_time": "2022-03-10T07:10:08.881Z"
   },
   {
    "duration": 32,
    "start_time": "2022-03-10T07:10:08.890Z"
   },
   {
    "duration": 24,
    "start_time": "2022-03-10T07:10:08.923Z"
   },
   {
    "duration": 7,
    "start_time": "2022-03-10T07:10:08.949Z"
   },
   {
    "duration": 20,
    "start_time": "2022-03-10T07:10:08.957Z"
   },
   {
    "duration": 36,
    "start_time": "2022-03-10T07:10:08.978Z"
   },
   {
    "duration": 18,
    "start_time": "2022-03-10T07:10:09.016Z"
   },
   {
    "duration": 23,
    "start_time": "2022-03-10T07:10:09.035Z"
   },
   {
    "duration": 6,
    "start_time": "2022-03-10T07:10:09.059Z"
   },
   {
    "duration": 29,
    "start_time": "2022-03-10T07:10:09.066Z"
   },
   {
    "duration": 45,
    "start_time": "2022-03-10T07:10:09.096Z"
   },
   {
    "duration": 11,
    "start_time": "2022-03-10T07:10:09.143Z"
   },
   {
    "duration": 426,
    "start_time": "2022-03-10T07:10:09.155Z"
   },
   {
    "duration": 393,
    "start_time": "2022-03-10T07:10:09.583Z"
   },
   {
    "duration": 9,
    "start_time": "2022-03-10T07:10:09.978Z"
   },
   {
    "duration": 32,
    "start_time": "2022-03-10T07:10:09.988Z"
   },
   {
    "duration": 36,
    "start_time": "2022-03-10T07:10:10.022Z"
   },
   {
    "duration": 30,
    "start_time": "2022-03-10T07:10:10.060Z"
   },
   {
    "duration": 1249,
    "start_time": "2022-03-10T07:10:10.091Z"
   },
   {
    "duration": 301,
    "start_time": "2022-03-10T07:10:11.341Z"
   },
   {
    "duration": 3,
    "start_time": "2022-03-10T07:10:11.643Z"
   },
   {
    "duration": 25,
    "start_time": "2022-03-10T07:10:11.647Z"
   },
   {
    "duration": 24,
    "start_time": "2022-03-10T07:10:11.674Z"
   },
   {
    "duration": 28,
    "start_time": "2022-03-10T07:10:11.699Z"
   },
   {
    "duration": 33,
    "start_time": "2022-03-10T07:10:11.729Z"
   },
   {
    "duration": 13,
    "start_time": "2022-03-10T07:10:11.763Z"
   },
   {
    "duration": 21,
    "start_time": "2022-03-10T07:10:11.777Z"
   },
   {
    "duration": 18,
    "start_time": "2022-03-10T07:10:11.800Z"
   },
   {
    "duration": 35,
    "start_time": "2022-03-10T07:10:11.820Z"
   },
   {
    "duration": 15,
    "start_time": "2022-03-10T07:10:11.856Z"
   },
   {
    "duration": 26,
    "start_time": "2022-03-10T07:10:11.873Z"
   },
   {
    "duration": 26,
    "start_time": "2022-03-10T07:10:11.901Z"
   },
   {
    "duration": 794,
    "start_time": "2022-03-10T07:10:11.928Z"
   },
   {
    "duration": 9,
    "start_time": "2022-03-10T07:10:12.723Z"
   },
   {
    "duration": 308,
    "start_time": "2022-03-10T07:10:12.734Z"
   },
   {
    "duration": 2,
    "start_time": "2022-03-10T07:10:13.044Z"
   },
   {
    "duration": 11,
    "start_time": "2022-03-10T07:10:13.048Z"
   },
   {
    "duration": 22,
    "start_time": "2022-03-10T07:10:13.060Z"
   },
   {
    "duration": 17,
    "start_time": "2022-03-10T07:10:13.084Z"
   },
   {
    "duration": 21,
    "start_time": "2022-03-10T07:10:13.102Z"
   },
   {
    "duration": 23,
    "start_time": "2022-03-10T07:10:13.124Z"
   },
   {
    "duration": 1095,
    "start_time": "2022-03-10T07:10:38.695Z"
   },
   {
    "duration": 10,
    "start_time": "2022-03-10T07:10:39.792Z"
   },
   {
    "duration": 367,
    "start_time": "2022-03-10T07:10:39.803Z"
   },
   {
    "duration": 9,
    "start_time": "2022-03-10T07:10:40.172Z"
   },
   {
    "duration": 19,
    "start_time": "2022-03-10T07:10:40.183Z"
   },
   {
    "duration": 7,
    "start_time": "2022-03-10T07:10:40.204Z"
   },
   {
    "duration": 17,
    "start_time": "2022-03-10T07:10:40.213Z"
   },
   {
    "duration": 6,
    "start_time": "2022-03-10T07:10:40.232Z"
   },
   {
    "duration": 13,
    "start_time": "2022-03-10T07:10:40.241Z"
   },
   {
    "duration": 7,
    "start_time": "2022-03-10T07:10:40.256Z"
   },
   {
    "duration": 6,
    "start_time": "2022-03-10T07:10:40.265Z"
   },
   {
    "duration": 32,
    "start_time": "2022-03-10T07:10:40.272Z"
   },
   {
    "duration": 7,
    "start_time": "2022-03-10T07:10:40.306Z"
   },
   {
    "duration": 41,
    "start_time": "2022-03-10T07:10:40.315Z"
   },
   {
    "duration": 7,
    "start_time": "2022-03-10T07:10:40.358Z"
   },
   {
    "duration": 12,
    "start_time": "2022-03-10T07:10:40.366Z"
   },
   {
    "duration": 6,
    "start_time": "2022-03-10T07:10:40.380Z"
   },
   {
    "duration": 4,
    "start_time": "2022-03-10T07:10:40.401Z"
   },
   {
    "duration": 117,
    "start_time": "2022-03-10T07:10:40.406Z"
   },
   {
    "duration": 2,
    "start_time": "2022-03-10T07:10:40.525Z"
   },
   {
    "duration": 323,
    "start_time": "2022-03-10T07:10:40.529Z"
   },
   {
    "duration": 48,
    "start_time": "2022-03-10T07:10:40.854Z"
   },
   {
    "duration": 116,
    "start_time": "2022-03-10T07:10:40.903Z"
   },
   {
    "duration": 10,
    "start_time": "2022-03-10T07:10:41.021Z"
   },
   {
    "duration": 102,
    "start_time": "2022-03-10T07:10:41.032Z"
   },
   {
    "duration": 11,
    "start_time": "2022-03-10T07:10:41.135Z"
   },
   {
    "duration": 4,
    "start_time": "2022-03-10T07:10:41.149Z"
   },
   {
    "duration": 72,
    "start_time": "2022-03-10T07:10:41.155Z"
   },
   {
    "duration": 11,
    "start_time": "2022-03-10T07:10:41.228Z"
   },
   {
    "duration": 3,
    "start_time": "2022-03-10T07:10:41.241Z"
   },
   {
    "duration": 3,
    "start_time": "2022-03-10T07:10:41.246Z"
   },
   {
    "duration": 19,
    "start_time": "2022-03-10T07:10:41.251Z"
   },
   {
    "duration": 40,
    "start_time": "2022-03-10T07:10:41.271Z"
   },
   {
    "duration": 7,
    "start_time": "2022-03-10T07:10:41.313Z"
   },
   {
    "duration": 10,
    "start_time": "2022-03-10T07:10:41.321Z"
   },
   {
    "duration": 79,
    "start_time": "2022-03-10T07:10:41.333Z"
   },
   {
    "duration": 11,
    "start_time": "2022-03-10T07:10:41.413Z"
   },
   {
    "duration": 3,
    "start_time": "2022-03-10T07:10:41.426Z"
   },
   {
    "duration": 14,
    "start_time": "2022-03-10T07:10:41.431Z"
   },
   {
    "duration": 14,
    "start_time": "2022-03-10T07:10:41.447Z"
   },
   {
    "duration": 6,
    "start_time": "2022-03-10T07:10:41.462Z"
   },
   {
    "duration": 87,
    "start_time": "2022-03-10T07:10:41.469Z"
   },
   {
    "duration": 3,
    "start_time": "2022-03-10T07:10:41.557Z"
   },
   {
    "duration": 16,
    "start_time": "2022-03-10T07:10:41.562Z"
   },
   {
    "duration": 25,
    "start_time": "2022-03-10T07:10:41.580Z"
   },
   {
    "duration": 6,
    "start_time": "2022-03-10T07:10:41.607Z"
   },
   {
    "duration": 7,
    "start_time": "2022-03-10T07:10:41.614Z"
   },
   {
    "duration": 6,
    "start_time": "2022-03-10T07:10:41.622Z"
   },
   {
    "duration": 6,
    "start_time": "2022-03-10T07:10:41.629Z"
   },
   {
    "duration": 8,
    "start_time": "2022-03-10T07:10:41.636Z"
   },
   {
    "duration": 8,
    "start_time": "2022-03-10T07:10:41.646Z"
   },
   {
    "duration": 8,
    "start_time": "2022-03-10T07:10:41.656Z"
   },
   {
    "duration": 8,
    "start_time": "2022-03-10T07:10:41.666Z"
   },
   {
    "duration": 78,
    "start_time": "2022-03-10T07:10:41.676Z"
   },
   {
    "duration": 6,
    "start_time": "2022-03-10T07:10:41.755Z"
   },
   {
    "duration": 8,
    "start_time": "2022-03-10T07:10:41.762Z"
   },
   {
    "duration": 6,
    "start_time": "2022-03-10T07:10:41.771Z"
   },
   {
    "duration": 25,
    "start_time": "2022-03-10T07:10:41.779Z"
   },
   {
    "duration": 3,
    "start_time": "2022-03-10T07:10:41.805Z"
   },
   {
    "duration": 11,
    "start_time": "2022-03-10T07:10:41.809Z"
   },
   {
    "duration": 10,
    "start_time": "2022-03-10T07:10:41.822Z"
   },
   {
    "duration": 12,
    "start_time": "2022-03-10T07:10:41.833Z"
   },
   {
    "duration": 17,
    "start_time": "2022-03-10T07:10:41.846Z"
   },
   {
    "duration": 10,
    "start_time": "2022-03-10T07:10:41.864Z"
   },
   {
    "duration": 18,
    "start_time": "2022-03-10T07:10:41.875Z"
   },
   {
    "duration": 6,
    "start_time": "2022-03-10T07:10:41.895Z"
   },
   {
    "duration": 9,
    "start_time": "2022-03-10T07:10:41.903Z"
   },
   {
    "duration": 10,
    "start_time": "2022-03-10T07:10:41.914Z"
   },
   {
    "duration": 15,
    "start_time": "2022-03-10T07:10:41.925Z"
   },
   {
    "duration": 2,
    "start_time": "2022-03-10T07:10:41.942Z"
   },
   {
    "duration": 11,
    "start_time": "2022-03-10T07:10:41.946Z"
   },
   {
    "duration": 15,
    "start_time": "2022-03-10T07:10:41.958Z"
   },
   {
    "duration": 19,
    "start_time": "2022-03-10T07:10:41.974Z"
   },
   {
    "duration": 17,
    "start_time": "2022-03-10T07:10:41.994Z"
   },
   {
    "duration": 15,
    "start_time": "2022-03-10T07:10:42.013Z"
   },
   {
    "duration": 6,
    "start_time": "2022-03-10T07:10:42.029Z"
   },
   {
    "duration": 12,
    "start_time": "2022-03-10T07:10:42.036Z"
   },
   {
    "duration": 16,
    "start_time": "2022-03-10T07:10:42.049Z"
   },
   {
    "duration": 7,
    "start_time": "2022-03-10T07:10:42.066Z"
   },
   {
    "duration": 11,
    "start_time": "2022-03-10T07:10:42.075Z"
   },
   {
    "duration": 16,
    "start_time": "2022-03-10T07:10:42.092Z"
   },
   {
    "duration": 4,
    "start_time": "2022-03-10T07:10:42.111Z"
   },
   {
    "duration": 6,
    "start_time": "2022-03-10T07:10:42.117Z"
   },
   {
    "duration": 14,
    "start_time": "2022-03-10T07:10:42.125Z"
   },
   {
    "duration": 20,
    "start_time": "2022-03-10T07:10:42.140Z"
   },
   {
    "duration": 3,
    "start_time": "2022-03-10T07:10:42.161Z"
   },
   {
    "duration": 10,
    "start_time": "2022-03-10T07:10:42.165Z"
   },
   {
    "duration": 12,
    "start_time": "2022-03-10T07:10:42.176Z"
   },
   {
    "duration": 19,
    "start_time": "2022-03-10T07:10:42.189Z"
   },
   {
    "duration": 7,
    "start_time": "2022-03-10T07:10:42.210Z"
   },
   {
    "duration": 9,
    "start_time": "2022-03-10T07:10:42.218Z"
   },
   {
    "duration": 8,
    "start_time": "2022-03-10T07:10:42.229Z"
   },
   {
    "duration": 14,
    "start_time": "2022-03-10T07:10:42.238Z"
   },
   {
    "duration": 9,
    "start_time": "2022-03-10T07:10:42.253Z"
   },
   {
    "duration": 8,
    "start_time": "2022-03-10T07:10:42.263Z"
   },
   {
    "duration": 11,
    "start_time": "2022-03-10T07:10:42.272Z"
   },
   {
    "duration": 9,
    "start_time": "2022-03-10T07:10:42.284Z"
   },
   {
    "duration": 389,
    "start_time": "2022-03-10T07:10:42.294Z"
   },
   {
    "duration": 379,
    "start_time": "2022-03-10T07:10:42.685Z"
   },
   {
    "duration": 10,
    "start_time": "2022-03-10T07:10:43.065Z"
   },
   {
    "duration": 25,
    "start_time": "2022-03-10T07:10:43.076Z"
   },
   {
    "duration": 2,
    "start_time": "2022-03-10T07:10:43.103Z"
   },
   {
    "duration": 6,
    "start_time": "2022-03-10T07:10:43.106Z"
   },
   {
    "duration": 3,
    "start_time": "2022-03-10T07:10:43.114Z"
   },
   {
    "duration": 15,
    "start_time": "2022-03-10T07:10:43.118Z"
   },
   {
    "duration": 7,
    "start_time": "2022-03-10T07:10:43.134Z"
   },
   {
    "duration": 6,
    "start_time": "2022-03-10T07:10:43.142Z"
   },
   {
    "duration": 11,
    "start_time": "2022-03-10T07:10:43.149Z"
   },
   {
    "duration": 11,
    "start_time": "2022-03-10T07:10:43.161Z"
   },
   {
    "duration": 8,
    "start_time": "2022-03-10T07:10:43.173Z"
   },
   {
    "duration": 18,
    "start_time": "2022-03-10T07:10:43.183Z"
   },
   {
    "duration": 375,
    "start_time": "2022-03-10T07:10:43.203Z"
   },
   {
    "duration": 409,
    "start_time": "2022-03-10T07:10:43.580Z"
   },
   {
    "duration": 12,
    "start_time": "2022-03-10T07:10:43.990Z"
   },
   {
    "duration": 14,
    "start_time": "2022-03-10T07:10:44.003Z"
   },
   {
    "duration": 2,
    "start_time": "2022-03-10T07:10:44.019Z"
   },
   {
    "duration": 7,
    "start_time": "2022-03-10T07:10:44.023Z"
   },
   {
    "duration": 9,
    "start_time": "2022-03-10T07:10:44.031Z"
   },
   {
    "duration": 13,
    "start_time": "2022-03-10T07:10:44.041Z"
   },
   {
    "duration": 6,
    "start_time": "2022-03-10T07:10:44.055Z"
   },
   {
    "duration": 8,
    "start_time": "2022-03-10T07:10:44.063Z"
   },
   {
    "duration": 27,
    "start_time": "2022-03-10T07:10:44.073Z"
   },
   {
    "duration": 9,
    "start_time": "2022-03-10T07:10:44.102Z"
   },
   {
    "duration": 11,
    "start_time": "2022-03-10T07:10:44.112Z"
   },
   {
    "duration": 9,
    "start_time": "2022-03-10T07:10:44.125Z"
   },
   {
    "duration": 433,
    "start_time": "2022-03-10T07:10:44.136Z"
   },
   {
    "duration": 430,
    "start_time": "2022-03-10T07:10:44.570Z"
   },
   {
    "duration": 10,
    "start_time": "2022-03-10T07:10:45.001Z"
   },
   {
    "duration": 11,
    "start_time": "2022-03-10T07:10:45.012Z"
   },
   {
    "duration": 12,
    "start_time": "2022-03-10T07:10:45.024Z"
   },
   {
    "duration": 5,
    "start_time": "2022-03-10T07:10:45.037Z"
   },
   {
    "duration": 1295,
    "start_time": "2022-03-10T07:10:45.044Z"
   },
   {
    "duration": 306,
    "start_time": "2022-03-10T07:10:46.341Z"
   },
   {
    "duration": 2,
    "start_time": "2022-03-10T07:10:46.649Z"
   },
   {
    "duration": 5,
    "start_time": "2022-03-10T07:10:46.653Z"
   },
   {
    "duration": 6,
    "start_time": "2022-03-10T07:10:46.660Z"
   },
   {
    "duration": 4,
    "start_time": "2022-03-10T07:10:46.668Z"
   },
   {
    "duration": 4,
    "start_time": "2022-03-10T07:10:46.674Z"
   },
   {
    "duration": 4,
    "start_time": "2022-03-10T07:10:46.701Z"
   },
   {
    "duration": 4,
    "start_time": "2022-03-10T07:10:46.707Z"
   },
   {
    "duration": 8,
    "start_time": "2022-03-10T07:10:46.712Z"
   },
   {
    "duration": 15,
    "start_time": "2022-03-10T07:10:46.722Z"
   },
   {
    "duration": 5,
    "start_time": "2022-03-10T07:10:46.738Z"
   },
   {
    "duration": 9,
    "start_time": "2022-03-10T07:10:46.745Z"
   },
   {
    "duration": 16,
    "start_time": "2022-03-10T07:10:46.756Z"
   },
   {
    "duration": 878,
    "start_time": "2022-03-10T07:10:46.773Z"
   },
   {
    "duration": 10,
    "start_time": "2022-03-10T07:10:47.652Z"
   },
   {
    "duration": 312,
    "start_time": "2022-03-10T07:10:47.663Z"
   },
   {
    "duration": 2,
    "start_time": "2022-03-10T07:10:47.977Z"
   },
   {
    "duration": 9,
    "start_time": "2022-03-10T07:10:47.980Z"
   },
   {
    "duration": 12,
    "start_time": "2022-03-10T07:10:47.990Z"
   },
   {
    "duration": 4,
    "start_time": "2022-03-10T07:10:48.004Z"
   },
   {
    "duration": 8,
    "start_time": "2022-03-10T07:10:48.009Z"
   },
   {
    "duration": 4,
    "start_time": "2022-03-10T07:10:48.018Z"
   },
   {
    "duration": 2,
    "start_time": "2022-03-10T07:12:41.273Z"
   },
   {
    "duration": 2,
    "start_time": "2022-03-10T07:12:41.285Z"
   },
   {
    "duration": 374,
    "start_time": "2022-03-10T07:12:41.289Z"
   },
   {
    "duration": 7,
    "start_time": "2022-03-10T07:12:41.664Z"
   },
   {
    "duration": 19,
    "start_time": "2022-03-10T07:12:41.673Z"
   },
   {
    "duration": 7,
    "start_time": "2022-03-10T07:12:41.694Z"
   },
   {
    "duration": 16,
    "start_time": "2022-03-10T07:12:41.702Z"
   },
   {
    "duration": 6,
    "start_time": "2022-03-10T07:12:41.720Z"
   },
   {
    "duration": 15,
    "start_time": "2022-03-10T07:12:41.727Z"
   },
   {
    "duration": 6,
    "start_time": "2022-03-10T07:12:41.745Z"
   },
   {
    "duration": 9,
    "start_time": "2022-03-10T07:12:41.753Z"
   },
   {
    "duration": 12,
    "start_time": "2022-03-10T07:12:41.764Z"
   },
   {
    "duration": 28,
    "start_time": "2022-03-10T07:12:41.778Z"
   },
   {
    "duration": 22,
    "start_time": "2022-03-10T07:12:41.807Z"
   },
   {
    "duration": 7,
    "start_time": "2022-03-10T07:12:41.831Z"
   },
   {
    "duration": 11,
    "start_time": "2022-03-10T07:12:41.839Z"
   },
   {
    "duration": 12,
    "start_time": "2022-03-10T07:12:41.852Z"
   },
   {
    "duration": 7,
    "start_time": "2022-03-10T07:12:41.865Z"
   },
   {
    "duration": 138,
    "start_time": "2022-03-10T07:12:41.873Z"
   },
   {
    "duration": 3,
    "start_time": "2022-03-10T07:12:42.012Z"
   },
   {
    "duration": 267,
    "start_time": "2022-03-10T07:12:42.016Z"
   },
   {
    "duration": 43,
    "start_time": "2022-03-10T07:12:42.285Z"
   },
   {
    "duration": 129,
    "start_time": "2022-03-10T07:12:42.330Z"
   },
   {
    "duration": 10,
    "start_time": "2022-03-10T07:12:42.460Z"
   },
   {
    "duration": 111,
    "start_time": "2022-03-10T07:12:42.474Z"
   },
   {
    "duration": 22,
    "start_time": "2022-03-10T07:12:42.587Z"
   },
   {
    "duration": 6,
    "start_time": "2022-03-10T07:12:42.610Z"
   },
   {
    "duration": 53,
    "start_time": "2022-03-10T07:12:42.617Z"
   },
   {
    "duration": 34,
    "start_time": "2022-03-10T07:12:42.671Z"
   },
   {
    "duration": 4,
    "start_time": "2022-03-10T07:12:42.706Z"
   },
   {
    "duration": 4,
    "start_time": "2022-03-10T07:12:42.712Z"
   },
   {
    "duration": 17,
    "start_time": "2022-03-10T07:12:42.717Z"
   },
   {
    "duration": 15,
    "start_time": "2022-03-10T07:12:42.735Z"
   },
   {
    "duration": 7,
    "start_time": "2022-03-10T07:12:42.751Z"
   },
   {
    "duration": 10,
    "start_time": "2022-03-10T07:12:42.759Z"
   },
   {
    "duration": 75,
    "start_time": "2022-03-10T07:12:42.771Z"
   },
   {
    "duration": 10,
    "start_time": "2022-03-10T07:12:42.847Z"
   },
   {
    "duration": 4,
    "start_time": "2022-03-10T07:12:42.859Z"
   },
   {
    "duration": 14,
    "start_time": "2022-03-10T07:12:42.864Z"
   },
   {
    "duration": 30,
    "start_time": "2022-03-10T07:12:42.879Z"
   },
   {
    "duration": 5,
    "start_time": "2022-03-10T07:12:42.911Z"
   },
   {
    "duration": 53,
    "start_time": "2022-03-10T07:12:42.917Z"
   },
   {
    "duration": 3,
    "start_time": "2022-03-10T07:12:42.972Z"
   },
   {
    "duration": 31,
    "start_time": "2022-03-10T07:12:42.977Z"
   },
   {
    "duration": 13,
    "start_time": "2022-03-10T07:12:43.009Z"
   },
   {
    "duration": 7,
    "start_time": "2022-03-10T07:12:43.023Z"
   },
   {
    "duration": 7,
    "start_time": "2022-03-10T07:12:43.031Z"
   },
   {
    "duration": 8,
    "start_time": "2022-03-10T07:12:43.039Z"
   },
   {
    "duration": 9,
    "start_time": "2022-03-10T07:12:43.048Z"
   },
   {
    "duration": 8,
    "start_time": "2022-03-10T07:12:43.058Z"
   },
   {
    "duration": 8,
    "start_time": "2022-03-10T07:12:43.067Z"
   },
   {
    "duration": 9,
    "start_time": "2022-03-10T07:12:43.077Z"
   },
   {
    "duration": 9,
    "start_time": "2022-03-10T07:12:43.087Z"
   },
   {
    "duration": 71,
    "start_time": "2022-03-10T07:12:43.098Z"
   },
   {
    "duration": 4,
    "start_time": "2022-03-10T07:12:43.171Z"
   },
   {
    "duration": 8,
    "start_time": "2022-03-10T07:12:43.177Z"
   },
   {
    "duration": 15,
    "start_time": "2022-03-10T07:12:43.187Z"
   },
   {
    "duration": 7,
    "start_time": "2022-03-10T07:12:43.203Z"
   },
   {
    "duration": 6,
    "start_time": "2022-03-10T07:12:43.211Z"
   },
   {
    "duration": 11,
    "start_time": "2022-03-10T07:12:43.219Z"
   },
   {
    "duration": 10,
    "start_time": "2022-03-10T07:12:43.231Z"
   },
   {
    "duration": 11,
    "start_time": "2022-03-10T07:12:43.243Z"
   },
   {
    "duration": 16,
    "start_time": "2022-03-10T07:12:43.255Z"
   },
   {
    "duration": 6,
    "start_time": "2022-03-10T07:12:43.273Z"
   },
   {
    "duration": 27,
    "start_time": "2022-03-10T07:12:43.280Z"
   },
   {
    "duration": 7,
    "start_time": "2022-03-10T07:12:43.308Z"
   },
   {
    "duration": 8,
    "start_time": "2022-03-10T07:12:43.316Z"
   },
   {
    "duration": 11,
    "start_time": "2022-03-10T07:12:43.325Z"
   },
   {
    "duration": 14,
    "start_time": "2022-03-10T07:12:43.337Z"
   },
   {
    "duration": 2,
    "start_time": "2022-03-10T07:12:43.357Z"
   },
   {
    "duration": 10,
    "start_time": "2022-03-10T07:12:43.362Z"
   },
   {
    "duration": 16,
    "start_time": "2022-03-10T07:12:43.373Z"
   },
   {
    "duration": 25,
    "start_time": "2022-03-10T07:12:43.390Z"
   },
   {
    "duration": 15,
    "start_time": "2022-03-10T07:12:43.417Z"
   },
   {
    "duration": 13,
    "start_time": "2022-03-10T07:12:43.434Z"
   },
   {
    "duration": 13,
    "start_time": "2022-03-10T07:12:43.448Z"
   },
   {
    "duration": 20,
    "start_time": "2022-03-10T07:12:43.463Z"
   },
   {
    "duration": 13,
    "start_time": "2022-03-10T07:12:43.485Z"
   },
   {
    "duration": 5,
    "start_time": "2022-03-10T07:12:43.500Z"
   },
   {
    "duration": 8,
    "start_time": "2022-03-10T07:12:43.507Z"
   },
   {
    "duration": 14,
    "start_time": "2022-03-10T07:12:43.516Z"
   },
   {
    "duration": 4,
    "start_time": "2022-03-10T07:12:43.532Z"
   },
   {
    "duration": 6,
    "start_time": "2022-03-10T07:12:43.537Z"
   },
   {
    "duration": 13,
    "start_time": "2022-03-10T07:12:43.544Z"
   },
   {
    "duration": 15,
    "start_time": "2022-03-10T07:12:43.559Z"
   },
   {
    "duration": 3,
    "start_time": "2022-03-10T07:12:43.576Z"
   },
   {
    "duration": 21,
    "start_time": "2022-03-10T07:12:43.580Z"
   },
   {
    "duration": 3,
    "start_time": "2022-03-10T07:12:43.602Z"
   },
   {
    "duration": 15,
    "start_time": "2022-03-10T07:12:43.607Z"
   },
   {
    "duration": 9,
    "start_time": "2022-03-10T07:12:43.623Z"
   },
   {
    "duration": 12,
    "start_time": "2022-03-10T07:12:43.633Z"
   },
   {
    "duration": 11,
    "start_time": "2022-03-10T07:12:43.647Z"
   },
   {
    "duration": 10,
    "start_time": "2022-03-10T07:12:43.660Z"
   },
   {
    "duration": 9,
    "start_time": "2022-03-10T07:12:43.672Z"
   },
   {
    "duration": 12,
    "start_time": "2022-03-10T07:12:43.682Z"
   },
   {
    "duration": 11,
    "start_time": "2022-03-10T07:12:43.696Z"
   },
   {
    "duration": 8,
    "start_time": "2022-03-10T07:12:43.709Z"
   },
   {
    "duration": 376,
    "start_time": "2022-03-10T07:12:43.719Z"
   },
   {
    "duration": 415,
    "start_time": "2022-03-10T07:12:44.097Z"
   },
   {
    "duration": 10,
    "start_time": "2022-03-10T07:12:44.514Z"
   },
   {
    "duration": 14,
    "start_time": "2022-03-10T07:12:44.526Z"
   },
   {
    "duration": 3,
    "start_time": "2022-03-10T07:12:44.541Z"
   },
   {
    "duration": 6,
    "start_time": "2022-03-10T07:12:44.546Z"
   },
   {
    "duration": 5,
    "start_time": "2022-03-10T07:12:44.553Z"
   },
   {
    "duration": 12,
    "start_time": "2022-03-10T07:12:44.560Z"
   },
   {
    "duration": 32,
    "start_time": "2022-03-10T07:12:44.574Z"
   },
   {
    "duration": 6,
    "start_time": "2022-03-10T07:12:44.608Z"
   },
   {
    "duration": 11,
    "start_time": "2022-03-10T07:12:44.615Z"
   },
   {
    "duration": 12,
    "start_time": "2022-03-10T07:12:44.627Z"
   },
   {
    "duration": 7,
    "start_time": "2022-03-10T07:12:44.640Z"
   },
   {
    "duration": 9,
    "start_time": "2022-03-10T07:12:44.649Z"
   },
   {
    "duration": 468,
    "start_time": "2022-03-10T07:12:44.659Z"
   },
   {
    "duration": 385,
    "start_time": "2022-03-10T07:12:45.129Z"
   },
   {
    "duration": 6,
    "start_time": "2022-03-10T07:12:45.516Z"
   },
   {
    "duration": 12,
    "start_time": "2022-03-10T07:12:45.524Z"
   },
   {
    "duration": 2,
    "start_time": "2022-03-10T07:12:45.537Z"
   },
   {
    "duration": 6,
    "start_time": "2022-03-10T07:12:45.541Z"
   },
   {
    "duration": 5,
    "start_time": "2022-03-10T07:12:45.548Z"
   },
   {
    "duration": 13,
    "start_time": "2022-03-10T07:12:45.554Z"
   },
   {
    "duration": 6,
    "start_time": "2022-03-10T07:12:45.568Z"
   },
   {
    "duration": 5,
    "start_time": "2022-03-10T07:12:45.601Z"
   },
   {
    "duration": 4,
    "start_time": "2022-03-10T07:12:45.607Z"
   },
   {
    "duration": 9,
    "start_time": "2022-03-10T07:12:45.613Z"
   },
   {
    "duration": 15,
    "start_time": "2022-03-10T07:12:45.623Z"
   },
   {
    "duration": 8,
    "start_time": "2022-03-10T07:12:45.639Z"
   },
   {
    "duration": 423,
    "start_time": "2022-03-10T07:12:45.648Z"
   },
   {
    "duration": 395,
    "start_time": "2022-03-10T07:12:46.073Z"
   },
   {
    "duration": 10,
    "start_time": "2022-03-10T07:12:46.469Z"
   },
   {
    "duration": 4,
    "start_time": "2022-03-10T07:12:46.480Z"
   },
   {
    "duration": 18,
    "start_time": "2022-03-10T07:12:46.486Z"
   },
   {
    "duration": 4,
    "start_time": "2022-03-10T07:12:46.506Z"
   },
   {
    "duration": 1192,
    "start_time": "2022-03-10T07:12:46.512Z"
   },
   {
    "duration": 301,
    "start_time": "2022-03-10T07:12:47.705Z"
   },
   {
    "duration": 2,
    "start_time": "2022-03-10T07:12:48.008Z"
   },
   {
    "duration": 5,
    "start_time": "2022-03-10T07:12:48.012Z"
   },
   {
    "duration": 8,
    "start_time": "2022-03-10T07:12:48.018Z"
   },
   {
    "duration": 5,
    "start_time": "2022-03-10T07:12:48.027Z"
   },
   {
    "duration": 4,
    "start_time": "2022-03-10T07:12:48.034Z"
   },
   {
    "duration": 6,
    "start_time": "2022-03-10T07:12:48.040Z"
   },
   {
    "duration": 8,
    "start_time": "2022-03-10T07:12:48.047Z"
   },
   {
    "duration": 9,
    "start_time": "2022-03-10T07:12:48.056Z"
   },
   {
    "duration": 16,
    "start_time": "2022-03-10T07:12:48.066Z"
   },
   {
    "duration": 20,
    "start_time": "2022-03-10T07:12:48.083Z"
   },
   {
    "duration": 6,
    "start_time": "2022-03-10T07:12:48.105Z"
   },
   {
    "duration": 17,
    "start_time": "2022-03-10T07:12:48.112Z"
   },
   {
    "duration": 825,
    "start_time": "2022-03-10T07:12:48.131Z"
   },
   {
    "duration": 9,
    "start_time": "2022-03-10T07:12:48.958Z"
   },
   {
    "duration": 403,
    "start_time": "2022-03-10T07:12:48.968Z"
   },
   {
    "duration": 2,
    "start_time": "2022-03-10T07:12:49.373Z"
   },
   {
    "duration": 4,
    "start_time": "2022-03-10T07:12:49.377Z"
   },
   {
    "duration": 19,
    "start_time": "2022-03-10T07:12:49.383Z"
   },
   {
    "duration": 4,
    "start_time": "2022-03-10T07:12:49.403Z"
   },
   {
    "duration": 6,
    "start_time": "2022-03-10T07:12:49.408Z"
   },
   {
    "duration": 7,
    "start_time": "2022-03-10T07:12:49.415Z"
   },
   {
    "duration": 356,
    "start_time": "2022-03-10T07:33:30.018Z"
   },
   {
    "duration": 3,
    "start_time": "2022-03-10T07:33:48.859Z"
   },
   {
    "duration": 4,
    "start_time": "2022-03-10T07:35:05.279Z"
   },
   {
    "duration": 1069,
    "start_time": "2022-03-10T07:35:28.232Z"
   },
   {
    "duration": 2,
    "start_time": "2022-03-10T07:35:29.303Z"
   },
   {
    "duration": 434,
    "start_time": "2022-03-10T07:35:29.307Z"
   },
   {
    "duration": 9,
    "start_time": "2022-03-10T07:35:29.743Z"
   },
   {
    "duration": 18,
    "start_time": "2022-03-10T07:35:29.754Z"
   },
   {
    "duration": 6,
    "start_time": "2022-03-10T07:35:29.774Z"
   },
   {
    "duration": 17,
    "start_time": "2022-03-10T07:35:29.782Z"
   },
   {
    "duration": 6,
    "start_time": "2022-03-10T07:35:29.801Z"
   },
   {
    "duration": 11,
    "start_time": "2022-03-10T07:35:29.809Z"
   },
   {
    "duration": 7,
    "start_time": "2022-03-10T07:35:29.822Z"
   },
   {
    "duration": 6,
    "start_time": "2022-03-10T07:35:29.830Z"
   },
   {
    "duration": 11,
    "start_time": "2022-03-10T07:35:29.837Z"
   },
   {
    "duration": 10,
    "start_time": "2022-03-10T07:35:29.850Z"
   },
   {
    "duration": 55,
    "start_time": "2022-03-10T07:35:29.861Z"
   },
   {
    "duration": 7,
    "start_time": "2022-03-10T07:35:29.918Z"
   },
   {
    "duration": 8,
    "start_time": "2022-03-10T07:35:29.926Z"
   },
   {
    "duration": 9,
    "start_time": "2022-03-10T07:35:29.936Z"
   },
   {
    "duration": 5,
    "start_time": "2022-03-10T07:35:29.946Z"
   },
   {
    "duration": 130,
    "start_time": "2022-03-10T07:35:29.952Z"
   },
   {
    "duration": 2,
    "start_time": "2022-03-10T07:35:30.084Z"
   },
   {
    "duration": 259,
    "start_time": "2022-03-10T07:35:30.088Z"
   },
   {
    "duration": 39,
    "start_time": "2022-03-10T07:35:30.349Z"
   },
   {
    "duration": 123,
    "start_time": "2022-03-10T07:35:30.400Z"
   },
   {
    "duration": 9,
    "start_time": "2022-03-10T07:35:30.526Z"
   },
   {
    "duration": 105,
    "start_time": "2022-03-10T07:35:30.536Z"
   },
   {
    "duration": 10,
    "start_time": "2022-03-10T07:35:30.642Z"
   },
   {
    "duration": 8,
    "start_time": "2022-03-10T07:35:30.653Z"
   },
   {
    "duration": 72,
    "start_time": "2022-03-10T07:35:30.663Z"
   },
   {
    "duration": 10,
    "start_time": "2022-03-10T07:35:30.736Z"
   },
   {
    "duration": 7,
    "start_time": "2022-03-10T07:35:30.749Z"
   },
   {
    "duration": 7,
    "start_time": "2022-03-10T07:35:30.759Z"
   },
   {
    "duration": 36,
    "start_time": "2022-03-10T07:35:30.768Z"
   },
   {
    "duration": 17,
    "start_time": "2022-03-10T07:35:30.806Z"
   },
   {
    "duration": 10,
    "start_time": "2022-03-10T07:35:30.825Z"
   },
   {
    "duration": 19,
    "start_time": "2022-03-10T07:35:30.837Z"
   },
   {
    "duration": 77,
    "start_time": "2022-03-10T07:35:30.858Z"
   },
   {
    "duration": 10,
    "start_time": "2022-03-10T07:35:30.936Z"
   },
   {
    "duration": 7,
    "start_time": "2022-03-10T07:35:30.947Z"
   },
   {
    "duration": 25,
    "start_time": "2022-03-10T07:35:30.955Z"
   },
   {
    "duration": 26,
    "start_time": "2022-03-10T07:35:30.982Z"
   },
   {
    "duration": 11,
    "start_time": "2022-03-10T07:35:31.010Z"
   },
   {
    "duration": 61,
    "start_time": "2022-03-10T07:35:31.023Z"
   },
   {
    "duration": 3,
    "start_time": "2022-03-10T07:35:31.085Z"
   },
   {
    "duration": 17,
    "start_time": "2022-03-10T07:35:31.089Z"
   },
   {
    "duration": 15,
    "start_time": "2022-03-10T07:35:31.107Z"
   },
   {
    "duration": 8,
    "start_time": "2022-03-10T07:35:31.123Z"
   },
   {
    "duration": 7,
    "start_time": "2022-03-10T07:35:31.132Z"
   },
   {
    "duration": 5,
    "start_time": "2022-03-10T07:35:31.141Z"
   },
   {
    "duration": 6,
    "start_time": "2022-03-10T07:35:31.148Z"
   },
   {
    "duration": 9,
    "start_time": "2022-03-10T07:35:31.155Z"
   },
   {
    "duration": 8,
    "start_time": "2022-03-10T07:35:31.165Z"
   },
   {
    "duration": 29,
    "start_time": "2022-03-10T07:35:31.175Z"
   },
   {
    "duration": 6,
    "start_time": "2022-03-10T07:35:31.207Z"
   },
   {
    "duration": 74,
    "start_time": "2022-03-10T07:35:31.214Z"
   },
   {
    "duration": 13,
    "start_time": "2022-03-10T07:35:31.290Z"
   },
   {
    "duration": 12,
    "start_time": "2022-03-10T07:35:31.304Z"
   },
   {
    "duration": 11,
    "start_time": "2022-03-10T07:35:31.317Z"
   },
   {
    "duration": 9,
    "start_time": "2022-03-10T07:35:31.329Z"
   },
   {
    "duration": 14,
    "start_time": "2022-03-10T07:35:31.340Z"
   },
   {
    "duration": 11,
    "start_time": "2022-03-10T07:35:31.355Z"
   },
   {
    "duration": 10,
    "start_time": "2022-03-10T07:35:31.367Z"
   },
   {
    "duration": 13,
    "start_time": "2022-03-10T07:35:31.379Z"
   },
   {
    "duration": 14,
    "start_time": "2022-03-10T07:35:31.393Z"
   },
   {
    "duration": 10,
    "start_time": "2022-03-10T07:35:31.408Z"
   },
   {
    "duration": 18,
    "start_time": "2022-03-10T07:35:31.419Z"
   },
   {
    "duration": 7,
    "start_time": "2022-03-10T07:35:31.438Z"
   },
   {
    "duration": 11,
    "start_time": "2022-03-10T07:35:31.446Z"
   },
   {
    "duration": 8,
    "start_time": "2022-03-10T07:35:31.463Z"
   },
   {
    "duration": 12,
    "start_time": "2022-03-10T07:35:31.474Z"
   },
   {
    "duration": 2,
    "start_time": "2022-03-10T07:35:31.487Z"
   },
   {
    "duration": 13,
    "start_time": "2022-03-10T07:35:31.490Z"
   },
   {
    "duration": 21,
    "start_time": "2022-03-10T07:35:31.505Z"
   },
   {
    "duration": 15,
    "start_time": "2022-03-10T07:35:31.528Z"
   },
   {
    "duration": 19,
    "start_time": "2022-03-10T07:35:31.545Z"
   },
   {
    "duration": 12,
    "start_time": "2022-03-10T07:35:31.566Z"
   },
   {
    "duration": 7,
    "start_time": "2022-03-10T07:35:31.580Z"
   },
   {
    "duration": 18,
    "start_time": "2022-03-10T07:35:31.588Z"
   },
   {
    "duration": 11,
    "start_time": "2022-03-10T07:35:31.607Z"
   },
   {
    "duration": 14,
    "start_time": "2022-03-10T07:35:31.619Z"
   },
   {
    "duration": 20,
    "start_time": "2022-03-10T07:35:31.634Z"
   },
   {
    "duration": 16,
    "start_time": "2022-03-10T07:35:31.655Z"
   },
   {
    "duration": 12,
    "start_time": "2022-03-10T07:35:31.672Z"
   },
   {
    "duration": 7,
    "start_time": "2022-03-10T07:35:31.685Z"
   },
   {
    "duration": 19,
    "start_time": "2022-03-10T07:35:31.694Z"
   },
   {
    "duration": 16,
    "start_time": "2022-03-10T07:35:31.714Z"
   },
   {
    "duration": 5,
    "start_time": "2022-03-10T07:35:31.731Z"
   },
   {
    "duration": 10,
    "start_time": "2022-03-10T07:35:31.737Z"
   },
   {
    "duration": 10,
    "start_time": "2022-03-10T07:35:31.749Z"
   },
   {
    "duration": 16,
    "start_time": "2022-03-10T07:35:31.760Z"
   },
   {
    "duration": 10,
    "start_time": "2022-03-10T07:35:31.777Z"
   },
   {
    "duration": 13,
    "start_time": "2022-03-10T07:35:31.788Z"
   },
   {
    "duration": 8,
    "start_time": "2022-03-10T07:35:31.802Z"
   },
   {
    "duration": 12,
    "start_time": "2022-03-10T07:35:31.811Z"
   },
   {
    "duration": 9,
    "start_time": "2022-03-10T07:35:31.824Z"
   },
   {
    "duration": 9,
    "start_time": "2022-03-10T07:35:31.835Z"
   },
   {
    "duration": 13,
    "start_time": "2022-03-10T07:35:31.845Z"
   },
   {
    "duration": 429,
    "start_time": "2022-03-10T07:35:31.860Z"
   },
   {
    "duration": 410,
    "start_time": "2022-03-10T07:35:32.291Z"
   },
   {
    "duration": 10,
    "start_time": "2022-03-10T07:35:32.702Z"
   },
   {
    "duration": 14,
    "start_time": "2022-03-10T07:35:32.713Z"
   },
   {
    "duration": 2,
    "start_time": "2022-03-10T07:35:32.728Z"
   },
   {
    "duration": 5,
    "start_time": "2022-03-10T07:35:32.732Z"
   },
   {
    "duration": 5,
    "start_time": "2022-03-10T07:35:32.739Z"
   },
   {
    "duration": 11,
    "start_time": "2022-03-10T07:35:32.745Z"
   },
   {
    "duration": 10,
    "start_time": "2022-03-10T07:35:32.758Z"
   },
   {
    "duration": 7,
    "start_time": "2022-03-10T07:35:32.769Z"
   },
   {
    "duration": 28,
    "start_time": "2022-03-10T07:35:32.778Z"
   },
   {
    "duration": 14,
    "start_time": "2022-03-10T07:35:32.808Z"
   },
   {
    "duration": 8,
    "start_time": "2022-03-10T07:35:32.824Z"
   },
   {
    "duration": 10,
    "start_time": "2022-03-10T07:35:32.833Z"
   },
   {
    "duration": 450,
    "start_time": "2022-03-10T07:35:32.844Z"
   },
   {
    "duration": 513,
    "start_time": "2022-03-10T07:35:33.296Z"
   },
   {
    "duration": 8,
    "start_time": "2022-03-10T07:35:33.811Z"
   },
   {
    "duration": 15,
    "start_time": "2022-03-10T07:35:33.820Z"
   },
   {
    "duration": 3,
    "start_time": "2022-03-10T07:35:33.837Z"
   },
   {
    "duration": 5,
    "start_time": "2022-03-10T07:35:33.842Z"
   },
   {
    "duration": 4,
    "start_time": "2022-03-10T07:35:33.849Z"
   },
   {
    "duration": 11,
    "start_time": "2022-03-10T07:35:33.855Z"
   },
   {
    "duration": 37,
    "start_time": "2022-03-10T07:35:33.868Z"
   },
   {
    "duration": 9,
    "start_time": "2022-03-10T07:35:33.906Z"
   },
   {
    "duration": 6,
    "start_time": "2022-03-10T07:35:33.916Z"
   },
   {
    "duration": 14,
    "start_time": "2022-03-10T07:35:33.923Z"
   },
   {
    "duration": 12,
    "start_time": "2022-03-10T07:35:33.938Z"
   },
   {
    "duration": 9,
    "start_time": "2022-03-10T07:35:33.951Z"
   },
   {
    "duration": 440,
    "start_time": "2022-03-10T07:35:33.961Z"
   },
   {
    "duration": 382,
    "start_time": "2022-03-10T07:35:34.402Z"
   },
   {
    "duration": 10,
    "start_time": "2022-03-10T07:35:34.786Z"
   },
   {
    "duration": 5,
    "start_time": "2022-03-10T07:35:34.801Z"
   },
   {
    "duration": 11,
    "start_time": "2022-03-10T07:35:34.807Z"
   },
   {
    "duration": 6,
    "start_time": "2022-03-10T07:35:34.820Z"
   },
   {
    "duration": 1262,
    "start_time": "2022-03-10T07:35:34.828Z"
   },
   {
    "duration": 315,
    "start_time": "2022-03-10T07:35:36.092Z"
   },
   {
    "duration": 3,
    "start_time": "2022-03-10T07:35:36.409Z"
   },
   {
    "duration": 6,
    "start_time": "2022-03-10T07:35:36.414Z"
   },
   {
    "duration": 6,
    "start_time": "2022-03-10T07:35:36.422Z"
   },
   {
    "duration": 4,
    "start_time": "2022-03-10T07:35:36.430Z"
   },
   {
    "duration": 5,
    "start_time": "2022-03-10T07:35:36.435Z"
   },
   {
    "duration": 14,
    "start_time": "2022-03-10T07:35:36.442Z"
   },
   {
    "duration": 7,
    "start_time": "2022-03-10T07:35:36.458Z"
   },
   {
    "duration": 8,
    "start_time": "2022-03-10T07:35:36.467Z"
   },
   {
    "duration": 29,
    "start_time": "2022-03-10T07:35:36.476Z"
   },
   {
    "duration": 4,
    "start_time": "2022-03-10T07:35:36.507Z"
   },
   {
    "duration": 8,
    "start_time": "2022-03-10T07:35:36.513Z"
   },
   {
    "duration": 14,
    "start_time": "2022-03-10T07:35:36.522Z"
   },
   {
    "duration": 798,
    "start_time": "2022-03-10T07:35:36.538Z"
   },
   {
    "duration": 9,
    "start_time": "2022-03-10T07:35:37.338Z"
   },
   {
    "duration": 330,
    "start_time": "2022-03-10T07:35:37.349Z"
   },
   {
    "duration": 3,
    "start_time": "2022-03-10T07:35:37.680Z"
   },
   {
    "duration": 17,
    "start_time": "2022-03-10T07:35:37.684Z"
   },
   {
    "duration": 4,
    "start_time": "2022-03-10T07:35:37.703Z"
   },
   {
    "duration": 6,
    "start_time": "2022-03-10T07:35:37.709Z"
   },
   {
    "duration": 7,
    "start_time": "2022-03-10T07:35:37.716Z"
   },
   {
    "duration": 5,
    "start_time": "2022-03-10T07:35:37.724Z"
   },
   {
    "duration": 1155,
    "start_time": "2022-03-11T06:59:30.909Z"
   },
   {
    "duration": 2,
    "start_time": "2022-03-11T06:59:32.066Z"
   },
   {
    "duration": 382,
    "start_time": "2022-03-11T06:59:32.071Z"
   },
   {
    "duration": 14,
    "start_time": "2022-03-11T06:59:32.455Z"
   },
   {
    "duration": 22,
    "start_time": "2022-03-11T06:59:32.470Z"
   },
   {
    "duration": 8,
    "start_time": "2022-03-11T06:59:32.494Z"
   },
   {
    "duration": 19,
    "start_time": "2022-03-11T06:59:32.504Z"
   },
   {
    "duration": 7,
    "start_time": "2022-03-11T06:59:32.526Z"
   },
   {
    "duration": 37,
    "start_time": "2022-03-11T06:59:32.535Z"
   },
   {
    "duration": 8,
    "start_time": "2022-03-11T06:59:32.574Z"
   },
   {
    "duration": 12,
    "start_time": "2022-03-11T06:59:32.583Z"
   },
   {
    "duration": 12,
    "start_time": "2022-03-11T06:59:32.596Z"
   },
   {
    "duration": 13,
    "start_time": "2022-03-11T06:59:32.609Z"
   },
   {
    "duration": 65,
    "start_time": "2022-03-11T06:59:32.623Z"
   },
   {
    "duration": 7,
    "start_time": "2022-03-11T06:59:32.690Z"
   },
   {
    "duration": 17,
    "start_time": "2022-03-11T06:59:32.699Z"
   },
   {
    "duration": 8,
    "start_time": "2022-03-11T06:59:32.718Z"
   },
   {
    "duration": 5,
    "start_time": "2022-03-11T06:59:32.728Z"
   },
   {
    "duration": 150,
    "start_time": "2022-03-11T06:59:32.735Z"
   },
   {
    "duration": 2,
    "start_time": "2022-03-11T06:59:32.887Z"
   },
   {
    "duration": 318,
    "start_time": "2022-03-11T06:59:32.891Z"
   },
   {
    "duration": 49,
    "start_time": "2022-03-11T06:59:33.210Z"
   },
   {
    "duration": 135,
    "start_time": "2022-03-11T06:59:33.262Z"
   },
   {
    "duration": 10,
    "start_time": "2022-03-11T06:59:33.399Z"
   },
   {
    "duration": 113,
    "start_time": "2022-03-11T06:59:33.410Z"
   },
   {
    "duration": 10,
    "start_time": "2022-03-11T06:59:33.525Z"
   },
   {
    "duration": 6,
    "start_time": "2022-03-11T06:59:33.537Z"
   },
   {
    "duration": 58,
    "start_time": "2022-03-11T06:59:33.559Z"
   },
   {
    "duration": 10,
    "start_time": "2022-03-11T06:59:33.618Z"
   },
   {
    "duration": 5,
    "start_time": "2022-03-11T06:59:33.629Z"
   },
   {
    "duration": 24,
    "start_time": "2022-03-11T06:59:33.636Z"
   },
   {
    "duration": 22,
    "start_time": "2022-03-11T06:59:33.662Z"
   },
   {
    "duration": 18,
    "start_time": "2022-03-11T06:59:33.685Z"
   },
   {
    "duration": 6,
    "start_time": "2022-03-11T06:59:33.705Z"
   },
   {
    "duration": 10,
    "start_time": "2022-03-11T06:59:33.713Z"
   },
   {
    "duration": 82,
    "start_time": "2022-03-11T06:59:33.725Z"
   },
   {
    "duration": 10,
    "start_time": "2022-03-11T06:59:33.809Z"
   },
   {
    "duration": 5,
    "start_time": "2022-03-11T06:59:33.821Z"
   },
   {
    "duration": 35,
    "start_time": "2022-03-11T06:59:33.827Z"
   },
   {
    "duration": 18,
    "start_time": "2022-03-11T06:59:33.864Z"
   },
   {
    "duration": 8,
    "start_time": "2022-03-11T06:59:33.883Z"
   },
   {
    "duration": 87,
    "start_time": "2022-03-11T06:59:33.893Z"
   },
   {
    "duration": 27,
    "start_time": "2022-03-11T06:59:47.440Z"
   },
   {
    "duration": 295,
    "start_time": "2022-03-11T07:18:55.144Z"
   },
   {
    "duration": 3,
    "start_time": "2022-03-11T07:19:36.347Z"
   },
   {
    "duration": 3,
    "start_time": "2022-03-11T07:19:36.354Z"
   },
   {
    "duration": 393,
    "start_time": "2022-03-11T07:19:36.361Z"
   },
   {
    "duration": 8,
    "start_time": "2022-03-11T07:19:36.756Z"
   },
   {
    "duration": 23,
    "start_time": "2022-03-11T07:19:36.767Z"
   },
   {
    "duration": 9,
    "start_time": "2022-03-11T07:19:36.792Z"
   },
   {
    "duration": 19,
    "start_time": "2022-03-11T07:19:36.802Z"
   },
   {
    "duration": 38,
    "start_time": "2022-03-11T07:19:36.823Z"
   },
   {
    "duration": 16,
    "start_time": "2022-03-11T07:19:36.863Z"
   },
   {
    "duration": 9,
    "start_time": "2022-03-11T07:19:36.882Z"
   },
   {
    "duration": 6,
    "start_time": "2022-03-11T07:19:36.893Z"
   },
   {
    "duration": 11,
    "start_time": "2022-03-11T07:19:36.901Z"
   },
   {
    "duration": 48,
    "start_time": "2022-03-11T07:19:36.914Z"
   },
   {
    "duration": 22,
    "start_time": "2022-03-11T07:19:36.964Z"
   },
   {
    "duration": 7,
    "start_time": "2022-03-11T07:19:36.988Z"
   },
   {
    "duration": 9,
    "start_time": "2022-03-11T07:19:36.997Z"
   },
   {
    "duration": 7,
    "start_time": "2022-03-11T07:19:37.008Z"
   },
   {
    "duration": 4,
    "start_time": "2022-03-11T07:19:37.016Z"
   },
   {
    "duration": 122,
    "start_time": "2022-03-11T07:19:37.059Z"
   },
   {
    "duration": 3,
    "start_time": "2022-03-11T07:19:37.183Z"
   },
   {
    "duration": 308,
    "start_time": "2022-03-11T07:19:37.187Z"
   },
   {
    "duration": 46,
    "start_time": "2022-03-11T07:19:37.497Z"
   },
   {
    "duration": 142,
    "start_time": "2022-03-11T07:19:37.545Z"
   },
   {
    "duration": 12,
    "start_time": "2022-03-11T07:19:37.689Z"
   },
   {
    "duration": 124,
    "start_time": "2022-03-11T07:19:37.706Z"
   },
   {
    "duration": 10,
    "start_time": "2022-03-11T07:19:37.833Z"
   },
   {
    "duration": 17,
    "start_time": "2022-03-11T07:19:37.845Z"
   },
   {
    "duration": 58,
    "start_time": "2022-03-11T07:19:37.863Z"
   },
   {
    "duration": 11,
    "start_time": "2022-03-11T07:19:37.923Z"
   },
   {
    "duration": 24,
    "start_time": "2022-03-11T07:19:37.936Z"
   },
   {
    "duration": 4,
    "start_time": "2022-03-11T07:19:37.962Z"
   },
   {
    "duration": 28,
    "start_time": "2022-03-11T07:19:37.968Z"
   },
   {
    "duration": 18,
    "start_time": "2022-03-11T07:19:37.998Z"
   },
   {
    "duration": 7,
    "start_time": "2022-03-11T07:19:38.018Z"
   },
   {
    "duration": 33,
    "start_time": "2022-03-11T07:19:38.027Z"
   },
   {
    "duration": 64,
    "start_time": "2022-03-11T07:19:38.062Z"
   },
   {
    "duration": 31,
    "start_time": "2022-03-11T07:19:38.127Z"
   },
   {
    "duration": 4,
    "start_time": "2022-03-11T07:19:38.160Z"
   },
   {
    "duration": 20,
    "start_time": "2022-03-11T07:19:38.166Z"
   },
   {
    "duration": 17,
    "start_time": "2022-03-11T07:19:38.188Z"
   },
   {
    "duration": 14,
    "start_time": "2022-03-11T07:19:38.207Z"
   },
   {
    "duration": 83,
    "start_time": "2022-03-11T07:19:38.222Z"
   },
   {
    "duration": 4,
    "start_time": "2022-03-11T07:19:38.306Z"
   },
   {
    "duration": 18,
    "start_time": "2022-03-11T07:19:38.312Z"
   },
   {
    "duration": 34,
    "start_time": "2022-03-11T07:19:38.332Z"
   },
   {
    "duration": 8,
    "start_time": "2022-03-11T07:19:38.368Z"
   },
   {
    "duration": 8,
    "start_time": "2022-03-11T07:19:38.378Z"
   },
   {
    "duration": 5,
    "start_time": "2022-03-11T07:19:38.387Z"
   },
   {
    "duration": 13,
    "start_time": "2022-03-11T07:19:38.394Z"
   },
   {
    "duration": 19,
    "start_time": "2022-03-11T07:19:38.408Z"
   },
   {
    "duration": 10,
    "start_time": "2022-03-11T07:19:38.429Z"
   },
   {
    "duration": 7,
    "start_time": "2022-03-11T07:19:38.441Z"
   },
   {
    "duration": 6,
    "start_time": "2022-03-11T07:19:38.450Z"
   },
   {
    "duration": 75,
    "start_time": "2022-03-11T07:19:38.459Z"
   },
   {
    "duration": 5,
    "start_time": "2022-03-11T07:19:38.535Z"
   },
   {
    "duration": 17,
    "start_time": "2022-03-11T07:19:38.542Z"
   },
   {
    "duration": 9,
    "start_time": "2022-03-11T07:19:38.560Z"
   },
   {
    "duration": 6,
    "start_time": "2022-03-11T07:19:38.570Z"
   },
   {
    "duration": 2,
    "start_time": "2022-03-11T07:19:38.578Z"
   },
   {
    "duration": 22,
    "start_time": "2022-03-11T07:19:38.582Z"
   },
   {
    "duration": 8,
    "start_time": "2022-03-11T07:19:38.606Z"
   },
   {
    "duration": 11,
    "start_time": "2022-03-11T07:19:38.615Z"
   },
   {
    "duration": 19,
    "start_time": "2022-03-11T07:19:38.627Z"
   },
   {
    "duration": 14,
    "start_time": "2022-03-11T07:19:38.648Z"
   },
   {
    "duration": 18,
    "start_time": "2022-03-11T07:19:38.664Z"
   },
   {
    "duration": 7,
    "start_time": "2022-03-11T07:19:38.683Z"
   },
   {
    "duration": 9,
    "start_time": "2022-03-11T07:19:38.692Z"
   },
   {
    "duration": 8,
    "start_time": "2022-03-11T07:19:38.702Z"
   },
   {
    "duration": 13,
    "start_time": "2022-03-11T07:19:38.711Z"
   },
   {
    "duration": 32,
    "start_time": "2022-03-11T07:19:38.729Z"
   },
   {
    "duration": 5,
    "start_time": "2022-03-11T07:19:38.763Z"
   },
   {
    "duration": 17,
    "start_time": "2022-03-11T07:19:38.770Z"
   },
   {
    "duration": 17,
    "start_time": "2022-03-11T07:19:38.789Z"
   },
   {
    "duration": 17,
    "start_time": "2022-03-11T07:19:38.807Z"
   },
   {
    "duration": 36,
    "start_time": "2022-03-11T07:19:38.825Z"
   },
   {
    "duration": 5,
    "start_time": "2022-03-11T07:19:38.862Z"
   },
   {
    "duration": 9,
    "start_time": "2022-03-11T07:19:38.868Z"
   },
   {
    "duration": 10,
    "start_time": "2022-03-11T07:19:38.879Z"
   },
   {
    "duration": 4,
    "start_time": "2022-03-11T07:19:38.890Z"
   },
   {
    "duration": 6,
    "start_time": "2022-03-11T07:19:38.895Z"
   },
   {
    "duration": 11,
    "start_time": "2022-03-11T07:19:38.903Z"
   },
   {
    "duration": 44,
    "start_time": "2022-03-11T07:19:38.916Z"
   },
   {
    "duration": 4,
    "start_time": "2022-03-11T07:19:38.962Z"
   },
   {
    "duration": 12,
    "start_time": "2022-03-11T07:19:38.967Z"
   },
   {
    "duration": 13,
    "start_time": "2022-03-11T07:19:38.981Z"
   },
   {
    "duration": 17,
    "start_time": "2022-03-11T07:19:38.996Z"
   },
   {
    "duration": 26,
    "start_time": "2022-03-11T07:19:39.015Z"
   },
   {
    "duration": 32,
    "start_time": "2022-03-11T07:19:39.043Z"
   },
   {
    "duration": 42,
    "start_time": "2022-03-11T07:19:39.077Z"
   },
   {
    "duration": 22,
    "start_time": "2022-03-11T07:19:39.121Z"
   },
   {
    "duration": 40,
    "start_time": "2022-03-11T07:19:39.144Z"
   },
   {
    "duration": 22,
    "start_time": "2022-03-11T07:19:39.186Z"
   },
   {
    "duration": 22,
    "start_time": "2022-03-11T07:19:39.209Z"
   },
   {
    "duration": 4847,
    "start_time": "2022-03-11T07:19:48.058Z"
   },
   {
    "duration": 4,
    "start_time": "2022-03-11T07:20:09.150Z"
   },
   {
    "duration": 5,
    "start_time": "2022-03-11T07:20:11.974Z"
   },
   {
    "duration": 1974,
    "start_time": "2022-03-11T09:17:31.046Z"
   },
   {
    "duration": 4,
    "start_time": "2022-03-11T09:17:33.024Z"
   },
   {
    "duration": 490,
    "start_time": "2022-03-11T09:17:33.030Z"
   },
   {
    "duration": 16,
    "start_time": "2022-03-11T09:17:33.522Z"
   },
   {
    "duration": 43,
    "start_time": "2022-03-11T09:17:33.540Z"
   },
   {
    "duration": 11,
    "start_time": "2022-03-11T09:17:33.585Z"
   },
   {
    "duration": 37,
    "start_time": "2022-03-11T09:17:33.598Z"
   },
   {
    "duration": 17,
    "start_time": "2022-03-11T09:17:33.638Z"
   },
   {
    "duration": 37,
    "start_time": "2022-03-11T09:17:33.658Z"
   },
   {
    "duration": 15,
    "start_time": "2022-03-11T09:17:33.697Z"
   },
   {
    "duration": 30,
    "start_time": "2022-03-11T09:17:33.714Z"
   },
   {
    "duration": 27,
    "start_time": "2022-03-11T09:17:33.750Z"
   },
   {
    "duration": 18,
    "start_time": "2022-03-11T09:17:33.780Z"
   },
   {
    "duration": 60,
    "start_time": "2022-03-11T09:17:33.800Z"
   },
   {
    "duration": 10,
    "start_time": "2022-03-11T09:17:33.863Z"
   },
   {
    "duration": 21,
    "start_time": "2022-03-11T09:17:33.875Z"
   },
   {
    "duration": 21,
    "start_time": "2022-03-11T09:17:33.898Z"
   },
   {
    "duration": 17,
    "start_time": "2022-03-11T09:17:33.921Z"
   },
   {
    "duration": 179,
    "start_time": "2022-03-11T09:17:33.940Z"
   },
   {
    "duration": 4,
    "start_time": "2022-03-11T09:17:34.121Z"
   },
   {
    "duration": 395,
    "start_time": "2022-03-11T09:17:34.127Z"
   },
   {
    "duration": 83,
    "start_time": "2022-03-11T09:17:34.525Z"
   },
   {
    "duration": 278,
    "start_time": "2022-03-11T09:17:34.619Z"
   },
   {
    "duration": 20,
    "start_time": "2022-03-11T09:17:34.903Z"
   },
   {
    "duration": 222,
    "start_time": "2022-03-11T09:17:34.926Z"
   },
   {
    "duration": 26,
    "start_time": "2022-03-11T09:17:35.152Z"
   },
   {
    "duration": 17,
    "start_time": "2022-03-11T09:17:35.181Z"
   },
   {
    "duration": 102,
    "start_time": "2022-03-11T09:17:35.200Z"
   },
   {
    "duration": 16,
    "start_time": "2022-03-11T09:17:35.304Z"
   },
   {
    "duration": 19,
    "start_time": "2022-03-11T09:17:35.322Z"
   },
   {
    "duration": 4,
    "start_time": "2022-03-11T09:17:35.351Z"
   },
   {
    "duration": 32,
    "start_time": "2022-03-11T09:17:35.358Z"
   },
   {
    "duration": 26,
    "start_time": "2022-03-11T09:17:35.392Z"
   },
   {
    "duration": 34,
    "start_time": "2022-03-11T09:17:35.420Z"
   },
   {
    "duration": 24,
    "start_time": "2022-03-11T09:17:35.456Z"
   },
   {
    "duration": 99,
    "start_time": "2022-03-11T09:17:35.483Z"
   },
   {
    "duration": 17,
    "start_time": "2022-03-11T09:17:35.584Z"
   },
   {
    "duration": 17,
    "start_time": "2022-03-11T09:17:35.604Z"
   },
   {
    "duration": 39,
    "start_time": "2022-03-11T09:17:35.624Z"
   },
   {
    "duration": 26,
    "start_time": "2022-03-11T09:17:35.665Z"
   },
   {
    "duration": 22,
    "start_time": "2022-03-11T09:17:35.694Z"
   },
   {
    "duration": 109,
    "start_time": "2022-03-11T09:17:35.718Z"
   },
   {
    "duration": 4,
    "start_time": "2022-03-11T09:17:35.830Z"
   },
   {
    "duration": 36,
    "start_time": "2022-03-11T09:17:35.836Z"
   },
   {
    "duration": 39,
    "start_time": "2022-03-11T09:17:35.874Z"
   },
   {
    "duration": 26,
    "start_time": "2022-03-11T09:17:35.915Z"
   },
   {
    "duration": 24,
    "start_time": "2022-03-11T09:17:35.943Z"
   },
   {
    "duration": 7,
    "start_time": "2022-03-11T09:17:35.969Z"
   },
   {
    "duration": 11,
    "start_time": "2022-03-11T09:17:35.978Z"
   },
   {
    "duration": 59,
    "start_time": "2022-03-11T09:17:35.992Z"
   },
   {
    "duration": 7,
    "start_time": "2022-03-11T09:17:36.054Z"
   },
   {
    "duration": 19,
    "start_time": "2022-03-11T09:17:36.064Z"
   },
   {
    "duration": 17,
    "start_time": "2022-03-11T09:17:36.085Z"
   },
   {
    "duration": 269,
    "start_time": "2022-03-11T09:17:36.104Z"
   },
   {
    "duration": 8,
    "start_time": "2022-03-11T09:17:36.375Z"
   },
   {
    "duration": 68,
    "start_time": "2022-03-11T09:17:36.386Z"
   },
   {
    "duration": 16,
    "start_time": "2022-03-11T09:17:36.457Z"
   },
   {
    "duration": 15,
    "start_time": "2022-03-11T09:17:36.476Z"
   },
   {
    "duration": 57,
    "start_time": "2022-03-11T09:17:36.494Z"
   },
   {
    "duration": 15,
    "start_time": "2022-03-11T09:17:36.554Z"
   },
   {
    "duration": 21,
    "start_time": "2022-03-11T09:17:36.571Z"
   },
   {
    "duration": 64,
    "start_time": "2022-03-11T09:17:36.595Z"
   },
   {
    "duration": 39,
    "start_time": "2022-03-11T09:17:36.662Z"
   },
   {
    "duration": 57,
    "start_time": "2022-03-11T09:17:36.703Z"
   },
   {
    "duration": 92,
    "start_time": "2022-03-11T09:17:36.763Z"
   },
   {
    "duration": 11,
    "start_time": "2022-03-11T09:17:36.857Z"
   },
   {
    "duration": 30,
    "start_time": "2022-03-11T09:17:36.871Z"
   },
   {
    "duration": 48,
    "start_time": "2022-03-11T09:17:36.913Z"
   },
   {
    "duration": 30,
    "start_time": "2022-03-11T09:17:36.967Z"
   },
   {
    "duration": 4,
    "start_time": "2022-03-11T09:17:37.001Z"
   },
   {
    "duration": 22,
    "start_time": "2022-03-11T09:17:37.008Z"
   },
   {
    "duration": 40,
    "start_time": "2022-03-11T09:17:37.033Z"
   },
   {
    "duration": 40,
    "start_time": "2022-03-11T09:17:37.076Z"
   },
   {
    "duration": 44,
    "start_time": "2022-03-11T09:17:37.118Z"
   },
   {
    "duration": 26,
    "start_time": "2022-03-11T09:17:37.164Z"
   },
   {
    "duration": 18,
    "start_time": "2022-03-11T09:17:37.192Z"
   },
   {
    "duration": 21,
    "start_time": "2022-03-11T09:17:37.212Z"
   },
   {
    "duration": 24,
    "start_time": "2022-03-11T09:17:37.236Z"
   },
   {
    "duration": 29,
    "start_time": "2022-03-11T09:17:37.262Z"
   },
   {
    "duration": 14,
    "start_time": "2022-03-11T09:17:37.293Z"
   },
   {
    "duration": 35,
    "start_time": "2022-03-11T09:17:37.309Z"
   },
   {
    "duration": 22,
    "start_time": "2022-03-11T09:17:37.346Z"
   },
   {
    "duration": 10,
    "start_time": "2022-03-11T09:17:37.370Z"
   },
   {
    "duration": 29,
    "start_time": "2022-03-11T09:17:37.382Z"
   },
   {
    "duration": 25,
    "start_time": "2022-03-11T09:17:37.414Z"
   },
   {
    "duration": 14,
    "start_time": "2022-03-11T09:17:37.441Z"
   },
   {
    "duration": 15,
    "start_time": "2022-03-11T09:17:37.457Z"
   },
   {
    "duration": 8,
    "start_time": "2022-03-11T09:17:37.474Z"
   },
   {
    "duration": 24,
    "start_time": "2022-03-11T09:17:37.485Z"
   },
   {
    "duration": 19,
    "start_time": "2022-03-11T09:17:37.511Z"
   },
   {
    "duration": 25,
    "start_time": "2022-03-11T09:17:37.533Z"
   },
   {
    "duration": 12,
    "start_time": "2022-03-11T09:17:37.560Z"
   },
   {
    "duration": 12,
    "start_time": "2022-03-11T09:17:37.574Z"
   },
   {
    "duration": 7,
    "start_time": "2022-03-11T09:17:37.589Z"
   },
   {
    "duration": 21,
    "start_time": "2022-03-11T09:17:37.599Z"
   },
   {
    "duration": 30,
    "start_time": "2022-03-11T09:17:37.623Z"
   },
   {
    "duration": 669,
    "start_time": "2022-03-11T09:17:37.656Z"
   },
   {
    "duration": -4977,
    "start_time": "2022-03-11T09:17:43.305Z"
   },
   {
    "duration": -4987,
    "start_time": "2022-03-11T09:17:43.316Z"
   },
   {
    "duration": -5071,
    "start_time": "2022-03-11T09:17:43.402Z"
   },
   {
    "duration": -5079,
    "start_time": "2022-03-11T09:17:43.411Z"
   },
   {
    "duration": -5089,
    "start_time": "2022-03-11T09:17:43.423Z"
   },
   {
    "duration": -5098,
    "start_time": "2022-03-11T09:17:43.433Z"
   },
   {
    "duration": -5104,
    "start_time": "2022-03-11T09:17:43.441Z"
   },
   {
    "duration": -5109,
    "start_time": "2022-03-11T09:17:43.449Z"
   },
   {
    "duration": -5117,
    "start_time": "2022-03-11T09:17:43.458Z"
   },
   {
    "duration": -5122,
    "start_time": "2022-03-11T09:17:43.465Z"
   },
   {
    "duration": -5128,
    "start_time": "2022-03-11T09:17:43.473Z"
   },
   {
    "duration": -5135,
    "start_time": "2022-03-11T09:17:43.481Z"
   },
   {
    "duration": -5141,
    "start_time": "2022-03-11T09:17:43.489Z"
   },
   {
    "duration": -5157,
    "start_time": "2022-03-11T09:17:43.506Z"
   },
   {
    "duration": -5164,
    "start_time": "2022-03-11T09:17:43.515Z"
   },
   {
    "duration": -5170,
    "start_time": "2022-03-11T09:17:43.523Z"
   },
   {
    "duration": -5178,
    "start_time": "2022-03-11T09:17:43.532Z"
   },
   {
    "duration": -5186,
    "start_time": "2022-03-11T09:17:43.541Z"
   },
   {
    "duration": -5193,
    "start_time": "2022-03-11T09:17:43.550Z"
   },
   {
    "duration": -5199,
    "start_time": "2022-03-11T09:17:43.558Z"
   },
   {
    "duration": -5205,
    "start_time": "2022-03-11T09:17:43.566Z"
   },
   {
    "duration": -5211,
    "start_time": "2022-03-11T09:17:43.574Z"
   },
   {
    "duration": -5217,
    "start_time": "2022-03-11T09:17:43.582Z"
   },
   {
    "duration": -5221,
    "start_time": "2022-03-11T09:17:43.589Z"
   },
   {
    "duration": -5227,
    "start_time": "2022-03-11T09:17:43.597Z"
   },
   {
    "duration": -5240,
    "start_time": "2022-03-11T09:17:43.613Z"
   },
   {
    "duration": -5246,
    "start_time": "2022-03-11T09:17:43.621Z"
   },
   {
    "duration": -5252,
    "start_time": "2022-03-11T09:17:43.629Z"
   },
   {
    "duration": -5258,
    "start_time": "2022-03-11T09:17:43.637Z"
   },
   {
    "duration": -5265,
    "start_time": "2022-03-11T09:17:43.645Z"
   },
   {
    "duration": -5272,
    "start_time": "2022-03-11T09:17:43.654Z"
   },
   {
    "duration": -5281,
    "start_time": "2022-03-11T09:17:43.664Z"
   },
   {
    "duration": -5289,
    "start_time": "2022-03-11T09:17:43.674Z"
   },
   {
    "duration": -5297,
    "start_time": "2022-03-11T09:17:43.683Z"
   },
   {
    "duration": -5305,
    "start_time": "2022-03-11T09:17:43.693Z"
   },
   {
    "duration": -5315,
    "start_time": "2022-03-11T09:17:43.704Z"
   },
   {
    "duration": -5337,
    "start_time": "2022-03-11T09:17:43.727Z"
   },
   {
    "duration": -5344,
    "start_time": "2022-03-11T09:17:43.736Z"
   },
   {
    "duration": -5293,
    "start_time": "2022-03-11T09:17:43.744Z"
   },
   {
    "duration": -5300,
    "start_time": "2022-03-11T09:17:43.752Z"
   },
   {
    "duration": -5306,
    "start_time": "2022-03-11T09:17:43.760Z"
   },
   {
    "duration": -5313,
    "start_time": "2022-03-11T09:17:43.768Z"
   },
   {
    "duration": -5319,
    "start_time": "2022-03-11T09:17:43.775Z"
   },
   {
    "duration": -5325,
    "start_time": "2022-03-11T09:17:43.783Z"
   },
   {
    "duration": -5334,
    "start_time": "2022-03-11T09:17:43.793Z"
   },
   {
    "duration": -5341,
    "start_time": "2022-03-11T09:17:43.802Z"
   },
   {
    "duration": -5348,
    "start_time": "2022-03-11T09:17:43.810Z"
   },
   {
    "duration": -5356,
    "start_time": "2022-03-11T09:17:43.819Z"
   },
   {
    "duration": -5371,
    "start_time": "2022-03-11T09:17:43.836Z"
   },
   {
    "duration": -5377,
    "start_time": "2022-03-11T09:17:43.843Z"
   },
   {
    "duration": -5385,
    "start_time": "2022-03-11T09:17:43.852Z"
   },
   {
    "duration": -5390,
    "start_time": "2022-03-11T09:17:43.859Z"
   },
   {
    "duration": -5398,
    "start_time": "2022-03-11T09:17:43.868Z"
   },
   {
    "duration": -5403,
    "start_time": "2022-03-11T09:17:43.875Z"
   },
   {
    "duration": -5421,
    "start_time": "2022-03-11T09:17:43.894Z"
   },
   {
    "duration": -5428,
    "start_time": "2022-03-11T09:17:43.902Z"
   },
   {
    "duration": 461,
    "start_time": "2022-03-11T09:28:13.186Z"
   },
   {
    "duration": 12,
    "start_time": "2022-03-11T09:28:17.014Z"
   },
   {
    "duration": 505,
    "start_time": "2022-03-11T09:28:29.767Z"
   },
   {
    "duration": 11,
    "start_time": "2022-03-11T09:28:31.776Z"
   },
   {
    "duration": 481,
    "start_time": "2022-03-11T09:28:55.036Z"
   },
   {
    "duration": 12,
    "start_time": "2022-03-11T09:28:55.991Z"
   },
   {
    "duration": 4,
    "start_time": "2022-03-11T09:55:07.023Z"
   },
   {
    "duration": 5,
    "start_time": "2022-03-11T09:55:07.030Z"
   },
   {
    "duration": 558,
    "start_time": "2022-03-11T09:55:07.037Z"
   },
   {
    "duration": 11,
    "start_time": "2022-03-11T09:55:07.598Z"
   },
   {
    "duration": 28,
    "start_time": "2022-03-11T09:55:07.612Z"
   },
   {
    "duration": 11,
    "start_time": "2022-03-11T09:55:07.643Z"
   },
   {
    "duration": 23,
    "start_time": "2022-03-11T09:55:07.657Z"
   },
   {
    "duration": 10,
    "start_time": "2022-03-11T09:55:07.683Z"
   },
   {
    "duration": 22,
    "start_time": "2022-03-11T09:55:07.696Z"
   },
   {
    "duration": 11,
    "start_time": "2022-03-11T09:55:07.754Z"
   },
   {
    "duration": 8,
    "start_time": "2022-03-11T09:55:07.768Z"
   },
   {
    "duration": 15,
    "start_time": "2022-03-11T09:55:07.779Z"
   },
   {
    "duration": 10,
    "start_time": "2022-03-11T09:55:07.796Z"
   },
   {
    "duration": 32,
    "start_time": "2022-03-11T09:55:07.852Z"
   },
   {
    "duration": 11,
    "start_time": "2022-03-11T09:55:07.887Z"
   },
   {
    "duration": 6,
    "start_time": "2022-03-11T09:55:07.900Z"
   },
   {
    "duration": 185,
    "start_time": "2022-03-11T09:55:07.952Z"
   },
   {
    "duration": 13,
    "start_time": "2022-03-11T09:55:08.139Z"
   },
   {
    "duration": 388,
    "start_time": "2022-03-11T09:55:08.155Z"
   },
   {
    "duration": 41,
    "start_time": "2022-03-11T09:55:08.546Z"
   },
   {
    "duration": 203,
    "start_time": "2022-03-11T09:55:08.589Z"
   },
   {
    "duration": 14,
    "start_time": "2022-03-11T09:55:08.794Z"
   },
   {
    "duration": 158,
    "start_time": "2022-03-11T09:55:08.810Z"
   },
   {
    "duration": 17,
    "start_time": "2022-03-11T09:55:08.971Z"
   },
   {
    "duration": 6,
    "start_time": "2022-03-11T09:55:08.994Z"
   },
   {
    "duration": 111,
    "start_time": "2022-03-11T09:55:09.005Z"
   },
   {
    "duration": 32,
    "start_time": "2022-03-11T09:55:09.119Z"
   },
   {
    "duration": 5,
    "start_time": "2022-03-11T09:55:09.153Z"
   },
   {
    "duration": 7,
    "start_time": "2022-03-11T09:55:09.161Z"
   },
   {
    "duration": 28,
    "start_time": "2022-03-11T09:55:09.171Z"
   },
   {
    "duration": 54,
    "start_time": "2022-03-11T09:55:09.202Z"
   },
   {
    "duration": 11,
    "start_time": "2022-03-11T09:55:09.258Z"
   },
   {
    "duration": 16,
    "start_time": "2022-03-11T09:55:09.272Z"
   },
   {
    "duration": 111,
    "start_time": "2022-03-11T09:55:09.291Z"
   },
   {
    "duration": 19,
    "start_time": "2022-03-11T09:55:09.404Z"
   },
   {
    "duration": 26,
    "start_time": "2022-03-11T09:55:09.426Z"
   },
   {
    "duration": 27,
    "start_time": "2022-03-11T09:55:09.454Z"
   },
   {
    "duration": 26,
    "start_time": "2022-03-11T09:55:09.484Z"
   },
   {
    "duration": 39,
    "start_time": "2022-03-11T09:55:09.513Z"
   },
   {
    "duration": 99,
    "start_time": "2022-03-11T09:55:09.555Z"
   },
   {
    "duration": 4,
    "start_time": "2022-03-11T09:55:09.656Z"
   },
   {
    "duration": 25,
    "start_time": "2022-03-11T09:55:09.662Z"
   },
   {
    "duration": 24,
    "start_time": "2022-03-11T09:55:09.689Z"
   },
   {
    "duration": 43,
    "start_time": "2022-03-11T09:55:09.716Z"
   },
   {
    "duration": 13,
    "start_time": "2022-03-11T09:55:09.761Z"
   },
   {
    "duration": 7,
    "start_time": "2022-03-11T09:55:09.777Z"
   },
   {
    "duration": 5,
    "start_time": "2022-03-11T09:55:09.786Z"
   },
   {
    "duration": 6,
    "start_time": "2022-03-11T09:55:09.793Z"
   },
   {
    "duration": 8,
    "start_time": "2022-03-11T09:55:09.801Z"
   },
   {
    "duration": 42,
    "start_time": "2022-03-11T09:55:09.811Z"
   },
   {
    "duration": 17,
    "start_time": "2022-03-11T09:55:09.855Z"
   },
   {
    "duration": 136,
    "start_time": "2022-03-11T09:55:09.874Z"
   },
   {
    "duration": 8,
    "start_time": "2022-03-11T09:55:10.012Z"
   },
   {
    "duration": 29,
    "start_time": "2022-03-11T09:55:10.022Z"
   },
   {
    "duration": 11,
    "start_time": "2022-03-11T09:55:10.053Z"
   },
   {
    "duration": 12,
    "start_time": "2022-03-11T09:55:10.066Z"
   },
   {
    "duration": 4,
    "start_time": "2022-03-11T09:55:10.080Z"
   },
   {
    "duration": 16,
    "start_time": "2022-03-11T09:55:10.086Z"
   },
   {
    "duration": 47,
    "start_time": "2022-03-11T09:55:10.105Z"
   },
   {
    "duration": 10,
    "start_time": "2022-03-11T09:55:10.154Z"
   },
   {
    "duration": 22,
    "start_time": "2022-03-11T09:55:10.166Z"
   },
   {
    "duration": 10,
    "start_time": "2022-03-11T09:55:10.190Z"
   },
   {
    "duration": 52,
    "start_time": "2022-03-11T09:55:10.202Z"
   },
   {
    "duration": 11,
    "start_time": "2022-03-11T09:55:10.257Z"
   },
   {
    "duration": 12,
    "start_time": "2022-03-11T09:55:10.270Z"
   },
   {
    "duration": 13,
    "start_time": "2022-03-11T09:55:10.284Z"
   },
   {
    "duration": 20,
    "start_time": "2022-03-11T09:55:10.299Z"
   },
   {
    "duration": 32,
    "start_time": "2022-03-11T09:55:10.321Z"
   },
   {
    "duration": 9,
    "start_time": "2022-03-11T09:55:10.356Z"
   },
   {
    "duration": 18,
    "start_time": "2022-03-11T09:55:10.376Z"
   },
   {
    "duration": 59,
    "start_time": "2022-03-11T09:55:10.398Z"
   },
   {
    "duration": 28,
    "start_time": "2022-03-11T09:55:10.459Z"
   },
   {
    "duration": 16,
    "start_time": "2022-03-11T09:55:10.489Z"
   },
   {
    "duration": 3,
    "start_time": "2022-03-11T09:55:10.507Z"
   },
   {
    "duration": 41,
    "start_time": "2022-03-11T09:55:10.513Z"
   },
   {
    "duration": 18,
    "start_time": "2022-03-11T09:55:10.556Z"
   },
   {
    "duration": 5,
    "start_time": "2022-03-11T09:55:10.577Z"
   },
   {
    "duration": 10,
    "start_time": "2022-03-11T09:55:10.585Z"
   },
   {
    "duration": 54,
    "start_time": "2022-03-11T09:55:10.598Z"
   },
   {
    "duration": 9,
    "start_time": "2022-03-11T09:55:10.655Z"
   },
   {
    "duration": 7,
    "start_time": "2022-03-11T09:55:10.666Z"
   },
   {
    "duration": 20,
    "start_time": "2022-03-11T09:55:10.675Z"
   },
   {
    "duration": 60,
    "start_time": "2022-03-11T09:55:10.697Z"
   },
   {
    "duration": 7,
    "start_time": "2022-03-11T09:55:10.759Z"
   },
   {
    "duration": 9,
    "start_time": "2022-03-11T09:55:10.769Z"
   },
   {
    "duration": 6,
    "start_time": "2022-03-11T09:55:10.781Z"
   },
   {
    "duration": 17,
    "start_time": "2022-03-11T09:55:10.790Z"
   },
   {
    "duration": 44,
    "start_time": "2022-03-11T09:55:10.809Z"
   },
   {
    "duration": 16,
    "start_time": "2022-03-11T09:55:10.856Z"
   },
   {
    "duration": 13,
    "start_time": "2022-03-11T09:55:10.875Z"
   },
   {
    "duration": 17,
    "start_time": "2022-03-11T09:55:10.891Z"
   },
   {
    "duration": 18,
    "start_time": "2022-03-11T09:55:10.910Z"
   },
   {
    "duration": 23,
    "start_time": "2022-03-11T09:55:10.930Z"
   },
   {
    "duration": 21,
    "start_time": "2022-03-11T09:55:10.955Z"
   },
   {
    "duration": 536,
    "start_time": "2022-03-11T09:55:10.978Z"
   },
   {
    "duration": -5224,
    "start_time": "2022-03-11T09:55:16.740Z"
   },
   {
    "duration": -5255,
    "start_time": "2022-03-11T09:55:16.773Z"
   },
   {
    "duration": -5287,
    "start_time": "2022-03-11T09:55:16.807Z"
   },
   {
    "duration": -5322,
    "start_time": "2022-03-11T09:55:16.844Z"
   },
   {
    "duration": -5353,
    "start_time": "2022-03-11T09:55:16.877Z"
   },
   {
    "duration": -5387,
    "start_time": "2022-03-11T09:55:16.912Z"
   },
   {
    "duration": -5420,
    "start_time": "2022-03-11T09:55:16.946Z"
   },
   {
    "duration": -5457,
    "start_time": "2022-03-11T09:55:16.985Z"
   },
   {
    "duration": -5488,
    "start_time": "2022-03-11T09:55:17.017Z"
   },
   {
    "duration": -5525,
    "start_time": "2022-03-11T09:55:17.055Z"
   },
   {
    "duration": -5555,
    "start_time": "2022-03-11T09:55:17.087Z"
   },
   {
    "duration": -5591,
    "start_time": "2022-03-11T09:55:17.124Z"
   },
   {
    "duration": -5647,
    "start_time": "2022-03-11T09:55:17.181Z"
   },
   {
    "duration": -5687,
    "start_time": "2022-03-11T09:55:17.223Z"
   },
   {
    "duration": -9420,
    "start_time": "2022-03-11T09:55:20.957Z"
   },
   {
    "duration": -9455,
    "start_time": "2022-03-11T09:55:20.993Z"
   },
   {
    "duration": -9497,
    "start_time": "2022-03-11T09:55:21.036Z"
   },
   {
    "duration": -9534,
    "start_time": "2022-03-11T09:55:21.075Z"
   },
   {
    "duration": -9568,
    "start_time": "2022-03-11T09:55:21.110Z"
   },
   {
    "duration": -9593,
    "start_time": "2022-03-11T09:55:21.136Z"
   },
   {
    "duration": -9613,
    "start_time": "2022-03-11T09:55:21.158Z"
   },
   {
    "duration": -9634,
    "start_time": "2022-03-11T09:55:21.180Z"
   },
   {
    "duration": -9654,
    "start_time": "2022-03-11T09:55:21.201Z"
   },
   {
    "duration": -9675,
    "start_time": "2022-03-11T09:55:21.224Z"
   },
   {
    "duration": -9695,
    "start_time": "2022-03-11T09:55:21.245Z"
   },
   {
    "duration": -9717,
    "start_time": "2022-03-11T09:55:21.268Z"
   },
   {
    "duration": -9725,
    "start_time": "2022-03-11T09:55:21.277Z"
   },
   {
    "duration": -9732,
    "start_time": "2022-03-11T09:55:21.286Z"
   },
   {
    "duration": -9739,
    "start_time": "2022-03-11T09:55:21.294Z"
   },
   {
    "duration": -9746,
    "start_time": "2022-03-11T09:55:21.302Z"
   },
   {
    "duration": -9752,
    "start_time": "2022-03-11T09:55:21.310Z"
   },
   {
    "duration": -9759,
    "start_time": "2022-03-11T09:55:21.318Z"
   },
   {
    "duration": -9766,
    "start_time": "2022-03-11T09:55:21.326Z"
   },
   {
    "duration": -9774,
    "start_time": "2022-03-11T09:55:21.335Z"
   },
   {
    "duration": -9780,
    "start_time": "2022-03-11T09:55:21.343Z"
   },
   {
    "duration": -9789,
    "start_time": "2022-03-11T09:55:21.353Z"
   },
   {
    "duration": -9795,
    "start_time": "2022-03-11T09:55:21.361Z"
   },
   {
    "duration": -9815,
    "start_time": "2022-03-11T09:55:21.382Z"
   },
   {
    "duration": -9821,
    "start_time": "2022-03-11T09:55:21.390Z"
   },
   {
    "duration": -9830,
    "start_time": "2022-03-11T09:55:21.400Z"
   },
   {
    "duration": -9837,
    "start_time": "2022-03-11T09:55:21.408Z"
   },
   {
    "duration": -9844,
    "start_time": "2022-03-11T09:55:21.417Z"
   },
   {
    "duration": -9852,
    "start_time": "2022-03-11T09:55:21.427Z"
   },
   {
    "duration": -9890,
    "start_time": "2022-03-11T09:55:21.466Z"
   },
   {
    "duration": -9923,
    "start_time": "2022-03-11T09:55:21.500Z"
   },
   {
    "duration": -9962,
    "start_time": "2022-03-11T09:55:21.540Z"
   },
   {
    "duration": -9994,
    "start_time": "2022-03-11T09:55:21.573Z"
   },
   {
    "duration": -10031,
    "start_time": "2022-03-11T09:55:21.612Z"
   },
   {
    "duration": -10064,
    "start_time": "2022-03-11T09:55:21.646Z"
   },
   {
    "duration": -10103,
    "start_time": "2022-03-11T09:55:21.686Z"
   },
   {
    "duration": -10135,
    "start_time": "2022-03-11T09:55:21.719Z"
   },
   {
    "duration": -10172,
    "start_time": "2022-03-11T09:55:21.757Z"
   },
   {
    "duration": -10207,
    "start_time": "2022-03-11T09:55:21.793Z"
   },
   {
    "duration": -10243,
    "start_time": "2022-03-11T09:55:21.831Z"
   },
   {
    "duration": -10278,
    "start_time": "2022-03-11T09:55:21.867Z"
   },
   {
    "duration": -10317,
    "start_time": "2022-03-11T09:55:21.907Z"
   },
   {
    "duration": 5,
    "start_time": "2022-03-11T09:56:12.872Z"
   },
   {
    "duration": 4253,
    "start_time": "2022-03-11T09:56:48.605Z"
   },
   {
    "duration": 3419,
    "start_time": "2022-03-11T09:57:02.533Z"
   },
   {
    "duration": 4,
    "start_time": "2022-03-11T09:57:05.955Z"
   },
   {
    "duration": 19,
    "start_time": "2022-03-11T09:57:05.962Z"
   },
   {
    "duration": 526,
    "start_time": "2022-03-11T09:57:05.983Z"
   },
   {
    "duration": 13,
    "start_time": "2022-03-11T09:57:06.511Z"
   },
   {
    "duration": 31,
    "start_time": "2022-03-11T09:57:06.526Z"
   },
   {
    "duration": 12,
    "start_time": "2022-03-11T09:57:06.560Z"
   },
   {
    "duration": 22,
    "start_time": "2022-03-11T09:57:06.574Z"
   },
   {
    "duration": 10,
    "start_time": "2022-03-11T09:57:06.600Z"
   },
   {
    "duration": 51,
    "start_time": "2022-03-11T09:57:06.612Z"
   },
   {
    "duration": 12,
    "start_time": "2022-03-11T09:57:06.666Z"
   },
   {
    "duration": 9,
    "start_time": "2022-03-11T09:57:06.680Z"
   },
   {
    "duration": 17,
    "start_time": "2022-03-11T09:57:06.691Z"
   },
   {
    "duration": 44,
    "start_time": "2022-03-11T09:57:06.711Z"
   },
   {
    "duration": 44,
    "start_time": "2022-03-11T09:57:06.759Z"
   },
   {
    "duration": 17,
    "start_time": "2022-03-11T09:57:06.806Z"
   },
   {
    "duration": 28,
    "start_time": "2022-03-11T09:57:06.825Z"
   },
   {
    "duration": 184,
    "start_time": "2022-03-11T09:57:06.855Z"
   },
   {
    "duration": 13,
    "start_time": "2022-03-11T09:57:07.041Z"
   },
   {
    "duration": 406,
    "start_time": "2022-03-11T09:57:07.056Z"
   },
   {
    "duration": 43,
    "start_time": "2022-03-11T09:57:07.464Z"
   },
   {
    "duration": 206,
    "start_time": "2022-03-11T09:57:07.509Z"
   },
   {
    "duration": 14,
    "start_time": "2022-03-11T09:57:07.717Z"
   },
   {
    "duration": 154,
    "start_time": "2022-03-11T09:57:07.733Z"
   },
   {
    "duration": 17,
    "start_time": "2022-03-11T09:57:07.890Z"
   },
   {
    "duration": 9,
    "start_time": "2022-03-11T09:57:07.910Z"
   },
   {
    "duration": 92,
    "start_time": "2022-03-11T09:57:07.961Z"
   },
   {
    "duration": 16,
    "start_time": "2022-03-11T09:57:08.057Z"
   },
   {
    "duration": 14,
    "start_time": "2022-03-11T09:57:08.076Z"
   },
   {
    "duration": 7,
    "start_time": "2022-03-11T09:57:08.093Z"
   },
   {
    "duration": 51,
    "start_time": "2022-03-11T09:57:08.102Z"
   },
   {
    "duration": 26,
    "start_time": "2022-03-11T09:57:08.155Z"
   },
   {
    "duration": 11,
    "start_time": "2022-03-11T09:57:08.183Z"
   },
   {
    "duration": 16,
    "start_time": "2022-03-11T09:57:08.196Z"
   },
   {
    "duration": 116,
    "start_time": "2022-03-11T09:57:08.215Z"
   },
   {
    "duration": 20,
    "start_time": "2022-03-11T09:57:08.333Z"
   },
   {
    "duration": 6,
    "start_time": "2022-03-11T09:57:08.355Z"
   },
   {
    "duration": 28,
    "start_time": "2022-03-11T09:57:08.364Z"
   },
   {
    "duration": 26,
    "start_time": "2022-03-11T09:57:08.394Z"
   },
   {
    "duration": 39,
    "start_time": "2022-03-11T09:57:08.422Z"
   },
   {
    "duration": 110,
    "start_time": "2022-03-11T09:57:08.464Z"
   },
   {
    "duration": 4,
    "start_time": "2022-03-11T09:57:08.577Z"
   },
   {
    "duration": 26,
    "start_time": "2022-03-11T09:57:08.584Z"
   },
   {
    "duration": 50,
    "start_time": "2022-03-11T09:57:08.613Z"
   },
   {
    "duration": 22,
    "start_time": "2022-03-11T09:57:08.665Z"
   },
   {
    "duration": 11,
    "start_time": "2022-03-11T09:57:08.690Z"
   },
   {
    "duration": 7,
    "start_time": "2022-03-11T09:57:08.703Z"
   },
   {
    "duration": 5,
    "start_time": "2022-03-11T09:57:08.712Z"
   },
   {
    "duration": 32,
    "start_time": "2022-03-11T09:57:08.719Z"
   },
   {
    "duration": 4,
    "start_time": "2022-03-11T09:57:08.753Z"
   },
   {
    "duration": 7,
    "start_time": "2022-03-11T09:57:08.760Z"
   },
   {
    "duration": 16,
    "start_time": "2022-03-11T09:57:08.769Z"
   },
   {
    "duration": 147,
    "start_time": "2022-03-11T09:57:08.788Z"
   },
   {
    "duration": 9,
    "start_time": "2022-03-11T09:57:08.937Z"
   },
   {
    "duration": 11,
    "start_time": "2022-03-11T09:57:08.952Z"
   },
   {
    "duration": 11,
    "start_time": "2022-03-11T09:57:08.965Z"
   },
   {
    "duration": 11,
    "start_time": "2022-03-11T09:57:08.978Z"
   },
   {
    "duration": 4,
    "start_time": "2022-03-11T09:57:08.992Z"
   },
   {
    "duration": 52,
    "start_time": "2022-03-11T09:57:08.999Z"
   },
   {
    "duration": 11,
    "start_time": "2022-03-11T09:57:09.054Z"
   },
   {
    "duration": 18,
    "start_time": "2022-03-11T09:57:09.067Z"
   },
   {
    "duration": 17,
    "start_time": "2022-03-11T09:57:09.088Z"
   },
   {
    "duration": 9,
    "start_time": "2022-03-11T09:57:09.108Z"
   },
   {
    "duration": 53,
    "start_time": "2022-03-11T09:57:09.119Z"
   },
   {
    "duration": 9,
    "start_time": "2022-03-11T09:57:09.174Z"
   },
   {
    "duration": 16,
    "start_time": "2022-03-11T09:57:09.186Z"
   },
   {
    "duration": 13,
    "start_time": "2022-03-11T09:57:09.204Z"
   },
   {
    "duration": 41,
    "start_time": "2022-03-11T09:57:09.219Z"
   },
   {
    "duration": 4,
    "start_time": "2022-03-11T09:57:09.263Z"
   },
   {
    "duration": 9,
    "start_time": "2022-03-11T09:57:09.269Z"
   },
   {
    "duration": 31,
    "start_time": "2022-03-11T09:57:09.280Z"
   },
   {
    "duration": 51,
    "start_time": "2022-03-11T09:57:09.313Z"
   },
   {
    "duration": 30,
    "start_time": "2022-03-11T09:57:09.367Z"
   },
   {
    "duration": 17,
    "start_time": "2022-03-11T09:57:09.400Z"
   },
   {
    "duration": 32,
    "start_time": "2022-03-11T09:57:09.420Z"
   },
   {
    "duration": 13,
    "start_time": "2022-03-11T09:57:09.455Z"
   },
   {
    "duration": 16,
    "start_time": "2022-03-11T09:57:09.470Z"
   },
   {
    "duration": 4,
    "start_time": "2022-03-11T09:57:09.488Z"
   },
   {
    "duration": 8,
    "start_time": "2022-03-11T09:57:09.495Z"
   },
   {
    "duration": 50,
    "start_time": "2022-03-11T09:57:09.505Z"
   },
   {
    "duration": 8,
    "start_time": "2022-03-11T09:57:09.566Z"
   },
   {
    "duration": 7,
    "start_time": "2022-03-11T09:57:09.579Z"
   },
   {
    "duration": 20,
    "start_time": "2022-03-11T09:57:09.588Z"
   },
   {
    "duration": 55,
    "start_time": "2022-03-11T09:57:09.610Z"
   },
   {
    "duration": 7,
    "start_time": "2022-03-11T09:57:09.667Z"
   },
   {
    "duration": 9,
    "start_time": "2022-03-11T09:57:09.676Z"
   },
   {
    "duration": 7,
    "start_time": "2022-03-11T09:57:09.687Z"
   },
   {
    "duration": 19,
    "start_time": "2022-03-11T09:57:09.696Z"
   },
   {
    "duration": 35,
    "start_time": "2022-03-11T09:57:09.717Z"
   },
   {
    "duration": 8,
    "start_time": "2022-03-11T09:57:09.755Z"
   },
   {
    "duration": 6,
    "start_time": "2022-03-11T09:57:09.766Z"
   },
   {
    "duration": 12,
    "start_time": "2022-03-11T09:57:09.775Z"
   },
   {
    "duration": 10,
    "start_time": "2022-03-11T09:57:09.790Z"
   },
   {
    "duration": 48,
    "start_time": "2022-03-11T09:57:09.803Z"
   },
   {
    "duration": 7,
    "start_time": "2022-03-11T09:57:09.854Z"
   },
   {
    "duration": 6,
    "start_time": "2022-03-11T09:57:09.864Z"
   },
   {
    "duration": 603,
    "start_time": "2022-03-11T09:57:09.872Z"
   },
   {
    "duration": -7211,
    "start_time": "2022-03-11T09:57:17.688Z"
   },
   {
    "duration": -7238,
    "start_time": "2022-03-11T09:57:17.716Z"
   },
   {
    "duration": -7261,
    "start_time": "2022-03-11T09:57:17.741Z"
   },
   {
    "duration": -7293,
    "start_time": "2022-03-11T09:57:17.774Z"
   },
   {
    "duration": -7315,
    "start_time": "2022-03-11T09:57:17.798Z"
   },
   {
    "duration": -7345,
    "start_time": "2022-03-11T09:57:17.830Z"
   },
   {
    "duration": -7368,
    "start_time": "2022-03-11T09:57:17.855Z"
   },
   {
    "duration": -7390,
    "start_time": "2022-03-11T09:57:17.878Z"
   },
   {
    "duration": -7407,
    "start_time": "2022-03-11T09:57:17.896Z"
   },
   {
    "duration": -7424,
    "start_time": "2022-03-11T09:57:17.915Z"
   },
   {
    "duration": -7440,
    "start_time": "2022-03-11T09:57:17.932Z"
   },
   {
    "duration": -7457,
    "start_time": "2022-03-11T09:57:17.951Z"
   },
   {
    "duration": -7465,
    "start_time": "2022-03-11T09:57:17.960Z"
   },
   {
    "duration": -7473,
    "start_time": "2022-03-11T09:57:17.969Z"
   },
   {
    "duration": -7479,
    "start_time": "2022-03-11T09:57:17.977Z"
   },
   {
    "duration": -7488,
    "start_time": "2022-03-11T09:57:17.987Z"
   },
   {
    "duration": -7494,
    "start_time": "2022-03-11T09:57:17.995Z"
   },
   {
    "duration": -7501,
    "start_time": "2022-03-11T09:57:18.003Z"
   },
   {
    "duration": -7508,
    "start_time": "2022-03-11T09:57:18.012Z"
   },
   {
    "duration": -7526,
    "start_time": "2022-03-11T09:57:18.031Z"
   },
   {
    "duration": -7542,
    "start_time": "2022-03-11T09:57:18.048Z"
   },
   {
    "duration": -7559,
    "start_time": "2022-03-11T09:57:18.066Z"
   },
   {
    "duration": -7574,
    "start_time": "2022-03-11T09:57:18.083Z"
   },
   {
    "duration": -7592,
    "start_time": "2022-03-11T09:57:18.102Z"
   },
   {
    "duration": -7607,
    "start_time": "2022-03-11T09:57:18.119Z"
   },
   {
    "duration": -7616,
    "start_time": "2022-03-11T09:57:18.129Z"
   },
   {
    "duration": -7586,
    "start_time": "2022-03-11T09:57:18.137Z"
   },
   {
    "duration": -7593,
    "start_time": "2022-03-11T09:57:18.146Z"
   },
   {
    "duration": -7598,
    "start_time": "2022-03-11T09:57:18.153Z"
   },
   {
    "duration": -7606,
    "start_time": "2022-03-11T09:57:18.162Z"
   },
   {
    "duration": -7612,
    "start_time": "2022-03-11T09:57:18.170Z"
   },
   {
    "duration": -7620,
    "start_time": "2022-03-11T09:57:18.179Z"
   },
   {
    "duration": -7626,
    "start_time": "2022-03-11T09:57:18.187Z"
   },
   {
    "duration": -7633,
    "start_time": "2022-03-11T09:57:18.195Z"
   },
   {
    "duration": -7639,
    "start_time": "2022-03-11T09:57:18.203Z"
   },
   {
    "duration": -7646,
    "start_time": "2022-03-11T09:57:18.212Z"
   },
   {
    "duration": -7662,
    "start_time": "2022-03-11T09:57:18.230Z"
   },
   {
    "duration": -7670,
    "start_time": "2022-03-11T09:57:18.239Z"
   },
   {
    "duration": -7676,
    "start_time": "2022-03-11T09:57:18.247Z"
   },
   {
    "duration": -7684,
    "start_time": "2022-03-11T09:57:18.256Z"
   },
   {
    "duration": -7690,
    "start_time": "2022-03-11T09:57:18.264Z"
   },
   {
    "duration": -7698,
    "start_time": "2022-03-11T09:57:18.273Z"
   },
   {
    "duration": -7704,
    "start_time": "2022-03-11T09:57:18.280Z"
   },
   {
    "duration": -7711,
    "start_time": "2022-03-11T09:57:18.289Z"
   },
   {
    "duration": -7718,
    "start_time": "2022-03-11T09:57:18.297Z"
   },
   {
    "duration": -7724,
    "start_time": "2022-03-11T09:57:18.305Z"
   },
   {
    "duration": -7731,
    "start_time": "2022-03-11T09:57:18.313Z"
   },
   {
    "duration": -7738,
    "start_time": "2022-03-11T09:57:18.322Z"
   },
   {
    "duration": -7755,
    "start_time": "2022-03-11T09:57:18.341Z"
   },
   {
    "duration": -7763,
    "start_time": "2022-03-11T09:57:18.350Z"
   },
   {
    "duration": -7771,
    "start_time": "2022-03-11T09:57:18.359Z"
   },
   {
    "duration": -7778,
    "start_time": "2022-03-11T09:57:18.368Z"
   },
   {
    "duration": -7725,
    "start_time": "2022-03-11T09:57:18.376Z"
   },
   {
    "duration": -7732,
    "start_time": "2022-03-11T09:57:18.385Z"
   },
   {
    "duration": -7739,
    "start_time": "2022-03-11T09:57:18.393Z"
   },
   {
    "duration": -7746,
    "start_time": "2022-03-11T09:57:18.402Z"
   },
   {
    "duration": 3181,
    "start_time": "2022-03-11T09:57:49.637Z"
   },
   {
    "duration": 5,
    "start_time": "2022-03-11T09:58:16.398Z"
   },
   {
    "duration": 1453,
    "start_time": "2022-03-11T09:58:34.962Z"
   },
   {
    "duration": 8,
    "start_time": "2022-03-11T09:58:36.417Z"
   },
   {
    "duration": 4,
    "start_time": "2022-03-11T09:58:36.428Z"
   },
   {
    "duration": 487,
    "start_time": "2022-03-11T09:58:36.452Z"
   },
   {
    "duration": 13,
    "start_time": "2022-03-11T09:58:36.942Z"
   },
   {
    "duration": 27,
    "start_time": "2022-03-11T09:58:36.958Z"
   },
   {
    "duration": 11,
    "start_time": "2022-03-11T09:58:36.988Z"
   },
   {
    "duration": 48,
    "start_time": "2022-03-11T09:58:37.003Z"
   },
   {
    "duration": 10,
    "start_time": "2022-03-11T09:58:37.055Z"
   },
   {
    "duration": 19,
    "start_time": "2022-03-11T09:58:37.067Z"
   },
   {
    "duration": 11,
    "start_time": "2022-03-11T09:58:37.089Z"
   },
   {
    "duration": 51,
    "start_time": "2022-03-11T09:58:37.103Z"
   },
   {
    "duration": 15,
    "start_time": "2022-03-11T09:58:37.156Z"
   },
   {
    "duration": 11,
    "start_time": "2022-03-11T09:58:37.174Z"
   },
   {
    "duration": 76,
    "start_time": "2022-03-11T09:58:37.188Z"
   },
   {
    "duration": 10,
    "start_time": "2022-03-11T09:58:37.267Z"
   },
   {
    "duration": 7,
    "start_time": "2022-03-11T09:58:37.280Z"
   },
   {
    "duration": 196,
    "start_time": "2022-03-11T09:58:37.289Z"
   },
   {
    "duration": 4,
    "start_time": "2022-03-11T09:58:37.487Z"
   },
   {
    "duration": 438,
    "start_time": "2022-03-11T09:58:37.494Z"
   },
   {
    "duration": 61,
    "start_time": "2022-03-11T09:58:37.935Z"
   },
   {
    "duration": 201,
    "start_time": "2022-03-11T09:58:37.998Z"
   },
   {
    "duration": 14,
    "start_time": "2022-03-11T09:58:38.205Z"
   },
   {
    "duration": 163,
    "start_time": "2022-03-11T09:58:38.223Z"
   },
   {
    "duration": 15,
    "start_time": "2022-03-11T09:58:38.388Z"
   },
   {
    "duration": 8,
    "start_time": "2022-03-11T09:58:38.405Z"
   },
   {
    "duration": 101,
    "start_time": "2022-03-11T09:58:38.415Z"
   },
   {
    "duration": 17,
    "start_time": "2022-03-11T09:58:38.519Z"
   },
   {
    "duration": 15,
    "start_time": "2022-03-11T09:58:38.539Z"
   },
   {
    "duration": 6,
    "start_time": "2022-03-11T09:58:38.556Z"
   },
   {
    "duration": 29,
    "start_time": "2022-03-11T09:58:38.564Z"
   },
   {
    "duration": 56,
    "start_time": "2022-03-11T09:58:38.595Z"
   },
   {
    "duration": 11,
    "start_time": "2022-03-11T09:58:38.653Z"
   },
   {
    "duration": 16,
    "start_time": "2022-03-11T09:58:38.666Z"
   },
   {
    "duration": 102,
    "start_time": "2022-03-11T09:58:38.685Z"
   },
   {
    "duration": 15,
    "start_time": "2022-03-11T09:58:38.789Z"
   },
   {
    "duration": 5,
    "start_time": "2022-03-11T09:58:38.806Z"
   },
   {
    "duration": 46,
    "start_time": "2022-03-11T09:58:38.814Z"
   },
   {
    "duration": 25,
    "start_time": "2022-03-11T09:58:38.862Z"
   },
   {
    "duration": 12,
    "start_time": "2022-03-11T09:58:38.889Z"
   },
   {
    "duration": 115,
    "start_time": "2022-03-11T09:58:38.904Z"
   },
   {
    "duration": 4,
    "start_time": "2022-03-11T09:58:39.022Z"
   },
   {
    "duration": 41,
    "start_time": "2022-03-11T09:58:39.028Z"
   },
   {
    "duration": 33,
    "start_time": "2022-03-11T09:58:39.071Z"
   },
   {
    "duration": 17,
    "start_time": "2022-03-11T09:58:39.106Z"
   },
   {
    "duration": 11,
    "start_time": "2022-03-11T09:58:39.125Z"
   },
   {
    "duration": 13,
    "start_time": "2022-03-11T09:58:39.138Z"
   },
   {
    "duration": 6,
    "start_time": "2022-03-11T09:58:39.153Z"
   },
   {
    "duration": 5,
    "start_time": "2022-03-11T09:58:39.161Z"
   },
   {
    "duration": 17,
    "start_time": "2022-03-11T09:58:39.168Z"
   },
   {
    "duration": 18,
    "start_time": "2022-03-11T09:58:39.188Z"
   },
   {
    "duration": 17,
    "start_time": "2022-03-11T09:58:39.208Z"
   },
   {
    "duration": 141,
    "start_time": "2022-03-11T09:58:39.227Z"
   },
   {
    "duration": 8,
    "start_time": "2022-03-11T09:58:39.371Z"
   },
   {
    "duration": 18,
    "start_time": "2022-03-11T09:58:39.382Z"
   },
   {
    "duration": 26,
    "start_time": "2022-03-11T09:58:39.402Z"
   },
   {
    "duration": 10,
    "start_time": "2022-03-11T09:58:39.431Z"
   },
   {
    "duration": 8,
    "start_time": "2022-03-11T09:58:39.451Z"
   },
   {
    "duration": 19,
    "start_time": "2022-03-11T09:58:39.461Z"
   },
   {
    "duration": 18,
    "start_time": "2022-03-11T09:58:39.482Z"
   },
   {
    "duration": 25,
    "start_time": "2022-03-11T09:58:39.502Z"
   },
   {
    "duration": 29,
    "start_time": "2022-03-11T09:58:39.530Z"
   },
   {
    "duration": 11,
    "start_time": "2022-03-11T09:58:39.562Z"
   },
   {
    "duration": 45,
    "start_time": "2022-03-11T09:58:39.575Z"
   },
   {
    "duration": 15,
    "start_time": "2022-03-11T09:58:39.622Z"
   },
   {
    "duration": 24,
    "start_time": "2022-03-11T09:58:39.639Z"
   },
   {
    "duration": 23,
    "start_time": "2022-03-11T09:58:39.665Z"
   },
   {
    "duration": 20,
    "start_time": "2022-03-11T09:58:39.698Z"
   },
   {
    "duration": 6,
    "start_time": "2022-03-11T09:58:39.722Z"
   },
   {
    "duration": 29,
    "start_time": "2022-03-11T09:58:39.730Z"
   },
   {
    "duration": 23,
    "start_time": "2022-03-11T09:58:39.761Z"
   },
   {
    "duration": 33,
    "start_time": "2022-03-11T09:58:39.787Z"
   },
   {
    "duration": 58,
    "start_time": "2022-03-11T09:58:39.822Z"
   },
   {
    "duration": 28,
    "start_time": "2022-03-11T09:58:39.882Z"
   },
   {
    "duration": 11,
    "start_time": "2022-03-11T09:58:39.912Z"
   },
   {
    "duration": 25,
    "start_time": "2022-03-11T09:58:39.926Z"
   },
   {
    "duration": 18,
    "start_time": "2022-03-11T09:58:39.953Z"
   },
   {
    "duration": 11,
    "start_time": "2022-03-11T09:58:39.974Z"
   },
   {
    "duration": 12,
    "start_time": "2022-03-11T09:58:39.987Z"
   },
   {
    "duration": 28,
    "start_time": "2022-03-11T09:58:40.001Z"
   },
   {
    "duration": 23,
    "start_time": "2022-03-11T09:58:40.032Z"
   },
   {
    "duration": 7,
    "start_time": "2022-03-11T09:58:40.058Z"
   },
   {
    "duration": 21,
    "start_time": "2022-03-11T09:58:40.067Z"
   },
   {
    "duration": 37,
    "start_time": "2022-03-11T09:58:40.091Z"
   },
   {
    "duration": 15,
    "start_time": "2022-03-11T09:58:40.131Z"
   },
   {
    "duration": 6,
    "start_time": "2022-03-11T09:58:40.152Z"
   },
   {
    "duration": 15,
    "start_time": "2022-03-11T09:58:40.161Z"
   },
   {
    "duration": 24,
    "start_time": "2022-03-11T09:58:40.178Z"
   },
   {
    "duration": 16,
    "start_time": "2022-03-11T09:58:40.205Z"
   },
   {
    "duration": 11,
    "start_time": "2022-03-11T09:58:40.223Z"
   },
   {
    "duration": 22,
    "start_time": "2022-03-11T09:58:40.236Z"
   },
   {
    "duration": 14,
    "start_time": "2022-03-11T09:58:40.260Z"
   },
   {
    "duration": 12,
    "start_time": "2022-03-11T09:58:40.277Z"
   },
   {
    "duration": 9,
    "start_time": "2022-03-11T09:58:40.292Z"
   },
   {
    "duration": 31,
    "start_time": "2022-03-11T09:58:40.304Z"
   },
   {
    "duration": 19,
    "start_time": "2022-03-11T09:58:40.337Z"
   },
   {
    "duration": 685,
    "start_time": "2022-03-11T09:58:40.359Z"
   },
   {
    "duration": 739,
    "start_time": "2022-03-11T09:58:41.046Z"
   },
   {
    "duration": 17,
    "start_time": "2022-03-11T09:58:41.787Z"
   },
   {
    "duration": 45,
    "start_time": "2022-03-11T09:58:41.806Z"
   },
   {
    "duration": 5,
    "start_time": "2022-03-11T09:58:41.853Z"
   },
   {
    "duration": 10,
    "start_time": "2022-03-11T09:58:41.860Z"
   },
   {
    "duration": 10,
    "start_time": "2022-03-11T09:58:41.873Z"
   },
   {
    "duration": 21,
    "start_time": "2022-03-11T09:58:41.886Z"
   },
   {
    "duration": 41,
    "start_time": "2022-03-11T09:58:41.910Z"
   },
   {
    "duration": 11,
    "start_time": "2022-03-11T09:58:41.953Z"
   },
   {
    "duration": 6,
    "start_time": "2022-03-11T09:58:41.967Z"
   },
   {
    "duration": 12,
    "start_time": "2022-03-11T09:58:41.976Z"
   },
   {
    "duration": 59,
    "start_time": "2022-03-11T09:58:41.992Z"
   },
   {
    "duration": 6,
    "start_time": "2022-03-11T09:58:42.053Z"
   },
   {
    "duration": 690,
    "start_time": "2022-03-11T09:58:42.062Z"
   },
   {
    "duration": 701,
    "start_time": "2022-03-11T09:58:42.755Z"
   },
   {
    "duration": 12,
    "start_time": "2022-03-11T09:58:43.458Z"
   },
   {
    "duration": 24,
    "start_time": "2022-03-11T09:58:43.472Z"
   },
   {
    "duration": 53,
    "start_time": "2022-03-11T09:58:43.498Z"
   },
   {
    "duration": 10,
    "start_time": "2022-03-11T09:58:43.553Z"
   },
   {
    "duration": 5,
    "start_time": "2022-03-11T09:58:43.566Z"
   },
   {
    "duration": 18,
    "start_time": "2022-03-11T09:58:43.573Z"
   },
   {
    "duration": 64,
    "start_time": "2022-03-11T09:58:43.593Z"
   },
   {
    "duration": 9,
    "start_time": "2022-03-11T09:58:43.660Z"
   },
   {
    "duration": 5,
    "start_time": "2022-03-11T09:58:43.671Z"
   },
   {
    "duration": 13,
    "start_time": "2022-03-11T09:58:43.678Z"
   },
   {
    "duration": 63,
    "start_time": "2022-03-11T09:58:43.693Z"
   },
   {
    "duration": 8,
    "start_time": "2022-03-11T09:58:43.759Z"
   },
   {
    "duration": 902,
    "start_time": "2022-03-11T09:58:43.770Z"
   },
   {
    "duration": 679,
    "start_time": "2022-03-11T09:58:44.675Z"
   },
   {
    "duration": 16,
    "start_time": "2022-03-11T09:58:45.356Z"
   },
   {
    "duration": 8,
    "start_time": "2022-03-11T09:58:45.375Z"
   },
   {
    "duration": 20,
    "start_time": "2022-03-11T09:58:45.385Z"
   },
   {
    "duration": 8,
    "start_time": "2022-03-11T09:58:45.408Z"
   },
   {
    "duration": 2239,
    "start_time": "2022-03-11T09:58:45.451Z"
   },
   {
    "duration": 579,
    "start_time": "2022-03-11T09:58:47.693Z"
   },
   {
    "duration": 4,
    "start_time": "2022-03-11T09:58:48.274Z"
   },
   {
    "duration": 8,
    "start_time": "2022-03-11T09:58:48.280Z"
   },
   {
    "duration": 7,
    "start_time": "2022-03-11T09:58:48.291Z"
   },
   {
    "duration": 9,
    "start_time": "2022-03-11T09:58:48.300Z"
   },
   {
    "duration": 42,
    "start_time": "2022-03-11T09:58:48.311Z"
   },
   {
    "duration": 10,
    "start_time": "2022-03-11T09:58:48.355Z"
   },
   {
    "duration": 6,
    "start_time": "2022-03-11T09:58:48.367Z"
   },
   {
    "duration": 5,
    "start_time": "2022-03-11T09:58:48.375Z"
   },
   {
    "duration": 19,
    "start_time": "2022-03-11T09:58:48.383Z"
   },
   {
    "duration": 9,
    "start_time": "2022-03-11T09:58:48.404Z"
   },
   {
    "duration": 13,
    "start_time": "2022-03-11T09:58:48.452Z"
   },
   {
    "duration": 26,
    "start_time": "2022-03-11T09:58:48.468Z"
   },
   {
    "duration": 1327,
    "start_time": "2022-03-11T09:58:48.497Z"
   },
   {
    "duration": 27,
    "start_time": "2022-03-11T09:58:49.827Z"
   },
   {
    "duration": 539,
    "start_time": "2022-03-11T09:58:49.857Z"
   },
   {
    "duration": 4,
    "start_time": "2022-03-11T09:58:50.398Z"
   },
   {
    "duration": 6,
    "start_time": "2022-03-11T09:58:50.404Z"
   },
   {
    "duration": 6,
    "start_time": "2022-03-11T09:58:50.413Z"
   },
   {
    "duration": 31,
    "start_time": "2022-03-11T09:58:50.422Z"
   },
   {
    "duration": 13,
    "start_time": "2022-03-11T09:58:50.456Z"
   },
   {
    "duration": 8,
    "start_time": "2022-03-11T09:58:50.472Z"
   },
   {
    "duration": 1276,
    "start_time": "2022-03-11T10:03:19.377Z"
   },
   {
    "duration": 6404,
    "start_time": "2022-03-11T10:05:30.488Z"
   },
   {
    "duration": 7071,
    "start_time": "2022-03-11T10:05:54.245Z"
   },
   {
    "duration": 6,
    "start_time": "2022-03-11T10:08:32.647Z"
   },
   {
    "duration": 23,
    "start_time": "2022-03-11T17:23:16.863Z"
   },
   {
    "duration": 4,
    "start_time": "2022-03-12T05:30:01.546Z"
   },
   {
    "duration": 1238,
    "start_time": "2022-03-12T05:30:12.124Z"
   },
   {
    "duration": 3,
    "start_time": "2022-03-12T05:30:13.364Z"
   },
   {
    "duration": 415,
    "start_time": "2022-03-12T05:30:13.370Z"
   },
   {
    "duration": 11,
    "start_time": "2022-03-12T05:30:13.786Z"
   },
   {
    "duration": 22,
    "start_time": "2022-03-12T05:30:13.799Z"
   },
   {
    "duration": 8,
    "start_time": "2022-03-12T05:30:13.822Z"
   },
   {
    "duration": 18,
    "start_time": "2022-03-12T05:30:13.831Z"
   },
   {
    "duration": 11,
    "start_time": "2022-03-12T05:30:13.852Z"
   },
   {
    "duration": 16,
    "start_time": "2022-03-12T05:30:13.864Z"
   },
   {
    "duration": 7,
    "start_time": "2022-03-12T05:30:13.882Z"
   },
   {
    "duration": 6,
    "start_time": "2022-03-12T05:30:13.891Z"
   },
   {
    "duration": 11,
    "start_time": "2022-03-12T05:30:13.898Z"
   },
   {
    "duration": 8,
    "start_time": "2022-03-12T05:30:13.910Z"
   },
   {
    "duration": 75,
    "start_time": "2022-03-12T05:30:13.920Z"
   },
   {
    "duration": 8,
    "start_time": "2022-03-12T05:30:13.996Z"
   },
   {
    "duration": 6,
    "start_time": "2022-03-12T05:30:14.005Z"
   },
   {
    "duration": 134,
    "start_time": "2022-03-12T05:30:14.013Z"
   },
   {
    "duration": 11,
    "start_time": "2022-03-12T05:30:14.149Z"
   },
   {
    "duration": 309,
    "start_time": "2022-03-12T05:30:14.162Z"
   },
   {
    "duration": 46,
    "start_time": "2022-03-12T05:30:14.473Z"
   },
   {
    "duration": 155,
    "start_time": "2022-03-12T05:30:14.521Z"
   },
   {
    "duration": 10,
    "start_time": "2022-03-12T05:30:14.678Z"
   },
   {
    "duration": 131,
    "start_time": "2022-03-12T05:30:14.693Z"
   },
   {
    "duration": 10,
    "start_time": "2022-03-12T05:30:14.826Z"
   },
   {
    "duration": 6,
    "start_time": "2022-03-12T05:30:14.838Z"
   },
   {
    "duration": 66,
    "start_time": "2022-03-12T05:30:14.845Z"
   },
   {
    "duration": 10,
    "start_time": "2022-03-12T05:30:14.912Z"
   },
   {
    "duration": 4,
    "start_time": "2022-03-12T05:30:14.924Z"
   },
   {
    "duration": 4,
    "start_time": "2022-03-12T05:30:14.930Z"
   },
   {
    "duration": 38,
    "start_time": "2022-03-12T05:30:14.935Z"
   },
   {
    "duration": 17,
    "start_time": "2022-03-12T05:30:14.975Z"
   },
   {
    "duration": 7,
    "start_time": "2022-03-12T05:30:14.994Z"
   },
   {
    "duration": 10,
    "start_time": "2022-03-12T05:30:15.003Z"
   },
   {
    "duration": 92,
    "start_time": "2022-03-12T05:30:15.015Z"
   },
   {
    "duration": 10,
    "start_time": "2022-03-12T05:30:15.109Z"
   },
   {
    "duration": 4,
    "start_time": "2022-03-12T05:30:15.121Z"
   },
   {
    "duration": 4,
    "start_time": "2022-03-12T05:30:15.127Z"
   },
   {
    "duration": 36,
    "start_time": "2022-03-12T05:30:15.132Z"
   },
   {
    "duration": 18,
    "start_time": "2022-03-12T05:30:15.169Z"
   },
   {
    "duration": 8,
    "start_time": "2022-03-12T05:30:15.189Z"
   },
   {
    "duration": 86,
    "start_time": "2022-03-12T05:30:15.198Z"
   },
   {
    "duration": 3,
    "start_time": "2022-03-12T05:30:15.286Z"
   },
   {
    "duration": 17,
    "start_time": "2022-03-12T05:30:15.291Z"
   },
   {
    "duration": 18,
    "start_time": "2022-03-12T05:30:15.309Z"
   },
   {
    "duration": 38,
    "start_time": "2022-03-12T05:30:15.329Z"
   },
   {
    "duration": 8,
    "start_time": "2022-03-12T05:30:15.374Z"
   },
   {
    "duration": 5,
    "start_time": "2022-03-12T05:30:15.384Z"
   },
   {
    "duration": 3,
    "start_time": "2022-03-12T05:30:15.391Z"
   },
   {
    "duration": 4,
    "start_time": "2022-03-12T05:30:15.396Z"
   },
   {
    "duration": 5,
    "start_time": "2022-03-12T05:30:15.402Z"
   },
   {
    "duration": 5,
    "start_time": "2022-03-12T05:30:15.408Z"
   },
   {
    "duration": 6,
    "start_time": "2022-03-12T05:30:15.414Z"
   },
   {
    "duration": 97,
    "start_time": "2022-03-12T05:30:15.422Z"
   },
   {
    "duration": 6,
    "start_time": "2022-03-12T05:30:15.521Z"
   },
   {
    "duration": 10,
    "start_time": "2022-03-12T05:30:15.528Z"
   },
   {
    "duration": 21,
    "start_time": "2022-03-12T05:30:15.539Z"
   },
   {
    "duration": 7,
    "start_time": "2022-03-12T05:30:15.562Z"
   },
   {
    "duration": 3,
    "start_time": "2022-03-12T05:30:15.571Z"
   },
   {
    "duration": 11,
    "start_time": "2022-03-12T05:30:15.576Z"
   },
   {
    "duration": 9,
    "start_time": "2022-03-12T05:30:15.588Z"
   },
   {
    "duration": 8,
    "start_time": "2022-03-12T05:30:15.599Z"
   },
   {
    "duration": 14,
    "start_time": "2022-03-12T05:30:15.608Z"
   },
   {
    "duration": 41,
    "start_time": "2022-03-12T05:30:15.624Z"
   },
   {
    "duration": 17,
    "start_time": "2022-03-12T05:30:15.666Z"
   },
   {
    "duration": 8,
    "start_time": "2022-03-12T05:30:15.684Z"
   },
   {
    "duration": 8,
    "start_time": "2022-03-12T05:30:15.694Z"
   },
   {
    "duration": 8,
    "start_time": "2022-03-12T05:30:15.704Z"
   },
   {
    "duration": 52,
    "start_time": "2022-03-12T05:30:15.720Z"
   },
   {
    "duration": 3,
    "start_time": "2022-03-12T05:30:15.776Z"
   },
   {
    "duration": 9,
    "start_time": "2022-03-12T05:30:15.781Z"
   },
   {
    "duration": 16,
    "start_time": "2022-03-12T05:30:15.791Z"
   },
   {
    "duration": 16,
    "start_time": "2022-03-12T05:30:15.809Z"
   },
   {
    "duration": 40,
    "start_time": "2022-03-12T05:30:15.827Z"
   },
   {
    "duration": 14,
    "start_time": "2022-03-12T05:30:15.869Z"
   },
   {
    "duration": 12,
    "start_time": "2022-03-12T05:30:15.885Z"
   },
   {
    "duration": 17,
    "start_time": "2022-03-12T05:30:15.899Z"
   },
   {
    "duration": 15,
    "start_time": "2022-03-12T05:30:15.917Z"
   },
   {
    "duration": 8,
    "start_time": "2022-03-12T05:30:15.934Z"
   },
   {
    "duration": 8,
    "start_time": "2022-03-12T05:30:15.944Z"
   },
   {
    "duration": 16,
    "start_time": "2022-03-12T05:30:15.954Z"
   },
   {
    "duration": 5,
    "start_time": "2022-03-12T05:30:15.972Z"
   },
   {
    "duration": 4,
    "start_time": "2022-03-12T05:30:15.979Z"
   },
   {
    "duration": 12,
    "start_time": "2022-03-12T05:30:15.985Z"
   },
   {
    "duration": 15,
    "start_time": "2022-03-12T05:30:15.999Z"
   },
   {
    "duration": 3,
    "start_time": "2022-03-12T05:30:16.016Z"
   },
   {
    "duration": 39,
    "start_time": "2022-03-12T05:30:16.020Z"
   },
   {
    "duration": 7,
    "start_time": "2022-03-12T05:30:16.061Z"
   },
   {
    "duration": 14,
    "start_time": "2022-03-12T05:30:16.070Z"
   },
   {
    "duration": 8,
    "start_time": "2022-03-12T05:30:16.085Z"
   },
   {
    "duration": 7,
    "start_time": "2022-03-12T05:30:16.094Z"
   },
   {
    "duration": 8,
    "start_time": "2022-03-12T05:30:16.103Z"
   },
   {
    "duration": 8,
    "start_time": "2022-03-12T05:30:16.113Z"
   },
   {
    "duration": 38,
    "start_time": "2022-03-12T05:30:16.123Z"
   },
   {
    "duration": 7,
    "start_time": "2022-03-12T05:30:16.163Z"
   },
   {
    "duration": 7,
    "start_time": "2022-03-12T05:30:16.172Z"
   },
   {
    "duration": 473,
    "start_time": "2022-03-12T05:30:16.181Z"
   },
   {
    "duration": -2740,
    "start_time": "2022-03-12T05:30:19.396Z"
   },
   {
    "duration": -2817,
    "start_time": "2022-03-12T05:30:19.474Z"
   },
   {
    "duration": -5621,
    "start_time": "2022-03-12T05:30:22.280Z"
   },
   {
    "duration": -5967,
    "start_time": "2022-03-12T05:30:22.627Z"
   },
   {
    "duration": -6930,
    "start_time": "2022-03-12T05:30:23.591Z"
   },
   {
    "duration": -6939,
    "start_time": "2022-03-12T05:30:23.601Z"
   },
   {
    "duration": -6946,
    "start_time": "2022-03-12T05:30:23.609Z"
   },
   {
    "duration": -6964,
    "start_time": "2022-03-12T05:30:23.628Z"
   },
   {
    "duration": -6971,
    "start_time": "2022-03-12T05:30:23.636Z"
   },
   {
    "duration": -6979,
    "start_time": "2022-03-12T05:30:23.645Z"
   },
   {
    "duration": -6987,
    "start_time": "2022-03-12T05:30:23.654Z"
   },
   {
    "duration": -6994,
    "start_time": "2022-03-12T05:30:23.662Z"
   },
   {
    "duration": -7001,
    "start_time": "2022-03-12T05:30:23.670Z"
   },
   {
    "duration": -7009,
    "start_time": "2022-03-12T05:30:23.679Z"
   },
   {
    "duration": -7015,
    "start_time": "2022-03-12T05:30:23.687Z"
   },
   {
    "duration": -7024,
    "start_time": "2022-03-12T05:30:23.697Z"
   },
   {
    "duration": -7031,
    "start_time": "2022-03-12T05:30:23.705Z"
   },
   {
    "duration": -7038,
    "start_time": "2022-03-12T05:30:23.713Z"
   },
   {
    "duration": -7045,
    "start_time": "2022-03-12T05:30:23.722Z"
   },
   {
    "duration": -7064,
    "start_time": "2022-03-12T05:30:23.742Z"
   },
   {
    "duration": -7071,
    "start_time": "2022-03-12T05:30:23.750Z"
   },
   {
    "duration": -7079,
    "start_time": "2022-03-12T05:30:23.759Z"
   },
   {
    "duration": -7086,
    "start_time": "2022-03-12T05:30:23.767Z"
   },
   {
    "duration": -7094,
    "start_time": "2022-03-12T05:30:23.776Z"
   },
   {
    "duration": -7102,
    "start_time": "2022-03-12T05:30:23.785Z"
   },
   {
    "duration": -7110,
    "start_time": "2022-03-12T05:30:23.794Z"
   },
   {
    "duration": -7117,
    "start_time": "2022-03-12T05:30:23.802Z"
   },
   {
    "duration": -7124,
    "start_time": "2022-03-12T05:30:23.811Z"
   },
   {
    "duration": -7131,
    "start_time": "2022-03-12T05:30:23.819Z"
   },
   {
    "duration": -7139,
    "start_time": "2022-03-12T05:30:23.828Z"
   },
   {
    "duration": -7146,
    "start_time": "2022-03-12T05:30:23.836Z"
   },
   {
    "duration": -7164,
    "start_time": "2022-03-12T05:30:23.855Z"
   },
   {
    "duration": -7172,
    "start_time": "2022-03-12T05:30:23.864Z"
   },
   {
    "duration": -7181,
    "start_time": "2022-03-12T05:30:23.874Z"
   },
   {
    "duration": -7188,
    "start_time": "2022-03-12T05:30:23.882Z"
   },
   {
    "duration": -7196,
    "start_time": "2022-03-12T05:30:23.891Z"
   },
   {
    "duration": -7203,
    "start_time": "2022-03-12T05:30:23.899Z"
   },
   {
    "duration": -7211,
    "start_time": "2022-03-12T05:30:23.908Z"
   },
   {
    "duration": -7158,
    "start_time": "2022-03-12T05:30:23.917Z"
   },
   {
    "duration": -7165,
    "start_time": "2022-03-12T05:30:23.925Z"
   },
   {
    "duration": -7172,
    "start_time": "2022-03-12T05:30:23.934Z"
   },
   {
    "duration": -7179,
    "start_time": "2022-03-12T05:30:23.942Z"
   },
   {
    "duration": -7187,
    "start_time": "2022-03-12T05:30:23.951Z"
   },
   {
    "duration": -7207,
    "start_time": "2022-03-12T05:30:23.972Z"
   },
   {
    "duration": -7214,
    "start_time": "2022-03-12T05:30:23.980Z"
   },
   {
    "duration": -7222,
    "start_time": "2022-03-12T05:30:23.989Z"
   },
   {
    "duration": -7229,
    "start_time": "2022-03-12T05:30:23.997Z"
   },
   {
    "duration": -7237,
    "start_time": "2022-03-12T05:30:24.006Z"
   },
   {
    "duration": -7244,
    "start_time": "2022-03-12T05:30:24.014Z"
   },
   {
    "duration": -7252,
    "start_time": "2022-03-12T05:30:24.023Z"
   },
   {
    "duration": -7259,
    "start_time": "2022-03-12T05:30:24.031Z"
   },
   {
    "duration": -7267,
    "start_time": "2022-03-12T05:30:24.040Z"
   },
   {
    "duration": -7274,
    "start_time": "2022-03-12T05:30:24.048Z"
   },
   {
    "duration": -7282,
    "start_time": "2022-03-12T05:30:24.057Z"
   },
   {
    "duration": -7289,
    "start_time": "2022-03-12T05:30:24.065Z"
   },
   {
    "duration": -7308,
    "start_time": "2022-03-12T05:30:24.086Z"
   },
   {
    "duration": -7315,
    "start_time": "2022-03-12T05:30:24.094Z"
   },
   {
    "duration": 17,
    "start_time": "2022-03-12T05:33:39.200Z"
   },
   {
    "duration": 17,
    "start_time": "2022-03-12T06:00:11.372Z"
   },
   {
    "duration": 3,
    "start_time": "2022-03-12T06:00:20.884Z"
   },
   {
    "duration": 6,
    "start_time": "2022-03-12T06:00:20.889Z"
   },
   {
    "duration": 400,
    "start_time": "2022-03-12T06:00:20.897Z"
   },
   {
    "duration": 8,
    "start_time": "2022-03-12T06:00:21.300Z"
   },
   {
    "duration": 24,
    "start_time": "2022-03-12T06:00:21.309Z"
   },
   {
    "duration": 9,
    "start_time": "2022-03-12T06:00:21.334Z"
   },
   {
    "duration": 18,
    "start_time": "2022-03-12T06:00:21.360Z"
   },
   {
    "duration": 7,
    "start_time": "2022-03-12T06:00:21.379Z"
   },
   {
    "duration": 15,
    "start_time": "2022-03-12T06:00:21.389Z"
   },
   {
    "duration": 7,
    "start_time": "2022-03-12T06:00:21.406Z"
   },
   {
    "duration": 44,
    "start_time": "2022-03-12T06:00:21.415Z"
   },
   {
    "duration": 10,
    "start_time": "2022-03-12T06:00:21.461Z"
   },
   {
    "duration": 7,
    "start_time": "2022-03-12T06:00:21.473Z"
   },
   {
    "duration": 25,
    "start_time": "2022-03-12T06:00:21.482Z"
   },
   {
    "duration": 7,
    "start_time": "2022-03-12T06:00:21.509Z"
   },
   {
    "duration": 41,
    "start_time": "2022-03-12T06:00:21.518Z"
   },
   {
    "duration": 141,
    "start_time": "2022-03-12T06:00:21.561Z"
   },
   {
    "duration": 2,
    "start_time": "2022-03-12T06:00:21.704Z"
   },
   {
    "duration": 323,
    "start_time": "2022-03-12T06:00:21.708Z"
   },
   {
    "duration": 47,
    "start_time": "2022-03-12T06:00:22.033Z"
   },
   {
    "duration": 155,
    "start_time": "2022-03-12T06:00:22.081Z"
   },
   {
    "duration": 10,
    "start_time": "2022-03-12T06:00:22.238Z"
   },
   {
    "duration": 116,
    "start_time": "2022-03-12T06:00:22.259Z"
   },
   {
    "duration": 10,
    "start_time": "2022-03-12T06:00:22.377Z"
   },
   {
    "duration": 6,
    "start_time": "2022-03-12T06:00:22.389Z"
   },
   {
    "duration": 78,
    "start_time": "2022-03-12T06:00:22.397Z"
   },
   {
    "duration": 10,
    "start_time": "2022-03-12T06:00:22.479Z"
   },
   {
    "duration": 4,
    "start_time": "2022-03-12T06:00:22.492Z"
   },
   {
    "duration": 4,
    "start_time": "2022-03-12T06:00:22.498Z"
   },
   {
    "duration": 20,
    "start_time": "2022-03-12T06:00:22.505Z"
   },
   {
    "duration": 51,
    "start_time": "2022-03-12T06:00:22.527Z"
   },
   {
    "duration": 9,
    "start_time": "2022-03-12T06:00:22.580Z"
   },
   {
    "duration": 14,
    "start_time": "2022-03-12T06:00:22.591Z"
   },
   {
    "duration": 95,
    "start_time": "2022-03-12T06:00:22.607Z"
   },
   {
    "duration": 11,
    "start_time": "2022-03-12T06:00:22.703Z"
   },
   {
    "duration": 4,
    "start_time": "2022-03-12T06:00:22.716Z"
   },
   {
    "duration": 5,
    "start_time": "2022-03-12T06:00:22.721Z"
   },
   {
    "duration": 38,
    "start_time": "2022-03-12T06:00:22.727Z"
   },
   {
    "duration": 3,
    "start_time": "2022-03-12T06:00:22.767Z"
   },
   {
    "duration": 21,
    "start_time": "2022-03-12T06:00:22.771Z"
   },
   {
    "duration": 2,
    "start_time": "2022-03-12T06:00:22.794Z"
   },
   {
    "duration": 21,
    "start_time": "2022-03-12T06:00:22.798Z"
   },
   {
    "duration": 77,
    "start_time": "2022-03-12T06:00:22.821Z"
   },
   {
    "duration": 3,
    "start_time": "2022-03-12T06:00:22.900Z"
   },
   {
    "duration": 41,
    "start_time": "2022-03-12T06:00:22.904Z"
   },
   {
    "duration": 26,
    "start_time": "2022-03-12T06:00:22.947Z"
   },
   {
    "duration": 25,
    "start_time": "2022-03-12T06:00:22.974Z"
   },
   {
    "duration": 22,
    "start_time": "2022-03-12T06:00:23.000Z"
   },
   {
    "duration": 36,
    "start_time": "2022-03-12T06:00:23.023Z"
   },
   {
    "duration": 11,
    "start_time": "2022-03-12T06:00:23.061Z"
   },
   {
    "duration": 12,
    "start_time": "2022-03-12T06:00:23.073Z"
   },
   {
    "duration": 18,
    "start_time": "2022-03-12T06:00:23.087Z"
   },
   {
    "duration": 29,
    "start_time": "2022-03-12T06:00:23.107Z"
   },
   {
    "duration": 19,
    "start_time": "2022-03-12T06:00:23.138Z"
   },
   {
    "duration": 92,
    "start_time": "2022-03-12T06:00:23.159Z"
   },
   {
    "duration": 7,
    "start_time": "2022-03-12T06:00:23.253Z"
   },
   {
    "duration": 20,
    "start_time": "2022-03-12T06:00:23.262Z"
   },
   {
    "duration": 9,
    "start_time": "2022-03-12T06:00:23.284Z"
   },
   {
    "duration": 9,
    "start_time": "2022-03-12T06:00:23.295Z"
   },
   {
    "duration": 5,
    "start_time": "2022-03-12T06:00:23.306Z"
   },
   {
    "duration": 9,
    "start_time": "2022-03-12T06:00:23.312Z"
   },
   {
    "duration": 9,
    "start_time": "2022-03-12T06:00:23.323Z"
   },
   {
    "duration": 9,
    "start_time": "2022-03-12T06:00:23.359Z"
   },
   {
    "duration": 14,
    "start_time": "2022-03-12T06:00:23.369Z"
   },
   {
    "duration": 7,
    "start_time": "2022-03-12T06:00:23.384Z"
   },
   {
    "duration": 17,
    "start_time": "2022-03-12T06:00:23.393Z"
   },
   {
    "duration": 6,
    "start_time": "2022-03-12T06:00:23.412Z"
   },
   {
    "duration": 41,
    "start_time": "2022-03-12T06:00:23.420Z"
   },
   {
    "duration": 8,
    "start_time": "2022-03-12T06:00:23.463Z"
   },
   {
    "duration": 15,
    "start_time": "2022-03-12T06:00:23.472Z"
   },
   {
    "duration": 3,
    "start_time": "2022-03-12T06:00:23.488Z"
   },
   {
    "duration": 6,
    "start_time": "2022-03-12T06:00:23.492Z"
   },
   {
    "duration": 16,
    "start_time": "2022-03-12T06:00:23.500Z"
   },
   {
    "duration": 46,
    "start_time": "2022-03-12T06:00:23.517Z"
   },
   {
    "duration": 19,
    "start_time": "2022-03-12T06:00:23.564Z"
   },
   {
    "duration": 11,
    "start_time": "2022-03-12T06:00:23.584Z"
   },
   {
    "duration": 13,
    "start_time": "2022-03-12T06:00:23.596Z"
   },
   {
    "duration": 13,
    "start_time": "2022-03-12T06:00:23.611Z"
   },
   {
    "duration": 13,
    "start_time": "2022-03-12T06:00:23.626Z"
   },
   {
    "duration": 20,
    "start_time": "2022-03-12T06:00:23.641Z"
   },
   {
    "duration": 7,
    "start_time": "2022-03-12T06:00:23.669Z"
   },
   {
    "duration": 12,
    "start_time": "2022-03-12T06:00:23.680Z"
   },
   {
    "duration": 6,
    "start_time": "2022-03-12T06:00:23.694Z"
   },
   {
    "duration": 5,
    "start_time": "2022-03-12T06:00:23.701Z"
   },
   {
    "duration": 14,
    "start_time": "2022-03-12T06:00:23.708Z"
   },
   {
    "duration": 49,
    "start_time": "2022-03-12T06:00:23.724Z"
   },
   {
    "duration": 5,
    "start_time": "2022-03-12T06:00:23.775Z"
   },
   {
    "duration": 6,
    "start_time": "2022-03-12T06:00:23.781Z"
   },
   {
    "duration": 6,
    "start_time": "2022-03-12T06:00:23.789Z"
   },
   {
    "duration": 17,
    "start_time": "2022-03-12T06:00:23.796Z"
   },
   {
    "duration": 7,
    "start_time": "2022-03-12T06:00:23.815Z"
   },
   {
    "duration": 40,
    "start_time": "2022-03-12T06:00:23.824Z"
   },
   {
    "duration": 4,
    "start_time": "2022-03-12T06:00:23.866Z"
   },
   {
    "duration": 8,
    "start_time": "2022-03-12T06:00:23.871Z"
   },
   {
    "duration": 5,
    "start_time": "2022-03-12T06:00:23.880Z"
   },
   {
    "duration": 4,
    "start_time": "2022-03-12T06:00:23.887Z"
   },
   {
    "duration": 6,
    "start_time": "2022-03-12T06:00:23.893Z"
   },
   {
    "duration": 389,
    "start_time": "2022-03-12T06:00:23.900Z"
   },
   {
    "duration": -10114,
    "start_time": "2022-03-12T06:00:34.404Z"
   },
   {
    "duration": -10124,
    "start_time": "2022-03-12T06:00:34.415Z"
   },
   {
    "duration": -10132,
    "start_time": "2022-03-12T06:00:34.424Z"
   },
   {
    "duration": -10140,
    "start_time": "2022-03-12T06:00:34.433Z"
   },
   {
    "duration": -10148,
    "start_time": "2022-03-12T06:00:34.442Z"
   },
   {
    "duration": -10155,
    "start_time": "2022-03-12T06:00:34.450Z"
   },
   {
    "duration": -10163,
    "start_time": "2022-03-12T06:00:34.459Z"
   },
   {
    "duration": -10170,
    "start_time": "2022-03-12T06:00:34.467Z"
   },
   {
    "duration": -10178,
    "start_time": "2022-03-12T06:00:34.476Z"
   },
   {
    "duration": -10185,
    "start_time": "2022-03-12T06:00:34.484Z"
   },
   {
    "duration": -10256,
    "start_time": "2022-03-12T06:00:34.556Z"
   },
   {
    "duration": -10267,
    "start_time": "2022-03-12T06:00:34.568Z"
   },
   {
    "duration": -10274,
    "start_time": "2022-03-12T06:00:34.576Z"
   },
   {
    "duration": -10282,
    "start_time": "2022-03-12T06:00:34.585Z"
   },
   {
    "duration": -10316,
    "start_time": "2022-03-12T06:00:34.620Z"
   },
   {
    "duration": -10349,
    "start_time": "2022-03-12T06:00:34.654Z"
   },
   {
    "duration": -10374,
    "start_time": "2022-03-12T06:00:34.680Z"
   },
   {
    "duration": -10395,
    "start_time": "2022-03-12T06:00:34.702Z"
   },
   {
    "duration": -10416,
    "start_time": "2022-03-12T06:00:34.724Z"
   },
   {
    "duration": -10437,
    "start_time": "2022-03-12T06:00:34.746Z"
   },
   {
    "duration": -10447,
    "start_time": "2022-03-12T06:00:34.757Z"
   },
   {
    "duration": -10454,
    "start_time": "2022-03-12T06:00:34.765Z"
   },
   {
    "duration": -10461,
    "start_time": "2022-03-12T06:00:34.773Z"
   },
   {
    "duration": -10467,
    "start_time": "2022-03-12T06:00:34.780Z"
   },
   {
    "duration": -10473,
    "start_time": "2022-03-12T06:00:34.788Z"
   },
   {
    "duration": -10479,
    "start_time": "2022-03-12T06:00:34.795Z"
   },
   {
    "duration": -10487,
    "start_time": "2022-03-12T06:00:34.804Z"
   },
   {
    "duration": -10493,
    "start_time": "2022-03-12T06:00:34.811Z"
   },
   {
    "duration": -10500,
    "start_time": "2022-03-12T06:00:34.819Z"
   },
   {
    "duration": -10506,
    "start_time": "2022-03-12T06:00:34.827Z"
   },
   {
    "duration": -10513,
    "start_time": "2022-03-12T06:00:34.835Z"
   },
   {
    "duration": -10533,
    "start_time": "2022-03-12T06:00:34.856Z"
   },
   {
    "duration": -10541,
    "start_time": "2022-03-12T06:00:34.865Z"
   },
   {
    "duration": -10547,
    "start_time": "2022-03-12T06:00:34.872Z"
   },
   {
    "duration": -10555,
    "start_time": "2022-03-12T06:00:34.881Z"
   },
   {
    "duration": -10561,
    "start_time": "2022-03-12T06:00:34.888Z"
   },
   {
    "duration": -10568,
    "start_time": "2022-03-12T06:00:34.896Z"
   },
   {
    "duration": -10575,
    "start_time": "2022-03-12T06:00:34.904Z"
   },
   {
    "duration": -10553,
    "start_time": "2022-03-12T06:00:34.912Z"
   },
   {
    "duration": -10559,
    "start_time": "2022-03-12T06:00:34.919Z"
   },
   {
    "duration": -10566,
    "start_time": "2022-03-12T06:00:34.927Z"
   },
   {
    "duration": -10573,
    "start_time": "2022-03-12T06:00:34.935Z"
   },
   {
    "duration": -10581,
    "start_time": "2022-03-12T06:00:34.945Z"
   },
   {
    "duration": -10587,
    "start_time": "2022-03-12T06:00:34.952Z"
   },
   {
    "duration": -10610,
    "start_time": "2022-03-12T06:00:34.976Z"
   },
   {
    "duration": -10617,
    "start_time": "2022-03-12T06:00:34.984Z"
   },
   {
    "duration": -10624,
    "start_time": "2022-03-12T06:00:34.992Z"
   },
   {
    "duration": -10631,
    "start_time": "2022-03-12T06:00:35.000Z"
   },
   {
    "duration": -10638,
    "start_time": "2022-03-12T06:00:35.008Z"
   },
   {
    "duration": -10644,
    "start_time": "2022-03-12T06:00:35.015Z"
   },
   {
    "duration": -10651,
    "start_time": "2022-03-12T06:00:35.023Z"
   },
   {
    "duration": -10658,
    "start_time": "2022-03-12T06:00:35.031Z"
   },
   {
    "duration": -10665,
    "start_time": "2022-03-12T06:00:35.039Z"
   },
   {
    "duration": -10670,
    "start_time": "2022-03-12T06:00:35.046Z"
   },
   {
    "duration": -10678,
    "start_time": "2022-03-12T06:00:35.055Z"
   },
   {
    "duration": -10685,
    "start_time": "2022-03-12T06:00:35.063Z"
   },
   {
    "duration": -10709,
    "start_time": "2022-03-12T06:00:35.088Z"
   },
   {
    "duration": 4,
    "start_time": "2022-03-12T06:03:23.114Z"
   },
   {
    "duration": 16,
    "start_time": "2022-03-12T06:05:04.109Z"
   },
   {
    "duration": 17,
    "start_time": "2022-03-12T06:05:12.460Z"
   },
   {
    "duration": 2,
    "start_time": "2022-03-12T06:05:22.075Z"
   },
   {
    "duration": 2,
    "start_time": "2022-03-12T06:05:23.995Z"
   },
   {
    "duration": 4,
    "start_time": "2022-03-12T06:07:49.486Z"
   },
   {
    "duration": 17,
    "start_time": "2022-03-12T06:08:02.961Z"
   },
   {
    "duration": 17,
    "start_time": "2022-03-12T06:08:16.281Z"
   },
   {
    "duration": 2,
    "start_time": "2022-03-12T06:08:23.358Z"
   },
   {
    "duration": 3,
    "start_time": "2022-03-12T06:08:27.189Z"
   },
   {
    "duration": 3,
    "start_time": "2022-03-12T06:08:30.171Z"
   },
   {
    "duration": 8,
    "start_time": "2022-03-12T06:08:30.176Z"
   },
   {
    "duration": 407,
    "start_time": "2022-03-12T06:08:30.188Z"
   },
   {
    "duration": 9,
    "start_time": "2022-03-12T06:08:30.597Z"
   },
   {
    "duration": 26,
    "start_time": "2022-03-12T06:08:30.608Z"
   },
   {
    "duration": 9,
    "start_time": "2022-03-12T06:08:30.636Z"
   },
   {
    "duration": 33,
    "start_time": "2022-03-12T06:08:30.647Z"
   },
   {
    "duration": 7,
    "start_time": "2022-03-12T06:08:30.682Z"
   },
   {
    "duration": 30,
    "start_time": "2022-03-12T06:08:30.691Z"
   },
   {
    "duration": 13,
    "start_time": "2022-03-12T06:08:30.723Z"
   },
   {
    "duration": 16,
    "start_time": "2022-03-12T06:08:30.739Z"
   },
   {
    "duration": 12,
    "start_time": "2022-03-12T06:08:30.759Z"
   },
   {
    "duration": 8,
    "start_time": "2022-03-12T06:08:30.773Z"
   },
   {
    "duration": 37,
    "start_time": "2022-03-12T06:08:30.783Z"
   },
   {
    "duration": 7,
    "start_time": "2022-03-12T06:08:30.822Z"
   },
   {
    "duration": 4,
    "start_time": "2022-03-12T06:08:30.860Z"
   },
   {
    "duration": 149,
    "start_time": "2022-03-12T06:08:30.865Z"
   },
   {
    "duration": 2,
    "start_time": "2022-03-12T06:08:31.016Z"
   },
   {
    "duration": 339,
    "start_time": "2022-03-12T06:08:31.020Z"
   },
   {
    "duration": 44,
    "start_time": "2022-03-12T06:08:31.361Z"
   },
   {
    "duration": 173,
    "start_time": "2022-03-12T06:08:31.407Z"
   },
   {
    "duration": 10,
    "start_time": "2022-03-12T06:08:31.581Z"
   },
   {
    "duration": 119,
    "start_time": "2022-03-12T06:08:31.593Z"
   },
   {
    "duration": 10,
    "start_time": "2022-03-12T06:08:31.714Z"
   },
   {
    "duration": 8,
    "start_time": "2022-03-12T06:08:31.726Z"
   },
   {
    "duration": 73,
    "start_time": "2022-03-12T06:08:31.736Z"
   },
   {
    "duration": 11,
    "start_time": "2022-03-12T06:08:31.811Z"
   },
   {
    "duration": 5,
    "start_time": "2022-03-12T06:08:31.823Z"
   },
   {
    "duration": 3,
    "start_time": "2022-03-12T06:08:31.832Z"
   },
   {
    "duration": 21,
    "start_time": "2022-03-12T06:08:31.838Z"
   },
   {
    "duration": 17,
    "start_time": "2022-03-12T06:08:31.861Z"
   },
   {
    "duration": 8,
    "start_time": "2022-03-12T06:08:31.880Z"
   },
   {
    "duration": 27,
    "start_time": "2022-03-12T06:08:31.890Z"
   },
   {
    "duration": 13,
    "start_time": "2022-03-12T06:08:31.919Z"
   },
   {
    "duration": 12,
    "start_time": "2022-03-12T06:08:31.934Z"
   },
   {
    "duration": 11,
    "start_time": "2022-03-12T06:08:31.948Z"
   },
   {
    "duration": 59,
    "start_time": "2022-03-12T06:08:31.960Z"
   },
   {
    "duration": 10,
    "start_time": "2022-03-12T06:08:32.021Z"
   },
   {
    "duration": 5,
    "start_time": "2022-03-12T06:08:32.033Z"
   },
   {
    "duration": 31,
    "start_time": "2022-03-12T06:08:32.040Z"
   },
   {
    "duration": 2,
    "start_time": "2022-03-12T06:08:32.073Z"
   },
   {
    "duration": 17,
    "start_time": "2022-03-12T06:08:32.077Z"
   },
   {
    "duration": 7,
    "start_time": "2022-03-12T06:08:32.095Z"
   },
   {
    "duration": 10,
    "start_time": "2022-03-12T06:08:32.103Z"
   },
   {
    "duration": 85,
    "start_time": "2022-03-12T06:08:32.115Z"
   },
   {
    "duration": 3,
    "start_time": "2022-03-12T06:08:32.202Z"
   },
   {
    "duration": 10,
    "start_time": "2022-03-12T06:08:32.207Z"
   },
   {
    "duration": 18,
    "start_time": "2022-03-12T06:08:32.219Z"
   },
   {
    "duration": 2,
    "start_time": "2022-03-12T06:08:32.239Z"
   },
   {
    "duration": 30,
    "start_time": "2022-03-12T06:08:32.243Z"
   },
   {
    "duration": 13,
    "start_time": "2022-03-12T06:08:32.275Z"
   },
   {
    "duration": 12,
    "start_time": "2022-03-12T06:08:32.289Z"
   },
   {
    "duration": 12,
    "start_time": "2022-03-12T06:08:32.303Z"
   },
   {
    "duration": 4,
    "start_time": "2022-03-12T06:08:32.317Z"
   },
   {
    "duration": 5,
    "start_time": "2022-03-12T06:08:32.323Z"
   },
   {
    "duration": 6,
    "start_time": "2022-03-12T06:08:32.329Z"
   },
   {
    "duration": 7,
    "start_time": "2022-03-12T06:08:32.337Z"
   },
   {
    "duration": 4,
    "start_time": "2022-03-12T06:08:32.345Z"
   },
   {
    "duration": 4,
    "start_time": "2022-03-12T06:08:32.359Z"
   },
   {
    "duration": 80,
    "start_time": "2022-03-12T06:08:32.364Z"
   },
   {
    "duration": 16,
    "start_time": "2022-03-12T06:08:32.446Z"
   },
   {
    "duration": 11,
    "start_time": "2022-03-12T06:08:32.463Z"
   },
   {
    "duration": 9,
    "start_time": "2022-03-12T06:08:32.475Z"
   },
   {
    "duration": 8,
    "start_time": "2022-03-12T06:08:32.486Z"
   },
   {
    "duration": 4,
    "start_time": "2022-03-12T06:08:32.495Z"
   },
   {
    "duration": 9,
    "start_time": "2022-03-12T06:08:32.500Z"
   },
   {
    "duration": 7,
    "start_time": "2022-03-12T06:08:32.511Z"
   },
   {
    "duration": 39,
    "start_time": "2022-03-12T06:08:32.520Z"
   },
   {
    "duration": 15,
    "start_time": "2022-03-12T06:08:32.561Z"
   },
   {
    "duration": 6,
    "start_time": "2022-03-12T06:08:32.578Z"
   },
   {
    "duration": 15,
    "start_time": "2022-03-12T06:08:32.586Z"
   },
   {
    "duration": 7,
    "start_time": "2022-03-12T06:08:32.602Z"
   },
   {
    "duration": 7,
    "start_time": "2022-03-12T06:08:32.611Z"
   },
   {
    "duration": 8,
    "start_time": "2022-03-12T06:08:32.619Z"
   },
   {
    "duration": 42,
    "start_time": "2022-03-12T06:08:32.628Z"
   },
   {
    "duration": 3,
    "start_time": "2022-03-12T06:08:32.672Z"
   },
   {
    "duration": 7,
    "start_time": "2022-03-12T06:08:32.676Z"
   },
   {
    "duration": 14,
    "start_time": "2022-03-12T06:08:32.685Z"
   },
   {
    "duration": 27,
    "start_time": "2022-03-12T06:08:32.700Z"
   },
   {
    "duration": 33,
    "start_time": "2022-03-12T06:08:32.729Z"
   },
   {
    "duration": 11,
    "start_time": "2022-03-12T06:08:32.764Z"
   },
   {
    "duration": 7,
    "start_time": "2022-03-12T06:08:32.776Z"
   },
   {
    "duration": 8,
    "start_time": "2022-03-12T06:08:32.791Z"
   },
   {
    "duration": 11,
    "start_time": "2022-03-12T06:08:32.802Z"
   },
   {
    "duration": 4,
    "start_time": "2022-03-12T06:08:32.814Z"
   },
   {
    "duration": 7,
    "start_time": "2022-03-12T06:08:32.819Z"
   },
   {
    "duration": 41,
    "start_time": "2022-03-12T06:08:32.828Z"
   },
   {
    "duration": 6,
    "start_time": "2022-03-12T06:08:32.870Z"
   },
   {
    "duration": 4,
    "start_time": "2022-03-12T06:08:32.878Z"
   },
   {
    "duration": 11,
    "start_time": "2022-03-12T06:08:32.884Z"
   },
   {
    "duration": 16,
    "start_time": "2022-03-12T06:08:32.896Z"
   },
   {
    "duration": 3,
    "start_time": "2022-03-12T06:08:32.914Z"
   },
   {
    "duration": 42,
    "start_time": "2022-03-12T06:08:32.919Z"
   },
   {
    "duration": 4,
    "start_time": "2022-03-12T06:08:32.963Z"
   },
   {
    "duration": 13,
    "start_time": "2022-03-12T06:08:32.969Z"
   },
   {
    "duration": 7,
    "start_time": "2022-03-12T06:08:32.984Z"
   },
   {
    "duration": 6,
    "start_time": "2022-03-12T06:08:32.993Z"
   },
   {
    "duration": 5,
    "start_time": "2022-03-12T06:08:33.000Z"
   },
   {
    "duration": 7,
    "start_time": "2022-03-12T06:08:33.007Z"
   },
   {
    "duration": 44,
    "start_time": "2022-03-12T06:08:33.016Z"
   },
   {
    "duration": 5,
    "start_time": "2022-03-12T06:08:33.061Z"
   },
   {
    "duration": 6,
    "start_time": "2022-03-12T06:08:33.068Z"
   },
   {
    "duration": 393,
    "start_time": "2022-03-12T06:08:33.076Z"
   },
   {
    "duration": -8635,
    "start_time": "2022-03-12T06:08:42.106Z"
   },
   {
    "duration": -8641,
    "start_time": "2022-03-12T06:08:42.113Z"
   },
   {
    "duration": -8649,
    "start_time": "2022-03-12T06:08:42.122Z"
   },
   {
    "duration": -8656,
    "start_time": "2022-03-12T06:08:42.130Z"
   },
   {
    "duration": -8663,
    "start_time": "2022-03-12T06:08:42.138Z"
   },
   {
    "duration": -8670,
    "start_time": "2022-03-12T06:08:42.146Z"
   },
   {
    "duration": -8678,
    "start_time": "2022-03-12T06:08:42.155Z"
   },
   {
    "duration": -8778,
    "start_time": "2022-03-12T06:08:42.256Z"
   },
   {
    "duration": -8812,
    "start_time": "2022-03-12T06:08:42.292Z"
   },
   {
    "duration": -8860,
    "start_time": "2022-03-12T06:08:42.341Z"
   },
   {
    "duration": -8897,
    "start_time": "2022-03-12T06:08:42.379Z"
   },
   {
    "duration": -8935,
    "start_time": "2022-03-12T06:08:42.418Z"
   },
   {
    "duration": -8973,
    "start_time": "2022-03-12T06:08:42.457Z"
   },
   {
    "duration": -9000,
    "start_time": "2022-03-12T06:08:42.484Z"
   },
   {
    "duration": -9033,
    "start_time": "2022-03-12T06:08:42.519Z"
   },
   {
    "duration": -9061,
    "start_time": "2022-03-12T06:08:42.547Z"
   },
   {
    "duration": -9083,
    "start_time": "2022-03-12T06:08:42.571Z"
   },
   {
    "duration": -9108,
    "start_time": "2022-03-12T06:08:42.597Z"
   },
   {
    "duration": -9116,
    "start_time": "2022-03-12T06:08:42.606Z"
   },
   {
    "duration": -9123,
    "start_time": "2022-03-12T06:08:42.614Z"
   },
   {
    "duration": -9131,
    "start_time": "2022-03-12T06:08:42.623Z"
   },
   {
    "duration": -9138,
    "start_time": "2022-03-12T06:08:42.631Z"
   },
   {
    "duration": -9146,
    "start_time": "2022-03-12T06:08:42.640Z"
   },
   {
    "duration": -9153,
    "start_time": "2022-03-12T06:08:42.648Z"
   },
   {
    "duration": -9161,
    "start_time": "2022-03-12T06:08:42.657Z"
   },
   {
    "duration": -9168,
    "start_time": "2022-03-12T06:08:42.665Z"
   },
   {
    "duration": -9176,
    "start_time": "2022-03-12T06:08:42.674Z"
   },
   {
    "duration": -9184,
    "start_time": "2022-03-12T06:08:42.683Z"
   },
   {
    "duration": -9208,
    "start_time": "2022-03-12T06:08:42.708Z"
   },
   {
    "duration": -9216,
    "start_time": "2022-03-12T06:08:42.717Z"
   },
   {
    "duration": -9223,
    "start_time": "2022-03-12T06:08:42.726Z"
   },
   {
    "duration": -9231,
    "start_time": "2022-03-12T06:08:42.735Z"
   },
   {
    "duration": -9237,
    "start_time": "2022-03-12T06:08:42.742Z"
   },
   {
    "duration": -9245,
    "start_time": "2022-03-12T06:08:42.751Z"
   },
   {
    "duration": -9252,
    "start_time": "2022-03-12T06:08:42.759Z"
   },
   {
    "duration": -9260,
    "start_time": "2022-03-12T06:08:42.768Z"
   },
   {
    "duration": -9267,
    "start_time": "2022-03-12T06:08:42.776Z"
   },
   {
    "duration": -9275,
    "start_time": "2022-03-12T06:08:42.785Z"
   },
   {
    "duration": -9234,
    "start_time": "2022-03-12T06:08:42.793Z"
   },
   {
    "duration": -9242,
    "start_time": "2022-03-12T06:08:42.802Z"
   },
   {
    "duration": -9263,
    "start_time": "2022-03-12T06:08:42.824Z"
   },
   {
    "duration": -9271,
    "start_time": "2022-03-12T06:08:42.833Z"
   },
   {
    "duration": -9279,
    "start_time": "2022-03-12T06:08:42.841Z"
   },
   {
    "duration": -9287,
    "start_time": "2022-03-12T06:08:42.851Z"
   },
   {
    "duration": -9294,
    "start_time": "2022-03-12T06:08:42.859Z"
   },
   {
    "duration": -9316,
    "start_time": "2022-03-12T06:08:42.882Z"
   },
   {
    "duration": -9337,
    "start_time": "2022-03-12T06:08:42.904Z"
   },
   {
    "duration": -9361,
    "start_time": "2022-03-12T06:08:42.929Z"
   },
   {
    "duration": -9383,
    "start_time": "2022-03-12T06:08:42.952Z"
   },
   {
    "duration": -9406,
    "start_time": "2022-03-12T06:08:42.976Z"
   },
   {
    "duration": -9413,
    "start_time": "2022-03-12T06:08:42.984Z"
   },
   {
    "duration": -9422,
    "start_time": "2022-03-12T06:08:42.994Z"
   },
   {
    "duration": -9429,
    "start_time": "2022-03-12T06:08:43.002Z"
   },
   {
    "duration": -9437,
    "start_time": "2022-03-12T06:08:43.010Z"
   },
   {
    "duration": -9444,
    "start_time": "2022-03-12T06:08:43.018Z"
   },
   {
    "duration": -9451,
    "start_time": "2022-03-12T06:08:43.026Z"
   },
   {
    "duration": -9457,
    "start_time": "2022-03-12T06:08:43.033Z"
   },
   {
    "duration": 1210,
    "start_time": "2022-03-12T07:15:45.763Z"
   },
   {
    "duration": 2,
    "start_time": "2022-03-12T07:15:46.975Z"
   },
   {
    "duration": 414,
    "start_time": "2022-03-12T07:15:46.980Z"
   },
   {
    "duration": 12,
    "start_time": "2022-03-12T07:15:47.396Z"
   },
   {
    "duration": 22,
    "start_time": "2022-03-12T07:15:47.410Z"
   },
   {
    "duration": 9,
    "start_time": "2022-03-12T07:15:47.434Z"
   },
   {
    "duration": 28,
    "start_time": "2022-03-12T07:15:47.445Z"
   },
   {
    "duration": 7,
    "start_time": "2022-03-12T07:15:47.477Z"
   },
   {
    "duration": 16,
    "start_time": "2022-03-12T07:15:47.487Z"
   },
   {
    "duration": 11,
    "start_time": "2022-03-12T07:15:47.505Z"
   },
   {
    "duration": 11,
    "start_time": "2022-03-12T07:15:47.518Z"
   },
   {
    "duration": 35,
    "start_time": "2022-03-12T07:15:47.531Z"
   },
   {
    "duration": 18,
    "start_time": "2022-03-12T07:15:47.569Z"
   },
   {
    "duration": 47,
    "start_time": "2022-03-12T07:15:47.589Z"
   },
   {
    "duration": 23,
    "start_time": "2022-03-12T07:15:47.638Z"
   },
   {
    "duration": 21,
    "start_time": "2022-03-12T07:15:47.663Z"
   },
   {
    "duration": 157,
    "start_time": "2022-03-12T07:15:47.686Z"
   },
   {
    "duration": 4,
    "start_time": "2022-03-12T07:15:47.844Z"
   },
   {
    "duration": 289,
    "start_time": "2022-03-12T07:15:47.850Z"
   },
   {
    "duration": 49,
    "start_time": "2022-03-12T07:15:48.141Z"
   },
   {
    "duration": 157,
    "start_time": "2022-03-12T07:15:48.192Z"
   },
   {
    "duration": 13,
    "start_time": "2022-03-12T07:15:48.351Z"
   },
   {
    "duration": 133,
    "start_time": "2022-03-12T07:15:48.369Z"
   },
   {
    "duration": 10,
    "start_time": "2022-03-12T07:15:48.505Z"
   },
   {
    "duration": 5,
    "start_time": "2022-03-12T07:15:48.517Z"
   },
   {
    "duration": 74,
    "start_time": "2022-03-12T07:15:48.523Z"
   },
   {
    "duration": 10,
    "start_time": "2022-03-12T07:15:48.599Z"
   },
   {
    "duration": 4,
    "start_time": "2022-03-12T07:15:48.610Z"
   },
   {
    "duration": 6,
    "start_time": "2022-03-12T07:15:48.616Z"
   },
   {
    "duration": 6,
    "start_time": "2022-03-12T07:15:48.623Z"
   },
   {
    "duration": 37,
    "start_time": "2022-03-12T07:15:48.631Z"
   },
   {
    "duration": 18,
    "start_time": "2022-03-12T07:15:48.669Z"
   },
   {
    "duration": 8,
    "start_time": "2022-03-12T07:15:48.689Z"
   },
   {
    "duration": 12,
    "start_time": "2022-03-12T07:15:48.699Z"
   },
   {
    "duration": 81,
    "start_time": "2022-03-12T07:15:48.713Z"
   },
   {
    "duration": 11,
    "start_time": "2022-03-12T07:15:48.796Z"
   },
   {
    "duration": 4,
    "start_time": "2022-03-12T07:15:48.808Z"
   },
   {
    "duration": 18,
    "start_time": "2022-03-12T07:15:48.813Z"
   },
   {
    "duration": 35,
    "start_time": "2022-03-12T07:15:48.832Z"
   },
   {
    "duration": 7,
    "start_time": "2022-03-12T07:15:48.868Z"
   },
   {
    "duration": 83,
    "start_time": "2022-03-12T07:15:48.876Z"
   },
   {
    "duration": 3,
    "start_time": "2022-03-12T07:15:48.961Z"
   },
   {
    "duration": 4,
    "start_time": "2022-03-12T07:15:48.966Z"
   },
   {
    "duration": 20,
    "start_time": "2022-03-12T07:15:48.972Z"
   },
   {
    "duration": 18,
    "start_time": "2022-03-12T07:15:48.994Z"
   },
   {
    "duration": 8,
    "start_time": "2022-03-12T07:15:49.013Z"
   },
   {
    "duration": 8,
    "start_time": "2022-03-12T07:15:49.023Z"
   },
   {
    "duration": 27,
    "start_time": "2022-03-12T07:15:49.032Z"
   },
   {
    "duration": 3,
    "start_time": "2022-03-12T07:15:49.061Z"
   },
   {
    "duration": 18,
    "start_time": "2022-03-12T07:15:49.065Z"
   },
   {
    "duration": 7,
    "start_time": "2022-03-12T07:15:49.085Z"
   },
   {
    "duration": 12,
    "start_time": "2022-03-12T07:15:49.094Z"
   },
   {
    "duration": 10,
    "start_time": "2022-03-12T07:15:49.108Z"
   },
   {
    "duration": 89,
    "start_time": "2022-03-12T07:15:49.119Z"
   },
   {
    "duration": 5,
    "start_time": "2022-03-12T07:15:49.210Z"
   },
   {
    "duration": 24,
    "start_time": "2022-03-12T07:15:49.217Z"
   },
   {
    "duration": 8,
    "start_time": "2022-03-12T07:15:49.243Z"
   },
   {
    "duration": 10,
    "start_time": "2022-03-12T07:15:49.253Z"
   },
   {
    "duration": 4,
    "start_time": "2022-03-12T07:15:49.265Z"
   },
   {
    "duration": 13,
    "start_time": "2022-03-12T07:15:49.270Z"
   },
   {
    "duration": 10,
    "start_time": "2022-03-12T07:15:49.285Z"
   },
   {
    "duration": 11,
    "start_time": "2022-03-12T07:15:49.297Z"
   },
   {
    "duration": 17,
    "start_time": "2022-03-12T07:15:49.309Z"
   },
   {
    "duration": 13,
    "start_time": "2022-03-12T07:15:49.328Z"
   },
   {
    "duration": 19,
    "start_time": "2022-03-12T07:15:49.343Z"
   },
   {
    "duration": 8,
    "start_time": "2022-03-12T07:15:49.363Z"
   },
   {
    "duration": 10,
    "start_time": "2022-03-12T07:15:49.373Z"
   },
   {
    "duration": 12,
    "start_time": "2022-03-12T07:15:49.390Z"
   },
   {
    "duration": 13,
    "start_time": "2022-03-12T07:15:49.405Z"
   },
   {
    "duration": 3,
    "start_time": "2022-03-12T07:15:49.420Z"
   },
   {
    "duration": 9,
    "start_time": "2022-03-12T07:15:49.425Z"
   },
   {
    "duration": 25,
    "start_time": "2022-03-12T07:15:49.435Z"
   },
   {
    "duration": 29,
    "start_time": "2022-03-12T07:15:49.462Z"
   },
   {
    "duration": 21,
    "start_time": "2022-03-12T07:15:49.492Z"
   },
   {
    "duration": 16,
    "start_time": "2022-03-12T07:15:49.514Z"
   },
   {
    "duration": 16,
    "start_time": "2022-03-12T07:15:49.532Z"
   },
   {
    "duration": 11,
    "start_time": "2022-03-12T07:15:49.549Z"
   },
   {
    "duration": 22,
    "start_time": "2022-03-12T07:15:49.561Z"
   },
   {
    "duration": 8,
    "start_time": "2022-03-12T07:15:49.585Z"
   },
   {
    "duration": 13,
    "start_time": "2022-03-12T07:15:49.595Z"
   },
   {
    "duration": 15,
    "start_time": "2022-03-12T07:15:49.610Z"
   },
   {
    "duration": 8,
    "start_time": "2022-03-12T07:15:49.626Z"
   },
   {
    "duration": 21,
    "start_time": "2022-03-12T07:15:49.635Z"
   },
   {
    "duration": 13,
    "start_time": "2022-03-12T07:15:49.658Z"
   },
   {
    "duration": 15,
    "start_time": "2022-03-12T07:15:49.673Z"
   },
   {
    "duration": 4,
    "start_time": "2022-03-12T07:15:49.690Z"
   },
   {
    "duration": 16,
    "start_time": "2022-03-12T07:15:49.696Z"
   },
   {
    "duration": 10,
    "start_time": "2022-03-12T07:15:49.713Z"
   },
   {
    "duration": 22,
    "start_time": "2022-03-12T07:15:49.724Z"
   },
   {
    "duration": 15,
    "start_time": "2022-03-12T07:15:49.748Z"
   },
   {
    "duration": 7,
    "start_time": "2022-03-12T07:15:49.765Z"
   },
   {
    "duration": 5,
    "start_time": "2022-03-12T07:15:49.774Z"
   },
   {
    "duration": 9,
    "start_time": "2022-03-12T07:15:49.781Z"
   },
   {
    "duration": 10,
    "start_time": "2022-03-12T07:15:49.792Z"
   },
   {
    "duration": 6,
    "start_time": "2022-03-12T07:15:49.804Z"
   },
   {
    "duration": 19,
    "start_time": "2022-03-12T07:15:49.811Z"
   },
   {
    "duration": 486,
    "start_time": "2022-03-12T07:15:49.832Z"
   },
   {
    "duration": -7242,
    "start_time": "2022-03-12T07:15:57.562Z"
   },
   {
    "duration": -7283,
    "start_time": "2022-03-12T07:15:57.604Z"
   },
   {
    "duration": -7317,
    "start_time": "2022-03-12T07:15:57.639Z"
   },
   {
    "duration": -7357,
    "start_time": "2022-03-12T07:15:57.680Z"
   },
   {
    "duration": -7391,
    "start_time": "2022-03-12T07:15:57.714Z"
   },
   {
    "duration": -7427,
    "start_time": "2022-03-12T07:15:57.751Z"
   },
   {
    "duration": -7459,
    "start_time": "2022-03-12T07:15:57.784Z"
   },
   {
    "duration": -7497,
    "start_time": "2022-03-12T07:15:57.823Z"
   },
   {
    "duration": -7528,
    "start_time": "2022-03-12T07:15:57.855Z"
   },
   {
    "duration": -7565,
    "start_time": "2022-03-12T07:15:57.893Z"
   },
   {
    "duration": -7595,
    "start_time": "2022-03-12T07:15:57.924Z"
   },
   {
    "duration": -7632,
    "start_time": "2022-03-12T07:15:57.962Z"
   },
   {
    "duration": -7653,
    "start_time": "2022-03-12T07:15:57.984Z"
   },
   {
    "duration": -7674,
    "start_time": "2022-03-12T07:15:58.006Z"
   },
   {
    "duration": -7694,
    "start_time": "2022-03-12T07:15:58.027Z"
   },
   {
    "duration": -7703,
    "start_time": "2022-03-12T07:15:58.037Z"
   },
   {
    "duration": -7709,
    "start_time": "2022-03-12T07:15:58.044Z"
   },
   {
    "duration": -7718,
    "start_time": "2022-03-12T07:15:58.054Z"
   },
   {
    "duration": -7737,
    "start_time": "2022-03-12T07:15:58.074Z"
   },
   {
    "duration": -7775,
    "start_time": "2022-03-12T07:15:58.113Z"
   },
   {
    "duration": -7811,
    "start_time": "2022-03-12T07:15:58.150Z"
   },
   {
    "duration": -7852,
    "start_time": "2022-03-12T07:15:58.192Z"
   },
   {
    "duration": -7887,
    "start_time": "2022-03-12T07:15:58.228Z"
   },
   {
    "duration": -7924,
    "start_time": "2022-03-12T07:15:58.266Z"
   },
   {
    "duration": -7958,
    "start_time": "2022-03-12T07:15:58.301Z"
   },
   {
    "duration": -7993,
    "start_time": "2022-03-12T07:15:58.337Z"
   },
   {
    "duration": -8028,
    "start_time": "2022-03-12T07:15:58.373Z"
   },
   {
    "duration": -8064,
    "start_time": "2022-03-12T07:15:58.410Z"
   },
   {
    "duration": -8098,
    "start_time": "2022-03-12T07:15:58.445Z"
   },
   {
    "duration": -8136,
    "start_time": "2022-03-12T07:15:58.484Z"
   },
   {
    "duration": -8167,
    "start_time": "2022-03-12T07:15:58.516Z"
   },
   {
    "duration": -8203,
    "start_time": "2022-03-12T07:15:58.553Z"
   },
   {
    "duration": -8239,
    "start_time": "2022-03-12T07:15:58.590Z"
   },
   {
    "duration": -8274,
    "start_time": "2022-03-12T07:15:58.626Z"
   },
   {
    "duration": -8300,
    "start_time": "2022-03-12T07:15:58.653Z"
   },
   {
    "duration": -8337,
    "start_time": "2022-03-12T07:15:58.691Z"
   },
   {
    "duration": -8373,
    "start_time": "2022-03-12T07:15:58.728Z"
   },
   {
    "duration": -8410,
    "start_time": "2022-03-12T07:15:58.766Z"
   },
   {
    "duration": -8446,
    "start_time": "2022-03-12T07:15:58.802Z"
   },
   {
    "duration": -8484,
    "start_time": "2022-03-12T07:15:58.841Z"
   },
   {
    "duration": -8515,
    "start_time": "2022-03-12T07:15:58.873Z"
   },
   {
    "duration": -8554,
    "start_time": "2022-03-12T07:15:58.913Z"
   },
   {
    "duration": -8586,
    "start_time": "2022-03-12T07:15:58.946Z"
   },
   {
    "duration": -8622,
    "start_time": "2022-03-12T07:15:58.983Z"
   },
   {
    "duration": -8656,
    "start_time": "2022-03-12T07:15:59.018Z"
   },
   {
    "duration": -8694,
    "start_time": "2022-03-12T07:15:59.057Z"
   },
   {
    "duration": -8726,
    "start_time": "2022-03-12T07:15:59.090Z"
   },
   {
    "duration": -8761,
    "start_time": "2022-03-12T07:15:59.125Z"
   },
   {
    "duration": -8795,
    "start_time": "2022-03-12T07:15:59.160Z"
   },
   {
    "duration": -8832,
    "start_time": "2022-03-12T07:15:59.198Z"
   },
   {
    "duration": -8864,
    "start_time": "2022-03-12T07:15:59.231Z"
   },
   {
    "duration": -8903,
    "start_time": "2022-03-12T07:15:59.271Z"
   },
   {
    "duration": -8933,
    "start_time": "2022-03-12T07:15:59.302Z"
   },
   {
    "duration": -8970,
    "start_time": "2022-03-12T07:15:59.340Z"
   },
   {
    "duration": -9001,
    "start_time": "2022-03-12T07:15:59.372Z"
   },
   {
    "duration": -9039,
    "start_time": "2022-03-12T07:15:59.410Z"
   },
   {
    "duration": -9071,
    "start_time": "2022-03-12T07:15:59.443Z"
   },
   {
    "duration": 18148,
    "start_time": "2022-03-12T07:17:32.069Z"
   },
   {
    "duration": 3,
    "start_time": "2022-03-12T07:18:02.976Z"
   },
   {
    "duration": 3,
    "start_time": "2022-03-12T07:18:18.788Z"
   },
   {
    "duration": 2,
    "start_time": "2022-03-12T07:18:18.796Z"
   },
   {
    "duration": 431,
    "start_time": "2022-03-12T07:18:18.805Z"
   },
   {
    "duration": 9,
    "start_time": "2022-03-12T07:18:19.238Z"
   },
   {
    "duration": 26,
    "start_time": "2022-03-12T07:18:19.249Z"
   },
   {
    "duration": 8,
    "start_time": "2022-03-12T07:18:19.277Z"
   },
   {
    "duration": 24,
    "start_time": "2022-03-12T07:18:19.287Z"
   },
   {
    "duration": 16,
    "start_time": "2022-03-12T07:18:19.313Z"
   },
   {
    "duration": 32,
    "start_time": "2022-03-12T07:18:19.331Z"
   },
   {
    "duration": 8,
    "start_time": "2022-03-12T07:18:19.366Z"
   },
   {
    "duration": 6,
    "start_time": "2022-03-12T07:18:19.376Z"
   },
   {
    "duration": 10,
    "start_time": "2022-03-12T07:18:19.384Z"
   },
   {
    "duration": 6,
    "start_time": "2022-03-12T07:18:19.396Z"
   },
   {
    "duration": 65,
    "start_time": "2022-03-12T07:18:19.403Z"
   },
   {
    "duration": 7,
    "start_time": "2022-03-12T07:18:19.470Z"
   },
   {
    "duration": 4,
    "start_time": "2022-03-12T07:18:19.479Z"
   },
   {
    "duration": 154,
    "start_time": "2022-03-12T07:18:19.485Z"
   },
   {
    "duration": 19,
    "start_time": "2022-03-12T07:18:19.641Z"
   },
   {
    "duration": 320,
    "start_time": "2022-03-12T07:18:19.662Z"
   },
   {
    "duration": 46,
    "start_time": "2022-03-12T07:18:19.984Z"
   },
   {
    "duration": 166,
    "start_time": "2022-03-12T07:18:20.032Z"
   },
   {
    "duration": 11,
    "start_time": "2022-03-12T07:18:20.200Z"
   },
   {
    "duration": 122,
    "start_time": "2022-03-12T07:18:20.213Z"
   },
   {
    "duration": 12,
    "start_time": "2022-03-12T07:18:20.337Z"
   },
   {
    "duration": 6,
    "start_time": "2022-03-12T07:18:20.361Z"
   },
   {
    "duration": 61,
    "start_time": "2022-03-12T07:18:20.369Z"
   },
   {
    "duration": 29,
    "start_time": "2022-03-12T07:18:20.431Z"
   },
   {
    "duration": 4,
    "start_time": "2022-03-12T07:18:20.462Z"
   },
   {
    "duration": 4,
    "start_time": "2022-03-12T07:18:20.467Z"
   },
   {
    "duration": 6,
    "start_time": "2022-03-12T07:18:20.473Z"
   },
   {
    "duration": 18,
    "start_time": "2022-03-12T07:18:20.481Z"
   },
   {
    "duration": 17,
    "start_time": "2022-03-12T07:18:20.501Z"
   },
   {
    "duration": 9,
    "start_time": "2022-03-12T07:18:20.519Z"
   },
   {
    "duration": 36,
    "start_time": "2022-03-12T07:18:20.529Z"
   },
   {
    "duration": 67,
    "start_time": "2022-03-12T07:18:20.567Z"
   },
   {
    "duration": 25,
    "start_time": "2022-03-12T07:18:20.635Z"
   },
   {
    "duration": 6,
    "start_time": "2022-03-12T07:18:20.661Z"
   },
   {
    "duration": 18,
    "start_time": "2022-03-12T07:18:20.669Z"
   },
   {
    "duration": 19,
    "start_time": "2022-03-12T07:18:20.688Z"
   },
   {
    "duration": 7,
    "start_time": "2022-03-12T07:18:20.709Z"
   },
   {
    "duration": 90,
    "start_time": "2022-03-12T07:18:20.718Z"
   },
   {
    "duration": 4,
    "start_time": "2022-03-12T07:18:20.810Z"
   },
   {
    "duration": 5,
    "start_time": "2022-03-12T07:18:20.815Z"
   },
   {
    "duration": 22,
    "start_time": "2022-03-12T07:18:20.822Z"
   },
   {
    "duration": 16,
    "start_time": "2022-03-12T07:18:20.860Z"
   },
   {
    "duration": 10,
    "start_time": "2022-03-12T07:18:20.878Z"
   },
   {
    "duration": 8,
    "start_time": "2022-03-12T07:18:20.890Z"
   },
   {
    "duration": 4,
    "start_time": "2022-03-12T07:18:20.900Z"
   },
   {
    "duration": 5,
    "start_time": "2022-03-12T07:18:20.905Z"
   },
   {
    "duration": 7,
    "start_time": "2022-03-12T07:18:20.911Z"
   },
   {
    "duration": 4,
    "start_time": "2022-03-12T07:18:20.920Z"
   },
   {
    "duration": 4,
    "start_time": "2022-03-12T07:18:20.959Z"
   },
   {
    "duration": 5,
    "start_time": "2022-03-12T07:18:20.965Z"
   },
   {
    "duration": 91,
    "start_time": "2022-03-12T07:18:20.972Z"
   },
   {
    "duration": 7,
    "start_time": "2022-03-12T07:18:21.064Z"
   },
   {
    "duration": 9,
    "start_time": "2022-03-12T07:18:21.073Z"
   },
   {
    "duration": 11,
    "start_time": "2022-03-12T07:18:21.084Z"
   },
   {
    "duration": 9,
    "start_time": "2022-03-12T07:18:21.097Z"
   },
   {
    "duration": 4,
    "start_time": "2022-03-12T07:18:21.107Z"
   },
   {
    "duration": 8,
    "start_time": "2022-03-12T07:18:21.113Z"
   },
   {
    "duration": 36,
    "start_time": "2022-03-12T07:18:21.123Z"
   },
   {
    "duration": 9,
    "start_time": "2022-03-12T07:18:21.161Z"
   },
   {
    "duration": 13,
    "start_time": "2022-03-12T07:18:21.172Z"
   },
   {
    "duration": 7,
    "start_time": "2022-03-12T07:18:21.187Z"
   },
   {
    "duration": 18,
    "start_time": "2022-03-12T07:18:21.196Z"
   },
   {
    "duration": 43,
    "start_time": "2022-03-12T07:18:21.216Z"
   },
   {
    "duration": 9,
    "start_time": "2022-03-12T07:18:21.261Z"
   },
   {
    "duration": 8,
    "start_time": "2022-03-12T07:18:21.272Z"
   },
   {
    "duration": 14,
    "start_time": "2022-03-12T07:18:21.282Z"
   },
   {
    "duration": 3,
    "start_time": "2022-03-12T07:18:21.303Z"
   },
   {
    "duration": 6,
    "start_time": "2022-03-12T07:18:21.310Z"
   },
   {
    "duration": 49,
    "start_time": "2022-03-12T07:18:21.318Z"
   },
   {
    "duration": 18,
    "start_time": "2022-03-12T07:18:21.369Z"
   },
   {
    "duration": 24,
    "start_time": "2022-03-12T07:18:21.389Z"
   },
   {
    "duration": 12,
    "start_time": "2022-03-12T07:18:21.415Z"
   },
   {
    "duration": 4,
    "start_time": "2022-03-12T07:18:21.429Z"
   },
   {
    "duration": 28,
    "start_time": "2022-03-12T07:18:21.434Z"
   },
   {
    "duration": 10,
    "start_time": "2022-03-12T07:18:21.464Z"
   },
   {
    "duration": 5,
    "start_time": "2022-03-12T07:18:21.476Z"
   },
   {
    "duration": 6,
    "start_time": "2022-03-12T07:18:21.483Z"
   },
   {
    "duration": 13,
    "start_time": "2022-03-12T07:18:21.491Z"
   },
   {
    "duration": 6,
    "start_time": "2022-03-12T07:18:21.505Z"
   },
   {
    "duration": 11,
    "start_time": "2022-03-12T07:18:21.513Z"
   },
   {
    "duration": 36,
    "start_time": "2022-03-12T07:18:21.525Z"
   },
   {
    "duration": 16,
    "start_time": "2022-03-12T07:18:21.563Z"
   },
   {
    "duration": 4,
    "start_time": "2022-03-12T07:18:21.581Z"
   },
   {
    "duration": 14,
    "start_time": "2022-03-12T07:18:21.587Z"
   },
   {
    "duration": 4,
    "start_time": "2022-03-12T07:18:21.603Z"
   },
   {
    "duration": 14,
    "start_time": "2022-03-12T07:18:21.609Z"
   },
   {
    "duration": 8,
    "start_time": "2022-03-12T07:18:21.624Z"
   },
   {
    "duration": 7,
    "start_time": "2022-03-12T07:18:21.659Z"
   },
   {
    "duration": 6,
    "start_time": "2022-03-12T07:18:21.668Z"
   },
   {
    "duration": 7,
    "start_time": "2022-03-12T07:18:21.676Z"
   },
   {
    "duration": 6,
    "start_time": "2022-03-12T07:18:21.685Z"
   },
   {
    "duration": 9,
    "start_time": "2022-03-12T07:18:21.693Z"
   },
   {
    "duration": 8,
    "start_time": "2022-03-12T07:18:21.704Z"
   },
   {
    "duration": 376,
    "start_time": "2022-03-12T07:18:21.713Z"
   },
   {
    "duration": -8679,
    "start_time": "2022-03-12T07:18:30.770Z"
   },
   {
    "duration": -8691,
    "start_time": "2022-03-12T07:18:30.784Z"
   },
   {
    "duration": -8699,
    "start_time": "2022-03-12T07:18:30.793Z"
   },
   {
    "duration": -8705,
    "start_time": "2022-03-12T07:18:30.800Z"
   },
   {
    "duration": -8713,
    "start_time": "2022-03-12T07:18:30.809Z"
   },
   {
    "duration": -8719,
    "start_time": "2022-03-12T07:18:30.816Z"
   },
   {
    "duration": -8726,
    "start_time": "2022-03-12T07:18:30.824Z"
   },
   {
    "duration": -8732,
    "start_time": "2022-03-12T07:18:30.832Z"
   },
   {
    "duration": -8739,
    "start_time": "2022-03-12T07:18:30.840Z"
   },
   {
    "duration": -8746,
    "start_time": "2022-03-12T07:18:30.848Z"
   },
   {
    "duration": -8810,
    "start_time": "2022-03-12T07:18:30.914Z"
   },
   {
    "duration": -8820,
    "start_time": "2022-03-12T07:18:30.925Z"
   },
   {
    "duration": -8828,
    "start_time": "2022-03-12T07:18:30.934Z"
   },
   {
    "duration": -8835,
    "start_time": "2022-03-12T07:18:30.942Z"
   },
   {
    "duration": -8842,
    "start_time": "2022-03-12T07:18:30.950Z"
   },
   {
    "duration": -8848,
    "start_time": "2022-03-12T07:18:30.957Z"
   },
   {
    "duration": -8856,
    "start_time": "2022-03-12T07:18:30.966Z"
   },
   {
    "duration": -8862,
    "start_time": "2022-03-12T07:18:30.973Z"
   },
   {
    "duration": -8870,
    "start_time": "2022-03-12T07:18:30.983Z"
   },
   {
    "duration": -8876,
    "start_time": "2022-03-12T07:18:30.990Z"
   },
   {
    "duration": -8884,
    "start_time": "2022-03-12T07:18:30.999Z"
   },
   {
    "duration": -8890,
    "start_time": "2022-03-12T07:18:31.006Z"
   },
   {
    "duration": -8908,
    "start_time": "2022-03-12T07:18:31.025Z"
   },
   {
    "duration": -8916,
    "start_time": "2022-03-12T07:18:31.034Z"
   },
   {
    "duration": -8923,
    "start_time": "2022-03-12T07:18:31.042Z"
   },
   {
    "duration": -8930,
    "start_time": "2022-03-12T07:18:31.050Z"
   },
   {
    "duration": -8937,
    "start_time": "2022-03-12T07:18:31.058Z"
   },
   {
    "duration": -8943,
    "start_time": "2022-03-12T07:18:31.065Z"
   },
   {
    "duration": -8950,
    "start_time": "2022-03-12T07:18:31.073Z"
   },
   {
    "duration": -8956,
    "start_time": "2022-03-12T07:18:31.080Z"
   },
   {
    "duration": -8964,
    "start_time": "2022-03-12T07:18:31.089Z"
   },
   {
    "duration": -8970,
    "start_time": "2022-03-12T07:18:31.096Z"
   },
   {
    "duration": -8977,
    "start_time": "2022-03-12T07:18:31.104Z"
   },
   {
    "duration": -8984,
    "start_time": "2022-03-12T07:18:31.112Z"
   },
   {
    "duration": -8991,
    "start_time": "2022-03-12T07:18:31.120Z"
   },
   {
    "duration": -8980,
    "start_time": "2022-03-12T07:18:31.139Z"
   },
   {
    "duration": -8989,
    "start_time": "2022-03-12T07:18:31.149Z"
   },
   {
    "duration": -8995,
    "start_time": "2022-03-12T07:18:31.156Z"
   },
   {
    "duration": -9002,
    "start_time": "2022-03-12T07:18:31.164Z"
   },
   {
    "duration": -9009,
    "start_time": "2022-03-12T07:18:31.172Z"
   },
   {
    "duration": -9015,
    "start_time": "2022-03-12T07:18:31.180Z"
   },
   {
    "duration": -9022,
    "start_time": "2022-03-12T07:18:31.188Z"
   },
   {
    "duration": -9029,
    "start_time": "2022-03-12T07:18:31.196Z"
   },
   {
    "duration": -9035,
    "start_time": "2022-03-12T07:18:31.203Z"
   },
   {
    "duration": -9042,
    "start_time": "2022-03-12T07:18:31.211Z"
   },
   {
    "duration": -9049,
    "start_time": "2022-03-12T07:18:31.219Z"
   },
   {
    "duration": -9056,
    "start_time": "2022-03-12T07:18:31.227Z"
   },
   {
    "duration": -9063,
    "start_time": "2022-03-12T07:18:31.235Z"
   },
   {
    "duration": -9082,
    "start_time": "2022-03-12T07:18:31.256Z"
   },
   {
    "duration": -9090,
    "start_time": "2022-03-12T07:18:31.265Z"
   },
   {
    "duration": -9098,
    "start_time": "2022-03-12T07:18:31.273Z"
   },
   {
    "duration": -9105,
    "start_time": "2022-03-12T07:18:31.281Z"
   },
   {
    "duration": -9112,
    "start_time": "2022-03-12T07:18:31.290Z"
   },
   {
    "duration": -9118,
    "start_time": "2022-03-12T07:18:31.297Z"
   },
   {
    "duration": -9125,
    "start_time": "2022-03-12T07:18:31.305Z"
   },
   {
    "duration": -9132,
    "start_time": "2022-03-12T07:18:31.313Z"
   },
   {
    "duration": -9140,
    "start_time": "2022-03-12T07:18:31.322Z"
   },
   {
    "duration": 1101,
    "start_time": "2022-03-12T07:18:42.101Z"
   },
   {
    "duration": 2,
    "start_time": "2022-03-12T07:18:43.204Z"
   },
   {
    "duration": 402,
    "start_time": "2022-03-12T07:18:43.208Z"
   },
   {
    "duration": 10,
    "start_time": "2022-03-12T07:18:43.612Z"
   },
   {
    "duration": 26,
    "start_time": "2022-03-12T07:18:43.624Z"
   },
   {
    "duration": 7,
    "start_time": "2022-03-12T07:18:43.651Z"
   },
   {
    "duration": 26,
    "start_time": "2022-03-12T07:18:43.659Z"
   },
   {
    "duration": 7,
    "start_time": "2022-03-12T07:18:43.687Z"
   },
   {
    "duration": 26,
    "start_time": "2022-03-12T07:18:43.696Z"
   },
   {
    "duration": 12,
    "start_time": "2022-03-12T07:18:43.724Z"
   },
   {
    "duration": 17,
    "start_time": "2022-03-12T07:18:43.737Z"
   },
   {
    "duration": 14,
    "start_time": "2022-03-12T07:18:43.755Z"
   },
   {
    "duration": 17,
    "start_time": "2022-03-12T07:18:43.771Z"
   },
   {
    "duration": 52,
    "start_time": "2022-03-12T07:18:43.790Z"
   },
   {
    "duration": 8,
    "start_time": "2022-03-12T07:18:43.843Z"
   },
   {
    "duration": 19,
    "start_time": "2022-03-12T07:18:43.853Z"
   },
   {
    "duration": 136,
    "start_time": "2022-03-12T07:18:43.873Z"
   },
   {
    "duration": 3,
    "start_time": "2022-03-12T07:18:44.011Z"
   },
   {
    "duration": 306,
    "start_time": "2022-03-12T07:18:44.016Z"
   },
   {
    "duration": 53,
    "start_time": "2022-03-12T07:18:44.324Z"
   },
   {
    "duration": 144,
    "start_time": "2022-03-12T07:18:44.379Z"
   },
   {
    "duration": 11,
    "start_time": "2022-03-12T07:18:44.524Z"
   },
   {
    "duration": 128,
    "start_time": "2022-03-12T07:18:44.540Z"
   },
   {
    "duration": 10,
    "start_time": "2022-03-12T07:18:44.670Z"
   },
   {
    "duration": 17,
    "start_time": "2022-03-12T07:18:44.682Z"
   },
   {
    "duration": 69,
    "start_time": "2022-03-12T07:18:44.701Z"
   },
   {
    "duration": 10,
    "start_time": "2022-03-12T07:18:44.772Z"
   },
   {
    "duration": 17,
    "start_time": "2022-03-12T07:18:44.783Z"
   },
   {
    "duration": 18,
    "start_time": "2022-03-12T07:18:44.801Z"
   },
   {
    "duration": 21,
    "start_time": "2022-03-12T07:18:44.820Z"
   },
   {
    "duration": 23,
    "start_time": "2022-03-12T07:18:44.842Z"
   },
   {
    "duration": 16,
    "start_time": "2022-03-12T07:18:44.866Z"
   },
   {
    "duration": 7,
    "start_time": "2022-03-12T07:18:44.884Z"
   },
   {
    "duration": 9,
    "start_time": "2022-03-12T07:18:44.893Z"
   },
   {
    "duration": 71,
    "start_time": "2022-03-12T07:18:44.904Z"
   },
   {
    "duration": 10,
    "start_time": "2022-03-12T07:18:44.976Z"
   },
   {
    "duration": 4,
    "start_time": "2022-03-12T07:18:44.988Z"
   },
   {
    "duration": 18,
    "start_time": "2022-03-12T07:18:44.994Z"
   },
   {
    "duration": 23,
    "start_time": "2022-03-12T07:18:45.013Z"
   },
   {
    "duration": 22,
    "start_time": "2022-03-12T07:18:45.037Z"
   },
   {
    "duration": 65,
    "start_time": "2022-03-12T07:18:45.061Z"
   },
   {
    "duration": 3,
    "start_time": "2022-03-12T07:18:45.127Z"
   },
   {
    "duration": 6,
    "start_time": "2022-03-12T07:18:45.132Z"
   },
   {
    "duration": 33,
    "start_time": "2022-03-12T07:18:45.140Z"
   },
   {
    "duration": 16,
    "start_time": "2022-03-12T07:18:45.175Z"
   },
   {
    "duration": 9,
    "start_time": "2022-03-12T07:18:45.193Z"
   },
   {
    "duration": 8,
    "start_time": "2022-03-12T07:18:45.204Z"
   },
   {
    "duration": 4,
    "start_time": "2022-03-12T07:18:45.214Z"
   },
   {
    "duration": 3,
    "start_time": "2022-03-12T07:18:45.220Z"
   },
   {
    "duration": 35,
    "start_time": "2022-03-12T07:18:45.224Z"
   },
   {
    "duration": 8,
    "start_time": "2022-03-12T07:18:45.261Z"
   },
   {
    "duration": 9,
    "start_time": "2022-03-12T07:18:45.271Z"
   },
   {
    "duration": 6,
    "start_time": "2022-03-12T07:18:45.282Z"
   },
   {
    "duration": 87,
    "start_time": "2022-03-12T07:18:45.289Z"
   },
   {
    "duration": 5,
    "start_time": "2022-03-12T07:18:45.378Z"
   },
   {
    "duration": 16,
    "start_time": "2022-03-12T07:18:45.385Z"
   },
   {
    "duration": 13,
    "start_time": "2022-03-12T07:18:45.403Z"
   },
   {
    "duration": 8,
    "start_time": "2022-03-12T07:18:45.417Z"
   },
   {
    "duration": 3,
    "start_time": "2022-03-12T07:18:45.427Z"
   },
   {
    "duration": 28,
    "start_time": "2022-03-12T07:18:45.431Z"
   },
   {
    "duration": 7,
    "start_time": "2022-03-12T07:18:45.461Z"
   },
   {
    "duration": 7,
    "start_time": "2022-03-12T07:18:45.470Z"
   },
   {
    "duration": 13,
    "start_time": "2022-03-12T07:18:45.479Z"
   },
   {
    "duration": 6,
    "start_time": "2022-03-12T07:18:45.494Z"
   },
   {
    "duration": 19,
    "start_time": "2022-03-12T07:18:45.501Z"
   },
   {
    "duration": 8,
    "start_time": "2022-03-12T07:18:45.522Z"
   },
   {
    "duration": 8,
    "start_time": "2022-03-12T07:18:45.559Z"
   },
   {
    "duration": 8,
    "start_time": "2022-03-12T07:18:45.574Z"
   },
   {
    "duration": 13,
    "start_time": "2022-03-12T07:18:45.585Z"
   },
   {
    "duration": 3,
    "start_time": "2022-03-12T07:18:45.599Z"
   },
   {
    "duration": 6,
    "start_time": "2022-03-12T07:18:45.604Z"
   },
   {
    "duration": 12,
    "start_time": "2022-03-12T07:18:45.612Z"
   },
   {
    "duration": 17,
    "start_time": "2022-03-12T07:18:45.659Z"
   },
   {
    "duration": 18,
    "start_time": "2022-03-12T07:18:45.677Z"
   },
   {
    "duration": 12,
    "start_time": "2022-03-12T07:18:45.697Z"
   },
   {
    "duration": 5,
    "start_time": "2022-03-12T07:18:45.711Z"
   },
   {
    "duration": 9,
    "start_time": "2022-03-12T07:18:45.718Z"
   },
   {
    "duration": 37,
    "start_time": "2022-03-12T07:18:45.728Z"
   },
   {
    "duration": 4,
    "start_time": "2022-03-12T07:18:45.767Z"
   },
   {
    "duration": 6,
    "start_time": "2022-03-12T07:18:45.772Z"
   },
   {
    "duration": 16,
    "start_time": "2022-03-12T07:18:45.779Z"
   },
   {
    "duration": 7,
    "start_time": "2022-03-12T07:18:45.797Z"
   },
   {
    "duration": 7,
    "start_time": "2022-03-12T07:18:45.805Z"
   },
   {
    "duration": 13,
    "start_time": "2022-03-12T07:18:45.813Z"
   },
   {
    "duration": 39,
    "start_time": "2022-03-12T07:18:45.827Z"
   },
   {
    "duration": 2,
    "start_time": "2022-03-12T07:18:45.868Z"
   },
   {
    "duration": 7,
    "start_time": "2022-03-12T07:18:45.872Z"
   },
   {
    "duration": 13,
    "start_time": "2022-03-12T07:18:45.881Z"
   },
   {
    "duration": 17,
    "start_time": "2022-03-12T07:18:45.895Z"
   },
   {
    "duration": 8,
    "start_time": "2022-03-12T07:18:45.914Z"
   },
   {
    "duration": 6,
    "start_time": "2022-03-12T07:18:45.924Z"
   },
   {
    "duration": 27,
    "start_time": "2022-03-12T07:18:45.932Z"
   },
   {
    "duration": 7,
    "start_time": "2022-03-12T07:18:45.961Z"
   },
   {
    "duration": 5,
    "start_time": "2022-03-12T07:18:45.970Z"
   },
   {
    "duration": 5,
    "start_time": "2022-03-12T07:18:45.977Z"
   },
   {
    "duration": 7,
    "start_time": "2022-03-12T07:18:45.983Z"
   },
   {
    "duration": 508,
    "start_time": "2022-03-12T07:18:45.991Z"
   },
   {
    "duration": 473,
    "start_time": "2022-03-12T07:18:46.501Z"
   },
   {
    "duration": 5040,
    "start_time": "2022-03-12T07:18:46.976Z"
   },
   {
    "duration": -6531,
    "start_time": "2022-03-12T07:18:58.549Z"
   },
   {
    "duration": -6581,
    "start_time": "2022-03-12T07:18:58.600Z"
   },
   {
    "duration": -6611,
    "start_time": "2022-03-12T07:18:58.631Z"
   },
   {
    "duration": -6644,
    "start_time": "2022-03-12T07:18:58.664Z"
   },
   {
    "duration": -6674,
    "start_time": "2022-03-12T07:18:58.695Z"
   },
   {
    "duration": -6703,
    "start_time": "2022-03-12T07:18:58.725Z"
   },
   {
    "duration": -6732,
    "start_time": "2022-03-12T07:18:58.755Z"
   },
   {
    "duration": -6742,
    "start_time": "2022-03-12T07:18:58.766Z"
   },
   {
    "duration": -6749,
    "start_time": "2022-03-12T07:18:58.774Z"
   },
   {
    "duration": -6758,
    "start_time": "2022-03-12T07:18:58.784Z"
   },
   {
    "duration": -6766,
    "start_time": "2022-03-12T07:18:58.793Z"
   },
   {
    "duration": -6773,
    "start_time": "2022-03-12T07:18:58.801Z"
   },
   {
    "duration": -6779,
    "start_time": "2022-03-12T07:18:58.808Z"
   },
   {
    "duration": -6786,
    "start_time": "2022-03-12T07:18:58.816Z"
   },
   {
    "duration": -6794,
    "start_time": "2022-03-12T07:18:58.824Z"
   },
   {
    "duration": -6801,
    "start_time": "2022-03-12T07:18:58.832Z"
   },
   {
    "duration": -6807,
    "start_time": "2022-03-12T07:18:58.839Z"
   },
   {
    "duration": -6814,
    "start_time": "2022-03-12T07:18:58.847Z"
   },
   {
    "duration": -6840,
    "start_time": "2022-03-12T07:18:58.874Z"
   },
   {
    "duration": -6851,
    "start_time": "2022-03-12T07:18:58.886Z"
   },
   {
    "duration": -6859,
    "start_time": "2022-03-12T07:18:58.895Z"
   },
   {
    "duration": -6867,
    "start_time": "2022-03-12T07:18:58.904Z"
   },
   {
    "duration": -6874,
    "start_time": "2022-03-12T07:18:58.912Z"
   },
   {
    "duration": -6881,
    "start_time": "2022-03-12T07:18:58.920Z"
   },
   {
    "duration": -6889,
    "start_time": "2022-03-12T07:18:58.929Z"
   },
   {
    "duration": -6896,
    "start_time": "2022-03-12T07:18:58.937Z"
   },
   {
    "duration": -6903,
    "start_time": "2022-03-12T07:18:58.945Z"
   },
   {
    "duration": -6910,
    "start_time": "2022-03-12T07:18:58.953Z"
   },
   {
    "duration": -6917,
    "start_time": "2022-03-12T07:18:58.961Z"
   },
   {
    "duration": -6925,
    "start_time": "2022-03-12T07:18:58.970Z"
   },
   {
    "duration": -6943,
    "start_time": "2022-03-12T07:18:58.989Z"
   },
   {
    "duration": -6953,
    "start_time": "2022-03-12T07:18:59.000Z"
   },
   {
    "duration": -6961,
    "start_time": "2022-03-12T07:18:59.009Z"
   },
   {
    "duration": -6996,
    "start_time": "2022-03-12T07:18:59.045Z"
   },
   {
    "duration": -7030,
    "start_time": "2022-03-12T07:18:59.080Z"
   },
   {
    "duration": -7067,
    "start_time": "2022-03-12T07:18:59.118Z"
   },
   {
    "duration": -7105,
    "start_time": "2022-03-12T07:18:59.157Z"
   },
   {
    "duration": -7144,
    "start_time": "2022-03-12T07:18:59.197Z"
   },
   {
    "duration": -7179,
    "start_time": "2022-03-12T07:18:59.233Z"
   },
   {
    "duration": -7202,
    "start_time": "2022-03-12T07:18:59.260Z"
   },
   {
    "duration": -7223,
    "start_time": "2022-03-12T07:18:59.282Z"
   },
   {
    "duration": -7245,
    "start_time": "2022-03-12T07:18:59.305Z"
   },
   {
    "duration": -7253,
    "start_time": "2022-03-12T07:18:59.314Z"
   },
   {
    "duration": -7260,
    "start_time": "2022-03-12T07:18:59.322Z"
   },
   {
    "duration": -7268,
    "start_time": "2022-03-12T07:18:59.331Z"
   },
   {
    "duration": -7275,
    "start_time": "2022-03-12T07:18:59.339Z"
   },
   {
    "duration": -7281,
    "start_time": "2022-03-12T07:18:59.347Z"
   },
   {
    "duration": -7288,
    "start_time": "2022-03-12T07:18:59.355Z"
   },
   {
    "duration": -7295,
    "start_time": "2022-03-12T07:18:59.363Z"
   },
   {
    "duration": -7327,
    "start_time": "2022-03-12T07:18:59.396Z"
   },
   {
    "duration": -7350,
    "start_time": "2022-03-12T07:18:59.420Z"
   },
   {
    "duration": -7372,
    "start_time": "2022-03-12T07:18:59.443Z"
   },
   {
    "duration": -7392,
    "start_time": "2022-03-12T07:18:59.464Z"
   },
   {
    "duration": -7414,
    "start_time": "2022-03-12T07:18:59.487Z"
   },
   {
    "duration": -7422,
    "start_time": "2022-03-12T07:18:59.496Z"
   },
   {
    "duration": 4,
    "start_time": "2022-03-12T07:19:56.220Z"
   },
   {
    "duration": 479,
    "start_time": "2022-03-12T07:20:07.936Z"
   },
   {
    "duration": 469,
    "start_time": "2022-03-12T07:20:17.355Z"
   },
   {
    "duration": 4551,
    "start_time": "2022-03-12T07:20:48.259Z"
   },
   {
    "duration": 3,
    "start_time": "2022-03-12T07:21:05.546Z"
   },
   {
    "duration": 10,
    "start_time": "2022-03-12T07:21:05.551Z"
   },
   {
    "duration": 398,
    "start_time": "2022-03-12T07:21:05.563Z"
   },
   {
    "duration": 8,
    "start_time": "2022-03-12T07:21:05.963Z"
   },
   {
    "duration": 40,
    "start_time": "2022-03-12T07:21:05.972Z"
   },
   {
    "duration": 9,
    "start_time": "2022-03-12T07:21:06.014Z"
   },
   {
    "duration": 38,
    "start_time": "2022-03-12T07:21:06.025Z"
   },
   {
    "duration": 7,
    "start_time": "2022-03-12T07:21:06.065Z"
   },
   {
    "duration": 31,
    "start_time": "2022-03-12T07:21:06.075Z"
   },
   {
    "duration": 25,
    "start_time": "2022-03-12T07:21:06.108Z"
   },
   {
    "duration": 20,
    "start_time": "2022-03-12T07:21:06.135Z"
   },
   {
    "duration": 22,
    "start_time": "2022-03-12T07:21:06.157Z"
   },
   {
    "duration": 7,
    "start_time": "2022-03-12T07:21:06.181Z"
   },
   {
    "duration": 26,
    "start_time": "2022-03-12T07:21:06.190Z"
   },
   {
    "duration": 8,
    "start_time": "2022-03-12T07:21:06.218Z"
   },
   {
    "duration": 12,
    "start_time": "2022-03-12T07:21:06.228Z"
   },
   {
    "duration": 144,
    "start_time": "2022-03-12T07:21:06.241Z"
   },
   {
    "duration": 2,
    "start_time": "2022-03-12T07:21:06.387Z"
   },
   {
    "duration": 326,
    "start_time": "2022-03-12T07:21:06.391Z"
   },
   {
    "duration": 51,
    "start_time": "2022-03-12T07:21:06.719Z"
   },
   {
    "duration": 154,
    "start_time": "2022-03-12T07:21:06.772Z"
   },
   {
    "duration": 10,
    "start_time": "2022-03-12T07:21:06.927Z"
   },
   {
    "duration": 116,
    "start_time": "2022-03-12T07:21:06.939Z"
   },
   {
    "duration": 10,
    "start_time": "2022-03-12T07:21:07.059Z"
   },
   {
    "duration": 8,
    "start_time": "2022-03-12T07:21:07.071Z"
   },
   {
    "duration": 80,
    "start_time": "2022-03-12T07:21:07.084Z"
   },
   {
    "duration": 11,
    "start_time": "2022-03-12T07:21:07.167Z"
   },
   {
    "duration": 4,
    "start_time": "2022-03-12T07:21:07.180Z"
   },
   {
    "duration": 17,
    "start_time": "2022-03-12T07:21:07.185Z"
   },
   {
    "duration": 13,
    "start_time": "2022-03-12T07:21:07.204Z"
   },
   {
    "duration": 27,
    "start_time": "2022-03-12T07:21:07.219Z"
   },
   {
    "duration": 23,
    "start_time": "2022-03-12T07:21:07.247Z"
   },
   {
    "duration": 16,
    "start_time": "2022-03-12T07:21:07.272Z"
   },
   {
    "duration": 11,
    "start_time": "2022-03-12T07:21:07.290Z"
   },
   {
    "duration": 63,
    "start_time": "2022-03-12T07:21:07.302Z"
   },
   {
    "duration": 11,
    "start_time": "2022-03-12T07:21:07.367Z"
   },
   {
    "duration": 11,
    "start_time": "2022-03-12T07:21:07.379Z"
   },
   {
    "duration": 21,
    "start_time": "2022-03-12T07:21:07.392Z"
   },
   {
    "duration": 31,
    "start_time": "2022-03-12T07:21:07.415Z"
   },
   {
    "duration": 15,
    "start_time": "2022-03-12T07:21:07.448Z"
   },
   {
    "duration": 81,
    "start_time": "2022-03-12T07:21:07.465Z"
   },
   {
    "duration": 8,
    "start_time": "2022-03-12T07:21:07.548Z"
   },
   {
    "duration": 17,
    "start_time": "2022-03-12T07:21:07.558Z"
   },
   {
    "duration": 46,
    "start_time": "2022-03-12T07:21:07.576Z"
   },
   {
    "duration": 31,
    "start_time": "2022-03-12T07:21:07.624Z"
   },
   {
    "duration": 17,
    "start_time": "2022-03-12T07:21:07.657Z"
   },
   {
    "duration": 32,
    "start_time": "2022-03-12T07:21:07.675Z"
   },
   {
    "duration": 18,
    "start_time": "2022-03-12T07:21:07.708Z"
   },
   {
    "duration": 21,
    "start_time": "2022-03-12T07:21:07.728Z"
   },
   {
    "duration": 26,
    "start_time": "2022-03-12T07:21:07.750Z"
   },
   {
    "duration": 21,
    "start_time": "2022-03-12T07:21:07.777Z"
   },
   {
    "duration": 13,
    "start_time": "2022-03-12T07:21:07.799Z"
   },
   {
    "duration": 14,
    "start_time": "2022-03-12T07:21:07.814Z"
   },
   {
    "duration": 88,
    "start_time": "2022-03-12T07:21:07.830Z"
   },
   {
    "duration": 6,
    "start_time": "2022-03-12T07:21:07.920Z"
   },
   {
    "duration": 10,
    "start_time": "2022-03-12T07:21:07.928Z"
   },
   {
    "duration": 21,
    "start_time": "2022-03-12T07:21:07.939Z"
   },
   {
    "duration": 8,
    "start_time": "2022-03-12T07:21:07.962Z"
   },
   {
    "duration": 12,
    "start_time": "2022-03-12T07:21:07.971Z"
   },
   {
    "duration": 17,
    "start_time": "2022-03-12T07:21:07.985Z"
   },
   {
    "duration": 16,
    "start_time": "2022-03-12T07:21:08.004Z"
   },
   {
    "duration": 10,
    "start_time": "2022-03-12T07:21:08.021Z"
   },
   {
    "duration": 23,
    "start_time": "2022-03-12T07:21:08.033Z"
   },
   {
    "duration": 5,
    "start_time": "2022-03-12T07:21:08.058Z"
   },
   {
    "duration": 17,
    "start_time": "2022-03-12T07:21:08.065Z"
   },
   {
    "duration": 8,
    "start_time": "2022-03-12T07:21:08.084Z"
   },
   {
    "duration": 8,
    "start_time": "2022-03-12T07:21:08.094Z"
   },
   {
    "duration": 7,
    "start_time": "2022-03-12T07:21:08.103Z"
   },
   {
    "duration": 19,
    "start_time": "2022-03-12T07:21:08.111Z"
   },
   {
    "duration": 3,
    "start_time": "2022-03-12T07:21:08.131Z"
   },
   {
    "duration": 23,
    "start_time": "2022-03-12T07:21:08.136Z"
   },
   {
    "duration": 12,
    "start_time": "2022-03-12T07:21:08.161Z"
   },
   {
    "duration": 24,
    "start_time": "2022-03-12T07:21:08.175Z"
   },
   {
    "duration": 29,
    "start_time": "2022-03-12T07:21:08.201Z"
   },
   {
    "duration": 20,
    "start_time": "2022-03-12T07:21:08.232Z"
   },
   {
    "duration": 3,
    "start_time": "2022-03-12T07:21:08.260Z"
   },
   {
    "duration": 25,
    "start_time": "2022-03-12T07:21:08.270Z"
   },
   {
    "duration": 10,
    "start_time": "2022-03-12T07:21:08.298Z"
   },
   {
    "duration": 15,
    "start_time": "2022-03-12T07:21:08.309Z"
   },
   {
    "duration": 17,
    "start_time": "2022-03-12T07:21:08.326Z"
   },
   {
    "duration": 17,
    "start_time": "2022-03-12T07:21:08.345Z"
   },
   {
    "duration": 5,
    "start_time": "2022-03-12T07:21:08.364Z"
   },
   {
    "duration": 11,
    "start_time": "2022-03-12T07:21:08.371Z"
   },
   {
    "duration": 13,
    "start_time": "2022-03-12T07:21:08.384Z"
   },
   {
    "duration": 24,
    "start_time": "2022-03-12T07:21:08.398Z"
   },
   {
    "duration": 3,
    "start_time": "2022-03-12T07:21:08.424Z"
   },
   {
    "duration": 27,
    "start_time": "2022-03-12T07:21:08.428Z"
   },
   {
    "duration": 24,
    "start_time": "2022-03-12T07:21:08.457Z"
   },
   {
    "duration": 13,
    "start_time": "2022-03-12T07:21:08.483Z"
   },
   {
    "duration": 20,
    "start_time": "2022-03-12T07:21:08.498Z"
   },
   {
    "duration": 19,
    "start_time": "2022-03-12T07:21:08.519Z"
   },
   {
    "duration": 4,
    "start_time": "2022-03-12T07:21:08.540Z"
   },
   {
    "duration": 21,
    "start_time": "2022-03-12T07:21:08.546Z"
   },
   {
    "duration": 8,
    "start_time": "2022-03-12T07:21:08.569Z"
   },
   {
    "duration": 15,
    "start_time": "2022-03-12T07:21:08.579Z"
   },
   {
    "duration": 22,
    "start_time": "2022-03-12T07:21:08.596Z"
   },
   {
    "duration": 468,
    "start_time": "2022-03-12T07:21:08.620Z"
   },
   {
    "duration": 535,
    "start_time": "2022-03-12T07:21:09.090Z"
   },
   {
    "duration": 10,
    "start_time": "2022-03-12T07:21:09.627Z"
   },
   {
    "duration": 26,
    "start_time": "2022-03-12T07:21:09.639Z"
   },
   {
    "duration": 3,
    "start_time": "2022-03-12T07:21:09.667Z"
   },
   {
    "duration": 10,
    "start_time": "2022-03-12T07:21:09.671Z"
   },
   {
    "duration": 4,
    "start_time": "2022-03-12T07:21:09.683Z"
   },
   {
    "duration": 16,
    "start_time": "2022-03-12T07:21:09.689Z"
   },
   {
    "duration": 8,
    "start_time": "2022-03-12T07:21:09.706Z"
   },
   {
    "duration": 7,
    "start_time": "2022-03-12T07:21:09.716Z"
   },
   {
    "duration": 12,
    "start_time": "2022-03-12T07:21:09.725Z"
   },
   {
    "duration": 7,
    "start_time": "2022-03-12T07:21:09.759Z"
   },
   {
    "duration": 5,
    "start_time": "2022-03-12T07:21:09.768Z"
   },
   {
    "duration": 4,
    "start_time": "2022-03-12T07:21:09.775Z"
   },
   {
    "duration": 462,
    "start_time": "2022-03-12T07:21:09.780Z"
   },
   {
    "duration": 488,
    "start_time": "2022-03-12T07:21:10.244Z"
   },
   {
    "duration": 7,
    "start_time": "2022-03-12T07:21:10.734Z"
   },
   {
    "duration": 24,
    "start_time": "2022-03-12T07:21:10.742Z"
   },
   {
    "duration": 3,
    "start_time": "2022-03-12T07:21:10.767Z"
   },
   {
    "duration": 6,
    "start_time": "2022-03-12T07:21:10.772Z"
   },
   {
    "duration": 5,
    "start_time": "2022-03-12T07:21:10.780Z"
   },
   {
    "duration": 13,
    "start_time": "2022-03-12T07:21:10.787Z"
   },
   {
    "duration": 7,
    "start_time": "2022-03-12T07:21:10.802Z"
   },
   {
    "duration": 8,
    "start_time": "2022-03-12T07:21:10.811Z"
   },
   {
    "duration": 6,
    "start_time": "2022-03-12T07:21:10.820Z"
   },
   {
    "duration": 36,
    "start_time": "2022-03-12T07:21:10.828Z"
   },
   {
    "duration": 11,
    "start_time": "2022-03-12T07:21:10.866Z"
   },
   {
    "duration": 5,
    "start_time": "2022-03-12T07:21:10.878Z"
   },
   {
    "duration": 467,
    "start_time": "2022-03-12T07:21:10.885Z"
   },
   {
    "duration": 472,
    "start_time": "2022-03-12T07:21:11.354Z"
   },
   {
    "duration": 10,
    "start_time": "2022-03-12T07:21:11.827Z"
   },
   {
    "duration": 5,
    "start_time": "2022-03-12T07:21:11.839Z"
   },
   {
    "duration": 23,
    "start_time": "2022-03-12T07:21:11.845Z"
   },
   {
    "duration": 6,
    "start_time": "2022-03-12T07:21:11.869Z"
   },
   {
    "duration": 919,
    "start_time": "2022-03-12T07:21:11.877Z"
   },
   {
    "duration": 365,
    "start_time": "2022-03-12T07:21:12.797Z"
   },
   {
    "duration": 2,
    "start_time": "2022-03-12T07:21:13.164Z"
   },
   {
    "duration": 6,
    "start_time": "2022-03-12T07:21:13.168Z"
   },
   {
    "duration": 8,
    "start_time": "2022-03-12T07:21:13.175Z"
   },
   {
    "duration": 6,
    "start_time": "2022-03-12T07:21:13.184Z"
   },
   {
    "duration": 6,
    "start_time": "2022-03-12T07:21:13.192Z"
   },
   {
    "duration": 5,
    "start_time": "2022-03-12T07:21:13.199Z"
   },
   {
    "duration": 4,
    "start_time": "2022-03-12T07:21:13.206Z"
   },
   {
    "duration": 5,
    "start_time": "2022-03-12T07:21:13.212Z"
   },
   {
    "duration": 51,
    "start_time": "2022-03-12T07:21:13.218Z"
   },
   {
    "duration": 7,
    "start_time": "2022-03-12T07:21:13.270Z"
   },
   {
    "duration": 8,
    "start_time": "2022-03-12T07:21:13.279Z"
   },
   {
    "duration": 14,
    "start_time": "2022-03-12T07:21:13.288Z"
   },
   {
    "duration": 980,
    "start_time": "2022-03-12T07:21:13.303Z"
   },
   {
    "duration": 10,
    "start_time": "2022-03-12T07:21:14.285Z"
   },
   {
    "duration": 385,
    "start_time": "2022-03-12T07:21:14.296Z"
   },
   {
    "duration": 3,
    "start_time": "2022-03-12T07:21:14.682Z"
   },
   {
    "duration": 5,
    "start_time": "2022-03-12T07:21:14.687Z"
   },
   {
    "duration": 5,
    "start_time": "2022-03-12T07:21:14.694Z"
   },
   {
    "duration": 7,
    "start_time": "2022-03-12T07:21:14.701Z"
   },
   {
    "duration": 7,
    "start_time": "2022-03-12T07:21:14.710Z"
   },
   {
    "duration": 6,
    "start_time": "2022-03-12T07:21:14.719Z"
   },
   {
    "duration": 799,
    "start_time": "2022-03-12T07:52:09.728Z"
   },
   {
    "duration": 923,
    "start_time": "2022-03-12T07:52:31.395Z"
   },
   {
    "duration": 914,
    "start_time": "2022-03-12T07:52:42.446Z"
   },
   {
    "duration": 904,
    "start_time": "2022-03-12T07:52:49.974Z"
   },
   {
    "duration": 932,
    "start_time": "2022-03-12T07:53:10.733Z"
   },
   {
    "duration": 401,
    "start_time": "2022-03-12T07:53:34.981Z"
   },
   {
    "duration": 204,
    "start_time": "2022-03-12T07:54:16.399Z"
   },
   {
    "duration": 175,
    "start_time": "2022-03-12T07:54:49.763Z"
   },
   {
    "duration": 390,
    "start_time": "2022-03-12T07:56:08.513Z"
   },
   {
    "duration": 335,
    "start_time": "2022-03-12T07:56:35.710Z"
   },
   {
    "duration": 247,
    "start_time": "2022-03-12T08:03:34.786Z"
   },
   {
    "duration": 436,
    "start_time": "2022-03-12T08:04:15.923Z"
   },
   {
    "duration": 274,
    "start_time": "2022-03-12T08:04:30.773Z"
   },
   {
    "duration": 265,
    "start_time": "2022-03-12T08:08:17.719Z"
   },
   {
    "duration": 266,
    "start_time": "2022-03-12T08:08:25.378Z"
   },
   {
    "duration": 255,
    "start_time": "2022-03-12T08:08:43.201Z"
   },
   {
    "duration": 268,
    "start_time": "2022-03-12T08:08:54.315Z"
   },
   {
    "duration": 266,
    "start_time": "2022-03-12T08:09:01.906Z"
   },
   {
    "duration": 265,
    "start_time": "2022-03-12T08:09:08.402Z"
   },
   {
    "duration": 274,
    "start_time": "2022-03-12T08:09:36.565Z"
   },
   {
    "duration": 364,
    "start_time": "2022-03-12T08:09:50.953Z"
   },
   {
    "duration": 267,
    "start_time": "2022-03-12T08:09:55.132Z"
   },
   {
    "duration": 423,
    "start_time": "2022-03-12T08:10:03.716Z"
   },
   {
    "duration": 260,
    "start_time": "2022-03-12T08:10:07.312Z"
   },
   {
    "duration": 268,
    "start_time": "2022-03-12T08:10:16.596Z"
   },
   {
    "duration": 261,
    "start_time": "2022-03-12T08:10:20.215Z"
   },
   {
    "duration": 325,
    "start_time": "2022-03-12T08:11:03.452Z"
   },
   {
    "duration": 384,
    "start_time": "2022-03-12T08:11:29.542Z"
   },
   {
    "duration": 330,
    "start_time": "2022-03-12T08:11:40.915Z"
   },
   {
    "duration": 384,
    "start_time": "2022-03-12T08:12:30.033Z"
   },
   {
    "duration": 379,
    "start_time": "2022-03-12T08:12:51.063Z"
   },
   {
    "duration": 473,
    "start_time": "2022-03-12T08:13:02.916Z"
   },
   {
    "duration": 377,
    "start_time": "2022-03-12T08:15:16.946Z"
   },
   {
    "duration": 1485,
    "start_time": "2022-03-12T16:28:28.662Z"
   },
   {
    "duration": 3,
    "start_time": "2022-03-12T16:28:30.149Z"
   },
   {
    "duration": 1428,
    "start_time": "2022-03-12T16:28:30.154Z"
   },
   {
    "duration": 637,
    "start_time": "2022-03-12T16:28:31.585Z"
   },
   {
    "duration": 450,
    "start_time": "2022-03-12T16:28:32.224Z"
   },
   {
    "duration": 300,
    "start_time": "2022-03-12T16:28:32.676Z"
   },
   {
    "duration": 207,
    "start_time": "2022-03-12T16:28:32.978Z"
   },
   {
    "duration": 568,
    "start_time": "2022-03-12T16:28:33.188Z"
   },
   {
    "duration": 197,
    "start_time": "2022-03-12T16:28:33.759Z"
   },
   {
    "duration": 184,
    "start_time": "2022-03-12T16:28:33.958Z"
   },
   {
    "duration": 469,
    "start_time": "2022-03-12T16:28:34.144Z"
   },
   {
    "duration": 348,
    "start_time": "2022-03-12T16:28:34.615Z"
   },
   {
    "duration": 103,
    "start_time": "2022-03-12T16:28:34.965Z"
   },
   {
    "duration": 215,
    "start_time": "2022-03-12T16:28:35.071Z"
   },
   {
    "duration": 545,
    "start_time": "2022-03-12T16:28:35.288Z"
   },
   {
    "duration": 491,
    "start_time": "2022-03-12T16:28:35.835Z"
   },
   {
    "duration": 590,
    "start_time": "2022-03-12T16:28:36.328Z"
   },
   {
    "duration": 401,
    "start_time": "2022-03-12T16:28:36.920Z"
   },
   {
    "duration": 1326,
    "start_time": "2022-03-12T16:28:37.323Z"
   },
   {
    "duration": 54,
    "start_time": "2022-03-12T16:28:38.651Z"
   },
   {
    "duration": 1042,
    "start_time": "2022-03-12T16:28:38.708Z"
   },
   {
    "duration": 539,
    "start_time": "2022-03-12T16:28:39.753Z"
   },
   {
    "duration": 532,
    "start_time": "2022-03-12T16:28:40.297Z"
   },
   {
    "duration": 614,
    "start_time": "2022-03-12T16:28:40.832Z"
   },
   {
    "duration": 2144,
    "start_time": "2022-03-12T16:28:41.448Z"
   },
   {
    "duration": 2032,
    "start_time": "2022-03-12T16:28:43.594Z"
   },
   {
    "duration": 1104,
    "start_time": "2022-03-12T16:28:45.628Z"
   },
   {
    "duration": 1528,
    "start_time": "2022-03-12T16:28:46.734Z"
   },
   {
    "duration": 1006,
    "start_time": "2022-03-12T16:28:48.265Z"
   },
   {
    "duration": 1366,
    "start_time": "2022-03-12T16:28:49.273Z"
   },
   {
    "duration": 2170,
    "start_time": "2022-03-12T16:28:50.642Z"
   },
   {
    "duration": 1467,
    "start_time": "2022-03-12T16:28:52.814Z"
   },
   {
    "duration": 727,
    "start_time": "2022-03-12T16:28:54.284Z"
   },
   {
    "duration": 642,
    "start_time": "2022-03-12T16:28:55.013Z"
   },
   {
    "duration": 1996,
    "start_time": "2022-03-12T16:28:55.657Z"
   },
   {
    "duration": 2025,
    "start_time": "2022-03-12T16:28:57.655Z"
   },
   {
    "duration": 1072,
    "start_time": "2022-03-12T16:28:59.682Z"
   },
   {
    "duration": 1433,
    "start_time": "2022-03-12T16:29:00.756Z"
   },
   {
    "duration": 1651,
    "start_time": "2022-03-12T16:29:02.191Z"
   },
   {
    "duration": 1069,
    "start_time": "2022-03-12T16:29:03.845Z"
   },
   {
    "duration": 1073,
    "start_time": "2022-03-12T16:29:04.915Z"
   },
   {
    "duration": 1162,
    "start_time": "2022-03-12T16:29:05.990Z"
   },
   {
    "duration": 842,
    "start_time": "2022-03-12T16:29:07.154Z"
   },
   {
    "duration": 490,
    "start_time": "2022-03-12T16:29:07.998Z"
   },
   {
    "duration": 1028,
    "start_time": "2022-03-12T16:29:08.490Z"
   },
   {
    "duration": 818,
    "start_time": "2022-03-12T16:29:09.520Z"
   },
   {
    "duration": 1066,
    "start_time": "2022-03-12T16:29:10.340Z"
   },
   {
    "duration": 1255,
    "start_time": "2022-03-12T16:29:11.408Z"
   },
   {
    "duration": 1742,
    "start_time": "2022-03-12T16:29:12.666Z"
   },
   {
    "duration": 1142,
    "start_time": "2022-03-12T16:29:14.410Z"
   },
   {
    "duration": 747,
    "start_time": "2022-03-12T16:29:15.554Z"
   },
   {
    "duration": 1464,
    "start_time": "2022-03-12T16:29:16.303Z"
   },
   {
    "duration": 1912,
    "start_time": "2022-03-12T16:29:17.769Z"
   },
   {
    "duration": 1015,
    "start_time": "2022-03-12T16:29:19.683Z"
   },
   {
    "duration": 831,
    "start_time": "2022-03-12T16:29:20.700Z"
   },
   {
    "duration": 471,
    "start_time": "2022-03-12T16:29:21.533Z"
   },
   {
    "duration": 350,
    "start_time": "2022-03-12T16:29:22.006Z"
   },
   {
    "duration": 1362,
    "start_time": "2022-03-12T16:29:22.358Z"
   },
   {
    "duration": 1601,
    "start_time": "2022-03-12T16:29:23.722Z"
   },
   {
    "duration": 1015,
    "start_time": "2022-03-12T16:29:25.325Z"
   },
   {
    "duration": 1707,
    "start_time": "2022-03-12T16:29:26.341Z"
   },
   {
    "duration": 1304,
    "start_time": "2022-03-12T16:29:28.050Z"
   },
   {
    "duration": 944,
    "start_time": "2022-03-12T16:29:29.356Z"
   },
   {
    "duration": 319,
    "start_time": "2022-03-12T16:29:30.302Z"
   },
   {
    "duration": 785,
    "start_time": "2022-03-12T16:29:30.624Z"
   },
   {
    "duration": 1233,
    "start_time": "2022-03-12T16:29:31.411Z"
   },
   {
    "duration": 650,
    "start_time": "2022-03-12T16:29:32.646Z"
   },
   {
    "duration": 507,
    "start_time": "2022-03-12T16:29:33.304Z"
   },
   {
    "duration": 357,
    "start_time": "2022-03-12T16:29:33.814Z"
   },
   {
    "duration": 878,
    "start_time": "2022-03-12T16:29:34.174Z"
   },
   {
    "duration": 1002,
    "start_time": "2022-03-12T16:29:35.055Z"
   },
   {
    "duration": 633,
    "start_time": "2022-03-12T16:29:36.059Z"
   },
   {
    "duration": 571,
    "start_time": "2022-03-12T16:29:36.694Z"
   },
   {
    "duration": 1076,
    "start_time": "2022-03-12T16:29:37.267Z"
   },
   {
    "duration": 1351,
    "start_time": "2022-03-12T16:29:38.345Z"
   },
   {
    "duration": 860,
    "start_time": "2022-03-12T16:29:39.698Z"
   },
   {
    "duration": 700,
    "start_time": "2022-03-12T16:29:40.560Z"
   },
   {
    "duration": 884,
    "start_time": "2022-03-12T16:29:41.263Z"
   },
   {
    "duration": 761,
    "start_time": "2022-03-12T16:29:42.149Z"
   },
   {
    "duration": 1416,
    "start_time": "2022-03-12T16:29:42.912Z"
   },
   {
    "duration": 759,
    "start_time": "2022-03-12T16:29:44.330Z"
   },
   {
    "duration": 929,
    "start_time": "2022-03-12T16:29:45.092Z"
   },
   {
    "duration": 779,
    "start_time": "2022-03-12T16:29:46.024Z"
   },
   {
    "duration": 814,
    "start_time": "2022-03-12T16:29:46.806Z"
   },
   {
    "duration": 1359,
    "start_time": "2022-03-12T16:29:47.623Z"
   },
   {
    "duration": 1110,
    "start_time": "2022-03-12T16:29:48.984Z"
   },
   {
    "duration": 2094,
    "start_time": "2022-03-12T16:29:50.096Z"
   },
   {
    "duration": 1857,
    "start_time": "2022-03-12T16:29:52.192Z"
   },
   {
    "duration": 1398,
    "start_time": "2022-03-12T16:29:54.051Z"
   },
   {
    "duration": 1022,
    "start_time": "2022-03-12T16:29:55.451Z"
   },
   {
    "duration": 1104,
    "start_time": "2022-03-12T16:29:56.476Z"
   },
   {
    "duration": 1147,
    "start_time": "2022-03-12T16:29:57.581Z"
   },
   {
    "duration": 2486,
    "start_time": "2022-03-12T16:29:58.730Z"
   },
   {
    "duration": 5672,
    "start_time": "2022-03-12T16:30:01.219Z"
   },
   {
    "duration": 9248,
    "start_time": "2022-03-12T16:30:06.893Z"
   },
   {
    "duration": 1299,
    "start_time": "2022-03-12T16:30:16.144Z"
   },
   {
    "duration": 1314,
    "start_time": "2022-03-12T16:30:17.445Z"
   },
   {
    "duration": -808,
    "start_time": "2022-03-12T16:30:19.569Z"
   },
   {
    "duration": -815,
    "start_time": "2022-03-12T16:30:19.577Z"
   },
   {
    "duration": -822,
    "start_time": "2022-03-12T16:30:19.585Z"
   },
   {
    "duration": -828,
    "start_time": "2022-03-12T16:30:19.593Z"
   },
   {
    "duration": -835,
    "start_time": "2022-03-12T16:30:19.601Z"
   },
   {
    "duration": -843,
    "start_time": "2022-03-12T16:30:19.610Z"
   },
   {
    "duration": -850,
    "start_time": "2022-03-12T16:30:19.618Z"
   },
   {
    "duration": -859,
    "start_time": "2022-03-12T16:30:19.628Z"
   },
   {
    "duration": -867,
    "start_time": "2022-03-12T16:30:19.636Z"
   },
   {
    "duration": -874,
    "start_time": "2022-03-12T16:30:19.645Z"
   },
   {
    "duration": -895,
    "start_time": "2022-03-12T16:30:19.667Z"
   },
   {
    "duration": -905,
    "start_time": "2022-03-12T16:30:19.678Z"
   },
   {
    "duration": -912,
    "start_time": "2022-03-12T16:30:19.686Z"
   },
   {
    "duration": -920,
    "start_time": "2022-03-12T16:30:19.695Z"
   },
   {
    "duration": -927,
    "start_time": "2022-03-12T16:30:19.703Z"
   },
   {
    "duration": -934,
    "start_time": "2022-03-12T16:30:19.712Z"
   },
   {
    "duration": -941,
    "start_time": "2022-03-12T16:30:19.720Z"
   },
   {
    "duration": -948,
    "start_time": "2022-03-12T16:30:19.728Z"
   },
   {
    "duration": -955,
    "start_time": "2022-03-12T16:30:19.736Z"
   },
   {
    "duration": -962,
    "start_time": "2022-03-12T16:30:19.744Z"
   },
   {
    "duration": -969,
    "start_time": "2022-03-12T16:30:19.752Z"
   },
   {
    "duration": -976,
    "start_time": "2022-03-12T16:30:19.760Z"
   },
   {
    "duration": -998,
    "start_time": "2022-03-12T16:30:19.783Z"
   },
   {
    "duration": -1005,
    "start_time": "2022-03-12T16:30:19.791Z"
   },
   {
    "duration": -1013,
    "start_time": "2022-03-12T16:30:19.800Z"
   },
   {
    "duration": -1020,
    "start_time": "2022-03-12T16:30:19.808Z"
   },
   {
    "duration": -1027,
    "start_time": "2022-03-12T16:30:19.816Z"
   },
   {
    "duration": -1035,
    "start_time": "2022-03-12T16:30:19.825Z"
   },
   {
    "duration": -1042,
    "start_time": "2022-03-12T16:30:19.833Z"
   },
   {
    "duration": -1049,
    "start_time": "2022-03-12T16:30:19.841Z"
   },
   {
    "duration": -1058,
    "start_time": "2022-03-12T16:30:19.851Z"
   },
   {
    "duration": -1069,
    "start_time": "2022-03-12T16:30:19.863Z"
   },
   {
    "duration": -1076,
    "start_time": "2022-03-12T16:30:19.871Z"
   },
   {
    "duration": -1093,
    "start_time": "2022-03-12T16:30:19.893Z"
   },
   {
    "duration": -1102,
    "start_time": "2022-03-12T16:30:19.904Z"
   },
   {
    "duration": -1113,
    "start_time": "2022-03-12T16:30:19.916Z"
   },
   {
    "duration": -1119,
    "start_time": "2022-03-12T16:30:19.923Z"
   },
   {
    "duration": -1127,
    "start_time": "2022-03-12T16:30:19.932Z"
   },
   {
    "duration": -1132,
    "start_time": "2022-03-12T16:30:19.939Z"
   },
   {
    "duration": -1141,
    "start_time": "2022-03-12T16:30:19.949Z"
   },
   {
    "duration": -1148,
    "start_time": "2022-03-12T16:30:19.957Z"
   },
   {
    "duration": -1155,
    "start_time": "2022-03-12T16:30:19.965Z"
   },
   {
    "duration": -1163,
    "start_time": "2022-03-12T16:30:19.974Z"
   },
   {
    "duration": -1169,
    "start_time": "2022-03-12T16:30:19.982Z"
   },
   {
    "duration": -1176,
    "start_time": "2022-03-12T16:30:19.990Z"
   },
   {
    "duration": -1201,
    "start_time": "2022-03-12T16:30:20.016Z"
   },
   {
    "duration": -1209,
    "start_time": "2022-03-12T16:30:20.024Z"
   },
   {
    "duration": -1218,
    "start_time": "2022-03-12T16:30:20.034Z"
   },
   {
    "duration": -1224,
    "start_time": "2022-03-12T16:30:20.041Z"
   },
   {
    "duration": -1232,
    "start_time": "2022-03-12T16:30:20.050Z"
   },
   {
    "duration": -1238,
    "start_time": "2022-03-12T16:30:20.057Z"
   },
   {
    "duration": -1246,
    "start_time": "2022-03-12T16:30:20.066Z"
   },
   {
    "duration": -1253,
    "start_time": "2022-03-12T16:30:20.074Z"
   },
   {
    "duration": -1261,
    "start_time": "2022-03-12T16:30:20.083Z"
   },
   {
    "duration": -1267,
    "start_time": "2022-03-12T16:30:20.090Z"
   },
   {
    "duration": -1275,
    "start_time": "2022-03-12T16:30:20.099Z"
   },
   {
    "duration": -1282,
    "start_time": "2022-03-12T16:30:20.107Z"
   },
   {
    "duration": 924,
    "start_time": "2022-03-12T16:32:05.490Z"
   },
   {
    "duration": 673,
    "start_time": "2022-03-12T16:32:07.129Z"
   },
   {
    "duration": 2149,
    "start_time": "2022-03-12T16:32:09.456Z"
   },
   {
    "duration": 1311,
    "start_time": "2022-03-12T16:32:13.472Z"
   },
   {
    "duration": 1078,
    "start_time": "2022-03-12T16:32:15.733Z"
   },
   {
    "duration": 725,
    "start_time": "2022-03-12T16:32:17.736Z"
   },
   {
    "duration": 1479,
    "start_time": "2022-03-12T16:32:19.031Z"
   },
   {
    "duration": 2047,
    "start_time": "2022-03-12T16:32:21.374Z"
   },
   {
    "duration": 2014,
    "start_time": "2022-03-12T16:32:24.500Z"
   },
   {
    "duration": 1051,
    "start_time": "2022-03-12T16:32:26.966Z"
   },
   {
    "duration": 1907,
    "start_time": "2022-03-12T16:32:28.764Z"
   },
   {
    "duration": 2270,
    "start_time": "2022-03-12T16:32:31.622Z"
   },
   {
    "duration": 943,
    "start_time": "2022-03-12T16:32:36.750Z"
   },
   {
    "duration": 1754,
    "start_time": "2022-03-12T16:32:38.641Z"
   },
   {
    "duration": 736,
    "start_time": "2022-03-12T16:32:42.167Z"
   },
   {
    "duration": 761,
    "start_time": "2022-03-12T16:32:43.466Z"
   },
   {
    "duration": 1610,
    "start_time": "2022-03-12T16:32:45.169Z"
   },
   {
    "duration": 586,
    "start_time": "2022-03-12T16:32:47.517Z"
   },
   {
    "duration": 1439,
    "start_time": "2022-03-12T16:32:49.045Z"
   },
   {
    "duration": 542,
    "start_time": "2022-03-12T16:32:50.591Z"
   },
   {
    "duration": 829,
    "start_time": "2022-03-12T16:32:52.527Z"
   },
   {
    "duration": 1301,
    "start_time": "2022-03-12T16:32:55.804Z"
   },
   {
    "duration": 805,
    "start_time": "2022-03-12T16:32:58.666Z"
   },
   {
    "duration": 586,
    "start_time": "2022-03-12T16:32:59.885Z"
   },
   {
    "duration": 484,
    "start_time": "2022-03-12T16:33:00.652Z"
   },
   {
    "duration": 1125,
    "start_time": "2022-03-12T16:33:03.284Z"
   },
   {
    "duration": 1760,
    "start_time": "2022-03-12T16:33:05.551Z"
   },
   {
    "duration": -738,
    "start_time": "2022-03-12T16:33:10.132Z"
   },
   {
    "duration": -767,
    "start_time": "2022-03-12T16:33:10.164Z"
   },
   {
    "duration": -771,
    "start_time": "2022-03-12T16:33:10.172Z"
   },
   {
    "duration": -777,
    "start_time": "2022-03-12T16:33:10.181Z"
   },
   {
    "duration": -782,
    "start_time": "2022-03-12T16:33:10.189Z"
   },
   {
    "duration": -803,
    "start_time": "2022-03-12T16:33:10.213Z"
   },
   {
    "duration": -807,
    "start_time": "2022-03-12T16:33:10.221Z"
   },
   {
    "duration": -815,
    "start_time": "2022-03-12T16:33:10.232Z"
   },
   {
    "duration": -820,
    "start_time": "2022-03-12T16:33:10.240Z"
   },
   {
    "duration": -827,
    "start_time": "2022-03-12T16:33:10.250Z"
   },
   {
    "duration": -831,
    "start_time": "2022-03-12T16:33:10.257Z"
   },
   {
    "duration": -851,
    "start_time": "2022-03-12T16:33:10.280Z"
   },
   {
    "duration": -857,
    "start_time": "2022-03-12T16:33:10.289Z"
   },
   {
    "duration": -864,
    "start_time": "2022-03-12T16:33:10.299Z"
   },
   {
    "duration": -868,
    "start_time": "2022-03-12T16:33:10.306Z"
   },
   {
    "duration": -876,
    "start_time": "2022-03-12T16:33:10.317Z"
   },
   {
    "duration": -826,
    "start_time": "2022-03-12T16:33:10.326Z"
   },
   {
    "duration": -831,
    "start_time": "2022-03-12T16:33:10.335Z"
   },
   {
    "duration": -1041,
    "start_time": "2022-03-12T16:33:10.548Z"
   },
   {
    "duration": -1047,
    "start_time": "2022-03-12T16:33:10.557Z"
   },
   {
    "duration": -1053,
    "start_time": "2022-03-12T16:33:10.566Z"
   },
   {
    "duration": -1058,
    "start_time": "2022-03-12T16:33:10.574Z"
   },
   {
    "duration": -1064,
    "start_time": "2022-03-12T16:33:10.583Z"
   },
   {
    "duration": -1403,
    "start_time": "2022-03-12T16:33:10.926Z"
   },
   {
    "duration": -1409,
    "start_time": "2022-03-12T16:33:10.935Z"
   },
   {
    "duration": -1414,
    "start_time": "2022-03-12T16:33:10.944Z"
   },
   {
    "duration": -1419,
    "start_time": "2022-03-12T16:33:10.952Z"
   },
   {
    "duration": -1576,
    "start_time": "2022-03-12T16:33:11.112Z"
   },
   {
    "duration": -1581,
    "start_time": "2022-03-12T16:33:11.120Z"
   },
   {
    "duration": -2122,
    "start_time": "2022-03-12T16:33:11.723Z"
   },
   {
    "duration": -2130,
    "start_time": "2022-03-12T16:33:11.734Z"
   },
   {
    "duration": -3472,
    "start_time": "2022-03-12T16:33:13.080Z"
   },
   {
    "duration": -3478,
    "start_time": "2022-03-12T16:33:13.089Z"
   },
   {
    "duration": -3483,
    "start_time": "2022-03-12T16:33:13.097Z"
   },
   {
    "duration": -3488,
    "start_time": "2022-03-12T16:33:13.105Z"
   },
   {
    "duration": -3494,
    "start_time": "2022-03-12T16:33:13.114Z"
   },
   {
    "duration": -3499,
    "start_time": "2022-03-12T16:33:13.122Z"
   },
   {
    "duration": -3503,
    "start_time": "2022-03-12T16:33:13.130Z"
   },
   {
    "duration": -3509,
    "start_time": "2022-03-12T16:33:13.139Z"
   },
   {
    "duration": -3514,
    "start_time": "2022-03-12T16:33:13.147Z"
   },
   {
    "duration": -3525,
    "start_time": "2022-03-12T16:33:13.161Z"
   },
   {
    "duration": -3534,
    "start_time": "2022-03-12T16:33:13.174Z"
   },
   {
    "duration": -3496,
    "start_time": "2022-03-12T16:33:13.196Z"
   },
   {
    "duration": -3501,
    "start_time": "2022-03-12T16:33:13.205Z"
   },
   {
    "duration": -3506,
    "start_time": "2022-03-12T16:33:13.213Z"
   },
   {
    "duration": -3510,
    "start_time": "2022-03-12T16:33:13.221Z"
   },
   {
    "duration": -3517,
    "start_time": "2022-03-12T16:33:13.230Z"
   },
   {
    "duration": -3521,
    "start_time": "2022-03-12T16:33:13.238Z"
   },
   {
    "duration": -3526,
    "start_time": "2022-03-12T16:33:13.246Z"
   },
   {
    "duration": -3531,
    "start_time": "2022-03-12T16:33:13.254Z"
   },
   {
    "duration": -3536,
    "start_time": "2022-03-12T16:33:13.262Z"
   },
   {
    "duration": -3542,
    "start_time": "2022-03-12T16:33:13.271Z"
   },
   {
    "duration": -3547,
    "start_time": "2022-03-12T16:33:13.280Z"
   },
   {
    "duration": -3552,
    "start_time": "2022-03-12T16:33:13.288Z"
   },
   {
    "duration": -3573,
    "start_time": "2022-03-12T16:33:13.312Z"
   },
   {
    "duration": -3520,
    "start_time": "2022-03-12T16:33:13.322Z"
   },
   {
    "duration": -3526,
    "start_time": "2022-03-12T16:33:13.332Z"
   },
   {
    "duration": -3533,
    "start_time": "2022-03-12T16:33:13.342Z"
   },
   {
    "duration": -3541,
    "start_time": "2022-03-12T16:33:13.351Z"
   },
   {
    "duration": -3547,
    "start_time": "2022-03-12T16:33:13.359Z"
   },
   {
    "duration": -3554,
    "start_time": "2022-03-12T16:33:13.367Z"
   },
   {
    "duration": -3559,
    "start_time": "2022-03-12T16:33:13.374Z"
   },
   {
    "duration": -3566,
    "start_time": "2022-03-12T16:33:13.383Z"
   },
   {
    "duration": -3572,
    "start_time": "2022-03-12T16:33:13.390Z"
   },
   {
    "duration": -3579,
    "start_time": "2022-03-12T16:33:13.399Z"
   },
   {
    "duration": -3600,
    "start_time": "2022-03-12T16:33:13.421Z"
   },
   {
    "duration": -3609,
    "start_time": "2022-03-12T16:33:13.431Z"
   },
   {
    "duration": -3614,
    "start_time": "2022-03-12T16:33:13.438Z"
   },
   {
    "duration": -3621,
    "start_time": "2022-03-12T16:33:13.447Z"
   },
   {
    "duration": -3627,
    "start_time": "2022-03-12T16:33:13.454Z"
   },
   {
    "duration": -3634,
    "start_time": "2022-03-12T16:33:13.463Z"
   },
   {
    "duration": -4063,
    "start_time": "2022-03-12T16:33:13.894Z"
   },
   {
    "duration": -4070,
    "start_time": "2022-03-12T16:33:13.902Z"
   },
   {
    "duration": -4077,
    "start_time": "2022-03-12T16:33:13.910Z"
   },
   {
    "duration": -4083,
    "start_time": "2022-03-12T16:33:13.918Z"
   },
   {
    "duration": -4089,
    "start_time": "2022-03-12T16:33:13.926Z"
   },
   {
    "duration": -4096,
    "start_time": "2022-03-12T16:33:13.934Z"
   },
   {
    "duration": -4103,
    "start_time": "2022-03-12T16:33:13.942Z"
   },
   {
    "duration": -4110,
    "start_time": "2022-03-12T16:33:13.950Z"
   },
   {
    "duration": -4056,
    "start_time": "2022-03-12T16:33:13.957Z"
   },
   {
    "duration": -4063,
    "start_time": "2022-03-12T16:33:13.966Z"
   },
   {
    "duration": -4069,
    "start_time": "2022-03-12T16:33:13.973Z"
   },
   {
    "duration": -4075,
    "start_time": "2022-03-12T16:33:13.981Z"
   },
   {
    "duration": -4082,
    "start_time": "2022-03-12T16:33:13.989Z"
   },
   {
    "duration": -4103,
    "start_time": "2022-03-12T16:33:14.011Z"
   },
   {
    "duration": -4108,
    "start_time": "2022-03-12T16:33:14.018Z"
   },
   {
    "duration": -4116,
    "start_time": "2022-03-12T16:33:14.027Z"
   },
   {
    "duration": -4123,
    "start_time": "2022-03-12T16:33:14.036Z"
   },
   {
    "duration": -4130,
    "start_time": "2022-03-12T16:33:14.044Z"
   },
   {
    "duration": -4135,
    "start_time": "2022-03-12T16:33:14.051Z"
   },
   {
    "duration": -4142,
    "start_time": "2022-03-12T16:33:14.059Z"
   },
   {
    "duration": -4149,
    "start_time": "2022-03-12T16:33:14.067Z"
   },
   {
    "duration": -4154,
    "start_time": "2022-03-12T16:33:14.074Z"
   },
   {
    "duration": -4161,
    "start_time": "2022-03-12T16:33:14.082Z"
   },
   {
    "duration": -4169,
    "start_time": "2022-03-12T16:33:14.092Z"
   },
   {
    "duration": -4176,
    "start_time": "2022-03-12T16:33:14.100Z"
   },
   {
    "duration": -4197,
    "start_time": "2022-03-12T16:33:14.123Z"
   },
   {
    "duration": -4205,
    "start_time": "2022-03-12T16:33:14.132Z"
   },
   {
    "duration": -4212,
    "start_time": "2022-03-12T16:33:14.140Z"
   },
   {
    "duration": -4219,
    "start_time": "2022-03-12T16:33:14.148Z"
   },
   {
    "duration": -4229,
    "start_time": "2022-03-12T16:33:14.160Z"
   },
   {
    "duration": -4238,
    "start_time": "2022-03-12T16:33:14.170Z"
   },
   {
    "duration": -4246,
    "start_time": "2022-03-12T16:33:14.179Z"
   },
   {
    "duration": -4252,
    "start_time": "2022-03-12T16:33:14.187Z"
   },
   {
    "duration": -4260,
    "start_time": "2022-03-12T16:33:14.196Z"
   },
   {
    "duration": -4267,
    "start_time": "2022-03-12T16:33:14.204Z"
   },
   {
    "duration": -4276,
    "start_time": "2022-03-12T16:33:14.214Z"
   },
   {
    "duration": -4297,
    "start_time": "2022-03-12T16:33:14.237Z"
   },
   {
    "duration": -4322,
    "start_time": "2022-03-12T16:33:14.263Z"
   },
   {
    "duration": -4336,
    "start_time": "2022-03-12T16:33:14.278Z"
   },
   {
    "duration": -4348,
    "start_time": "2022-03-12T16:33:14.290Z"
   },
   {
    "duration": -4358,
    "start_time": "2022-03-12T16:33:14.301Z"
   },
   {
    "duration": -4310,
    "start_time": "2022-03-12T16:33:14.312Z"
   },
   {
    "duration": -4318,
    "start_time": "2022-03-12T16:33:14.321Z"
   },
   {
    "duration": -4327,
    "start_time": "2022-03-12T16:33:14.332Z"
   },
   {
    "duration": -4350,
    "start_time": "2022-03-12T16:33:14.356Z"
   },
   {
    "duration": -4360,
    "start_time": "2022-03-12T16:33:14.367Z"
   },
   {
    "duration": -4368,
    "start_time": "2022-03-12T16:33:14.377Z"
   },
   {
    "duration": -4393,
    "start_time": "2022-03-12T16:33:14.404Z"
   },
   {
    "duration": -4401,
    "start_time": "2022-03-12T16:33:14.413Z"
   },
   {
    "duration": -4408,
    "start_time": "2022-03-12T16:33:14.421Z"
   },
   {
    "duration": -4415,
    "start_time": "2022-03-12T16:33:14.429Z"
   },
   {
    "duration": -4424,
    "start_time": "2022-03-12T16:33:14.439Z"
   },
   {
    "duration": -4430,
    "start_time": "2022-03-12T16:33:14.446Z"
   },
   {
    "duration": -4456,
    "start_time": "2022-03-12T16:33:14.473Z"
   },
   {
    "duration": -4464,
    "start_time": "2022-03-12T16:33:14.482Z"
   },
   {
    "duration": -4472,
    "start_time": "2022-03-12T16:33:14.491Z"
   },
   {
    "duration": 1328,
    "start_time": "2022-03-12T16:33:46.791Z"
   },
   {
    "duration": 2,
    "start_time": "2022-03-12T16:33:48.122Z"
   },
   {
    "duration": 2341,
    "start_time": "2022-03-12T16:33:48.127Z"
   },
   {
    "duration": 1380,
    "start_time": "2022-03-12T16:33:50.470Z"
   },
   {
    "duration": 1152,
    "start_time": "2022-03-12T16:33:51.852Z"
   },
   {
    "duration": 341,
    "start_time": "2022-03-12T16:33:53.006Z"
   },
   {
    "duration": 1310,
    "start_time": "2022-03-12T16:33:53.349Z"
   },
   {
    "duration": 1204,
    "start_time": "2022-03-12T16:33:54.662Z"
   },
   {
    "duration": 1167,
    "start_time": "2022-03-12T16:33:55.868Z"
   },
   {
    "duration": 299,
    "start_time": "2022-03-12T16:33:57.037Z"
   },
   {
    "duration": 769,
    "start_time": "2022-03-12T16:33:57.338Z"
   },
   {
    "duration": 528,
    "start_time": "2022-03-12T16:33:58.109Z"
   },
   {
    "duration": 576,
    "start_time": "2022-03-12T16:33:58.639Z"
   },
   {
    "duration": 175,
    "start_time": "2022-03-12T16:33:59.218Z"
   },
   {
    "duration": 200,
    "start_time": "2022-03-12T16:33:59.395Z"
   },
   {
    "duration": 1749,
    "start_time": "2022-03-12T16:33:59.596Z"
   },
   {
    "duration": 1313,
    "start_time": "2022-03-12T16:34:01.348Z"
   },
   {
    "duration": 509,
    "start_time": "2022-03-12T16:34:02.663Z"
   },
   {
    "duration": 2334,
    "start_time": "2022-03-12T16:34:03.174Z"
   },
   {
    "duration": 2493,
    "start_time": "2022-03-12T16:34:05.510Z"
   },
   {
    "duration": 1008,
    "start_time": "2022-03-12T16:34:08.005Z"
   },
   {
    "duration": 686,
    "start_time": "2022-03-12T16:34:09.015Z"
   },
   {
    "duration": 802,
    "start_time": "2022-03-12T16:34:09.707Z"
   },
   {
    "duration": 391,
    "start_time": "2022-03-12T16:34:10.513Z"
   },
   {
    "duration": 317,
    "start_time": "2022-03-12T16:34:10.906Z"
   },
   {
    "duration": 446,
    "start_time": "2022-03-12T16:34:11.225Z"
   },
   {
    "duration": 1069,
    "start_time": "2022-03-12T16:34:11.673Z"
   },
   {
    "duration": 1811,
    "start_time": "2022-03-12T16:34:12.744Z"
   },
   {
    "duration": 1590,
    "start_time": "2022-03-12T16:34:14.557Z"
   },
   {
    "duration": 1361,
    "start_time": "2022-03-12T16:34:16.149Z"
   },
   {
    "duration": 1028,
    "start_time": "2022-03-12T16:34:17.512Z"
   },
   {
    "duration": 556,
    "start_time": "2022-03-12T16:34:18.542Z"
   },
   {
    "duration": 609,
    "start_time": "2022-03-12T16:34:19.102Z"
   },
   {
    "duration": 620,
    "start_time": "2022-03-12T16:34:19.713Z"
   },
   {
    "duration": 578,
    "start_time": "2022-03-12T16:34:20.335Z"
   },
   {
    "duration": 640,
    "start_time": "2022-03-12T16:34:20.914Z"
   },
   {
    "duration": 761,
    "start_time": "2022-03-12T16:34:21.556Z"
   },
   {
    "duration": 578,
    "start_time": "2022-03-12T16:34:22.320Z"
   },
   {
    "duration": 673,
    "start_time": "2022-03-12T16:34:22.901Z"
   },
   {
    "duration": 1264,
    "start_time": "2022-03-12T16:34:23.576Z"
   },
   {
    "duration": 1496,
    "start_time": "2022-03-12T16:34:24.842Z"
   },
   {
    "duration": 937,
    "start_time": "2022-03-12T16:34:26.341Z"
   },
   {
    "duration": 167,
    "start_time": "2022-03-12T16:34:27.280Z"
   },
   {
    "duration": 450,
    "start_time": "2022-03-12T16:34:27.449Z"
   },
   {
    "duration": 812,
    "start_time": "2022-03-12T16:34:27.901Z"
   },
   {
    "duration": 263,
    "start_time": "2022-03-12T16:34:28.715Z"
   },
   {
    "duration": 1359,
    "start_time": "2022-03-12T16:34:28.980Z"
   },
   {
    "duration": 736,
    "start_time": "2022-03-12T16:34:30.341Z"
   },
   {
    "duration": 467,
    "start_time": "2022-03-12T16:34:31.078Z"
   },
   {
    "duration": 407,
    "start_time": "2022-03-12T16:34:31.548Z"
   },
   {
    "duration": 1109,
    "start_time": "2022-03-12T16:34:31.957Z"
   },
   {
    "duration": 548,
    "start_time": "2022-03-12T16:34:33.068Z"
   },
   {
    "duration": 352,
    "start_time": "2022-03-12T16:34:33.618Z"
   },
   {
    "duration": 367,
    "start_time": "2022-03-12T16:34:33.973Z"
   },
   {
    "duration": 853,
    "start_time": "2022-03-12T16:34:34.342Z"
   },
   {
    "duration": 1665,
    "start_time": "2022-03-12T16:34:35.197Z"
   },
   {
    "duration": 919,
    "start_time": "2022-03-12T16:34:36.865Z"
   },
   {
    "duration": 1615,
    "start_time": "2022-03-12T16:34:37.787Z"
   },
   {
    "duration": 1069,
    "start_time": "2022-03-12T16:34:39.404Z"
   },
   {
    "duration": 870,
    "start_time": "2022-03-12T16:34:40.475Z"
   },
   {
    "duration": 568,
    "start_time": "2022-03-12T16:34:41.347Z"
   },
   {
    "duration": 154,
    "start_time": "2022-03-12T16:34:41.917Z"
   },
   {
    "duration": 636,
    "start_time": "2022-03-12T16:34:42.073Z"
   },
   {
    "duration": 783,
    "start_time": "2022-03-12T16:34:42.711Z"
   },
   {
    "duration": 434,
    "start_time": "2022-03-12T16:34:43.496Z"
   },
   {
    "duration": 378,
    "start_time": "2022-03-12T16:34:43.932Z"
   },
   {
    "duration": 813,
    "start_time": "2022-03-12T16:34:44.312Z"
   },
   {
    "duration": 1986,
    "start_time": "2022-03-12T16:34:45.133Z"
   },
   {
    "duration": 1869,
    "start_time": "2022-03-12T16:34:47.123Z"
   },
   {
    "duration": 282,
    "start_time": "2022-03-12T16:34:48.994Z"
   },
   {
    "duration": 1202,
    "start_time": "2022-03-12T16:34:49.279Z"
   },
   {
    "duration": 630,
    "start_time": "2022-03-12T16:34:50.482Z"
   },
   {
    "duration": 661,
    "start_time": "2022-03-12T16:34:51.113Z"
   },
   {
    "duration": 1276,
    "start_time": "2022-03-12T16:34:51.776Z"
   },
   {
    "duration": 902,
    "start_time": "2022-03-12T16:34:53.053Z"
   },
   {
    "duration": 637,
    "start_time": "2022-03-12T16:34:53.957Z"
   },
   {
    "duration": 717,
    "start_time": "2022-03-12T16:34:54.596Z"
   },
   {
    "duration": 1736,
    "start_time": "2022-03-12T16:34:55.316Z"
   },
   {
    "duration": 1012,
    "start_time": "2022-03-12T16:34:57.054Z"
   },
   {
    "duration": 728,
    "start_time": "2022-03-12T16:34:58.068Z"
   },
   {
    "duration": 375,
    "start_time": "2022-03-12T16:34:58.798Z"
   },
   {
    "duration": 481,
    "start_time": "2022-03-12T16:34:59.175Z"
   },
   {
    "duration": 992,
    "start_time": "2022-03-12T16:34:59.658Z"
   },
   {
    "duration": 631,
    "start_time": "2022-03-12T16:35:00.652Z"
   },
   {
    "duration": 955,
    "start_time": "2022-03-12T16:35:01.286Z"
   },
   {
    "duration": 802,
    "start_time": "2022-03-12T16:35:02.243Z"
   },
   {
    "duration": 295,
    "start_time": "2022-03-12T16:35:03.048Z"
   },
   {
    "duration": 1098,
    "start_time": "2022-03-12T16:35:03.346Z"
   },
   {
    "duration": 827,
    "start_time": "2022-03-12T16:35:04.446Z"
   },
   {
    "duration": 745,
    "start_time": "2022-03-12T16:35:05.275Z"
   },
   {
    "duration": 1655,
    "start_time": "2022-03-12T16:35:06.022Z"
   },
   {
    "duration": 1349,
    "start_time": "2022-03-12T16:35:07.679Z"
   },
   {
    "duration": 2110,
    "start_time": "2022-03-12T16:35:09.030Z"
   },
   {
    "duration": 1098,
    "start_time": "2022-03-12T16:35:11.142Z"
   },
   {
    "duration": 939,
    "start_time": "2022-03-12T16:35:12.242Z"
   },
   {
    "duration": 2612,
    "start_time": "2022-03-12T16:35:13.184Z"
   },
   {
    "duration": 2704,
    "start_time": "2022-03-12T16:35:15.799Z"
   },
   {
    "duration": -791,
    "start_time": "2022-03-12T16:35:19.297Z"
   },
   {
    "duration": -808,
    "start_time": "2022-03-12T16:35:19.315Z"
   },
   {
    "duration": -817,
    "start_time": "2022-03-12T16:35:19.325Z"
   },
   {
    "duration": -823,
    "start_time": "2022-03-12T16:35:19.333Z"
   },
   {
    "duration": -831,
    "start_time": "2022-03-12T16:35:19.342Z"
   },
   {
    "duration": -838,
    "start_time": "2022-03-12T16:35:19.350Z"
   },
   {
    "duration": -845,
    "start_time": "2022-03-12T16:35:19.358Z"
   },
   {
    "duration": -853,
    "start_time": "2022-03-12T16:35:19.367Z"
   },
   {
    "duration": -861,
    "start_time": "2022-03-12T16:35:19.376Z"
   },
   {
    "duration": -868,
    "start_time": "2022-03-12T16:35:19.384Z"
   },
   {
    "duration": -875,
    "start_time": "2022-03-12T16:35:19.393Z"
   },
   {
    "duration": -897,
    "start_time": "2022-03-12T16:35:19.416Z"
   },
   {
    "duration": -904,
    "start_time": "2022-03-12T16:35:19.424Z"
   },
   {
    "duration": -914,
    "start_time": "2022-03-12T16:35:19.435Z"
   },
   {
    "duration": -924,
    "start_time": "2022-03-12T16:35:19.446Z"
   },
   {
    "duration": -932,
    "start_time": "2022-03-12T16:35:19.455Z"
   },
   {
    "duration": -941,
    "start_time": "2022-03-12T16:35:19.465Z"
   },
   {
    "duration": -975,
    "start_time": "2022-03-12T16:35:19.500Z"
   },
   {
    "duration": -1001,
    "start_time": "2022-03-12T16:35:19.527Z"
   },
   {
    "duration": -1021,
    "start_time": "2022-03-12T16:35:19.549Z"
   },
   {
    "duration": -1042,
    "start_time": "2022-03-12T16:35:19.571Z"
   },
   {
    "duration": -1064,
    "start_time": "2022-03-12T16:35:19.594Z"
   },
   {
    "duration": -1088,
    "start_time": "2022-03-12T16:35:19.619Z"
   },
   {
    "duration": -1096,
    "start_time": "2022-03-12T16:35:19.628Z"
   },
   {
    "duration": -1104,
    "start_time": "2022-03-12T16:35:19.637Z"
   },
   {
    "duration": -1111,
    "start_time": "2022-03-12T16:35:19.645Z"
   },
   {
    "duration": -1118,
    "start_time": "2022-03-12T16:35:19.653Z"
   },
   {
    "duration": -1124,
    "start_time": "2022-03-12T16:35:19.660Z"
   },
   {
    "duration": -1131,
    "start_time": "2022-03-12T16:35:19.668Z"
   },
   {
    "duration": -1137,
    "start_time": "2022-03-12T16:35:19.676Z"
   },
   {
    "duration": -1145,
    "start_time": "2022-03-12T16:35:19.685Z"
   },
   {
    "duration": -1153,
    "start_time": "2022-03-12T16:35:19.694Z"
   },
   {
    "duration": -1163,
    "start_time": "2022-03-12T16:35:19.705Z"
   },
   {
    "duration": -1186,
    "start_time": "2022-03-12T16:35:19.730Z"
   },
   {
    "duration": -1195,
    "start_time": "2022-03-12T16:35:19.740Z"
   },
   {
    "duration": -1203,
    "start_time": "2022-03-12T16:35:19.749Z"
   },
   {
    "duration": -1244,
    "start_time": "2022-03-12T16:35:19.791Z"
   },
   {
    "duration": -1252,
    "start_time": "2022-03-12T16:35:19.799Z"
   },
   {
    "duration": -1207,
    "start_time": "2022-03-12T16:35:19.808Z"
   },
   {
    "duration": -1213,
    "start_time": "2022-03-12T16:35:19.816Z"
   },
   {
    "duration": -1222,
    "start_time": "2022-03-12T16:35:19.826Z"
   },
   {
    "duration": -1243,
    "start_time": "2022-03-12T16:35:19.848Z"
   },
   {
    "duration": -1251,
    "start_time": "2022-03-12T16:35:19.857Z"
   },
   {
    "duration": -1259,
    "start_time": "2022-03-12T16:35:19.866Z"
   },
   {
    "duration": -1269,
    "start_time": "2022-03-12T16:35:19.877Z"
   },
   {
    "duration": -1276,
    "start_time": "2022-03-12T16:35:19.885Z"
   },
   {
    "duration": -1315,
    "start_time": "2022-03-12T16:35:19.925Z"
   },
   {
    "duration": -1350,
    "start_time": "2022-03-12T16:35:19.961Z"
   },
   {
    "duration": -1390,
    "start_time": "2022-03-12T16:35:20.002Z"
   },
   {
    "duration": -1413,
    "start_time": "2022-03-12T16:35:20.026Z"
   },
   {
    "duration": -1436,
    "start_time": "2022-03-12T16:35:20.051Z"
   },
   {
    "duration": -1457,
    "start_time": "2022-03-12T16:35:20.073Z"
   },
   {
    "duration": -1467,
    "start_time": "2022-03-12T16:35:20.084Z"
   },
   {
    "duration": -1477,
    "start_time": "2022-03-12T16:35:20.095Z"
   },
   {
    "duration": -1486,
    "start_time": "2022-03-12T16:35:20.105Z"
   },
   {
    "duration": -1495,
    "start_time": "2022-03-12T16:35:20.115Z"
   },
   {
    "duration": -1502,
    "start_time": "2022-03-12T16:35:20.123Z"
   },
   {
    "duration": 41635,
    "start_time": "2022-03-12T16:42:17.275Z"
   },
   {
    "duration": 1412,
    "start_time": "2022-03-12T16:44:16.123Z"
   },
   {
    "duration": 3896,
    "start_time": "2022-03-12T16:44:17.538Z"
   },
   {
    "duration": 2546,
    "start_time": "2022-03-12T16:44:21.437Z"
   },
   {
    "duration": 1550,
    "start_time": "2022-03-12T16:44:23.985Z"
   },
   {
    "duration": 2631,
    "start_time": "2022-03-12T16:44:25.537Z"
   },
   {
    "duration": 9315,
    "start_time": "2022-03-12T16:44:28.170Z"
   },
   {
    "duration": 9193,
    "start_time": "2022-03-12T16:44:37.487Z"
   },
   {
    "duration": 2727,
    "start_time": "2022-03-12T16:44:46.684Z"
   },
   {
    "duration": 1894,
    "start_time": "2022-03-12T16:44:49.413Z"
   },
   {
    "duration": 1841,
    "start_time": "2022-03-12T16:44:51.309Z"
   },
   {
    "duration": 4004,
    "start_time": "2022-03-12T16:44:53.152Z"
   },
   {
    "duration": 3092,
    "start_time": "2022-03-12T16:44:57.158Z"
   },
   {
    "duration": 4791,
    "start_time": "2022-03-12T16:45:00.252Z"
   },
   {
    "duration": 9827,
    "start_time": "2022-03-12T16:45:05.045Z"
   },
   {
    "duration": 5660,
    "start_time": "2022-03-12T16:45:14.874Z"
   },
   {
    "duration": 8447,
    "start_time": "2022-03-12T16:45:20.535Z"
   },
   {
    "duration": 11444,
    "start_time": "2022-03-12T16:45:28.984Z"
   },
   {
    "duration": 5513,
    "start_time": "2022-03-12T16:45:40.430Z"
   },
   {
    "duration": 7603,
    "start_time": "2022-03-12T16:45:45.945Z"
   },
   {
    "duration": 3708,
    "start_time": "2022-03-12T16:45:53.550Z"
   },
   {
    "duration": 4996,
    "start_time": "2022-03-12T16:45:57.260Z"
   },
   {
    "duration": 23678,
    "start_time": "2022-03-12T16:46:02.258Z"
   },
   {
    "duration": 3965,
    "start_time": "2022-03-12T16:46:25.942Z"
   },
   {
    "duration": 1775,
    "start_time": "2022-03-12T16:46:29.910Z"
   },
   {
    "duration": 3322,
    "start_time": "2022-03-12T16:46:31.687Z"
   },
   {
    "duration": 1259,
    "start_time": "2022-03-12T16:46:35.011Z"
   },
   {
    "duration": 1969,
    "start_time": "2022-03-12T16:46:36.272Z"
   },
   {
    "duration": 5887,
    "start_time": "2022-03-12T16:46:38.243Z"
   },
   {
    "duration": 5361,
    "start_time": "2022-03-12T16:46:44.132Z"
   },
   {
    "duration": 4424,
    "start_time": "2022-03-12T16:46:49.495Z"
   },
   {
    "duration": 2639,
    "start_time": "2022-03-12T16:46:53.922Z"
   },
   {
    "duration": 3296,
    "start_time": "2022-03-12T16:46:56.563Z"
   },
   {
    "duration": 2116,
    "start_time": "2022-03-12T16:46:59.861Z"
   },
   {
    "duration": 3854,
    "start_time": "2022-03-12T16:47:01.980Z"
   },
   {
    "duration": 8867,
    "start_time": "2022-03-12T16:47:05.836Z"
   },
   {
    "duration": 25866,
    "start_time": "2022-03-12T16:47:14.705Z"
   },
   {
    "duration": 1378,
    "start_time": "2022-03-12T16:47:40.573Z"
   },
   {
    "duration": 2323,
    "start_time": "2022-03-12T16:47:41.952Z"
   },
   {
    "duration": 6712,
    "start_time": "2022-03-12T16:47:44.277Z"
   },
   {
    "duration": 2773,
    "start_time": "2022-03-12T16:47:50.991Z"
   },
   {
    "duration": 2456,
    "start_time": "2022-03-12T16:47:53.766Z"
   },
   {
    "duration": 991,
    "start_time": "2022-03-12T16:47:56.224Z"
   },
   {
    "duration": 1612,
    "start_time": "2022-03-12T16:47:57.217Z"
   },
   {
    "duration": 3713,
    "start_time": "2022-03-12T16:47:58.831Z"
   },
   {
    "duration": 1507,
    "start_time": "2022-03-12T16:48:02.546Z"
   },
   {
    "duration": 1193,
    "start_time": "2022-03-12T16:48:04.055Z"
   },
   {
    "duration": 1959,
    "start_time": "2022-03-12T16:48:05.251Z"
   },
   {
    "duration": 3932,
    "start_time": "2022-03-12T16:48:07.212Z"
   },
   {
    "duration": 1363,
    "start_time": "2022-03-12T16:48:11.146Z"
   },
   {
    "duration": 770,
    "start_time": "2022-03-12T16:48:12.511Z"
   },
   {
    "duration": 1346,
    "start_time": "2022-03-12T16:48:13.284Z"
   },
   {
    "duration": 1686,
    "start_time": "2022-03-12T16:48:14.632Z"
   },
   {
    "duration": 1982,
    "start_time": "2022-03-12T16:48:16.320Z"
   },
   {
    "duration": 1471,
    "start_time": "2022-03-12T16:48:18.303Z"
   },
   {
    "duration": 1152,
    "start_time": "2022-03-12T16:48:19.776Z"
   },
   {
    "duration": 916,
    "start_time": "2022-03-12T16:48:20.931Z"
   },
   {
    "duration": 1290,
    "start_time": "2022-03-12T16:48:21.849Z"
   },
   {
    "duration": 3782,
    "start_time": "2022-03-12T16:48:23.141Z"
   },
   {
    "duration": 4588,
    "start_time": "2022-03-12T16:48:26.925Z"
   },
   {
    "duration": 3809,
    "start_time": "2022-03-12T16:48:31.515Z"
   },
   {
    "duration": 1382,
    "start_time": "2022-03-12T16:48:35.326Z"
   },
   {
    "duration": 6172,
    "start_time": "2022-03-12T16:48:36.709Z"
   },
   {
    "duration": 1414,
    "start_time": "2022-03-12T16:48:42.883Z"
   },
   {
    "duration": 1831,
    "start_time": "2022-03-12T16:48:44.299Z"
   },
   {
    "duration": 1361,
    "start_time": "2022-03-12T16:48:46.132Z"
   },
   {
    "duration": 948,
    "start_time": "2022-03-12T16:48:47.496Z"
   },
   {
    "duration": 971,
    "start_time": "2022-03-12T16:48:48.446Z"
   },
   {
    "duration": 1639,
    "start_time": "2022-03-12T16:48:49.427Z"
   },
   {
    "duration": 2065,
    "start_time": "2022-03-12T16:48:51.070Z"
   },
   {
    "duration": 5090,
    "start_time": "2022-03-12T16:48:53.137Z"
   },
   {
    "duration": 1736,
    "start_time": "2022-03-12T16:48:58.229Z"
   },
   {
    "duration": 335,
    "start_time": "2022-03-12T16:48:59.967Z"
   },
   {
    "duration": -935,
    "start_time": "2022-03-12T16:49:01.239Z"
   },
   {
    "duration": -948,
    "start_time": "2022-03-12T16:49:01.254Z"
   },
   {
    "duration": -959,
    "start_time": "2022-03-12T16:49:01.266Z"
   },
   {
    "duration": -970,
    "start_time": "2022-03-12T16:49:01.278Z"
   },
   {
    "duration": -978,
    "start_time": "2022-03-12T16:49:01.287Z"
   },
   {
    "duration": -987,
    "start_time": "2022-03-12T16:49:01.297Z"
   },
   {
    "duration": -995,
    "start_time": "2022-03-12T16:49:01.306Z"
   },
   {
    "duration": -1003,
    "start_time": "2022-03-12T16:49:01.315Z"
   },
   {
    "duration": -1010,
    "start_time": "2022-03-12T16:49:01.323Z"
   },
   {
    "duration": -1019,
    "start_time": "2022-03-12T16:49:01.333Z"
   },
   {
    "duration": -1044,
    "start_time": "2022-03-12T16:49:01.359Z"
   },
   {
    "duration": -1053,
    "start_time": "2022-03-12T16:49:01.369Z"
   },
   {
    "duration": -1061,
    "start_time": "2022-03-12T16:49:01.378Z"
   },
   {
    "duration": -1069,
    "start_time": "2022-03-12T16:49:01.387Z"
   },
   {
    "duration": -1076,
    "start_time": "2022-03-12T16:49:01.395Z"
   },
   {
    "duration": -1085,
    "start_time": "2022-03-12T16:49:01.405Z"
   },
   {
    "duration": -1093,
    "start_time": "2022-03-12T16:49:01.414Z"
   },
   {
    "duration": -1102,
    "start_time": "2022-03-12T16:49:01.424Z"
   },
   {
    "duration": -1109,
    "start_time": "2022-03-12T16:49:01.432Z"
   },
   {
    "duration": -1255,
    "start_time": "2022-03-12T16:49:01.579Z"
   },
   {
    "duration": -1266,
    "start_time": "2022-03-12T16:49:01.591Z"
   },
   {
    "duration": -1274,
    "start_time": "2022-03-12T16:49:01.600Z"
   },
   {
    "duration": -1282,
    "start_time": "2022-03-12T16:49:01.609Z"
   },
   {
    "duration": -1294,
    "start_time": "2022-03-12T16:49:01.623Z"
   },
   {
    "duration": -1303,
    "start_time": "2022-03-12T16:49:01.633Z"
   },
   {
    "duration": -1313,
    "start_time": "2022-03-12T16:49:01.644Z"
   },
   {
    "duration": -1321,
    "start_time": "2022-03-12T16:49:01.653Z"
   },
   {
    "duration": -1330,
    "start_time": "2022-03-12T16:49:01.663Z"
   },
   {
    "duration": -1338,
    "start_time": "2022-03-12T16:49:01.672Z"
   },
   {
    "duration": -1364,
    "start_time": "2022-03-12T16:49:01.699Z"
   },
   {
    "duration": -1614,
    "start_time": "2022-03-12T16:49:01.950Z"
   },
   {
    "duration": -1622,
    "start_time": "2022-03-12T16:49:01.959Z"
   },
   {
    "duration": -1628,
    "start_time": "2022-03-12T16:49:01.967Z"
   },
   {
    "duration": -1636,
    "start_time": "2022-03-12T16:49:01.976Z"
   },
   {
    "duration": -1643,
    "start_time": "2022-03-12T16:49:01.984Z"
   },
   {
    "duration": -1651,
    "start_time": "2022-03-12T16:49:01.993Z"
   },
   {
    "duration": -1660,
    "start_time": "2022-03-12T16:49:02.003Z"
   },
   {
    "duration": -1606,
    "start_time": "2022-03-12T16:49:02.010Z"
   },
   {
    "duration": -1613,
    "start_time": "2022-03-12T16:49:02.019Z"
   },
   {
    "duration": -1621,
    "start_time": "2022-03-12T16:49:02.028Z"
   },
   {
    "duration": -1735,
    "start_time": "2022-03-12T16:49:02.143Z"
   },
   {
    "duration": -1747,
    "start_time": "2022-03-12T16:49:02.156Z"
   },
   {
    "duration": -1758,
    "start_time": "2022-03-12T16:49:02.168Z"
   },
   {
    "duration": -1766,
    "start_time": "2022-03-12T16:49:02.177Z"
   },
   {
    "duration": -1775,
    "start_time": "2022-03-12T16:49:02.188Z"
   },
   {
    "duration": -1784,
    "start_time": "2022-03-12T16:49:02.198Z"
   },
   {
    "duration": -1792,
    "start_time": "2022-03-12T16:49:02.207Z"
   },
   {
    "duration": -1800,
    "start_time": "2022-03-12T16:49:02.216Z"
   },
   {
    "duration": -1981,
    "start_time": "2022-03-12T16:49:02.398Z"
   },
   {
    "duration": -2080,
    "start_time": "2022-03-12T16:49:02.498Z"
   },
   {
    "duration": -2092,
    "start_time": "2022-03-12T16:49:02.511Z"
   },
   {
    "duration": -2102,
    "start_time": "2022-03-12T16:49:02.522Z"
   },
   {
    "duration": -2111,
    "start_time": "2022-03-12T16:49:02.532Z"
   },
   {
    "duration": -2119,
    "start_time": "2022-03-12T16:49:02.541Z"
   },
   {
    "duration": -3017,
    "start_time": "2022-03-12T16:49:03.440Z"
   },
   {
    "duration": -3024,
    "start_time": "2022-03-12T16:49:03.448Z"
   },
   {
    "duration": -3033,
    "start_time": "2022-03-12T16:49:03.458Z"
   },
   {
    "duration": -3039,
    "start_time": "2022-03-12T16:49:03.465Z"
   },
   {
    "duration": -3047,
    "start_time": "2022-03-12T16:49:03.474Z"
   },
   {
    "duration": -3054,
    "start_time": "2022-03-12T16:49:03.482Z"
   },
   {
    "duration": -3063,
    "start_time": "2022-03-12T16:49:03.492Z"
   },
   {
    "duration": -3070,
    "start_time": "2022-03-12T16:49:03.500Z"
   },
   {
    "duration": -3077,
    "start_time": "2022-03-12T16:49:03.509Z"
   },
   {
    "duration": -3084,
    "start_time": "2022-03-12T16:49:03.517Z"
   },
   {
    "duration": -3092,
    "start_time": "2022-03-12T16:49:03.527Z"
   },
   {
    "duration": -3099,
    "start_time": "2022-03-12T16:49:03.535Z"
   },
   {
    "duration": -3067,
    "start_time": "2022-03-12T16:49:03.567Z"
   },
   {
    "duration": -3074,
    "start_time": "2022-03-12T16:49:03.576Z"
   },
   {
    "duration": -3082,
    "start_time": "2022-03-12T16:49:03.586Z"
   },
   {
    "duration": -3090,
    "start_time": "2022-03-12T16:49:03.595Z"
   },
   {
    "duration": -3101,
    "start_time": "2022-03-12T16:49:03.607Z"
   },
   {
    "duration": -3108,
    "start_time": "2022-03-12T16:49:03.615Z"
   },
   {
    "duration": -3116,
    "start_time": "2022-03-12T16:49:03.624Z"
   },
   {
    "duration": -3124,
    "start_time": "2022-03-12T16:49:03.633Z"
   },
   {
    "duration": -3133,
    "start_time": "2022-03-12T16:49:03.643Z"
   },
   {
    "duration": -3141,
    "start_time": "2022-03-12T16:49:03.652Z"
   },
   {
    "duration": -3148,
    "start_time": "2022-03-12T16:49:03.661Z"
   },
   {
    "duration": -3200,
    "start_time": "2022-03-12T16:49:03.714Z"
   },
   {
    "duration": -3209,
    "start_time": "2022-03-12T16:49:03.724Z"
   },
   {
    "duration": -3216,
    "start_time": "2022-03-12T16:49:03.732Z"
   },
   {
    "duration": -3225,
    "start_time": "2022-03-12T16:49:03.742Z"
   },
   {
    "duration": -3232,
    "start_time": "2022-03-12T16:49:03.750Z"
   },
   {
    "duration": 1097,
    "start_time": "2022-03-13T13:16:29.146Z"
   },
   {
    "duration": 7,
    "start_time": "2022-03-13T13:16:30.245Z"
   },
   {
    "duration": 455,
    "start_time": "2022-03-13T13:16:30.254Z"
   },
   {
    "duration": 12,
    "start_time": "2022-03-13T13:16:30.711Z"
   },
   {
    "duration": 34,
    "start_time": "2022-03-13T13:16:30.725Z"
   },
   {
    "duration": 7,
    "start_time": "2022-03-13T13:16:30.760Z"
   },
   {
    "duration": 20,
    "start_time": "2022-03-13T13:16:30.769Z"
   },
   {
    "duration": 16,
    "start_time": "2022-03-13T13:16:30.791Z"
   },
   {
    "duration": 27,
    "start_time": "2022-03-13T13:16:30.809Z"
   },
   {
    "duration": 19,
    "start_time": "2022-03-13T13:16:30.838Z"
   },
   {
    "duration": 10,
    "start_time": "2022-03-13T13:16:30.858Z"
   },
   {
    "duration": 33,
    "start_time": "2022-03-13T13:16:30.870Z"
   },
   {
    "duration": 18,
    "start_time": "2022-03-13T13:16:30.905Z"
   },
   {
    "duration": 44,
    "start_time": "2022-03-13T13:16:30.926Z"
   },
   {
    "duration": 8,
    "start_time": "2022-03-13T13:16:30.972Z"
   },
   {
    "duration": 14,
    "start_time": "2022-03-13T13:16:31.001Z"
   },
   {
    "duration": 171,
    "start_time": "2022-03-13T13:16:31.017Z"
   },
   {
    "duration": 2,
    "start_time": "2022-03-13T13:16:31.190Z"
   },
   {
    "duration": 437,
    "start_time": "2022-03-13T13:16:31.201Z"
   },
   {
    "duration": 37,
    "start_time": "2022-03-13T13:16:31.641Z"
   },
   {
    "duration": 152,
    "start_time": "2022-03-13T13:16:31.680Z"
   },
   {
    "duration": 11,
    "start_time": "2022-03-13T13:16:31.834Z"
   },
   {
    "duration": 117,
    "start_time": "2022-03-13T13:16:31.849Z"
   },
   {
    "duration": 10,
    "start_time": "2022-03-13T13:16:31.969Z"
   },
   {
    "duration": 6,
    "start_time": "2022-03-13T13:16:31.980Z"
   },
   {
    "duration": 69,
    "start_time": "2022-03-13T13:16:31.987Z"
   },
   {
    "duration": 15,
    "start_time": "2022-03-13T13:16:32.058Z"
   },
   {
    "duration": 4,
    "start_time": "2022-03-13T13:16:32.074Z"
   },
   {
    "duration": 4,
    "start_time": "2022-03-13T13:16:32.102Z"
   },
   {
    "duration": 5,
    "start_time": "2022-03-13T13:16:32.108Z"
   },
   {
    "duration": 29,
    "start_time": "2022-03-13T13:16:32.115Z"
   },
   {
    "duration": 15,
    "start_time": "2022-03-13T13:16:32.146Z"
   },
   {
    "duration": 7,
    "start_time": "2022-03-13T13:16:32.163Z"
   },
   {
    "duration": 35,
    "start_time": "2022-03-13T13:16:32.172Z"
   },
   {
    "duration": 60,
    "start_time": "2022-03-13T13:16:32.209Z"
   },
   {
    "duration": 10,
    "start_time": "2022-03-13T13:16:32.271Z"
   },
   {
    "duration": 23,
    "start_time": "2022-03-13T13:16:32.282Z"
   },
   {
    "duration": 14,
    "start_time": "2022-03-13T13:16:32.308Z"
   },
   {
    "duration": 22,
    "start_time": "2022-03-13T13:16:32.325Z"
   },
   {
    "duration": 8,
    "start_time": "2022-03-13T13:16:32.349Z"
   },
   {
    "duration": 104,
    "start_time": "2022-03-13T13:16:32.359Z"
   },
   {
    "duration": 3,
    "start_time": "2022-03-13T13:16:32.466Z"
   },
   {
    "duration": 5,
    "start_time": "2022-03-13T13:16:32.471Z"
   },
   {
    "duration": 28,
    "start_time": "2022-03-13T13:16:32.478Z"
   },
   {
    "duration": 18,
    "start_time": "2022-03-13T13:16:32.508Z"
   },
   {
    "duration": 10,
    "start_time": "2022-03-13T13:16:32.527Z"
   },
   {
    "duration": 9,
    "start_time": "2022-03-13T13:16:32.539Z"
   },
   {
    "duration": 5,
    "start_time": "2022-03-13T13:16:32.550Z"
   },
   {
    "duration": 10,
    "start_time": "2022-03-13T13:16:32.556Z"
   },
   {
    "duration": 11,
    "start_time": "2022-03-13T13:16:32.568Z"
   },
   {
    "duration": 21,
    "start_time": "2022-03-13T13:16:32.580Z"
   },
   {
    "duration": 5,
    "start_time": "2022-03-13T13:16:32.603Z"
   },
   {
    "duration": 9,
    "start_time": "2022-03-13T13:16:32.610Z"
   },
   {
    "duration": 92,
    "start_time": "2022-03-13T13:16:32.621Z"
   },
   {
    "duration": 7,
    "start_time": "2022-03-13T13:16:32.716Z"
   },
   {
    "duration": 11,
    "start_time": "2022-03-13T13:16:32.725Z"
   },
   {
    "duration": 11,
    "start_time": "2022-03-13T13:16:32.737Z"
   },
   {
    "duration": 8,
    "start_time": "2022-03-13T13:16:32.750Z"
   },
   {
    "duration": 3,
    "start_time": "2022-03-13T13:16:32.759Z"
   },
   {
    "duration": 10,
    "start_time": "2022-03-13T13:16:32.763Z"
   },
   {
    "duration": 10,
    "start_time": "2022-03-13T13:16:32.802Z"
   },
   {
    "duration": 11,
    "start_time": "2022-03-13T13:16:32.814Z"
   },
   {
    "duration": 18,
    "start_time": "2022-03-13T13:16:32.827Z"
   },
   {
    "duration": 7,
    "start_time": "2022-03-13T13:16:32.847Z"
   },
   {
    "duration": 20,
    "start_time": "2022-03-13T13:16:32.855Z"
   },
   {
    "duration": 6,
    "start_time": "2022-03-13T13:16:32.876Z"
   },
   {
    "duration": 6,
    "start_time": "2022-03-13T13:16:32.901Z"
   },
   {
    "duration": 11,
    "start_time": "2022-03-13T13:16:32.917Z"
   },
   {
    "duration": 12,
    "start_time": "2022-03-13T13:16:32.932Z"
   },
   {
    "duration": 6,
    "start_time": "2022-03-13T13:16:32.945Z"
   },
   {
    "duration": 8,
    "start_time": "2022-03-13T13:16:32.953Z"
   },
   {
    "duration": 14,
    "start_time": "2022-03-13T13:16:32.962Z"
   },
   {
    "duration": 39,
    "start_time": "2022-03-13T13:16:32.977Z"
   },
   {
    "duration": 17,
    "start_time": "2022-03-13T13:16:33.017Z"
   },
   {
    "duration": 17,
    "start_time": "2022-03-13T13:16:33.036Z"
   },
   {
    "duration": 4,
    "start_time": "2022-03-13T13:16:33.055Z"
   },
   {
    "duration": 16,
    "start_time": "2022-03-13T13:16:33.060Z"
   },
   {
    "duration": 25,
    "start_time": "2022-03-13T13:16:33.077Z"
   },
   {
    "duration": 4,
    "start_time": "2022-03-13T13:16:33.104Z"
   },
   {
    "duration": 8,
    "start_time": "2022-03-13T13:16:33.110Z"
   },
   {
    "duration": 15,
    "start_time": "2022-03-13T13:16:33.119Z"
   },
   {
    "duration": 8,
    "start_time": "2022-03-13T13:16:33.136Z"
   },
   {
    "duration": 7,
    "start_time": "2022-03-13T13:16:33.146Z"
   },
   {
    "duration": 17,
    "start_time": "2022-03-13T13:16:33.155Z"
   },
   {
    "duration": 32,
    "start_time": "2022-03-13T13:16:33.174Z"
   },
   {
    "duration": 3,
    "start_time": "2022-03-13T13:16:33.208Z"
   },
   {
    "duration": 10,
    "start_time": "2022-03-13T13:16:33.213Z"
   },
   {
    "duration": 10,
    "start_time": "2022-03-13T13:16:33.224Z"
   },
   {
    "duration": 17,
    "start_time": "2022-03-13T13:16:33.235Z"
   },
   {
    "duration": 10,
    "start_time": "2022-03-13T13:16:33.253Z"
   },
   {
    "duration": 9,
    "start_time": "2022-03-13T13:16:33.265Z"
   },
   {
    "duration": 8,
    "start_time": "2022-03-13T13:16:33.275Z"
   },
   {
    "duration": 24,
    "start_time": "2022-03-13T13:16:33.284Z"
   },
   {
    "duration": 8,
    "start_time": "2022-03-13T13:16:33.311Z"
   },
   {
    "duration": 6,
    "start_time": "2022-03-13T13:16:33.321Z"
   },
   {
    "duration": 14,
    "start_time": "2022-03-13T13:16:33.329Z"
   },
   {
    "duration": 1506,
    "start_time": "2022-03-14T20:21:34.376Z"
   },
   {
    "duration": 2062,
    "start_time": "2022-03-14T20:21:35.886Z"
   },
   {
    "duration": -101,
    "start_time": "2022-03-14T20:21:38.056Z"
   },
   {
    "duration": -114,
    "start_time": "2022-03-14T20:21:38.070Z"
   },
   {
    "duration": -155,
    "start_time": "2022-03-14T20:21:38.113Z"
   },
   {
    "duration": -191,
    "start_time": "2022-03-14T20:21:38.151Z"
   },
   {
    "duration": -223,
    "start_time": "2022-03-14T20:21:38.186Z"
   },
   {
    "duration": -244,
    "start_time": "2022-03-14T20:21:38.209Z"
   },
   {
    "duration": -278,
    "start_time": "2022-03-14T20:21:38.245Z"
   },
   {
    "duration": -298,
    "start_time": "2022-03-14T20:21:38.267Z"
   },
   {
    "duration": -331,
    "start_time": "2022-03-14T20:21:38.302Z"
   },
   {
    "duration": -351,
    "start_time": "2022-03-14T20:21:38.324Z"
   },
   {
    "duration": -388,
    "start_time": "2022-03-14T20:21:38.363Z"
   },
   {
    "duration": -413,
    "start_time": "2022-03-14T20:21:38.389Z"
   },
   {
    "duration": -453,
    "start_time": "2022-03-14T20:21:38.431Z"
   },
   {
    "duration": -477,
    "start_time": "2022-03-14T20:21:38.457Z"
   },
   {
    "duration": -515,
    "start_time": "2022-03-14T20:21:38.496Z"
   },
   {
    "duration": -544,
    "start_time": "2022-03-14T20:21:38.527Z"
   },
   {
    "duration": -574,
    "start_time": "2022-03-14T20:21:38.558Z"
   },
   {
    "duration": -603,
    "start_time": "2022-03-14T20:21:38.588Z"
   },
   {
    "duration": -625,
    "start_time": "2022-03-14T20:21:38.612Z"
   },
   {
    "duration": -658,
    "start_time": "2022-03-14T20:21:38.646Z"
   },
   {
    "duration": -680,
    "start_time": "2022-03-14T20:21:38.669Z"
   },
   {
    "duration": -701,
    "start_time": "2022-03-14T20:21:38.692Z"
   },
   {
    "duration": -722,
    "start_time": "2022-03-14T20:21:38.714Z"
   },
   {
    "duration": -730,
    "start_time": "2022-03-14T20:21:38.723Z"
   },
   {
    "duration": -760,
    "start_time": "2022-03-14T20:21:38.755Z"
   },
   {
    "duration": -780,
    "start_time": "2022-03-14T20:21:38.776Z"
   },
   {
    "duration": -800,
    "start_time": "2022-03-14T20:21:38.797Z"
   },
   {
    "duration": -809,
    "start_time": "2022-03-14T20:21:38.807Z"
   },
   {
    "duration": -817,
    "start_time": "2022-03-14T20:21:38.817Z"
   },
   {
    "duration": -838,
    "start_time": "2022-03-14T20:21:38.839Z"
   },
   {
    "duration": -872,
    "start_time": "2022-03-14T20:21:38.875Z"
   },
   {
    "duration": -880,
    "start_time": "2022-03-14T20:21:38.884Z"
   },
   {
    "duration": -890,
    "start_time": "2022-03-14T20:21:38.895Z"
   },
   {
    "duration": -899,
    "start_time": "2022-03-14T20:21:38.905Z"
   },
   {
    "duration": -908,
    "start_time": "2022-03-14T20:21:38.916Z"
   },
   {
    "duration": -916,
    "start_time": "2022-03-14T20:21:38.925Z"
   },
   {
    "duration": -925,
    "start_time": "2022-03-14T20:21:38.935Z"
   },
   {
    "duration": -933,
    "start_time": "2022-03-14T20:21:38.945Z"
   },
   {
    "duration": -942,
    "start_time": "2022-03-14T20:21:38.955Z"
   },
   {
    "duration": -951,
    "start_time": "2022-03-14T20:21:38.965Z"
   },
   {
    "duration": -960,
    "start_time": "2022-03-14T20:21:38.975Z"
   },
   {
    "duration": -967,
    "start_time": "2022-03-14T20:21:38.984Z"
   },
   {
    "duration": -1057,
    "start_time": "2022-03-14T20:21:39.075Z"
   },
   {
    "duration": -1065,
    "start_time": "2022-03-14T20:21:39.084Z"
   },
   {
    "duration": -1073,
    "start_time": "2022-03-14T20:21:39.094Z"
   },
   {
    "duration": -1081,
    "start_time": "2022-03-14T20:21:39.103Z"
   },
   {
    "duration": -1245,
    "start_time": "2022-03-14T20:21:39.268Z"
   },
   {
    "duration": -1253,
    "start_time": "2022-03-14T20:21:39.277Z"
   },
   {
    "duration": -1277,
    "start_time": "2022-03-14T20:21:39.303Z"
   },
   {
    "duration": -1298,
    "start_time": "2022-03-14T20:21:39.325Z"
   },
   {
    "duration": -1262,
    "start_time": "2022-03-14T20:21:39.349Z"
   },
   {
    "duration": -1271,
    "start_time": "2022-03-14T20:21:39.359Z"
   },
   {
    "duration": -1304,
    "start_time": "2022-03-14T20:21:39.394Z"
   },
   {
    "duration": -1312,
    "start_time": "2022-03-14T20:21:39.403Z"
   },
   {
    "duration": -1332,
    "start_time": "2022-03-14T20:21:39.424Z"
   },
   {
    "duration": -1350,
    "start_time": "2022-03-14T20:21:39.444Z"
   },
   {
    "duration": -1424,
    "start_time": "2022-03-14T20:21:39.520Z"
   },
   {
    "duration": -1444,
    "start_time": "2022-03-14T20:21:39.541Z"
   },
   {
    "duration": -1474,
    "start_time": "2022-03-14T20:21:39.572Z"
   },
   {
    "duration": -1482,
    "start_time": "2022-03-14T20:21:39.581Z"
   },
   {
    "duration": -1490,
    "start_time": "2022-03-14T20:21:39.591Z"
   },
   {
    "duration": -1497,
    "start_time": "2022-03-14T20:21:39.599Z"
   },
   {
    "duration": -1505,
    "start_time": "2022-03-14T20:21:39.609Z"
   },
   {
    "duration": -1513,
    "start_time": "2022-03-14T20:21:39.618Z"
   },
   {
    "duration": -1522,
    "start_time": "2022-03-14T20:21:39.628Z"
   },
   {
    "duration": -1530,
    "start_time": "2022-03-14T20:21:39.637Z"
   },
   {
    "duration": -1538,
    "start_time": "2022-03-14T20:21:39.647Z"
   },
   {
    "duration": -1547,
    "start_time": "2022-03-14T20:21:39.657Z"
   },
   {
    "duration": -1555,
    "start_time": "2022-03-14T20:21:39.666Z"
   },
   {
    "duration": -1575,
    "start_time": "2022-03-14T20:21:39.688Z"
   },
   {
    "duration": -1658,
    "start_time": "2022-03-14T20:21:39.772Z"
   },
   {
    "duration": -1666,
    "start_time": "2022-03-14T20:21:39.781Z"
   },
   {
    "duration": -1689,
    "start_time": "2022-03-14T20:21:39.805Z"
   },
   {
    "duration": -1697,
    "start_time": "2022-03-14T20:21:39.815Z"
   },
   {
    "duration": -1706,
    "start_time": "2022-03-14T20:21:39.825Z"
   },
   {
    "duration": -1713,
    "start_time": "2022-03-14T20:21:39.834Z"
   },
   {
    "duration": -1723,
    "start_time": "2022-03-14T20:21:39.845Z"
   },
   {
    "duration": -1731,
    "start_time": "2022-03-14T20:21:39.854Z"
   },
   {
    "duration": -1739,
    "start_time": "2022-03-14T20:21:39.864Z"
   },
   {
    "duration": -1686,
    "start_time": "2022-03-14T20:21:39.873Z"
   },
   {
    "duration": -1730,
    "start_time": "2022-03-14T20:21:39.918Z"
   },
   {
    "duration": -1736,
    "start_time": "2022-03-14T20:21:39.926Z"
   },
   {
    "duration": -1746,
    "start_time": "2022-03-14T20:21:39.937Z"
   },
   {
    "duration": -1753,
    "start_time": "2022-03-14T20:21:39.946Z"
   },
   {
    "duration": -1763,
    "start_time": "2022-03-14T20:21:39.957Z"
   },
   {
    "duration": -1770,
    "start_time": "2022-03-14T20:21:39.965Z"
   },
   {
    "duration": -1779,
    "start_time": "2022-03-14T20:21:39.976Z"
   },
   {
    "duration": -1787,
    "start_time": "2022-03-14T20:21:39.985Z"
   },
   {
    "duration": -1797,
    "start_time": "2022-03-14T20:21:39.996Z"
   },
   {
    "duration": -1805,
    "start_time": "2022-03-14T20:21:40.005Z"
   },
   {
    "duration": -1834,
    "start_time": "2022-03-14T20:21:40.035Z"
   },
   {
    "duration": -1841,
    "start_time": "2022-03-14T20:21:40.044Z"
   },
   {
    "duration": 526,
    "start_time": "2022-03-14T20:22:03.439Z"
   },
   {
    "duration": 3,
    "start_time": "2022-03-14T20:22:15.075Z"
   },
   {
    "duration": 4,
    "start_time": "2022-03-14T20:22:30.130Z"
   },
   {
    "duration": 10,
    "start_time": "2022-03-14T20:22:30.140Z"
   },
   {
    "duration": 637,
    "start_time": "2022-03-14T20:22:30.152Z"
   },
   {
    "duration": 18,
    "start_time": "2022-03-14T20:22:30.792Z"
   },
   {
    "duration": 55,
    "start_time": "2022-03-14T20:22:30.813Z"
   },
   {
    "duration": 12,
    "start_time": "2022-03-14T20:22:30.887Z"
   },
   {
    "duration": 46,
    "start_time": "2022-03-14T20:22:30.902Z"
   },
   {
    "duration": 35,
    "start_time": "2022-03-14T20:22:30.952Z"
   },
   {
    "duration": 19,
    "start_time": "2022-03-14T20:22:30.990Z"
   },
   {
    "duration": 24,
    "start_time": "2022-03-14T20:22:31.012Z"
   },
   {
    "duration": 26,
    "start_time": "2022-03-14T20:22:31.039Z"
   },
   {
    "duration": 39,
    "start_time": "2022-03-14T20:22:31.068Z"
   },
   {
    "duration": 28,
    "start_time": "2022-03-14T20:22:31.109Z"
   },
   {
    "duration": 48,
    "start_time": "2022-03-14T20:22:31.140Z"
   },
   {
    "duration": 12,
    "start_time": "2022-03-14T20:22:31.190Z"
   },
   {
    "duration": 16,
    "start_time": "2022-03-14T20:22:31.205Z"
   },
   {
    "duration": 203,
    "start_time": "2022-03-14T20:22:31.223Z"
   },
   {
    "duration": 3,
    "start_time": "2022-03-14T20:22:31.429Z"
   },
   {
    "duration": 466,
    "start_time": "2022-03-14T20:22:31.435Z"
   },
   {
    "duration": 56,
    "start_time": "2022-03-14T20:22:31.907Z"
   },
   {
    "duration": 235,
    "start_time": "2022-03-14T20:22:31.967Z"
   },
   {
    "duration": 15,
    "start_time": "2022-03-14T20:22:32.204Z"
   },
   {
    "duration": 166,
    "start_time": "2022-03-14T20:22:32.221Z"
   },
   {
    "duration": 16,
    "start_time": "2022-03-14T20:22:32.389Z"
   },
   {
    "duration": 7,
    "start_time": "2022-03-14T20:22:32.407Z"
   },
   {
    "duration": 109,
    "start_time": "2022-03-14T20:22:32.417Z"
   },
   {
    "duration": 16,
    "start_time": "2022-03-14T20:22:32.528Z"
   },
   {
    "duration": 5,
    "start_time": "2022-03-14T20:22:32.547Z"
   },
   {
    "duration": 5,
    "start_time": "2022-03-14T20:22:32.554Z"
   },
   {
    "duration": 6,
    "start_time": "2022-03-14T20:22:32.588Z"
   },
   {
    "duration": 31,
    "start_time": "2022-03-14T20:22:32.596Z"
   },
   {
    "duration": 26,
    "start_time": "2022-03-14T20:22:32.629Z"
   },
   {
    "duration": 36,
    "start_time": "2022-03-14T20:22:32.657Z"
   },
   {
    "duration": 15,
    "start_time": "2022-03-14T20:22:32.696Z"
   },
   {
    "duration": 105,
    "start_time": "2022-03-14T20:22:32.713Z"
   },
   {
    "duration": 16,
    "start_time": "2022-03-14T20:22:32.821Z"
   },
   {
    "duration": 6,
    "start_time": "2022-03-14T20:22:32.839Z"
   },
   {
    "duration": 50,
    "start_time": "2022-03-14T20:22:32.848Z"
   },
   {
    "duration": 27,
    "start_time": "2022-03-14T20:22:32.900Z"
   },
   {
    "duration": 12,
    "start_time": "2022-03-14T20:22:32.929Z"
   },
   {
    "duration": 123,
    "start_time": "2022-03-14T20:22:32.943Z"
   },
   {
    "duration": 4,
    "start_time": "2022-03-14T20:22:33.069Z"
   },
   {
    "duration": 5,
    "start_time": "2022-03-14T20:22:33.087Z"
   },
   {
    "duration": 30,
    "start_time": "2022-03-14T20:22:33.094Z"
   },
   {
    "duration": 29,
    "start_time": "2022-03-14T20:22:33.127Z"
   },
   {
    "duration": 30,
    "start_time": "2022-03-14T20:22:33.159Z"
   },
   {
    "duration": 12,
    "start_time": "2022-03-14T20:22:33.192Z"
   },
   {
    "duration": 6,
    "start_time": "2022-03-14T20:22:33.206Z"
   },
   {
    "duration": 5,
    "start_time": "2022-03-14T20:22:33.214Z"
   },
   {
    "duration": 5,
    "start_time": "2022-03-14T20:22:33.222Z"
   },
   {
    "duration": 7,
    "start_time": "2022-03-14T20:22:33.229Z"
   },
   {
    "duration": 48,
    "start_time": "2022-03-14T20:22:33.239Z"
   },
   {
    "duration": 7,
    "start_time": "2022-03-14T20:22:33.289Z"
   },
   {
    "duration": 143,
    "start_time": "2022-03-14T20:22:33.298Z"
   },
   {
    "duration": 8,
    "start_time": "2022-03-14T20:22:33.443Z"
   },
   {
    "duration": 27,
    "start_time": "2022-03-14T20:22:33.460Z"
   },
   {
    "duration": 12,
    "start_time": "2022-03-14T20:22:33.490Z"
   },
   {
    "duration": 12,
    "start_time": "2022-03-14T20:22:33.505Z"
   },
   {
    "duration": 6,
    "start_time": "2022-03-14T20:22:33.519Z"
   },
   {
    "duration": 13,
    "start_time": "2022-03-14T20:22:33.528Z"
   },
   {
    "duration": 48,
    "start_time": "2022-03-14T20:22:33.543Z"
   },
   {
    "duration": 13,
    "start_time": "2022-03-14T20:22:33.593Z"
   },
   {
    "duration": 18,
    "start_time": "2022-03-14T20:22:33.608Z"
   },
   {
    "duration": 8,
    "start_time": "2022-03-14T20:22:33.628Z"
   },
   {
    "duration": 55,
    "start_time": "2022-03-14T20:22:33.638Z"
   },
   {
    "duration": 11,
    "start_time": "2022-03-14T20:22:33.696Z"
   },
   {
    "duration": 13,
    "start_time": "2022-03-14T20:22:33.710Z"
   },
   {
    "duration": 19,
    "start_time": "2022-03-14T20:22:33.725Z"
   },
   {
    "duration": 49,
    "start_time": "2022-03-14T20:22:33.747Z"
   },
   {
    "duration": 3,
    "start_time": "2022-03-14T20:22:33.799Z"
   },
   {
    "duration": 10,
    "start_time": "2022-03-14T20:22:33.805Z"
   },
   {
    "duration": 19,
    "start_time": "2022-03-14T20:22:33.818Z"
   },
   {
    "duration": 51,
    "start_time": "2022-03-14T20:22:33.840Z"
   },
   {
    "duration": 29,
    "start_time": "2022-03-14T20:22:33.894Z"
   },
   {
    "duration": 18,
    "start_time": "2022-03-14T20:22:33.925Z"
   },
   {
    "duration": 41,
    "start_time": "2022-03-14T20:22:33.946Z"
   },
   {
    "duration": 12,
    "start_time": "2022-03-14T20:22:33.989Z"
   },
   {
    "duration": 19,
    "start_time": "2022-03-14T20:22:34.004Z"
   },
   {
    "duration": 5,
    "start_time": "2022-03-14T20:22:34.025Z"
   },
   {
    "duration": 11,
    "start_time": "2022-03-14T20:22:34.032Z"
   },
   {
    "duration": 53,
    "start_time": "2022-03-14T20:22:34.045Z"
   },
   {
    "duration": 13,
    "start_time": "2022-03-14T20:22:34.100Z"
   },
   {
    "duration": 6,
    "start_time": "2022-03-14T20:22:34.115Z"
   },
   {
    "duration": 18,
    "start_time": "2022-03-14T20:22:34.123Z"
   },
   {
    "duration": 57,
    "start_time": "2022-03-14T20:22:34.144Z"
   },
   {
    "duration": 11,
    "start_time": "2022-03-14T20:22:34.203Z"
   },
   {
    "duration": 13,
    "start_time": "2022-03-14T20:22:34.216Z"
   },
   {
    "duration": 12,
    "start_time": "2022-03-14T20:22:34.231Z"
   },
   {
    "duration": 23,
    "start_time": "2022-03-14T20:22:34.246Z"
   },
   {
    "duration": 23,
    "start_time": "2022-03-14T20:22:34.271Z"
   },
   {
    "duration": 9,
    "start_time": "2022-03-14T20:22:34.296Z"
   },
   {
    "duration": 10,
    "start_time": "2022-03-14T20:22:34.307Z"
   },
   {
    "duration": 11,
    "start_time": "2022-03-14T20:22:34.319Z"
   },
   {
    "duration": 6269,
    "start_time": "2022-03-14T20:23:50.675Z"
   },
   {
    "duration": 7,
    "start_time": "2022-03-14T20:24:37.966Z"
   },
   {
    "duration": 247,
    "start_time": "2022-03-14T20:25:17.217Z"
   },
   {
    "duration": 7,
    "start_time": "2022-03-14T20:25:23.190Z"
   },
   {
    "duration": 40,
    "start_time": "2022-03-14T20:25:24.986Z"
   },
   {
    "duration": 7,
    "start_time": "2022-03-14T20:25:28.338Z"
   },
   {
    "duration": 7,
    "start_time": "2022-03-14T20:25:33.925Z"
   },
   {
    "duration": 5,
    "start_time": "2022-03-14T20:25:50.811Z"
   },
   {
    "duration": 1500,
    "start_time": "2022-06-01T13:05:15.627Z"
   },
   {
    "duration": 3,
    "start_time": "2022-06-01T13:05:17.129Z"
   },
   {
    "duration": 972,
    "start_time": "2022-06-01T13:05:17.133Z"
   },
   {
    "duration": 13,
    "start_time": "2022-06-01T13:05:18.107Z"
   },
   {
    "duration": 28,
    "start_time": "2022-06-01T13:05:18.122Z"
   },
   {
    "duration": 8,
    "start_time": "2022-06-01T13:05:18.152Z"
   },
   {
    "duration": 48,
    "start_time": "2022-06-01T13:05:18.162Z"
   },
   {
    "duration": 19,
    "start_time": "2022-06-01T13:05:18.212Z"
   },
   {
    "duration": 34,
    "start_time": "2022-06-01T13:05:18.233Z"
   },
   {
    "duration": 12,
    "start_time": "2022-06-01T13:05:18.270Z"
   },
   {
    "duration": 15,
    "start_time": "2022-06-01T13:05:18.284Z"
   },
   {
    "duration": 27,
    "start_time": "2022-06-01T13:05:18.301Z"
   },
   {
    "duration": 25,
    "start_time": "2022-06-01T13:05:18.330Z"
   },
   {
    "duration": 55,
    "start_time": "2022-06-01T13:05:18.357Z"
   },
   {
    "duration": 9,
    "start_time": "2022-06-01T13:05:18.413Z"
   },
   {
    "duration": 7,
    "start_time": "2022-06-01T13:05:18.423Z"
   },
   {
    "duration": 140,
    "start_time": "2022-06-01T13:05:18.432Z"
   },
   {
    "duration": 3,
    "start_time": "2022-06-01T13:05:18.574Z"
   },
   {
    "duration": 317,
    "start_time": "2022-06-01T13:05:18.579Z"
   },
   {
    "duration": 35,
    "start_time": "2022-06-01T13:05:18.898Z"
   },
   {
    "duration": 125,
    "start_time": "2022-06-01T13:05:18.935Z"
   },
   {
    "duration": 12,
    "start_time": "2022-06-01T13:05:19.062Z"
   },
   {
    "duration": 129,
    "start_time": "2022-06-01T13:05:19.075Z"
   },
   {
    "duration": 11,
    "start_time": "2022-06-01T13:05:19.206Z"
   },
   {
    "duration": 13,
    "start_time": "2022-06-01T13:05:19.219Z"
   },
   {
    "duration": 67,
    "start_time": "2022-06-01T13:05:19.234Z"
   },
   {
    "duration": 25,
    "start_time": "2022-06-01T13:05:19.303Z"
   },
   {
    "duration": 2,
    "start_time": "2022-06-01T13:05:19.333Z"
   },
   {
    "duration": 7,
    "start_time": "2022-06-01T13:05:19.337Z"
   },
   {
    "duration": 6,
    "start_time": "2022-06-01T13:05:19.346Z"
   },
   {
    "duration": 14,
    "start_time": "2022-06-01T13:05:19.354Z"
   },
   {
    "duration": 17,
    "start_time": "2022-06-01T13:05:19.371Z"
   },
   {
    "duration": 9,
    "start_time": "2022-06-01T13:05:19.390Z"
   },
   {
    "duration": 33,
    "start_time": "2022-06-01T13:05:19.401Z"
   },
   {
    "duration": 92,
    "start_time": "2022-06-01T13:05:19.435Z"
   },
   {
    "duration": 11,
    "start_time": "2022-06-01T13:05:19.529Z"
   },
   {
    "duration": 5,
    "start_time": "2022-06-01T13:05:19.542Z"
   },
   {
    "duration": 14,
    "start_time": "2022-06-01T13:05:19.549Z"
   },
   {
    "duration": 26,
    "start_time": "2022-06-01T13:05:19.565Z"
   },
   {
    "duration": 13,
    "start_time": "2022-06-01T13:05:19.594Z"
   },
   {
    "duration": 90,
    "start_time": "2022-06-01T13:05:19.610Z"
   },
   {
    "duration": 4,
    "start_time": "2022-06-01T13:05:19.701Z"
   },
   {
    "duration": 20,
    "start_time": "2022-06-01T13:05:19.707Z"
   },
   {
    "duration": 13,
    "start_time": "2022-06-01T13:05:19.729Z"
   },
   {
    "duration": 11,
    "start_time": "2022-06-01T13:05:19.744Z"
   },
   {
    "duration": 11,
    "start_time": "2022-06-01T13:05:19.757Z"
   },
   {
    "duration": 9,
    "start_time": "2022-06-01T13:05:19.770Z"
   },
   {
    "duration": 6,
    "start_time": "2022-06-01T13:05:19.780Z"
   },
   {
    "duration": 7,
    "start_time": "2022-06-01T13:05:19.787Z"
   },
   {
    "duration": 32,
    "start_time": "2022-06-01T13:05:19.796Z"
   },
   {
    "duration": 7,
    "start_time": "2022-06-01T13:05:19.830Z"
   },
   {
    "duration": 9,
    "start_time": "2022-06-01T13:05:19.839Z"
   },
   {
    "duration": 15,
    "start_time": "2022-06-01T13:05:19.850Z"
   },
   {
    "duration": 51,
    "start_time": "2022-06-01T13:05:19.867Z"
   },
   {
    "duration": 8,
    "start_time": "2022-06-01T13:05:19.920Z"
   },
   {
    "duration": 18,
    "start_time": "2022-06-01T13:05:19.930Z"
   },
   {
    "duration": 8,
    "start_time": "2022-06-01T13:05:19.950Z"
   },
   {
    "duration": 15,
    "start_time": "2022-06-01T13:05:19.960Z"
   },
   {
    "duration": 13,
    "start_time": "2022-06-01T13:05:19.976Z"
   },
   {
    "duration": 13,
    "start_time": "2022-06-01T13:05:19.991Z"
   },
   {
    "duration": 22,
    "start_time": "2022-06-01T13:05:20.007Z"
   },
   {
    "duration": 12,
    "start_time": "2022-06-01T13:05:20.031Z"
   },
   {
    "duration": 18,
    "start_time": "2022-06-01T13:05:20.045Z"
   },
   {
    "duration": 13,
    "start_time": "2022-06-01T13:05:20.065Z"
   },
   {
    "duration": 48,
    "start_time": "2022-06-01T13:05:20.080Z"
   },
   {
    "duration": 8,
    "start_time": "2022-06-01T13:05:20.133Z"
   },
   {
    "duration": 18,
    "start_time": "2022-06-01T13:05:20.143Z"
   },
   {
    "duration": 15,
    "start_time": "2022-06-01T13:05:20.162Z"
   },
   {
    "duration": 10,
    "start_time": "2022-06-01T13:05:20.179Z"
   },
   {
    "duration": 4,
    "start_time": "2022-06-01T13:05:20.191Z"
   },
   {
    "duration": 9,
    "start_time": "2022-06-01T13:05:20.197Z"
   },
   {
    "duration": 24,
    "start_time": "2022-06-01T13:05:20.208Z"
   },
   {
    "duration": 17,
    "start_time": "2022-06-01T13:05:20.234Z"
   },
   {
    "duration": 17,
    "start_time": "2022-06-01T13:05:20.253Z"
   },
   {
    "duration": 15,
    "start_time": "2022-06-01T13:05:20.272Z"
   },
   {
    "duration": 10,
    "start_time": "2022-06-01T13:05:20.289Z"
   },
   {
    "duration": 26,
    "start_time": "2022-06-01T13:05:20.301Z"
   },
   {
    "duration": 12,
    "start_time": "2022-06-01T13:05:20.329Z"
   },
   {
    "duration": 8,
    "start_time": "2022-06-01T13:05:20.343Z"
   },
   {
    "duration": 9,
    "start_time": "2022-06-01T13:05:20.353Z"
   },
   {
    "duration": 20,
    "start_time": "2022-06-01T13:05:20.365Z"
   },
   {
    "duration": 5,
    "start_time": "2022-06-01T13:05:20.394Z"
   },
   {
    "duration": 30,
    "start_time": "2022-06-01T13:05:20.401Z"
   },
   {
    "duration": 16,
    "start_time": "2022-06-01T13:05:20.433Z"
   },
   {
    "duration": 21,
    "start_time": "2022-06-01T13:05:20.452Z"
   },
   {
    "duration": 5,
    "start_time": "2022-06-01T13:05:20.476Z"
   },
   {
    "duration": 12,
    "start_time": "2022-06-01T13:05:20.484Z"
   },
   {
    "duration": 7,
    "start_time": "2022-06-01T13:05:20.499Z"
   },
   {
    "duration": 17,
    "start_time": "2022-06-01T13:05:20.528Z"
   },
   {
    "duration": 12,
    "start_time": "2022-06-01T13:05:20.547Z"
   },
   {
    "duration": 18,
    "start_time": "2022-06-01T13:05:20.561Z"
   },
   {
    "duration": 7,
    "start_time": "2022-06-01T13:05:20.581Z"
   },
   {
    "duration": 12,
    "start_time": "2022-06-01T13:05:20.590Z"
   },
   {
    "duration": 9,
    "start_time": "2022-06-01T13:05:20.627Z"
   },
   {
    "duration": 13,
    "start_time": "2022-06-01T13:05:20.638Z"
   },
   {
    "duration": 16,
    "start_time": "2022-06-01T13:05:20.653Z"
   },
   {
    "duration": 497,
    "start_time": "2022-06-01T13:05:20.672Z"
   },
   {
    "duration": 377,
    "start_time": "2022-06-01T13:05:21.171Z"
   },
   {
    "duration": 4,
    "start_time": "2022-06-01T13:05:21.550Z"
   },
   {
    "duration": 375,
    "start_time": "2022-06-01T13:05:21.556Z"
   },
   {
    "duration": 10,
    "start_time": "2022-06-01T13:05:21.933Z"
   },
   {
    "duration": 14,
    "start_time": "2022-06-01T13:05:21.945Z"
   },
   {
    "duration": 5,
    "start_time": "2022-06-01T13:05:21.961Z"
   },
   {
    "duration": 7,
    "start_time": "2022-06-01T13:05:21.968Z"
   },
   {
    "duration": 5,
    "start_time": "2022-06-01T13:05:21.977Z"
   },
   {
    "duration": 43,
    "start_time": "2022-06-01T13:05:21.984Z"
   },
   {
    "duration": 8,
    "start_time": "2022-06-01T13:05:22.028Z"
   },
   {
    "duration": 17,
    "start_time": "2022-06-01T13:05:22.038Z"
   },
   {
    "duration": 7,
    "start_time": "2022-06-01T13:05:22.056Z"
   },
   {
    "duration": 10,
    "start_time": "2022-06-01T13:05:22.065Z"
   },
   {
    "duration": 6,
    "start_time": "2022-06-01T13:05:22.077Z"
   },
   {
    "duration": 10,
    "start_time": "2022-06-01T13:05:22.085Z"
   },
   {
    "duration": 361,
    "start_time": "2022-06-01T13:05:22.097Z"
   },
   {
    "duration": 389,
    "start_time": "2022-06-01T13:05:22.460Z"
   },
   {
    "duration": 277,
    "start_time": "2022-06-01T13:05:22.851Z"
   },
   {
    "duration": 8,
    "start_time": "2022-06-01T13:05:23.130Z"
   },
   {
    "duration": 10,
    "start_time": "2022-06-01T13:05:23.139Z"
   },
   {
    "duration": 3,
    "start_time": "2022-06-01T13:05:23.151Z"
   },
   {
    "duration": 16,
    "start_time": "2022-06-01T13:05:23.156Z"
   },
   {
    "duration": 8,
    "start_time": "2022-06-01T13:05:23.174Z"
   },
   {
    "duration": 15,
    "start_time": "2022-06-01T13:05:23.184Z"
   },
   {
    "duration": 31,
    "start_time": "2022-06-01T13:05:23.201Z"
   },
   {
    "duration": 10,
    "start_time": "2022-06-01T13:05:23.233Z"
   },
   {
    "duration": 7,
    "start_time": "2022-06-01T13:05:23.245Z"
   },
   {
    "duration": 12,
    "start_time": "2022-06-01T13:05:23.254Z"
   },
   {
    "duration": 9,
    "start_time": "2022-06-01T13:05:23.268Z"
   },
   {
    "duration": 6,
    "start_time": "2022-06-01T13:05:23.279Z"
   },
   {
    "duration": 353,
    "start_time": "2022-06-01T13:05:23.287Z"
   },
   {
    "duration": 305,
    "start_time": "2022-06-01T13:05:23.642Z"
   },
   {
    "duration": 270,
    "start_time": "2022-06-01T13:05:23.949Z"
   },
   {
    "duration": 14,
    "start_time": "2022-06-01T13:05:24.220Z"
   },
   {
    "duration": 7,
    "start_time": "2022-06-01T13:05:24.236Z"
   },
   {
    "duration": 28,
    "start_time": "2022-06-01T13:05:24.244Z"
   },
   {
    "duration": 7,
    "start_time": "2022-06-01T13:05:24.273Z"
   },
   {
    "duration": 23,
    "start_time": "2022-06-01T13:05:24.281Z"
   },
   {
    "duration": 5,
    "start_time": "2022-06-01T13:05:24.306Z"
   },
   {
    "duration": 5,
    "start_time": "2022-06-01T13:05:24.314Z"
   },
   {
    "duration": 36,
    "start_time": "2022-06-01T13:05:24.321Z"
   },
   {
    "duration": 780,
    "start_time": "2022-06-01T13:05:24.358Z"
   },
   {
    "duration": 2,
    "start_time": "2022-06-01T13:05:25.140Z"
   },
   {
    "duration": 254,
    "start_time": "2022-06-01T13:05:25.144Z"
   },
   {
    "duration": 3,
    "start_time": "2022-06-01T13:05:25.399Z"
   },
   {
    "duration": 9,
    "start_time": "2022-06-01T13:05:25.404Z"
   },
   {
    "duration": 15,
    "start_time": "2022-06-01T13:05:25.414Z"
   },
   {
    "duration": 8,
    "start_time": "2022-06-01T13:05:25.430Z"
   },
   {
    "duration": 8,
    "start_time": "2022-06-01T13:05:25.440Z"
   },
   {
    "duration": 9,
    "start_time": "2022-06-01T13:05:25.450Z"
   },
   {
    "duration": 3,
    "start_time": "2022-06-01T13:05:25.462Z"
   },
   {
    "duration": 9,
    "start_time": "2022-06-01T13:05:25.467Z"
   },
   {
    "duration": 17,
    "start_time": "2022-06-01T13:05:25.478Z"
   },
   {
    "duration": 37,
    "start_time": "2022-06-01T13:05:25.497Z"
   },
   {
    "duration": 7,
    "start_time": "2022-06-01T13:05:25.536Z"
   },
   {
    "duration": 34,
    "start_time": "2022-06-01T13:05:25.545Z"
   },
   {
    "duration": 4,
    "start_time": "2022-06-01T13:05:25.581Z"
   },
   {
    "duration": 711,
    "start_time": "2022-06-01T13:05:25.586Z"
   },
   {
    "duration": 7,
    "start_time": "2022-06-01T13:05:26.299Z"
   },
   {
    "duration": 264,
    "start_time": "2022-06-01T13:05:26.308Z"
   },
   {
    "duration": 3,
    "start_time": "2022-06-01T13:05:26.573Z"
   },
   {
    "duration": 11,
    "start_time": "2022-06-01T13:05:26.577Z"
   },
   {
    "duration": 7,
    "start_time": "2022-06-01T13:05:26.590Z"
   },
   {
    "duration": 4,
    "start_time": "2022-06-01T13:05:26.599Z"
   },
   {
    "duration": 6,
    "start_time": "2022-06-01T13:05:26.626Z"
   },
   {
    "duration": 18,
    "start_time": "2022-06-01T13:05:26.634Z"
   }
  ],
  "kernelspec": {
   "display_name": "Python 3",
   "language": "python",
   "name": "python3"
  },
  "language_info": {
   "codemirror_mode": {
    "name": "ipython",
    "version": 3
   },
   "file_extension": ".py",
   "mimetype": "text/x-python",
   "name": "python",
   "nbconvert_exporter": "python",
   "pygments_lexer": "ipython3",
   "version": "3.8.8"
  },
  "toc": {
   "base_numbering": 1,
   "nav_menu": {},
   "number_sections": true,
   "sideBar": true,
   "skip_h1_title": true,
   "title_cell": "Table of Contents",
   "title_sidebar": "Contents",
   "toc_cell": false,
   "toc_position": {
    "height": "465.926px",
    "left": "36px",
    "top": "111.019px",
    "width": "267.986px"
   },
   "toc_section_display": true,
   "toc_window_display": true
  }
 },
 "nbformat": 4,
 "nbformat_minor": 5
}
